{
 "cells": [
  {
   "cell_type": "markdown",
   "metadata": {},
   "source": [
    "# Niederkongo"
   ]
  },
  {
   "cell_type": "code",
   "execution_count": 1,
   "metadata": {
    "collapsed": true
   },
   "outputs": [],
   "source": [
    "%matplotlib inline\n",
    "from IPython.display import display\n",
    "import pandas as pd\n",
    "import numpy as np\n",
    "import matplotlib.pyplot as plt\n",
    "import sqlite3\n",
    "\n",
    "con = sqlite3.connect(\"../data/CongoDB.sqlite\")"
   ]
  },
  {
   "cell_type": "markdown",
   "metadata": {},
   "source": [
    "## Datierungen"
   ]
  },
  {
   "cell_type": "code",
   "execution_count": 2,
   "metadata": {},
   "outputs": [
    {
     "data": {
      "text/plain": [
       "1385"
      ]
     },
     "execution_count": 2,
     "metadata": {},
     "output_type": "execute_result"
    }
   ],
   "source": [
    "sql = \"\"\"SELECT\n",
    "           t_14C.LABNR,\n",
    "           t_14C.C14AGE,\n",
    "           t_14C.C14STD,\n",
    "           t_14C.C13,\n",
    "           t_14C.MATERIAL,\n",
    "           t_14C.SPECIES,\n",
    "           [t_Ort].[ort_name] AS SITE, \n",
    "           [t_Komplex].[bef_art] AS CULTURE, \n",
    "           [t_ort].[ort_land] AS COUNTRY,\n",
    "           [t_ort].[y_lat] AS LATITUDE,\n",
    "           [t_ort].[x_long] AS LONGITUDE\n",
    "       FROM (t_Ort INNER JOIN t_Komplex ON t_Ort.ortID = t_Komplex.ortID)\n",
    "           INNER JOIN t_14c ON t_Komplex.komplexID = t_14c.komplexID\"\"\".replace('\\n',' ')\n",
    "\n",
    "#           [t_Komplex].[bef_nr] AS PHASE,  # wird von der der Liste weiter unten geliefert\n",
    "\n",
    "df = pd.read_sql(sql, con)\n",
    "# display(df.head())\n",
    "len(df.index)"
   ]
  },
  {
   "cell_type": "markdown",
   "metadata": {},
   "source": [
    "Datierungen für die Mortelmann'schen-Gruppen - siehe de Maret 1982: 63f. &  :\n",
    "* Group VI/Ngovo: Gosselain 1988: 15\n",
    "* Group II: Gosselain 1988: 20f.\n",
    "* Group X: Gosselain 1988: 22\n",
    "* Group Gombe: Gosselain 1988: 19\n",
    "* Kay Ladio: de Maret 1986: 125"
   ]
  },
  {
   "cell_type": "code",
   "execution_count": 3,
   "metadata": {},
   "outputs": [],
   "source": [
    "d = {'Hv-5258': 'Group VI',\n",
    "     'Hv-6258': 'Group VI',\n",
    "     'Hv-6250': 'Group VI',\n",
    "     'Hv-6257': 'Group VI',\n",
    "     'Lv-1471': 'Group VI',\n",
    "     'Hv-6259': 'Group II',\n",
    "     'Hv-6262': 'Group II',\n",
    "     'Gif-4219': 'Group II',\n",
    "     'Gif-4220': 'Group II',\n",
    "     'Gif-4221': 'Group II',\n",
    "     'Hv-6260': 'Group III',\n",
    "     'GrN-7218': 'Group X',\n",
    "     'OxTL-209a': 'Group Gombe',\n",
    "     'OxTL-209c': 'Group Gombe',\n",
    "     'OxTL-209d': 'Group Gombe',\n",
    "     'Lv-168': 'Group Gombe',\n",
    "     'Lv-1468': 'Kay Ladio',\n",
    "     'Lv-1469': 'Kay Ladio'\n",
    "    }\n",
    "df_gr = pd.Series(d)\n",
    "df_gr = pd.DataFrame(df_gr).reset_index()\n",
    "df_gr = df_gr.rename(columns={'index': 'LABNR', 0: 'PHASE'})"
   ]
  },
  {
   "cell_type": "code",
   "execution_count": 4,
   "metadata": {},
   "outputs": [
    {
     "data": {
      "text/html": [
       "<div>\n",
       "<table border=\"1\" class=\"dataframe\">\n",
       "  <thead>\n",
       "    <tr style=\"text-align: right;\">\n",
       "      <th></th>\n",
       "      <th>len</th>\n",
       "      <th>amin</th>\n",
       "      <th>mean</th>\n",
       "      <th>amax</th>\n",
       "    </tr>\n",
       "    <tr>\n",
       "      <th>PHASE</th>\n",
       "      <th></th>\n",
       "      <th></th>\n",
       "      <th></th>\n",
       "      <th></th>\n",
       "    </tr>\n",
       "  </thead>\n",
       "  <tbody>\n",
       "    <tr>\n",
       "      <th>Group Gombe</th>\n",
       "      <td>4</td>\n",
       "      <td>1540</td>\n",
       "      <td>1598.75</td>\n",
       "      <td>1645</td>\n",
       "    </tr>\n",
       "    <tr>\n",
       "      <th>Group II</th>\n",
       "      <td>5</td>\n",
       "      <td>230</td>\n",
       "      <td>295.00</td>\n",
       "      <td>370</td>\n",
       "    </tr>\n",
       "    <tr>\n",
       "      <th>Group III</th>\n",
       "      <td>1</td>\n",
       "      <td>425</td>\n",
       "      <td>425.00</td>\n",
       "      <td>425</td>\n",
       "    </tr>\n",
       "    <tr>\n",
       "      <th>Group VI</th>\n",
       "      <td>5</td>\n",
       "      <td>2035</td>\n",
       "      <td>2096.00</td>\n",
       "      <td>2155</td>\n",
       "    </tr>\n",
       "    <tr>\n",
       "      <th>Group X</th>\n",
       "      <td>1</td>\n",
       "      <td>220</td>\n",
       "      <td>220.00</td>\n",
       "      <td>220</td>\n",
       "    </tr>\n",
       "    <tr>\n",
       "      <th>Kay Ladio</th>\n",
       "      <td>2</td>\n",
       "      <td>1780</td>\n",
       "      <td>1815.00</td>\n",
       "      <td>1850</td>\n",
       "    </tr>\n",
       "  </tbody>\n",
       "</table>\n",
       "</div>"
      ],
      "text/plain": [
       "             len  amin     mean  amax\n",
       "PHASE                                \n",
       "Group Gombe    4  1540  1598.75  1645\n",
       "Group II       5   230   295.00   370\n",
       "Group III      1   425   425.00   425\n",
       "Group VI       5  2035  2096.00  2155\n",
       "Group X        1   220   220.00   220\n",
       "Kay Ladio      2  1780  1815.00  1850"
      ]
     },
     "execution_count": 4,
     "metadata": {},
     "output_type": "execute_result"
    }
   ],
   "source": [
    "df_merge = pd.merge(df, df_gr, on='LABNR', how='inner')\n",
    "\n",
    "df_merge.to_excel('../data/processed/3-2-2_Niederkongo_Gruppen.xlsx', sheet_name='Sheet1', engine='xlsxwriter')\n",
    "\n",
    "df_merge.pivot_table(values = 'C14AGE', index = 'PHASE', aggfunc = [len, np.min, np.mean, np.max])"
   ]
  },
  {
   "cell_type": "code",
   "execution_count": 5,
   "metadata": {},
   "outputs": [
    {
     "data": {
      "text/plain": [
       "<matplotlib.axes._subplots.AxesSubplot at 0x203991a2c50>"
      ]
     },
     "execution_count": 5,
     "metadata": {},
     "output_type": "execute_result"
    },
    {
     "data": {
      "image/png": "[encoded data removed]",
      "text/plain": [
       "<matplotlib.figure.Figure at 0x203961c6b38>"
      ]
     },
     "metadata": {},
     "output_type": "display_data"
    }
   ],
   "source": [
    "df_merge['C14AGE'].hist(histtype='stepfilled', fc='#CCCCCC')"
   ]
  },
  {
   "cell_type": "markdown",
   "metadata": {},
   "source": [
    "14C-Datierte Fundplätze mit 'Groupe VI'-Keramik:"
   ]
  },
  {
   "cell_type": "code",
   "execution_count": 6,
   "metadata": {},
   "outputs": [
    {
     "data": {
      "text/html": [
       "<div>\n",
       "<table border=\"1\" class=\"dataframe\">\n",
       "  <thead>\n",
       "    <tr style=\"text-align: right;\">\n",
       "      <th></th>\n",
       "      <th>C14AGE</th>\n",
       "    </tr>\n",
       "    <tr>\n",
       "      <th>SITE</th>\n",
       "      <th></th>\n",
       "    </tr>\n",
       "  </thead>\n",
       "  <tbody>\n",
       "    <tr>\n",
       "      <th>Dimba</th>\n",
       "      <td>1</td>\n",
       "    </tr>\n",
       "    <tr>\n",
       "      <th>Ngovo</th>\n",
       "      <td>2</td>\n",
       "    </tr>\n",
       "    <tr>\n",
       "      <th>Ntadi Ntadi</th>\n",
       "      <td>1</td>\n",
       "    </tr>\n",
       "    <tr>\n",
       "      <th>Sakuzi</th>\n",
       "      <td>1</td>\n",
       "    </tr>\n",
       "  </tbody>\n",
       "</table>\n",
       "</div>"
      ],
      "text/plain": [
       "             C14AGE\n",
       "SITE               \n",
       "Dimba             1\n",
       "Ngovo             2\n",
       "Ntadi Ntadi       1\n",
       "Sakuzi            1"
      ]
     },
     "execution_count": 6,
     "metadata": {},
     "output_type": "execute_result"
    }
   ],
   "source": [
    "pd.DataFrame(df_merge[df_merge['PHASE'] == 'Group VI'].pivot_table(values = 'C14AGE', index = 'SITE', aggfunc = len))"
   ]
  },
  {
   "cell_type": "markdown",
   "metadata": {},
   "source": [
    "OxCal-fähige Datei:"
   ]
  },
  {
   "cell_type": "code",
   "execution_count": 7,
   "metadata": {},
   "outputs": [
    {
     "name": "stdout",
     "output_type": "stream",
     "text": [
      "Plot()\n",
      "{\n",
      "R_Date(\" Dimba - Group VI - Hv-6257 \", 2035 , 130 );\n",
      "R_Date(\" Ngovo - Group VI - Hv-5258 \", 2145 , 45 );\n",
      "R_Date(\" Ngovo - Group VI - Hv-6258 \", 2035 , 65 );\n",
      "R_Date(\" Sakuzi - Group VI - Lv-1471 \", 2110 , 55 );\n",
      "R_Date(\" Ntadi Ntadi - Group VI - Hv-6250 \", 2155 , 60 );\n",
      "};\n"
     ]
    }
   ],
   "source": [
    "print('''Plot()\n",
    "{''')\n",
    "for index, row in df_merge[df_merge['PHASE'] == 'Group VI'].iterrows():\n",
    "#for index, row in df_merge[df_merge['PHASE'] == 'Group VI'].iterrows():\n",
    "    print('R_Date(\"',row['SITE'], '-', row['PHASE'],'-', row['LABNR'],'\",', row['C14AGE'],',', row['C14STD'],');')\n",
    "print('};')"
   ]
  },
  {
   "cell_type": "code",
   "execution_count": 8,
   "metadata": {},
   "outputs": [],
   "source": [
    "# da für Group III und X jeweils nur ein Datum vorliegt, müssen diese herausgefiltertn werden\n",
    "df_merge_a = df_merge[(df_merge.PHASE == 'Group II') | (df_merge.PHASE == 'Group VI') | (df_merge.PHASE == 'Group Gombe') | (df_merge.PHASE == 'Kay Ladio')]"
   ]
  },
  {
   "cell_type": "code",
   "execution_count": 9,
   "metadata": {},
   "outputs": [
    {
     "data": {
      "image/png": "[encoded data removed]",
      "text/plain": [
       "<matplotlib.figure.Figure at 0x2039968f748>"
      ]
     },
     "metadata": {},
     "output_type": "display_data"
    }
   ],
   "source": [
    "df_merge_a['C14AGE'].hist(by = df_merge_a['PHASE'], bins = 50, sharex = True, histtype='stepfilled', fc='#CCCCCC')\n",
    "plt.show()"
   ]
  },
  {
   "cell_type": "markdown",
   "metadata": {
    "collapsed": true
   },
   "source": [
    "## Fundplätze"
   ]
  },
  {
   "cell_type": "code",
   "execution_count": 10,
   "metadata": {},
   "outputs": [
    {
     "data": {
      "text/plain": [
       "930"
      ]
     },
     "execution_count": 10,
     "metadata": {},
     "output_type": "execute_result"
    }
   ],
   "source": [
    "sql = \"\"\"SELECT\n",
    "           [t_Ort].[ort_name] AS SITE, \n",
    "           [t_ort].[ort_land] AS COUNTRY,\n",
    "           [t_ort].[y_lat] AS LATITUDE,\n",
    "           [t_ort].[x_long] AS LONGITUDE\n",
    "       FROM t_Ort\"\"\".replace('\\n',' ')\n",
    "\n",
    "#           [t_Komplex].[bef_nr] AS PHASE,  # wird von der der Liste weiter unten geliefert\n",
    "\n",
    "df = pd.read_sql(sql, con)\n",
    "# display(df.head())\n",
    "len(df.index)"
   ]
  },
  {
   "cell_type": "markdown",
   "metadata": {},
   "source": [
    "> Gosselain 1988: 16"
   ]
  },
  {
   "cell_type": "code",
   "execution_count": 11,
   "metadata": {},
   "outputs": [
    {
     "data": {
      "text/html": [
       "<div>\n",
       "<table border=\"1\" class=\"dataframe\">\n",
       "  <thead>\n",
       "    <tr style=\"text-align: right;\">\n",
       "      <th></th>\n",
       "      <th>SITE</th>\n",
       "      <th>PHASE</th>\n",
       "    </tr>\n",
       "  </thead>\n",
       "  <tbody>\n",
       "    <tr>\n",
       "      <th>0</th>\n",
       "      <td>Bangu</td>\n",
       "      <td>Group VI</td>\n",
       "    </tr>\n",
       "    <tr>\n",
       "      <th>1</th>\n",
       "      <td>Dimba</td>\n",
       "      <td>Group VI</td>\n",
       "    </tr>\n",
       "    <tr>\n",
       "      <th>2</th>\n",
       "      <td>Kibula</td>\n",
       "      <td>Group VI</td>\n",
       "    </tr>\n",
       "    <tr>\n",
       "      <th>3</th>\n",
       "      <td>Kongo dia Vanga</td>\n",
       "      <td>Group VI</td>\n",
       "    </tr>\n",
       "    <tr>\n",
       "      <th>4</th>\n",
       "      <td>Kwimba</td>\n",
       "      <td>Group VI</td>\n",
       "    </tr>\n",
       "    <tr>\n",
       "      <th>5</th>\n",
       "      <td>Lovo</td>\n",
       "      <td>Group VI</td>\n",
       "    </tr>\n",
       "    <tr>\n",
       "      <th>6</th>\n",
       "      <td>Mongo</td>\n",
       "      <td>Group VI</td>\n",
       "    </tr>\n",
       "    <tr>\n",
       "      <th>7</th>\n",
       "      <td>Ngovo</td>\n",
       "      <td>Group VI</td>\n",
       "    </tr>\n",
       "    <tr>\n",
       "      <th>8</th>\n",
       "      <td>Ntadi Ntadi</td>\n",
       "      <td>Group VI</td>\n",
       "    </tr>\n",
       "    <tr>\n",
       "      <th>9</th>\n",
       "      <td>Sakuzi</td>\n",
       "      <td>Group VI</td>\n",
       "    </tr>\n",
       "    <tr>\n",
       "      <th>10</th>\n",
       "      <td>Sumbi</td>\n",
       "      <td>Group VI</td>\n",
       "    </tr>\n",
       "  </tbody>\n",
       "</table>\n",
       "</div>"
      ],
      "text/plain": [
       "               SITE     PHASE\n",
       "0             Bangu  Group VI\n",
       "1             Dimba  Group VI\n",
       "2            Kibula  Group VI\n",
       "3   Kongo dia Vanga  Group VI\n",
       "4            Kwimba  Group VI\n",
       "5              Lovo  Group VI\n",
       "6             Mongo  Group VI\n",
       "7             Ngovo  Group VI\n",
       "8       Ntadi Ntadi  Group VI\n",
       "9            Sakuzi  Group VI\n",
       "10            Sumbi  Group VI"
      ]
     },
     "execution_count": 11,
     "metadata": {},
     "output_type": "execute_result"
    }
   ],
   "source": [
    "d = {'Sumbi': 'Group VI',\n",
    "     'Kibula': 'Group VI',\n",
    "     'Sakuzi': 'Group VI',\n",
    "     'Kongo dia Vanga': 'Group VI',\n",
    "     'Bangu': 'Group VI',\n",
    "     'Mongo': 'Group VI',\n",
    "     'Ntadi Ntadi': 'Group VI',\n",
    "     'Lovo': 'Group VI',\n",
    "     'Kwimba': 'Group VI',\n",
    "     'Ngovo': 'Group VI',\n",
    "     'Dimba': 'Group VI'}\n",
    "df_gr = pd.Series(d)\n",
    "df_gr = pd.DataFrame(df_gr).reset_index()\n",
    "df_gr = df_gr.rename(columns={'index': 'SITE', 0: 'PHASE'})\n",
    "df_gr"
   ]
  },
  {
   "cell_type": "code",
   "execution_count": 12,
   "metadata": {},
   "outputs": [
    {
     "data": {
      "text/html": [
       "<div>\n",
       "<table border=\"1\" class=\"dataframe\">\n",
       "  <thead>\n",
       "    <tr style=\"text-align: right;\">\n",
       "      <th></th>\n",
       "      <th>SITE</th>\n",
       "      <th>COUNTRY</th>\n",
       "      <th>LATITUDE</th>\n",
       "      <th>LONGITUDE</th>\n",
       "      <th>PHASE</th>\n",
       "    </tr>\n",
       "  </thead>\n",
       "  <tbody>\n",
       "    <tr>\n",
       "      <th>0</th>\n",
       "      <td>Dimba</td>\n",
       "      <td>COD</td>\n",
       "      <td>-5.283333</td>\n",
       "      <td>14.866667</td>\n",
       "      <td>Group VI</td>\n",
       "    </tr>\n",
       "    <tr>\n",
       "      <th>1</th>\n",
       "      <td>Ngovo</td>\n",
       "      <td>COD</td>\n",
       "      <td>-5.308333</td>\n",
       "      <td>14.923611</td>\n",
       "      <td>Group VI</td>\n",
       "    </tr>\n",
       "    <tr>\n",
       "      <th>2</th>\n",
       "      <td>Sakuzi</td>\n",
       "      <td>COD</td>\n",
       "      <td>-5.167222</td>\n",
       "      <td>14.007500</td>\n",
       "      <td>Group VI</td>\n",
       "    </tr>\n",
       "    <tr>\n",
       "      <th>3</th>\n",
       "      <td>Ntadi Ntadi</td>\n",
       "      <td>COD</td>\n",
       "      <td>-5.745826</td>\n",
       "      <td>14.579839</td>\n",
       "      <td>Group VI</td>\n",
       "    </tr>\n",
       "    <tr>\n",
       "      <th>4</th>\n",
       "      <td>Lovo</td>\n",
       "      <td>COD</td>\n",
       "      <td>-5.733030</td>\n",
       "      <td>14.455420</td>\n",
       "      <td>Group VI</td>\n",
       "    </tr>\n",
       "    <tr>\n",
       "      <th>5</th>\n",
       "      <td>Bangu</td>\n",
       "      <td>COD</td>\n",
       "      <td>-5.544972</td>\n",
       "      <td>14.446232</td>\n",
       "      <td>Group VI</td>\n",
       "    </tr>\n",
       "    <tr>\n",
       "      <th>6</th>\n",
       "      <td>Kwimba</td>\n",
       "      <td>COD</td>\n",
       "      <td>-5.635787</td>\n",
       "      <td>14.877041</td>\n",
       "      <td>Group VI</td>\n",
       "    </tr>\n",
       "    <tr>\n",
       "      <th>7</th>\n",
       "      <td>Kongo dia Vanga</td>\n",
       "      <td>COD</td>\n",
       "      <td>-5.768174</td>\n",
       "      <td>13.699803</td>\n",
       "      <td>Group VI</td>\n",
       "    </tr>\n",
       "    <tr>\n",
       "      <th>8</th>\n",
       "      <td>Sumbi</td>\n",
       "      <td>COD</td>\n",
       "      <td>-4.985620</td>\n",
       "      <td>13.256150</td>\n",
       "      <td>Group VI</td>\n",
       "    </tr>\n",
       "    <tr>\n",
       "      <th>9</th>\n",
       "      <td>Kibula</td>\n",
       "      <td>COD</td>\n",
       "      <td>-5.180920</td>\n",
       "      <td>14.064480</td>\n",
       "      <td>Group VI</td>\n",
       "    </tr>\n",
       "    <tr>\n",
       "      <th>10</th>\n",
       "      <td>Mongo</td>\n",
       "      <td>COD</td>\n",
       "      <td>-5.616020</td>\n",
       "      <td>14.596190</td>\n",
       "      <td>Group VI</td>\n",
       "    </tr>\n",
       "  </tbody>\n",
       "</table>\n",
       "</div>"
      ],
      "text/plain": [
       "               SITE COUNTRY  LATITUDE  LONGITUDE     PHASE\n",
       "0             Dimba     COD -5.283333  14.866667  Group VI\n",
       "1             Ngovo     COD -5.308333  14.923611  Group VI\n",
       "2            Sakuzi     COD -5.167222  14.007500  Group VI\n",
       "3       Ntadi Ntadi     COD -5.745826  14.579839  Group VI\n",
       "4              Lovo     COD -5.733030  14.455420  Group VI\n",
       "5             Bangu     COD -5.544972  14.446232  Group VI\n",
       "6            Kwimba     COD -5.635787  14.877041  Group VI\n",
       "7   Kongo dia Vanga     COD -5.768174  13.699803  Group VI\n",
       "8             Sumbi     COD -4.985620  13.256150  Group VI\n",
       "9            Kibula     COD -5.180920  14.064480  Group VI\n",
       "10            Mongo     COD -5.616020  14.596190  Group VI"
      ]
     },
     "execution_count": 12,
     "metadata": {},
     "output_type": "execute_result"
    }
   ],
   "source": [
    "df_merge = pd.merge(df, df_gr, on='SITE', how='inner')\n",
    "df_merge"
   ]
  },
  {
   "cell_type": "markdown",
   "metadata": {
    "collapsed": true
   },
   "source": [
    "## Tafeln"
   ]
  },
  {
   "cell_type": "code",
   "execution_count": 13,
   "metadata": {},
   "outputs": [
    {
     "data": {
      "text/html": [
       "<div>\n",
       "<table border=\"1\" class=\"dataframe\">\n",
       "  <thead>\n",
       "    <tr style=\"text-align: right;\">\n",
       "      <th></th>\n",
       "      <th>TAF</th>\n",
       "      <th>OBJ</th>\n",
       "      <th>SITE</th>\n",
       "      <th>FEAT</th>\n",
       "      <th>NOTE</th>\n",
       "      <th>IND</th>\n",
       "      <th>Typ</th>\n",
       "      <th>Form_Gef</th>\n",
       "      <th>Form_Rand</th>\n",
       "      <th>Form_Boden</th>\n",
       "    </tr>\n",
       "  </thead>\n",
       "  <tbody>\n",
       "    <tr>\n",
       "      <th>0</th>\n",
       "      <td>76</td>\n",
       "      <td>1</td>\n",
       "      <td>LKW 186</td>\n",
       "      <td>87/186</td>\n",
       "      <td>NaN</td>\n",
       "      <td>-1:3,13</td>\n",
       "      <td>LKW</td>\n",
       "      <td>E1</td>\n",
       "      <td>B1</td>\n",
       "      <td>None</td>\n",
       "    </tr>\n",
       "    <tr>\n",
       "      <th>1</th>\n",
       "      <td>76</td>\n",
       "      <td>2</td>\n",
       "      <td>LKW 186</td>\n",
       "      <td>87/186</td>\n",
       "      <td>NaN</td>\n",
       "      <td>-1:1</td>\n",
       "      <td>LKW</td>\n",
       "      <td>C1</td>\n",
       "      <td>B1</td>\n",
       "      <td>None</td>\n",
       "    </tr>\n",
       "    <tr>\n",
       "      <th>2</th>\n",
       "      <td>76</td>\n",
       "      <td>3</td>\n",
       "      <td>LKW 186</td>\n",
       "      <td>87/186</td>\n",
       "      <td>NaN</td>\n",
       "      <td>-1:2,5</td>\n",
       "      <td>LKW</td>\n",
       "      <td>C1</td>\n",
       "      <td>B1</td>\n",
       "      <td>None</td>\n",
       "    </tr>\n",
       "    <tr>\n",
       "      <th>3</th>\n",
       "      <td>76</td>\n",
       "      <td>4</td>\n",
       "      <td>LKW 186</td>\n",
       "      <td>87/186</td>\n",
       "      <td>NaN</td>\n",
       "      <td>2</td>\n",
       "      <td>LKW</td>\n",
       "      <td>H2</td>\n",
       "      <td>C3</td>\n",
       "      <td>None</td>\n",
       "    </tr>\n",
       "    <tr>\n",
       "      <th>4</th>\n",
       "      <td>76</td>\n",
       "      <td>5</td>\n",
       "      <td>LKW 186</td>\n",
       "      <td>87/186</td>\n",
       "      <td>NaN</td>\n",
       "      <td>3</td>\n",
       "      <td>LKW</td>\n",
       "      <td>I3 (?)</td>\n",
       "      <td>B3 (?)</td>\n",
       "      <td>None</td>\n",
       "    </tr>\n",
       "  </tbody>\n",
       "</table>\n",
       "</div>"
      ],
      "text/plain": [
       "   TAF  OBJ     SITE    FEAT NOTE      IND  Typ Form_Gef Form_Rand Form_Boden\n",
       "0   76    1  LKW 186  87/186  NaN  -1:3,13  LKW       E1        B1       None\n",
       "1   76    2  LKW 186  87/186  NaN     -1:1  LKW       C1        B1       None\n",
       "2   76    3  LKW 186  87/186  NaN   -1:2,5  LKW       C1        B1       None\n",
       "3   76    4  LKW 186  87/186  NaN        2  LKW       H2        C3       None\n",
       "4   76    5  LKW 186  87/186  NaN        3  LKW   I3 (?)    B3 (?)       None"
      ]
     },
     "execution_count": 13,
     "metadata": {},
     "output_type": "execute_result"
    }
   ],
   "source": [
    "sql = \"\"\"SELECT\n",
    "           t_Ort.ort_kurz AS SITE,\n",
    "           t_Komplex.bef_nr AS FEAT,\n",
    "           t_Obj.Individuum AS IND,\n",
    "           t_Obj.Typ,\n",
    "           t_Obj.Form_Gef,\n",
    "           t_Obj.Form_Rand,\n",
    "           t_Obj.Form_Boden\n",
    "       FROM (t_Ort INNER JOIN t_Komplex ON t_Ort.ortID = t_Komplex.ortID)\n",
    "           INNER JOIN t_Obj ON t_Komplex.komplexID = t_Obj.komplexID\n",
    "       WHERE (((t_Ort.ort_lit) = 'DS')\n",
    "           AND ((t_Obj.Typ) Like '%LKW%'))\"\"\".replace('\\n',' ')\n",
    "\n",
    "df = pd.read_sql(sql, con)\n",
    "\n",
    "pl = pd.read_csv('../plates/plates.csv')\n",
    "\n",
    "df_merge = pd.merge(pl, df, on=['SITE', 'FEAT', 'IND'], how='inner')\n",
    "df_merge"
   ]
  },
  {
   "cell_type": "code",
   "execution_count": null,
   "metadata": {
    "collapsed": true
   },
   "outputs": [],
   "source": []
  }
 ],
 "metadata": {
  "anaconda-cloud": {},
  "kernelspec": {
   "display_name": "Python 3",
   "language": "python",
   "name": "python3"
  },
  "language_info": {
   "codemirror_mode": {
    "name": "ipython",
    "version": 3
   },
   "file_extension": ".py",
   "mimetype": "text/x-python",
   "name": "python",
   "nbconvert_exporter": "python",
   "pygments_lexer": "ipython3",
   "version": "3.6.1"
  }
 },
 "nbformat": 4,
 "nbformat_minor": 1
}
