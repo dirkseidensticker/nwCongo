{
 "cells": [
  {
   "cell_type": "code",
   "execution_count": 45,
   "metadata": {
    "collapsed": true
   },
   "outputs": [],
   "source": [
    "%matplotlib inline\n",
    "from IPython.display import display\n",
    "import pandas as pd\n",
    "import numpy as np\n",
    "import matplotlib.pyplot as plt\n",
    "import sqlite3\n",
    "\n",
    "con = sqlite3.connect(\"../data/CongoDB.sqlite\")"
   ]
  },
  {
   "cell_type": "code",
   "execution_count": 46,
   "metadata": {
    "collapsed": false
   },
   "outputs": [
    {
     "data": {
      "text/html": [
       "<div>\n",
       "<table border=\"1\" class=\"dataframe\">\n",
       "  <thead>\n",
       "    <tr style=\"text-align: right;\">\n",
       "      <th></th>\n",
       "      <th>C14AGE</th>\n",
       "      <th>C13</th>\n",
       "    </tr>\n",
       "  </thead>\n",
       "  <tbody>\n",
       "    <tr>\n",
       "      <th>0</th>\n",
       "      <td>110</td>\n",
       "      <td>-28.9</td>\n",
       "    </tr>\n",
       "    <tr>\n",
       "      <th>1</th>\n",
       "      <td>260</td>\n",
       "      <td>-26.5</td>\n",
       "    </tr>\n",
       "    <tr>\n",
       "      <th>2</th>\n",
       "      <td>1960</td>\n",
       "      <td>-27.1</td>\n",
       "    </tr>\n",
       "    <tr>\n",
       "      <th>3</th>\n",
       "      <td>1110</td>\n",
       "      <td>-27.7</td>\n",
       "    </tr>\n",
       "    <tr>\n",
       "      <th>4</th>\n",
       "      <td>870</td>\n",
       "      <td>-28.2</td>\n",
       "    </tr>\n",
       "  </tbody>\n",
       "</table>\n",
       "</div>"
      ],
      "text/plain": [
       "   C14AGE   C13\n",
       "0     110 -28.9\n",
       "1     260 -26.5\n",
       "2    1960 -27.1\n",
       "3    1110 -27.7\n",
       "4     870 -28.2"
      ]
     },
     "metadata": {},
     "output_type": "display_data"
    }
   ],
   "source": [
    "sql = \"\"\"SELECT\n",
    "           t_14C.C14AGE,\n",
    "           t_14C.C13\n",
    "       FROM t_14c\n",
    "       WHERE (((t_14C.C14AGE) < 3000)\n",
    "           AND ((t_14C.C13)!= 0))\"\"\".replace('\\n',' ')\n",
    "\n",
    "df = pd.read_sql(sql, con)\n",
    "display(df.head())"
   ]
  },
  {
   "cell_type": "code",
   "execution_count": 70,
   "metadata": {
    "collapsed": false
   },
   "outputs": [
    {
     "data": {
      "text/plain": [
       "<matplotlib.text.Text at 0xec46cf8>"
      ]
     },
     "execution_count": 70,
     "metadata": {},
     "output_type": "execute_result"
    },
    {
     "data": {
      "image/png": "[encoded data removed]",
      "text/plain": [
       "<matplotlib.figure.Figure at 0xed3c2b0>"
      ]
     },
     "metadata": {},
     "output_type": "display_data"
    }
   ],
   "source": [
    "x = df['C14AGE']\n",
    "y = df['C13']\n",
    "\n",
    "plt.plot(x, y, 'o', c = 'grey')\n",
    "plt.xlabel(\"unkalibriertes $^{14}$C-Alter (bp)\")\n",
    "plt.ylabel(\"$\\delta^{13}$C\")\n",
    "plt.axhspan(-9, -17, facecolor='gray', alpha=0.1)\n",
    "plt.text(2750, -13, \"C3\", verticalalignment='center')\n",
    "plt.axhspan(-20, -32, facecolor='gray', alpha=0.2)\n",
    "plt.text(2750, -26, \"C4\", verticalalignment='center')"
   ]
  },
  {
   "cell_type": "markdown",
   "metadata": {},
   "source": [
    "$\\delta^{13}$C siehe https://de.wikipedia.org/wiki/C4-Pflanze#Vergleich_zwischen_C3-.2C_C4-_und_CAM-Pflanzen"
   ]
  },
  {
   "cell_type": "code",
   "execution_count": null,
   "metadata": {
    "collapsed": true
   },
   "outputs": [],
   "source": []
  },
  {
   "cell_type": "code",
   "execution_count": null,
   "metadata": {
    "collapsed": true
   },
   "outputs": [],
   "source": []
  }
 ],
 "metadata": {
  "kernelspec": {
   "display_name": "Python 3",
   "language": "python",
   "name": "python3"
  },
  "language_info": {
   "codemirror_mode": {
    "name": "ipython",
    "version": 3
   },
   "file_extension": ".py",
   "mimetype": "text/x-python",
   "name": "python",
   "nbconvert_exporter": "python",
   "pygments_lexer": "ipython3",
   "version": "3.4.4"
  }
 },
 "nbformat": 4,
 "nbformat_minor": 0
}
