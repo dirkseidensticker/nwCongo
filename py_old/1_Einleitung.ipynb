{
 "cells": [
  {
   "cell_type": "markdown",
   "metadata": {},
   "source": [
    "# Einleitung"
   ]
  },
  {
   "cell_type": "code",
   "execution_count": 1,
   "metadata": {
    "collapsed": false
   },
   "outputs": [],
   "source": [
    "%matplotlib inline\n",
    "from IPython.display import display\n",
    "import pandas as pd\n",
    "import numpy as np\n",
    "import matplotlib.pyplot as plt\n",
    "import sqlite3\n",
    "\n",
    "import sys, os\n",
    "sys.path.append(\"/Python\")\n",
    "from myfunctions import *\n",
    "from parula import *\n",
    "\n",
    "con = sqlite3.connect(\"../data/CongoDB.sqlite\")"
   ]
  },
  {
   "cell_type": "markdown",
   "metadata": {},
   "source": [
    "### Grenzen des Arbeitsgebietes"
   ]
  },
  {
   "cell_type": "code",
   "execution_count": 2,
   "metadata": {
    "collapsed": false
   },
   "outputs": [
    {
     "name": "stderr",
     "output_type": "stream",
     "text": [
      "C:\\Users\\Dirk\\Anaconda3\\lib\\site-packages\\ipykernel\\__main__.py:10: FutureWarning: convert_objects is deprecated.  Use the data-type specific converters pd.to_datetime, pd.to_timedelta and pd.to_numeric.\n",
      "C:\\Users\\Dirk\\Anaconda3\\lib\\site-packages\\ipykernel\\__main__.py:11: FutureWarning: convert_objects is deprecated.  Use the data-type specific converters pd.to_datetime, pd.to_timedelta and pd.to_numeric.\n"
     ]
    }
   ],
   "source": [
    "sql = \"\"\"SELECT\n",
    "           t_Ort.ort_kurz,\n",
    "           t_Ort.\"Kat-Nr\",\n",
    "           t_Ort.y_lat,\n",
    "           t_Ort.x_long\n",
    "       FROM t_Ort\n",
    "       WHERE ((t_Ort.ort_lit) Like '%DS%')\"\"\".replace('\\n',' ')\n",
    "\n",
    "df = pd.read_sql(sql, con)\n",
    "df['x_long'] = df['x_long'].convert_objects(convert_numeric=True)\n",
    "df['y_lat'] = df['y_lat'].convert_objects(convert_numeric=True)\n",
    "# display(df.head())"
   ]
  },
  {
   "cell_type": "code",
   "execution_count": 3,
   "metadata": {
    "collapsed": false
   },
   "outputs": [
    {
     "data": {
      "text/plain": [
       "X/Länge - Maximum     19.976358\n",
       "X/Länge - Minimum     15.536524\n",
       "Y/Breite - Maximum     5.133947\n",
       "Y/Breite - Minimum    -1.117121\n",
       "dtype: float64"
      ]
     },
     "execution_count": 3,
     "metadata": {},
     "output_type": "execute_result"
    }
   ],
   "source": [
    "pd.Series({'X/Länge - Minimum':np.min(df['x_long']),\n",
    "           'X/Länge - Maximum':np.max(df['x_long']),\n",
    "           'Y/Breite - Minimum':np.min(df['y_lat']),\n",
    "           'Y/Breite - Maximum':np.max(df['y_lat'])})"
   ]
  },
  {
   "cell_type": "code",
   "execution_count": 4,
   "metadata": {
    "collapsed": false
   },
   "outputs": [],
   "source": [
    "# Umrechnung von Dezimalgrad in Grad/Minute/Sekunde\n",
    "# siehe http://anothergisblog.blogspot.de/2011/11/convert-decimal-degree-to-degrees.html\n",
    "# def decimalDegrees2DMS(value,type):\n",
    "# in myfunctions.py 18.6.17"
   ]
  },
  {
   "cell_type": "code",
   "execution_count": 5,
   "metadata": {
    "collapsed": false
   },
   "outputs": [
    {
     "data": {
      "text/plain": [
       "X/Länge - Maximum     19º 58' 34.88'' E\n",
       "X/Länge - Minimum     15º 32' 11.48'' E\n",
       "Y/Breite - Maximum      5º 8' 2.209'' N\n",
       "Y/Breite - Minimum     -1º 7' 1.635'' S\n",
       "dtype: object"
      ]
     },
     "execution_count": 5,
     "metadata": {},
     "output_type": "execute_result"
    }
   ],
   "source": [
    "pd.Series({'X/Länge - Minimum':decimalDegrees2DMS(np.min(df['x_long']), 'Longitude'),\n",
    "           'X/Länge - Maximum':decimalDegrees2DMS(np.max(df['x_long']), 'Longitude'),\n",
    "           'Y/Breite - Minimum':decimalDegrees2DMS(np.min(df['y_lat']), 'Latitude'),\n",
    "           'Y/Breite - Maximum':decimalDegrees2DMS(np.max(df['y_lat']), 'Latitude')})"
   ]
  },
  {
   "cell_type": "markdown",
   "metadata": {},
   "source": [
    "## Kartierung"
   ]
  },
  {
   "cell_type": "code",
   "execution_count": 6,
   "metadata": {
    "collapsed": false
   },
   "outputs": [],
   "source": [
    "# Liste mit eigenen FdSt und denen aus Wotzka 1995\n",
    "sql = \"\"\"SELECT\n",
    "           t_Ort.ort_name,\n",
    "           t_Ort.y_lat,\n",
    "           t_Ort.x_long,\n",
    "           t_Ort.\"Kat-Nr\",\n",
    "           t_Ort.ort_lit\n",
    "       FROM t_Ort\n",
    "       WHERE (((t_Ort.y_lat) <> '')\n",
    "           AND ((t_Ort.ort_lit) Like '%DS%')\n",
    "           OR ((t_Ort.ort_lit) Like '%Wotzka 1995%'))\"\"\".replace('\\n',' ')\n",
    "\n",
    "df1 = pd.read_sql(sql, con)\n",
    "\n",
    "# Liste mit mit allen anderen FdSt\n",
    "sql = \"\"\"SELECT\n",
    "           t_Ort.ort_name,\n",
    "           t_Ort.y_lat,\n",
    "           t_Ort.\"Kat-Nr\",\n",
    "           t_Ort.x_long\n",
    "       FROM t_Ort\n",
    "       WHERE (((t_Ort.y_lat) <> '')\n",
    "           AND ((t_Ort.ort_lit) Not Like '%DS%')\n",
    "           AND ((t_Ort.ort_lit) Not Like '%Wotzka 1995%'))\"\"\".replace('\\n',' ')\n",
    "\n",
    "df2 = pd.read_sql(sql, con)\n",
    "df2['ort_lit'] = 'Sonstige'   # die verschiedene Einträge in ort_lit werden vereinheitlicht\n",
    "# display(df2.head())"
   ]
  },
  {
   "cell_type": "code",
   "execution_count": 7,
   "metadata": {
    "collapsed": false
   },
   "outputs": [],
   "source": [
    "# die beiden Listen aneinanderhängen\n",
    "df = df1.append(df2,ignore_index = True)"
   ]
  },
  {
   "cell_type": "code",
   "execution_count": 8,
   "metadata": {
    "collapsed": false
   },
   "outputs": [],
   "source": [
    "df.to_csv('../data/processed/1 Fundstellen - Kartierung.csv', index = False, encoding='utf-8')"
   ]
  },
  {
   "cell_type": "code",
   "execution_count": 9,
   "metadata": {
    "collapsed": false
   },
   "outputs": [],
   "source": [
    "# Auswahl der eigenen FdSt & zwischenspeichern\n",
    "df1 = df.loc[(df['ort_lit'] == 'DS')]\n",
    "df1.to_csv('../data/processed/1 Fundstellen DS - Kartierung.csv', index = False, encoding='utf-8')"
   ]
  },
  {
   "cell_type": "markdown",
   "metadata": {},
   "source": [
    "> Kartierung in QGIS od R"
   ]
  },
  {
   "cell_type": "markdown",
   "metadata": {},
   "source": [
    "### Höhe der FdSt"
   ]
  },
  {
   "cell_type": "markdown",
   "metadata": {},
   "source": [
    "in QGIS die Höhe der FdSt aus dem SRMT abgeleitet (<code>Point Sampling Tool</code>-Erweiterung) und als <code>.shp</code> abgespeichert; dieses dann als <code>.csv</code> exportiert"
   ]
  },
  {
   "cell_type": "code",
   "execution_count": 10,
   "metadata": {
    "collapsed": false
   },
   "outputs": [
    {
     "data": {
      "text/html": [
       "<div>\n",
       "<table border=\"1\" class=\"dataframe\">\n",
       "  <thead>\n",
       "    <tr style=\"text-align: right;\">\n",
       "      <th></th>\n",
       "      <th>X</th>\n",
       "      <th>Y</th>\n",
       "      <th>ort_name</th>\n",
       "      <th>y_lat</th>\n",
       "      <th>x_long</th>\n",
       "      <th>ort_lit</th>\n",
       "      <th>srtm_merge</th>\n",
       "    </tr>\n",
       "  </thead>\n",
       "  <tbody>\n",
       "    <tr>\n",
       "      <th>0</th>\n",
       "      <td>17.580406</td>\n",
       "      <td>-0.704069</td>\n",
       "      <td>Gombe</td>\n",
       "      <td>-0.704069</td>\n",
       "      <td>17.580406</td>\n",
       "      <td>DS</td>\n",
       "      <td>302</td>\n",
       "    </tr>\n",
       "    <tr>\n",
       "      <th>1</th>\n",
       "      <td>19.269369</td>\n",
       "      <td>0.347772</td>\n",
       "      <td>Mondjo</td>\n",
       "      <td>0.347772</td>\n",
       "      <td>19.269369</td>\n",
       "      <td>Wotzka 1995</td>\n",
       "      <td>317</td>\n",
       "    </tr>\n",
       "    <tr>\n",
       "      <th>2</th>\n",
       "      <td>17.432057</td>\n",
       "      <td>-0.006791</td>\n",
       "      <td>Bojenjo</td>\n",
       "      <td>-0.006791</td>\n",
       "      <td>17.432057</td>\n",
       "      <td>DS</td>\n",
       "      <td>309</td>\n",
       "    </tr>\n",
       "    <tr>\n",
       "      <th>3</th>\n",
       "      <td>17.478148</td>\n",
       "      <td>0.099491</td>\n",
       "      <td>Bokuma</td>\n",
       "      <td>0.099491</td>\n",
       "      <td>17.478148</td>\n",
       "      <td>DS</td>\n",
       "      <td>302</td>\n",
       "    </tr>\n",
       "    <tr>\n",
       "      <th>4</th>\n",
       "      <td>17.221926</td>\n",
       "      <td>-0.805556</td>\n",
       "      <td>Boleko</td>\n",
       "      <td>-0.805556</td>\n",
       "      <td>17.221926</td>\n",
       "      <td>DS</td>\n",
       "      <td>304</td>\n",
       "    </tr>\n",
       "  </tbody>\n",
       "</table>\n",
       "</div>"
      ],
      "text/plain": [
       "           X         Y ort_name     y_lat     x_long      ort_lit  srtm_merge\n",
       "0  17.580406 -0.704069    Gombe -0.704069  17.580406           DS         302\n",
       "1  19.269369  0.347772   Mondjo  0.347772  19.269369  Wotzka 1995         317\n",
       "2  17.432057 -0.006791  Bojenjo -0.006791  17.432057           DS         309\n",
       "3  17.478148  0.099491   Bokuma  0.099491  17.478148           DS         302\n",
       "4  17.221926 -0.805556   Boleko -0.805556  17.221926           DS         304"
      ]
     },
     "metadata": {},
     "output_type": "display_data"
    }
   ],
   "source": [
    "df = pd.read_csv('../data/processed/1_Fundstellen_Kartierung_Höhe.csv')\n",
    "display(df.head())"
   ]
  },
  {
   "cell_type": "code",
   "execution_count": 11,
   "metadata": {
    "collapsed": false
   },
   "outputs": [],
   "source": [
    "# nur die eigenen FdSt aus dem Datensatz herausfiltern\n",
    "df_DS = df.loc[(df['ort_lit'] == 'DS')]\n",
    "# Sortierung ändern\n",
    "df_DS = df_DS.sort('srtm_merge', ascending = True)"
   ]
  },
  {
   "cell_type": "markdown",
   "metadata": {},
   "source": [
    "Kennwerte"
   ]
  },
  {
   "cell_type": "code",
   "execution_count": 12,
   "metadata": {
    "collapsed": false
   },
   "outputs": [
    {
     "data": {
      "text/plain": [
       "count    123.000000\n",
       "mean     331.073171\n",
       "std       25.062601\n",
       "min      289.000000\n",
       "25%      311.000000\n",
       "50%      330.000000\n",
       "75%      350.000000\n",
       "max      390.000000\n",
       "Name: srtm_merge, dtype: float64"
      ]
     },
     "execution_count": 12,
     "metadata": {},
     "output_type": "execute_result"
    }
   ],
   "source": [
    "df_DS['srtm_merge'].describe()"
   ]
  },
  {
   "cell_type": "code",
   "execution_count": 13,
   "metadata": {
    "collapsed": false
   },
   "outputs": [
    {
     "data": {
      "text/plain": [
       "<matplotlib.lines.Line2D at 0x83e9a20>"
      ]
     },
     "execution_count": 13,
     "metadata": {},
     "output_type": "execute_result"
    },
    {
     "data": {
      "image/png": "[encoded data removed]",
      "text/plain": [
       "<matplotlib.figure.Figure at 0x83dcef0>"
      ]
     },
     "metadata": {},
     "output_type": "display_data"
    }
   ],
   "source": [
    "bins = df_DS['srtm_merge'].max() - df_DS['srtm_merge'].min()\n",
    "mean = df_DS['srtm_merge'].mean()\n",
    "\n",
    "df_DS['srtm_merge'].hist(bins = 25, color = 'grey', histtype = 'stepfilled')\n",
    "plt.axvline(mean, color='black', lw = 2, ls = '--')"
   ]
  },
  {
   "cell_type": "code",
   "execution_count": 14,
   "metadata": {
    "collapsed": false
   },
   "outputs": [
    {
     "data": {
      "text/plain": [
       "(280, 400)"
      ]
     },
     "execution_count": 14,
     "metadata": {},
     "output_type": "execute_result"
    },
    {
     "data": {
      "image/png": "[encoded data removed]",
      "text/plain": [
       "<matplotlib.figure.Figure at 0x83e9978>"
      ]
     },
     "metadata": {},
     "output_type": "display_data"
    }
   ],
   "source": [
    "fig = plt.figure(1)\n",
    "fig.set_size_inches(20, 5)\n",
    "df_DS['srtm_merge'].plot(kind = 'bar', color = 'grey')\n",
    "plt.ylim([280,400]) "
   ]
  },
  {
   "cell_type": "markdown",
   "metadata": {},
   "source": [
    "## Liste der Fundorte (Fpl.)-Nummern"
   ]
  },
  {
   "cell_type": "code",
   "execution_count": 2,
   "metadata": {
    "collapsed": false
   },
   "outputs": [
    {
     "name": "stderr",
     "output_type": "stream",
     "text": [
      "C:\\Users\\DirkSeidenticker\\Anaconda3\\lib\\site-packages\\IPython\\kernel\\__main__.py:10: FutureWarning: by argument to sort_index is deprecated, pls use .sort_values(by=...)\n"
     ]
    }
   ],
   "source": [
    "sql = \"\"\"SELECT\n",
    "           t_Ort.ort_kurz,\n",
    "           t_Ort.ort_name,\n",
    "           t_Ort.\"Kat-Nr\",\n",
    "           t_Ort.ort_lit\n",
    "       FROM t_Ort\n",
    "       WHERE ((t_Ort.ort_lit) Like '%DS%')\"\"\".replace('\\n',' ')\n",
    "\n",
    "df = pd.read_sql(sql, con)\n",
    "df = df.sort_index(by=['ort_name'], ascending=[True])\n",
    "df.to_csv('../data/processed/1 Fundstellen - Fpl-Nr-Liste.csv', index = False, encoding='utf-8')"
   ]
  },
  {
   "cell_type": "code",
   "execution_count": 3,
   "metadata": {
    "collapsed": false
   },
   "outputs": [
    {
     "data": {
      "text/html": [
       "<div>\n",
       "<table border=\"1\" class=\"dataframe\">\n",
       "  <thead>\n",
       "    <tr style=\"text-align: right;\">\n",
       "      <th></th>\n",
       "      <th>ort_kurz</th>\n",
       "      <th>ort_name</th>\n",
       "      <th>Kat-Nr</th>\n",
       "      <th>ort_lit</th>\n",
       "    </tr>\n",
       "  </thead>\n",
       "  <tbody>\n",
       "    <tr>\n",
       "      <th>1</th>\n",
       "      <td>MBD</td>\n",
       "      <td>?</td>\n",
       "      <td>None</td>\n",
       "      <td>DS</td>\n",
       "    </tr>\n",
       "    <tr>\n",
       "      <th>74</th>\n",
       "      <td>BLN</td>\n",
       "      <td>Balongoi</td>\n",
       "      <td>214</td>\n",
       "      <td>DS</td>\n",
       "    </tr>\n",
       "    <tr>\n",
       "      <th>70</th>\n",
       "      <td>BAN</td>\n",
       "      <td>Bangui</td>\n",
       "      <td>215</td>\n",
       "      <td>DS</td>\n",
       "    </tr>\n",
       "    <tr>\n",
       "      <th>71</th>\n",
       "      <td>BAT</td>\n",
       "      <td>Batanga</td>\n",
       "      <td>209</td>\n",
       "      <td>DS</td>\n",
       "    </tr>\n",
       "    <tr>\n",
       "      <th>42</th>\n",
       "      <td>BIL</td>\n",
       "      <td>Bili</td>\n",
       "      <td>254</td>\n",
       "      <td>DS</td>\n",
       "    </tr>\n",
       "    <tr>\n",
       "      <th>78</th>\n",
       "      <td>BOB</td>\n",
       "      <td>Bobangi</td>\n",
       "      <td>189</td>\n",
       "      <td>DS</td>\n",
       "    </tr>\n",
       "    <tr>\n",
       "      <th>72</th>\n",
       "      <td>BBL</td>\n",
       "      <td>Bobulu</td>\n",
       "      <td>198</td>\n",
       "      <td>DS</td>\n",
       "    </tr>\n",
       "    <tr>\n",
       "      <th>35</th>\n",
       "      <td>BBS</td>\n",
       "      <td>Bobusa</td>\n",
       "      <td>239</td>\n",
       "      <td>DS</td>\n",
       "    </tr>\n",
       "    <tr>\n",
       "      <th>79</th>\n",
       "      <td>BOD</td>\n",
       "      <td>Boduna</td>\n",
       "      <td>225</td>\n",
       "      <td>DS</td>\n",
       "    </tr>\n",
       "    <tr>\n",
       "      <th>16</th>\n",
       "      <td>BNJ</td>\n",
       "      <td>Boenja</td>\n",
       "      <td>294</td>\n",
       "      <td>DS</td>\n",
       "    </tr>\n",
       "    <tr>\n",
       "      <th>2</th>\n",
       "      <td>BJJ</td>\n",
       "      <td>Bojenjo</td>\n",
       "      <td>292</td>\n",
       "      <td>DS</td>\n",
       "    </tr>\n",
       "    <tr>\n",
       "      <th>39</th>\n",
       "      <td>BOG</td>\n",
       "      <td>Bokonongo</td>\n",
       "      <td>250</td>\n",
       "      <td>DS</td>\n",
       "    </tr>\n",
       "    <tr>\n",
       "      <th>3</th>\n",
       "      <td>BKA</td>\n",
       "      <td>Bokuma</td>\n",
       "      <td>295</td>\n",
       "      <td>DS</td>\n",
       "    </tr>\n",
       "    <tr>\n",
       "      <th>73</th>\n",
       "      <td>BKW</td>\n",
       "      <td>Bokwango</td>\n",
       "      <td>190</td>\n",
       "      <td>DS</td>\n",
       "    </tr>\n",
       "    <tr>\n",
       "      <th>4</th>\n",
       "      <td>BLK</td>\n",
       "      <td>Boleko</td>\n",
       "      <td>285</td>\n",
       "      <td>DS</td>\n",
       "    </tr>\n",
       "    <tr>\n",
       "      <th>75</th>\n",
       "      <td>BLU</td>\n",
       "      <td>Bolumbu</td>\n",
       "      <td>194</td>\n",
       "      <td>DS</td>\n",
       "    </tr>\n",
       "    <tr>\n",
       "      <th>38</th>\n",
       "      <td>BMS</td>\n",
       "      <td>Bomasa</td>\n",
       "      <td>274</td>\n",
       "      <td>DS</td>\n",
       "    </tr>\n",
       "    <tr>\n",
       "      <th>76</th>\n",
       "      <td>BMK</td>\n",
       "      <td>Bomboko</td>\n",
       "      <td>210</td>\n",
       "      <td>DS</td>\n",
       "    </tr>\n",
       "    <tr>\n",
       "      <th>36</th>\n",
       "      <td>BDA</td>\n",
       "      <td>Bonda</td>\n",
       "      <td>272</td>\n",
       "      <td>DS</td>\n",
       "    </tr>\n",
       "    <tr>\n",
       "      <th>58</th>\n",
       "      <td>BOO</td>\n",
       "      <td>Bondo-Mission</td>\n",
       "      <td>245</td>\n",
       "      <td>DS</td>\n",
       "    </tr>\n",
       "    <tr>\n",
       "      <th>29</th>\n",
       "      <td>BNA</td>\n",
       "      <td>Bonga</td>\n",
       "      <td>279</td>\n",
       "      <td>DS</td>\n",
       "    </tr>\n",
       "    <tr>\n",
       "      <th>37</th>\n",
       "      <td>BGA</td>\n",
       "      <td>Bonga</td>\n",
       "      <td>238</td>\n",
       "      <td>DS</td>\n",
       "    </tr>\n",
       "    <tr>\n",
       "      <th>17</th>\n",
       "      <td>BGO</td>\n",
       "      <td>Bongo</td>\n",
       "      <td>293</td>\n",
       "      <td>DS</td>\n",
       "    </tr>\n",
       "    <tr>\n",
       "      <th>9</th>\n",
       "      <td>BTG</td>\n",
       "      <td>Botongo</td>\n",
       "      <td>302</td>\n",
       "      <td>DS</td>\n",
       "    </tr>\n",
       "    <tr>\n",
       "      <th>5</th>\n",
       "      <td>BTW</td>\n",
       "      <td>Botwale</td>\n",
       "      <td>286</td>\n",
       "      <td>DS</td>\n",
       "    </tr>\n",
       "    <tr>\n",
       "      <th>77</th>\n",
       "      <td>BMN</td>\n",
       "      <td>Bousoka-Mangombe</td>\n",
       "      <td>200</td>\n",
       "      <td>DS</td>\n",
       "    </tr>\n",
       "    <tr>\n",
       "      <th>7</th>\n",
       "      <td>BYN</td>\n",
       "      <td>Boyenge</td>\n",
       "      <td>284</td>\n",
       "      <td>DS</td>\n",
       "    </tr>\n",
       "    <tr>\n",
       "      <th>81</th>\n",
       "      <td>BYO</td>\n",
       "      <td>Boyoka</td>\n",
       "      <td>196</td>\n",
       "      <td>DS</td>\n",
       "    </tr>\n",
       "    <tr>\n",
       "      <th>80</th>\n",
       "      <td>BRU</td>\n",
       "      <td>Bruxelles-Nganda</td>\n",
       "      <td>186</td>\n",
       "      <td>DS</td>\n",
       "    </tr>\n",
       "    <tr>\n",
       "      <th>6</th>\n",
       "      <td>BWA</td>\n",
       "      <td>Bwanela</td>\n",
       "      <td>298</td>\n",
       "      <td>DS</td>\n",
       "    </tr>\n",
       "    <tr>\n",
       "      <th>...</th>\n",
       "      <td>...</td>\n",
       "      <td>...</td>\n",
       "      <td>...</td>\n",
       "      <td>...</td>\n",
       "    </tr>\n",
       "    <tr>\n",
       "      <th>25</th>\n",
       "      <td>NGL</td>\n",
       "      <td>Ngombe</td>\n",
       "      <td>283</td>\n",
       "      <td>DS</td>\n",
       "    </tr>\n",
       "    <tr>\n",
       "      <th>59</th>\n",
       "      <td>NGO</td>\n",
       "      <td>Ngombe</td>\n",
       "      <td>252</td>\n",
       "      <td>DS</td>\n",
       "    </tr>\n",
       "    <tr>\n",
       "      <th>32</th>\n",
       "      <td>NGW</td>\n",
       "      <td>Ngwangala</td>\n",
       "      <td>278</td>\n",
       "      <td>DS</td>\n",
       "    </tr>\n",
       "    <tr>\n",
       "      <th>106</th>\n",
       "      <td>NJU</td>\n",
       "      <td>Njuku-Misson</td>\n",
       "      <td>223</td>\n",
       "      <td>DS</td>\n",
       "    </tr>\n",
       "    <tr>\n",
       "      <th>103</th>\n",
       "      <td>NSL</td>\n",
       "      <td>Nsele-Nganda</td>\n",
       "      <td>187</td>\n",
       "      <td>DS</td>\n",
       "    </tr>\n",
       "    <tr>\n",
       "      <th>102</th>\n",
       "      <td>NZA</td>\n",
       "      <td>Nzambi</td>\n",
       "      <td>205</td>\n",
       "      <td>DS</td>\n",
       "    </tr>\n",
       "    <tr>\n",
       "      <th>65</th>\n",
       "      <td>OUE</td>\n",
       "      <td>Ouesso</td>\n",
       "      <td>265</td>\n",
       "      <td>DS</td>\n",
       "    </tr>\n",
       "    <tr>\n",
       "      <th>33</th>\n",
       "      <td>PDM</td>\n",
       "      <td>Pandama</td>\n",
       "      <td>276</td>\n",
       "      <td>DS</td>\n",
       "    </tr>\n",
       "    <tr>\n",
       "      <th>108</th>\n",
       "      <td>PAN</td>\n",
       "      <td>Pandu</td>\n",
       "      <td>221</td>\n",
       "      <td>DS</td>\n",
       "    </tr>\n",
       "    <tr>\n",
       "      <th>66</th>\n",
       "      <td>PIK</td>\n",
       "      <td>Pikunda</td>\n",
       "      <td>255</td>\n",
       "      <td>DS</td>\n",
       "    </tr>\n",
       "    <tr>\n",
       "      <th>123</th>\n",
       "      <td>PON</td>\n",
       "      <td>Ponga</td>\n",
       "      <td>280</td>\n",
       "      <td>DS</td>\n",
       "    </tr>\n",
       "    <tr>\n",
       "      <th>124</th>\n",
       "      <td>SAK</td>\n",
       "      <td>Sakao</td>\n",
       "      <td>273</td>\n",
       "      <td>DS</td>\n",
       "    </tr>\n",
       "    <tr>\n",
       "      <th>125</th>\n",
       "      <td>SGH 271</td>\n",
       "      <td>Sangha Fkm 271</td>\n",
       "      <td>None</td>\n",
       "      <td>DS</td>\n",
       "    </tr>\n",
       "    <tr>\n",
       "      <th>68</th>\n",
       "      <td>SGH 359</td>\n",
       "      <td>Sangha Fkm 359</td>\n",
       "      <td>257</td>\n",
       "      <td>DS</td>\n",
       "    </tr>\n",
       "    <tr>\n",
       "      <th>63</th>\n",
       "      <td>SGH 40</td>\n",
       "      <td>Sangha Fkm 40</td>\n",
       "      <td>240</td>\n",
       "      <td>DS</td>\n",
       "    </tr>\n",
       "    <tr>\n",
       "      <th>67</th>\n",
       "      <td>SGH 428</td>\n",
       "      <td>Sangha Fkm 428</td>\n",
       "      <td>263</td>\n",
       "      <td>DS</td>\n",
       "    </tr>\n",
       "    <tr>\n",
       "      <th>126</th>\n",
       "      <td>SGH 597</td>\n",
       "      <td>Sangha Fkm 597</td>\n",
       "      <td>274a</td>\n",
       "      <td>DS</td>\n",
       "    </tr>\n",
       "    <tr>\n",
       "      <th>62</th>\n",
       "      <td>SGH 72</td>\n",
       "      <td>Sangha Fkm 72</td>\n",
       "      <td>242</td>\n",
       "      <td>DS</td>\n",
       "    </tr>\n",
       "    <tr>\n",
       "      <th>57</th>\n",
       "      <td>SGH 85</td>\n",
       "      <td>Sangha Fkm 85</td>\n",
       "      <td>244</td>\n",
       "      <td>DS</td>\n",
       "    </tr>\n",
       "    <tr>\n",
       "      <th>110</th>\n",
       "      <td>SID</td>\n",
       "      <td>Sidi</td>\n",
       "      <td>228</td>\n",
       "      <td>DS</td>\n",
       "    </tr>\n",
       "    <tr>\n",
       "      <th>69</th>\n",
       "      <td>SSL</td>\n",
       "      <td>Sosolo</td>\n",
       "      <td>241</td>\n",
       "      <td>DS</td>\n",
       "    </tr>\n",
       "    <tr>\n",
       "      <th>113</th>\n",
       "      <td>SUN</td>\n",
       "      <td>Sungu</td>\n",
       "      <td>236</td>\n",
       "      <td>DS</td>\n",
       "    </tr>\n",
       "    <tr>\n",
       "      <th>121</th>\n",
       "      <td>UBA 236</td>\n",
       "      <td>Ubangi, Fkm 236</td>\n",
       "      <td>None</td>\n",
       "      <td>DS</td>\n",
       "    </tr>\n",
       "    <tr>\n",
       "      <th>109</th>\n",
       "      <td>UBA 415,5</td>\n",
       "      <td>Ubangi, Fkm 415,5</td>\n",
       "      <td>203</td>\n",
       "      <td>DS</td>\n",
       "    </tr>\n",
       "    <tr>\n",
       "      <th>120</th>\n",
       "      <td>UBA 597</td>\n",
       "      <td>Ubangi, Fkm 597</td>\n",
       "      <td>None</td>\n",
       "      <td>DS</td>\n",
       "    </tr>\n",
       "    <tr>\n",
       "      <th>34</th>\n",
       "      <td>YEN</td>\n",
       "      <td>Yengo</td>\n",
       "      <td>282</td>\n",
       "      <td>DS</td>\n",
       "    </tr>\n",
       "    <tr>\n",
       "      <th>26</th>\n",
       "      <td>YUM</td>\n",
       "      <td>Yumba</td>\n",
       "      <td>289</td>\n",
       "      <td>DS</td>\n",
       "    </tr>\n",
       "    <tr>\n",
       "      <th>104</th>\n",
       "      <td>ZAM</td>\n",
       "      <td>Zamba</td>\n",
       "      <td>191</td>\n",
       "      <td>DS</td>\n",
       "    </tr>\n",
       "    <tr>\n",
       "      <th>105</th>\n",
       "      <td>ZIN</td>\n",
       "      <td>Zinga</td>\n",
       "      <td>219</td>\n",
       "      <td>DS</td>\n",
       "    </tr>\n",
       "    <tr>\n",
       "      <th>122</th>\n",
       "      <td>None</td>\n",
       "      <td>Zongo</td>\n",
       "      <td>216</td>\n",
       "      <td>DS</td>\n",
       "    </tr>\n",
       "  </tbody>\n",
       "</table>\n",
       "<p>127 rows × 4 columns</p>\n",
       "</div>"
      ],
      "text/plain": [
       "      ort_kurz           ort_name Kat-Nr ort_lit\n",
       "1          MBD                  ?   None      DS\n",
       "74         BLN           Balongoi    214      DS\n",
       "70         BAN             Bangui    215      DS\n",
       "71         BAT            Batanga    209      DS\n",
       "42         BIL               Bili    254      DS\n",
       "78         BOB            Bobangi    189      DS\n",
       "72         BBL             Bobulu    198      DS\n",
       "35         BBS             Bobusa    239      DS\n",
       "79         BOD             Boduna    225      DS\n",
       "16         BNJ             Boenja    294      DS\n",
       "2          BJJ            Bojenjo    292      DS\n",
       "39         BOG          Bokonongo    250      DS\n",
       "3          BKA             Bokuma    295      DS\n",
       "73         BKW           Bokwango    190      DS\n",
       "4          BLK             Boleko    285      DS\n",
       "75         BLU            Bolumbu    194      DS\n",
       "38         BMS             Bomasa    274      DS\n",
       "76         BMK            Bomboko    210      DS\n",
       "36         BDA              Bonda    272      DS\n",
       "58         BOO      Bondo-Mission    245      DS\n",
       "29         BNA              Bonga    279      DS\n",
       "37         BGA              Bonga    238      DS\n",
       "17         BGO              Bongo    293      DS\n",
       "9          BTG            Botongo    302      DS\n",
       "5          BTW            Botwale    286      DS\n",
       "77         BMN   Bousoka-Mangombe    200      DS\n",
       "7          BYN            Boyenge    284      DS\n",
       "81         BYO             Boyoka    196      DS\n",
       "80         BRU   Bruxelles-Nganda    186      DS\n",
       "6          BWA            Bwanela    298      DS\n",
       "..         ...                ...    ...     ...\n",
       "25         NGL             Ngombe    283      DS\n",
       "59         NGO             Ngombe    252      DS\n",
       "32         NGW          Ngwangala    278      DS\n",
       "106        NJU       Njuku-Misson    223      DS\n",
       "103        NSL       Nsele-Nganda    187      DS\n",
       "102        NZA             Nzambi    205      DS\n",
       "65         OUE             Ouesso    265      DS\n",
       "33         PDM            Pandama    276      DS\n",
       "108        PAN              Pandu    221      DS\n",
       "66         PIK            Pikunda    255      DS\n",
       "123        PON              Ponga    280      DS\n",
       "124        SAK              Sakao    273      DS\n",
       "125    SGH 271     Sangha Fkm 271   None      DS\n",
       "68     SGH 359     Sangha Fkm 359    257      DS\n",
       "63      SGH 40      Sangha Fkm 40    240      DS\n",
       "67     SGH 428     Sangha Fkm 428    263      DS\n",
       "126    SGH 597     Sangha Fkm 597   274a      DS\n",
       "62      SGH 72      Sangha Fkm 72    242      DS\n",
       "57      SGH 85      Sangha Fkm 85    244      DS\n",
       "110        SID               Sidi    228      DS\n",
       "69         SSL             Sosolo    241      DS\n",
       "113        SUN              Sungu    236      DS\n",
       "121    UBA 236    Ubangi, Fkm 236   None      DS\n",
       "109  UBA 415,5  Ubangi, Fkm 415,5    203      DS\n",
       "120    UBA 597    Ubangi, Fkm 597   None      DS\n",
       "34         YEN              Yengo    282      DS\n",
       "26         YUM              Yumba    289      DS\n",
       "104        ZAM              Zamba    191      DS\n",
       "105        ZIN              Zinga    219      DS\n",
       "122       None              Zongo    216      DS\n",
       "\n",
       "[127 rows x 4 columns]"
      ]
     },
     "execution_count": 3,
     "metadata": {},
     "output_type": "execute_result"
    }
   ],
   "source": [
    "df"
   ]
  },
  {
   "cell_type": "markdown",
   "metadata": {},
   "source": [
    "## Grenzen Arbeitsgebiete:"
   ]
  },
  {
   "cell_type": "code",
   "execution_count": 6,
   "metadata": {
    "collapsed": false
   },
   "outputs": [
    {
     "name": "stderr",
     "output_type": "stream",
     "text": [
      "C:\\Users\\Dirk\\Anaconda3\\lib\\site-packages\\ipykernel\\__main__.py:10: FutureWarning: convert_objects is deprecated.  Use the data-type specific converters pd.to_datetime, pd.to_timedelta and pd.to_numeric.\n",
      "C:\\Users\\Dirk\\Anaconda3\\lib\\site-packages\\ipykernel\\__main__.py:11: FutureWarning: convert_objects is deprecated.  Use the data-type specific converters pd.to_datetime, pd.to_timedelta and pd.to_numeric.\n"
     ]
    },
    {
     "data": {
      "text/plain": [
       "X/Länge - Maximum     19.976358\n",
       "X/Länge - Minimum     15.536524\n",
       "Y/Breite - Maximum     5.133947\n",
       "Y/Breite - Minimum    -1.117121\n",
       "dtype: float64"
      ]
     },
     "execution_count": 6,
     "metadata": {},
     "output_type": "execute_result"
    }
   ],
   "source": [
    "sql = \"\"\"SELECT\n",
    "           t_Ort.ort_kurz,\n",
    "           t_Ort.\"Kat-Nr\",\n",
    "           t_Ort.y_lat,\n",
    "           t_Ort.x_long\n",
    "       FROM t_Ort\n",
    "       WHERE ((t_Ort.ort_lit) Like '%DS%')\"\"\".replace('\\n',' ')\n",
    "\n",
    "df = pd.read_sql(sql, con)\n",
    "df['x_long'] = df['x_long'].convert_objects(convert_numeric=True)\n",
    "df['y_lat'] = df['y_lat'].convert_objects(convert_numeric=True)\n",
    "\n",
    "pd.Series({'X/Länge - Minimum':np.min(df['x_long']),\n",
    "           'X/Länge - Maximum':np.max(df['x_long']),\n",
    "           'Y/Breite - Minimum':np.min(df['y_lat']),\n",
    "           'Y/Breite - Maximum':np.max(df['y_lat'])})"
   ]
  },
  {
   "cell_type": "code",
   "execution_count": 7,
   "metadata": {
    "collapsed": false
   },
   "outputs": [
    {
     "name": "stderr",
     "output_type": "stream",
     "text": [
      "C:\\Users\\Dirk\\Anaconda3\\lib\\site-packages\\ipykernel\\__main__.py:10: FutureWarning: convert_objects is deprecated.  Use the data-type specific converters pd.to_datetime, pd.to_timedelta and pd.to_numeric.\n",
      "C:\\Users\\Dirk\\Anaconda3\\lib\\site-packages\\ipykernel\\__main__.py:11: FutureWarning: convert_objects is deprecated.  Use the data-type specific converters pd.to_datetime, pd.to_timedelta and pd.to_numeric.\n"
     ]
    },
    {
     "data": {
      "text/plain": [
       "X/Länge - Maximum     24.086096\n",
       "X/Länge - Minimum     17.702895\n",
       "Y/Breite - Maximum     2.174369\n",
       "Y/Breite - Minimum    -2.031199\n",
       "dtype: float64"
      ]
     },
     "execution_count": 7,
     "metadata": {},
     "output_type": "execute_result"
    }
   ],
   "source": [
    "sql = \"\"\"SELECT\n",
    "           t_Ort.ort_kurz,\n",
    "           t_Ort.\"Kat-Nr\",\n",
    "           t_Ort.y_lat,\n",
    "           t_Ort.x_long\n",
    "       FROM t_Ort\n",
    "       WHERE ((t_Ort.ort_lit) Like '%Wotzka 1995%')\"\"\".replace('\\n',' ')\n",
    "\n",
    "df = pd.read_sql(sql, con)\n",
    "df['x_long'] = df['x_long'].convert_objects(convert_numeric=True)\n",
    "df['y_lat'] = df['y_lat'].convert_objects(convert_numeric=True)\n",
    "\n",
    "pd.Series({'X/Länge - Minimum':np.min(df['x_long']),\n",
    "           'X/Länge - Maximum':np.max(df['x_long']),\n",
    "           'Y/Breite - Minimum':np.min(df['y_lat']),\n",
    "           'Y/Breite - Maximum':np.max(df['y_lat'])})"
   ]
  },
  {
   "cell_type": "code",
   "execution_count": 8,
   "metadata": {
    "collapsed": false
   },
   "outputs": [
    {
     "data": {
      "text/plain": [
       "X/Länge - Maximum      24º 5' 9.945'' E\n",
       "X/Länge - Minimum     17º 42' 10.42'' E\n",
       "Y/Breite - Maximum     2º 10' 27.72'' N\n",
       "Y/Breite - Minimum     -2º 1' 52.31'' S\n",
       "dtype: object"
      ]
     },
     "execution_count": 8,
     "metadata": {},
     "output_type": "execute_result"
    }
   ],
   "source": [
    "pd.Series({'X/Länge - Minimum':decimalDegrees2DMS(np.min(df['x_long']), 'Longitude'),\n",
    "           'X/Länge - Maximum':decimalDegrees2DMS(np.max(df['x_long']), 'Longitude'),\n",
    "           'Y/Breite - Minimum':decimalDegrees2DMS(np.min(df['y_lat']), 'Latitude'),\n",
    "           'Y/Breite - Maximum':decimalDegrees2DMS(np.max(df['y_lat']), 'Latitude')})"
   ]
  },
  {
   "cell_type": "code",
   "execution_count": 24,
   "metadata": {
    "collapsed": false
   },
   "outputs": [
    {
     "name": "stderr",
     "output_type": "stream",
     "text": [
      "C:\\Users\\Dirk\\Anaconda3\\lib\\site-packages\\ipykernel\\__main__.py:10: FutureWarning: convert_objects is deprecated.  Use the data-type specific converters pd.to_datetime, pd.to_timedelta and pd.to_numeric.\n",
      "C:\\Users\\Dirk\\Anaconda3\\lib\\site-packages\\ipykernel\\__main__.py:11: FutureWarning: convert_objects is deprecated.  Use the data-type specific converters pd.to_datetime, pd.to_timedelta and pd.to_numeric.\n"
     ]
    },
    {
     "data": {
      "text/plain": [
       "X/Länge - Maximum     25.160636\n",
       "X/Länge - Minimum     22.672210\n",
       "Y/Breite - Maximum     2.093850\n",
       "Y/Breite - Minimum     0.649450\n",
       "dtype: float64"
      ]
     },
     "execution_count": 24,
     "metadata": {},
     "output_type": "execute_result"
    }
   ],
   "source": [
    "sql = \"\"\"SELECT\n",
    "           t_Ort.ort_kurz,\n",
    "           t_Ort.\"Kat-Nr\",\n",
    "           t_Ort.y_lat,\n",
    "           t_Ort.x_long\n",
    "       FROM t_Ort\n",
    "       WHERE ((t_Ort.ort_lit) Like '%LivingstoneSmith.2017%')\"\"\".replace('\\n',' ')\n",
    "\n",
    "df = pd.read_sql(sql, con)\n",
    "df['x_long'] = df['x_long'].convert_objects(convert_numeric=True)\n",
    "df['y_lat'] = df['y_lat'].convert_objects(convert_numeric=True)\n",
    "\n",
    "pd.Series({'X/Länge - Minimum':np.min(df['x_long']),\n",
    "           'X/Länge - Maximum':np.max(df['x_long']),\n",
    "           'Y/Breite - Minimum':np.min(df['y_lat']),\n",
    "           'Y/Breite - Maximum':np.max(df['y_lat'])})"
   ]
  },
  {
   "cell_type": "code",
   "execution_count": null,
   "metadata": {
    "collapsed": true
   },
   "outputs": [],
   "source": []
  }
 ],
 "metadata": {
  "anaconda-cloud": {},
  "kernelspec": {
   "display_name": "Python 3",
   "language": "python",
   "name": "python3"
  },
  "language_info": {
   "codemirror_mode": {
    "name": "ipython",
    "version": 3
   },
   "file_extension": ".py",
   "mimetype": "text/x-python",
   "name": "python",
   "nbconvert_exporter": "python",
   "pygments_lexer": "ipython3",
   "version": "3.6.1"
  }
 },
 "nbformat": 4,
 "nbformat_minor": 2
}
