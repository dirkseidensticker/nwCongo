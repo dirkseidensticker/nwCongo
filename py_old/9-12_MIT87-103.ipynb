{
 "cells": [
  {
   "cell_type": "markdown",
   "metadata": {},
   "source": [
    "# MIT 87/103"
   ]
  },
  {
   "cell_type": "code",
   "execution_count": 2,
   "metadata": {
    "collapsed": true
   },
   "outputs": [],
   "source": [
    "%matplotlib inline\n",
    "from IPython.display import display\n",
    "import pandas as pd\n",
    "import numpy as np\n",
    "import matplotlib.pyplot as plt\n",
    "import sqlite3\n",
    "\n",
    "con = sqlite3.connect(\"../data/CongoDB.sqlite\")"
   ]
  },
  {
   "cell_type": "markdown",
   "metadata": {},
   "source": [
    "## Funde"
   ]
  },
  {
   "cell_type": "code",
   "execution_count": 3,
   "metadata": {
    "collapsed": false
   },
   "outputs": [
    {
     "data": {
      "text/html": [
       "<div>\n",
       "<table border=\"1\" class=\"dataframe\">\n",
       "  <thead>\n",
       "    <tr style=\"text-align: right;\">\n",
       "      <th></th>\n",
       "      <th>objID</th>\n",
       "      <th>ort_kurz</th>\n",
       "      <th>bef_nr</th>\n",
       "      <th>Individuum</th>\n",
       "      <th>GefEinheit</th>\n",
       "      <th>Typ</th>\n",
       "      <th>Anzahl</th>\n",
       "      <th>Gewicht</th>\n",
       "      <th>Gr_Clist</th>\n",
       "      <th>Art</th>\n",
       "      <th>Fabric</th>\n",
       "    </tr>\n",
       "  </thead>\n",
       "  <tbody>\n",
       "    <tr>\n",
       "      <th>0</th>\n",
       "      <td>1226</td>\n",
       "      <td>MIT</td>\n",
       "      <td>87/103</td>\n",
       "      <td>2</td>\n",
       "      <td></td>\n",
       "      <td></td>\n",
       "      <td>1</td>\n",
       "      <td>28</td>\n",
       "      <td>70</td>\n",
       "      <td>K</td>\n",
       "      <td>1a</td>\n",
       "    </tr>\n",
       "    <tr>\n",
       "      <th>1</th>\n",
       "      <td>1246</td>\n",
       "      <td>MIT</td>\n",
       "      <td>87/103</td>\n",
       "      <td>1</td>\n",
       "      <td>1</td>\n",
       "      <td>Imbonga</td>\n",
       "      <td>1</td>\n",
       "      <td>93</td>\n",
       "      <td>120</td>\n",
       "      <td>K</td>\n",
       "      <td>1a</td>\n",
       "    </tr>\n",
       "    <tr>\n",
       "      <th>2</th>\n",
       "      <td>1247</td>\n",
       "      <td>MIT</td>\n",
       "      <td>87/103</td>\n",
       "      <td>7</td>\n",
       "      <td></td>\n",
       "      <td></td>\n",
       "      <td>1</td>\n",
       "      <td>47</td>\n",
       "      <td>70</td>\n",
       "      <td>K</td>\n",
       "      <td>1c</td>\n",
       "    </tr>\n",
       "    <tr>\n",
       "      <th>3</th>\n",
       "      <td>4421</td>\n",
       "      <td>MIT</td>\n",
       "      <td>87/103</td>\n",
       "      <td>9, 11-13</td>\n",
       "      <td></td>\n",
       "      <td></td>\n",
       "      <td>4</td>\n",
       "      <td>77</td>\n",
       "      <td></td>\n",
       "      <td>K</td>\n",
       "      <td>1a</td>\n",
       "    </tr>\n",
       "    <tr>\n",
       "      <th>4</th>\n",
       "      <td>4422</td>\n",
       "      <td>MIT</td>\n",
       "      <td>87/103</td>\n",
       "      <td>8</td>\n",
       "      <td></td>\n",
       "      <td></td>\n",
       "      <td>1</td>\n",
       "      <td>9</td>\n",
       "      <td></td>\n",
       "      <td>K</td>\n",
       "      <td>1c</td>\n",
       "    </tr>\n",
       "    <tr>\n",
       "      <th>5</th>\n",
       "      <td>4423</td>\n",
       "      <td>MIT</td>\n",
       "      <td>87/103</td>\n",
       "      <td>10</td>\n",
       "      <td></td>\n",
       "      <td></td>\n",
       "      <td>1</td>\n",
       "      <td>13</td>\n",
       "      <td></td>\n",
       "      <td>K</td>\n",
       "      <td>1e</td>\n",
       "    </tr>\n",
       "    <tr>\n",
       "      <th>6</th>\n",
       "      <td>4424</td>\n",
       "      <td>MIT</td>\n",
       "      <td>87/103</td>\n",
       "      <td>3-4</td>\n",
       "      <td></td>\n",
       "      <td></td>\n",
       "      <td>1</td>\n",
       "      <td>3</td>\n",
       "      <td></td>\n",
       "      <td>K</td>\n",
       "      <td>1a</td>\n",
       "    </tr>\n",
       "    <tr>\n",
       "      <th>7</th>\n",
       "      <td>4425</td>\n",
       "      <td>MIT</td>\n",
       "      <td>87/103</td>\n",
       "      <td>6</td>\n",
       "      <td></td>\n",
       "      <td></td>\n",
       "      <td>1</td>\n",
       "      <td>4</td>\n",
       "      <td></td>\n",
       "      <td>K</td>\n",
       "      <td>2b</td>\n",
       "    </tr>\n",
       "    <tr>\n",
       "      <th>8</th>\n",
       "      <td>4426</td>\n",
       "      <td>MIT</td>\n",
       "      <td>87/103</td>\n",
       "      <td>4</td>\n",
       "      <td></td>\n",
       "      <td></td>\n",
       "      <td>1</td>\n",
       "      <td>3</td>\n",
       "      <td></td>\n",
       "      <td>K</td>\n",
       "      <td>1c</td>\n",
       "    </tr>\n",
       "    <tr>\n",
       "      <th>9</th>\n",
       "      <td>6338</td>\n",
       "      <td>MIT</td>\n",
       "      <td>87/103</td>\n",
       "      <td>5</td>\n",
       "      <td></td>\n",
       "      <td>BBS (?)</td>\n",
       "      <td>1</td>\n",
       "      <td>26</td>\n",
       "      <td>70</td>\n",
       "      <td>K</td>\n",
       "      <td>9a</td>\n",
       "    </tr>\n",
       "  </tbody>\n",
       "</table>\n",
       "</div>"
      ],
      "text/plain": [
       "   objID ort_kurz  bef_nr Individuum GefEinheit      Typ  Anzahl  Gewicht  \\\n",
       "0   1226      MIT  87/103          2                           1       28   \n",
       "1   1246      MIT  87/103          1          1  Imbonga       1       93   \n",
       "2   1247      MIT  87/103          7                           1       47   \n",
       "3   4421      MIT  87/103   9, 11-13                           4       77   \n",
       "4   4422      MIT  87/103          8                           1        9   \n",
       "5   4423      MIT  87/103         10                           1       13   \n",
       "6   4424      MIT  87/103        3-4                           1        3   \n",
       "7   4425      MIT  87/103          6                           1        4   \n",
       "8   4426      MIT  87/103          4                           1        3   \n",
       "9   6338      MIT  87/103          5             BBS (?)       1       26   \n",
       "\n",
       "  Gr_Clist Art Fabric  \n",
       "0       70   K     1a  \n",
       "1      120   K     1a  \n",
       "2       70   K     1c  \n",
       "3            K     1a  \n",
       "4            K     1c  \n",
       "5            K     1e  \n",
       "6            K     1a  \n",
       "7            K     2b  \n",
       "8            K     1c  \n",
       "9       70   K     9a  "
      ]
     },
     "execution_count": 3,
     "metadata": {},
     "output_type": "execute_result"
    }
   ],
   "source": [
    "sql = \"\"\"SELECT\n",
    "           t_Obj.ObjID, \n",
    "           t_Ort.ort_kurz,\n",
    "           t_Komplex.bef_nr, \n",
    "           t_Obj.Individuum, \n",
    "           t_Obj.GefEinheit, \n",
    "           t_Obj.Typ, \n",
    "           t_Obj.Anzahl,\n",
    "           t_Obj.Gewicht,\n",
    "           t_Obj.Gr_Clist, \n",
    "           t_Obj.Art,\n",
    "           t_Obj.Fabric \n",
    "       FROM (t_Ort INNER JOIN t_Komplex ON t_Ort.ortID = t_Komplex.ortID)\n",
    "           INNER JOIN t_Obj ON t_Komplex.komplexID = t_Obj.komplexID\n",
    "       WHERE (((t_Ort.ort_kurz) Like '%MIT%')\n",
    "           AND ((t_Komplex.bef_nr) Like '%87/103%'))\"\"\".replace('\\n',' ')\n",
    "\n",
    "df = pd.read_sql(sql, con)\n",
    "df"
   ]
  },
  {
   "cell_type": "code",
   "execution_count": 4,
   "metadata": {
    "collapsed": false
   },
   "outputs": [
    {
     "data": {
      "text/html": [
       "<div>\n",
       "<table border=\"1\" class=\"dataframe\">\n",
       "  <thead>\n",
       "    <tr style=\"text-align: right;\">\n",
       "      <th></th>\n",
       "      <th>Fundkategorie</th>\n",
       "      <th>Anzahl</th>\n",
       "      <th>\\%</th>\n",
       "      <th>Gewicht (kg)</th>\n",
       "      <th>\\%</th>\n",
       "    </tr>\n",
       "  </thead>\n",
       "  <tbody>\n",
       "    <tr>\n",
       "      <th>0</th>\n",
       "      <td>Keramik</td>\n",
       "      <td>13</td>\n",
       "      <td>100</td>\n",
       "      <td>0.3</td>\n",
       "      <td>100</td>\n",
       "    </tr>\n",
       "  </tbody>\n",
       "</table>\n",
       "</div>"
      ],
      "text/plain": [
       "  Fundkategorie  Anzahl   \\%  Gewicht (kg)   \\%\n",
       "0       Keramik      13  100           0.3  100"
      ]
     },
     "execution_count": 4,
     "metadata": {},
     "output_type": "execute_result"
    }
   ],
   "source": [
    "df_pivot1 = df.pivot_table(values = 'Gewicht', index = 'Art', aggfunc = sum, fill_value = 0)\n",
    "df_pivot1 = pd.DataFrame(df_pivot1)\n",
    "# df_pivot1 = df_pivot1.reset_index()\n",
    "df_pivot1.rename(index={'HL': 'gebrannter Lehm', 'K': 'Keramik'}, inplace=True)\n",
    "df_pivot1['\\%'] = (df_pivot1['Gewicht']/df_pivot1['Gewicht'].sum()*100).round(1)\n",
    "df_pivot1['Gewicht'] = (df_pivot1['Gewicht'] / 1000).round(2)\n",
    "df_pivot1.rename(columns={'Gewicht': 'Gewicht (kg)'}, inplace=True)\n",
    "\n",
    "df_pivot2 = df.pivot_table(values = 'Anzahl', index = 'Art', aggfunc = sum, fill_value = 0)\n",
    "df_pivot2 = pd.DataFrame(df_pivot2)\n",
    "df_pivot2.rename(index={'HL': 'gebrannter Lehm', 'K': 'Keramik'}, inplace=True)\n",
    "df_pivot2['\\%'] = (df_pivot2['Anzahl']/df_pivot2['Anzahl'].sum()*100).round(1)\n",
    "\n",
    "# Tabellen vereinen:\n",
    "df_concat = pd.concat([df_pivot2, df_pivot1], axis = 1)\n",
    "df_concat = df_concat.reset_index()\n",
    "df_concat.rename(columns={'Art': 'Fundkategorie'}, inplace=True)\n",
    "# df_concat.to_latex('../output/tabs/9-08_PIK871-1_Funde.tex', index = False, escape = False)\n",
    "df_concat"
   ]
  },
  {
   "cell_type": "code",
   "execution_count": 3,
   "metadata": {
    "collapsed": false
   },
   "outputs": [
    {
     "data": {
      "text/plain": [
       "303"
      ]
     },
     "execution_count": 3,
     "metadata": {},
     "output_type": "execute_result"
    }
   ],
   "source": [
    "df['Gewicht'].sum()"
   ]
  },
  {
   "cell_type": "code",
   "execution_count": 4,
   "metadata": {
    "collapsed": false
   },
   "outputs": [
    {
     "data": {
      "text/plain": [
       "Fabric\n",
       "1a    4\n",
       "1c    3\n",
       "1e    1\n",
       "2b    1\n",
       "9a    1\n",
       "Name: objID, dtype: int64"
      ]
     },
     "execution_count": 4,
     "metadata": {},
     "output_type": "execute_result"
    }
   ],
   "source": [
    "df.pivot_table(values = 'objID', index = 'Fabric', aggfunc = len)"
   ]
  },
  {
   "cell_type": "markdown",
   "metadata": {},
   "source": [
    "### Sonst. Funde aus Mitula"
   ]
  },
  {
   "cell_type": "code",
   "execution_count": 9,
   "metadata": {
    "collapsed": false,
    "scrolled": false
   },
   "outputs": [
    {
     "data": {
      "text/html": [
       "<div>\n",
       "<table border=\"1\" class=\"dataframe\">\n",
       "  <thead>\n",
       "    <tr style=\"text-align: right;\">\n",
       "      <th>Typ</th>\n",
       "      <th></th>\n",
       "      <th>BBS (?)</th>\n",
       "      <th>Bondongo (?)</th>\n",
       "      <th>Botendo (?)</th>\n",
       "      <th>Imbonga</th>\n",
       "      <th>Imbonga (?)</th>\n",
       "      <th>EPE (?)</th>\n",
       "      <th>PIKMUN</th>\n",
       "      <th>PIKMUN (?)</th>\n",
       "      <th>All</th>\n",
       "    </tr>\n",
       "    <tr>\n",
       "      <th>bef_nr</th>\n",
       "      <th></th>\n",
       "      <th></th>\n",
       "      <th></th>\n",
       "      <th></th>\n",
       "      <th></th>\n",
       "      <th></th>\n",
       "      <th></th>\n",
       "      <th></th>\n",
       "      <th></th>\n",
       "      <th></th>\n",
       "    </tr>\n",
       "  </thead>\n",
       "  <tbody>\n",
       "    <tr>\n",
       "      <th>87/101</th>\n",
       "      <td>395</td>\n",
       "      <td>NaN</td>\n",
       "      <td>NaN</td>\n",
       "      <td>NaN</td>\n",
       "      <td>24</td>\n",
       "      <td>62</td>\n",
       "      <td>NaN</td>\n",
       "      <td>NaN</td>\n",
       "      <td>NaN</td>\n",
       "      <td>481</td>\n",
       "    </tr>\n",
       "    <tr>\n",
       "      <th>87/102</th>\n",
       "      <td>984</td>\n",
       "      <td>16</td>\n",
       "      <td>53</td>\n",
       "      <td>195</td>\n",
       "      <td>NaN</td>\n",
       "      <td>NaN</td>\n",
       "      <td>14</td>\n",
       "      <td>120</td>\n",
       "      <td>44</td>\n",
       "      <td>1708</td>\n",
       "    </tr>\n",
       "    <tr>\n",
       "      <th>All</th>\n",
       "      <td>1379</td>\n",
       "      <td>16</td>\n",
       "      <td>53</td>\n",
       "      <td>195</td>\n",
       "      <td>24</td>\n",
       "      <td>62</td>\n",
       "      <td>14</td>\n",
       "      <td>120</td>\n",
       "      <td>44</td>\n",
       "      <td>2189</td>\n",
       "    </tr>\n",
       "  </tbody>\n",
       "</table>\n",
       "</div>"
      ],
      "text/plain": [
       "Typ           BBS (?)  Bondongo (?)  Botendo (?)  Imbonga  Imbonga (?)  \\\n",
       "bef_nr                                                                   \n",
       "87/101   395      NaN           NaN          NaN       24           62   \n",
       "87/102   984       16            53          195      NaN          NaN   \n",
       "All     1379       16            53          195       24           62   \n",
       "\n",
       "Typ     EPE (?)  PIKMUN  PIKMUN (?)   All  \n",
       "bef_nr                                     \n",
       "87/101      NaN     NaN         NaN   481  \n",
       "87/102       14     120          44  1708  \n",
       "All          14     120          44  2189  "
      ]
     },
     "execution_count": 9,
     "metadata": {},
     "output_type": "execute_result"
    }
   ],
   "source": [
    "sql = \"\"\"SELECT\n",
    "           t_Obj.ObjID, \n",
    "           t_ort.ort_name,\n",
    "           t_Komplex.bef_nr, \n",
    "           t_Obj.Typ, \n",
    "           t_Obj.Gewicht,\n",
    "           t_Obj.Gr_Clist, \n",
    "           t_Obj.Art,\n",
    "           t_Obj.Fabric \n",
    "       FROM (t_Ort INNER JOIN t_Komplex ON t_Ort.ortID = t_Komplex.ortID)\n",
    "           INNER JOIN t_Obj ON t_Komplex.komplexID = t_Obj.komplexID\n",
    "       WHERE (((t_Ort.ort_kurz) Like '%MIT%')\n",
    "           AND ((t_Komplex.bef_nr) Not Like '%87/103%'))\"\"\".replace('\\n',' ')\n",
    "\n",
    "df = pd.read_sql(sql, con)\n",
    "df['Gewicht'] = df['Gewicht'].convert_objects(convert_numeric=True)\n",
    "# die Fragezeichen bei Typ einfach löschen\n",
    "# df['Typ'] = df['Typ'].map(lambda x: x.rstrip(' (?)'))\n",
    "\n",
    "df.pivot_table(values = 'Gewicht', index = 'bef_nr', columns = 'Typ', aggfunc = sum, margins = True)"
   ]
  },
  {
   "cell_type": "code",
   "execution_count": 10,
   "metadata": {
    "collapsed": false
   },
   "outputs": [
    {
     "data": {
      "text/plain": [
       "<matplotlib.text.Text at 0x8be94a8>"
      ]
     },
     "execution_count": 10,
     "metadata": {},
     "output_type": "execute_result"
    },
    {
     "data": {
      "image/png": "[encoded data removed]",
      "text/plain": [
       "<matplotlib.figure.Figure at 0x8544588>"
      ]
     },
     "metadata": {},
     "output_type": "display_data"
    }
   ],
   "source": [
    "df = df.replace('',np.nan, regex=True)\n",
    "df_pivot = df.pivot_table(values = 'objID', index = 'Typ', aggfunc = len)\n",
    "df_pivot.plot(kind='pie', autopct='%.0f %%', cmap = 'Paired', figsize=(5, 5))\n",
    "plt.ylabel('')"
   ]
  },
  {
   "cell_type": "code",
   "execution_count": null,
   "metadata": {
    "collapsed": true
   },
   "outputs": [],
   "source": []
  }
 ],
 "metadata": {
  "kernelspec": {
   "display_name": "Python 3",
   "language": "python",
   "name": "python3"
  },
  "language_info": {
   "codemirror_mode": {
    "name": "ipython",
    "version": 3
   },
   "file_extension": ".py",
   "mimetype": "text/x-python",
   "name": "python",
   "nbconvert_exporter": "python",
   "pygments_lexer": "ipython3",
   "version": "3.4.3"
  }
 },
 "nbformat": 4,
 "nbformat_minor": 0
}
