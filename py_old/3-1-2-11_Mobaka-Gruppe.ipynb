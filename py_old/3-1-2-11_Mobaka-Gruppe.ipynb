{
 "cells": [
  {
   "cell_type": "markdown",
   "metadata": {},
   "source": [
    "# Mobaka-Gruppe"
   ]
  },
  {
   "cell_type": "markdown",
   "metadata": {},
   "source": [
    "* [Funde](#Funde)\n",
    "\t* [Scherbentypen](#Scherbentypen)\n",
    "* [Technologische Merkmale (fabrics)](#Technologische-Merkmale-(fabrics))\n",
    "\t* [Brennfarbe](#Brennfarbe)\n",
    "\t* [Oberfläche der Scherben](#Oberfläche-der-Scherben)\n",
    "\t* [Wandungsdicke](#Wandungsdicke)\n",
    "* Formen\n",
    "\t* [Gefäßformen](#Gefäßformen)\n",
    "\t* [Proportionen](#Proportionen)\n",
    "\t* [Bauchform](#Bauchform)\n",
    "\t* [Mündungs- und Randformen](#Mündungs--und-Randformen)\n",
    "\t* [Bodenformen](#Bodenformen)\n",
    "* [Verzierungen](#Verzierungselemente)\n",
    "* [Verbreitung](#Verbreitung)\n",
    "* [Appendix](#Appendix)"
   ]
  },
  {
   "cell_type": "code",
   "execution_count": 1,
   "metadata": {
    "collapsed": true
   },
   "outputs": [],
   "source": [
    "%matplotlib inline\n",
    "from IPython.display import display\n",
    "import pandas as pd\n",
    "import numpy as np\n",
    "import matplotlib.pyplot as plt\n",
    "from mpl_toolkits.axes_grid1 import make_axes_locatable\n",
    "import sqlite3\n",
    "\n",
    "import sys, os\n",
    "sys.path.append(\"/Python\")\n",
    "from myfunctions import *\n",
    "from parula import *\n",
    "\n",
    "style = 'MKA'\n",
    "\n",
    "con = sqlite3.connect(\"../data/CongoDB.sqlite\")"
   ]
  },
  {
   "cell_type": "markdown",
   "metadata": {},
   "source": [
    "## Funde"
   ]
  },
  {
   "cell_type": "code",
   "execution_count": 2,
   "metadata": {
    "collapsed": true
   },
   "outputs": [],
   "source": [
    "sql = \"\"\"SELECT\n",
    "           t_Obj.objID,\n",
    "           t_Ort.ort_kurz,\n",
    "           't_Ort'.'ort_name' || ' (Fpl. ' || 't_ort'.'Kat-Nr' || ')' AS Ort,\n",
    "           t_Komplex.bef_nr,\n",
    "           t_Ort.ort_fluss,\n",
    "           t_Obj.GefEinheit AS GE,\n",
    "           t_Obj.Scherbe,\n",
    "           t_Obj.Gewicht,\n",
    "           t_Obj.Anzahl,\n",
    "           t_Obj.Typ\n",
    "       FROM (t_Ort INNER JOIN t_Komplex ON t_Ort.ortID = t_Komplex.ortID)\n",
    "           INNER JOIN t_Obj ON t_Komplex.komplexID = t_Obj.komplexID\n",
    "       WHERE (((t_Ort.ort_lit)='DS')\n",
    "           AND ((t_Obj.Typ) Like '%MKA%')\n",
    "           AND ((t_Obj.Art) = 'K')\n",
    "           AND ((t_Obj.Anzahl) != '')\n",
    "           AND ((t_Obj.Gewicht) != ''))\"\"\".replace('\\n',' ')\n",
    "# Anzahl != '' damit fotografierte Gefäße nicht mit dabei ist\n",
    "# Gewicht != '' da ObjID 2115 in BOO 87/101 nicht gewogen wurde\n",
    "\n",
    "df = pd.read_sql(sql, con)\n",
    "# display(df.head())"
   ]
  },
  {
   "cell_type": "code",
   "execution_count": 3,
   "metadata": {},
   "outputs": [
    {
     "data": {
      "text/html": [
       "<div>\n",
       "<table border=\"1\" class=\"dataframe\">\n",
       "  <thead>\n",
       "    <tr style=\"text-align: right;\">\n",
       "      <th></th>\n",
       "      <th>0</th>\n",
       "      <th>Prozent</th>\n",
       "    </tr>\n",
       "  </thead>\n",
       "  <tbody>\n",
       "    <tr>\n",
       "      <th>Ausgezählt</th>\n",
       "      <td>23</td>\n",
       "      <td>22.54902</td>\n",
       "    </tr>\n",
       "    <tr>\n",
       "      <th>GE</th>\n",
       "      <td>79</td>\n",
       "      <td>77.45098</td>\n",
       "    </tr>\n",
       "  </tbody>\n",
       "</table>\n",
       "</div>"
      ],
      "text/plain": [
       "             0   Prozent\n",
       "Ausgezählt  23  22.54902\n",
       "GE          79  77.45098"
      ]
     },
     "execution_count": 3,
     "metadata": {},
     "output_type": "execute_result"
    }
   ],
   "source": [
    "a = pd.Series({'GE':np.sum(df['Anzahl'].loc[df['Anzahl'] == 1]),\n",
    "               'Ausgezählt':np.sum(df['Anzahl'].loc[df['Anzahl'] != 1])})\n",
    "a = pd.DataFrame(a)\n",
    "a['Prozent'] = a[0]/a[0].sum()*100\n",
    "a"
   ]
  },
  {
   "cell_type": "code",
   "execution_count": 4,
   "metadata": {
    "collapsed": true
   },
   "outputs": [],
   "source": [
    "# nur einzeln aufgenommene GE\n",
    "df_ge = df.loc[df['Anzahl'] == 1]"
   ]
  },
  {
   "cell_type": "code",
   "execution_count": 5,
   "metadata": {},
   "outputs": [
    {
     "data": {
      "text/html": [
       "<div>\n",
       "<table border=\"1\" class=\"dataframe\">\n",
       "  <thead>\n",
       "    <tr style=\"text-align: right;\">\n",
       "      <th></th>\n",
       "      <th>0</th>\n",
       "      <th>Prozent</th>\n",
       "    </tr>\n",
       "  </thead>\n",
       "  <tbody>\n",
       "    <tr>\n",
       "      <th>fraglich</th>\n",
       "      <td>24</td>\n",
       "      <td>30.379747</td>\n",
       "    </tr>\n",
       "    <tr>\n",
       "      <th>sicher</th>\n",
       "      <td>55</td>\n",
       "      <td>69.620253</td>\n",
       "    </tr>\n",
       "  </tbody>\n",
       "</table>\n",
       "</div>"
      ],
      "text/plain": [
       "           0    Prozent\n",
       "fraglich  24  30.379747\n",
       "sicher    55  69.620253"
      ]
     },
     "execution_count": 5,
     "metadata": {},
     "output_type": "execute_result"
    }
   ],
   "source": [
    "a = pd.Series({'sicher':np.sum(df_ge['Anzahl'].loc[df_ge['Typ'] == 'MKA']),\n",
    "               'fraglich':np.sum(df_ge['Anzahl'].loc[df_ge['Typ'].str.contains(' ')])})\n",
    "a = pd.DataFrame(a)\n",
    "a['Prozent'] = a[0]/a[0].sum()*100\n",
    "a"
   ]
  },
  {
   "cell_type": "code",
   "execution_count": 6,
   "metadata": {},
   "outputs": [
    {
     "data": {
      "text/plain": [
       "Typ\n",
       "BOT/MKA (?)         2.0\n",
       "BOT/MKA/MAT (?)     2.0\n",
       "EPE/MKA (?)         2.0\n",
       "MKA                59.0\n",
       "MKA (?)            16.0\n",
       "MKA/EPE (?)         3.0\n",
       "PKM/MKA (?)         1.0\n",
       "All                85.0\n",
       "Name: objID, dtype: float64"
      ]
     },
     "execution_count": 6,
     "metadata": {},
     "output_type": "execute_result"
    }
   ],
   "source": [
    "df.pivot_table(values = 'objID', index = 'Typ', aggfunc = len, margins = True)"
   ]
  },
  {
   "cell_type": "code",
   "execution_count": 7,
   "metadata": {
    "scrolled": false
   },
   "outputs": [
    {
     "data": {
      "text/html": [
       "<div>\n",
       "<table border=\"1\" class=\"dataframe\">\n",
       "  <thead>\n",
       "    <tr style=\"text-align: right;\">\n",
       "      <th></th>\n",
       "      <th></th>\n",
       "      <th>Anzahl</th>\n",
       "    </tr>\n",
       "    <tr>\n",
       "      <th>ort_fluss</th>\n",
       "      <th>Ort</th>\n",
       "      <th></th>\n",
       "    </tr>\n",
       "  </thead>\n",
       "  <tbody>\n",
       "    <tr>\n",
       "      <th rowspan=\"13\" valign=\"top\">Likwala-Esobe</th>\n",
       "      <th>Bojenjo (Fpl. 292)</th>\n",
       "      <td>11</td>\n",
       "    </tr>\n",
       "    <tr>\n",
       "      <th>Bokuma (Fpl. 295)</th>\n",
       "      <td>2</td>\n",
       "    </tr>\n",
       "    <tr>\n",
       "      <th>Boleko (Fpl. 285)</th>\n",
       "      <td>12</td>\n",
       "    </tr>\n",
       "    <tr>\n",
       "      <th>Botwale (Fpl. 286)</th>\n",
       "      <td>14</td>\n",
       "    </tr>\n",
       "    <tr>\n",
       "      <th>Bwanela (Fpl. 298)</th>\n",
       "      <td>1</td>\n",
       "    </tr>\n",
       "    <tr>\n",
       "      <th>Ebambe (Fpl. 297)</th>\n",
       "      <td>2</td>\n",
       "    </tr>\n",
       "    <tr>\n",
       "      <th>Ilebo (Fpl. 287)</th>\n",
       "      <td>1</td>\n",
       "    </tr>\n",
       "    <tr>\n",
       "      <th>Itanga (Fpl. 305)</th>\n",
       "      <td>3</td>\n",
       "    </tr>\n",
       "    <tr>\n",
       "      <th>Jeke (Fpl. 303)</th>\n",
       "      <td>3</td>\n",
       "    </tr>\n",
       "    <tr>\n",
       "      <th>Lokolélé (Fpl. 290)</th>\n",
       "      <td>1</td>\n",
       "    </tr>\n",
       "    <tr>\n",
       "      <th>Misongo (Fpl. 288)</th>\n",
       "      <td>12</td>\n",
       "    </tr>\n",
       "    <tr>\n",
       "      <th>Ngombe (Fpl. 283)</th>\n",
       "      <td>2</td>\n",
       "    </tr>\n",
       "    <tr>\n",
       "      <th>Yumba (Fpl. 289)</th>\n",
       "      <td>26</td>\n",
       "    </tr>\n",
       "    <tr>\n",
       "      <th rowspan=\"7\" valign=\"top\">Sangha</th>\n",
       "      <th>Bondo-Mission (Fpl. 245)</th>\n",
       "      <td>1</td>\n",
       "    </tr>\n",
       "    <tr>\n",
       "      <th>Ikelemba (Fpl. 260)</th>\n",
       "      <td>1</td>\n",
       "    </tr>\n",
       "    <tr>\n",
       "      <th>Loboko (Fpl. 248)</th>\n",
       "      <td>1</td>\n",
       "    </tr>\n",
       "    <tr>\n",
       "      <th>Matoto (Fpl. 264)</th>\n",
       "      <td>1</td>\n",
       "    </tr>\n",
       "    <tr>\n",
       "      <th>Mobaka (Fpl. 246)</th>\n",
       "      <td>3</td>\n",
       "    </tr>\n",
       "    <tr>\n",
       "      <th>Monjolomba (Fpl. 243)</th>\n",
       "      <td>1</td>\n",
       "    </tr>\n",
       "    <tr>\n",
       "      <th>Sosolo (Fpl. 241)</th>\n",
       "      <td>2</td>\n",
       "    </tr>\n",
       "    <tr>\n",
       "      <th>Zaire/Kongo</th>\n",
       "      <th>Gombe (Fpl. 237)</th>\n",
       "      <td>2</td>\n",
       "    </tr>\n",
       "  </tbody>\n",
       "</table>\n",
       "</div>"
      ],
      "text/plain": [
       "                                        Anzahl\n",
       "ort_fluss     Ort                             \n",
       "Likwala-Esobe Bojenjo (Fpl. 292)            11\n",
       "              Bokuma (Fpl. 295)              2\n",
       "              Boleko (Fpl. 285)             12\n",
       "              Botwale (Fpl. 286)            14\n",
       "              Bwanela (Fpl. 298)             1\n",
       "              Ebambe (Fpl. 297)              2\n",
       "              Ilebo (Fpl. 287)               1\n",
       "              Itanga (Fpl. 305)              3\n",
       "              Jeke (Fpl. 303)                3\n",
       "              Lokolélé (Fpl. 290)            1\n",
       "              Misongo (Fpl. 288)            12\n",
       "              Ngombe (Fpl. 283)              2\n",
       "              Yumba (Fpl. 289)              26\n",
       "Sangha        Bondo-Mission (Fpl. 245)       1\n",
       "              Ikelemba (Fpl. 260)            1\n",
       "              Loboko (Fpl. 248)              1\n",
       "              Matoto (Fpl. 264)              1\n",
       "              Mobaka (Fpl. 246)              3\n",
       "              Monjolomba (Fpl. 243)          1\n",
       "              Sosolo (Fpl. 241)              2\n",
       "Zaire/Kongo   Gombe (Fpl. 237)               2"
      ]
     },
     "execution_count": 7,
     "metadata": {},
     "output_type": "execute_result"
    }
   ],
   "source": [
    "df_pivot = df.pivot_table(values = 'Anzahl', index = ['ort_fluss', 'Ort'], aggfunc = np.sum, fill_value = '')\n",
    "df_pivot = pd.DataFrame(df_pivot)\n",
    "df_pivot"
   ]
  },
  {
   "cell_type": "code",
   "execution_count": 8,
   "metadata": {
    "collapsed": true
   },
   "outputs": [],
   "source": [
    "df_pivot = df.pivot_table(values = ['Anzahl'], index = ['ort_fluss', 'Ort', 'bef_nr'], aggfunc = np.sum)\n",
    "df_pivot = pd.DataFrame(df_pivot)"
   ]
  },
  {
   "cell_type": "markdown",
   "metadata": {},
   "source": [
    "Anzahl Fundorte:"
   ]
  },
  {
   "cell_type": "code",
   "execution_count": 9,
   "metadata": {},
   "outputs": [
    {
     "data": {
      "text/plain": [
       "25"
      ]
     },
     "execution_count": 9,
     "metadata": {},
     "output_type": "execute_result"
    }
   ],
   "source": [
    "len(df_pivot.index)"
   ]
  },
  {
   "cell_type": "markdown",
   "metadata": {},
   "source": [
    "Anzahl Stücke:"
   ]
  },
  {
   "cell_type": "code",
   "execution_count": 10,
   "metadata": {},
   "outputs": [
    {
     "data": {
      "text/plain": [
       "102"
      ]
     },
     "execution_count": 10,
     "metadata": {},
     "output_type": "execute_result"
    }
   ],
   "source": [
    "np.sum(df_pivot['Anzahl'])"
   ]
  },
  {
   "cell_type": "markdown",
   "metadata": {},
   "source": [
    "Gewicht insgesamt in kg:"
   ]
  },
  {
   "cell_type": "code",
   "execution_count": 11,
   "metadata": {},
   "outputs": [
    {
     "data": {
      "text/plain": [
       "12.78"
      ]
     },
     "execution_count": 11,
     "metadata": {},
     "output_type": "execute_result"
    }
   ],
   "source": [
    "np.sum(df['Gewicht']) / 1000"
   ]
  },
  {
   "cell_type": "markdown",
   "metadata": {},
   "source": [
    "### Scherbentypen"
   ]
  },
  {
   "cell_type": "code",
   "execution_count": 12,
   "metadata": {},
   "outputs": [
    {
     "data": {
      "text/html": [
       "<div>\n",
       "<table border=\"1\" class=\"dataframe\">\n",
       "  <thead>\n",
       "    <tr style=\"text-align: right;\">\n",
       "      <th></th>\n",
       "      <th>Anzahl</th>\n",
       "      <th>Prozent</th>\n",
       "    </tr>\n",
       "  </thead>\n",
       "  <tbody>\n",
       "    <tr>\n",
       "      <th>G</th>\n",
       "      <td>8</td>\n",
       "      <td>8.333333</td>\n",
       "    </tr>\n",
       "    <tr>\n",
       "      <th>R</th>\n",
       "      <td>76</td>\n",
       "      <td>79.166667</td>\n",
       "    </tr>\n",
       "    <tr>\n",
       "      <th>W</th>\n",
       "      <td>12</td>\n",
       "      <td>12.500000</td>\n",
       "    </tr>\n",
       "    <tr>\n",
       "      <th>B</th>\n",
       "      <td>0</td>\n",
       "      <td>0.000000</td>\n",
       "    </tr>\n",
       "  </tbody>\n",
       "</table>\n",
       "</div>"
      ],
      "text/plain": [
       "   Anzahl    Prozent\n",
       "G       8   8.333333\n",
       "R      76  79.166667\n",
       "W      12  12.500000\n",
       "B       0   0.000000"
      ]
     },
     "execution_count": 12,
     "metadata": {},
     "output_type": "execute_result"
    }
   ],
   "source": [
    "df_pivot = df.pivot_table(values = 'Anzahl', index = 'Scherbe', aggfunc = np.sum)\n",
    "df_pivot['B'] = 0.\n",
    "custom_dict = {'G':0,'R':1,'W':3,'B':4}\n",
    "df_pivot = pd.DataFrame(df_pivot, index=sorted(custom_dict, key=custom_dict.get))\n",
    "df_pivot['Prozent'] = df_pivot['Anzahl']/df_pivot['Anzahl'].sum()*100\n",
    "df_pivot"
   ]
  },
  {
   "cell_type": "code",
   "execution_count": 13,
   "metadata": {},
   "outputs": [
    {
     "data": {
      "image/png": "[encoded data removed]",
      "text/plain": [
       "<matplotlib.figure.Figure at 0xbbed838080>"
      ]
     },
     "metadata": {},
     "output_type": "display_data"
    }
   ],
   "source": [
    "df_pivot.plot(y = 'Prozent', kind = 'bar', legend = None, color = 'grey')\n",
    "plt.xticks(rotation=0)\n",
    "plt.xlabel('Scherbentypen')\n",
    "plt.ylabel('Anteil [%]')\n",
    "plt.show()"
   ]
  },
  {
   "cell_type": "markdown",
   "metadata": {},
   "source": [
    "## Fotografierte Stücke"
   ]
  },
  {
   "cell_type": "code",
   "execution_count": 14,
   "metadata": {},
   "outputs": [
    {
     "data": {
      "text/html": [
       "<div>\n",
       "<table border=\"1\" class=\"dataframe\">\n",
       "  <thead>\n",
       "    <tr style=\"text-align: right;\">\n",
       "      <th></th>\n",
       "      <th>objID</th>\n",
       "      <th>ort_kurz</th>\n",
       "      <th>Ort</th>\n",
       "      <th>bef_nr</th>\n",
       "      <th>Form_Gef</th>\n",
       "      <th>Typ</th>\n",
       "    </tr>\n",
       "  </thead>\n",
       "  <tbody>\n",
       "    <tr>\n",
       "      <th>0</th>\n",
       "      <td>1103</td>\n",
       "      <td>YUM</td>\n",
       "      <td>Yumba (Fpl. 289)</td>\n",
       "      <td>87/102</td>\n",
       "      <td>None</td>\n",
       "      <td>MKA</td>\n",
       "    </tr>\n",
       "    <tr>\n",
       "      <th>1</th>\n",
       "      <td>1110</td>\n",
       "      <td>MIS</td>\n",
       "      <td>Misongo (Fpl. 288)</td>\n",
       "      <td>87/101</td>\n",
       "      <td>F3</td>\n",
       "      <td>MKA</td>\n",
       "    </tr>\n",
       "  </tbody>\n",
       "</table>\n",
       "</div>"
      ],
      "text/plain": [
       "   objID ort_kurz                 Ort  bef_nr Form_Gef  Typ\n",
       "0   1103      YUM    Yumba (Fpl. 289)  87/102     None  MKA\n",
       "1   1110      MIS  Misongo (Fpl. 288)  87/101       F3  MKA"
      ]
     },
     "execution_count": 14,
     "metadata": {},
     "output_type": "execute_result"
    }
   ],
   "source": [
    "sql = \"\"\"SELECT\n",
    "           t_Obj.objID,\n",
    "           t_Ort.ort_kurz,\n",
    "           't_Ort'.'ort_name' || ' (Fpl. ' || 't_ort'.'Kat-Nr' || ')' AS Ort,\n",
    "           t_Komplex.bef_nr,\n",
    "           t_Obj.Form_Gef,\n",
    "           t_Obj.Typ\n",
    "       FROM (t_Ort INNER JOIN t_Komplex ON t_Ort.ortID = t_Komplex.ortID)\n",
    "           INNER JOIN t_Obj ON t_Komplex.komplexID = t_Obj.komplexID\n",
    "       WHERE (((t_Ort.ort_lit)='DS')\n",
    "           AND ((t_Obj.Typ) Like '%MKA%')\n",
    "           AND ((t_Obj.Art) = 'K')\n",
    "           AND ((t_Obj.Anzahl) = ''))\"\"\".replace('\\n',' ')\n",
    "\n",
    "df = pd.read_sql(sql, con)\n",
    "df"
   ]
  },
  {
   "cell_type": "markdown",
   "metadata": {},
   "source": [
    "## Technologische Merkmale (*fabrics*)"
   ]
  },
  {
   "cell_type": "code",
   "execution_count": 15,
   "metadata": {
    "collapsed": true
   },
   "outputs": [],
   "source": [
    "sql = \"\"\"SELECT\n",
    "           t_Obj.objID,\n",
    "           't_Ort'.'ort_name' || ' (Fpl. ' || 't_ort'.'Kat-Nr' || ')' AS Ort,\n",
    "           t_Obj.Anzahl,\n",
    "           t_Obj.MagerungGröße,\n",
    "           t_Obj.MagerungArt,\n",
    "           t_Obj.MagerungDichte,\n",
    "           t_Obj.Fabric\n",
    "       FROM (t_Ort INNER JOIN t_Komplex ON t_Ort.ortID = t_Komplex.ortID)\n",
    "           INNER JOIN t_Obj ON t_Komplex.komplexID = t_Obj.komplexID\n",
    "       WHERE (((t_Obj.Fabric) != '')\n",
    "           AND ((t_Obj.Typ) Like '%MKA%'))\"\"\".replace('\\n',' ')\n",
    "\n",
    "df = pd.read_sql(sql, con)"
   ]
  },
  {
   "cell_type": "code",
   "execution_count": 16,
   "metadata": {},
   "outputs": [
    {
     "name": "stderr",
     "output_type": "stream",
     "text": [
      "C:\\Users\\Dirk\\Anaconda3\\lib\\site-packages\\ipykernel\\__main__.py:3: FutureWarning: by argument to sort_index is deprecated, pls use .sort_values(by=...)\n",
      "  app.launch_new_instance()\n"
     ]
    }
   ],
   "source": [
    "df_pivot = df.pivot_table(values = 'Anzahl', index = 'Fabric', aggfunc = sum)\n",
    "df_pivot = pd.DataFrame(df_pivot)\n",
    "df_pivot = df_pivot.sort_index(by=['Anzahl'], ascending=[False])"
   ]
  },
  {
   "cell_type": "code",
   "execution_count": 17,
   "metadata": {},
   "outputs": [
    {
     "data": {
      "image/png": "[encoded data removed]",
      "text/plain": [
       "<matplotlib.figure.Figure at 0xbbedc6b668>"
      ]
     },
     "metadata": {},
     "output_type": "display_data"
    }
   ],
   "source": [
    "df_pivot.plot(kind = 'barh', legend = False, color = 'Grey')\n",
    "plt.show()"
   ]
  },
  {
   "cell_type": "code",
   "execution_count": 18,
   "metadata": {},
   "outputs": [
    {
     "data": {
      "text/html": [
       "<div>\n",
       "<table border=\"1\" class=\"dataframe\">\n",
       "  <thead>\n",
       "    <tr style=\"text-align: right;\">\n",
       "      <th></th>\n",
       "      <th>Anzahl</th>\n",
       "      <th>Prozent</th>\n",
       "    </tr>\n",
       "    <tr>\n",
       "      <th>Fabric</th>\n",
       "      <th></th>\n",
       "      <th></th>\n",
       "    </tr>\n",
       "  </thead>\n",
       "  <tbody>\n",
       "    <tr>\n",
       "      <th>1b</th>\n",
       "      <td>26</td>\n",
       "      <td>33.766234</td>\n",
       "    </tr>\n",
       "    <tr>\n",
       "      <th>1d</th>\n",
       "      <td>26</td>\n",
       "      <td>33.766234</td>\n",
       "    </tr>\n",
       "    <tr>\n",
       "      <th>1a</th>\n",
       "      <td>9</td>\n",
       "      <td>11.688312</td>\n",
       "    </tr>\n",
       "    <tr>\n",
       "      <th>2a</th>\n",
       "      <td>7</td>\n",
       "      <td>9.090909</td>\n",
       "    </tr>\n",
       "    <tr>\n",
       "      <th>1 (?)</th>\n",
       "      <td>5</td>\n",
       "      <td>6.493506</td>\n",
       "    </tr>\n",
       "  </tbody>\n",
       "</table>\n",
       "</div>"
      ],
      "text/plain": [
       "        Anzahl    Prozent\n",
       "Fabric                   \n",
       "1b          26  33.766234\n",
       "1d          26  33.766234\n",
       "1a           9  11.688312\n",
       "2a           7   9.090909\n",
       "1 (?)        5   6.493506"
      ]
     },
     "metadata": {},
     "output_type": "display_data"
    }
   ],
   "source": [
    "df_pivot['Prozent'] = df_pivot['Anzahl']/df_pivot['Anzahl'].sum()*100\n",
    "display(df_pivot.head())"
   ]
  },
  {
   "cell_type": "code",
   "execution_count": 19,
   "metadata": {},
   "outputs": [
    {
     "data": {
      "text/html": [
       "<div>\n",
       "<table border=\"1\" class=\"dataframe\">\n",
       "  <thead>\n",
       "    <tr style=\"text-align: right;\">\n",
       "      <th></th>\n",
       "      <th>0</th>\n",
       "      <th>Prozent</th>\n",
       "    </tr>\n",
       "  </thead>\n",
       "  <tbody>\n",
       "    <tr>\n",
       "      <th>Rest</th>\n",
       "      <td>9</td>\n",
       "      <td>12.162162</td>\n",
       "    </tr>\n",
       "    <tr>\n",
       "      <th>Typ 1</th>\n",
       "      <td>65</td>\n",
       "      <td>87.837838</td>\n",
       "    </tr>\n",
       "  </tbody>\n",
       "</table>\n",
       "</div>"
      ],
      "text/plain": [
       "        0    Prozent\n",
       "Rest    9  12.162162\n",
       "Typ 1  65  87.837838"
      ]
     },
     "execution_count": 19,
     "metadata": {},
     "output_type": "execute_result"
    }
   ],
   "source": [
    "a = pd.Series({'Typ 1':len(df.loc[df['Fabric'].str.contains(\"1\")].index),\n",
    "               'Rest':len(df.loc[~df['Fabric'].str.contains(\"1\")].index)})\n",
    "a = pd.DataFrame(a)\n",
    "a['Prozent'] = a[0]/a[0].sum()*100\n",
    "a"
   ]
  },
  {
   "cell_type": "code",
   "execution_count": 20,
   "metadata": {},
   "outputs": [
    {
     "data": {
      "text/html": [
       "<div>\n",
       "<table border=\"1\" class=\"dataframe\">\n",
       "  <thead>\n",
       "    <tr style=\"text-align: right;\">\n",
       "      <th></th>\n",
       "      <th>Anzahl</th>\n",
       "      <th>Prozent</th>\n",
       "    </tr>\n",
       "  </thead>\n",
       "  <tbody>\n",
       "    <tr>\n",
       "      <th>sehr wenig</th>\n",
       "      <td>50.0</td>\n",
       "      <td>69.444444</td>\n",
       "    </tr>\n",
       "    <tr>\n",
       "      <th>wenig</th>\n",
       "      <td>16.0</td>\n",
       "      <td>22.222222</td>\n",
       "    </tr>\n",
       "    <tr>\n",
       "      <th>mittel</th>\n",
       "      <td>6.0</td>\n",
       "      <td>8.333333</td>\n",
       "    </tr>\n",
       "    <tr>\n",
       "      <th>viel</th>\n",
       "      <td>NaN</td>\n",
       "      <td>NaN</td>\n",
       "    </tr>\n",
       "    <tr>\n",
       "      <th>sehr viel</th>\n",
       "      <td>NaN</td>\n",
       "      <td>NaN</td>\n",
       "    </tr>\n",
       "  </tbody>\n",
       "</table>\n",
       "</div>"
      ],
      "text/plain": [
       "            Anzahl    Prozent\n",
       "sehr wenig    50.0  69.444444\n",
       "wenig         16.0  22.222222\n",
       "mittel         6.0   8.333333\n",
       "viel           NaN        NaN\n",
       "sehr viel      NaN        NaN"
      ]
     },
     "execution_count": 20,
     "metadata": {},
     "output_type": "execute_result"
    }
   ],
   "source": [
    "df = df.replace('<1','sehr wenig', regex=True)\n",
    "\n",
    "a = df.loc[df['MagerungDichte'] != ''] # nur Einträgen, bei denen diese Felder ausgefüllt sind\n",
    "df_pivot = a.pivot_table(values = 'Anzahl', index = 'MagerungDichte', aggfunc = sum)\n",
    "custom_dict = {'sehr wenig':0,'wenig':1,'mittel':3,'viel':4, 'sehr viel':5}\n",
    "df_pivot = pd.DataFrame(df_pivot, index=sorted(custom_dict, key=custom_dict.get))\n",
    "df_pivot['Prozent'] = df_pivot['Anzahl']/df_pivot['Anzahl'].sum()*100\n",
    "df_pivot"
   ]
  },
  {
   "cell_type": "code",
   "execution_count": 21,
   "metadata": {},
   "outputs": [
    {
     "data": {
      "image/png": "[encoded data removed]",
      "text/plain": [
       "<matplotlib.figure.Figure at 0xbbedbfe4a8>"
      ]
     },
     "metadata": {},
     "output_type": "display_data"
    }
   ],
   "source": [
    "df_pivot.plot(y = 'Prozent', kind = 'bar', legend = None, color = 'grey')\n",
    "plt.xticks(rotation=0)\n",
    "plt.xlabel('Anteil nicht-plastische Partikel')\n",
    "plt.ylabel('Anteil [%]')\n",
    "plt.show()"
   ]
  },
  {
   "cell_type": "code",
   "execution_count": 22,
   "metadata": {
    "scrolled": true
   },
   "outputs": [
    {
     "data": {
      "text/html": [
       "<div>\n",
       "<table border=\"1\" class=\"dataframe\">\n",
       "  <thead>\n",
       "    <tr style=\"text-align: right;\">\n",
       "      <th></th>\n",
       "      <th>Anzahl</th>\n",
       "      <th>Prozent</th>\n",
       "    </tr>\n",
       "  </thead>\n",
       "  <tbody>\n",
       "    <tr>\n",
       "      <th>VF</th>\n",
       "      <td>36.0</td>\n",
       "      <td>50.000000</td>\n",
       "    </tr>\n",
       "    <tr>\n",
       "      <th>F</th>\n",
       "      <td>15.0</td>\n",
       "      <td>20.833333</td>\n",
       "    </tr>\n",
       "    <tr>\n",
       "      <th>M</th>\n",
       "      <td>17.0</td>\n",
       "      <td>23.611111</td>\n",
       "    </tr>\n",
       "    <tr>\n",
       "      <th>C</th>\n",
       "      <td>4.0</td>\n",
       "      <td>5.555556</td>\n",
       "    </tr>\n",
       "    <tr>\n",
       "      <th>VC</th>\n",
       "      <td>NaN</td>\n",
       "      <td>NaN</td>\n",
       "    </tr>\n",
       "  </tbody>\n",
       "</table>\n",
       "</div>"
      ],
      "text/plain": [
       "    Anzahl    Prozent\n",
       "VF    36.0  50.000000\n",
       "F     15.0  20.833333\n",
       "M     17.0  23.611111\n",
       "C      4.0   5.555556\n",
       "VC     NaN        NaN"
      ]
     },
     "execution_count": 22,
     "metadata": {},
     "output_type": "execute_result"
    }
   ],
   "source": [
    "df_pivot = a.pivot_table(values = 'Anzahl', index = 'MagerungGröße', aggfunc = sum)\n",
    "custom_dict = {'VF':0,'F':1,'M':3,'C':4, 'VC':5}\n",
    "df_pivot = pd.DataFrame(df_pivot, index=sorted(custom_dict, key=custom_dict.get))\n",
    "df_pivot['Prozent'] = df_pivot['Anzahl']/df_pivot['Anzahl'].sum()*100\n",
    "df_pivot"
   ]
  },
  {
   "cell_type": "code",
   "execution_count": 23,
   "metadata": {
    "scrolled": true
   },
   "outputs": [
    {
     "data": {
      "image/png": "[encoded data removed]",
      "text/plain": [
       "<matplotlib.figure.Figure at 0xbbedd03630>"
      ]
     },
     "metadata": {},
     "output_type": "display_data"
    }
   ],
   "source": [
    "df_pivot.plot(y = 'Prozent', kind = 'bar', legend = None, color = 'grey')\n",
    "plt.xticks(rotation=0)\n",
    "plt.xlabel('Korngröße (Wentworth-Scale)')\n",
    "plt.ylabel('Anteil [%]')\n",
    "plt.show()"
   ]
  },
  {
   "cell_type": "code",
   "execution_count": 24,
   "metadata": {},
   "outputs": [
    {
     "name": "stderr",
     "output_type": "stream",
     "text": [
      "C:\\Users\\Dirk\\Anaconda3\\lib\\site-packages\\ipykernel\\__main__.py:3: FutureWarning: by argument to sort_index is deprecated, pls use .sort_values(by=...)\n",
      "  app.launch_new_instance()\n"
     ]
    },
    {
     "data": {
      "text/html": [
       "<div>\n",
       "<table border=\"1\" class=\"dataframe\">\n",
       "  <thead>\n",
       "    <tr style=\"text-align: right;\">\n",
       "      <th></th>\n",
       "      <th>Anzahl</th>\n",
       "      <th>Prozent</th>\n",
       "    </tr>\n",
       "    <tr>\n",
       "      <th>MagerungArt</th>\n",
       "      <th></th>\n",
       "      <th></th>\n",
       "    </tr>\n",
       "  </thead>\n",
       "  <tbody>\n",
       "    <tr>\n",
       "      <th>S</th>\n",
       "      <td>59</td>\n",
       "      <td>81.944444</td>\n",
       "    </tr>\n",
       "    <tr>\n",
       "      <th>S/Laterit</th>\n",
       "      <td>4</td>\n",
       "      <td>5.555556</td>\n",
       "    </tr>\n",
       "    <tr>\n",
       "      <th>S/Laterit?</th>\n",
       "      <td>2</td>\n",
       "      <td>2.777778</td>\n",
       "    </tr>\n",
       "    <tr>\n",
       "      <th>S/Org?</th>\n",
       "      <td>2</td>\n",
       "      <td>2.777778</td>\n",
       "    </tr>\n",
       "    <tr>\n",
       "      <th>S/GL</th>\n",
       "      <td>1</td>\n",
       "      <td>1.388889</td>\n",
       "    </tr>\n",
       "    <tr>\n",
       "      <th>S/Gl</th>\n",
       "      <td>1</td>\n",
       "      <td>1.388889</td>\n",
       "    </tr>\n",
       "    <tr>\n",
       "      <th>S/Gl/Laterit?</th>\n",
       "      <td>1</td>\n",
       "      <td>1.388889</td>\n",
       "    </tr>\n",
       "    <tr>\n",
       "      <th>S/Laterit/Org</th>\n",
       "      <td>1</td>\n",
       "      <td>1.388889</td>\n",
       "    </tr>\n",
       "    <tr>\n",
       "      <th>S/Schamott?</th>\n",
       "      <td>1</td>\n",
       "      <td>1.388889</td>\n",
       "    </tr>\n",
       "  </tbody>\n",
       "</table>\n",
       "</div>"
      ],
      "text/plain": [
       "               Anzahl    Prozent\n",
       "MagerungArt                     \n",
       "S                  59  81.944444\n",
       "S/Laterit           4   5.555556\n",
       "S/Laterit?          2   2.777778\n",
       "S/Org?              2   2.777778\n",
       "S/GL                1   1.388889\n",
       "S/Gl                1   1.388889\n",
       "S/Gl/Laterit?       1   1.388889\n",
       "S/Laterit/Org       1   1.388889\n",
       "S/Schamott?         1   1.388889"
      ]
     },
     "execution_count": 24,
     "metadata": {},
     "output_type": "execute_result"
    }
   ],
   "source": [
    "df_pivot = a.pivot_table(values = 'Anzahl', index = 'MagerungArt', aggfunc = sum)\n",
    "df_pivot = pd.DataFrame(df_pivot)\n",
    "df_pivot = df_pivot.sort_index(by=['Anzahl'], ascending=[False])\n",
    "df_pivot['Prozent'] = df_pivot['Anzahl']/df_pivot['Anzahl'].sum()*100\n",
    "df_pivot"
   ]
  },
  {
   "cell_type": "code",
   "execution_count": 25,
   "metadata": {},
   "outputs": [
    {
     "data": {
      "text/html": [
       "<div>\n",
       "<table border=\"1\" class=\"dataframe\">\n",
       "  <thead>\n",
       "    <tr style=\"text-align: right;\">\n",
       "      <th></th>\n",
       "      <th>0</th>\n",
       "      <th>Prozent</th>\n",
       "    </tr>\n",
       "  </thead>\n",
       "  <tbody>\n",
       "    <tr>\n",
       "      <th>Laterit</th>\n",
       "      <td>8</td>\n",
       "      <td>11.111111</td>\n",
       "    </tr>\n",
       "    <tr>\n",
       "      <th>Organik</th>\n",
       "      <td>3</td>\n",
       "      <td>4.166667</td>\n",
       "    </tr>\n",
       "  </tbody>\n",
       "</table>\n",
       "</div>"
      ],
      "text/plain": [
       "         0    Prozent\n",
       "Laterit  8  11.111111\n",
       "Organik  3   4.166667"
      ]
     },
     "execution_count": 25,
     "metadata": {},
     "output_type": "execute_result"
    }
   ],
   "source": [
    "a = pd.Series({'Laterit':len(df.loc[df['MagerungArt'].str.contains(\"Laterit\")].index),\n",
    "               'Organik':len(df.loc[df['MagerungArt'].str.contains(\"Org\")].index)})\n",
    "a = pd.DataFrame(a)\n",
    "\n",
    "# von oberer Tabelle rechnen, um entsprechende Prozentwerte zu erhalten\n",
    "a['Prozent'] = a[0]/df_pivot['Anzahl'].sum()*100\n",
    "a"
   ]
  },
  {
   "cell_type": "markdown",
   "metadata": {},
   "source": [
    "### Brennfarbe"
   ]
  },
  {
   "cell_type": "code",
   "execution_count": 26,
   "metadata": {},
   "outputs": [
    {
     "data": {
      "text/html": [
       "<div>\n",
       "<table border=\"1\" class=\"dataframe\">\n",
       "  <thead>\n",
       "    <tr style=\"text-align: right;\">\n",
       "      <th></th>\n",
       "      <th>0</th>\n",
       "      <th>Prozent</th>\n",
       "    </tr>\n",
       "  </thead>\n",
       "  <tbody>\n",
       "    <tr>\n",
       "      <th>Rot</th>\n",
       "      <td>10</td>\n",
       "      <td>12.048193</td>\n",
       "    </tr>\n",
       "    <tr>\n",
       "      <th>Sonstig</th>\n",
       "      <td>19</td>\n",
       "      <td>22.891566</td>\n",
       "    </tr>\n",
       "    <tr>\n",
       "      <th>Weiß</th>\n",
       "      <td>54</td>\n",
       "      <td>65.060241</td>\n",
       "    </tr>\n",
       "  </tbody>\n",
       "</table>\n",
       "</div>"
      ],
      "text/plain": [
       "          0    Prozent\n",
       "Rot      10  12.048193\n",
       "Sonstig  19  22.891566\n",
       "Weiß     54  65.060241"
      ]
     },
     "execution_count": 26,
     "metadata": {},
     "output_type": "execute_result"
    }
   ],
   "source": [
    "sql = \"\"\"SELECT\n",
    "           t_Obj.objID,\n",
    "           [t_Obj].[Außenfarbe] || '/' || [t_Obj].[Prof_aussen] || '/' || [t_Obj].[Prof_Kern] || '/' || [t_Obj].[Prof_innen] || '/' || [t_Obj].[Innenfarbe] AS Farbe\n",
    "       FROM (t_Ort LEFT JOIN t_Komplex ON t_Ort.ortID = t_Komplex.ortID)\n",
    "           LEFT JOIN t_Obj ON t_Komplex.komplexID = t_Obj.komplexID\n",
    "       WHERE (((t_Obj.Fabric) != '')\n",
    "           AND ((t_Obj.Typ) Like '%MKA%'))\"\"\".replace('\\n',' ')\n",
    "df = pd.read_sql(sql, con)\n",
    "\n",
    "a = pd.Series({'Weiß':len(df[df['Farbe'].str.contains(\"W\")].index),\n",
    "               'Rot':len(df[df['Farbe'].str.contains(\"R\")].index),\n",
    "               'Sonstig':len(df[~df['Farbe'].str.contains(\"W|R\")].index)})\n",
    "a = pd.DataFrame(a)\n",
    "a['Prozent'] = a[0]/a[0].sum()*100\n",
    "a"
   ]
  },
  {
   "cell_type": "code",
   "execution_count": 27,
   "metadata": {
    "scrolled": true
   },
   "outputs": [
    {
     "data": {
      "image/png": "[encoded data removed]",
      "text/plain": [
       "<matplotlib.figure.Figure at 0xbbeddb14e0>"
      ]
     },
     "metadata": {},
     "output_type": "display_data"
    }
   ],
   "source": [
    "a.plot(y = 'Prozent', kind = 'bar', legend = None, color = 'grey')\n",
    "plt.xticks(rotation=0)\n",
    "plt.ylabel('Anteil [%]')\n",
    "plt.show()"
   ]
  },
  {
   "cell_type": "code",
   "execution_count": 28,
   "metadata": {},
   "outputs": [
    {
     "data": {
      "text/plain": [
       "s       24\n",
       "bg      24\n",
       "g       22\n",
       "         6\n",
       "bg s     3\n",
       "g s      3\n",
       "br       2\n",
       "s s      2\n",
       "s bg     2\n",
       "g bg     2\n",
       "dtype: int64"
      ]
     },
     "execution_count": 28,
     "metadata": {},
     "output_type": "execute_result"
    }
   ],
   "source": [
    "# Sontiges:\n",
    "a = df[~df['Farbe'].str.contains(\"W|R\")]\n",
    "pd.Series(' '.join(a['Farbe']).lower().split('/')).value_counts()[:10]"
   ]
  },
  {
   "cell_type": "markdown",
   "metadata": {},
   "source": [
    "### Oberfläche der Scherben"
   ]
  },
  {
   "cell_type": "code",
   "execution_count": 29,
   "metadata": {},
   "outputs": [
    {
     "name": "stderr",
     "output_type": "stream",
     "text": [
      "C:\\Users\\Dirk\\Anaconda3\\lib\\site-packages\\ipykernel\\__main__.py:13: FutureWarning: convert_objects is deprecated.  Use the data-type specific converters pd.to_datetime, pd.to_timedelta and pd.to_numeric.\n"
     ]
    },
    {
     "data": {
      "text/html": [
       "<div>\n",
       "<table border=\"1\" class=\"dataframe\">\n",
       "  <thead>\n",
       "    <tr style=\"text-align: right;\">\n",
       "      <th></th>\n",
       "      <th>Anzahl</th>\n",
       "      <th>Prozent</th>\n",
       "    </tr>\n",
       "    <tr>\n",
       "      <th>Obfl</th>\n",
       "      <th></th>\n",
       "      <th></th>\n",
       "    </tr>\n",
       "  </thead>\n",
       "  <tbody>\n",
       "    <tr>\n",
       "      <th>außen glatt</th>\n",
       "      <td>1</td>\n",
       "      <td>1.265823</td>\n",
       "    </tr>\n",
       "    <tr>\n",
       "      <th>außen: glatt/innen: leicht rau</th>\n",
       "      <td>1</td>\n",
       "      <td>1.265823</td>\n",
       "    </tr>\n",
       "    <tr>\n",
       "      <th>außen: glatt/innen: rau</th>\n",
       "      <td>1</td>\n",
       "      <td>1.265823</td>\n",
       "    </tr>\n",
       "    <tr>\n",
       "      <th>glatt</th>\n",
       "      <td>71</td>\n",
       "      <td>89.873418</td>\n",
       "    </tr>\n",
       "    <tr>\n",
       "      <th>glatt/poliert</th>\n",
       "      <td>1</td>\n",
       "      <td>1.265823</td>\n",
       "    </tr>\n",
       "    <tr>\n",
       "      <th>leicht rau</th>\n",
       "      <td>3</td>\n",
       "      <td>3.797468</td>\n",
       "    </tr>\n",
       "    <tr>\n",
       "      <th>rau</th>\n",
       "      <td>1</td>\n",
       "      <td>1.265823</td>\n",
       "    </tr>\n",
       "  </tbody>\n",
       "</table>\n",
       "</div>"
      ],
      "text/plain": [
       "                                Anzahl    Prozent\n",
       "Obfl                                             \n",
       "außen glatt                          1   1.265823\n",
       "außen: glatt/innen: leicht rau       1   1.265823\n",
       "außen: glatt/innen: rau              1   1.265823\n",
       "glatt                               71  89.873418\n",
       "glatt/poliert                        1   1.265823\n",
       "leicht rau                           3   3.797468\n",
       "rau                                  1   1.265823"
      ]
     },
     "execution_count": 29,
     "metadata": {},
     "output_type": "execute_result"
    }
   ],
   "source": [
    "sql = \"\"\"SELECT\n",
    "           t_Obj.objID,\n",
    "           t_Obj.Anzahl,\n",
    "           t_Obj.Obfl,\n",
    "           t_Obj.Fabric\n",
    "       FROM (t_Ort INNER JOIN t_Komplex ON t_Ort.ortID = t_Komplex.ortID)\n",
    "           INNER JOIN t_Obj ON t_Komplex.komplexID = t_Obj.komplexID\n",
    "       WHERE (((t_Obj.Obfl) != '')\n",
    "           AND ((t_Obj.Typ) LIKE '%MKA%'))\"\"\".replace('\\n',' ')\n",
    "\n",
    "df = pd.read_sql(sql, con)\n",
    "\n",
    "df['Anzahl'] = df['Anzahl'].convert_objects(convert_numeric=True)\n",
    "df_pivot = df.pivot_table(values = 'Anzahl', index = 'Obfl', aggfunc = sum)\n",
    "df_pivot = pd.DataFrame(df_pivot)\n",
    "df_pivot['Prozent'] = df_pivot['Anzahl']/df_pivot['Anzahl'].sum()*100\n",
    "df_pivot"
   ]
  },
  {
   "cell_type": "code",
   "execution_count": 30,
   "metadata": {},
   "outputs": [
    {
     "data": {
      "text/html": [
       "<div>\n",
       "<table border=\"1\" class=\"dataframe\">\n",
       "  <thead>\n",
       "    <tr style=\"text-align: right;\">\n",
       "      <th></th>\n",
       "      <th>0</th>\n",
       "      <th>Prozent</th>\n",
       "    </tr>\n",
       "  </thead>\n",
       "  <tbody>\n",
       "    <tr>\n",
       "      <th>glatt</th>\n",
       "      <td>75</td>\n",
       "      <td>94.936709</td>\n",
       "    </tr>\n",
       "    <tr>\n",
       "      <th>nicht glatt</th>\n",
       "      <td>4</td>\n",
       "      <td>5.063291</td>\n",
       "    </tr>\n",
       "  </tbody>\n",
       "</table>\n",
       "</div>"
      ],
      "text/plain": [
       "              0    Prozent\n",
       "glatt        75  94.936709\n",
       "nicht glatt   4   5.063291"
      ]
     },
     "execution_count": 30,
     "metadata": {},
     "output_type": "execute_result"
    }
   ],
   "source": [
    "a = pd.Series({'glatt':len(df.loc[df['Obfl'].str.contains(\"glatt\")].index),\n",
    "               'nicht glatt':len(df.loc[~df['Obfl'].str.contains(\"glatt\")].index)})\n",
    "a = pd.DataFrame(a)\n",
    "\n",
    "a['Prozent'] = a[0]/a[0].sum()*100\n",
    "a"
   ]
  },
  {
   "cell_type": "markdown",
   "metadata": {},
   "source": [
    "### Wandungsdicke"
   ]
  },
  {
   "cell_type": "code",
   "execution_count": 76,
   "metadata": {},
   "outputs": [
    {
     "name": "stderr",
     "output_type": "stream",
     "text": [
      "C:\\Users\\Dirk\\Anaconda3\\lib\\site-packages\\ipykernel\\__main__.py:12: FutureWarning: convert_objects is deprecated.  Use the data-type specific converters pd.to_datetime, pd.to_timedelta and pd.to_numeric.\n"
     ]
    },
    {
     "data": {
      "image/png": "[encoded data removed]",
      "text/plain": [
       "<matplotlib.figure.Figure at 0xbbeddeecf8>"
      ]
     },
     "metadata": {},
     "output_type": "display_data"
    }
   ],
   "source": [
    "sql = \"\"\"SELECT\n",
    "           t_Obj.objID,\n",
    "           t_Obj.Wandung \n",
    "       FROM (t_Ort INNER JOIN t_Komplex ON t_Ort.ortID = t_Komplex.ortID)\n",
    "           INNER JOIN t_Obj ON t_Komplex.komplexID = t_Obj.komplexID\n",
    "       WHERE (((t_Obj.Obfl) != '')\n",
    "           AND ((t_Obj.Typ) LIKE '%MKA%')\n",
    "           AND (t_Obj.Wandung) < '15')\"\"\".replace('\\n',' ')\n",
    "\n",
    "df = pd.read_sql(sql, con)\n",
    "\n",
    "df['Wandung'] = df['Wandung'].convert_objects(convert_numeric=True)\n",
    "\n",
    "# Spannweite ermitteln und als bins nutzen\n",
    "bins = df['Wandung'].max() - df['Wandung'].min()\n",
    "\n",
    "mean = df['Wandung'].mean()\n",
    "\n",
    "df['Wandung'].hist(bins = bins, color = 'grey', histtype='stepfilled')\n",
    "plt.axvline(mean, color = 'black', ls = 'dashed', lw = 2.5)\n",
    "plt.xlabel(\"Dicke [mm]\")\n",
    "plt.ylabel(\"Anzahl\")\n",
    "plt.xlim([df['Wandung'].min()-1,df['Wandung'].max()+1])\n",
    "legend = plt.legend([\"Mittelwert\"])\n",
    "legend.get_frame().set_facecolor('white')\n",
    "plt.tight_layout()"
   ]
  },
  {
   "cell_type": "code",
   "execution_count": 78,
   "metadata": {},
   "outputs": [
    {
     "data": {
      "text/plain": [
       "count    75.000000\n",
       "mean      6.666667\n",
       "std       1.876838\n",
       "min       3.000000\n",
       "25%       5.000000\n",
       "50%       7.000000\n",
       "75%       8.000000\n",
       "max      13.000000\n",
       "Name: Wandung, dtype: float64"
      ]
     },
     "execution_count": 78,
     "metadata": {},
     "output_type": "execute_result"
    }
   ],
   "source": [
    "df['Wandung'].describe()"
   ]
  },
  {
   "cell_type": "code",
   "execution_count": 79,
   "metadata": {},
   "outputs": [
    {
     "data": {
      "text/plain": [
       "3.522522522522523"
      ]
     },
     "execution_count": 79,
     "metadata": {},
     "output_type": "execute_result"
    }
   ],
   "source": [
    "df['Wandung'].var()"
   ]
  },
  {
   "cell_type": "code",
   "execution_count": 92,
   "metadata": {},
   "outputs": [
    {
     "data": {
      "text/html": [
       "<div>\n",
       "<table border=\"1\" class=\"dataframe\">\n",
       "  <thead>\n",
       "    <tr style=\"text-align: right;\">\n",
       "      <th></th>\n",
       "      <th>TAF</th>\n",
       "      <th>OBJ</th>\n",
       "      <th>SITE</th>\n",
       "      <th>FEAT</th>\n",
       "      <th>NOTE</th>\n",
       "      <th>IND</th>\n",
       "      <th>Wandung</th>\n",
       "      <th>Typ</th>\n",
       "      <th>Form_Gef</th>\n",
       "      <th>Form_Rand</th>\n",
       "      <th>Form_Boden</th>\n",
       "    </tr>\n",
       "  </thead>\n",
       "  <tbody>\n",
       "    <tr>\n",
       "      <th>0</th>\n",
       "      <td>NaN</td>\n",
       "      <td>NaN</td>\n",
       "      <td>JEK</td>\n",
       "      <td>87/501</td>\n",
       "      <td>NaN</td>\n",
       "      <td>5</td>\n",
       "      <td>24</td>\n",
       "      <td>MKA</td>\n",
       "      <td>F3</td>\n",
       "      <td>B1.5</td>\n",
       "      <td>None</td>\n",
       "    </tr>\n",
       "    <tr>\n",
       "      <th>1</th>\n",
       "      <td>NaN</td>\n",
       "      <td>NaN</td>\n",
       "      <td>BOO</td>\n",
       "      <td>87/101</td>\n",
       "      <td>NaN</td>\n",
       "      <td>2</td>\n",
       "      <td>28</td>\n",
       "      <td>MKA</td>\n",
       "      <td>None</td>\n",
       "      <td>B1.5</td>\n",
       "      <td>None</td>\n",
       "    </tr>\n",
       "  </tbody>\n",
       "</table>\n",
       "</div>"
      ],
      "text/plain": [
       "   TAF  OBJ SITE    FEAT NOTE IND  Wandung  Typ Form_Gef Form_Rand Form_Boden\n",
       "0  NaN  NaN  JEK  87/501  NaN   5       24  MKA       F3      B1.5       None\n",
       "1  NaN  NaN  BOO  87/101  NaN   2       28  MKA     None      B1.5       None"
      ]
     },
     "execution_count": 92,
     "metadata": {},
     "output_type": "execute_result"
    }
   ],
   "source": [
    "sql = \"\"\"SELECT\n",
    "           t_Obj.Wandung,\n",
    "           t_Ort.ort_kurz AS SITE,\n",
    "           t_Komplex.bef_nr AS FEAT,\n",
    "           t_Obj.Individuum AS IND,\n",
    "           t_Obj.Typ,\n",
    "           t_Obj.Form_Gef,\n",
    "           t_Obj.Form_Rand,\n",
    "           t_Obj.Form_Boden\n",
    "       FROM (t_Ort INNER JOIN t_Komplex ON t_Ort.ortID = t_Komplex.ortID)\n",
    "           INNER JOIN t_Obj ON t_Komplex.komplexID = t_Obj.komplexID\n",
    "       WHERE (((t_Obj.Obfl) != '')\n",
    "           AND ((t_Obj.Typ) LIKE '%MKA%')\n",
    "           AND ((t_Obj.Wandung) > '15')\n",
    "           AND ((t_Obj.Wandung) != ''))\"\"\".replace('\\n',' ')\n",
    "\n",
    "df = pd.read_sql(sql, con)\n",
    "\n",
    "pl = pd.read_csv('../plates/plates.csv')\n",
    "\n",
    "df_merge = pd.merge(pl, df, on=['SITE', 'FEAT', 'IND'], how='right')\n",
    "df_merge"
   ]
  },
  {
   "cell_type": "markdown",
   "metadata": {},
   "source": [
    "## Gefäßformen"
   ]
  },
  {
   "cell_type": "code",
   "execution_count": 94,
   "metadata": {
    "collapsed": true
   },
   "outputs": [],
   "source": [
    "sql = \"\"\"SELECT\n",
    "           t_Ort.ort_kurz,\n",
    "           t_Ort.ort_name,\n",
    "           t_Obj.objID,\n",
    "           t_Obj.Typ,\n",
    "           t_Obj.Form_Gef\n",
    "       FROM (t_Ort INNER JOIN t_Komplex ON t_Ort.ortID = t_Komplex.ortID)\n",
    "           INNER JOIN t_Obj ON t_Komplex.komplexID = t_Obj.komplexID\n",
    "       WHERE (((t_Ort.ort_lit)='DS')\n",
    "           AND ((t_Obj.Typ) Like '%MKA%')\n",
    "           AND ((t_Obj.Form_Gef) != ''))\"\"\".replace('\\n',' ')\n",
    "\n",
    "df = pd.read_sql(sql, con)\n",
    "# display(df.head())"
   ]
  },
  {
   "cell_type": "code",
   "execution_count": 95,
   "metadata": {},
   "outputs": [
    {
     "name": "stderr",
     "output_type": "stream",
     "text": [
      "C:\\Users\\Dirk\\Anaconda3\\lib\\site-packages\\ipykernel\\__main__.py:3: FutureWarning: by argument to sort_index is deprecated, pls use .sort_values(by=...)\n",
      "  app.launch_new_instance()\n"
     ]
    }
   ],
   "source": [
    "df_pivot = df.pivot_table(values = 'objID', index = 'Form_Gef', aggfunc = len)\n",
    "df_pivot = pd.DataFrame(df_pivot)\n",
    "df_pivot = df_pivot.sort_index(by = ['objID'], ascending = True)\n",
    "# display(df_pivot.head())"
   ]
  },
  {
   "cell_type": "code",
   "execution_count": 96,
   "metadata": {},
   "outputs": [
    {
     "data": {
      "text/plain": [
       "41"
      ]
     },
     "execution_count": 96,
     "metadata": {},
     "output_type": "execute_result"
    }
   ],
   "source": [
    "df_pivot['objID'].sum()"
   ]
  },
  {
   "cell_type": "code",
   "execution_count": 97,
   "metadata": {},
   "outputs": [
    {
     "data": {
      "text/html": [
       "<div>\n",
       "<table border=\"1\" class=\"dataframe\">\n",
       "  <thead>\n",
       "    <tr style=\"text-align: right;\">\n",
       "      <th></th>\n",
       "      <th>0</th>\n",
       "      <th>Prozent</th>\n",
       "    </tr>\n",
       "  </thead>\n",
       "  <tbody>\n",
       "    <tr>\n",
       "      <th>fraglich</th>\n",
       "      <td>19</td>\n",
       "      <td>46.341463</td>\n",
       "    </tr>\n",
       "    <tr>\n",
       "      <th>sicher</th>\n",
       "      <td>22</td>\n",
       "      <td>53.658537</td>\n",
       "    </tr>\n",
       "  </tbody>\n",
       "</table>\n",
       "</div>"
      ],
      "text/plain": [
       "           0    Prozent\n",
       "fraglich  19  46.341463\n",
       "sicher    22  53.658537"
      ]
     },
     "execution_count": 97,
     "metadata": {},
     "output_type": "execute_result"
    }
   ],
   "source": [
    "df_pivot['GefForm'] = df_pivot.index\n",
    "a = pd.Series({'sicher':sum(df_pivot['objID'].loc[~df_pivot['GefForm'].str.contains(\" \")]),\n",
    "               'fraglich':sum(df_pivot['objID'].loc[df_pivot['GefForm'].str.contains(\" \")])})\n",
    "a = pd.DataFrame(a)\n",
    "a['Prozent'] = a[0]/a[0].sum()*100\n",
    "a"
   ]
  },
  {
   "cell_type": "code",
   "execution_count": 98,
   "metadata": {},
   "outputs": [
    {
     "data": {
      "text/plain": [
       "<matplotlib.text.Text at 0xbbefa1d2e8>"
      ]
     },
     "execution_count": 98,
     "metadata": {},
     "output_type": "execute_result"
    },
    {
     "data": {
      "image/png": "[encoded data removed]",
      "text/plain": [
       "<matplotlib.figure.Figure at 0xbbefa09208>"
      ]
     },
     "metadata": {},
     "output_type": "display_data"
    }
   ],
   "source": [
    "fig = plt.figure()\n",
    "fig.set_size_inches(5, 5)\n",
    "df_pivot['objID'].plot(kind='pie', autopct='%.0f %%', cmap = 'Paired')\n",
    "plt.ylabel('')"
   ]
  },
  {
   "cell_type": "code",
   "execution_count": 99,
   "metadata": {},
   "outputs": [
    {
     "data": {
      "text/html": [
       "<div>\n",
       "<table border=\"1\" class=\"dataframe\">\n",
       "  <thead>\n",
       "    <tr style=\"text-align: right;\">\n",
       "      <th></th>\n",
       "      <th>0</th>\n",
       "      <th>Prozent</th>\n",
       "    </tr>\n",
       "  </thead>\n",
       "  <tbody>\n",
       "    <tr>\n",
       "      <th>G1-Schalen</th>\n",
       "      <td>32</td>\n",
       "      <td>78.04878</td>\n",
       "    </tr>\n",
       "    <tr>\n",
       "      <th>Rest</th>\n",
       "      <td>9</td>\n",
       "      <td>21.95122</td>\n",
       "    </tr>\n",
       "  </tbody>\n",
       "</table>\n",
       "</div>"
      ],
      "text/plain": [
       "             0   Prozent\n",
       "G1-Schalen  32  78.04878\n",
       "Rest         9  21.95122"
      ]
     },
     "execution_count": 99,
     "metadata": {},
     "output_type": "execute_result"
    }
   ],
   "source": [
    "a = pd.Series({'G1-Schalen':len(df.loc[df['Form_Gef'].str.contains(\"F3\")].index),\n",
    "               'Rest':len(df.loc[~df['Form_Gef'].str.contains(\"F3\")].index)})\n",
    "a = pd.DataFrame(a)\n",
    "\n",
    "a['Prozent'] = a[0]/a[0].sum()*100\n",
    "a"
   ]
  },
  {
   "cell_type": "markdown",
   "metadata": {},
   "source": [
    "## Proportionen"
   ]
  },
  {
   "cell_type": "code",
   "execution_count": 101,
   "metadata": {},
   "outputs": [
    {
     "name": "stderr",
     "output_type": "stream",
     "text": [
      "C:\\Users\\Dirk\\Anaconda3\\lib\\site-packages\\ipykernel\\__main__.py:19: FutureWarning: convert_objects is deprecated.  Use the data-type specific converters pd.to_datetime, pd.to_timedelta and pd.to_numeric.\n",
      "C:\\Users\\Dirk\\Anaconda3\\lib\\site-packages\\ipykernel\\__main__.py:20: FutureWarning: convert_objects is deprecated.  Use the data-type specific converters pd.to_datetime, pd.to_timedelta and pd.to_numeric.\n",
      "C:\\Users\\Dirk\\Anaconda3\\lib\\site-packages\\ipykernel\\__main__.py:21: FutureWarning: convert_objects is deprecated.  Use the data-type specific converters pd.to_datetime, pd.to_timedelta and pd.to_numeric.\n",
      "C:\\Users\\Dirk\\Anaconda3\\lib\\site-packages\\ipykernel\\__main__.py:22: FutureWarning: convert_objects is deprecated.  Use the data-type specific converters pd.to_datetime, pd.to_timedelta and pd.to_numeric.\n",
      "C:\\Users\\Dirk\\Anaconda3\\lib\\site-packages\\ipykernel\\__main__.py:23: FutureWarning: convert_objects is deprecated.  Use the data-type specific converters pd.to_datetime, pd.to_timedelta and pd.to_numeric.\n",
      "C:\\Users\\Dirk\\Anaconda3\\lib\\site-packages\\ipykernel\\__main__.py:24: FutureWarning: convert_objects is deprecated.  Use the data-type specific converters pd.to_datetime, pd.to_timedelta and pd.to_numeric.\n",
      "C:\\Users\\Dirk\\Anaconda3\\lib\\site-packages\\ipykernel\\__main__.py:25: FutureWarning: convert_objects is deprecated.  Use the data-type specific converters pd.to_datetime, pd.to_timedelta and pd.to_numeric.\n"
     ]
    }
   ],
   "source": [
    "sql = \"\"\"SELECT\n",
    "           [t_Ort].[ort_kurz] || ' ' || [t_Komplex].[bef_nr] || ':' || [t_Obj].[Individuum] AS Ind,\n",
    "           t_Obj.muendungsD,\n",
    "           t_Obj.muendungsH,\n",
    "           t_Obj.minD,\n",
    "           t_Obj.minD_H,\n",
    "           t_Obj.maxD,\n",
    "           t_Obj.maxD_H,\n",
    "           t_Obj.bodenD,\n",
    "           t_obj.Form_Gef\n",
    "       FROM (t_Ort LEFT JOIN t_Komplex ON t_Ort.ortID = t_Komplex.ortID)\n",
    "           LEFT JOIN t_Obj ON t_Komplex.komplexID = t_Obj.komplexID\n",
    "       WHERE (((t_Ort.ort_lit)='DS')\n",
    "           AND ((t_Obj.Typ) Like '%MKA%')\n",
    "           AND ((t_Obj.Form_Gef) != ''))\"\"\".replace('\\n',' ')\n",
    "\n",
    "df = pd.read_sql(sql, con)\n",
    "\n",
    "df['muendungsD'] = df['muendungsD'].convert_objects(convert_numeric=True)\n",
    "df['muendungsH'] = df['muendungsH'].convert_objects(convert_numeric=True)\n",
    "df['minD'] = df['minD'].convert_objects(convert_numeric=True)\n",
    "df['minD_H'] = df['minD_H'].convert_objects(convert_numeric=True)\n",
    "df['maxD'] = df['maxD'].convert_objects(convert_numeric=True)\n",
    "df['maxD_H'] = df['maxD_H'].convert_objects(convert_numeric=True)\n",
    "df['bodenD'] = df['bodenD'].convert_objects(convert_numeric=True)\n",
    "\n",
    "# Verhältnis aus Mündungsdurchmesser / Minimaler Durchmesser\n",
    "df['maxD-muendH'] = df['maxD'] / df['muendungsH']\n",
    "# Verhältnis aus Mündungsdurchmesser / Minimaler Durchmesser\n",
    "df['muend-min'] = df['muendungsD'] / df['minD']\n",
    "# Verhältnis aus Maximaler Durchmesser / Minimaler Durchmesser\n",
    "df['max-min'] = df['maxD'] / df['minD']"
   ]
  },
  {
   "cell_type": "code",
   "execution_count": 102,
   "metadata": {},
   "outputs": [
    {
     "data": {
      "text/plain": [
       "<matplotlib.collections.PathCollection at 0xbbedd7c5f8>"
      ]
     },
     "execution_count": 102,
     "metadata": {},
     "output_type": "execute_result"
    },
    {
     "data": {
      "image/png": "[encoded data removed]",
      "text/plain": [
       "<matplotlib.figure.Figure at 0xbbf0918128>"
      ]
     },
     "metadata": {},
     "output_type": "display_data"
    }
   ],
   "source": [
    "plt.scatter(df['maxD'], df['muendungsH'], alpha=0.5, c = 'g', s = 50, label = 'Weitere')"
   ]
  },
  {
   "cell_type": "code",
   "execution_count": 103,
   "metadata": {},
   "outputs": [
    {
     "data": {
      "text/html": [
       "<div>\n",
       "<table border=\"1\" class=\"dataframe\">\n",
       "  <thead>\n",
       "    <tr>\n",
       "      <th></th>\n",
       "      <th colspan=\"3\" halign=\"left\">amin</th>\n",
       "      <th colspan=\"3\" halign=\"left\">amax</th>\n",
       "    </tr>\n",
       "    <tr>\n",
       "      <th></th>\n",
       "      <th>maxD</th>\n",
       "      <th>muendungsD</th>\n",
       "      <th>muendungsH</th>\n",
       "      <th>maxD</th>\n",
       "      <th>muendungsD</th>\n",
       "      <th>muendungsH</th>\n",
       "    </tr>\n",
       "    <tr>\n",
       "      <th>Form_Gef</th>\n",
       "      <th></th>\n",
       "      <th></th>\n",
       "      <th></th>\n",
       "      <th></th>\n",
       "      <th></th>\n",
       "      <th></th>\n",
       "    </tr>\n",
       "  </thead>\n",
       "  <tbody>\n",
       "    <tr>\n",
       "      <th>A2/A3</th>\n",
       "      <td>NaN</td>\n",
       "      <td>6.0</td>\n",
       "      <td>NaN</td>\n",
       "      <td>NaN</td>\n",
       "      <td>6.0</td>\n",
       "      <td>NaN</td>\n",
       "    </tr>\n",
       "    <tr>\n",
       "      <th>A2/A3 (?)</th>\n",
       "      <td>NaN</td>\n",
       "      <td>7.0</td>\n",
       "      <td>NaN</td>\n",
       "      <td>NaN</td>\n",
       "      <td>7.0</td>\n",
       "      <td>NaN</td>\n",
       "    </tr>\n",
       "    <tr>\n",
       "      <th>E1</th>\n",
       "      <td>13.0</td>\n",
       "      <td>17.0</td>\n",
       "      <td>9.0</td>\n",
       "      <td>27.0</td>\n",
       "      <td>27.5</td>\n",
       "      <td>21.0</td>\n",
       "    </tr>\n",
       "    <tr>\n",
       "      <th>E3 (?)</th>\n",
       "      <td>16.0</td>\n",
       "      <td>NaN</td>\n",
       "      <td>NaN</td>\n",
       "      <td>22.0</td>\n",
       "      <td>NaN</td>\n",
       "      <td>NaN</td>\n",
       "    </tr>\n",
       "    <tr>\n",
       "      <th>E4 (?)</th>\n",
       "      <td>20.0</td>\n",
       "      <td>23.0</td>\n",
       "      <td>NaN</td>\n",
       "      <td>20.0</td>\n",
       "      <td>23.0</td>\n",
       "      <td>NaN</td>\n",
       "    </tr>\n",
       "    <tr>\n",
       "      <th>F3</th>\n",
       "      <td>11.0</td>\n",
       "      <td>13.0</td>\n",
       "      <td>6.5</td>\n",
       "      <td>32.0</td>\n",
       "      <td>36.0</td>\n",
       "      <td>19.0</td>\n",
       "    </tr>\n",
       "    <tr>\n",
       "      <th>F3 (?)</th>\n",
       "      <td>20.0</td>\n",
       "      <td>25.0</td>\n",
       "      <td>NaN</td>\n",
       "      <td>20.0</td>\n",
       "      <td>50.0</td>\n",
       "      <td>NaN</td>\n",
       "    </tr>\n",
       "    <tr>\n",
       "      <th>F3/F1 (?)</th>\n",
       "      <td>20.0</td>\n",
       "      <td>NaN</td>\n",
       "      <td>NaN</td>\n",
       "      <td>20.0</td>\n",
       "      <td>NaN</td>\n",
       "      <td>NaN</td>\n",
       "    </tr>\n",
       "    <tr>\n",
       "      <th>G4</th>\n",
       "      <td>34.0</td>\n",
       "      <td>33.0</td>\n",
       "      <td>NaN</td>\n",
       "      <td>34.0</td>\n",
       "      <td>33.0</td>\n",
       "      <td>NaN</td>\n",
       "    </tr>\n",
       "  </tbody>\n",
       "</table>\n",
       "</div>"
      ],
      "text/plain": [
       "           amin                        amax                      \n",
       "           maxD muendungsD muendungsH  maxD muendungsD muendungsH\n",
       "Form_Gef                                                         \n",
       "A2/A3       NaN        6.0        NaN   NaN        6.0        NaN\n",
       "A2/A3 (?)   NaN        7.0        NaN   NaN        7.0        NaN\n",
       "E1         13.0       17.0        9.0  27.0       27.5       21.0\n",
       "E3 (?)     16.0        NaN        NaN  22.0        NaN        NaN\n",
       "E4 (?)     20.0       23.0        NaN  20.0       23.0        NaN\n",
       "F3         11.0       13.0        6.5  32.0       36.0       19.0\n",
       "F3 (?)     20.0       25.0        NaN  20.0       50.0        NaN\n",
       "F3/F1 (?)  20.0        NaN        NaN  20.0        NaN        NaN\n",
       "G4         34.0       33.0        NaN  34.0       33.0        NaN"
      ]
     },
     "execution_count": 103,
     "metadata": {},
     "output_type": "execute_result"
    }
   ],
   "source": [
    "df.pivot_table(values = ['muendungsD', 'muendungsH', 'maxD'], index = 'Form_Gef', aggfunc = [np.min, np.max])"
   ]
  },
  {
   "cell_type": "code",
   "execution_count": 104,
   "metadata": {},
   "outputs": [
    {
     "data": {
      "image/png": "[encoded data removed]",
      "text/plain": [
       "<matplotlib.figure.Figure at 0xbbef864048>"
      ]
     },
     "metadata": {},
     "output_type": "display_data"
    }
   ],
   "source": [
    "# ==>> eigentlich großer Müll das ganze\n",
    "# einfach nur Tabelle mit Min Max je Gef-Form\n",
    "\n",
    "a = df.loc[df['Form_Gef'].str.contains(\"F3\")]   # G1a-Schalen\n",
    "b = df.loc[~df['Form_Gef'].str.contains(\"F3\")]   # G1b-Schalen\n",
    "\n",
    "fig = plt.figure(1)\n",
    "fig.set_size_inches(12,15)\n",
    "\n",
    "ax = plt.subplot(421)\n",
    "\n",
    "b['muendungsD'].hist(histtype='stepfilled', stacked = False, fc = 'b', label = 'G1b', alpha = 0.5)\n",
    "a['muendungsD'].hist(histtype='stepfilled', stacked = False, fc = 'r', label = 'G1a', alpha = 0.5)\n",
    "\n",
    "plt.axvline(b['muendungsD'].mean(), color='b', linestyle = '--')\n",
    "plt.axvline(a['muendungsD'].mean(), color='r', linestyle = '--')\n",
    "\n",
    "plt.xlabel(\"Mündungsdurchmesser [cm]\")\n",
    "\n",
    "ax.xaxis.grid(False)\n",
    "ax.yaxis.grid(False)\n",
    "\n",
    "plt.legend(loc = 2)\n",
    "\n",
    "ax = plt.subplot(422)\n",
    "\n",
    "b['muendungsH'].hist(histtype='stepfilled', stacked = False, fc = 'b', label = 'G1b', alpha = 0.5, orientation='horizontal')\n",
    "a['muendungsH'].hist(histtype='stepfilled', stacked = False, fc = 'r', label = 'G1a', alpha = 0.5, orientation='horizontal')\n",
    "\n",
    "plt.axhline(b['muendungsH'].mean(), color='b', linestyle = '--')\n",
    "plt.axhline(a['muendungsH'].mean(), color='r', linestyle = '--')\n",
    "\n",
    "ax.xaxis.grid(False)\n",
    "ax.yaxis.grid(False)\n",
    "\n",
    "plt.legend(loc = 1)\n",
    "\n",
    "# df['muendungsH'].hist(histtype='stepfilled', orientation='horizontal')\n",
    "plt.ylabel(\"Mündungshöhe [cm]\")\n",
    "\n",
    "ax = plt.subplot(423)\n",
    "\n",
    "plt.scatter(b['maxD'], b['muendungsH'], alpha=0.5, c = 'b', s = 50, label = 'G1b')\n",
    "plt.scatter(a['maxD'], a['muendungsH'], alpha=0.5, c = 'r', s = 50, label = 'G1a')#\n",
    "plt.legend(loc = 2)\n",
    "plt.xlabel(\"Maximaldurchmesser [cm]\")\n",
    "plt.ylabel(\"Mündungshöhe [cm]\")\n",
    "\n",
    "#ax.plot([0, 10,20,30],[0, 10,20,30], color='black', linestyle = '--')\n",
    "#ax.text(25.5, 23, '1:1', color='black', fontsize=15)\n",
    "\n",
    "#ax.plot([0, 10,20,30],[0, 5,10,15], color='black', linestyle = '--')\n",
    "#ax.text(25.5, 10, '2:1', color='black', fontsize=15)\n",
    "\n",
    "#plt.xlim(0,30) \n",
    "#plt.ylim(0,30) \n",
    "\n",
    "ax.set_aspect('equal')\n",
    "\n",
    "ax = plt.subplot(424)\n",
    "\n",
    "# c['maxD-muendH'].hist(histtype='stepfilled', stacked = False, fc = 'g', label = 'Weitere', alpha = 0.5)\n",
    "b['maxD-muendH'].hist(histtype='stepfilled', stacked = False, fc = 'b', label = 'G1b', alpha = 0.5)\n",
    "a['maxD-muendH'].hist(histtype='stepfilled', stacked = False, fc = 'r', label = 'G1a', alpha = 0.5)\n",
    "\n",
    "plt.axvline(b['maxD-muendH'].mean(), color='b', linestyle = '--')\n",
    "plt.axvline(a['maxD-muendH'].mean(), color='r', linestyle = '--')\n",
    "\n",
    "ax.xaxis.grid(False)\n",
    "ax.yaxis.grid(False)\n",
    "\n",
    "plt.legend(loc = 1)\n",
    "\n",
    "# df['maxD-muendH'].hist(histtype='stepfilled', fc='#CCCCCC')\n",
    "plt.xlabel(\"Maximaler Durchmesser / Mündungshöhe\")\n",
    "\n",
    "ax = plt.subplot(425)\n",
    "\n",
    "b['minD'].hist(histtype='stepfilled', stacked = False, fc = 'b', label = 'G1b', alpha = 0.5)\n",
    "a['minD'].hist(histtype='stepfilled', stacked = False, fc = 'r', label = 'G1a', alpha = 0.5)\n",
    "\n",
    "plt.axvline(b['minD'].mean(), color='b', linestyle = '--')\n",
    "plt.axvline(a['minD'].mean(), color='r', linestyle = '--')\n",
    "\n",
    "ax.xaxis.grid(False)\n",
    "ax.yaxis.grid(False)\n",
    "\n",
    "plt.legend(loc = 2)\n",
    "\n",
    "#df['minD'].hist(histtype='stepfilled', fc='#86B404')\n",
    "plt.xlabel(\"Minimaler Durchmesser [cm]\")\n",
    "\n",
    "ax = plt.subplot(426)\n",
    "\n",
    "b['muend-min'].hist(histtype='stepfilled', stacked = False, fc = 'b', label = 'G1b', alpha = 0.5)\n",
    "a['muend-min'].hist(histtype='stepfilled', stacked = False, fc = 'r', label = 'G1a', alpha = 0.5)\n",
    "\n",
    "plt.axvline(b['muend-min'].mean(), color='b', linestyle = '--')\n",
    "plt.axvline(a['muend-min'].mean(), color='r', linestyle = '--')\n",
    "\n",
    "ax.xaxis.grid(False)\n",
    "ax.yaxis.grid(False)\n",
    "\n",
    "plt.legend(loc = 1)\n",
    "\n",
    "#df['muend-min'].hist(histtype='stepfilled', fc='#E1F5A9')\n",
    "#plt.axvline(df['muend-min'].mean(), color='r', linestyle = '--')\n",
    "# plt.legend([\"Mittelwert\"])\n",
    "plt.xlabel(\"MündungsD / MinD\")\n",
    "\n",
    "ax = plt.subplot(427)\n",
    "\n",
    "b['maxD'].hist(histtype='stepfilled', stacked = False, fc = 'b', label = 'G1b', alpha = 0.5)\n",
    "a['maxD'].hist(histtype='stepfilled', stacked = False, fc = 'r', label = 'G1a', alpha = 0.5)\n",
    "\n",
    "plt.axvline(b['maxD'].mean(), color='b', linestyle = '--')\n",
    "plt.axvline(a['maxD'].mean(), color='r', linestyle = '--')\n",
    "\n",
    "ax.xaxis.grid(False)\n",
    "ax.yaxis.grid(False)\n",
    "\n",
    "plt.legend(loc = 2)\n",
    "\n",
    "# df['maxD'].hist(histtype='stepfilled', fc='#2E64FE')\n",
    "plt.xlabel(\"Maximaler Durchmesser [cm]\")\n",
    "\n",
    "ax = plt.subplot(428)\n",
    "\n",
    "#b['max-min'].hist(histtype='stepfilled', stacked = False, fc = 'b', label = 'G1b', alpha = 0.5)\n",
    "a['max-min'].hist(histtype='stepfilled', stacked = False, fc = 'r', label = 'G1a', alpha = 0.5)\n",
    "\n",
    "#plt.axvline(b['max-min'].mean(), color='b', linestyle = '--')\n",
    "plt.axvline(a['max-min'].mean(), color='r', linestyle = '--')\n",
    "\n",
    "ax.xaxis.grid(False)\n",
    "ax.yaxis.grid(False)\n",
    "\n",
    "# df['max-min'].hist(histtype='stepfilled', fc='#81BEF7')\n",
    "# plt.axvline(df['max-min'].mean(), color='r', linestyle = '--')\n",
    "plt.legend([\"Mittelwert\"])\n",
    "plt.legend(loc = 1)\n",
    "plt.xlabel(\"MaxD / MinD\")\n",
    "\n",
    "plt.tight_layout()\n",
    "\n",
    "# plt.savefig('../output/figs/3-1-2-1_Pikunda-Munda_Keramik-Abmessungen.pdf', bbox_inches='tight')\n",
    "plt.show()"
   ]
  },
  {
   "cell_type": "code",
   "execution_count": 105,
   "metadata": {},
   "outputs": [
    {
     "data": {
      "text/html": [
       "<div>\n",
       "<table border=\"1\" class=\"dataframe\">\n",
       "  <thead>\n",
       "    <tr style=\"text-align: right;\">\n",
       "      <th></th>\n",
       "      <th>muendungsD</th>\n",
       "      <th>muendungsH</th>\n",
       "      <th>minD</th>\n",
       "      <th>minD_H</th>\n",
       "      <th>maxD</th>\n",
       "      <th>maxD_H</th>\n",
       "      <th>bodenD</th>\n",
       "      <th>maxD-muendH</th>\n",
       "      <th>muend-min</th>\n",
       "      <th>max-min</th>\n",
       "    </tr>\n",
       "  </thead>\n",
       "  <tbody>\n",
       "    <tr>\n",
       "      <th>count</th>\n",
       "      <td>16.000000</td>\n",
       "      <td>3.000000</td>\n",
       "      <td>19.000000</td>\n",
       "      <td>9.000000</td>\n",
       "      <td>14.000000</td>\n",
       "      <td>12.000000</td>\n",
       "      <td>9.0</td>\n",
       "      <td>3.000000</td>\n",
       "      <td>10.000000</td>\n",
       "      <td>11.000000</td>\n",
       "    </tr>\n",
       "    <tr>\n",
       "      <th>mean</th>\n",
       "      <td>28.906250</td>\n",
       "      <td>11.500000</td>\n",
       "      <td>22.736842</td>\n",
       "      <td>8.777778</td>\n",
       "      <td>20.821429</td>\n",
       "      <td>3.083333</td>\n",
       "      <td>1.0</td>\n",
       "      <td>1.801769</td>\n",
       "      <td>1.227163</td>\n",
       "      <td>1.075187</td>\n",
       "    </tr>\n",
       "    <tr>\n",
       "      <th>std</th>\n",
       "      <td>9.956939</td>\n",
       "      <td>6.614378</td>\n",
       "      <td>6.980864</td>\n",
       "      <td>4.388274</td>\n",
       "      <td>6.758491</td>\n",
       "      <td>1.904938</td>\n",
       "      <td>3.0</td>\n",
       "      <td>0.340715</td>\n",
       "      <td>0.091384</td>\n",
       "      <td>0.061542</td>\n",
       "    </tr>\n",
       "    <tr>\n",
       "      <th>min</th>\n",
       "      <td>13.000000</td>\n",
       "      <td>6.500000</td>\n",
       "      <td>10.500000</td>\n",
       "      <td>3.500000</td>\n",
       "      <td>11.000000</td>\n",
       "      <td>0.500000</td>\n",
       "      <td>0.0</td>\n",
       "      <td>1.473684</td>\n",
       "      <td>1.069767</td>\n",
       "      <td>0.965517</td>\n",
       "    </tr>\n",
       "    <tr>\n",
       "      <th>25%</th>\n",
       "      <td>23.500000</td>\n",
       "      <td>7.750000</td>\n",
       "      <td>19.000000</td>\n",
       "      <td>4.500000</td>\n",
       "      <td>16.000000</td>\n",
       "      <td>1.750000</td>\n",
       "      <td>0.0</td>\n",
       "      <td>1.625731</td>\n",
       "      <td>1.179310</td>\n",
       "      <td>1.050125</td>\n",
       "    </tr>\n",
       "    <tr>\n",
       "      <th>50%</th>\n",
       "      <td>29.500000</td>\n",
       "      <td>9.000000</td>\n",
       "      <td>21.000000</td>\n",
       "      <td>9.000000</td>\n",
       "      <td>20.000000</td>\n",
       "      <td>3.000000</td>\n",
       "      <td>0.0</td>\n",
       "      <td>1.777778</td>\n",
       "      <td>1.234432</td>\n",
       "      <td>1.052632</td>\n",
       "    </tr>\n",
       "    <tr>\n",
       "      <th>75%</th>\n",
       "      <td>32.500000</td>\n",
       "      <td>14.000000</td>\n",
       "      <td>26.500000</td>\n",
       "      <td>11.000000</td>\n",
       "      <td>27.250000</td>\n",
       "      <td>4.000000</td>\n",
       "      <td>0.0</td>\n",
       "      <td>1.965812</td>\n",
       "      <td>1.262500</td>\n",
       "      <td>1.106643</td>\n",
       "    </tr>\n",
       "    <tr>\n",
       "      <th>max</th>\n",
       "      <td>50.000000</td>\n",
       "      <td>19.000000</td>\n",
       "      <td>43.000000</td>\n",
       "      <td>17.000000</td>\n",
       "      <td>32.000000</td>\n",
       "      <td>7.000000</td>\n",
       "      <td>9.0</td>\n",
       "      <td>2.153846</td>\n",
       "      <td>1.380952</td>\n",
       "      <td>1.185185</td>\n",
       "    </tr>\n",
       "  </tbody>\n",
       "</table>\n",
       "</div>"
      ],
      "text/plain": [
       "       muendungsD  muendungsH       minD     minD_H       maxD     maxD_H  \\\n",
       "count   16.000000    3.000000  19.000000   9.000000  14.000000  12.000000   \n",
       "mean    28.906250   11.500000  22.736842   8.777778  20.821429   3.083333   \n",
       "std      9.956939    6.614378   6.980864   4.388274   6.758491   1.904938   \n",
       "min     13.000000    6.500000  10.500000   3.500000  11.000000   0.500000   \n",
       "25%     23.500000    7.750000  19.000000   4.500000  16.000000   1.750000   \n",
       "50%     29.500000    9.000000  21.000000   9.000000  20.000000   3.000000   \n",
       "75%     32.500000   14.000000  26.500000  11.000000  27.250000   4.000000   \n",
       "max     50.000000   19.000000  43.000000  17.000000  32.000000   7.000000   \n",
       "\n",
       "       bodenD  maxD-muendH  muend-min    max-min  \n",
       "count     9.0     3.000000  10.000000  11.000000  \n",
       "mean      1.0     1.801769   1.227163   1.075187  \n",
       "std       3.0     0.340715   0.091384   0.061542  \n",
       "min       0.0     1.473684   1.069767   0.965517  \n",
       "25%       0.0     1.625731   1.179310   1.050125  \n",
       "50%       0.0     1.777778   1.234432   1.052632  \n",
       "75%       0.0     1.965812   1.262500   1.106643  \n",
       "max       9.0     2.153846   1.380952   1.185185  "
      ]
     },
     "execution_count": 105,
     "metadata": {},
     "output_type": "execute_result"
    }
   ],
   "source": [
    "a.describe()"
   ]
  },
  {
   "cell_type": "code",
   "execution_count": 107,
   "metadata": {},
   "outputs": [
    {
     "data": {
      "text/html": [
       "<div>\n",
       "<table border=\"1\" class=\"dataframe\">\n",
       "  <thead>\n",
       "    <tr style=\"text-align: right;\">\n",
       "      <th></th>\n",
       "      <th>muendungsD</th>\n",
       "      <th>muendungsH</th>\n",
       "      <th>minD</th>\n",
       "      <th>minD_H</th>\n",
       "      <th>maxD</th>\n",
       "      <th>maxD_H</th>\n",
       "      <th>bodenD</th>\n",
       "      <th>maxD-muendH</th>\n",
       "      <th>muend-min</th>\n",
       "      <th>max-min</th>\n",
       "    </tr>\n",
       "  </thead>\n",
       "  <tbody>\n",
       "    <tr>\n",
       "      <th>count</th>\n",
       "      <td>7.000000</td>\n",
       "      <td>3.000000</td>\n",
       "      <td>3.000000</td>\n",
       "      <td>1.0</td>\n",
       "      <td>7.000000</td>\n",
       "      <td>5.000000</td>\n",
       "      <td>5.000000</td>\n",
       "      <td>3.000000</td>\n",
       "      <td>3.000000</td>\n",
       "      <td>1.000000</td>\n",
       "    </tr>\n",
       "    <tr>\n",
       "      <th>mean</th>\n",
       "      <td>18.714286</td>\n",
       "      <td>13.500000</td>\n",
       "      <td>11.500000</td>\n",
       "      <td>17.0</td>\n",
       "      <td>20.928571</td>\n",
       "      <td>3.700000</td>\n",
       "      <td>2.400000</td>\n",
       "      <td>1.370370</td>\n",
       "      <td>1.178960</td>\n",
       "      <td>1.148936</td>\n",
       "    </tr>\n",
       "    <tr>\n",
       "      <th>std</th>\n",
       "      <td>10.024375</td>\n",
       "      <td>6.538348</td>\n",
       "      <td>10.404326</td>\n",
       "      <td>NaN</td>\n",
       "      <td>7.507932</td>\n",
       "      <td>2.841654</td>\n",
       "      <td>3.361547</td>\n",
       "      <td>0.079892</td>\n",
       "      <td>0.018307</td>\n",
       "      <td>NaN</td>\n",
       "    </tr>\n",
       "    <tr>\n",
       "      <th>min</th>\n",
       "      <td>6.000000</td>\n",
       "      <td>9.000000</td>\n",
       "      <td>5.000000</td>\n",
       "      <td>17.0</td>\n",
       "      <td>13.000000</td>\n",
       "      <td>1.500000</td>\n",
       "      <td>0.000000</td>\n",
       "      <td>1.285714</td>\n",
       "      <td>1.166667</td>\n",
       "      <td>1.148936</td>\n",
       "    </tr>\n",
       "    <tr>\n",
       "      <th>25%</th>\n",
       "      <td>12.000000</td>\n",
       "      <td>9.750000</td>\n",
       "      <td>5.500000</td>\n",
       "      <td>17.0</td>\n",
       "      <td>15.250000</td>\n",
       "      <td>2.000000</td>\n",
       "      <td>0.000000</td>\n",
       "      <td>1.333333</td>\n",
       "      <td>1.168440</td>\n",
       "      <td>1.148936</td>\n",
       "    </tr>\n",
       "    <tr>\n",
       "      <th>50%</th>\n",
       "      <td>17.500000</td>\n",
       "      <td>10.500000</td>\n",
       "      <td>6.000000</td>\n",
       "      <td>17.0</td>\n",
       "      <td>20.000000</td>\n",
       "      <td>2.500000</td>\n",
       "      <td>0.000000</td>\n",
       "      <td>1.380952</td>\n",
       "      <td>1.170213</td>\n",
       "      <td>1.148936</td>\n",
       "    </tr>\n",
       "    <tr>\n",
       "      <th>75%</th>\n",
       "      <td>25.250000</td>\n",
       "      <td>15.750000</td>\n",
       "      <td>14.750000</td>\n",
       "      <td>17.0</td>\n",
       "      <td>24.500000</td>\n",
       "      <td>4.000000</td>\n",
       "      <td>5.000000</td>\n",
       "      <td>1.412698</td>\n",
       "      <td>1.185106</td>\n",
       "      <td>1.148936</td>\n",
       "    </tr>\n",
       "    <tr>\n",
       "      <th>max</th>\n",
       "      <td>33.000000</td>\n",
       "      <td>21.000000</td>\n",
       "      <td>23.500000</td>\n",
       "      <td>17.0</td>\n",
       "      <td>34.000000</td>\n",
       "      <td>8.500000</td>\n",
       "      <td>7.000000</td>\n",
       "      <td>1.444444</td>\n",
       "      <td>1.200000</td>\n",
       "      <td>1.148936</td>\n",
       "    </tr>\n",
       "  </tbody>\n",
       "</table>\n",
       "</div>"
      ],
      "text/plain": [
       "       muendungsD  muendungsH       minD  minD_H       maxD    maxD_H  \\\n",
       "count    7.000000    3.000000   3.000000     1.0   7.000000  5.000000   \n",
       "mean    18.714286   13.500000  11.500000    17.0  20.928571  3.700000   \n",
       "std     10.024375    6.538348  10.404326     NaN   7.507932  2.841654   \n",
       "min      6.000000    9.000000   5.000000    17.0  13.000000  1.500000   \n",
       "25%     12.000000    9.750000   5.500000    17.0  15.250000  2.000000   \n",
       "50%     17.500000   10.500000   6.000000    17.0  20.000000  2.500000   \n",
       "75%     25.250000   15.750000  14.750000    17.0  24.500000  4.000000   \n",
       "max     33.000000   21.000000  23.500000    17.0  34.000000  8.500000   \n",
       "\n",
       "         bodenD  maxD-muendH  muend-min   max-min  \n",
       "count  5.000000     3.000000   3.000000  1.000000  \n",
       "mean   2.400000     1.370370   1.178960  1.148936  \n",
       "std    3.361547     0.079892   0.018307       NaN  \n",
       "min    0.000000     1.285714   1.166667  1.148936  \n",
       "25%    0.000000     1.333333   1.168440  1.148936  \n",
       "50%    0.000000     1.380952   1.170213  1.148936  \n",
       "75%    5.000000     1.412698   1.185106  1.148936  \n",
       "max    7.000000     1.444444   1.200000  1.148936  "
      ]
     },
     "execution_count": 107,
     "metadata": {},
     "output_type": "execute_result"
    }
   ],
   "source": [
    "b.describe()"
   ]
  },
  {
   "cell_type": "code",
   "execution_count": null,
   "metadata": {
    "collapsed": true
   },
   "outputs": [],
   "source": []
  },
  {
   "cell_type": "markdown",
   "metadata": {},
   "source": [
    "## Bauchform"
   ]
  },
  {
   "cell_type": "code",
   "execution_count": 44,
   "metadata": {
    "collapsed": true
   },
   "outputs": [],
   "source": [
    "sql = \"\"\"SELECT\n",
    "           t_Ort.ort_kurz,\n",
    "           t_Ort.ort_name,\n",
    "           t_Obj.objID,\n",
    "           t_Obj.Typ,\n",
    "           t_Obj.Form_Gef,\n",
    "           t_Obj.Form_Bauch\n",
    "       FROM (t_Ort INNER JOIN t_Komplex ON t_Ort.ortID = t_Komplex.ortID)\n",
    "           INNER JOIN t_Obj ON t_Komplex.komplexID = t_Obj.komplexID\n",
    "       WHERE (((t_Ort.ort_lit)='DS')\n",
    "           AND ((t_Obj.Typ) Like '%MKA%')\n",
    "           AND ((t_Obj.Form_Bauch) != '')\n",
    "           AND ((t_Obj.Anzahl) = 1))\"\"\".replace('\\n',' ')\n",
    "\n",
    "df = pd.read_sql(sql, con)\n",
    "\n",
    "# die Fragezeichen bei Gef-Form & Bauch-Form einfach löschen\n",
    "#df['Form_Gef'] = df['Form_Gef'].map(lambda x: x.rstrip(' (?)'))\n",
    "#df['Form_Bauch'] = df['Form_Bauch'].map(lambda x: x.rstrip(' (?)'))\n",
    "\n",
    "#display(df.head())"
   ]
  },
  {
   "cell_type": "code",
   "execution_count": 45,
   "metadata": {},
   "outputs": [
    {
     "data": {
      "text/html": [
       "<div>\n",
       "<table border=\"1\" class=\"dataframe\">\n",
       "  <thead>\n",
       "    <tr style=\"text-align: right;\">\n",
       "      <th></th>\n",
       "      <th>0</th>\n",
       "      <th>Prozent</th>\n",
       "    </tr>\n",
       "  </thead>\n",
       "  <tbody>\n",
       "    <tr>\n",
       "      <th>Bauchknick</th>\n",
       "      <td>10</td>\n",
       "      <td>33.333333</td>\n",
       "    </tr>\n",
       "    <tr>\n",
       "      <th>Rest</th>\n",
       "      <td>5</td>\n",
       "      <td>16.666667</td>\n",
       "    </tr>\n",
       "    <tr>\n",
       "      <th>konkaves Oberteil</th>\n",
       "      <td>15</td>\n",
       "      <td>50.000000</td>\n",
       "    </tr>\n",
       "  </tbody>\n",
       "</table>\n",
       "</div>"
      ],
      "text/plain": [
       "                    0    Prozent\n",
       "Bauchknick         10  33.333333\n",
       "Rest                5  16.666667\n",
       "konkaves Oberteil  15  50.000000"
      ]
     },
     "execution_count": 45,
     "metadata": {},
     "output_type": "execute_result"
    }
   ],
   "source": [
    "a = pd.Series({'Bauchknick':len(df.loc[df['Form_Bauch'].str.contains(\"D1\")].index), \n",
    "               'konkaves Oberteil':len(df.loc[df['Form_Bauch'].str.contains(\"C1\")].index),\n",
    "               'Rest':len(df.loc[~df['Form_Bauch'].str.contains(\"C1|D1\")].index)})\n",
    "a = pd.DataFrame(a)\n",
    "\n",
    "a['Prozent'] = a[0]/a[0].sum()*100\n",
    "a"
   ]
  },
  {
   "cell_type": "code",
   "execution_count": 46,
   "metadata": {},
   "outputs": [
    {
     "name": "stderr",
     "output_type": "stream",
     "text": [
      "C:\\Users\\Dirk\\Anaconda3\\lib\\site-packages\\ipykernel\\__main__.py:4: FutureWarning: by argument to sort_index is deprecated, pls use .sort_values(by=...)\n"
     ]
    },
    {
     "data": {
      "text/html": [
       "<div>\n",
       "<table border=\"1\" class=\"dataframe\">\n",
       "  <thead>\n",
       "    <tr style=\"text-align: right;\">\n",
       "      <th></th>\n",
       "      <th>objID</th>\n",
       "      <th>Prozent</th>\n",
       "    </tr>\n",
       "    <tr>\n",
       "      <th>Form_Bauch</th>\n",
       "      <th></th>\n",
       "      <th></th>\n",
       "    </tr>\n",
       "  </thead>\n",
       "  <tbody>\n",
       "    <tr>\n",
       "      <th>C1</th>\n",
       "      <td>8</td>\n",
       "      <td>33.333333</td>\n",
       "    </tr>\n",
       "    <tr>\n",
       "      <th>C1/D1</th>\n",
       "      <td>4</td>\n",
       "      <td>16.666667</td>\n",
       "    </tr>\n",
       "    <tr>\n",
       "      <th>A1</th>\n",
       "      <td>3</td>\n",
       "      <td>12.500000</td>\n",
       "    </tr>\n",
       "    <tr>\n",
       "      <th>C1/leicht/D1</th>\n",
       "      <td>2</td>\n",
       "      <td>8.333333</td>\n",
       "    </tr>\n",
       "    <tr>\n",
       "      <th>D1</th>\n",
       "      <td>2</td>\n",
       "      <td>8.333333</td>\n",
       "    </tr>\n",
       "    <tr>\n",
       "      <th>D2</th>\n",
       "      <td>2</td>\n",
       "      <td>8.333333</td>\n",
       "    </tr>\n",
       "    <tr>\n",
       "      <th>B1/D1</th>\n",
       "      <td>1</td>\n",
       "      <td>4.166667</td>\n",
       "    </tr>\n",
       "    <tr>\n",
       "      <th>B1/ausbiegend/D1</th>\n",
       "      <td>1</td>\n",
       "      <td>4.166667</td>\n",
       "    </tr>\n",
       "    <tr>\n",
       "      <th>C1 (?)</th>\n",
       "      <td>1</td>\n",
       "      <td>4.166667</td>\n",
       "    </tr>\n",
       "  </tbody>\n",
       "</table>\n",
       "</div>"
      ],
      "text/plain": [
       "                  objID    Prozent\n",
       "Form_Bauch                        \n",
       "C1                    8  33.333333\n",
       "C1/D1                 4  16.666667\n",
       "A1                    3  12.500000\n",
       "C1/leicht/D1          2   8.333333\n",
       "D1                    2   8.333333\n",
       "D2                    2   8.333333\n",
       "B1/D1                 1   4.166667\n",
       "B1/ausbiegend/D1      1   4.166667\n",
       "C1 (?)                1   4.166667"
      ]
     },
     "execution_count": 46,
     "metadata": {},
     "output_type": "execute_result"
    }
   ],
   "source": [
    "df_pivot = df.pivot_table(values = 'objID', index = 'Form_Bauch', aggfunc = len)\n",
    "df_pivot = pd.DataFrame(df_pivot)\n",
    "# Sortierung in Aufsteigend ändern\n",
    "df_pivot = df_pivot.sort_index(by = ['objID'], ascending=False)\n",
    "# Prozent-Anteil errechnen\n",
    "df_pivot['Prozent'] = df_pivot['objID']/df_pivot['objID'].sum()*100\n",
    "df_pivot"
   ]
  },
  {
   "cell_type": "code",
   "execution_count": 47,
   "metadata": {},
   "outputs": [
    {
     "data": {
      "image/png": "[encoded data removed]",
      "text/plain": [
       "<matplotlib.figure.Figure at 0xbbedffe5f8>"
      ]
     },
     "metadata": {},
     "output_type": "display_data"
    }
   ],
   "source": [
    "df_pivot = df.pivot_table(values = 'objID', index = 'Form_Bauch', columns = 'Form_Gef', fill_value = 0, aggfunc = len)\n",
    "\n",
    "plt.imshow(df_pivot, interpolation='nearest', cmap='Greys', alpha = .5)\n",
    "plt.yticks(range(len(df_pivot.index)), df_pivot.index)\n",
    "plt.xticks(range(len(df_pivot.columns)), df_pivot.columns, rotation='vertical')\n",
    "# plt.colorbar(orientation='horizontal')\n",
    "for (i, j), z in np.ndenumerate(df_pivot):\n",
    "    plt.text(j, i, '{:0.0f}'.format(z), ha='center', va='center')\n",
    "plt.tight_layout()\n",
    "plt.show()"
   ]
  },
  {
   "cell_type": "markdown",
   "metadata": {},
   "source": [
    "## Mündungs- und Randformen"
   ]
  },
  {
   "cell_type": "code",
   "execution_count": 113,
   "metadata": {
    "collapsed": true
   },
   "outputs": [],
   "source": [
    "sql = \"\"\"SELECT\n",
    "           t_Ort.ort_kurz,\n",
    "           t_Ort.ort_name,\n",
    "           t_Obj.objID,\n",
    "           t_Obj.Typ,\n",
    "           t_Obj.Form_Mdg,\n",
    "           t_Obj.Form_Rand,\n",
    "           t_Obj.Form_Hals,\n",
    "           t_Obj.Form_Schulter,\n",
    "           t_Obj.Form_Gef\n",
    "       FROM (t_Ort INNER JOIN t_Komplex ON t_Ort.ortID = t_Komplex.ortID)\n",
    "           INNER JOIN t_Obj ON t_Komplex.komplexID = t_Obj.komplexID\n",
    "       WHERE (((t_Ort.ort_lit)='DS')\n",
    "           AND ((t_Obj.Typ) Like '%MKA%')\n",
    "           AND ((t_Obj.Anzahl) = 1))\"\"\".replace('\\n',' ')\n",
    "\n",
    "df = pd.read_sql(sql, con)\n",
    "# leere Werte in NaN ändern\n",
    "df = df.replace('',np.nan, regex=True)\n",
    "# display(df.head())"
   ]
  },
  {
   "cell_type": "code",
   "execution_count": 114,
   "metadata": {},
   "outputs": [
    {
     "name": "stderr",
     "output_type": "stream",
     "text": [
      "C:\\Users\\Dirk\\Anaconda3\\lib\\site-packages\\ipykernel\\__main__.py:5: FutureWarning: by argument to sort_index is deprecated, pls use .sort_values(by=...)\n"
     ]
    },
    {
     "data": {
      "text/html": [
       "<div>\n",
       "<table border=\"1\" class=\"dataframe\">\n",
       "  <thead>\n",
       "    <tr style=\"text-align: right;\">\n",
       "      <th></th>\n",
       "      <th>objID</th>\n",
       "      <th>Prozent</th>\n",
       "    </tr>\n",
       "    <tr>\n",
       "      <th>Form_Mdg</th>\n",
       "      <th></th>\n",
       "      <th></th>\n",
       "    </tr>\n",
       "  </thead>\n",
       "  <tbody>\n",
       "    <tr>\n",
       "      <th>M5</th>\n",
       "      <td>39</td>\n",
       "      <td>67.241379</td>\n",
       "    </tr>\n",
       "    <tr>\n",
       "      <th>M2</th>\n",
       "      <td>8</td>\n",
       "      <td>13.793103</td>\n",
       "    </tr>\n",
       "    <tr>\n",
       "      <th>M3</th>\n",
       "      <td>4</td>\n",
       "      <td>6.896552</td>\n",
       "    </tr>\n",
       "    <tr>\n",
       "      <th>M1/M2</th>\n",
       "      <td>1</td>\n",
       "      <td>1.724138</td>\n",
       "    </tr>\n",
       "    <tr>\n",
       "      <th>M2 (?)</th>\n",
       "      <td>1</td>\n",
       "      <td>1.724138</td>\n",
       "    </tr>\n",
       "    <tr>\n",
       "      <th>M2/M5</th>\n",
       "      <td>1</td>\n",
       "      <td>1.724138</td>\n",
       "    </tr>\n",
       "    <tr>\n",
       "      <th>M3/M5</th>\n",
       "      <td>1</td>\n",
       "      <td>1.724138</td>\n",
       "    </tr>\n",
       "    <tr>\n",
       "      <th>M4</th>\n",
       "      <td>1</td>\n",
       "      <td>1.724138</td>\n",
       "    </tr>\n",
       "    <tr>\n",
       "      <th>M5/M1</th>\n",
       "      <td>1</td>\n",
       "      <td>1.724138</td>\n",
       "    </tr>\n",
       "    <tr>\n",
       "      <th>M5/rund</th>\n",
       "      <td>1</td>\n",
       "      <td>1.724138</td>\n",
       "    </tr>\n",
       "  </tbody>\n",
       "</table>\n",
       "</div>"
      ],
      "text/plain": [
       "          objID    Prozent\n",
       "Form_Mdg                  \n",
       "M5           39  67.241379\n",
       "M2            8  13.793103\n",
       "M3            4   6.896552\n",
       "M1/M2         1   1.724138\n",
       "M2 (?)        1   1.724138\n",
       "M2/M5         1   1.724138\n",
       "M3/M5         1   1.724138\n",
       "M4            1   1.724138\n",
       "M5/M1         1   1.724138\n",
       "M5/rund       1   1.724138"
      ]
     },
     "execution_count": 114,
     "metadata": {},
     "output_type": "execute_result"
    }
   ],
   "source": [
    "# Zeilen ohne Mdg löschen\n",
    "df_pivot = df.pivot_table(values = 'objID', index = 'Form_Mdg', aggfunc = len)\n",
    "df_pivot = pd.DataFrame(df_pivot)\n",
    "# Sortierung in Aufsteigend ändern\n",
    "df_pivot = df_pivot.sort_index(by = ['objID'], ascending=False)\n",
    "# Prozent-Anteil errechnen\n",
    "df_pivot['Prozent'] = df_pivot['objID']/df_pivot['objID'].sum()*100\n",
    "df_pivot"
   ]
  },
  {
   "cell_type": "code",
   "execution_count": 115,
   "metadata": {},
   "outputs": [
    {
     "data": {
      "text/plain": [
       "58"
      ]
     },
     "execution_count": 115,
     "metadata": {},
     "output_type": "execute_result"
    }
   ],
   "source": [
    "df_pivot['objID'].sum()"
   ]
  },
  {
   "cell_type": "code",
   "execution_count": 111,
   "metadata": {},
   "outputs": [
    {
     "name": "stderr",
     "output_type": "stream",
     "text": [
      "C:\\Users\\Dirk\\Anaconda3\\lib\\site-packages\\ipykernel\\__main__.py:5: FutureWarning: by argument to sort_index is deprecated, pls use .sort_values(by=...)\n"
     ]
    },
    {
     "data": {
      "text/html": [
       "<div>\n",
       "<table border=\"1\" class=\"dataframe\">\n",
       "  <thead>\n",
       "    <tr style=\"text-align: right;\">\n",
       "      <th></th>\n",
       "      <th>objID</th>\n",
       "      <th>Prozent</th>\n",
       "    </tr>\n",
       "    <tr>\n",
       "      <th>Form_Rand</th>\n",
       "      <th></th>\n",
       "      <th></th>\n",
       "    </tr>\n",
       "  </thead>\n",
       "  <tbody>\n",
       "    <tr>\n",
       "      <th>B1.5</th>\n",
       "      <td>52</td>\n",
       "      <td>77.611940</td>\n",
       "    </tr>\n",
       "    <tr>\n",
       "      <th>B1</th>\n",
       "      <td>6</td>\n",
       "      <td>8.955224</td>\n",
       "    </tr>\n",
       "    <tr>\n",
       "      <th>B1.5 (?)</th>\n",
       "      <td>3</td>\n",
       "      <td>4.477612</td>\n",
       "    </tr>\n",
       "    <tr>\n",
       "      <th>B2</th>\n",
       "      <td>2</td>\n",
       "      <td>2.985075</td>\n",
       "    </tr>\n",
       "    <tr>\n",
       "      <th>A1</th>\n",
       "      <td>1</td>\n",
       "      <td>1.492537</td>\n",
       "    </tr>\n",
       "  </tbody>\n",
       "</table>\n",
       "</div>"
      ],
      "text/plain": [
       "           objID    Prozent\n",
       "Form_Rand                  \n",
       "B1.5          52  77.611940\n",
       "B1             6   8.955224\n",
       "B1.5 (?)       3   4.477612\n",
       "B2             2   2.985075\n",
       "A1             1   1.492537"
      ]
     },
     "metadata": {},
     "output_type": "display_data"
    }
   ],
   "source": [
    "# Zeilen ohne Mdg löschen\n",
    "df_pivot = df.pivot_table(values = 'objID', index = 'Form_Rand', aggfunc = len)\n",
    "df_pivot = pd.DataFrame(df_pivot)\n",
    "# Sortierung in Aufsteigend ändern\n",
    "df_pivot = df_pivot.sort_index(by = ['objID'], ascending=False)\n",
    "# Prozent-Anteil errechnen\n",
    "df_pivot['Prozent'] = df_pivot['objID']/df_pivot['objID'].sum()*100\n",
    "display(df_pivot.head())"
   ]
  },
  {
   "cell_type": "code",
   "execution_count": 112,
   "metadata": {},
   "outputs": [
    {
     "data": {
      "text/plain": [
       "67"
      ]
     },
     "execution_count": 112,
     "metadata": {},
     "output_type": "execute_result"
    }
   ],
   "source": [
    "df_pivot['objID'].sum()"
   ]
  },
  {
   "cell_type": "code",
   "execution_count": 51,
   "metadata": {},
   "outputs": [
    {
     "data": {
      "text/plain": [
       "<matplotlib.text.Text at 0xbbef50b048>"
      ]
     },
     "execution_count": 51,
     "metadata": {},
     "output_type": "execute_result"
    },
    {
     "data": {
      "image/png": "[encoded data removed]",
      "text/plain": [
       "<matplotlib.figure.Figure at 0xbbef4fe940>"
      ]
     },
     "metadata": {},
     "output_type": "display_data"
    }
   ],
   "source": [
    "fig = plt.figure()\n",
    "fig.set_size_inches(5, 5)\n",
    "df_pivot['objID'].plot(kind='pie', autopct='%.0f %%', cmap = 'Paired')\n",
    "plt.ylabel('')"
   ]
  },
  {
   "cell_type": "code",
   "execution_count": 52,
   "metadata": {},
   "outputs": [
    {
     "data": {
      "image/png": "[encoded data removed]",
      "text/plain": [
       "<matplotlib.figure.Figure at 0xbbef4fe860>"
      ]
     },
     "metadata": {},
     "output_type": "display_data"
    }
   ],
   "source": [
    "df_pivot = df.pivot_table(values = 'objID', index = 'Form_Gef', columns = 'Form_Rand', fill_value = 0, aggfunc = len)\n",
    "\n",
    "plt.imshow(df_pivot, interpolation='nearest', cmap='Greys', alpha = .5)\n",
    "plt.yticks(range(len(df_pivot.index)), df_pivot.index)\n",
    "plt.xticks(range(len(df_pivot.columns)), df_pivot.columns, rotation='vertical')\n",
    "# plt.colorbar(orientation='horizontal')\n",
    "for (i, j), z in np.ndenumerate(df_pivot):\n",
    "    plt.text(j, i, '{:0.0f}'.format(z), ha='center', va='center')\n",
    "plt.tight_layout()\n",
    "plt.show()"
   ]
  },
  {
   "cell_type": "code",
   "execution_count": 53,
   "metadata": {},
   "outputs": [
    {
     "data": {
      "image/png": "[encoded data removed]",
      "text/plain": [
       "<matplotlib.figure.Figure at 0xbbef6ab358>"
      ]
     },
     "metadata": {},
     "output_type": "display_data"
    }
   ],
   "source": [
    "df_pivot = df.pivot_table(values = 'objID', index = 'Form_Mdg', columns = 'Form_Rand', fill_value = 0, aggfunc = len)\n",
    "\n",
    "plt.imshow(df_pivot, interpolation='nearest', cmap='Greys', alpha = .5)\n",
    "plt.yticks(range(len(df_pivot.index)), df_pivot.index)\n",
    "plt.xticks(range(len(df_pivot.columns)), df_pivot.columns, rotation='vertical')\n",
    "# plt.colorbar(orientation='horizontal')\n",
    "for (i, j), z in np.ndenumerate(df_pivot):\n",
    "    plt.text(j, i, '{:0.0f}'.format(z), ha='center', va='center')\n",
    "plt.tight_layout()\n",
    "plt.show()"
   ]
  },
  {
   "cell_type": "code",
   "execution_count": 54,
   "metadata": {},
   "outputs": [
    {
     "data": {
      "text/plain": [
       "<matplotlib.text.Text at 0xbbef846438>"
      ]
     },
     "execution_count": 54,
     "metadata": {},
     "output_type": "execute_result"
    },
    {
     "data": {
      "image/png": "[encoded data removed]",
      "text/plain": [
       "<matplotlib.figure.Figure at 0xbbef506400>"
      ]
     },
     "metadata": {},
     "output_type": "display_data"
    }
   ],
   "source": [
    "df_pivot = df.pivot_table(values = 'objID', index = 'Form_Hals', aggfunc = len)\n",
    "fig = plt.figure()\n",
    "fig.set_size_inches(5, 5)\n",
    "df_pivot.plot(kind='pie', autopct='%.0f %%', cmap = 'Paired')\n",
    "plt.title(\"Hals\")"
   ]
  },
  {
   "cell_type": "code",
   "execution_count": 55,
   "metadata": {},
   "outputs": [
    {
     "data": {
      "text/plain": [
       "<matplotlib.text.Text at 0xbbef6cf0b8>"
      ]
     },
     "execution_count": 55,
     "metadata": {},
     "output_type": "execute_result"
    },
    {
     "data": {
      "image/png": "[encoded data removed]",
      "text/plain": [
       "<matplotlib.figure.Figure at 0xbbef83b0b8>"
      ]
     },
     "metadata": {},
     "output_type": "display_data"
    }
   ],
   "source": [
    "df_pivot = df.pivot_table(values = 'objID', index = 'Form_Schulter', aggfunc = len)\n",
    "fig = plt.figure()\n",
    "fig.set_size_inches(5, 5)\n",
    "df_pivot.plot(kind='pie', autopct='%.0f %%', cmap = 'Paired')\n",
    "plt.title(\"Schulter\")"
   ]
  },
  {
   "cell_type": "markdown",
   "metadata": {},
   "source": [
    "## Bodenformen"
   ]
  },
  {
   "cell_type": "code",
   "execution_count": 56,
   "metadata": {},
   "outputs": [
    {
     "data": {
      "text/html": [
       "<div>\n",
       "<table border=\"1\" class=\"dataframe\">\n",
       "  <thead>\n",
       "    <tr style=\"text-align: right;\">\n",
       "      <th></th>\n",
       "      <th>objID</th>\n",
       "      <th>Prozent</th>\n",
       "    </tr>\n",
       "    <tr>\n",
       "      <th>Form_Boden</th>\n",
       "      <th></th>\n",
       "      <th></th>\n",
       "    </tr>\n",
       "  </thead>\n",
       "  <tbody>\n",
       "    <tr>\n",
       "      <th>B1</th>\n",
       "      <td>15</td>\n",
       "      <td>88.235294</td>\n",
       "    </tr>\n",
       "    <tr>\n",
       "      <th>B2</th>\n",
       "      <td>2</td>\n",
       "      <td>11.764706</td>\n",
       "    </tr>\n",
       "  </tbody>\n",
       "</table>\n",
       "</div>"
      ],
      "text/plain": [
       "            objID    Prozent\n",
       "Form_Boden                  \n",
       "B1             15  88.235294\n",
       "B2              2  11.764706"
      ]
     },
     "execution_count": 56,
     "metadata": {},
     "output_type": "execute_result"
    }
   ],
   "source": [
    "sql = \"\"\"SELECT\n",
    "           t_Ort.ort_kurz,\n",
    "           t_Ort.ort_name,\n",
    "           t_Obj.objID,\n",
    "           t_Obj.Typ,\n",
    "           t_Obj.Form_Gef,\n",
    "           t_Obj.Form_Boden\n",
    "       FROM (t_Ort INNER JOIN t_Komplex ON t_Ort.ortID = t_Komplex.ortID)\n",
    "           INNER JOIN t_Obj ON t_Komplex.komplexID = t_Obj.komplexID\n",
    "       WHERE (((t_Ort.ort_lit)='DS')\n",
    "           AND ((t_Obj.Typ) Like '%MKA%')\n",
    "           AND ((t_Obj.Anzahl) = 1)\n",
    "           AND ((t_Obj.Form_Boden) != ''))\"\"\".replace('\\n',' ')\n",
    "\n",
    "df = pd.read_sql(sql, con)\n",
    "df_pivot = df.pivot_table(values = 'objID', index = 'Form_Boden', aggfunc = len)\n",
    "df_pivot = pd.DataFrame(df_pivot)\n",
    "df_pivot['Prozent'] = df_pivot['objID']/df_pivot['objID'].sum()*100\n",
    "df_pivot"
   ]
  },
  {
   "cell_type": "code",
   "execution_count": 57,
   "metadata": {},
   "outputs": [
    {
     "data": {
      "text/plain": [
       "17"
      ]
     },
     "execution_count": 57,
     "metadata": {},
     "output_type": "execute_result"
    }
   ],
   "source": [
    "len(df['Form_Boden'])"
   ]
  },
  {
   "cell_type": "markdown",
   "metadata": {},
   "source": [
    "## Verzierungselemente"
   ]
  },
  {
   "cell_type": "code",
   "execution_count": 2,
   "metadata": {},
   "outputs": [
    {
     "name": "stderr",
     "output_type": "stream",
     "text": [
      "C:\\Users\\Dirk\\Dropbox\\Dissertation\\Python\\myfunctions.py:66: SettingWithCopyWarning: \n",
      "A value is trying to be set on a copy of a slice from a DataFrame.\n",
      "Try using .loc[row_indexer,col_indexer] = value instead\n",
      "\n",
      "See the caveats in the documentation: http://pandas.pydata.org/pandas-docs/stable/indexing.html#indexing-view-versus-copy\n",
      "  df1['n'] = 1\n",
      "C:\\Users\\Dirk\\Dropbox\\Dissertation\\Python\\myfunctions.py:88: FutureWarning: convert_objects is deprecated.  Use the data-type specific converters pd.to_datetime, pd.to_timedelta and pd.to_numeric.\n",
      "  ab[1] = ab[1].convert_objects(convert_numeric=True)\n"
     ]
    }
   ],
   "source": [
    "(df_pivotBig_perc, df_pivotBig_perc_a, new_cmap) = decoration_positon_matrices_print(style)"
   ]
  },
  {
   "cell_type": "code",
   "execution_count": 3,
   "metadata": {},
   "outputs": [
    {
     "data": {
      "image/png": "[encoded data removed]",
      "text/plain": [
       "<matplotlib.figure.Figure at 0x193947240b8>"
      ]
     },
     "metadata": {},
     "output_type": "display_data"
    }
   ],
   "source": [
    "fig = plt.figure()\n",
    "fig.set_size_inches(25, 15)\n",
    "\n",
    "ax = plt.gca()\n",
    "im = ax.imshow(df_pivotBig_perc, interpolation='nearest', cmap=parula_map, alpha=.66)\n",
    "\n",
    "plt.xlabel('Verzierungselemente (Schlüssel)')\n",
    "plt.yticks(range(len(df_pivotBig_perc.index)), df_pivotBig_perc.index.str[2:])\n",
    "plt.xticks(range(len(df_pivotBig_perc.columns)), df_pivotBig_perc.columns, rotation = -45)\n",
    "\n",
    "for (i, j), z in np.ndenumerate(df_pivotBig_perc_a):\n",
    "    plt.text(j, i, z, ha='center', va='center')\n",
    "    \n",
    "plt.axvline(10.5, color='grey', linestyle = '--')\n",
    "plt.axvline(17.5, color='grey', linestyle = '--')\n",
    "plt.axvline(18.5, color='grey', linestyle = '--')\n",
    "plt.axvline(20.5, color='grey', linestyle = '--')\n",
    "plt.axvline(43.5, color='grey', linestyle = '--')\n",
    "plt.axvline(44.5, color='grey', linestyle = '--')\n",
    "plt.axvline(57.5, color='grey', linestyle = '--')\n",
    "plt.axvline(61.5, color='grey', linestyle = '--')\n",
    "plt.axvline(70.5, color='grey', linestyle = '--')\n",
    "\n",
    "divider = make_axes_locatable(ax)\n",
    "cax = divider.append_axes(\"right\", size=\"1%\", pad=0.2)\n",
    "cbar = plt.colorbar(im, cax=cax)\n",
    "cbar.set_label('Anteil (%)', rotation = -90, labelpad = 15)\n",
    "\n",
    "plt.tight_layout()\n",
    "\n",
    "plt.savefig('../output/figs/3-1-2-11_Mobaka_VerzierungselmenteAlle.pdf', bbox_inches='tight')\n",
    "plt.show()"
   ]
  },
  {
   "cell_type": "code",
   "execution_count": 60,
   "metadata": {
    "collapsed": true
   },
   "outputs": [],
   "source": [
    "sql = \"\"\"SELECT\n",
    "           t_Obj.objID,\n",
    "           t_K_Pos.posID,\n",
    "           t_K_Verz.verzID,\n",
    "           [t_K_Pos].[posReihe] || ' ' || [posName] AS pos,\n",
    "           t_K_Verz.verzName,\n",
    "           t_K_Verz.verzBeschr,\n",
    "           t_Obj.Typ,\n",
    "           t_Obj.Form_Gef\n",
    "       FROM t_Obj INNER JOIN \"t_ObjPosVerz\" ON t_Obj.objID = \"t_ObjPosVerz\".objID\n",
    "           INNER JOIN t_K_Pos ON \"t_ObjPosVerz\".posID = t_K_Pos.posID\n",
    "           INNER JOIN t_K_Verz ON \"t_ObjPosVerz\".verzID = t_K_Verz.verzID\n",
    "       WHERE (((t_K_Pos.posID)<>1)\n",
    "           AND ((t_K_Verz.verzName) != '')\n",
    "           AND ((t_Obj.Typ) Like '%MKA%'))\"\"\".replace('\\n',' ')\n",
    "\n",
    "df = pd.read_sql(sql, con)\n",
    "# display(df.head())"
   ]
  },
  {
   "cell_type": "code",
   "execution_count": 61,
   "metadata": {
    "collapsed": true
   },
   "outputs": [],
   "source": [
    "df_pivot = df.pivot_table(values = 'objID', index = 'pos', columns = 'verzName', aggfunc = len)\n",
    "df_pivot = df_pivot.fillna(0)\n",
    "# Sortierung für graphische Darstellung umdrehen\n",
    "df_pivot = df_pivot.sort_index(ascending=True)\n",
    "# heatmap siehe http://yonatanfriedman.com/docs/survey/plotting.html"
   ]
  },
  {
   "cell_type": "code",
   "execution_count": 62,
   "metadata": {
    "scrolled": true
   },
   "outputs": [
    {
     "data": {
      "image/png": "[encoded data removed]",
      "text/plain": [
       "<matplotlib.figure.Figure at 0xbbf091d908>"
      ]
     },
     "metadata": {},
     "output_type": "display_data"
    }
   ],
   "source": [
    "fig = plt.figure()\n",
    "fig.set_size_inches(10, 7.5)\n",
    "plt.imshow(df_pivot, interpolation='nearest', cmap='Greys', alpha = .5)\n",
    "plt.ylabel('Gefäßposition')\n",
    "plt.xlabel('Verzierungselemente')\n",
    "plt.yticks(range(len(df_pivot.index)), df_pivot.index)\n",
    "plt.xticks(range(len(df_pivot.columns)), df_pivot.columns, rotation='vertical')\n",
    "# plt.colorbar(orientation='horizontal')\n",
    "for (i, j), z in np.ndenumerate(df_pivot):\n",
    "    plt.text(j, i, '{:0.0f}'.format(z), ha='center', va='center')\n",
    "plt.tight_layout()\n",
    "# plt.savefig('output/3-1-1-6_Bobulu_Verzierungselmente.pdf', bbox_inches='tight')\n",
    "plt.show()"
   ]
  },
  {
   "cell_type": "code",
   "execution_count": 63,
   "metadata": {},
   "outputs": [
    {
     "name": "stderr",
     "output_type": "stream",
     "text": [
      "C:\\Users\\Dirk\\Anaconda3\\lib\\site-packages\\ipykernel\\__main__.py:4: FutureWarning: by argument to sort_index is deprecated, pls use .sort_values(by=...)\n"
     ]
    }
   ],
   "source": [
    "df_pivot = df.pivot_table(values = 'objID', index = 'verzName', aggfunc = len)\n",
    "df_pivot = pd.DataFrame(df_pivot)\n",
    "# Sortierung in Aufsteigend ändern\n",
    "df_pivot = df_pivot.sort_index(by = ['objID'], ascending = True)"
   ]
  },
  {
   "cell_type": "code",
   "execution_count": 64,
   "metadata": {},
   "outputs": [
    {
     "data": {
      "text/plain": [
       "<matplotlib.text.Text at 0xbbef15ee80>"
      ]
     },
     "execution_count": 64,
     "metadata": {},
     "output_type": "execute_result"
    },
    {
     "data": {
      "image/png": "[encoded data removed]",
      "text/plain": [
       "<matplotlib.figure.Figure at 0xbbf0913b70>"
      ]
     },
     "metadata": {},
     "output_type": "display_data"
    }
   ],
   "source": [
    "fig = plt.figure()\n",
    "fig.set_size_inches(5, 5)\n",
    "df_pivot['objID'].plot(kind='pie', autopct='%.0f %%', cmap = 'Paired' )\n",
    "plt.ylabel('')\n",
    "#plt.title('Mokelo-Gruppe\\nGefäßformen')\n",
    "#plt.savefig('output/3-1-1-3_Mokelo-Gr_GefForm2.pdf')"
   ]
  },
  {
   "cell_type": "code",
   "execution_count": 65,
   "metadata": {},
   "outputs": [
    {
     "name": "stderr",
     "output_type": "stream",
     "text": [
      "C:\\Users\\Dirk\\Anaconda3\\lib\\site-packages\\ipykernel\\__main__.py:1: FutureWarning: by argument to sort_index is deprecated, pls use .sort_values(by=...)\n",
      "  if __name__ == '__main__':\n"
     ]
    },
    {
     "data": {
      "text/html": [
       "<div>\n",
       "<table border=\"1\" class=\"dataframe\">\n",
       "  <thead>\n",
       "    <tr style=\"text-align: right;\">\n",
       "      <th></th>\n",
       "      <th>objID</th>\n",
       "      <th>Prozent</th>\n",
       "    </tr>\n",
       "    <tr>\n",
       "      <th>verzName</th>\n",
       "      <th></th>\n",
       "      <th></th>\n",
       "    </tr>\n",
       "  </thead>\n",
       "  <tbody>\n",
       "    <tr>\n",
       "      <th>02.1</th>\n",
       "      <td>49</td>\n",
       "      <td>48.039216</td>\n",
       "    </tr>\n",
       "    <tr>\n",
       "      <th>14.1</th>\n",
       "      <td>27</td>\n",
       "      <td>26.470588</td>\n",
       "    </tr>\n",
       "    <tr>\n",
       "      <th>08</th>\n",
       "      <td>11</td>\n",
       "      <td>10.784314</td>\n",
       "    </tr>\n",
       "    <tr>\n",
       "      <th>04.11</th>\n",
       "      <td>3</td>\n",
       "      <td>2.941176</td>\n",
       "    </tr>\n",
       "    <tr>\n",
       "      <th>01.11</th>\n",
       "      <td>2</td>\n",
       "      <td>1.960784</td>\n",
       "    </tr>\n",
       "  </tbody>\n",
       "</table>\n",
       "</div>"
      ],
      "text/plain": [
       "          objID    Prozent\n",
       "verzName                  \n",
       "02.1         49  48.039216\n",
       "14.1         27  26.470588\n",
       "08           11  10.784314\n",
       "04.11         3   2.941176\n",
       "01.11         2   1.960784"
      ]
     },
     "metadata": {},
     "output_type": "display_data"
    }
   ],
   "source": [
    "df_pivot = df_pivot.sort_index(by = ['objID'], ascending=False)\n",
    "# Prozent-Anteil errechnen\n",
    "df_pivot['Prozent'] = df_pivot['objID']/df_pivot['objID'].sum()*100\n",
    "display(df_pivot.head())"
   ]
  },
  {
   "cell_type": "code",
   "execution_count": 66,
   "metadata": {},
   "outputs": [
    {
     "data": {
      "text/html": [
       "<div>\n",
       "<table border=\"1\" class=\"dataframe\">\n",
       "  <thead>\n",
       "    <tr style=\"text-align: right;\">\n",
       "      <th></th>\n",
       "      <th>objID</th>\n",
       "      <th>Prozent</th>\n",
       "    </tr>\n",
       "    <tr>\n",
       "      <th>pos</th>\n",
       "      <th></th>\n",
       "      <th></th>\n",
       "    </tr>\n",
       "  </thead>\n",
       "  <tbody>\n",
       "    <tr>\n",
       "      <th>1 Innen</th>\n",
       "      <td>53</td>\n",
       "      <td>51.960784</td>\n",
       "    </tr>\n",
       "    <tr>\n",
       "      <th>2 Rand</th>\n",
       "      <td>15</td>\n",
       "      <td>14.705882</td>\n",
       "    </tr>\n",
       "    <tr>\n",
       "      <th>3 Hals</th>\n",
       "      <td>5</td>\n",
       "      <td>4.901961</td>\n",
       "    </tr>\n",
       "    <tr>\n",
       "      <th>4 Schulter</th>\n",
       "      <td>5</td>\n",
       "      <td>4.901961</td>\n",
       "    </tr>\n",
       "    <tr>\n",
       "      <th>5 Bauch</th>\n",
       "      <td>22</td>\n",
       "      <td>21.568627</td>\n",
       "    </tr>\n",
       "    <tr>\n",
       "      <th>7 Standfl</th>\n",
       "      <td>2</td>\n",
       "      <td>1.960784</td>\n",
       "    </tr>\n",
       "  </tbody>\n",
       "</table>\n",
       "</div>"
      ],
      "text/plain": [
       "            objID    Prozent\n",
       "pos                         \n",
       "1 Innen        53  51.960784\n",
       "2 Rand         15  14.705882\n",
       "3 Hals          5   4.901961\n",
       "4 Schulter      5   4.901961\n",
       "5 Bauch        22  21.568627\n",
       "7 Standfl       2   1.960784"
      ]
     },
     "execution_count": 66,
     "metadata": {},
     "output_type": "execute_result"
    }
   ],
   "source": [
    "df_pivot = df.pivot_table(values = 'objID', index = 'pos', aggfunc = len)\n",
    "df_pivot = pd.DataFrame(df_pivot)\n",
    "df_pivot['Prozent'] = df_pivot['objID']/df_pivot['objID'].sum()*100\n",
    "df_pivot"
   ]
  },
  {
   "cell_type": "code",
   "execution_count": 67,
   "metadata": {},
   "outputs": [
    {
     "data": {
      "image/png": "[encoded data removed]",
      "text/plain": [
       "<matplotlib.figure.Figure at 0xbbef4f7ef0>"
      ]
     },
     "metadata": {},
     "output_type": "display_data"
    }
   ],
   "source": [
    "df_pivot = df_pivot.sort_index(ascending=False)\n",
    "\n",
    "df_pivot.plot(y = 'Prozent', kind = 'barh', legend = None, color = 'grey')\n",
    "plt.xlabel('Anteil [%]')\n",
    "plt.show()"
   ]
  },
  {
   "cell_type": "markdown",
   "metadata": {},
   "source": [
    "## Verbreitung"
   ]
  },
  {
   "cell_type": "code",
   "execution_count": 2,
   "metadata": {},
   "outputs": [
    {
     "data": {
      "text/html": [
       "<div>\n",
       "<table border=\"1\" class=\"dataframe\">\n",
       "  <thead>\n",
       "    <tr style=\"text-align: right;\">\n",
       "      <th>Typ</th>\n",
       "      <th>Ort</th>\n",
       "      <th>Kat-Nr</th>\n",
       "      <th>X</th>\n",
       "      <th>Y</th>\n",
       "      <th>TYP</th>\n",
       "    </tr>\n",
       "  </thead>\n",
       "  <tbody>\n",
       "    <tr>\n",
       "      <th>7</th>\n",
       "      <td>Gombe (Fpl. 237)</td>\n",
       "      <td>237</td>\n",
       "      <td>17.580406</td>\n",
       "      <td>-0.704069</td>\n",
       "      <td>MKA (?)</td>\n",
       "    </tr>\n",
       "    <tr>\n",
       "      <th>13</th>\n",
       "      <td>Sosolo (Fpl. 241)</td>\n",
       "      <td>241</td>\n",
       "      <td>17.128605</td>\n",
       "      <td>-0.892241</td>\n",
       "      <td>MKA</td>\n",
       "    </tr>\n",
       "    <tr>\n",
       "      <th>11</th>\n",
       "      <td>Monjolomba (Fpl. 243)</td>\n",
       "      <td>243</td>\n",
       "      <td>17.174576</td>\n",
       "      <td>-0.684421</td>\n",
       "      <td>MKA</td>\n",
       "    </tr>\n",
       "    <tr>\n",
       "      <th>3</th>\n",
       "      <td>Bondo-Mission (Fpl. 245)</td>\n",
       "      <td>245</td>\n",
       "      <td>17.166283</td>\n",
       "      <td>-0.400786</td>\n",
       "      <td>MKA</td>\n",
       "    </tr>\n",
       "    <tr>\n",
       "      <th>10</th>\n",
       "      <td>Mobaka (Fpl. 246)</td>\n",
       "      <td>246</td>\n",
       "      <td>17.134569</td>\n",
       "      <td>-0.366609</td>\n",
       "      <td>MKA</td>\n",
       "    </tr>\n",
       "    <tr>\n",
       "      <th>8</th>\n",
       "      <td>Loboko (Fpl. 248)</td>\n",
       "      <td>248</td>\n",
       "      <td>17.130913</td>\n",
       "      <td>-0.109189</td>\n",
       "      <td>MKA</td>\n",
       "    </tr>\n",
       "    <tr>\n",
       "      <th>8</th>\n",
       "      <td>Ikelemba (Fpl. 260)</td>\n",
       "      <td>260</td>\n",
       "      <td>16.504824</td>\n",
       "      <td>1.227166</td>\n",
       "      <td>MKA (?)</td>\n",
       "    </tr>\n",
       "    <tr>\n",
       "      <th>14</th>\n",
       "      <td>Matoto (Fpl. 264)</td>\n",
       "      <td>264</td>\n",
       "      <td>16.431282</td>\n",
       "      <td>1.281643</td>\n",
       "      <td>MKA (?)</td>\n",
       "    </tr>\n",
       "    <tr>\n",
       "      <th>12</th>\n",
       "      <td>Ngombe (Fpl. 283)</td>\n",
       "      <td>283</td>\n",
       "      <td>17.192417</td>\n",
       "      <td>-0.849508</td>\n",
       "      <td>MKA</td>\n",
       "    </tr>\n",
       "    <tr>\n",
       "      <th>2</th>\n",
       "      <td>Boleko (Fpl. 285)</td>\n",
       "      <td>285</td>\n",
       "      <td>17.221926</td>\n",
       "      <td>-0.805556</td>\n",
       "      <td>MKA</td>\n",
       "    </tr>\n",
       "    <tr>\n",
       "      <th>4</th>\n",
       "      <td>Botwale (Fpl. 286)</td>\n",
       "      <td>286</td>\n",
       "      <td>17.365479</td>\n",
       "      <td>-0.552494</td>\n",
       "      <td>MKA</td>\n",
       "    </tr>\n",
       "    <tr>\n",
       "      <th>9</th>\n",
       "      <td>Ilebo (Fpl. 287)</td>\n",
       "      <td>287</td>\n",
       "      <td>17.434410</td>\n",
       "      <td>-0.454365</td>\n",
       "      <td>MKA (?)</td>\n",
       "    </tr>\n",
       "    <tr>\n",
       "      <th>9</th>\n",
       "      <td>Misongo (Fpl. 288)</td>\n",
       "      <td>288</td>\n",
       "      <td>17.359252</td>\n",
       "      <td>-0.406653</td>\n",
       "      <td>MKA</td>\n",
       "    </tr>\n",
       "    <tr>\n",
       "      <th>14</th>\n",
       "      <td>Yumba (Fpl. 289)</td>\n",
       "      <td>289</td>\n",
       "      <td>17.366567</td>\n",
       "      <td>-0.351703</td>\n",
       "      <td>MKA</td>\n",
       "    </tr>\n",
       "    <tr>\n",
       "      <th>13</th>\n",
       "      <td>Lokolélé (Fpl. 290)</td>\n",
       "      <td>290</td>\n",
       "      <td>17.417014</td>\n",
       "      <td>-0.096843</td>\n",
       "      <td>MKA (?)</td>\n",
       "    </tr>\n",
       "    <tr>\n",
       "      <th>0</th>\n",
       "      <td>Bojenjo (Fpl. 292)</td>\n",
       "      <td>292</td>\n",
       "      <td>17.432057</td>\n",
       "      <td>-0.006791</td>\n",
       "      <td>MKA</td>\n",
       "    </tr>\n",
       "    <tr>\n",
       "      <th>1</th>\n",
       "      <td>Bokuma (Fpl. 295)</td>\n",
       "      <td>295</td>\n",
       "      <td>17.478148</td>\n",
       "      <td>0.099491</td>\n",
       "      <td>MKA</td>\n",
       "    </tr>\n",
       "    <tr>\n",
       "      <th>5</th>\n",
       "      <td>Ebambe (Fpl. 297)</td>\n",
       "      <td>297</td>\n",
       "      <td>17.394327</td>\n",
       "      <td>0.289744</td>\n",
       "      <td>MKA</td>\n",
       "    </tr>\n",
       "    <tr>\n",
       "      <th>5</th>\n",
       "      <td>Bwanela (Fpl. 298)</td>\n",
       "      <td>298</td>\n",
       "      <td>17.288312</td>\n",
       "      <td>0.505637</td>\n",
       "      <td>MKA (?)</td>\n",
       "    </tr>\n",
       "    <tr>\n",
       "      <th>7</th>\n",
       "      <td>Jeke (Fpl. 303)</td>\n",
       "      <td>303</td>\n",
       "      <td>17.306587</td>\n",
       "      <td>1.056931</td>\n",
       "      <td>MKA</td>\n",
       "    </tr>\n",
       "    <tr>\n",
       "      <th>6</th>\n",
       "      <td>Itanga (Fpl. 305)</td>\n",
       "      <td>305</td>\n",
       "      <td>17.413073</td>\n",
       "      <td>1.209168</td>\n",
       "      <td>MKA</td>\n",
       "    </tr>\n",
       "  </tbody>\n",
       "</table>\n",
       "</div>"
      ],
      "text/plain": [
       "Typ                       Ort Kat-Nr          X         Y      TYP\n",
       "7            Gombe (Fpl. 237)    237  17.580406 -0.704069  MKA (?)\n",
       "13          Sosolo (Fpl. 241)    241  17.128605 -0.892241      MKA\n",
       "11      Monjolomba (Fpl. 243)    243  17.174576 -0.684421      MKA\n",
       "3    Bondo-Mission (Fpl. 245)    245  17.166283 -0.400786      MKA\n",
       "10          Mobaka (Fpl. 246)    246  17.134569 -0.366609      MKA\n",
       "8           Loboko (Fpl. 248)    248  17.130913 -0.109189      MKA\n",
       "8         Ikelemba (Fpl. 260)    260  16.504824  1.227166  MKA (?)\n",
       "14          Matoto (Fpl. 264)    264  16.431282  1.281643  MKA (?)\n",
       "12          Ngombe (Fpl. 283)    283  17.192417 -0.849508      MKA\n",
       "2           Boleko (Fpl. 285)    285  17.221926 -0.805556      MKA\n",
       "4          Botwale (Fpl. 286)    286  17.365479 -0.552494      MKA\n",
       "9            Ilebo (Fpl. 287)    287  17.434410 -0.454365  MKA (?)\n",
       "9          Misongo (Fpl. 288)    288  17.359252 -0.406653      MKA\n",
       "14           Yumba (Fpl. 289)    289  17.366567 -0.351703      MKA\n",
       "13        Lokolélé (Fpl. 290)    290  17.417014 -0.096843  MKA (?)\n",
       "0          Bojenjo (Fpl. 292)    292  17.432057 -0.006791      MKA\n",
       "1           Bokuma (Fpl. 295)    295  17.478148  0.099491      MKA\n",
       "5           Ebambe (Fpl. 297)    297  17.394327  0.289744      MKA\n",
       "5          Bwanela (Fpl. 298)    298  17.288312  0.505637  MKA (?)\n",
       "7             Jeke (Fpl. 303)    303  17.306587  1.056931      MKA\n",
       "6           Itanga (Fpl. 305)    305  17.413073  1.209168      MKA"
      ]
     },
     "execution_count": 2,
     "metadata": {},
     "output_type": "execute_result"
    }
   ],
   "source": [
    "df = style_mapping_gis_export(style)\n",
    "df.sort_values(['Kat-Nr'])"
   ]
  },
  {
   "cell_type": "code",
   "execution_count": 3,
   "metadata": {
    "collapsed": true
   },
   "outputs": [],
   "source": [
    "df.to_csv(\"../data/processed/3-1-2-11_MKA_Verbreitung.csv\", index = False)"
   ]
  },
  {
   "cell_type": "code",
   "execution_count": 4,
   "metadata": {},
   "outputs": [
    {
     "data": {
      "text/plain": [
       "21"
      ]
     },
     "execution_count": 4,
     "metadata": {},
     "output_type": "execute_result"
    }
   ],
   "source": [
    "len(df)"
   ]
  },
  {
   "cell_type": "markdown",
   "metadata": {
    "collapsed": true
   },
   "source": [
    "## Appendix"
   ]
  },
  {
   "cell_type": "markdown",
   "metadata": {},
   "source": [
    "### Fragmentierung der Stücke in Yumba (Fpl. 289) -- von dort stammen die meisten Funde"
   ]
  },
  {
   "cell_type": "code",
   "execution_count": 71,
   "metadata": {
    "collapsed": true
   },
   "outputs": [],
   "source": [
    "sql = \"\"\"SELECT\n",
    "           t_Obj.objID,\n",
    "           t_Ort.ort_kurz,\n",
    "           't_Ort'.'ort_name' || ' (Fpl. ' || 't_ort'.'Kat-Nr' || ')' AS Ort,\n",
    "           t_Komplex.bef_nr,\n",
    "           t_Ort.ort_fluss,\n",
    "           t_Obj.GefEinheit AS GE,\n",
    "           t_Obj.Scherbe,\n",
    "           t_Obj.Gewicht,\n",
    "           t_Obj.Anzahl,\n",
    "           t_Obj.Gr_Clist,\n",
    "           t_Obj.Typ\n",
    "       FROM (t_Ort INNER JOIN t_Komplex ON t_Ort.ortID = t_Komplex.ortID)\n",
    "           INNER JOIN t_Obj ON t_Komplex.komplexID = t_Obj.komplexID\n",
    "       WHERE (((t_Ort.ort_lit)='DS')\n",
    "           AND ((t_Obj.Typ) Like '%MKA%')\n",
    "           AND ((t_Obj.Art) = 'K')\n",
    "           AND ((t_Ort.ort_kurz) = 'YUM'))\"\"\".replace('\\n',' ')\n",
    "df = pd.read_sql(sql, con)\n",
    "#display(df.head())"
   ]
  },
  {
   "cell_type": "code",
   "execution_count": 72,
   "metadata": {
    "collapsed": true
   },
   "outputs": [],
   "source": [
    "df_pivot = df.pivot_table(values = 'Anzahl', index = 'Gr_Clist', aggfunc = np.sum)\n",
    "#df_pivot['B'] = 0.\n",
    "custom_dict = {'30':0, 70:1, 120:3,200:4,'>200':5}\n",
    "df_pivot = pd.DataFrame(df_pivot, index=sorted(custom_dict, key=custom_dict.get))\n",
    "df_pivot['Prozent'] = df_pivot['Anzahl']/df_pivot['Anzahl'].sum()*100\n",
    "#df_pivot"
   ]
  },
  {
   "cell_type": "code",
   "execution_count": 73,
   "metadata": {},
   "outputs": [
    {
     "data": {
      "image/png": "[encoded data removed]",
      "text/plain": [
       "<matplotlib.figure.Figure at 0xbbf095b9b0>"
      ]
     },
     "metadata": {},
     "output_type": "display_data"
    }
   ],
   "source": [
    "df_pivot.plot(y = 'Prozent', kind = 'bar', legend = None, color = 'grey')\n",
    "plt.xticks(rotation=0)\n",
    "plt.xlabel('Größenklassen')\n",
    "plt.ylabel('Anteil [%]')\n",
    "plt.show()"
   ]
  },
  {
   "cell_type": "code",
   "execution_count": 74,
   "metadata": {},
   "outputs": [
    {
     "data": {
      "text/plain": [
       "Scherbe\n",
       "B     5\n",
       "G     2\n",
       "R    17\n",
       "W     2\n",
       "Name: Anzahl, dtype: int64"
      ]
     },
     "execution_count": 74,
     "metadata": {},
     "output_type": "execute_result"
    }
   ],
   "source": [
    "df_pivot = df.pivot_table(values = 'Anzahl', index = 'Scherbe', aggfunc = np.sum)\n",
    "df_pivot"
   ]
  },
  {
   "cell_type": "markdown",
   "metadata": {
    "collapsed": true
   },
   "source": [
    "## Tafeln"
   ]
  },
  {
   "cell_type": "code",
   "execution_count": 75,
   "metadata": {},
   "outputs": [
    {
     "data": {
      "text/html": [
       "<div>\n",
       "<table border=\"1\" class=\"dataframe\">\n",
       "  <thead>\n",
       "    <tr style=\"text-align: right;\">\n",
       "      <th></th>\n",
       "      <th>TAF</th>\n",
       "      <th>OBJ</th>\n",
       "      <th>SITE</th>\n",
       "      <th>FEAT</th>\n",
       "      <th>NOTE</th>\n",
       "      <th>IND</th>\n",
       "      <th>Typ</th>\n",
       "      <th>Form_Gef</th>\n",
       "      <th>Form_Rand</th>\n",
       "      <th>Form_Boden</th>\n",
       "    </tr>\n",
       "  </thead>\n",
       "  <tbody>\n",
       "    <tr>\n",
       "      <th>0</th>\n",
       "      <td>37</td>\n",
       "      <td>9</td>\n",
       "      <td>SSL</td>\n",
       "      <td>87/101</td>\n",
       "      <td>NaN</td>\n",
       "      <td>32</td>\n",
       "      <td>MKA</td>\n",
       "      <td>F3 (?)</td>\n",
       "      <td>B1.5</td>\n",
       "      <td>None</td>\n",
       "    </tr>\n",
       "    <tr>\n",
       "      <th>1</th>\n",
       "      <td>37</td>\n",
       "      <td>10</td>\n",
       "      <td>SSL</td>\n",
       "      <td>87/101</td>\n",
       "      <td>NaN</td>\n",
       "      <td>8</td>\n",
       "      <td>MKA</td>\n",
       "      <td>None</td>\n",
       "      <td>B1.5</td>\n",
       "      <td>None</td>\n",
       "    </tr>\n",
       "    <tr>\n",
       "      <th>2</th>\n",
       "      <td>39</td>\n",
       "      <td>4</td>\n",
       "      <td>MKA</td>\n",
       "      <td>87/101</td>\n",
       "      <td>NaN</td>\n",
       "      <td>1</td>\n",
       "      <td>MKA</td>\n",
       "      <td>None</td>\n",
       "      <td>B1.5</td>\n",
       "      <td>None</td>\n",
       "    </tr>\n",
       "    <tr>\n",
       "      <th>3</th>\n",
       "      <td>39</td>\n",
       "      <td>4</td>\n",
       "      <td>MKA</td>\n",
       "      <td>87/101</td>\n",
       "      <td>NaN</td>\n",
       "      <td>1</td>\n",
       "      <td>MKA</td>\n",
       "      <td>F3</td>\n",
       "      <td>B1.5</td>\n",
       "      <td>B1</td>\n",
       "    </tr>\n",
       "    <tr>\n",
       "      <th>4</th>\n",
       "      <td>59</td>\n",
       "      <td>3</td>\n",
       "      <td>IKM</td>\n",
       "      <td>87/101</td>\n",
       "      <td>NaN</td>\n",
       "      <td>21</td>\n",
       "      <td>MKA (?)</td>\n",
       "      <td>None</td>\n",
       "      <td>B1.5</td>\n",
       "      <td>None</td>\n",
       "    </tr>\n",
       "    <tr>\n",
       "      <th>5</th>\n",
       "      <td>60</td>\n",
       "      <td>5</td>\n",
       "      <td>MAT</td>\n",
       "      <td>87/101</td>\n",
       "      <td>NaN</td>\n",
       "      <td>1</td>\n",
       "      <td>MKA (?)</td>\n",
       "      <td>None</td>\n",
       "      <td>B1</td>\n",
       "      <td>None</td>\n",
       "    </tr>\n",
       "    <tr>\n",
       "      <th>6</th>\n",
       "      <td>68</td>\n",
       "      <td>4</td>\n",
       "      <td>BLK</td>\n",
       "      <td>87/1</td>\n",
       "      <td>GE 3</td>\n",
       "      <td>2</td>\n",
       "      <td>EPE/MKA (?)</td>\n",
       "      <td>E1</td>\n",
       "      <td>B1</td>\n",
       "      <td>B1</td>\n",
       "    </tr>\n",
       "    <tr>\n",
       "      <th>7</th>\n",
       "      <td>69</td>\n",
       "      <td>8</td>\n",
       "      <td>BLK</td>\n",
       "      <td>87/101</td>\n",
       "      <td>NaN</td>\n",
       "      <td>85</td>\n",
       "      <td>MKA</td>\n",
       "      <td>F3 (?)</td>\n",
       "      <td>None</td>\n",
       "      <td>None</td>\n",
       "    </tr>\n",
       "    <tr>\n",
       "      <th>8</th>\n",
       "      <td>72</td>\n",
       "      <td>1</td>\n",
       "      <td>ILL</td>\n",
       "      <td>87/101</td>\n",
       "      <td>NaN</td>\n",
       "      <td>1</td>\n",
       "      <td>MKA (?)</td>\n",
       "      <td>None</td>\n",
       "      <td>A1/B1</td>\n",
       "      <td>None</td>\n",
       "    </tr>\n",
       "    <tr>\n",
       "      <th>9</th>\n",
       "      <td>72</td>\n",
       "      <td>5</td>\n",
       "      <td>MIS</td>\n",
       "      <td>87/101</td>\n",
       "      <td>NaN</td>\n",
       "      <td>3</td>\n",
       "      <td>MKA (?)</td>\n",
       "      <td>E4 (?)</td>\n",
       "      <td>B2</td>\n",
       "      <td>None</td>\n",
       "    </tr>\n",
       "    <tr>\n",
       "      <th>10</th>\n",
       "      <td>73</td>\n",
       "      <td>3</td>\n",
       "      <td>YUM</td>\n",
       "      <td>87/102</td>\n",
       "      <td>NaN</td>\n",
       "      <td>6</td>\n",
       "      <td>MKA</td>\n",
       "      <td>None</td>\n",
       "      <td>B1.5</td>\n",
       "      <td>None</td>\n",
       "    </tr>\n",
       "    <tr>\n",
       "      <th>11</th>\n",
       "      <td>73</td>\n",
       "      <td>5</td>\n",
       "      <td>YUM</td>\n",
       "      <td>87/102</td>\n",
       "      <td>NaN</td>\n",
       "      <td>11</td>\n",
       "      <td>MKA</td>\n",
       "      <td>None</td>\n",
       "      <td>None</td>\n",
       "      <td>None</td>\n",
       "    </tr>\n",
       "    <tr>\n",
       "      <th>12</th>\n",
       "      <td>73</td>\n",
       "      <td>5</td>\n",
       "      <td>YUM</td>\n",
       "      <td>87/102</td>\n",
       "      <td>NaN</td>\n",
       "      <td>11</td>\n",
       "      <td>MKA</td>\n",
       "      <td>None</td>\n",
       "      <td>B1.5</td>\n",
       "      <td>None</td>\n",
       "    </tr>\n",
       "    <tr>\n",
       "      <th>13</th>\n",
       "      <td>74</td>\n",
       "      <td>2</td>\n",
       "      <td>YUM</td>\n",
       "      <td>87/102</td>\n",
       "      <td>NaN</td>\n",
       "      <td>26</td>\n",
       "      <td>PKM/MKA (?)</td>\n",
       "      <td>F3</td>\n",
       "      <td>None</td>\n",
       "      <td>B1</td>\n",
       "    </tr>\n",
       "    <tr>\n",
       "      <th>14</th>\n",
       "      <td>74</td>\n",
       "      <td>3</td>\n",
       "      <td>YUM</td>\n",
       "      <td>87/103</td>\n",
       "      <td>27</td>\n",
       "      <td>10, 27, 29</td>\n",
       "      <td>MKA</td>\n",
       "      <td>F3</td>\n",
       "      <td>B1.5</td>\n",
       "      <td>B1</td>\n",
       "    </tr>\n",
       "    <tr>\n",
       "      <th>15</th>\n",
       "      <td>74</td>\n",
       "      <td>7</td>\n",
       "      <td>YUM</td>\n",
       "      <td>87/103</td>\n",
       "      <td>NaN</td>\n",
       "      <td>2</td>\n",
       "      <td>MKA</td>\n",
       "      <td>F3</td>\n",
       "      <td>B1.5</td>\n",
       "      <td>None</td>\n",
       "    </tr>\n",
       "    <tr>\n",
       "      <th>16</th>\n",
       "      <td>74</td>\n",
       "      <td>8</td>\n",
       "      <td>YUM</td>\n",
       "      <td>87/103</td>\n",
       "      <td>NaN</td>\n",
       "      <td>5</td>\n",
       "      <td>MKA</td>\n",
       "      <td>None</td>\n",
       "      <td>B1.5</td>\n",
       "      <td>None</td>\n",
       "    </tr>\n",
       "    <tr>\n",
       "      <th>17</th>\n",
       "      <td>74</td>\n",
       "      <td>9</td>\n",
       "      <td>YUM</td>\n",
       "      <td>87/103</td>\n",
       "      <td>NaN</td>\n",
       "      <td>7</td>\n",
       "      <td>MKA (?)</td>\n",
       "      <td>None</td>\n",
       "      <td>B1.5 (?)</td>\n",
       "      <td>None</td>\n",
       "    </tr>\n",
       "    <tr>\n",
       "      <th>18</th>\n",
       "      <td>75</td>\n",
       "      <td>1</td>\n",
       "      <td>YUM</td>\n",
       "      <td>87/103</td>\n",
       "      <td>NaN</td>\n",
       "      <td>31</td>\n",
       "      <td>MKA</td>\n",
       "      <td>F3 (?)</td>\n",
       "      <td>None</td>\n",
       "      <td>B1</td>\n",
       "    </tr>\n",
       "    <tr>\n",
       "      <th>19</th>\n",
       "      <td>75</td>\n",
       "      <td>2</td>\n",
       "      <td>YUM</td>\n",
       "      <td>87/103</td>\n",
       "      <td>NaN</td>\n",
       "      <td>32</td>\n",
       "      <td>MKA</td>\n",
       "      <td>F3</td>\n",
       "      <td>None</td>\n",
       "      <td>B1</td>\n",
       "    </tr>\n",
       "    <tr>\n",
       "      <th>20</th>\n",
       "      <td>75</td>\n",
       "      <td>3</td>\n",
       "      <td>YUM</td>\n",
       "      <td>87/103</td>\n",
       "      <td>NaN</td>\n",
       "      <td>38</td>\n",
       "      <td>MKA</td>\n",
       "      <td>F3</td>\n",
       "      <td>B1.5</td>\n",
       "      <td>B1</td>\n",
       "    </tr>\n",
       "    <tr>\n",
       "      <th>21</th>\n",
       "      <td>76</td>\n",
       "      <td>15</td>\n",
       "      <td>BJJ</td>\n",
       "      <td>87/101</td>\n",
       "      <td>NaN</td>\n",
       "      <td>31</td>\n",
       "      <td>MKA (?)</td>\n",
       "      <td>F3 (?)</td>\n",
       "      <td>B1.5 (?)</td>\n",
       "      <td>None</td>\n",
       "    </tr>\n",
       "    <tr>\n",
       "      <th>22</th>\n",
       "      <td>77</td>\n",
       "      <td>1</td>\n",
       "      <td>BJJ</td>\n",
       "      <td>87/101</td>\n",
       "      <td>NaN</td>\n",
       "      <td>22</td>\n",
       "      <td>MKA</td>\n",
       "      <td>F3 (?)</td>\n",
       "      <td>B1.5</td>\n",
       "      <td>None</td>\n",
       "    </tr>\n",
       "    <tr>\n",
       "      <th>23</th>\n",
       "      <td>77</td>\n",
       "      <td>2</td>\n",
       "      <td>BJJ</td>\n",
       "      <td>87/101</td>\n",
       "      <td>NaN</td>\n",
       "      <td>15</td>\n",
       "      <td>MKA</td>\n",
       "      <td>None</td>\n",
       "      <td>B1.5</td>\n",
       "      <td>None</td>\n",
       "    </tr>\n",
       "    <tr>\n",
       "      <th>24</th>\n",
       "      <td>77</td>\n",
       "      <td>3</td>\n",
       "      <td>BJJ</td>\n",
       "      <td>87/101</td>\n",
       "      <td>NaN</td>\n",
       "      <td>24</td>\n",
       "      <td>MKA</td>\n",
       "      <td>None</td>\n",
       "      <td>B1.5</td>\n",
       "      <td>None</td>\n",
       "    </tr>\n",
       "    <tr>\n",
       "      <th>25</th>\n",
       "      <td>77</td>\n",
       "      <td>4</td>\n",
       "      <td>BJJ</td>\n",
       "      <td>87/101</td>\n",
       "      <td>NaN</td>\n",
       "      <td>34</td>\n",
       "      <td>MKA</td>\n",
       "      <td>None</td>\n",
       "      <td>B1.5</td>\n",
       "      <td>None</td>\n",
       "    </tr>\n",
       "    <tr>\n",
       "      <th>26</th>\n",
       "      <td>77</td>\n",
       "      <td>5</td>\n",
       "      <td>BJJ</td>\n",
       "      <td>87/101</td>\n",
       "      <td>NaN</td>\n",
       "      <td>25</td>\n",
       "      <td>MKA</td>\n",
       "      <td>None</td>\n",
       "      <td>B1.5</td>\n",
       "      <td>None</td>\n",
       "    </tr>\n",
       "    <tr>\n",
       "      <th>27</th>\n",
       "      <td>83</td>\n",
       "      <td>8</td>\n",
       "      <td>EBA</td>\n",
       "      <td>87/101</td>\n",
       "      <td>NaN</td>\n",
       "      <td>153</td>\n",
       "      <td>MKA</td>\n",
       "      <td>None</td>\n",
       "      <td>B1.5</td>\n",
       "      <td>None</td>\n",
       "    </tr>\n",
       "    <tr>\n",
       "      <th>28</th>\n",
       "      <td>97</td>\n",
       "      <td>5</td>\n",
       "      <td>ITN</td>\n",
       "      <td>87/103</td>\n",
       "      <td>NaN</td>\n",
       "      <td>10</td>\n",
       "      <td>MKA/EPE (?)</td>\n",
       "      <td>A2/A3 (?)</td>\n",
       "      <td>B2.2</td>\n",
       "      <td>None</td>\n",
       "    </tr>\n",
       "  </tbody>\n",
       "</table>\n",
       "</div>"
      ],
      "text/plain": [
       "    TAF  OBJ SITE    FEAT  NOTE         IND          Typ   Form_Gef Form_Rand  \\\n",
       "0    37    9  SSL  87/101   NaN          32          MKA     F3 (?)      B1.5   \n",
       "1    37   10  SSL  87/101   NaN           8          MKA       None      B1.5   \n",
       "2    39    4  MKA  87/101   NaN           1          MKA       None      B1.5   \n",
       "3    39    4  MKA  87/101   NaN           1          MKA         F3      B1.5   \n",
       "4    59    3  IKM  87/101   NaN          21      MKA (?)       None      B1.5   \n",
       "5    60    5  MAT  87/101   NaN           1      MKA (?)       None        B1   \n",
       "6    68    4  BLK    87/1  GE 3           2  EPE/MKA (?)         E1        B1   \n",
       "7    69    8  BLK  87/101   NaN          85          MKA     F3 (?)      None   \n",
       "8    72    1  ILL  87/101   NaN           1      MKA (?)       None     A1/B1   \n",
       "9    72    5  MIS  87/101   NaN           3      MKA (?)     E4 (?)        B2   \n",
       "10   73    3  YUM  87/102   NaN           6          MKA       None      B1.5   \n",
       "11   73    5  YUM  87/102   NaN          11          MKA       None      None   \n",
       "12   73    5  YUM  87/102   NaN          11          MKA       None      B1.5   \n",
       "13   74    2  YUM  87/102   NaN          26  PKM/MKA (?)         F3      None   \n",
       "14   74    3  YUM  87/103    27  10, 27, 29          MKA         F3      B1.5   \n",
       "15   74    7  YUM  87/103   NaN           2          MKA         F3      B1.5   \n",
       "16   74    8  YUM  87/103   NaN           5          MKA       None      B1.5   \n",
       "17   74    9  YUM  87/103   NaN           7      MKA (?)       None  B1.5 (?)   \n",
       "18   75    1  YUM  87/103   NaN          31          MKA     F3 (?)      None   \n",
       "19   75    2  YUM  87/103   NaN          32          MKA         F3      None   \n",
       "20   75    3  YUM  87/103   NaN          38          MKA         F3      B1.5   \n",
       "21   76   15  BJJ  87/101   NaN          31      MKA (?)     F3 (?)  B1.5 (?)   \n",
       "22   77    1  BJJ  87/101   NaN          22          MKA     F3 (?)      B1.5   \n",
       "23   77    2  BJJ  87/101   NaN          15          MKA       None      B1.5   \n",
       "24   77    3  BJJ  87/101   NaN          24          MKA       None      B1.5   \n",
       "25   77    4  BJJ  87/101   NaN          34          MKA       None      B1.5   \n",
       "26   77    5  BJJ  87/101   NaN          25          MKA       None      B1.5   \n",
       "27   83    8  EBA  87/101   NaN         153          MKA       None      B1.5   \n",
       "28   97    5  ITN  87/103   NaN          10  MKA/EPE (?)  A2/A3 (?)      B2.2   \n",
       "\n",
       "   Form_Boden  \n",
       "0        None  \n",
       "1        None  \n",
       "2        None  \n",
       "3          B1  \n",
       "4        None  \n",
       "5        None  \n",
       "6          B1  \n",
       "7        None  \n",
       "8        None  \n",
       "9        None  \n",
       "10       None  \n",
       "11       None  \n",
       "12       None  \n",
       "13         B1  \n",
       "14         B1  \n",
       "15       None  \n",
       "16       None  \n",
       "17       None  \n",
       "18         B1  \n",
       "19         B1  \n",
       "20         B1  \n",
       "21       None  \n",
       "22       None  \n",
       "23       None  \n",
       "24       None  \n",
       "25       None  \n",
       "26       None  \n",
       "27       None  \n",
       "28       None  "
      ]
     },
     "execution_count": 75,
     "metadata": {},
     "output_type": "execute_result"
    }
   ],
   "source": [
    "sql = \"\"\"SELECT\n",
    "           t_Ort.ort_kurz AS SITE,\n",
    "           t_Komplex.bef_nr AS FEAT,\n",
    "           t_Obj.Individuum AS IND,\n",
    "           t_Obj.Typ,\n",
    "           t_Obj.Form_Gef,\n",
    "           t_Obj.Form_Rand,\n",
    "           t_Obj.Form_Boden\n",
    "       FROM (t_Ort INNER JOIN t_Komplex ON t_Ort.ortID = t_Komplex.ortID)\n",
    "           INNER JOIN t_Obj ON t_Komplex.komplexID = t_Obj.komplexID\n",
    "       WHERE (((t_Ort.ort_lit) = 'DS')\n",
    "           AND ((t_Obj.Typ) Like '%\"\"\"+style+\"\"\"%'))\"\"\".replace('\\n',' ')\n",
    "\n",
    "df = pd.read_sql(sql, con)\n",
    "\n",
    "pl = pd.read_csv('../plates/plates.csv')\n",
    "\n",
    "df_merge = pd.merge(pl, df, on=['SITE', 'FEAT', 'IND'], how='inner')\n",
    "df_merge"
   ]
  },
  {
   "cell_type": "code",
   "execution_count": null,
   "metadata": {
    "collapsed": true
   },
   "outputs": [],
   "source": []
  },
  {
   "cell_type": "code",
   "execution_count": null,
   "metadata": {
    "collapsed": true
   },
   "outputs": [],
   "source": []
  }
 ],
 "metadata": {
  "anaconda-cloud": {},
  "kernelspec": {
   "display_name": "Python 3",
   "language": "python",
   "name": "python3"
  },
  "language_info": {
   "codemirror_mode": {
    "name": "ipython",
    "version": 3
   },
   "file_extension": ".py",
   "mimetype": "text/x-python",
   "name": "python",
   "nbconvert_exporter": "python",
   "pygments_lexer": "ipython3",
   "version": "3.6.1"
  }
 },
 "nbformat": 4,
 "nbformat_minor": 1
}
