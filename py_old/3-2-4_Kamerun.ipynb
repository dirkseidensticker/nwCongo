{
 "cells": [
  {
   "cell_type": "markdown",
   "metadata": {},
   "source": [
    "# Kamerun"
   ]
  },
  {
   "cell_type": "code",
   "execution_count": 1,
   "metadata": {
    "collapsed": true
   },
   "outputs": [],
   "source": [
    "%matplotlib inline\n",
    "from IPython.display import display\n",
    "import pandas as pd\n",
    "import numpy as np\n",
    "import matplotlib.pyplot as plt\n",
    "import sqlite3\n",
    "\n",
    "con = sqlite3.connect(\"../data/CongoDB.sqlite\")"
   ]
  },
  {
   "cell_type": "markdown",
   "metadata": {},
   "source": [
    "## Obobogo\n",
    "\n",
    "### Datierungen"
   ]
  },
  {
   "cell_type": "code",
   "execution_count": 2,
   "metadata": {},
   "outputs": [
    {
     "data": {
      "text/plain": [
       "13"
      ]
     },
     "execution_count": 2,
     "metadata": {},
     "output_type": "execute_result"
    }
   ],
   "source": [
    "sql = \"\"\"SELECT\n",
    "           t_14C.LABNR,\n",
    "           t_14C.C14AGE,\n",
    "           t_14C.C14STD,\n",
    "           t_14C.C13,\n",
    "           t_14C.MATERIAL,\n",
    "           t_14C.SPECIES,\n",
    "           [t_Ort].[ort_name] AS SITE, \n",
    "           [t_Komplex].[bef_art] AS CULTURE, \n",
    "           [t_ort].[ort_land] AS COUNTRY,\n",
    "           [t_ort].[y_lat] AS LATITUDE,\n",
    "           [t_ort].[x_long] AS LONGITUDE\n",
    "       FROM (t_Ort INNER JOIN t_Komplex ON t_Ort.ortID = t_Komplex.ortID)\n",
    "           INNER JOIN t_14c ON t_Komplex.komplexID = t_14c.komplexID\n",
    "       WHERE (t_Ort.ort_name LIKE '%Obobogo%')\"\"\".replace('\\n',' ')\n",
    "\n",
    "#           [t_Komplex].[bef_nr] AS PHASE,  # wird von der der Liste weiter unten geliefert\n",
    "\n",
    "df = pd.read_sql(sql, con)\n",
    "# display(df.head())\n",
    "len(df.index)"
   ]
  },
  {
   "cell_type": "code",
   "execution_count": 7,
   "metadata": {},
   "outputs": [
    {
     "name": "stdout",
     "output_type": "stream",
     "text": [
      "Plot()\n",
      "{\n",
      "R_Date(\" Obobogo - Hv-10580 \", 2055 , 70 );\n",
      "R_Date(\" Obobogo - Hv-10581 \", 6020 , 505 );\n",
      "R_Date(\" Obobogo - Hv-10582 \", 2900 , 110 );\n",
      "R_Date(\" Obobogo - Hv-10852 \", 2900 , 110 );\n",
      "R_Date(\" Obobogo - Hv-12845 \", 2300 , 65 );\n",
      "R_Date(\" Obobogo - Lv-1395 \", 2120 , 150 );\n",
      "R_Date(\" Obobogo - Hv-10832 \", 1990 , 95 );\n",
      "R_Date(\" Obobogo - Hv-10833 \", 2955 , 110 );\n",
      "R_Date(\" Obobogo - Hv-10583 \", 3070 , 95 );\n",
      "R_Date(\" Obobogo - Hv-11045 \", 2635 , 100 );\n",
      "R_Date(\" Obobogo - Lv-1432 \", 2310 , 100 );\n",
      "R_Date(\" Obobogo - Hv-11046 \", 3625 , 165 );\n",
      "R_Date(\" Obobogo - Lv-1394 \", 2120 , 70 );\n",
      "};\n"
     ]
    }
   ],
   "source": [
    "print('''Plot()\n",
    "{''')\n",
    "for index, row in df.iterrows():\n",
    "#for index, row in df_merge[df_merge['PHASE'] == 'Group VI'].iterrows():\n",
    "    print('R_Date(\"',row['SITE'], '-', row['LABNR'],'\",', row['C14AGE'],',', row['C14STD'],');')\n",
    "print('};')"
   ]
  },
  {
   "cell_type": "markdown",
   "metadata": {},
   "source": [
    "## Nlend Nlend 2013/2014\n",
    "\n",
    "### S. 257 Tab. 44"
   ]
  },
  {
   "cell_type": "code",
   "execution_count": 52,
   "metadata": {},
   "outputs": [
    {
     "data": {
      "text/html": [
       "<div>\n",
       "<table border=\"1\" class=\"dataframe\">\n",
       "  <thead>\n",
       "    <tr style=\"text-align: right;\">\n",
       "      <th></th>\n",
       "      <th></th>\n",
       "      <th>MALONGO</th>\n",
       "      <th>BWAMBE</th>\n",
       "      <th>MIXED</th>\n",
       "      <th>14Ccal_btm</th>\n",
       "      <th>14Ccal_top</th>\n",
       "      <th>14Ccal_mean</th>\n",
       "    </tr>\n",
       "    <tr>\n",
       "      <th>SITE</th>\n",
       "      <th>FEATURE</th>\n",
       "      <th></th>\n",
       "      <th></th>\n",
       "      <th></th>\n",
       "      <th></th>\n",
       "      <th></th>\n",
       "      <th></th>\n",
       "    </tr>\n",
       "  </thead>\n",
       "  <tbody>\n",
       "    <tr>\n",
       "      <th>Bissiang</th>\n",
       "      <th>B</th>\n",
       "      <td>100.00</td>\n",
       "      <td>0.00</td>\n",
       "      <td>0.0</td>\n",
       "      <td>-1105</td>\n",
       "      <td>-805</td>\n",
       "      <td>-955.0</td>\n",
       "    </tr>\n",
       "    <tr>\n",
       "      <th>Mpolongwe-Kribi</th>\n",
       "      <th>31</th>\n",
       "      <td>94.15</td>\n",
       "      <td>5.85</td>\n",
       "      <td>0.0</td>\n",
       "      <td>-810</td>\n",
       "      <td>-720</td>\n",
       "      <td>-765.0</td>\n",
       "    </tr>\n",
       "    <tr>\n",
       "      <th>Bwambe</th>\n",
       "      <th>17</th>\n",
       "      <td>68.60</td>\n",
       "      <td>0.00</td>\n",
       "      <td>31.4</td>\n",
       "      <td>-850</td>\n",
       "      <td>-400</td>\n",
       "      <td>-625.0</td>\n",
       "    </tr>\n",
       "    <tr>\n",
       "      <th>Bissiang</th>\n",
       "      <th>A</th>\n",
       "      <td>100.00</td>\n",
       "      <td>0.00</td>\n",
       "      <td>0.0</td>\n",
       "      <td>-820</td>\n",
       "      <td>-425</td>\n",
       "      <td>-622.5</td>\n",
       "    </tr>\n",
       "    <tr>\n",
       "      <th>Dombe</th>\n",
       "      <th>B</th>\n",
       "      <td>100.00</td>\n",
       "      <td>0.00</td>\n",
       "      <td>0.0</td>\n",
       "      <td>-815</td>\n",
       "      <td>-420</td>\n",
       "      <td>-617.5</td>\n",
       "    </tr>\n",
       "  </tbody>\n",
       "</table>\n",
       "</div>"
      ],
      "text/plain": [
       "                         MALONGO  BWAMBE  MIXED  14Ccal_btm  14Ccal_top  \\\n",
       "SITE            FEATURE                                                   \n",
       "Bissiang        B         100.00    0.00    0.0       -1105        -805   \n",
       "Mpolongwe-Kribi 31         94.15    5.85    0.0        -810        -720   \n",
       "Bwambe          17         68.60    0.00   31.4        -850        -400   \n",
       "Bissiang        A         100.00    0.00    0.0        -820        -425   \n",
       "Dombe           B         100.00    0.00    0.0        -815        -420   \n",
       "\n",
       "                         14Ccal_mean  \n",
       "SITE            FEATURE               \n",
       "Bissiang        B             -955.0  \n",
       "Mpolongwe-Kribi 31            -765.0  \n",
       "Bwambe          17            -625.0  \n",
       "Bissiang        A             -622.5  \n",
       "Dombe           B             -617.5  "
      ]
     },
     "execution_count": 52,
     "metadata": {},
     "output_type": "execute_result"
    }
   ],
   "source": [
    "df = pd.read_csv('../lit/NlendNlend20132014_257Tab44.csv', decimal = ',')\n",
    "df = df.fillna(0)\n",
    "#df = df.sort_values(['SITE', 'FEATURE'])\n",
    "\n",
    "df['14Ccal_mean'] = (df['14Ccal_btm'] + df['14Ccal_top']) / 2\n",
    "\n",
    "#df = df.sort_values(['MALONGO', 'BWAMBE'])\n",
    "df = df.sort_values(['14Ccal_mean'])\n",
    "df = df.set_index(['SITE', 'FEATURE'])\n",
    "\n",
    "df.head()"
   ]
  },
  {
   "cell_type": "code",
   "execution_count": 53,
   "metadata": {},
   "outputs": [
    {
     "data": {
      "image/png": "[encoded data removed]",
      "text/plain": [
       "<matplotlib.figure.Figure at 0x2c6b4111dd8>"
      ]
     },
     "metadata": {},
     "output_type": "display_data"
    }
   ],
   "source": [
    "dfSel = df[['MALONGO', 'BWAMBE', 'MIXED']]\n",
    "dfSel.plot(kind='barh', stacked=True)\n",
    "lgd = plt.legend(bbox_to_anchor=(1.02, 1), loc = 2, borderaxespad = 0., prop={'size':8})"
   ]
  },
  {
   "cell_type": "code",
   "execution_count": null,
   "metadata": {
    "collapsed": true
   },
   "outputs": [],
   "source": []
  }
 ],
 "metadata": {
  "kernelspec": {
   "display_name": "Python 3",
   "language": "python",
   "name": "python3"
  },
  "language_info": {
   "codemirror_mode": {
    "name": "ipython",
    "version": 3
   },
   "file_extension": ".py",
   "mimetype": "text/x-python",
   "name": "python",
   "nbconvert_exporter": "python",
   "pygments_lexer": "ipython3",
   "version": "3.6.1"
  }
 },
 "nbformat": 4,
 "nbformat_minor": 2
}
