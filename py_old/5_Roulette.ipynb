{
 "cells": [
  {
   "cell_type": "markdown",
   "metadata": {},
   "source": [
    "# Roulette-Verzierung"
   ]
  },
  {
   "cell_type": "code",
   "execution_count": 2,
   "metadata": {
    "collapsed": true
   },
   "outputs": [],
   "source": [
    "%matplotlib inline\n",
    "from IPython.display import display\n",
    "import pandas as pd\n",
    "import numpy as np\n",
    "import matplotlib.pyplot as plt\n",
    "import sqlite3\n",
    "\n",
    "con = sqlite3.connect(\"../data/CongoDB.sqlite\")"
   ]
  },
  {
   "cell_type": "markdown",
   "metadata": {},
   "source": [
    "wie viel macht Roulette-Verzierung an alle aufgenommenen Verzierungselementen aus:"
   ]
  },
  {
   "cell_type": "code",
   "execution_count": 2,
   "metadata": {
    "collapsed": false
   },
   "outputs": [],
   "source": [
    "# Alle Verzierungen in der DB aus eigenen Fpl.\n",
    "sql = \"\"\"SELECT\n",
    "           t_Obj.objID,\n",
    "           [t_K_Pos].[posID] || ' ' || [posName] AS pos,\n",
    "           t_K_Verz.verzName AS verzName,\n",
    "           t_K_Verz.verzBeschr\n",
    "       FROM ((t_Ort LEFT JOIN t_Komplex ON t_Ort.ortID = t_Komplex.ortID)\n",
    "           LEFT JOIN t_Obj ON t_Komplex.komplexID = t_Obj.komplexID) t_Obj INNER JOIN \"t_ObjPosVerz\" ON t_Obj.objID = \"t_ObjPosVerz\".objID\n",
    "           INNER JOIN t_K_Pos ON \"t_ObjPosVerz\".posID = t_K_Pos.posID\n",
    "           INNER JOIN t_K_Verz ON \"t_ObjPosVerz\".verzID = t_K_Verz.verzID\n",
    "       WHERE ((t_Ort.ort_Lit) = 'DS')\"\"\".replace('\\n',' ')\n",
    "\n",
    "df = pd.read_sql(sql, con)"
   ]
  },
  {
   "cell_type": "code",
   "execution_count": 3,
   "metadata": {
    "collapsed": false
   },
   "outputs": [
    {
     "data": {
      "text/html": [
       "<div>\n",
       "<table border=\"1\" class=\"dataframe\">\n",
       "  <thead>\n",
       "    <tr style=\"text-align: right;\">\n",
       "      <th></th>\n",
       "      <th>0</th>\n",
       "      <th>Prozent</th>\n",
       "    </tr>\n",
       "  </thead>\n",
       "  <tbody>\n",
       "    <tr>\n",
       "      <th>Roulette</th>\n",
       "      <td>765</td>\n",
       "      <td>9.309967</td>\n",
       "    </tr>\n",
       "    <tr>\n",
       "      <th>Sonstige Verzierungen</th>\n",
       "      <td>7452</td>\n",
       "      <td>90.690033</td>\n",
       "    </tr>\n",
       "  </tbody>\n",
       "</table>\n",
       "</div>"
      ],
      "text/plain": [
       "                          0    Prozent\n",
       "Roulette                765   9.309967\n",
       "Sonstige Verzierungen  7452  90.690033"
      ]
     },
     "execution_count": 3,
     "metadata": {},
     "output_type": "execute_result"
    }
   ],
   "source": [
    "a = pd.Series({'Roulette':len(df.loc[df['verzName'].str.contains(\"V08\")].index),\n",
    "               'Sonstige Verzierungen':len(df.loc[~df['verzName'].str.contains(\"V08\")].index)})\n",
    "a = pd.DataFrame(a)\n",
    "a['Prozent'] = a[0]/a[0].sum()*100\n",
    "a"
   ]
  },
  {
   "cell_type": "markdown",
   "metadata": {},
   "source": [
    "## Roulette-Verzierungen"
   ]
  },
  {
   "cell_type": "code",
   "execution_count": 7,
   "metadata": {
    "collapsed": false
   },
   "outputs": [],
   "source": [
    "# Alle Roulette-Verzierungen in der DB aus eigenen Fpl.\n",
    "sql = \"\"\"SELECT\n",
    "           t_Obj.objID AS objID,\n",
    "           [t_K_Pos].[posID] || ' ' || [posName] AS pos,\n",
    "           t_K_Verz.verzName AS verzName,\n",
    "           t_K_Verz.verzBeschr\n",
    "       FROM ((t_Ort LEFT JOIN t_Komplex ON t_Ort.ortID = t_Komplex.ortID)\n",
    "           LEFT JOIN t_Obj ON t_Komplex.komplexID = t_Obj.komplexID) t_Obj INNER JOIN \"t_ObjPosVerz\" ON t_Obj.objID = \"t_ObjPosVerz\".objID\n",
    "           INNER JOIN t_K_Pos ON \"t_ObjPosVerz\".posID = t_K_Pos.posID\n",
    "           INNER JOIN t_K_Verz ON \"t_ObjPosVerz\".verzID = t_K_Verz.verzID\n",
    "       WHERE (((t_Ort.ort_Lit) = 'DS')\n",
    "           AND ((t_K_Verz.verzName) Like '%21.%'))\"\"\".replace('\\n',' ')\n",
    "\n",
    "df = pd.read_sql(sql, con)"
   ]
  },
  {
   "cell_type": "code",
   "execution_count": 8,
   "metadata": {
    "collapsed": false
   },
   "outputs": [],
   "source": [
    "df_pivot = df.pivot_table(values = 'objID', index = 'verzName', aggfunc = len)\n",
    "df_pivot = pd.DataFrame(df_pivot)"
   ]
  },
  {
   "cell_type": "code",
   "execution_count": 10,
   "metadata": {
    "collapsed": false,
    "scrolled": false
   },
   "outputs": [
    {
     "data": {
      "text/plain": [
       "<matplotlib.text.Text at 0x7f0a888fedd8>"
      ]
     },
     "execution_count": 10,
     "metadata": {},
     "output_type": "execute_result"
    },
    {
     "data": {
      "image/png": "[encoded data removed]",
      "text/plain": [
       "<matplotlib.figure.Figure at 0x7f0a8896eb00>"
      ]
     },
     "metadata": {},
     "output_type": "display_data"
    }
   ],
   "source": [
    "fig = plt.figure()\n",
    "fig.set_size_inches(5, 5)\n",
    "df_pivot['objID'].plot(kind='pie', autopct='%.0f %%', cmap = 'Paired')\n",
    "plt.ylabel('')"
   ]
  },
  {
   "cell_type": "markdown",
   "metadata": {
    "collapsed": true
   },
   "source": [
    "## Kommen Vegetabilisches- und Schnitzroulette einmal gemeinsam auf einem Gefäß vor?"
   ]
  },
  {
   "cell_type": "code",
   "execution_count": 2,
   "metadata": {
    "collapsed": false,
    "scrolled": false
   },
   "outputs": [
    {
     "data": {
      "text/html": [
       "<div>\n",
       "<table border=\"1\" class=\"dataframe\">\n",
       "  <thead>\n",
       "    <tr style=\"text-align: right;\">\n",
       "      <th></th>\n",
       "      <th>Obj</th>\n",
       "      <th>INDIV</th>\n",
       "      <th>pos</th>\n",
       "      <th>verzName</th>\n",
       "      <th>t_K_Verz.verzBeschr</th>\n",
       "      <th>tech</th>\n",
       "    </tr>\n",
       "  </thead>\n",
       "  <tbody>\n",
       "    <tr>\n",
       "      <th>0</th>\n",
       "      <td>3631</td>\n",
       "      <td>NGL 87/101:</td>\n",
       "      <td>1 Pos unbekannt</td>\n",
       "      <td>21.1</td>\n",
       "      <td>vegetabilisches Roulette/Knotted String</td>\n",
       "      <td>vegetabilisch</td>\n",
       "    </tr>\n",
       "    <tr>\n",
       "      <th>1</th>\n",
       "      <td>3630</td>\n",
       "      <td>NGL 87/101:</td>\n",
       "      <td>1 Pos unbekannt</td>\n",
       "      <td>21.1</td>\n",
       "      <td>vegetabilisches Roulette/Knotted String</td>\n",
       "      <td>vegetabilisch</td>\n",
       "    </tr>\n",
       "    <tr>\n",
       "      <th>2</th>\n",
       "      <td>1356</td>\n",
       "      <td>NGL 87/101:58</td>\n",
       "      <td>1 Pos unbekannt</td>\n",
       "      <td>21.1</td>\n",
       "      <td>vegetabilisches Roulette/Knotted String</td>\n",
       "      <td>vegetabilisch</td>\n",
       "    </tr>\n",
       "    <tr>\n",
       "      <th>3</th>\n",
       "      <td>1353</td>\n",
       "      <td>NGL 87/101:67</td>\n",
       "      <td>1 Pos unbekannt</td>\n",
       "      <td>21.1</td>\n",
       "      <td>vegetabilisches Roulette/Knotted String</td>\n",
       "      <td>vegetabilisch</td>\n",
       "    </tr>\n",
       "    <tr>\n",
       "      <th>4</th>\n",
       "      <td>1351</td>\n",
       "      <td>NGL 87/101:74</td>\n",
       "      <td>1 Pos unbekannt</td>\n",
       "      <td>21.1</td>\n",
       "      <td>vegetabilisches Roulette/Knotted String</td>\n",
       "      <td>vegetabilisch</td>\n",
       "    </tr>\n",
       "  </tbody>\n",
       "</table>\n",
       "</div>"
      ],
      "text/plain": [
       "    Obj          INDIV              pos verzName  \\\n",
       "0  3631    NGL 87/101:  1 Pos unbekannt     21.1   \n",
       "1  3630    NGL 87/101:  1 Pos unbekannt     21.1   \n",
       "2  1356  NGL 87/101:58  1 Pos unbekannt     21.1   \n",
       "3  1353  NGL 87/101:67  1 Pos unbekannt     21.1   \n",
       "4  1351  NGL 87/101:74  1 Pos unbekannt     21.1   \n",
       "\n",
       "                       t_K_Verz.verzBeschr           tech  \n",
       "0  vegetabilisches Roulette/Knotted String  vegetabilisch  \n",
       "1  vegetabilisches Roulette/Knotted String  vegetabilisch  \n",
       "2  vegetabilisches Roulette/Knotted String  vegetabilisch  \n",
       "3  vegetabilisches Roulette/Knotted String  vegetabilisch  \n",
       "4  vegetabilisches Roulette/Knotted String  vegetabilisch  "
      ]
     },
     "metadata": {},
     "output_type": "display_data"
    }
   ],
   "source": [
    "# Alle Verzierungen in der DB aus eigenen Fpl.\n",
    "sql = \"\"\"SELECT\n",
    "           t_Obj.objID as Obj,\n",
    "           [t_Ort].[ort_kurz] || ' ' || [t_Komplex].[bef_nr] || ':' || [t_obj].[Individuum] AS INDIV,\n",
    "           [t_K_Pos].[posID] || ' ' || [posName] AS pos,\n",
    "           t_K_Verz.verzName AS verzName,\n",
    "           t_K_Verz.verzBeschr\n",
    "       FROM ((t_Ort LEFT JOIN t_Komplex ON t_Ort.ortID = t_Komplex.ortID)\n",
    "           LEFT JOIN t_Obj ON t_Komplex.komplexID = t_Obj.komplexID) t_Obj INNER JOIN \"t_ObjPosVerz\" ON t_Obj.objID = \"t_ObjPosVerz\".objID\n",
    "           INNER JOIN t_K_Pos ON \"t_ObjPosVerz\".posID = t_K_Pos.posID\n",
    "           INNER JOIN t_K_Verz ON \"t_ObjPosVerz\".verzID = t_K_Verz.verzID\n",
    "       WHERE (((t_Ort.ort_Lit) = 'DS')\n",
    "           AND ((t_K_Verz.verzName) = '21.1')\n",
    "           OR ((t_K_Verz.verzName) = '21.2')\n",
    "           OR ((t_K_Verz.verzName) = '21.3')\n",
    "           OR ((t_K_Verz.verzName) = '21.4'))\"\"\".replace('\\n',' ')\n",
    "\n",
    "df1 = pd.read_sql(sql, con)\n",
    "df1['tech'] = 'vegetabilisch'\n",
    "\n",
    "sql = \"\"\"SELECT\n",
    "           t_Obj.objID as Obj,\n",
    "           [t_Ort].[ort_kurz] || ' ' || [t_Komplex].[bef_nr] || ':' || [t_obj].[Individuum] AS INDIV,\n",
    "           [t_K_Pos].[posID] || ' ' || [posName] AS pos,\n",
    "           t_K_Verz.verzName AS verzName,\n",
    "           t_K_Verz.verzBeschr\n",
    "       FROM ((t_Ort LEFT JOIN t_Komplex ON t_Ort.ortID = t_Komplex.ortID)\n",
    "           LEFT JOIN t_Obj ON t_Komplex.komplexID = t_Obj.komplexID) t_Obj INNER JOIN \"t_ObjPosVerz\" ON t_Obj.objID = \"t_ObjPosVerz\".objID\n",
    "           INNER JOIN t_K_Pos ON \"t_ObjPosVerz\".posID = t_K_Pos.posID\n",
    "           INNER JOIN t_K_Verz ON \"t_ObjPosVerz\".verzID = t_K_Verz.verzID\n",
    "       WHERE (((t_Ort.ort_Lit) = 'DS')\n",
    "           AND ((t_K_Verz.verzName) Like '21.%')\n",
    "           AND ((t_K_Verz.verzName) != '21.1')\n",
    "           AND ((t_K_Verz.verzName) != '21.2')\n",
    "           AND ((t_K_Verz.verzName) != '21.3')\n",
    "           AND ((t_K_Verz.verzName) != '21.4'))\"\"\".replace('\\n',' ')\n",
    "\n",
    "df2 = pd.read_sql(sql, con)\n",
    "df2['tech'] = 'schnitz'\n",
    "\n",
    "df = pd.concat([df1, df2])\n",
    "\n",
    "display(df.head())"
   ]
  },
  {
   "cell_type": "code",
   "execution_count": 3,
   "metadata": {
    "collapsed": false
   },
   "outputs": [
    {
     "data": {
      "text/html": [
       "<div>\n",
       "<table border=\"1\" class=\"dataframe\">\n",
       "  <thead>\n",
       "    <tr style=\"text-align: right;\">\n",
       "      <th></th>\n",
       "      <th>tech</th>\n",
       "      <th>schnitz</th>\n",
       "      <th>vegetabilisch</th>\n",
       "      <th>All</th>\n",
       "    </tr>\n",
       "    <tr>\n",
       "      <th>Obj</th>\n",
       "      <th>INDIV</th>\n",
       "      <th></th>\n",
       "      <th></th>\n",
       "      <th></th>\n",
       "    </tr>\n",
       "  </thead>\n",
       "  <tbody>\n",
       "    <tr>\n",
       "      <th>5362</th>\n",
       "      <th>MTB 85/101:11</th>\n",
       "      <td>2</td>\n",
       "      <td>1</td>\n",
       "      <td>3</td>\n",
       "    </tr>\n",
       "    <tr>\n",
       "      <th>5567</th>\n",
       "      <th>MAO 85/101:65</th>\n",
       "      <td>2</td>\n",
       "      <td>1</td>\n",
       "      <td>3</td>\n",
       "    </tr>\n",
       "    <tr>\n",
       "      <th>5574</th>\n",
       "      <th>MAO 85/101:46</th>\n",
       "      <td>1</td>\n",
       "      <td>1</td>\n",
       "      <td>2</td>\n",
       "    </tr>\n",
       "    <tr>\n",
       "      <th>5751</th>\n",
       "      <th>LIB 85/101:7</th>\n",
       "      <td>1</td>\n",
       "      <td>1</td>\n",
       "      <td>2</td>\n",
       "    </tr>\n",
       "    <tr>\n",
       "      <th>5836</th>\n",
       "      <th>BAT 85/101:56</th>\n",
       "      <td>1</td>\n",
       "      <td>1</td>\n",
       "      <td>2</td>\n",
       "    </tr>\n",
       "    <tr>\n",
       "      <th>5866</th>\n",
       "      <th>MBK 85/101:49, 64, 76</th>\n",
       "      <td>1</td>\n",
       "      <td>2</td>\n",
       "      <td>3</td>\n",
       "    </tr>\n",
       "    <tr>\n",
       "      <th>5875</th>\n",
       "      <th>MBK 85/101:80</th>\n",
       "      <td>2</td>\n",
       "      <td>2</td>\n",
       "      <td>4</td>\n",
       "    </tr>\n",
       "    <tr>\n",
       "      <th>All</th>\n",
       "      <th></th>\n",
       "      <td>441</td>\n",
       "      <td>350</td>\n",
       "      <td>791</td>\n",
       "    </tr>\n",
       "  </tbody>\n",
       "</table>\n",
       "</div>"
      ],
      "text/plain": [
       "tech                        schnitz  vegetabilisch  All\n",
       "Obj  INDIV                                             \n",
       "5362 MTB 85/101:11                2              1    3\n",
       "5567 MAO 85/101:65                2              1    3\n",
       "5574 MAO 85/101:46                1              1    2\n",
       "5751 LIB 85/101:7                 1              1    2\n",
       "5836 BAT 85/101:56                1              1    2\n",
       "5866 MBK 85/101:49, 64, 76        1              2    3\n",
       "5875 MBK 85/101:80                2              2    4\n",
       "All                             441            350  791"
      ]
     },
     "execution_count": 3,
     "metadata": {},
     "output_type": "execute_result"
    }
   ],
   "source": [
    "df_pivot = df.pivot_table(values = 'pos', index = ['Obj', 'INDIV'], columns = 'tech', aggfunc = len, margins = 'TRUE')\n",
    "df_pivot = pd.DataFrame(df_pivot)\n",
    "# nur jene Stücke, bei denen beide typen vertreten sind\n",
    "# ansonsten ist eine der spalten lee\n",
    "df_pivot.dropna()"
   ]
  },
  {
   "cell_type": "markdown",
   "metadata": {},
   "source": [
    "Nach Anne Mayor (04.12.2015) gehen vegetabilisches und Schnitz-Roulette überhaupt nicht zusammen. Das hier muss also herausgestellt werden! Oder habe ich die evtl nur falsch bestimmt?\n",
    "\n",
    "> [ ] Nachsehen, ob die Stücke gezeichnet sind und wenn ja, dann heraussuchen."
   ]
  },
  {
   "cell_type": "code",
   "execution_count": null,
   "metadata": {
    "collapsed": true
   },
   "outputs": [],
   "source": []
  }
 ],
 "metadata": {
  "anaconda-cloud": {},
  "kernelspec": {
   "display_name": "Python [default]",
   "language": "python",
   "name": "python3"
  },
  "language_info": {
   "codemirror_mode": {
    "name": "ipython",
    "version": 3
   },
   "file_extension": ".py",
   "mimetype": "text/x-python",
   "name": "python",
   "nbconvert_exporter": "python",
   "pygments_lexer": "ipython3",
   "version": "3.5.2"
  }
 },
 "nbformat": 4,
 "nbformat_minor": 0
}
