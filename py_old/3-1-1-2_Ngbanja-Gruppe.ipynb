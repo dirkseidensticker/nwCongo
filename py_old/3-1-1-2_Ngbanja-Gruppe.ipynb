{
 "cells": [
  {
   "cell_type": "markdown",
   "metadata": {},
   "source": [
    "# Ngbanja-Gruppe"
   ]
  },
  {
   "cell_type": "markdown",
   "metadata": {},
   "source": [
    "* [Funde](#Funde)\n",
    "\t* [Scherbentypen](#Scherbentypen)\n",
    "* [Technologische Merkmale](#Technologische-Merkmale)\n",
    "\t* [Brennfarbe](#Brennfarbe)\n",
    "\t* [Oberfläche der Scherben](#Oberfläche-der-Scherben)\n",
    "\t* [Wandungsdicke](#Wandungsdicke)\n",
    "* Formen\n",
    "\t* [Gefäßformen](#Gefäßformen)\n",
    "        * [G7a](#G7a)\n",
    "\t* [Proportionen](#Proportionen)\n",
    "\t* [Bauchform](#Bauchform)\n",
    "\t* [Mündungs- und Randformen](#Mündungs--und-Randformen)\n",
    "\t* [Bodenformen](#Bodenformen)\n",
    "* [Verzierungen](#Verzierungselemente)\n",
    "* [Verbreitung](#Verbreitung)\n",
    "* [Appendix](#Appendix)"
   ]
  },
  {
   "cell_type": "code",
   "execution_count": 1,
   "metadata": {
    "collapsed": true
   },
   "outputs": [],
   "source": [
    "%matplotlib inline\n",
    "from IPython.display import display\n",
    "import pandas as pd\n",
    "import numpy as np\n",
    "import matplotlib.pyplot as plt\n",
    "from mpl_toolkits.axes_grid1 import make_axes_locatable\n",
    "import sqlite3\n",
    "\n",
    "import sys, os\n",
    "sys.path.append(\"/Python\")\n",
    "from myfunctions import *\n",
    "from parula import *\n",
    "\n",
    "style = 'NGB'\n",
    "\n",
    "con = sqlite3.connect(\"../data/CongoDB.sqlite\")"
   ]
  },
  {
   "cell_type": "markdown",
   "metadata": {},
   "source": [
    "## Funde"
   ]
  },
  {
   "cell_type": "code",
   "execution_count": 3,
   "metadata": {},
   "outputs": [
    {
     "data": {
      "text/plain": [
       "Typ\n",
       "BatMLB / NGB (?)     1\n",
       "NGB                 20\n",
       "NGB (?)             34\n",
       "NGB/BatMLB (?)       2\n",
       "NGB/KON (?)          1\n",
       "OUE/NGB (?)          2\n",
       "All                NaN\n",
       "Name: Anzahl, dtype: float64"
      ]
     },
     "execution_count": 3,
     "metadata": {},
     "output_type": "execute_result"
    }
   ],
   "source": [
    "sql = \"\"\"SELECT\n",
    "           t_Ort.ort_kurz,\n",
    "           [t_Ort].[ort_name] || ' (Fpl. ' || [Kat-Nr] || ')' AS name,\n",
    "           t_komplex.bef_art,\n",
    "           t_Obj.objID,\n",
    "           t_Obj.Typ,\n",
    "           t_Obj.Form_Gef,\n",
    "           t_Obj.Anzahl,\n",
    "           t_Obj.Fabric\n",
    "       FROM (t_Ort INNER JOIN t_Komplex ON t_Ort.ortID = t_Komplex.ortID)\n",
    "           INNER JOIN t_Obj ON t_Komplex.komplexID = t_Obj.komplexID\n",
    "       WHERE ((t_Obj.Typ) Like '%\"\"\"+style+\"\"\"%')\"\"\".replace('\\n',' ')\n",
    "\n",
    "df = pd.read_sql(sql, con)\n",
    "\n",
    "df['Anzahl'] = pd.to_numeric(df['Anzahl'])\n",
    "df.pivot_table(values = 'Anzahl', index = 'Typ', aggfunc = sum, margins = True)  # Anzahl GE"
   ]
  },
  {
   "cell_type": "code",
   "execution_count": 4,
   "metadata": {},
   "outputs": [
    {
     "data": {
      "text/html": [
       "<div>\n",
       "<table border=\"1\" class=\"dataframe\">\n",
       "  <thead>\n",
       "    <tr style=\"text-align: right;\">\n",
       "      <th></th>\n",
       "      <th>ort_kurz</th>\n",
       "      <th>name</th>\n",
       "      <th>bef_art</th>\n",
       "      <th>objID</th>\n",
       "      <th>Typ</th>\n",
       "      <th>Form_Gef</th>\n",
       "      <th>Anzahl</th>\n",
       "      <th>Fabric</th>\n",
       "    </tr>\n",
       "  </thead>\n",
       "  <tbody>\n",
       "    <tr>\n",
       "      <th>18</th>\n",
       "      <td>PIK</td>\n",
       "      <td>Pikunda (Fpl. 255)</td>\n",
       "      <td>Grube</td>\n",
       "      <td>2715</td>\n",
       "      <td>NGB (?)</td>\n",
       "      <td></td>\n",
       "      <td>NaN</td>\n",
       "      <td>None</td>\n",
       "    </tr>\n",
       "    <tr>\n",
       "      <th>19</th>\n",
       "      <td>PIK</td>\n",
       "      <td>Pikunda (Fpl. 255)</td>\n",
       "      <td>Grube</td>\n",
       "      <td>2717</td>\n",
       "      <td>NGB (?)</td>\n",
       "      <td></td>\n",
       "      <td>NaN</td>\n",
       "      <td>None</td>\n",
       "    </tr>\n",
       "  </tbody>\n",
       "</table>\n",
       "</div>"
      ],
      "text/plain": [
       "   ort_kurz                name bef_art  objID      Typ Form_Gef  Anzahl  \\\n",
       "18      PIK  Pikunda (Fpl. 255)   Grube   2715  NGB (?)              NaN   \n",
       "19      PIK  Pikunda (Fpl. 255)   Grube   2717  NGB (?)              NaN   \n",
       "\n",
       "   Fabric  \n",
       "18   None  \n",
       "19   None  "
      ]
     },
     "execution_count": 4,
     "metadata": {},
     "output_type": "execute_result"
    }
   ],
   "source": [
    "df.loc[df['Anzahl'] != 1]"
   ]
  },
  {
   "cell_type": "markdown",
   "metadata": {},
   "source": [
    "> hierbei handelt es sich um das Material, das 1987 'verlocht' wurde"
   ]
  },
  {
   "cell_type": "markdown",
   "metadata": {},
   "source": [
    "Von wie vielen Fundstellen stammen die sicheren Stücke?"
   ]
  },
  {
   "cell_type": "code",
   "execution_count": 5,
   "metadata": {},
   "outputs": [
    {
     "name": "stderr",
     "output_type": "stream",
     "text": [
      "C:\\Users\\DirkSeidenticker\\Anaconda3\\lib\\site-packages\\IPython\\kernel\\__main__.py:2: UserWarning: This pattern has match groups. To actually get the groups, use str.extract.\n",
      "  from IPython.kernel.zmq import kernelapp as app\n"
     ]
    },
    {
     "data": {
      "text/plain": [
       "Ngbanja (Fpl. 199)    8\n",
       "Nzambi (Fpl. 205)     8\n",
       "Ouesso (Fpl. 265)     2\n",
       "Pandama (Fpl. 276)    1\n",
       "Matoto (Fpl. 264)     1\n",
       "Name: name, dtype: int64"
      ]
     },
     "execution_count": 5,
     "metadata": {},
     "output_type": "execute_result"
    }
   ],
   "source": [
    "# nur sichere Stücke herausfiltern - keine () im Typ-Ausdruck\n",
    "a = df.loc[~df['Typ'].str.contains(' ()')]\n",
    "a['name'].value_counts()"
   ]
  },
  {
   "cell_type": "code",
   "execution_count": 6,
   "metadata": {
    "scrolled": true
   },
   "outputs": [
    {
     "data": {
      "text/plain": [
       "bef_art  ort_kurz\n",
       "Grube    MLB          2\n",
       "         PIK          4\n",
       "Oberfl   EBE          1\n",
       "         IKM          9\n",
       "         LKA          1\n",
       "         MAO          1\n",
       "         MAT          2\n",
       "         MOS          1\n",
       "         MTB          1\n",
       "         NGB         11\n",
       "         NZA         12\n",
       "         OUE         11\n",
       "         PDM          2\n",
       "         PIK          2\n",
       "All                 NaN\n",
       "Name: Anzahl, dtype: float64"
      ]
     },
     "execution_count": 6,
     "metadata": {},
     "output_type": "execute_result"
    }
   ],
   "source": [
    "df.pivot_table(values = 'Anzahl', index = ['bef_art', 'ort_kurz'], aggfunc = sum, margins = True)"
   ]
  },
  {
   "cell_type": "code",
   "execution_count": 6,
   "metadata": {
    "scrolled": true
   },
   "outputs": [
    {
     "data": {
      "text/html": [
       "<div>\n",
       "<table border=\"1\" class=\"dataframe\">\n",
       "  <thead>\n",
       "    <tr style=\"text-align: right;\">\n",
       "      <th></th>\n",
       "      <th>Anzahl</th>\n",
       "      <th>Prozent</th>\n",
       "    </tr>\n",
       "    <tr>\n",
       "      <th>bef_art</th>\n",
       "      <th></th>\n",
       "      <th></th>\n",
       "    </tr>\n",
       "  </thead>\n",
       "  <tbody>\n",
       "    <tr>\n",
       "      <th>Grube</th>\n",
       "      <td>6</td>\n",
       "      <td>10</td>\n",
       "    </tr>\n",
       "    <tr>\n",
       "      <th>Oberfl</th>\n",
       "      <td>54</td>\n",
       "      <td>90</td>\n",
       "    </tr>\n",
       "  </tbody>\n",
       "</table>\n",
       "</div>"
      ],
      "text/plain": [
       "         Anzahl  Prozent\n",
       "bef_art                 \n",
       "Grube         6       10\n",
       "Oberfl       54       90"
      ]
     },
     "execution_count": 6,
     "metadata": {},
     "output_type": "execute_result"
    }
   ],
   "source": [
    "a = df.pivot_table(values = 'Anzahl', index = 'bef_art', aggfunc = sum)\n",
    "a = pd.DataFrame(a)\n",
    "a['Prozent'] = a['Anzahl']/a['Anzahl'].sum()*100\n",
    "a"
   ]
  },
  {
   "cell_type": "markdown",
   "metadata": {},
   "source": [
    "## Technologische Merkmale"
   ]
  },
  {
   "cell_type": "code",
   "execution_count": 9,
   "metadata": {
    "collapsed": true
   },
   "outputs": [],
   "source": [
    "sql = \"\"\"SELECT\n",
    "           t_Obj.objID,\n",
    "           t_Obj.Anzahl,\n",
    "           t_Obj.MagerungArt,\n",
    "           t_Obj.MagerungDichte,\n",
    "           t_Obj.Fabric\n",
    "       FROM (t_Ort INNER JOIN t_Komplex ON t_Ort.ortID = t_Komplex.ortID)\n",
    "           INNER JOIN t_Obj ON t_Komplex.komplexID = t_Obj.komplexID\n",
    "       WHERE (((t_Obj.Fabric) != '')\n",
    "           AND ((t_Obj.Typ) Like '%NGB%'))\"\"\".replace('\\n',' ')\n",
    "\n",
    "df = pd.read_sql(sql, con)"
   ]
  },
  {
   "cell_type": "code",
   "execution_count": 10,
   "metadata": {},
   "outputs": [
    {
     "name": "stderr",
     "output_type": "stream",
     "text": [
      "/home/dirk/anaconda3/lib/python3.5/site-packages/ipykernel/__main__.py:3: FutureWarning: by argument to sort_index is deprecated, pls use .sort_values(by=...)\n",
      "  app.launch_new_instance()\n"
     ]
    }
   ],
   "source": [
    "df_pivot = df.pivot_table(values = 'Anzahl', index = 'Fabric', aggfunc = sum)\n",
    "df_pivot = pd.DataFrame(df_pivot)\n",
    "df_pivot = df_pivot.sort_index(by=['Anzahl'], ascending=[False])"
   ]
  },
  {
   "cell_type": "code",
   "execution_count": 11,
   "metadata": {},
   "outputs": [
    {
     "data": {
      "image/png": "[encoded data removed]",
      "text/plain": [
       "<matplotlib.figure.Figure at 0x7f76ff219f60>"
      ]
     },
     "metadata": {},
     "output_type": "display_data"
    }
   ],
   "source": [
    "df_pivot.plot(kind = 'barh', legend = False, color = 'Grey')\n",
    "plt.show()"
   ]
  },
  {
   "cell_type": "code",
   "execution_count": 12,
   "metadata": {},
   "outputs": [
    {
     "data": {
      "text/html": [
       "<div>\n",
       "<table border=\"1\" class=\"dataframe\">\n",
       "  <thead>\n",
       "    <tr style=\"text-align: right;\">\n",
       "      <th></th>\n",
       "      <th>Anzahl</th>\n",
       "      <th>Prozent</th>\n",
       "    </tr>\n",
       "    <tr>\n",
       "      <th>Fabric</th>\n",
       "      <th></th>\n",
       "      <th></th>\n",
       "    </tr>\n",
       "  </thead>\n",
       "  <tbody>\n",
       "    <tr>\n",
       "      <th>4a</th>\n",
       "      <td>14</td>\n",
       "      <td>23.333333</td>\n",
       "    </tr>\n",
       "    <tr>\n",
       "      <th>4c</th>\n",
       "      <td>11</td>\n",
       "      <td>18.333333</td>\n",
       "    </tr>\n",
       "    <tr>\n",
       "      <th>5c</th>\n",
       "      <td>7</td>\n",
       "      <td>11.666667</td>\n",
       "    </tr>\n",
       "    <tr>\n",
       "      <th>5b</th>\n",
       "      <td>5</td>\n",
       "      <td>8.333333</td>\n",
       "    </tr>\n",
       "    <tr>\n",
       "      <th>3b</th>\n",
       "      <td>4</td>\n",
       "      <td>6.666667</td>\n",
       "    </tr>\n",
       "  </tbody>\n",
       "</table>\n",
       "</div>"
      ],
      "text/plain": [
       "        Anzahl    Prozent\n",
       "Fabric                   \n",
       "4a          14  23.333333\n",
       "4c          11  18.333333\n",
       "5c           7  11.666667\n",
       "5b           5   8.333333\n",
       "3b           4   6.666667"
      ]
     },
     "metadata": {},
     "output_type": "display_data"
    }
   ],
   "source": [
    "df_pivot['Prozent'] = df_pivot['Anzahl']/df_pivot['Anzahl'].sum()*100\n",
    "display(df_pivot.head())"
   ]
  },
  {
   "cell_type": "code",
   "execution_count": 15,
   "metadata": {},
   "outputs": [
    {
     "data": {
      "text/html": [
       "<div>\n",
       "<table border=\"1\" class=\"dataframe\">\n",
       "  <thead>\n",
       "    <tr style=\"text-align: right;\">\n",
       "      <th></th>\n",
       "      <th>Anzahl</th>\n",
       "      <th>Prozent</th>\n",
       "    </tr>\n",
       "    <tr>\n",
       "      <th>MagerungDichte</th>\n",
       "      <th></th>\n",
       "      <th></th>\n",
       "    </tr>\n",
       "  </thead>\n",
       "  <tbody>\n",
       "    <tr>\n",
       "      <th></th>\n",
       "      <td>2</td>\n",
       "      <td>3.333333</td>\n",
       "    </tr>\n",
       "    <tr>\n",
       "      <th>&lt;1</th>\n",
       "      <td>1</td>\n",
       "      <td>1.666667</td>\n",
       "    </tr>\n",
       "    <tr>\n",
       "      <th>mittel</th>\n",
       "      <td>5</td>\n",
       "      <td>8.333333</td>\n",
       "    </tr>\n",
       "    <tr>\n",
       "      <th>sehr viel</th>\n",
       "      <td>20</td>\n",
       "      <td>33.333333</td>\n",
       "    </tr>\n",
       "    <tr>\n",
       "      <th>viel</th>\n",
       "      <td>28</td>\n",
       "      <td>46.666667</td>\n",
       "    </tr>\n",
       "    <tr>\n",
       "      <th>wenig</th>\n",
       "      <td>4</td>\n",
       "      <td>6.666667</td>\n",
       "    </tr>\n",
       "  </tbody>\n",
       "</table>\n",
       "</div>"
      ],
      "text/plain": [
       "                Anzahl    Prozent\n",
       "MagerungDichte                   \n",
       "                     2   3.333333\n",
       "<1                   1   1.666667\n",
       "mittel               5   8.333333\n",
       "sehr viel           20  33.333333\n",
       "viel                28  46.666667\n",
       "wenig                4   6.666667"
      ]
     },
     "execution_count": 15,
     "metadata": {},
     "output_type": "execute_result"
    }
   ],
   "source": [
    "df_pivot = df.pivot_table(values = 'Anzahl', index = 'MagerungDichte', aggfunc = sum)\n",
    "df_pivot = pd.DataFrame(df_pivot)\n",
    "df_pivot['Prozent'] = df_pivot['Anzahl']/df_pivot['Anzahl'].sum()*100\n",
    "df_pivot"
   ]
  },
  {
   "cell_type": "code",
   "execution_count": 16,
   "metadata": {},
   "outputs": [
    {
     "data": {
      "text/html": [
       "<div>\n",
       "<table border=\"1\" class=\"dataframe\">\n",
       "  <thead>\n",
       "    <tr style=\"text-align: right;\">\n",
       "      <th></th>\n",
       "      <th>Anzahl</th>\n",
       "      <th>Prozent</th>\n",
       "    </tr>\n",
       "    <tr>\n",
       "      <th>MagerungArt</th>\n",
       "      <th></th>\n",
       "      <th></th>\n",
       "    </tr>\n",
       "  </thead>\n",
       "  <tbody>\n",
       "    <tr>\n",
       "      <th></th>\n",
       "      <td>2</td>\n",
       "      <td>3.333333</td>\n",
       "    </tr>\n",
       "    <tr>\n",
       "      <th>Laterit</th>\n",
       "      <td>1</td>\n",
       "      <td>1.666667</td>\n",
       "    </tr>\n",
       "    <tr>\n",
       "      <th>Org/Gl/Laterit</th>\n",
       "      <td>1</td>\n",
       "      <td>1.666667</td>\n",
       "    </tr>\n",
       "    <tr>\n",
       "      <th>Org/Laterit (?)</th>\n",
       "      <td>1</td>\n",
       "      <td>1.666667</td>\n",
       "    </tr>\n",
       "    <tr>\n",
       "      <th>S</th>\n",
       "      <td>49</td>\n",
       "      <td>81.666667</td>\n",
       "    </tr>\n",
       "    <tr>\n",
       "      <th>S/Gl/Laterit</th>\n",
       "      <td>1</td>\n",
       "      <td>1.666667</td>\n",
       "    </tr>\n",
       "    <tr>\n",
       "      <th>S/Laterit</th>\n",
       "      <td>2</td>\n",
       "      <td>3.333333</td>\n",
       "    </tr>\n",
       "    <tr>\n",
       "      <th>S/Laterit (?)</th>\n",
       "      <td>1</td>\n",
       "      <td>1.666667</td>\n",
       "    </tr>\n",
       "    <tr>\n",
       "      <th>S/Latertit</th>\n",
       "      <td>1</td>\n",
       "      <td>1.666667</td>\n",
       "    </tr>\n",
       "    <tr>\n",
       "      <th>S/rote Partikel</th>\n",
       "      <td>1</td>\n",
       "      <td>1.666667</td>\n",
       "    </tr>\n",
       "  </tbody>\n",
       "</table>\n",
       "</div>"
      ],
      "text/plain": [
       "                 Anzahl    Prozent\n",
       "MagerungArt                       \n",
       "                      2   3.333333\n",
       "Laterit               1   1.666667\n",
       "Org/Gl/Laterit        1   1.666667\n",
       "Org/Laterit (?)       1   1.666667\n",
       "S                    49  81.666667\n",
       "S/Gl/Laterit          1   1.666667\n",
       "S/Laterit             2   3.333333\n",
       "S/Laterit (?)         1   1.666667\n",
       "S/Latertit            1   1.666667\n",
       "S/rote Partikel       1   1.666667"
      ]
     },
     "execution_count": 16,
     "metadata": {},
     "output_type": "execute_result"
    }
   ],
   "source": [
    "df_pivot = df.pivot_table(values = 'Anzahl', index = 'MagerungArt', aggfunc = sum)\n",
    "df_pivot = pd.DataFrame(df_pivot)\n",
    "df_pivot['Prozent'] = df_pivot['Anzahl']/df_pivot['Anzahl'].sum()*100\n",
    "df_pivot"
   ]
  },
  {
   "cell_type": "markdown",
   "metadata": {},
   "source": [
    "### Brennfarbe"
   ]
  },
  {
   "cell_type": "code",
   "execution_count": 62,
   "metadata": {},
   "outputs": [
    {
     "data": {
      "text/html": [
       "<div>\n",
       "<table border=\"1\" class=\"dataframe\">\n",
       "  <thead>\n",
       "    <tr style=\"text-align: right;\">\n",
       "      <th></th>\n",
       "      <th>0</th>\n",
       "      <th>Prozent</th>\n",
       "    </tr>\n",
       "  </thead>\n",
       "  <tbody>\n",
       "    <tr>\n",
       "      <th>Rot</th>\n",
       "      <td>24</td>\n",
       "      <td>37.5000</td>\n",
       "    </tr>\n",
       "    <tr>\n",
       "      <th>Sonstig</th>\n",
       "      <td>25</td>\n",
       "      <td>39.0625</td>\n",
       "    </tr>\n",
       "    <tr>\n",
       "      <th>Weiß</th>\n",
       "      <td>15</td>\n",
       "      <td>23.4375</td>\n",
       "    </tr>\n",
       "  </tbody>\n",
       "</table>\n",
       "</div>"
      ],
      "text/plain": [
       "          0  Prozent\n",
       "Rot      24  37.5000\n",
       "Sonstig  25  39.0625\n",
       "Weiß     15  23.4375"
      ]
     },
     "execution_count": 62,
     "metadata": {},
     "output_type": "execute_result"
    }
   ],
   "source": [
    "sql = \"\"\"SELECT\n",
    "           t_Obj.objID,\n",
    "           [t_Obj].[Außenfarbe] || '/' || [t_Obj].[Prof_aussen] || '/' || [t_Obj].[Prof_Kern] || '/' || [t_Obj].[Prof_innen] || '/' || [t_Obj].[Innenfarbe] AS Farbe,\n",
    "           t_Ort.ort_fluss\n",
    "       FROM (t_Ort LEFT JOIN t_Komplex ON t_Ort.ortID = t_Komplex.ortID)\n",
    "           LEFT JOIN t_Obj ON t_Komplex.komplexID = t_Obj.komplexID\n",
    "       WHERE (((t_Obj.Fabric) != '')\n",
    "           AND ((t_Obj.Typ) Like '%NGB%'))\"\"\".replace('\\n',' ')\n",
    "df = pd.read_sql(sql, con)\n",
    "\n",
    "a = pd.Series({'Weiß':len(df[df['Farbe'].str.contains(\"W\")].index),\n",
    "               'Rot':len(df[df['Farbe'].str.contains(\"R\")].index),\n",
    "               'Sonstig':len(df[~df['Farbe'].str.contains(\"W|R\")].index)})\n",
    "a = pd.DataFrame(a)\n",
    "a['Prozent'] = a[0]/a[0].sum()*100\n",
    "a"
   ]
  },
  {
   "cell_type": "code",
   "execution_count": 58,
   "metadata": {},
   "outputs": [
    {
     "data": {
      "image/png": "[encoded data removed]",
      "text/plain": [
       "<matplotlib.figure.Figure at 0x7f76fee06f98>"
      ]
     },
     "metadata": {},
     "output_type": "display_data"
    }
   ],
   "source": [
    "a.plot(y = 'Prozent', kind = 'bar', legend = None, color = 'grey')\n",
    "plt.xticks(rotation=0)\n",
    "plt.ylabel('Anteil [%]')\n",
    "plt.show()"
   ]
  },
  {
   "cell_type": "code",
   "execution_count": 59,
   "metadata": {},
   "outputs": [
    {
     "data": {
      "text/plain": [
       "s        32\n",
       "g        32\n",
       "bg       29\n",
       "          8\n",
       "bg bg     6\n",
       "g bg      5\n",
       "br s      2\n",
       "bg g      2\n",
       "g g       2\n",
       "bg s      2\n",
       "dtype: int64"
      ]
     },
     "execution_count": 59,
     "metadata": {},
     "output_type": "execute_result"
    }
   ],
   "source": [
    "# Sontiges:\n",
    "a = df[~df['Farbe'].str.contains(\"W|R\")]\n",
    "pd.Series(' '.join(a['Farbe']).lower().split('/')).value_counts()[:10]"
   ]
  },
  {
   "cell_type": "code",
   "execution_count": 60,
   "metadata": {},
   "outputs": [
    {
     "data": {
      "text/html": [
       "<div>\n",
       "<table border=\"1\" class=\"dataframe\">\n",
       "  <thead>\n",
       "    <tr style=\"text-align: right;\">\n",
       "      <th></th>\n",
       "      <th>objID</th>\n",
       "      <th>Farbe</th>\n",
       "      <th>ort_fluss</th>\n",
       "    </tr>\n",
       "  </thead>\n",
       "  <tbody>\n",
       "    <tr>\n",
       "      <th>3</th>\n",
       "      <td>5168</td>\n",
       "      <td>S/S/S/Br/Br</td>\n",
       "      <td>Ngoko</td>\n",
       "    </tr>\n",
       "    <tr>\n",
       "      <th>4</th>\n",
       "      <td>4703</td>\n",
       "      <td>////</td>\n",
       "      <td>Sangha</td>\n",
       "    </tr>\n",
       "    <tr>\n",
       "      <th>5</th>\n",
       "      <td>4712</td>\n",
       "      <td>////</td>\n",
       "      <td>Sangha</td>\n",
       "    </tr>\n",
       "    <tr>\n",
       "      <th>7</th>\n",
       "      <td>4695</td>\n",
       "      <td>S/G/Bg/G/G/G/Bg</td>\n",
       "      <td>Sangha</td>\n",
       "    </tr>\n",
       "    <tr>\n",
       "      <th>13</th>\n",
       "      <td>4612</td>\n",
       "      <td>Bg/Bg/G/G/G/Bg</td>\n",
       "      <td>Sangha</td>\n",
       "    </tr>\n",
       "  </tbody>\n",
       "</table>\n",
       "</div>"
      ],
      "text/plain": [
       "    objID            Farbe ort_fluss\n",
       "3    5168      S/S/S/Br/Br     Ngoko\n",
       "4    4703             ////    Sangha\n",
       "5    4712             ////    Sangha\n",
       "7    4695  S/G/Bg/G/G/G/Bg    Sangha\n",
       "13   4612   Bg/Bg/G/G/G/Bg    Sangha"
      ]
     },
     "execution_count": 60,
     "metadata": {},
     "output_type": "execute_result"
    }
   ],
   "source": [
    "a.head()"
   ]
  },
  {
   "cell_type": "code",
   "execution_count": 66,
   "metadata": {},
   "outputs": [
    {
     "data": {
      "text/html": [
       "<div>\n",
       "<table border=\"1\" class=\"dataframe\">\n",
       "  <thead>\n",
       "    <tr style=\"text-align: right;\">\n",
       "      <th>ort_fluss</th>\n",
       "      <th>Lua</th>\n",
       "      <th>Ngoko</th>\n",
       "      <th>Sangha</th>\n",
       "      <th>Ubangi</th>\n",
       "    </tr>\n",
       "    <tr>\n",
       "      <th>col</th>\n",
       "      <th></th>\n",
       "      <th></th>\n",
       "      <th></th>\n",
       "      <th></th>\n",
       "    </tr>\n",
       "  </thead>\n",
       "  <tbody>\n",
       "    <tr>\n",
       "      <th>BR</th>\n",
       "      <td>NaN</td>\n",
       "      <td>NaN</td>\n",
       "      <td>1.0</td>\n",
       "      <td>NaN</td>\n",
       "    </tr>\n",
       "    <tr>\n",
       "      <th>Bg</th>\n",
       "      <td>2.0</td>\n",
       "      <td>NaN</td>\n",
       "      <td>2.0</td>\n",
       "      <td>18.0</td>\n",
       "    </tr>\n",
       "    <tr>\n",
       "      <th>Br</th>\n",
       "      <td>2.0</td>\n",
       "      <td>3.0</td>\n",
       "      <td>4.0</td>\n",
       "      <td>13.0</td>\n",
       "    </tr>\n",
       "    <tr>\n",
       "      <th>G</th>\n",
       "      <td>5.0</td>\n",
       "      <td>1.0</td>\n",
       "      <td>20.0</td>\n",
       "      <td>20.0</td>\n",
       "    </tr>\n",
       "    <tr>\n",
       "      <th>R</th>\n",
       "      <td>1.0</td>\n",
       "      <td>2.0</td>\n",
       "      <td>34.0</td>\n",
       "      <td>38.0</td>\n",
       "    </tr>\n",
       "    <tr>\n",
       "      <th>S</th>\n",
       "      <td>2.0</td>\n",
       "      <td>NaN</td>\n",
       "      <td>6.0</td>\n",
       "      <td>7.0</td>\n",
       "    </tr>\n",
       "    <tr>\n",
       "      <th>W</th>\n",
       "      <td>2.0</td>\n",
       "      <td>NaN</td>\n",
       "      <td>26.0</td>\n",
       "      <td>16.0</td>\n",
       "    </tr>\n",
       "    <tr>\n",
       "      <th>br</th>\n",
       "      <td>NaN</td>\n",
       "      <td>1.0</td>\n",
       "      <td>NaN</td>\n",
       "      <td>NaN</td>\n",
       "    </tr>\n",
       "  </tbody>\n",
       "</table>\n",
       "</div>"
      ],
      "text/plain": [
       "ort_fluss  Lua  Ngoko  Sangha  Ubangi\n",
       "col                                  \n",
       "BR         NaN    NaN     1.0     NaN\n",
       "Bg         2.0    NaN     2.0    18.0\n",
       "Br         2.0    3.0     4.0    13.0\n",
       "G          5.0    1.0    20.0    20.0\n",
       "R          1.0    2.0    34.0    38.0\n",
       "S          2.0    NaN     6.0     7.0\n",
       "W          2.0    NaN    26.0    16.0\n",
       "br         NaN    1.0     NaN     NaN"
      ]
     },
     "execution_count": 66,
     "metadata": {},
     "output_type": "execute_result"
    }
   ],
   "source": [
    "a = df[df['Farbe'].str.contains(\"W|R\")]\n",
    "s = a['Farbe'].str.split('/').apply(pd.Series, 1).stack()\n",
    "s.index = s.index.droplevel(-1)\n",
    "s.name = 'col'\n",
    "a_pivot = a.join(s).pivot_table(values = 'objID', columns = 'ort_fluss', index = 'col', aggfunc = len)\n",
    "a_pivot"
   ]
  },
  {
   "cell_type": "markdown",
   "metadata": {},
   "source": [
    "### Oberfläche der Scherben"
   ]
  },
  {
   "cell_type": "markdown",
   "metadata": {},
   "source": [
    "in dieser Betrachtung keine fraglischen Stücke, sondern nur sicher NGB-Gruppe:"
   ]
  },
  {
   "cell_type": "code",
   "execution_count": 69,
   "metadata": {},
   "outputs": [
    {
     "name": "stderr",
     "output_type": "stream",
     "text": [
      "/home/dirk/anaconda3/lib/python3.5/site-packages/ipykernel/__main__.py:14: FutureWarning: convert_objects is deprecated.  Use the data-type specific converters pd.to_datetime, pd.to_timedelta and pd.to_numeric.\n"
     ]
    }
   ],
   "source": [
    "sql = \"\"\"SELECT\n",
    "           t_Obj.objID,\n",
    "           t_Ort.ort_name,\n",
    "           t_Obj.Anzahl,\n",
    "           t_Obj.Obfl,\n",
    "           t_Obj.Fabric\n",
    "       FROM (t_Ort INNER JOIN t_Komplex ON t_Ort.ortID = t_Komplex.ortID)\n",
    "           INNER JOIN t_Obj ON t_Komplex.komplexID = t_Obj.komplexID\n",
    "       WHERE (((t_Obj.Obfl) != '')\n",
    "           AND ((t_Obj.Typ) = 'NGB'))\"\"\".replace('\\n',' ')\n",
    "\n",
    "df = pd.read_sql(sql, con)\n",
    "\n",
    "df['Anzahl'] = df['Anzahl'].convert_objects(convert_numeric=True)"
   ]
  },
  {
   "cell_type": "code",
   "execution_count": 70,
   "metadata": {},
   "outputs": [
    {
     "data": {
      "text/html": [
       "<div>\n",
       "<table border=\"1\" class=\"dataframe\">\n",
       "  <thead>\n",
       "    <tr style=\"text-align: right;\">\n",
       "      <th>ort_name</th>\n",
       "      <th>Matoto</th>\n",
       "      <th>Ngbanja</th>\n",
       "      <th>Nzambi</th>\n",
       "      <th>Ouesso</th>\n",
       "      <th>Pandama</th>\n",
       "    </tr>\n",
       "    <tr>\n",
       "      <th>Obfl</th>\n",
       "      <th></th>\n",
       "      <th></th>\n",
       "      <th></th>\n",
       "      <th></th>\n",
       "      <th></th>\n",
       "    </tr>\n",
       "  </thead>\n",
       "  <tbody>\n",
       "    <tr>\n",
       "      <th>glatt</th>\n",
       "      <td>1.0</td>\n",
       "      <td>3.0</td>\n",
       "      <td>NaN</td>\n",
       "      <td>NaN</td>\n",
       "      <td>NaN</td>\n",
       "    </tr>\n",
       "    <tr>\n",
       "      <th>leicht rau</th>\n",
       "      <td>NaN</td>\n",
       "      <td>4.0</td>\n",
       "      <td>2.0</td>\n",
       "      <td>NaN</td>\n",
       "      <td>1.0</td>\n",
       "    </tr>\n",
       "    <tr>\n",
       "      <th>rau</th>\n",
       "      <td>NaN</td>\n",
       "      <td>1.0</td>\n",
       "      <td>6.0</td>\n",
       "      <td>2.0</td>\n",
       "      <td>NaN</td>\n",
       "    </tr>\n",
       "  </tbody>\n",
       "</table>\n",
       "</div>"
      ],
      "text/plain": [
       "ort_name    Matoto  Ngbanja  Nzambi  Ouesso  Pandama\n",
       "Obfl                                                \n",
       "glatt          1.0      3.0     NaN     NaN      NaN\n",
       "leicht rau     NaN      4.0     2.0     NaN      1.0\n",
       "rau            NaN      1.0     6.0     2.0      NaN"
      ]
     },
     "execution_count": 70,
     "metadata": {},
     "output_type": "execute_result"
    }
   ],
   "source": [
    "df_pivot = df.pivot_table(values = 'Anzahl', columns = 'ort_name', index = 'Obfl', aggfunc = sum)\n",
    "df_pivot = pd.DataFrame(df_pivot)\n",
    "df_pivot"
   ]
  },
  {
   "cell_type": "markdown",
   "metadata": {},
   "source": [
    "### Wandung"
   ]
  },
  {
   "cell_type": "code",
   "execution_count": 71,
   "metadata": {},
   "outputs": [
    {
     "name": "stderr",
     "output_type": "stream",
     "text": [
      "/home/dirk/anaconda3/lib/python3.5/site-packages/ipykernel/__main__.py:10: FutureWarning: convert_objects is deprecated.  Use the data-type specific converters pd.to_datetime, pd.to_timedelta and pd.to_numeric.\n"
     ]
    }
   ],
   "source": [
    "sql = \"\"\"SELECT\n",
    "           t_Obj.objID,\n",
    "           t_Obj.Wandung \n",
    "       FROM (t_Ort INNER JOIN t_Komplex ON t_Ort.ortID = t_Komplex.ortID)\n",
    "           INNER JOIN t_Obj ON t_Komplex.komplexID = t_Obj.komplexID\n",
    "       WHERE (((t_Ort.ort_lit)='DS')\n",
    "           AND ((t_Obj.Typ) Like '%NGB%'))\"\"\".replace('\\n',' ')\n",
    "\n",
    "df = pd.read_sql(sql, con)\n",
    "df['Wandung'] = df['Wandung'].convert_objects(convert_numeric=True)"
   ]
  },
  {
   "cell_type": "code",
   "execution_count": 72,
   "metadata": {},
   "outputs": [
    {
     "name": "stderr",
     "output_type": "stream",
     "text": [
      "/home/dirk/anaconda3/lib/python3.5/site-packages/numpy/lib/function_base.py:564: VisibleDeprecationWarning: using a non-integer number instead of an integer will result in an error in the future\n",
      "  n = np.zeros(bins, ntype)\n",
      "/home/dirk/anaconda3/lib/python3.5/site-packages/numpy/lib/function_base.py:611: VisibleDeprecationWarning: using a non-integer number instead of an integer will result in an error in the future\n",
      "  n += np.bincount(indices, weights=tmp_w, minlength=bins).astype(ntype)\n"
     ]
    },
    {
     "data": {
      "text/plain": [
       "<matplotlib.lines.Line2D at 0x7f76fed11518>"
      ]
     },
     "execution_count": 72,
     "metadata": {},
     "output_type": "execute_result"
    },
    {
     "data": {
      "image/png": "[encoded data removed]",
      "text/plain": [
       "<matplotlib.figure.Figure at 0x7f76fed876d8>"
      ]
     },
     "metadata": {},
     "output_type": "display_data"
    }
   ],
   "source": [
    "bins = df['Wandung'].max() - df['Wandung'].min()\n",
    "mean = df['Wandung'].mean()\n",
    "df['Wandung'].hist(bins = bins, color = 'grey', histtype='stepfilled')\n",
    "plt.axvline(mean, color = 'black', ls = 'dashed', lw = 2.5)"
   ]
  },
  {
   "cell_type": "code",
   "execution_count": 73,
   "metadata": {},
   "outputs": [
    {
     "name": "stderr",
     "output_type": "stream",
     "text": [
      "/home/dirk/anaconda3/lib/python3.5/site-packages/numpy/lib/function_base.py:3834: RuntimeWarning: Invalid value encountered in percentile\n",
      "  RuntimeWarning)\n"
     ]
    },
    {
     "data": {
      "text/plain": [
       "count    59.000000\n",
       "mean      7.305085\n",
       "std       1.724611\n",
       "min       4.000000\n",
       "25%            NaN\n",
       "50%            NaN\n",
       "75%            NaN\n",
       "max      12.000000\n",
       "Name: Wandung, dtype: float64"
      ]
     },
     "execution_count": 73,
     "metadata": {},
     "output_type": "execute_result"
    }
   ],
   "source": [
    "df['Wandung'].describe()"
   ]
  },
  {
   "cell_type": "code",
   "execution_count": 74,
   "metadata": {},
   "outputs": [
    {
     "data": {
      "text/plain": [
       "2.9742840444184706"
      ]
     },
     "execution_count": 74,
     "metadata": {},
     "output_type": "execute_result"
    }
   ],
   "source": [
    "df['Wandung'].var()"
   ]
  },
  {
   "cell_type": "markdown",
   "metadata": {},
   "source": [
    "## Gefäßformen"
   ]
  },
  {
   "cell_type": "code",
   "execution_count": 75,
   "metadata": {
    "collapsed": true
   },
   "outputs": [],
   "source": [
    "sql = \"\"\"SELECT\n",
    "           t_Ort.ort_kurz,\n",
    "           t_Ort.ort_name,\n",
    "           t_Obj.objID,\n",
    "           t_Obj.Typ,\n",
    "           t_Obj.Form_Gef\n",
    "       FROM (t_Ort INNER JOIN t_Komplex ON t_Ort.ortID = t_Komplex.ortID)\n",
    "           INNER JOIN t_Obj ON t_Komplex.komplexID = t_Obj.komplexID\n",
    "       WHERE (((t_Ort.ort_lit)='DS')\n",
    "           AND ((t_Obj.Typ) Like '%NGB%')\n",
    "           AND ((t_Obj.Form_Gef) != ''))\"\"\".replace('\\n',' ')\n",
    "\n",
    "df = pd.read_sql(sql, con)"
   ]
  },
  {
   "cell_type": "code",
   "execution_count": 76,
   "metadata": {},
   "outputs": [
    {
     "name": "stderr",
     "output_type": "stream",
     "text": [
      "/home/dirk/anaconda3/lib/python3.5/site-packages/ipykernel/__main__.py:3: FutureWarning: by argument to sort_index is deprecated, pls use .sort_values(by=...)\n",
      "  app.launch_new_instance()\n"
     ]
    },
    {
     "data": {
      "text/html": [
       "<div>\n",
       "<table border=\"1\" class=\"dataframe\">\n",
       "  <thead>\n",
       "    <tr style=\"text-align: right;\">\n",
       "      <th></th>\n",
       "      <th>objID</th>\n",
       "    </tr>\n",
       "    <tr>\n",
       "      <th>Form_Gef</th>\n",
       "      <th></th>\n",
       "    </tr>\n",
       "  </thead>\n",
       "  <tbody>\n",
       "    <tr>\n",
       "      <th>C1 (?)</th>\n",
       "      <td>11</td>\n",
       "    </tr>\n",
       "    <tr>\n",
       "      <th>C1</th>\n",
       "      <td>4</td>\n",
       "    </tr>\n",
       "    <tr>\n",
       "      <th>G3/G7 (?)</th>\n",
       "      <td>4</td>\n",
       "    </tr>\n",
       "    <tr>\n",
       "      <th>C2 (?)</th>\n",
       "      <td>1</td>\n",
       "    </tr>\n",
       "    <tr>\n",
       "      <th>D1</th>\n",
       "      <td>1</td>\n",
       "    </tr>\n",
       "  </tbody>\n",
       "</table>\n",
       "</div>"
      ],
      "text/plain": [
       "           objID\n",
       "Form_Gef        \n",
       "C1 (?)        11\n",
       "C1             4\n",
       "G3/G7 (?)      4\n",
       "C2 (?)         1\n",
       "D1             1"
      ]
     },
     "metadata": {},
     "output_type": "display_data"
    }
   ],
   "source": [
    "df_pivot = df.pivot_table(values = 'objID', index = 'Form_Gef', aggfunc = len)\n",
    "df_pivot = pd.DataFrame(df_pivot)\n",
    "df_pivot = df_pivot.sort_index(by=['objID'], ascending=[False])\n",
    "display(df_pivot.head())"
   ]
  },
  {
   "cell_type": "code",
   "execution_count": 77,
   "metadata": {},
   "outputs": [
    {
     "data": {
      "text/plain": [
       "25"
      ]
     },
     "execution_count": 77,
     "metadata": {},
     "output_type": "execute_result"
    }
   ],
   "source": [
    "df_pivot['objID'].sum()"
   ]
  },
  {
   "cell_type": "code",
   "execution_count": 78,
   "metadata": {},
   "outputs": [
    {
     "data": {
      "text/plain": [
       "<matplotlib.text.Text at 0x7f76fec3e5f8>"
      ]
     },
     "execution_count": 78,
     "metadata": {},
     "output_type": "execute_result"
    },
    {
     "data": {
      "image/png": "[encoded data removed]",
      "text/plain": [
       "<matplotlib.figure.Figure at 0x7f76fec2cba8>"
      ]
     },
     "metadata": {},
     "output_type": "display_data"
    }
   ],
   "source": [
    "fig = plt.figure()\n",
    "fig.set_size_inches(5, 5)\n",
    "df_pivot['objID'].plot(kind='pie', autopct='%.0f %%', cmap = 'Paired')\n",
    "plt.ylabel('')"
   ]
  },
  {
   "cell_type": "code",
   "execution_count": 79,
   "metadata": {},
   "outputs": [
    {
     "data": {
      "text/html": [
       "<div>\n",
       "<table border=\"1\" class=\"dataframe\">\n",
       "  <thead>\n",
       "    <tr style=\"text-align: right;\">\n",
       "      <th></th>\n",
       "      <th>0</th>\n",
       "      <th>Prozent</th>\n",
       "    </tr>\n",
       "  </thead>\n",
       "  <tbody>\n",
       "    <tr>\n",
       "      <th>fragliche Bestimmung</th>\n",
       "      <td>19</td>\n",
       "      <td>76.0</td>\n",
       "    </tr>\n",
       "    <tr>\n",
       "      <th>sichere Bestimmung</th>\n",
       "      <td>6</td>\n",
       "      <td>24.0</td>\n",
       "    </tr>\n",
       "  </tbody>\n",
       "</table>\n",
       "</div>"
      ],
      "text/plain": [
       "                       0  Prozent\n",
       "fragliche Bestimmung  19     76.0\n",
       "sichere Bestimmung     6     24.0"
      ]
     },
     "execution_count": 79,
     "metadata": {},
     "output_type": "execute_result"
    }
   ],
   "source": [
    "a = pd.Series({'sichere Bestimmung':len(df.loc[~df['Form_Gef'].str.contains(\"\\?\")].index),\n",
    "               'fragliche Bestimmung':len(df.loc[df['Form_Gef'].str.contains(\"\\?\")].index)})\n",
    "a = pd.DataFrame(a)\n",
    "a['Prozent'] = a[0]/a[0].sum()*100\n",
    "a"
   ]
  },
  {
   "cell_type": "markdown",
   "metadata": {},
   "source": [
    "ohne die (?):"
   ]
  },
  {
   "cell_type": "code",
   "execution_count": 80,
   "metadata": {},
   "outputs": [
    {
     "name": "stderr",
     "output_type": "stream",
     "text": [
      "/home/dirk/anaconda3/lib/python3.5/site-packages/ipykernel/__main__.py:5: FutureWarning: by argument to sort_index is deprecated, pls use .sort_values(by=...)\n"
     ]
    }
   ],
   "source": [
    "# löschen der (?)\n",
    "df['Form_Gef'] = df['Form_Gef'].map(lambda x: x.rstrip(' (?)'))\n",
    "df_pivot = df.pivot_table(values = 'objID', index = 'Form_Gef', aggfunc = len)\n",
    "df_pivot = pd.DataFrame(df_pivot)\n",
    "df_pivot = df_pivot.sort_index(by=['objID'], ascending=[False])"
   ]
  },
  {
   "cell_type": "code",
   "execution_count": 81,
   "metadata": {
    "scrolled": false
   },
   "outputs": [
    {
     "data": {
      "text/plain": [
       "<matplotlib.text.Text at 0x7f76fed1fba8>"
      ]
     },
     "execution_count": 81,
     "metadata": {},
     "output_type": "execute_result"
    },
    {
     "data": {
      "image/png": "[encoded data removed]",
      "text/plain": [
       "<matplotlib.figure.Figure at 0x7f76fec46d68>"
      ]
     },
     "metadata": {},
     "output_type": "display_data"
    }
   ],
   "source": [
    "fig = plt.figure()\n",
    "fig.set_size_inches(5, 5)\n",
    "df_pivot['objID'].plot(kind='pie', autopct='%.0f %%', cmap = 'Paired')\n",
    "plt.ylabel('')"
   ]
  },
  {
   "cell_type": "markdown",
   "metadata": {},
   "source": [
    "### G7a"
   ]
  },
  {
   "cell_type": "code",
   "execution_count": 28,
   "metadata": {
    "collapsed": true
   },
   "outputs": [],
   "source": [
    "sql = \"\"\"SELECT\n",
    "           t_Ort.ort_kurz,\n",
    "           t_Obj.objID,\n",
    "           t_Obj.Typ,\n",
    "           t_Obj.Form_Mdg,\n",
    "           t_Obj.Form_Rand,\n",
    "           t_Obj.Form_Hals,\n",
    "           t_Obj.Form_Schulter,\n",
    "           t_Obj.Form_Bauch,\n",
    "           t_Obj.Form_Boden,\n",
    "           t_Obj.Form_Gef\n",
    "       FROM (t_Ort INNER JOIN t_Komplex ON t_Ort.ortID = t_Komplex.ortID)\n",
    "           INNER JOIN t_Obj ON t_Komplex.komplexID = t_Obj.komplexID\n",
    "       WHERE (((t_Ort.ort_lit)='DS')\n",
    "           AND ((t_Obj.Typ) Like '%NGB%')\n",
    "           AND ((t_Obj.Form_Gef) Like '%G7a%'))\"\"\".replace('\\n',' ')\n",
    "\n",
    "df = pd.read_sql(sql, con)"
   ]
  },
  {
   "cell_type": "code",
   "execution_count": 29,
   "metadata": {},
   "outputs": [
    {
     "data": {
      "text/plain": [
       "Form_Gef\n",
       "G7a         4\n",
       "G7a (?)    10\n",
       "All        14\n",
       "Name: objID, dtype: float64"
      ]
     },
     "execution_count": 29,
     "metadata": {},
     "output_type": "execute_result"
    }
   ],
   "source": [
    "df.pivot_table(values = 'objID', index = 'Form_Gef', aggfunc = len, margins = True)"
   ]
  },
  {
   "cell_type": "code",
   "execution_count": 30,
   "metadata": {},
   "outputs": [
    {
     "data": {
      "text/plain": [
       "Form_Mdg\n",
       "      12\n",
       "M2     2\n",
       "Name: objID, dtype: int64"
      ]
     },
     "execution_count": 30,
     "metadata": {},
     "output_type": "execute_result"
    }
   ],
   "source": [
    "df.pivot_table(values = 'objID', index = 'Form_Mdg', aggfunc = len)"
   ]
  },
  {
   "cell_type": "code",
   "execution_count": 31,
   "metadata": {},
   "outputs": [
    {
     "data": {
      "text/plain": [
       "Form_Rand\n",
       "         11\n",
       "B1        1\n",
       "B1/B2     1\n",
       "M2        1\n",
       "Name: objID, dtype: int64"
      ]
     },
     "execution_count": 31,
     "metadata": {},
     "output_type": "execute_result"
    }
   ],
   "source": [
    "df.pivot_table(values = 'objID', index = 'Form_Rand', aggfunc = len)"
   ]
  },
  {
   "cell_type": "code",
   "execution_count": 32,
   "metadata": {},
   "outputs": [
    {
     "data": {
      "text/plain": [
       "Form_Hals\n",
       "          8\n",
       "A3        2\n",
       "B2/B1     1\n",
       "B3        2\n",
       "B3 (?)    1\n",
       "Name: objID, dtype: int64"
      ]
     },
     "execution_count": 32,
     "metadata": {},
     "output_type": "execute_result"
    }
   ],
   "source": [
    "df.pivot_table(values = 'objID', index = 'Form_Hals', aggfunc = len)"
   ]
  },
  {
   "cell_type": "code",
   "execution_count": 33,
   "metadata": {},
   "outputs": [
    {
     "data": {
      "text/plain": [
       "Form_Schulter\n",
       "              1\n",
       "A1 (?)        2\n",
       "A1/A2         4\n",
       "A1/A2/lang    1\n",
       "A1/A3         1\n",
       "A2            4\n",
       "B1/B3         1\n",
       "Name: objID, dtype: int64"
      ]
     },
     "execution_count": 33,
     "metadata": {},
     "output_type": "execute_result"
    }
   ],
   "source": [
    "df.pivot_table(values = 'objID', index = 'Form_Schulter', aggfunc = len)"
   ]
  },
  {
   "cell_type": "code",
   "execution_count": 34,
   "metadata": {},
   "outputs": [
    {
     "data": {
      "text/plain": [
       "Form_Bauch\n",
       "          5\n",
       "A1        6\n",
       "A1 (?)    1\n",
       "A1/A3     1\n",
       "A1/D2     1\n",
       "Name: objID, dtype: int64"
      ]
     },
     "execution_count": 34,
     "metadata": {},
     "output_type": "execute_result"
    }
   ],
   "source": [
    "df.pivot_table(values = 'objID', index = 'Form_Bauch', aggfunc = len)"
   ]
  },
  {
   "cell_type": "code",
   "execution_count": 35,
   "metadata": {},
   "outputs": [
    {
     "data": {
      "text/plain": [
       "Form_Boden\n",
       "      13\n",
       "B4     1\n",
       "Name: objID, dtype: int64"
      ]
     },
     "execution_count": 35,
     "metadata": {},
     "output_type": "execute_result"
    }
   ],
   "source": [
    "df.pivot_table(values = 'objID', index = 'Form_Boden', aggfunc = len)"
   ]
  },
  {
   "cell_type": "code",
   "execution_count": 36,
   "metadata": {},
   "outputs": [
    {
     "data": {
      "text/html": [
       "<div>\n",
       "<table border=\"1\" class=\"dataframe\">\n",
       "  <thead>\n",
       "    <tr style=\"text-align: right;\">\n",
       "      <th></th>\n",
       "      <th>objID</th>\n",
       "      <th>muendungsD</th>\n",
       "      <th>muendungsH</th>\n",
       "      <th>minD</th>\n",
       "      <th>minD_H</th>\n",
       "      <th>maxD</th>\n",
       "      <th>maxD_H</th>\n",
       "      <th>bodenD</th>\n",
       "    </tr>\n",
       "  </thead>\n",
       "  <tbody>\n",
       "    <tr>\n",
       "      <th>count</th>\n",
       "      <td>14.000000</td>\n",
       "      <td>3.0</td>\n",
       "      <td>2.00000</td>\n",
       "      <td>10.000000</td>\n",
       "      <td>2.000000</td>\n",
       "      <td>8.000000</td>\n",
       "      <td>3.000000</td>\n",
       "      <td>2.000000</td>\n",
       "    </tr>\n",
       "    <tr>\n",
       "      <th>mean</th>\n",
       "      <td>3467.357143</td>\n",
       "      <td>14.0</td>\n",
       "      <td>12.25000</td>\n",
       "      <td>13.850000</td>\n",
       "      <td>55.500000</td>\n",
       "      <td>17.812500</td>\n",
       "      <td>7.166667</td>\n",
       "      <td>3.250000</td>\n",
       "    </tr>\n",
       "    <tr>\n",
       "      <th>std</th>\n",
       "      <td>2165.924092</td>\n",
       "      <td>3.0</td>\n",
       "      <td>1.06066</td>\n",
       "      <td>2.483837</td>\n",
       "      <td>62.932504</td>\n",
       "      <td>4.382901</td>\n",
       "      <td>1.607275</td>\n",
       "      <td>4.596194</td>\n",
       "    </tr>\n",
       "    <tr>\n",
       "      <th>min</th>\n",
       "      <td>322.000000</td>\n",
       "      <td>11.0</td>\n",
       "      <td>11.50000</td>\n",
       "      <td>9.500000</td>\n",
       "      <td>11.000000</td>\n",
       "      <td>11.500000</td>\n",
       "      <td>6.000000</td>\n",
       "      <td>0.000000</td>\n",
       "    </tr>\n",
       "    <tr>\n",
       "      <th>25%</th>\n",
       "      <td>2050.250000</td>\n",
       "      <td>12.5</td>\n",
       "      <td>11.87500</td>\n",
       "      <td>13.000000</td>\n",
       "      <td>33.250000</td>\n",
       "      <td>15.625000</td>\n",
       "      <td>6.250000</td>\n",
       "      <td>1.625000</td>\n",
       "    </tr>\n",
       "    <tr>\n",
       "      <th>50%</th>\n",
       "      <td>3885.000000</td>\n",
       "      <td>14.0</td>\n",
       "      <td>12.25000</td>\n",
       "      <td>14.000000</td>\n",
       "      <td>55.500000</td>\n",
       "      <td>17.000000</td>\n",
       "      <td>6.500000</td>\n",
       "      <td>3.250000</td>\n",
       "    </tr>\n",
       "    <tr>\n",
       "      <th>75%</th>\n",
       "      <td>5264.000000</td>\n",
       "      <td>15.5</td>\n",
       "      <td>12.62500</td>\n",
       "      <td>15.125000</td>\n",
       "      <td>77.750000</td>\n",
       "      <td>19.875000</td>\n",
       "      <td>7.750000</td>\n",
       "      <td>4.875000</td>\n",
       "    </tr>\n",
       "    <tr>\n",
       "      <th>max</th>\n",
       "      <td>6010.000000</td>\n",
       "      <td>17.0</td>\n",
       "      <td>13.00000</td>\n",
       "      <td>18.000000</td>\n",
       "      <td>100.000000</td>\n",
       "      <td>24.000000</td>\n",
       "      <td>9.000000</td>\n",
       "      <td>6.500000</td>\n",
       "    </tr>\n",
       "  </tbody>\n",
       "</table>\n",
       "</div>"
      ],
      "text/plain": [
       "             objID  muendungsD  muendungsH       minD      minD_H       maxD  \\\n",
       "count    14.000000         3.0     2.00000  10.000000    2.000000   8.000000   \n",
       "mean   3467.357143        14.0    12.25000  13.850000   55.500000  17.812500   \n",
       "std    2165.924092         3.0     1.06066   2.483837   62.932504   4.382901   \n",
       "min     322.000000        11.0    11.50000   9.500000   11.000000  11.500000   \n",
       "25%    2050.250000        12.5    11.87500  13.000000   33.250000  15.625000   \n",
       "50%    3885.000000        14.0    12.25000  14.000000   55.500000  17.000000   \n",
       "75%    5264.000000        15.5    12.62500  15.125000   77.750000  19.875000   \n",
       "max    6010.000000        17.0    13.00000  18.000000  100.000000  24.000000   \n",
       "\n",
       "         maxD_H    bodenD  \n",
       "count  3.000000  2.000000  \n",
       "mean   7.166667  3.250000  \n",
       "std    1.607275  4.596194  \n",
       "min    6.000000  0.000000  \n",
       "25%    6.250000  1.625000  \n",
       "50%    6.500000  3.250000  \n",
       "75%    7.750000  4.875000  \n",
       "max    9.000000  6.500000  "
      ]
     },
     "execution_count": 36,
     "metadata": {},
     "output_type": "execute_result"
    }
   ],
   "source": [
    "sql = \"\"\"SELECT\n",
    "           t_Obj.objID,\n",
    "           t_Ort.ort_kurz,\n",
    "           t_Komplex.bef_nr,\n",
    "           t_Obj.Individuum,\n",
    "           t_Obj.muendungsD,\n",
    "           t_Obj.muendungsH,\n",
    "           t_Obj.minD,\n",
    "           t_Obj.minD_H,\n",
    "           t_Obj.maxD,\n",
    "           t_Obj.maxD_H,\n",
    "           t_Obj.bodenD\n",
    "       FROM (t_Ort INNER JOIN t_Komplex ON t_Ort.ortID = t_Komplex.ortID)\n",
    "           INNER JOIN t_Obj ON t_Komplex.komplexID = t_Obj.komplexID\n",
    "       WHERE (((t_Ort.ort_lit)='DS')\n",
    "           AND ((t_Obj.Typ) Like '%NGB%')\n",
    "           AND ((t_Obj.Form_Gef) Like '%G7a%'))\"\"\".replace('\\n',' ')\n",
    "\n",
    "df = pd.read_sql(sql, con)\n",
    "\n",
    "df['muendungsD'] = df['muendungsD'].convert_objects(convert_numeric=True)\n",
    "df['muendungsH'] = df['muendungsH'].convert_objects(convert_numeric=True)\n",
    "df['minD'] = df['minD'].convert_objects(convert_numeric=True)\n",
    "df['minD_H'] = df['minD_H'].convert_objects(convert_numeric=True)\n",
    "df['maxD'] = df['maxD'].convert_objects(convert_numeric=True)\n",
    "df['maxD_H'] = df['maxD_H'].convert_objects(convert_numeric=True)\n",
    "df['bodenD'] = df['bodenD'].convert_objects(convert_numeric=True)\n",
    "df.describe()"
   ]
  },
  {
   "cell_type": "code",
   "execution_count": 37,
   "metadata": {},
   "outputs": [
    {
     "data": {
      "text/plain": [
       "(11.0, 19.0, 11.4, 13.0)"
      ]
     },
     "execution_count": 37,
     "metadata": {},
     "output_type": "execute_result"
    },
    {
     "data": {
      "image/png": "[encoded data removed]",
      "text/plain": [
       "<matplotlib.figure.Figure at 0x99ec358>"
      ]
     },
     "metadata": {},
     "output_type": "display_data"
    }
   ],
   "source": [
    "x = df['maxD']\n",
    "y = df['muendungsH']\n",
    "\n",
    "plt.plot(x, y, 'o', color = 'grey')\n",
    "plt.xlabel(\"maximaler Durchmesser [cm]\")\n",
    "plt.ylabel(\"Mündungshöhe [cm]\")\n",
    "plt.axis('equal')"
   ]
  },
  {
   "cell_type": "code",
   "execution_count": 38,
   "metadata": {
    "collapsed": true
   },
   "outputs": [],
   "source": [
    "# Verhältnis aus Mündungsdurchmesser / Minimaler Durchmesser\n",
    "df['muend-min'] = df['muendungsD'] / df['minD']\n",
    "# Verhältnis aus Mündungsdurchmesser / Minimaler Durchmesser\n",
    "df['max-min'] = df['maxD'] / df['minD']"
   ]
  },
  {
   "cell_type": "code",
   "execution_count": 39,
   "metadata": {},
   "outputs": [
    {
     "data": {
      "text/plain": [
       "<matplotlib.legend.Legend at 0x9a885f8>"
      ]
     },
     "execution_count": 39,
     "metadata": {},
     "output_type": "execute_result"
    },
    {
     "data": {
      "image/png": "[encoded data removed]",
      "text/plain": [
       "<matplotlib.figure.Figure at 0x9a013c8>"
      ]
     },
     "metadata": {},
     "output_type": "display_data"
    }
   ],
   "source": [
    "df2 = df['muend-min'].dropna()\n",
    "df3 = df['max-min'].dropna()\n",
    "mean2 = df2.mean()\n",
    "mean3 = df3.mean()\n",
    "\n",
    "df2.plot(kind = 'kde', label=\"muendungsD / minD\")\n",
    "df3.plot(kind = 'kde', label=\"maxD / minD\")\n",
    "plt.axvline(mean2, color = 'blue', ls = 'dashed')\n",
    "plt.axvline(mean3, color = 'green', ls = 'dashed')\n",
    "plt.legend()"
   ]
  },
  {
   "cell_type": "code",
   "execution_count": 40,
   "metadata": {},
   "outputs": [
    {
     "data": {
      "text/plain": [
       "1.1105306691045229"
      ]
     },
     "execution_count": 40,
     "metadata": {},
     "output_type": "execute_result"
    }
   ],
   "source": [
    "mean2"
   ]
  },
  {
   "cell_type": "code",
   "execution_count": 41,
   "metadata": {},
   "outputs": [
    {
     "data": {
      "text/plain": [
       "1.2148926813612722"
      ]
     },
     "execution_count": 41,
     "metadata": {},
     "output_type": "execute_result"
    }
   ],
   "source": [
    "mean3"
   ]
  },
  {
   "cell_type": "markdown",
   "metadata": {},
   "source": [
    "## Mündungs- und Randformen"
   ]
  },
  {
   "cell_type": "code",
   "execution_count": 82,
   "metadata": {
    "collapsed": true
   },
   "outputs": [],
   "source": [
    "sql = \"\"\"SELECT\n",
    "           t_Ort.ort_kurz,\n",
    "           t_Ort.ort_name,\n",
    "           t_Obj.objID,\n",
    "           t_Obj.Typ,\n",
    "           t_Obj.Form_Mdg,\n",
    "           t_Obj.Form_Rand\n",
    "       FROM (t_Ort INNER JOIN t_Komplex ON t_Ort.ortID = t_Komplex.ortID)\n",
    "           INNER JOIN t_Obj ON t_Komplex.komplexID = t_Obj.komplexID\n",
    "       WHERE (((t_Ort.ort_lit)='DS')\n",
    "           AND ((t_Obj.Typ) Like '%NGB%')\n",
    "           AND ((t_Obj.Anzahl) = 1))\"\"\".replace('\\n',' ')\n",
    "\n",
    "df = pd.read_sql(sql, con)\n",
    "# leere Werte in NaN ändern\n",
    "df = df.replace('',np.nan, regex=True)"
   ]
  },
  {
   "cell_type": "code",
   "execution_count": 83,
   "metadata": {},
   "outputs": [
    {
     "name": "stderr",
     "output_type": "stream",
     "text": [
      "/home/dirk/anaconda3/lib/python3.5/site-packages/ipykernel/__main__.py:5: FutureWarning: by argument to sort_index is deprecated, pls use .sort_values(by=...)\n"
     ]
    },
    {
     "data": {
      "text/html": [
       "<div>\n",
       "<table border=\"1\" class=\"dataframe\">\n",
       "  <thead>\n",
       "    <tr style=\"text-align: right;\">\n",
       "      <th></th>\n",
       "      <th>objID</th>\n",
       "      <th>Prozent</th>\n",
       "    </tr>\n",
       "    <tr>\n",
       "      <th>Form_Mdg</th>\n",
       "      <th></th>\n",
       "      <th></th>\n",
       "    </tr>\n",
       "  </thead>\n",
       "  <tbody>\n",
       "    <tr>\n",
       "      <th>M2</th>\n",
       "      <td>7</td>\n",
       "      <td>26.923077</td>\n",
       "    </tr>\n",
       "    <tr>\n",
       "      <th>M4</th>\n",
       "      <td>5</td>\n",
       "      <td>19.230769</td>\n",
       "    </tr>\n",
       "    <tr>\n",
       "      <th>M5</th>\n",
       "      <td>4</td>\n",
       "      <td>15.384615</td>\n",
       "    </tr>\n",
       "    <tr>\n",
       "      <th>M1</th>\n",
       "      <td>3</td>\n",
       "      <td>11.538462</td>\n",
       "    </tr>\n",
       "    <tr>\n",
       "      <th>M1/M2</th>\n",
       "      <td>2</td>\n",
       "      <td>7.692308</td>\n",
       "    </tr>\n",
       "    <tr>\n",
       "      <th>M3</th>\n",
       "      <td>2</td>\n",
       "      <td>7.692308</td>\n",
       "    </tr>\n",
       "    <tr>\n",
       "      <th>M3/M5 (?)</th>\n",
       "      <td>1</td>\n",
       "      <td>3.846154</td>\n",
       "    </tr>\n",
       "    <tr>\n",
       "      <th>M4/M5</th>\n",
       "      <td>1</td>\n",
       "      <td>3.846154</td>\n",
       "    </tr>\n",
       "    <tr>\n",
       "      <th>M5/M3</th>\n",
       "      <td>1</td>\n",
       "      <td>3.846154</td>\n",
       "    </tr>\n",
       "  </tbody>\n",
       "</table>\n",
       "</div>"
      ],
      "text/plain": [
       "           objID    Prozent\n",
       "Form_Mdg                   \n",
       "M2             7  26.923077\n",
       "M4             5  19.230769\n",
       "M5             4  15.384615\n",
       "M1             3  11.538462\n",
       "M1/M2          2   7.692308\n",
       "M3             2   7.692308\n",
       "M3/M5 (?)      1   3.846154\n",
       "M4/M5          1   3.846154\n",
       "M5/M3          1   3.846154"
      ]
     },
     "execution_count": 83,
     "metadata": {},
     "output_type": "execute_result"
    }
   ],
   "source": [
    "# Zeilen ohne Mdg löschen\n",
    "df_pivot = df.pivot_table(values = 'objID', index = 'Form_Mdg', aggfunc = len)\n",
    "df_pivot = pd.DataFrame(df_pivot)\n",
    "# Sortierung in Aufsteigend ändern\n",
    "df_pivot = df_pivot.sort_index(by = ['objID'], ascending=False)\n",
    "# Prozent-Anteil errechnen\n",
    "df_pivot['Prozent'] = df_pivot['objID']/df_pivot['objID'].sum()*100\n",
    "df_pivot"
   ]
  },
  {
   "cell_type": "markdown",
   "metadata": {},
   "source": [
    "> **Tab. #** Ngbanja-Gruppe: Mündungsformen"
   ]
  },
  {
   "cell_type": "code",
   "execution_count": 84,
   "metadata": {},
   "outputs": [
    {
     "name": "stderr",
     "output_type": "stream",
     "text": [
      "/home/dirk/anaconda3/lib/python3.5/site-packages/ipykernel/__main__.py:5: FutureWarning: by argument to sort_index is deprecated, pls use .sort_values(by=...)\n"
     ]
    },
    {
     "data": {
      "text/html": [
       "<div>\n",
       "<table border=\"1\" class=\"dataframe\">\n",
       "  <thead>\n",
       "    <tr style=\"text-align: right;\">\n",
       "      <th></th>\n",
       "      <th>objID</th>\n",
       "      <th>Prozent</th>\n",
       "    </tr>\n",
       "    <tr>\n",
       "      <th>Form_Rand</th>\n",
       "      <th></th>\n",
       "      <th></th>\n",
       "    </tr>\n",
       "  </thead>\n",
       "  <tbody>\n",
       "    <tr>\n",
       "      <th>B1/B2</th>\n",
       "      <td>6</td>\n",
       "      <td>22.222222</td>\n",
       "    </tr>\n",
       "    <tr>\n",
       "      <th>B2</th>\n",
       "      <td>6</td>\n",
       "      <td>22.222222</td>\n",
       "    </tr>\n",
       "    <tr>\n",
       "      <th>B1</th>\n",
       "      <td>4</td>\n",
       "      <td>14.814815</td>\n",
       "    </tr>\n",
       "    <tr>\n",
       "      <th>B1.1</th>\n",
       "      <td>2</td>\n",
       "      <td>7.407407</td>\n",
       "    </tr>\n",
       "    <tr>\n",
       "      <th>A1</th>\n",
       "      <td>1</td>\n",
       "      <td>3.703704</td>\n",
       "    </tr>\n",
       "    <tr>\n",
       "      <th>A1/B1</th>\n",
       "      <td>1</td>\n",
       "      <td>3.703704</td>\n",
       "    </tr>\n",
       "    <tr>\n",
       "      <th>A1/B1 (?)</th>\n",
       "      <td>1</td>\n",
       "      <td>3.703704</td>\n",
       "    </tr>\n",
       "    <tr>\n",
       "      <th>B1.4</th>\n",
       "      <td>1</td>\n",
       "      <td>3.703704</td>\n",
       "    </tr>\n",
       "    <tr>\n",
       "      <th>B2.2</th>\n",
       "      <td>1</td>\n",
       "      <td>3.703704</td>\n",
       "    </tr>\n",
       "    <tr>\n",
       "      <th>B2/B1</th>\n",
       "      <td>1</td>\n",
       "      <td>3.703704</td>\n",
       "    </tr>\n",
       "    <tr>\n",
       "      <th>B3.1 (?)</th>\n",
       "      <td>1</td>\n",
       "      <td>3.703704</td>\n",
       "    </tr>\n",
       "    <tr>\n",
       "      <th>C1</th>\n",
       "      <td>1</td>\n",
       "      <td>3.703704</td>\n",
       "    </tr>\n",
       "    <tr>\n",
       "      <th>C1/C3</th>\n",
       "      <td>1</td>\n",
       "      <td>3.703704</td>\n",
       "    </tr>\n",
       "  </tbody>\n",
       "</table>\n",
       "</div>"
      ],
      "text/plain": [
       "           objID    Prozent\n",
       "Form_Rand                  \n",
       "B1/B2          6  22.222222\n",
       "B2             6  22.222222\n",
       "B1             4  14.814815\n",
       "B1.1           2   7.407407\n",
       "A1             1   3.703704\n",
       "A1/B1          1   3.703704\n",
       "A1/B1 (?)      1   3.703704\n",
       "B1.4           1   3.703704\n",
       "B2.2           1   3.703704\n",
       "B2/B1          1   3.703704\n",
       "B3.1 (?)       1   3.703704\n",
       "C1             1   3.703704\n",
       "C1/C3          1   3.703704"
      ]
     },
     "execution_count": 84,
     "metadata": {},
     "output_type": "execute_result"
    }
   ],
   "source": [
    "# Zeilen ohne Mdg löschen\n",
    "df_pivot = df.pivot_table(values = 'objID', index = 'Form_Rand', aggfunc = len)\n",
    "df_pivot = pd.DataFrame(df_pivot)\n",
    "# Sortierung in Aufsteigend ändern\n",
    "df_pivot = df_pivot.sort_index(by = ['objID'], ascending=False)\n",
    "# Prozent-Anteil errechnen\n",
    "df_pivot['Prozent'] = df_pivot['objID']/df_pivot['objID'].sum()*100\n",
    "df_pivot"
   ]
  },
  {
   "cell_type": "markdown",
   "metadata": {},
   "source": [
    "> **Tab. #** Ngbanja-Gruppe: Randformen"
   ]
  },
  {
   "cell_type": "code",
   "execution_count": 85,
   "metadata": {},
   "outputs": [
    {
     "data": {
      "text/plain": [
       "<matplotlib.text.Text at 0x7f76fedd3940>"
      ]
     },
     "execution_count": 85,
     "metadata": {},
     "output_type": "execute_result"
    },
    {
     "data": {
      "image/png": "[encoded data removed]",
      "text/plain": [
       "<matplotlib.figure.Figure at 0x7f76fedfc390>"
      ]
     },
     "metadata": {},
     "output_type": "display_data"
    }
   ],
   "source": [
    "fig = plt.figure()\n",
    "fig.set_size_inches(5, 5)\n",
    "df_pivot['objID'].plot(kind='pie', autopct='%.0f %%', cmap = 'Paired' )\n",
    "plt.ylabel('')"
   ]
  },
  {
   "cell_type": "code",
   "execution_count": 46,
   "metadata": {},
   "outputs": [
    {
     "data": {
      "text/plain": [
       "27"
      ]
     },
     "execution_count": 46,
     "metadata": {},
     "output_type": "execute_result"
    }
   ],
   "source": [
    "df_pivot['objID'].sum()   # Anzahl GE mit bestimmter Randform"
   ]
  },
  {
   "cell_type": "code",
   "execution_count": 47,
   "metadata": {},
   "outputs": [
    {
     "data": {
      "text/plain": [
       "16"
      ]
     },
     "execution_count": 47,
     "metadata": {},
     "output_type": "execute_result"
    }
   ],
   "source": [
    "len(df_pivot['objID'])    # Anzahl beobachtete Randformen"
   ]
  },
  {
   "cell_type": "code",
   "execution_count": 48,
   "metadata": {},
   "outputs": [
    {
     "data": {
      "image/png": "[encoded data removed]",
      "text/plain": [
       "<matplotlib.figure.Figure at 0x90f6b00>"
      ]
     },
     "metadata": {},
     "output_type": "display_data"
    }
   ],
   "source": [
    "df_pivot = df.pivot_table(values = 'objID', index = 'Form_Mdg', columns = 'Form_Rand', aggfunc = len, fill_value = 0)\n",
    "#df_pivot\n",
    "plt.imshow(df_pivot, interpolation='nearest', cmap='Greys', alpha = .5)\n",
    "plt.yticks(range(len(df_pivot.index)), df_pivot.index)\n",
    "plt.xticks(range(len(df_pivot.columns)), df_pivot.columns, rotation='vertical')\n",
    "for (i, j), z in np.ndenumerate(df_pivot):\n",
    "    plt.text(j, i, '{:0.0f}'.format(z), ha='center', va='center')\n",
    "plt.show()"
   ]
  },
  {
   "cell_type": "markdown",
   "metadata": {},
   "source": [
    "## Bodenformen"
   ]
  },
  {
   "cell_type": "code",
   "execution_count": 5,
   "metadata": {},
   "outputs": [
    {
     "data": {
      "text/html": [
       "<div>\n",
       "<table border=\"1\" class=\"dataframe\">\n",
       "  <thead>\n",
       "    <tr style=\"text-align: right;\">\n",
       "      <th></th>\n",
       "      <th>ort_kurz</th>\n",
       "      <th>ort_name</th>\n",
       "      <th>objID</th>\n",
       "      <th>Typ</th>\n",
       "      <th>Form_Boden</th>\n",
       "    </tr>\n",
       "  </thead>\n",
       "  <tbody>\n",
       "    <tr>\n",
       "      <th>0</th>\n",
       "      <td>MTB</td>\n",
       "      <td>Motenge-Boma</td>\n",
       "      <td>322</td>\n",
       "      <td>BTM / NGB (?)</td>\n",
       "      <td>B4</td>\n",
       "    </tr>\n",
       "    <tr>\n",
       "      <th>1</th>\n",
       "      <td>PIK</td>\n",
       "      <td>Pikunda</td>\n",
       "      <td>698</td>\n",
       "      <td>NGB (?)</td>\n",
       "      <td>B4 (?)</td>\n",
       "    </tr>\n",
       "    <tr>\n",
       "      <th>2</th>\n",
       "      <td>NGB</td>\n",
       "      <td>Ngbanja</td>\n",
       "      <td>5291</td>\n",
       "      <td>NGB</td>\n",
       "      <td>B1</td>\n",
       "    </tr>\n",
       "  </tbody>\n",
       "</table>\n",
       "</div>"
      ],
      "text/plain": [
       "  ort_kurz      ort_name  objID            Typ Form_Boden\n",
       "0      MTB  Motenge-Boma    322  BTM / NGB (?)         B4\n",
       "1      PIK       Pikunda    698        NGB (?)     B4 (?)\n",
       "2      NGB       Ngbanja   5291            NGB         B1"
      ]
     },
     "execution_count": 5,
     "metadata": {},
     "output_type": "execute_result"
    }
   ],
   "source": [
    "sql = \"\"\"SELECT\n",
    "           t_Ort.ort_kurz,\n",
    "           t_Ort.ort_name,\n",
    "           t_Obj.objID,\n",
    "           t_Obj.Typ,\n",
    "           t_Obj.Form_Boden\n",
    "       FROM (t_Ort INNER JOIN t_Komplex ON t_Ort.ortID = t_Komplex.ortID)\n",
    "           INNER JOIN t_Obj ON t_Komplex.komplexID = t_Obj.komplexID\n",
    "       WHERE (((t_Ort.ort_lit)='DS')\n",
    "           AND ((t_Obj.Typ) Like '%\"\"\"+style+\"\"\"%')\n",
    "           AND ((t_Obj.Anzahl) = 1)\n",
    "           AND ((t_Obj.Form_Boden) != ''))\"\"\".replace('\\n',' ')\n",
    "\n",
    "df = pd.read_sql(sql, con)\n",
    "df"
   ]
  },
  {
   "cell_type": "markdown",
   "metadata": {},
   "source": [
    "## Verzierungselemente"
   ]
  },
  {
   "cell_type": "code",
   "execution_count": 2,
   "metadata": {},
   "outputs": [
    {
     "name": "stderr",
     "output_type": "stream",
     "text": [
      "C:\\Users\\Dirk\\Dropbox\\Dissertation\\Python\\myfunctions.py:66: SettingWithCopyWarning: \n",
      "A value is trying to be set on a copy of a slice from a DataFrame.\n",
      "Try using .loc[row_indexer,col_indexer] = value instead\n",
      "\n",
      "See the caveats in the documentation: http://pandas.pydata.org/pandas-docs/stable/indexing.html#indexing-view-versus-copy\n",
      "  df1['n'] = 1\n",
      "C:\\Users\\Dirk\\Dropbox\\Dissertation\\Python\\myfunctions.py:88: FutureWarning: convert_objects is deprecated.  Use the data-type specific converters pd.to_datetime, pd.to_timedelta and pd.to_numeric.\n",
      "  ab[1] = ab[1].convert_objects(convert_numeric=True)\n"
     ]
    }
   ],
   "source": [
    "(df_pivotBig_perc, df_pivotBig_perc_a, new_cmap) = decoration_positon_matrices_print(style)"
   ]
  },
  {
   "cell_type": "code",
   "execution_count": 3,
   "metadata": {},
   "outputs": [
    {
     "data": {
      "image/png": "[encoded data removed]",
      "text/plain": [
       "<matplotlib.figure.Figure at 0x17f88ece668>"
      ]
     },
     "metadata": {},
     "output_type": "display_data"
    }
   ],
   "source": [
    "fig = plt.figure()\n",
    "fig.set_size_inches(25, 15)\n",
    "\n",
    "ax = plt.gca()\n",
    "im = ax.imshow(df_pivotBig_perc, interpolation='nearest', cmap=parula_map, alpha=.66)\n",
    "\n",
    "plt.xlabel('Verzierungselemente (Schlüssel)')\n",
    "plt.yticks(range(len(df_pivotBig_perc.index)), df_pivotBig_perc.index.str[2:])\n",
    "plt.xticks(range(len(df_pivotBig_perc.columns)), df_pivotBig_perc.columns, rotation = -45)\n",
    "\n",
    "for (i, j), z in np.ndenumerate(df_pivotBig_perc_a):\n",
    "    plt.text(j, i, z, ha='center', va='center')\n",
    "    \n",
    "plt.axvline(10.5, color='grey', linestyle = '--')\n",
    "plt.axvline(17.5, color='grey', linestyle = '--')\n",
    "plt.axvline(18.5, color='grey', linestyle = '--')\n",
    "plt.axvline(20.5, color='grey', linestyle = '--')\n",
    "plt.axvline(43.5, color='grey', linestyle = '--')\n",
    "plt.axvline(44.5, color='grey', linestyle = '--')\n",
    "plt.axvline(57.5, color='grey', linestyle = '--')\n",
    "plt.axvline(61.5, color='grey', linestyle = '--')\n",
    "plt.axvline(70.5, color='grey', linestyle = '--')\n",
    "\n",
    "divider = make_axes_locatable(ax)\n",
    "cax = divider.append_axes(\"right\", size=\"1%\", pad=0.2)\n",
    "cbar = plt.colorbar(im, cax=cax)\n",
    "cbar.set_label('Anteil (%)', rotation = -90, labelpad = 15)\n",
    "\n",
    "plt.tight_layout()\n",
    "\n",
    "plt.savefig('../output/figs/3-1-1-2_Ngbanja_VerzierungselmenteAlle.pdf', bbox_inches='tight')\n",
    "plt.show()"
   ]
  },
  {
   "cell_type": "code",
   "execution_count": 146,
   "metadata": {
    "collapsed": true
   },
   "outputs": [],
   "source": [
    "sql = \"\"\"SELECT\n",
    "           t_Obj.objID,\n",
    "           t_K_Pos.posID,\n",
    "           t_K_Verz.verzID,\n",
    "           [t_K_Pos].[posReihe] || ' ' || [posName] AS pos,\n",
    "           t_K_Verz.verzName,\n",
    "           t_K_Verz.verzBeschr,\n",
    "           t_Obj.Typ,\n",
    "           t_Obj.Form_Gef\n",
    "       FROM t_Obj INNER JOIN \"t_ObjPosVerz\" ON t_Obj.objID = \"t_ObjPosVerz\".objID\n",
    "           INNER JOIN t_K_Pos ON \"t_ObjPosVerz\".posID = t_K_Pos.posID\n",
    "           INNER JOIN t_K_Verz ON \"t_ObjPosVerz\".verzID = t_K_Verz.verzID\n",
    "       WHERE (((t_K_Pos.posID)<>1)\n",
    "           AND ((t_K_Verz.verzName) != '')\n",
    "           AND ((t_Obj.Typ) Like '%NGB%'))\"\"\".replace('\\n',' ')\n",
    "\n",
    "df = pd.read_sql(sql, con)"
   ]
  },
  {
   "cell_type": "code",
   "execution_count": 147,
   "metadata": {
    "collapsed": true
   },
   "outputs": [],
   "source": [
    "df_pivot = df.pivot_table(values = 'objID', index = 'pos', columns = 'verzName', aggfunc = len)\n",
    "df_pivot = df_pivot.fillna(0)\n",
    "# Sortierung für graphische Darstellung umdrehen\n",
    "df_pivot = df_pivot.sort_index(ascending=True)\n",
    "# heatmap siehe http://yonatanfriedman.com/docs/survey/plotting.html"
   ]
  },
  {
   "cell_type": "code",
   "execution_count": 148,
   "metadata": {},
   "outputs": [
    {
     "data": {
      "image/png": "[encoded data removed]",
      "text/plain": [
       "<matplotlib.figure.Figure at 0x7f76fe031710>"
      ]
     },
     "metadata": {},
     "output_type": "display_data"
    }
   ],
   "source": [
    "fig = plt.figure()\n",
    "fig.set_size_inches(10, 7.5)\n",
    "plt.imshow(df_pivot, interpolation='nearest', cmap='Greys', alpha = .5)\n",
    "plt.ylabel('Gefäßposition')\n",
    "plt.xlabel('Verzierungselemente')\n",
    "plt.yticks(range(len(df_pivot.index)), df_pivot.index)\n",
    "plt.xticks(range(len(df_pivot.columns)), df_pivot.columns, rotation='vertical')\n",
    "# plt.colorbar(orientation='horizontal')\n",
    "for (i, j), z in np.ndenumerate(df_pivot):\n",
    "    plt.text(j, i, '{:0.0f}'.format(z), ha='center', va='center')\n",
    "plt.tight_layout()\n",
    "plt.savefig('../output/figs/3-1-1-2_Ngbanja_Verzierungselmente.pdf', bbox_inches='tight')\n",
    "plt.show()"
   ]
  },
  {
   "cell_type": "code",
   "execution_count": 149,
   "metadata": {
    "collapsed": true
   },
   "outputs": [],
   "source": [
    "df_pivot = df.pivot_table(values = 'objID', index = 'pos', columns = 'verzName', aggfunc = len)\n",
    "df_pivot_a = df_pivot.fillna('-')\n",
    "#df_pivot = df_pivot.fillna(0)\n",
    "# Sortierung für graphische Darstellung umdrehen\n",
    "df_pivot = df_pivot.sort_index(ascending=True)\n",
    "# heatmap siehe http://yonatanfriedman.com/docs/survey/plotting.html"
   ]
  },
  {
   "cell_type": "code",
   "execution_count": 151,
   "metadata": {},
   "outputs": [
    {
     "data": {
      "image/png": "[encoded data removed]",
      "text/plain": [
       "<matplotlib.figure.Figure at 0x7f76fe03e588>"
      ]
     },
     "metadata": {},
     "output_type": "display_data"
    }
   ],
   "source": [
    "fig = plt.figure()\n",
    "fig.set_size_inches(10, 7.5)\n",
    "plt.imshow(df_pivot, interpolation='nearest', cmap='Spectral_r')\n",
    "plt.ylabel('Gefäßposition')\n",
    "plt.xlabel('Verzierungselemente')\n",
    "plt.yticks(range(len(df_pivot.index)), df_pivot.index)\n",
    "plt.xticks(range(len(df_pivot.columns)), df_pivot.columns, rotation='vertical')\n",
    "# plt.colorbar(orientation='horizontal')\n",
    "\n",
    "for (i, j), z in np.ndenumerate(df_pivot_a):\n",
    "    plt.text(j, i, z, ha='center', va='center')\n",
    "\n",
    "# for (i, j), z in np.ndenumerate(df_pivot_a):\n",
    "#     plt.text(j, i, '{:0.0f}'.format(z), ha='center', va='center')\n",
    "\n",
    "plt.tight_layout()\n",
    "plt.show()"
   ]
  },
  {
   "cell_type": "code",
   "execution_count": 92,
   "metadata": {},
   "outputs": [
    {
     "name": "stderr",
     "output_type": "stream",
     "text": [
      "/home/dirk/anaconda3/lib/python3.5/site-packages/ipykernel/__main__.py:4: FutureWarning: by argument to sort_index is deprecated, pls use .sort_values(by=...)\n"
     ]
    }
   ],
   "source": [
    "df_pivot = df.pivot_table(values = 'objID', index = 'verzName', aggfunc = len)\n",
    "df_pivot = pd.DataFrame(df_pivot)\n",
    "# Sortierung in Aufsteigend ändern\n",
    "df_pivot = df_pivot.sort_index(by = ['objID'], ascending = True)"
   ]
  },
  {
   "cell_type": "code",
   "execution_count": 93,
   "metadata": {},
   "outputs": [
    {
     "data": {
      "text/plain": [
       "<matplotlib.text.Text at 0x7f76fe614f60>"
      ]
     },
     "execution_count": 93,
     "metadata": {},
     "output_type": "execute_result"
    },
    {
     "data": {
      "image/png": "[encoded data removed]",
      "text/plain": [
       "<matplotlib.figure.Figure at 0x7f76fd9c8b70>"
      ]
     },
     "metadata": {},
     "output_type": "display_data"
    }
   ],
   "source": [
    "fig = plt.figure()\n",
    "fig.set_size_inches(5, 5)\n",
    "df_pivot['objID'].plot(kind='pie', autopct='%.0f %%', cmap = 'Paired' )\n",
    "plt.ylabel('')"
   ]
  },
  {
   "cell_type": "markdown",
   "metadata": {
    "collapsed": true
   },
   "source": [
    "## Verbreitung"
   ]
  },
  {
   "cell_type": "code",
   "execution_count": 6,
   "metadata": {},
   "outputs": [
    {
     "data": {
      "text/html": [
       "<div>\n",
       "<table border=\"1\" class=\"dataframe\">\n",
       "  <thead>\n",
       "    <tr style=\"text-align: right;\">\n",
       "      <th>Typ</th>\n",
       "      <th>Ort</th>\n",
       "      <th>Kat-Nr</th>\n",
       "      <th>X</th>\n",
       "      <th>Y</th>\n",
       "      <th>TYP</th>\n",
       "    </tr>\n",
       "  </thead>\n",
       "  <tbody>\n",
       "    <tr>\n",
       "      <th>2</th>\n",
       "      <td>Loka (Fpl. 193)</td>\n",
       "      <td>193</td>\n",
       "      <td>17.945614</td>\n",
       "      <td>0.320338</td>\n",
       "      <td>NGB (?)</td>\n",
       "    </tr>\n",
       "    <tr>\n",
       "      <th>0</th>\n",
       "      <td>Ebeka (Fpl. 197)</td>\n",
       "      <td>197</td>\n",
       "      <td>18.031148</td>\n",
       "      <td>1.429335</td>\n",
       "      <td>NGB (?)</td>\n",
       "    </tr>\n",
       "    <tr>\n",
       "      <th>1</th>\n",
       "      <td>Ngbanja (Fpl. 199)</td>\n",
       "      <td>199</td>\n",
       "      <td>18.092242</td>\n",
       "      <td>1.665022</td>\n",
       "      <td>NGB</td>\n",
       "    </tr>\n",
       "    <tr>\n",
       "      <th>2</th>\n",
       "      <td>Nzambi (Fpl. 205)</td>\n",
       "      <td>205</td>\n",
       "      <td>18.637255</td>\n",
       "      <td>3.161920</td>\n",
       "      <td>NGB</td>\n",
       "    </tr>\n",
       "    <tr>\n",
       "      <th>7</th>\n",
       "      <td>Motenge-Boma (Fpl. 206)</td>\n",
       "      <td>206</td>\n",
       "      <td>18.648645</td>\n",
       "      <td>3.244495</td>\n",
       "      <td>NGB (?)</td>\n",
       "    </tr>\n",
       "    <tr>\n",
       "      <th>4</th>\n",
       "      <td>Maoko (Fpl. 207)</td>\n",
       "      <td>207</td>\n",
       "      <td>18.642191</td>\n",
       "      <td>3.407332</td>\n",
       "      <td>NGB (?)</td>\n",
       "    </tr>\n",
       "    <tr>\n",
       "      <th>3</th>\n",
       "      <td>Maluba (Fpl. 230)</td>\n",
       "      <td>230</td>\n",
       "      <td>18.523706</td>\n",
       "      <td>2.806193</td>\n",
       "      <td>NGB (?)</td>\n",
       "    </tr>\n",
       "    <tr>\n",
       "      <th>5</th>\n",
       "      <td>Pikunda (Fpl. 255)</td>\n",
       "      <td>255</td>\n",
       "      <td>16.635736</td>\n",
       "      <td>0.549344</td>\n",
       "      <td>NGB</td>\n",
       "    </tr>\n",
       "    <tr>\n",
       "      <th>1</th>\n",
       "      <td>Ikelemba (Fpl. 260)</td>\n",
       "      <td>260</td>\n",
       "      <td>16.504824</td>\n",
       "      <td>1.227166</td>\n",
       "      <td>NGB (?)</td>\n",
       "    </tr>\n",
       "    <tr>\n",
       "      <th>6</th>\n",
       "      <td>Mosanya (Fpl. 262)</td>\n",
       "      <td>262</td>\n",
       "      <td>16.447391</td>\n",
       "      <td>1.213000</td>\n",
       "      <td>NGB (?)</td>\n",
       "    </tr>\n",
       "    <tr>\n",
       "      <th>0</th>\n",
       "      <td>Matoto (Fpl. 264)</td>\n",
       "      <td>264</td>\n",
       "      <td>16.431282</td>\n",
       "      <td>1.281643</td>\n",
       "      <td>NGB</td>\n",
       "    </tr>\n",
       "    <tr>\n",
       "      <th>3</th>\n",
       "      <td>Ouesso (Fpl. 265)</td>\n",
       "      <td>265</td>\n",
       "      <td>16.057202</td>\n",
       "      <td>1.617344</td>\n",
       "      <td>NGB</td>\n",
       "    </tr>\n",
       "    <tr>\n",
       "      <th>4</th>\n",
       "      <td>Pandama (Fpl. 276)</td>\n",
       "      <td>276</td>\n",
       "      <td>15.881677</td>\n",
       "      <td>1.783279</td>\n",
       "      <td>NGB</td>\n",
       "    </tr>\n",
       "  </tbody>\n",
       "</table>\n",
       "</div>"
      ],
      "text/plain": [
       "Typ                      Ort Kat-Nr          X         Y      TYP\n",
       "2            Loka (Fpl. 193)    193  17.945614  0.320338  NGB (?)\n",
       "0           Ebeka (Fpl. 197)    197  18.031148  1.429335  NGB (?)\n",
       "1         Ngbanja (Fpl. 199)    199  18.092242  1.665022      NGB\n",
       "2          Nzambi (Fpl. 205)    205  18.637255  3.161920      NGB\n",
       "7    Motenge-Boma (Fpl. 206)    206  18.648645  3.244495  NGB (?)\n",
       "4           Maoko (Fpl. 207)    207  18.642191  3.407332  NGB (?)\n",
       "3          Maluba (Fpl. 230)    230  18.523706  2.806193  NGB (?)\n",
       "5         Pikunda (Fpl. 255)    255  16.635736  0.549344      NGB\n",
       "1        Ikelemba (Fpl. 260)    260  16.504824  1.227166  NGB (?)\n",
       "6         Mosanya (Fpl. 262)    262  16.447391  1.213000  NGB (?)\n",
       "0          Matoto (Fpl. 264)    264  16.431282  1.281643      NGB\n",
       "3          Ouesso (Fpl. 265)    265  16.057202  1.617344      NGB\n",
       "4         Pandama (Fpl. 276)    276  15.881677  1.783279      NGB"
      ]
     },
     "execution_count": 6,
     "metadata": {},
     "output_type": "execute_result"
    }
   ],
   "source": [
    "df = style_mapping_gis_export(style)\n",
    "df.sort_values(['Kat-Nr'])"
   ]
  },
  {
   "cell_type": "code",
   "execution_count": 7,
   "metadata": {
    "collapsed": true
   },
   "outputs": [],
   "source": [
    "df.to_csv(\"../data/processed/3-1-1-2_NGB_Verbreitung.csv\", index = False)"
   ]
  },
  {
   "cell_type": "markdown",
   "metadata": {},
   "source": [
    "## Appendix"
   ]
  },
  {
   "cell_type": "markdown",
   "metadata": {},
   "source": [
    "gehören NGB 85/101:142 & PIK 87/1-1:1 wirklich zur Ngbanja-Gruppe\n",
    "\n",
    "Viel viele Stilgruppen kommen in Ngbanaja (Fpl. 199) vor?"
   ]
  },
  {
   "cell_type": "code",
   "execution_count": 57,
   "metadata": {
    "collapsed": true,
    "scrolled": true
   },
   "outputs": [],
   "source": [
    "sql = \"\"\"SELECT\n",
    "           t_Obj.objID,\n",
    "           t_Obj.Typ\n",
    "       FROM (t_Ort INNER JOIN t_Komplex ON t_Ort.ortID = t_Komplex.ortID)\n",
    "           INNER JOIN t_Obj ON t_Komplex.komplexID = t_Obj.komplexID\n",
    "       WHERE (((t_Ort.ort_kurz) == 'NGB')\n",
    "           AND ((t_Obj.Art) == 'K'))\"\"\".replace('\\n',' ')\n",
    "\n",
    "df = pd.read_sql(sql, con)"
   ]
  },
  {
   "cell_type": "code",
   "execution_count": 58,
   "metadata": {
    "collapsed": true
   },
   "outputs": [],
   "source": [
    "df_pivot = df.pivot_table(values = 'objID', index = 'Typ', aggfunc = len)\n",
    "df_pivot = pd.DataFrame(df_pivot)\n",
    "# Sortierung in Aufsteigend ändern\n",
    "df_pivot = df_pivot.sort_index(by = ['objID'], ascending = True)"
   ]
  },
  {
   "cell_type": "code",
   "execution_count": 59,
   "metadata": {},
   "outputs": [
    {
     "data": {
      "text/plain": [
       "<matplotlib.text.Text at 0xb4707b8>"
      ]
     },
     "execution_count": 59,
     "metadata": {},
     "output_type": "execute_result"
    },
    {
     "data": {
      "image/png": "[encoded data removed]",
      "text/plain": [
       "<matplotlib.figure.Figure at 0xb7aeb00>"
      ]
     },
     "metadata": {},
     "output_type": "display_data"
    }
   ],
   "source": [
    "fig = plt.figure()\n",
    "fig.set_size_inches(5, 5)\n",
    "df_pivot['objID'].plot(kind='pie', autopct='%.0f %%', cmap = 'Paired' )\n",
    "plt.ylabel('')"
   ]
  },
  {
   "cell_type": "markdown",
   "metadata": {},
   "source": [
    "nur solche Stücke, die einer Stilgruppe zugewiesen wurden:"
   ]
  },
  {
   "cell_type": "code",
   "execution_count": 60,
   "metadata": {
    "collapsed": true
   },
   "outputs": [],
   "source": [
    "sql = \"\"\"SELECT\n",
    "           t_Obj.objID,\n",
    "           t_Obj.Typ\n",
    "       FROM (t_Ort INNER JOIN t_Komplex ON t_Ort.ortID = t_Komplex.ortID)\n",
    "           INNER JOIN t_Obj ON t_Komplex.komplexID = t_Obj.komplexID\n",
    "       WHERE (((t_Ort.ort_kurz) == 'NGB')\n",
    "           AND ((t_Obj.Typ) != '')\n",
    "           AND ((t_Obj.Typ) Not Like '(?)'))\"\"\".replace('\\n',' ')\n",
    "\n",
    "df = pd.read_sql(sql, con)\n",
    "df_pivot = df.pivot_table(values = 'objID', index = 'Typ', aggfunc = len)\n",
    "df_pivot = pd.DataFrame(df_pivot)\n",
    "# Sortierung in Aufsteigend ändern\n",
    "df_pivot = df_pivot.sort_index(by = ['objID'], ascending = True)"
   ]
  },
  {
   "cell_type": "code",
   "execution_count": 61,
   "metadata": {},
   "outputs": [
    {
     "data": {
      "text/plain": [
       "<matplotlib.text.Text at 0xb3daef0>"
      ]
     },
     "execution_count": 61,
     "metadata": {},
     "output_type": "execute_result"
    },
    {
     "data": {
      "image/png": "[encoded data removed]",
      "text/plain": [
       "<matplotlib.figure.Figure at 0xb687a58>"
      ]
     },
     "metadata": {},
     "output_type": "display_data"
    }
   ],
   "source": [
    "fig = plt.figure()\n",
    "fig.set_size_inches(5, 5)\n",
    "df_pivot['objID'].plot(kind='pie', autopct='%.0f %%', cmap = 'Paired' )\n",
    "plt.ylabel('')"
   ]
  },
  {
   "cell_type": "markdown",
   "metadata": {},
   "source": [
    "wenn die fraglichen Stücke einfach mit einbezogen werden:"
   ]
  },
  {
   "cell_type": "code",
   "execution_count": 62,
   "metadata": {
    "collapsed": true
   },
   "outputs": [],
   "source": [
    "df['Typ'] = df['Typ'].map(lambda x: x.rstrip(' (?)'))"
   ]
  },
  {
   "cell_type": "code",
   "execution_count": 63,
   "metadata": {},
   "outputs": [
    {
     "data": {
      "text/plain": [
       "<matplotlib.text.Text at 0xb6dc4e0>"
      ]
     },
     "execution_count": 63,
     "metadata": {},
     "output_type": "execute_result"
    },
    {
     "data": {
      "image/png": "[encoded data removed]",
      "text/plain": [
       "<matplotlib.figure.Figure at 0xb687240>"
      ]
     },
     "metadata": {},
     "output_type": "display_data"
    }
   ],
   "source": [
    "df_pivot = df.pivot_table(values = 'objID', index = 'Typ', aggfunc = len)\n",
    "df_pivot = pd.DataFrame(df_pivot)\n",
    "# Sortierung in Aufsteigend ändern\n",
    "df_pivot = df_pivot.sort_index(by = ['objID'], ascending = True)\n",
    "fig = plt.figure()\n",
    "fig.set_size_inches(5, 5)\n",
    "df_pivot['objID'].plot(kind='pie', autopct='%.0f %%', cmap = 'Paired' )\n",
    "plt.ylabel('')"
   ]
  },
  {
   "cell_type": "markdown",
   "metadata": {
    "collapsed": true
   },
   "source": [
    "## Vergesellschaftung von NGB mit BTM"
   ]
  },
  {
   "cell_type": "code",
   "execution_count": 19,
   "metadata": {},
   "outputs": [
    {
     "data": {
      "text/html": [
       "<div>\n",
       "<table border=\"1\" class=\"dataframe\">\n",
       "  <thead>\n",
       "    <tr style=\"text-align: right;\">\n",
       "      <th></th>\n",
       "      <th>ort_kurz</th>\n",
       "      <th>name</th>\n",
       "      <th>bef_art</th>\n",
       "      <th>objID</th>\n",
       "      <th>Typ</th>\n",
       "      <th>Form_Gef</th>\n",
       "      <th>Anzahl</th>\n",
       "      <th>Fabric</th>\n",
       "    </tr>\n",
       "  </thead>\n",
       "  <tbody>\n",
       "    <tr>\n",
       "      <th>0</th>\n",
       "      <td>DON</td>\n",
       "      <td>Dongo (Fpl. 202)</td>\n",
       "      <td>Oberfl</td>\n",
       "      <td>94</td>\n",
       "      <td>BTM</td>\n",
       "      <td>C2</td>\n",
       "      <td>1.0</td>\n",
       "      <td>3a</td>\n",
       "    </tr>\n",
       "    <tr>\n",
       "      <th>1</th>\n",
       "      <td>DON</td>\n",
       "      <td>Dongo (Fpl. 202)</td>\n",
       "      <td>Oberfl</td>\n",
       "      <td>96</td>\n",
       "      <td>BTM</td>\n",
       "      <td>D1</td>\n",
       "      <td>1.0</td>\n",
       "      <td>4c</td>\n",
       "    </tr>\n",
       "    <tr>\n",
       "      <th>2</th>\n",
       "      <td>DON</td>\n",
       "      <td>Dongo (Fpl. 202)</td>\n",
       "      <td>Oberfl</td>\n",
       "      <td>97</td>\n",
       "      <td>BTM</td>\n",
       "      <td>I2</td>\n",
       "      <td>1.0</td>\n",
       "      <td>6a</td>\n",
       "    </tr>\n",
       "    <tr>\n",
       "      <th>3</th>\n",
       "      <td>DON</td>\n",
       "      <td>Dongo (Fpl. 202)</td>\n",
       "      <td>Oberfl</td>\n",
       "      <td>98</td>\n",
       "      <td>BTM</td>\n",
       "      <td>C2</td>\n",
       "      <td>1.0</td>\n",
       "      <td>4a</td>\n",
       "    </tr>\n",
       "    <tr>\n",
       "      <th>4</th>\n",
       "      <td>DON</td>\n",
       "      <td>Dongo (Fpl. 202)</td>\n",
       "      <td>Oberfl</td>\n",
       "      <td>99</td>\n",
       "      <td>BTM</td>\n",
       "      <td>C2</td>\n",
       "      <td>1.0</td>\n",
       "      <td>5b</td>\n",
       "    </tr>\n",
       "  </tbody>\n",
       "</table>\n",
       "</div>"
      ],
      "text/plain": [
       "  ort_kurz              name bef_art  objID  Typ Form_Gef  Anzahl Fabric\n",
       "0      DON  Dongo (Fpl. 202)  Oberfl     94  BTM       C2     1.0     3a\n",
       "1      DON  Dongo (Fpl. 202)  Oberfl     96  BTM       D1     1.0     4c\n",
       "2      DON  Dongo (Fpl. 202)  Oberfl     97  BTM       I2     1.0     6a\n",
       "3      DON  Dongo (Fpl. 202)  Oberfl     98  BTM       C2     1.0     4a\n",
       "4      DON  Dongo (Fpl. 202)  Oberfl     99  BTM       C2     1.0     5b"
      ]
     },
     "execution_count": 19,
     "metadata": {},
     "output_type": "execute_result"
    }
   ],
   "source": [
    "sql = \"\"\"SELECT\n",
    "           t_Ort.ort_kurz,\n",
    "           [t_Ort].[ort_name] || ' (Fpl. ' || [Kat-Nr] || ')' AS name,\n",
    "           t_komplex.bef_art,\n",
    "           t_Obj.objID,\n",
    "           t_Obj.Typ,\n",
    "           t_Obj.Form_Gef,\n",
    "           t_Obj.Anzahl,\n",
    "           t_Obj.Fabric\n",
    "       FROM (t_Ort INNER JOIN t_Komplex ON t_Ort.ortID = t_Komplex.ortID)\n",
    "           INNER JOIN t_Obj ON t_Komplex.komplexID = t_Obj.komplexID\n",
    "       WHERE ((t_Obj.Typ) Like '%\"\"\"+style+\"\"\"%')\n",
    "           OR ((t_Obj.Typ) Like '%BTM%')\"\"\".replace('\\n',' ')\n",
    "\n",
    "df = pd.read_sql(sql, con)\n",
    "\n",
    "df['Anzahl'] = pd.to_numeric(df['Anzahl'])\n",
    "df.head()"
   ]
  },
  {
   "cell_type": "code",
   "execution_count": 20,
   "metadata": {},
   "outputs": [
    {
     "data": {
      "text/html": [
       "<div>\n",
       "<table border=\"1\" class=\"dataframe\">\n",
       "  <thead>\n",
       "    <tr style=\"text-align: right;\">\n",
       "      <th>Typ</th>\n",
       "      <th>BTM</th>\n",
       "      <th>BTM (?)</th>\n",
       "      <th>BTM / MDB (?)</th>\n",
       "      <th>BTM / NGB (?)</th>\n",
       "      <th>NGB</th>\n",
       "      <th>NGB (?)</th>\n",
       "      <th>NGB/BTM (?)</th>\n",
       "      <th>NGB/KON (?)</th>\n",
       "      <th>OUE/NGB (?)</th>\n",
       "    </tr>\n",
       "    <tr>\n",
       "      <th>name</th>\n",
       "      <th></th>\n",
       "      <th></th>\n",
       "      <th></th>\n",
       "      <th></th>\n",
       "      <th></th>\n",
       "      <th></th>\n",
       "      <th></th>\n",
       "      <th></th>\n",
       "      <th></th>\n",
       "    </tr>\n",
       "  </thead>\n",
       "  <tbody>\n",
       "    <tr>\n",
       "      <th>Bomboko (Fpl. 210)</th>\n",
       "      <td>2.0</td>\n",
       "      <td>2.0</td>\n",
       "      <td>NaN</td>\n",
       "      <td>NaN</td>\n",
       "      <td>NaN</td>\n",
       "      <td>NaN</td>\n",
       "      <td>NaN</td>\n",
       "      <td>NaN</td>\n",
       "      <td>NaN</td>\n",
       "    </tr>\n",
       "    <tr>\n",
       "      <th>Dongo (Fpl. 202)</th>\n",
       "      <td>24.0</td>\n",
       "      <td>4.0</td>\n",
       "      <td>NaN</td>\n",
       "      <td>NaN</td>\n",
       "      <td>NaN</td>\n",
       "      <td>NaN</td>\n",
       "      <td>NaN</td>\n",
       "      <td>NaN</td>\n",
       "      <td>NaN</td>\n",
       "    </tr>\n",
       "    <tr>\n",
       "      <th>Ebeka (Fpl. 197)</th>\n",
       "      <td>NaN</td>\n",
       "      <td>NaN</td>\n",
       "      <td>NaN</td>\n",
       "      <td>NaN</td>\n",
       "      <td>NaN</td>\n",
       "      <td>NaN</td>\n",
       "      <td>1.0</td>\n",
       "      <td>NaN</td>\n",
       "      <td>NaN</td>\n",
       "    </tr>\n",
       "    <tr>\n",
       "      <th>Ikelemba (Fpl. 260)</th>\n",
       "      <td>NaN</td>\n",
       "      <td>NaN</td>\n",
       "      <td>NaN</td>\n",
       "      <td>NaN</td>\n",
       "      <td>NaN</td>\n",
       "      <td>9.0</td>\n",
       "      <td>NaN</td>\n",
       "      <td>NaN</td>\n",
       "      <td>NaN</td>\n",
       "    </tr>\n",
       "    <tr>\n",
       "      <th>Libenge (Fpl. 208)</th>\n",
       "      <td>1.0</td>\n",
       "      <td>NaN</td>\n",
       "      <td>NaN</td>\n",
       "      <td>NaN</td>\n",
       "      <td>NaN</td>\n",
       "      <td>NaN</td>\n",
       "      <td>NaN</td>\n",
       "      <td>NaN</td>\n",
       "      <td>NaN</td>\n",
       "    </tr>\n",
       "    <tr>\n",
       "      <th>Loka (Fpl. 193)</th>\n",
       "      <td>NaN</td>\n",
       "      <td>NaN</td>\n",
       "      <td>NaN</td>\n",
       "      <td>NaN</td>\n",
       "      <td>NaN</td>\n",
       "      <td>1.0</td>\n",
       "      <td>NaN</td>\n",
       "      <td>NaN</td>\n",
       "      <td>NaN</td>\n",
       "    </tr>\n",
       "    <tr>\n",
       "      <th>Maluba (Fpl. 230)</th>\n",
       "      <td>127.0</td>\n",
       "      <td>18.0</td>\n",
       "      <td>1.0</td>\n",
       "      <td>NaN</td>\n",
       "      <td>NaN</td>\n",
       "      <td>2.0</td>\n",
       "      <td>NaN</td>\n",
       "      <td>NaN</td>\n",
       "      <td>NaN</td>\n",
       "    </tr>\n",
       "    <tr>\n",
       "      <th>Maoko (Fpl. 207)</th>\n",
       "      <td>2.0</td>\n",
       "      <td>1.0</td>\n",
       "      <td>NaN</td>\n",
       "      <td>NaN</td>\n",
       "      <td>NaN</td>\n",
       "      <td>1.0</td>\n",
       "      <td>NaN</td>\n",
       "      <td>NaN</td>\n",
       "      <td>NaN</td>\n",
       "    </tr>\n",
       "    <tr>\n",
       "      <th>Matoto (Fpl. 264)</th>\n",
       "      <td>NaN</td>\n",
       "      <td>NaN</td>\n",
       "      <td>NaN</td>\n",
       "      <td>NaN</td>\n",
       "      <td>1.0</td>\n",
       "      <td>1.0</td>\n",
       "      <td>NaN</td>\n",
       "      <td>NaN</td>\n",
       "      <td>NaN</td>\n",
       "    </tr>\n",
       "    <tr>\n",
       "      <th>Mbati-Ngombe (Fpl. 204)</th>\n",
       "      <td>1.0</td>\n",
       "      <td>1.0</td>\n",
       "      <td>NaN</td>\n",
       "      <td>NaN</td>\n",
       "      <td>NaN</td>\n",
       "      <td>NaN</td>\n",
       "      <td>NaN</td>\n",
       "      <td>NaN</td>\n",
       "      <td>NaN</td>\n",
       "    </tr>\n",
       "    <tr>\n",
       "      <th>Mokelo (Fpl. 213)</th>\n",
       "      <td>5.0</td>\n",
       "      <td>15.0</td>\n",
       "      <td>NaN</td>\n",
       "      <td>NaN</td>\n",
       "      <td>NaN</td>\n",
       "      <td>NaN</td>\n",
       "      <td>NaN</td>\n",
       "      <td>NaN</td>\n",
       "      <td>NaN</td>\n",
       "    </tr>\n",
       "    <tr>\n",
       "      <th>Mondoli (Fpl. 212)</th>\n",
       "      <td>NaN</td>\n",
       "      <td>1.0</td>\n",
       "      <td>NaN</td>\n",
       "      <td>NaN</td>\n",
       "      <td>NaN</td>\n",
       "      <td>NaN</td>\n",
       "      <td>NaN</td>\n",
       "      <td>NaN</td>\n",
       "      <td>NaN</td>\n",
       "    </tr>\n",
       "    <tr>\n",
       "      <th>Mosanya (Fpl. 262)</th>\n",
       "      <td>NaN</td>\n",
       "      <td>NaN</td>\n",
       "      <td>NaN</td>\n",
       "      <td>NaN</td>\n",
       "      <td>NaN</td>\n",
       "      <td>1.0</td>\n",
       "      <td>NaN</td>\n",
       "      <td>NaN</td>\n",
       "      <td>NaN</td>\n",
       "    </tr>\n",
       "    <tr>\n",
       "      <th>Motenge-Boma (Fpl. 206)</th>\n",
       "      <td>NaN</td>\n",
       "      <td>1.0</td>\n",
       "      <td>NaN</td>\n",
       "      <td>1.0</td>\n",
       "      <td>NaN</td>\n",
       "      <td>NaN</td>\n",
       "      <td>NaN</td>\n",
       "      <td>NaN</td>\n",
       "      <td>NaN</td>\n",
       "    </tr>\n",
       "    <tr>\n",
       "      <th>Ngbanja (Fpl. 199)</th>\n",
       "      <td>2.0</td>\n",
       "      <td>NaN</td>\n",
       "      <td>NaN</td>\n",
       "      <td>NaN</td>\n",
       "      <td>8.0</td>\n",
       "      <td>2.0</td>\n",
       "      <td>1.0</td>\n",
       "      <td>NaN</td>\n",
       "      <td>NaN</td>\n",
       "    </tr>\n",
       "    <tr>\n",
       "      <th>Nzambi (Fpl. 205)</th>\n",
       "      <td>14.0</td>\n",
       "      <td>NaN</td>\n",
       "      <td>NaN</td>\n",
       "      <td>NaN</td>\n",
       "      <td>8.0</td>\n",
       "      <td>4.0</td>\n",
       "      <td>NaN</td>\n",
       "      <td>NaN</td>\n",
       "      <td>NaN</td>\n",
       "    </tr>\n",
       "    <tr>\n",
       "      <th>Ouesso (Fpl. 265)</th>\n",
       "      <td>NaN</td>\n",
       "      <td>NaN</td>\n",
       "      <td>NaN</td>\n",
       "      <td>NaN</td>\n",
       "      <td>2.0</td>\n",
       "      <td>7.0</td>\n",
       "      <td>NaN</td>\n",
       "      <td>NaN</td>\n",
       "      <td>2.0</td>\n",
       "    </tr>\n",
       "    <tr>\n",
       "      <th>Pandama (Fpl. 276)</th>\n",
       "      <td>NaN</td>\n",
       "      <td>NaN</td>\n",
       "      <td>NaN</td>\n",
       "      <td>NaN</td>\n",
       "      <td>1.0</td>\n",
       "      <td>1.0</td>\n",
       "      <td>NaN</td>\n",
       "      <td>NaN</td>\n",
       "      <td>NaN</td>\n",
       "    </tr>\n",
       "    <tr>\n",
       "      <th>Pikunda (Fpl. 255)</th>\n",
       "      <td>NaN</td>\n",
       "      <td>NaN</td>\n",
       "      <td>NaN</td>\n",
       "      <td>NaN</td>\n",
       "      <td>1.0</td>\n",
       "      <td>4.0</td>\n",
       "      <td>NaN</td>\n",
       "      <td>1.0</td>\n",
       "      <td>NaN</td>\n",
       "    </tr>\n",
       "    <tr>\n",
       "      <th>Ubangi, Fkm 415,5 (Fpl. 203)</th>\n",
       "      <td>NaN</td>\n",
       "      <td>1.0</td>\n",
       "      <td>NaN</td>\n",
       "      <td>NaN</td>\n",
       "      <td>NaN</td>\n",
       "      <td>NaN</td>\n",
       "      <td>NaN</td>\n",
       "      <td>NaN</td>\n",
       "      <td>NaN</td>\n",
       "    </tr>\n",
       "  </tbody>\n",
       "</table>\n",
       "</div>"
      ],
      "text/plain": [
       "Typ                             BTM  BTM (?)  BTM / MDB (?)  BTM / NGB (?)  \\\n",
       "name                                                                         \n",
       "Bomboko (Fpl. 210)              2.0      2.0            NaN            NaN   \n",
       "Dongo (Fpl. 202)               24.0      4.0            NaN            NaN   \n",
       "Ebeka (Fpl. 197)                NaN      NaN            NaN            NaN   \n",
       "Ikelemba (Fpl. 260)             NaN      NaN            NaN            NaN   \n",
       "Libenge (Fpl. 208)              1.0      NaN            NaN            NaN   \n",
       "Loka (Fpl. 193)                 NaN      NaN            NaN            NaN   \n",
       "Maluba (Fpl. 230)             127.0     18.0            1.0            NaN   \n",
       "Maoko (Fpl. 207)                2.0      1.0            NaN            NaN   \n",
       "Matoto (Fpl. 264)               NaN      NaN            NaN            NaN   \n",
       "Mbati-Ngombe (Fpl. 204)         1.0      1.0            NaN            NaN   \n",
       "Mokelo (Fpl. 213)               5.0     15.0            NaN            NaN   \n",
       "Mondoli (Fpl. 212)              NaN      1.0            NaN            NaN   \n",
       "Mosanya (Fpl. 262)              NaN      NaN            NaN            NaN   \n",
       "Motenge-Boma (Fpl. 206)         NaN      1.0            NaN            1.0   \n",
       "Ngbanja (Fpl. 199)              2.0      NaN            NaN            NaN   \n",
       "Nzambi (Fpl. 205)              14.0      NaN            NaN            NaN   \n",
       "Ouesso (Fpl. 265)               NaN      NaN            NaN            NaN   \n",
       "Pandama (Fpl. 276)              NaN      NaN            NaN            NaN   \n",
       "Pikunda (Fpl. 255)              NaN      NaN            NaN            NaN   \n",
       "Ubangi, Fkm 415,5 (Fpl. 203)    NaN      1.0            NaN            NaN   \n",
       "\n",
       "Typ                           NGB  NGB (?)  NGB/BTM (?)  NGB/KON (?)  \\\n",
       "name                                                                   \n",
       "Bomboko (Fpl. 210)            NaN      NaN          NaN          NaN   \n",
       "Dongo (Fpl. 202)              NaN      NaN          NaN          NaN   \n",
       "Ebeka (Fpl. 197)              NaN      NaN          1.0          NaN   \n",
       "Ikelemba (Fpl. 260)           NaN      9.0          NaN          NaN   \n",
       "Libenge (Fpl. 208)            NaN      NaN          NaN          NaN   \n",
       "Loka (Fpl. 193)               NaN      1.0          NaN          NaN   \n",
       "Maluba (Fpl. 230)             NaN      2.0          NaN          NaN   \n",
       "Maoko (Fpl. 207)              NaN      1.0          NaN          NaN   \n",
       "Matoto (Fpl. 264)             1.0      1.0          NaN          NaN   \n",
       "Mbati-Ngombe (Fpl. 204)       NaN      NaN          NaN          NaN   \n",
       "Mokelo (Fpl. 213)             NaN      NaN          NaN          NaN   \n",
       "Mondoli (Fpl. 212)            NaN      NaN          NaN          NaN   \n",
       "Mosanya (Fpl. 262)            NaN      1.0          NaN          NaN   \n",
       "Motenge-Boma (Fpl. 206)       NaN      NaN          NaN          NaN   \n",
       "Ngbanja (Fpl. 199)            8.0      2.0          1.0          NaN   \n",
       "Nzambi (Fpl. 205)             8.0      4.0          NaN          NaN   \n",
       "Ouesso (Fpl. 265)             2.0      7.0          NaN          NaN   \n",
       "Pandama (Fpl. 276)            1.0      1.0          NaN          NaN   \n",
       "Pikunda (Fpl. 255)            1.0      4.0          NaN          1.0   \n",
       "Ubangi, Fkm 415,5 (Fpl. 203)  NaN      NaN          NaN          NaN   \n",
       "\n",
       "Typ                           OUE/NGB (?)  \n",
       "name                                       \n",
       "Bomboko (Fpl. 210)                    NaN  \n",
       "Dongo (Fpl. 202)                      NaN  \n",
       "Ebeka (Fpl. 197)                      NaN  \n",
       "Ikelemba (Fpl. 260)                   NaN  \n",
       "Libenge (Fpl. 208)                    NaN  \n",
       "Loka (Fpl. 193)                       NaN  \n",
       "Maluba (Fpl. 230)                     NaN  \n",
       "Maoko (Fpl. 207)                      NaN  \n",
       "Matoto (Fpl. 264)                     NaN  \n",
       "Mbati-Ngombe (Fpl. 204)               NaN  \n",
       "Mokelo (Fpl. 213)                     NaN  \n",
       "Mondoli (Fpl. 212)                    NaN  \n",
       "Mosanya (Fpl. 262)                    NaN  \n",
       "Motenge-Boma (Fpl. 206)               NaN  \n",
       "Ngbanja (Fpl. 199)                    NaN  \n",
       "Nzambi (Fpl. 205)                     NaN  \n",
       "Ouesso (Fpl. 265)                     2.0  \n",
       "Pandama (Fpl. 276)                    NaN  \n",
       "Pikunda (Fpl. 255)                    NaN  \n",
       "Ubangi, Fkm 415,5 (Fpl. 203)          NaN  "
      ]
     },
     "execution_count": 20,
     "metadata": {},
     "output_type": "execute_result"
    }
   ],
   "source": [
    "df.pivot_table(values = 'Anzahl', index = 'name', columns = 'Typ', aggfunc = sum)"
   ]
  },
  {
   "cell_type": "code",
   "execution_count": 21,
   "metadata": {},
   "outputs": [
    {
     "data": {
      "text/html": [
       "<div>\n",
       "<table border=\"1\" class=\"dataframe\">\n",
       "  <thead>\n",
       "    <tr style=\"text-align: right;\">\n",
       "      <th></th>\n",
       "      <th>ort_kurz</th>\n",
       "      <th>name</th>\n",
       "      <th>bef_art</th>\n",
       "      <th>objID</th>\n",
       "      <th>Typ</th>\n",
       "      <th>Form_Gef</th>\n",
       "      <th>Anzahl</th>\n",
       "      <th>Fabric</th>\n",
       "    </tr>\n",
       "  </thead>\n",
       "  <tbody>\n",
       "    <tr>\n",
       "      <th>0</th>\n",
       "      <td>DON</td>\n",
       "      <td>Dongo (Fpl. 202)</td>\n",
       "      <td>Oberfl</td>\n",
       "      <td>94</td>\n",
       "      <td>BTM</td>\n",
       "      <td>C2</td>\n",
       "      <td>1</td>\n",
       "      <td>3a</td>\n",
       "    </tr>\n",
       "    <tr>\n",
       "      <th>1</th>\n",
       "      <td>DON</td>\n",
       "      <td>Dongo (Fpl. 202)</td>\n",
       "      <td>Oberfl</td>\n",
       "      <td>96</td>\n",
       "      <td>BTM</td>\n",
       "      <td>D1</td>\n",
       "      <td>1</td>\n",
       "      <td>4c</td>\n",
       "    </tr>\n",
       "    <tr>\n",
       "      <th>2</th>\n",
       "      <td>DON</td>\n",
       "      <td>Dongo (Fpl. 202)</td>\n",
       "      <td>Oberfl</td>\n",
       "      <td>97</td>\n",
       "      <td>BTM</td>\n",
       "      <td>I2</td>\n",
       "      <td>1</td>\n",
       "      <td>6a</td>\n",
       "    </tr>\n",
       "    <tr>\n",
       "      <th>3</th>\n",
       "      <td>DON</td>\n",
       "      <td>Dongo (Fpl. 202)</td>\n",
       "      <td>Oberfl</td>\n",
       "      <td>98</td>\n",
       "      <td>BTM</td>\n",
       "      <td>C2</td>\n",
       "      <td>1</td>\n",
       "      <td>4a</td>\n",
       "    </tr>\n",
       "    <tr>\n",
       "      <th>4</th>\n",
       "      <td>DON</td>\n",
       "      <td>Dongo (Fpl. 202)</td>\n",
       "      <td>Oberfl</td>\n",
       "      <td>99</td>\n",
       "      <td>BTM</td>\n",
       "      <td>C2</td>\n",
       "      <td>1</td>\n",
       "      <td>5b</td>\n",
       "    </tr>\n",
       "  </tbody>\n",
       "</table>\n",
       "</div>"
      ],
      "text/plain": [
       "  ort_kurz              name bef_art  objID  Typ Form_Gef  Anzahl Fabric\n",
       "0      DON  Dongo (Fpl. 202)  Oberfl     94  BTM       C2       1     3a\n",
       "1      DON  Dongo (Fpl. 202)  Oberfl     96  BTM       D1       1     4c\n",
       "2      DON  Dongo (Fpl. 202)  Oberfl     97  BTM       I2       1     6a\n",
       "3      DON  Dongo (Fpl. 202)  Oberfl     98  BTM       C2       1     4a\n",
       "4      DON  Dongo (Fpl. 202)  Oberfl     99  BTM       C2       1     5b"
      ]
     },
     "execution_count": 21,
     "metadata": {},
     "output_type": "execute_result"
    }
   ],
   "source": [
    "sql = \"\"\"SELECT\n",
    "           t_Ort.ort_kurz,\n",
    "           [t_Ort].[ort_name] || ' (Fpl. ' || [Kat-Nr] || ')' AS name,\n",
    "           t_komplex.bef_art,\n",
    "           t_Obj.objID,\n",
    "           t_Obj.Typ,\n",
    "           t_Obj.Form_Gef,\n",
    "           t_Obj.Anzahl,\n",
    "           t_Obj.Fabric\n",
    "       FROM (t_Ort INNER JOIN t_Komplex ON t_Ort.ortID = t_Komplex.ortID)\n",
    "           INNER JOIN t_Obj ON t_Komplex.komplexID = t_Obj.komplexID\n",
    "       WHERE ((t_Obj.Typ) = '\"\"\"+style+\"\"\"')\n",
    "           OR ((t_Obj.Typ) = 'BTM')\"\"\".replace('\\n',' ')\n",
    "\n",
    "df = pd.read_sql(sql, con)\n",
    "\n",
    "df['Anzahl'] = pd.to_numeric(df['Anzahl'])\n",
    "df.head()"
   ]
  },
  {
   "cell_type": "code",
   "execution_count": 22,
   "metadata": {},
   "outputs": [
    {
     "data": {
      "text/html": [
       "<div>\n",
       "<table border=\"1\" class=\"dataframe\">\n",
       "  <thead>\n",
       "    <tr style=\"text-align: right;\">\n",
       "      <th>Typ</th>\n",
       "      <th>BTM</th>\n",
       "      <th>NGB</th>\n",
       "    </tr>\n",
       "    <tr>\n",
       "      <th>name</th>\n",
       "      <th></th>\n",
       "      <th></th>\n",
       "    </tr>\n",
       "  </thead>\n",
       "  <tbody>\n",
       "    <tr>\n",
       "      <th>Bomboko (Fpl. 210)</th>\n",
       "      <td>2.0</td>\n",
       "      <td>NaN</td>\n",
       "    </tr>\n",
       "    <tr>\n",
       "      <th>Dongo (Fpl. 202)</th>\n",
       "      <td>24.0</td>\n",
       "      <td>NaN</td>\n",
       "    </tr>\n",
       "    <tr>\n",
       "      <th>Libenge (Fpl. 208)</th>\n",
       "      <td>1.0</td>\n",
       "      <td>NaN</td>\n",
       "    </tr>\n",
       "    <tr>\n",
       "      <th>Maluba (Fpl. 230)</th>\n",
       "      <td>127.0</td>\n",
       "      <td>NaN</td>\n",
       "    </tr>\n",
       "    <tr>\n",
       "      <th>Maoko (Fpl. 207)</th>\n",
       "      <td>2.0</td>\n",
       "      <td>NaN</td>\n",
       "    </tr>\n",
       "    <tr>\n",
       "      <th>Matoto (Fpl. 264)</th>\n",
       "      <td>NaN</td>\n",
       "      <td>1.0</td>\n",
       "    </tr>\n",
       "    <tr>\n",
       "      <th>Mbati-Ngombe (Fpl. 204)</th>\n",
       "      <td>1.0</td>\n",
       "      <td>NaN</td>\n",
       "    </tr>\n",
       "    <tr>\n",
       "      <th>Mokelo (Fpl. 213)</th>\n",
       "      <td>5.0</td>\n",
       "      <td>NaN</td>\n",
       "    </tr>\n",
       "    <tr>\n",
       "      <th>Ngbanja (Fpl. 199)</th>\n",
       "      <td>2.0</td>\n",
       "      <td>8.0</td>\n",
       "    </tr>\n",
       "    <tr>\n",
       "      <th>Nzambi (Fpl. 205)</th>\n",
       "      <td>14.0</td>\n",
       "      <td>8.0</td>\n",
       "    </tr>\n",
       "    <tr>\n",
       "      <th>Ouesso (Fpl. 265)</th>\n",
       "      <td>NaN</td>\n",
       "      <td>2.0</td>\n",
       "    </tr>\n",
       "    <tr>\n",
       "      <th>Pandama (Fpl. 276)</th>\n",
       "      <td>NaN</td>\n",
       "      <td>1.0</td>\n",
       "    </tr>\n",
       "    <tr>\n",
       "      <th>Pikunda (Fpl. 255)</th>\n",
       "      <td>NaN</td>\n",
       "      <td>1.0</td>\n",
       "    </tr>\n",
       "  </tbody>\n",
       "</table>\n",
       "</div>"
      ],
      "text/plain": [
       "Typ                        BTM  NGB\n",
       "name                               \n",
       "Bomboko (Fpl. 210)         2.0  NaN\n",
       "Dongo (Fpl. 202)          24.0  NaN\n",
       "Libenge (Fpl. 208)         1.0  NaN\n",
       "Maluba (Fpl. 230)        127.0  NaN\n",
       "Maoko (Fpl. 207)           2.0  NaN\n",
       "Matoto (Fpl. 264)          NaN  1.0\n",
       "Mbati-Ngombe (Fpl. 204)    1.0  NaN\n",
       "Mokelo (Fpl. 213)          5.0  NaN\n",
       "Ngbanja (Fpl. 199)         2.0  8.0\n",
       "Nzambi (Fpl. 205)         14.0  8.0\n",
       "Ouesso (Fpl. 265)          NaN  2.0\n",
       "Pandama (Fpl. 276)         NaN  1.0\n",
       "Pikunda (Fpl. 255)         NaN  1.0"
      ]
     },
     "execution_count": 22,
     "metadata": {},
     "output_type": "execute_result"
    }
   ],
   "source": [
    "df.pivot_table(values = 'Anzahl', index = 'name', columns = 'Typ', aggfunc = sum)"
   ]
  },
  {
   "cell_type": "markdown",
   "metadata": {
    "collapsed": true
   },
   "source": [
    "## Tafeln"
   ]
  },
  {
   "cell_type": "code",
   "execution_count": 4,
   "metadata": {},
   "outputs": [
    {
     "data": {
      "text/html": [
       "<div>\n",
       "<table border=\"1\" class=\"dataframe\">\n",
       "  <thead>\n",
       "    <tr style=\"text-align: right;\">\n",
       "      <th></th>\n",
       "      <th>TAF</th>\n",
       "      <th>OBJ</th>\n",
       "      <th>SITE</th>\n",
       "      <th>FEAT</th>\n",
       "      <th>NOTE</th>\n",
       "      <th>IND</th>\n",
       "      <th>Typ</th>\n",
       "      <th>Form_Gef</th>\n",
       "      <th>Form_Rand</th>\n",
       "      <th>Form_Boden</th>\n",
       "    </tr>\n",
       "  </thead>\n",
       "  <tbody>\n",
       "    <tr>\n",
       "      <th>0</th>\n",
       "      <td>5</td>\n",
       "      <td>7</td>\n",
       "      <td>EBE</td>\n",
       "      <td>85/101</td>\n",
       "      <td>NaN</td>\n",
       "      <td>1</td>\n",
       "      <td>NGB/BTM (?)</td>\n",
       "      <td>D1</td>\n",
       "      <td>B2</td>\n",
       "      <td>None</td>\n",
       "    </tr>\n",
       "    <tr>\n",
       "      <th>1</th>\n",
       "      <td>6</td>\n",
       "      <td>6</td>\n",
       "      <td>NGB</td>\n",
       "      <td>85/101</td>\n",
       "      <td>NaN</td>\n",
       "      <td>133</td>\n",
       "      <td>NGB</td>\n",
       "      <td>G3</td>\n",
       "      <td>B3.1 (?)</td>\n",
       "      <td>None</td>\n",
       "    </tr>\n",
       "    <tr>\n",
       "      <th>2</th>\n",
       "      <td>6</td>\n",
       "      <td>7</td>\n",
       "      <td>NGB</td>\n",
       "      <td>85/101</td>\n",
       "      <td>NaN</td>\n",
       "      <td>130</td>\n",
       "      <td>NGB</td>\n",
       "      <td>C1</td>\n",
       "      <td>B1/B2</td>\n",
       "      <td>None</td>\n",
       "    </tr>\n",
       "    <tr>\n",
       "      <th>3</th>\n",
       "      <td>6</td>\n",
       "      <td>8</td>\n",
       "      <td>NGB</td>\n",
       "      <td>85/101</td>\n",
       "      <td>NaN</td>\n",
       "      <td>131</td>\n",
       "      <td>NGB</td>\n",
       "      <td>C1</td>\n",
       "      <td>B1</td>\n",
       "      <td>B1</td>\n",
       "    </tr>\n",
       "    <tr>\n",
       "      <th>4</th>\n",
       "      <td>6</td>\n",
       "      <td>9</td>\n",
       "      <td>NGB</td>\n",
       "      <td>85/101</td>\n",
       "      <td>NaN</td>\n",
       "      <td>142</td>\n",
       "      <td>NGB</td>\n",
       "      <td>None</td>\n",
       "      <td>None</td>\n",
       "      <td>None</td>\n",
       "    </tr>\n",
       "    <tr>\n",
       "      <th>5</th>\n",
       "      <td>6</td>\n",
       "      <td>10</td>\n",
       "      <td>NGB</td>\n",
       "      <td>85/101</td>\n",
       "      <td>NaN</td>\n",
       "      <td>132</td>\n",
       "      <td>NGB</td>\n",
       "      <td>C1 (?)</td>\n",
       "      <td>None</td>\n",
       "      <td>None</td>\n",
       "    </tr>\n",
       "    <tr>\n",
       "      <th>6</th>\n",
       "      <td>7</td>\n",
       "      <td>1</td>\n",
       "      <td>NGB</td>\n",
       "      <td>85/101</td>\n",
       "      <td>NaN</td>\n",
       "      <td>62</td>\n",
       "      <td>NGB</td>\n",
       "      <td>G3/G7 (?)</td>\n",
       "      <td>None</td>\n",
       "      <td>None</td>\n",
       "    </tr>\n",
       "    <tr>\n",
       "      <th>7</th>\n",
       "      <td>15</td>\n",
       "      <td>2</td>\n",
       "      <td>MAO</td>\n",
       "      <td>85/101</td>\n",
       "      <td>NaN</td>\n",
       "      <td>47</td>\n",
       "      <td>NGB (?)</td>\n",
       "      <td>None</td>\n",
       "      <td>B1.1</td>\n",
       "      <td>None</td>\n",
       "    </tr>\n",
       "    <tr>\n",
       "      <th>8</th>\n",
       "      <td>27</td>\n",
       "      <td>6</td>\n",
       "      <td>MLB</td>\n",
       "      <td>85/1-3-2</td>\n",
       "      <td>NaN</td>\n",
       "      <td>-5:35</td>\n",
       "      <td>NGB (?)</td>\n",
       "      <td>H2 (?)</td>\n",
       "      <td>C1/C3</td>\n",
       "      <td>None</td>\n",
       "    </tr>\n",
       "    <tr>\n",
       "      <th>9</th>\n",
       "      <td>47</td>\n",
       "      <td>19</td>\n",
       "      <td>PIK</td>\n",
       "      <td>87/1</td>\n",
       "      <td>NaN</td>\n",
       "      <td>-9:7</td>\n",
       "      <td>NGB (?)</td>\n",
       "      <td>None</td>\n",
       "      <td>None</td>\n",
       "      <td>None</td>\n",
       "    </tr>\n",
       "    <tr>\n",
       "      <th>10</th>\n",
       "      <td>47</td>\n",
       "      <td>20</td>\n",
       "      <td>PIK</td>\n",
       "      <td>87/1</td>\n",
       "      <td>NaN</td>\n",
       "      <td>-8:1</td>\n",
       "      <td>NGB</td>\n",
       "      <td>C1 (?)</td>\n",
       "      <td>None</td>\n",
       "      <td>None</td>\n",
       "    </tr>\n",
       "    <tr>\n",
       "      <th>11</th>\n",
       "      <td>47</td>\n",
       "      <td>21</td>\n",
       "      <td>PIK</td>\n",
       "      <td>87/1</td>\n",
       "      <td>NaN</td>\n",
       "      <td>-8:2</td>\n",
       "      <td>NGB (?)</td>\n",
       "      <td>None</td>\n",
       "      <td>None</td>\n",
       "      <td>None</td>\n",
       "    </tr>\n",
       "    <tr>\n",
       "      <th>12</th>\n",
       "      <td>54</td>\n",
       "      <td>16</td>\n",
       "      <td>PIK</td>\n",
       "      <td>87/101</td>\n",
       "      <td>NaN</td>\n",
       "      <td>17, 129</td>\n",
       "      <td>NGB (?)</td>\n",
       "      <td>G3/G7 (?)</td>\n",
       "      <td>None</td>\n",
       "      <td>None</td>\n",
       "    </tr>\n",
       "    <tr>\n",
       "      <th>13</th>\n",
       "      <td>55</td>\n",
       "      <td>2</td>\n",
       "      <td>PIK</td>\n",
       "      <td>87/101</td>\n",
       "      <td>NaN</td>\n",
       "      <td>168</td>\n",
       "      <td>NGB/KON (?)</td>\n",
       "      <td>None</td>\n",
       "      <td>B1.1</td>\n",
       "      <td>None</td>\n",
       "    </tr>\n",
       "    <tr>\n",
       "      <th>14</th>\n",
       "      <td>58</td>\n",
       "      <td>13</td>\n",
       "      <td>IKM</td>\n",
       "      <td>87/101</td>\n",
       "      <td>NaN</td>\n",
       "      <td>14</td>\n",
       "      <td>NGB (?)</td>\n",
       "      <td>None</td>\n",
       "      <td>B1/B2</td>\n",
       "      <td>None</td>\n",
       "    </tr>\n",
       "    <tr>\n",
       "      <th>15</th>\n",
       "      <td>58</td>\n",
       "      <td>14</td>\n",
       "      <td>IKM</td>\n",
       "      <td>87/101</td>\n",
       "      <td>NaN</td>\n",
       "      <td>1</td>\n",
       "      <td>NGB (?)</td>\n",
       "      <td>None</td>\n",
       "      <td>B1/B2</td>\n",
       "      <td>None</td>\n",
       "    </tr>\n",
       "    <tr>\n",
       "      <th>16</th>\n",
       "      <td>58</td>\n",
       "      <td>15</td>\n",
       "      <td>IKM</td>\n",
       "      <td>87/101</td>\n",
       "      <td>NaN</td>\n",
       "      <td>5</td>\n",
       "      <td>NGB (?)</td>\n",
       "      <td>None</td>\n",
       "      <td>B1/B2</td>\n",
       "      <td>None</td>\n",
       "    </tr>\n",
       "    <tr>\n",
       "      <th>17</th>\n",
       "      <td>58</td>\n",
       "      <td>16</td>\n",
       "      <td>IKM</td>\n",
       "      <td>87/101</td>\n",
       "      <td>NaN</td>\n",
       "      <td>8</td>\n",
       "      <td>NGB (?)</td>\n",
       "      <td>None</td>\n",
       "      <td>B1/B2</td>\n",
       "      <td>None</td>\n",
       "    </tr>\n",
       "    <tr>\n",
       "      <th>18</th>\n",
       "      <td>58</td>\n",
       "      <td>22</td>\n",
       "      <td>IKM</td>\n",
       "      <td>87/101</td>\n",
       "      <td>NaN</td>\n",
       "      <td>43</td>\n",
       "      <td>NGB (?)</td>\n",
       "      <td>None</td>\n",
       "      <td>None</td>\n",
       "      <td>None</td>\n",
       "    </tr>\n",
       "    <tr>\n",
       "      <th>19</th>\n",
       "      <td>59</td>\n",
       "      <td>5</td>\n",
       "      <td>IKM</td>\n",
       "      <td>87/101</td>\n",
       "      <td>NaN</td>\n",
       "      <td>12</td>\n",
       "      <td>NGB (?)</td>\n",
       "      <td>None</td>\n",
       "      <td>B1/B2</td>\n",
       "      <td>None</td>\n",
       "    </tr>\n",
       "    <tr>\n",
       "      <th>20</th>\n",
       "      <td>59</td>\n",
       "      <td>25</td>\n",
       "      <td>MOS</td>\n",
       "      <td>87/101</td>\n",
       "      <td>NaN</td>\n",
       "      <td>2</td>\n",
       "      <td>NGB (?)</td>\n",
       "      <td>None</td>\n",
       "      <td>A1/B1</td>\n",
       "      <td>None</td>\n",
       "    </tr>\n",
       "    <tr>\n",
       "      <th>21</th>\n",
       "      <td>60</td>\n",
       "      <td>14</td>\n",
       "      <td>MAT</td>\n",
       "      <td>87/101</td>\n",
       "      <td>NaN</td>\n",
       "      <td>28</td>\n",
       "      <td>NGB</td>\n",
       "      <td>C1</td>\n",
       "      <td>None</td>\n",
       "      <td>None</td>\n",
       "    </tr>\n",
       "    <tr>\n",
       "      <th>22</th>\n",
       "      <td>60</td>\n",
       "      <td>16</td>\n",
       "      <td>MAT</td>\n",
       "      <td>87/101</td>\n",
       "      <td>NaN</td>\n",
       "      <td>21</td>\n",
       "      <td>NGB (?)</td>\n",
       "      <td>C1 (?)</td>\n",
       "      <td>None</td>\n",
       "      <td>None</td>\n",
       "    </tr>\n",
       "    <tr>\n",
       "      <th>23</th>\n",
       "      <td>66</td>\n",
       "      <td>4</td>\n",
       "      <td>PDM</td>\n",
       "      <td>87/102</td>\n",
       "      <td>NaN</td>\n",
       "      <td>5</td>\n",
       "      <td>NGB (?)</td>\n",
       "      <td>None</td>\n",
       "      <td>None</td>\n",
       "      <td>None</td>\n",
       "    </tr>\n",
       "  </tbody>\n",
       "</table>\n",
       "</div>"
      ],
      "text/plain": [
       "    TAF  OBJ SITE      FEAT NOTE      IND          Typ   Form_Gef Form_Rand  \\\n",
       "0     5    7  EBE    85/101  NaN        1  NGB/BTM (?)         D1        B2   \n",
       "1     6    6  NGB    85/101  NaN      133          NGB         G3  B3.1 (?)   \n",
       "2     6    7  NGB    85/101  NaN      130          NGB         C1     B1/B2   \n",
       "3     6    8  NGB    85/101  NaN      131          NGB         C1        B1   \n",
       "4     6    9  NGB    85/101  NaN      142          NGB       None      None   \n",
       "5     6   10  NGB    85/101  NaN      132          NGB     C1 (?)      None   \n",
       "6     7    1  NGB    85/101  NaN       62          NGB  G3/G7 (?)      None   \n",
       "7    15    2  MAO    85/101  NaN       47      NGB (?)       None      B1.1   \n",
       "8    27    6  MLB  85/1-3-2  NaN    -5:35      NGB (?)     H2 (?)     C1/C3   \n",
       "9    47   19  PIK      87/1  NaN     -9:7      NGB (?)       None      None   \n",
       "10   47   20  PIK      87/1  NaN     -8:1          NGB     C1 (?)      None   \n",
       "11   47   21  PIK      87/1  NaN     -8:2      NGB (?)       None      None   \n",
       "12   54   16  PIK    87/101  NaN  17, 129      NGB (?)  G3/G7 (?)      None   \n",
       "13   55    2  PIK    87/101  NaN      168  NGB/KON (?)       None      B1.1   \n",
       "14   58   13  IKM    87/101  NaN       14      NGB (?)       None     B1/B2   \n",
       "15   58   14  IKM    87/101  NaN        1      NGB (?)       None     B1/B2   \n",
       "16   58   15  IKM    87/101  NaN        5      NGB (?)       None     B1/B2   \n",
       "17   58   16  IKM    87/101  NaN        8      NGB (?)       None     B1/B2   \n",
       "18   58   22  IKM    87/101  NaN       43      NGB (?)       None      None   \n",
       "19   59    5  IKM    87/101  NaN       12      NGB (?)       None     B1/B2   \n",
       "20   59   25  MOS    87/101  NaN        2      NGB (?)       None     A1/B1   \n",
       "21   60   14  MAT    87/101  NaN       28          NGB         C1      None   \n",
       "22   60   16  MAT    87/101  NaN       21      NGB (?)     C1 (?)      None   \n",
       "23   66    4  PDM    87/102  NaN        5      NGB (?)       None      None   \n",
       "\n",
       "   Form_Boden  \n",
       "0        None  \n",
       "1        None  \n",
       "2        None  \n",
       "3          B1  \n",
       "4        None  \n",
       "5        None  \n",
       "6        None  \n",
       "7        None  \n",
       "8        None  \n",
       "9        None  \n",
       "10       None  \n",
       "11       None  \n",
       "12       None  \n",
       "13       None  \n",
       "14       None  \n",
       "15       None  \n",
       "16       None  \n",
       "17       None  \n",
       "18       None  \n",
       "19       None  \n",
       "20       None  \n",
       "21       None  \n",
       "22       None  \n",
       "23       None  "
      ]
     },
     "execution_count": 4,
     "metadata": {},
     "output_type": "execute_result"
    }
   ],
   "source": [
    "sql = \"\"\"SELECT\n",
    "           t_Ort.ort_kurz AS SITE,\n",
    "           t_Komplex.bef_nr AS FEAT,\n",
    "           t_Obj.Individuum AS IND,\n",
    "           t_Obj.Typ,\n",
    "           t_Obj.Form_Gef,\n",
    "           t_Obj.Form_Rand,\n",
    "           t_Obj.Form_Boden\n",
    "       FROM (t_Ort INNER JOIN t_Komplex ON t_Ort.ortID = t_Komplex.ortID)\n",
    "           INNER JOIN t_Obj ON t_Komplex.komplexID = t_Obj.komplexID\n",
    "       WHERE (((t_Ort.ort_lit) = 'DS')\n",
    "           AND ((t_Obj.Typ) Like '%\"\"\"+style+\"\"\"%'))\"\"\".replace('\\n',' ')\n",
    "\n",
    "df = pd.read_sql(sql, con)\n",
    "\n",
    "pl = pd.read_csv('../plates/plates.csv')\n",
    "\n",
    "df_merge = pd.merge(pl, df, on=['SITE', 'FEAT', 'IND'], how='inner')\n",
    "df_merge"
   ]
  },
  {
   "cell_type": "code",
   "execution_count": null,
   "metadata": {
    "collapsed": true
   },
   "outputs": [],
   "source": []
  }
 ],
 "metadata": {
  "anaconda-cloud": {},
  "kernelspec": {
   "display_name": "Python 3",
   "language": "python",
   "name": "python3"
  },
  "language_info": {
   "codemirror_mode": {
    "name": "ipython",
    "version": 3
   },
   "file_extension": ".py",
   "mimetype": "text/x-python",
   "name": "python",
   "nbconvert_exporter": "python",
   "pygments_lexer": "ipython3",
   "version": "3.6.1"
  }
 },
 "nbformat": 4,
 "nbformat_minor": 1
}
