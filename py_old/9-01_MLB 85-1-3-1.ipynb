{
 "cells": [
  {
   "cell_type": "markdown",
   "metadata": {},
   "source": [
    "# MLB 85/1-3-1"
   ]
  },
  {
   "cell_type": "markdown",
   "metadata": {},
   "source": [
    "* [Verteilung der Funde](#Verteilung-der-Funde)\n",
    "* [Keramische Stilgruppen](#Keramische-Stilgruppen)"
   ]
  },
  {
   "cell_type": "code",
   "execution_count": 1,
   "metadata": {},
   "outputs": [],
   "source": [
    "%matplotlib inline\n",
    "from IPython.display import display\n",
    "import pandas as pd\n",
    "import numpy as np\n",
    "import matplotlib.pyplot as plt\n",
    "import matplotlib.ticker as mtick\n",
    "import sqlite3\n",
    "# pd.options.display.mpl_style = 'default'\n",
    "\n",
    "con = sqlite3.connect(\"../data/CongoDB.sqlite\")"
   ]
  },
  {
   "cell_type": "markdown",
   "metadata": {},
   "source": [
    "## Verteilung der Funde"
   ]
  },
  {
   "cell_type": "code",
   "execution_count": 2,
   "metadata": {},
   "outputs": [
    {
     "name": "stderr",
     "output_type": "stream",
     "text": [
      "C:\\Users\\DirkSeidenticker\\Anaconda3\\lib\\site-packages\\IPython\\kernel\\__main__.py:17: FutureWarning: convert_objects is deprecated.  Use the data-type specific converters pd.to_datetime, pd.to_timedelta and pd.to_numeric.\n",
      "C:\\Users\\DirkSeidenticker\\Anaconda3\\lib\\site-packages\\IPython\\kernel\\__main__.py:18: FutureWarning: convert_objects is deprecated.  Use the data-type specific converters pd.to_datetime, pd.to_timedelta and pd.to_numeric.\n",
      "C:\\Users\\DirkSeidenticker\\Anaconda3\\lib\\site-packages\\IPython\\kernel\\__main__.py:19: FutureWarning: convert_objects is deprecated.  Use the data-type specific converters pd.to_datetime, pd.to_timedelta and pd.to_numeric.\n"
     ]
    },
    {
     "data": {
      "text/html": [
       "<div>\n",
       "<table border=\"1\" class=\"dataframe\">\n",
       "  <thead>\n",
       "    <tr style=\"text-align: right;\">\n",
       "      <th></th>\n",
       "      <th>ort_kurz</th>\n",
       "      <th>Komplex</th>\n",
       "      <th>Individuum</th>\n",
       "      <th>Typ</th>\n",
       "      <th>Anzahl</th>\n",
       "      <th>Gewicht</th>\n",
       "      <th>Gr_Clist</th>\n",
       "      <th>Art</th>\n",
       "      <th>Tiefe</th>\n",
       "    </tr>\n",
       "  </thead>\n",
       "  <tbody>\n",
       "    <tr>\n",
       "      <th>0</th>\n",
       "      <td>MLB</td>\n",
       "      <td>85/1</td>\n",
       "      <td>-3-1-1:18, 31</td>\n",
       "      <td>BatMLB</td>\n",
       "      <td>1</td>\n",
       "      <td>156</td>\n",
       "      <td>120</td>\n",
       "      <td>K</td>\n",
       "      <td>0,9</td>\n",
       "    </tr>\n",
       "    <tr>\n",
       "      <th>1</th>\n",
       "      <td>MLB</td>\n",
       "      <td>85/1</td>\n",
       "      <td>-1:58</td>\n",
       "      <td>BatMLB</td>\n",
       "      <td>1</td>\n",
       "      <td>26</td>\n",
       "      <td>70</td>\n",
       "      <td>K</td>\n",
       "      <td>0,5</td>\n",
       "    </tr>\n",
       "    <tr>\n",
       "      <th>2</th>\n",
       "      <td>MLB</td>\n",
       "      <td>85/1</td>\n",
       "      <td>-1:84</td>\n",
       "      <td>DON (?)</td>\n",
       "      <td>1</td>\n",
       "      <td>54</td>\n",
       "      <td>120</td>\n",
       "      <td>K</td>\n",
       "      <td>0,5</td>\n",
       "    </tr>\n",
       "    <tr>\n",
       "      <th>3</th>\n",
       "      <td>MLB</td>\n",
       "      <td>85/1</td>\n",
       "      <td>-1:87</td>\n",
       "      <td></td>\n",
       "      <td>1</td>\n",
       "      <td>76</td>\n",
       "      <td>120</td>\n",
       "      <td>K</td>\n",
       "      <td>0,5</td>\n",
       "    </tr>\n",
       "    <tr>\n",
       "      <th>4</th>\n",
       "      <td>MLB</td>\n",
       "      <td>85/1</td>\n",
       "      <td>-2:3</td>\n",
       "      <td>BatMLB</td>\n",
       "      <td>1</td>\n",
       "      <td>35</td>\n",
       "      <td>70</td>\n",
       "      <td>K</td>\n",
       "      <td>0,65</td>\n",
       "    </tr>\n",
       "  </tbody>\n",
       "</table>\n",
       "</div>"
      ],
      "text/plain": [
       "  ort_kurz Komplex     Individuum      Typ  Anzahl  Gewicht Gr_Clist Art Tiefe\n",
       "0      MLB    85/1  -3-1-1:18, 31   BatMLB       1      156      120   K   0,9\n",
       "1      MLB    85/1          -1:58   BatMLB       1       26       70   K   0,5\n",
       "2      MLB    85/1          -1:84  DON (?)       1       54      120   K   0,5\n",
       "3      MLB    85/1          -1:87                1       76      120   K   0,5\n",
       "4      MLB    85/1           -2:3   BatMLB       1       35       70   K  0,65"
      ]
     },
     "metadata": {},
     "output_type": "display_data"
    }
   ],
   "source": [
    "sql = \"\"\"SELECT\n",
    "           t_Obj.ort_kurz, \n",
    "           t_Obj.Komplex, \n",
    "           t_Obj.Individuum, \n",
    "           t_Obj.Typ, \n",
    "           t_Obj.Anzahl,\n",
    "           t_Obj.Gewicht,\n",
    "           t_Obj.Gr_Clist, \n",
    "           t_Obj.Art,\n",
    "           t_Obj.Tiefe \n",
    "       FROM (t_Ort INNER JOIN t_Komplex ON t_Ort.ortID = t_Komplex.ortID)\n",
    "           INNER JOIN t_Obj ON t_Komplex.komplexID = t_Obj.komplexID\n",
    "       WHERE (((t_Ort.ort_kurz) = 'MLB')\n",
    "           AND ((t_Komplex.bef_nr) = '85/1-3-1'))\"\"\".replace('\\n',' ')\n",
    "\n",
    "df = pd.read_sql(sql, con)\n",
    "df['Anzahl'] = df['Anzahl'].convert_objects(convert_numeric=True)\n",
    "df['Gewicht'] = df['Gewicht'].convert_objects(convert_numeric=True)\n",
    "df['Tiefe'] = df['Tiefe'].convert_objects(convert_numeric=True)\n",
    "df['Tiefe'] = df['Tiefe'].replace('', np.nan) \n",
    "df = df.dropna(subset=['Tiefe'])\n",
    "display(df.head())"
   ]
  },
  {
   "cell_type": "code",
   "execution_count": 3,
   "metadata": {},
   "outputs": [
    {
     "data": {
      "text/html": [
       "<div>\n",
       "<table border=\"1\" class=\"dataframe\">\n",
       "  <thead>\n",
       "    <tr style=\"text-align: right;\">\n",
       "      <th>Art</th>\n",
       "      <th>Hüttenlehm</th>\n",
       "      <th>Keramik</th>\n",
       "      <th>Stein</th>\n",
       "    </tr>\n",
       "    <tr>\n",
       "      <th>Tiefe</th>\n",
       "      <th></th>\n",
       "      <th></th>\n",
       "      <th></th>\n",
       "    </tr>\n",
       "  </thead>\n",
       "  <tbody>\n",
       "    <tr>\n",
       "      <th>0,5</th>\n",
       "      <td>0</td>\n",
       "      <td>1392</td>\n",
       "      <td>0</td>\n",
       "    </tr>\n",
       "    <tr>\n",
       "      <th>0,65</th>\n",
       "      <td>96</td>\n",
       "      <td>768</td>\n",
       "      <td>108</td>\n",
       "    </tr>\n",
       "    <tr>\n",
       "      <th>0,75</th>\n",
       "      <td>0</td>\n",
       "      <td>306</td>\n",
       "      <td>0</td>\n",
       "    </tr>\n",
       "    <tr>\n",
       "      <th>0,9</th>\n",
       "      <td>0</td>\n",
       "      <td>838</td>\n",
       "      <td>0</td>\n",
       "    </tr>\n",
       "    <tr>\n",
       "      <th>1,05</th>\n",
       "      <td>0</td>\n",
       "      <td>974</td>\n",
       "      <td>0</td>\n",
       "    </tr>\n",
       "    <tr>\n",
       "      <th>1,2</th>\n",
       "      <td>0</td>\n",
       "      <td>116</td>\n",
       "      <td>0</td>\n",
       "    </tr>\n",
       "    <tr>\n",
       "      <th>1,39</th>\n",
       "      <td>0</td>\n",
       "      <td>96</td>\n",
       "      <td>0</td>\n",
       "    </tr>\n",
       "  </tbody>\n",
       "</table>\n",
       "</div>"
      ],
      "text/plain": [
       "Art    Hüttenlehm  Keramik  Stein\n",
       "Tiefe                            \n",
       "0,5             0     1392      0\n",
       "0,65           96      768    108\n",
       "0,75            0      306      0\n",
       "0,9             0      838      0\n",
       "1,05            0      974      0\n",
       "1,2             0      116      0\n",
       "1,39            0       96      0"
      ]
     },
     "execution_count": 3,
     "metadata": {},
     "output_type": "execute_result"
    }
   ],
   "source": [
    "df_pivot = df.pivot_table(values = 'Gewicht', index = 'Tiefe', columns = 'Art', aggfunc = sum, fill_value = 0)\n",
    "df_pivot.rename(columns={'HL': 'Hüttenlehm', 'K': 'Keramik'}, inplace=True)\n",
    "df_pivot"
   ]
  },
  {
   "cell_type": "code",
   "execution_count": 64,
   "metadata": {},
   "outputs": [
    {
     "data": {
      "image/png": "[encoded data removed]",
      "text/plain": [
       "<matplotlib.figure.Figure at 0xeae518>"
      ]
     },
     "metadata": {},
     "output_type": "display_data"
    }
   ],
   "source": [
    "axes = df_pivot.plot(kind = 'barh', stacked=True, cmap = 'Greys')\n",
    "plt.xlabel('Gewicht [g]')\n",
    "plt.ylabel('Tiefe [cm u. Obfl.]')\n",
    "xlim = axes.get_xlim()\n",
    "ylim = axes.get_ylim()\n",
    "plt.gca().invert_yaxis()\n",
    "# plt.gca().set_aspect(200)\n",
    "plt.gca().set_aspect((abs(xlim[0]) + abs(xlim[1])) / (abs(ylim[0]) + abs(ylim[1])))\n",
    "lgd = plt.legend(bbox_to_anchor=(0.5, -0.2), loc = 9, ncol=2, borderaxespad = 0.)\n",
    "plt.tight_layout()\n",
    "plt.savefig('../output/figs/9-1_MLB85-131_VerteilungFunde.pdf', bbox_extra_artists=(lgd,), bbox_inches='tight')\n",
    "plt.show()"
   ]
  },
  {
   "cell_type": "markdown",
   "metadata": {},
   "source": [
    "> **MLB 85/1-3-1** Fundverteilung'"
   ]
  },
  {
   "cell_type": "code",
   "execution_count": 65,
   "metadata": {},
   "outputs": [
    {
     "data": {
      "text/html": [
       "<div>\n",
       "<table border=\"1\" class=\"dataframe\">\n",
       "  <thead>\n",
       "    <tr style=\"text-align: right;\">\n",
       "      <th></th>\n",
       "      <th>Fundkategorie</th>\n",
       "      <th>Anzahl</th>\n",
       "      <th>\\%</th>\n",
       "      <th>Gewicht (kg)</th>\n",
       "      <th>\\%</th>\n",
       "    </tr>\n",
       "  </thead>\n",
       "  <tbody>\n",
       "    <tr>\n",
       "      <th>0</th>\n",
       "      <td>gebrannter Lehm</td>\n",
       "      <td>1</td>\n",
       "      <td>0.3</td>\n",
       "      <td>0.10</td>\n",
       "      <td>2.0</td>\n",
       "    </tr>\n",
       "    <tr>\n",
       "      <th>1</th>\n",
       "      <td>Keramik</td>\n",
       "      <td>305</td>\n",
       "      <td>99.0</td>\n",
       "      <td>4.49</td>\n",
       "      <td>95.7</td>\n",
       "    </tr>\n",
       "    <tr>\n",
       "      <th>2</th>\n",
       "      <td>Stein</td>\n",
       "      <td>2</td>\n",
       "      <td>0.6</td>\n",
       "      <td>0.11</td>\n",
       "      <td>2.3</td>\n",
       "    </tr>\n",
       "  </tbody>\n",
       "</table>\n",
       "</div>"
      ],
      "text/plain": [
       "     Fundkategorie  Anzahl    \\%  Gewicht (kg)    \\%\n",
       "0  gebrannter Lehm       1   0.3          0.10   2.0\n",
       "1          Keramik     305  99.0          4.49  95.7\n",
       "2            Stein       2   0.6          0.11   2.3"
      ]
     },
     "execution_count": 65,
     "metadata": {},
     "output_type": "execute_result"
    }
   ],
   "source": [
    "df_pivot1 = df.pivot_table(values = 'Gewicht', index = 'Art', aggfunc = sum, fill_value = 0)\n",
    "df_pivot1 = pd.DataFrame(df_pivot1)\n",
    "# df_pivot1 = df_pivot1.reset_index()\n",
    "df_pivot1.rename(index={'HL': 'gebrannter Lehm', 'K': 'Keramik'}, inplace=True)\n",
    "df_pivot1['\\%'] = (df_pivot1['Gewicht']/df_pivot1['Gewicht'].sum()*100).round(1)\n",
    "df_pivot1['Gewicht'] = (df_pivot1['Gewicht'] / 1000).round(2)\n",
    "df_pivot1.rename(columns={'Gewicht': 'Gewicht (kg)'}, inplace=True)\n",
    "\n",
    "df_pivot2 = df.pivot_table(values = 'Anzahl', index = 'Art', aggfunc = sum, fill_value = 0)\n",
    "df_pivot2 = pd.DataFrame(df_pivot2)\n",
    "df_pivot2.rename(index={'HL': 'gebrannter Lehm', 'K': 'Keramik'}, inplace=True)\n",
    "df_pivot2['\\%'] = (df_pivot2['Anzahl']/df_pivot2['Anzahl'].sum()*100).round(1)\n",
    "\n",
    "# Tabellen vereinen:\n",
    "df_concat = pd.concat([df_pivot2, df_pivot1], axis = 1)\n",
    "df_concat = df_concat.reset_index()\n",
    "df_concat.rename(columns={'Art': 'Fundkategorie'}, inplace=True)\n",
    "df_concat.to_latex('../output/tabs/9-01_MLB85-1-3-1_Funde.tex', index = False, escape = False)\n",
    "df_concat"
   ]
  },
  {
   "cell_type": "markdown",
   "metadata": {},
   "source": [
    "## Keramische Stilgruppen"
   ]
  },
  {
   "cell_type": "code",
   "execution_count": 66,
   "metadata": {},
   "outputs": [
    {
     "name": "stderr",
     "output_type": "stream",
     "text": [
      "C:\\Users\\DirkSeidenticker\\Anaconda3\\lib\\site-packages\\IPython\\kernel\\__main__.py:17: FutureWarning: convert_objects is deprecated.  Use the data-type specific converters pd.to_datetime, pd.to_timedelta and pd.to_numeric.\n"
     ]
    },
    {
     "data": {
      "text/html": [
       "<div>\n",
       "<table border=\"1\" class=\"dataframe\">\n",
       "  <thead>\n",
       "    <tr style=\"text-align: right;\">\n",
       "      <th></th>\n",
       "      <th>ort_kurz</th>\n",
       "      <th>Komplex</th>\n",
       "      <th>Individuum</th>\n",
       "      <th>Typ</th>\n",
       "      <th>Gewicht</th>\n",
       "      <th>Gr_Clist</th>\n",
       "      <th>Art</th>\n",
       "      <th>Tiefe</th>\n",
       "    </tr>\n",
       "  </thead>\n",
       "  <tbody>\n",
       "    <tr>\n",
       "      <th>0</th>\n",
       "      <td>MLB</td>\n",
       "      <td>85/1</td>\n",
       "      <td>-3-1-1:18, 31</td>\n",
       "      <td>BatMLB</td>\n",
       "      <td>156</td>\n",
       "      <td>120</td>\n",
       "      <td>K</td>\n",
       "      <td>0,9</td>\n",
       "    </tr>\n",
       "    <tr>\n",
       "      <th>1</th>\n",
       "      <td>MLB</td>\n",
       "      <td>85/1</td>\n",
       "      <td>-1:58</td>\n",
       "      <td>BatMLB</td>\n",
       "      <td>26</td>\n",
       "      <td>70</td>\n",
       "      <td>K</td>\n",
       "      <td>0,5</td>\n",
       "    </tr>\n",
       "    <tr>\n",
       "      <th>2</th>\n",
       "      <td>MLB</td>\n",
       "      <td>85/1</td>\n",
       "      <td>-1:84</td>\n",
       "      <td>DON (?)</td>\n",
       "      <td>54</td>\n",
       "      <td>120</td>\n",
       "      <td>K</td>\n",
       "      <td>0,5</td>\n",
       "    </tr>\n",
       "    <tr>\n",
       "      <th>3</th>\n",
       "      <td>MLB</td>\n",
       "      <td>85/1</td>\n",
       "      <td>-1:87</td>\n",
       "      <td>(?)</td>\n",
       "      <td>76</td>\n",
       "      <td>120</td>\n",
       "      <td>K</td>\n",
       "      <td>0,5</td>\n",
       "    </tr>\n",
       "    <tr>\n",
       "      <th>4</th>\n",
       "      <td>MLB</td>\n",
       "      <td>85/1</td>\n",
       "      <td>-2:3</td>\n",
       "      <td>BatMLB</td>\n",
       "      <td>35</td>\n",
       "      <td>70</td>\n",
       "      <td>K</td>\n",
       "      <td>0,65</td>\n",
       "    </tr>\n",
       "  </tbody>\n",
       "</table>\n",
       "</div>"
      ],
      "text/plain": [
       "  ort_kurz Komplex     Individuum      Typ  Gewicht Gr_Clist Art Tiefe\n",
       "0      MLB    85/1  -3-1-1:18, 31   BatMLB      156      120   K   0,9\n",
       "1      MLB    85/1          -1:58   BatMLB       26       70   K   0,5\n",
       "2      MLB    85/1          -1:84  DON (?)       54      120   K   0,5\n",
       "3      MLB    85/1          -1:87      (?)       76      120   K   0,5\n",
       "4      MLB    85/1           -2:3   BatMLB       35       70   K  0,65"
      ]
     },
     "metadata": {},
     "output_type": "display_data"
    }
   ],
   "source": [
    "sql = \"\"\"SELECT\n",
    "           t_Obj.ort_kurz, \n",
    "           t_Obj.Komplex, \n",
    "           t_Obj.Individuum, \n",
    "           t_Obj.Typ, \n",
    "           t_Obj.Gewicht,\n",
    "           t_Obj.Gr_Clist, \n",
    "           t_Obj.Art,\n",
    "           t_Obj.Tiefe \n",
    "       FROM (t_Ort INNER JOIN t_Komplex ON t_Ort.ortID = t_Komplex.ortID)\n",
    "           INNER JOIN t_Obj ON t_Komplex.komplexID = t_Obj.komplexID\n",
    "       WHERE (((t_Ort.ort_kurz) = 'MLB')\n",
    "           AND ((t_Komplex.bef_nr) = '85/1-3-1')\n",
    "           AND ((t_Obj.Art) = \"K\"))\"\"\".replace('\\n',' ')\n",
    "\n",
    "df = pd.read_sql(sql, con)\n",
    "df['Tiefe'] = df['Tiefe'].convert_objects(convert_numeric=True)\n",
    "# Leerstellen in 'Typ' ersetzen\n",
    "df['Typ'] = df['Typ'].replace('','(?)')\n",
    "df['Tiefe'] = df['Tiefe'].replace('', np.nan) \n",
    "df = df.dropna(subset=['Tiefe'])\n",
    "display(df.head())"
   ]
  },
  {
   "cell_type": "code",
   "execution_count": 67,
   "metadata": {},
   "outputs": [
    {
     "data": {
      "text/plain": [
       "4490"
      ]
     },
     "execution_count": 67,
     "metadata": {},
     "output_type": "execute_result"
    }
   ],
   "source": [
    "np.sum(df['Gewicht'])"
   ]
  },
  {
   "cell_type": "code",
   "execution_count": 68,
   "metadata": {},
   "outputs": [
    {
     "data": {
      "text/html": [
       "<div>\n",
       "<table border=\"1\" class=\"dataframe\">\n",
       "  <thead>\n",
       "    <tr style=\"text-align: right;\">\n",
       "      <th>Typ</th>\n",
       "      <th>(?)</th>\n",
       "      <th>BBL</th>\n",
       "      <th>BatMLB</th>\n",
       "      <th>BatMLB (?)</th>\n",
       "      <th>BatMLB / MDB (?)</th>\n",
       "      <th>DAM (?)</th>\n",
       "      <th>DON</th>\n",
       "      <th>DON (?)</th>\n",
       "      <th>MAT</th>\n",
       "      <th>MAT (?)</th>\n",
       "      <th>NGB (?)</th>\n",
       "    </tr>\n",
       "    <tr>\n",
       "      <th>Tiefe</th>\n",
       "      <th></th>\n",
       "      <th></th>\n",
       "      <th></th>\n",
       "      <th></th>\n",
       "      <th></th>\n",
       "      <th></th>\n",
       "      <th></th>\n",
       "      <th></th>\n",
       "      <th></th>\n",
       "      <th></th>\n",
       "      <th></th>\n",
       "    </tr>\n",
       "  </thead>\n",
       "  <tbody>\n",
       "    <tr>\n",
       "      <th>0,5</th>\n",
       "      <td>666</td>\n",
       "      <td>0</td>\n",
       "      <td>446</td>\n",
       "      <td>57</td>\n",
       "      <td>87</td>\n",
       "      <td>0</td>\n",
       "      <td>0</td>\n",
       "      <td>54</td>\n",
       "      <td>35</td>\n",
       "      <td>20</td>\n",
       "      <td>11</td>\n",
       "    </tr>\n",
       "    <tr>\n",
       "      <th>0,65</th>\n",
       "      <td>209</td>\n",
       "      <td>0</td>\n",
       "      <td>468</td>\n",
       "      <td>36</td>\n",
       "      <td>0</td>\n",
       "      <td>6</td>\n",
       "      <td>6</td>\n",
       "      <td>0</td>\n",
       "      <td>0</td>\n",
       "      <td>0</td>\n",
       "      <td>0</td>\n",
       "    </tr>\n",
       "    <tr>\n",
       "      <th>0,75</th>\n",
       "      <td>159</td>\n",
       "      <td>0</td>\n",
       "      <td>105</td>\n",
       "      <td>0</td>\n",
       "      <td>0</td>\n",
       "      <td>0</td>\n",
       "      <td>29</td>\n",
       "      <td>13</td>\n",
       "      <td>0</td>\n",
       "      <td>0</td>\n",
       "      <td>0</td>\n",
       "    </tr>\n",
       "    <tr>\n",
       "      <th>0,9</th>\n",
       "      <td>181</td>\n",
       "      <td>0</td>\n",
       "      <td>651</td>\n",
       "      <td>0</td>\n",
       "      <td>0</td>\n",
       "      <td>0</td>\n",
       "      <td>0</td>\n",
       "      <td>0</td>\n",
       "      <td>0</td>\n",
       "      <td>6</td>\n",
       "      <td>0</td>\n",
       "    </tr>\n",
       "    <tr>\n",
       "      <th>1,05</th>\n",
       "      <td>129</td>\n",
       "      <td>10</td>\n",
       "      <td>827</td>\n",
       "      <td>0</td>\n",
       "      <td>0</td>\n",
       "      <td>0</td>\n",
       "      <td>0</td>\n",
       "      <td>0</td>\n",
       "      <td>8</td>\n",
       "      <td>0</td>\n",
       "      <td>0</td>\n",
       "    </tr>\n",
       "    <tr>\n",
       "      <th>1,2</th>\n",
       "      <td>68</td>\n",
       "      <td>0</td>\n",
       "      <td>0</td>\n",
       "      <td>48</td>\n",
       "      <td>0</td>\n",
       "      <td>0</td>\n",
       "      <td>0</td>\n",
       "      <td>0</td>\n",
       "      <td>0</td>\n",
       "      <td>0</td>\n",
       "      <td>0</td>\n",
       "    </tr>\n",
       "    <tr>\n",
       "      <th>1,39</th>\n",
       "      <td>8</td>\n",
       "      <td>0</td>\n",
       "      <td>88</td>\n",
       "      <td>0</td>\n",
       "      <td>0</td>\n",
       "      <td>0</td>\n",
       "      <td>0</td>\n",
       "      <td>0</td>\n",
       "      <td>0</td>\n",
       "      <td>0</td>\n",
       "      <td>0</td>\n",
       "    </tr>\n",
       "  </tbody>\n",
       "</table>\n",
       "</div>"
      ],
      "text/plain": [
       "Typ    (?)  BBL  BatMLB  BatMLB (?)  BatMLB / MDB (?)  DAM (?)  DON  DON (?)  \\\n",
       "Tiefe                                                                          \n",
       "0,5    666    0     446          57                87        0    0       54   \n",
       "0,65   209    0     468          36                 0        6    6        0   \n",
       "0,75   159    0     105           0                 0        0   29       13   \n",
       "0,9    181    0     651           0                 0        0    0        0   \n",
       "1,05   129   10     827           0                 0        0    0        0   \n",
       "1,2     68    0       0          48                 0        0    0        0   \n",
       "1,39     8    0      88           0                 0        0    0        0   \n",
       "\n",
       "Typ    MAT  MAT (?)  NGB (?)  \n",
       "Tiefe                         \n",
       "0,5     35       20       11  \n",
       "0,65     0        0        0  \n",
       "0,75     0        0        0  \n",
       "0,9      0        6        0  \n",
       "1,05     8        0        0  \n",
       "1,2      0        0        0  \n",
       "1,39     0        0        0  "
      ]
     },
     "execution_count": 68,
     "metadata": {},
     "output_type": "execute_result"
    }
   ],
   "source": [
    "df_pivot = df.pivot_table(values = 'Gewicht', index = 'Tiefe', columns = 'Typ', aggfunc = sum, fill_value = 0)\n",
    "df_pivot"
   ]
  },
  {
   "cell_type": "markdown",
   "metadata": {},
   "source": [
    "> ToDo: evtl. Chronologieschema zur Abfolge der Stilgruppen in die DB ablegen"
   ]
  },
  {
   "cell_type": "code",
   "execution_count": 70,
   "metadata": {},
   "outputs": [
    {
     "data": {
      "image/png": "[encoded data removed]",
      "text/plain": [
       "<matplotlib.figure.Figure at 0x8cab588>"
      ]
     },
     "metadata": {},
     "output_type": "display_data"
    }
   ],
   "source": [
    "axes = df_pivot.plot(kind = 'barh', stacked=True, cmap = 'Paired')\n",
    "plt.xlabel('Gewicht [g]')\n",
    "plt.ylabel('Tiefe [cm u. Obfl.]')\n",
    "plt.gca().invert_yaxis()\n",
    "xlim = axes.get_xlim()\n",
    "ylim = axes.get_ylim()\n",
    "# plt.gca().set_aspect(200)\n",
    "plt.gca().set_aspect((abs(xlim[0]) + abs(xlim[1])) / (abs(ylim[0]) + abs(ylim[1])))\n",
    "lgd = plt.legend(bbox_to_anchor=(0.5, -0.2), loc = 9, ncol=2, borderaxespad = 0.)\n",
    "plt.tight_layout()\n",
    "plt.savefig('../output/figs/9-1_MLB85-131_KeramikStilgruppen.pdf', bbox_extra_artists=(lgd,), bbox_inches='tight')\n",
    "plt.show()"
   ]
  },
  {
   "cell_type": "markdown",
   "metadata": {},
   "source": [
    "> **MLB 85/1-3-1** keramische Stilgruppen"
   ]
  },
  {
   "cell_type": "code",
   "execution_count": 71,
   "metadata": {},
   "outputs": [
    {
     "data": {
      "image/png": "[encoded data removed]",
      "text/plain": [
       "<matplotlib.figure.Figure at 0x9811470>"
      ]
     },
     "metadata": {},
     "output_type": "display_data"
    }
   ],
   "source": [
    "df_pivot.plot(kind = 'line', cmap = 'Paired')\n",
    "plt.xlabel('Tiefe [cm u. Obfl.]')\n",
    "plt.ylabel('Gewicht [g]')\n",
    "lgd = plt.legend(bbox_to_anchor=(1.02, 1), loc = 2, borderaxespad = 0.)\n",
    "plt.tight_layout()\n",
    "plt.savefig('../output/figs/9-1_MLB85-131_KeramikStilgruppen_2.pdf', bbox_extra_artists=(lgd,), bbox_inches='tight')\n",
    "plt.show()"
   ]
  },
  {
   "cell_type": "markdown",
   "metadata": {},
   "source": [
    "> **MLB 85/1-3-1** keramische Stilgruppen"
   ]
  },
  {
   "cell_type": "code",
   "execution_count": 72,
   "metadata": {},
   "outputs": [
    {
     "data": {
      "image/png": "[encoded data removed]",
      "text/plain": [
       "<matplotlib.figure.Figure at 0xd75b70>"
      ]
     },
     "metadata": {},
     "output_type": "display_data"
    }
   ],
   "source": [
    "df_pivot.plot(kind = 'area', cmap = 'Paired')\n",
    "lgd = plt.legend(bbox_to_anchor=(1.02, 1), loc = 2, borderaxespad = 0.)"
   ]
  },
  {
   "cell_type": "markdown",
   "metadata": {},
   "source": [
    "## Fragmentierung"
   ]
  },
  {
   "cell_type": "code",
   "execution_count": 73,
   "metadata": {},
   "outputs": [
    {
     "name": "stderr",
     "output_type": "stream",
     "text": [
      "C:\\Users\\DirkSeidenticker\\Anaconda3\\lib\\site-packages\\IPython\\kernel\\__main__.py:14: FutureWarning: convert_objects is deprecated.  Use the data-type specific converters pd.to_datetime, pd.to_timedelta and pd.to_numeric.\n"
     ]
    },
    {
     "data": {
      "text/html": [
       "<div>\n",
       "<table border=\"1\" class=\"dataframe\">\n",
       "  <thead>\n",
       "    <tr style=\"text-align: right;\">\n",
       "      <th></th>\n",
       "      <th>objID</th>\n",
       "      <th>Gewicht</th>\n",
       "      <th>Gr_Clist</th>\n",
       "      <th>Tiefe</th>\n",
       "    </tr>\n",
       "  </thead>\n",
       "  <tbody>\n",
       "    <tr>\n",
       "      <th>0</th>\n",
       "      <td>266</td>\n",
       "      <td>156</td>\n",
       "      <td>120</td>\n",
       "      <td>0,9</td>\n",
       "    </tr>\n",
       "    <tr>\n",
       "      <th>1</th>\n",
       "      <td>267</td>\n",
       "      <td>26</td>\n",
       "      <td>70</td>\n",
       "      <td>0,5</td>\n",
       "    </tr>\n",
       "    <tr>\n",
       "      <th>2</th>\n",
       "      <td>268</td>\n",
       "      <td>54</td>\n",
       "      <td>120</td>\n",
       "      <td>0,5</td>\n",
       "    </tr>\n",
       "    <tr>\n",
       "      <th>3</th>\n",
       "      <td>269</td>\n",
       "      <td>76</td>\n",
       "      <td>120</td>\n",
       "      <td>0,5</td>\n",
       "    </tr>\n",
       "    <tr>\n",
       "      <th>4</th>\n",
       "      <td>271</td>\n",
       "      <td>35</td>\n",
       "      <td>70</td>\n",
       "      <td>0,65</td>\n",
       "    </tr>\n",
       "  </tbody>\n",
       "</table>\n",
       "</div>"
      ],
      "text/plain": [
       "   objID  Gewicht  Gr_Clist Tiefe\n",
       "0    266      156       120   0,9\n",
       "1    267       26        70   0,5\n",
       "2    268       54       120   0,5\n",
       "3    269       76       120   0,5\n",
       "4    271       35        70  0,65"
      ]
     },
     "metadata": {},
     "output_type": "display_data"
    }
   ],
   "source": [
    "sql = \"\"\"SELECT\n",
    "           t_Obj.objID, \n",
    "           t_Obj.Gewicht,\n",
    "           t_Obj.Gr_Clist, \n",
    "           t_Obj.Tiefe \n",
    "       FROM (t_Ort INNER JOIN t_Komplex ON t_Ort.ortID = t_Komplex.ortID)\n",
    "           INNER JOIN t_Obj ON t_Komplex.komplexID = t_Obj.komplexID\n",
    "       WHERE (((t_Ort.ort_kurz) = 'MLB')\n",
    "           AND ((t_Komplex.bef_nr) = '85/1-3-1')\n",
    "           AND ((t_Obj.Art) = \"K\")\n",
    "           AND ((t_Obj.Gr_Clist) != ''))\"\"\".replace('\\n',' ')\n",
    "\n",
    "df = pd.read_sql(sql, con)\n",
    "df['Tiefe'] = df['Tiefe'].convert_objects(convert_numeric=True)\n",
    "df['Tiefe'] = df['Tiefe'].replace('', np.nan) \n",
    "df = df.dropna(subset=['Tiefe'])\n",
    "display(df.head())"
   ]
  },
  {
   "cell_type": "code",
   "execution_count": 74,
   "metadata": {},
   "outputs": [
    {
     "data": {
      "text/html": [
       "<div>\n",
       "<table border=\"1\" class=\"dataframe\">\n",
       "  <thead>\n",
       "    <tr style=\"text-align: right;\">\n",
       "      <th>Gr_Clist</th>\n",
       "      <th>30</th>\n",
       "      <th>70</th>\n",
       "      <th>120</th>\n",
       "      <th>200</th>\n",
       "    </tr>\n",
       "    <tr>\n",
       "      <th>Tiefe</th>\n",
       "      <th></th>\n",
       "      <th></th>\n",
       "      <th></th>\n",
       "      <th></th>\n",
       "    </tr>\n",
       "  </thead>\n",
       "  <tbody>\n",
       "    <tr>\n",
       "      <th>0,5</th>\n",
       "      <td>8</td>\n",
       "      <td>30</td>\n",
       "      <td>3</td>\n",
       "      <td>0</td>\n",
       "    </tr>\n",
       "    <tr>\n",
       "      <th>0,65</th>\n",
       "      <td>3</td>\n",
       "      <td>18</td>\n",
       "      <td>1</td>\n",
       "      <td>0</td>\n",
       "    </tr>\n",
       "    <tr>\n",
       "      <th>0,75</th>\n",
       "      <td>1</td>\n",
       "      <td>7</td>\n",
       "      <td>0</td>\n",
       "      <td>0</td>\n",
       "    </tr>\n",
       "    <tr>\n",
       "      <th>0,9</th>\n",
       "      <td>3</td>\n",
       "      <td>6</td>\n",
       "      <td>2</td>\n",
       "      <td>0</td>\n",
       "    </tr>\n",
       "    <tr>\n",
       "      <th>1,05</th>\n",
       "      <td>4</td>\n",
       "      <td>4</td>\n",
       "      <td>3</td>\n",
       "      <td>1</td>\n",
       "    </tr>\n",
       "    <tr>\n",
       "      <th>1,2</th>\n",
       "      <td>0</td>\n",
       "      <td>2</td>\n",
       "      <td>0</td>\n",
       "      <td>0</td>\n",
       "    </tr>\n",
       "    <tr>\n",
       "      <th>1,39</th>\n",
       "      <td>0</td>\n",
       "      <td>3</td>\n",
       "      <td>0</td>\n",
       "      <td>0</td>\n",
       "    </tr>\n",
       "  </tbody>\n",
       "</table>\n",
       "</div>"
      ],
      "text/plain": [
       "Gr_Clist  30   70   120  200\n",
       "Tiefe                       \n",
       "0,5         8   30    3    0\n",
       "0,65        3   18    1    0\n",
       "0,75        1    7    0    0\n",
       "0,9         3    6    2    0\n",
       "1,05        4    4    3    1\n",
       "1,2         0    2    0    0\n",
       "1,39        0    3    0    0"
      ]
     },
     "execution_count": 74,
     "metadata": {},
     "output_type": "execute_result"
    }
   ],
   "source": [
    "df_pivot = df.pivot_table(values = 'objID', index = 'Tiefe', columns = 'Gr_Clist', aggfunc = len, fill_value = 0)\n",
    "df_pivot"
   ]
  },
  {
   "cell_type": "code",
   "execution_count": 75,
   "metadata": {
    "collapsed": true
   },
   "outputs": [],
   "source": [
    "# Diagramm auf 100% - Prozentwerte für jede Zeile ausrechnen:\n",
    "df_perc = df_pivot.divide(df_pivot.sum(axis=1), axis=0)\n",
    "# df_perc"
   ]
  },
  {
   "cell_type": "code",
   "execution_count": 76,
   "metadata": {},
   "outputs": [
    {
     "data": {
      "image/png": "[encoded data removed]",
      "text/plain": [
       "<matplotlib.figure.Figure at 0xd82dd8>"
      ]
     },
     "metadata": {},
     "output_type": "display_data"
    }
   ],
   "source": [
    "df_pivot.plot(kind = 'line')\n",
    "plt.xlabel('Tiefe [cm u. Obfl.]')\n",
    "plt.ylabel('Anzahl')\n",
    "lgd = plt.legend(bbox_to_anchor=(0.5, -0.2), loc = 9, ncol=4, borderaxespad = 0.)\n",
    "plt.tight_layout()\n",
    "plt.savefig('../output/figs/9-1_MLB85-131_KeramikFragmentierung.pdf', bbox_extra_artists=(lgd,), bbox_inches='tight')\n",
    "plt.show()"
   ]
  },
  {
   "cell_type": "code",
   "execution_count": 77,
   "metadata": {},
   "outputs": [
    {
     "data": {
      "text/html": [
       "<div>\n",
       "<table border=\"1\" class=\"dataframe\">\n",
       "  <thead>\n",
       "    <tr style=\"text-align: right;\">\n",
       "      <th>Gr_Clist</th>\n",
       "      <th>30</th>\n",
       "      <th>70</th>\n",
       "      <th>120</th>\n",
       "      <th>200</th>\n",
       "    </tr>\n",
       "    <tr>\n",
       "      <th>Tiefe</th>\n",
       "      <th></th>\n",
       "      <th></th>\n",
       "      <th></th>\n",
       "      <th></th>\n",
       "    </tr>\n",
       "  </thead>\n",
       "  <tbody>\n",
       "    <tr>\n",
       "      <th>0,5</th>\n",
       "      <td>0.195122</td>\n",
       "      <td>0.731707</td>\n",
       "      <td>0.073171</td>\n",
       "      <td>0.000000</td>\n",
       "    </tr>\n",
       "    <tr>\n",
       "      <th>0,65</th>\n",
       "      <td>0.136364</td>\n",
       "      <td>0.818182</td>\n",
       "      <td>0.045455</td>\n",
       "      <td>0.000000</td>\n",
       "    </tr>\n",
       "    <tr>\n",
       "      <th>0,75</th>\n",
       "      <td>0.125000</td>\n",
       "      <td>0.875000</td>\n",
       "      <td>0.000000</td>\n",
       "      <td>0.000000</td>\n",
       "    </tr>\n",
       "    <tr>\n",
       "      <th>0,9</th>\n",
       "      <td>0.272727</td>\n",
       "      <td>0.545455</td>\n",
       "      <td>0.181818</td>\n",
       "      <td>0.000000</td>\n",
       "    </tr>\n",
       "    <tr>\n",
       "      <th>1,05</th>\n",
       "      <td>0.333333</td>\n",
       "      <td>0.333333</td>\n",
       "      <td>0.250000</td>\n",
       "      <td>0.083333</td>\n",
       "    </tr>\n",
       "    <tr>\n",
       "      <th>1,2</th>\n",
       "      <td>0.000000</td>\n",
       "      <td>1.000000</td>\n",
       "      <td>0.000000</td>\n",
       "      <td>0.000000</td>\n",
       "    </tr>\n",
       "    <tr>\n",
       "      <th>1,39</th>\n",
       "      <td>0.000000</td>\n",
       "      <td>1.000000</td>\n",
       "      <td>0.000000</td>\n",
       "      <td>0.000000</td>\n",
       "    </tr>\n",
       "  </tbody>\n",
       "</table>\n",
       "</div>"
      ],
      "text/plain": [
       "Gr_Clist       30        70        120       200\n",
       "Tiefe                                           \n",
       "0,5       0.195122  0.731707  0.073171  0.000000\n",
       "0,65      0.136364  0.818182  0.045455  0.000000\n",
       "0,75      0.125000  0.875000  0.000000  0.000000\n",
       "0,9       0.272727  0.545455  0.181818  0.000000\n",
       "1,05      0.333333  0.333333  0.250000  0.083333\n",
       "1,2       0.000000  1.000000  0.000000  0.000000\n",
       "1,39      0.000000  1.000000  0.000000  0.000000"
      ]
     },
     "execution_count": 77,
     "metadata": {},
     "output_type": "execute_result"
    }
   ],
   "source": [
    "df_perc"
   ]
  },
  {
   "cell_type": "markdown",
   "metadata": {},
   "source": [
    "> **MLB 85/1-3-1** Fragmentierung\n",
    "> \n",
    "> -> *Stimmt nicht mit Excel-Fassung überein*"
   ]
  },
  {
   "cell_type": "code",
   "execution_count": 85,
   "metadata": {},
   "outputs": [
    {
     "data": {
      "image/png": "[encoded data removed]",
      "text/plain": [
       "<matplotlib.figure.Figure at 0x95d52b0>"
      ]
     },
     "metadata": {},
     "output_type": "display_data"
    }
   ],
   "source": [
    "axes = df_perc.plot(kind = 'barh', stacked = True)\n",
    "plt.xlabel('Prozent')\n",
    "# plt.gca().set_aspect(.13)\n",
    "xlim = axes.get_xlim()\n",
    "ylim = axes.get_ylim()\n",
    "plt.gca().set_aspect((abs(xlim[0]) + abs(xlim[1])) / (abs(ylim[0]) + abs(ylim[1])))\n",
    "lgd = plt.legend(bbox_to_anchor=(0.5, -0.2), loc = 9, ncol=4, borderaxespad = 0.)\n",
    "plt.gca().invert_yaxis()\n",
    "plt.tight_layout()\n",
    "plt.savefig('../output/figs/9-1_MLB85-131_KeramikFragmentierung_B.pdf', bbox_extra_artists=(lgd,), bbox_inches='tight')\n",
    "plt.show()"
   ]
  },
  {
   "cell_type": "markdown",
   "metadata": {
    "collapsed": true
   },
   "source": [
    "## Verzierungselemente"
   ]
  },
  {
   "cell_type": "code",
   "execution_count": 17,
   "metadata": {},
   "outputs": [],
   "source": [
    "sql = \"\"\"SELECT\n",
    "            t_Ort.ort_kurz,\n",
    "            t_Komplex.bef_nr,\n",
    "            t_Obj.objID,\n",
    "            t_Obj.Komplex,\n",
    "            t_Obj.Individuum,\n",
    "            t_K_Verz.verzName,\n",
    "            [t_K_Pos].[posReihe] || ' ' || [posName] AS pos\n",
    "        FROM t_Komplex INNER JOIN t_Obj ON t_Komplex.komplexID = t_Obj.komplexID\n",
    "            INNER JOIN t_Ort ON t_Ort.ortID = t_Komplex.ortID\n",
    "            INNER JOIN \"t_ObjPosVerz\" ON t_Obj.objID = \"t_ObjPosVerz\".objID\n",
    "            INNER JOIN t_K_Pos ON t_K_Pos.posID = \"t_ObjPosVerz\".posID\n",
    "            INNER JOIN t_K_Verz ON t_K_Verz.verzID = \"t_ObjPosVerz\".verzID\n",
    "        WHERE (((t_Ort.ort_kurz) = 'MLB')\n",
    "            AND ((t_Komplex.bef_nr) = '85/1-3-1')\n",
    "            AND ((t_Obj.Art) = \"K\")\n",
    "            AND ((t_K_Verz.verzName) Like 'V%')\n",
    "            AND ((t_K_Pos.posID)<>1))\"\"\".replace('\\n',' ')\n",
    "\n",
    "df = pd.read_sql(sql, con)\n",
    "# display(df.head())"
   ]
  },
  {
   "cell_type": "code",
   "execution_count": 18,
   "metadata": {
    "scrolled": true
   },
   "outputs": [
    {
     "data": {
      "text/html": [
       "<div>\n",
       "<table border=\"1\" class=\"dataframe\">\n",
       "  <thead>\n",
       "    <tr style=\"text-align: right;\">\n",
       "      <th>verzName</th>\n",
       "      <th>V01a</th>\n",
       "      <th>V01c</th>\n",
       "      <th>V01d</th>\n",
       "      <th>V01e</th>\n",
       "      <th>V02a</th>\n",
       "      <th>V02b</th>\n",
       "      <th>V02c</th>\n",
       "      <th>V03a</th>\n",
       "      <th>V03b</th>\n",
       "      <th>V03c</th>\n",
       "      <th>...</th>\n",
       "      <th>V06d</th>\n",
       "      <th>V09a1</th>\n",
       "      <th>V09a3</th>\n",
       "      <th>V09b</th>\n",
       "      <th>V09c2</th>\n",
       "      <th>V09i</th>\n",
       "      <th>V11b1</th>\n",
       "      <th>V12a1</th>\n",
       "      <th>V12b</th>\n",
       "      <th>V12c</th>\n",
       "    </tr>\n",
       "    <tr>\n",
       "      <th>pos</th>\n",
       "      <th></th>\n",
       "      <th></th>\n",
       "      <th></th>\n",
       "      <th></th>\n",
       "      <th></th>\n",
       "      <th></th>\n",
       "      <th></th>\n",
       "      <th></th>\n",
       "      <th></th>\n",
       "      <th></th>\n",
       "      <th></th>\n",
       "      <th></th>\n",
       "      <th></th>\n",
       "      <th></th>\n",
       "      <th></th>\n",
       "      <th></th>\n",
       "      <th></th>\n",
       "      <th></th>\n",
       "      <th></th>\n",
       "      <th></th>\n",
       "      <th></th>\n",
       "    </tr>\n",
       "  </thead>\n",
       "  <tbody>\n",
       "    <tr>\n",
       "      <th>1 Innen</th>\n",
       "      <td>32</td>\n",
       "      <td>1</td>\n",
       "      <td>0</td>\n",
       "      <td>0</td>\n",
       "      <td>0</td>\n",
       "      <td>1</td>\n",
       "      <td>0</td>\n",
       "      <td>0</td>\n",
       "      <td>0</td>\n",
       "      <td>0</td>\n",
       "      <td>...</td>\n",
       "      <td>0</td>\n",
       "      <td>0</td>\n",
       "      <td>0</td>\n",
       "      <td>0</td>\n",
       "      <td>0</td>\n",
       "      <td>0</td>\n",
       "      <td>0</td>\n",
       "      <td>1</td>\n",
       "      <td>0</td>\n",
       "      <td>0</td>\n",
       "    </tr>\n",
       "    <tr>\n",
       "      <th>2 Rand</th>\n",
       "      <td>3</td>\n",
       "      <td>1</td>\n",
       "      <td>0</td>\n",
       "      <td>0</td>\n",
       "      <td>0</td>\n",
       "      <td>0</td>\n",
       "      <td>0</td>\n",
       "      <td>0</td>\n",
       "      <td>0</td>\n",
       "      <td>0</td>\n",
       "      <td>...</td>\n",
       "      <td>0</td>\n",
       "      <td>0</td>\n",
       "      <td>0</td>\n",
       "      <td>0</td>\n",
       "      <td>0</td>\n",
       "      <td>0</td>\n",
       "      <td>0</td>\n",
       "      <td>0</td>\n",
       "      <td>0</td>\n",
       "      <td>0</td>\n",
       "    </tr>\n",
       "    <tr>\n",
       "      <th>3 Oberteil</th>\n",
       "      <td>1</td>\n",
       "      <td>0</td>\n",
       "      <td>0</td>\n",
       "      <td>0</td>\n",
       "      <td>0</td>\n",
       "      <td>0</td>\n",
       "      <td>0</td>\n",
       "      <td>0</td>\n",
       "      <td>0</td>\n",
       "      <td>0</td>\n",
       "      <td>...</td>\n",
       "      <td>0</td>\n",
       "      <td>0</td>\n",
       "      <td>0</td>\n",
       "      <td>0</td>\n",
       "      <td>0</td>\n",
       "      <td>0</td>\n",
       "      <td>0</td>\n",
       "      <td>0</td>\n",
       "      <td>0</td>\n",
       "      <td>0</td>\n",
       "    </tr>\n",
       "    <tr>\n",
       "      <th>4 Hals</th>\n",
       "      <td>10</td>\n",
       "      <td>1</td>\n",
       "      <td>0</td>\n",
       "      <td>2</td>\n",
       "      <td>0</td>\n",
       "      <td>0</td>\n",
       "      <td>0</td>\n",
       "      <td>0</td>\n",
       "      <td>2</td>\n",
       "      <td>0</td>\n",
       "      <td>...</td>\n",
       "      <td>1</td>\n",
       "      <td>0</td>\n",
       "      <td>0</td>\n",
       "      <td>0</td>\n",
       "      <td>1</td>\n",
       "      <td>5</td>\n",
       "      <td>0</td>\n",
       "      <td>0</td>\n",
       "      <td>0</td>\n",
       "      <td>0</td>\n",
       "    </tr>\n",
       "    <tr>\n",
       "      <th>5 Schulter</th>\n",
       "      <td>18</td>\n",
       "      <td>0</td>\n",
       "      <td>1</td>\n",
       "      <td>1</td>\n",
       "      <td>1</td>\n",
       "      <td>1</td>\n",
       "      <td>0</td>\n",
       "      <td>0</td>\n",
       "      <td>1</td>\n",
       "      <td>3</td>\n",
       "      <td>...</td>\n",
       "      <td>0</td>\n",
       "      <td>3</td>\n",
       "      <td>0</td>\n",
       "      <td>1</td>\n",
       "      <td>0</td>\n",
       "      <td>6</td>\n",
       "      <td>0</td>\n",
       "      <td>1</td>\n",
       "      <td>1</td>\n",
       "      <td>0</td>\n",
       "    </tr>\n",
       "    <tr>\n",
       "      <th>6 Bauch</th>\n",
       "      <td>22</td>\n",
       "      <td>3</td>\n",
       "      <td>1</td>\n",
       "      <td>8</td>\n",
       "      <td>1</td>\n",
       "      <td>0</td>\n",
       "      <td>4</td>\n",
       "      <td>1</td>\n",
       "      <td>5</td>\n",
       "      <td>0</td>\n",
       "      <td>...</td>\n",
       "      <td>0</td>\n",
       "      <td>0</td>\n",
       "      <td>4</td>\n",
       "      <td>1</td>\n",
       "      <td>0</td>\n",
       "      <td>1</td>\n",
       "      <td>1</td>\n",
       "      <td>0</td>\n",
       "      <td>0</td>\n",
       "      <td>1</td>\n",
       "    </tr>\n",
       "    <tr>\n",
       "      <th>8 Bodenansatz</th>\n",
       "      <td>1</td>\n",
       "      <td>0</td>\n",
       "      <td>0</td>\n",
       "      <td>0</td>\n",
       "      <td>0</td>\n",
       "      <td>0</td>\n",
       "      <td>0</td>\n",
       "      <td>0</td>\n",
       "      <td>0</td>\n",
       "      <td>0</td>\n",
       "      <td>...</td>\n",
       "      <td>0</td>\n",
       "      <td>0</td>\n",
       "      <td>0</td>\n",
       "      <td>0</td>\n",
       "      <td>0</td>\n",
       "      <td>0</td>\n",
       "      <td>0</td>\n",
       "      <td>0</td>\n",
       "      <td>0</td>\n",
       "      <td>0</td>\n",
       "    </tr>\n",
       "  </tbody>\n",
       "</table>\n",
       "<p>7 rows × 25 columns</p>\n",
       "</div>"
      ],
      "text/plain": [
       "verzName       V01a  V01c  V01d  V01e  V02a  V02b  V02c  V03a  V03b  V03c  \\\n",
       "pos                                                                         \n",
       "1 Innen          32     1     0     0     0     1     0     0     0     0   \n",
       "2 Rand            3     1     0     0     0     0     0     0     0     0   \n",
       "3 Oberteil        1     0     0     0     0     0     0     0     0     0   \n",
       "4 Hals           10     1     0     2     0     0     0     0     2     0   \n",
       "5 Schulter       18     0     1     1     1     1     0     0     1     3   \n",
       "6 Bauch          22     3     1     8     1     0     4     1     5     0   \n",
       "8 Bodenansatz     1     0     0     0     0     0     0     0     0     0   \n",
       "\n",
       "verzName       ...   V06d  V09a1  V09a3  V09b  V09c2  V09i  V11b1  V12a1  \\\n",
       "pos            ...                                                         \n",
       "1 Innen        ...      0      0      0     0      0     0      0      1   \n",
       "2 Rand         ...      0      0      0     0      0     0      0      0   \n",
       "3 Oberteil     ...      0      0      0     0      0     0      0      0   \n",
       "4 Hals         ...      1      0      0     0      1     5      0      0   \n",
       "5 Schulter     ...      0      3      0     1      0     6      0      1   \n",
       "6 Bauch        ...      0      0      4     1      0     1      1      0   \n",
       "8 Bodenansatz  ...      0      0      0     0      0     0      0      0   \n",
       "\n",
       "verzName       V12b  V12c  \n",
       "pos                        \n",
       "1 Innen           0     0  \n",
       "2 Rand            0     0  \n",
       "3 Oberteil        0     0  \n",
       "4 Hals            0     0  \n",
       "5 Schulter        1     0  \n",
       "6 Bauch           0     1  \n",
       "8 Bodenansatz     0     0  \n",
       "\n",
       "[7 rows x 25 columns]"
      ]
     },
     "execution_count": 18,
     "metadata": {},
     "output_type": "execute_result"
    }
   ],
   "source": [
    "df_pivot = df.pivot_table(values = 'objID', index = 'pos', columns = 'verzName', aggfunc = len, fill_value = 0)\n",
    "df_pivot"
   ]
  },
  {
   "cell_type": "code",
   "execution_count": 19,
   "metadata": {
    "collapsed": true
   },
   "outputs": [],
   "source": [
    "df_pivot = df_pivot.sort_index(ascending=True)"
   ]
  },
  {
   "cell_type": "code",
   "execution_count": 20,
   "metadata": {
    "collapsed": true
   },
   "outputs": [],
   "source": [
    "# stellt die Grundeinstellung für Plots von Matplotlib wieder her – sieht bei Nutzung pysurvey besser aus\n",
    "plt.rcdefaults()\n",
    "%matplotlib inline"
   ]
  },
  {
   "cell_type": "code",
   "execution_count": 21,
   "metadata": {},
   "outputs": [
    {
     "data": {
      "image/png": "[encoded data removed]",
      "text/plain": [
       "<matplotlib.figure.Figure at 0x8bfefd0>"
      ]
     },
     "metadata": {},
     "output_type": "display_data"
    }
   ],
   "source": [
    "fig = plt.figure()\n",
    "fig.set_size_inches(10, 7.5)\n",
    "plt.imshow(df_pivot, interpolation='nearest', cmap='Greys', alpha = .5)\n",
    "plt.ylabel('Gefäßposition')\n",
    "plt.xlabel('Verzierungselemente')\n",
    "plt.yticks(range(len(df_pivot.index)), df_pivot.index)\n",
    "plt.xticks(range(len(df_pivot.columns)), df_pivot.columns, rotation='vertical')\n",
    "# plt.colorbar(orientation='horizontal')\n",
    "for (i, j), z in np.ndenumerate(df_pivot):\n",
    "    plt.text(j, i, '{:0.0f}'.format(z), ha='center', va='center')\n",
    "plt.tight_layout()\n",
    "plt.savefig('../output/figs/9-1_MLB85-131_Verzierungselmente.pdf', bbox_inches='tight')\n",
    "plt.show()"
   ]
  },
  {
   "cell_type": "markdown",
   "metadata": {},
   "source": [
    "> **MLB 85/1-3-1** Verzierungselemente"
   ]
  },
  {
   "cell_type": "markdown",
   "metadata": {},
   "source": [
    "n"
   ]
  },
  {
   "cell_type": "code",
   "execution_count": 22,
   "metadata": {},
   "outputs": [
    {
     "data": {
      "text/plain": [
       "68"
      ]
     },
     "execution_count": 22,
     "metadata": {},
     "output_type": "execute_result"
    }
   ],
   "source": [
    "df['objID'].nunique()"
   ]
  },
  {
   "cell_type": "code",
   "execution_count": 23,
   "metadata": {},
   "outputs": [
    {
     "data": {
      "text/plain": [
       "<matplotlib.image.AxesImage at 0x9746be0>"
      ]
     },
     "execution_count": 23,
     "metadata": {},
     "output_type": "execute_result"
    },
    {
     "data": {
      "image/png": "[encoded data removed]",
      "text/plain": [
       "<matplotlib.figure.Figure at 0x964b7f0>"
      ]
     },
     "metadata": {},
     "output_type": "display_data"
    }
   ],
   "source": [
    "fig = plt.figure()\n",
    "fig.set_size_inches(10, 7.5)\n",
    "plt.imshow(df_pivot, interpolation='nearest', cmap='Reds')"
   ]
  },
  {
   "cell_type": "code",
   "execution_count": null,
   "metadata": {
    "collapsed": true
   },
   "outputs": [],
   "source": []
  }
 ],
 "metadata": {
  "kernelspec": {
   "display_name": "Python [default]",
   "language": "python",
   "name": "python3"
  },
  "language_info": {
   "codemirror_mode": {
    "name": "ipython",
    "version": 3
   },
   "file_extension": ".py",
   "mimetype": "text/x-python",
   "name": "python",
   "nbconvert_exporter": "python",
   "pygments_lexer": "ipython3",
   "version": "3.5.3"
  }
 },
 "nbformat": 4,
 "nbformat_minor": 1
}
