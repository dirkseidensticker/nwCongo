{
 "cells": [
  {
   "cell_type": "markdown",
   "metadata": {},
   "source": [
    "# MLB 85/1-4-3"
   ]
  },
  {
   "cell_type": "code",
   "execution_count": 1,
   "metadata": {
    "collapsed": false
   },
   "outputs": [],
   "source": [
    "%matplotlib inline\n",
    "from IPython.display import display\n",
    "import pandas as pd\n",
    "import numpy as np\n",
    "import matplotlib.pyplot as plt\n",
    "import sqlite3\n",
    "# pd.options.display.mpl_style = 'default'\n",
    "\n",
    "con = sqlite3.connect(\"../data/CongoDB.sqlite\")"
   ]
  },
  {
   "cell_type": "markdown",
   "metadata": {},
   "source": [
    "## Funde"
   ]
  },
  {
   "cell_type": "code",
   "execution_count": 2,
   "metadata": {
    "collapsed": false
   },
   "outputs": [
    {
     "data": {
      "text/html": [
       "<div>\n",
       "<table border=\"1\" class=\"dataframe\">\n",
       "  <thead>\n",
       "    <tr style=\"text-align: right;\">\n",
       "      <th></th>\n",
       "      <th>objID</th>\n",
       "      <th>ort_kurz</th>\n",
       "      <th>Komplex</th>\n",
       "      <th>Individuum</th>\n",
       "      <th>Scherbe</th>\n",
       "      <th>Typ</th>\n",
       "      <th>Gewicht</th>\n",
       "      <th>Anzahl</th>\n",
       "      <th>Gr_Clist</th>\n",
       "      <th>Art</th>\n",
       "      <th>Form_Mdg</th>\n",
       "      <th>Form_Rand</th>\n",
       "    </tr>\n",
       "  </thead>\n",
       "  <tbody>\n",
       "    <tr>\n",
       "      <th>0</th>\n",
       "      <td>1978</td>\n",
       "      <td>MLB</td>\n",
       "      <td>85/1-4-3</td>\n",
       "      <td>1</td>\n",
       "      <td>W</td>\n",
       "      <td>BTM</td>\n",
       "      <td>39</td>\n",
       "      <td>1</td>\n",
       "      <td>70</td>\n",
       "      <td>K</td>\n",
       "      <td></td>\n",
       "      <td>None</td>\n",
       "    </tr>\n",
       "    <tr>\n",
       "      <th>1</th>\n",
       "      <td>1979</td>\n",
       "      <td>MLB</td>\n",
       "      <td>85/1-4-3</td>\n",
       "      <td>2</td>\n",
       "      <td>R</td>\n",
       "      <td>None</td>\n",
       "      <td>4</td>\n",
       "      <td>1</td>\n",
       "      <td>30</td>\n",
       "      <td>K</td>\n",
       "      <td>M1</td>\n",
       "      <td>A1/sehr kurz</td>\n",
       "    </tr>\n",
       "    <tr>\n",
       "      <th>2</th>\n",
       "      <td>1980</td>\n",
       "      <td>MLB</td>\n",
       "      <td>85/1-4-3</td>\n",
       "      <td>3</td>\n",
       "      <td>W</td>\n",
       "      <td>None</td>\n",
       "      <td>10</td>\n",
       "      <td>1</td>\n",
       "      <td>70</td>\n",
       "      <td>K</td>\n",
       "      <td></td>\n",
       "      <td>B2/C2 (?)</td>\n",
       "    </tr>\n",
       "    <tr>\n",
       "      <th>3</th>\n",
       "      <td>1981</td>\n",
       "      <td>MLB</td>\n",
       "      <td>85/1-4-3</td>\n",
       "      <td>4</td>\n",
       "      <td>W</td>\n",
       "      <td>BTM (?)</td>\n",
       "      <td>6</td>\n",
       "      <td>1</td>\n",
       "      <td>30</td>\n",
       "      <td>K</td>\n",
       "      <td></td>\n",
       "      <td>B2</td>\n",
       "    </tr>\n",
       "    <tr>\n",
       "      <th>4</th>\n",
       "      <td>1982</td>\n",
       "      <td>MLB</td>\n",
       "      <td>85/1-4-3</td>\n",
       "      <td>5</td>\n",
       "      <td>W</td>\n",
       "      <td>BTM (?)</td>\n",
       "      <td>7</td>\n",
       "      <td>1</td>\n",
       "      <td>30</td>\n",
       "      <td>K</td>\n",
       "      <td></td>\n",
       "      <td>None</td>\n",
       "    </tr>\n",
       "    <tr>\n",
       "      <th>5</th>\n",
       "      <td>1983</td>\n",
       "      <td>MLB</td>\n",
       "      <td>85/1-4-3</td>\n",
       "      <td>6</td>\n",
       "      <td>W</td>\n",
       "      <td>BTM (?)</td>\n",
       "      <td>5</td>\n",
       "      <td>1</td>\n",
       "      <td>30</td>\n",
       "      <td>K</td>\n",
       "      <td></td>\n",
       "      <td>None</td>\n",
       "    </tr>\n",
       "    <tr>\n",
       "      <th>6</th>\n",
       "      <td>1984</td>\n",
       "      <td>MLB</td>\n",
       "      <td>85/1-4-3</td>\n",
       "      <td></td>\n",
       "      <td>W</td>\n",
       "      <td>None</td>\n",
       "      <td>5</td>\n",
       "      <td>1</td>\n",
       "      <td>30</td>\n",
       "      <td>K</td>\n",
       "      <td></td>\n",
       "      <td>None</td>\n",
       "    </tr>\n",
       "  </tbody>\n",
       "</table>\n",
       "</div>"
      ],
      "text/plain": [
       "   objID ort_kurz   Komplex Individuum Scherbe      Typ  Gewicht  Anzahl  \\\n",
       "0   1978      MLB  85/1-4-3          1       W      BTM       39       1   \n",
       "1   1979      MLB  85/1-4-3          2       R     None        4       1   \n",
       "2   1980      MLB  85/1-4-3          3       W     None       10       1   \n",
       "3   1981      MLB  85/1-4-3          4       W  BTM (?)        6       1   \n",
       "4   1982      MLB  85/1-4-3          5       W  BTM (?)        7       1   \n",
       "5   1983      MLB  85/1-4-3          6       W  BTM (?)        5       1   \n",
       "6   1984      MLB  85/1-4-3                  W     None        5       1   \n",
       "\n",
       "   Gr_Clist Art Form_Mdg     Form_Rand  \n",
       "0        70   K                   None  \n",
       "1        30   K       M1  A1/sehr kurz  \n",
       "2        70   K              B2/C2 (?)  \n",
       "3        30   K                     B2  \n",
       "4        30   K                   None  \n",
       "5        30   K                   None  \n",
       "6        30   K                   None  "
      ]
     },
     "execution_count": 2,
     "metadata": {},
     "output_type": "execute_result"
    }
   ],
   "source": [
    "sql = \"\"\"SELECT\n",
    "           t_Obj.ObjID, \n",
    "           t_Obj.ort_kurz, \n",
    "           t_Obj.Komplex, \n",
    "           t_Obj.Individuum,\n",
    "           t_Obj.Scherbe,\n",
    "           t_Obj.Typ, \n",
    "           t_Obj.Gewicht,\n",
    "           t_Obj.Anzahl,\n",
    "           t_Obj.Gr_Clist, \n",
    "           t_Obj.Art, \n",
    "           t_Obj.Form_Mdg, \n",
    "           t_Obj.Form_Rand\n",
    "       FROM (t_Ort INNER JOIN t_Komplex ON t_Ort.ortID = t_Komplex.ortID)\n",
    "           INNER JOIN t_Obj ON t_Komplex.komplexID = t_Obj.komplexID\n",
    "       WHERE (((t_Ort.ort_kurz) = 'MLB')\n",
    "           AND ((t_Komplex.bef_nr) = '85/1-4-3'))\"\"\".replace('\\n',' ')\n",
    "\n",
    "df = pd.read_sql(sql, con)\n",
    "df"
   ]
  },
  {
   "cell_type": "markdown",
   "metadata": {},
   "source": [
    "Summe (Gewicht)"
   ]
  },
  {
   "cell_type": "code",
   "execution_count": 3,
   "metadata": {
    "collapsed": false
   },
   "outputs": [
    {
     "data": {
      "text/plain": [
       "76"
      ]
     },
     "execution_count": 3,
     "metadata": {},
     "output_type": "execute_result"
    }
   ],
   "source": [
    "df['Gewicht'].sum()"
   ]
  },
  {
   "cell_type": "markdown",
   "metadata": {},
   "source": [
    "Scherben-Typen:"
   ]
  },
  {
   "cell_type": "code",
   "execution_count": 4,
   "metadata": {
    "collapsed": false
   },
   "outputs": [
    {
     "data": {
      "text/html": [
       "<div>\n",
       "<table border=\"1\" class=\"dataframe\">\n",
       "  <thead>\n",
       "    <tr style=\"text-align: right;\">\n",
       "      <th></th>\n",
       "      <th>objID</th>\n",
       "    </tr>\n",
       "    <tr>\n",
       "      <th>Scherbe</th>\n",
       "      <th></th>\n",
       "    </tr>\n",
       "  </thead>\n",
       "  <tbody>\n",
       "    <tr>\n",
       "      <th>R</th>\n",
       "      <td>1</td>\n",
       "    </tr>\n",
       "    <tr>\n",
       "      <th>W</th>\n",
       "      <td>6</td>\n",
       "    </tr>\n",
       "  </tbody>\n",
       "</table>\n",
       "</div>"
      ],
      "text/plain": [
       "         objID\n",
       "Scherbe       \n",
       "R            1\n",
       "W            6"
      ]
     },
     "execution_count": 4,
     "metadata": {},
     "output_type": "execute_result"
    }
   ],
   "source": [
    "df_pivot = df.pivot_table(values = 'objID', index = 'Scherbe', aggfunc = len)\n",
    "df_pivot = pd.DataFrame(df_pivot)\n",
    "df_pivot"
   ]
  },
  {
   "cell_type": "code",
   "execution_count": 5,
   "metadata": {
    "collapsed": false
   },
   "outputs": [
    {
     "data": {
      "text/html": [
       "<div>\n",
       "<table border=\"1\" class=\"dataframe\">\n",
       "  <thead>\n",
       "    <tr style=\"text-align: right;\">\n",
       "      <th></th>\n",
       "      <th>Fundkategorie</th>\n",
       "      <th>Anzahl</th>\n",
       "      <th>\\%</th>\n",
       "      <th>Gewicht (kg)</th>\n",
       "      <th>\\%</th>\n",
       "    </tr>\n",
       "  </thead>\n",
       "  <tbody>\n",
       "    <tr>\n",
       "      <th>0</th>\n",
       "      <td>Keramik</td>\n",
       "      <td>7</td>\n",
       "      <td>100.0</td>\n",
       "      <td>0.08</td>\n",
       "      <td>100.0</td>\n",
       "    </tr>\n",
       "  </tbody>\n",
       "</table>\n",
       "</div>"
      ],
      "text/plain": [
       "  Fundkategorie  Anzahl     \\%  Gewicht (kg)     \\%\n",
       "0       Keramik       7  100.0          0.08  100.0"
      ]
     },
     "execution_count": 5,
     "metadata": {},
     "output_type": "execute_result"
    }
   ],
   "source": [
    "df_pivot1 = df.pivot_table(values = 'Gewicht', index = 'Art', aggfunc = sum, fill_value = 0)\n",
    "df_pivot1 = pd.DataFrame(df_pivot1)\n",
    "# df_pivot1 = df_pivot1.reset_index()\n",
    "df_pivot1.rename(index={'HL': 'gebrannter Lehm', 'K': 'Keramik'}, inplace=True)\n",
    "df_pivot1['\\%'] = (df_pivot1['Gewicht']/df_pivot1['Gewicht'].sum()*100).round(1)\n",
    "df_pivot1['Gewicht'] = (df_pivot1['Gewicht'] / 1000).round(2)\n",
    "df_pivot1.rename(columns={'Gewicht': 'Gewicht (kg)'}, inplace=True)\n",
    "\n",
    "df_pivot2 = df.pivot_table(values = 'Anzahl', index = 'Art', aggfunc = sum, fill_value = 0)\n",
    "df_pivot2 = pd.DataFrame(df_pivot2)\n",
    "df_pivot2.rename(index={'HL': 'gebrannter Lehm', 'K': 'Keramik'}, inplace=True)\n",
    "df_pivot2['\\%'] = (df_pivot2['Anzahl']/df_pivot2['Anzahl'].sum()*100).round(1)\n",
    "\n",
    "# Tabellen vereinen:\n",
    "df_concat = pd.concat([df_pivot2, df_pivot1], axis = 1)\n",
    "df_concat = df_concat.reset_index()\n",
    "df_concat.rename(columns={'Art': 'Fundkategorie'}, inplace=True)\n",
    "df_concat.to_latex('../output/tabs/9-03_MLB85-1-4-3_Funde.tex', index = False, escape = False)\n",
    "df_concat"
   ]
  },
  {
   "cell_type": "markdown",
   "metadata": {},
   "source": [
    "## Formen"
   ]
  },
  {
   "cell_type": "code",
   "execution_count": 6,
   "metadata": {
    "collapsed": false
   },
   "outputs": [
    {
     "data": {
      "text/html": [
       "<div>\n",
       "<table border=\"1\" class=\"dataframe\">\n",
       "  <thead>\n",
       "    <tr style=\"text-align: right;\">\n",
       "      <th></th>\n",
       "      <th>objID</th>\n",
       "      <th>Typ</th>\n",
       "      <th>Scherbe</th>\n",
       "      <th>Form_Mdg</th>\n",
       "      <th>Form_Rand</th>\n",
       "      <th>Form_Hals</th>\n",
       "      <th>Form_Schulter</th>\n",
       "      <th>Form_Bauch</th>\n",
       "      <th>Form_Boden</th>\n",
       "      <th>Form_Gef</th>\n",
       "    </tr>\n",
       "  </thead>\n",
       "  <tbody>\n",
       "    <tr>\n",
       "      <th>0</th>\n",
       "      <td>1978</td>\n",
       "      <td>BTM</td>\n",
       "      <td>W</td>\n",
       "      <td></td>\n",
       "      <td>None</td>\n",
       "      <td>B2</td>\n",
       "      <td>A2</td>\n",
       "      <td></td>\n",
       "      <td></td>\n",
       "      <td>G7b</td>\n",
       "    </tr>\n",
       "    <tr>\n",
       "      <th>1</th>\n",
       "      <td>1979</td>\n",
       "      <td>None</td>\n",
       "      <td>R</td>\n",
       "      <td>M1</td>\n",
       "      <td>A1/sehr kurz</td>\n",
       "      <td></td>\n",
       "      <td></td>\n",
       "      <td></td>\n",
       "      <td></td>\n",
       "      <td></td>\n",
       "    </tr>\n",
       "    <tr>\n",
       "      <th>2</th>\n",
       "      <td>1980</td>\n",
       "      <td>None</td>\n",
       "      <td>W</td>\n",
       "      <td></td>\n",
       "      <td>B2/C2 (?)</td>\n",
       "      <td></td>\n",
       "      <td></td>\n",
       "      <td></td>\n",
       "      <td></td>\n",
       "      <td></td>\n",
       "    </tr>\n",
       "    <tr>\n",
       "      <th>3</th>\n",
       "      <td>1981</td>\n",
       "      <td>BTM (?)</td>\n",
       "      <td>W</td>\n",
       "      <td></td>\n",
       "      <td>B2</td>\n",
       "      <td>A1/A2</td>\n",
       "      <td></td>\n",
       "      <td></td>\n",
       "      <td></td>\n",
       "      <td></td>\n",
       "    </tr>\n",
       "    <tr>\n",
       "      <th>4</th>\n",
       "      <td>1982</td>\n",
       "      <td>BTM (?)</td>\n",
       "      <td>W</td>\n",
       "      <td></td>\n",
       "      <td>None</td>\n",
       "      <td>A2 (?)</td>\n",
       "      <td>A2 (?)</td>\n",
       "      <td></td>\n",
       "      <td></td>\n",
       "      <td></td>\n",
       "    </tr>\n",
       "    <tr>\n",
       "      <th>5</th>\n",
       "      <td>1983</td>\n",
       "      <td>BTM (?)</td>\n",
       "      <td>W</td>\n",
       "      <td></td>\n",
       "      <td>None</td>\n",
       "      <td></td>\n",
       "      <td></td>\n",
       "      <td></td>\n",
       "      <td></td>\n",
       "      <td></td>\n",
       "    </tr>\n",
       "    <tr>\n",
       "      <th>6</th>\n",
       "      <td>1984</td>\n",
       "      <td>None</td>\n",
       "      <td>W</td>\n",
       "      <td></td>\n",
       "      <td>None</td>\n",
       "      <td></td>\n",
       "      <td></td>\n",
       "      <td></td>\n",
       "      <td></td>\n",
       "      <td></td>\n",
       "    </tr>\n",
       "  </tbody>\n",
       "</table>\n",
       "</div>"
      ],
      "text/plain": [
       "   objID      Typ Scherbe Form_Mdg     Form_Rand Form_Hals Form_Schulter  \\\n",
       "0   1978      BTM       W                   None        B2            A2   \n",
       "1   1979     None       R       M1  A1/sehr kurz                           \n",
       "2   1980     None       W              B2/C2 (?)                           \n",
       "3   1981  BTM (?)       W                     B2     A1/A2                 \n",
       "4   1982  BTM (?)       W                   None    A2 (?)        A2 (?)   \n",
       "5   1983  BTM (?)       W                   None                           \n",
       "6   1984     None       W                   None                           \n",
       "\n",
       "  Form_Bauch Form_Boden Form_Gef  \n",
       "0                            G7b  \n",
       "1                                 \n",
       "2                                 \n",
       "3                                 \n",
       "4                                 \n",
       "5                                 \n",
       "6                                 "
      ]
     },
     "execution_count": 6,
     "metadata": {},
     "output_type": "execute_result"
    }
   ],
   "source": [
    "sql = \"\"\"SELECT\n",
    "           t_Obj.ObjID, \n",
    "           t_Obj.Typ, \n",
    "           t_Obj.Scherbe,\n",
    "           t_Obj.Form_Mdg, \n",
    "           t_Obj.Form_Rand,\n",
    "           t_Obj.Form_Hals,\n",
    "           t_Obj.Form_Schulter,\n",
    "           t_Obj.Form_Bauch,\n",
    "           t_Obj.Form_Boden,\n",
    "           t_Obj.Form_Gef\n",
    "       FROM (t_Ort INNER JOIN t_Komplex ON t_Ort.ortID = t_Komplex.ortID)\n",
    "           INNER JOIN t_Obj ON t_Komplex.komplexID = t_Obj.komplexID\n",
    "       WHERE (((t_Ort.ort_kurz) = 'MLB')\n",
    "           AND ((t_Komplex.bef_nr) = '85/1-4-3'))\"\"\".replace('\\n',' ')\n",
    "\n",
    "df = pd.read_sql(sql, con)\n",
    "df"
   ]
  },
  {
   "cell_type": "markdown",
   "metadata": {
    "collapsed": true
   },
   "source": [
    "## 14C-Datierungen"
   ]
  },
  {
   "cell_type": "code",
   "execution_count": 78,
   "metadata": {
    "collapsed": false
   },
   "outputs": [
    {
     "data": {
      "text/html": [
       "<div>\n",
       "<table border=\"1\" class=\"dataframe\">\n",
       "  <thead>\n",
       "    <tr style=\"text-align: right;\">\n",
       "      <th></th>\n",
       "      <th>LABNR</th>\n",
       "      <th>C14AGE</th>\n",
       "      <th>C14STD</th>\n",
       "      <th>C13</th>\n",
       "      <th>MATERIAL</th>\n",
       "      <th>SPECIES</th>\n",
       "      <th>SITE</th>\n",
       "      <th>CULTURE</th>\n",
       "      <th>POTTERY</th>\n",
       "      <th>PHASE</th>\n",
       "      <th>COUNTRY</th>\n",
       "      <th>LATITUDE</th>\n",
       "      <th>LONGITUDE</th>\n",
       "    </tr>\n",
       "  </thead>\n",
       "  <tbody>\n",
       "    <tr>\n",
       "      <th>0</th>\n",
       "      <td>Poz-62102</td>\n",
       "      <td>580</td>\n",
       "      <td>30</td>\n",
       "      <td>0</td>\n",
       "      <td>Bone</td>\n",
       "      <td>None</td>\n",
       "      <td>Maluba</td>\n",
       "      <td>Grab</td>\n",
       "      <td></td>\n",
       "      <td>MLB 85/1-4-3</td>\n",
       "      <td>COD</td>\n",
       "      <td>2.806193</td>\n",
       "      <td>18.523706</td>\n",
       "    </tr>\n",
       "    <tr>\n",
       "      <th>1</th>\n",
       "      <td>Poz-62103</td>\n",
       "      <td>810</td>\n",
       "      <td>80</td>\n",
       "      <td>0</td>\n",
       "      <td>Bone</td>\n",
       "      <td>None</td>\n",
       "      <td>Maluba</td>\n",
       "      <td>Grab</td>\n",
       "      <td></td>\n",
       "      <td>MLB 85/1-4-3</td>\n",
       "      <td>COD</td>\n",
       "      <td>2.806193</td>\n",
       "      <td>18.523706</td>\n",
       "    </tr>\n",
       "  </tbody>\n",
       "</table>\n",
       "</div>"
      ],
      "text/plain": [
       "       LABNR  C14AGE  C14STD  C13 MATERIAL SPECIES    SITE CULTURE POTTERY  \\\n",
       "0  Poz-62102     580      30    0     Bone    None  Maluba    Grab           \n",
       "1  Poz-62103     810      80    0     Bone    None  Maluba    Grab           \n",
       "\n",
       "          PHASE COUNTRY  LATITUDE  LONGITUDE  \n",
       "0  MLB 85/1-4-3     COD  2.806193  18.523706  \n",
       "1  MLB 85/1-4-3     COD  2.806193  18.523706  "
      ]
     },
     "execution_count": 78,
     "metadata": {},
     "output_type": "execute_result"
    }
   ],
   "source": [
    "sql = \"\"\"SELECT\n",
    "           t_14C.LABNR,\n",
    "           t_14C.C14AGE,\n",
    "           t_14C.C14STD,\n",
    "           t_14C.C13,\n",
    "           t_14C.MATERIAL,\n",
    "           t_14C.SPECIES,\n",
    "           [t_Ort].[ort_name] AS SITE, \n",
    "           [t_Komplex].[bef_art] AS CULTURE, \n",
    "           t_Komplex.bef_KeramikBeschr AS POTTERY,\n",
    "           [t_Ort].[ort_kurz] || ' ' || [t_Komplex].[bef_nr] AS PHASE,\n",
    "           [t_ort].[ort_land] AS COUNTRY,\n",
    "           [t_ort].[y_lat] AS LATITUDE,\n",
    "           [t_ort].[x_long] AS LONGITUDE\n",
    "       FROM (t_Ort INNER JOIN t_Komplex ON t_Ort.ortID = t_Komplex.ortID)\n",
    "           INNER JOIN t_14c ON t_Komplex.komplexID = t_14c.komplexID\n",
    "       WHERE (((t_Ort.ort_kurz) = 'MLB')\n",
    "           AND ((t_Komplex.bef_nr) = '85/1-4-3'))\"\"\".replace('\\n',' ')\n",
    "\n",
    "df = pd.read_sql(sql, con)\n",
    "df"
   ]
  },
  {
   "cell_type": "markdown",
   "metadata": {},
   "source": [
    "mlab.normpdf verwendet die Standartabweichung der Verteilung. Die Standartabweichung errechnet aus dem gegeben Standartfehler folgendermaßen:\n",
    "\n",
    "$$SD = SE \\sqrt{N}$$\n",
    "\n",
    "> siehe http://handbook.cochrane.org/chapter_7/7_7_3_2_obtaining_standard_deviations_from_standard_errors_and.htm\n",
    "\n",
    "Bei einem n = 1 entspricht die Standartabweichung dem Standartfehler. Dieser kann somit weiter verwendet werden. "
   ]
  },
  {
   "cell_type": "code",
   "execution_count": 107,
   "metadata": {
    "collapsed": false
   },
   "outputs": [
    {
     "data": {
      "image/png": "[encoded data removed]",
      "text/plain": [
       "<matplotlib.figure.Figure at 0xb22e4e0>"
      ]
     },
     "metadata": {},
     "output_type": "display_data"
    }
   ],
   "source": [
    "import matplotlib.mlab as mlab\n",
    "import math\n",
    "\n",
    "mu1 = df['C14AGE'][0]\n",
    "mu2 = df['C14AGE'][1]\n",
    "sigma1 = df['C14STD'][0]\n",
    "sigma2 = df['C14STD'][1]\n",
    "x = np.linspace(400, 1100, 100)\n",
    "\n",
    "\n",
    "plt.plot(x1, mlab.normpdf(x, mu1, sigma1), color = 'g')\n",
    "plt.plot(x, mlab.normpdf(x, mu2, sigma2), color = 'r')\n",
    "\n",
    "plt.show()"
   ]
  },
  {
   "cell_type": "code",
   "execution_count": null,
   "metadata": {
    "collapsed": false
   },
   "outputs": [],
   "source": []
  },
  {
   "cell_type": "code",
   "execution_count": null,
   "metadata": {
    "collapsed": true
   },
   "outputs": [],
   "source": []
  }
 ],
 "metadata": {
  "kernelspec": {
   "display_name": "Python 3",
   "language": "python",
   "name": "python3"
  },
  "language_info": {
   "codemirror_mode": {
    "name": "ipython",
    "version": 3
   },
   "file_extension": ".py",
   "mimetype": "text/x-python",
   "name": "python",
   "nbconvert_exporter": "python",
   "pygments_lexer": "ipython3",
   "version": "3.4.4"
  }
 },
 "nbformat": 4,
 "nbformat_minor": 0
}
