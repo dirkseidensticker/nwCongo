{
 "cells": [
  {
   "cell_type": "markdown",
   "metadata": {},
   "source": [
    "# Botendo-Gruppe"
   ]
  },
  {
   "cell_type": "markdown",
   "metadata": {},
   "source": [
    "* [Funde](#Funde)\n",
    "    * [Befunde](#Befunde)\n",
    "\t* [Scherbentypen](#Scherbentypen)\n",
    "* [Technologische Merkmale (fabrics)](#Technologische-Merkmale-(fabrics))\n",
    "\t* [Brennfarbe](#Brennfarbe)\n",
    "\t* [Oberfläche der Scherben](#Oberfläche-der-Scherben)\n",
    "\t* [Wandungsdicke](#Wandungsdicke)\n",
    "* Formen\n",
    "\t* [Gefäßformen](#Gefäßformen)\n",
    "\t* [Proportionen](#Proportionen)\n",
    "\t* [Bauchform](#Bauchform)\n",
    "\t* [Mündungs- und Randformen](#Mündungs--und-Randformen)\n",
    "\t* [Bodenformen](#Bodenformen)\n",
    "* [Verzierungen](#Verzierungselemente)\n",
    "    * [Matrix mit allen Pos & Verz](#Matrix-mit-allen-Pos-&-Verz)\n",
    "* [Verbreitung](#Verbreitung)"
   ]
  },
  {
   "cell_type": "code",
   "execution_count": 1,
   "metadata": {
    "collapsed": true
   },
   "outputs": [],
   "source": [
    "%matplotlib inline\n",
    "from IPython.display import display\n",
    "import pandas as pd\n",
    "import numpy as np\n",
    "import matplotlib.pyplot as plt\n",
    "from mpl_toolkits.axes_grid1 import make_axes_locatable\n",
    "import sqlite3\n",
    "\n",
    "import sys, os\n",
    "sys.path.append(\"/Python\")\n",
    "from myfunctions import *\n",
    "from parula import *\n",
    "\n",
    "style = 'BOT'\n",
    "\n",
    "con = sqlite3.connect(\"../data/CongoDB.sqlite\")"
   ]
  },
  {
   "cell_type": "markdown",
   "metadata": {},
   "source": [
    "## Funde"
   ]
  },
  {
   "cell_type": "code",
   "execution_count": 59,
   "metadata": {},
   "outputs": [
    {
     "name": "stderr",
     "output_type": "stream",
     "text": [
      "C:\\Users\\Dirk\\Anaconda3\\lib\\site-packages\\ipykernel\\__main__.py:20: FutureWarning: convert_objects is deprecated.  Use the data-type specific converters pd.to_datetime, pd.to_timedelta and pd.to_numeric.\n"
     ]
    }
   ],
   "source": [
    "sql = \"\"\"SELECT\n",
    "           t_Ort.ort_kurz,\n",
    "           't_Ort'.'ort_name' || ' (Fpl. ' || 't_ort'.'Kat-Nr' || ')' AS Ort,\n",
    "           t_Ort.ort_fluss,\n",
    "           t_Komplex.bef_nr,\n",
    "           t_Komplex.bef_art,\n",
    "           t_Obj.objID,\n",
    "           t_Obj.Scherbe,\n",
    "           t_Obj.Anzahl,\n",
    "           t_Obj.Form_Gef,\n",
    "           t_Obj.Typ\n",
    "       FROM (t_Ort INNER JOIN t_Komplex ON t_Ort.ortID = t_Komplex.ortID)\n",
    "           INNER JOIN t_Obj ON t_Komplex.komplexID = t_Obj.komplexID\n",
    "       WHERE (((t_Ort.ort_lit)='DS')\n",
    "           AND ((t_Obj.Art) = 'K')\n",
    "           AND ((t_Obj.Typ) Like '%\"\"\"+style+\"\"\"%'))\"\"\".replace('\\n',' ')\n",
    "\n",
    "df = pd.read_sql(sql, con)\n",
    "\n",
    "df['Anzahl'] = df['Anzahl'].convert_objects(convert_numeric=True)"
   ]
  },
  {
   "cell_type": "code",
   "execution_count": 60,
   "metadata": {},
   "outputs": [
    {
     "data": {
      "text/html": [
       "<div>\n",
       "<table border=\"1\" class=\"dataframe\">\n",
       "  <thead>\n",
       "    <tr style=\"text-align: right;\">\n",
       "      <th></th>\n",
       "      <th>0</th>\n",
       "      <th>Prozent</th>\n",
       "    </tr>\n",
       "  </thead>\n",
       "  <tbody>\n",
       "    <tr>\n",
       "      <th>Ausgezählt</th>\n",
       "      <td>120.0</td>\n",
       "      <td>37.735849</td>\n",
       "    </tr>\n",
       "    <tr>\n",
       "      <th>GE</th>\n",
       "      <td>198.0</td>\n",
       "      <td>62.264151</td>\n",
       "    </tr>\n",
       "  </tbody>\n",
       "</table>\n",
       "</div>"
      ],
      "text/plain": [
       "                0    Prozent\n",
       "Ausgezählt  120.0  37.735849\n",
       "GE          198.0  62.264151"
      ]
     },
     "execution_count": 60,
     "metadata": {},
     "output_type": "execute_result"
    }
   ],
   "source": [
    "a = pd.Series({'GE':np.sum(df['Anzahl'].loc[df['Anzahl'] == 1]),\n",
    "               'Ausgezählt':np.sum(df['Anzahl'].loc[df['Anzahl'] != 1])})\n",
    "a = pd.DataFrame(a)\n",
    "a['Prozent'] = a[0]/a[0].sum()*100\n",
    "a"
   ]
  },
  {
   "cell_type": "code",
   "execution_count": 64,
   "metadata": {},
   "outputs": [
    {
     "name": "stderr",
     "output_type": "stream",
     "text": [
      "C:\\Users\\Dirk\\Anaconda3\\lib\\site-packages\\ipykernel\\__main__.py:7: FutureWarning: by argument to sort_index is deprecated, pls use .sort_values(by=...)\n"
     ]
    },
    {
     "data": {
      "text/html": [
       "<div>\n",
       "<table border=\"1\" class=\"dataframe\">\n",
       "  <thead>\n",
       "    <tr style=\"text-align: right;\">\n",
       "      <th></th>\n",
       "      <th></th>\n",
       "      <th></th>\n",
       "      <th>Anzahl</th>\n",
       "      <th>Prozent</th>\n",
       "    </tr>\n",
       "    <tr>\n",
       "      <th>ort_fluss</th>\n",
       "      <th>Ort</th>\n",
       "      <th>bef_nr</th>\n",
       "      <th></th>\n",
       "      <th></th>\n",
       "    </tr>\n",
       "  </thead>\n",
       "  <tbody>\n",
       "    <tr>\n",
       "      <th>Likwala-Esobe</th>\n",
       "      <th>Boleko (Fpl. 285)</th>\n",
       "      <th>87/101</th>\n",
       "      <td>24.0</td>\n",
       "      <td>12.121212</td>\n",
       "    </tr>\n",
       "    <tr>\n",
       "      <th rowspan=\"2\" valign=\"top\">Sangha</th>\n",
       "      <th>Bobusa (Fpl. 239)</th>\n",
       "      <th>87/102</th>\n",
       "      <td>21.0</td>\n",
       "      <td>10.606061</td>\n",
       "    </tr>\n",
       "    <tr>\n",
       "      <th>Sosolo (Fpl. 241)</th>\n",
       "      <th>87/101</th>\n",
       "      <td>19.0</td>\n",
       "      <td>9.595960</td>\n",
       "    </tr>\n",
       "    <tr>\n",
       "      <th>Zaire/Kongo</th>\n",
       "      <th>Gombe (Fpl. 237)</th>\n",
       "      <th>87/101</th>\n",
       "      <td>18.0</td>\n",
       "      <td>9.090909</td>\n",
       "    </tr>\n",
       "    <tr>\n",
       "      <th rowspan=\"2\" valign=\"top\">Ubangi</th>\n",
       "      <th>Bobangi (Fpl. 189)</th>\n",
       "      <th>85/101</th>\n",
       "      <td>17.0</td>\n",
       "      <td>8.585859</td>\n",
       "    </tr>\n",
       "    <tr>\n",
       "      <th>Boyoka (Fpl. 196)</th>\n",
       "      <th>85/101</th>\n",
       "      <td>12.0</td>\n",
       "      <td>6.060606</td>\n",
       "    </tr>\n",
       "    <tr>\n",
       "      <th>Likwala-Esobe</th>\n",
       "      <th>Yumba (Fpl. 289)</th>\n",
       "      <th>87/103</th>\n",
       "      <td>8.0</td>\n",
       "      <td>4.040404</td>\n",
       "    </tr>\n",
       "    <tr>\n",
       "      <th rowspan=\"2\" valign=\"top\">Ubangi</th>\n",
       "      <th>Bolumbu (Fpl. 194)</th>\n",
       "      <th>85/101</th>\n",
       "      <td>8.0</td>\n",
       "      <td>4.040404</td>\n",
       "    </tr>\n",
       "    <tr>\n",
       "      <th>Ilanga (Fpl. 192)</th>\n",
       "      <th>85/101</th>\n",
       "      <td>8.0</td>\n",
       "      <td>4.040404</td>\n",
       "    </tr>\n",
       "    <tr>\n",
       "      <th>Likwala-Esobe</th>\n",
       "      <th>Yumba (Fpl. 289)</th>\n",
       "      <th>87/101</th>\n",
       "      <td>6.0</td>\n",
       "      <td>3.030303</td>\n",
       "    </tr>\n",
       "    <tr>\n",
       "      <th>Ubangi</th>\n",
       "      <th>Loka (Fpl. 193)</th>\n",
       "      <th>85/101</th>\n",
       "      <td>6.0</td>\n",
       "      <td>3.030303</td>\n",
       "    </tr>\n",
       "    <tr>\n",
       "      <th rowspan=\"3\" valign=\"top\">Likwala-Esobe</th>\n",
       "      <th>Botwale (Fpl. 286)</th>\n",
       "      <th>87/101</th>\n",
       "      <td>6.0</td>\n",
       "      <td>3.030303</td>\n",
       "    </tr>\n",
       "    <tr>\n",
       "      <th>Misongo (Fpl. 288)</th>\n",
       "      <th>87/101</th>\n",
       "      <td>5.0</td>\n",
       "      <td>2.525253</td>\n",
       "    </tr>\n",
       "    <tr>\n",
       "      <th>Boyenge (Fpl. 284)</th>\n",
       "      <th>87/101</th>\n",
       "      <td>4.0</td>\n",
       "      <td>2.020202</td>\n",
       "    </tr>\n",
       "    <tr>\n",
       "      <th>Sangha</th>\n",
       "      <th>Bonga (Fpl. 238)</th>\n",
       "      <th>87/102</th>\n",
       "      <td>4.0</td>\n",
       "      <td>2.020202</td>\n",
       "    </tr>\n",
       "    <tr>\n",
       "      <th rowspan=\"3\" valign=\"top\">Likwala-Esobe</th>\n",
       "      <th>Boleko (Fpl. 285)</th>\n",
       "      <th>87/1</th>\n",
       "      <td>4.0</td>\n",
       "      <td>2.020202</td>\n",
       "    </tr>\n",
       "    <tr>\n",
       "      <th>Yumba (Fpl. 289)</th>\n",
       "      <th>87/102</th>\n",
       "      <td>4.0</td>\n",
       "      <td>2.020202</td>\n",
       "    </tr>\n",
       "    <tr>\n",
       "      <th>Bojenjo (Fpl. 292)</th>\n",
       "      <th>87/101</th>\n",
       "      <td>3.0</td>\n",
       "      <td>1.515152</td>\n",
       "    </tr>\n",
       "    <tr>\n",
       "      <th>Ubangi</th>\n",
       "      <th>Zamba (Fpl. 191)</th>\n",
       "      <th>85/101</th>\n",
       "      <td>3.0</td>\n",
       "      <td>1.515152</td>\n",
       "    </tr>\n",
       "    <tr>\n",
       "      <th>Likwala-Esobe</th>\n",
       "      <th>Ngombe (Fpl. 283)</th>\n",
       "      <th>87/101</th>\n",
       "      <td>3.0</td>\n",
       "      <td>1.515152</td>\n",
       "    </tr>\n",
       "    <tr>\n",
       "      <th>Sangha</th>\n",
       "      <th>Bobusa (Fpl. 239)</th>\n",
       "      <th>87/2</th>\n",
       "      <td>3.0</td>\n",
       "      <td>1.515152</td>\n",
       "    </tr>\n",
       "    <tr>\n",
       "      <th>Zaire/Kongo</th>\n",
       "      <th>Lukolela (Fpl. 234)</th>\n",
       "      <th>87/101</th>\n",
       "      <td>2.0</td>\n",
       "      <td>1.010101</td>\n",
       "    </tr>\n",
       "    <tr>\n",
       "      <th>Sangha</th>\n",
       "      <th>Loboko (Fpl. 248)</th>\n",
       "      <th>87/101</th>\n",
       "      <td>2.0</td>\n",
       "      <td>1.010101</td>\n",
       "    </tr>\n",
       "    <tr>\n",
       "      <th>Ubangi</th>\n",
       "      <th>Bokwango (Fpl. 190)</th>\n",
       "      <th>85/101</th>\n",
       "      <td>2.0</td>\n",
       "      <td>1.010101</td>\n",
       "    </tr>\n",
       "    <tr>\n",
       "      <th>Zaire/Kongo</th>\n",
       "      <th>Sungu (Fpl. 236)</th>\n",
       "      <th>87/101</th>\n",
       "      <td>2.0</td>\n",
       "      <td>1.010101</td>\n",
       "    </tr>\n",
       "    <tr>\n",
       "      <th>Ubangi</th>\n",
       "      <th>Bobulu (Fpl. 198)</th>\n",
       "      <th>85/101</th>\n",
       "      <td>1.0</td>\n",
       "      <td>0.505051</td>\n",
       "    </tr>\n",
       "    <tr>\n",
       "      <th rowspan=\"3\" valign=\"top\">Sangha</th>\n",
       "      <th>Pikunda (Fpl. 255)</th>\n",
       "      <th>87/101</th>\n",
       "      <td>1.0</td>\n",
       "      <td>0.505051</td>\n",
       "    </tr>\n",
       "    <tr>\n",
       "      <th>Mitula (Fpl. 251)</th>\n",
       "      <th>87/102</th>\n",
       "      <td>1.0</td>\n",
       "      <td>0.505051</td>\n",
       "    </tr>\n",
       "    <tr>\n",
       "      <th>Bonga (Fpl. 238)</th>\n",
       "      <th>87/101</th>\n",
       "      <td>1.0</td>\n",
       "      <td>0.505051</td>\n",
       "    </tr>\n",
       "  </tbody>\n",
       "</table>\n",
       "</div>"
      ],
      "text/plain": [
       "                                          Anzahl    Prozent\n",
       "ort_fluss     Ort                 bef_nr                   \n",
       "Likwala-Esobe Boleko (Fpl. 285)   87/101    24.0  12.121212\n",
       "Sangha        Bobusa (Fpl. 239)   87/102    21.0  10.606061\n",
       "              Sosolo (Fpl. 241)   87/101    19.0   9.595960\n",
       "Zaire/Kongo   Gombe (Fpl. 237)    87/101    18.0   9.090909\n",
       "Ubangi        Bobangi (Fpl. 189)  85/101    17.0   8.585859\n",
       "              Boyoka (Fpl. 196)   85/101    12.0   6.060606\n",
       "Likwala-Esobe Yumba (Fpl. 289)    87/103     8.0   4.040404\n",
       "Ubangi        Bolumbu (Fpl. 194)  85/101     8.0   4.040404\n",
       "              Ilanga (Fpl. 192)   85/101     8.0   4.040404\n",
       "Likwala-Esobe Yumba (Fpl. 289)    87/101     6.0   3.030303\n",
       "Ubangi        Loka (Fpl. 193)     85/101     6.0   3.030303\n",
       "Likwala-Esobe Botwale (Fpl. 286)  87/101     6.0   3.030303\n",
       "              Misongo (Fpl. 288)  87/101     5.0   2.525253\n",
       "              Boyenge (Fpl. 284)  87/101     4.0   2.020202\n",
       "Sangha        Bonga (Fpl. 238)    87/102     4.0   2.020202\n",
       "Likwala-Esobe Boleko (Fpl. 285)   87/1       4.0   2.020202\n",
       "              Yumba (Fpl. 289)    87/102     4.0   2.020202\n",
       "              Bojenjo (Fpl. 292)  87/101     3.0   1.515152\n",
       "Ubangi        Zamba (Fpl. 191)    85/101     3.0   1.515152\n",
       "Likwala-Esobe Ngombe (Fpl. 283)   87/101     3.0   1.515152\n",
       "Sangha        Bobusa (Fpl. 239)   87/2       3.0   1.515152\n",
       "Zaire/Kongo   Lukolela (Fpl. 234) 87/101     2.0   1.010101\n",
       "Sangha        Loboko (Fpl. 248)   87/101     2.0   1.010101\n",
       "Ubangi        Bokwango (Fpl. 190) 85/101     2.0   1.010101\n",
       "Zaire/Kongo   Sungu (Fpl. 236)    87/101     2.0   1.010101\n",
       "Ubangi        Bobulu (Fpl. 198)   85/101     1.0   0.505051\n",
       "Sangha        Pikunda (Fpl. 255)  87/101     1.0   0.505051\n",
       "              Mitula (Fpl. 251)   87/102     1.0   0.505051\n",
       "              Bonga (Fpl. 238)    87/101     1.0   0.505051"
      ]
     },
     "execution_count": 64,
     "metadata": {},
     "output_type": "execute_result"
    }
   ],
   "source": [
    "# nur einzeln aufgenommene GE\n",
    "df_ge = df.loc[df['Anzahl'] == 1]\n",
    "\n",
    "df_pivot = df_ge.pivot_table(values = ['Anzahl', 'Gewicht'], index = ['ort_fluss', 'Ort', 'bef_nr'], aggfunc = np.sum)\n",
    "df_pivot = pd.DataFrame(df_pivot)\n",
    "df_pivot['Prozent'] = df_pivot['Anzahl']/df_pivot['Anzahl'].sum()*100\n",
    "df_pivot = df_pivot.sort_index(by=['Anzahl'], ascending=[False])\n",
    "df_pivot"
   ]
  },
  {
   "cell_type": "code",
   "execution_count": 70,
   "metadata": {},
   "outputs": [
    {
     "data": {
      "text/html": [
       "<div>\n",
       "<table border=\"1\" class=\"dataframe\">\n",
       "  <thead>\n",
       "    <tr style=\"text-align: right;\">\n",
       "      <th></th>\n",
       "      <th>Anzahl</th>\n",
       "    </tr>\n",
       "    <tr>\n",
       "      <th>Typ</th>\n",
       "      <th></th>\n",
       "    </tr>\n",
       "  </thead>\n",
       "  <tbody>\n",
       "    <tr>\n",
       "      <th>BBS/BOT (?)</th>\n",
       "      <td>1.0</td>\n",
       "    </tr>\n",
       "    <tr>\n",
       "      <th>BOT</th>\n",
       "      <td>76.0</td>\n",
       "    </tr>\n",
       "    <tr>\n",
       "      <th>BOT (?)</th>\n",
       "      <td>101.0</td>\n",
       "    </tr>\n",
       "    <tr>\n",
       "      <th>BOT/BDG (?)</th>\n",
       "      <td>1.0</td>\n",
       "    </tr>\n",
       "    <tr>\n",
       "      <th>BOT/EBA (?)</th>\n",
       "      <td>5.0</td>\n",
       "    </tr>\n",
       "    <tr>\n",
       "      <th>BOT/MKA (?)</th>\n",
       "      <td>2.0</td>\n",
       "    </tr>\n",
       "    <tr>\n",
       "      <th>BOT/MKA/MAT (?)</th>\n",
       "      <td>2.0</td>\n",
       "    </tr>\n",
       "    <tr>\n",
       "      <th>EBA/BOT</th>\n",
       "      <td>1.0</td>\n",
       "    </tr>\n",
       "    <tr>\n",
       "      <th>EBA/BOT (?)</th>\n",
       "      <td>5.0</td>\n",
       "    </tr>\n",
       "    <tr>\n",
       "      <th>EPE/BOT (?)</th>\n",
       "      <td>4.0</td>\n",
       "    </tr>\n",
       "  </tbody>\n",
       "</table>\n",
       "</div>"
      ],
      "text/plain": [
       "                 Anzahl\n",
       "Typ                    \n",
       "BBS/BOT (?)         1.0\n",
       "BOT                76.0\n",
       "BOT (?)           101.0\n",
       "BOT/BDG (?)         1.0\n",
       "BOT/EBA (?)         5.0\n",
       "BOT/MKA (?)         2.0\n",
       "BOT/MKA/MAT (?)     2.0\n",
       "EBA/BOT             1.0\n",
       "EBA/BOT (?)         5.0\n",
       "EPE/BOT (?)         4.0"
      ]
     },
     "execution_count": 70,
     "metadata": {},
     "output_type": "execute_result"
    }
   ],
   "source": [
    "df_ge.pivot_table(values = ['Anzahl', 'Gewicht'], index = ['Typ'], aggfunc = np.sum)"
   ]
  },
  {
   "cell_type": "code",
   "execution_count": 65,
   "metadata": {},
   "outputs": [
    {
     "data": {
      "text/html": [
       "<div>\n",
       "<table border=\"1\" class=\"dataframe\">\n",
       "  <thead>\n",
       "    <tr style=\"text-align: right;\">\n",
       "      <th></th>\n",
       "      <th>0</th>\n",
       "      <th>Prozent</th>\n",
       "    </tr>\n",
       "  </thead>\n",
       "  <tbody>\n",
       "    <tr>\n",
       "      <th>fraglich</th>\n",
       "      <td>121.0</td>\n",
       "      <td>61.42132</td>\n",
       "    </tr>\n",
       "    <tr>\n",
       "      <th>sicher</th>\n",
       "      <td>76.0</td>\n",
       "      <td>38.57868</td>\n",
       "    </tr>\n",
       "  </tbody>\n",
       "</table>\n",
       "</div>"
      ],
      "text/plain": [
       "              0   Prozent\n",
       "fraglich  121.0  61.42132\n",
       "sicher     76.0  38.57868"
      ]
     },
     "execution_count": 65,
     "metadata": {},
     "output_type": "execute_result"
    }
   ],
   "source": [
    "a = pd.Series({'sicher':np.sum(df_ge['Anzahl'].loc[df_ge['Typ'] == style]),\n",
    "               'fraglich':np.sum(df_ge['Anzahl'].loc[df_ge['Typ'].str.contains(' ')])})\n",
    "a = pd.DataFrame(a)\n",
    "a['Prozent'] = a[0]/a[0].sum()*100\n",
    "a"
   ]
  },
  {
   "cell_type": "code",
   "execution_count": 66,
   "metadata": {
    "collapsed": true
   },
   "outputs": [],
   "source": [
    "# nur ausgezählte Stücke\n",
    "df_a = df.loc[df['Anzahl'] != 1]"
   ]
  },
  {
   "cell_type": "code",
   "execution_count": 7,
   "metadata": {},
   "outputs": [
    {
     "data": {
      "text/html": [
       "<div>\n",
       "<table border=\"1\" class=\"dataframe\">\n",
       "  <thead>\n",
       "    <tr style=\"text-align: right;\">\n",
       "      <th>Scherbe</th>\n",
       "      <th>G</th>\n",
       "      <th>R</th>\n",
       "      <th>W</th>\n",
       "      <th>All</th>\n",
       "    </tr>\n",
       "    <tr>\n",
       "      <th>Typ</th>\n",
       "      <th></th>\n",
       "      <th></th>\n",
       "      <th></th>\n",
       "      <th></th>\n",
       "    </tr>\n",
       "  </thead>\n",
       "  <tbody>\n",
       "    <tr>\n",
       "      <th>BDG/BOT (?)</th>\n",
       "      <td>NaN</td>\n",
       "      <td>NaN</td>\n",
       "      <td>2.0</td>\n",
       "      <td>2.0</td>\n",
       "    </tr>\n",
       "    <tr>\n",
       "      <th>BOT</th>\n",
       "      <td>NaN</td>\n",
       "      <td>19.0</td>\n",
       "      <td>7.0</td>\n",
       "      <td>26.0</td>\n",
       "    </tr>\n",
       "    <tr>\n",
       "      <th>BOT (?)</th>\n",
       "      <td>NaN</td>\n",
       "      <td>30.0</td>\n",
       "      <td>42.0</td>\n",
       "      <td>72.0</td>\n",
       "    </tr>\n",
       "    <tr>\n",
       "      <th>EBA/BOT (?)</th>\n",
       "      <td>NaN</td>\n",
       "      <td>NaN</td>\n",
       "      <td>11.0</td>\n",
       "      <td>11.0</td>\n",
       "    </tr>\n",
       "    <tr>\n",
       "      <th>EPE/BOT (?)</th>\n",
       "      <td>NaN</td>\n",
       "      <td>9.0</td>\n",
       "      <td>NaN</td>\n",
       "      <td>9.0</td>\n",
       "    </tr>\n",
       "    <tr>\n",
       "      <th>All</th>\n",
       "      <td>NaN</td>\n",
       "      <td>58.0</td>\n",
       "      <td>62.0</td>\n",
       "      <td>120.0</td>\n",
       "    </tr>\n",
       "  </tbody>\n",
       "</table>\n",
       "</div>"
      ],
      "text/plain": [
       "Scherbe       G     R     W    All\n",
       "Typ                               \n",
       "BDG/BOT (?) NaN   NaN   2.0    2.0\n",
       "BOT         NaN  19.0   7.0   26.0\n",
       "BOT (?)     NaN  30.0  42.0   72.0\n",
       "EBA/BOT (?) NaN   NaN  11.0   11.0\n",
       "EPE/BOT (?) NaN   9.0   NaN    9.0\n",
       "All         NaN  58.0  62.0  120.0"
      ]
     },
     "execution_count": 7,
     "metadata": {},
     "output_type": "execute_result"
    }
   ],
   "source": [
    "df_a.pivot_table(values = 'Anzahl', index = 'Typ', columns = 'Scherbe', aggfunc = np.sum, margins = True)"
   ]
  },
  {
   "cell_type": "code",
   "execution_count": 8,
   "metadata": {},
   "outputs": [
    {
     "data": {
      "text/html": [
       "<div>\n",
       "<table border=\"1\" class=\"dataframe\">\n",
       "  <thead>\n",
       "    <tr style=\"text-align: right;\">\n",
       "      <th></th>\n",
       "      <th></th>\n",
       "      <th></th>\n",
       "      <th>Anzahl</th>\n",
       "    </tr>\n",
       "    <tr>\n",
       "      <th>ort_fluss</th>\n",
       "      <th>Ort</th>\n",
       "      <th>bef_nr</th>\n",
       "      <th></th>\n",
       "    </tr>\n",
       "  </thead>\n",
       "  <tbody>\n",
       "    <tr>\n",
       "      <th rowspan=\"8\" valign=\"top\">Likwala-Esobe</th>\n",
       "      <th>Bojenjo (Fpl. 292)</th>\n",
       "      <th>87/101</th>\n",
       "      <td>9</td>\n",
       "    </tr>\n",
       "    <tr>\n",
       "      <th>Boleko (Fpl. 285)</th>\n",
       "      <th>87/101</th>\n",
       "      <td>4</td>\n",
       "    </tr>\n",
       "    <tr>\n",
       "      <th>Botwale (Fpl. 286)</th>\n",
       "      <th>87/101</th>\n",
       "      <td>10</td>\n",
       "    </tr>\n",
       "    <tr>\n",
       "      <th>Misongo (Fpl. 288)</th>\n",
       "      <th>87/101</th>\n",
       "      <td>12</td>\n",
       "    </tr>\n",
       "    <tr>\n",
       "      <th>Ngombe (Fpl. 283)</th>\n",
       "      <th>87/101</th>\n",
       "      <td>3</td>\n",
       "    </tr>\n",
       "    <tr>\n",
       "      <th rowspan=\"3\" valign=\"top\">Yumba (Fpl. 289)</th>\n",
       "      <th>87/101</th>\n",
       "      <td>16</td>\n",
       "    </tr>\n",
       "    <tr>\n",
       "      <th>87/102</th>\n",
       "      <td>2</td>\n",
       "    </tr>\n",
       "    <tr>\n",
       "      <th>87/103</th>\n",
       "      <td>10</td>\n",
       "    </tr>\n",
       "    <tr>\n",
       "      <th rowspan=\"3\" valign=\"top\">Sangha</th>\n",
       "      <th rowspan=\"2\" valign=\"top\">Bobusa (Fpl. 239)</th>\n",
       "      <th>87/102</th>\n",
       "      <td>16</td>\n",
       "    </tr>\n",
       "    <tr>\n",
       "      <th>87/2</th>\n",
       "      <td>27</td>\n",
       "    </tr>\n",
       "    <tr>\n",
       "      <th>Sosolo (Fpl. 241)</th>\n",
       "      <th>87/101</th>\n",
       "      <td></td>\n",
       "    </tr>\n",
       "    <tr>\n",
       "      <th>Ubangi</th>\n",
       "      <th>Bobangi (Fpl. 189)</th>\n",
       "      <th>85/101</th>\n",
       "      <td>6</td>\n",
       "    </tr>\n",
       "    <tr>\n",
       "      <th rowspan=\"2\" valign=\"top\">Zaire/Kongo</th>\n",
       "      <th>Gombe (Fpl. 237)</th>\n",
       "      <th>87/101</th>\n",
       "      <td>3</td>\n",
       "    </tr>\n",
       "    <tr>\n",
       "      <th>Sungu (Fpl. 236)</th>\n",
       "      <th>87/101</th>\n",
       "      <td>2</td>\n",
       "    </tr>\n",
       "  </tbody>\n",
       "</table>\n",
       "</div>"
      ],
      "text/plain": [
       "                                        Anzahl\n",
       "ort_fluss     Ort                bef_nr       \n",
       "Likwala-Esobe Bojenjo (Fpl. 292) 87/101      9\n",
       "              Boleko (Fpl. 285)  87/101      4\n",
       "              Botwale (Fpl. 286) 87/101     10\n",
       "              Misongo (Fpl. 288) 87/101     12\n",
       "              Ngombe (Fpl. 283)  87/101      3\n",
       "              Yumba (Fpl. 289)   87/101     16\n",
       "                                 87/102      2\n",
       "                                 87/103     10\n",
       "Sangha        Bobusa (Fpl. 239)  87/102     16\n",
       "                                 87/2       27\n",
       "              Sosolo (Fpl. 241)  87/101       \n",
       "Ubangi        Bobangi (Fpl. 189) 85/101      6\n",
       "Zaire/Kongo   Gombe (Fpl. 237)   87/101      3\n",
       "              Sungu (Fpl. 236)   87/101      2"
      ]
     },
     "execution_count": 8,
     "metadata": {},
     "output_type": "execute_result"
    }
   ],
   "source": [
    "df_pivot = df_a.pivot_table(values = ['Anzahl', 'Gewicht'], index = ['ort_fluss', 'Ort', 'bef_nr'], aggfunc = np.sum, fill_value = '')\n",
    "df_pivot"
   ]
  },
  {
   "cell_type": "markdown",
   "metadata": {},
   "source": [
    "### Befunde"
   ]
  },
  {
   "cell_type": "code",
   "execution_count": 9,
   "metadata": {},
   "outputs": [
    {
     "data": {
      "text/html": [
       "<div>\n",
       "<table border=\"1\" class=\"dataframe\">\n",
       "  <thead>\n",
       "    <tr style=\"text-align: right;\">\n",
       "      <th></th>\n",
       "      <th>Anzahl</th>\n",
       "      <th>Prozent</th>\n",
       "    </tr>\n",
       "    <tr>\n",
       "      <th>bef_art</th>\n",
       "      <th></th>\n",
       "      <th></th>\n",
       "    </tr>\n",
       "  </thead>\n",
       "  <tbody>\n",
       "    <tr>\n",
       "      <th>Grab</th>\n",
       "      <td>4.0</td>\n",
       "      <td>1.257862</td>\n",
       "    </tr>\n",
       "    <tr>\n",
       "      <th>Oberfl</th>\n",
       "      <td>284.0</td>\n",
       "      <td>89.308176</td>\n",
       "    </tr>\n",
       "    <tr>\n",
       "      <th>Schicht</th>\n",
       "      <td>30.0</td>\n",
       "      <td>9.433962</td>\n",
       "    </tr>\n",
       "  </tbody>\n",
       "</table>\n",
       "</div>"
      ],
      "text/plain": [
       "         Anzahl    Prozent\n",
       "bef_art                   \n",
       "Grab        4.0   1.257862\n",
       "Oberfl    284.0  89.308176\n",
       "Schicht    30.0   9.433962"
      ]
     },
     "execution_count": 9,
     "metadata": {},
     "output_type": "execute_result"
    }
   ],
   "source": [
    "df_pivot = df.pivot_table(values = 'Anzahl', index = 'bef_art', aggfunc = sum)\n",
    "df_pivot = pd.DataFrame(df_pivot)\n",
    "df_pivot['Prozent'] = df_pivot['Anzahl']/df_pivot['Anzahl'].sum()*100\n",
    "df_pivot"
   ]
  },
  {
   "cell_type": "markdown",
   "metadata": {},
   "source": [
    "Nur die Stücke aus den Gräbern:"
   ]
  },
  {
   "cell_type": "code",
   "execution_count": 10,
   "metadata": {},
   "outputs": [
    {
     "data": {
      "text/html": [
       "<div>\n",
       "<table border=\"1\" class=\"dataframe\">\n",
       "  <thead>\n",
       "    <tr style=\"text-align: right;\">\n",
       "      <th></th>\n",
       "      <th>ort_kurz</th>\n",
       "      <th>Ort</th>\n",
       "      <th>ort_fluss</th>\n",
       "      <th>bef_nr</th>\n",
       "      <th>bef_art</th>\n",
       "      <th>objID</th>\n",
       "      <th>Scherbe</th>\n",
       "      <th>Anzahl</th>\n",
       "      <th>Form_Gef</th>\n",
       "      <th>Typ</th>\n",
       "    </tr>\n",
       "  </thead>\n",
       "  <tbody>\n",
       "    <tr>\n",
       "      <th>7</th>\n",
       "      <td>BLK</td>\n",
       "      <td>Boleko (Fpl. 285)</td>\n",
       "      <td>Likwala-Esobe</td>\n",
       "      <td>87/1</td>\n",
       "      <td>Grab</td>\n",
       "      <td>1135</td>\n",
       "      <td>R</td>\n",
       "      <td>1.0</td>\n",
       "      <td>E7</td>\n",
       "      <td>BOT (?)</td>\n",
       "    </tr>\n",
       "    <tr>\n",
       "      <th>17</th>\n",
       "      <td>BLK</td>\n",
       "      <td>Boleko (Fpl. 285)</td>\n",
       "      <td>Likwala-Esobe</td>\n",
       "      <td>87/1</td>\n",
       "      <td>Grab</td>\n",
       "      <td>1470</td>\n",
       "      <td>G</td>\n",
       "      <td>1.0</td>\n",
       "      <td>G4</td>\n",
       "      <td>BOT (?)</td>\n",
       "    </tr>\n",
       "    <tr>\n",
       "      <th>19</th>\n",
       "      <td>BLK</td>\n",
       "      <td>Boleko (Fpl. 285)</td>\n",
       "      <td>Likwala-Esobe</td>\n",
       "      <td>87/1</td>\n",
       "      <td>Grab</td>\n",
       "      <td>1526</td>\n",
       "      <td>G</td>\n",
       "      <td>1.0</td>\n",
       "      <td>I3</td>\n",
       "      <td>BOT (?)</td>\n",
       "    </tr>\n",
       "    <tr>\n",
       "      <th>22</th>\n",
       "      <td>BLK</td>\n",
       "      <td>Boleko (Fpl. 285)</td>\n",
       "      <td>Likwala-Esobe</td>\n",
       "      <td>87/1</td>\n",
       "      <td>Grab</td>\n",
       "      <td>1805</td>\n",
       "      <td>R</td>\n",
       "      <td>1.0</td>\n",
       "      <td>E1 (?)</td>\n",
       "      <td>BOT (?)</td>\n",
       "    </tr>\n",
       "  </tbody>\n",
       "</table>\n",
       "</div>"
      ],
      "text/plain": [
       "   ort_kurz                Ort      ort_fluss bef_nr bef_art  objID Scherbe  \\\n",
       "7       BLK  Boleko (Fpl. 285)  Likwala-Esobe   87/1    Grab   1135       R   \n",
       "17      BLK  Boleko (Fpl. 285)  Likwala-Esobe   87/1    Grab   1470       G   \n",
       "19      BLK  Boleko (Fpl. 285)  Likwala-Esobe   87/1    Grab   1526       G   \n",
       "22      BLK  Boleko (Fpl. 285)  Likwala-Esobe   87/1    Grab   1805       R   \n",
       "\n",
       "    Anzahl Form_Gef      Typ  \n",
       "7      1.0       E7  BOT (?)  \n",
       "17     1.0       G4  BOT (?)  \n",
       "19     1.0       I3  BOT (?)  \n",
       "22     1.0   E1 (?)  BOT (?)  "
      ]
     },
     "execution_count": 10,
     "metadata": {},
     "output_type": "execute_result"
    }
   ],
   "source": [
    "df[df['bef_art'] == 'Grab']"
   ]
  },
  {
   "cell_type": "code",
   "execution_count": 11,
   "metadata": {},
   "outputs": [
    {
     "data": {
      "text/html": [
       "<div>\n",
       "<table border=\"1\" class=\"dataframe\">\n",
       "  <thead>\n",
       "    <tr style=\"text-align: right;\">\n",
       "      <th></th>\n",
       "      <th>ort_kurz</th>\n",
       "      <th>Ort</th>\n",
       "      <th>ort_fluss</th>\n",
       "      <th>bef_nr</th>\n",
       "      <th>bef_art</th>\n",
       "      <th>objID</th>\n",
       "      <th>Scherbe</th>\n",
       "      <th>Anzahl</th>\n",
       "      <th>Form_Gef</th>\n",
       "      <th>Typ</th>\n",
       "    </tr>\n",
       "  </thead>\n",
       "  <tbody>\n",
       "    <tr>\n",
       "      <th>127</th>\n",
       "      <td>BBS</td>\n",
       "      <td>Bobusa (Fpl. 239)</td>\n",
       "      <td>Sangha</td>\n",
       "      <td>87/2</td>\n",
       "      <td>Schicht</td>\n",
       "      <td>3880</td>\n",
       "      <td>R</td>\n",
       "      <td>1.0</td>\n",
       "      <td>None</td>\n",
       "      <td>BOT (?)</td>\n",
       "    </tr>\n",
       "    <tr>\n",
       "      <th>128</th>\n",
       "      <td>BBS</td>\n",
       "      <td>Bobusa (Fpl. 239)</td>\n",
       "      <td>Sangha</td>\n",
       "      <td>87/2</td>\n",
       "      <td>Schicht</td>\n",
       "      <td>3882</td>\n",
       "      <td>R</td>\n",
       "      <td>1.0</td>\n",
       "      <td>None</td>\n",
       "      <td>BOT (?)</td>\n",
       "    </tr>\n",
       "    <tr>\n",
       "      <th>129</th>\n",
       "      <td>BBS</td>\n",
       "      <td>Bobusa (Fpl. 239)</td>\n",
       "      <td>Sangha</td>\n",
       "      <td>87/2</td>\n",
       "      <td>Schicht</td>\n",
       "      <td>3883</td>\n",
       "      <td>W</td>\n",
       "      <td>1.0</td>\n",
       "      <td>None</td>\n",
       "      <td>BOT (?)</td>\n",
       "    </tr>\n",
       "    <tr>\n",
       "      <th>130</th>\n",
       "      <td>BBS</td>\n",
       "      <td>Bobusa (Fpl. 239)</td>\n",
       "      <td>Sangha</td>\n",
       "      <td>87/2</td>\n",
       "      <td>Schicht</td>\n",
       "      <td>3884</td>\n",
       "      <td>W</td>\n",
       "      <td>3.0</td>\n",
       "      <td>None</td>\n",
       "      <td>BOT (?)</td>\n",
       "    </tr>\n",
       "    <tr>\n",
       "      <th>131</th>\n",
       "      <td>BBS</td>\n",
       "      <td>Bobusa (Fpl. 239)</td>\n",
       "      <td>Sangha</td>\n",
       "      <td>87/2</td>\n",
       "      <td>Schicht</td>\n",
       "      <td>3885</td>\n",
       "      <td>W</td>\n",
       "      <td>3.0</td>\n",
       "      <td>None</td>\n",
       "      <td>BOT (?)</td>\n",
       "    </tr>\n",
       "    <tr>\n",
       "      <th>132</th>\n",
       "      <td>BBS</td>\n",
       "      <td>Bobusa (Fpl. 239)</td>\n",
       "      <td>Sangha</td>\n",
       "      <td>87/2</td>\n",
       "      <td>Schicht</td>\n",
       "      <td>3886</td>\n",
       "      <td>W</td>\n",
       "      <td>5.0</td>\n",
       "      <td>None</td>\n",
       "      <td>BOT (?)</td>\n",
       "    </tr>\n",
       "    <tr>\n",
       "      <th>133</th>\n",
       "      <td>BBS</td>\n",
       "      <td>Bobusa (Fpl. 239)</td>\n",
       "      <td>Sangha</td>\n",
       "      <td>87/2</td>\n",
       "      <td>Schicht</td>\n",
       "      <td>3887</td>\n",
       "      <td>W</td>\n",
       "      <td>16.0</td>\n",
       "      <td>None</td>\n",
       "      <td>BOT (?)</td>\n",
       "    </tr>\n",
       "  </tbody>\n",
       "</table>\n",
       "</div>"
      ],
      "text/plain": [
       "    ort_kurz                Ort ort_fluss bef_nr  bef_art  objID Scherbe  \\\n",
       "127      BBS  Bobusa (Fpl. 239)    Sangha   87/2  Schicht   3880       R   \n",
       "128      BBS  Bobusa (Fpl. 239)    Sangha   87/2  Schicht   3882       R   \n",
       "129      BBS  Bobusa (Fpl. 239)    Sangha   87/2  Schicht   3883       W   \n",
       "130      BBS  Bobusa (Fpl. 239)    Sangha   87/2  Schicht   3884       W   \n",
       "131      BBS  Bobusa (Fpl. 239)    Sangha   87/2  Schicht   3885       W   \n",
       "132      BBS  Bobusa (Fpl. 239)    Sangha   87/2  Schicht   3886       W   \n",
       "133      BBS  Bobusa (Fpl. 239)    Sangha   87/2  Schicht   3887       W   \n",
       "\n",
       "     Anzahl Form_Gef      Typ  \n",
       "127     1.0     None  BOT (?)  \n",
       "128     1.0     None  BOT (?)  \n",
       "129     1.0     None  BOT (?)  \n",
       "130     3.0     None  BOT (?)  \n",
       "131     3.0     None  BOT (?)  \n",
       "132     5.0     None  BOT (?)  \n",
       "133    16.0     None  BOT (?)  "
      ]
     },
     "execution_count": 11,
     "metadata": {},
     "output_type": "execute_result"
    }
   ],
   "source": [
    "df[df['bef_art'] == 'Schicht']"
   ]
  },
  {
   "cell_type": "markdown",
   "metadata": {},
   "source": [
    "## Scherbentypen"
   ]
  },
  {
   "cell_type": "code",
   "execution_count": 12,
   "metadata": {},
   "outputs": [
    {
     "data": {
      "text/html": [
       "<div>\n",
       "<table border=\"1\" class=\"dataframe\">\n",
       "  <thead>\n",
       "    <tr style=\"text-align: right;\">\n",
       "      <th></th>\n",
       "      <th>Anzahl</th>\n",
       "      <th>Prozent</th>\n",
       "    </tr>\n",
       "  </thead>\n",
       "  <tbody>\n",
       "    <tr>\n",
       "      <th>G</th>\n",
       "      <td>7.0</td>\n",
       "      <td>2.201258</td>\n",
       "    </tr>\n",
       "    <tr>\n",
       "      <th>R</th>\n",
       "      <td>215.0</td>\n",
       "      <td>67.610063</td>\n",
       "    </tr>\n",
       "    <tr>\n",
       "      <th>W</th>\n",
       "      <td>93.0</td>\n",
       "      <td>29.245283</td>\n",
       "    </tr>\n",
       "    <tr>\n",
       "      <th>B</th>\n",
       "      <td>3.0</td>\n",
       "      <td>0.943396</td>\n",
       "    </tr>\n",
       "  </tbody>\n",
       "</table>\n",
       "</div>"
      ],
      "text/plain": [
       "   Anzahl    Prozent\n",
       "G     7.0   2.201258\n",
       "R   215.0  67.610063\n",
       "W    93.0  29.245283\n",
       "B     3.0   0.943396"
      ]
     },
     "execution_count": 12,
     "metadata": {},
     "output_type": "execute_result"
    }
   ],
   "source": [
    "df_pivot = df.pivot_table(values = 'Anzahl', index = 'Scherbe', aggfunc = np.sum)\n",
    "# df_pivot['B'] = 0.\n",
    "custom_dict = {'G':0,'R':1,'W':3,'B':4}\n",
    "df_pivot = pd.DataFrame(df_pivot, index=sorted(custom_dict, key=custom_dict.get))\n",
    "df_pivot['Prozent'] = df_pivot['Anzahl']/df_pivot['Anzahl'].sum()*100\n",
    "df_pivot"
   ]
  },
  {
   "cell_type": "code",
   "execution_count": 13,
   "metadata": {},
   "outputs": [
    {
     "data": {
      "image/png": "[encoded data removed]",
      "text/plain": [
       "<matplotlib.figure.Figure at 0x586259a780>"
      ]
     },
     "metadata": {},
     "output_type": "display_data"
    }
   ],
   "source": [
    "df_pivot.plot(y = 'Prozent', kind = 'bar', legend = None, color = 'grey')\n",
    "plt.xticks(rotation=0)\n",
    "plt.xlabel('Scherbentypen')\n",
    "plt.ylabel('Anteil [%]')\n",
    "plt.show()"
   ]
  },
  {
   "cell_type": "code",
   "execution_count": 67,
   "metadata": {},
   "outputs": [
    {
     "data": {
      "image/png": "[encoded data removed]",
      "text/plain": [
       "<matplotlib.figure.Figure at 0x5864657e48>"
      ]
     },
     "metadata": {},
     "output_type": "display_data"
    }
   ],
   "source": [
    "sql = \"\"\"SELECT\n",
    "           t_Obj.objID,\n",
    "           t_Ort.ort_kurz,\n",
    "           't_Ort'.'ort_name' || ' (Fpl. ' || 't_ort'.'Kat-Nr' || ')' AS Ort,\n",
    "           t_Komplex.bef_nr,\n",
    "           t_Ort.ort_fluss,\n",
    "           t_Obj.GefEinheit AS GE,\n",
    "           t_Obj.Scherbe,\n",
    "           t_Obj.Gewicht,\n",
    "           t_Obj.Anzahl,\n",
    "           t_Obj.Gr_Clist,\n",
    "           t_Obj.Typ\n",
    "       FROM (t_Ort INNER JOIN t_Komplex ON t_Ort.ortID = t_Komplex.ortID)\n",
    "           INNER JOIN t_Obj ON t_Komplex.komplexID = t_Obj.komplexID\n",
    "       WHERE (((t_Ort.ort_lit)='DS')\n",
    "           AND ((t_Obj.Typ) Like '%\"\"\"+style+\"\"\"%'))\"\"\".replace('\\n',' ')\n",
    "df = pd.read_sql(sql, con)\n",
    "\n",
    "df_pivot = df.pivot_table(values = 'Anzahl', index = 'Gr_Clist', aggfunc = np.sum)\n",
    "#df_pivot['B'] = 0.\n",
    "custom_dict = {'30':0, 70:1, 120:3,200:4,'>200':5}\n",
    "df_pivot = pd.DataFrame(df_pivot, index=sorted(custom_dict, key=custom_dict.get))\n",
    "df_pivot['Prozent'] = df_pivot['Anzahl']/df_pivot['Anzahl'].sum()*100\n",
    "\n",
    "df_pivot.plot(y = 'Prozent', kind = 'bar', legend = None, color = 'grey')\n",
    "plt.xticks(rotation=0)\n",
    "plt.xlabel('Größenklassen')\n",
    "plt.ylabel('Anteil [%]')\n",
    "plt.show()"
   ]
  },
  {
   "cell_type": "code",
   "execution_count": 68,
   "metadata": {},
   "outputs": [
    {
     "data": {
      "text/html": [
       "<div>\n",
       "<table border=\"1\" class=\"dataframe\">\n",
       "  <thead>\n",
       "    <tr style=\"text-align: right;\">\n",
       "      <th></th>\n",
       "      <th>Anzahl</th>\n",
       "      <th>Prozent</th>\n",
       "    </tr>\n",
       "  </thead>\n",
       "  <tbody>\n",
       "    <tr>\n",
       "      <th>30</th>\n",
       "      <td>NaN</td>\n",
       "      <td>NaN</td>\n",
       "    </tr>\n",
       "    <tr>\n",
       "      <th>70</th>\n",
       "      <td>108.0</td>\n",
       "      <td>62.068966</td>\n",
       "    </tr>\n",
       "    <tr>\n",
       "      <th>120</th>\n",
       "      <td>59.0</td>\n",
       "      <td>33.908046</td>\n",
       "    </tr>\n",
       "    <tr>\n",
       "      <th>200</th>\n",
       "      <td>7.0</td>\n",
       "      <td>4.022989</td>\n",
       "    </tr>\n",
       "    <tr>\n",
       "      <th>&gt;200</th>\n",
       "      <td>NaN</td>\n",
       "      <td>NaN</td>\n",
       "    </tr>\n",
       "  </tbody>\n",
       "</table>\n",
       "</div>"
      ],
      "text/plain": [
       "      Anzahl    Prozent\n",
       "30       NaN        NaN\n",
       "70     108.0  62.068966\n",
       "120     59.0  33.908046\n",
       "200      7.0   4.022989\n",
       ">200     NaN        NaN"
      ]
     },
     "execution_count": 68,
     "metadata": {},
     "output_type": "execute_result"
    }
   ],
   "source": [
    "df_pivot"
   ]
  },
  {
   "cell_type": "markdown",
   "metadata": {},
   "source": [
    "## Technologische Merkmale (*fabrics*)"
   ]
  },
  {
   "cell_type": "code",
   "execution_count": 81,
   "metadata": {
    "collapsed": true
   },
   "outputs": [],
   "source": [
    "sql = \"\"\"SELECT\n",
    "           t_Obj.objID,\n",
    "           't_Ort'.'ort_name' || ' (Fpl. ' || 't_ort'.'Kat-Nr' || ')' AS Ort,\n",
    "           t_Komplex.bef_nr,\n",
    "           t_Obj.Anzahl,\n",
    "           t_Obj.MagerungGröße,\n",
    "           t_Obj.MagerungArt,\n",
    "           t_Obj.MagerungDichte,\n",
    "           t_Obj.Fabric,\n",
    "           t_Obj.Typ\n",
    "       FROM (t_Ort INNER JOIN t_Komplex ON t_Ort.ortID = t_Komplex.ortID)\n",
    "           INNER JOIN t_Obj ON t_Komplex.komplexID = t_Obj.komplexID\n",
    "       WHERE (((t_Obj.Fabric) != '')\n",
    "           AND ((t_Obj.Typ) Like '%\"\"\"+style+\"\"\"%'))\"\"\".replace('\\n',' ')\n",
    "\n",
    "df = pd.read_sql(sql, con)"
   ]
  },
  {
   "cell_type": "code",
   "execution_count": 82,
   "metadata": {},
   "outputs": [
    {
     "name": "stderr",
     "output_type": "stream",
     "text": [
      "C:\\Users\\Dirk\\Anaconda3\\lib\\site-packages\\ipykernel\\__main__.py:3: FutureWarning: by argument to sort_index is deprecated, pls use .sort_values(by=...)\n",
      "  app.launch_new_instance()\n"
     ]
    }
   ],
   "source": [
    "df_pivot = df.pivot_table(values = 'Anzahl', index = 'Fabric', aggfunc = sum)\n",
    "df_pivot = pd.DataFrame(df_pivot)\n",
    "df_pivot = df_pivot.sort_index(by=['Anzahl'], ascending=[False])"
   ]
  },
  {
   "cell_type": "code",
   "execution_count": 83,
   "metadata": {},
   "outputs": [
    {
     "data": {
      "image/png": "[encoded data removed]",
      "text/plain": [
       "<matplotlib.figure.Figure at 0x58649b0b70>"
      ]
     },
     "metadata": {},
     "output_type": "display_data"
    }
   ],
   "source": [
    "df_pivot.plot(kind = 'barh', legend = False, color = 'Grey')\n",
    "plt.show()"
   ]
  },
  {
   "cell_type": "code",
   "execution_count": 84,
   "metadata": {},
   "outputs": [
    {
     "data": {
      "text/html": [
       "<div>\n",
       "<table border=\"1\" class=\"dataframe\">\n",
       "  <thead>\n",
       "    <tr style=\"text-align: right;\">\n",
       "      <th></th>\n",
       "      <th>0</th>\n",
       "      <th>Prozent</th>\n",
       "    </tr>\n",
       "  </thead>\n",
       "  <tbody>\n",
       "    <tr>\n",
       "      <th>1</th>\n",
       "      <td>232</td>\n",
       "      <td>80.836237</td>\n",
       "    </tr>\n",
       "    <tr>\n",
       "      <th>2</th>\n",
       "      <td>22</td>\n",
       "      <td>7.665505</td>\n",
       "    </tr>\n",
       "    <tr>\n",
       "      <th>3</th>\n",
       "      <td>2</td>\n",
       "      <td>0.696864</td>\n",
       "    </tr>\n",
       "    <tr>\n",
       "      <th>4</th>\n",
       "      <td>3</td>\n",
       "      <td>1.045296</td>\n",
       "    </tr>\n",
       "    <tr>\n",
       "      <th>5</th>\n",
       "      <td>0</td>\n",
       "      <td>0.000000</td>\n",
       "    </tr>\n",
       "    <tr>\n",
       "      <th>6</th>\n",
       "      <td>0</td>\n",
       "      <td>0.000000</td>\n",
       "    </tr>\n",
       "    <tr>\n",
       "      <th>7</th>\n",
       "      <td>1</td>\n",
       "      <td>0.348432</td>\n",
       "    </tr>\n",
       "    <tr>\n",
       "      <th>8</th>\n",
       "      <td>4</td>\n",
       "      <td>1.393728</td>\n",
       "    </tr>\n",
       "    <tr>\n",
       "      <th>9</th>\n",
       "      <td>23</td>\n",
       "      <td>8.013937</td>\n",
       "    </tr>\n",
       "  </tbody>\n",
       "</table>\n",
       "</div>"
      ],
      "text/plain": [
       "     0    Prozent\n",
       "1  232  80.836237\n",
       "2   22   7.665505\n",
       "3    2   0.696864\n",
       "4    3   1.045296\n",
       "5    0   0.000000\n",
       "6    0   0.000000\n",
       "7    1   0.348432\n",
       "8    4   1.393728\n",
       "9   23   8.013937"
      ]
     },
     "execution_count": 84,
     "metadata": {},
     "output_type": "execute_result"
    }
   ],
   "source": [
    "df1 = df.dropna(subset = ['Fabric'])\n",
    "\n",
    "a = pd.Series({'1':sum(df1[\"Anzahl\"].loc[df1[\"Fabric\"].str.contains(\"1\")]),\n",
    "               '2':sum(df1[\"Anzahl\"].loc[df1[\"Fabric\"].str.contains(\"2\")]),\n",
    "               '3':sum(df1[\"Anzahl\"].loc[df1[\"Fabric\"].str.contains(\"3\")]),\n",
    "               '4':sum(df1[\"Anzahl\"].loc[df1[\"Fabric\"].str.contains(\"4\")]),\n",
    "               '5':sum(df1[\"Anzahl\"].loc[df1[\"Fabric\"].str.contains(\"5\")]),\n",
    "               '6':sum(df1[\"Anzahl\"].loc[df1[\"Fabric\"].str.contains(\"6\")]),\n",
    "               '7':sum(df1[\"Anzahl\"].loc[df1[\"Fabric\"].str.contains(\"7\")]),\n",
    "               '8':sum(df1[\"Anzahl\"].loc[df1[\"Fabric\"].str.contains(\"8\")]),\n",
    "               '9':sum(df1[\"Anzahl\"].loc[df1[\"Fabric\"].str.contains(\"9\")])})\n",
    "a = pd.DataFrame(a)\n",
    "a['Prozent'] = a[0]/a[0].sum()*100\n",
    "a"
   ]
  },
  {
   "cell_type": "code",
   "execution_count": 92,
   "metadata": {},
   "outputs": [
    {
     "data": {
      "text/plain": [
       "Ort                bef_nr\n",
       "Bobusa (Fpl. 239)  87/102    14\n",
       "Boleko (Fpl. 285)  87/1       1\n",
       "                   87/101     5\n",
       "Bonga (Fpl. 238)   87/101     1\n",
       "Sosolo (Fpl. 241)  87/101     2\n",
       "Name: Anzahl, dtype: int64"
      ]
     },
     "execution_count": 92,
     "metadata": {},
     "output_type": "execute_result"
    }
   ],
   "source": [
    "a = df1.loc[df1[\"Fabric\"].str.contains(\"9\")]\n",
    "a.pivot_table(values = 'Anzahl', index = ['Ort', 'bef_nr'], aggfunc = sum)"
   ]
  },
  {
   "cell_type": "code",
   "execution_count": 93,
   "metadata": {},
   "outputs": [
    {
     "data": {
      "text/plain": [
       "Typ\n",
       "BBS/BOT (?)     1\n",
       "BOT             3\n",
       "BOT (?)        19\n",
       "Name: Anzahl, dtype: int64"
      ]
     },
     "execution_count": 93,
     "metadata": {},
     "output_type": "execute_result"
    }
   ],
   "source": [
    "a.pivot_table(values = 'Anzahl', index = ['Typ'], aggfunc = sum)"
   ]
  },
  {
   "cell_type": "code",
   "execution_count": 18,
   "metadata": {},
   "outputs": [
    {
     "data": {
      "text/html": [
       "<div>\n",
       "<table border=\"1\" class=\"dataframe\">\n",
       "  <thead>\n",
       "    <tr style=\"text-align: right;\">\n",
       "      <th></th>\n",
       "      <th>Anzahl</th>\n",
       "      <th>Prozent</th>\n",
       "    </tr>\n",
       "    <tr>\n",
       "      <th>Fabric</th>\n",
       "      <th></th>\n",
       "      <th></th>\n",
       "    </tr>\n",
       "  </thead>\n",
       "  <tbody>\n",
       "    <tr>\n",
       "      <th>1d</th>\n",
       "      <td>81</td>\n",
       "      <td>28.825623</td>\n",
       "    </tr>\n",
       "    <tr>\n",
       "      <th>1b</th>\n",
       "      <td>60</td>\n",
       "      <td>21.352313</td>\n",
       "    </tr>\n",
       "    <tr>\n",
       "      <th>1 (?)</th>\n",
       "      <td>52</td>\n",
       "      <td>18.505338</td>\n",
       "    </tr>\n",
       "    <tr>\n",
       "      <th>9a</th>\n",
       "      <td>20</td>\n",
       "      <td>7.117438</td>\n",
       "    </tr>\n",
       "    <tr>\n",
       "      <th>1a</th>\n",
       "      <td>17</td>\n",
       "      <td>6.049822</td>\n",
       "    </tr>\n",
       "  </tbody>\n",
       "</table>\n",
       "</div>"
      ],
      "text/plain": [
       "        Anzahl    Prozent\n",
       "Fabric                   \n",
       "1d          81  28.825623\n",
       "1b          60  21.352313\n",
       "1 (?)       52  18.505338\n",
       "9a          20   7.117438\n",
       "1a          17   6.049822"
      ]
     },
     "metadata": {},
     "output_type": "display_data"
    }
   ],
   "source": [
    "df_pivot['Prozent'] = df_pivot['Anzahl']/df_pivot['Anzahl'].sum()*100\n",
    "display(df_pivot.head())"
   ]
  },
  {
   "cell_type": "code",
   "execution_count": 19,
   "metadata": {},
   "outputs": [
    {
     "data": {
      "text/html": [
       "<div>\n",
       "<table border=\"1\" class=\"dataframe\">\n",
       "  <thead>\n",
       "    <tr style=\"text-align: right;\">\n",
       "      <th></th>\n",
       "      <th>Anzahl</th>\n",
       "      <th>Prozent</th>\n",
       "    </tr>\n",
       "  </thead>\n",
       "  <tbody>\n",
       "    <tr>\n",
       "      <th>sehr wenig</th>\n",
       "      <td>134</td>\n",
       "      <td>79.289941</td>\n",
       "    </tr>\n",
       "    <tr>\n",
       "      <th>wenig</th>\n",
       "      <td>10</td>\n",
       "      <td>5.917160</td>\n",
       "    </tr>\n",
       "    <tr>\n",
       "      <th>mittel</th>\n",
       "      <td>5</td>\n",
       "      <td>2.958580</td>\n",
       "    </tr>\n",
       "    <tr>\n",
       "      <th>viel</th>\n",
       "      <td>10</td>\n",
       "      <td>5.917160</td>\n",
       "    </tr>\n",
       "    <tr>\n",
       "      <th>sehr viel</th>\n",
       "      <td>10</td>\n",
       "      <td>5.917160</td>\n",
       "    </tr>\n",
       "  </tbody>\n",
       "</table>\n",
       "</div>"
      ],
      "text/plain": [
       "            Anzahl    Prozent\n",
       "sehr wenig     134  79.289941\n",
       "wenig           10   5.917160\n",
       "mittel           5   2.958580\n",
       "viel            10   5.917160\n",
       "sehr viel       10   5.917160"
      ]
     },
     "execution_count": 19,
     "metadata": {},
     "output_type": "execute_result"
    }
   ],
   "source": [
    "df = df.replace('<1','sehr wenig', regex=True)\n",
    "\n",
    "a = df.loc[df['MagerungDichte'] != ''] # nur Einträgen, bei denen diese Felder ausgefüllt sind\n",
    "df_pivot = a.pivot_table(values = 'Anzahl', index = 'MagerungDichte', aggfunc = sum)\n",
    "custom_dict = {'sehr wenig':0,'wenig':1,'mittel':3,'viel':4, 'sehr viel':5}\n",
    "df_pivot = pd.DataFrame(df_pivot, index=sorted(custom_dict, key=custom_dict.get))\n",
    "df_pivot['Prozent'] = df_pivot['Anzahl']/df_pivot['Anzahl'].sum()*100\n",
    "df_pivot"
   ]
  },
  {
   "cell_type": "code",
   "execution_count": 20,
   "metadata": {},
   "outputs": [
    {
     "data": {
      "image/png": "[encoded data removed]",
      "text/plain": [
       "<matplotlib.figure.Figure at 0x5862a85898>"
      ]
     },
     "metadata": {},
     "output_type": "display_data"
    }
   ],
   "source": [
    "df_pivot.plot(y = 'Prozent', kind = 'bar', legend = None, color = 'grey')\n",
    "plt.xticks(rotation=0)\n",
    "plt.xlabel('Anteil nicht-plastische Partikel')\n",
    "plt.ylabel('Anteil [%]')\n",
    "plt.show()"
   ]
  },
  {
   "cell_type": "code",
   "execution_count": 21,
   "metadata": {},
   "outputs": [
    {
     "data": {
      "text/html": [
       "<div>\n",
       "<table border=\"1\" class=\"dataframe\">\n",
       "  <thead>\n",
       "    <tr style=\"text-align: right;\">\n",
       "      <th></th>\n",
       "      <th>Anzahl</th>\n",
       "      <th>Prozent</th>\n",
       "    </tr>\n",
       "  </thead>\n",
       "  <tbody>\n",
       "    <tr>\n",
       "      <th>VF</th>\n",
       "      <td>121</td>\n",
       "      <td>71.597633</td>\n",
       "    </tr>\n",
       "    <tr>\n",
       "      <th>F</th>\n",
       "      <td>12</td>\n",
       "      <td>7.100592</td>\n",
       "    </tr>\n",
       "    <tr>\n",
       "      <th>M</th>\n",
       "      <td>12</td>\n",
       "      <td>7.100592</td>\n",
       "    </tr>\n",
       "    <tr>\n",
       "      <th>C</th>\n",
       "      <td>16</td>\n",
       "      <td>9.467456</td>\n",
       "    </tr>\n",
       "    <tr>\n",
       "      <th>VC</th>\n",
       "      <td>8</td>\n",
       "      <td>4.733728</td>\n",
       "    </tr>\n",
       "  </tbody>\n",
       "</table>\n",
       "</div>"
      ],
      "text/plain": [
       "    Anzahl    Prozent\n",
       "VF     121  71.597633\n",
       "F       12   7.100592\n",
       "M       12   7.100592\n",
       "C       16   9.467456\n",
       "VC       8   4.733728"
      ]
     },
     "execution_count": 21,
     "metadata": {},
     "output_type": "execute_result"
    }
   ],
   "source": [
    "df_pivot = a.pivot_table(values = 'Anzahl', index = 'MagerungGröße', aggfunc = sum)\n",
    "custom_dict = {'VF':0,'F':1,'M':3,'C':4, 'VC':5}\n",
    "df_pivot = pd.DataFrame(df_pivot, index=sorted(custom_dict, key=custom_dict.get))\n",
    "df_pivot['Prozent'] = df_pivot['Anzahl']/df_pivot['Anzahl'].sum()*100\n",
    "df_pivot"
   ]
  },
  {
   "cell_type": "code",
   "execution_count": 22,
   "metadata": {},
   "outputs": [
    {
     "data": {
      "image/png": "[encoded data removed]",
      "text/plain": [
       "<matplotlib.figure.Figure at 0x5862b404a8>"
      ]
     },
     "metadata": {},
     "output_type": "display_data"
    }
   ],
   "source": [
    "df_pivot.plot(y = 'Prozent', kind = 'bar', legend = None, color = 'grey')\n",
    "plt.xticks(rotation=0)\n",
    "plt.xlabel('Korngröße (Wentworth-Scale)')\n",
    "plt.ylabel('Anteil [%]')\n",
    "plt.show()"
   ]
  },
  {
   "cell_type": "code",
   "execution_count": 23,
   "metadata": {},
   "outputs": [
    {
     "name": "stderr",
     "output_type": "stream",
     "text": [
      "C:\\Users\\Dirk\\Anaconda3\\lib\\site-packages\\ipykernel\\__main__.py:3: FutureWarning: by argument to sort_index is deprecated, pls use .sort_values(by=...)\n",
      "  app.launch_new_instance()\n"
     ]
    },
    {
     "data": {
      "text/html": [
       "<div>\n",
       "<table border=\"1\" class=\"dataframe\">\n",
       "  <thead>\n",
       "    <tr style=\"text-align: right;\">\n",
       "      <th></th>\n",
       "      <th>Anzahl</th>\n",
       "      <th>Prozent</th>\n",
       "    </tr>\n",
       "    <tr>\n",
       "      <th>MagerungArt</th>\n",
       "      <th></th>\n",
       "      <th></th>\n",
       "    </tr>\n",
       "  </thead>\n",
       "  <tbody>\n",
       "    <tr>\n",
       "      <th>S</th>\n",
       "      <td>137</td>\n",
       "      <td>81.065089</td>\n",
       "    </tr>\n",
       "    <tr>\n",
       "      <th>Schamott</th>\n",
       "      <td>17</td>\n",
       "      <td>10.059172</td>\n",
       "    </tr>\n",
       "    <tr>\n",
       "      <th>S/Schamott</th>\n",
       "      <td>6</td>\n",
       "      <td>3.550296</td>\n",
       "    </tr>\n",
       "    <tr>\n",
       "      <th>S/Gl</th>\n",
       "      <td>5</td>\n",
       "      <td>2.958580</td>\n",
       "    </tr>\n",
       "    <tr>\n",
       "      <th>S/Org</th>\n",
       "      <td>2</td>\n",
       "      <td>1.183432</td>\n",
       "    </tr>\n",
       "    <tr>\n",
       "      <th>Laterit</th>\n",
       "      <td>1</td>\n",
       "      <td>0.591716</td>\n",
       "    </tr>\n",
       "    <tr>\n",
       "      <th>S/Laterit</th>\n",
       "      <td>1</td>\n",
       "      <td>0.591716</td>\n",
       "    </tr>\n",
       "  </tbody>\n",
       "</table>\n",
       "</div>"
      ],
      "text/plain": [
       "             Anzahl    Prozent\n",
       "MagerungArt                   \n",
       "S               137  81.065089\n",
       "Schamott         17  10.059172\n",
       "S/Schamott        6   3.550296\n",
       "S/Gl              5   2.958580\n",
       "S/Org             2   1.183432\n",
       "Laterit           1   0.591716\n",
       "S/Laterit         1   0.591716"
      ]
     },
     "execution_count": 23,
     "metadata": {},
     "output_type": "execute_result"
    }
   ],
   "source": [
    "df_pivot = a.pivot_table(values = 'Anzahl', index = 'MagerungArt', aggfunc = sum)\n",
    "df_pivot = pd.DataFrame(df_pivot)\n",
    "df_pivot = df_pivot.sort_index(by=['Anzahl'], ascending=[False])\n",
    "df_pivot['Prozent'] = df_pivot['Anzahl']/df_pivot['Anzahl'].sum()*100\n",
    "df_pivot"
   ]
  },
  {
   "cell_type": "markdown",
   "metadata": {},
   "source": [
    "## Brennfarbe"
   ]
  },
  {
   "cell_type": "code",
   "execution_count": 24,
   "metadata": {},
   "outputs": [
    {
     "data": {
      "text/html": [
       "<div>\n",
       "<table border=\"1\" class=\"dataframe\">\n",
       "  <thead>\n",
       "    <tr style=\"text-align: right;\">\n",
       "      <th></th>\n",
       "      <th>0</th>\n",
       "      <th>Prozent</th>\n",
       "    </tr>\n",
       "  </thead>\n",
       "  <tbody>\n",
       "    <tr>\n",
       "      <th>Rot</th>\n",
       "      <td>22</td>\n",
       "      <td>9.128631</td>\n",
       "    </tr>\n",
       "    <tr>\n",
       "      <th>Sonstig</th>\n",
       "      <td>72</td>\n",
       "      <td>29.875519</td>\n",
       "    </tr>\n",
       "    <tr>\n",
       "      <th>Weiß</th>\n",
       "      <td>147</td>\n",
       "      <td>60.995851</td>\n",
       "    </tr>\n",
       "  </tbody>\n",
       "</table>\n",
       "</div>"
      ],
      "text/plain": [
       "           0    Prozent\n",
       "Rot       22   9.128631\n",
       "Sonstig   72  29.875519\n",
       "Weiß     147  60.995851"
      ]
     },
     "execution_count": 24,
     "metadata": {},
     "output_type": "execute_result"
    }
   ],
   "source": [
    "sql = \"\"\"SELECT\n",
    "           t_Obj.objID,\n",
    "           [t_Obj].[Außenfarbe] || '/' || [t_Obj].[Prof_aussen] || '/' || [t_Obj].[Prof_Kern] || '/' || [t_Obj].[Prof_innen] || '/' || [t_Obj].[Innenfarbe] AS Farbe\n",
    "       FROM (t_Ort LEFT JOIN t_Komplex ON t_Ort.ortID = t_Komplex.ortID)\n",
    "           LEFT JOIN t_Obj ON t_Komplex.komplexID = t_Obj.komplexID\n",
    "       WHERE (((t_Obj.Fabric) != '')\n",
    "           AND ((t_Obj.Typ) Like '%\"\"\"+style+\"\"\"%'))\"\"\".replace('\\n',' ')\n",
    "df = pd.read_sql(sql, con)\n",
    "\n",
    "a = pd.Series({'Weiß':len(df[df['Farbe'].str.contains(\"W\")].index),\n",
    "               'Rot':len(df[df['Farbe'].str.contains(\"R\")].index),\n",
    "               'Sonstig':len(df[~df['Farbe'].str.contains(\"W|R\")].index)})\n",
    "a = pd.DataFrame(a)\n",
    "a['Prozent'] = a[0]/a[0].sum()*100\n",
    "a"
   ]
  },
  {
   "cell_type": "code",
   "execution_count": 25,
   "metadata": {
    "scrolled": true
   },
   "outputs": [
    {
     "data": {
      "image/png": "[encoded data removed]",
      "text/plain": [
       "<matplotlib.figure.Figure at 0x5862bf9a58>"
      ]
     },
     "metadata": {},
     "output_type": "display_data"
    }
   ],
   "source": [
    "a.plot(y = 'Prozent', kind = 'bar', legend = None, color = 'grey')\n",
    "plt.xticks(rotation=0)\n",
    "plt.ylabel('Anteil [%]')\n",
    "plt.show()"
   ]
  },
  {
   "cell_type": "code",
   "execution_count": 26,
   "metadata": {},
   "outputs": [
    {
     "data": {
      "text/plain": [
       "        155\n",
       "         43\n",
       "s        34\n",
       "bg       23\n",
       "g        21\n",
       "bg s      4\n",
       "bg        4\n",
       " s        3\n",
       "br        3\n",
       "s         2\n",
       "dtype: int64"
      ]
     },
     "execution_count": 26,
     "metadata": {},
     "output_type": "execute_result"
    }
   ],
   "source": [
    "# Sontiges:\n",
    "a = df[~df['Farbe'].str.contains(\"W|R\")]\n",
    "pd.Series(' '.join(a['Farbe']).lower().split('/')).value_counts()[:10]"
   ]
  },
  {
   "cell_type": "markdown",
   "metadata": {},
   "source": [
    "### Gefäßformen"
   ]
  },
  {
   "cell_type": "code",
   "execution_count": 164,
   "metadata": {
    "collapsed": true
   },
   "outputs": [],
   "source": [
    "sql = \"\"\"SELECT\n",
    "           t_Ort.ort_kurz,\n",
    "           t_Ort.ort_name,\n",
    "           t_Obj.objID,\n",
    "           t_Obj.Typ,\n",
    "           t_Obj.Form_Gef\n",
    "       FROM (t_Ort INNER JOIN t_Komplex ON t_Ort.ortID = t_Komplex.ortID)\n",
    "           INNER JOIN t_Obj ON t_Komplex.komplexID = t_Obj.komplexID\n",
    "       WHERE (((t_Ort.ort_lit)='DS')\n",
    "           AND ((t_Obj.Typ) Like '%\"\"\"+style+\"\"\"%')\n",
    "           AND ((t_Obj.Form_Gef) != ''))\"\"\".replace('\\n',' ')\n",
    "\n",
    "df = pd.read_sql(sql, con)"
   ]
  },
  {
   "cell_type": "code",
   "execution_count": 153,
   "metadata": {},
   "outputs": [
    {
     "data": {
      "text/html": [
       "<div>\n",
       "<table border=\"1\" class=\"dataframe\">\n",
       "  <thead>\n",
       "    <tr style=\"text-align: right;\">\n",
       "      <th></th>\n",
       "      <th>0</th>\n",
       "      <th>Prozent</th>\n",
       "    </tr>\n",
       "  </thead>\n",
       "  <tbody>\n",
       "    <tr>\n",
       "      <th>fraglich</th>\n",
       "      <td>99</td>\n",
       "      <td>65.562914</td>\n",
       "    </tr>\n",
       "    <tr>\n",
       "      <th>sicher</th>\n",
       "      <td>52</td>\n",
       "      <td>34.437086</td>\n",
       "    </tr>\n",
       "  </tbody>\n",
       "</table>\n",
       "</div>"
      ],
      "text/plain": [
       "           0    Prozent\n",
       "fraglich  99  65.562914\n",
       "sicher    52  34.437086"
      ]
     },
     "execution_count": 153,
     "metadata": {},
     "output_type": "execute_result"
    }
   ],
   "source": [
    "df_pivot = df.pivot_table(values = 'objID', index = 'Form_Gef', aggfunc = len)\n",
    "df_pivot = pd.DataFrame(df_pivot)\n",
    "\n",
    "df_pivot['GefForm'] = df_pivot.index\n",
    "a = pd.Series({'sicher':sum(df_pivot['objID'].loc[~df_pivot['GefForm'].str.contains(\" \")]),\n",
    "               'fraglich':sum(df_pivot['objID'].loc[df_pivot['GefForm'].str.contains(\" \")])})\n",
    "a = pd.DataFrame(a)\n",
    "a['Prozent'] = a[0]/a[0].sum()*100\n",
    "a"
   ]
  },
  {
   "cell_type": "code",
   "execution_count": 154,
   "metadata": {},
   "outputs": [
    {
     "data": {
      "text/plain": [
       "151"
      ]
     },
     "execution_count": 154,
     "metadata": {},
     "output_type": "execute_result"
    }
   ],
   "source": [
    "a[0].sum()"
   ]
  },
  {
   "cell_type": "code",
   "execution_count": 155,
   "metadata": {
    "collapsed": true
   },
   "outputs": [],
   "source": [
    "# alles fragliche einfach abschneiden und nur 1. Variante behalten:\n",
    "df['Form_Gef'] = df['Form_Gef'].map(lambda x: x.rstrip(' (?)'))\n",
    "df['Form_Gef'] = df['Form_Gef'].apply(lambda x: x.split('/')[0])"
   ]
  },
  {
   "cell_type": "code",
   "execution_count": 162,
   "metadata": {},
   "outputs": [
    {
     "data": {
      "text/html": [
       "<div>\n",
       "<table border=\"1\" class=\"dataframe\">\n",
       "  <thead>\n",
       "    <tr style=\"text-align: right;\">\n",
       "      <th></th>\n",
       "      <th>objID</th>\n",
       "    </tr>\n",
       "    <tr>\n",
       "      <th>Form_Gef</th>\n",
       "      <th></th>\n",
       "    </tr>\n",
       "  </thead>\n",
       "  <tbody>\n",
       "    <tr>\n",
       "      <th>A1</th>\n",
       "      <td>1</td>\n",
       "    </tr>\n",
       "    <tr>\n",
       "      <th>A2</th>\n",
       "      <td>4</td>\n",
       "    </tr>\n",
       "    <tr>\n",
       "      <th>B1</th>\n",
       "      <td>1</td>\n",
       "    </tr>\n",
       "    <tr>\n",
       "      <th>B2</th>\n",
       "      <td>2</td>\n",
       "    </tr>\n",
       "    <tr>\n",
       "      <th>B4</th>\n",
       "      <td>1</td>\n",
       "    </tr>\n",
       "    <tr>\n",
       "      <th>C2</th>\n",
       "      <td>1</td>\n",
       "    </tr>\n",
       "    <tr>\n",
       "      <th>D2</th>\n",
       "      <td>1</td>\n",
       "    </tr>\n",
       "    <tr>\n",
       "      <th>E1</th>\n",
       "      <td>15</td>\n",
       "    </tr>\n",
       "    <tr>\n",
       "      <th>E2</th>\n",
       "      <td>1</td>\n",
       "    </tr>\n",
       "    <tr>\n",
       "      <th>E3</th>\n",
       "      <td>2</td>\n",
       "    </tr>\n",
       "    <tr>\n",
       "      <th>E7</th>\n",
       "      <td>1</td>\n",
       "    </tr>\n",
       "    <tr>\n",
       "      <th>F3</th>\n",
       "      <td>3</td>\n",
       "    </tr>\n",
       "    <tr>\n",
       "      <th>G3</th>\n",
       "      <td>1</td>\n",
       "    </tr>\n",
       "    <tr>\n",
       "      <th>G4</th>\n",
       "      <td>3</td>\n",
       "    </tr>\n",
       "    <tr>\n",
       "      <th>G6</th>\n",
       "      <td>48</td>\n",
       "    </tr>\n",
       "    <tr>\n",
       "      <th>H2</th>\n",
       "      <td>8</td>\n",
       "    </tr>\n",
       "    <tr>\n",
       "      <th>I1</th>\n",
       "      <td>3</td>\n",
       "    </tr>\n",
       "    <tr>\n",
       "      <th>I3</th>\n",
       "      <td>55</td>\n",
       "    </tr>\n",
       "  </tbody>\n",
       "</table>\n",
       "</div>"
      ],
      "text/plain": [
       "          objID\n",
       "Form_Gef       \n",
       "A1            1\n",
       "A2            4\n",
       "B1            1\n",
       "B2            2\n",
       "B4            1\n",
       "C2            1\n",
       "D2            1\n",
       "E1           15\n",
       "E2            1\n",
       "E3            2\n",
       "E7            1\n",
       "F3            3\n",
       "G3            1\n",
       "G4            3\n",
       "G6           48\n",
       "H2            8\n",
       "I1            3\n",
       "I3           55"
      ]
     },
     "execution_count": 162,
     "metadata": {},
     "output_type": "execute_result"
    }
   ],
   "source": [
    "df_pivot = df.pivot_table(values = 'objID', index = 'Form_Gef', aggfunc = len)\n",
    "df_pivot = pd.DataFrame(df_pivot)\n",
    "df_pivot"
   ]
  },
  {
   "cell_type": "code",
   "execution_count": 158,
   "metadata": {},
   "outputs": [
    {
     "data": {
      "text/plain": [
       "18"
      ]
     },
     "execution_count": 158,
     "metadata": {},
     "output_type": "execute_result"
    }
   ],
   "source": [
    "len(df_pivot)"
   ]
  },
  {
   "cell_type": "code",
   "execution_count": 159,
   "metadata": {},
   "outputs": [
    {
     "data": {
      "text/plain": [
       "151"
      ]
     },
     "execution_count": 159,
     "metadata": {},
     "output_type": "execute_result"
    }
   ],
   "source": [
    "df_pivot['objID'].sum()"
   ]
  },
  {
   "cell_type": "code",
   "execution_count": 160,
   "metadata": {
    "scrolled": true
   },
   "outputs": [
    {
     "data": {
      "text/plain": [
       "<matplotlib.text.Text at 0x5864af8ac8>"
      ]
     },
     "execution_count": 160,
     "metadata": {},
     "output_type": "execute_result"
    },
    {
     "data": {
      "image/png": "[encoded data removed]",
      "text/plain": [
       "<matplotlib.figure.Figure at 0x5864a4e2b0>"
      ]
     },
     "metadata": {},
     "output_type": "display_data"
    }
   ],
   "source": [
    "fig = plt.figure()\n",
    "fig.set_size_inches(5, 5)\n",
    "df_pivot['objID'].plot(kind='pie', autopct='%.0f %%', cmap = 'Paired')\n",
    "plt.ylabel('')\n",
    "#plt.savefig('../output/figs/3-1-2-12_Epena_GefForm2.pdf', bbox_inches='tight')"
   ]
  },
  {
   "cell_type": "code",
   "execution_count": 170,
   "metadata": {},
   "outputs": [
    {
     "name": "stderr",
     "output_type": "stream",
     "text": [
      "C:\\Users\\Dirk\\Anaconda3\\lib\\site-packages\\ipykernel\\__main__.py:4: FutureWarning: by argument to sort_index is deprecated, pls use .sort_values(by=...)\n"
     ]
    },
    {
     "data": {
      "text/html": [
       "<div>\n",
       "<table border=\"1\" class=\"dataframe\">\n",
       "  <thead>\n",
       "    <tr style=\"text-align: right;\">\n",
       "      <th></th>\n",
       "      <th>objID</th>\n",
       "      <th>Prozent</th>\n",
       "    </tr>\n",
       "    <tr>\n",
       "      <th>FormGrundGef</th>\n",
       "      <th></th>\n",
       "      <th></th>\n",
       "    </tr>\n",
       "  </thead>\n",
       "  <tbody>\n",
       "    <tr>\n",
       "      <th>I</th>\n",
       "      <td>58</td>\n",
       "      <td>38.410596</td>\n",
       "    </tr>\n",
       "    <tr>\n",
       "      <th>G</th>\n",
       "      <td>52</td>\n",
       "      <td>34.437086</td>\n",
       "    </tr>\n",
       "    <tr>\n",
       "      <th>E</th>\n",
       "      <td>19</td>\n",
       "      <td>12.582781</td>\n",
       "    </tr>\n",
       "    <tr>\n",
       "      <th>H</th>\n",
       "      <td>8</td>\n",
       "      <td>5.298013</td>\n",
       "    </tr>\n",
       "    <tr>\n",
       "      <th>A</th>\n",
       "      <td>5</td>\n",
       "      <td>3.311258</td>\n",
       "    </tr>\n",
       "    <tr>\n",
       "      <th>B</th>\n",
       "      <td>4</td>\n",
       "      <td>2.649007</td>\n",
       "    </tr>\n",
       "    <tr>\n",
       "      <th>F</th>\n",
       "      <td>3</td>\n",
       "      <td>1.986755</td>\n",
       "    </tr>\n",
       "    <tr>\n",
       "      <th>C</th>\n",
       "      <td>1</td>\n",
       "      <td>0.662252</td>\n",
       "    </tr>\n",
       "    <tr>\n",
       "      <th>D</th>\n",
       "      <td>1</td>\n",
       "      <td>0.662252</td>\n",
       "    </tr>\n",
       "  </tbody>\n",
       "</table>\n",
       "</div>"
      ],
      "text/plain": [
       "              objID    Prozent\n",
       "FormGrundGef                  \n",
       "I                58  38.410596\n",
       "G                52  34.437086\n",
       "E                19  12.582781\n",
       "H                 8   5.298013\n",
       "A                 5   3.311258\n",
       "B                 4   2.649007\n",
       "F                 3   1.986755\n",
       "C                 1   0.662252\n",
       "D                 1   0.662252"
      ]
     },
     "execution_count": 170,
     "metadata": {},
     "output_type": "execute_result"
    }
   ],
   "source": [
    "df['FormGrundGef'] = df['Form_Gef'].map(lambda x: str(x)[:1])\n",
    "df_pivot = df.pivot_table(values = 'objID', index = 'FormGrundGef', aggfunc = len)\n",
    "df_pivot = pd.DataFrame(df_pivot)\n",
    "df_pivot = df_pivot.sort_index(by = ['objID'], ascending=False)\n",
    "df_pivot['Prozent'] = df_pivot['objID']/df_pivot['objID'].sum()*100\n",
    "df_pivot"
   ]
  },
  {
   "cell_type": "code",
   "execution_count": 171,
   "metadata": {},
   "outputs": [
    {
     "data": {
      "text/plain": [
       "151"
      ]
     },
     "execution_count": 171,
     "metadata": {},
     "output_type": "execute_result"
    }
   ],
   "source": [
    "df_pivot['objID'].sum()"
   ]
  },
  {
   "cell_type": "markdown",
   "metadata": {},
   "source": [
    "### Proportionen"
   ]
  },
  {
   "cell_type": "code",
   "execution_count": 182,
   "metadata": {},
   "outputs": [
    {
     "name": "stderr",
     "output_type": "stream",
     "text": [
      "C:\\Users\\Dirk\\Anaconda3\\lib\\site-packages\\ipykernel\\__main__.py:19: FutureWarning: convert_objects is deprecated.  Use the data-type specific converters pd.to_datetime, pd.to_timedelta and pd.to_numeric.\n",
      "C:\\Users\\Dirk\\Anaconda3\\lib\\site-packages\\ipykernel\\__main__.py:20: FutureWarning: convert_objects is deprecated.  Use the data-type specific converters pd.to_datetime, pd.to_timedelta and pd.to_numeric.\n",
      "C:\\Users\\Dirk\\Anaconda3\\lib\\site-packages\\ipykernel\\__main__.py:21: FutureWarning: convert_objects is deprecated.  Use the data-type specific converters pd.to_datetime, pd.to_timedelta and pd.to_numeric.\n",
      "C:\\Users\\Dirk\\Anaconda3\\lib\\site-packages\\ipykernel\\__main__.py:22: FutureWarning: convert_objects is deprecated.  Use the data-type specific converters pd.to_datetime, pd.to_timedelta and pd.to_numeric.\n",
      "C:\\Users\\Dirk\\Anaconda3\\lib\\site-packages\\ipykernel\\__main__.py:23: FutureWarning: convert_objects is deprecated.  Use the data-type specific converters pd.to_datetime, pd.to_timedelta and pd.to_numeric.\n",
      "C:\\Users\\Dirk\\Anaconda3\\lib\\site-packages\\ipykernel\\__main__.py:24: FutureWarning: convert_objects is deprecated.  Use the data-type specific converters pd.to_datetime, pd.to_timedelta and pd.to_numeric.\n",
      "C:\\Users\\Dirk\\Anaconda3\\lib\\site-packages\\ipykernel\\__main__.py:25: FutureWarning: convert_objects is deprecated.  Use the data-type specific converters pd.to_datetime, pd.to_timedelta and pd.to_numeric.\n"
     ]
    }
   ],
   "source": [
    "sql = \"\"\"SELECT\n",
    "           [t_Ort].[ort_kurz] || ' ' || [t_Komplex].[bef_nr] || ':' || [t_Obj].[Individuum] AS Ind,\n",
    "           t_Obj.muendungsD,\n",
    "           t_Obj.muendungsH,\n",
    "           t_Obj.minD,\n",
    "           t_Obj.minD_H,\n",
    "           t_Obj.maxD,\n",
    "           t_Obj.maxD_H,\n",
    "           t_Obj.bodenD,\n",
    "           t_obj.Form_Gef\n",
    "       FROM (t_Ort LEFT JOIN t_Komplex ON t_Ort.ortID = t_Komplex.ortID)\n",
    "           LEFT JOIN t_Obj ON t_Komplex.komplexID = t_Obj.komplexID\n",
    "       WHERE (((t_Ort.ort_lit)='DS')\n",
    "           AND ((t_Obj.Typ) Like '%\"\"\"+style+\"\"\"%')\n",
    "           AND ((t_Obj.Form_Gef) != ''))\"\"\".replace('\\n',' ')\n",
    "\n",
    "df = pd.read_sql(sql, con)\n",
    "\n",
    "df['muendungsD'] = df['muendungsD'].convert_objects(convert_numeric=True)\n",
    "df['muendungsH'] = df['muendungsH'].convert_objects(convert_numeric=True)\n",
    "df['minD'] = df['minD'].convert_objects(convert_numeric=True)\n",
    "df['minD_H'] = df['minD_H'].convert_objects(convert_numeric=True)\n",
    "df['maxD'] = df['maxD'].convert_objects(convert_numeric=True)\n",
    "df['maxD_H'] = df['maxD_H'].convert_objects(convert_numeric=True)\n",
    "df['bodenD'] = df['bodenD'].convert_objects(convert_numeric=True)\n",
    "\n",
    "# display(df.head())\n",
    "\n",
    "# Verhältnis aus Mündungsdurchmesser / Minimaler Durchmesser\n",
    "df['muendungsD-muendH'] = df['muendungsD'] / df['muendungsH']\n",
    "# Verhältnis aus Mündungsdurchmesser / Minimaler Durchmesser\n",
    "df['muend-min'] = df['muendungsD'] / df['minD']\n",
    "# Verhältnis aus Maximaler Durchmesser / Minimaler Durchmesser\n",
    "df['max-min'] = df['maxD'] / df['minD']\n",
    "\n",
    "#a = df.loc[df['Form_Gef'].str.contains(\"C2\")]\n",
    "#b = df.loc[~df['Form_Gef'].str.contains(\"C2\")]"
   ]
  },
  {
   "cell_type": "code",
   "execution_count": 183,
   "metadata": {
    "collapsed": true
   },
   "outputs": [],
   "source": [
    "a = df.loc[df['Form_Gef'].str.contains(\"I\")] \n",
    "b = df.loc[df['Form_Gef'].str.contains(\"G\")] \n",
    "c = df.loc[df['Form_Gef'].str.contains(\"E\")] \n",
    "d = df.loc[~df['Form_Gef'].str.contains(\"I|G|E\")]"
   ]
  },
  {
   "cell_type": "code",
   "execution_count": 184,
   "metadata": {},
   "outputs": [
    {
     "data": {
      "image/png": "[encoded data removed]",
      "text/plain": [
       "<matplotlib.figure.Figure at 0x58652c9c50>"
      ]
     },
     "metadata": {},
     "output_type": "display_data"
    }
   ],
   "source": [
    "fig = plt.figure(1)\n",
    "#fig.set_size_inches(10,10)\n",
    "\n",
    "ax = plt.subplot(111)\n",
    "\n",
    "plt.scatter(a['maxD'], a['muendungsH'], alpha=0.5, c = 'grey', s = 50, marker = \"o\", label = 'Schalen I')\n",
    "plt.scatter(b['maxD'], b['muendungsH'], alpha=0.5, c = 'black', s = 50, marker = \"v\", label = 'Knickwandschale G')#\n",
    "plt.scatter(c['maxD'], c['muendungsH'], alpha=0.5, c = 'grey', s = 50, marker = \"d\", label = 'Gefäße E')\n",
    "plt.scatter(d['maxD'], d['muendungsH'], alpha=0.5, c = 'black', s = 50, marker = \"^\", label = 'Sonstiges')\n",
    "plt.legend(loc = 2)\n",
    "plt.xlabel(\"Maximaldurchmesser [cm]\")\n",
    "plt.ylabel(\"Mündungshöhe [cm]\")\n",
    "\n",
    "ax.plot([0, 10,20,50],[0, 10,20,50], color='black', linestyle = '--', linewidth=0.5)\n",
    "ax.text(35, 39, '1:1', color='black', fontsize=8)\n",
    "\n",
    "ax.plot([0, 10,20,50],[0, 5,10,25], color='black', linestyle = '--', linewidth=0.5)\n",
    "ax.text(39, 17, '2:1', color='black', fontsize=8)\n",
    "\n",
    "plt.xlim(0,42) \n",
    "plt.ylim(0,42) \n",
    "\n",
    "ax.set_aspect('equal')\n",
    "plt.tight_layout()\n",
    "\n",
    "#plt.savefig('../output/figs/3-1-2-2_Ngombe_Keramik-Proportionen.pdf', bbox_inches='tight')\n",
    "plt.show()"
   ]
  },
  {
   "cell_type": "code",
   "execution_count": 187,
   "metadata": {},
   "outputs": [
    {
     "data": {
      "text/html": [
       "<div>\n",
       "<table border=\"1\" class=\"dataframe\">\n",
       "  <thead>\n",
       "    <tr style=\"text-align: right;\">\n",
       "      <th></th>\n",
       "      <th>muendungsD</th>\n",
       "      <th>muendungsH</th>\n",
       "      <th>minD</th>\n",
       "      <th>minD_H</th>\n",
       "      <th>maxD</th>\n",
       "      <th>maxD_H</th>\n",
       "      <th>bodenD</th>\n",
       "      <th>muendungsD-muendH</th>\n",
       "      <th>muend-min</th>\n",
       "      <th>max-min</th>\n",
       "    </tr>\n",
       "  </thead>\n",
       "  <tbody>\n",
       "    <tr>\n",
       "      <th>count</th>\n",
       "      <td>127.000000</td>\n",
       "      <td>18.000000</td>\n",
       "      <td>49.000000</td>\n",
       "      <td>13.000000</td>\n",
       "      <td>39.000000</td>\n",
       "      <td>16.000000</td>\n",
       "      <td>14.000000</td>\n",
       "      <td>18.000000</td>\n",
       "      <td>41.000000</td>\n",
       "      <td>19.000000</td>\n",
       "    </tr>\n",
       "    <tr>\n",
       "      <th>mean</th>\n",
       "      <td>25.464567</td>\n",
       "      <td>14.944444</td>\n",
       "      <td>22.744898</td>\n",
       "      <td>12.192308</td>\n",
       "      <td>23.500000</td>\n",
       "      <td>7.843750</td>\n",
       "      <td>2.071429</td>\n",
       "      <td>2.083418</td>\n",
       "      <td>1.049713</td>\n",
       "      <td>1.215100</td>\n",
       "    </tr>\n",
       "    <tr>\n",
       "      <th>std</th>\n",
       "      <td>7.115315</td>\n",
       "      <td>10.543870</td>\n",
       "      <td>12.690680</td>\n",
       "      <td>10.306831</td>\n",
       "      <td>4.673554</td>\n",
       "      <td>8.472935</td>\n",
       "      <td>5.090931</td>\n",
       "      <td>0.832092</td>\n",
       "      <td>0.249334</td>\n",
       "      <td>0.612750</td>\n",
       "    </tr>\n",
       "    <tr>\n",
       "      <th>min</th>\n",
       "      <td>9.000000</td>\n",
       "      <td>6.000000</td>\n",
       "      <td>4.000000</td>\n",
       "      <td>6.000000</td>\n",
       "      <td>15.500000</td>\n",
       "      <td>1.500000</td>\n",
       "      <td>0.000000</td>\n",
       "      <td>0.240000</td>\n",
       "      <td>0.110526</td>\n",
       "      <td>0.347368</td>\n",
       "    </tr>\n",
       "    <tr>\n",
       "      <th>25%</th>\n",
       "      <td>20.000000</td>\n",
       "      <td>10.000000</td>\n",
       "      <td>16.500000</td>\n",
       "      <td>7.500000</td>\n",
       "      <td>20.000000</td>\n",
       "      <td>3.000000</td>\n",
       "      <td>0.000000</td>\n",
       "      <td>1.833059</td>\n",
       "      <td>1.000000</td>\n",
       "      <td>1.000000</td>\n",
       "    </tr>\n",
       "    <tr>\n",
       "      <th>50%</th>\n",
       "      <td>26.000000</td>\n",
       "      <td>11.000000</td>\n",
       "      <td>21.000000</td>\n",
       "      <td>8.500000</td>\n",
       "      <td>24.000000</td>\n",
       "      <td>6.750000</td>\n",
       "      <td>0.000000</td>\n",
       "      <td>2.215909</td>\n",
       "      <td>1.080000</td>\n",
       "      <td>1.040816</td>\n",
       "    </tr>\n",
       "    <tr>\n",
       "      <th>75%</th>\n",
       "      <td>30.000000</td>\n",
       "      <td>15.875000</td>\n",
       "      <td>25.500000</td>\n",
       "      <td>11.000000</td>\n",
       "      <td>27.000000</td>\n",
       "      <td>8.000000</td>\n",
       "      <td>0.000000</td>\n",
       "      <td>2.636364</td>\n",
       "      <td>1.142857</td>\n",
       "      <td>1.071915</td>\n",
       "    </tr>\n",
       "    <tr>\n",
       "      <th>max</th>\n",
       "      <td>45.000000</td>\n",
       "      <td>50.000000</td>\n",
       "      <td>95.000000</td>\n",
       "      <td>45.000000</td>\n",
       "      <td>33.000000</td>\n",
       "      <td>38.000000</td>\n",
       "      <td>18.000000</td>\n",
       "      <td>3.500000</td>\n",
       "      <td>1.666667</td>\n",
       "      <td>3.375000</td>\n",
       "    </tr>\n",
       "  </tbody>\n",
       "</table>\n",
       "</div>"
      ],
      "text/plain": [
       "       muendungsD  muendungsH       minD     minD_H       maxD     maxD_H  \\\n",
       "count  127.000000   18.000000  49.000000  13.000000  39.000000  16.000000   \n",
       "mean    25.464567   14.944444  22.744898  12.192308  23.500000   7.843750   \n",
       "std      7.115315   10.543870  12.690680  10.306831   4.673554   8.472935   \n",
       "min      9.000000    6.000000   4.000000   6.000000  15.500000   1.500000   \n",
       "25%     20.000000   10.000000  16.500000   7.500000  20.000000   3.000000   \n",
       "50%     26.000000   11.000000  21.000000   8.500000  24.000000   6.750000   \n",
       "75%     30.000000   15.875000  25.500000  11.000000  27.000000   8.000000   \n",
       "max     45.000000   50.000000  95.000000  45.000000  33.000000  38.000000   \n",
       "\n",
       "          bodenD  muendungsD-muendH  muend-min    max-min  \n",
       "count  14.000000          18.000000  41.000000  19.000000  \n",
       "mean    2.071429           2.083418   1.049713   1.215100  \n",
       "std     5.090931           0.832092   0.249334   0.612750  \n",
       "min     0.000000           0.240000   0.110526   0.347368  \n",
       "25%     0.000000           1.833059   1.000000   1.000000  \n",
       "50%     0.000000           2.215909   1.080000   1.040816  \n",
       "75%     0.000000           2.636364   1.142857   1.071915  \n",
       "max    18.000000           3.500000   1.666667   3.375000  "
      ]
     },
     "execution_count": 187,
     "metadata": {},
     "output_type": "execute_result"
    }
   ],
   "source": [
    "df.describe()"
   ]
  },
  {
   "cell_type": "markdown",
   "metadata": {
    "collapsed": true
   },
   "source": [
    "## Mündungs- und Randformen"
   ]
  },
  {
   "cell_type": "code",
   "execution_count": 198,
   "metadata": {},
   "outputs": [
    {
     "name": "stderr",
     "output_type": "stream",
     "text": [
      "C:\\Users\\Dirk\\Anaconda3\\lib\\site-packages\\ipykernel\\__main__.py:25: SettingWithCopyWarning: \n",
      "A value is trying to be set on a copy of a slice from a DataFrame.\n",
      "Try using .loc[row_indexer,col_indexer] = value instead\n",
      "\n",
      "See the caveats in the documentation: http://pandas.pydata.org/pandas-docs/stable/indexing.html#indexing-view-versus-copy\n",
      "C:\\Users\\Dirk\\Anaconda3\\lib\\site-packages\\ipykernel\\__main__.py:26: SettingWithCopyWarning: \n",
      "A value is trying to be set on a copy of a slice from a DataFrame.\n",
      "Try using .loc[row_indexer,col_indexer] = value instead\n",
      "\n",
      "See the caveats in the documentation: http://pandas.pydata.org/pandas-docs/stable/indexing.html#indexing-view-versus-copy\n",
      "C:\\Users\\Dirk\\Anaconda3\\lib\\site-packages\\ipykernel\\__main__.py:30: FutureWarning: by argument to sort_index is deprecated, pls use .sort_values(by=...)\n"
     ]
    },
    {
     "data": {
      "text/html": [
       "<div>\n",
       "<table border=\"1\" class=\"dataframe\">\n",
       "  <thead>\n",
       "    <tr style=\"text-align: right;\">\n",
       "      <th></th>\n",
       "      <th>objID</th>\n",
       "      <th>Prozent</th>\n",
       "    </tr>\n",
       "    <tr>\n",
       "      <th>Form_Mdg</th>\n",
       "      <th></th>\n",
       "      <th></th>\n",
       "    </tr>\n",
       "  </thead>\n",
       "  <tbody>\n",
       "    <tr>\n",
       "      <th>M3</th>\n",
       "      <td>63</td>\n",
       "      <td>39.375</td>\n",
       "    </tr>\n",
       "    <tr>\n",
       "      <th>M5</th>\n",
       "      <td>36</td>\n",
       "      <td>22.500</td>\n",
       "    </tr>\n",
       "    <tr>\n",
       "      <th>M1</th>\n",
       "      <td>28</td>\n",
       "      <td>17.500</td>\n",
       "    </tr>\n",
       "    <tr>\n",
       "      <th>M2</th>\n",
       "      <td>25</td>\n",
       "      <td>15.625</td>\n",
       "    </tr>\n",
       "    <tr>\n",
       "      <th>M6</th>\n",
       "      <td>6</td>\n",
       "      <td>3.750</td>\n",
       "    </tr>\n",
       "  </tbody>\n",
       "</table>\n",
       "</div>"
      ],
      "text/plain": [
       "          objID  Prozent\n",
       "Form_Mdg                \n",
       "M3           63   39.375\n",
       "M5           36   22.500\n",
       "M1           28   17.500\n",
       "M2           25   15.625\n",
       "M6            6    3.750"
      ]
     },
     "execution_count": 198,
     "metadata": {},
     "output_type": "execute_result"
    }
   ],
   "source": [
    "sql = \"\"\"SELECT\n",
    "           t_Ort.ort_kurz,\n",
    "           t_Ort.ort_name,\n",
    "           t_Obj.objID,\n",
    "           t_Obj.Typ,\n",
    "           t_Obj.Form_Mdg,\n",
    "           t_Obj.Form_Rand,\n",
    "           t_Obj.Form_Hals,\n",
    "           t_Obj.Form_Schulter,\n",
    "           t_Obj.Form_Gef\n",
    "       FROM (t_Ort INNER JOIN t_Komplex ON t_Ort.ortID = t_Komplex.ortID)\n",
    "           INNER JOIN t_Obj ON t_Komplex.komplexID = t_Obj.komplexID\n",
    "       WHERE (((t_Ort.ort_lit)='DS')\n",
    "           AND ((t_Obj.Typ) Like '%\"\"\"+style+\"\"\"%')\n",
    "           AND ((t_Obj.Anzahl) = 1))\"\"\".replace('\\n',' ')\n",
    "\n",
    "df = pd.read_sql(sql, con)\n",
    "# leere Werte in NaN ändern\n",
    "df = df.replace('',np.nan, regex=True)\n",
    "# display(df.head())\n",
    "\n",
    "# Zeilen ohne Mdg löschen\n",
    "# Fragezeichen löschen\n",
    "df1 = df.dropna(subset = ['Form_Mdg'])\n",
    "df1['Form_Mdg'] = df1['Form_Mdg'].map(lambda x: x.rstrip(' (?)'))\n",
    "df1['Form_Mdg'] = df1['Form_Mdg'].apply(lambda x: x.split('/')[0])\\\n",
    "\n",
    "df_pivot = df1.pivot_table(values = 'objID', index = 'Form_Mdg', aggfunc = len)\n",
    "df_pivot = pd.DataFrame(df_pivot)\n",
    "# Sortierung in Aufsteigend ändern\n",
    "df_pivot = df_pivot.sort_index(by = ['objID'], ascending=False)\n",
    "# Prozent-Anteil errechnen\n",
    "df_pivot['Prozent'] = df_pivot['objID']/df_pivot['objID'].sum()*100\n",
    "df_pivot.head()"
   ]
  },
  {
   "cell_type": "code",
   "execution_count": 199,
   "metadata": {},
   "outputs": [
    {
     "data": {
      "text/plain": [
       "<matplotlib.text.Text at 0x58653daf60>"
      ]
     },
     "execution_count": 199,
     "metadata": {},
     "output_type": "execute_result"
    },
    {
     "data": {
      "image/png": "[encoded data removed]",
      "text/plain": [
       "<matplotlib.figure.Figure at 0x5864868390>"
      ]
     },
     "metadata": {},
     "output_type": "display_data"
    }
   ],
   "source": [
    "fig = plt.figure()\n",
    "fig.set_size_inches(5, 5)\n",
    "df_pivot['objID'].plot(kind='pie', autopct='%.0f %%', cmap = 'Paired')\n",
    "plt.ylabel('')"
   ]
  },
  {
   "cell_type": "code",
   "execution_count": 200,
   "metadata": {},
   "outputs": [
    {
     "name": "stderr",
     "output_type": "stream",
     "text": [
      "C:\\Users\\Dirk\\Anaconda3\\lib\\site-packages\\ipykernel\\__main__.py:3: SettingWithCopyWarning: \n",
      "A value is trying to be set on a copy of a slice from a DataFrame.\n",
      "Try using .loc[row_indexer,col_indexer] = value instead\n",
      "\n",
      "See the caveats in the documentation: http://pandas.pydata.org/pandas-docs/stable/indexing.html#indexing-view-versus-copy\n",
      "  app.launch_new_instance()\n",
      "C:\\Users\\Dirk\\Anaconda3\\lib\\site-packages\\ipykernel\\__main__.py:4: SettingWithCopyWarning: \n",
      "A value is trying to be set on a copy of a slice from a DataFrame.\n",
      "Try using .loc[row_indexer,col_indexer] = value instead\n",
      "\n",
      "See the caveats in the documentation: http://pandas.pydata.org/pandas-docs/stable/indexing.html#indexing-view-versus-copy\n",
      "C:\\Users\\Dirk\\Anaconda3\\lib\\site-packages\\ipykernel\\__main__.py:9: FutureWarning: by argument to sort_index is deprecated, pls use .sort_values(by=...)\n"
     ]
    },
    {
     "data": {
      "text/html": [
       "<div>\n",
       "<table border=\"1\" class=\"dataframe\">\n",
       "  <thead>\n",
       "    <tr style=\"text-align: right;\">\n",
       "      <th></th>\n",
       "      <th>objID</th>\n",
       "      <th>Prozent</th>\n",
       "    </tr>\n",
       "    <tr>\n",
       "      <th>Form_Rand</th>\n",
       "      <th></th>\n",
       "      <th></th>\n",
       "    </tr>\n",
       "  </thead>\n",
       "  <tbody>\n",
       "    <tr>\n",
       "      <th>A4.3</th>\n",
       "      <td>76</td>\n",
       "      <td>44.970414</td>\n",
       "    </tr>\n",
       "    <tr>\n",
       "      <th>B1</th>\n",
       "      <td>20</td>\n",
       "      <td>11.834320</td>\n",
       "    </tr>\n",
       "    <tr>\n",
       "      <th>A1</th>\n",
       "      <td>19</td>\n",
       "      <td>11.242604</td>\n",
       "    </tr>\n",
       "    <tr>\n",
       "      <th>B1.3</th>\n",
       "      <td>15</td>\n",
       "      <td>8.875740</td>\n",
       "    </tr>\n",
       "    <tr>\n",
       "      <th>B2</th>\n",
       "      <td>9</td>\n",
       "      <td>5.325444</td>\n",
       "    </tr>\n",
       "  </tbody>\n",
       "</table>\n",
       "</div>"
      ],
      "text/plain": [
       "           objID    Prozent\n",
       "Form_Rand                  \n",
       "A4.3          76  44.970414\n",
       "B1            20  11.834320\n",
       "A1            19  11.242604\n",
       "B1.3          15   8.875740\n",
       "B2             9   5.325444"
      ]
     },
     "metadata": {},
     "output_type": "display_data"
    }
   ],
   "source": [
    "# Fragezeichen löschen\n",
    "df1 = df.dropna(subset = ['Form_Rand'])\n",
    "df1['Form_Rand'] = df1['Form_Rand'].map(lambda x: x.rstrip(' (?)'))\n",
    "df1['Form_Rand'] = df1['Form_Rand'].apply(lambda x: x.split('/')[0])\n",
    "\n",
    "df_pivot = df1.pivot_table(values = 'objID', index = 'Form_Rand', aggfunc = len)\n",
    "df_pivot = pd.DataFrame(df_pivot)\n",
    "# Sortierung in Aufsteigend ändern\n",
    "df_pivot = df_pivot.sort_index(by = ['objID'], ascending=False)\n",
    "# Prozent-Anteil errechnen\n",
    "df_pivot['Prozent'] = df_pivot['objID']/df_pivot['objID'].sum()*100\n",
    "display(df_pivot.head())"
   ]
  },
  {
   "cell_type": "code",
   "execution_count": 201,
   "metadata": {},
   "outputs": [
    {
     "data": {
      "text/plain": [
       "<matplotlib.text.Text at 0x58654586a0>"
      ]
     },
     "execution_count": 201,
     "metadata": {},
     "output_type": "execute_result"
    },
    {
     "data": {
      "image/png": "[encoded data removed]",
      "text/plain": [
       "<matplotlib.figure.Figure at 0x5865236358>"
      ]
     },
     "metadata": {},
     "output_type": "display_data"
    }
   ],
   "source": [
    "fig = plt.figure()\n",
    "fig.set_size_inches(5, 5)\n",
    "df_pivot['objID'].plot(kind='pie', autopct='%.0f %%', cmap = 'Paired')\n",
    "plt.ylabel('')"
   ]
  },
  {
   "cell_type": "code",
   "execution_count": 202,
   "metadata": {},
   "outputs": [
    {
     "data": {
      "text/html": [
       "<div>\n",
       "<table border=\"1\" class=\"dataframe\">\n",
       "  <thead>\n",
       "    <tr style=\"text-align: right;\">\n",
       "      <th></th>\n",
       "      <th>0</th>\n",
       "      <th>Prozent</th>\n",
       "    </tr>\n",
       "  </thead>\n",
       "  <tbody>\n",
       "    <tr>\n",
       "      <th>A</th>\n",
       "      <td>97</td>\n",
       "      <td>57.396450</td>\n",
       "    </tr>\n",
       "    <tr>\n",
       "      <th>B</th>\n",
       "      <td>62</td>\n",
       "      <td>36.686391</td>\n",
       "    </tr>\n",
       "    <tr>\n",
       "      <th>C</th>\n",
       "      <td>10</td>\n",
       "      <td>5.917160</td>\n",
       "    </tr>\n",
       "  </tbody>\n",
       "</table>\n",
       "</div>"
      ],
      "text/plain": [
       "    0    Prozent\n",
       "A  97  57.396450\n",
       "B  62  36.686391\n",
       "C  10   5.917160"
      ]
     },
     "execution_count": 202,
     "metadata": {},
     "output_type": "execute_result"
    }
   ],
   "source": [
    "df_pivot = pd.DataFrame(df_pivot)\n",
    "\n",
    "a = pd.Series({'A':sum(df_pivot['objID'].loc[df_pivot.index.str.contains(\"A\")]),\n",
    "               'B':sum(df_pivot['objID'].loc[df_pivot.index.str.contains(\"B\")]),\n",
    "               'C':sum(df_pivot['objID'].loc[df_pivot.index.str.contains(\"C\")])})\n",
    "a = pd.DataFrame(a)\n",
    "a['Prozent'] = a[0]/a[0].sum()*100\n",
    "a"
   ]
  },
  {
   "cell_type": "code",
   "execution_count": 204,
   "metadata": {},
   "outputs": [
    {
     "data": {
      "text/plain": [
       "169"
      ]
     },
     "execution_count": 204,
     "metadata": {},
     "output_type": "execute_result"
    }
   ],
   "source": [
    "a[0].sum()"
   ]
  },
  {
   "cell_type": "code",
   "execution_count": 192,
   "metadata": {},
   "outputs": [
    {
     "name": "stderr",
     "output_type": "stream",
     "text": [
      "C:\\Users\\Dirk\\Anaconda3\\lib\\site-packages\\ipykernel\\__main__.py:2: SettingWithCopyWarning: \n",
      "A value is trying to be set on a copy of a slice from a DataFrame.\n",
      "Try using .loc[row_indexer,col_indexer] = value instead\n",
      "\n",
      "See the caveats in the documentation: http://pandas.pydata.org/pandas-docs/stable/indexing.html#indexing-view-versus-copy\n",
      "  from ipykernel import kernelapp as app\n"
     ]
    },
    {
     "data": {
      "text/plain": [
       "<matplotlib.text.Text at 0x5862516b38>"
      ]
     },
     "execution_count": 192,
     "metadata": {},
     "output_type": "execute_result"
    },
    {
     "data": {
      "image/png": "[encoded data removed]",
      "text/plain": [
       "<matplotlib.figure.Figure at 0x5865396828>"
      ]
     },
     "metadata": {},
     "output_type": "display_data"
    }
   ],
   "source": [
    "a = df.dropna(subset = ['Form_Hals'])\n",
    "a['Form_Hals'] = a['Form_Hals'].map(lambda x: str(x)[:2])\n",
    "\n",
    "df_pivot = a.pivot_table(values = 'objID', index = 'Form_Hals', aggfunc = len)\n",
    "fig = plt.figure()\n",
    "fig.set_size_inches(5, 5)\n",
    "df_pivot.plot(kind='pie', autopct='%.0f %%', cmap = 'Paired')\n",
    "plt.title(\"Hals\")"
   ]
  },
  {
   "cell_type": "code",
   "execution_count": 43,
   "metadata": {},
   "outputs": [
    {
     "name": "stderr",
     "output_type": "stream",
     "text": [
      "C:\\Users\\Dirk\\Anaconda3\\lib\\site-packages\\ipykernel\\__main__.py:2: SettingWithCopyWarning: \n",
      "A value is trying to be set on a copy of a slice from a DataFrame.\n",
      "Try using .loc[row_indexer,col_indexer] = value instead\n",
      "\n",
      "See the caveats in the documentation: http://pandas.pydata.org/pandas-docs/stable/indexing.html#indexing-view-versus-copy\n",
      "  from ipykernel import kernelapp as app\n"
     ]
    },
    {
     "data": {
      "text/plain": [
       "<matplotlib.text.Text at 0x58629c6240>"
      ]
     },
     "execution_count": 43,
     "metadata": {},
     "output_type": "execute_result"
    },
    {
     "data": {
      "image/png": "[encoded data removed]",
      "text/plain": [
       "<matplotlib.figure.Figure at 0x5863dbe0f0>"
      ]
     },
     "metadata": {},
     "output_type": "display_data"
    }
   ],
   "source": [
    "b = df.dropna(subset = ['Form_Schulter'])\n",
    "b['Form_Schulter'] = b['Form_Schulter'].map(lambda x: str(x)[:2])\n",
    "\n",
    "df_pivot = b.pivot_table(values = 'objID', index = 'Form_Schulter', aggfunc = len)\n",
    "fig = plt.figure()\n",
    "fig.set_size_inches(5, 5)\n",
    "df_pivot.plot(kind='pie', autopct='%.0f %%', cmap = 'Paired')\n",
    "plt.title(\"Schulter\")"
   ]
  },
  {
   "cell_type": "markdown",
   "metadata": {},
   "source": [
    "## Boden"
   ]
  },
  {
   "cell_type": "code",
   "execution_count": 209,
   "metadata": {},
   "outputs": [
    {
     "data": {
      "text/html": [
       "<div>\n",
       "<table border=\"1\" class=\"dataframe\">\n",
       "  <thead>\n",
       "    <tr style=\"text-align: right;\">\n",
       "      <th>Typ</th>\n",
       "      <th>BOT (?)</th>\n",
       "      <th>BOT/MKA (?)</th>\n",
       "      <th>BOT/MKA/MAT (?)</th>\n",
       "    </tr>\n",
       "    <tr>\n",
       "      <th>Form_Boden</th>\n",
       "      <th></th>\n",
       "      <th></th>\n",
       "      <th></th>\n",
       "    </tr>\n",
       "  </thead>\n",
       "  <tbody>\n",
       "    <tr>\n",
       "      <th>B1</th>\n",
       "      <td>5.0</td>\n",
       "      <td>2.0</td>\n",
       "      <td>2.0</td>\n",
       "    </tr>\n",
       "    <tr>\n",
       "      <th>B11</th>\n",
       "      <td>1.0</td>\n",
       "      <td>NaN</td>\n",
       "      <td>NaN</td>\n",
       "    </tr>\n",
       "    <tr>\n",
       "      <th>B12</th>\n",
       "      <td>1.0</td>\n",
       "      <td>NaN</td>\n",
       "      <td>NaN</td>\n",
       "    </tr>\n",
       "    <tr>\n",
       "      <th>B13</th>\n",
       "      <td>1.0</td>\n",
       "      <td>NaN</td>\n",
       "      <td>NaN</td>\n",
       "    </tr>\n",
       "  </tbody>\n",
       "</table>\n",
       "</div>"
      ],
      "text/plain": [
       "Typ         BOT (?)  BOT/MKA (?)  BOT/MKA/MAT (?)\n",
       "Form_Boden                                       \n",
       "B1              5.0          2.0              2.0\n",
       "B11             1.0          NaN              NaN\n",
       "B12             1.0          NaN              NaN\n",
       "B13             1.0          NaN              NaN"
      ]
     },
     "execution_count": 209,
     "metadata": {},
     "output_type": "execute_result"
    }
   ],
   "source": [
    "sql = \"\"\"SELECT\n",
    "           t_Ort.ort_kurz,\n",
    "           t_Ort.ort_name,\n",
    "           t_Obj.objID,\n",
    "           t_Obj.Typ,\n",
    "           t_Obj.Form_Gef,\n",
    "           t_Obj.Form_Boden,\n",
    "           t_Obj.Anzahl\n",
    "       FROM (t_Ort INNER JOIN t_Komplex ON t_Ort.ortID = t_Komplex.ortID)\n",
    "           INNER JOIN t_Obj ON t_Komplex.komplexID = t_Obj.komplexID\n",
    "       WHERE (((t_Ort.ort_lit)='DS')\n",
    "           AND ((t_Obj.Typ) Like '%\"\"\"+style+\"\"\"%')\n",
    "           AND ((t_Obj.Form_Boden) != ''))\"\"\".replace('\\n',' ')\n",
    "\n",
    "df = pd.read_sql(sql, con)\n",
    "\n",
    "\n",
    "df_pivot = df.pivot_table(values = 'objID', index = 'Form_Boden', columns='Typ', aggfunc = len)\n",
    "df_pivot = pd.DataFrame(df_pivot)\n",
    "# Sortierung in Aufsteigend ändern\n",
    "#df_pivot = df_pivot.sort_index(by = ['objID'], ascending=False)\n",
    "# Prozent-Anteil errechnen\n",
    "#df_pivot['Prozent'] = df_pivot['objID']/df_pivot['objID'].sum()*100\n",
    "df_pivot"
   ]
  },
  {
   "cell_type": "code",
   "execution_count": 45,
   "metadata": {},
   "outputs": [
    {
     "data": {
      "text/plain": [
       "12"
      ]
     },
     "execution_count": 45,
     "metadata": {},
     "output_type": "execute_result"
    }
   ],
   "source": [
    "len(df['Form_Boden'])"
   ]
  },
  {
   "cell_type": "markdown",
   "metadata": {},
   "source": [
    "## Verzierungen"
   ]
  },
  {
   "cell_type": "code",
   "execution_count": 2,
   "metadata": {},
   "outputs": [
    {
     "name": "stderr",
     "output_type": "stream",
     "text": [
      "C:\\Users\\Dirk\\Dropbox\\Dissertation\\Python\\myfunctions.py:66: SettingWithCopyWarning: \n",
      "A value is trying to be set on a copy of a slice from a DataFrame.\n",
      "Try using .loc[row_indexer,col_indexer] = value instead\n",
      "\n",
      "See the caveats in the documentation: http://pandas.pydata.org/pandas-docs/stable/indexing.html#indexing-view-versus-copy\n",
      "  df1['n'] = 1\n",
      "C:\\Users\\Dirk\\Dropbox\\Dissertation\\Python\\myfunctions.py:88: FutureWarning: convert_objects is deprecated.  Use the data-type specific converters pd.to_datetime, pd.to_timedelta and pd.to_numeric.\n",
      "  ab[1] = ab[1].convert_objects(convert_numeric=True)\n"
     ]
    }
   ],
   "source": [
    "(df_pivotBig_perc, df_pivotBig_perc_a, new_cmap) = decoration_positon_matrices_print(style)"
   ]
  },
  {
   "cell_type": "code",
   "execution_count": 3,
   "metadata": {},
   "outputs": [
    {
     "data": {
      "image/png": "[encoded data removed]",
      "text/plain": [
       "<matplotlib.figure.Figure at 0x21703b2aac8>"
      ]
     },
     "metadata": {},
     "output_type": "display_data"
    }
   ],
   "source": [
    "fig = plt.figure()\n",
    "fig.set_size_inches(25, 15)\n",
    "\n",
    "ax = plt.gca()\n",
    "im = ax.imshow(df_pivotBig_perc, interpolation='nearest', cmap=parula_map, alpha=.66)\n",
    "\n",
    "plt.xlabel('Verzierungselemente (Schlüssel)')\n",
    "plt.yticks(range(len(df_pivotBig_perc.index)), df_pivotBig_perc.index.str[2:])\n",
    "plt.xticks(range(len(df_pivotBig_perc.columns)), df_pivotBig_perc.columns, rotation = -45)\n",
    "\n",
    "for (i, j), z in np.ndenumerate(df_pivotBig_perc_a):\n",
    "    plt.text(j, i, z, ha='center', va='center')\n",
    "    \n",
    "plt.axvline(10.5, color='grey', linestyle = '--')\n",
    "plt.axvline(17.5, color='grey', linestyle = '--')\n",
    "plt.axvline(18.5, color='grey', linestyle = '--')\n",
    "plt.axvline(20.5, color='grey', linestyle = '--')\n",
    "plt.axvline(43.5, color='grey', linestyle = '--')\n",
    "plt.axvline(44.5, color='grey', linestyle = '--')\n",
    "plt.axvline(57.5, color='grey', linestyle = '--')\n",
    "plt.axvline(61.5, color='grey', linestyle = '--')\n",
    "plt.axvline(70.5, color='grey', linestyle = '--')\n",
    "\n",
    "divider = make_axes_locatable(ax)\n",
    "cax = divider.append_axes(\"right\", size=\"1%\", pad=0.2)\n",
    "cbar = plt.colorbar(im, cax=cax)\n",
    "cbar.set_label('Anteil (%)', rotation = -90, labelpad = 15)\n",
    "\n",
    "plt.tight_layout()\n",
    "\n",
    "plt.savefig('../output/figs/3-2-1-5_Botendo_VerzierungselmenteAlle.pdf', bbox_inches='tight')\n",
    "plt.show()"
   ]
  },
  {
   "cell_type": "code",
   "execution_count": 212,
   "metadata": {},
   "outputs": [
    {
     "data": {
      "text/html": [
       "<div>\n",
       "<table border=\"1\" class=\"dataframe\">\n",
       "  <thead>\n",
       "    <tr style=\"text-align: right;\">\n",
       "      <th></th>\n",
       "      <th>Anzahl</th>\n",
       "      <th>Prozent</th>\n",
       "    </tr>\n",
       "  </thead>\n",
       "  <tbody>\n",
       "    <tr>\n",
       "      <th>unverziert</th>\n",
       "      <td>55</td>\n",
       "      <td>23.305085</td>\n",
       "    </tr>\n",
       "    <tr>\n",
       "      <th>verziert</th>\n",
       "      <td>181</td>\n",
       "      <td>76.694915</td>\n",
       "    </tr>\n",
       "  </tbody>\n",
       "</table>\n",
       "</div>"
      ],
      "text/plain": [
       "            Anzahl    Prozent\n",
       "unverziert      55  23.305085\n",
       "verziert       181  76.694915"
      ]
     },
     "execution_count": 212,
     "metadata": {},
     "output_type": "execute_result"
    }
   ],
   "source": [
    "sql = \"\"\"SELECT\n",
    "            t_Obj.objID,\n",
    "            t_Obj.Anzahl,\n",
    "            t_K_Verz.verzName,\n",
    "            [t_K_Pos].[posReihe] || ' ' || [posName] AS pos,\n",
    "            [t_Obj].[Verz_PosUnbekannt] || '/' || [t_Obj].[Verz_Innen_Rand/Hals/berteil] || '/' || [t_Obj].[Ver_Rand] || '/' || [t_Obj].[Verz_Oberteil] || '/' || [t_Obj].[Verz_Hals] || '/' || [t_Obj].[Verz_Schulter] || '/' || [t_Obj].[Verz_Bauch] || '/' || [t_Obj].[Verz_Unterteil] || '/' || [t_Obj].[Verz_Bodenansatz] || '/' || [t_Obj].[Ver_Standfl] AS ObjVerz\n",
    "        FROM t_Komplex INNER JOIN t_Obj ON t_Komplex.komplexID = t_Obj.komplexID\n",
    "            INNER JOIN t_Ort ON t_Ort.ortID = t_Komplex.ortID\n",
    "            LEFT JOIN \"t_ObjPosVerz\" ON t_Obj.objID = \"t_ObjPosVerz\".objID\n",
    "            LEFT JOIN t_K_Pos ON t_K_Pos.posID = \"t_ObjPosVerz\".posID\n",
    "            LEFT JOIN t_K_Verz ON t_K_Verz.verzID = \"t_ObjPosVerz\".verzID\n",
    "        WHERE (((t_Obj.Typ) Like '%\"\"\"+style+\"\"\"%'))\"\"\".replace('\\n',' ')\n",
    "\n",
    "df = pd.read_sql(sql, con)\n",
    "df['pos'].fillna('unverz', inplace=True)\n",
    "df_pivot = df.pivot_table(values = 'Anzahl', index = 'objID', columns = 'pos', aggfunc = len)\n",
    "\n",
    "a = pd.Series({'unverziert':len(df_pivot.loc[df_pivot['unverz'] == 1]),\n",
    "               'verziert':len(df_pivot.loc[df_pivot['unverz'] != 1])})\n",
    "a = pd.DataFrame(a)\n",
    "a = a.rename(columns={0:'Anzahl'})\n",
    "a['Prozent'] = a['Anzahl']/a['Anzahl'].sum()*100\n",
    "a"
   ]
  },
  {
   "cell_type": "code",
   "execution_count": 215,
   "metadata": {},
   "outputs": [
    {
     "data": {
      "text/html": [
       "<div>\n",
       "<table border=\"1\" class=\"dataframe\">\n",
       "  <thead>\n",
       "    <tr style=\"text-align: right;\">\n",
       "      <th></th>\n",
       "      <th>Anzahl</th>\n",
       "    </tr>\n",
       "  </thead>\n",
       "  <tbody>\n",
       "    <tr>\n",
       "      <th>count</th>\n",
       "      <td>236.000000</td>\n",
       "    </tr>\n",
       "    <tr>\n",
       "      <th>mean</th>\n",
       "      <td>1.639831</td>\n",
       "    </tr>\n",
       "    <tr>\n",
       "      <th>std</th>\n",
       "      <td>1.019774</td>\n",
       "    </tr>\n",
       "    <tr>\n",
       "      <th>min</th>\n",
       "      <td>1.000000</td>\n",
       "    </tr>\n",
       "    <tr>\n",
       "      <th>25%</th>\n",
       "      <td>1.000000</td>\n",
       "    </tr>\n",
       "    <tr>\n",
       "      <th>50%</th>\n",
       "      <td>1.000000</td>\n",
       "    </tr>\n",
       "    <tr>\n",
       "      <th>75%</th>\n",
       "      <td>2.000000</td>\n",
       "    </tr>\n",
       "    <tr>\n",
       "      <th>max</th>\n",
       "      <td>6.000000</td>\n",
       "    </tr>\n",
       "  </tbody>\n",
       "</table>\n",
       "</div>"
      ],
      "text/plain": [
       "           Anzahl\n",
       "count  236.000000\n",
       "mean     1.639831\n",
       "std      1.019774\n",
       "min      1.000000\n",
       "25%      1.000000\n",
       "50%      1.000000\n",
       "75%      2.000000\n",
       "max      6.000000"
      ]
     },
     "execution_count": 215,
     "metadata": {},
     "output_type": "execute_result"
    }
   ],
   "source": [
    "df_pivot = df.pivot_table(values = 'Anzahl', index = 'objID', aggfunc = len)\n",
    "df_pivot = pd.DataFrame(df_pivot)\n",
    "\n",
    "df_pivot.describe()"
   ]
  },
  {
   "cell_type": "code",
   "execution_count": 218,
   "metadata": {},
   "outputs": [
    {
     "name": "stderr",
     "output_type": "stream",
     "text": [
      "C:\\Users\\Dirk\\Anaconda3\\lib\\site-packages\\ipykernel\\__main__.py:23: FutureWarning: by argument to sort_index is deprecated, pls use .sort_values(by=...)\n"
     ]
    }
   ],
   "source": [
    "sql = \"\"\"SELECT\n",
    "           t_Obj.objID,\n",
    "           t_K_Pos.posID,\n",
    "           t_K_Verz.verzID,\n",
    "           [t_K_Pos].[posReihe] || ' ' || [posName] AS pos,\n",
    "           t_K_Verz.verzName,\n",
    "           t_K_Verz.verzBeschr,\n",
    "           t_Obj.Typ,\n",
    "           t_Obj.Form_Gef\n",
    "       FROM t_Obj INNER JOIN \"t_ObjPosVerz\" ON t_Obj.objID = \"t_ObjPosVerz\".objID\n",
    "           INNER JOIN t_K_Pos ON \"t_ObjPosVerz\".posID = t_K_Pos.posID\n",
    "           INNER JOIN t_K_Verz ON \"t_ObjPosVerz\".verzID = t_K_Verz.verzID\n",
    "       WHERE (((t_K_Pos.posID)<>1)\n",
    "           AND ((t_K_Verz.verzName) != '')\n",
    "           AND ((t_Obj.Typ) Like '%\"\"\"+style+\"\"\"%'))\"\"\".replace('\\n',' ')\n",
    "\n",
    "df = pd.read_sql(sql, con)\n",
    "#display(df.head())\n",
    "\n",
    "df_pivot = df.pivot_table(values = 'objID', index = 'verzName', aggfunc = len)\n",
    "df_pivot = pd.DataFrame(df_pivot)\n",
    "# Sortierung in Aufsteigend ändern\n",
    "df_pivot = df_pivot.sort_index(by = ['objID'], ascending = True)"
   ]
  },
  {
   "cell_type": "code",
   "execution_count": 219,
   "metadata": {},
   "outputs": [
    {
     "data": {
      "text/plain": [
       "<matplotlib.text.Text at 0x58656659b0>"
      ]
     },
     "execution_count": 219,
     "metadata": {},
     "output_type": "execute_result"
    },
    {
     "data": {
      "image/png": "[encoded data removed]",
      "text/plain": [
       "<matplotlib.figure.Figure at 0x58655bb9b0>"
      ]
     },
     "metadata": {},
     "output_type": "display_data"
    }
   ],
   "source": [
    "fig = plt.figure()\n",
    "fig.set_size_inches(5, 5)\n",
    "df_pivot['objID'].plot(kind='pie', autopct='%.0f %%')\n",
    "plt.ylabel('')"
   ]
  },
  {
   "cell_type": "code",
   "execution_count": 223,
   "metadata": {},
   "outputs": [
    {
     "data": {
      "text/html": [
       "<div>\n",
       "<table border=\"1\" class=\"dataframe\">\n",
       "  <thead>\n",
       "    <tr style=\"text-align: right;\">\n",
       "      <th></th>\n",
       "      <th>0</th>\n",
       "      <th>Prozent</th>\n",
       "    </tr>\n",
       "  </thead>\n",
       "  <tbody>\n",
       "    <tr>\n",
       "      <th>Eindrücke (einzeln)</th>\n",
       "      <td>31</td>\n",
       "      <td>9.77918</td>\n",
       "    </tr>\n",
       "    <tr>\n",
       "      <th>Sonstiges</th>\n",
       "      <td>286</td>\n",
       "      <td>90.22082</td>\n",
       "    </tr>\n",
       "  </tbody>\n",
       "</table>\n",
       "</div>"
      ],
      "text/plain": [
       "                       0   Prozent\n",
       "Eindrücke (einzeln)   31   9.77918\n",
       "Sonstiges            286  90.22082"
      ]
     },
     "execution_count": 223,
     "metadata": {},
     "output_type": "execute_result"
    }
   ],
   "source": [
    "a = pd.Series({'Eindrücke (einzeln)':len(df.loc[df['verzName'].str.contains(\"04.\")].index),\n",
    "               'Sonstiges':len(df.loc[~df['verzName'].str.contains(\"04.\")].index)})\n",
    "a = pd.DataFrame(a)\n",
    "a['Prozent'] = a[0]/a[0].sum()*100\n",
    "a"
   ]
  },
  {
   "cell_type": "code",
   "execution_count": 51,
   "metadata": {},
   "outputs": [
    {
     "data": {
      "text/html": [
       "<div>\n",
       "<table border=\"1\" class=\"dataframe\">\n",
       "  <thead>\n",
       "    <tr style=\"text-align: right;\">\n",
       "      <th></th>\n",
       "      <th>objID</th>\n",
       "      <th>Prozent</th>\n",
       "    </tr>\n",
       "    <tr>\n",
       "      <th>pos</th>\n",
       "      <th></th>\n",
       "      <th></th>\n",
       "    </tr>\n",
       "  </thead>\n",
       "  <tbody>\n",
       "    <tr>\n",
       "      <th>1 Innen</th>\n",
       "      <td>104</td>\n",
       "      <td>32.807571</td>\n",
       "    </tr>\n",
       "    <tr>\n",
       "      <th>2 Rand</th>\n",
       "      <td>114</td>\n",
       "      <td>35.962145</td>\n",
       "    </tr>\n",
       "    <tr>\n",
       "      <th>3 Hals</th>\n",
       "      <td>11</td>\n",
       "      <td>3.470032</td>\n",
       "    </tr>\n",
       "    <tr>\n",
       "      <th>4 Schulter</th>\n",
       "      <td>24</td>\n",
       "      <td>7.570978</td>\n",
       "    </tr>\n",
       "    <tr>\n",
       "      <th>5 Bauch</th>\n",
       "      <td>53</td>\n",
       "      <td>16.719243</td>\n",
       "    </tr>\n",
       "    <tr>\n",
       "      <th>6 Bodenansatz</th>\n",
       "      <td>9</td>\n",
       "      <td>2.839117</td>\n",
       "    </tr>\n",
       "    <tr>\n",
       "      <th>7 Standfl</th>\n",
       "      <td>2</td>\n",
       "      <td>0.630915</td>\n",
       "    </tr>\n",
       "  </tbody>\n",
       "</table>\n",
       "</div>"
      ],
      "text/plain": [
       "               objID    Prozent\n",
       "pos                            \n",
       "1 Innen          104  32.807571\n",
       "2 Rand           114  35.962145\n",
       "3 Hals            11   3.470032\n",
       "4 Schulter        24   7.570978\n",
       "5 Bauch           53  16.719243\n",
       "6 Bodenansatz      9   2.839117\n",
       "7 Standfl          2   0.630915"
      ]
     },
     "execution_count": 51,
     "metadata": {},
     "output_type": "execute_result"
    }
   ],
   "source": [
    "df_pivot = df.pivot_table(values = 'objID', index = 'pos', aggfunc = len)\n",
    "df_pivot = pd.DataFrame(df_pivot)\n",
    "df_pivot['Prozent'] = df_pivot['objID']/df_pivot['objID'].sum()*100\n",
    "df_pivot"
   ]
  },
  {
   "cell_type": "code",
   "execution_count": 52,
   "metadata": {},
   "outputs": [
    {
     "data": {
      "image/png": "[encoded data removed]",
      "text/plain": [
       "<matplotlib.figure.Figure at 0x5862bc6828>"
      ]
     },
     "metadata": {},
     "output_type": "display_data"
    }
   ],
   "source": [
    "df_pivot = df_pivot.sort_index(ascending=False)\n",
    "\n",
    "df_pivot.plot(y = 'Prozent', kind = 'barh', legend = None, color = 'grey')\n",
    "plt.xlabel('Anteil [%]')\n",
    "plt.show()"
   ]
  },
  {
   "cell_type": "markdown",
   "metadata": {
    "collapsed": true
   },
   "source": [
    "## Verbreitung"
   ]
  },
  {
   "cell_type": "code",
   "execution_count": 53,
   "metadata": {
    "scrolled": false
   },
   "outputs": [
    {
     "data": {
      "text/html": [
       "<div>\n",
       "<table border=\"1\" class=\"dataframe\">\n",
       "  <thead>\n",
       "    <tr style=\"text-align: right;\">\n",
       "      <th>Typ</th>\n",
       "      <th>Ort</th>\n",
       "      <th>Kat-Nr</th>\n",
       "      <th>X</th>\n",
       "      <th>Y</th>\n",
       "      <th>TYP</th>\n",
       "    </tr>\n",
       "  </thead>\n",
       "  <tbody>\n",
       "    <tr>\n",
       "      <th>0</th>\n",
       "      <td>Bobangi (Fpl. 189)</td>\n",
       "      <td>189</td>\n",
       "      <td>17.722248</td>\n",
       "      <td>-0.108898</td>\n",
       "      <td>BOT</td>\n",
       "    </tr>\n",
       "    <tr>\n",
       "      <th>2</th>\n",
       "      <td>Bokwango (Fpl. 190)</td>\n",
       "      <td>190</td>\n",
       "      <td>17.780500</td>\n",
       "      <td>0.102769</td>\n",
       "      <td>BOT</td>\n",
       "    </tr>\n",
       "    <tr>\n",
       "      <th>23</th>\n",
       "      <td>Zamba (Fpl. 191)</td>\n",
       "      <td>191</td>\n",
       "      <td>17.884584</td>\n",
       "      <td>0.271798</td>\n",
       "      <td>BOT (?)</td>\n",
       "    </tr>\n",
       "    <tr>\n",
       "      <th>10</th>\n",
       "      <td>Ilanga (Fpl. 192)</td>\n",
       "      <td>192</td>\n",
       "      <td>17.897891</td>\n",
       "      <td>0.284087</td>\n",
       "      <td>BOT</td>\n",
       "    </tr>\n",
       "    <tr>\n",
       "      <th>12</th>\n",
       "      <td>Loka (Fpl. 193)</td>\n",
       "      <td>193</td>\n",
       "      <td>17.945614</td>\n",
       "      <td>0.320338</td>\n",
       "      <td>BOT</td>\n",
       "    </tr>\n",
       "    <tr>\n",
       "      <th>4</th>\n",
       "      <td>Bolumbu (Fpl. 194)</td>\n",
       "      <td>194</td>\n",
       "      <td>17.882294</td>\n",
       "      <td>0.677829</td>\n",
       "      <td>BOT</td>\n",
       "    </tr>\n",
       "    <tr>\n",
       "      <th>8</th>\n",
       "      <td>Boyoka (Fpl. 196)</td>\n",
       "      <td>196</td>\n",
       "      <td>17.898659</td>\n",
       "      <td>1.089931</td>\n",
       "      <td>BOT</td>\n",
       "    </tr>\n",
       "    <tr>\n",
       "      <th>1</th>\n",
       "      <td>Bobulu (Fpl. 198)</td>\n",
       "      <td>198</td>\n",
       "      <td>18.042886</td>\n",
       "      <td>1.441145</td>\n",
       "      <td>BOT (?)</td>\n",
       "    </tr>\n",
       "    <tr>\n",
       "      <th>15</th>\n",
       "      <td>Lukolela (Fpl. 234)</td>\n",
       "      <td>234</td>\n",
       "      <td>17.175593</td>\n",
       "      <td>-1.062185</td>\n",
       "      <td>BOT (?)</td>\n",
       "    </tr>\n",
       "    <tr>\n",
       "      <th>16</th>\n",
       "      <td>Sungu (Fpl. 236)</td>\n",
       "      <td>236</td>\n",
       "      <td>17.334786</td>\n",
       "      <td>-1.033313</td>\n",
       "      <td>BOT</td>\n",
       "    </tr>\n",
       "    <tr>\n",
       "      <th>9</th>\n",
       "      <td>Gombe (Fpl. 237)</td>\n",
       "      <td>237</td>\n",
       "      <td>17.580406</td>\n",
       "      <td>-0.704069</td>\n",
       "      <td>BOT</td>\n",
       "    </tr>\n",
       "    <tr>\n",
       "      <th>5</th>\n",
       "      <td>Bonga (Fpl. 238)</td>\n",
       "      <td>238</td>\n",
       "      <td>16.873263</td>\n",
       "      <td>-1.117121</td>\n",
       "      <td>BOT</td>\n",
       "    </tr>\n",
       "    <tr>\n",
       "      <th>1</th>\n",
       "      <td>Bobusa (Fpl. 239)</td>\n",
       "      <td>239</td>\n",
       "      <td>16.917098</td>\n",
       "      <td>-1.052349</td>\n",
       "      <td>BOT</td>\n",
       "    </tr>\n",
       "    <tr>\n",
       "      <th>15</th>\n",
       "      <td>Sosolo (Fpl. 241)</td>\n",
       "      <td>241</td>\n",
       "      <td>17.128605</td>\n",
       "      <td>-0.892241</td>\n",
       "      <td>BOT</td>\n",
       "    </tr>\n",
       "    <tr>\n",
       "      <th>11</th>\n",
       "      <td>Loboko (Fpl. 248)</td>\n",
       "      <td>248</td>\n",
       "      <td>17.130913</td>\n",
       "      <td>-0.109189</td>\n",
       "      <td>BOT</td>\n",
       "    </tr>\n",
       "    <tr>\n",
       "      <th>17</th>\n",
       "      <td>Mitula (Fpl. 251)</td>\n",
       "      <td>251</td>\n",
       "      <td>17.046761</td>\n",
       "      <td>0.291662</td>\n",
       "      <td>BOT (?)</td>\n",
       "    </tr>\n",
       "    <tr>\n",
       "      <th>19</th>\n",
       "      <td>Pikunda (Fpl. 255)</td>\n",
       "      <td>255</td>\n",
       "      <td>16.635736</td>\n",
       "      <td>0.549344</td>\n",
       "      <td>BOT (?)</td>\n",
       "    </tr>\n",
       "    <tr>\n",
       "      <th>14</th>\n",
       "      <td>Ngombe (Fpl. 283)</td>\n",
       "      <td>283</td>\n",
       "      <td>17.192417</td>\n",
       "      <td>-0.849508</td>\n",
       "      <td>BOT</td>\n",
       "    </tr>\n",
       "    <tr>\n",
       "      <th>7</th>\n",
       "      <td>Boyenge (Fpl. 284)</td>\n",
       "      <td>284</td>\n",
       "      <td>17.199855</td>\n",
       "      <td>-0.835253</td>\n",
       "      <td>BOT</td>\n",
       "    </tr>\n",
       "    <tr>\n",
       "      <th>3</th>\n",
       "      <td>Boleko (Fpl. 285)</td>\n",
       "      <td>285</td>\n",
       "      <td>17.221926</td>\n",
       "      <td>-0.805556</td>\n",
       "      <td>BOT</td>\n",
       "    </tr>\n",
       "    <tr>\n",
       "      <th>6</th>\n",
       "      <td>Botwale (Fpl. 286)</td>\n",
       "      <td>286</td>\n",
       "      <td>17.365479</td>\n",
       "      <td>-0.552494</td>\n",
       "      <td>BOT</td>\n",
       "    </tr>\n",
       "    <tr>\n",
       "      <th>13</th>\n",
       "      <td>Misongo (Fpl. 288)</td>\n",
       "      <td>288</td>\n",
       "      <td>17.359252</td>\n",
       "      <td>-0.406653</td>\n",
       "      <td>BOT</td>\n",
       "    </tr>\n",
       "    <tr>\n",
       "      <th>17</th>\n",
       "      <td>Yumba (Fpl. 289)</td>\n",
       "      <td>289</td>\n",
       "      <td>17.366567</td>\n",
       "      <td>-0.351703</td>\n",
       "      <td>BOT</td>\n",
       "    </tr>\n",
       "    <tr>\n",
       "      <th>3</th>\n",
       "      <td>Bojenjo (Fpl. 292)</td>\n",
       "      <td>292</td>\n",
       "      <td>17.432057</td>\n",
       "      <td>-0.006791</td>\n",
       "      <td>BOT (?)</td>\n",
       "    </tr>\n",
       "  </tbody>\n",
       "</table>\n",
       "</div>"
      ],
      "text/plain": [
       "Typ                  Ort Kat-Nr          X         Y      TYP\n",
       "0     Bobangi (Fpl. 189)    189  17.722248 -0.108898      BOT\n",
       "2    Bokwango (Fpl. 190)    190  17.780500  0.102769      BOT\n",
       "23      Zamba (Fpl. 191)    191  17.884584  0.271798  BOT (?)\n",
       "10     Ilanga (Fpl. 192)    192  17.897891  0.284087      BOT\n",
       "12       Loka (Fpl. 193)    193  17.945614  0.320338      BOT\n",
       "4     Bolumbu (Fpl. 194)    194  17.882294  0.677829      BOT\n",
       "8      Boyoka (Fpl. 196)    196  17.898659  1.089931      BOT\n",
       "1      Bobulu (Fpl. 198)    198  18.042886  1.441145  BOT (?)\n",
       "15   Lukolela (Fpl. 234)    234  17.175593 -1.062185  BOT (?)\n",
       "16      Sungu (Fpl. 236)    236  17.334786 -1.033313      BOT\n",
       "9       Gombe (Fpl. 237)    237  17.580406 -0.704069      BOT\n",
       "5       Bonga (Fpl. 238)    238  16.873263 -1.117121      BOT\n",
       "1      Bobusa (Fpl. 239)    239  16.917098 -1.052349      BOT\n",
       "15     Sosolo (Fpl. 241)    241  17.128605 -0.892241      BOT\n",
       "11     Loboko (Fpl. 248)    248  17.130913 -0.109189      BOT\n",
       "17     Mitula (Fpl. 251)    251  17.046761  0.291662  BOT (?)\n",
       "19    Pikunda (Fpl. 255)    255  16.635736  0.549344  BOT (?)\n",
       "14     Ngombe (Fpl. 283)    283  17.192417 -0.849508      BOT\n",
       "7     Boyenge (Fpl. 284)    284  17.199855 -0.835253      BOT\n",
       "3      Boleko (Fpl. 285)    285  17.221926 -0.805556      BOT\n",
       "6     Botwale (Fpl. 286)    286  17.365479 -0.552494      BOT\n",
       "13    Misongo (Fpl. 288)    288  17.359252 -0.406653      BOT\n",
       "17      Yumba (Fpl. 289)    289  17.366567 -0.351703      BOT\n",
       "3     Bojenjo (Fpl. 292)    292  17.432057 -0.006791  BOT (?)"
      ]
     },
     "execution_count": 53,
     "metadata": {},
     "output_type": "execute_result"
    }
   ],
   "source": [
    "df = style_mapping_gis_export(style)\n",
    "df.sort_values(['Kat-Nr'])"
   ]
  },
  {
   "cell_type": "code",
   "execution_count": 54,
   "metadata": {
    "collapsed": true
   },
   "outputs": [],
   "source": [
    "df.to_csv(\"../data/processed/3-2-1-5_BOT_Verbreitung.csv\", index = False)"
   ]
  },
  {
   "cell_type": "code",
   "execution_count": 55,
   "metadata": {},
   "outputs": [
    {
     "data": {
      "text/plain": [
       "24"
      ]
     },
     "execution_count": 55,
     "metadata": {},
     "output_type": "execute_result"
    }
   ],
   "source": [
    "len(df)"
   ]
  },
  {
   "cell_type": "markdown",
   "metadata": {
    "collapsed": true
   },
   "source": [
    "## Tafeln"
   ]
  },
  {
   "cell_type": "code",
   "execution_count": 56,
   "metadata": {
    "collapsed": true
   },
   "outputs": [],
   "source": [
    "# damit alle Zeilen angezeigt werden:\n",
    "pd.set_option('display.max_rows', None)"
   ]
  },
  {
   "cell_type": "code",
   "execution_count": 57,
   "metadata": {
    "scrolled": false
   },
   "outputs": [
    {
     "data": {
      "text/html": [
       "<div>\n",
       "<table border=\"1\" class=\"dataframe\">\n",
       "  <thead>\n",
       "    <tr style=\"text-align: right;\">\n",
       "      <th></th>\n",
       "      <th>TAF</th>\n",
       "      <th>OBJ</th>\n",
       "      <th>SITE</th>\n",
       "      <th>FEAT</th>\n",
       "      <th>NOTE</th>\n",
       "      <th>IND</th>\n",
       "      <th>Typ</th>\n",
       "      <th>Form_Gef</th>\n",
       "      <th>Form_Rand</th>\n",
       "      <th>Form_Boden</th>\n",
       "    </tr>\n",
       "  </thead>\n",
       "  <tbody>\n",
       "    <tr>\n",
       "      <th>0</th>\n",
       "      <td>1</td>\n",
       "      <td>4</td>\n",
       "      <td>BOB</td>\n",
       "      <td>85/101</td>\n",
       "      <td>NaN</td>\n",
       "      <td>b</td>\n",
       "      <td>BOT (?)</td>\n",
       "      <td>I3</td>\n",
       "      <td>B1/B3</td>\n",
       "      <td>B12</td>\n",
       "    </tr>\n",
       "    <tr>\n",
       "      <th>1</th>\n",
       "      <td>2</td>\n",
       "      <td>2</td>\n",
       "      <td>BKW</td>\n",
       "      <td>85/101</td>\n",
       "      <td>NaN</td>\n",
       "      <td>8</td>\n",
       "      <td>BOT</td>\n",
       "      <td>A1 (?)</td>\n",
       "      <td>B2</td>\n",
       "      <td>None</td>\n",
       "    </tr>\n",
       "    <tr>\n",
       "      <th>2</th>\n",
       "      <td>3</td>\n",
       "      <td>9</td>\n",
       "      <td>ZAM</td>\n",
       "      <td>85/101</td>\n",
       "      <td>NaN</td>\n",
       "      <td>2</td>\n",
       "      <td>BOT (?)</td>\n",
       "      <td>C2/G6 (?)</td>\n",
       "      <td>B1</td>\n",
       "      <td>None</td>\n",
       "    </tr>\n",
       "    <tr>\n",
       "      <th>3</th>\n",
       "      <td>3</td>\n",
       "      <td>14</td>\n",
       "      <td>LKA</td>\n",
       "      <td>85/101</td>\n",
       "      <td>NaN</td>\n",
       "      <td>20</td>\n",
       "      <td>BOT</td>\n",
       "      <td>I3 (?)</td>\n",
       "      <td>A4.3</td>\n",
       "      <td>None</td>\n",
       "    </tr>\n",
       "    <tr>\n",
       "      <th>4</th>\n",
       "      <td>4</td>\n",
       "      <td>4</td>\n",
       "      <td>BLU</td>\n",
       "      <td>85/101</td>\n",
       "      <td>NaN</td>\n",
       "      <td>8</td>\n",
       "      <td>BOT</td>\n",
       "      <td>G6</td>\n",
       "      <td>A4.3</td>\n",
       "      <td>None</td>\n",
       "    </tr>\n",
       "    <tr>\n",
       "      <th>5</th>\n",
       "      <td>4</td>\n",
       "      <td>5</td>\n",
       "      <td>BLU</td>\n",
       "      <td>85/101</td>\n",
       "      <td>NaN</td>\n",
       "      <td>10</td>\n",
       "      <td>BOT</td>\n",
       "      <td>G6 (?)</td>\n",
       "      <td>A4.3</td>\n",
       "      <td>None</td>\n",
       "    </tr>\n",
       "    <tr>\n",
       "      <th>6</th>\n",
       "      <td>5</td>\n",
       "      <td>5</td>\n",
       "      <td>BYO</td>\n",
       "      <td>85/101</td>\n",
       "      <td>NaN</td>\n",
       "      <td>58</td>\n",
       "      <td>BKW/BOT (?)</td>\n",
       "      <td>None</td>\n",
       "      <td>None</td>\n",
       "      <td>None</td>\n",
       "    </tr>\n",
       "    <tr>\n",
       "      <th>7</th>\n",
       "      <td>32</td>\n",
       "      <td>15</td>\n",
       "      <td>SUN</td>\n",
       "      <td>87/101</td>\n",
       "      <td>NaN</td>\n",
       "      <td>65</td>\n",
       "      <td>BOT</td>\n",
       "      <td>G6</td>\n",
       "      <td>A4.3</td>\n",
       "      <td>None</td>\n",
       "    </tr>\n",
       "    <tr>\n",
       "      <th>8</th>\n",
       "      <td>33</td>\n",
       "      <td>3</td>\n",
       "      <td>GMB</td>\n",
       "      <td>87/101</td>\n",
       "      <td>NaN</td>\n",
       "      <td>11</td>\n",
       "      <td>BOT (?)</td>\n",
       "      <td>G6</td>\n",
       "      <td>A1/B1</td>\n",
       "      <td>None</td>\n",
       "    </tr>\n",
       "    <tr>\n",
       "      <th>9</th>\n",
       "      <td>34</td>\n",
       "      <td>5</td>\n",
       "      <td>BBS</td>\n",
       "      <td>87/102</td>\n",
       "      <td>NaN</td>\n",
       "      <td>130</td>\n",
       "      <td>BOT (?)</td>\n",
       "      <td>I3</td>\n",
       "      <td>B1.3</td>\n",
       "      <td>B1</td>\n",
       "    </tr>\n",
       "    <tr>\n",
       "      <th>10</th>\n",
       "      <td>34</td>\n",
       "      <td>7</td>\n",
       "      <td>BBS</td>\n",
       "      <td>87/102</td>\n",
       "      <td>NaN</td>\n",
       "      <td>37</td>\n",
       "      <td>BOT (?)</td>\n",
       "      <td>I3 (?)</td>\n",
       "      <td>B1.3</td>\n",
       "      <td>None</td>\n",
       "    </tr>\n",
       "    <tr>\n",
       "      <th>11</th>\n",
       "      <td>34</td>\n",
       "      <td>8</td>\n",
       "      <td>BBS</td>\n",
       "      <td>87/102</td>\n",
       "      <td>NaN</td>\n",
       "      <td>6</td>\n",
       "      <td>BOT</td>\n",
       "      <td>G6</td>\n",
       "      <td>A4.3</td>\n",
       "      <td>None</td>\n",
       "    </tr>\n",
       "    <tr>\n",
       "      <th>12</th>\n",
       "      <td>34</td>\n",
       "      <td>10</td>\n",
       "      <td>BBS</td>\n",
       "      <td>87/102</td>\n",
       "      <td>NaN</td>\n",
       "      <td>107</td>\n",
       "      <td>BOT (?)</td>\n",
       "      <td>I3 (?)</td>\n",
       "      <td>A4.3</td>\n",
       "      <td>None</td>\n",
       "    </tr>\n",
       "    <tr>\n",
       "      <th>13</th>\n",
       "      <td>34</td>\n",
       "      <td>11</td>\n",
       "      <td>BBS</td>\n",
       "      <td>87/102</td>\n",
       "      <td>NaN</td>\n",
       "      <td>114</td>\n",
       "      <td>BOT (?)</td>\n",
       "      <td>I3 (?)</td>\n",
       "      <td>A4.3/A2</td>\n",
       "      <td>None</td>\n",
       "    </tr>\n",
       "    <tr>\n",
       "      <th>14</th>\n",
       "      <td>34</td>\n",
       "      <td>12</td>\n",
       "      <td>BBS</td>\n",
       "      <td>87/102</td>\n",
       "      <td>NaN</td>\n",
       "      <td>39</td>\n",
       "      <td>BOT (?)</td>\n",
       "      <td>I3 (?)</td>\n",
       "      <td>A4.3</td>\n",
       "      <td>None</td>\n",
       "    </tr>\n",
       "    <tr>\n",
       "      <th>15</th>\n",
       "      <td>35</td>\n",
       "      <td>5</td>\n",
       "      <td>BBS</td>\n",
       "      <td>87/102</td>\n",
       "      <td>NaN</td>\n",
       "      <td>25</td>\n",
       "      <td>BOT (?)</td>\n",
       "      <td>I3 (?)</td>\n",
       "      <td>B1.3</td>\n",
       "      <td>None</td>\n",
       "    </tr>\n",
       "    <tr>\n",
       "      <th>16</th>\n",
       "      <td>36</td>\n",
       "      <td>18</td>\n",
       "      <td>SSL</td>\n",
       "      <td>87/101</td>\n",
       "      <td>NaN</td>\n",
       "      <td>4, 74</td>\n",
       "      <td>BOT (?)</td>\n",
       "      <td>None</td>\n",
       "      <td>A1</td>\n",
       "      <td>None</td>\n",
       "    </tr>\n",
       "    <tr>\n",
       "      <th>17</th>\n",
       "      <td>36</td>\n",
       "      <td>19</td>\n",
       "      <td>SSL</td>\n",
       "      <td>87/101</td>\n",
       "      <td>25</td>\n",
       "      <td>21, 25</td>\n",
       "      <td>EPE/BOT (?)</td>\n",
       "      <td>None</td>\n",
       "      <td>None</td>\n",
       "      <td>None</td>\n",
       "    </tr>\n",
       "    <tr>\n",
       "      <th>18</th>\n",
       "      <td>36</td>\n",
       "      <td>21</td>\n",
       "      <td>SSL</td>\n",
       "      <td>87/101</td>\n",
       "      <td>21</td>\n",
       "      <td>21, 25</td>\n",
       "      <td>EPE/BOT (?)</td>\n",
       "      <td>None</td>\n",
       "      <td>None</td>\n",
       "      <td>None</td>\n",
       "    </tr>\n",
       "    <tr>\n",
       "      <th>19</th>\n",
       "      <td>37</td>\n",
       "      <td>8</td>\n",
       "      <td>SSL</td>\n",
       "      <td>87/101</td>\n",
       "      <td>NaN</td>\n",
       "      <td>37</td>\n",
       "      <td>BOT</td>\n",
       "      <td>G6</td>\n",
       "      <td>A4.3/B3</td>\n",
       "      <td>None</td>\n",
       "    </tr>\n",
       "    <tr>\n",
       "      <th>20</th>\n",
       "      <td>38</td>\n",
       "      <td>10</td>\n",
       "      <td>SSL</td>\n",
       "      <td>87/101</td>\n",
       "      <td>NaN</td>\n",
       "      <td>92</td>\n",
       "      <td>BOT (?)</td>\n",
       "      <td>I3 (?)</td>\n",
       "      <td>A4.3 (?)</td>\n",
       "      <td>None</td>\n",
       "    </tr>\n",
       "    <tr>\n",
       "      <th>21</th>\n",
       "      <td>42</td>\n",
       "      <td>6</td>\n",
       "      <td>MIT</td>\n",
       "      <td>87/102</td>\n",
       "      <td>NaN</td>\n",
       "      <td>5</td>\n",
       "      <td>BOT (?)</td>\n",
       "      <td>None</td>\n",
       "      <td>B1.2</td>\n",
       "      <td>None</td>\n",
       "    </tr>\n",
       "    <tr>\n",
       "      <th>22</th>\n",
       "      <td>68</td>\n",
       "      <td>2</td>\n",
       "      <td>BYN</td>\n",
       "      <td>87/101</td>\n",
       "      <td>NaN</td>\n",
       "      <td>9</td>\n",
       "      <td>BOT (?)</td>\n",
       "      <td>I1</td>\n",
       "      <td>B1</td>\n",
       "      <td>B1</td>\n",
       "    </tr>\n",
       "    <tr>\n",
       "      <th>23</th>\n",
       "      <td>68</td>\n",
       "      <td>3</td>\n",
       "      <td>BYN</td>\n",
       "      <td>87/101</td>\n",
       "      <td>NaN</td>\n",
       "      <td>10</td>\n",
       "      <td>BOT</td>\n",
       "      <td>I3</td>\n",
       "      <td>A2</td>\n",
       "      <td>None</td>\n",
       "    </tr>\n",
       "    <tr>\n",
       "      <th>24</th>\n",
       "      <td>68</td>\n",
       "      <td>5</td>\n",
       "      <td>BLK</td>\n",
       "      <td>87/1</td>\n",
       "      <td>GE 4</td>\n",
       "      <td>-1:4, -2:4</td>\n",
       "      <td>BOT (?)</td>\n",
       "      <td>I3</td>\n",
       "      <td>A4.3</td>\n",
       "      <td>B1</td>\n",
       "    </tr>\n",
       "    <tr>\n",
       "      <th>25</th>\n",
       "      <td>69</td>\n",
       "      <td>1</td>\n",
       "      <td>BLK</td>\n",
       "      <td>87/1</td>\n",
       "      <td>GE 2</td>\n",
       "      <td>2, -1:2</td>\n",
       "      <td>BOT (?)</td>\n",
       "      <td>G4</td>\n",
       "      <td>A1</td>\n",
       "      <td>B11</td>\n",
       "    </tr>\n",
       "    <tr>\n",
       "      <th>26</th>\n",
       "      <td>69</td>\n",
       "      <td>2</td>\n",
       "      <td>BLK</td>\n",
       "      <td>87/1</td>\n",
       "      <td>GE 5</td>\n",
       "      <td>3, -1-3-1:3</td>\n",
       "      <td>BOT (?)</td>\n",
       "      <td>E7</td>\n",
       "      <td>B1.2</td>\n",
       "      <td>None</td>\n",
       "    </tr>\n",
       "    <tr>\n",
       "      <th>27</th>\n",
       "      <td>70</td>\n",
       "      <td>2</td>\n",
       "      <td>BLK</td>\n",
       "      <td>87/101</td>\n",
       "      <td>NaN</td>\n",
       "      <td>13a</td>\n",
       "      <td>BOT (?)</td>\n",
       "      <td>I3 (?)</td>\n",
       "      <td>A4.3</td>\n",
       "      <td>None</td>\n",
       "    </tr>\n",
       "    <tr>\n",
       "      <th>28</th>\n",
       "      <td>70</td>\n",
       "      <td>3</td>\n",
       "      <td>BLK</td>\n",
       "      <td>87/101</td>\n",
       "      <td>NaN</td>\n",
       "      <td>15</td>\n",
       "      <td>BOT (?)</td>\n",
       "      <td>I3 (?)</td>\n",
       "      <td>B1.3</td>\n",
       "      <td>None</td>\n",
       "    </tr>\n",
       "    <tr>\n",
       "      <th>29</th>\n",
       "      <td>70</td>\n",
       "      <td>4</td>\n",
       "      <td>BLK</td>\n",
       "      <td>87/101</td>\n",
       "      <td>NaN</td>\n",
       "      <td>24</td>\n",
       "      <td>BOT (?)</td>\n",
       "      <td>I3 (?)</td>\n",
       "      <td>A4.3</td>\n",
       "      <td>None</td>\n",
       "    </tr>\n",
       "    <tr>\n",
       "      <th>30</th>\n",
       "      <td>71</td>\n",
       "      <td>1</td>\n",
       "      <td>BTW</td>\n",
       "      <td>87/101</td>\n",
       "      <td>NaN</td>\n",
       "      <td>5</td>\n",
       "      <td>BOT (?)</td>\n",
       "      <td>H2 (?)</td>\n",
       "      <td>C3/A2.3</td>\n",
       "      <td>None</td>\n",
       "    </tr>\n",
       "    <tr>\n",
       "      <th>31</th>\n",
       "      <td>71</td>\n",
       "      <td>2</td>\n",
       "      <td>BTW</td>\n",
       "      <td>87/101</td>\n",
       "      <td>NaN</td>\n",
       "      <td>45</td>\n",
       "      <td>BOT/EBA (?)</td>\n",
       "      <td>E1</td>\n",
       "      <td>B1.2</td>\n",
       "      <td>None</td>\n",
       "    </tr>\n",
       "    <tr>\n",
       "      <th>32</th>\n",
       "      <td>71</td>\n",
       "      <td>3</td>\n",
       "      <td>BTW</td>\n",
       "      <td>87/101</td>\n",
       "      <td>NaN</td>\n",
       "      <td>18</td>\n",
       "      <td>BOT</td>\n",
       "      <td>F3 (?)</td>\n",
       "      <td>B2.1</td>\n",
       "      <td>None</td>\n",
       "    </tr>\n",
       "    <tr>\n",
       "      <th>33</th>\n",
       "      <td>73</td>\n",
       "      <td>4</td>\n",
       "      <td>YUM</td>\n",
       "      <td>87/102</td>\n",
       "      <td>NaN</td>\n",
       "      <td>3</td>\n",
       "      <td>BOT</td>\n",
       "      <td>I3 (?)</td>\n",
       "      <td>B1.3</td>\n",
       "      <td>None</td>\n",
       "    </tr>\n",
       "    <tr>\n",
       "      <th>34</th>\n",
       "      <td>73</td>\n",
       "      <td>8</td>\n",
       "      <td>YUM</td>\n",
       "      <td>87/102</td>\n",
       "      <td>NaN</td>\n",
       "      <td>2</td>\n",
       "      <td>BOT (?)</td>\n",
       "      <td>None</td>\n",
       "      <td>C1</td>\n",
       "      <td>None</td>\n",
       "    </tr>\n",
       "    <tr>\n",
       "      <th>35</th>\n",
       "      <td>73</td>\n",
       "      <td>9</td>\n",
       "      <td>YUM</td>\n",
       "      <td>87/102</td>\n",
       "      <td>NaN</td>\n",
       "      <td>9</td>\n",
       "      <td>BOT</td>\n",
       "      <td>I3 (?)</td>\n",
       "      <td>A4.3</td>\n",
       "      <td>None</td>\n",
       "    </tr>\n",
       "    <tr>\n",
       "      <th>36</th>\n",
       "      <td>74</td>\n",
       "      <td>5</td>\n",
       "      <td>YUM</td>\n",
       "      <td>87/103</td>\n",
       "      <td>NaN</td>\n",
       "      <td>6</td>\n",
       "      <td>BOT (?)</td>\n",
       "      <td>I3 (?)</td>\n",
       "      <td>A4.3</td>\n",
       "      <td>None</td>\n",
       "    </tr>\n",
       "    <tr>\n",
       "      <th>37</th>\n",
       "      <td>75</td>\n",
       "      <td>4</td>\n",
       "      <td>YUM</td>\n",
       "      <td>87/103</td>\n",
       "      <td>NaN</td>\n",
       "      <td>4</td>\n",
       "      <td>BOT (?)</td>\n",
       "      <td>None</td>\n",
       "      <td>B2.2</td>\n",
       "      <td>None</td>\n",
       "    </tr>\n",
       "    <tr>\n",
       "      <th>38</th>\n",
       "      <td>75</td>\n",
       "      <td>6</td>\n",
       "      <td>YUM</td>\n",
       "      <td>87/103</td>\n",
       "      <td>NaN</td>\n",
       "      <td>17-18</td>\n",
       "      <td>BOT (?)</td>\n",
       "      <td>B2 (?)</td>\n",
       "      <td>None</td>\n",
       "      <td>None</td>\n",
       "    </tr>\n",
       "    <tr>\n",
       "      <th>39</th>\n",
       "      <td>77</td>\n",
       "      <td>6</td>\n",
       "      <td>BJJ</td>\n",
       "      <td>87/101</td>\n",
       "      <td>NaN</td>\n",
       "      <td>9</td>\n",
       "      <td>EPE/BOT (?)</td>\n",
       "      <td>E1 (?)</td>\n",
       "      <td>B1</td>\n",
       "      <td>None</td>\n",
       "    </tr>\n",
       "    <tr>\n",
       "      <th>40</th>\n",
       "      <td>77</td>\n",
       "      <td>11</td>\n",
       "      <td>BJJ</td>\n",
       "      <td>87/101</td>\n",
       "      <td>NaN</td>\n",
       "      <td>12</td>\n",
       "      <td>BOT (?)</td>\n",
       "      <td>None</td>\n",
       "      <td>A4.3 (?)</td>\n",
       "      <td>None</td>\n",
       "    </tr>\n",
       "    <tr>\n",
       "      <th>41</th>\n",
       "      <td>78</td>\n",
       "      <td>1</td>\n",
       "      <td>BJJ</td>\n",
       "      <td>87/101</td>\n",
       "      <td>NaN</td>\n",
       "      <td>19</td>\n",
       "      <td>EPE/BOT (?)</td>\n",
       "      <td>I3 (?)</td>\n",
       "      <td>B3</td>\n",
       "      <td>None</td>\n",
       "    </tr>\n",
       "  </tbody>\n",
       "</table>\n",
       "</div>"
      ],
      "text/plain": [
       "    TAF  OBJ SITE    FEAT  NOTE          IND          Typ   Form_Gef  \\\n",
       "0     1    4  BOB  85/101   NaN            b      BOT (?)         I3   \n",
       "1     2    2  BKW  85/101   NaN            8          BOT     A1 (?)   \n",
       "2     3    9  ZAM  85/101   NaN            2      BOT (?)  C2/G6 (?)   \n",
       "3     3   14  LKA  85/101   NaN           20          BOT     I3 (?)   \n",
       "4     4    4  BLU  85/101   NaN            8          BOT         G6   \n",
       "5     4    5  BLU  85/101   NaN           10          BOT     G6 (?)   \n",
       "6     5    5  BYO  85/101   NaN           58  BKW/BOT (?)       None   \n",
       "7    32   15  SUN  87/101   NaN           65          BOT         G6   \n",
       "8    33    3  GMB  87/101   NaN           11      BOT (?)         G6   \n",
       "9    34    5  BBS  87/102   NaN          130      BOT (?)         I3   \n",
       "10   34    7  BBS  87/102   NaN           37      BOT (?)     I3 (?)   \n",
       "11   34    8  BBS  87/102   NaN            6          BOT         G6   \n",
       "12   34   10  BBS  87/102   NaN          107      BOT (?)     I3 (?)   \n",
       "13   34   11  BBS  87/102   NaN          114      BOT (?)     I3 (?)   \n",
       "14   34   12  BBS  87/102   NaN           39      BOT (?)     I3 (?)   \n",
       "15   35    5  BBS  87/102   NaN           25      BOT (?)     I3 (?)   \n",
       "16   36   18  SSL  87/101   NaN        4, 74      BOT (?)       None   \n",
       "17   36   19  SSL  87/101    25       21, 25  EPE/BOT (?)       None   \n",
       "18   36   21  SSL  87/101    21       21, 25  EPE/BOT (?)       None   \n",
       "19   37    8  SSL  87/101   NaN           37          BOT         G6   \n",
       "20   38   10  SSL  87/101   NaN           92      BOT (?)     I3 (?)   \n",
       "21   42    6  MIT  87/102   NaN            5      BOT (?)       None   \n",
       "22   68    2  BYN  87/101   NaN            9      BOT (?)         I1   \n",
       "23   68    3  BYN  87/101   NaN           10          BOT         I3   \n",
       "24   68    5  BLK    87/1  GE 4   -1:4, -2:4      BOT (?)         I3   \n",
       "25   69    1  BLK    87/1  GE 2      2, -1:2      BOT (?)         G4   \n",
       "26   69    2  BLK    87/1  GE 5  3, -1-3-1:3      BOT (?)         E7   \n",
       "27   70    2  BLK  87/101   NaN          13a      BOT (?)     I3 (?)   \n",
       "28   70    3  BLK  87/101   NaN           15      BOT (?)     I3 (?)   \n",
       "29   70    4  BLK  87/101   NaN           24      BOT (?)     I3 (?)   \n",
       "30   71    1  BTW  87/101   NaN            5      BOT (?)     H2 (?)   \n",
       "31   71    2  BTW  87/101   NaN           45  BOT/EBA (?)         E1   \n",
       "32   71    3  BTW  87/101   NaN           18          BOT     F3 (?)   \n",
       "33   73    4  YUM  87/102   NaN            3          BOT     I3 (?)   \n",
       "34   73    8  YUM  87/102   NaN            2      BOT (?)       None   \n",
       "35   73    9  YUM  87/102   NaN            9          BOT     I3 (?)   \n",
       "36   74    5  YUM  87/103   NaN            6      BOT (?)     I3 (?)   \n",
       "37   75    4  YUM  87/103   NaN            4      BOT (?)       None   \n",
       "38   75    6  YUM  87/103   NaN        17-18      BOT (?)     B2 (?)   \n",
       "39   77    6  BJJ  87/101   NaN            9  EPE/BOT (?)     E1 (?)   \n",
       "40   77   11  BJJ  87/101   NaN           12      BOT (?)       None   \n",
       "41   78    1  BJJ  87/101   NaN           19  EPE/BOT (?)     I3 (?)   \n",
       "\n",
       "   Form_Rand Form_Boden  \n",
       "0      B1/B3        B12  \n",
       "1         B2       None  \n",
       "2         B1       None  \n",
       "3       A4.3       None  \n",
       "4       A4.3       None  \n",
       "5       A4.3       None  \n",
       "6       None       None  \n",
       "7       A4.3       None  \n",
       "8      A1/B1       None  \n",
       "9       B1.3         B1  \n",
       "10      B1.3       None  \n",
       "11      A4.3       None  \n",
       "12      A4.3       None  \n",
       "13   A4.3/A2       None  \n",
       "14      A4.3       None  \n",
       "15      B1.3       None  \n",
       "16        A1       None  \n",
       "17      None       None  \n",
       "18      None       None  \n",
       "19   A4.3/B3       None  \n",
       "20  A4.3 (?)       None  \n",
       "21      B1.2       None  \n",
       "22        B1         B1  \n",
       "23        A2       None  \n",
       "24      A4.3         B1  \n",
       "25        A1        B11  \n",
       "26      B1.2       None  \n",
       "27      A4.3       None  \n",
       "28      B1.3       None  \n",
       "29      A4.3       None  \n",
       "30   C3/A2.3       None  \n",
       "31      B1.2       None  \n",
       "32      B2.1       None  \n",
       "33      B1.3       None  \n",
       "34        C1       None  \n",
       "35      A4.3       None  \n",
       "36      A4.3       None  \n",
       "37      B2.2       None  \n",
       "38      None       None  \n",
       "39        B1       None  \n",
       "40  A4.3 (?)       None  \n",
       "41        B3       None  "
      ]
     },
     "execution_count": 57,
     "metadata": {},
     "output_type": "execute_result"
    }
   ],
   "source": [
    "sql = \"\"\"SELECT\n",
    "           t_Ort.ort_kurz AS SITE,\n",
    "           t_Komplex.bef_nr AS FEAT,\n",
    "           t_Obj.Individuum AS IND,\n",
    "           t_Obj.Typ,\n",
    "           t_Obj.Form_Gef,\n",
    "           t_Obj.Form_Rand,\n",
    "           t_Obj.Form_Boden\n",
    "       FROM (t_Ort INNER JOIN t_Komplex ON t_Ort.ortID = t_Komplex.ortID)\n",
    "           INNER JOIN t_Obj ON t_Komplex.komplexID = t_Obj.komplexID\n",
    "       WHERE (((t_Ort.ort_lit) = 'DS')\n",
    "           AND ((t_Obj.Typ) Like '%\"\"\"+style+\"\"\"%'))\"\"\".replace('\\n',' ')\n",
    "\n",
    "df = pd.read_sql(sql, con)\n",
    "\n",
    "pl = pd.read_csv('../plates/plates.csv')\n",
    "\n",
    "df_merge = pd.merge(pl, df, on=['SITE', 'FEAT', 'IND'], how='inner')\n",
    "df_merge"
   ]
  },
  {
   "cell_type": "code",
   "execution_count": 58,
   "metadata": {},
   "outputs": [
    {
     "data": {
      "text/plain": [
       "229"
      ]
     },
     "execution_count": 58,
     "metadata": {},
     "output_type": "execute_result"
    }
   ],
   "source": [
    "len(df)"
   ]
  },
  {
   "cell_type": "code",
   "execution_count": null,
   "metadata": {
    "collapsed": true
   },
   "outputs": [],
   "source": []
  }
 ],
 "metadata": {
  "anaconda-cloud": {},
  "kernelspec": {
   "display_name": "Python 3",
   "language": "python",
   "name": "python3"
  },
  "language_info": {
   "codemirror_mode": {
    "name": "ipython",
    "version": 3
   },
   "file_extension": ".py",
   "mimetype": "text/x-python",
   "name": "python",
   "nbconvert_exporter": "python",
   "pygments_lexer": "ipython3",
   "version": "3.6.1"
  }
 },
 "nbformat": 4,
 "nbformat_minor": 1
}
