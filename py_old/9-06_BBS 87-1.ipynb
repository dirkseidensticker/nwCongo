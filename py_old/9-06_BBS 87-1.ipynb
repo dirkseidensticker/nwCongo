{
 "cells": [
  {
   "cell_type": "markdown",
   "metadata": {},
   "source": [
    "# BBS 87/1"
   ]
  },
  {
   "cell_type": "markdown",
   "metadata": {},
   "source": [
    "* [Verteilung der Funde](#Verteilung-der-Funde)\n",
    "    * [Fundkategorien](#Fundkategorien)\n",
    "    * [Keramische Stilgruppen](#Keramische-Stilgruppen)\n",
    "    * [Fragmentierung der Keramik](#Fragmentierung-der-Keramik)\n",
    "* [Formen](#Formen)\n",
    "    * [Gefäßformen](#Gefäßformen)"
   ]
  },
  {
   "cell_type": "code",
   "execution_count": 1,
   "metadata": {
    "collapsed": false
   },
   "outputs": [],
   "source": [
    "%matplotlib inline\n",
    "from IPython.display import display\n",
    "import pandas as pd\n",
    "import numpy as np\n",
    "import matplotlib.pyplot as plt\n",
    "import sqlite3\n",
    "# pd.options.display.mpl_style = 'default'\n",
    "\n",
    "con = sqlite3.connect(\"../data/CongoDB.sqlite\")"
   ]
  },
  {
   "cell_type": "markdown",
   "metadata": {},
   "source": [
    "## Verteilung der Funde"
   ]
  },
  {
   "cell_type": "markdown",
   "metadata": {},
   "source": [
    "### Fundkategorien"
   ]
  },
  {
   "cell_type": "code",
   "execution_count": 2,
   "metadata": {
    "collapsed": false
   },
   "outputs": [
    {
     "data": {
      "text/html": [
       "<div>\n",
       "<table border=\"1\" class=\"dataframe\">\n",
       "  <thead>\n",
       "    <tr style=\"text-align: right;\">\n",
       "      <th></th>\n",
       "      <th>ort_kurz</th>\n",
       "      <th>Komplex</th>\n",
       "      <th>Individuum</th>\n",
       "      <th>Typ</th>\n",
       "      <th>Gewicht</th>\n",
       "      <th>Anzahl</th>\n",
       "      <th>Gr_Clist</th>\n",
       "      <th>Art</th>\n",
       "      <th>Tiefe</th>\n",
       "    </tr>\n",
       "  </thead>\n",
       "  <tbody>\n",
       "    <tr>\n",
       "      <th>0</th>\n",
       "      <td>BBS</td>\n",
       "      <td>87/1</td>\n",
       "      <td>-1:3-4</td>\n",
       "      <td>MBA</td>\n",
       "      <td>27</td>\n",
       "      <td>1</td>\n",
       "      <td>70</td>\n",
       "      <td>K</td>\n",
       "      <td>10</td>\n",
       "    </tr>\n",
       "    <tr>\n",
       "      <th>1</th>\n",
       "      <td>BBS</td>\n",
       "      <td>87/1</td>\n",
       "      <td>-2:1</td>\n",
       "      <td>BBS</td>\n",
       "      <td>35</td>\n",
       "      <td>1</td>\n",
       "      <td>70</td>\n",
       "      <td>K</td>\n",
       "      <td>30</td>\n",
       "    </tr>\n",
       "    <tr>\n",
       "      <th>2</th>\n",
       "      <td>BBS</td>\n",
       "      <td>87/1</td>\n",
       "      <td>-2:4</td>\n",
       "      <td>None</td>\n",
       "      <td>34</td>\n",
       "      <td>1</td>\n",
       "      <td>70</td>\n",
       "      <td>K</td>\n",
       "      <td>30</td>\n",
       "    </tr>\n",
       "    <tr>\n",
       "      <th>3</th>\n",
       "      <td>BBS</td>\n",
       "      <td>87/1</td>\n",
       "      <td>2</td>\n",
       "      <td>BBS</td>\n",
       "      <td>17</td>\n",
       "      <td>1</td>\n",
       "      <td>70</td>\n",
       "      <td>K</td>\n",
       "      <td>0</td>\n",
       "    </tr>\n",
       "    <tr>\n",
       "      <th>4</th>\n",
       "      <td>BBS</td>\n",
       "      <td>87/1</td>\n",
       "      <td>5</td>\n",
       "      <td>BBS</td>\n",
       "      <td>45</td>\n",
       "      <td>1</td>\n",
       "      <td>70</td>\n",
       "      <td>Sonder</td>\n",
       "      <td>0</td>\n",
       "    </tr>\n",
       "  </tbody>\n",
       "</table>\n",
       "</div>"
      ],
      "text/plain": [
       "  ort_kurz Komplex Individuum   Typ  Gewicht  Anzahl  Gr_Clist     Art Tiefe\n",
       "0      BBS    87/1     -1:3-4   MBA       27       1        70       K    10\n",
       "1      BBS    87/1       -2:1   BBS       35       1        70       K    30\n",
       "2      BBS    87/1       -2:4  None       34       1        70       K    30\n",
       "3      BBS    87/1          2   BBS       17       1        70       K     0\n",
       "4      BBS    87/1          5   BBS       45       1        70  Sonder     0"
      ]
     },
     "metadata": {},
     "output_type": "display_data"
    }
   ],
   "source": [
    "sql = \"\"\"SELECT\n",
    "           t_Obj.ort_kurz, \n",
    "           t_Obj.Komplex, \n",
    "           t_Obj.Individuum, \n",
    "           t_Obj.Typ, \n",
    "           t_Obj.Gewicht,\n",
    "           t_Obj.Anzahl,\n",
    "           t_Obj.Gr_Clist, \n",
    "           t_Obj.Art,\n",
    "           t_Obj.Tiefe \n",
    "       FROM t_Obj \n",
    "       WHERE (((t_Obj.ort_kurz) = 'BBS')\n",
    "           AND ((t_Obj.Komplex) = '87/1'))\"\"\".replace('\\n',' ')\n",
    "\n",
    "df = pd.read_sql(sql, con)\n",
    "display(df.head())"
   ]
  },
  {
   "cell_type": "code",
   "execution_count": 3,
   "metadata": {
    "collapsed": false
   },
   "outputs": [
    {
     "data": {
      "text/html": [
       "<div>\n",
       "<table border=\"1\" class=\"dataframe\">\n",
       "  <thead>\n",
       "    <tr style=\"text-align: right;\">\n",
       "      <th>Art</th>\n",
       "      <th>HL</th>\n",
       "      <th>K</th>\n",
       "      <th>Schlacke</th>\n",
       "      <th>Sonder</th>\n",
       "    </tr>\n",
       "    <tr>\n",
       "      <th>Tiefe</th>\n",
       "      <th></th>\n",
       "      <th></th>\n",
       "      <th></th>\n",
       "      <th></th>\n",
       "    </tr>\n",
       "  </thead>\n",
       "  <tbody>\n",
       "    <tr>\n",
       "      <th>0</th>\n",
       "      <td>39.0</td>\n",
       "      <td>85.0</td>\n",
       "      <td>NaN</td>\n",
       "      <td>45.0</td>\n",
       "    </tr>\n",
       "    <tr>\n",
       "      <th>10</th>\n",
       "      <td>NaN</td>\n",
       "      <td>157.0</td>\n",
       "      <td>NaN</td>\n",
       "      <td>NaN</td>\n",
       "    </tr>\n",
       "    <tr>\n",
       "      <th>30</th>\n",
       "      <td>56.0</td>\n",
       "      <td>472.0</td>\n",
       "      <td>49.0</td>\n",
       "      <td>NaN</td>\n",
       "    </tr>\n",
       "    <tr>\n",
       "      <th>40</th>\n",
       "      <td>3.0</td>\n",
       "      <td>54.0</td>\n",
       "      <td>NaN</td>\n",
       "      <td>NaN</td>\n",
       "    </tr>\n",
       "  </tbody>\n",
       "</table>\n",
       "</div>"
      ],
      "text/plain": [
       "Art      HL      K  Schlacke  Sonder\n",
       "Tiefe                               \n",
       "0      39.0   85.0       NaN    45.0\n",
       "10      NaN  157.0       NaN     NaN\n",
       "30     56.0  472.0      49.0     NaN\n",
       "40      3.0   54.0       NaN     NaN"
      ]
     },
     "execution_count": 3,
     "metadata": {},
     "output_type": "execute_result"
    }
   ],
   "source": [
    "df_pivot = df.pivot_table(values = 'Gewicht', index = 'Tiefe', columns = 'Art', aggfunc = sum)\n",
    "df_pivot"
   ]
  },
  {
   "cell_type": "code",
   "execution_count": 4,
   "metadata": {
    "collapsed": false
   },
   "outputs": [
    {
     "data": {
      "image/png": "[encoded data removed]",
      "text/plain": [
       "<matplotlib.figure.Figure at 0x1d2989e10>"
      ]
     },
     "metadata": {},
     "output_type": "display_data"
    }
   ],
   "source": [
    "ax = df_pivot.plot(kind = 'barh', stacked=True, cmap = 'Greys')\n",
    "plt.xlabel('Gewicht [g]')\n",
    "plt.ylabel('Tiefe [cm u. Obfl.]')\n",
    "plt.gca().invert_yaxis()\n",
    "xlim = ax.get_xlim()\n",
    "ylim = ax.get_ylim()\n",
    "plt.gca().set_aspect((abs(xlim[0]) + abs(xlim[1])) / (abs(ylim[0]) + abs(ylim[1])))\n",
    "lgd = plt.legend(bbox_to_anchor=(1.02, 1), loc = 2, borderaxespad = 0.)\n",
    "plt.tight_layout()\n",
    "plt.savefig('../output/figs/9-6_BBS87-1_VerteilungFunde.pdf', bbox_extra_artists=(lgd,), bbox_inches='tight')\n",
    "plt.show()"
   ]
  },
  {
   "cell_type": "markdown",
   "metadata": {},
   "source": [
    "> **BBS 87/1** Fundverteilung"
   ]
  },
  {
   "cell_type": "code",
   "execution_count": 5,
   "metadata": {
    "collapsed": false
   },
   "outputs": [
    {
     "data": {
      "text/html": [
       "<div>\n",
       "<table border=\"1\" class=\"dataframe\">\n",
       "  <thead>\n",
       "    <tr style=\"text-align: right;\">\n",
       "      <th></th>\n",
       "      <th>Fundkategorie</th>\n",
       "      <th>Anzahl</th>\n",
       "      <th>\\%</th>\n",
       "      <th>Gewicht (kg)</th>\n",
       "      <th>\\%</th>\n",
       "    </tr>\n",
       "  </thead>\n",
       "  <tbody>\n",
       "    <tr>\n",
       "      <th>0</th>\n",
       "      <td>gebrannter Lehm</td>\n",
       "      <td>6</td>\n",
       "      <td>8.0</td>\n",
       "      <td>0.10</td>\n",
       "      <td>10.2</td>\n",
       "    </tr>\n",
       "    <tr>\n",
       "      <th>1</th>\n",
       "      <td>Keramik</td>\n",
       "      <td>67</td>\n",
       "      <td>89.3</td>\n",
       "      <td>0.77</td>\n",
       "      <td>80.0</td>\n",
       "    </tr>\n",
       "    <tr>\n",
       "      <th>2</th>\n",
       "      <td>Schlacke</td>\n",
       "      <td>1</td>\n",
       "      <td>1.3</td>\n",
       "      <td>0.05</td>\n",
       "      <td>5.1</td>\n",
       "    </tr>\n",
       "    <tr>\n",
       "      <th>3</th>\n",
       "      <td>Sonder</td>\n",
       "      <td>1</td>\n",
       "      <td>1.3</td>\n",
       "      <td>0.04</td>\n",
       "      <td>4.7</td>\n",
       "    </tr>\n",
       "  </tbody>\n",
       "</table>\n",
       "</div>"
      ],
      "text/plain": [
       "     Fundkategorie  Anzahl    \\%  Gewicht (kg)    \\%\n",
       "0  gebrannter Lehm       6   8.0          0.10  10.2\n",
       "1          Keramik      67  89.3          0.77  80.0\n",
       "2         Schlacke       1   1.3          0.05   5.1\n",
       "3           Sonder       1   1.3          0.04   4.7"
      ]
     },
     "execution_count": 5,
     "metadata": {},
     "output_type": "execute_result"
    }
   ],
   "source": [
    "df_pivot1 = df.pivot_table(values = 'Gewicht', index = 'Art', aggfunc = sum, fill_value = 0)\n",
    "df_pivot1 = pd.DataFrame(df_pivot1)\n",
    "# df_pivot1 = df_pivot1.reset_index()\n",
    "df_pivot1.rename(index={'HL': 'gebrannter Lehm', 'K': 'Keramik'}, inplace=True)\n",
    "df_pivot1['\\%'] = (df_pivot1['Gewicht']/df_pivot1['Gewicht'].sum()*100).round(1)\n",
    "df_pivot1['Gewicht'] = (df_pivot1['Gewicht'] / 1000).round(2)\n",
    "df_pivot1.rename(columns={'Gewicht': 'Gewicht (kg)'}, inplace=True)\n",
    "\n",
    "df_pivot2 = df.pivot_table(values = 'Anzahl', index = 'Art', aggfunc = sum, fill_value = 0)\n",
    "df_pivot2 = pd.DataFrame(df_pivot2)\n",
    "df_pivot2.rename(index={'HL': 'gebrannter Lehm', 'K': 'Keramik'}, inplace=True)\n",
    "df_pivot2['\\%'] = (df_pivot2['Anzahl']/df_pivot2['Anzahl'].sum()*100).round(1)\n",
    "\n",
    "# Tabellen vereinen:\n",
    "df_concat = pd.concat([df_pivot2, df_pivot1], axis = 1)\n",
    "df_concat = df_concat.reset_index()\n",
    "df_concat.rename(columns={'Art': 'Fundkategorie'}, inplace=True)\n",
    "df_concat.to_latex('../output/tabs/9-06_BBS87-1_Funde.tex', index = False, escape = False)\n",
    "df_concat"
   ]
  },
  {
   "cell_type": "markdown",
   "metadata": {},
   "source": [
    "## Keramische Stilgruppen"
   ]
  },
  {
   "cell_type": "code",
   "execution_count": 2,
   "metadata": {
    "collapsed": false
   },
   "outputs": [
    {
     "data": {
      "text/html": [
       "<div>\n",
       "<table border=\"1\" class=\"dataframe\">\n",
       "  <thead>\n",
       "    <tr style=\"text-align: right;\">\n",
       "      <th></th>\n",
       "      <th>ort_kurz</th>\n",
       "      <th>Komplex</th>\n",
       "      <th>Individuum</th>\n",
       "      <th>Typ</th>\n",
       "      <th>Gewicht</th>\n",
       "      <th>Gr_Clist</th>\n",
       "      <th>Art</th>\n",
       "      <th>Tiefe</th>\n",
       "    </tr>\n",
       "  </thead>\n",
       "  <tbody>\n",
       "    <tr>\n",
       "      <th>0</th>\n",
       "      <td>BBS</td>\n",
       "      <td>87/1</td>\n",
       "      <td>-1:3-4</td>\n",
       "      <td>MBA</td>\n",
       "      <td>27</td>\n",
       "      <td>70</td>\n",
       "      <td>K</td>\n",
       "      <td>10</td>\n",
       "    </tr>\n",
       "    <tr>\n",
       "      <th>1</th>\n",
       "      <td>BBS</td>\n",
       "      <td>87/1</td>\n",
       "      <td>-2:1</td>\n",
       "      <td>BBS</td>\n",
       "      <td>35</td>\n",
       "      <td>70</td>\n",
       "      <td>K</td>\n",
       "      <td>30</td>\n",
       "    </tr>\n",
       "    <tr>\n",
       "      <th>2</th>\n",
       "      <td>BBS</td>\n",
       "      <td>87/1</td>\n",
       "      <td>-2:4</td>\n",
       "      <td>None</td>\n",
       "      <td>34</td>\n",
       "      <td>70</td>\n",
       "      <td>K</td>\n",
       "      <td>30</td>\n",
       "    </tr>\n",
       "    <tr>\n",
       "      <th>3</th>\n",
       "      <td>BBS</td>\n",
       "      <td>87/1</td>\n",
       "      <td>2</td>\n",
       "      <td>BBS</td>\n",
       "      <td>17</td>\n",
       "      <td>70</td>\n",
       "      <td>K</td>\n",
       "      <td>0</td>\n",
       "    </tr>\n",
       "    <tr>\n",
       "      <th>4</th>\n",
       "      <td>BBS</td>\n",
       "      <td>87/1</td>\n",
       "      <td>-1:5-6,10,12-13</td>\n",
       "      <td>MBA</td>\n",
       "      <td>47</td>\n",
       "      <td>70</td>\n",
       "      <td>K</td>\n",
       "      <td>10</td>\n",
       "    </tr>\n",
       "  </tbody>\n",
       "</table>\n",
       "</div>"
      ],
      "text/plain": [
       "  ort_kurz Komplex       Individuum   Typ  Gewicht  Gr_Clist Art Tiefe\n",
       "0      BBS    87/1           -1:3-4   MBA       27        70   K    10\n",
       "1      BBS    87/1             -2:1   BBS       35        70   K    30\n",
       "2      BBS    87/1             -2:4  None       34        70   K    30\n",
       "3      BBS    87/1                2   BBS       17        70   K     0\n",
       "4      BBS    87/1  -1:5-6,10,12-13   MBA       47        70   K    10"
      ]
     },
     "metadata": {},
     "output_type": "display_data"
    }
   ],
   "source": [
    "sql = \"\"\"SELECT\n",
    "           t_Obj.ort_kurz, \n",
    "           t_Obj.Komplex, \n",
    "           t_Obj.Individuum, \n",
    "           t_Obj.Typ, \n",
    "           t_Obj.Gewicht,\n",
    "           t_Obj.Gr_Clist, \n",
    "           t_Obj.Art,\n",
    "           t_Obj.Tiefe \n",
    "       FROM t_Obj \n",
    "       WHERE (((t_Obj.ort_kurz) = 'BBS')\n",
    "           AND ((t_Obj.Komplex) = '87/1')\n",
    "           AND ((t_Obj.Art) = \"K\"))\"\"\".replace('\\n',' ')\n",
    "\n",
    "df = pd.read_sql(sql, con)\n",
    "display(df.head())"
   ]
  },
  {
   "cell_type": "markdown",
   "metadata": {},
   "source": [
    "Leerstellen mit (?) ersetzen:"
   ]
  },
  {
   "cell_type": "code",
   "execution_count": 3,
   "metadata": {
    "collapsed": false
   },
   "outputs": [
    {
     "data": {
      "text/html": [
       "<div>\n",
       "<table border=\"1\" class=\"dataframe\">\n",
       "  <thead>\n",
       "    <tr style=\"text-align: right;\">\n",
       "      <th></th>\n",
       "      <th>ort_kurz</th>\n",
       "      <th>Komplex</th>\n",
       "      <th>Individuum</th>\n",
       "      <th>Typ</th>\n",
       "      <th>Gewicht</th>\n",
       "      <th>Gr_Clist</th>\n",
       "      <th>Art</th>\n",
       "      <th>Tiefe</th>\n",
       "    </tr>\n",
       "  </thead>\n",
       "  <tbody>\n",
       "    <tr>\n",
       "      <th>0</th>\n",
       "      <td>BBS</td>\n",
       "      <td>87/1</td>\n",
       "      <td>-1:3-4</td>\n",
       "      <td>MBA</td>\n",
       "      <td>27</td>\n",
       "      <td>70</td>\n",
       "      <td>K</td>\n",
       "      <td>10</td>\n",
       "    </tr>\n",
       "    <tr>\n",
       "      <th>1</th>\n",
       "      <td>BBS</td>\n",
       "      <td>87/1</td>\n",
       "      <td>-2:1</td>\n",
       "      <td>BBS</td>\n",
       "      <td>35</td>\n",
       "      <td>70</td>\n",
       "      <td>K</td>\n",
       "      <td>30</td>\n",
       "    </tr>\n",
       "    <tr>\n",
       "      <th>2</th>\n",
       "      <td>BBS</td>\n",
       "      <td>87/1</td>\n",
       "      <td>-2:4</td>\n",
       "      <td>None</td>\n",
       "      <td>34</td>\n",
       "      <td>70</td>\n",
       "      <td>K</td>\n",
       "      <td>30</td>\n",
       "    </tr>\n",
       "    <tr>\n",
       "      <th>3</th>\n",
       "      <td>BBS</td>\n",
       "      <td>87/1</td>\n",
       "      <td>2</td>\n",
       "      <td>BBS</td>\n",
       "      <td>17</td>\n",
       "      <td>70</td>\n",
       "      <td>K</td>\n",
       "      <td>0</td>\n",
       "    </tr>\n",
       "    <tr>\n",
       "      <th>4</th>\n",
       "      <td>BBS</td>\n",
       "      <td>87/1</td>\n",
       "      <td>-1:5-6,10,12-13</td>\n",
       "      <td>MBA</td>\n",
       "      <td>47</td>\n",
       "      <td>70</td>\n",
       "      <td>K</td>\n",
       "      <td>10</td>\n",
       "    </tr>\n",
       "  </tbody>\n",
       "</table>\n",
       "</div>"
      ],
      "text/plain": [
       "  ort_kurz Komplex       Individuum   Typ  Gewicht  Gr_Clist Art Tiefe\n",
       "0      BBS    87/1           -1:3-4   MBA       27        70   K    10\n",
       "1      BBS    87/1             -2:1   BBS       35        70   K    30\n",
       "2      BBS    87/1             -2:4  None       34        70   K    30\n",
       "3      BBS    87/1                2   BBS       17        70   K     0\n",
       "4      BBS    87/1  -1:5-6,10,12-13   MBA       47        70   K    10"
      ]
     },
     "metadata": {},
     "output_type": "display_data"
    }
   ],
   "source": [
    "df['Typ'] = df['Typ'].replace('','(?)')\n",
    "display(df.head())"
   ]
  },
  {
   "cell_type": "code",
   "execution_count": 4,
   "metadata": {
    "collapsed": false
   },
   "outputs": [
    {
     "data": {
      "text/html": [
       "<div>\n",
       "<table border=\"1\" class=\"dataframe\">\n",
       "  <thead>\n",
       "    <tr style=\"text-align: right;\">\n",
       "      <th>Typ</th>\n",
       "      <th>BBS</th>\n",
       "      <th>BBS (?)</th>\n",
       "      <th>BBS/NGO (?)</th>\n",
       "      <th>MBA</th>\n",
       "      <th>PKM (?)</th>\n",
       "    </tr>\n",
       "    <tr>\n",
       "      <th>Tiefe</th>\n",
       "      <th></th>\n",
       "      <th></th>\n",
       "      <th></th>\n",
       "      <th></th>\n",
       "      <th></th>\n",
       "    </tr>\n",
       "  </thead>\n",
       "  <tbody>\n",
       "    <tr>\n",
       "      <th>0</th>\n",
       "      <td>80.0</td>\n",
       "      <td>NaN</td>\n",
       "      <td>NaN</td>\n",
       "      <td>NaN</td>\n",
       "      <td>NaN</td>\n",
       "    </tr>\n",
       "    <tr>\n",
       "      <th>10</th>\n",
       "      <td>54.0</td>\n",
       "      <td>9.0</td>\n",
       "      <td>NaN</td>\n",
       "      <td>74.0</td>\n",
       "      <td>15.0</td>\n",
       "    </tr>\n",
       "    <tr>\n",
       "      <th>30</th>\n",
       "      <td>367.0</td>\n",
       "      <td>5.0</td>\n",
       "      <td>12.0</td>\n",
       "      <td>NaN</td>\n",
       "      <td>10.0</td>\n",
       "    </tr>\n",
       "    <tr>\n",
       "      <th>40</th>\n",
       "      <td>47.0</td>\n",
       "      <td>NaN</td>\n",
       "      <td>NaN</td>\n",
       "      <td>NaN</td>\n",
       "      <td>NaN</td>\n",
       "    </tr>\n",
       "  </tbody>\n",
       "</table>\n",
       "</div>"
      ],
      "text/plain": [
       "Typ      BBS  BBS (?)  BBS/NGO (?)   MBA  PKM (?)\n",
       "Tiefe                                            \n",
       "0       80.0      NaN          NaN   NaN      NaN\n",
       "10      54.0      9.0          NaN  74.0     15.0\n",
       "30     367.0      5.0         12.0   NaN     10.0\n",
       "40      47.0      NaN          NaN   NaN      NaN"
      ]
     },
     "execution_count": 4,
     "metadata": {},
     "output_type": "execute_result"
    }
   ],
   "source": [
    "df_pivot = df.pivot_table(values = 'Gewicht', index = 'Tiefe', columns = 'Typ', aggfunc = sum)\n",
    "df_pivot"
   ]
  },
  {
   "cell_type": "code",
   "execution_count": 5,
   "metadata": {
    "collapsed": false
   },
   "outputs": [
    {
     "data": {
      "image/png": "[encoded data removed]",
      "text/plain": [
       "<matplotlib.figure.Figure at 0x3de92b79e8>"
      ]
     },
     "metadata": {},
     "output_type": "display_data"
    }
   ],
   "source": [
    "ax = df_pivot.plot(kind = 'barh', stacked=True)\n",
    "plt.xlabel('Gewicht [g]')\n",
    "plt.ylabel('Tiefe [cm u. Obfl.]')\n",
    "plt.gca().invert_yaxis()\n",
    "xlim = ax.get_xlim()\n",
    "ylim = ax.get_ylim()\n",
    "plt.gca().set_aspect((abs(xlim[0]) + abs(xlim[1])) / (abs(ylim[0]) + abs(ylim[1])))\n",
    "lgd = plt.legend(bbox_to_anchor=(1.02, 1), loc = 2, borderaxespad = 0.)\n",
    "plt.tight_layout()\n",
    "plt.savefig('../output/figs/9-6_BBS87-1_KeramikStilgruppen.pdf', bbox_extra_artists=(lgd,), bbox_inches='tight')\n",
    "plt.show()"
   ]
  },
  {
   "cell_type": "markdown",
   "metadata": {},
   "source": [
    "> **BBS 87/1** keramische Stilgruppen"
   ]
  },
  {
   "cell_type": "markdown",
   "metadata": {},
   "source": [
    "## Fragmentierung der Keramik"
   ]
  },
  {
   "cell_type": "code",
   "execution_count": 13,
   "metadata": {
    "collapsed": false
   },
   "outputs": [
    {
     "data": {
      "text/html": [
       "<div>\n",
       "<table border=\"1\" class=\"dataframe\">\n",
       "  <thead>\n",
       "    <tr style=\"text-align: right;\">\n",
       "      <th></th>\n",
       "      <th>ort_kurz</th>\n",
       "      <th>Komplex</th>\n",
       "      <th>Individuum</th>\n",
       "      <th>Gr_Clist</th>\n",
       "      <th>Art</th>\n",
       "    </tr>\n",
       "  </thead>\n",
       "  <tbody>\n",
       "    <tr>\n",
       "      <th>0</th>\n",
       "      <td>BBS</td>\n",
       "      <td>87/1</td>\n",
       "      <td>-1:3-4</td>\n",
       "      <td>70</td>\n",
       "      <td>K</td>\n",
       "    </tr>\n",
       "    <tr>\n",
       "      <th>1</th>\n",
       "      <td>BBS</td>\n",
       "      <td>87/1</td>\n",
       "      <td>-2:1</td>\n",
       "      <td>70</td>\n",
       "      <td>K</td>\n",
       "    </tr>\n",
       "    <tr>\n",
       "      <th>2</th>\n",
       "      <td>BBS</td>\n",
       "      <td>87/1</td>\n",
       "      <td>-2:4</td>\n",
       "      <td>70</td>\n",
       "      <td>K</td>\n",
       "    </tr>\n",
       "    <tr>\n",
       "      <th>3</th>\n",
       "      <td>BBS</td>\n",
       "      <td>87/1</td>\n",
       "      <td>2</td>\n",
       "      <td>70</td>\n",
       "      <td>K</td>\n",
       "    </tr>\n",
       "    <tr>\n",
       "      <th>4</th>\n",
       "      <td>BBS</td>\n",
       "      <td>87/1</td>\n",
       "      <td>-1:5-6,10,12-13</td>\n",
       "      <td>70</td>\n",
       "      <td>K</td>\n",
       "    </tr>\n",
       "  </tbody>\n",
       "</table>\n",
       "</div>"
      ],
      "text/plain": [
       "  ort_kurz Komplex       Individuum  Gr_Clist Art\n",
       "0      BBS    87/1           -1:3-4        70   K\n",
       "1      BBS    87/1             -2:1        70   K\n",
       "2      BBS    87/1             -2:4        70   K\n",
       "3      BBS    87/1                2        70   K\n",
       "4      BBS    87/1  -1:5-6,10,12-13        70   K"
      ]
     },
     "metadata": {},
     "output_type": "display_data"
    }
   ],
   "source": [
    "sql = \"\"\"SELECT\n",
    "           t_Obj.ort_kurz, \n",
    "           t_Obj.Komplex, \n",
    "           t_Obj.Individuum, \n",
    "           t_Obj.Gr_Clist, \n",
    "           t_Obj.Art \n",
    "       FROM t_Obj \n",
    "       WHERE (((t_Obj.ort_kurz) = 'BBS')\n",
    "           AND ((t_Obj.Komplex) = '87/1')\n",
    "           AND ((t_Obj.Art) = \"K\"))\"\"\".replace('\\n',' ')\n",
    "df = pd.read_sql(sql, con)\n",
    "display(df.head())"
   ]
  },
  {
   "cell_type": "code",
   "execution_count": 14,
   "metadata": {
    "collapsed": false
   },
   "outputs": [
    {
     "data": {
      "text/plain": [
       "Gr_Clist\n",
       "30    16\n",
       "70    30\n",
       "Name: ort_kurz, dtype: int64"
      ]
     },
     "execution_count": 14,
     "metadata": {},
     "output_type": "execute_result"
    }
   ],
   "source": [
    "df_pivot = df.pivot_table(values = 'ort_kurz', index = 'Gr_Clist', aggfunc = len)\n",
    "df_pivot"
   ]
  },
  {
   "cell_type": "code",
   "execution_count": 15,
   "metadata": {
    "collapsed": false
   },
   "outputs": [
    {
     "data": {
      "text/plain": [
       "Gr_Clist\n",
       "30      16.0\n",
       "70      30.0\n",
       "120      0.0\n",
       "200      0.0\n",
       ">200     0.0\n",
       "Name: ort_kurz, dtype: float64"
      ]
     },
     "execution_count": 15,
     "metadata": {},
     "output_type": "execute_result"
    }
   ],
   "source": [
    "# da es in BBS 87/1 keine Keramik größer als 70 gab, müssen Dummy-Werte manuell eingefügt werden:\n",
    "df_pivot[120] = 0.\n",
    "df_pivot[200] = 0.\n",
    "df_pivot['>200'] = 0.\n",
    "df_pivot"
   ]
  },
  {
   "cell_type": "code",
   "execution_count": 16,
   "metadata": {
    "collapsed": false
   },
   "outputs": [
    {
     "data": {
      "image/png": "[encoded data removed]",
      "text/plain": [
       "<matplotlib.figure.Figure at 0x1d30452b0>"
      ]
     },
     "metadata": {},
     "output_type": "display_data"
    }
   ],
   "source": [
    "ax = df_pivot.plot(kind = 'bar', color = 'gray')\n",
    "plt.xticks(rotation=0)\n",
    "plt.xlabel('Größenklassen')\n",
    "plt.ylabel('Anzahl')\n",
    "xlim = ax.get_xlim()\n",
    "ylim = ax.get_ylim()\n",
    "plt.gca().set_aspect((abs(xlim[0]) + abs(xlim[1])) / (abs(ylim[0]) + 32))\n",
    "plt.ylim([0,32]) \n",
    "plt.savefig('../output/figs/9-6_BBS87-1_Keramik_Fragmentierung.pdf', bbox_inches='tight')\n",
    "plt.show()"
   ]
  },
  {
   "cell_type": "markdown",
   "metadata": {},
   "source": [
    "> **BBS 87/1** Fragmentierungsgrad"
   ]
  },
  {
   "cell_type": "markdown",
   "metadata": {},
   "source": [
    "## Formen"
   ]
  },
  {
   "cell_type": "markdown",
   "metadata": {},
   "source": [
    "### Gefäßformen"
   ]
  },
  {
   "cell_type": "code",
   "execution_count": 17,
   "metadata": {
    "collapsed": false
   },
   "outputs": [
    {
     "data": {
      "text/html": [
       "<div>\n",
       "<table border=\"1\" class=\"dataframe\">\n",
       "  <thead>\n",
       "    <tr style=\"text-align: right;\">\n",
       "      <th></th>\n",
       "      <th>ort_kurz</th>\n",
       "      <th>Komplex</th>\n",
       "      <th>Individuum</th>\n",
       "      <th>Typ</th>\n",
       "      <th>Form_Rand</th>\n",
       "      <th>Art</th>\n",
       "    </tr>\n",
       "  </thead>\n",
       "  <tbody>\n",
       "    <tr>\n",
       "      <th>0</th>\n",
       "      <td>BBS</td>\n",
       "      <td>87/1</td>\n",
       "      <td>-1:5-6,10,12-13</td>\n",
       "      <td>MBA</td>\n",
       "      <td>C2.2</td>\n",
       "      <td>K</td>\n",
       "    </tr>\n",
       "    <tr>\n",
       "      <th>1</th>\n",
       "      <td>BBS</td>\n",
       "      <td>87/1</td>\n",
       "      <td>-1:8</td>\n",
       "      <td>BBS (?)</td>\n",
       "      <td>C3</td>\n",
       "      <td>K</td>\n",
       "    </tr>\n",
       "    <tr>\n",
       "      <th>2</th>\n",
       "      <td>BBS</td>\n",
       "      <td>87/1</td>\n",
       "      <td>-1:17</td>\n",
       "      <td>BBS</td>\n",
       "      <td>B2</td>\n",
       "      <td>K</td>\n",
       "    </tr>\n",
       "    <tr>\n",
       "      <th>3</th>\n",
       "      <td>BBS</td>\n",
       "      <td>87/1</td>\n",
       "      <td>-1:2</td>\n",
       "      <td>BBS</td>\n",
       "      <td>B2</td>\n",
       "      <td>K</td>\n",
       "    </tr>\n",
       "    <tr>\n",
       "      <th>4</th>\n",
       "      <td>BBS</td>\n",
       "      <td>87/1</td>\n",
       "      <td>-1:16</td>\n",
       "      <td>BBS</td>\n",
       "      <td>B1.1</td>\n",
       "      <td>K</td>\n",
       "    </tr>\n",
       "  </tbody>\n",
       "</table>\n",
       "</div>"
      ],
      "text/plain": [
       "  ort_kurz Komplex       Individuum      Typ Form_Rand Art\n",
       "0      BBS    87/1  -1:5-6,10,12-13      MBA      C2.2   K\n",
       "1      BBS    87/1             -1:8  BBS (?)        C3   K\n",
       "2      BBS    87/1            -1:17      BBS        B2   K\n",
       "3      BBS    87/1             -1:2      BBS        B2   K\n",
       "4      BBS    87/1            -1:16      BBS      B1.1   K"
      ]
     },
     "metadata": {},
     "output_type": "display_data"
    }
   ],
   "source": [
    "sql = \"\"\"SELECT\n",
    "           t_Obj.ort_kurz, \n",
    "           t_Obj.Komplex, \n",
    "           t_Obj.Individuum, \n",
    "           t_Obj.Typ, \n",
    "           t_Obj.Form_Rand, \n",
    "           t_Obj.Art \n",
    "       FROM t_Obj \n",
    "       WHERE (((t_Obj.ort_kurz) = 'BBS')\n",
    "           AND ((t_Obj.Komplex) = '87/1')\n",
    "           AND ((t_Obj.Art) = \"K\")\n",
    "           AND ((t_Obj.Form_Rand) <> ''))\"\"\".replace('\\n',' ')\n",
    "\n",
    "df = pd.read_sql(sql, con)\n",
    "display(df.head())"
   ]
  },
  {
   "cell_type": "code",
   "execution_count": 18,
   "metadata": {
    "collapsed": false
   },
   "outputs": [
    {
     "data": {
      "text/plain": [
       "Form_Rand\n",
       "B1      2\n",
       "B1.1    4\n",
       "B2      2\n",
       "C2.2    1\n",
       "C3      1\n",
       "Name: ort_kurz, dtype: int64"
      ]
     },
     "execution_count": 18,
     "metadata": {},
     "output_type": "execute_result"
    }
   ],
   "source": [
    "df_pivot = df.pivot_table(values = 'ort_kurz', index = 'Form_Rand', aggfunc = len)\n",
    "df_pivot"
   ]
  },
  {
   "cell_type": "code",
   "execution_count": 19,
   "metadata": {
    "collapsed": false
   },
   "outputs": [
    {
     "data": {
      "image/png": "[encoded data removed]",
      "text/plain": [
       "<matplotlib.figure.Figure at 0x1cef34cf8>"
      ]
     },
     "metadata": {},
     "output_type": "display_data"
    }
   ],
   "source": [
    "fig = plt.figure()\n",
    "fig.set_size_inches(5, 5)\n",
    "df_pivot.plot(kind='pie', autopct='%.0f %%' )\n",
    "plt.ylabel('')\n",
    "plt.savefig('../output/figs/9-6_BBS87-1_KeramikRandformen.pdf')"
   ]
  },
  {
   "cell_type": "markdown",
   "metadata": {
    "collapsed": false
   },
   "source": [
    "> **BBS 87/1** Randformen"
   ]
  },
  {
   "cell_type": "markdown",
   "metadata": {
    "collapsed": true
   },
   "source": [
    "## Verzierungselemente"
   ]
  },
  {
   "cell_type": "code",
   "execution_count": 31,
   "metadata": {
    "collapsed": false
   },
   "outputs": [],
   "source": [
    "sql = \"\"\"SELECT\n",
    "            t_Ort.ort_kurz,\n",
    "            t_Komplex.bef_nr,\n",
    "            t_Obj.objID,\n",
    "            t_Obj.Komplex,\n",
    "            t_Obj.Individuum,\n",
    "            t_K_Verz.verzName,\n",
    "            [t_K_Pos].[posReihe] || ' ' || [posName] AS pos\n",
    "        FROM t_Komplex INNER JOIN t_Obj ON t_Komplex.komplexID = t_Obj.komplexID\n",
    "            INNER JOIN t_Ort ON t_Ort.ortID = t_Komplex.ortID\n",
    "            INNER JOIN \"t_ObjPosVerz\" ON t_Obj.objID = \"t_ObjPosVerz\".objID\n",
    "            INNER JOIN t_K_Pos ON t_K_Pos.posID = \"t_ObjPosVerz\".posID\n",
    "            INNER JOIN t_K_Verz ON t_K_Verz.verzID = \"t_ObjPosVerz\".verzID\n",
    "        WHERE (((t_Ort.ort_kurz) = 'BBS')\n",
    "            AND ((t_Komplex.bef_nr) = '87/1')\n",
    "            AND ((t_Obj.Art) = \"K\")\n",
    "            AND ((t_K_Pos.posID)<>1))\"\"\".replace('\\n',' ')\n",
    "\n",
    "df = pd.read_sql(sql, con)\n",
    "# display(df.head())"
   ]
  },
  {
   "cell_type": "code",
   "execution_count": 32,
   "metadata": {
    "collapsed": false
   },
   "outputs": [
    {
     "data": {
      "text/html": [
       "<div>\n",
       "<table border=\"1\" class=\"dataframe\">\n",
       "  <thead>\n",
       "    <tr style=\"text-align: right;\">\n",
       "      <th>verzName</th>\n",
       "      <th>01.1</th>\n",
       "      <th>01.2</th>\n",
       "      <th>01.7</th>\n",
       "      <th>02.1</th>\n",
       "      <th>02.3</th>\n",
       "      <th>04.11</th>\n",
       "      <th>04.12</th>\n",
       "      <th>04.15</th>\n",
       "      <th>04.17</th>\n",
       "      <th>04.2</th>\n",
       "      <th>05.1</th>\n",
       "      <th>09.2</th>\n",
       "    </tr>\n",
       "    <tr>\n",
       "      <th>pos</th>\n",
       "      <th></th>\n",
       "      <th></th>\n",
       "      <th></th>\n",
       "      <th></th>\n",
       "      <th></th>\n",
       "      <th></th>\n",
       "      <th></th>\n",
       "      <th></th>\n",
       "      <th></th>\n",
       "      <th></th>\n",
       "      <th></th>\n",
       "      <th></th>\n",
       "    </tr>\n",
       "  </thead>\n",
       "  <tbody>\n",
       "    <tr>\n",
       "      <th>1 Innen</th>\n",
       "      <td>0</td>\n",
       "      <td>0</td>\n",
       "      <td>0</td>\n",
       "      <td>1</td>\n",
       "      <td>0</td>\n",
       "      <td>1</td>\n",
       "      <td>0</td>\n",
       "      <td>0</td>\n",
       "      <td>0</td>\n",
       "      <td>0</td>\n",
       "      <td>0</td>\n",
       "      <td>0</td>\n",
       "    </tr>\n",
       "    <tr>\n",
       "      <th>2 Rand</th>\n",
       "      <td>1</td>\n",
       "      <td>1</td>\n",
       "      <td>0</td>\n",
       "      <td>2</td>\n",
       "      <td>0</td>\n",
       "      <td>0</td>\n",
       "      <td>1</td>\n",
       "      <td>0</td>\n",
       "      <td>0</td>\n",
       "      <td>0</td>\n",
       "      <td>0</td>\n",
       "      <td>0</td>\n",
       "    </tr>\n",
       "    <tr>\n",
       "      <th>3 Hals</th>\n",
       "      <td>0</td>\n",
       "      <td>0</td>\n",
       "      <td>0</td>\n",
       "      <td>5</td>\n",
       "      <td>0</td>\n",
       "      <td>0</td>\n",
       "      <td>0</td>\n",
       "      <td>0</td>\n",
       "      <td>1</td>\n",
       "      <td>1</td>\n",
       "      <td>0</td>\n",
       "      <td>0</td>\n",
       "    </tr>\n",
       "    <tr>\n",
       "      <th>4 Schulter</th>\n",
       "      <td>0</td>\n",
       "      <td>0</td>\n",
       "      <td>0</td>\n",
       "      <td>3</td>\n",
       "      <td>0</td>\n",
       "      <td>0</td>\n",
       "      <td>0</td>\n",
       "      <td>0</td>\n",
       "      <td>0</td>\n",
       "      <td>1</td>\n",
       "      <td>1</td>\n",
       "      <td>1</td>\n",
       "    </tr>\n",
       "    <tr>\n",
       "      <th>5 Bauch</th>\n",
       "      <td>0</td>\n",
       "      <td>4</td>\n",
       "      <td>1</td>\n",
       "      <td>7</td>\n",
       "      <td>1</td>\n",
       "      <td>0</td>\n",
       "      <td>0</td>\n",
       "      <td>1</td>\n",
       "      <td>0</td>\n",
       "      <td>0</td>\n",
       "      <td>0</td>\n",
       "      <td>0</td>\n",
       "    </tr>\n",
       "  </tbody>\n",
       "</table>\n",
       "</div>"
      ],
      "text/plain": [
       "verzName    01.1  01.2  01.7  02.1  02.3  04.11  04.12  04.15  04.17  04.2  \\\n",
       "pos                                                                          \n",
       "1 Innen        0     0     0     1     0      1      0      0      0     0   \n",
       "2 Rand         1     1     0     2     0      0      1      0      0     0   \n",
       "3 Hals         0     0     0     5     0      0      0      0      1     1   \n",
       "4 Schulter     0     0     0     3     0      0      0      0      0     1   \n",
       "5 Bauch        0     4     1     7     1      0      0      1      0     0   \n",
       "\n",
       "verzName    05.1  09.2  \n",
       "pos                     \n",
       "1 Innen        0     0  \n",
       "2 Rand         0     0  \n",
       "3 Hals         0     0  \n",
       "4 Schulter     1     1  \n",
       "5 Bauch        0     0  "
      ]
     },
     "execution_count": 32,
     "metadata": {},
     "output_type": "execute_result"
    }
   ],
   "source": [
    "df_pivot = df.pivot_table(values = 'objID', index = 'pos', columns = 'verzName', aggfunc = len, fill_value = 0)\n",
    "df_pivot"
   ]
  },
  {
   "cell_type": "code",
   "execution_count": 33,
   "metadata": {
    "collapsed": true
   },
   "outputs": [],
   "source": [
    "df_pivot = df_pivot.sort_index(ascending=True)"
   ]
  },
  {
   "cell_type": "code",
   "execution_count": 34,
   "metadata": {
    "collapsed": true
   },
   "outputs": [],
   "source": [
    "# stellt die Grundeinstellung für Plots von Matplotlib wieder her – sieht bei Nutzung pysurvey besser aus\n",
    "plt.rcdefaults()\n",
    "%matplotlib inline"
   ]
  },
  {
   "cell_type": "code",
   "execution_count": 35,
   "metadata": {
    "collapsed": false
   },
   "outputs": [
    {
     "data": {
      "image/png": "[encoded data removed]",
      "text/plain": [
       "<matplotlib.figure.Figure at 0x1cf0d4630>"
      ]
     },
     "metadata": {},
     "output_type": "display_data"
    }
   ],
   "source": [
    "plt.imshow(df_pivot, interpolation='nearest', cmap='Greys', alpha = .5)\n",
    "plt.ylabel('Gefäßposition')\n",
    "plt.xlabel('Verzierungselemente')\n",
    "plt.yticks(range(len(df_pivot.index)), df_pivot.index)\n",
    "plt.xticks(range(len(df_pivot.columns)), df_pivot.columns, rotation='vertical')\n",
    "# plt.colorbar(orientation='horizontal')\n",
    "for (i, j), z in np.ndenumerate(df_pivot):\n",
    "    plt.text(j, i, '{:0.0f}'.format(z), ha='center', va='center')\n",
    "plt.tight_layout()\n",
    "plt.savefig('../output/figs/9-6_BBS87-1_Verzierungselmente.pdf', bbox_inches='tight')\n",
    "plt.show()"
   ]
  },
  {
   "cell_type": "markdown",
   "metadata": {},
   "source": [
    "> **BBS 87/1** Verzierungselemente"
   ]
  },
  {
   "cell_type": "markdown",
   "metadata": {},
   "source": [
    "n"
   ]
  },
  {
   "cell_type": "code",
   "execution_count": 36,
   "metadata": {
    "collapsed": false
   },
   "outputs": [
    {
     "data": {
      "text/plain": [
       "20"
      ]
     },
     "execution_count": 36,
     "metadata": {},
     "output_type": "execute_result"
    }
   ],
   "source": [
    "df['objID'].nunique()"
   ]
  },
  {
   "cell_type": "code",
   "execution_count": null,
   "metadata": {
    "collapsed": true
   },
   "outputs": [],
   "source": []
  }
 ],
 "metadata": {
  "anaconda-cloud": {},
  "kernelspec": {
   "display_name": "Python 3",
   "language": "python",
   "name": "python3"
  },
  "language_info": {
   "codemirror_mode": {
    "name": "ipython",
    "version": 3
   },
   "file_extension": ".py",
   "mimetype": "text/x-python",
   "name": "python",
   "nbconvert_exporter": "python",
   "pygments_lexer": "ipython3",
   "version": "3.6.0"
  }
 },
 "nbformat": 4,
 "nbformat_minor": 0
}
