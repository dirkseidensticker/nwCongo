{
 "cells": [
  {
   "cell_type": "markdown",
   "metadata": {},
   "source": [
    "# MLB 85/103"
   ]
  },
  {
   "cell_type": "code",
   "execution_count": 3,
   "metadata": {
    "collapsed": false
   },
   "outputs": [],
   "source": [
    "%matplotlib inline\n",
    "from IPython.display import display\n",
    "import pandas as pd\n",
    "import numpy as np\n",
    "import matplotlib.pyplot as plt\n",
    "import sqlite3\n",
    "\n",
    "con = sqlite3.connect(\"../data/CongoDB.sqlite\")"
   ]
  },
  {
   "cell_type": "markdown",
   "metadata": {},
   "source": [
    "## Funde"
   ]
  },
  {
   "cell_type": "code",
   "execution_count": 4,
   "metadata": {
    "collapsed": false
   },
   "outputs": [
    {
     "data": {
      "text/html": [
       "<div>\n",
       "<table border=\"1\" class=\"dataframe\">\n",
       "  <thead>\n",
       "    <tr style=\"text-align: right;\">\n",
       "      <th></th>\n",
       "      <th>objID</th>\n",
       "      <th>ort_kurz</th>\n",
       "      <th>Komplex</th>\n",
       "      <th>Individuum</th>\n",
       "      <th>Scherbe</th>\n",
       "      <th>Anzahl</th>\n",
       "      <th>Fragm</th>\n",
       "      <th>Typ</th>\n",
       "      <th>Gewicht</th>\n",
       "      <th>Gr_Clist</th>\n",
       "      <th>Art</th>\n",
       "    </tr>\n",
       "  </thead>\n",
       "  <tbody>\n",
       "    <tr>\n",
       "      <th>0</th>\n",
       "      <td>291</td>\n",
       "      <td>MLB</td>\n",
       "      <td>85/103</td>\n",
       "      <td>1</td>\n",
       "      <td>R</td>\n",
       "      <td>1</td>\n",
       "      <td></td>\n",
       "      <td>DAM</td>\n",
       "      <td>55</td>\n",
       "      <td>120</td>\n",
       "      <td>K</td>\n",
       "    </tr>\n",
       "    <tr>\n",
       "      <th>1</th>\n",
       "      <td>293</td>\n",
       "      <td>MLB</td>\n",
       "      <td>85/103</td>\n",
       "      <td>5</td>\n",
       "      <td>R</td>\n",
       "      <td>1</td>\n",
       "      <td></td>\n",
       "      <td>BatMLB</td>\n",
       "      <td>54</td>\n",
       "      <td>120</td>\n",
       "      <td>K</td>\n",
       "    </tr>\n",
       "    <tr>\n",
       "      <th>2</th>\n",
       "      <td>294</td>\n",
       "      <td>MLB</td>\n",
       "      <td>85/103</td>\n",
       "      <td>7</td>\n",
       "      <td>R</td>\n",
       "      <td>1</td>\n",
       "      <td></td>\n",
       "      <td>DON</td>\n",
       "      <td>49</td>\n",
       "      <td>120</td>\n",
       "      <td>K</td>\n",
       "    </tr>\n",
       "    <tr>\n",
       "      <th>3</th>\n",
       "      <td>295</td>\n",
       "      <td>MLB</td>\n",
       "      <td>85/103</td>\n",
       "      <td>11</td>\n",
       "      <td>R</td>\n",
       "      <td>1</td>\n",
       "      <td></td>\n",
       "      <td>DAM</td>\n",
       "      <td>70</td>\n",
       "      <td>70</td>\n",
       "      <td>K</td>\n",
       "    </tr>\n",
       "    <tr>\n",
       "      <th>4</th>\n",
       "      <td>296</td>\n",
       "      <td>MLB</td>\n",
       "      <td>85/103</td>\n",
       "      <td>13</td>\n",
       "      <td>W</td>\n",
       "      <td>1</td>\n",
       "      <td></td>\n",
       "      <td>Roulette</td>\n",
       "      <td>38</td>\n",
       "      <td>120</td>\n",
       "      <td>K</td>\n",
       "    </tr>\n",
       "    <tr>\n",
       "      <th>5</th>\n",
       "      <td>1959</td>\n",
       "      <td>MLB</td>\n",
       "      <td>85/103</td>\n",
       "      <td>3</td>\n",
       "      <td>R</td>\n",
       "      <td>1</td>\n",
       "      <td></td>\n",
       "      <td>DON</td>\n",
       "      <td>36</td>\n",
       "      <td>70</td>\n",
       "      <td>K</td>\n",
       "    </tr>\n",
       "    <tr>\n",
       "      <th>6</th>\n",
       "      <td>1960</td>\n",
       "      <td>MLB</td>\n",
       "      <td>85/103</td>\n",
       "      <td>4</td>\n",
       "      <td>R</td>\n",
       "      <td>1</td>\n",
       "      <td></td>\n",
       "      <td>DON</td>\n",
       "      <td>27</td>\n",
       "      <td>70</td>\n",
       "      <td>K</td>\n",
       "    </tr>\n",
       "    <tr>\n",
       "      <th>7</th>\n",
       "      <td>1961</td>\n",
       "      <td>MLB</td>\n",
       "      <td>85/103</td>\n",
       "      <td>8</td>\n",
       "      <td>R</td>\n",
       "      <td>1</td>\n",
       "      <td></td>\n",
       "      <td>DON (?)</td>\n",
       "      <td>14</td>\n",
       "      <td>70</td>\n",
       "      <td>K</td>\n",
       "    </tr>\n",
       "    <tr>\n",
       "      <th>8</th>\n",
       "      <td>1962</td>\n",
       "      <td>MLB</td>\n",
       "      <td>85/103</td>\n",
       "      <td>10</td>\n",
       "      <td>R</td>\n",
       "      <td>1</td>\n",
       "      <td></td>\n",
       "      <td>MTB</td>\n",
       "      <td>52</td>\n",
       "      <td>70</td>\n",
       "      <td>K</td>\n",
       "    </tr>\n",
       "    <tr>\n",
       "      <th>9</th>\n",
       "      <td>1963</td>\n",
       "      <td>MLB</td>\n",
       "      <td>85/103</td>\n",
       "      <td>12,16</td>\n",
       "      <td>R</td>\n",
       "      <td>1</td>\n",
       "      <td>3</td>\n",
       "      <td>MTB</td>\n",
       "      <td>90</td>\n",
       "      <td>120</td>\n",
       "      <td>K</td>\n",
       "    </tr>\n",
       "    <tr>\n",
       "      <th>10</th>\n",
       "      <td>2589</td>\n",
       "      <td>MLB</td>\n",
       "      <td>85/103</td>\n",
       "      <td>9</td>\n",
       "      <td>R</td>\n",
       "      <td>1</td>\n",
       "      <td></td>\n",
       "      <td>DON (?)</td>\n",
       "      <td>116</td>\n",
       "      <td>120</td>\n",
       "      <td>K</td>\n",
       "    </tr>\n",
       "    <tr>\n",
       "      <th>11</th>\n",
       "      <td>2590</td>\n",
       "      <td>MLB</td>\n",
       "      <td>85/103</td>\n",
       "      <td>2</td>\n",
       "      <td>R</td>\n",
       "      <td>1</td>\n",
       "      <td></td>\n",
       "      <td>BBL</td>\n",
       "      <td>180</td>\n",
       "      <td>120</td>\n",
       "      <td>K</td>\n",
       "    </tr>\n",
       "    <tr>\n",
       "      <th>12</th>\n",
       "      <td>2591</td>\n",
       "      <td>MLB</td>\n",
       "      <td>85/103</td>\n",
       "      <td>15</td>\n",
       "      <td>W</td>\n",
       "      <td>1</td>\n",
       "      <td></td>\n",
       "      <td>DAM</td>\n",
       "      <td>3</td>\n",
       "      <td>30</td>\n",
       "      <td>K</td>\n",
       "    </tr>\n",
       "    <tr>\n",
       "      <th>13</th>\n",
       "      <td>2603</td>\n",
       "      <td>MLB</td>\n",
       "      <td>85/103</td>\n",
       "      <td>6</td>\n",
       "      <td>R</td>\n",
       "      <td>1</td>\n",
       "      <td></td>\n",
       "      <td></td>\n",
       "      <td>22</td>\n",
       "      <td>70</td>\n",
       "      <td>K</td>\n",
       "    </tr>\n",
       "    <tr>\n",
       "      <th>14</th>\n",
       "      <td>2604</td>\n",
       "      <td>MLB</td>\n",
       "      <td>85/103</td>\n",
       "      <td>14</td>\n",
       "      <td>W</td>\n",
       "      <td>1</td>\n",
       "      <td></td>\n",
       "      <td></td>\n",
       "      <td>23</td>\n",
       "      <td>70</td>\n",
       "      <td>K</td>\n",
       "    </tr>\n",
       "  </tbody>\n",
       "</table>\n",
       "</div>"
      ],
      "text/plain": [
       "    objID ort_kurz Komplex Individuum Scherbe  Anzahl Fragm       Typ  \\\n",
       "0     291      MLB  85/103          1       R       1             DAM   \n",
       "1     293      MLB  85/103          5       R       1          BatMLB   \n",
       "2     294      MLB  85/103          7       R       1             DON   \n",
       "3     295      MLB  85/103         11       R       1             DAM   \n",
       "4     296      MLB  85/103         13       W       1        Roulette   \n",
       "5    1959      MLB  85/103          3       R       1             DON   \n",
       "6    1960      MLB  85/103          4       R       1             DON   \n",
       "7    1961      MLB  85/103          8       R       1         DON (?)   \n",
       "8    1962      MLB  85/103         10       R       1             MTB   \n",
       "9    1963      MLB  85/103      12,16       R       1     3       MTB   \n",
       "10   2589      MLB  85/103          9       R       1         DON (?)   \n",
       "11   2590      MLB  85/103          2       R       1             BBL   \n",
       "12   2591      MLB  85/103         15       W       1             DAM   \n",
       "13   2603      MLB  85/103          6       R       1                   \n",
       "14   2604      MLB  85/103         14       W       1                   \n",
       "\n",
       "    Gewicht  Gr_Clist Art  \n",
       "0        55       120   K  \n",
       "1        54       120   K  \n",
       "2        49       120   K  \n",
       "3        70        70   K  \n",
       "4        38       120   K  \n",
       "5        36        70   K  \n",
       "6        27        70   K  \n",
       "7        14        70   K  \n",
       "8        52        70   K  \n",
       "9        90       120   K  \n",
       "10      116       120   K  \n",
       "11      180       120   K  \n",
       "12        3        30   K  \n",
       "13       22        70   K  \n",
       "14       23        70   K  "
      ]
     },
     "execution_count": 4,
     "metadata": {},
     "output_type": "execute_result"
    }
   ],
   "source": [
    "sql = \"\"\"SELECT\n",
    "           t_Obj.ObjID, \n",
    "           t_Obj.ort_kurz, \n",
    "           t_Obj.Komplex, \n",
    "           t_Obj.Individuum, \n",
    "           t_Obj.Scherbe,\n",
    "           t_Obj.Anzahl,\n",
    "           t_Obj.Fragm,\n",
    "           t_Obj.Typ, \n",
    "           t_Obj.Gewicht,\n",
    "           t_Obj.Gr_Clist, \n",
    "           t_Obj.Art \n",
    "       FROM (t_Ort INNER JOIN t_Komplex ON t_Ort.ortID = t_Komplex.ortID)\n",
    "           INNER JOIN t_Obj ON t_Komplex.komplexID = t_Obj.komplexID\n",
    "       WHERE (((t_Ort.ort_kurz) = 'MLB')\n",
    "           AND ((t_Komplex.bef_nr) = '85/103'))\"\"\".replace('\\n',' ')\n",
    "\n",
    "df = pd.read_sql(sql, con)\n",
    "df"
   ]
  },
  {
   "cell_type": "code",
   "execution_count": 5,
   "metadata": {
    "collapsed": false
   },
   "outputs": [
    {
     "data": {
      "text/plain": [
       "829"
      ]
     },
     "execution_count": 5,
     "metadata": {},
     "output_type": "execute_result"
    }
   ],
   "source": [
    "df['Gewicht'].sum()"
   ]
  },
  {
   "cell_type": "code",
   "execution_count": 6,
   "metadata": {
    "collapsed": false
   },
   "outputs": [
    {
     "data": {
      "text/plain": [
       "15"
      ]
     },
     "execution_count": 6,
     "metadata": {},
     "output_type": "execute_result"
    }
   ],
   "source": [
    "len(df.index)"
   ]
  },
  {
   "cell_type": "code",
   "execution_count": 7,
   "metadata": {
    "collapsed": false
   },
   "outputs": [
    {
     "data": {
      "text/html": [
       "<div>\n",
       "<table border=\"1\" class=\"dataframe\">\n",
       "  <thead>\n",
       "    <tr style=\"text-align: right;\">\n",
       "      <th></th>\n",
       "      <th>Fundkategorie</th>\n",
       "      <th>Anzahl</th>\n",
       "      <th>\\%</th>\n",
       "      <th>Gewicht (kg)</th>\n",
       "      <th>\\%</th>\n",
       "    </tr>\n",
       "  </thead>\n",
       "  <tbody>\n",
       "    <tr>\n",
       "      <th>0</th>\n",
       "      <td>Keramik</td>\n",
       "      <td>15</td>\n",
       "      <td>100</td>\n",
       "      <td>0.83</td>\n",
       "      <td>100</td>\n",
       "    </tr>\n",
       "  </tbody>\n",
       "</table>\n",
       "</div>"
      ],
      "text/plain": [
       "  Fundkategorie  Anzahl   \\%  Gewicht (kg)   \\%\n",
       "0       Keramik      15  100          0.83  100"
      ]
     },
     "execution_count": 7,
     "metadata": {},
     "output_type": "execute_result"
    }
   ],
   "source": [
    "df_pivot1 = df.pivot_table(values = 'Gewicht', index = 'Art', aggfunc = sum, fill_value = 0)\n",
    "df_pivot1 = pd.DataFrame(df_pivot1)\n",
    "# df_pivot1 = df_pivot1.reset_index()\n",
    "df_pivot1.rename(index={'HL': 'gebrannter Lehm', 'K': 'Keramik'}, inplace=True)\n",
    "df_pivot1['\\%'] = (df_pivot1['Gewicht']/df_pivot1['Gewicht'].sum()*100).round(1)\n",
    "df_pivot1['Gewicht'] = (df_pivot1['Gewicht'] / 1000).round(2)\n",
    "df_pivot1.rename(columns={'Gewicht': 'Gewicht (kg)'}, inplace=True)\n",
    "\n",
    "df_pivot2 = df.pivot_table(values = 'Anzahl', index = 'Art', aggfunc = sum, fill_value = 0)\n",
    "df_pivot2 = pd.DataFrame(df_pivot2)\n",
    "df_pivot2.rename(index={'HL': 'gebrannter Lehm', 'K': 'Keramik'}, inplace=True)\n",
    "df_pivot2['\\%'] = (df_pivot2['Anzahl']/df_pivot2['Anzahl'].sum()*100).round(1)\n",
    "\n",
    "# Tabellen vereinen:\n",
    "df_concat = pd.concat([df_pivot2, df_pivot1], axis = 1)\n",
    "df_concat = df_concat.reset_index()\n",
    "df_concat.rename(columns={'Art': 'Fundkategorie'}, inplace=True)\n",
    "# df_concat.to_latex('../output/tabs/9-02_MLB85-1-3-2_Funde.tex', index = False, escape = False)\n",
    "df_concat"
   ]
  },
  {
   "cell_type": "markdown",
   "metadata": {},
   "source": [
    "### Scherbentypen"
   ]
  },
  {
   "cell_type": "code",
   "execution_count": 5,
   "metadata": {
    "collapsed": false
   },
   "outputs": [
    {
     "data": {
      "text/html": [
       "<div>\n",
       "<table border=\"1\" class=\"dataframe\">\n",
       "  <thead>\n",
       "    <tr style=\"text-align: right;\">\n",
       "      <th></th>\n",
       "      <th>objID</th>\n",
       "      <th>Prozent</th>\n",
       "    </tr>\n",
       "    <tr>\n",
       "      <th>Scherbe</th>\n",
       "      <th></th>\n",
       "      <th></th>\n",
       "    </tr>\n",
       "  </thead>\n",
       "  <tbody>\n",
       "    <tr>\n",
       "      <th>R</th>\n",
       "      <td>12</td>\n",
       "      <td>80</td>\n",
       "    </tr>\n",
       "    <tr>\n",
       "      <th>W</th>\n",
       "      <td>3</td>\n",
       "      <td>20</td>\n",
       "    </tr>\n",
       "  </tbody>\n",
       "</table>\n",
       "</div>"
      ],
      "text/plain": [
       "         objID  Prozent\n",
       "Scherbe                \n",
       "R           12       80\n",
       "W            3       20"
      ]
     },
     "execution_count": 5,
     "metadata": {},
     "output_type": "execute_result"
    }
   ],
   "source": [
    "df_pivot = df.pivot_table(values = 'objID', index = 'Scherbe', aggfunc = len)\n",
    "df_pivot = pd.DataFrame(df_pivot)\n",
    "df_pivot['Prozent'] = df_pivot['objID']/df_pivot['objID'].sum()*100\n",
    "df_pivot"
   ]
  },
  {
   "cell_type": "markdown",
   "metadata": {},
   "source": [
    "### Fragmentierung"
   ]
  },
  {
   "cell_type": "code",
   "execution_count": 6,
   "metadata": {
    "collapsed": false
   },
   "outputs": [
    {
     "data": {
      "text/html": [
       "<div>\n",
       "<table border=\"1\" class=\"dataframe\">\n",
       "  <thead>\n",
       "    <tr style=\"text-align: right;\">\n",
       "      <th></th>\n",
       "      <th>objID</th>\n",
       "      <th>Prozent</th>\n",
       "    </tr>\n",
       "    <tr>\n",
       "      <th>Gr_Clist</th>\n",
       "      <th></th>\n",
       "      <th></th>\n",
       "    </tr>\n",
       "  </thead>\n",
       "  <tbody>\n",
       "    <tr>\n",
       "      <th>30</th>\n",
       "      <td>1</td>\n",
       "      <td>6.666667</td>\n",
       "    </tr>\n",
       "    <tr>\n",
       "      <th>70</th>\n",
       "      <td>7</td>\n",
       "      <td>46.666667</td>\n",
       "    </tr>\n",
       "    <tr>\n",
       "      <th>120</th>\n",
       "      <td>7</td>\n",
       "      <td>46.666667</td>\n",
       "    </tr>\n",
       "    <tr>\n",
       "      <th>200</th>\n",
       "      <td>0</td>\n",
       "      <td>0.000000</td>\n",
       "    </tr>\n",
       "    <tr>\n",
       "      <th>&gt;200</th>\n",
       "      <td>0</td>\n",
       "      <td>0.000000</td>\n",
       "    </tr>\n",
       "  </tbody>\n",
       "</table>\n",
       "</div>"
      ],
      "text/plain": [
       "             objID    Prozent\n",
       "Gr_Clist                  \n",
       "30               1   6.666667\n",
       "70               7  46.666667\n",
       "120              7  46.666667\n",
       "200              0   0.000000\n",
       ">200             0   0.000000"
      ]
     },
     "execution_count": 6,
     "metadata": {},
     "output_type": "execute_result"
    }
   ],
   "source": [
    "df_pivot = df.pivot_table(values = 'objID', index = 'Gr_Clist', aggfunc = len)\n",
    "# Dummy-Werte manuell:\n",
    "df_pivot['200'] = 0.\n",
    "df_pivot['>200'] = 0.\n",
    "df_pivot = pd.DataFrame(df_pivot)\n",
    "# Prozent-Anteil\n",
    "df_pivot['Prozent'] = df_pivot['objID']/df_pivot['objID'].sum()*100\n",
    "df_pivot"
   ]
  },
  {
   "cell_type": "code",
   "execution_count": 7,
   "metadata": {
    "collapsed": false
   },
   "outputs": [
    {
     "data": {
      "text/plain": [
       "<matplotlib.text.Text at 0x80bf6a0>"
      ]
     },
     "execution_count": 7,
     "metadata": {},
     "output_type": "execute_result"
    },
    {
     "data": {
      "image/png": "[encoded data removed]",
      "text/plain": [
       "<matplotlib.figure.Figure at 0x8066630>"
      ]
     },
     "metadata": {},
     "output_type": "display_data"
    }
   ],
   "source": [
    "df_pivot['Prozent'].plot(kind = 'bar', color = 'gray')\n",
    "plt.xlabel('Größenklassen')\n",
    "plt.ylabel('Prozentanteil')"
   ]
  },
  {
   "cell_type": "markdown",
   "metadata": {},
   "source": [
    "n"
   ]
  },
  {
   "cell_type": "code",
   "execution_count": 8,
   "metadata": {
    "collapsed": false
   },
   "outputs": [
    {
     "data": {
      "text/plain": [
       "15.0"
      ]
     },
     "execution_count": 8,
     "metadata": {},
     "output_type": "execute_result"
    }
   ],
   "source": [
    "df_pivot['objID'].sum()"
   ]
  },
  {
   "cell_type": "markdown",
   "metadata": {},
   "source": [
    "> **MUN 87/103** Fragmentierungsgrad"
   ]
  },
  {
   "cell_type": "code",
   "execution_count": 9,
   "metadata": {
    "collapsed": false
   },
   "outputs": [
    {
     "data": {
      "text/plain": [
       "(0, 5.5)"
      ]
     },
     "execution_count": 9,
     "metadata": {},
     "output_type": "execute_result"
    },
    {
     "data": {
      "image/png": "[encoded data removed]",
      "text/plain": [
       "<matplotlib.figure.Figure at 0x81158d0>"
      ]
     },
     "metadata": {},
     "output_type": "display_data"
    }
   ],
   "source": [
    "df['Gewicht'].plot(kind = 'hist', color = 'gray')\n",
    "plt.xlabel('Gewicht [g]')\n",
    "plt.ylabel('Anzahl')\n",
    "plt.ylim([0,5.5]) "
   ]
  },
  {
   "cell_type": "markdown",
   "metadata": {},
   "source": [
    "> **MUN 87/103** Histogramm des Scherbengewichts"
   ]
  },
  {
   "cell_type": "markdown",
   "metadata": {},
   "source": [
    "### keramische Stilgruppen"
   ]
  },
  {
   "cell_type": "code",
   "execution_count": 10,
   "metadata": {
    "collapsed": false
   },
   "outputs": [
    {
     "data": {
      "text/html": [
       "<div>\n",
       "<table border=\"1\" class=\"dataframe\">\n",
       "  <thead>\n",
       "    <tr style=\"text-align: right;\">\n",
       "      <th></th>\n",
       "      <th>objID</th>\n",
       "      <th>Prozent</th>\n",
       "    </tr>\n",
       "    <tr>\n",
       "      <th>Typ</th>\n",
       "      <th></th>\n",
       "      <th></th>\n",
       "    </tr>\n",
       "  </thead>\n",
       "  <tbody>\n",
       "    <tr>\n",
       "      <th>DAM</th>\n",
       "      <td>3</td>\n",
       "      <td>20.000000</td>\n",
       "    </tr>\n",
       "    <tr>\n",
       "      <th>DON</th>\n",
       "      <td>3</td>\n",
       "      <td>20.000000</td>\n",
       "    </tr>\n",
       "    <tr>\n",
       "      <th></th>\n",
       "      <td>2</td>\n",
       "      <td>13.333333</td>\n",
       "    </tr>\n",
       "    <tr>\n",
       "      <th>DON (?)</th>\n",
       "      <td>2</td>\n",
       "      <td>13.333333</td>\n",
       "    </tr>\n",
       "    <tr>\n",
       "      <th>MTB</th>\n",
       "      <td>2</td>\n",
       "      <td>13.333333</td>\n",
       "    </tr>\n",
       "    <tr>\n",
       "      <th>BBL</th>\n",
       "      <td>1</td>\n",
       "      <td>6.666667</td>\n",
       "    </tr>\n",
       "    <tr>\n",
       "      <th>BatMLB</th>\n",
       "      <td>1</td>\n",
       "      <td>6.666667</td>\n",
       "    </tr>\n",
       "    <tr>\n",
       "      <th>Roulette</th>\n",
       "      <td>1</td>\n",
       "      <td>6.666667</td>\n",
       "    </tr>\n",
       "  </tbody>\n",
       "</table>\n",
       "</div>"
      ],
      "text/plain": [
       "          objID    Prozent\n",
       "Typ                       \n",
       "DAM           3  20.000000\n",
       "DON           3  20.000000\n",
       "              2  13.333333\n",
       "DON (?)       2  13.333333\n",
       "MTB           2  13.333333\n",
       "BBL           1   6.666667\n",
       "BatMLB        1   6.666667\n",
       "Roulette      1   6.666667"
      ]
     },
     "execution_count": 10,
     "metadata": {},
     "output_type": "execute_result"
    }
   ],
   "source": [
    "df_pivot = df.pivot_table(values = 'objID', index = 'Typ', aggfunc = len)\n",
    "df_pivot = pd.DataFrame(df_pivot)\n",
    "df_pivot['Prozent'] = df_pivot['objID']/df_pivot['objID'].sum()*100\n",
    "df_pivot = df_pivot.sort_index(by=['Prozent'], ascending=[False])\n",
    "df_pivot"
   ]
  },
  {
   "cell_type": "code",
   "execution_count": 11,
   "metadata": {
    "collapsed": false
   },
   "outputs": [
    {
     "data": {
      "text/plain": [
       "<matplotlib.text.Text at 0x8895240>"
      ]
     },
     "execution_count": 11,
     "metadata": {},
     "output_type": "execute_result"
    },
    {
     "data": {
      "image/png": "[encoded data removed]",
      "text/plain": [
       "<matplotlib.figure.Figure at 0x880a5f8>"
      ]
     },
     "metadata": {},
     "output_type": "display_data"
    }
   ],
   "source": [
    "fig = plt.figure(1)\n",
    "fig.set_size_inches(5, 5)\n",
    "df_pivot['objID'].plot(kind = 'pie', cmap = 'Paired', autopct='%.0f %%')\n",
    "plt.ylabel('')"
   ]
  },
  {
   "cell_type": "markdown",
   "metadata": {},
   "source": [
    "## Formen"
   ]
  },
  {
   "cell_type": "code",
   "execution_count": 12,
   "metadata": {
    "collapsed": false
   },
   "outputs": [
    {
     "data": {
      "text/html": [
       "<div>\n",
       "<table border=\"1\" class=\"dataframe\">\n",
       "  <thead>\n",
       "    <tr style=\"text-align: right;\">\n",
       "      <th></th>\n",
       "      <th>objID</th>\n",
       "      <th>Typ</th>\n",
       "      <th>Scherbe</th>\n",
       "      <th>Form_Mdg</th>\n",
       "      <th>Form_Rand</th>\n",
       "      <th>Form_Hals</th>\n",
       "      <th>Form_Schulter</th>\n",
       "      <th>Form_Bauch</th>\n",
       "      <th>Form_Boden</th>\n",
       "      <th>Form_Gef</th>\n",
       "    </tr>\n",
       "  </thead>\n",
       "  <tbody>\n",
       "    <tr>\n",
       "      <th>0</th>\n",
       "      <td>291</td>\n",
       "      <td>DAM</td>\n",
       "      <td>R</td>\n",
       "      <td>M1</td>\n",
       "      <td>R20a</td>\n",
       "      <td></td>\n",
       "      <td></td>\n",
       "      <td>A1</td>\n",
       "      <td></td>\n",
       "      <td>G8d (?)</td>\n",
       "    </tr>\n",
       "    <tr>\n",
       "      <th>1</th>\n",
       "      <td>293</td>\n",
       "      <td>BatMLB</td>\n",
       "      <td>R</td>\n",
       "      <td></td>\n",
       "      <td>R32alt</td>\n",
       "      <td>B1</td>\n",
       "      <td>A2</td>\n",
       "      <td>A1</td>\n",
       "      <td></td>\n",
       "      <td>G7b</td>\n",
       "    </tr>\n",
       "    <tr>\n",
       "      <th>2</th>\n",
       "      <td>294</td>\n",
       "      <td>DON</td>\n",
       "      <td>R</td>\n",
       "      <td>M2/M5</td>\n",
       "      <td>B1</td>\n",
       "      <td>A1 lang</td>\n",
       "      <td>B1a</td>\n",
       "      <td></td>\n",
       "      <td></td>\n",
       "      <td>G6a (?)</td>\n",
       "    </tr>\n",
       "    <tr>\n",
       "      <th>3</th>\n",
       "      <td>295</td>\n",
       "      <td>DAM</td>\n",
       "      <td>R</td>\n",
       "      <td>M3</td>\n",
       "      <td>R21a</td>\n",
       "      <td>B3/kurz</td>\n",
       "      <td>A1</td>\n",
       "      <td></td>\n",
       "      <td></td>\n",
       "      <td>G3 (?)</td>\n",
       "    </tr>\n",
       "    <tr>\n",
       "      <th>4</th>\n",
       "      <td>296</td>\n",
       "      <td>Roulette</td>\n",
       "      <td>W</td>\n",
       "      <td></td>\n",
       "      <td></td>\n",
       "      <td></td>\n",
       "      <td>A1</td>\n",
       "      <td></td>\n",
       "      <td></td>\n",
       "      <td>None</td>\n",
       "    </tr>\n",
       "    <tr>\n",
       "      <th>5</th>\n",
       "      <td>1959</td>\n",
       "      <td>DON</td>\n",
       "      <td>R</td>\n",
       "      <td>M1</td>\n",
       "      <td>B1</td>\n",
       "      <td></td>\n",
       "      <td>A1</td>\n",
       "      <td></td>\n",
       "      <td></td>\n",
       "      <td>G3 (?)</td>\n",
       "    </tr>\n",
       "    <tr>\n",
       "      <th>6</th>\n",
       "      <td>1960</td>\n",
       "      <td>DON</td>\n",
       "      <td>R</td>\n",
       "      <td>M5</td>\n",
       "      <td>B1</td>\n",
       "      <td></td>\n",
       "      <td>A2/leicht</td>\n",
       "      <td></td>\n",
       "      <td></td>\n",
       "      <td>G3 (?)</td>\n",
       "    </tr>\n",
       "    <tr>\n",
       "      <th>7</th>\n",
       "      <td>1961</td>\n",
       "      <td>DON (?)</td>\n",
       "      <td>R</td>\n",
       "      <td>M1</td>\n",
       "      <td>R11b (?)</td>\n",
       "      <td>A1</td>\n",
       "      <td></td>\n",
       "      <td></td>\n",
       "      <td></td>\n",
       "      <td></td>\n",
       "    </tr>\n",
       "    <tr>\n",
       "      <th>8</th>\n",
       "      <td>1962</td>\n",
       "      <td>MTB</td>\n",
       "      <td>R</td>\n",
       "      <td>M2</td>\n",
       "      <td>R13a alt</td>\n",
       "      <td>kurz</td>\n",
       "      <td>A2</td>\n",
       "      <td></td>\n",
       "      <td></td>\n",
       "      <td>G3 (?)</td>\n",
       "    </tr>\n",
       "    <tr>\n",
       "      <th>9</th>\n",
       "      <td>1963</td>\n",
       "      <td>MTB</td>\n",
       "      <td>R</td>\n",
       "      <td>M2</td>\n",
       "      <td>R18b alt</td>\n",
       "      <td></td>\n",
       "      <td></td>\n",
       "      <td></td>\n",
       "      <td></td>\n",
       "      <td>G8a (?)</td>\n",
       "    </tr>\n",
       "    <tr>\n",
       "      <th>10</th>\n",
       "      <td>2589</td>\n",
       "      <td>DON (?)</td>\n",
       "      <td>R</td>\n",
       "      <td>M1</td>\n",
       "      <td>B3</td>\n",
       "      <td></td>\n",
       "      <td></td>\n",
       "      <td>A1</td>\n",
       "      <td></td>\n",
       "      <td>G8a (?)</td>\n",
       "    </tr>\n",
       "    <tr>\n",
       "      <th>11</th>\n",
       "      <td>2590</td>\n",
       "      <td>BBL</td>\n",
       "      <td>R</td>\n",
       "      <td>M4</td>\n",
       "      <td>A1</td>\n",
       "      <td></td>\n",
       "      <td>B2</td>\n",
       "      <td>B1</td>\n",
       "      <td></td>\n",
       "      <td>G4b</td>\n",
       "    </tr>\n",
       "    <tr>\n",
       "      <th>12</th>\n",
       "      <td>2591</td>\n",
       "      <td>DAM</td>\n",
       "      <td>W</td>\n",
       "      <td></td>\n",
       "      <td></td>\n",
       "      <td></td>\n",
       "      <td></td>\n",
       "      <td></td>\n",
       "      <td></td>\n",
       "      <td></td>\n",
       "    </tr>\n",
       "    <tr>\n",
       "      <th>13</th>\n",
       "      <td>2603</td>\n",
       "      <td></td>\n",
       "      <td>R</td>\n",
       "      <td>M1</td>\n",
       "      <td>C3/stark</td>\n",
       "      <td></td>\n",
       "      <td></td>\n",
       "      <td></td>\n",
       "      <td></td>\n",
       "      <td>G8d (?)</td>\n",
       "    </tr>\n",
       "    <tr>\n",
       "      <th>14</th>\n",
       "      <td>2604</td>\n",
       "      <td></td>\n",
       "      <td>W</td>\n",
       "      <td></td>\n",
       "      <td></td>\n",
       "      <td>A1 (?)</td>\n",
       "      <td></td>\n",
       "      <td></td>\n",
       "      <td></td>\n",
       "      <td>None</td>\n",
       "    </tr>\n",
       "  </tbody>\n",
       "</table>\n",
       "</div>"
      ],
      "text/plain": [
       "    objID       Typ Scherbe Form_Mdg Form_Rand Form_Hals Form_Schulter  \\\n",
       "0     291       DAM       R       M1      R20a                           \n",
       "1     293    BatMLB       R             R32alt        B1            A2   \n",
       "2     294       DON       R    M2/M5        B1   A1 lang           B1a   \n",
       "3     295       DAM       R       M3      R21a   B3/kurz            A1   \n",
       "4     296  Roulette       W                                         A1   \n",
       "5    1959       DON       R       M1        B1                      A1   \n",
       "6    1960       DON       R       M5        B1               A2/leicht   \n",
       "7    1961   DON (?)       R       M1  R11b (?)        A1                 \n",
       "8    1962       MTB       R       M2  R13a alt      kurz            A2   \n",
       "9    1963       MTB       R       M2  R18b alt                           \n",
       "10   2589   DON (?)       R       M1        B3                           \n",
       "11   2590       BBL       R       M4        A1                      B2   \n",
       "12   2591       DAM       W                                              \n",
       "13   2603                 R       M1  C3/stark                           \n",
       "14   2604                 W                       A1 (?)                 \n",
       "\n",
       "   Form_Bauch Form_Boden Form_Gef  \n",
       "0          A1             G8d (?)  \n",
       "1          A1                 G7b  \n",
       "2                         G6a (?)  \n",
       "3                          G3 (?)  \n",
       "4                            None  \n",
       "5                          G3 (?)  \n",
       "6                          G3 (?)  \n",
       "7                                  \n",
       "8                          G3 (?)  \n",
       "9                         G8a (?)  \n",
       "10         A1             G8a (?)  \n",
       "11         B1                 G4b  \n",
       "12                                 \n",
       "13                        G8d (?)  \n",
       "14                           None  "
      ]
     },
     "execution_count": 12,
     "metadata": {},
     "output_type": "execute_result"
    }
   ],
   "source": [
    "sql = \"\"\"SELECT\n",
    "           t_Obj.ObjID, \n",
    "           t_Obj.Typ, \n",
    "           t_Obj.Scherbe,\n",
    "           t_Obj.Form_Mdg, \n",
    "           t_Obj.Form_Rand,\n",
    "           t_Obj.Form_Hals,\n",
    "           t_Obj.Form_Schulter,\n",
    "           t_Obj.Form_Bauch,\n",
    "           t_Obj.Form_Boden,\n",
    "           t_Obj.Form_Gef\n",
    "       FROM (t_Ort INNER JOIN t_Komplex ON t_Ort.ortID = t_Komplex.ortID)\n",
    "           INNER JOIN t_Obj ON t_Komplex.komplexID = t_Obj.komplexID\n",
    "       WHERE (((t_Ort.ort_kurz) = 'MLB')\n",
    "           AND ((t_Komplex.bef_nr) = '85/103'))\"\"\".replace('\\n',' ')\n",
    "\n",
    "df = pd.read_sql(sql, con)\n",
    "df"
   ]
  },
  {
   "cell_type": "markdown",
   "metadata": {},
   "source": [
    "### Gefäßformen"
   ]
  },
  {
   "cell_type": "code",
   "execution_count": 13,
   "metadata": {
    "collapsed": false
   },
   "outputs": [
    {
     "data": {
      "text/html": [
       "<div>\n",
       "<table border=\"1\" class=\"dataframe\">\n",
       "  <thead>\n",
       "    <tr style=\"text-align: right;\">\n",
       "      <th></th>\n",
       "      <th>objID</th>\n",
       "    </tr>\n",
       "    <tr>\n",
       "      <th>Form_Gef</th>\n",
       "      <th></th>\n",
       "    </tr>\n",
       "  </thead>\n",
       "  <tbody>\n",
       "    <tr>\n",
       "      <th>G3 (?)</th>\n",
       "      <td>4</td>\n",
       "    </tr>\n",
       "    <tr>\n",
       "      <th></th>\n",
       "      <td>2</td>\n",
       "    </tr>\n",
       "    <tr>\n",
       "      <th>G8a (?)</th>\n",
       "      <td>2</td>\n",
       "    </tr>\n",
       "    <tr>\n",
       "      <th>G8d (?)</th>\n",
       "      <td>2</td>\n",
       "    </tr>\n",
       "    <tr>\n",
       "      <th>G4b</th>\n",
       "      <td>1</td>\n",
       "    </tr>\n",
       "    <tr>\n",
       "      <th>G6a (?)</th>\n",
       "      <td>1</td>\n",
       "    </tr>\n",
       "    <tr>\n",
       "      <th>G7b</th>\n",
       "      <td>1</td>\n",
       "    </tr>\n",
       "  </tbody>\n",
       "</table>\n",
       "</div>"
      ],
      "text/plain": [
       "          objID\n",
       "Form_Gef       \n",
       "G3 (?)        4\n",
       "              2\n",
       "G8a (?)       2\n",
       "G8d (?)       2\n",
       "G4b           1\n",
       "G6a (?)       1\n",
       "G7b           1"
      ]
     },
     "execution_count": 13,
     "metadata": {},
     "output_type": "execute_result"
    }
   ],
   "source": [
    "df_pivot = df.pivot_table(values = 'objID', index = 'Form_Gef', aggfunc = len)\n",
    "df_pivot = pd.DataFrame(df_pivot)\n",
    "df_pivot = df_pivot.sort_index(by=['objID'], ascending=[False])\n",
    "df_pivot"
   ]
  },
  {
   "cell_type": "markdown",
   "metadata": {},
   "source": [
    "### Mündungsformen"
   ]
  },
  {
   "cell_type": "code",
   "execution_count": 14,
   "metadata": {
    "collapsed": false
   },
   "outputs": [
    {
     "data": {
      "text/html": [
       "<div>\n",
       "<table border=\"1\" class=\"dataframe\">\n",
       "  <thead>\n",
       "    <tr style=\"text-align: right;\">\n",
       "      <th></th>\n",
       "      <th>objID</th>\n",
       "    </tr>\n",
       "    <tr>\n",
       "      <th>Form_Mdg</th>\n",
       "      <th></th>\n",
       "    </tr>\n",
       "  </thead>\n",
       "  <tbody>\n",
       "    <tr>\n",
       "      <th>M1</th>\n",
       "      <td>5</td>\n",
       "    </tr>\n",
       "    <tr>\n",
       "      <th></th>\n",
       "      <td>4</td>\n",
       "    </tr>\n",
       "    <tr>\n",
       "      <th>M2</th>\n",
       "      <td>2</td>\n",
       "    </tr>\n",
       "    <tr>\n",
       "      <th>M2/M5</th>\n",
       "      <td>1</td>\n",
       "    </tr>\n",
       "    <tr>\n",
       "      <th>M3</th>\n",
       "      <td>1</td>\n",
       "    </tr>\n",
       "    <tr>\n",
       "      <th>M4</th>\n",
       "      <td>1</td>\n",
       "    </tr>\n",
       "    <tr>\n",
       "      <th>M5</th>\n",
       "      <td>1</td>\n",
       "    </tr>\n",
       "  </tbody>\n",
       "</table>\n",
       "</div>"
      ],
      "text/plain": [
       "          objID\n",
       "Form_Mdg       \n",
       "M1            5\n",
       "              4\n",
       "M2            2\n",
       "M2/M5         1\n",
       "M3            1\n",
       "M4            1\n",
       "M5            1"
      ]
     },
     "execution_count": 14,
     "metadata": {},
     "output_type": "execute_result"
    }
   ],
   "source": [
    "df_pivot = df.pivot_table(values = 'objID', index = 'Form_Mdg', aggfunc = len)\n",
    "df_pivot = pd.DataFrame(df_pivot)\n",
    "df_pivot = df_pivot.sort_index(by=['objID'], ascending=[False])\n",
    "df_pivot"
   ]
  },
  {
   "cell_type": "markdown",
   "metadata": {},
   "source": [
    "### Randformen"
   ]
  },
  {
   "cell_type": "code",
   "execution_count": 15,
   "metadata": {
    "collapsed": false
   },
   "outputs": [
    {
     "data": {
      "text/html": [
       "<div>\n",
       "<table border=\"1\" class=\"dataframe\">\n",
       "  <thead>\n",
       "    <tr style=\"text-align: right;\">\n",
       "      <th></th>\n",
       "      <th>objID</th>\n",
       "    </tr>\n",
       "    <tr>\n",
       "      <th>Form_Rand</th>\n",
       "      <th></th>\n",
       "    </tr>\n",
       "  </thead>\n",
       "  <tbody>\n",
       "    <tr>\n",
       "      <th></th>\n",
       "      <td>3</td>\n",
       "    </tr>\n",
       "    <tr>\n",
       "      <th>B1</th>\n",
       "      <td>3</td>\n",
       "    </tr>\n",
       "    <tr>\n",
       "      <th>A1</th>\n",
       "      <td>1</td>\n",
       "    </tr>\n",
       "    <tr>\n",
       "      <th>B3</th>\n",
       "      <td>1</td>\n",
       "    </tr>\n",
       "    <tr>\n",
       "      <th>C3/stark</th>\n",
       "      <td>1</td>\n",
       "    </tr>\n",
       "    <tr>\n",
       "      <th>R11b (?)</th>\n",
       "      <td>1</td>\n",
       "    </tr>\n",
       "    <tr>\n",
       "      <th>R13a alt</th>\n",
       "      <td>1</td>\n",
       "    </tr>\n",
       "    <tr>\n",
       "      <th>R18b alt</th>\n",
       "      <td>1</td>\n",
       "    </tr>\n",
       "    <tr>\n",
       "      <th>R20a</th>\n",
       "      <td>1</td>\n",
       "    </tr>\n",
       "    <tr>\n",
       "      <th>R21a</th>\n",
       "      <td>1</td>\n",
       "    </tr>\n",
       "    <tr>\n",
       "      <th>R32alt</th>\n",
       "      <td>1</td>\n",
       "    </tr>\n",
       "  </tbody>\n",
       "</table>\n",
       "</div>"
      ],
      "text/plain": [
       "           objID\n",
       "Form_Rand       \n",
       "               3\n",
       "B1             3\n",
       "A1             1\n",
       "B3             1\n",
       "C3/stark       1\n",
       "R11b (?)       1\n",
       "R13a alt       1\n",
       "R18b alt       1\n",
       "R20a           1\n",
       "R21a           1\n",
       "R32alt         1"
      ]
     },
     "execution_count": 15,
     "metadata": {},
     "output_type": "execute_result"
    }
   ],
   "source": [
    "df_pivot = df.pivot_table(values = 'objID', index = 'Form_Rand', aggfunc = len)\n",
    "df_pivot = pd.DataFrame(df_pivot)\n",
    "df_pivot = df_pivot.sort_index(by=['objID'], ascending=[False])\n",
    "df_pivot"
   ]
  },
  {
   "cell_type": "markdown",
   "metadata": {
    "collapsed": true
   },
   "source": [
    "## Verzierungen"
   ]
  },
  {
   "cell_type": "code",
   "execution_count": 16,
   "metadata": {
    "collapsed": false,
    "scrolled": true
   },
   "outputs": [
    {
     "data": {
      "text/html": [
       "<div>\n",
       "<table border=\"1\" class=\"dataframe\">\n",
       "  <thead>\n",
       "    <tr style=\"text-align: right;\">\n",
       "      <th></th>\n",
       "      <th>objID</th>\n",
       "      <th>t_K_Pos.posID</th>\n",
       "      <th>t_K_Verz.verzID</th>\n",
       "      <th>pos</th>\n",
       "      <th>verzName</th>\n",
       "      <th>t_K_Verz.verzBeschr</th>\n",
       "      <th>t_Obj.Typ</th>\n",
       "      <th>t_Obj.Form_Gef</th>\n",
       "    </tr>\n",
       "  </thead>\n",
       "  <tbody>\n",
       "    <tr>\n",
       "      <th>0</th>\n",
       "      <td>291</td>\n",
       "      <td>2</td>\n",
       "      <td>1</td>\n",
       "      <td>1 Innen</td>\n",
       "      <td>V01a</td>\n",
       "      <td>horizontale Rille</td>\n",
       "      <td>DAM</td>\n",
       "      <td>G8d (?)</td>\n",
       "    </tr>\n",
       "    <tr>\n",
       "      <th>1</th>\n",
       "      <td>291</td>\n",
       "      <td>3</td>\n",
       "      <td>32</td>\n",
       "      <td>2 Rand</td>\n",
       "      <td>V09a1</td>\n",
       "      <td>Einstichreihe/diagonal</td>\n",
       "      <td>DAM</td>\n",
       "      <td>G8d (?)</td>\n",
       "    </tr>\n",
       "    <tr>\n",
       "      <th>2</th>\n",
       "      <td>291</td>\n",
       "      <td>4</td>\n",
       "      <td>23</td>\n",
       "      <td>3 Oberteil</td>\n",
       "      <td>V08a</td>\n",
       "      <td>vegetabilisches Roulette/Knotted String</td>\n",
       "      <td>DAM</td>\n",
       "      <td>G8d (?)</td>\n",
       "    </tr>\n",
       "    <tr>\n",
       "      <th>3</th>\n",
       "      <td>1962</td>\n",
       "      <td>3</td>\n",
       "      <td>75</td>\n",
       "      <td>2 Rand</td>\n",
       "      <td>V09m</td>\n",
       "      <td>gebogene Eindrücke/Kamm</td>\n",
       "      <td>MTB</td>\n",
       "      <td>G3 (?)</td>\n",
       "    </tr>\n",
       "    <tr>\n",
       "      <th>4</th>\n",
       "      <td>295</td>\n",
       "      <td>6</td>\n",
       "      <td>23</td>\n",
       "      <td>5 Schulter</td>\n",
       "      <td>V08a</td>\n",
       "      <td>vegetabilisches Roulette/Knotted String</td>\n",
       "      <td>DAM</td>\n",
       "      <td>G3 (?)</td>\n",
       "    </tr>\n",
       "  </tbody>\n",
       "</table>\n",
       "</div>"
      ],
      "text/plain": [
       "   objID  t_K_Pos.posID  t_K_Verz.verzID         pos verzName  \\\n",
       "0    291              2                1     1 Innen     V01a   \n",
       "1    291              3               32      2 Rand    V09a1   \n",
       "2    291              4               23  3 Oberteil     V08a   \n",
       "3   1962              3               75      2 Rand     V09m   \n",
       "4    295              6               23  5 Schulter     V08a   \n",
       "\n",
       "                       t_K_Verz.verzBeschr t_Obj.Typ t_Obj.Form_Gef  \n",
       "0                        horizontale Rille       DAM        G8d (?)  \n",
       "1                   Einstichreihe/diagonal       DAM        G8d (?)  \n",
       "2  vegetabilisches Roulette/Knotted String       DAM        G8d (?)  \n",
       "3                  gebogene Eindrücke/Kamm       MTB         G3 (?)  \n",
       "4  vegetabilisches Roulette/Knotted String       DAM         G3 (?)  "
      ]
     },
     "metadata": {},
     "output_type": "display_data"
    }
   ],
   "source": [
    "sql = \"\"\"SELECT\n",
    "           t_Obj.objID AS objID,\n",
    "           t_K_Pos.posID,\n",
    "           t_K_Verz.verzID,\n",
    "           [t_K_Pos].[posReihe] || ' ' || [posName] AS pos,\n",
    "           t_K_Verz.verzName AS verzName,\n",
    "           t_K_Verz.verzBeschr,\n",
    "           t_Obj.Typ,\n",
    "           t_Obj.Form_Gef\n",
    "       FROM ((t_Ort LEFT JOIN t_Komplex ON t_Ort.ortID = t_Komplex.ortID)\n",
    "           LEFT JOIN t_Obj ON t_Komplex.komplexID = t_Obj.komplexID) t_Obj INNER JOIN \"t_ObjPosVerz\" ON t_Obj.objID = \"t_ObjPosVerz\".objID\n",
    "           INNER JOIN t_K_Pos ON \"t_ObjPosVerz\".posID = t_K_Pos.posID\n",
    "           INNER JOIN t_K_Verz ON \"t_ObjPosVerz\".verzID = t_K_Verz.verzID\n",
    "       WHERE (((t_K_Pos.posID)<>1)\n",
    "           AND ((t_K_Verz.verzName) Like 'V%')\n",
    "           AND ((t_Ort.ort_kurz) = 'MLB')\n",
    "           AND ((t_Komplex.bef_nr) = '85/103'))\"\"\".replace('\\n',' ')\n",
    "\n",
    "df = pd.read_sql(sql, con)\n",
    "display(df.head())"
   ]
  },
  {
   "cell_type": "code",
   "execution_count": 17,
   "metadata": {
    "collapsed": false,
    "scrolled": true
   },
   "outputs": [
    {
     "data": {
      "text/html": [
       "<div>\n",
       "<table border=\"1\" class=\"dataframe\">\n",
       "  <thead>\n",
       "    <tr style=\"text-align: right;\">\n",
       "      <th></th>\n",
       "      <th>0</th>\n",
       "      <th>Prozent</th>\n",
       "    </tr>\n",
       "  </thead>\n",
       "  <tbody>\n",
       "    <tr>\n",
       "      <th>Roulette-Verzierung</th>\n",
       "      <td>3</td>\n",
       "      <td>8.823529</td>\n",
       "    </tr>\n",
       "    <tr>\n",
       "      <th>Weitere Verzierungen</th>\n",
       "      <td>31</td>\n",
       "      <td>91.176471</td>\n",
       "    </tr>\n",
       "  </tbody>\n",
       "</table>\n",
       "</div>"
      ],
      "text/plain": [
       "                       0    Prozent\n",
       "Roulette-Verzierung    3   8.823529\n",
       "Weitere Verzierungen  31  91.176471"
      ]
     },
     "execution_count": 17,
     "metadata": {},
     "output_type": "execute_result"
    }
   ],
   "source": [
    "a = pd.Series({'Roulette-Verzierung':len(df.loc[df['verzName'].str.contains(\"V08\")].index),\n",
    "               'Weitere Verzierungen':len(df.loc[~df['verzName'].str.contains(\"V08\")].index)})\n",
    "a = pd.DataFrame(a)\n",
    "a['Prozent'] = a[0]/a[0].sum()*100\n",
    "a"
   ]
  },
  {
   "cell_type": "code",
   "execution_count": 18,
   "metadata": {
    "collapsed": false,
    "scrolled": true
   },
   "outputs": [
    {
     "data": {
      "text/html": [
       "<div>\n",
       "<table border=\"1\" class=\"dataframe\">\n",
       "  <thead>\n",
       "    <tr style=\"text-align: right;\">\n",
       "      <th></th>\n",
       "      <th>0</th>\n",
       "      <th>Prozent</th>\n",
       "    </tr>\n",
       "  </thead>\n",
       "  <tbody>\n",
       "    <tr>\n",
       "      <th>Schnitz-Roulette</th>\n",
       "      <td>1</td>\n",
       "      <td>33.333333</td>\n",
       "    </tr>\n",
       "    <tr>\n",
       "      <th>vegetabilisches Roulette</th>\n",
       "      <td>2</td>\n",
       "      <td>66.666667</td>\n",
       "    </tr>\n",
       "  </tbody>\n",
       "</table>\n",
       "</div>"
      ],
      "text/plain": [
       "                          0    Prozent\n",
       "Schnitz-Roulette          1  33.333333\n",
       "vegetabilisches Roulette  2  66.666667"
      ]
     },
     "execution_count": 18,
     "metadata": {},
     "output_type": "execute_result"
    }
   ],
   "source": [
    "# nur Roulette-Verzierungen herausfiltern\n",
    "b = df.loc[df['verzName'].str.contains(\"V08\")]\n",
    "\n",
    "c = pd.Series({'vegetabilisches Roulette':len(b.loc[df['verzName'].str.contains(\"V08a\")].index),\n",
    "               'Schnitz-Roulette':len(b.loc[~df['verzName'].str.contains(\"V08a\")].index)})\n",
    "c = pd.DataFrame(c)\n",
    "c['Prozent'] = c[0]/c[0].sum()*100\n",
    "c"
   ]
  },
  {
   "cell_type": "code",
   "execution_count": 19,
   "metadata": {
    "collapsed": false
   },
   "outputs": [],
   "source": [
    "df_pivot = df.pivot_table(values = 'objID', index = 'verzName', aggfunc = len)\n",
    "df_pivot = pd.DataFrame(df_pivot)\n",
    "# Sortierung in Aufsteigend ändern\n",
    "df_pivot = df_pivot.sort_index(by = ['objID'], ascending = True)"
   ]
  },
  {
   "cell_type": "code",
   "execution_count": 20,
   "metadata": {
    "collapsed": false
   },
   "outputs": [
    {
     "data": {
      "text/plain": [
       "<matplotlib.text.Text at 0x891e6d8>"
      ]
     },
     "execution_count": 20,
     "metadata": {},
     "output_type": "execute_result"
    },
    {
     "data": {
      "image/png": "[encoded data removed]",
      "text/plain": [
       "<matplotlib.figure.Figure at 0x89177b8>"
      ]
     },
     "metadata": {},
     "output_type": "display_data"
    }
   ],
   "source": [
    "fig = plt.figure()\n",
    "fig.set_size_inches(5, 5)\n",
    "df_pivot['objID'].plot(kind='pie', autopct='%.0f %%', cmap = 'Paired' )\n",
    "plt.ylabel('')"
   ]
  },
  {
   "cell_type": "code",
   "execution_count": null,
   "metadata": {
    "collapsed": true
   },
   "outputs": [],
   "source": []
  }
 ],
 "metadata": {
  "kernelspec": {
   "display_name": "Python 3",
   "language": "python",
   "name": "python3"
  },
  "language_info": {
   "codemirror_mode": {
    "name": "ipython",
    "version": 3
   },
   "file_extension": ".py",
   "mimetype": "text/x-python",
   "name": "python",
   "nbconvert_exporter": "python",
   "pygments_lexer": "ipython3",
   "version": "3.4.3"
  }
 },
 "nbformat": 4,
 "nbformat_minor": 0
}
