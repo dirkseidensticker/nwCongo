{
 "cells": [
  {
   "cell_type": "markdown",
   "metadata": {},
   "source": [
    "# Kpetene-Gruppe"
   ]
  },
  {
   "cell_type": "markdown",
   "metadata": {},
   "source": [
    "* [Funde](#Funde)\n",
    "\t* [Scherbentypen](#Scherbentypen)\n",
    "* [Technologische Merkmale (fabrics)](#Technologische-Merkmale-(fabrics))\n",
    "\t* [Brennfarbe](#Brennfarbe)\n",
    "\t* [Oberfläche der Scherben](#Oberfläche-der-Scherben)\n",
    "\t* [Wandungsdicke](#Wandungsdicke)\n",
    "* Formen\n",
    "\t* [Gefäßformen](#Gefäßformen)\n",
    "\t* [Proportionen](#Proportionen)\n",
    "\t* [Bauchform](#Bauchform)\n",
    "\t* [Mündungs- und Randformen](#Mündungs--und-Randformen)\n",
    "\t* [Bodenformen](#Bodenformen)\n",
    "* [Verzierungen](#Verzierungselemente)\n",
    "* [Verbreitung](#Verbreitung)"
   ]
  },
  {
   "cell_type": "code",
   "execution_count": 1,
   "metadata": {
    "collapsed": true
   },
   "outputs": [],
   "source": [
    "%matplotlib inline\n",
    "from IPython.display import display\n",
    "import pandas as pd\n",
    "import numpy as np\n",
    "import matplotlib.pyplot as plt\n",
    "from mpl_toolkits.axes_grid1 import make_axes_locatable\n",
    "import sqlite3\n",
    "\n",
    "import sys, os\n",
    "sys.path.append(\"/Python\")\n",
    "from myfunctions import *\n",
    "from parula import *\n",
    "\n",
    "style = 'KPT'\n",
    "\n",
    "con = sqlite3.connect(\"../data/CongoDB.sqlite\")"
   ]
  },
  {
   "cell_type": "markdown",
   "metadata": {},
   "source": [
    "## Funde"
   ]
  },
  {
   "cell_type": "code",
   "execution_count": 27,
   "metadata": {},
   "outputs": [
    {
     "data": {
      "text/html": [
       "<div>\n",
       "<table border=\"1\" class=\"dataframe\">\n",
       "  <thead>\n",
       "    <tr style=\"text-align: right;\">\n",
       "      <th></th>\n",
       "      <th>objID</th>\n",
       "      <th>ort_kurz</th>\n",
       "      <th>Ort</th>\n",
       "      <th>bef_nr</th>\n",
       "      <th>ort_fluss</th>\n",
       "      <th>GE</th>\n",
       "      <th>Scherbe</th>\n",
       "      <th>Gewicht</th>\n",
       "      <th>Anzahl</th>\n",
       "      <th>Typ</th>\n",
       "    </tr>\n",
       "  </thead>\n",
       "  <tbody>\n",
       "    <tr>\n",
       "      <th>0</th>\n",
       "      <td>39</td>\n",
       "      <td>BLN</td>\n",
       "      <td>Balongoi (Fpl. 214)</td>\n",
       "      <td>85/101</td>\n",
       "      <td>Ubangi</td>\n",
       "      <td></td>\n",
       "      <td>W</td>\n",
       "      <td>581</td>\n",
       "      <td>1</td>\n",
       "      <td>KPT/MTB</td>\n",
       "    </tr>\n",
       "    <tr>\n",
       "      <th>1</th>\n",
       "      <td>185</td>\n",
       "      <td>KPT</td>\n",
       "      <td>Kpetene (Fpl. 220)</td>\n",
       "      <td>85/101</td>\n",
       "      <td>Ubangi</td>\n",
       "      <td>1</td>\n",
       "      <td>W</td>\n",
       "      <td>855</td>\n",
       "      <td>1</td>\n",
       "      <td>KPT</td>\n",
       "    </tr>\n",
       "    <tr>\n",
       "      <th>2</th>\n",
       "      <td>5464</td>\n",
       "      <td>KOU</td>\n",
       "      <td>Kouango (Fpl. 229)</td>\n",
       "      <td>85/101</td>\n",
       "      <td>Ubangi</td>\n",
       "      <td></td>\n",
       "      <td>R</td>\n",
       "      <td>87</td>\n",
       "      <td>1</td>\n",
       "      <td>KPT</td>\n",
       "    </tr>\n",
       "    <tr>\n",
       "      <th>3</th>\n",
       "      <td>5465</td>\n",
       "      <td>KOU</td>\n",
       "      <td>Kouango (Fpl. 229)</td>\n",
       "      <td>85/101</td>\n",
       "      <td>Ubangi</td>\n",
       "      <td></td>\n",
       "      <td>W</td>\n",
       "      <td>71</td>\n",
       "      <td>1</td>\n",
       "      <td>KPT (?)</td>\n",
       "    </tr>\n",
       "    <tr>\n",
       "      <th>4</th>\n",
       "      <td>5519</td>\n",
       "      <td>GBA</td>\n",
       "      <td>Gbandami (Fpl. 226)</td>\n",
       "      <td>85/101</td>\n",
       "      <td>Ubangi</td>\n",
       "      <td></td>\n",
       "      <td>R</td>\n",
       "      <td>46</td>\n",
       "      <td>1</td>\n",
       "      <td>KPT</td>\n",
       "    </tr>\n",
       "  </tbody>\n",
       "</table>\n",
       "</div>"
      ],
      "text/plain": [
       "   objID ort_kurz                  Ort  bef_nr ort_fluss GE Scherbe  Gewicht  \\\n",
       "0     39      BLN  Balongoi (Fpl. 214)  85/101    Ubangi          W      581   \n",
       "1    185      KPT   Kpetene (Fpl. 220)  85/101    Ubangi  1       W      855   \n",
       "2   5464      KOU   Kouango (Fpl. 229)  85/101    Ubangi          R       87   \n",
       "3   5465      KOU   Kouango (Fpl. 229)  85/101    Ubangi          W       71   \n",
       "4   5519      GBA  Gbandami (Fpl. 226)  85/101    Ubangi          R       46   \n",
       "\n",
       "   Anzahl      Typ  \n",
       "0       1  KPT/MTB  \n",
       "1       1      KPT  \n",
       "2       1      KPT  \n",
       "3       1  KPT (?)  \n",
       "4       1      KPT  "
      ]
     },
     "metadata": {},
     "output_type": "display_data"
    }
   ],
   "source": [
    "sql = \"\"\"SELECT\n",
    "           t_Obj.objID,\n",
    "           t_Ort.ort_kurz,\n",
    "           't_Ort'.'ort_name' || ' (Fpl. ' || 't_ort'.'Kat-Nr' || ')' AS Ort,\n",
    "           t_Komplex.bef_nr,\n",
    "           t_Ort.ort_fluss,\n",
    "           t_Obj.GefEinheit AS GE,\n",
    "           t_Obj.Scherbe,\n",
    "           t_Obj.Gewicht,\n",
    "           t_Obj.Anzahl,\n",
    "           t_Obj.Typ\n",
    "       FROM (t_Ort INNER JOIN t_Komplex ON t_Ort.ortID = t_Komplex.ortID)\n",
    "           INNER JOIN t_Obj ON t_Komplex.komplexID = t_Obj.komplexID\n",
    "       WHERE (((t_Ort.ort_lit)='DS')\n",
    "           AND ((t_Obj.Typ) Like '%KPT%')\n",
    "           AND ((t_Obj.Art) = 'K')\n",
    "           AND ((t_Obj.Anzahl) != ''))\"\"\".replace('\\n',' ')\n",
    "# Anzahl != damit das in Kpetene fotografierte Gefäß nicht mit dabei ist\n",
    "\n",
    "df = pd.read_sql(sql, con)\n",
    "display(df.head())"
   ]
  },
  {
   "cell_type": "code",
   "execution_count": 28,
   "metadata": {},
   "outputs": [
    {
     "data": {
      "text/plain": [
       "Typ\n",
       "KPT        3.0\n",
       "KPT (?)    4.0\n",
       "KPT/MTB    1.0\n",
       "All        8.0\n",
       "Name: objID, dtype: float64"
      ]
     },
     "execution_count": 28,
     "metadata": {},
     "output_type": "execute_result"
    }
   ],
   "source": [
    "df.pivot_table(values = 'objID', index = 'Typ', aggfunc = len, margins = True)"
   ]
  },
  {
   "cell_type": "code",
   "execution_count": 29,
   "metadata": {},
   "outputs": [
    {
     "data": {
      "text/html": [
       "<div>\n",
       "<table border=\"1\" class=\"dataframe\">\n",
       "  <thead>\n",
       "    <tr style=\"text-align: right;\">\n",
       "      <th></th>\n",
       "      <th></th>\n",
       "      <th></th>\n",
       "      <th>Anzahl</th>\n",
       "      <th>Gewicht</th>\n",
       "    </tr>\n",
       "    <tr>\n",
       "      <th>ort_fluss</th>\n",
       "      <th>Ort</th>\n",
       "      <th>bef_nr</th>\n",
       "      <th></th>\n",
       "      <th></th>\n",
       "    </tr>\n",
       "  </thead>\n",
       "  <tbody>\n",
       "    <tr>\n",
       "      <th rowspan=\"5\" valign=\"top\">Ubangi</th>\n",
       "      <th>Balongoi (Fpl. 214)</th>\n",
       "      <th>85/101</th>\n",
       "      <td>1</td>\n",
       "      <td>581</td>\n",
       "    </tr>\n",
       "    <tr>\n",
       "      <th>Boduna (Fpl. 225)</th>\n",
       "      <th>85/101</th>\n",
       "      <td>3</td>\n",
       "      <td>242</td>\n",
       "    </tr>\n",
       "    <tr>\n",
       "      <th>Gbandami (Fpl. 226)</th>\n",
       "      <th>85/101</th>\n",
       "      <td>1</td>\n",
       "      <td>46</td>\n",
       "    </tr>\n",
       "    <tr>\n",
       "      <th>Kouango (Fpl. 229)</th>\n",
       "      <th>85/101</th>\n",
       "      <td>2</td>\n",
       "      <td>158</td>\n",
       "    </tr>\n",
       "    <tr>\n",
       "      <th>Kpetene (Fpl. 220)</th>\n",
       "      <th>85/101</th>\n",
       "      <td>1</td>\n",
       "      <td>855</td>\n",
       "    </tr>\n",
       "  </tbody>\n",
       "</table>\n",
       "</div>"
      ],
      "text/plain": [
       "                                      Anzahl  Gewicht\n",
       "ort_fluss Ort                 bef_nr                 \n",
       "Ubangi    Balongoi (Fpl. 214) 85/101       1      581\n",
       "          Boduna (Fpl. 225)   85/101       3      242\n",
       "          Gbandami (Fpl. 226) 85/101       1       46\n",
       "          Kouango (Fpl. 229)  85/101       2      158\n",
       "          Kpetene (Fpl. 220)  85/101       1      855"
      ]
     },
     "execution_count": 29,
     "metadata": {},
     "output_type": "execute_result"
    }
   ],
   "source": [
    "df_pivot = df.pivot_table(values = ['Anzahl', 'Gewicht'], index = ['ort_fluss', 'Ort', 'bef_nr'], aggfunc = np.sum)\n",
    "df_pivot = pd.DataFrame(df_pivot)\n",
    "df_pivot"
   ]
  },
  {
   "cell_type": "code",
   "execution_count": 30,
   "metadata": {},
   "outputs": [
    {
     "data": {
      "text/plain": [
       "5"
      ]
     },
     "execution_count": 30,
     "metadata": {},
     "output_type": "execute_result"
    }
   ],
   "source": [
    "len(df_pivot.index)"
   ]
  },
  {
   "cell_type": "code",
   "execution_count": 31,
   "metadata": {},
   "outputs": [
    {
     "data": {
      "text/plain": [
       "8"
      ]
     },
     "execution_count": 31,
     "metadata": {},
     "output_type": "execute_result"
    }
   ],
   "source": [
    "np.sum(df_pivot['Anzahl'])"
   ]
  },
  {
   "cell_type": "code",
   "execution_count": 32,
   "metadata": {},
   "outputs": [
    {
     "data": {
      "text/plain": [
       "1882"
      ]
     },
     "execution_count": 32,
     "metadata": {},
     "output_type": "execute_result"
    }
   ],
   "source": [
    "np.sum(df_pivot['Gewicht'])"
   ]
  },
  {
   "cell_type": "markdown",
   "metadata": {},
   "source": [
    "## Technologische Merkmale (*fabrics*)"
   ]
  },
  {
   "cell_type": "code",
   "execution_count": 33,
   "metadata": {
    "collapsed": true
   },
   "outputs": [],
   "source": [
    "sql = \"\"\"SELECT\n",
    "           t_Obj.objID,\n",
    "           't_Ort'.'ort_name' || ' (Fpl. ' || 't_ort'.'Kat-Nr' || ')' AS Ort,\n",
    "           t_Obj.Anzahl,\n",
    "           t_Obj.MagerungGröße,\n",
    "           t_Obj.MagerungArt,\n",
    "           t_Obj.MagerungDichte,\n",
    "           t_Obj.Fabric\n",
    "       FROM (t_Ort INNER JOIN t_Komplex ON t_Ort.ortID = t_Komplex.ortID)\n",
    "           INNER JOIN t_Obj ON t_Komplex.komplexID = t_Obj.komplexID\n",
    "       WHERE (((t_Obj.Fabric) != '')\n",
    "           AND ((t_Obj.Typ) Like '%KPT%'))\"\"\".replace('\\n',' ')\n",
    "\n",
    "df = pd.read_sql(sql, con)"
   ]
  },
  {
   "cell_type": "code",
   "execution_count": 34,
   "metadata": {},
   "outputs": [
    {
     "name": "stderr",
     "output_type": "stream",
     "text": [
      "C:\\Users\\Dirk\\Anaconda3\\lib\\site-packages\\ipykernel\\__main__.py:3: FutureWarning: by argument to sort_index is deprecated, pls use .sort_values(by=...)\n",
      "  app.launch_new_instance()\n"
     ]
    }
   ],
   "source": [
    "df_pivot = df.pivot_table(values = 'Anzahl', index = 'Fabric', aggfunc = sum)\n",
    "df_pivot = pd.DataFrame(df_pivot)\n",
    "df_pivot = df_pivot.sort_index(by=['Anzahl'], ascending=[False])"
   ]
  },
  {
   "cell_type": "code",
   "execution_count": 35,
   "metadata": {},
   "outputs": [
    {
     "data": {
      "text/html": [
       "<div>\n",
       "<table border=\"1\" class=\"dataframe\">\n",
       "  <thead>\n",
       "    <tr style=\"text-align: right;\">\n",
       "      <th></th>\n",
       "      <th>Anzahl</th>\n",
       "      <th>Prozent</th>\n",
       "    </tr>\n",
       "    <tr>\n",
       "      <th>Fabric</th>\n",
       "      <th></th>\n",
       "      <th></th>\n",
       "    </tr>\n",
       "  </thead>\n",
       "  <tbody>\n",
       "    <tr>\n",
       "      <th>6a</th>\n",
       "      <td>2</td>\n",
       "      <td>25.0</td>\n",
       "    </tr>\n",
       "    <tr>\n",
       "      <th>4a</th>\n",
       "      <td>1</td>\n",
       "      <td>12.5</td>\n",
       "    </tr>\n",
       "    <tr>\n",
       "      <th>5a</th>\n",
       "      <td>1</td>\n",
       "      <td>12.5</td>\n",
       "    </tr>\n",
       "    <tr>\n",
       "      <th>6b</th>\n",
       "      <td>1</td>\n",
       "      <td>12.5</td>\n",
       "    </tr>\n",
       "    <tr>\n",
       "      <th>7c</th>\n",
       "      <td>1</td>\n",
       "      <td>12.5</td>\n",
       "    </tr>\n",
       "  </tbody>\n",
       "</table>\n",
       "</div>"
      ],
      "text/plain": [
       "        Anzahl  Prozent\n",
       "Fabric                 \n",
       "6a           2     25.0\n",
       "4a           1     12.5\n",
       "5a           1     12.5\n",
       "6b           1     12.5\n",
       "7c           1     12.5"
      ]
     },
     "metadata": {},
     "output_type": "display_data"
    }
   ],
   "source": [
    "df_pivot['Prozent'] = df_pivot['Anzahl']/df_pivot['Anzahl'].sum()*100\n",
    "display(df_pivot.head())"
   ]
  },
  {
   "cell_type": "code",
   "execution_count": 36,
   "metadata": {},
   "outputs": [
    {
     "data": {
      "text/html": [
       "<div>\n",
       "<table border=\"1\" class=\"dataframe\">\n",
       "  <thead>\n",
       "    <tr style=\"text-align: right;\">\n",
       "      <th></th>\n",
       "      <th>Anzahl</th>\n",
       "      <th>Prozent</th>\n",
       "    </tr>\n",
       "  </thead>\n",
       "  <tbody>\n",
       "    <tr>\n",
       "      <th>sehr wenig</th>\n",
       "      <td>NaN</td>\n",
       "      <td>NaN</td>\n",
       "    </tr>\n",
       "    <tr>\n",
       "      <th>wenig</th>\n",
       "      <td>NaN</td>\n",
       "      <td>NaN</td>\n",
       "    </tr>\n",
       "    <tr>\n",
       "      <th>mittel</th>\n",
       "      <td>2.0</td>\n",
       "      <td>28.571429</td>\n",
       "    </tr>\n",
       "    <tr>\n",
       "      <th>viel</th>\n",
       "      <td>3.0</td>\n",
       "      <td>42.857143</td>\n",
       "    </tr>\n",
       "    <tr>\n",
       "      <th>sehr viel</th>\n",
       "      <td>2.0</td>\n",
       "      <td>28.571429</td>\n",
       "    </tr>\n",
       "  </tbody>\n",
       "</table>\n",
       "</div>"
      ],
      "text/plain": [
       "            Anzahl    Prozent\n",
       "sehr wenig     NaN        NaN\n",
       "wenig          NaN        NaN\n",
       "mittel         2.0  28.571429\n",
       "viel           3.0  42.857143\n",
       "sehr viel      2.0  28.571429"
      ]
     },
     "execution_count": 36,
     "metadata": {},
     "output_type": "execute_result"
    }
   ],
   "source": [
    "df = df.replace('<1','sehr wenig', regex=True)\n",
    "\n",
    "a = df.loc[df['MagerungDichte'] != ''] # nur Einträgen, bei denen diese Felder ausgefüllt sind\n",
    "df_pivot = a.pivot_table(values = 'Anzahl', index = 'MagerungDichte', aggfunc = sum)\n",
    "custom_dict = {'sehr wenig':0,'wenig':1,'mittel':3,'viel':4, 'sehr viel':5}\n",
    "df_pivot = pd.DataFrame(df_pivot, index=sorted(custom_dict, key=custom_dict.get))\n",
    "df_pivot['Prozent'] = df_pivot['Anzahl']/df_pivot['Anzahl'].sum()*100\n",
    "df_pivot"
   ]
  },
  {
   "cell_type": "code",
   "execution_count": 37,
   "metadata": {},
   "outputs": [
    {
     "data": {
      "text/html": [
       "<div>\n",
       "<table border=\"1\" class=\"dataframe\">\n",
       "  <thead>\n",
       "    <tr style=\"text-align: right;\">\n",
       "      <th></th>\n",
       "      <th>Anzahl</th>\n",
       "      <th>Prozent</th>\n",
       "    </tr>\n",
       "  </thead>\n",
       "  <tbody>\n",
       "    <tr>\n",
       "      <th>VF</th>\n",
       "      <td>NaN</td>\n",
       "      <td>NaN</td>\n",
       "    </tr>\n",
       "    <tr>\n",
       "      <th>F</th>\n",
       "      <td>1.0</td>\n",
       "      <td>14.285714</td>\n",
       "    </tr>\n",
       "    <tr>\n",
       "      <th>M</th>\n",
       "      <td>1.0</td>\n",
       "      <td>14.285714</td>\n",
       "    </tr>\n",
       "    <tr>\n",
       "      <th>C</th>\n",
       "      <td>3.0</td>\n",
       "      <td>42.857143</td>\n",
       "    </tr>\n",
       "    <tr>\n",
       "      <th>VC</th>\n",
       "      <td>2.0</td>\n",
       "      <td>28.571429</td>\n",
       "    </tr>\n",
       "  </tbody>\n",
       "</table>\n",
       "</div>"
      ],
      "text/plain": [
       "    Anzahl    Prozent\n",
       "VF     NaN        NaN\n",
       "F      1.0  14.285714\n",
       "M      1.0  14.285714\n",
       "C      3.0  42.857143\n",
       "VC     2.0  28.571429"
      ]
     },
     "execution_count": 37,
     "metadata": {},
     "output_type": "execute_result"
    }
   ],
   "source": [
    "df_pivot = a.pivot_table(values = 'Anzahl', index = 'MagerungGröße', aggfunc = sum)\n",
    "custom_dict = {'VF':0,'F':1,'M':3,'C':4, 'VC':5}\n",
    "df_pivot = pd.DataFrame(df_pivot, index=sorted(custom_dict, key=custom_dict.get))\n",
    "df_pivot['Prozent'] = df_pivot['Anzahl']/df_pivot['Anzahl'].sum()*100\n",
    "df_pivot"
   ]
  },
  {
   "cell_type": "code",
   "execution_count": 38,
   "metadata": {},
   "outputs": [
    {
     "name": "stderr",
     "output_type": "stream",
     "text": [
      "C:\\Users\\Dirk\\Anaconda3\\lib\\site-packages\\ipykernel\\__main__.py:3: FutureWarning: by argument to sort_index is deprecated, pls use .sort_values(by=...)\n",
      "  app.launch_new_instance()\n"
     ]
    },
    {
     "data": {
      "text/html": [
       "<div>\n",
       "<table border=\"1\" class=\"dataframe\">\n",
       "  <thead>\n",
       "    <tr style=\"text-align: right;\">\n",
       "      <th></th>\n",
       "      <th>Anzahl</th>\n",
       "      <th>Prozent</th>\n",
       "    </tr>\n",
       "    <tr>\n",
       "      <th>MagerungArt</th>\n",
       "      <th></th>\n",
       "      <th></th>\n",
       "    </tr>\n",
       "  </thead>\n",
       "  <tbody>\n",
       "    <tr>\n",
       "      <th>S/Gl</th>\n",
       "      <td>2</td>\n",
       "      <td>28.571429</td>\n",
       "    </tr>\n",
       "    <tr>\n",
       "      <th>Gl</th>\n",
       "      <td>1</td>\n",
       "      <td>14.285714</td>\n",
       "    </tr>\n",
       "    <tr>\n",
       "      <th>S/Gl/Org</th>\n",
       "      <td>1</td>\n",
       "      <td>14.285714</td>\n",
       "    </tr>\n",
       "    <tr>\n",
       "      <th>S/Gl/Schamott/Schlacke?</th>\n",
       "      <td>1</td>\n",
       "      <td>14.285714</td>\n",
       "    </tr>\n",
       "    <tr>\n",
       "      <th>S/Laterit/Schamott (?)</th>\n",
       "      <td>1</td>\n",
       "      <td>14.285714</td>\n",
       "    </tr>\n",
       "    <tr>\n",
       "      <th>S/Org</th>\n",
       "      <td>1</td>\n",
       "      <td>14.285714</td>\n",
       "    </tr>\n",
       "  </tbody>\n",
       "</table>\n",
       "</div>"
      ],
      "text/plain": [
       "                         Anzahl    Prozent\n",
       "MagerungArt                               \n",
       "S/Gl                          2  28.571429\n",
       "Gl                            1  14.285714\n",
       "S/Gl/Org                      1  14.285714\n",
       "S/Gl/Schamott/Schlacke?       1  14.285714\n",
       "S/Laterit/Schamott (?)        1  14.285714\n",
       "S/Org                         1  14.285714"
      ]
     },
     "execution_count": 38,
     "metadata": {},
     "output_type": "execute_result"
    }
   ],
   "source": [
    "df_pivot = a.pivot_table(values = 'Anzahl', index = 'MagerungArt', aggfunc = sum)\n",
    "df_pivot = pd.DataFrame(df_pivot)\n",
    "df_pivot = df_pivot.sort_index(by=['Anzahl'], ascending=[False])\n",
    "df_pivot['Prozent'] = df_pivot['Anzahl']/df_pivot['Anzahl'].sum()*100\n",
    "df_pivot"
   ]
  },
  {
   "cell_type": "markdown",
   "metadata": {},
   "source": [
    "### Brennfarbe"
   ]
  },
  {
   "cell_type": "code",
   "execution_count": 39,
   "metadata": {},
   "outputs": [
    {
     "data": {
      "text/html": [
       "<div>\n",
       "<table border=\"1\" class=\"dataframe\">\n",
       "  <thead>\n",
       "    <tr style=\"text-align: right;\">\n",
       "      <th></th>\n",
       "      <th>0</th>\n",
       "      <th>Prozent</th>\n",
       "    </tr>\n",
       "  </thead>\n",
       "  <tbody>\n",
       "    <tr>\n",
       "      <th>Rot</th>\n",
       "      <td>4</td>\n",
       "      <td>50.0</td>\n",
       "    </tr>\n",
       "    <tr>\n",
       "      <th>Sonstig</th>\n",
       "      <td>3</td>\n",
       "      <td>37.5</td>\n",
       "    </tr>\n",
       "    <tr>\n",
       "      <th>Weiß</th>\n",
       "      <td>1</td>\n",
       "      <td>12.5</td>\n",
       "    </tr>\n",
       "  </tbody>\n",
       "</table>\n",
       "</div>"
      ],
      "text/plain": [
       "         0  Prozent\n",
       "Rot      4     50.0\n",
       "Sonstig  3     37.5\n",
       "Weiß     1     12.5"
      ]
     },
     "execution_count": 39,
     "metadata": {},
     "output_type": "execute_result"
    }
   ],
   "source": [
    "sql = \"\"\"SELECT\n",
    "           t_Obj.objID,\n",
    "           [t_Obj].[Außenfarbe] || '/' || [t_Obj].[Prof_aussen] || '/' || [t_Obj].[Prof_Kern] || '/' || [t_Obj].[Prof_innen] || '/' || [t_Obj].[Innenfarbe] AS Farbe\n",
    "       FROM (t_Ort LEFT JOIN t_Komplex ON t_Ort.ortID = t_Komplex.ortID)\n",
    "           LEFT JOIN t_Obj ON t_Komplex.komplexID = t_Obj.komplexID\n",
    "       WHERE (((t_Obj.Fabric) != '')\n",
    "           AND ((t_Obj.Typ) Like '%KPT%'))\"\"\".replace('\\n',' ')\n",
    "df = pd.read_sql(sql, con)\n",
    "\n",
    "a = pd.Series({'Weiß':len(df[df['Farbe'].str.contains(\"W\")].index),\n",
    "               'Rot':len(df[df['Farbe'].str.contains(\"R\")].index),\n",
    "               'Sonstig':len(df[~df['Farbe'].str.contains(\"W|R\")].index)})\n",
    "a = pd.DataFrame(a)\n",
    "a['Prozent'] = a[0]/a[0].sum()*100\n",
    "a"
   ]
  },
  {
   "cell_type": "code",
   "execution_count": 40,
   "metadata": {},
   "outputs": [
    {
     "data": {
      "image/png": "[encoded data removed]",
      "text/plain": [
       "<matplotlib.figure.Figure at 0x277c199c438>"
      ]
     },
     "metadata": {},
     "output_type": "display_data"
    }
   ],
   "source": [
    "a.plot(y = 'Prozent', kind = 'bar', legend = None, color = 'grey')\n",
    "plt.xticks(rotation=0)\n",
    "plt.ylabel('Anteil [%]')\n",
    "plt.show()"
   ]
  },
  {
   "cell_type": "markdown",
   "metadata": {},
   "source": [
    "### Oberfläche der Scherben"
   ]
  },
  {
   "cell_type": "code",
   "execution_count": 41,
   "metadata": {},
   "outputs": [
    {
     "name": "stderr",
     "output_type": "stream",
     "text": [
      "C:\\Users\\Dirk\\Anaconda3\\lib\\site-packages\\ipykernel\\__main__.py:13: FutureWarning: convert_objects is deprecated.  Use the data-type specific converters pd.to_datetime, pd.to_timedelta and pd.to_numeric.\n"
     ]
    },
    {
     "data": {
      "text/html": [
       "<div>\n",
       "<table border=\"1\" class=\"dataframe\">\n",
       "  <thead>\n",
       "    <tr style=\"text-align: right;\">\n",
       "      <th></th>\n",
       "      <th>Anzahl</th>\n",
       "      <th>Prozent</th>\n",
       "    </tr>\n",
       "    <tr>\n",
       "      <th>Obfl</th>\n",
       "      <th></th>\n",
       "      <th></th>\n",
       "    </tr>\n",
       "  </thead>\n",
       "  <tbody>\n",
       "    <tr>\n",
       "      <th>außen glatt/innen rau</th>\n",
       "      <td>1</td>\n",
       "      <td>14.285714</td>\n",
       "    </tr>\n",
       "    <tr>\n",
       "      <th>glatt</th>\n",
       "      <td>4</td>\n",
       "      <td>57.142857</td>\n",
       "    </tr>\n",
       "    <tr>\n",
       "      <th>leicht rau</th>\n",
       "      <td>1</td>\n",
       "      <td>14.285714</td>\n",
       "    </tr>\n",
       "    <tr>\n",
       "      <th>rau</th>\n",
       "      <td>1</td>\n",
       "      <td>14.285714</td>\n",
       "    </tr>\n",
       "  </tbody>\n",
       "</table>\n",
       "</div>"
      ],
      "text/plain": [
       "                       Anzahl    Prozent\n",
       "Obfl                                    \n",
       "außen glatt/innen rau       1  14.285714\n",
       "glatt                       4  57.142857\n",
       "leicht rau                  1  14.285714\n",
       "rau                         1  14.285714"
      ]
     },
     "execution_count": 41,
     "metadata": {},
     "output_type": "execute_result"
    }
   ],
   "source": [
    "sql = \"\"\"SELECT\n",
    "           t_Obj.objID,\n",
    "           t_Obj.Anzahl,\n",
    "           t_Obj.Obfl,\n",
    "           t_Obj.Fabric\n",
    "       FROM (t_Ort INNER JOIN t_Komplex ON t_Ort.ortID = t_Komplex.ortID)\n",
    "           INNER JOIN t_Obj ON t_Komplex.komplexID = t_Obj.komplexID\n",
    "       WHERE (((t_Obj.Obfl) != '')\n",
    "           AND ((t_Obj.Typ) LIKE '%KPT%'))\"\"\".replace('\\n',' ')\n",
    "\n",
    "df = pd.read_sql(sql, con)\n",
    "\n",
    "df['Anzahl'] = df['Anzahl'].convert_objects(convert_numeric=True)\n",
    "df_pivot = df.pivot_table(values = 'Anzahl', index = 'Obfl', aggfunc = sum)\n",
    "df_pivot = pd.DataFrame(df_pivot)\n",
    "df_pivot['Prozent'] = df_pivot['Anzahl']/df_pivot['Anzahl'].sum()*100\n",
    "df_pivot"
   ]
  },
  {
   "cell_type": "markdown",
   "metadata": {},
   "source": [
    "### Wandungsdicke"
   ]
  },
  {
   "cell_type": "code",
   "execution_count": 42,
   "metadata": {},
   "outputs": [
    {
     "name": "stderr",
     "output_type": "stream",
     "text": [
      "C:\\Users\\Dirk\\Anaconda3\\lib\\site-packages\\ipykernel\\__main__.py:11: FutureWarning: convert_objects is deprecated.  Use the data-type specific converters pd.to_datetime, pd.to_timedelta and pd.to_numeric.\n"
     ]
    },
    {
     "data": {
      "image/png": "[encoded data removed]",
      "text/plain": [
       "<matplotlib.figure.Figure at 0x277c19a0320>"
      ]
     },
     "metadata": {},
     "output_type": "display_data"
    }
   ],
   "source": [
    "sql = \"\"\"SELECT\n",
    "           t_Obj.objID,\n",
    "           t_Obj.Wandung \n",
    "       FROM (t_Ort INNER JOIN t_Komplex ON t_Ort.ortID = t_Komplex.ortID)\n",
    "           INNER JOIN t_Obj ON t_Komplex.komplexID = t_Obj.komplexID\n",
    "       WHERE (((t_Obj.Obfl) != '')\n",
    "           AND ((t_Obj.Typ) LIKE '%KPT%'))\"\"\".replace('\\n',' ')\n",
    "\n",
    "df = pd.read_sql(sql, con)\n",
    "\n",
    "df['Wandung'] = df['Wandung'].convert_objects(convert_numeric=True)\n",
    "\n",
    "# Spannweite ermitteln und als bins nutzen\n",
    "bins = df['Wandung'].max() - df['Wandung'].min()\n",
    "\n",
    "mean = df['Wandung'].mean()\n",
    "\n",
    "df['Wandung'].hist(bins = bins, color = 'grey', histtype='stepfilled')\n",
    "plt.axvline(mean, color = 'black', ls = 'dashed', lw = 2.5)\n",
    "plt.xlabel(\"Dicke [mm]\")\n",
    "plt.ylabel(\"Anzahl\")\n",
    "plt.xlim([df['Wandung'].min()-1,df['Wandung'].max()+1])\n",
    "legend = plt.legend([\"Mittelwert\"])\n",
    "legend.get_frame().set_facecolor('white')\n",
    "plt.tight_layout()"
   ]
  },
  {
   "cell_type": "code",
   "execution_count": 43,
   "metadata": {},
   "outputs": [
    {
     "data": {
      "text/plain": [
       "count     7.000000\n",
       "mean      8.285714\n",
       "std       1.799471\n",
       "min       7.000000\n",
       "25%       7.000000\n",
       "50%       8.000000\n",
       "75%       8.500000\n",
       "max      12.000000\n",
       "Name: Wandung, dtype: float64"
      ]
     },
     "execution_count": 43,
     "metadata": {},
     "output_type": "execute_result"
    }
   ],
   "source": [
    "df['Wandung'].describe()"
   ]
  },
  {
   "cell_type": "code",
   "execution_count": 44,
   "metadata": {},
   "outputs": [
    {
     "data": {
      "text/plain": [
       "3.2380952380952377"
      ]
     },
     "execution_count": 44,
     "metadata": {},
     "output_type": "execute_result"
    }
   ],
   "source": [
    "df['Wandung'].var()"
   ]
  },
  {
   "cell_type": "markdown",
   "metadata": {},
   "source": [
    "### Scherbentypen"
   ]
  },
  {
   "cell_type": "code",
   "execution_count": 45,
   "metadata": {},
   "outputs": [
    {
     "data": {
      "text/html": [
       "<div>\n",
       "<table border=\"1\" class=\"dataframe\">\n",
       "  <thead>\n",
       "    <tr style=\"text-align: right;\">\n",
       "      <th></th>\n",
       "      <th>objID</th>\n",
       "      <th>Scherbe</th>\n",
       "      <th>Anzahl</th>\n",
       "    </tr>\n",
       "  </thead>\n",
       "  <tbody>\n",
       "    <tr>\n",
       "      <th>0</th>\n",
       "      <td>39</td>\n",
       "      <td>W</td>\n",
       "      <td>1</td>\n",
       "    </tr>\n",
       "    <tr>\n",
       "      <th>1</th>\n",
       "      <td>185</td>\n",
       "      <td>W</td>\n",
       "      <td>1</td>\n",
       "    </tr>\n",
       "    <tr>\n",
       "      <th>2</th>\n",
       "      <td>5464</td>\n",
       "      <td>R</td>\n",
       "      <td>1</td>\n",
       "    </tr>\n",
       "    <tr>\n",
       "      <th>3</th>\n",
       "      <td>5465</td>\n",
       "      <td>W</td>\n",
       "      <td>1</td>\n",
       "    </tr>\n",
       "    <tr>\n",
       "      <th>4</th>\n",
       "      <td>5519</td>\n",
       "      <td>R</td>\n",
       "      <td>1</td>\n",
       "    </tr>\n",
       "    <tr>\n",
       "      <th>5</th>\n",
       "      <td>5940</td>\n",
       "      <td>W</td>\n",
       "      <td>1</td>\n",
       "    </tr>\n",
       "    <tr>\n",
       "      <th>6</th>\n",
       "      <td>5942</td>\n",
       "      <td>R</td>\n",
       "      <td>1</td>\n",
       "    </tr>\n",
       "    <tr>\n",
       "      <th>7</th>\n",
       "      <td>5949</td>\n",
       "      <td>W</td>\n",
       "      <td>1</td>\n",
       "    </tr>\n",
       "  </tbody>\n",
       "</table>\n",
       "</div>"
      ],
      "text/plain": [
       "   objID Scherbe  Anzahl\n",
       "0     39       W       1\n",
       "1    185       W       1\n",
       "2   5464       R       1\n",
       "3   5465       W       1\n",
       "4   5519       R       1\n",
       "5   5940       W       1\n",
       "6   5942       R       1\n",
       "7   5949       W       1"
      ]
     },
     "execution_count": 45,
     "metadata": {},
     "output_type": "execute_result"
    }
   ],
   "source": [
    "sql = \"\"\"SELECT\n",
    "           t_Obj.objID,\n",
    "           t_Obj.Scherbe,\n",
    "           t_Obj.Anzahl\n",
    "       FROM (t_Ort INNER JOIN t_Komplex ON t_Ort.ortID = t_Komplex.ortID)\n",
    "           INNER JOIN t_Obj ON t_Komplex.komplexID = t_Obj.komplexID\n",
    "       WHERE (((t_Ort.ort_lit)='DS')\n",
    "           AND ((t_Obj.Typ) Like '%KPT%')\n",
    "           AND ((t_Obj.Art) = 'K')\n",
    "           AND ((t_obj.Anzahl) != ''))\"\"\".replace('\\n',' ')\n",
    "\n",
    "df = pd.read_sql(sql, con)\n",
    "#display(df.head())\n",
    "df"
   ]
  },
  {
   "cell_type": "code",
   "execution_count": 46,
   "metadata": {},
   "outputs": [
    {
     "data": {
      "text/plain": [
       "Scherbe\n",
       "R    3\n",
       "W    5\n",
       "Name: Anzahl, dtype: int64"
      ]
     },
     "execution_count": 46,
     "metadata": {},
     "output_type": "execute_result"
    }
   ],
   "source": [
    "df_pivot = df.pivot_table(values = 'Anzahl', index = 'Scherbe', aggfunc = np.sum)\n",
    "df_pivot"
   ]
  },
  {
   "cell_type": "code",
   "execution_count": 47,
   "metadata": {},
   "outputs": [
    {
     "data": {
      "text/html": [
       "<div>\n",
       "<table border=\"1\" class=\"dataframe\">\n",
       "  <thead>\n",
       "    <tr style=\"text-align: right;\">\n",
       "      <th></th>\n",
       "      <th>Anzahl</th>\n",
       "      <th>Prozent</th>\n",
       "    </tr>\n",
       "  </thead>\n",
       "  <tbody>\n",
       "    <tr>\n",
       "      <th>G</th>\n",
       "      <td>NaN</td>\n",
       "      <td>NaN</td>\n",
       "    </tr>\n",
       "    <tr>\n",
       "      <th>R</th>\n",
       "      <td>3.0</td>\n",
       "      <td>37.5</td>\n",
       "    </tr>\n",
       "    <tr>\n",
       "      <th>W</th>\n",
       "      <td>5.0</td>\n",
       "      <td>62.5</td>\n",
       "    </tr>\n",
       "    <tr>\n",
       "      <th>B</th>\n",
       "      <td>NaN</td>\n",
       "      <td>NaN</td>\n",
       "    </tr>\n",
       "  </tbody>\n",
       "</table>\n",
       "</div>"
      ],
      "text/plain": [
       "   Anzahl  Prozent\n",
       "G     NaN      NaN\n",
       "R     3.0     37.5\n",
       "W     5.0     62.5\n",
       "B     NaN      NaN"
      ]
     },
     "execution_count": 47,
     "metadata": {},
     "output_type": "execute_result"
    }
   ],
   "source": [
    "df_pivot = df.pivot_table(values = 'Anzahl', index = 'Scherbe', aggfunc = np.sum)\n",
    "custom_dict = {'G':0,'R':1,'W':3,'B':4}\n",
    "df_pivot = pd.DataFrame(df_pivot, index=sorted(custom_dict, key=custom_dict.get))\n",
    "df_pivot['Prozent'] = df_pivot['Anzahl']/df_pivot['Anzahl'].sum()*100\n",
    "df_pivot"
   ]
  },
  {
   "cell_type": "code",
   "execution_count": 48,
   "metadata": {},
   "outputs": [
    {
     "data": {
      "image/png": "[encoded data removed]",
      "text/plain": [
       "<matplotlib.figure.Figure at 0x277c19811d0>"
      ]
     },
     "metadata": {},
     "output_type": "display_data"
    }
   ],
   "source": [
    "df_pivot.plot(y = 'Prozent', kind = 'bar', legend = None, color = 'grey')\n",
    "plt.xticks(rotation=0)\n",
    "plt.xlabel('Scherbentypen')\n",
    "plt.ylabel('Anteil [%]')\n",
    "plt.show()"
   ]
  },
  {
   "cell_type": "markdown",
   "metadata": {},
   "source": [
    "## Gefäßformen"
   ]
  },
  {
   "cell_type": "code",
   "execution_count": 49,
   "metadata": {
    "collapsed": true
   },
   "outputs": [],
   "source": [
    "sql = \"\"\"SELECT\n",
    "           t_Ort.ort_kurz,\n",
    "           t_Ort.ort_name,\n",
    "           t_Obj.objID,\n",
    "           t_Obj.Typ,\n",
    "           t_Obj.Form_Gef\n",
    "       FROM (t_Ort INNER JOIN t_Komplex ON t_Ort.ortID = t_Komplex.ortID)\n",
    "           INNER JOIN t_Obj ON t_Komplex.komplexID = t_Obj.komplexID\n",
    "       WHERE (((t_Ort.ort_lit)='DS')\n",
    "           AND ((t_Obj.Typ) Like '%KPT%')\n",
    "           AND ((t_Obj.Form_Gef) != ''))\"\"\".replace('\\n',' ')\n",
    "\n",
    "df = pd.read_sql(sql, con)\n",
    "# display(df.head())"
   ]
  },
  {
   "cell_type": "code",
   "execution_count": 50,
   "metadata": {},
   "outputs": [
    {
     "name": "stderr",
     "output_type": "stream",
     "text": [
      "C:\\Users\\Dirk\\Anaconda3\\lib\\site-packages\\ipykernel\\__main__.py:3: FutureWarning: by argument to sort_index is deprecated, pls use .sort_values(by=...)\n",
      "  app.launch_new_instance()\n"
     ]
    }
   ],
   "source": [
    "df_pivot = df.pivot_table(values = 'objID', index = 'Form_Gef', aggfunc = len)\n",
    "df_pivot = pd.DataFrame(df_pivot)\n",
    "df_pivot = df_pivot.sort_index(by = ['objID'], ascending = True)\n",
    "# display(df_pivot.head())"
   ]
  },
  {
   "cell_type": "code",
   "execution_count": 51,
   "metadata": {},
   "outputs": [
    {
     "data": {
      "text/plain": [
       "6"
      ]
     },
     "execution_count": 51,
     "metadata": {},
     "output_type": "execute_result"
    }
   ],
   "source": [
    "df_pivot['objID'].sum()"
   ]
  },
  {
   "cell_type": "code",
   "execution_count": 52,
   "metadata": {},
   "outputs": [
    {
     "data": {
      "text/html": [
       "<div>\n",
       "<table border=\"1\" class=\"dataframe\">\n",
       "  <thead>\n",
       "    <tr style=\"text-align: right;\">\n",
       "      <th></th>\n",
       "      <th>0</th>\n",
       "      <th>Prozent</th>\n",
       "    </tr>\n",
       "  </thead>\n",
       "  <tbody>\n",
       "    <tr>\n",
       "      <th>fraglich</th>\n",
       "      <td>3</td>\n",
       "      <td>50.0</td>\n",
       "    </tr>\n",
       "    <tr>\n",
       "      <th>sicher</th>\n",
       "      <td>3</td>\n",
       "      <td>50.0</td>\n",
       "    </tr>\n",
       "  </tbody>\n",
       "</table>\n",
       "</div>"
      ],
      "text/plain": [
       "          0  Prozent\n",
       "fraglich  3     50.0\n",
       "sicher    3     50.0"
      ]
     },
     "execution_count": 52,
     "metadata": {},
     "output_type": "execute_result"
    }
   ],
   "source": [
    "df_pivot['GefForm'] = df_pivot.index\n",
    "a = pd.Series({'sicher':sum(df_pivot['objID'].loc[~df_pivot['GefForm'].str.contains(\" \")]),\n",
    "               'fraglich':sum(df_pivot['objID'].loc[df_pivot['GefForm'].str.contains(\" \")])})\n",
    "a = pd.DataFrame(a)\n",
    "a['Prozent'] = a[0]/a[0].sum()*100\n",
    "a"
   ]
  },
  {
   "cell_type": "code",
   "execution_count": 53,
   "metadata": {},
   "outputs": [
    {
     "data": {
      "text/plain": [
       "<matplotlib.text.Text at 0x277c1bb0898>"
      ]
     },
     "execution_count": 53,
     "metadata": {},
     "output_type": "execute_result"
    },
    {
     "data": {
      "image/png": "[encoded data removed]",
      "text/plain": [
       "<matplotlib.figure.Figure at 0x277c1e4b978>"
      ]
     },
     "metadata": {},
     "output_type": "display_data"
    }
   ],
   "source": [
    "fig = plt.figure()\n",
    "fig.set_size_inches(5, 5)\n",
    "df_pivot['objID'].plot(kind='pie', autopct='%.0f %%', cmap = 'Paired')\n",
    "plt.ylabel('')"
   ]
  },
  {
   "cell_type": "markdown",
   "metadata": {},
   "source": [
    "## Bauchform"
   ]
  },
  {
   "cell_type": "code",
   "execution_count": 54,
   "metadata": {
    "collapsed": true
   },
   "outputs": [],
   "source": [
    "sql = \"\"\"SELECT\n",
    "           t_Ort.ort_kurz,\n",
    "           t_Ort.ort_name,\n",
    "           t_Obj.objID,\n",
    "           t_Obj.Typ,\n",
    "           t_Obj.Form_Gef,\n",
    "           t_Obj.Form_Bauch\n",
    "       FROM (t_Ort INNER JOIN t_Komplex ON t_Ort.ortID = t_Komplex.ortID)\n",
    "           INNER JOIN t_Obj ON t_Komplex.komplexID = t_Obj.komplexID\n",
    "       WHERE (((t_Ort.ort_lit)='DS')\n",
    "           AND ((t_Obj.Typ) Like '%KPT%')\n",
    "           AND ((t_Obj.Form_Bauch) != '')\n",
    "           AND ((t_Obj.Anzahl) = 1))\"\"\".replace('\\n',' ')\n",
    "\n",
    "df = pd.read_sql(sql, con)\n",
    "\n",
    "# die Fragezeichen bei Gef-Form & Bauch-Form einfach löschen\n",
    "#df['Form_Gef'] = df['Form_Gef'].map(lambda x: x.rstrip(' (?)'))\n",
    "#df['Form_Bauch'] = df['Form_Bauch'].map(lambda x: x.rstrip(' (?)'))\n",
    "\n",
    "#display(df.head())"
   ]
  },
  {
   "cell_type": "code",
   "execution_count": 55,
   "metadata": {},
   "outputs": [
    {
     "name": "stderr",
     "output_type": "stream",
     "text": [
      "C:\\Users\\Dirk\\Anaconda3\\lib\\site-packages\\ipykernel\\__main__.py:4: FutureWarning: by argument to sort_index is deprecated, pls use .sort_values(by=...)\n"
     ]
    },
    {
     "data": {
      "text/html": [
       "<div>\n",
       "<table border=\"1\" class=\"dataframe\">\n",
       "  <thead>\n",
       "    <tr style=\"text-align: right;\">\n",
       "      <th></th>\n",
       "      <th>objID</th>\n",
       "      <th>Prozent</th>\n",
       "    </tr>\n",
       "    <tr>\n",
       "      <th>Form_Bauch</th>\n",
       "      <th></th>\n",
       "      <th></th>\n",
       "    </tr>\n",
       "  </thead>\n",
       "  <tbody>\n",
       "    <tr>\n",
       "      <th>A1</th>\n",
       "      <td>7</td>\n",
       "      <td>87.5</td>\n",
       "    </tr>\n",
       "    <tr>\n",
       "      <th>A1 (?)</th>\n",
       "      <td>1</td>\n",
       "      <td>12.5</td>\n",
       "    </tr>\n",
       "  </tbody>\n",
       "</table>\n",
       "</div>"
      ],
      "text/plain": [
       "            objID  Prozent\n",
       "Form_Bauch                \n",
       "A1              7     87.5\n",
       "A1 (?)          1     12.5"
      ]
     },
     "execution_count": 55,
     "metadata": {},
     "output_type": "execute_result"
    }
   ],
   "source": [
    "df_pivot = df.pivot_table(values = 'objID', index = 'Form_Bauch', aggfunc = len)\n",
    "df_pivot = pd.DataFrame(df_pivot)\n",
    "# Sortierung in Aufsteigend ändern\n",
    "df_pivot = df_pivot.sort_index(by = ['objID'], ascending=False)\n",
    "# Prozent-Anteil errechnen\n",
    "df_pivot['Prozent'] = df_pivot['objID']/df_pivot['objID'].sum()*100\n",
    "df_pivot"
   ]
  },
  {
   "cell_type": "markdown",
   "metadata": {},
   "source": [
    "## Mündungs- und Randformen"
   ]
  },
  {
   "cell_type": "code",
   "execution_count": 56,
   "metadata": {
    "collapsed": true
   },
   "outputs": [],
   "source": [
    "sql = \"\"\"SELECT\n",
    "           t_Ort.ort_kurz,\n",
    "           t_Ort.ort_name,\n",
    "           t_Obj.objID,\n",
    "           t_Obj.Typ,\n",
    "           t_Obj.Form_Mdg,\n",
    "           t_Obj.Form_Rand,\n",
    "           t_Obj.Form_Hals,\n",
    "           t_Obj.Form_Schulter,\n",
    "           t_Obj.Form_Gef\n",
    "       FROM (t_Ort INNER JOIN t_Komplex ON t_Ort.ortID = t_Komplex.ortID)\n",
    "           INNER JOIN t_Obj ON t_Komplex.komplexID = t_Obj.komplexID\n",
    "       WHERE (((t_Ort.ort_lit)='DS')\n",
    "           AND ((t_Obj.Typ) Like '%KPT%')\n",
    "           AND ((t_Obj.Anzahl) = 1))\"\"\".replace('\\n',' ')\n",
    "\n",
    "df = pd.read_sql(sql, con)\n",
    "# leere Werte in NaN ändern\n",
    "df = df.replace('',np.nan, regex=True)\n",
    "# display(df.head())"
   ]
  },
  {
   "cell_type": "code",
   "execution_count": 57,
   "metadata": {},
   "outputs": [
    {
     "name": "stderr",
     "output_type": "stream",
     "text": [
      "C:\\Users\\Dirk\\Anaconda3\\lib\\site-packages\\ipykernel\\__main__.py:5: FutureWarning: by argument to sort_index is deprecated, pls use .sort_values(by=...)\n"
     ]
    },
    {
     "data": {
      "text/html": [
       "<div>\n",
       "<table border=\"1\" class=\"dataframe\">\n",
       "  <thead>\n",
       "    <tr style=\"text-align: right;\">\n",
       "      <th></th>\n",
       "      <th>objID</th>\n",
       "      <th>Prozent</th>\n",
       "    </tr>\n",
       "    <tr>\n",
       "      <th>Form_Mdg</th>\n",
       "      <th></th>\n",
       "      <th></th>\n",
       "    </tr>\n",
       "  </thead>\n",
       "  <tbody>\n",
       "    <tr>\n",
       "      <th>M4/M6</th>\n",
       "      <td>2</td>\n",
       "      <td>40.0</td>\n",
       "    </tr>\n",
       "    <tr>\n",
       "      <th>M6</th>\n",
       "      <td>2</td>\n",
       "      <td>40.0</td>\n",
       "    </tr>\n",
       "    <tr>\n",
       "      <th>M3</th>\n",
       "      <td>1</td>\n",
       "      <td>20.0</td>\n",
       "    </tr>\n",
       "  </tbody>\n",
       "</table>\n",
       "</div>"
      ],
      "text/plain": [
       "          objID  Prozent\n",
       "Form_Mdg                \n",
       "M4/M6         2     40.0\n",
       "M6            2     40.0\n",
       "M3            1     20.0"
      ]
     },
     "execution_count": 57,
     "metadata": {},
     "output_type": "execute_result"
    }
   ],
   "source": [
    "# Zeilen ohne Mdg löschen\n",
    "df_pivot = df.pivot_table(values = 'objID', index = 'Form_Mdg', aggfunc = len)\n",
    "df_pivot = pd.DataFrame(df_pivot)\n",
    "# Sortierung in Aufsteigend ändern\n",
    "df_pivot = df_pivot.sort_index(by = ['objID'], ascending=False)\n",
    "# Prozent-Anteil errechnen\n",
    "df_pivot['Prozent'] = df_pivot['objID']/df_pivot['objID'].sum()*100\n",
    "df_pivot"
   ]
  },
  {
   "cell_type": "code",
   "execution_count": 58,
   "metadata": {},
   "outputs": [
    {
     "data": {
      "text/plain": [
       "3"
      ]
     },
     "execution_count": 58,
     "metadata": {},
     "output_type": "execute_result"
    }
   ],
   "source": [
    "len(df_pivot['objID'])    # Anzahl beobachtete Randformen"
   ]
  },
  {
   "cell_type": "code",
   "execution_count": 59,
   "metadata": {},
   "outputs": [
    {
     "name": "stderr",
     "output_type": "stream",
     "text": [
      "C:\\Users\\Dirk\\Anaconda3\\lib\\site-packages\\ipykernel\\__main__.py:5: FutureWarning: by argument to sort_index is deprecated, pls use .sort_values(by=...)\n"
     ]
    },
    {
     "data": {
      "text/html": [
       "<div>\n",
       "<table border=\"1\" class=\"dataframe\">\n",
       "  <thead>\n",
       "    <tr style=\"text-align: right;\">\n",
       "      <th></th>\n",
       "      <th>objID</th>\n",
       "      <th>Prozent</th>\n",
       "    </tr>\n",
       "    <tr>\n",
       "      <th>Form_Rand</th>\n",
       "      <th></th>\n",
       "      <th></th>\n",
       "    </tr>\n",
       "  </thead>\n",
       "  <tbody>\n",
       "    <tr>\n",
       "      <th>C3</th>\n",
       "      <td>4</td>\n",
       "      <td>66.666667</td>\n",
       "    </tr>\n",
       "    <tr>\n",
       "      <th>B1 (?)</th>\n",
       "      <td>1</td>\n",
       "      <td>16.666667</td>\n",
       "    </tr>\n",
       "    <tr>\n",
       "      <th>C1</th>\n",
       "      <td>1</td>\n",
       "      <td>16.666667</td>\n",
       "    </tr>\n",
       "  </tbody>\n",
       "</table>\n",
       "</div>"
      ],
      "text/plain": [
       "           objID    Prozent\n",
       "Form_Rand                  \n",
       "C3             4  66.666667\n",
       "B1 (?)         1  16.666667\n",
       "C1             1  16.666667"
      ]
     },
     "metadata": {},
     "output_type": "display_data"
    }
   ],
   "source": [
    "# Zeilen ohne Mdg löschen\n",
    "df_pivot = df.pivot_table(values = 'objID', index = 'Form_Rand', aggfunc = len)\n",
    "df_pivot = pd.DataFrame(df_pivot)\n",
    "# Sortierung in Aufsteigend ändern\n",
    "df_pivot = df_pivot.sort_index(by = ['objID'], ascending=False)\n",
    "# Prozent-Anteil errechnen\n",
    "df_pivot['Prozent'] = df_pivot['objID']/df_pivot['objID'].sum()*100\n",
    "display(df_pivot.head())"
   ]
  },
  {
   "cell_type": "code",
   "execution_count": 60,
   "metadata": {},
   "outputs": [
    {
     "data": {
      "text/plain": [
       "<matplotlib.text.Text at 0x277c1c584e0>"
      ]
     },
     "execution_count": 60,
     "metadata": {},
     "output_type": "execute_result"
    },
    {
     "data": {
      "image/png": "[encoded data removed]",
      "text/plain": [
       "<matplotlib.figure.Figure at 0x277c1c3a908>"
      ]
     },
     "metadata": {},
     "output_type": "display_data"
    }
   ],
   "source": [
    "fig = plt.figure()\n",
    "fig.set_size_inches(5, 5)\n",
    "df_pivot['objID'].plot(kind='pie', autopct='%.0f %%', cmap = 'Paired')\n",
    "plt.ylabel('')"
   ]
  },
  {
   "cell_type": "markdown",
   "metadata": {},
   "source": [
    "## Bodenformen"
   ]
  },
  {
   "cell_type": "code",
   "execution_count": 61,
   "metadata": {},
   "outputs": [
    {
     "data": {
      "text/html": [
       "<div>\n",
       "<table border=\"1\" class=\"dataframe\">\n",
       "  <thead>\n",
       "    <tr style=\"text-align: right;\">\n",
       "      <th></th>\n",
       "      <th>ort_kurz</th>\n",
       "      <th>ort_name</th>\n",
       "      <th>objID</th>\n",
       "      <th>Typ</th>\n",
       "      <th>Form_Gef</th>\n",
       "      <th>Form_Boden</th>\n",
       "    </tr>\n",
       "  </thead>\n",
       "  <tbody>\n",
       "    <tr>\n",
       "      <th>0</th>\n",
       "      <td>KPT</td>\n",
       "      <td>Kpetene</td>\n",
       "      <td>185</td>\n",
       "      <td>KPT</td>\n",
       "      <td>H1</td>\n",
       "      <td>B1/B3</td>\n",
       "    </tr>\n",
       "  </tbody>\n",
       "</table>\n",
       "</div>"
      ],
      "text/plain": [
       "  ort_kurz ort_name  objID  Typ Form_Gef Form_Boden\n",
       "0      KPT  Kpetene    185  KPT       H1      B1/B3"
      ]
     },
     "execution_count": 61,
     "metadata": {},
     "output_type": "execute_result"
    }
   ],
   "source": [
    "sql = \"\"\"SELECT\n",
    "           t_Ort.ort_kurz,\n",
    "           t_Ort.ort_name,\n",
    "           t_Obj.objID,\n",
    "           t_Obj.Typ,\n",
    "           t_Obj.Form_Gef,\n",
    "           t_Obj.Form_Boden\n",
    "       FROM (t_Ort INNER JOIN t_Komplex ON t_Ort.ortID = t_Komplex.ortID)\n",
    "           INNER JOIN t_Obj ON t_Komplex.komplexID = t_Obj.komplexID\n",
    "       WHERE (((t_Ort.ort_lit)='DS')\n",
    "           AND ((t_Obj.Typ) Like '%KPT%')\n",
    "           AND ((t_Obj.Anzahl) = 1)\n",
    "           AND ((t_Obj.Form_Boden) != ''))\"\"\".replace('\\n',' ')\n",
    "\n",
    "df = pd.read_sql(sql, con)\n",
    "df"
   ]
  },
  {
   "cell_type": "markdown",
   "metadata": {},
   "source": [
    "## Verzierungselemente"
   ]
  },
  {
   "cell_type": "code",
   "execution_count": 2,
   "metadata": {},
   "outputs": [
    {
     "name": "stderr",
     "output_type": "stream",
     "text": [
      "C:\\Users\\Dirk\\Dropbox\\Dissertation\\Python\\myfunctions.py:66: SettingWithCopyWarning: \n",
      "A value is trying to be set on a copy of a slice from a DataFrame.\n",
      "Try using .loc[row_indexer,col_indexer] = value instead\n",
      "\n",
      "See the caveats in the documentation: http://pandas.pydata.org/pandas-docs/stable/indexing.html#indexing-view-versus-copy\n",
      "  df1['n'] = 1\n",
      "C:\\Users\\Dirk\\Dropbox\\Dissertation\\Python\\myfunctions.py:88: FutureWarning: convert_objects is deprecated.  Use the data-type specific converters pd.to_datetime, pd.to_timedelta and pd.to_numeric.\n",
      "  ab[1] = ab[1].convert_objects(convert_numeric=True)\n"
     ]
    }
   ],
   "source": [
    "(df_pivotBig_perc, df_pivotBig_perc_a, new_cmap) = decoration_positon_matrices_print(style)"
   ]
  },
  {
   "cell_type": "code",
   "execution_count": 3,
   "metadata": {},
   "outputs": [
    {
     "data": {
      "image/png": "[encoded data removed]",
      "text/plain": [
       "<matplotlib.figure.Figure at 0x171ad926320>"
      ]
     },
     "metadata": {},
     "output_type": "display_data"
    }
   ],
   "source": [
    "fig = plt.figure()\n",
    "fig.set_size_inches(25, 15)\n",
    "\n",
    "ax = plt.gca()\n",
    "im = ax.imshow(df_pivotBig_perc, interpolation='nearest', cmap=parula_map, alpha=.66)\n",
    "\n",
    "plt.xlabel('Verzierungselemente (Schlüssel)')\n",
    "plt.yticks(range(len(df_pivotBig_perc.index)), df_pivotBig_perc.index.str[2:])\n",
    "plt.xticks(range(len(df_pivotBig_perc.columns)), df_pivotBig_perc.columns, rotation = -45)\n",
    "\n",
    "for (i, j), z in np.ndenumerate(df_pivotBig_perc_a):\n",
    "    plt.text(j, i, z, ha='center', va='center')\n",
    "    \n",
    "plt.axvline(10.5, color='grey', linestyle = '--')\n",
    "plt.axvline(17.5, color='grey', linestyle = '--')\n",
    "plt.axvline(18.5, color='grey', linestyle = '--')\n",
    "plt.axvline(20.5, color='grey', linestyle = '--')\n",
    "plt.axvline(43.5, color='grey', linestyle = '--')\n",
    "plt.axvline(44.5, color='grey', linestyle = '--')\n",
    "plt.axvline(57.5, color='grey', linestyle = '--')\n",
    "plt.axvline(61.5, color='grey', linestyle = '--')\n",
    "plt.axvline(70.5, color='grey', linestyle = '--')\n",
    "\n",
    "divider = make_axes_locatable(ax)\n",
    "cax = divider.append_axes(\"right\", size=\"1%\", pad=0.2)\n",
    "cbar = plt.colorbar(im, cax=cax)\n",
    "cbar.set_label('Anteil (%)', rotation = -90, labelpad = 15)\n",
    "\n",
    "plt.tight_layout()\n",
    "\n",
    "plt.savefig('../output/figs/3-1-1-8_Kpetene_VerzierungselmenteAlle.pdf', bbox_inches='tight')\n",
    "plt.show()"
   ]
  },
  {
   "cell_type": "code",
   "execution_count": 64,
   "metadata": {
    "collapsed": true
   },
   "outputs": [],
   "source": [
    "sql = \"\"\"SELECT\n",
    "           t_Obj.objID,\n",
    "           t_K_Pos.posID,\n",
    "           t_K_Verz.verzID,\n",
    "           [t_K_Pos].[posReihe] || ' ' || [posName] AS pos,\n",
    "           t_K_Verz.verzName,\n",
    "           t_K_Verz.verzName_alt,\n",
    "           t_K_Verz.verzBeschr,\n",
    "           t_Obj.Typ,\n",
    "           t_Obj.Form_Gef\n",
    "       FROM t_Obj INNER JOIN \"t_ObjPosVerz\" ON t_Obj.objID = \"t_ObjPosVerz\".objID\n",
    "           INNER JOIN t_K_Pos ON \"t_ObjPosVerz\".posID = t_K_Pos.posID\n",
    "           INNER JOIN t_K_Verz ON \"t_ObjPosVerz\".verzID = t_K_Verz.verzID\n",
    "       WHERE (((t_K_Pos.posID)<>1)\n",
    "           AND ((t_K_Verz.verzName) != '')\n",
    "           AND ((t_Obj.Typ) Like '%KPT%'))\"\"\".replace('\\n',' ')\n",
    "\n",
    "df = pd.read_sql(sql, con)\n",
    "# display(df.head())"
   ]
  },
  {
   "cell_type": "code",
   "execution_count": 65,
   "metadata": {},
   "outputs": [
    {
     "data": {
      "text/html": [
       "<div>\n",
       "<table border=\"1\" class=\"dataframe\">\n",
       "  <thead>\n",
       "    <tr style=\"text-align: right;\">\n",
       "      <th></th>\n",
       "      <th>objID</th>\n",
       "      <th>posID</th>\n",
       "      <th>verzID</th>\n",
       "      <th>pos</th>\n",
       "      <th>verzName</th>\n",
       "      <th>verzName_alt</th>\n",
       "      <th>verzBeschr</th>\n",
       "      <th>Typ</th>\n",
       "      <th>Form_Gef</th>\n",
       "    </tr>\n",
       "  </thead>\n",
       "  <tbody>\n",
       "  </tbody>\n",
       "</table>\n",
       "</div>"
      ],
      "text/plain": [
       "Empty DataFrame\n",
       "Columns: [objID, posID, verzID, pos, verzName, verzName_alt, verzBeschr, Typ, Form_Gef]\n",
       "Index: []"
      ]
     },
     "execution_count": 65,
     "metadata": {},
     "output_type": "execute_result"
    }
   ],
   "source": [
    "df.loc[df['verzName'].str.contains(\"20.1\")]"
   ]
  },
  {
   "cell_type": "code",
   "execution_count": null,
   "metadata": {
    "collapsed": true
   },
   "outputs": [],
   "source": []
  },
  {
   "cell_type": "code",
   "execution_count": 66,
   "metadata": {
    "collapsed": true
   },
   "outputs": [],
   "source": [
    "df_pivot = df.pivot_table(values = 'objID', index = 'pos', columns = 'verzName', aggfunc = len)\n",
    "df_pivot = df_pivot.fillna(0)\n",
    "# Sortierung für graphische Darstellung umdrehen\n",
    "df_pivot = df_pivot.sort_index(ascending=True)\n",
    "# heatmap siehe http://yonatanfriedman.com/docs/survey/plotting.html"
   ]
  },
  {
   "cell_type": "code",
   "execution_count": 67,
   "metadata": {},
   "outputs": [
    {
     "data": {
      "image/png": "[encoded data removed]",
      "text/plain": [
       "<matplotlib.figure.Figure at 0x277c245c358>"
      ]
     },
     "metadata": {},
     "output_type": "display_data"
    }
   ],
   "source": [
    "fig = plt.figure()\n",
    "fig.set_size_inches(10, 7.5)\n",
    "plt.imshow(df_pivot, interpolation='nearest', cmap='Greys', alpha = .5)\n",
    "plt.ylabel('Gefäßposition')\n",
    "plt.xlabel('Verzierungselemente')\n",
    "plt.yticks(range(len(df_pivot.index)), df_pivot.index)\n",
    "plt.xticks(range(len(df_pivot.columns)), df_pivot.columns, rotation='vertical')\n",
    "# plt.colorbar(orientation='horizontal')\n",
    "for (i, j), z in np.ndenumerate(df_pivot):\n",
    "    plt.text(j, i, '{:0.0f}'.format(z), ha='center', va='center')\n",
    "plt.tight_layout()\n",
    "plt.show()"
   ]
  },
  {
   "cell_type": "code",
   "execution_count": 68,
   "metadata": {},
   "outputs": [
    {
     "name": "stderr",
     "output_type": "stream",
     "text": [
      "C:\\Users\\Dirk\\Anaconda3\\lib\\site-packages\\ipykernel\\__main__.py:4: FutureWarning: by argument to sort_index is deprecated, pls use .sort_values(by=...)\n"
     ]
    }
   ],
   "source": [
    "df_pivot = df.pivot_table(values = 'objID', index = 'verzName', aggfunc = len)\n",
    "df_pivot = pd.DataFrame(df_pivot)\n",
    "# Sortierung in Aufsteigend ändern\n",
    "df_pivot = df_pivot.sort_index(by = ['objID'], ascending = True)"
   ]
  },
  {
   "cell_type": "code",
   "execution_count": 69,
   "metadata": {},
   "outputs": [
    {
     "data": {
      "text/plain": [
       "<matplotlib.text.Text at 0x277c15f4c18>"
      ]
     },
     "execution_count": 69,
     "metadata": {},
     "output_type": "execute_result"
    },
    {
     "data": {
      "image/png": "[encoded data removed]",
      "text/plain": [
       "<matplotlib.figure.Figure at 0x277c244a0b8>"
      ]
     },
     "metadata": {},
     "output_type": "display_data"
    }
   ],
   "source": [
    "fig = plt.figure()\n",
    "fig.set_size_inches(5, 5)\n",
    "df_pivot['objID'].plot(kind='pie', autopct='%.0f %%', cmap = 'Paired' )\n",
    "plt.ylabel('')\n",
    "#plt.title('Mokelo-Gruppe\\nGefäßformen')\n",
    "#plt.savefig('output/3-1-1-3_Mokelo-Gr_GefForm2.pdf')"
   ]
  },
  {
   "cell_type": "code",
   "execution_count": 70,
   "metadata": {},
   "outputs": [
    {
     "data": {
      "text/html": [
       "<div>\n",
       "<table border=\"1\" class=\"dataframe\">\n",
       "  <thead>\n",
       "    <tr style=\"text-align: right;\">\n",
       "      <th></th>\n",
       "      <th>0</th>\n",
       "      <th>Prozent</th>\n",
       "    </tr>\n",
       "  </thead>\n",
       "  <tbody>\n",
       "    <tr>\n",
       "      <th>Roulette-Verzierung</th>\n",
       "      <td>15</td>\n",
       "      <td>57.692308</td>\n",
       "    </tr>\n",
       "    <tr>\n",
       "      <th>Weitere Verzierungen</th>\n",
       "      <td>11</td>\n",
       "      <td>42.307692</td>\n",
       "    </tr>\n",
       "  </tbody>\n",
       "</table>\n",
       "</div>"
      ],
      "text/plain": [
       "                       0    Prozent\n",
       "Roulette-Verzierung   15  57.692308\n",
       "Weitere Verzierungen  11  42.307692"
      ]
     },
     "execution_count": 70,
     "metadata": {},
     "output_type": "execute_result"
    }
   ],
   "source": [
    "a = pd.Series({'Roulette-Verzierung':len(df.loc[df['verzName'].str.contains(\"21.\")].index),\n",
    "               'Weitere Verzierungen':len(df.loc[~df['verzName'].str.contains(\"21.\")].index)})\n",
    "a = pd.DataFrame(a)\n",
    "a['Prozent'] = a[0]/a[0].sum()*100\n",
    "a"
   ]
  },
  {
   "cell_type": "code",
   "execution_count": 71,
   "metadata": {},
   "outputs": [
    {
     "data": {
      "text/html": [
       "<div>\n",
       "<table border=\"1\" class=\"dataframe\">\n",
       "  <thead>\n",
       "    <tr style=\"text-align: right;\">\n",
       "      <th></th>\n",
       "      <th>0</th>\n",
       "      <th>Prozent</th>\n",
       "    </tr>\n",
       "  </thead>\n",
       "  <tbody>\n",
       "    <tr>\n",
       "      <th>Schnitz-Roulette</th>\n",
       "      <td>15</td>\n",
       "      <td>100.0</td>\n",
       "    </tr>\n",
       "    <tr>\n",
       "      <th>vegetabilisches Roulette</th>\n",
       "      <td>0</td>\n",
       "      <td>0.0</td>\n",
       "    </tr>\n",
       "  </tbody>\n",
       "</table>\n",
       "</div>"
      ],
      "text/plain": [
       "                           0  Prozent\n",
       "Schnitz-Roulette          15    100.0\n",
       "vegetabilisches Roulette   0      0.0"
      ]
     },
     "execution_count": 71,
     "metadata": {},
     "output_type": "execute_result"
    }
   ],
   "source": [
    "# nur Roulette-Verzierungen herausfiltern\n",
    "b = df.loc[df['verzName'].str.contains(\"21.\")]\n",
    "\n",
    "c = pd.Series({'vegetabilisches Roulette':len(b.loc[df['verzName_alt'].str.contains(\"V08a\")].index),\n",
    "               'Schnitz-Roulette':len(b.loc[~df['verzName_alt'].str.contains(\"V08a\")].index)})\n",
    "c = pd.DataFrame(c)\n",
    "c['Prozent'] = c[0]/c[0].sum()*100\n",
    "c"
   ]
  },
  {
   "cell_type": "markdown",
   "metadata": {
    "collapsed": true
   },
   "source": [
    "## Verbreitung"
   ]
  },
  {
   "cell_type": "code",
   "execution_count": 72,
   "metadata": {},
   "outputs": [
    {
     "data": {
      "text/html": [
       "<div>\n",
       "<table border=\"1\" class=\"dataframe\">\n",
       "  <thead>\n",
       "    <tr style=\"text-align: right;\">\n",
       "      <th>Typ</th>\n",
       "      <th>Ort</th>\n",
       "      <th>Kat-Nr</th>\n",
       "      <th>X</th>\n",
       "      <th>Y</th>\n",
       "      <th>TYP</th>\n",
       "    </tr>\n",
       "  </thead>\n",
       "  <tbody>\n",
       "    <tr>\n",
       "      <th>0</th>\n",
       "      <td>Balongoi (Fpl. 214)</td>\n",
       "      <td>214</td>\n",
       "      <td>18.644374</td>\n",
       "      <td>4.129969</td>\n",
       "      <td>KPT (?)</td>\n",
       "    </tr>\n",
       "    <tr>\n",
       "      <th>2</th>\n",
       "      <td>Kpetene (Fpl. 220)</td>\n",
       "      <td>220</td>\n",
       "      <td>19.071738</td>\n",
       "      <td>4.899383</td>\n",
       "      <td>KPT</td>\n",
       "    </tr>\n",
       "    <tr>\n",
       "      <th>1</th>\n",
       "      <td>Boduna (Fpl. 225)</td>\n",
       "      <td>225</td>\n",
       "      <td>19.741706</td>\n",
       "      <td>5.108300</td>\n",
       "      <td>KPT (?)</td>\n",
       "    </tr>\n",
       "    <tr>\n",
       "      <th>0</th>\n",
       "      <td>Gbandami (Fpl. 226)</td>\n",
       "      <td>226</td>\n",
       "      <td>19.815534</td>\n",
       "      <td>5.111067</td>\n",
       "      <td>KPT</td>\n",
       "    </tr>\n",
       "    <tr>\n",
       "      <th>1</th>\n",
       "      <td>Kouango (Fpl. 229)</td>\n",
       "      <td>229</td>\n",
       "      <td>19.976358</td>\n",
       "      <td>4.990322</td>\n",
       "      <td>KPT</td>\n",
       "    </tr>\n",
       "  </tbody>\n",
       "</table>\n",
       "</div>"
      ],
      "text/plain": [
       "Typ                  Ort Kat-Nr          X         Y      TYP\n",
       "0    Balongoi (Fpl. 214)    214  18.644374  4.129969  KPT (?)\n",
       "2     Kpetene (Fpl. 220)    220  19.071738  4.899383      KPT\n",
       "1      Boduna (Fpl. 225)    225  19.741706  5.108300  KPT (?)\n",
       "0    Gbandami (Fpl. 226)    226  19.815534  5.111067      KPT\n",
       "1     Kouango (Fpl. 229)    229  19.976358  4.990322      KPT"
      ]
     },
     "execution_count": 72,
     "metadata": {},
     "output_type": "execute_result"
    }
   ],
   "source": [
    "df = style_mapping_gis_export(style)\n",
    "df.sort_values(['Kat-Nr'])"
   ]
  },
  {
   "cell_type": "code",
   "execution_count": 73,
   "metadata": {
    "collapsed": true
   },
   "outputs": [],
   "source": [
    "df.to_csv(\"../data/processed/3-1-1-8_KPT_Verbreitung.csv\", index = False)"
   ]
  },
  {
   "cell_type": "markdown",
   "metadata": {
    "collapsed": true
   },
   "source": [
    "## Tafeln"
   ]
  },
  {
   "cell_type": "code",
   "execution_count": 74,
   "metadata": {},
   "outputs": [
    {
     "data": {
      "text/html": [
       "<div>\n",
       "<table border=\"1\" class=\"dataframe\">\n",
       "  <thead>\n",
       "    <tr style=\"text-align: right;\">\n",
       "      <th></th>\n",
       "      <th>TAF</th>\n",
       "      <th>OBJ</th>\n",
       "      <th>SITE</th>\n",
       "      <th>FEAT</th>\n",
       "      <th>NOTE</th>\n",
       "      <th>IND</th>\n",
       "      <th>Typ</th>\n",
       "      <th>Form_Gef</th>\n",
       "      <th>Form_Rand</th>\n",
       "      <th>Form_Boden</th>\n",
       "    </tr>\n",
       "  </thead>\n",
       "  <tbody>\n",
       "    <tr>\n",
       "      <th>0</th>\n",
       "      <td>22</td>\n",
       "      <td>1</td>\n",
       "      <td>KPT</td>\n",
       "      <td>85/101</td>\n",
       "      <td>NaN</td>\n",
       "      <td>10</td>\n",
       "      <td>KPT</td>\n",
       "      <td>H1</td>\n",
       "      <td>C3</td>\n",
       "      <td>B1/B3</td>\n",
       "    </tr>\n",
       "  </tbody>\n",
       "</table>\n",
       "</div>"
      ],
      "text/plain": [
       "   TAF  OBJ SITE    FEAT NOTE IND  Typ Form_Gef Form_Rand Form_Boden\n",
       "0   22    1  KPT  85/101  NaN  10  KPT       H1        C3      B1/B3"
      ]
     },
     "execution_count": 74,
     "metadata": {},
     "output_type": "execute_result"
    }
   ],
   "source": [
    "sql = \"\"\"SELECT\n",
    "           t_Ort.ort_kurz AS SITE,\n",
    "           t_Komplex.bef_nr AS FEAT,\n",
    "           t_Obj.Individuum AS IND,\n",
    "           t_Obj.Typ,\n",
    "           t_Obj.Form_Gef,\n",
    "           t_Obj.Form_Rand,\n",
    "           t_Obj.Form_Boden\n",
    "       FROM (t_Ort INNER JOIN t_Komplex ON t_Ort.ortID = t_Komplex.ortID)\n",
    "           INNER JOIN t_Obj ON t_Komplex.komplexID = t_Obj.komplexID\n",
    "       WHERE (((t_Ort.ort_lit) = 'DS')\n",
    "           AND ((t_Obj.Typ) Like '%\"\"\"+style+\"\"\"%'))\"\"\".replace('\\n',' ')\n",
    "\n",
    "df = pd.read_sql(sql, con)\n",
    "\n",
    "pl = pd.read_csv('../plates/plates.csv')\n",
    "\n",
    "df_merge = pd.merge(pl, df, on=['SITE', 'FEAT', 'IND'], how='inner')\n",
    "df_merge"
   ]
  },
  {
   "cell_type": "code",
   "execution_count": null,
   "metadata": {
    "collapsed": true
   },
   "outputs": [],
   "source": []
  }
 ],
 "metadata": {
  "anaconda-cloud": {},
  "kernelspec": {
   "display_name": "Python 3",
   "language": "python",
   "name": "python3"
  },
  "language_info": {
   "codemirror_mode": {
    "name": "ipython",
    "version": 3
   },
   "file_extension": ".py",
   "mimetype": "text/x-python",
   "name": "python",
   "nbconvert_exporter": "python",
   "pygments_lexer": "ipython3",
   "version": "3.6.1"
  }
 },
 "nbformat": 4,
 "nbformat_minor": 1
}
