{
 "cells": [
  {
   "cell_type": "markdown",
   "metadata": {},
   "source": [
    "# NGO 87/102"
   ]
  },
  {
   "cell_type": "code",
   "execution_count": 1,
   "metadata": {
    "collapsed": true
   },
   "outputs": [],
   "source": [
    "%matplotlib inline\n",
    "from IPython.display import display\n",
    "import pandas as pd\n",
    "import numpy as np\n",
    "import matplotlib.pyplot as plt\n",
    "import sqlite3\n",
    "\n",
    "con = sqlite3.connect(\"../data/CongoDB.sqlite\")"
   ]
  },
  {
   "cell_type": "markdown",
   "metadata": {},
   "source": [
    "## Funde"
   ]
  },
  {
   "cell_type": "code",
   "execution_count": 2,
   "metadata": {
    "collapsed": false,
    "scrolled": true
   },
   "outputs": [
    {
     "data": {
      "text/html": [
       "<div>\n",
       "<table border=\"1\" class=\"dataframe\">\n",
       "  <thead>\n",
       "    <tr style=\"text-align: right;\">\n",
       "      <th></th>\n",
       "      <th>objID</th>\n",
       "      <th>ort_kurz</th>\n",
       "      <th>bef_nr</th>\n",
       "      <th>Individuum</th>\n",
       "      <th>GefEinheit</th>\n",
       "      <th>Typ</th>\n",
       "      <th>Anzahl</th>\n",
       "      <th>Gewicht</th>\n",
       "      <th>Gr_Clist</th>\n",
       "      <th>Art</th>\n",
       "      <th>Fabric</th>\n",
       "      <th>Form_Gef</th>\n",
       "    </tr>\n",
       "  </thead>\n",
       "  <tbody>\n",
       "    <tr>\n",
       "      <th>0</th>\n",
       "      <td>458</td>\n",
       "      <td>NGO</td>\n",
       "      <td>87/102</td>\n",
       "      <td>28-29</td>\n",
       "      <td>1</td>\n",
       "      <td>NGO</td>\n",
       "      <td>1</td>\n",
       "      <td>1914</td>\n",
       "      <td>500</td>\n",
       "      <td>K</td>\n",
       "      <td>1d</td>\n",
       "      <td>G10a</td>\n",
       "    </tr>\n",
       "    <tr>\n",
       "      <th>1</th>\n",
       "      <td>1248</td>\n",
       "      <td>NGO</td>\n",
       "      <td>87/102</td>\n",
       "      <td>2</td>\n",
       "      <td>5</td>\n",
       "      <td>NGO</td>\n",
       "      <td>1</td>\n",
       "      <td>84</td>\n",
       "      <td>120</td>\n",
       "      <td>K</td>\n",
       "      <td>1d</td>\n",
       "      <td>G12a</td>\n",
       "    </tr>\n",
       "    <tr>\n",
       "      <th>2</th>\n",
       "      <td>1249</td>\n",
       "      <td>NGO</td>\n",
       "      <td>87/102</td>\n",
       "      <td>19,21,29,31</td>\n",
       "      <td>4</td>\n",
       "      <td>NGO</td>\n",
       "      <td>1</td>\n",
       "      <td>623</td>\n",
       "      <td>200</td>\n",
       "      <td>K</td>\n",
       "      <td>1d</td>\n",
       "      <td>G2a</td>\n",
       "    </tr>\n",
       "    <tr>\n",
       "      <th>3</th>\n",
       "      <td>1250</td>\n",
       "      <td>NGO</td>\n",
       "      <td>87/102</td>\n",
       "      <td>31</td>\n",
       "      <td></td>\n",
       "      <td></td>\n",
       "      <td>1</td>\n",
       "      <td>40</td>\n",
       "      <td>120</td>\n",
       "      <td>K</td>\n",
       "      <td>None</td>\n",
       "      <td></td>\n",
       "    </tr>\n",
       "    <tr>\n",
       "      <th>4</th>\n",
       "      <td>1515</td>\n",
       "      <td>NGO</td>\n",
       "      <td>87/102</td>\n",
       "      <td>27</td>\n",
       "      <td>3</td>\n",
       "      <td>NGO</td>\n",
       "      <td>1</td>\n",
       "      <td>379</td>\n",
       "      <td>200</td>\n",
       "      <td>K</td>\n",
       "      <td>1d</td>\n",
       "      <td>G1a2</td>\n",
       "    </tr>\n",
       "    <tr>\n",
       "      <th>5</th>\n",
       "      <td>1516</td>\n",
       "      <td>NGO</td>\n",
       "      <td>87/102</td>\n",
       "      <td>30</td>\n",
       "      <td>2</td>\n",
       "      <td>NGO</td>\n",
       "      <td>1</td>\n",
       "      <td>525</td>\n",
       "      <td>500</td>\n",
       "      <td>K</td>\n",
       "      <td>1d</td>\n",
       "      <td>G12a</td>\n",
       "    </tr>\n",
       "  </tbody>\n",
       "</table>\n",
       "</div>"
      ],
      "text/plain": [
       "   objID ort_kurz  bef_nr   Individuum GefEinheit  Typ  Anzahl  Gewicht  \\\n",
       "0    458      NGO  87/102        28-29          1  NGO       1     1914   \n",
       "1   1248      NGO  87/102            2          5  NGO       1       84   \n",
       "2   1249      NGO  87/102  19,21,29,31          4  NGO       1      623   \n",
       "3   1250      NGO  87/102           31                       1       40   \n",
       "4   1515      NGO  87/102           27          3  NGO       1      379   \n",
       "5   1516      NGO  87/102           30          2  NGO       1      525   \n",
       "\n",
       "   Gr_Clist Art Fabric Form_Gef  \n",
       "0       500   K     1d     G10a  \n",
       "1       120   K     1d     G12a  \n",
       "2       200   K     1d      G2a  \n",
       "3       120   K   None           \n",
       "4       200   K     1d     G1a2  \n",
       "5       500   K     1d     G12a  "
      ]
     },
     "execution_count": 2,
     "metadata": {},
     "output_type": "execute_result"
    }
   ],
   "source": [
    "sql = \"\"\"SELECT\n",
    "           t_Obj.ObjID, \n",
    "           t_Ort.ort_kurz,\n",
    "           t_Komplex.bef_nr, \n",
    "           t_Obj.Individuum, \n",
    "           t_Obj.GefEinheit, \n",
    "           t_Obj.Typ, \n",
    "           t_Obj.Anzahl,\n",
    "           t_Obj.Gewicht,\n",
    "           t_Obj.Gr_Clist, \n",
    "           t_Obj.Art,\n",
    "           t_Obj.Fabric,\n",
    "           t_Obj.Form_Gef\n",
    "       FROM (t_Ort INNER JOIN t_Komplex ON t_Ort.ortID = t_Komplex.ortID)\n",
    "           INNER JOIN t_Obj ON t_Komplex.komplexID = t_Obj.komplexID\n",
    "       WHERE (((t_Ort.ort_kurz) Like '%NGO%')\n",
    "           AND ((t_Komplex.bef_nr) Like '%87/102%'))\"\"\".replace('\\n',' ')\n",
    "\n",
    "df = pd.read_sql(sql, con)\n",
    "df"
   ]
  },
  {
   "cell_type": "code",
   "execution_count": 6,
   "metadata": {
    "collapsed": false
   },
   "outputs": [
    {
     "data": {
      "text/html": [
       "<div>\n",
       "<table border=\"1\" class=\"dataframe\">\n",
       "  <thead>\n",
       "    <tr style=\"text-align: right;\">\n",
       "      <th></th>\n",
       "      <th>Fundkategorie</th>\n",
       "      <th>Anzahl</th>\n",
       "      <th>\\%</th>\n",
       "      <th>Gewicht (kg)</th>\n",
       "      <th>\\%</th>\n",
       "    </tr>\n",
       "  </thead>\n",
       "  <tbody>\n",
       "    <tr>\n",
       "      <th>0</th>\n",
       "      <td>Keramik</td>\n",
       "      <td>6</td>\n",
       "      <td>100</td>\n",
       "      <td>3.56</td>\n",
       "      <td>100</td>\n",
       "    </tr>\n",
       "  </tbody>\n",
       "</table>\n",
       "</div>"
      ],
      "text/plain": [
       "  Fundkategorie  Anzahl   \\%  Gewicht (kg)   \\%\n",
       "0       Keramik       6  100          3.56  100"
      ]
     },
     "execution_count": 6,
     "metadata": {},
     "output_type": "execute_result"
    }
   ],
   "source": [
    "df_pivot1 = df.pivot_table(values = 'Gewicht', index = 'Art', aggfunc = sum, fill_value = 0)\n",
    "df_pivot1 = pd.DataFrame(df_pivot1)\n",
    "# df_pivot1 = df_pivot1.reset_index()\n",
    "df_pivot1.rename(index={'HL': 'gebrannter Lehm', 'K': 'Keramik'}, inplace=True)\n",
    "df_pivot1['\\%'] = (df_pivot1['Gewicht']/df_pivot1['Gewicht'].sum()*100).round(1)\n",
    "df_pivot1['Gewicht'] = (df_pivot1['Gewicht'] / 1000).round(2)\n",
    "df_pivot1.rename(columns={'Gewicht': 'Gewicht (kg)'}, inplace=True)\n",
    "\n",
    "df_pivot2 = df.pivot_table(values = 'Anzahl', index = 'Art', aggfunc = sum, fill_value = 0)\n",
    "df_pivot2 = pd.DataFrame(df_pivot2)\n",
    "df_pivot2.rename(index={'HL': 'gebrannter Lehm', 'K': 'Keramik'}, inplace=True)\n",
    "df_pivot2['\\%'] = (df_pivot2['Anzahl']/df_pivot2['Anzahl'].sum()*100).round(1)\n",
    "\n",
    "# Tabellen vereinen:\n",
    "df_concat = pd.concat([df_pivot2, df_pivot1], axis = 1)\n",
    "df_concat = df_concat.reset_index()\n",
    "df_concat.rename(columns={'Art': 'Fundkategorie'}, inplace=True)\n",
    "# df_concat.to_latex('../output/tabs/9-08_PIK871-1_Funde.tex', index = False, escape = False)\n",
    "df_concat"
   ]
  },
  {
   "cell_type": "code",
   "execution_count": 3,
   "metadata": {
    "collapsed": false
   },
   "outputs": [
    {
     "data": {
      "text/plain": [
       "3565"
      ]
     },
     "execution_count": 3,
     "metadata": {},
     "output_type": "execute_result"
    }
   ],
   "source": [
    "df['Gewicht'].sum()"
   ]
  },
  {
   "cell_type": "code",
   "execution_count": 4,
   "metadata": {
    "collapsed": false
   },
   "outputs": [
    {
     "data": {
      "text/plain": [
       "Form_Gef\n",
       "        1\n",
       "G10a    1\n",
       "G12a    2\n",
       "G1a2    1\n",
       "G2a     1\n",
       "Name: objID, dtype: int64"
      ]
     },
     "execution_count": 4,
     "metadata": {},
     "output_type": "execute_result"
    }
   ],
   "source": [
    "df.pivot_table(values = 'objID', index = 'Form_Gef', aggfunc = len)"
   ]
  },
  {
   "cell_type": "code",
   "execution_count": 5,
   "metadata": {
    "collapsed": false
   },
   "outputs": [
    {
     "data": {
      "text/plain": [
       "Fabric\n",
       "1d    5\n",
       "Name: objID, dtype: int64"
      ]
     },
     "execution_count": 5,
     "metadata": {},
     "output_type": "execute_result"
    }
   ],
   "source": [
    "df.pivot_table(values = 'objID', index = 'Fabric', aggfunc = len)"
   ]
  },
  {
   "cell_type": "code",
   "execution_count": null,
   "metadata": {
    "collapsed": true
   },
   "outputs": [],
   "source": []
  }
 ],
 "metadata": {
  "kernelspec": {
   "display_name": "Python 3",
   "language": "python",
   "name": "python3"
  },
  "language_info": {
   "codemirror_mode": {
    "name": "ipython",
    "version": 3
   },
   "file_extension": ".py",
   "mimetype": "text/x-python",
   "name": "python",
   "nbconvert_exporter": "python",
   "pygments_lexer": "ipython3",
   "version": "3.4.3"
  }
 },
 "nbformat": 4,
 "nbformat_minor": 0
}
