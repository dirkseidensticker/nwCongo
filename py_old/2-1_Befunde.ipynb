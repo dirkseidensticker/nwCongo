{
 "cells": [
  {
   "cell_type": "markdown",
   "metadata": {},
   "source": [
    "# 2.1 Befunde"
   ]
  },
  {
   "cell_type": "markdown",
   "metadata": {},
   "source": [
    "* [Grabungsbefunde](#Grabungsbefunde)\n",
    "    * [Befundarten](#Befundarten)\n",
    "    * [Keramikfunde in Grabungsbefunden](#Keramikfunde-in-Grabungsbefunden)\n",
    "    * [Fragmentierung der Funde innerhalb der Grabungsbefunde](#Fragmentierung-der-Funde-innerhalb-der-Grabungsbefunde)\n",
    "* [Oberflächenabsammlungen](#Oberflächenabsammlungen)\n",
    "    * [Anzahl der Scherben in den Oberflächenabsammlungen](#Anzahl-der-Scherben-in-den-Oberflächenabsammlungen)"
   ]
  },
  {
   "cell_type": "code",
   "execution_count": 1,
   "metadata": {
    "collapsed": false
   },
   "outputs": [],
   "source": [
    "%matplotlib inline\n",
    "from IPython.display import display\n",
    "import pandas as pd\n",
    "import numpy as np\n",
    "import matplotlib.pyplot as plt\n",
    "import sqlite3\n",
    "# pd.options.display.mpl_style = 'default'\n",
    "\n",
    "con = sqlite3.connect(\"../data/CongoDB.sqlite\")"
   ]
  },
  {
   "cell_type": "markdown",
   "metadata": {},
   "source": [
    "> ToDo:\n",
    "> * besser in DB unter Komplexen eine Spalte mit 'Befund' od. 'Oberfläche' einfügen und diese abfragen\n",
    "> * NGK 87/102 (?) ebenfalls Befund!\n",
    "> * zu Komplexen einen Eintrag der FdSt.-Art (Verhüttung; Siedl.; etc.): Verteilungsdiagram erstellen"
   ]
  },
  {
   "cell_type": "markdown",
   "metadata": {},
   "source": [
    "## Grabungsbefunde"
   ]
  },
  {
   "cell_type": "markdown",
   "metadata": {},
   "source": [
    "### Befundarten"
   ]
  },
  {
   "cell_type": "code",
   "execution_count": 2,
   "metadata": {
    "collapsed": false
   },
   "outputs": [
    {
     "data": {
      "text/html": [
       "<div>\n",
       "<table border=\"1\" class=\"dataframe\">\n",
       "  <thead>\n",
       "    <tr style=\"text-align: right;\">\n",
       "      <th></th>\n",
       "      <th>ort_kurz</th>\n",
       "      <th>bef_art</th>\n",
       "    </tr>\n",
       "  </thead>\n",
       "  <tbody>\n",
       "    <tr>\n",
       "      <th>0</th>\n",
       "      <td>BAN</td>\n",
       "      <td>rezent</td>\n",
       "    </tr>\n",
       "    <tr>\n",
       "      <th>1</th>\n",
       "      <td>BBS</td>\n",
       "      <td>Schicht</td>\n",
       "    </tr>\n",
       "    <tr>\n",
       "      <th>2</th>\n",
       "      <td>BBS</td>\n",
       "      <td>Schicht</td>\n",
       "    </tr>\n",
       "    <tr>\n",
       "      <th>3</th>\n",
       "      <td>BLK</td>\n",
       "      <td>Grab</td>\n",
       "    </tr>\n",
       "    <tr>\n",
       "      <th>4</th>\n",
       "      <td>BLK</td>\n",
       "      <td>rezent</td>\n",
       "    </tr>\n",
       "  </tbody>\n",
       "</table>\n",
       "</div>"
      ],
      "text/plain": [
       "  ort_kurz  bef_art\n",
       "0      BAN   rezent\n",
       "1      BBS  Schicht\n",
       "2      BBS  Schicht\n",
       "3      BLK     Grab\n",
       "4      BLK   rezent"
      ]
     },
     "metadata": {},
     "output_type": "display_data"
    }
   ],
   "source": [
    "sql = \"\"\"SELECT\n",
    "           t_Ort.ort_kurz,\n",
    "           t_Komplex.bef_art\n",
    "       FROM t_Ort INNER JOIN t_Komplex ON t_Ort.ortID = t_Komplex.ortID\n",
    "       WHERE (((t_Ort.ort_lit)='DS')\n",
    "           AND ((t_Komplex.bef_art) Not Like '%Oberfl%'))\"\"\".replace('\\n',' ')\n",
    "\n",
    "df = pd.read_sql(sql, con)\n",
    "display(df.head())"
   ]
  },
  {
   "cell_type": "code",
   "execution_count": 3,
   "metadata": {
    "collapsed": false
   },
   "outputs": [
    {
     "data": {
      "text/plain": [
       "bef_art\n",
       "Grab          2\n",
       "Grube         8\n",
       "Grube (?)     2\n",
       "Grube/Ofen    2\n",
       "Ofen          2\n",
       "Ofen (?)      1\n",
       "Schicht       2\n",
       "ethno         6\n",
       "rezent        5\n",
       "Name: ort_kurz, dtype: int64"
      ]
     },
     "execution_count": 3,
     "metadata": {},
     "output_type": "execute_result"
    }
   ],
   "source": [
    "df_pivot = df.pivot_table(values = 'ort_kurz', index = 'bef_art', aggfunc = len)\n",
    "df_pivot"
   ]
  },
  {
   "cell_type": "code",
   "execution_count": 4,
   "metadata": {
    "collapsed": false
   },
   "outputs": [
    {
     "data": {
      "image/png": "[encoded data removed]",
      "text/plain": [
       "<matplotlib.figure.Figure at 0x878c588>"
      ]
     },
     "metadata": {},
     "output_type": "display_data"
    }
   ],
   "source": [
    "fig = plt.figure()\n",
    "fig.set_size_inches(5,5)\n",
    "df_pivot.plot(kind='pie', autopct='%.0f %%', cmap = 'Paired')\n",
    "plt.ylabel('')\n",
    "plt.xlabel('ohne Oberflächenabsammlungen')\n",
    "plt.title('Befundarten')\n",
    "plt.show()"
   ]
  },
  {
   "cell_type": "markdown",
   "metadata": {},
   "source": [
    "### Keramikfunde in Grabungsbefunden"
   ]
  },
  {
   "cell_type": "code",
   "execution_count": 2,
   "metadata": {
    "collapsed": false
   },
   "outputs": [
    {
     "name": "stderr",
     "output_type": "stream",
     "text": [
      "C:\\Users\\DirkSeidenticker\\Anaconda3\\lib\\site-packages\\ipykernel\\__main__.py:20: FutureWarning: convert_objects is deprecated.  Use the data-type specific converters pd.to_datetime, pd.to_timedelta and pd.to_numeric.\n",
      "C:\\Users\\DirkSeidenticker\\Anaconda3\\lib\\site-packages\\ipykernel\\__main__.py:21: FutureWarning: convert_objects is deprecated.  Use the data-type specific converters pd.to_datetime, pd.to_timedelta and pd.to_numeric.\n"
     ]
    },
    {
     "data": {
      "text/html": [
       "<div>\n",
       "<table border=\"1\" class=\"dataframe\">\n",
       "  <thead>\n",
       "    <tr style=\"text-align: right;\">\n",
       "      <th></th>\n",
       "      <th>objID</th>\n",
       "      <th>ort_kurz</th>\n",
       "      <th>bef_nr</th>\n",
       "      <th>bef_art</th>\n",
       "      <th>Art</th>\n",
       "      <th>Anzahl</th>\n",
       "      <th>Gewicht</th>\n",
       "      <th>Gr_Clist</th>\n",
       "    </tr>\n",
       "  </thead>\n",
       "  <tbody>\n",
       "    <tr>\n",
       "      <th>0</th>\n",
       "      <td>205</td>\n",
       "      <td>LKW 186</td>\n",
       "      <td>87/186</td>\n",
       "      <td>Grube</td>\n",
       "      <td>K</td>\n",
       "      <td>1</td>\n",
       "      <td>1448.0</td>\n",
       "      <td>500</td>\n",
       "    </tr>\n",
       "    <tr>\n",
       "      <th>1</th>\n",
       "      <td>266</td>\n",
       "      <td>MLB</td>\n",
       "      <td>85/1-3-1</td>\n",
       "      <td>Grube</td>\n",
       "      <td>K</td>\n",
       "      <td>1</td>\n",
       "      <td>156.0</td>\n",
       "      <td>120</td>\n",
       "    </tr>\n",
       "    <tr>\n",
       "      <th>2</th>\n",
       "      <td>267</td>\n",
       "      <td>MLB</td>\n",
       "      <td>85/1-3-1</td>\n",
       "      <td>Grube</td>\n",
       "      <td>K</td>\n",
       "      <td>1</td>\n",
       "      <td>26.0</td>\n",
       "      <td>70</td>\n",
       "    </tr>\n",
       "    <tr>\n",
       "      <th>3</th>\n",
       "      <td>268</td>\n",
       "      <td>MLB</td>\n",
       "      <td>85/1-3-1</td>\n",
       "      <td>Grube</td>\n",
       "      <td>K</td>\n",
       "      <td>1</td>\n",
       "      <td>54.0</td>\n",
       "      <td>120</td>\n",
       "    </tr>\n",
       "    <tr>\n",
       "      <th>4</th>\n",
       "      <td>269</td>\n",
       "      <td>MLB</td>\n",
       "      <td>85/1-3-1</td>\n",
       "      <td>Grube</td>\n",
       "      <td>K</td>\n",
       "      <td>1</td>\n",
       "      <td>76.0</td>\n",
       "      <td>120</td>\n",
       "    </tr>\n",
       "  </tbody>\n",
       "</table>\n",
       "</div>"
      ],
      "text/plain": [
       "   objID ort_kurz    bef_nr bef_art Art  Anzahl  Gewicht Gr_Clist\n",
       "0    205  LKW 186    87/186   Grube   K       1   1448.0      500\n",
       "1    266      MLB  85/1-3-1   Grube   K       1    156.0      120\n",
       "2    267      MLB  85/1-3-1   Grube   K       1     26.0       70\n",
       "3    268      MLB  85/1-3-1   Grube   K       1     54.0      120\n",
       "4    269      MLB  85/1-3-1   Grube   K       1     76.0      120"
      ]
     },
     "metadata": {},
     "output_type": "display_data"
    }
   ],
   "source": [
    "sql = \"\"\"SELECT\n",
    "           t_Obj.objID, \n",
    "           t_Ort.ort_kurz,\n",
    "           t_Komplex.bef_nr,\n",
    "           t_Komplex.bef_art,\n",
    "           t_Obj.Art,\n",
    "           t_Obj.Anzahl,\n",
    "           t_obj.Gewicht,\n",
    "           t_Obj.Gr_Clist\n",
    "       FROM (t_Ort INNER JOIN t_Komplex ON t_Ort.ortID = t_Komplex.ortID)\n",
    "           INNER JOIN t_Obj ON t_Komplex.komplexID = t_Obj.komplexID\n",
    "       WHERE (((t_Ort.ort_lit)='DS')\n",
    "           AND ((t_Obj.Art) = \"K\")\n",
    "           AND ((t_Komplex.bef_art) not like '%Oberfl%')\n",
    "           AND ((t_Komplex.bef_art) not like '%ethno%')\n",
    "           AND ((t_Komplex.bef_art) not like '%rezent%')\n",
    "           AND ((t_obj.Notiz) not Like '%1987%'))\"\"\".replace('\\n',' ')\n",
    "\n",
    "df = pd.read_sql(sql, con)\n",
    "df['Anzahl'] = df['Anzahl'].convert_objects(convert_numeric=True)\n",
    "df['Gewicht'] = df['Gewicht'].convert_objects(convert_numeric=True)\n",
    "display(df.head())"
   ]
  },
  {
   "cell_type": "code",
   "execution_count": 3,
   "metadata": {
    "collapsed": false
   },
   "outputs": [
    {
     "data": {
      "text/html": [
       "<div>\n",
       "<table border=\"1\" class=\"dataframe\">\n",
       "  <thead>\n",
       "    <tr style=\"text-align: right;\">\n",
       "      <th></th>\n",
       "      <th></th>\n",
       "      <th></th>\n",
       "      <th>Anzahl</th>\n",
       "      <th>\\%</th>\n",
       "      <th>Gewicht (kg)</th>\n",
       "      <th>\\%</th>\n",
       "    </tr>\n",
       "    <tr>\n",
       "      <th>ort_kurz</th>\n",
       "      <th>bef_nr</th>\n",
       "      <th>bef_art</th>\n",
       "      <th></th>\n",
       "      <th></th>\n",
       "      <th></th>\n",
       "      <th></th>\n",
       "    </tr>\n",
       "  </thead>\n",
       "  <tbody>\n",
       "    <tr>\n",
       "      <th rowspan=\"2\" valign=\"top\">BBS</th>\n",
       "      <th>87/1</th>\n",
       "      <th>Schicht</th>\n",
       "      <td>67</td>\n",
       "      <td>2.3</td>\n",
       "      <td>0.77</td>\n",
       "      <td>1.0</td>\n",
       "    </tr>\n",
       "    <tr>\n",
       "      <th>87/2</th>\n",
       "      <th>Schicht</th>\n",
       "      <td>95</td>\n",
       "      <td>3.2</td>\n",
       "      <td>0.72</td>\n",
       "      <td>0.9</td>\n",
       "    </tr>\n",
       "    <tr>\n",
       "      <th>BLK</th>\n",
       "      <th>87/1</th>\n",
       "      <th>Grab</th>\n",
       "      <td>58</td>\n",
       "      <td>2.0</td>\n",
       "      <td>8.07</td>\n",
       "      <td>10.4</td>\n",
       "    </tr>\n",
       "    <tr>\n",
       "      <th>LKW 186</th>\n",
       "      <th>87/186</th>\n",
       "      <th>Grube</th>\n",
       "      <td>18</td>\n",
       "      <td>0.6</td>\n",
       "      <td>1.98</td>\n",
       "      <td>2.5</td>\n",
       "    </tr>\n",
       "    <tr>\n",
       "      <th>MIT</th>\n",
       "      <th>87/103</th>\n",
       "      <th>Grube</th>\n",
       "      <td>12</td>\n",
       "      <td>0.4</td>\n",
       "      <td>0.28</td>\n",
       "      <td>0.4</td>\n",
       "    </tr>\n",
       "    <tr>\n",
       "      <th>MKA</th>\n",
       "      <th>87/102</th>\n",
       "      <th>Grube (?)</th>\n",
       "      <td>4</td>\n",
       "      <td>0.1</td>\n",
       "      <td>0.20</td>\n",
       "      <td>0.3</td>\n",
       "    </tr>\n",
       "    <tr>\n",
       "      <th rowspan=\"4\" valign=\"top\">MLB</th>\n",
       "      <th>85/1-3-1</th>\n",
       "      <th>Grube</th>\n",
       "      <td>305</td>\n",
       "      <td>10.4</td>\n",
       "      <td>4.50</td>\n",
       "      <td>5.8</td>\n",
       "    </tr>\n",
       "    <tr>\n",
       "      <th>85/1-3-2</th>\n",
       "      <th>Grube</th>\n",
       "      <td>109</td>\n",
       "      <td>3.7</td>\n",
       "      <td>3.30</td>\n",
       "      <td>4.3</td>\n",
       "    </tr>\n",
       "    <tr>\n",
       "      <th>85/1-4-3</th>\n",
       "      <th>Grab</th>\n",
       "      <td>7</td>\n",
       "      <td>0.2</td>\n",
       "      <td>0.08</td>\n",
       "      <td>0.1</td>\n",
       "    </tr>\n",
       "    <tr>\n",
       "      <th>85/103</th>\n",
       "      <th>Grube</th>\n",
       "      <td>15</td>\n",
       "      <td>0.5</td>\n",
       "      <td>0.83</td>\n",
       "      <td>1.1</td>\n",
       "    </tr>\n",
       "    <tr>\n",
       "      <th rowspan=\"4\" valign=\"top\">MUN</th>\n",
       "      <th>87/1</th>\n",
       "      <th>Grube/Ofen</th>\n",
       "      <td>406</td>\n",
       "      <td>13.8</td>\n",
       "      <td>12.55</td>\n",
       "      <td>16.2</td>\n",
       "    </tr>\n",
       "    <tr>\n",
       "      <th>87/2-1-1</th>\n",
       "      <th>Grube/Ofen</th>\n",
       "      <td>79</td>\n",
       "      <td>2.7</td>\n",
       "      <td>7.05</td>\n",
       "      <td>9.1</td>\n",
       "    </tr>\n",
       "    <tr>\n",
       "      <th>87/2-1-3</th>\n",
       "      <th>Grube</th>\n",
       "      <td>130</td>\n",
       "      <td>4.4</td>\n",
       "      <td>10.84</td>\n",
       "      <td>14.0</td>\n",
       "    </tr>\n",
       "    <tr>\n",
       "      <th>87/3</th>\n",
       "      <th>Ofen</th>\n",
       "      <td>55</td>\n",
       "      <td>1.9</td>\n",
       "      <td>2.24</td>\n",
       "      <td>2.9</td>\n",
       "    </tr>\n",
       "    <tr>\n",
       "      <th>NGO</th>\n",
       "      <th>87/102</th>\n",
       "      <th>Grube (?)</th>\n",
       "      <td>6</td>\n",
       "      <td>0.2</td>\n",
       "      <td>3.56</td>\n",
       "      <td>4.6</td>\n",
       "    </tr>\n",
       "    <tr>\n",
       "      <th rowspan=\"3\" valign=\"top\">PIK</th>\n",
       "      <th>87/1</th>\n",
       "      <th>Grube</th>\n",
       "      <td>463</td>\n",
       "      <td>15.7</td>\n",
       "      <td>12.13</td>\n",
       "      <td>15.6</td>\n",
       "    </tr>\n",
       "    <tr>\n",
       "      <th>87/2</th>\n",
       "      <th>Grube</th>\n",
       "      <td>1078</td>\n",
       "      <td>36.7</td>\n",
       "      <td>8.18</td>\n",
       "      <td>10.5</td>\n",
       "    </tr>\n",
       "    <tr>\n",
       "      <th>87/3</th>\n",
       "      <th>Ofen</th>\n",
       "      <td>34</td>\n",
       "      <td>1.2</td>\n",
       "      <td>0.34</td>\n",
       "      <td>0.4</td>\n",
       "    </tr>\n",
       "  </tbody>\n",
       "</table>\n",
       "</div>"
      ],
      "text/plain": [
       "                              Anzahl    \\%  Gewicht (kg)    \\%\n",
       "ort_kurz bef_nr   bef_art                                     \n",
       "BBS      87/1     Schicht         67   2.3          0.77   1.0\n",
       "         87/2     Schicht         95   3.2          0.72   0.9\n",
       "BLK      87/1     Grab            58   2.0          8.07  10.4\n",
       "LKW 186  87/186   Grube           18   0.6          1.98   2.5\n",
       "MIT      87/103   Grube           12   0.4          0.28   0.4\n",
       "MKA      87/102   Grube (?)        4   0.1          0.20   0.3\n",
       "MLB      85/1-3-1 Grube          305  10.4          4.50   5.8\n",
       "         85/1-3-2 Grube          109   3.7          3.30   4.3\n",
       "         85/1-4-3 Grab             7   0.2          0.08   0.1\n",
       "         85/103   Grube           15   0.5          0.83   1.1\n",
       "MUN      87/1     Grube/Ofen     406  13.8         12.55  16.2\n",
       "         87/2-1-1 Grube/Ofen      79   2.7          7.05   9.1\n",
       "         87/2-1-3 Grube          130   4.4         10.84  14.0\n",
       "         87/3     Ofen            55   1.9          2.24   2.9\n",
       "NGO      87/102   Grube (?)        6   0.2          3.56   4.6\n",
       "PIK      87/1     Grube          463  15.7         12.13  15.6\n",
       "         87/2     Grube         1078  36.7          8.18  10.5\n",
       "         87/3     Ofen            34   1.2          0.34   0.4"
      ]
     },
     "execution_count": 3,
     "metadata": {},
     "output_type": "execute_result"
    }
   ],
   "source": [
    "df_pivot1 = pd.DataFrame(df.pivot_table(values = 'Gewicht', index = ['ort_kurz', 'bef_nr', 'bef_art'], aggfunc = np.sum))\n",
    "df_pivot1['\\%'] = (df_pivot1['Gewicht']/df_pivot1['Gewicht'].sum()*100).round(1)\n",
    "df_pivot1['Gewicht'] = (df_pivot1['Gewicht'] / 1000).round(2)\n",
    "df_pivot1.rename(columns={'Gewicht': 'Gewicht (kg)'}, inplace=True)\n",
    "\n",
    "df_pivot2 = pd.DataFrame(df.pivot_table(values = 'Anzahl', index = ['ort_kurz', 'bef_nr', 'bef_art'], aggfunc = np.sum))\n",
    "df_pivot2['\\%'] = (df_pivot2['Anzahl']/df_pivot2['Anzahl'].sum()*100).round(1)\n",
    "\n",
    "df_concat = pd.concat([df_pivot2, df_pivot1], axis = 1)\n",
    "df_concat.to_latex('../output/tabs/2-1_Bef_Grabungen.tex')\n",
    "df_concat"
   ]
  },
  {
   "cell_type": "markdown",
   "metadata": {},
   "source": [
    "> **Grabungsbefunde** Scherbengewicht"
   ]
  },
  {
   "cell_type": "code",
   "execution_count": 4,
   "metadata": {
    "collapsed": false
   },
   "outputs": [
    {
     "name": "stderr",
     "output_type": "stream",
     "text": [
      "C:\\Users\\DirkSeidenticker\\Anaconda3\\lib\\site-packages\\ipykernel\\__main__.py:3: FutureWarning: by argument to sort_index is deprecated, pls use .sort_values(by=...)\n",
      "  app.launch_new_instance()\n"
     ]
    },
    {
     "data": {
      "image/png": "[encoded data removed]",
      "text/plain": [
       "<matplotlib.figure.Figure at 0x9cc4ac8>"
      ]
     },
     "metadata": {},
     "output_type": "display_data"
    }
   ],
   "source": [
    "df_pivot = df.pivot_table(values = 'Gewicht', index = ['ort_kurz', 'bef_nr', 'bef_art'], aggfunc = np.sum)\n",
    "df_pivot = df_pivot.reset_index()\n",
    "df_pivot = df_pivot.sort_index(by=['Gewicht'], ascending=[True])\n",
    "df_pivot.plot(y = 'Gewicht', kind = 'barh', color = 'grey', legend=None)\n",
    "\n",
    "plt.xlabel('Gewicht [kg]')\n",
    "plt.ylabel('Befunde')\n",
    "plt.show()"
   ]
  },
  {
   "cell_type": "markdown",
   "metadata": {},
   "source": [
    "> **Abb. #** Grabungsbefunde: Keramikgewicht."
   ]
  },
  {
   "cell_type": "markdown",
   "metadata": {},
   "source": [
    "### Fragmentierung der Funde innerhalb der Grabungsbefunde"
   ]
  },
  {
   "cell_type": "code",
   "execution_count": 5,
   "metadata": {
    "collapsed": false
   },
   "outputs": [
    {
     "data": {
      "text/html": [
       "<div>\n",
       "<table border=\"1\" class=\"dataframe\">\n",
       "  <thead>\n",
       "    <tr style=\"text-align: right;\">\n",
       "      <th></th>\n",
       "      <th>Gr_Clist</th>\n",
       "      <th>30.0</th>\n",
       "      <th>70.0</th>\n",
       "      <th>120.0</th>\n",
       "      <th>200.0</th>\n",
       "      <th>&gt;200</th>\n",
       "    </tr>\n",
       "    <tr>\n",
       "      <th>ort_kurz</th>\n",
       "      <th>bef_nr</th>\n",
       "      <th></th>\n",
       "      <th></th>\n",
       "      <th></th>\n",
       "      <th></th>\n",
       "      <th></th>\n",
       "    </tr>\n",
       "  </thead>\n",
       "  <tbody>\n",
       "    <tr>\n",
       "      <th rowspan=\"2\" valign=\"top\">BBS</th>\n",
       "      <th>87/1</th>\n",
       "      <td>16.0</td>\n",
       "      <td>30.0</td>\n",
       "      <td>0.0</td>\n",
       "      <td>0.0</td>\n",
       "      <td>0.0</td>\n",
       "    </tr>\n",
       "    <tr>\n",
       "      <th>87/2</th>\n",
       "      <td>23.0</td>\n",
       "      <td>18.0</td>\n",
       "      <td>1.0</td>\n",
       "      <td>0.0</td>\n",
       "      <td>0.0</td>\n",
       "    </tr>\n",
       "    <tr>\n",
       "      <th>BLK</th>\n",
       "      <th>87/1</th>\n",
       "      <td>0.0</td>\n",
       "      <td>0.0</td>\n",
       "      <td>1.0</td>\n",
       "      <td>1.0</td>\n",
       "      <td>5.0</td>\n",
       "    </tr>\n",
       "    <tr>\n",
       "      <th>LKW 186</th>\n",
       "      <th>87/186</th>\n",
       "      <td>6.0</td>\n",
       "      <td>7.0</td>\n",
       "      <td>4.0</td>\n",
       "      <td>0.0</td>\n",
       "      <td>1.0</td>\n",
       "    </tr>\n",
       "    <tr>\n",
       "      <th>MIT</th>\n",
       "      <th>87/103</th>\n",
       "      <td>0.0</td>\n",
       "      <td>2.0</td>\n",
       "      <td>1.0</td>\n",
       "      <td>0.0</td>\n",
       "      <td>0.0</td>\n",
       "    </tr>\n",
       "    <tr>\n",
       "      <th>MKA</th>\n",
       "      <th>87/102</th>\n",
       "      <td>0.0</td>\n",
       "      <td>0.0</td>\n",
       "      <td>0.0</td>\n",
       "      <td>1.0</td>\n",
       "      <td>0.0</td>\n",
       "    </tr>\n",
       "    <tr>\n",
       "      <th rowspan=\"4\" valign=\"top\">MLB</th>\n",
       "      <th>85/1-3-1</th>\n",
       "      <td>18.0</td>\n",
       "      <td>71.0</td>\n",
       "      <td>9.0</td>\n",
       "      <td>1.0</td>\n",
       "      <td>0.0</td>\n",
       "    </tr>\n",
       "    <tr>\n",
       "      <th>85/1-3-2</th>\n",
       "      <td>22.0</td>\n",
       "      <td>38.0</td>\n",
       "      <td>8.0</td>\n",
       "      <td>1.0</td>\n",
       "      <td>0.0</td>\n",
       "    </tr>\n",
       "    <tr>\n",
       "      <th>85/1-4-3</th>\n",
       "      <td>5.0</td>\n",
       "      <td>2.0</td>\n",
       "      <td>0.0</td>\n",
       "      <td>0.0</td>\n",
       "      <td>0.0</td>\n",
       "    </tr>\n",
       "    <tr>\n",
       "      <th>85/103</th>\n",
       "      <td>1.0</td>\n",
       "      <td>7.0</td>\n",
       "      <td>7.0</td>\n",
       "      <td>0.0</td>\n",
       "      <td>0.0</td>\n",
       "    </tr>\n",
       "    <tr>\n",
       "      <th rowspan=\"4\" valign=\"top\">MUN</th>\n",
       "      <th>87/1</th>\n",
       "      <td>30.0</td>\n",
       "      <td>76.0</td>\n",
       "      <td>25.0</td>\n",
       "      <td>11.0</td>\n",
       "      <td>1.0</td>\n",
       "    </tr>\n",
       "    <tr>\n",
       "      <th>87/2-1-1</th>\n",
       "      <td>5.0</td>\n",
       "      <td>18.0</td>\n",
       "      <td>6.0</td>\n",
       "      <td>5.0</td>\n",
       "      <td>4.0</td>\n",
       "    </tr>\n",
       "    <tr>\n",
       "      <th>87/2-1-3</th>\n",
       "      <td>21.0</td>\n",
       "      <td>45.0</td>\n",
       "      <td>12.0</td>\n",
       "      <td>9.0</td>\n",
       "      <td>4.0</td>\n",
       "    </tr>\n",
       "    <tr>\n",
       "      <th>87/3</th>\n",
       "      <td>8.0</td>\n",
       "      <td>11.0</td>\n",
       "      <td>6.0</td>\n",
       "      <td>3.0</td>\n",
       "      <td>0.0</td>\n",
       "    </tr>\n",
       "    <tr>\n",
       "      <th>NGO</th>\n",
       "      <th>87/102</th>\n",
       "      <td>0.0</td>\n",
       "      <td>0.0</td>\n",
       "      <td>2.0</td>\n",
       "      <td>2.0</td>\n",
       "      <td>2.0</td>\n",
       "    </tr>\n",
       "    <tr>\n",
       "      <th rowspan=\"3\" valign=\"top\">PIK</th>\n",
       "      <th>87/1</th>\n",
       "      <td>235.0</td>\n",
       "      <td>198.0</td>\n",
       "      <td>24.0</td>\n",
       "      <td>6.0</td>\n",
       "      <td>0.0</td>\n",
       "    </tr>\n",
       "    <tr>\n",
       "      <th>87/2</th>\n",
       "      <td>97.0</td>\n",
       "      <td>122.0</td>\n",
       "      <td>3.0</td>\n",
       "      <td>0.0</td>\n",
       "      <td>0.0</td>\n",
       "    </tr>\n",
       "    <tr>\n",
       "      <th>87/3</th>\n",
       "      <td>11.0</td>\n",
       "      <td>9.0</td>\n",
       "      <td>1.0</td>\n",
       "      <td>0.0</td>\n",
       "      <td>0.0</td>\n",
       "    </tr>\n",
       "  </tbody>\n",
       "</table>\n",
       "</div>"
      ],
      "text/plain": [
       "Gr_Clist            30.0   70.0  120.0  200.0  >200\n",
       "ort_kurz bef_nr                                    \n",
       "BBS      87/1       16.0   30.0    0.0    0.0   0.0\n",
       "         87/2       23.0   18.0    1.0    0.0   0.0\n",
       "BLK      87/1        0.0    0.0    1.0    1.0   5.0\n",
       "LKW 186  87/186      6.0    7.0    4.0    0.0   1.0\n",
       "MIT      87/103      0.0    2.0    1.0    0.0   0.0\n",
       "MKA      87/102      0.0    0.0    0.0    1.0   0.0\n",
       "MLB      85/1-3-1   18.0   71.0    9.0    1.0   0.0\n",
       "         85/1-3-2   22.0   38.0    8.0    1.0   0.0\n",
       "         85/1-4-3    5.0    2.0    0.0    0.0   0.0\n",
       "         85/103      1.0    7.0    7.0    0.0   0.0\n",
       "MUN      87/1       30.0   76.0   25.0   11.0   1.0\n",
       "         87/2-1-1    5.0   18.0    6.0    5.0   4.0\n",
       "         87/2-1-3   21.0   45.0   12.0    9.0   4.0\n",
       "         87/3        8.0   11.0    6.0    3.0   0.0\n",
       "NGO      87/102      0.0    0.0    2.0    2.0   2.0\n",
       "PIK      87/1      235.0  198.0   24.0    6.0   0.0\n",
       "         87/2       97.0  122.0    3.0    0.0   0.0\n",
       "         87/3       11.0    9.0    1.0    0.0   0.0"
      ]
     },
     "execution_count": 5,
     "metadata": {},
     "output_type": "execute_result"
    }
   ],
   "source": [
    "df['Gr_Clist'] = df['Gr_Clist'].replace('', np.nan) \n",
    "df = df.dropna(subset=['Gr_Clist'])\n",
    "\n",
    "df_pivot = df.pivot_table(values = 'Art', index = ['ort_kurz', 'bef_nr'], columns = 'Gr_Clist', aggfunc = len)\n",
    "# df_pivot2 = pd.DataFrame(df_pivot2)\n",
    "# den von Pandas angelegten Mulit-Index auflösen\n",
    "# df_pivot2 = df_pivot2.reset_index()\n",
    "df_pivot = df_pivot.rename(columns={500: '>200'})\n",
    "df_pivot = df_pivot.fillna(0)\n",
    "df_pivot.to_latex('../output/tabs/2-1_Bef_GrabungFragmentierung.tex')\n",
    "df_pivot"
   ]
  },
  {
   "cell_type": "markdown",
   "metadata": {},
   "source": [
    "> **Tab. #** Grabungsbefunde: Fragmentierung der Keramik."
   ]
  },
  {
   "cell_type": "code",
   "execution_count": 6,
   "metadata": {
    "collapsed": false
   },
   "outputs": [
    {
     "data": {
      "image/png": "[encoded data removed]",
      "text/plain": [
       "<matplotlib.figure.Figure at 0xa0fda90>"
      ]
     },
     "metadata": {},
     "output_type": "display_data"
    }
   ],
   "source": [
    "plt.imshow(df_pivot, interpolation='nearest', cmap='Greys', alpha = .5)\n",
    "plt.ylabel('Befunde/Komplexe')\n",
    "plt.xlabel('Größenklasse')\n",
    "plt.yticks(range(len(df_pivot.index)), df_pivot.index)\n",
    "plt.xticks(range(len(df_pivot.columns)), df_pivot.columns, rotation='vertical')\n",
    "for (i, j), z in np.ndenumerate(df_pivot):\n",
    "    plt.text(j, i, '{:0.0f}'.format(z), ha='center', va='center')\n",
    "plt.tight_layout()\n",
    "# plt.savefig('output/NAME.pdf', bbox_inches='tight')\n",
    "plt.show()"
   ]
  },
  {
   "cell_type": "markdown",
   "metadata": {},
   "source": [
    "## Oberflächenabsammlungen"
   ]
  },
  {
   "cell_type": "markdown",
   "metadata": {},
   "source": [
    "* 'SGH' & 'UBA' manuell hinzufügen, da diese FdSt Komplex-Nr. von Oberflächenabsammlungen ohne 0er enthalten"
   ]
  },
  {
   "cell_type": "code",
   "execution_count": 7,
   "metadata": {
    "collapsed": false
   },
   "outputs": [
    {
     "data": {
      "text/html": [
       "<div>\n",
       "<table border=\"1\" class=\"dataframe\">\n",
       "  <thead>\n",
       "    <tr style=\"text-align: right;\">\n",
       "      <th></th>\n",
       "      <th>objID</th>\n",
       "      <th>ort_kurz</th>\n",
       "      <th>ort_fluss</th>\n",
       "      <th>komplexID</th>\n",
       "      <th>bef_nr</th>\n",
       "      <th>Art</th>\n",
       "      <th>Gr_Clist</th>\n",
       "    </tr>\n",
       "  </thead>\n",
       "  <tbody>\n",
       "    <tr>\n",
       "      <th>0</th>\n",
       "      <td>10</td>\n",
       "      <td>BAT</td>\n",
       "      <td>Ubangi</td>\n",
       "      <td>12</td>\n",
       "      <td>85/101</td>\n",
       "      <td>K</td>\n",
       "      <td>70</td>\n",
       "    </tr>\n",
       "    <tr>\n",
       "      <th>1</th>\n",
       "      <td>11</td>\n",
       "      <td>BAT</td>\n",
       "      <td>Ubangi</td>\n",
       "      <td>12</td>\n",
       "      <td>85/101</td>\n",
       "      <td>K</td>\n",
       "      <td>70</td>\n",
       "    </tr>\n",
       "    <tr>\n",
       "      <th>2</th>\n",
       "      <td>12</td>\n",
       "      <td>BAT</td>\n",
       "      <td>Ubangi</td>\n",
       "      <td>12</td>\n",
       "      <td>85/101</td>\n",
       "      <td>K</td>\n",
       "      <td>120</td>\n",
       "    </tr>\n",
       "    <tr>\n",
       "      <th>3</th>\n",
       "      <td>13</td>\n",
       "      <td>BAT</td>\n",
       "      <td>Ubangi</td>\n",
       "      <td>12</td>\n",
       "      <td>85/101</td>\n",
       "      <td>K</td>\n",
       "      <td>70</td>\n",
       "    </tr>\n",
       "    <tr>\n",
       "      <th>4</th>\n",
       "      <td>14</td>\n",
       "      <td>BAT</td>\n",
       "      <td>Ubangi</td>\n",
       "      <td>12</td>\n",
       "      <td>85/101</td>\n",
       "      <td>K</td>\n",
       "      <td>120</td>\n",
       "    </tr>\n",
       "  </tbody>\n",
       "</table>\n",
       "</div>"
      ],
      "text/plain": [
       "   objID ort_kurz ort_fluss  komplexID  bef_nr Art Gr_Clist\n",
       "0     10      BAT    Ubangi         12  85/101   K       70\n",
       "1     11      BAT    Ubangi         12  85/101   K       70\n",
       "2     12      BAT    Ubangi         12  85/101   K      120\n",
       "3     13      BAT    Ubangi         12  85/101   K       70\n",
       "4     14      BAT    Ubangi         12  85/101   K      120"
      ]
     },
     "metadata": {},
     "output_type": "display_data"
    }
   ],
   "source": [
    "sql = \"\"\"SELECT\n",
    "           t_Obj.objID, \n",
    "           t_Ort.ort_kurz,\n",
    "           t_Ort.ort_fluss,\n",
    "           t_Komplex.komplexID,\n",
    "           t_Komplex.bef_nr,\n",
    "           t_Obj.Art,\n",
    "           t_Obj.Gr_Clist\n",
    "       FROM (t_Ort INNER JOIN t_Komplex ON t_Ort.ortID = t_Komplex.ortID)\n",
    "           INNER JOIN t_Obj ON t_Komplex.komplexID = t_Obj.komplexID\n",
    "       WHERE (((t_Ort.ort_lit)='DS')\n",
    "           AND ((t_Komplex.bef_art) like '%Oberfl%'))\"\"\".replace('\\n',' ')\n",
    "\n",
    "df = pd.read_sql(sql, con)\n",
    "display(df.head())"
   ]
  },
  {
   "cell_type": "code",
   "execution_count": 8,
   "metadata": {
    "collapsed": false
   },
   "outputs": [
    {
     "data": {
      "text/html": [
       "<div>\n",
       "<table border=\"1\" class=\"dataframe\">\n",
       "  <thead>\n",
       "    <tr style=\"text-align: right;\">\n",
       "      <th></th>\n",
       "      <th>komplexID</th>\n",
       "      <th>ort_kurz</th>\n",
       "    </tr>\n",
       "    <tr>\n",
       "      <th>ort_fluss</th>\n",
       "      <th></th>\n",
       "      <th></th>\n",
       "    </tr>\n",
       "  </thead>\n",
       "  <tbody>\n",
       "    <tr>\n",
       "      <th>Likwala-Esobe</th>\n",
       "      <td>28</td>\n",
       "      <td>23</td>\n",
       "    </tr>\n",
       "    <tr>\n",
       "      <th>Lua</th>\n",
       "      <td>5</td>\n",
       "      <td>4</td>\n",
       "    </tr>\n",
       "    <tr>\n",
       "      <th>Ngoko</th>\n",
       "      <td>9</td>\n",
       "      <td>8</td>\n",
       "    </tr>\n",
       "    <tr>\n",
       "      <th>Sangha</th>\n",
       "      <td>52</td>\n",
       "      <td>37</td>\n",
       "    </tr>\n",
       "    <tr>\n",
       "      <th>Ubangi</th>\n",
       "      <td>45</td>\n",
       "      <td>43</td>\n",
       "    </tr>\n",
       "    <tr>\n",
       "      <th>Zaire/Kongo</th>\n",
       "      <td>4</td>\n",
       "      <td>4</td>\n",
       "    </tr>\n",
       "  </tbody>\n",
       "</table>\n",
       "</div>"
      ],
      "text/plain": [
       "               komplexID  ort_kurz\n",
       "ort_fluss                         \n",
       "Likwala-Esobe         28        23\n",
       "Lua                    5         4\n",
       "Ngoko                  9         8\n",
       "Sangha                52        37\n",
       "Ubangi                45        43\n",
       "Zaire/Kongo            4         4"
      ]
     },
     "execution_count": 8,
     "metadata": {},
     "output_type": "execute_result"
    }
   ],
   "source": [
    "df_pivot = df.pivot_table(values = ['ort_kurz', 'komplexID'], index = 'ort_fluss',  aggfunc = lambda x: len(x.unique()))\n",
    "df_pivot = pd.DataFrame(df_pivot)\n",
    "df_pivot"
   ]
  },
  {
   "cell_type": "markdown",
   "metadata": {},
   "source": [
    "Die Tabelle enthält in der Spalte 'komplexID' die Anzahl der individuellen Komplexe je Flusslauf und in der Spalte 'ort_kurz' die Anzahl der verschiedenen Fundstellen."
   ]
  },
  {
   "cell_type": "code",
   "execution_count": 9,
   "metadata": {
    "collapsed": false
   },
   "outputs": [
    {
     "data": {
      "text/plain": [
       "119"
      ]
     },
     "execution_count": 9,
     "metadata": {},
     "output_type": "execute_result"
    }
   ],
   "source": [
    "sum(df_pivot['ort_kurz'])"
   ]
  },
  {
   "cell_type": "code",
   "execution_count": 10,
   "metadata": {
    "collapsed": false
   },
   "outputs": [
    {
     "data": {
      "text/plain": [
       "143"
      ]
     },
     "execution_count": 10,
     "metadata": {},
     "output_type": "execute_result"
    }
   ],
   "source": [
    "sum(df_pivot['komplexID'])"
   ]
  },
  {
   "cell_type": "markdown",
   "metadata": {},
   "source": [
    "zusätzlich + 13 Grabungsbefunde"
   ]
  },
  {
   "cell_type": "markdown",
   "metadata": {},
   "source": [
    "### Anzahl der Scherben in den Oberflächenabsammlungen"
   ]
  },
  {
   "cell_type": "markdown",
   "metadata": {},
   "source": [
    "* 'SGH' & 'UBA' manuell hinzufügen, da diese FdSt Komplex-Nr. von Oberflächenabsammlungen ohne 0er enthalten"
   ]
  },
  {
   "cell_type": "code",
   "execution_count": 11,
   "metadata": {
    "collapsed": false
   },
   "outputs": [
    {
     "name": "stderr",
     "output_type": "stream",
     "text": [
      "C:\\Users\\DirkSeidenticker\\Anaconda3\\lib\\site-packages\\ipykernel\\__main__.py:11: FutureWarning: convert_objects is deprecated.  Use the data-type specific converters pd.to_datetime, pd.to_timedelta and pd.to_numeric.\n"
     ]
    }
   ],
   "source": [
    "sql = \"\"\"SELECT\n",
    "           t_Obj.objID, \n",
    "           t_Komplex.komplexID,\n",
    "           t_Obj.Anzahl\n",
    "       FROM (t_Ort INNER JOIN t_Komplex ON t_Ort.ortID = t_Komplex.ortID)\n",
    "           INNER JOIN t_Obj ON t_Komplex.komplexID = t_Obj.komplexID\n",
    "       WHERE (((t_Ort.ort_lit)='DS')\n",
    "           AND ((t_Komplex.bef_art) like '%Oberfl%'))\"\"\".replace('\\n',' ')\n",
    "\n",
    "df = pd.read_sql(sql, con)\n",
    "df['Anzahl'] = df['Anzahl'].convert_objects(convert_numeric=True)\n",
    "# display(df.head())"
   ]
  },
  {
   "cell_type": "code",
   "execution_count": 12,
   "metadata": {
    "collapsed": false
   },
   "outputs": [],
   "source": [
    "df_pivot = df.pivot_table(values = 'Anzahl', index = 'komplexID',  aggfunc = np.sum)\n",
    "df_pivot = pd.DataFrame(df_pivot)\n",
    "# display(df_pivot.head())"
   ]
  },
  {
   "cell_type": "code",
   "execution_count": 13,
   "metadata": {
    "collapsed": false
   },
   "outputs": [
    {
     "name": "stderr",
     "output_type": "stream",
     "text": [
      "C:\\Users\\DirkSeidenticker\\Anaconda3\\lib\\site-packages\\numpy\\lib\\function_base.py:564: VisibleDeprecationWarning: using a non-integer number instead of an integer will result in an error in the future\n",
      "  n = np.zeros(bins, ntype)\n",
      "C:\\Users\\DirkSeidenticker\\Anaconda3\\lib\\site-packages\\numpy\\lib\\function_base.py:611: VisibleDeprecationWarning: using a non-integer number instead of an integer will result in an error in the future\n",
      "  n += np.bincount(indices, weights=tmp_w, minlength=bins).astype(ntype)\n"
     ]
    },
    {
     "data": {
      "image/png": "[encoded data removed]",
      "text/plain": [
       "<matplotlib.figure.Figure at 0xb6ee9b0>"
      ]
     },
     "metadata": {},
     "output_type": "display_data"
    }
   ],
   "source": [
    "bins = df_pivot['Anzahl'].max() - df_pivot['Anzahl'].min()\n",
    "mean = df_pivot['Anzahl'].mean()\n",
    "\n",
    "df_pivot['Anzahl'].hist(bins = round(bins/5))\n",
    "plt.axvline(mean, color='r', linestyle = '--')\n",
    "plt.xlabel('Anzahl Fundstücke')\n",
    "plt.ylabel('Anzahl Komplexe [Oberflächenabsammlung]')\n",
    "plt.legend([\"Mittelwert\"])\n",
    "# plt.savefig('output/ABC.pdf')\n",
    "plt.show()"
   ]
  },
  {
   "cell_type": "markdown",
   "metadata": {},
   "source": [
    "Mittlere Anzahl Fundstücke je Oberflächenkomplex:"
   ]
  },
  {
   "cell_type": "code",
   "execution_count": 14,
   "metadata": {
    "collapsed": false
   },
   "outputs": [
    {
     "data": {
      "text/plain": [
       "1 Minimum         1.000000\n",
       "3 Median         22.000000\n",
       "3 Mittelwert     40.398601\n",
       "4 Maximum       289.000000\n",
       "dtype: float64"
      ]
     },
     "execution_count": 14,
     "metadata": {},
     "output_type": "execute_result"
    }
   ],
   "source": [
    "pd.Series({'1 Minimum':np.min(df_pivot['Anzahl']),\n",
    "           '3 Mittelwert':np.mean(df_pivot['Anzahl']),\n",
    "           '3 Median':np.median(df_pivot['Anzahl']),\n",
    "           '4 Maximum':np.max(df_pivot['Anzahl'])})"
   ]
  },
  {
   "cell_type": "code",
   "execution_count": 15,
   "metadata": {
    "collapsed": false
   },
   "outputs": [
    {
     "data": {
      "text/plain": [
       "count    143.000000\n",
       "mean      40.398601\n",
       "std       50.416315\n",
       "min        1.000000\n",
       "25%        7.000000\n",
       "50%       22.000000\n",
       "75%       52.500000\n",
       "max      289.000000\n",
       "Name: Anzahl, dtype: float64"
      ]
     },
     "execution_count": 15,
     "metadata": {},
     "output_type": "execute_result"
    }
   ],
   "source": [
    "# schnellere Variante mit describe()\n",
    "df_pivot['Anzahl'].describe()"
   ]
  },
  {
   "cell_type": "markdown",
   "metadata": {},
   "source": [
    "Anzahl der Fundstücke aus Oberflächenabsammlungen:"
   ]
  },
  {
   "cell_type": "code",
   "execution_count": 16,
   "metadata": {
    "collapsed": false
   },
   "outputs": [
    {
     "data": {
      "text/plain": [
       "5777.0"
      ]
     },
     "execution_count": 16,
     "metadata": {},
     "output_type": "execute_result"
    }
   ],
   "source": [
    "np.sum(df_pivot['Anzahl'])"
   ]
  }
 ],
 "metadata": {
  "anaconda-cloud": {},
  "kernelspec": {
   "display_name": "Python [default]",
   "language": "python",
   "name": "python3"
  },
  "language_info": {
   "codemirror_mode": {
    "name": "ipython",
    "version": 3
   },
   "file_extension": ".py",
   "mimetype": "text/x-python",
   "name": "python",
   "nbconvert_exporter": "python",
   "pygments_lexer": "ipython3",
   "version": "3.5.2"
  }
 },
 "nbformat": 4,
 "nbformat_minor": 0
}
