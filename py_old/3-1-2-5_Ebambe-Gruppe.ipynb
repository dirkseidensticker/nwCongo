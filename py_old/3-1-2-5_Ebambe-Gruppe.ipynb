{
 "cells": [
  {
   "cell_type": "markdown",
   "metadata": {},
   "source": [
    "# Ebambe-Gruppe"
   ]
  },
  {
   "cell_type": "markdown",
   "metadata": {},
   "source": [
    "* [Funde](#Funde)\n",
    "\t* [Scherbentypen](#Scherbentypen)\n",
    "* [Technologische Merkmale (fabrics)](#Technologische-Merkmale-(fabrics))\n",
    "\t* [Brennfarbe](#Brennfarbe)\n",
    "\t* [Oberfläche der Scherben](#Oberfläche-der-Scherben)\n",
    "\t* [Wandungsdicke](#Wandungsdicke)\n",
    "* Formen\n",
    "\t* [Gefäßformen](#Gefäßformen)\n",
    "\t* [Proportionen](#Proportionen)\n",
    "\t* [Bauchform](#Bauchform)\n",
    "\t* [Mündungs- und Randformen](#Mündungs--und-Randformen)\n",
    "\t* [Bodenformen](#Bodenformen)\n",
    "* [Verzierungen](#Verzierungselemente)"
   ]
  },
  {
   "cell_type": "code",
   "execution_count": 1,
   "metadata": {
    "collapsed": true
   },
   "outputs": [],
   "source": [
    "%matplotlib inline\n",
    "from IPython.display import display\n",
    "import pandas as pd\n",
    "import numpy as np\n",
    "import matplotlib.pyplot as plt\n",
    "from mpl_toolkits.axes_grid1 import make_axes_locatable\n",
    "import sqlite3\n",
    "\n",
    "import sys, os\n",
    "sys.path.append(\"/Python\")\n",
    "from myfunctions import *\n",
    "from parula import *\n",
    "\n",
    "style = 'EBA'\n",
    "\n",
    "con = sqlite3.connect(\"../data/CongoDB.sqlite\")"
   ]
  },
  {
   "cell_type": "markdown",
   "metadata": {},
   "source": [
    "## Funde"
   ]
  },
  {
   "cell_type": "code",
   "execution_count": 19,
   "metadata": {
    "scrolled": true
   },
   "outputs": [
    {
     "name": "stderr",
     "output_type": "stream",
     "text": [
      "C:\\Users\\Dirk\\Anaconda3\\lib\\site-packages\\ipykernel\\__main__.py:22: FutureWarning: convert_objects is deprecated.  Use the data-type specific converters pd.to_datetime, pd.to_timedelta and pd.to_numeric.\n",
      "C:\\Users\\Dirk\\Anaconda3\\lib\\site-packages\\ipykernel\\__main__.py:23: FutureWarning: convert_objects is deprecated.  Use the data-type specific converters pd.to_datetime, pd.to_timedelta and pd.to_numeric.\n"
     ]
    },
    {
     "data": {
      "text/html": [
       "<div>\n",
       "<table border=\"1\" class=\"dataframe\">\n",
       "  <thead>\n",
       "    <tr style=\"text-align: right;\">\n",
       "      <th></th>\n",
       "      <th>0</th>\n",
       "      <th>Prozent</th>\n",
       "    </tr>\n",
       "  </thead>\n",
       "  <tbody>\n",
       "    <tr>\n",
       "      <th>Ausgezählt</th>\n",
       "      <td>520.0</td>\n",
       "      <td>65.0</td>\n",
       "    </tr>\n",
       "    <tr>\n",
       "      <th>GE</th>\n",
       "      <td>280.0</td>\n",
       "      <td>35.0</td>\n",
       "    </tr>\n",
       "  </tbody>\n",
       "</table>\n",
       "</div>"
      ],
      "text/plain": [
       "                0  Prozent\n",
       "Ausgezählt  520.0     65.0\n",
       "GE          280.0     35.0"
      ]
     },
     "execution_count": 19,
     "metadata": {},
     "output_type": "execute_result"
    }
   ],
   "source": [
    "sql = \"\"\"SELECT\n",
    "           t_Obj.objID,\n",
    "           t_Ort.ort_kurz,\n",
    "           't_Ort'.'ort_name' || ' (Fpl. ' || 't_ort'.'Kat-Nr' || ')' AS Ort,\n",
    "           t_Komplex.bef_nr,\n",
    "           t_Komplex.bef_art,\n",
    "           t_Ort.ort_fluss,\n",
    "           t_Obj.GefEinheit AS GE,\n",
    "           t_Obj.Scherbe,\n",
    "           t_Obj.Gewicht,\n",
    "           t_Obj.Anzahl,\n",
    "           t_Obj.Gr_Clist,\n",
    "           t_Obj.Typ\n",
    "       FROM (t_Ort INNER JOIN t_Komplex ON t_Ort.ortID = t_Komplex.ortID)\n",
    "           INNER JOIN t_Obj ON t_Komplex.komplexID = t_Obj.komplexID\n",
    "       WHERE (((t_Ort.ort_lit)='DS')\n",
    "           AND ((t_Obj.Typ) Like '%\"\"\"+style+\"\"\"%')\n",
    "           AND ((t_Obj.Art) = 'K'))\"\"\".replace('\\n',' ')\n",
    "\n",
    "df = pd.read_sql(sql, con)\n",
    "\n",
    "df['Gewicht'] = df['Gewicht'].convert_objects(convert_numeric=True)\n",
    "df['Anzahl'] = df['Anzahl'].convert_objects(convert_numeric=True)\n",
    "\n",
    "# display(df.head())\n",
    "\n",
    "a = pd.Series({'GE':np.sum(df['Anzahl'].loc[df['Anzahl'] == 1]),\n",
    "               'Ausgezählt':np.sum(df['Anzahl'].loc[df['Anzahl'] != 1])})\n",
    "a = pd.DataFrame(a)\n",
    "a['Prozent'] = a[0]/a[0].sum()*100\n",
    "a"
   ]
  },
  {
   "cell_type": "code",
   "execution_count": 20,
   "metadata": {
    "collapsed": true
   },
   "outputs": [],
   "source": [
    "# nur einzeln aufgenommene GE\n",
    "df_ge = df.loc[df['Anzahl'] == 1]"
   ]
  },
  {
   "cell_type": "code",
   "execution_count": 21,
   "metadata": {},
   "outputs": [
    {
     "data": {
      "text/plain": [
       "228.0"
      ]
     },
     "execution_count": 21,
     "metadata": {},
     "output_type": "execute_result"
    }
   ],
   "source": [
    "np.sum(df['Anzahl'].loc[df['Typ'].str.contains(\" \")])"
   ]
  },
  {
   "cell_type": "code",
   "execution_count": 22,
   "metadata": {},
   "outputs": [
    {
     "data": {
      "text/html": [
       "<div>\n",
       "<table border=\"1\" class=\"dataframe\">\n",
       "  <thead>\n",
       "    <tr style=\"text-align: right;\">\n",
       "      <th></th>\n",
       "      <th>0</th>\n",
       "      <th>Prozent</th>\n",
       "    </tr>\n",
       "  </thead>\n",
       "  <tbody>\n",
       "    <tr>\n",
       "      <th>fraglich</th>\n",
       "      <td>94.0</td>\n",
       "      <td>34.181818</td>\n",
       "    </tr>\n",
       "    <tr>\n",
       "      <th>sicher</th>\n",
       "      <td>181.0</td>\n",
       "      <td>65.818182</td>\n",
       "    </tr>\n",
       "  </tbody>\n",
       "</table>\n",
       "</div>"
      ],
      "text/plain": [
       "              0    Prozent\n",
       "fraglich   94.0  34.181818\n",
       "sicher    181.0  65.818182"
      ]
     },
     "execution_count": 22,
     "metadata": {},
     "output_type": "execute_result"
    }
   ],
   "source": [
    "a = pd.Series({'sicher':np.sum(df_ge['Anzahl'].loc[df_ge['Typ'] == style]),\n",
    "               'fraglich':np.sum(df_ge['Anzahl'].loc[df_ge['Typ'].str.contains(' ')])})\n",
    "a = pd.DataFrame(a)\n",
    "a['Prozent'] = a[0]/a[0].sum()*100\n",
    "a"
   ]
  },
  {
   "cell_type": "code",
   "execution_count": 23,
   "metadata": {},
   "outputs": [
    {
     "data": {
      "text/html": [
       "<div>\n",
       "<table border=\"1\" class=\"dataframe\">\n",
       "  <thead>\n",
       "    <tr style=\"text-align: right;\">\n",
       "      <th></th>\n",
       "      <th></th>\n",
       "      <th></th>\n",
       "      <th>Anzahl</th>\n",
       "      <th>Gewicht</th>\n",
       "    </tr>\n",
       "    <tr>\n",
       "      <th>ort_fluss</th>\n",
       "      <th>Ort</th>\n",
       "      <th>bef_nr</th>\n",
       "      <th></th>\n",
       "      <th></th>\n",
       "    </tr>\n",
       "  </thead>\n",
       "  <tbody>\n",
       "    <tr>\n",
       "      <th rowspan=\"19\" valign=\"top\">Likwala-Esobe</th>\n",
       "      <th>Boenja (Fpl. 294)</th>\n",
       "      <th>87/101</th>\n",
       "      <td>1.0</td>\n",
       "      <td>73.0</td>\n",
       "    </tr>\n",
       "    <tr>\n",
       "      <th>Bojenjo (Fpl. 292)</th>\n",
       "      <th>87/101</th>\n",
       "      <td>7.0</td>\n",
       "      <td>139.0</td>\n",
       "    </tr>\n",
       "    <tr>\n",
       "      <th>Botongo (Fpl. 302)</th>\n",
       "      <th>87/101</th>\n",
       "      <td>1.0</td>\n",
       "      <td>20.0</td>\n",
       "    </tr>\n",
       "    <tr>\n",
       "      <th>Botwale (Fpl. 286)</th>\n",
       "      <th>87/101</th>\n",
       "      <td>2.0</td>\n",
       "      <td>1638.0</td>\n",
       "    </tr>\n",
       "    <tr>\n",
       "      <th>Boyenge (Fpl. 284)</th>\n",
       "      <th>87/101</th>\n",
       "      <td>NaN</td>\n",
       "      <td>NaN</td>\n",
       "    </tr>\n",
       "    <tr>\n",
       "      <th>Ebambe (Fpl. 297)</th>\n",
       "      <th>87/101</th>\n",
       "      <td>61.0</td>\n",
       "      <td>4058.0</td>\n",
       "    </tr>\n",
       "    <tr>\n",
       "      <th>Itanga (Fpl. 305)</th>\n",
       "      <th>87/103</th>\n",
       "      <td>3.0</td>\n",
       "      <td>473.0</td>\n",
       "    </tr>\n",
       "    <tr>\n",
       "      <th>Epena (Fpl. 303)</th>\n",
       "      <th>87/101</th>\n",
       "      <td>12.0</td>\n",
       "      <td>1139.4</td>\n",
       "    </tr>\n",
       "    <tr>\n",
       "      <th>Likunda (Fpl. 300)</th>\n",
       "      <th>87/101</th>\n",
       "      <td>8.0</td>\n",
       "      <td>1682.0</td>\n",
       "    </tr>\n",
       "    <tr>\n",
       "      <th>Lokolélé (Fpl. 290)</th>\n",
       "      <th>87/101</th>\n",
       "      <td>2.0</td>\n",
       "      <td>54.0</td>\n",
       "    </tr>\n",
       "    <tr>\n",
       "      <th rowspan=\"2\" valign=\"top\">Mosenge (Fpl. 299)</th>\n",
       "      <th>87/101</th>\n",
       "      <td>85.0</td>\n",
       "      <td>3574.0</td>\n",
       "    </tr>\n",
       "    <tr>\n",
       "      <th>87/102</th>\n",
       "      <td>1.0</td>\n",
       "      <td>815.0</td>\n",
       "    </tr>\n",
       "    <tr>\n",
       "      <th>Mosengi (Fpl. 296)</th>\n",
       "      <th>87/101</th>\n",
       "      <td>28.0</td>\n",
       "      <td>1508.0</td>\n",
       "    </tr>\n",
       "    <tr>\n",
       "      <th rowspan=\"2\" valign=\"top\">Munda (Fpl. 304)</th>\n",
       "      <th>87/1</th>\n",
       "      <td>391.0</td>\n",
       "      <td>11839.0</td>\n",
       "    </tr>\n",
       "    <tr>\n",
       "      <th>87/101</th>\n",
       "      <td>20.0</td>\n",
       "      <td>2577.0</td>\n",
       "    </tr>\n",
       "    <tr>\n",
       "      <th>Ngombe (Fpl. 283)</th>\n",
       "      <th>87/101</th>\n",
       "      <td>9.0</td>\n",
       "      <td>179.0</td>\n",
       "    </tr>\n",
       "    <tr>\n",
       "      <th rowspan=\"3\" valign=\"top\">Yumba (Fpl. 289)</th>\n",
       "      <th>87/101</th>\n",
       "      <td>6.0</td>\n",
       "      <td>427.0</td>\n",
       "    </tr>\n",
       "    <tr>\n",
       "      <th>87/102</th>\n",
       "      <td>5.0</td>\n",
       "      <td>153.0</td>\n",
       "    </tr>\n",
       "    <tr>\n",
       "      <th>87/103</th>\n",
       "      <td>6.0</td>\n",
       "      <td>169.0</td>\n",
       "    </tr>\n",
       "    <tr>\n",
       "      <th>Ngoko</th>\n",
       "      <th>Mbenja (Fpl. 277)</th>\n",
       "      <th>87/101</th>\n",
       "      <td>2.0</td>\n",
       "      <td>28.0</td>\n",
       "    </tr>\n",
       "    <tr>\n",
       "      <th rowspan=\"19\" valign=\"top\">Sangha</th>\n",
       "      <th>Bokonongo (Fpl. 250)</th>\n",
       "      <th>87/103</th>\n",
       "      <td>2.0</td>\n",
       "      <td>457.0</td>\n",
       "    </tr>\n",
       "    <tr>\n",
       "      <th>Ifondo (Fpl. 253)</th>\n",
       "      <th>87/101</th>\n",
       "      <td>1.0</td>\n",
       "      <td>4.0</td>\n",
       "    </tr>\n",
       "    <tr>\n",
       "      <th>Loboko (Fpl. 248)</th>\n",
       "      <th>87/101</th>\n",
       "      <td>8.0</td>\n",
       "      <td>248.0</td>\n",
       "    </tr>\n",
       "    <tr>\n",
       "      <th>Maboko (Fpl. 267)</th>\n",
       "      <th>87/101</th>\n",
       "      <td>1.0</td>\n",
       "      <td>27.0</td>\n",
       "    </tr>\n",
       "    <tr>\n",
       "      <th>Mai impembe (Fpl. 271)</th>\n",
       "      <th>87/103</th>\n",
       "      <td>1.0</td>\n",
       "      <td>34.0</td>\n",
       "    </tr>\n",
       "    <tr>\n",
       "      <th>Mandombe (Fpl. 259)</th>\n",
       "      <th>87/101</th>\n",
       "      <td>1.0</td>\n",
       "      <td>7.0</td>\n",
       "    </tr>\n",
       "    <tr>\n",
       "      <th>Matoto (Fpl. 264)</th>\n",
       "      <th>87/101</th>\n",
       "      <td>1.0</td>\n",
       "      <td>7.0</td>\n",
       "    </tr>\n",
       "    <tr>\n",
       "      <th>Molanda (Fpl. 258)</th>\n",
       "      <th>87/103</th>\n",
       "      <td>4.0</td>\n",
       "      <td>99.0</td>\n",
       "    </tr>\n",
       "    <tr>\n",
       "      <th>Monjolomba (Fpl. 243)</th>\n",
       "      <th>87/101</th>\n",
       "      <td>11.0</td>\n",
       "      <td>302.0</td>\n",
       "    </tr>\n",
       "    <tr>\n",
       "      <th>Mosanya (Fpl. 262)</th>\n",
       "      <th>87/101</th>\n",
       "      <td>1.0</td>\n",
       "      <td>11.0</td>\n",
       "    </tr>\n",
       "    <tr>\n",
       "      <th rowspan=\"2\" valign=\"top\">Ouesso (Fpl. 265)</th>\n",
       "      <th>87/101</th>\n",
       "      <td>1.0</td>\n",
       "      <td>11.0</td>\n",
       "    </tr>\n",
       "    <tr>\n",
       "      <th>87/102</th>\n",
       "      <td>1.0</td>\n",
       "      <td>108.0</td>\n",
       "    </tr>\n",
       "    <tr>\n",
       "      <th rowspan=\"5\" valign=\"top\">Pikunda (Fpl. 255)</th>\n",
       "      <th>87/1</th>\n",
       "      <td>2.0</td>\n",
       "      <td>59.0</td>\n",
       "    </tr>\n",
       "    <tr>\n",
       "      <th>87/101</th>\n",
       "      <td>7.0</td>\n",
       "      <td>590.0</td>\n",
       "    </tr>\n",
       "    <tr>\n",
       "      <th>87/102</th>\n",
       "      <td>1.0</td>\n",
       "      <td>1630.0</td>\n",
       "    </tr>\n",
       "    <tr>\n",
       "      <th>87/2</th>\n",
       "      <td>90.0</td>\n",
       "      <td>743.0</td>\n",
       "    </tr>\n",
       "    <tr>\n",
       "      <th>87/3</th>\n",
       "      <td>6.0</td>\n",
       "      <td>152.0</td>\n",
       "    </tr>\n",
       "    <tr>\n",
       "      <th>Sangha Fkm 40 (Fpl. 240)</th>\n",
       "      <th>87/040</th>\n",
       "      <td>1.0</td>\n",
       "      <td>11.0</td>\n",
       "    </tr>\n",
       "    <tr>\n",
       "      <th>Sosolo (Fpl. 241)</th>\n",
       "      <th>87/101</th>\n",
       "      <td>5.0</td>\n",
       "      <td>98.0</td>\n",
       "    </tr>\n",
       "    <tr>\n",
       "      <th>Ubangi</th>\n",
       "      <th>Bobangi (Fpl. 189)</th>\n",
       "      <th>85/101</th>\n",
       "      <td>1.0</td>\n",
       "      <td>15.0</td>\n",
       "    </tr>\n",
       "    <tr>\n",
       "      <th>Zaire/Kongo</th>\n",
       "      <th>Gombe (Fpl. 237)</th>\n",
       "      <th>87/101</th>\n",
       "      <td>4.0</td>\n",
       "      <td>99.0</td>\n",
       "    </tr>\n",
       "  </tbody>\n",
       "</table>\n",
       "</div>"
      ],
      "text/plain": [
       "                                               Anzahl  Gewicht\n",
       "ort_fluss     Ort                      bef_nr                 \n",
       "Likwala-Esobe Boenja (Fpl. 294)        87/101     1.0     73.0\n",
       "              Bojenjo (Fpl. 292)       87/101     7.0    139.0\n",
       "              Botongo (Fpl. 302)       87/101     1.0     20.0\n",
       "              Botwale (Fpl. 286)       87/101     2.0   1638.0\n",
       "              Boyenge (Fpl. 284)       87/101     NaN      NaN\n",
       "              Ebambe (Fpl. 297)        87/101    61.0   4058.0\n",
       "              Itanga (Fpl. 305)        87/103     3.0    473.0\n",
       "              Epena (Fpl. 303)          87/101    12.0   1139.4\n",
       "              Likunda (Fpl. 300)       87/101     8.0   1682.0\n",
       "              Lokolélé (Fpl. 290)      87/101     2.0     54.0\n",
       "              Mosenge (Fpl. 299)       87/101    85.0   3574.0\n",
       "                                       87/102     1.0    815.0\n",
       "              Mosengi (Fpl. 296)       87/101    28.0   1508.0\n",
       "              Munda (Fpl. 304)         87/1     391.0  11839.0\n",
       "                                       87/101    20.0   2577.0\n",
       "              Ngombe (Fpl. 283)        87/101     9.0    179.0\n",
       "              Yumba (Fpl. 289)         87/101     6.0    427.0\n",
       "                                       87/102     5.0    153.0\n",
       "                                       87/103     6.0    169.0\n",
       "Ngoko         Mbenja (Fpl. 277)        87/101     2.0     28.0\n",
       "Sangha        Bokonongo (Fpl. 250)     87/103     2.0    457.0\n",
       "              Ifondo (Fpl. 253)        87/101     1.0      4.0\n",
       "              Loboko (Fpl. 248)        87/101     8.0    248.0\n",
       "              Maboko (Fpl. 267)        87/101     1.0     27.0\n",
       "              Mai impembe (Fpl. 271)   87/103     1.0     34.0\n",
       "              Mandombe (Fpl. 259)      87/101     1.0      7.0\n",
       "              Matoto (Fpl. 264)        87/101     1.0      7.0\n",
       "              Molanda (Fpl. 258)       87/103     4.0     99.0\n",
       "              Monjolomba (Fpl. 243)    87/101    11.0    302.0\n",
       "              Mosanya (Fpl. 262)       87/101     1.0     11.0\n",
       "              Ouesso (Fpl. 265)        87/101     1.0     11.0\n",
       "                                       87/102     1.0    108.0\n",
       "              Pikunda (Fpl. 255)       87/1       2.0     59.0\n",
       "                                       87/101     7.0    590.0\n",
       "                                       87/102     1.0   1630.0\n",
       "                                       87/2      90.0    743.0\n",
       "                                       87/3       6.0    152.0\n",
       "              Sangha Fkm 40 (Fpl. 240) 87/040     1.0     11.0\n",
       "              Sosolo (Fpl. 241)        87/101     5.0     98.0\n",
       "Ubangi        Bobangi (Fpl. 189)       85/101     1.0     15.0\n",
       "Zaire/Kongo   Gombe (Fpl. 237)         87/101     4.0     99.0"
      ]
     },
     "execution_count": 23,
     "metadata": {},
     "output_type": "execute_result"
    }
   ],
   "source": [
    "df_pivot = df.pivot_table(values = ['Anzahl', 'Gewicht'], index = ['ort_fluss', 'Ort', 'bef_nr'], aggfunc = np.sum)\n",
    "df_pivot = pd.DataFrame(df_pivot)\n",
    "df_pivot"
   ]
  },
  {
   "cell_type": "markdown",
   "metadata": {},
   "source": [
    "Anzahl Fundorte:"
   ]
  },
  {
   "cell_type": "code",
   "execution_count": 24,
   "metadata": {},
   "outputs": [
    {
     "data": {
      "text/plain": [
       "41"
      ]
     },
     "execution_count": 24,
     "metadata": {},
     "output_type": "execute_result"
    }
   ],
   "source": [
    "len(df_pivot.index)"
   ]
  },
  {
   "cell_type": "code",
   "execution_count": 25,
   "metadata": {},
   "outputs": [
    {
     "data": {
      "text/html": [
       "<div>\n",
       "<table border=\"1\" class=\"dataframe\">\n",
       "  <thead>\n",
       "    <tr style=\"text-align: right;\">\n",
       "      <th></th>\n",
       "      <th>0</th>\n",
       "      <th>Prozent</th>\n",
       "    </tr>\n",
       "  </thead>\n",
       "  <tbody>\n",
       "    <tr>\n",
       "      <th>fraglich</th>\n",
       "      <td>94.0</td>\n",
       "      <td>34.181818</td>\n",
       "    </tr>\n",
       "    <tr>\n",
       "      <th>sicher</th>\n",
       "      <td>181.0</td>\n",
       "      <td>65.818182</td>\n",
       "    </tr>\n",
       "  </tbody>\n",
       "</table>\n",
       "</div>"
      ],
      "text/plain": [
       "              0    Prozent\n",
       "fraglich   94.0  34.181818\n",
       "sicher    181.0  65.818182"
      ]
     },
     "execution_count": 25,
     "metadata": {},
     "output_type": "execute_result"
    }
   ],
   "source": [
    "# http://pandas.pydata.org/pandas-docs/stable/cookbook.html\n",
    "df.ix[df['bef_art'].str.contains('Oberfl') == True, 'FEAT'] = 'Survey'\n",
    "df.ix[~df['bef_art'].str.contains('Oberfl') == True, 'FEAT'] = 'Grabung'\n",
    "df.ix[df['Typ'] == style, 'SICHERHEIT'] = 'sicher'\n",
    "df.ix[df['Typ'].str.contains(' '), 'SICHERHEIT'] = 'fraglich'\n",
    "\n",
    "a = pd.DataFrame(a)\n",
    "a['Prozent'] = a[0]/a[0].sum()*100\n",
    "a"
   ]
  },
  {
   "cell_type": "code",
   "execution_count": 26,
   "metadata": {},
   "outputs": [
    {
     "data": {
      "text/html": [
       "<div>\n",
       "<table border=\"1\" class=\"dataframe\">\n",
       "  <thead>\n",
       "    <tr style=\"text-align: right;\">\n",
       "      <th>FEAT</th>\n",
       "      <th>Grabung</th>\n",
       "      <th>Survey</th>\n",
       "    </tr>\n",
       "    <tr>\n",
       "      <th>Gr_Clist</th>\n",
       "      <th></th>\n",
       "      <th></th>\n",
       "    </tr>\n",
       "  </thead>\n",
       "  <tbody>\n",
       "    <tr>\n",
       "      <th>30</th>\n",
       "      <td>22.222222</td>\n",
       "      <td>1.604278</td>\n",
       "    </tr>\n",
       "    <tr>\n",
       "      <th>70</th>\n",
       "      <td>51.633987</td>\n",
       "      <td>31.550802</td>\n",
       "    </tr>\n",
       "    <tr>\n",
       "      <th>120</th>\n",
       "      <td>16.339869</td>\n",
       "      <td>40.106952</td>\n",
       "    </tr>\n",
       "    <tr>\n",
       "      <th>200</th>\n",
       "      <td>6.535948</td>\n",
       "      <td>11.764706</td>\n",
       "    </tr>\n",
       "    <tr>\n",
       "      <th>500</th>\n",
       "      <td>0.653595</td>\n",
       "      <td>1.604278</td>\n",
       "    </tr>\n",
       "    <tr>\n",
       "      <th></th>\n",
       "      <td>2.614379</td>\n",
       "      <td>13.368984</td>\n",
       "    </tr>\n",
       "  </tbody>\n",
       "</table>\n",
       "</div>"
      ],
      "text/plain": [
       "FEAT        Grabung     Survey\n",
       "Gr_Clist                      \n",
       "30        22.222222   1.604278\n",
       "70        51.633987  31.550802\n",
       "120       16.339869  40.106952\n",
       "200        6.535948  11.764706\n",
       "500        0.653595   1.604278\n",
       "           2.614379  13.368984"
      ]
     },
     "execution_count": 26,
     "metadata": {},
     "output_type": "execute_result"
    }
   ],
   "source": [
    "df_pivot = df.pivot_table(values='objID', index='Gr_Clist', columns='FEAT', aggfunc=len)\n",
    "df_pivot['Grabung'] = df_pivot['Grabung'] / df_pivot['Grabung'].sum() * 100\n",
    "df_pivot['Survey'] = df_pivot['Survey'] / df_pivot['Survey'].sum() * 100\n",
    "df_pivot"
   ]
  },
  {
   "cell_type": "code",
   "execution_count": 27,
   "metadata": {},
   "outputs": [
    {
     "data": {
      "text/plain": [
       "<matplotlib.legend.Legend at 0x22a8bb4f278>"
      ]
     },
     "execution_count": 27,
     "metadata": {},
     "output_type": "execute_result"
    },
    {
     "data": {
      "image/png": "[encoded data removed]",
      "text/plain": [
       "<matplotlib.figure.Figure at 0x22a8bb4f240>"
      ]
     },
     "metadata": {},
     "output_type": "display_data"
    }
   ],
   "source": [
    "df_pivot['Grabung'].plot()\n",
    "df_pivot['Survey'].plot()\n",
    "plt.legend()"
   ]
  },
  {
   "cell_type": "markdown",
   "metadata": {},
   "source": [
    "### nur ausgezählte Stücke"
   ]
  },
  {
   "cell_type": "code",
   "execution_count": 28,
   "metadata": {},
   "outputs": [
    {
     "data": {
      "text/html": [
       "<div>\n",
       "<table border=\"1\" class=\"dataframe\">\n",
       "  <thead>\n",
       "    <tr style=\"text-align: right;\">\n",
       "      <th>Scherbe</th>\n",
       "      <th>B</th>\n",
       "      <th>G</th>\n",
       "      <th>R</th>\n",
       "      <th>W</th>\n",
       "      <th>All</th>\n",
       "    </tr>\n",
       "    <tr>\n",
       "      <th>Typ</th>\n",
       "      <th></th>\n",
       "      <th></th>\n",
       "      <th></th>\n",
       "      <th></th>\n",
       "      <th></th>\n",
       "    </tr>\n",
       "  </thead>\n",
       "  <tbody>\n",
       "    <tr>\n",
       "      <th>EBA</th>\n",
       "      <td>9.0</td>\n",
       "      <td>NaN</td>\n",
       "      <td>7.0</td>\n",
       "      <td>370.0</td>\n",
       "      <td>386.0</td>\n",
       "    </tr>\n",
       "    <tr>\n",
       "      <th>EBA (?)</th>\n",
       "      <td>NaN</td>\n",
       "      <td>NaN</td>\n",
       "      <td>2.0</td>\n",
       "      <td>93.0</td>\n",
       "      <td>95.0</td>\n",
       "    </tr>\n",
       "    <tr>\n",
       "      <th>EBA/BOT (?)</th>\n",
       "      <td>NaN</td>\n",
       "      <td>NaN</td>\n",
       "      <td>NaN</td>\n",
       "      <td>11.0</td>\n",
       "      <td>11.0</td>\n",
       "    </tr>\n",
       "    <tr>\n",
       "      <th>EBA/EPE (?)</th>\n",
       "      <td>NaN</td>\n",
       "      <td>NaN</td>\n",
       "      <td>28.0</td>\n",
       "      <td>NaN</td>\n",
       "      <td>28.0</td>\n",
       "    </tr>\n",
       "    <tr>\n",
       "      <th>All</th>\n",
       "      <td>9.0</td>\n",
       "      <td>NaN</td>\n",
       "      <td>37.0</td>\n",
       "      <td>474.0</td>\n",
       "      <td>520.0</td>\n",
       "    </tr>\n",
       "  </tbody>\n",
       "</table>\n",
       "</div>"
      ],
      "text/plain": [
       "Scherbe        B   G     R      W    All\n",
       "Typ                                     \n",
       "EBA          9.0 NaN   7.0  370.0  386.0\n",
       "EBA (?)      NaN NaN   2.0   93.0   95.0\n",
       "EBA/BOT (?)  NaN NaN   NaN   11.0   11.0\n",
       "EBA/EPE (?)  NaN NaN  28.0    NaN   28.0\n",
       "All          9.0 NaN  37.0  474.0  520.0"
      ]
     },
     "execution_count": 28,
     "metadata": {},
     "output_type": "execute_result"
    }
   ],
   "source": [
    "df_a = df.loc[df['Anzahl'] != 1]\n",
    "\n",
    "df_a.pivot_table(values = 'Anzahl', index = 'Typ', columns = 'Scherbe', aggfunc = np.sum, margins = True)"
   ]
  },
  {
   "cell_type": "code",
   "execution_count": 29,
   "metadata": {},
   "outputs": [
    {
     "data": {
      "text/html": [
       "<div>\n",
       "<table border=\"1\" class=\"dataframe\">\n",
       "  <thead>\n",
       "    <tr style=\"text-align: right;\">\n",
       "      <th></th>\n",
       "      <th></th>\n",
       "      <th></th>\n",
       "      <th>Anzahl</th>\n",
       "      <th>Gewicht</th>\n",
       "    </tr>\n",
       "    <tr>\n",
       "      <th>ort_fluss</th>\n",
       "      <th>Ort</th>\n",
       "      <th>bef_nr</th>\n",
       "      <th></th>\n",
       "      <th></th>\n",
       "    </tr>\n",
       "  </thead>\n",
       "  <tbody>\n",
       "    <tr>\n",
       "      <th rowspan=\"9\" valign=\"top\">Likwala-Esobe</th>\n",
       "      <th>Bojenjo (Fpl. 292)</th>\n",
       "      <th>87/101</th>\n",
       "      <td>7</td>\n",
       "      <td>139</td>\n",
       "    </tr>\n",
       "    <tr>\n",
       "      <th>Boyenge (Fpl. 284)</th>\n",
       "      <th>87/101</th>\n",
       "      <td></td>\n",
       "      <td></td>\n",
       "    </tr>\n",
       "    <tr>\n",
       "      <th>Ebambe (Fpl. 297)</th>\n",
       "      <th>87/101</th>\n",
       "      <td>39</td>\n",
       "      <td>1224</td>\n",
       "    </tr>\n",
       "    <tr>\n",
       "      <th>Mosenge (Fpl. 299)</th>\n",
       "      <th>87/101</th>\n",
       "      <td>55</td>\n",
       "      <td>1117</td>\n",
       "    </tr>\n",
       "    <tr>\n",
       "      <th>Mosengi (Fpl. 296)</th>\n",
       "      <th>87/101</th>\n",
       "      <td>10</td>\n",
       "      <td>128</td>\n",
       "    </tr>\n",
       "    <tr>\n",
       "      <th>Munda (Fpl. 304)</th>\n",
       "      <th>87/1</th>\n",
       "      <td>291</td>\n",
       "      <td>3549</td>\n",
       "    </tr>\n",
       "    <tr>\n",
       "      <th>Ngombe (Fpl. 283)</th>\n",
       "      <th>87/101</th>\n",
       "      <td>8</td>\n",
       "      <td>120</td>\n",
       "    </tr>\n",
       "    <tr>\n",
       "      <th rowspan=\"2\" valign=\"top\">Yumba (Fpl. 289)</th>\n",
       "      <th>87/102</th>\n",
       "      <td>2</td>\n",
       "      <td>13</td>\n",
       "    </tr>\n",
       "    <tr>\n",
       "      <th>87/103</th>\n",
       "      <td>6</td>\n",
       "      <td>169</td>\n",
       "    </tr>\n",
       "    <tr>\n",
       "      <th rowspan=\"4\" valign=\"top\">Sangha</th>\n",
       "      <th>Loboko (Fpl. 248)</th>\n",
       "      <th>87/101</th>\n",
       "      <td>6</td>\n",
       "      <td>150</td>\n",
       "    </tr>\n",
       "    <tr>\n",
       "      <th>Mandombe (Fpl. 259)</th>\n",
       "      <th>87/101</th>\n",
       "      <td></td>\n",
       "      <td></td>\n",
       "    </tr>\n",
       "    <tr>\n",
       "      <th>Monjolomba (Fpl. 243)</th>\n",
       "      <th>87/101</th>\n",
       "      <td>10</td>\n",
       "      <td>238</td>\n",
       "    </tr>\n",
       "    <tr>\n",
       "      <th>Pikunda (Fpl. 255)</th>\n",
       "      <th>87/2</th>\n",
       "      <td>83</td>\n",
       "      <td>625</td>\n",
       "    </tr>\n",
       "    <tr>\n",
       "      <th>Zaire/Kongo</th>\n",
       "      <th>Gombe (Fpl. 237)</th>\n",
       "      <th>87/101</th>\n",
       "      <td>3</td>\n",
       "      <td>69</td>\n",
       "    </tr>\n",
       "  </tbody>\n",
       "</table>\n",
       "</div>"
      ],
      "text/plain": [
       "                                           Anzahl Gewicht\n",
       "ort_fluss     Ort                   bef_nr               \n",
       "Likwala-Esobe Bojenjo (Fpl. 292)    87/101      7     139\n",
       "              Boyenge (Fpl. 284)    87/101               \n",
       "              Ebambe (Fpl. 297)     87/101     39    1224\n",
       "              Mosenge (Fpl. 299)    87/101     55    1117\n",
       "              Mosengi (Fpl. 296)    87/101     10     128\n",
       "              Munda (Fpl. 304)      87/1      291    3549\n",
       "              Ngombe (Fpl. 283)     87/101      8     120\n",
       "              Yumba (Fpl. 289)      87/102      2      13\n",
       "                                    87/103      6     169\n",
       "Sangha        Loboko (Fpl. 248)     87/101      6     150\n",
       "              Mandombe (Fpl. 259)   87/101               \n",
       "              Monjolomba (Fpl. 243) 87/101     10     238\n",
       "              Pikunda (Fpl. 255)    87/2       83     625\n",
       "Zaire/Kongo   Gombe (Fpl. 237)      87/101      3      69"
      ]
     },
     "execution_count": 29,
     "metadata": {},
     "output_type": "execute_result"
    }
   ],
   "source": [
    "df_pivot = df_a.pivot_table(values = ['Anzahl', 'Gewicht'], index = ['ort_fluss', 'Ort', 'bef_nr'], aggfunc = np.sum, fill_value = '')\n",
    "df_pivot"
   ]
  },
  {
   "cell_type": "code",
   "execution_count": 30,
   "metadata": {},
   "outputs": [
    {
     "data": {
      "text/plain": [
       "85.00108495074556"
      ]
     },
     "execution_count": 30,
     "metadata": {},
     "output_type": "execute_result"
    }
   ],
   "source": [
    "# Individuelles Scherbengewicht\n",
    "df['IndivGew'] = df['Gewicht'] / df['Anzahl']\n",
    "df['IndivGew'].mean()"
   ]
  },
  {
   "cell_type": "code",
   "execution_count": 31,
   "metadata": {
    "collapsed": true
   },
   "outputs": [],
   "source": [
    "df_pivot = df.pivot_table(values = ['Anzahl', 'Gewicht'], index = ['ort_fluss', 'Ort', 'bef_nr'], aggfunc = np.sum)\n",
    "df_pivot = pd.DataFrame(df_pivot)"
   ]
  },
  {
   "cell_type": "markdown",
   "metadata": {},
   "source": [
    "Anzahl Stücke:"
   ]
  },
  {
   "cell_type": "code",
   "execution_count": 32,
   "metadata": {},
   "outputs": [
    {
     "data": {
      "text/plain": [
       "800.0"
      ]
     },
     "execution_count": 32,
     "metadata": {},
     "output_type": "execute_result"
    }
   ],
   "source": [
    "np.sum(df_pivot['Anzahl'])"
   ]
  },
  {
   "cell_type": "markdown",
   "metadata": {},
   "source": [
    "Gewicht insgesamt in kg:"
   ]
  },
  {
   "cell_type": "code",
   "execution_count": 33,
   "metadata": {},
   "outputs": [
    {
     "data": {
      "text/plain": [
       "35.257400000000004"
      ]
     },
     "execution_count": 33,
     "metadata": {},
     "output_type": "execute_result"
    }
   ],
   "source": [
    "np.sum(df_pivot['Gewicht']) / 1000"
   ]
  },
  {
   "cell_type": "markdown",
   "metadata": {},
   "source": [
    "## Scherbentypen"
   ]
  },
  {
   "cell_type": "code",
   "execution_count": 34,
   "metadata": {},
   "outputs": [
    {
     "data": {
      "text/html": [
       "<div>\n",
       "<table border=\"1\" class=\"dataframe\">\n",
       "  <thead>\n",
       "    <tr style=\"text-align: right;\">\n",
       "      <th></th>\n",
       "      <th>Anzahl</th>\n",
       "      <th>Prozent</th>\n",
       "    </tr>\n",
       "  </thead>\n",
       "  <tbody>\n",
       "    <tr>\n",
       "      <th>G</th>\n",
       "      <td>10.0</td>\n",
       "      <td>1.251564</td>\n",
       "    </tr>\n",
       "    <tr>\n",
       "      <th>R</th>\n",
       "      <td>132.0</td>\n",
       "      <td>16.520651</td>\n",
       "    </tr>\n",
       "    <tr>\n",
       "      <th>W</th>\n",
       "      <td>626.0</td>\n",
       "      <td>78.347935</td>\n",
       "    </tr>\n",
       "    <tr>\n",
       "      <th>B</th>\n",
       "      <td>31.0</td>\n",
       "      <td>3.879850</td>\n",
       "    </tr>\n",
       "  </tbody>\n",
       "</table>\n",
       "</div>"
      ],
      "text/plain": [
       "   Anzahl    Prozent\n",
       "G    10.0   1.251564\n",
       "R   132.0  16.520651\n",
       "W   626.0  78.347935\n",
       "B    31.0   3.879850"
      ]
     },
     "execution_count": 34,
     "metadata": {},
     "output_type": "execute_result"
    }
   ],
   "source": [
    "df_pivot = df.pivot_table(values = 'Anzahl', index = 'Scherbe', aggfunc = np.sum)\n",
    "#df_pivot['B'] = 0.\n",
    "custom_dict = {'G':0,'R':1,'W':3,'B':4}\n",
    "df_pivot = pd.DataFrame(df_pivot, index=sorted(custom_dict, key=custom_dict.get))\n",
    "df_pivot['Prozent'] = df_pivot['Anzahl']/df_pivot['Anzahl'].sum()*100\n",
    "df_pivot"
   ]
  },
  {
   "cell_type": "code",
   "execution_count": 35,
   "metadata": {},
   "outputs": [
    {
     "data": {
      "image/png": "[encoded data removed]",
      "text/plain": [
       "<matplotlib.figure.Figure at 0x22a8baa95c0>"
      ]
     },
     "metadata": {},
     "output_type": "display_data"
    }
   ],
   "source": [
    "df_pivot.plot(y = 'Prozent', kind = 'bar', legend = None, color = 'grey')\n",
    "plt.xticks(rotation=0)\n",
    "plt.xlabel('Scherbentypen')\n",
    "plt.ylabel('Anteil [%]')\n",
    "plt.show()"
   ]
  },
  {
   "cell_type": "markdown",
   "metadata": {},
   "source": [
    "## Technologische Merkmale (*fabrics*)"
   ]
  },
  {
   "cell_type": "code",
   "execution_count": 36,
   "metadata": {},
   "outputs": [
    {
     "name": "stderr",
     "output_type": "stream",
     "text": [
      "C:\\Users\\Dirk\\Anaconda3\\lib\\site-packages\\ipykernel\\__main__.py:23: FutureWarning: by argument to sort_index is deprecated, pls use .sort_values(by=...)\n"
     ]
    }
   ],
   "source": [
    "sql = \"\"\"SELECT\n",
    "           t_Obj.objID,\n",
    "           't_Ort'.'ort_name' || ' (Fpl. ' || 't_ort'.'Kat-Nr' || ')' AS Ort,\n",
    "           t_Ort.ort_fluss,\n",
    "           t_Obj.Anzahl,\n",
    "           t_Obj.MagerungGröße,\n",
    "           t_Obj.MagerungArt,\n",
    "           t_Obj.MagerungDichte,\n",
    "           t_Obj.Fabric\n",
    "       FROM (t_Ort INNER JOIN t_Komplex ON t_Ort.ortID = t_Komplex.ortID)\n",
    "           INNER JOIN t_Obj ON t_Komplex.komplexID = t_Obj.komplexID\n",
    "       WHERE (((t_Obj.Fabric) != '')\n",
    "           AND ((t_Obj.Typ) Like '%\"\"\"+style+\"\"\"%'))\"\"\".replace('\\n',' ')\n",
    "\n",
    "df = pd.read_sql(sql, con)\n",
    "\n",
    "df1 = df.dropna(subset = ['Fabric'])\n",
    "df1['Fabric'] = df1['Fabric'].map(lambda x: x.rstrip(' (?)'))\n",
    "df1['Fabric'] = df1['Fabric'].apply(lambda x: x.split('/')[0])\n",
    "\n",
    "df_pivot = df1.pivot_table(values = 'Anzahl', index = 'Fabric', aggfunc = sum)\n",
    "df_pivot = pd.DataFrame(df_pivot)\n",
    "df_pivot = df_pivot.sort_index(by=['Anzahl'], ascending=[False])"
   ]
  },
  {
   "cell_type": "code",
   "execution_count": 37,
   "metadata": {},
   "outputs": [
    {
     "data": {
      "image/png": "[encoded data removed]",
      "text/plain": [
       "<matplotlib.figure.Figure at 0x22a8c09b860>"
      ]
     },
     "metadata": {},
     "output_type": "display_data"
    }
   ],
   "source": [
    "df_pivot.plot(kind = 'barh', legend = False, color = 'Grey')\n",
    "plt.show()"
   ]
  },
  {
   "cell_type": "code",
   "execution_count": 38,
   "metadata": {},
   "outputs": [
    {
     "data": {
      "text/html": [
       "<div>\n",
       "<table border=\"1\" class=\"dataframe\">\n",
       "  <thead>\n",
       "    <tr style=\"text-align: right;\">\n",
       "      <th></th>\n",
       "      <th>Anzahl</th>\n",
       "      <th>Prozent</th>\n",
       "    </tr>\n",
       "    <tr>\n",
       "      <th>Fabric</th>\n",
       "      <th></th>\n",
       "      <th></th>\n",
       "    </tr>\n",
       "  </thead>\n",
       "  <tbody>\n",
       "    <tr>\n",
       "      <th>1d</th>\n",
       "      <td>97</td>\n",
       "      <td>29.573171</td>\n",
       "    </tr>\n",
       "    <tr>\n",
       "      <th>1b</th>\n",
       "      <td>81</td>\n",
       "      <td>24.695122</td>\n",
       "    </tr>\n",
       "    <tr>\n",
       "      <th>1</th>\n",
       "      <td>37</td>\n",
       "      <td>11.280488</td>\n",
       "    </tr>\n",
       "    <tr>\n",
       "      <th>1a</th>\n",
       "      <td>32</td>\n",
       "      <td>9.756098</td>\n",
       "    </tr>\n",
       "    <tr>\n",
       "      <th>1c</th>\n",
       "      <td>29</td>\n",
       "      <td>8.841463</td>\n",
       "    </tr>\n",
       "  </tbody>\n",
       "</table>\n",
       "</div>"
      ],
      "text/plain": [
       "        Anzahl    Prozent\n",
       "Fabric                   \n",
       "1d          97  29.573171\n",
       "1b          81  24.695122\n",
       "1           37  11.280488\n",
       "1a          32   9.756098\n",
       "1c          29   8.841463"
      ]
     },
     "metadata": {},
     "output_type": "display_data"
    }
   ],
   "source": [
    "df_pivot['Prozent'] = df_pivot['Anzahl']/df_pivot['Anzahl'].sum()*100\n",
    "display(df_pivot.head())"
   ]
  },
  {
   "cell_type": "code",
   "execution_count": 39,
   "metadata": {},
   "outputs": [
    {
     "data": {
      "text/html": [
       "<div>\n",
       "<table border=\"1\" class=\"dataframe\">\n",
       "  <thead>\n",
       "    <tr style=\"text-align: right;\">\n",
       "      <th></th>\n",
       "      <th>0</th>\n",
       "      <th>Prozent</th>\n",
       "    </tr>\n",
       "  </thead>\n",
       "  <tbody>\n",
       "    <tr>\n",
       "      <th>Nicht-Typ 1</th>\n",
       "      <td>19</td>\n",
       "      <td>5.792683</td>\n",
       "    </tr>\n",
       "    <tr>\n",
       "      <th>Typ 1</th>\n",
       "      <td>309</td>\n",
       "      <td>94.207317</td>\n",
       "    </tr>\n",
       "  </tbody>\n",
       "</table>\n",
       "</div>"
      ],
      "text/plain": [
       "               0    Prozent\n",
       "Nicht-Typ 1   19   5.792683\n",
       "Typ 1        309  94.207317"
      ]
     },
     "execution_count": 39,
     "metadata": {},
     "output_type": "execute_result"
    }
   ],
   "source": [
    "a = pd.Series({'Typ 1':np.sum(df['Anzahl'].loc[df['Fabric'].str.contains(\"1|2\")]),\n",
    "               'Nicht-Typ 1':np.sum(df['Anzahl'].loc[~df['Fabric'].str.contains(\"1|2\")])})\n",
    "a = pd.DataFrame(a)\n",
    "a['Prozent'] = a[0]/a[0].sum()*100\n",
    "a"
   ]
  },
  {
   "cell_type": "code",
   "execution_count": 40,
   "metadata": {},
   "outputs": [
    {
     "data": {
      "text/plain": [
       "ort_fluss  Ort                   \n",
       "Ngoko      Mbenja (Fpl. 277)          1\n",
       "Sangha     Maboko (Fpl. 267)          1\n",
       "           Mai impembe (Fpl. 271)     1\n",
       "           Molanda (Fpl. 258)         3\n",
       "           Mosanya (Fpl. 262)         1\n",
       "           Ouesso (Fpl. 265)          1\n",
       "           Pikunda (Fpl. 255)        11\n",
       "Name: objID, dtype: int64"
      ]
     },
     "execution_count": 40,
     "metadata": {},
     "output_type": "execute_result"
    }
   ],
   "source": [
    "# Orte mit Ausnahmen:\n",
    "a = df.loc[~df['Fabric'].str.contains(\"1|2\")]\n",
    "a.pivot_table(values = 'objID', index = ['ort_fluss', 'Ort'], aggfunc = len)"
   ]
  },
  {
   "cell_type": "code",
   "execution_count": 41,
   "metadata": {},
   "outputs": [
    {
     "data": {
      "text/html": [
       "<div>\n",
       "<table border=\"1\" class=\"dataframe\">\n",
       "  <thead>\n",
       "    <tr style=\"text-align: right;\">\n",
       "      <th></th>\n",
       "      <th>Anzahl</th>\n",
       "      <th>Prozent</th>\n",
       "    </tr>\n",
       "  </thead>\n",
       "  <tbody>\n",
       "    <tr>\n",
       "      <th>sehr wenig</th>\n",
       "      <td>198</td>\n",
       "      <td>73.880597</td>\n",
       "    </tr>\n",
       "    <tr>\n",
       "      <th>wenig</th>\n",
       "      <td>48</td>\n",
       "      <td>17.910448</td>\n",
       "    </tr>\n",
       "    <tr>\n",
       "      <th>mittel</th>\n",
       "      <td>8</td>\n",
       "      <td>2.985075</td>\n",
       "    </tr>\n",
       "    <tr>\n",
       "      <th>viel</th>\n",
       "      <td>9</td>\n",
       "      <td>3.358209</td>\n",
       "    </tr>\n",
       "    <tr>\n",
       "      <th>sehr viel</th>\n",
       "      <td>5</td>\n",
       "      <td>1.865672</td>\n",
       "    </tr>\n",
       "  </tbody>\n",
       "</table>\n",
       "</div>"
      ],
      "text/plain": [
       "            Anzahl    Prozent\n",
       "sehr wenig     198  73.880597\n",
       "wenig           48  17.910448\n",
       "mittel           8   2.985075\n",
       "viel             9   3.358209\n",
       "sehr viel        5   1.865672"
      ]
     },
     "execution_count": 41,
     "metadata": {},
     "output_type": "execute_result"
    }
   ],
   "source": [
    "df = df.replace('<1','sehr wenig', regex=True)\n",
    "\n",
    "a = df.loc[df['MagerungDichte'] != ''] # nur Einträgen, bei denen diese Felder ausgefüllt sind\n",
    "df_pivot = a.pivot_table(values = 'Anzahl', index = 'MagerungDichte', aggfunc = sum)\n",
    "custom_dict = {'sehr wenig':0,'wenig':1,'mittel':3,'viel':4, 'sehr viel':5}\n",
    "df_pivot = pd.DataFrame(df_pivot, index=sorted(custom_dict, key=custom_dict.get))\n",
    "df_pivot['Prozent'] = df_pivot['Anzahl']/df_pivot['Anzahl'].sum()*100\n",
    "df_pivot"
   ]
  },
  {
   "cell_type": "code",
   "execution_count": 42,
   "metadata": {},
   "outputs": [
    {
     "data": {
      "image/png": "[encoded data removed]",
      "text/plain": [
       "<matplotlib.figure.Figure at 0x22a8c146f98>"
      ]
     },
     "metadata": {},
     "output_type": "display_data"
    }
   ],
   "source": [
    "df_pivot.plot(y = 'Prozent', kind = 'bar', legend = None, color = 'grey')\n",
    "plt.xticks(rotation=0)\n",
    "plt.xlabel('Anteil nicht-plastische Partikel')\n",
    "plt.ylabel('Anteil [%]')\n",
    "plt.show()"
   ]
  },
  {
   "cell_type": "code",
   "execution_count": 43,
   "metadata": {},
   "outputs": [
    {
     "data": {
      "text/html": [
       "<div>\n",
       "<table border=\"1\" class=\"dataframe\">\n",
       "  <thead>\n",
       "    <tr style=\"text-align: right;\">\n",
       "      <th></th>\n",
       "      <th>Anzahl</th>\n",
       "      <th>Prozent</th>\n",
       "    </tr>\n",
       "  </thead>\n",
       "  <tbody>\n",
       "    <tr>\n",
       "      <th>VF</th>\n",
       "      <td>177</td>\n",
       "      <td>66.044776</td>\n",
       "    </tr>\n",
       "    <tr>\n",
       "      <th>F</th>\n",
       "      <td>40</td>\n",
       "      <td>14.925373</td>\n",
       "    </tr>\n",
       "    <tr>\n",
       "      <th>M</th>\n",
       "      <td>31</td>\n",
       "      <td>11.567164</td>\n",
       "    </tr>\n",
       "    <tr>\n",
       "      <th>C</th>\n",
       "      <td>15</td>\n",
       "      <td>5.597015</td>\n",
       "    </tr>\n",
       "    <tr>\n",
       "      <th>VC</th>\n",
       "      <td>5</td>\n",
       "      <td>1.865672</td>\n",
       "    </tr>\n",
       "  </tbody>\n",
       "</table>\n",
       "</div>"
      ],
      "text/plain": [
       "    Anzahl    Prozent\n",
       "VF     177  66.044776\n",
       "F       40  14.925373\n",
       "M       31  11.567164\n",
       "C       15   5.597015\n",
       "VC       5   1.865672"
      ]
     },
     "execution_count": 43,
     "metadata": {},
     "output_type": "execute_result"
    }
   ],
   "source": [
    "df_pivot = a.pivot_table(values = 'Anzahl', index = 'MagerungGröße', aggfunc = sum)\n",
    "custom_dict = {'VF':0,'F':1,'M':3,'C':4, 'VC':5}\n",
    "df_pivot = pd.DataFrame(df_pivot, index=sorted(custom_dict, key=custom_dict.get))\n",
    "df_pivot['Prozent'] = df_pivot['Anzahl']/df_pivot['Anzahl'].sum()*100\n",
    "df_pivot"
   ]
  },
  {
   "cell_type": "code",
   "execution_count": 44,
   "metadata": {},
   "outputs": [
    {
     "data": {
      "image/png": "[encoded data removed]",
      "text/plain": [
       "<matplotlib.figure.Figure at 0x22a8c1fb550>"
      ]
     },
     "metadata": {},
     "output_type": "display_data"
    }
   ],
   "source": [
    "df_pivot.plot(y = 'Prozent', kind = 'bar', legend = None, color = 'grey')\n",
    "plt.xticks(rotation=0)\n",
    "plt.xlabel('Korngröße (Wentworth-Scale)')\n",
    "plt.ylabel('Anteil [%]')\n",
    "plt.show()"
   ]
  },
  {
   "cell_type": "code",
   "execution_count": 45,
   "metadata": {},
   "outputs": [
    {
     "name": "stderr",
     "output_type": "stream",
     "text": [
      "C:\\Users\\Dirk\\Anaconda3\\lib\\site-packages\\ipykernel\\__main__.py:3: FutureWarning: by argument to sort_index is deprecated, pls use .sort_values(by=...)\n",
      "  app.launch_new_instance()\n"
     ]
    },
    {
     "data": {
      "text/html": [
       "<div>\n",
       "<table border=\"1\" class=\"dataframe\">\n",
       "  <thead>\n",
       "    <tr style=\"text-align: right;\">\n",
       "      <th></th>\n",
       "      <th>Anzahl</th>\n",
       "      <th>Prozent</th>\n",
       "    </tr>\n",
       "    <tr>\n",
       "      <th>MagerungArt</th>\n",
       "      <th></th>\n",
       "      <th></th>\n",
       "    </tr>\n",
       "  </thead>\n",
       "  <tbody>\n",
       "    <tr>\n",
       "      <th>S</th>\n",
       "      <td>227</td>\n",
       "      <td>84.701493</td>\n",
       "    </tr>\n",
       "    <tr>\n",
       "      <th>S/Org</th>\n",
       "      <td>9</td>\n",
       "      <td>3.358209</td>\n",
       "    </tr>\n",
       "    <tr>\n",
       "      <th>S/Org?</th>\n",
       "      <td>9</td>\n",
       "      <td>3.358209</td>\n",
       "    </tr>\n",
       "    <tr>\n",
       "      <th>S/Gl</th>\n",
       "      <td>8</td>\n",
       "      <td>2.985075</td>\n",
       "    </tr>\n",
       "    <tr>\n",
       "      <th>S/Schamott</th>\n",
       "      <td>3</td>\n",
       "      <td>1.119403</td>\n",
       "    </tr>\n",
       "    <tr>\n",
       "      <th>S/Laterit</th>\n",
       "      <td>2</td>\n",
       "      <td>0.746269</td>\n",
       "    </tr>\n",
       "    <tr>\n",
       "      <th>Schamott</th>\n",
       "      <td>2</td>\n",
       "      <td>0.746269</td>\n",
       "    </tr>\n",
       "    <tr>\n",
       "      <th></th>\n",
       "      <td>1</td>\n",
       "      <td>0.373134</td>\n",
       "    </tr>\n",
       "    <tr>\n",
       "      <th>Laterit (?)</th>\n",
       "      <td>1</td>\n",
       "      <td>0.373134</td>\n",
       "    </tr>\n",
       "    <tr>\n",
       "      <th>S/Gl/Schamott?</th>\n",
       "      <td>1</td>\n",
       "      <td>0.373134</td>\n",
       "    </tr>\n",
       "    <tr>\n",
       "      <th>S/Glimmer</th>\n",
       "      <td>1</td>\n",
       "      <td>0.373134</td>\n",
       "    </tr>\n",
       "    <tr>\n",
       "      <th>S/Laterit od Schamott (?)</th>\n",
       "      <td>1</td>\n",
       "      <td>0.373134</td>\n",
       "    </tr>\n",
       "    <tr>\n",
       "      <th>S/Laterit?</th>\n",
       "      <td>1</td>\n",
       "      <td>0.373134</td>\n",
       "    </tr>\n",
       "    <tr>\n",
       "      <th>S/Schamott?</th>\n",
       "      <td>1</td>\n",
       "      <td>0.373134</td>\n",
       "    </tr>\n",
       "    <tr>\n",
       "      <th>S/rot</th>\n",
       "      <td>1</td>\n",
       "      <td>0.373134</td>\n",
       "    </tr>\n",
       "  </tbody>\n",
       "</table>\n",
       "</div>"
      ],
      "text/plain": [
       "                           Anzahl    Prozent\n",
       "MagerungArt                                 \n",
       "S                             227  84.701493\n",
       "S/Org                           9   3.358209\n",
       "S/Org?                          9   3.358209\n",
       "S/Gl                            8   2.985075\n",
       "S/Schamott                      3   1.119403\n",
       "S/Laterit                       2   0.746269\n",
       "Schamott                        2   0.746269\n",
       "                                1   0.373134\n",
       "Laterit (?)                     1   0.373134\n",
       "S/Gl/Schamott?                  1   0.373134\n",
       "S/Glimmer                       1   0.373134\n",
       "S/Laterit od Schamott (?)       1   0.373134\n",
       "S/Laterit?                      1   0.373134\n",
       "S/Schamott?                     1   0.373134\n",
       "S/rot                           1   0.373134"
      ]
     },
     "execution_count": 45,
     "metadata": {},
     "output_type": "execute_result"
    }
   ],
   "source": [
    "df_pivot = a.pivot_table(values = 'Anzahl', index = 'MagerungArt', aggfunc = sum)\n",
    "df_pivot = pd.DataFrame(df_pivot)\n",
    "df_pivot = df_pivot.sort_index(by=['Anzahl'], ascending=[False])\n",
    "df_pivot['Prozent'] = df_pivot['Anzahl']/df_pivot['Anzahl'].sum()*100\n",
    "df_pivot"
   ]
  },
  {
   "cell_type": "markdown",
   "metadata": {},
   "source": [
    "## Brennfarbe"
   ]
  },
  {
   "cell_type": "code",
   "execution_count": 46,
   "metadata": {},
   "outputs": [
    {
     "data": {
      "text/html": [
       "<div>\n",
       "<table border=\"1\" class=\"dataframe\">\n",
       "  <thead>\n",
       "    <tr style=\"text-align: right;\">\n",
       "      <th></th>\n",
       "      <th>0</th>\n",
       "      <th>Prozent</th>\n",
       "    </tr>\n",
       "  </thead>\n",
       "  <tbody>\n",
       "    <tr>\n",
       "      <th>Rot</th>\n",
       "      <td>24</td>\n",
       "      <td>8.000000</td>\n",
       "    </tr>\n",
       "    <tr>\n",
       "      <th>Sonstig</th>\n",
       "      <td>74</td>\n",
       "      <td>24.666667</td>\n",
       "    </tr>\n",
       "    <tr>\n",
       "      <th>Weiß</th>\n",
       "      <td>202</td>\n",
       "      <td>67.333333</td>\n",
       "    </tr>\n",
       "  </tbody>\n",
       "</table>\n",
       "</div>"
      ],
      "text/plain": [
       "           0    Prozent\n",
       "Rot       24   8.000000\n",
       "Sonstig   74  24.666667\n",
       "Weiß     202  67.333333"
      ]
     },
     "execution_count": 46,
     "metadata": {},
     "output_type": "execute_result"
    }
   ],
   "source": [
    "sql = \"\"\"SELECT\n",
    "           t_Obj.objID,\n",
    "           [t_Obj].[Außenfarbe] || '/' || [t_Obj].[Prof_aussen] || '/' || [t_Obj].[Prof_Kern] || '/' || [t_Obj].[Prof_innen] || '/' || [t_Obj].[Innenfarbe] AS Farbe\n",
    "       FROM (t_Ort LEFT JOIN t_Komplex ON t_Ort.ortID = t_Komplex.ortID)\n",
    "           LEFT JOIN t_Obj ON t_Komplex.komplexID = t_Obj.komplexID\n",
    "       WHERE (((t_Obj.Fabric) != '')\n",
    "           AND ((t_Obj.Typ) Like '%\"\"\"+style+\"\"\"%'))\"\"\".replace('\\n',' ')\n",
    "df = pd.read_sql(sql, con)\n",
    "\n",
    "a = pd.Series({'Weiß':len(df[df['Farbe'].str.contains(\"W\")].index),\n",
    "               'Rot':len(df[df['Farbe'].str.contains(\"R\")].index),\n",
    "               'Sonstig':len(df[~df['Farbe'].str.contains(\"W|R\")].index)})\n",
    "a = pd.DataFrame(a)\n",
    "a['Prozent'] = a[0]/a[0].sum()*100\n",
    "a"
   ]
  },
  {
   "cell_type": "code",
   "execution_count": 47,
   "metadata": {},
   "outputs": [
    {
     "data": {
      "image/png": "[encoded data removed]",
      "text/plain": [
       "<matplotlib.figure.Figure at 0x22a8d271208>"
      ]
     },
     "metadata": {},
     "output_type": "display_data"
    }
   ],
   "source": [
    "a.plot(y = 'Prozent', kind = 'bar', legend = None, color = 'grey')\n",
    "plt.xticks(rotation=0)\n",
    "plt.ylabel('Anteil [%]')\n",
    "plt.show()"
   ]
  },
  {
   "cell_type": "code",
   "execution_count": 48,
   "metadata": {},
   "outputs": [
    {
     "data": {
      "text/plain": [
       "s        94\n",
       "g        82\n",
       "bg       64\n",
       "         58\n",
       "         12\n",
       "s s      10\n",
       "bg bg     8\n",
       "g s       7\n",
       "s bg      6\n",
       "bg s      6\n",
       "dtype: int64"
      ]
     },
     "execution_count": 48,
     "metadata": {},
     "output_type": "execute_result"
    }
   ],
   "source": [
    "# Sontiges:\n",
    "a = df[~df['Farbe'].str.contains(\"W|R\")]\n",
    "pd.Series(' '.join(a['Farbe']).lower().split('/')).value_counts()[:10]"
   ]
  },
  {
   "cell_type": "markdown",
   "metadata": {},
   "source": [
    "### Oberfläche der Scherben"
   ]
  },
  {
   "cell_type": "code",
   "execution_count": 49,
   "metadata": {
    "scrolled": true
   },
   "outputs": [
    {
     "name": "stderr",
     "output_type": "stream",
     "text": [
      "C:\\Users\\Dirk\\Anaconda3\\lib\\site-packages\\ipykernel\\__main__.py:13: FutureWarning: convert_objects is deprecated.  Use the data-type specific converters pd.to_datetime, pd.to_timedelta and pd.to_numeric.\n"
     ]
    },
    {
     "data": {
      "text/html": [
       "<div>\n",
       "<table border=\"1\" class=\"dataframe\">\n",
       "  <thead>\n",
       "    <tr style=\"text-align: right;\">\n",
       "      <th></th>\n",
       "      <th>Anzahl</th>\n",
       "      <th>Prozent</th>\n",
       "    </tr>\n",
       "    <tr>\n",
       "      <th>Obfl</th>\n",
       "      <th></th>\n",
       "      <th></th>\n",
       "    </tr>\n",
       "  </thead>\n",
       "  <tbody>\n",
       "    <tr>\n",
       "      <th>außen glatt</th>\n",
       "      <td>1</td>\n",
       "      <td>0.370370</td>\n",
       "    </tr>\n",
       "    <tr>\n",
       "      <th>glatt</th>\n",
       "      <td>252</td>\n",
       "      <td>93.333333</td>\n",
       "    </tr>\n",
       "    <tr>\n",
       "      <th>glatt/leicht rau</th>\n",
       "      <td>1</td>\n",
       "      <td>0.370370</td>\n",
       "    </tr>\n",
       "    <tr>\n",
       "      <th>glatt/verrundet</th>\n",
       "      <td>1</td>\n",
       "      <td>0.370370</td>\n",
       "    </tr>\n",
       "    <tr>\n",
       "      <th>leicht rau</th>\n",
       "      <td>13</td>\n",
       "      <td>4.814815</td>\n",
       "    </tr>\n",
       "    <tr>\n",
       "      <th>mittel</th>\n",
       "      <td>1</td>\n",
       "      <td>0.370370</td>\n",
       "    </tr>\n",
       "    <tr>\n",
       "      <th>rau</th>\n",
       "      <td>1</td>\n",
       "      <td>0.370370</td>\n",
       "    </tr>\n",
       "  </tbody>\n",
       "</table>\n",
       "</div>"
      ],
      "text/plain": [
       "                  Anzahl    Prozent\n",
       "Obfl                               \n",
       "außen glatt            1   0.370370\n",
       "glatt                252  93.333333\n",
       "glatt/leicht rau       1   0.370370\n",
       "glatt/verrundet        1   0.370370\n",
       "leicht rau            13   4.814815\n",
       "mittel                 1   0.370370\n",
       "rau                    1   0.370370"
      ]
     },
     "execution_count": 49,
     "metadata": {},
     "output_type": "execute_result"
    }
   ],
   "source": [
    "sql = \"\"\"SELECT\n",
    "           t_Obj.objID,\n",
    "           t_Obj.Anzahl,\n",
    "           t_Obj.Obfl,\n",
    "           t_Obj.Fabric\n",
    "       FROM (t_Ort INNER JOIN t_Komplex ON t_Ort.ortID = t_Komplex.ortID)\n",
    "           INNER JOIN t_Obj ON t_Komplex.komplexID = t_Obj.komplexID\n",
    "       WHERE (((t_Obj.Obfl) != '')\n",
    "           AND ((t_Obj.Typ) LIKE '%\"\"\"+style+\"\"\"%'))\"\"\".replace('\\n',' ')\n",
    "\n",
    "df = pd.read_sql(sql, con)\n",
    "\n",
    "df['Anzahl'] = df['Anzahl'].convert_objects(convert_numeric=True)\n",
    "df_pivot = df.pivot_table(values = 'Anzahl', index = 'Obfl', aggfunc = sum)\n",
    "df_pivot = pd.DataFrame(df_pivot)\n",
    "df_pivot['Prozent'] = df_pivot['Anzahl']/df_pivot['Anzahl'].sum()*100\n",
    "df_pivot"
   ]
  },
  {
   "cell_type": "markdown",
   "metadata": {},
   "source": [
    "### Wandungsdicke"
   ]
  },
  {
   "cell_type": "code",
   "execution_count": 50,
   "metadata": {},
   "outputs": [
    {
     "name": "stderr",
     "output_type": "stream",
     "text": [
      "C:\\Users\\Dirk\\Anaconda3\\lib\\site-packages\\ipykernel\\__main__.py:12: FutureWarning: convert_objects is deprecated.  Use the data-type specific converters pd.to_datetime, pd.to_timedelta and pd.to_numeric.\n",
      "C:\\Users\\Dirk\\Anaconda3\\lib\\site-packages\\numpy\\lib\\function_base.py:564: VisibleDeprecationWarning: using a non-integer number instead of an integer will result in an error in the future\n",
      "  n = np.zeros(bins, ntype)\n",
      "C:\\Users\\Dirk\\Anaconda3\\lib\\site-packages\\numpy\\lib\\function_base.py:611: VisibleDeprecationWarning: using a non-integer number instead of an integer will result in an error in the future\n",
      "  n += np.bincount(indices, weights=tmp_w, minlength=bins).astype(ntype)\n"
     ]
    },
    {
     "data": {
      "image/png": "[encoded data removed]",
      "text/plain": [
       "<matplotlib.figure.Figure at 0x22a8d3c4780>"
      ]
     },
     "metadata": {},
     "output_type": "display_data"
    }
   ],
   "source": [
    "sql = \"\"\"SELECT\n",
    "           t_Obj.objID,\n",
    "           t_obj.Form_Gef,\n",
    "           t_Obj.Wandung \n",
    "       FROM (t_Ort INNER JOIN t_Komplex ON t_Ort.ortID = t_Komplex.ortID)\n",
    "           INNER JOIN t_Obj ON t_Komplex.komplexID = t_Obj.komplexID\n",
    "       WHERE (((t_Obj.Obfl) != '')\n",
    "           AND ((t_Obj.Typ) LIKE '%\"\"\"+style+\"\"\"%'))\"\"\".replace('\\n',' ')\n",
    "\n",
    "df = pd.read_sql(sql, con)\n",
    "\n",
    "df['Wandung'] = df['Wandung'].convert_objects(convert_numeric=True)\n",
    "\n",
    "# Spannweite ermitteln und als bins nutzen\n",
    "bins = df['Wandung'].max() - df['Wandung'].min()\n",
    "\n",
    "mean = df['Wandung'].mean()\n",
    "\n",
    "ax = df['Wandung'].hist(bins = bins, color = 'grey', histtype='stepfilled')\n",
    "plt.axvline(mean, color = 'black', ls = 'dashed', lw = 2.5)\n",
    "#plt.gca().set_aspect(.25)\n",
    "xlim = ax.get_xlim()\n",
    "ylim = ax.get_ylim()\n",
    "plt.gca().set_aspect((abs(xlim[0]) + abs(xlim[1]) - 2) / (abs(ylim[0]) + abs(ylim[1])))\n",
    "plt.xlabel(\"Wandung [mm]\")\n",
    "plt.ylabel(\"Anzahl\")\n",
    "plt.xlim([df['Wandung'].min()-1,df['Wandung'].max()+1])\n",
    "legend = plt.legend([\"Mittelwert\"])\n",
    "legend.get_frame().set_facecolor('white')\n",
    "plt.tight_layout()\n",
    "ax.xaxis.grid(False)\n",
    "ax.yaxis.grid(False)\n",
    "#plt.savefig('../output/figs/3-1-2-1_PIKMUN_Wanddicke_insg.pdf', bbox_inches='tight')\n",
    "plt.show()"
   ]
  },
  {
   "cell_type": "code",
   "execution_count": 51,
   "metadata": {},
   "outputs": [
    {
     "data": {
      "text/plain": [
       "count    268.000000\n",
       "mean       6.388060\n",
       "std        1.845778\n",
       "min        3.000000\n",
       "25%        5.000000\n",
       "50%        6.000000\n",
       "75%        7.000000\n",
       "max       15.000000\n",
       "Name: Wandung, dtype: float64"
      ]
     },
     "execution_count": 51,
     "metadata": {},
     "output_type": "execute_result"
    }
   ],
   "source": [
    "df['Wandung'].describe()"
   ]
  },
  {
   "cell_type": "code",
   "execution_count": 52,
   "metadata": {},
   "outputs": [
    {
     "data": {
      "text/plain": [
       "3.406898093800668"
      ]
     },
     "execution_count": 52,
     "metadata": {},
     "output_type": "execute_result"
    }
   ],
   "source": [
    "df['Wandung'].var()"
   ]
  },
  {
   "cell_type": "markdown",
   "metadata": {},
   "source": [
    "## Gefäßformen"
   ]
  },
  {
   "cell_type": "code",
   "execution_count": 53,
   "metadata": {
    "collapsed": true
   },
   "outputs": [],
   "source": [
    "sql = \"\"\"SELECT\n",
    "           t_Ort.ort_kurz,\n",
    "           t_Ort.ort_name,\n",
    "           t_Obj.objID,\n",
    "           t_Obj.Typ,\n",
    "           t_Obj.Form_Gef\n",
    "       FROM (t_Ort INNER JOIN t_Komplex ON t_Ort.ortID = t_Komplex.ortID)\n",
    "           INNER JOIN t_Obj ON t_Komplex.komplexID = t_Obj.komplexID\n",
    "       WHERE (((t_Ort.ort_lit)='DS')\n",
    "           AND ((t_Obj.Typ) Like '%\"\"\"+style+\"\"\"%')\n",
    "           AND ((t_Obj.Form_Gef) != ''))\"\"\".replace('\\n',' ')\n",
    "\n",
    "df = pd.read_sql(sql, con)"
   ]
  },
  {
   "cell_type": "code",
   "execution_count": 54,
   "metadata": {},
   "outputs": [
    {
     "data": {
      "text/html": [
       "<div>\n",
       "<table border=\"1\" class=\"dataframe\">\n",
       "  <thead>\n",
       "    <tr style=\"text-align: right;\">\n",
       "      <th></th>\n",
       "      <th>0</th>\n",
       "      <th>Prozent</th>\n",
       "    </tr>\n",
       "  </thead>\n",
       "  <tbody>\n",
       "    <tr>\n",
       "      <th>fraglich</th>\n",
       "      <td>77</td>\n",
       "      <td>37.931034</td>\n",
       "    </tr>\n",
       "    <tr>\n",
       "      <th>sicher</th>\n",
       "      <td>126</td>\n",
       "      <td>62.068966</td>\n",
       "    </tr>\n",
       "  </tbody>\n",
       "</table>\n",
       "</div>"
      ],
      "text/plain": [
       "            0    Prozent\n",
       "fraglich   77  37.931034\n",
       "sicher    126  62.068966"
      ]
     },
     "execution_count": 54,
     "metadata": {},
     "output_type": "execute_result"
    }
   ],
   "source": [
    "df_pivot = df.pivot_table(values = 'objID', index = 'Form_Gef', aggfunc = len)\n",
    "df_pivot = pd.DataFrame(df_pivot)\n",
    "\n",
    "df_pivot['GefForm'] = df_pivot.index\n",
    "a = pd.Series({'sicher':sum(df_pivot['objID'].loc[~df_pivot['GefForm'].str.contains(\" \")]),\n",
    "               'fraglich':sum(df_pivot['objID'].loc[df_pivot['GefForm'].str.contains(\" \")])})\n",
    "a = pd.DataFrame(a)\n",
    "a['Prozent'] = a[0]/a[0].sum()*100\n",
    "a"
   ]
  },
  {
   "cell_type": "code",
   "execution_count": 55,
   "metadata": {},
   "outputs": [
    {
     "data": {
      "text/plain": [
       "203"
      ]
     },
     "execution_count": 55,
     "metadata": {},
     "output_type": "execute_result"
    }
   ],
   "source": [
    "a[0].sum()"
   ]
  },
  {
   "cell_type": "code",
   "execution_count": 56,
   "metadata": {
    "collapsed": true
   },
   "outputs": [],
   "source": [
    "# nur sichere Gef\n",
    "df1 = df.loc[~df['Form_Gef'].str.contains(\" \")]\n",
    "# fragliche Gef\n",
    "df2 = df.loc[df['Form_Gef'].str.contains(\" \")]"
   ]
  },
  {
   "cell_type": "code",
   "execution_count": 57,
   "metadata": {
    "collapsed": true
   },
   "outputs": [],
   "source": [
    "df_pivot1 = df1.pivot_table(values = 'objID', index = 'Form_Gef', aggfunc = len)\n",
    "df_pivot1 = pd.DataFrame(df_pivot1)\n",
    "\n",
    "df_pivot2 = df2.pivot_table(values = 'objID', index = 'Form_Gef', aggfunc = len)\n",
    "df_pivot2 = pd.DataFrame(df_pivot2)"
   ]
  },
  {
   "cell_type": "code",
   "execution_count": 58,
   "metadata": {
    "collapsed": true
   },
   "outputs": [],
   "source": [
    "# mit .isin nur noch solche Einträge auswählen, die sicher 'Pikunda-Munda' sind (ohne ? oder anderen Kram)\n",
    "dfFilter = [style]\n",
    "df1 = df1[df1['Typ'].isin(dfFilter)]\n",
    "# display(df1.head())\n",
    "# display(df1.head())"
   ]
  },
  {
   "cell_type": "code",
   "execution_count": 59,
   "metadata": {
    "collapsed": true
   },
   "outputs": [],
   "source": [
    "df_pivot = df1.pivot_table(values = 'objID', index = 'Form_Gef', aggfunc = len)\n",
    "df_pivot = pd.DataFrame(df_pivot)\n",
    "# df_pivot"
   ]
  },
  {
   "cell_type": "code",
   "execution_count": 60,
   "metadata": {},
   "outputs": [
    {
     "data": {
      "text/plain": [
       "103"
      ]
     },
     "execution_count": 60,
     "metadata": {},
     "output_type": "execute_result"
    }
   ],
   "source": [
    "df_pivot['objID'].sum()"
   ]
  },
  {
   "cell_type": "code",
   "execution_count": 61,
   "metadata": {},
   "outputs": [
    {
     "data": {
      "image/png": "[encoded data removed]",
      "text/plain": [
       "<matplotlib.figure.Figure at 0x22a8d4d0be0>"
      ]
     },
     "metadata": {},
     "output_type": "display_data"
    }
   ],
   "source": [
    "fig = plt.figure()\n",
    "fig.set_size_inches(5, 5)\n",
    "df_pivot['objID'].plot(kind='pie', autopct='%.0f %%', cmap = 'Paired')\n",
    "plt.ylabel('')\n",
    "plt.savefig('../output/figs/3-1-2-5_Ebambe_GefForm2.pdf', bbox_inches='tight')"
   ]
  },
  {
   "cell_type": "markdown",
   "metadata": {},
   "source": [
    "### Mündungs- und Randformen"
   ]
  },
  {
   "cell_type": "code",
   "execution_count": 62,
   "metadata": {
    "collapsed": true
   },
   "outputs": [],
   "source": [
    "sql = \"\"\"SELECT\n",
    "           t_Ort.ort_kurz,\n",
    "           t_Ort.ort_name,\n",
    "           t_Obj.objID,\n",
    "           t_Obj.Typ,\n",
    "           t_Obj.Form_Mdg,\n",
    "           t_Obj.Form_Rand,\n",
    "           t_Obj.Form_Hals,\n",
    "           t_Obj.Form_Schulter,\n",
    "           t_Obj.Form_Gef\n",
    "       FROM (t_Ort INNER JOIN t_Komplex ON t_Ort.ortID = t_Komplex.ortID)\n",
    "           INNER JOIN t_Obj ON t_Komplex.komplexID = t_Obj.komplexID\n",
    "       WHERE (((t_Ort.ort_lit)='DS')\n",
    "           AND ((t_Obj.Typ) Like '%\"\"\"+style+\"\"\"%')\n",
    "           AND ((t_Obj.Anzahl) = 1))\"\"\".replace('\\n',' ')\n",
    "\n",
    "df = pd.read_sql(sql, con)\n",
    "# leere Werte in NaN ändern\n",
    "df = df.replace('',np.nan, regex=True)\n",
    "# display(df.head())"
   ]
  },
  {
   "cell_type": "code",
   "execution_count": 63,
   "metadata": {},
   "outputs": [
    {
     "name": "stderr",
     "output_type": "stream",
     "text": [
      "C:\\Users\\Dirk\\Anaconda3\\lib\\site-packages\\ipykernel\\__main__.py:4: SettingWithCopyWarning: \n",
      "A value is trying to be set on a copy of a slice from a DataFrame.\n",
      "Try using .loc[row_indexer,col_indexer] = value instead\n",
      "\n",
      "See the caveats in the documentation: http://pandas.pydata.org/pandas-docs/stable/indexing.html#indexing-view-versus-copy\n",
      "C:\\Users\\Dirk\\Anaconda3\\lib\\site-packages\\ipykernel\\__main__.py:5: SettingWithCopyWarning: \n",
      "A value is trying to be set on a copy of a slice from a DataFrame.\n",
      "Try using .loc[row_indexer,col_indexer] = value instead\n",
      "\n",
      "See the caveats in the documentation: http://pandas.pydata.org/pandas-docs/stable/indexing.html#indexing-view-versus-copy\n",
      "C:\\Users\\Dirk\\Anaconda3\\lib\\site-packages\\ipykernel\\__main__.py:9: FutureWarning: by argument to sort_index is deprecated, pls use .sort_values(by=...)\n"
     ]
    },
    {
     "data": {
      "text/html": [
       "<div>\n",
       "<table border=\"1\" class=\"dataframe\">\n",
       "  <thead>\n",
       "    <tr style=\"text-align: right;\">\n",
       "      <th></th>\n",
       "      <th>objID</th>\n",
       "      <th>Prozent</th>\n",
       "    </tr>\n",
       "    <tr>\n",
       "      <th>Form_Mdg</th>\n",
       "      <th></th>\n",
       "      <th></th>\n",
       "    </tr>\n",
       "  </thead>\n",
       "  <tbody>\n",
       "    <tr>\n",
       "      <th>M3</th>\n",
       "      <td>72</td>\n",
       "      <td>69.230769</td>\n",
       "    </tr>\n",
       "    <tr>\n",
       "      <th>M6</th>\n",
       "      <td>15</td>\n",
       "      <td>14.423077</td>\n",
       "    </tr>\n",
       "    <tr>\n",
       "      <th>M2</th>\n",
       "      <td>6</td>\n",
       "      <td>5.769231</td>\n",
       "    </tr>\n",
       "    <tr>\n",
       "      <th>M4</th>\n",
       "      <td>5</td>\n",
       "      <td>4.807692</td>\n",
       "    </tr>\n",
       "    <tr>\n",
       "      <th>M5</th>\n",
       "      <td>5</td>\n",
       "      <td>4.807692</td>\n",
       "    </tr>\n",
       "  </tbody>\n",
       "</table>\n",
       "</div>"
      ],
      "text/plain": [
       "          objID    Prozent\n",
       "Form_Mdg                  \n",
       "M3           72  69.230769\n",
       "M6           15  14.423077\n",
       "M2            6   5.769231\n",
       "M4            5   4.807692\n",
       "M5            5   4.807692"
      ]
     },
     "execution_count": 63,
     "metadata": {},
     "output_type": "execute_result"
    }
   ],
   "source": [
    "# Zeilen ohne Mdg löschen\n",
    "# Fragezeichen löschen\n",
    "df1 = df.dropna(subset = ['Form_Mdg'])\n",
    "df1['Form_Mdg'] = df1['Form_Mdg'].map(lambda x: x.rstrip(' (?)'))\n",
    "df1['Form_Mdg'] = df1['Form_Mdg'].apply(lambda x: x.split('/')[0])\\\n",
    "\n",
    "df_pivot = df1.pivot_table(values = 'objID', index = 'Form_Mdg', aggfunc = len)\n",
    "df_pivot = pd.DataFrame(df_pivot)\n",
    "# Sortierung in Aufsteigend ändern\n",
    "df_pivot = df_pivot.sort_index(by = ['objID'], ascending=False)\n",
    "# Prozent-Anteil errechnen\n",
    "df_pivot['Prozent'] = df_pivot['objID']/df_pivot['objID'].sum()*100\n",
    "df_pivot.head()"
   ]
  },
  {
   "cell_type": "code",
   "execution_count": 64,
   "metadata": {},
   "outputs": [
    {
     "data": {
      "text/plain": [
       "<matplotlib.text.Text at 0x22a8d3af0f0>"
      ]
     },
     "execution_count": 64,
     "metadata": {},
     "output_type": "execute_result"
    },
    {
     "data": {
      "image/png": "[encoded data removed]",
      "text/plain": [
       "<matplotlib.figure.Figure at 0x22a8d3d3e80>"
      ]
     },
     "metadata": {},
     "output_type": "display_data"
    }
   ],
   "source": [
    "fig = plt.figure()\n",
    "fig.set_size_inches(5, 5)\n",
    "df_pivot['objID'].plot(kind='pie', autopct='%.0f %%', cmap = 'Paired')\n",
    "plt.ylabel('')"
   ]
  },
  {
   "cell_type": "code",
   "execution_count": 65,
   "metadata": {},
   "outputs": [
    {
     "name": "stderr",
     "output_type": "stream",
     "text": [
      "C:\\Users\\Dirk\\Anaconda3\\lib\\site-packages\\ipykernel\\__main__.py:3: SettingWithCopyWarning: \n",
      "A value is trying to be set on a copy of a slice from a DataFrame.\n",
      "Try using .loc[row_indexer,col_indexer] = value instead\n",
      "\n",
      "See the caveats in the documentation: http://pandas.pydata.org/pandas-docs/stable/indexing.html#indexing-view-versus-copy\n",
      "  app.launch_new_instance()\n",
      "C:\\Users\\Dirk\\Anaconda3\\lib\\site-packages\\ipykernel\\__main__.py:4: SettingWithCopyWarning: \n",
      "A value is trying to be set on a copy of a slice from a DataFrame.\n",
      "Try using .loc[row_indexer,col_indexer] = value instead\n",
      "\n",
      "See the caveats in the documentation: http://pandas.pydata.org/pandas-docs/stable/indexing.html#indexing-view-versus-copy\n",
      "C:\\Users\\Dirk\\Anaconda3\\lib\\site-packages\\ipykernel\\__main__.py:9: FutureWarning: by argument to sort_index is deprecated, pls use .sort_values(by=...)\n"
     ]
    },
    {
     "data": {
      "text/html": [
       "<div>\n",
       "<table border=\"1\" class=\"dataframe\">\n",
       "  <thead>\n",
       "    <tr style=\"text-align: right;\">\n",
       "      <th></th>\n",
       "      <th>objID</th>\n",
       "      <th>Prozent</th>\n",
       "    </tr>\n",
       "    <tr>\n",
       "      <th>Form_Rand</th>\n",
       "      <th></th>\n",
       "      <th></th>\n",
       "    </tr>\n",
       "  </thead>\n",
       "  <tbody>\n",
       "    <tr>\n",
       "      <th>B1</th>\n",
       "      <td>55</td>\n",
       "      <td>45.833333</td>\n",
       "    </tr>\n",
       "    <tr>\n",
       "      <th>A1</th>\n",
       "      <td>41</td>\n",
       "      <td>34.166667</td>\n",
       "    </tr>\n",
       "    <tr>\n",
       "      <th>B3.3</th>\n",
       "      <td>11</td>\n",
       "      <td>9.166667</td>\n",
       "    </tr>\n",
       "    <tr>\n",
       "      <th>B1.1</th>\n",
       "      <td>4</td>\n",
       "      <td>3.333333</td>\n",
       "    </tr>\n",
       "    <tr>\n",
       "      <th>A1.1</th>\n",
       "      <td>3</td>\n",
       "      <td>2.500000</td>\n",
       "    </tr>\n",
       "  </tbody>\n",
       "</table>\n",
       "</div>"
      ],
      "text/plain": [
       "           objID    Prozent\n",
       "Form_Rand                  \n",
       "B1            55  45.833333\n",
       "A1            41  34.166667\n",
       "B3.3          11   9.166667\n",
       "B1.1           4   3.333333\n",
       "A1.1           3   2.500000"
      ]
     },
     "metadata": {},
     "output_type": "display_data"
    }
   ],
   "source": [
    "# Fragezeichen löschen\n",
    "df1 = df.dropna(subset = ['Form_Rand'])\n",
    "df1['Form_Rand'] = df1['Form_Rand'].map(lambda x: x.rstrip(' (?)'))\n",
    "df1['Form_Rand'] = df1['Form_Rand'].apply(lambda x: x.split('/')[0])\n",
    "\n",
    "df_pivot = df1.pivot_table(values = 'objID', index = 'Form_Rand', aggfunc = len)\n",
    "df_pivot = pd.DataFrame(df_pivot)\n",
    "# Sortierung in Aufsteigend ändern\n",
    "df_pivot = df_pivot.sort_index(by = ['objID'], ascending=False)\n",
    "# Prozent-Anteil errechnen\n",
    "df_pivot['Prozent'] = df_pivot['objID']/df_pivot['objID'].sum()*100\n",
    "display(df_pivot.head())"
   ]
  },
  {
   "cell_type": "code",
   "execution_count": 66,
   "metadata": {},
   "outputs": [
    {
     "data": {
      "text/plain": [
       "<matplotlib.text.Text at 0x22a8d4d2e80>"
      ]
     },
     "execution_count": 66,
     "metadata": {},
     "output_type": "execute_result"
    },
    {
     "data": {
      "image/png": "[encoded data removed]",
      "text/plain": [
       "<matplotlib.figure.Figure at 0x22a8d5ea7b8>"
      ]
     },
     "metadata": {},
     "output_type": "display_data"
    }
   ],
   "source": [
    "fig = plt.figure()\n",
    "fig.set_size_inches(5, 5)\n",
    "df_pivot['objID'].plot(kind='pie', autopct='%.0f %%', cmap = 'Paired')\n",
    "plt.ylabel('')"
   ]
  },
  {
   "cell_type": "code",
   "execution_count": 67,
   "metadata": {},
   "outputs": [
    {
     "name": "stderr",
     "output_type": "stream",
     "text": [
      "C:\\Users\\Dirk\\Anaconda3\\lib\\site-packages\\ipykernel\\__main__.py:2: SettingWithCopyWarning: \n",
      "A value is trying to be set on a copy of a slice from a DataFrame.\n",
      "Try using .loc[row_indexer,col_indexer] = value instead\n",
      "\n",
      "See the caveats in the documentation: http://pandas.pydata.org/pandas-docs/stable/indexing.html#indexing-view-versus-copy\n",
      "  from ipykernel import kernelapp as app\n"
     ]
    },
    {
     "data": {
      "text/plain": [
       "<matplotlib.text.Text at 0x22a8c1f3b00>"
      ]
     },
     "execution_count": 67,
     "metadata": {},
     "output_type": "execute_result"
    },
    {
     "data": {
      "image/png": "[encoded data removed]",
      "text/plain": [
       "<matplotlib.figure.Figure at 0x22a8d4eac88>"
      ]
     },
     "metadata": {},
     "output_type": "display_data"
    }
   ],
   "source": [
    "a = df.dropna(subset = ['Form_Hals'])\n",
    "a['Form_Hals'] = a['Form_Hals'].map(lambda x: str(x)[:2])\n",
    "\n",
    "df_pivot = a.pivot_table(values = 'objID', index = 'Form_Hals', aggfunc = len)\n",
    "fig = plt.figure()\n",
    "fig.set_size_inches(5, 5)\n",
    "df_pivot.plot(kind='pie', autopct='%.0f %%', cmap = 'Paired')\n",
    "plt.title(\"Hals\")"
   ]
  },
  {
   "cell_type": "code",
   "execution_count": 68,
   "metadata": {},
   "outputs": [
    {
     "name": "stderr",
     "output_type": "stream",
     "text": [
      "C:\\Users\\Dirk\\Anaconda3\\lib\\site-packages\\ipykernel\\__main__.py:2: SettingWithCopyWarning: \n",
      "A value is trying to be set on a copy of a slice from a DataFrame.\n",
      "Try using .loc[row_indexer,col_indexer] = value instead\n",
      "\n",
      "See the caveats in the documentation: http://pandas.pydata.org/pandas-docs/stable/indexing.html#indexing-view-versus-copy\n",
      "  from ipykernel import kernelapp as app\n"
     ]
    },
    {
     "data": {
      "text/plain": [
       "<matplotlib.text.Text at 0x22a8c1ca9e8>"
      ]
     },
     "execution_count": 68,
     "metadata": {},
     "output_type": "execute_result"
    },
    {
     "data": {
      "image/png": "[encoded data removed]",
      "text/plain": [
       "<matplotlib.figure.Figure at 0x22a8d57a048>"
      ]
     },
     "metadata": {},
     "output_type": "display_data"
    }
   ],
   "source": [
    "b = df.dropna(subset = ['Form_Schulter'])\n",
    "b['Form_Schulter'] = b['Form_Schulter'].map(lambda x: str(x)[:2])\n",
    "\n",
    "df_pivot = b.pivot_table(values = 'objID', index = 'Form_Schulter', aggfunc = len)\n",
    "fig = plt.figure()\n",
    "fig.set_size_inches(5, 5)\n",
    "df_pivot.plot(kind='pie', autopct='%.0f %%', cmap = 'Paired')\n",
    "plt.title(\"Schulter\")"
   ]
  },
  {
   "cell_type": "markdown",
   "metadata": {},
   "source": [
    "### Boden"
   ]
  },
  {
   "cell_type": "code",
   "execution_count": 69,
   "metadata": {},
   "outputs": [
    {
     "data": {
      "text/plain": [
       "<matplotlib.text.Text at 0x22a8baba710>"
      ]
     },
     "execution_count": 69,
     "metadata": {},
     "output_type": "execute_result"
    },
    {
     "data": {
      "image/png": "[encoded data removed]",
      "text/plain": [
       "<matplotlib.figure.Figure at 0x22a8d2cef98>"
      ]
     },
     "metadata": {},
     "output_type": "display_data"
    }
   ],
   "source": [
    "sql = \"\"\"SELECT\n",
    "           t_Ort.ort_kurz,\n",
    "           t_Ort.ort_name,\n",
    "           t_Obj.objID,\n",
    "           t_Obj.Typ,\n",
    "           t_Obj.Form_Gef,\n",
    "           t_Obj.Form_Boden\n",
    "       FROM (t_Ort INNER JOIN t_Komplex ON t_Ort.ortID = t_Komplex.ortID)\n",
    "           INNER JOIN t_Obj ON t_Komplex.komplexID = t_Obj.komplexID\n",
    "       WHERE (((t_Ort.ort_lit)='DS')\n",
    "           AND ((t_Obj.Typ) Like '%\"\"\"+style+\"\"\"%')\n",
    "           AND ((t_Obj.Anzahl) = 1)\n",
    "           AND ((t_Obj.Form_Boden) != ''))\"\"\".replace('\\n',' ')\n",
    "\n",
    "df = pd.read_sql(sql, con)\n",
    "\n",
    "# Fragezeichen löschen\n",
    "df['Form_Boden'] = df['Form_Boden'].map(lambda x: x.rstrip(' (?)'))\n",
    "df['Form_Boden'] = df['Form_Boden'].apply(lambda x: x.split('/')[0])\\\n",
    "\n",
    "df_pivot = df.pivot_table(values = 'objID', index = 'Form_Boden', aggfunc = len)\n",
    "df_pivot = pd.DataFrame(df_pivot)\n",
    "df_pivot['Prozent'] = df_pivot['objID']/df_pivot['objID'].sum()*100\n",
    "#df_pivot\n",
    "\n",
    "fig = plt.figure()\n",
    "fig.set_size_inches(5, 5)\n",
    "df_pivot['objID'].plot(kind='pie', autopct='%.0f %%', cmap = 'Paired')\n",
    "plt.title(\"Boden\")"
   ]
  },
  {
   "cell_type": "code",
   "execution_count": 70,
   "metadata": {},
   "outputs": [
    {
     "data": {
      "text/plain": [
       "31"
      ]
     },
     "execution_count": 70,
     "metadata": {},
     "output_type": "execute_result"
    }
   ],
   "source": [
    "len(df['Form_Boden'])"
   ]
  },
  {
   "cell_type": "markdown",
   "metadata": {},
   "source": [
    "## Verzierungselemente"
   ]
  },
  {
   "cell_type": "code",
   "execution_count": 2,
   "metadata": {},
   "outputs": [
    {
     "name": "stderr",
     "output_type": "stream",
     "text": [
      "C:\\Users\\Dirk\\Dropbox\\Dissertation\\Python\\myfunctions.py:66: SettingWithCopyWarning: \n",
      "A value is trying to be set on a copy of a slice from a DataFrame.\n",
      "Try using .loc[row_indexer,col_indexer] = value instead\n",
      "\n",
      "See the caveats in the documentation: http://pandas.pydata.org/pandas-docs/stable/indexing.html#indexing-view-versus-copy\n",
      "  df1['n'] = 1\n",
      "C:\\Users\\Dirk\\Dropbox\\Dissertation\\Python\\myfunctions.py:88: FutureWarning: convert_objects is deprecated.  Use the data-type specific converters pd.to_datetime, pd.to_timedelta and pd.to_numeric.\n",
      "  ab[1] = ab[1].convert_objects(convert_numeric=True)\n"
     ]
    }
   ],
   "source": [
    "(df_pivotBig_perc, df_pivotBig_perc_a, new_cmap) = decoration_positon_matrices_print(style)"
   ]
  },
  {
   "cell_type": "code",
   "execution_count": 3,
   "metadata": {},
   "outputs": [
    {
     "data": {
      "image/png": "[encoded data removed]",
      "text/plain": [
       "<matplotlib.figure.Figure at 0x22a5271f0f0>"
      ]
     },
     "metadata": {},
     "output_type": "display_data"
    }
   ],
   "source": [
    "fig = plt.figure()\n",
    "fig.set_size_inches(25, 15)\n",
    "\n",
    "ax = plt.gca()\n",
    "im = ax.imshow(df_pivotBig_perc, interpolation='nearest', cmap=parula_map, alpha=.66)\n",
    "\n",
    "plt.xlabel('Verzierungselemente (Schlüssel)')\n",
    "plt.yticks(range(len(df_pivotBig_perc.index)), df_pivotBig_perc.index.str[2:])\n",
    "plt.xticks(range(len(df_pivotBig_perc.columns)), df_pivotBig_perc.columns, rotation = -45)\n",
    "\n",
    "for (i, j), z in np.ndenumerate(df_pivotBig_perc_a):\n",
    "    plt.text(j, i, z, ha='center', va='center')\n",
    "    \n",
    "plt.axvline(10.5, color='grey', linestyle = '--')\n",
    "plt.axvline(17.5, color='grey', linestyle = '--')\n",
    "plt.axvline(18.5, color='grey', linestyle = '--')\n",
    "plt.axvline(20.5, color='grey', linestyle = '--')\n",
    "plt.axvline(43.5, color='grey', linestyle = '--')\n",
    "plt.axvline(44.5, color='grey', linestyle = '--')\n",
    "plt.axvline(57.5, color='grey', linestyle = '--')\n",
    "plt.axvline(61.5, color='grey', linestyle = '--')\n",
    "plt.axvline(70.5, color='grey', linestyle = '--')\n",
    "\n",
    "divider = make_axes_locatable(ax)\n",
    "cax = divider.append_axes(\"right\", size=\"1%\", pad=0.2)\n",
    "cbar = plt.colorbar(im, cax=cax)\n",
    "cbar.set_label('Anteil (%)', rotation = -90, labelpad = 15)\n",
    "\n",
    "plt.tight_layout()\n",
    "\n",
    "plt.savefig('../output/figs/3-1-2-5_Ebambe_VerzierungselmenteAlle.pdf', bbox_inches='tight')\n",
    "plt.show()"
   ]
  },
  {
   "cell_type": "code",
   "execution_count": 73,
   "metadata": {},
   "outputs": [
    {
     "name": "stderr",
     "output_type": "stream",
     "text": [
      "C:\\Users\\Dirk\\Anaconda3\\lib\\site-packages\\ipykernel\\__main__.py:23: FutureWarning: by argument to sort_index is deprecated, pls use .sort_values(by=...)\n"
     ]
    }
   ],
   "source": [
    "sql = \"\"\"SELECT\n",
    "           t_Obj.objID,\n",
    "           t_K_Pos.posID,\n",
    "           t_K_Verz.verzID,\n",
    "           [t_K_Pos].[posReihe] || ' ' || [posName] AS pos,\n",
    "           t_K_Verz.verzName,\n",
    "           t_K_Verz.verzBeschr,\n",
    "           t_Obj.Typ,\n",
    "           t_Obj.Form_Gef\n",
    "       FROM t_Obj INNER JOIN \"t_ObjPosVerz\" ON t_Obj.objID = \"t_ObjPosVerz\".objID\n",
    "           INNER JOIN t_K_Pos ON \"t_ObjPosVerz\".posID = t_K_Pos.posID\n",
    "           INNER JOIN t_K_Verz ON \"t_ObjPosVerz\".verzID = t_K_Verz.verzID\n",
    "       WHERE (((t_K_Pos.posID)<>1)\n",
    "           AND ((t_K_Verz.verzName) != '')\n",
    "           AND ((t_Obj.Typ) Like '%\"\"\"+style+\"\"\"%'))\"\"\".replace('\\n',' ')\n",
    "\n",
    "df = pd.read_sql(sql, con)\n",
    "#display(df.head())\n",
    "\n",
    "df_pivot = df.pivot_table(values = 'objID', index = 'verzName', aggfunc = len)\n",
    "df_pivot = pd.DataFrame(df_pivot)\n",
    "# Sortierung in Aufsteigend ändern\n",
    "df_pivot = df_pivot.sort_index(by = ['objID'], ascending = True)"
   ]
  },
  {
   "cell_type": "code",
   "execution_count": 74,
   "metadata": {},
   "outputs": [
    {
     "data": {
      "text/plain": [
       "<matplotlib.text.Text at 0x22a8e4c6470>"
      ]
     },
     "execution_count": 74,
     "metadata": {},
     "output_type": "execute_result"
    },
    {
     "data": {
      "image/png": "[encoded data removed]",
      "text/plain": [
       "<matplotlib.figure.Figure at 0x22a8c23e978>"
      ]
     },
     "metadata": {},
     "output_type": "display_data"
    }
   ],
   "source": [
    "fig = plt.figure()\n",
    "fig.set_size_inches(5, 5)\n",
    "df_pivot['objID'].plot(kind='pie', autopct='%.0f %%', cmap = 'Paired' )\n",
    "plt.ylabel('')"
   ]
  },
  {
   "cell_type": "code",
   "execution_count": 75,
   "metadata": {},
   "outputs": [
    {
     "data": {
      "text/html": [
       "<div>\n",
       "<table border=\"1\" class=\"dataframe\">\n",
       "  <thead>\n",
       "    <tr style=\"text-align: right;\">\n",
       "      <th></th>\n",
       "      <th>0</th>\n",
       "      <th>Prozent</th>\n",
       "    </tr>\n",
       "  </thead>\n",
       "  <tbody>\n",
       "    <tr>\n",
       "      <th>Riefen und Rillen</th>\n",
       "      <td>333</td>\n",
       "      <td>46.835443</td>\n",
       "    </tr>\n",
       "    <tr>\n",
       "      <th>Sonstiges</th>\n",
       "      <td>378</td>\n",
       "      <td>53.164557</td>\n",
       "    </tr>\n",
       "  </tbody>\n",
       "</table>\n",
       "</div>"
      ],
      "text/plain": [
       "                     0    Prozent\n",
       "Riefen und Rillen  333  46.835443\n",
       "Sonstiges          378  53.164557"
      ]
     },
     "execution_count": 75,
     "metadata": {},
     "output_type": "execute_result"
    }
   ],
   "source": [
    "a = pd.Series({'Riefen und Rillen':len(df.loc[df['verzName'].str.contains(\"01.|02.\")].index),\n",
    "               'Sonstiges':len(df.loc[~df['verzName'].str.contains(\"01.|02.\")].index)})\n",
    "a = pd.DataFrame(a)\n",
    "a['Prozent'] = a[0]/a[0].sum()*100\n",
    "a"
   ]
  },
  {
   "cell_type": "markdown",
   "metadata": {},
   "source": [
    "## Datierung"
   ]
  },
  {
   "cell_type": "code",
   "execution_count": 76,
   "metadata": {},
   "outputs": [
    {
     "data": {
      "text/html": [
       "<div>\n",
       "<table border=\"1\" class=\"dataframe\">\n",
       "  <thead>\n",
       "    <tr style=\"text-align: right;\">\n",
       "      <th></th>\n",
       "      <th>LABNR</th>\n",
       "      <th>C14AGE</th>\n",
       "      <th>C14STD</th>\n",
       "      <th>C13</th>\n",
       "      <th>SITE</th>\n",
       "      <th>CULTURE</th>\n",
       "      <th>PHASE</th>\n",
       "      <th>LATITUDE</th>\n",
       "      <th>LONGITUDE</th>\n",
       "      <th>objID</th>\n",
       "    </tr>\n",
       "  </thead>\n",
       "  <tbody>\n",
       "    <tr>\n",
       "      <th>0</th>\n",
       "      <td>KI-2882</td>\n",
       "      <td>1110.0</td>\n",
       "      <td>110.0</td>\n",
       "      <td>-27.7</td>\n",
       "      <td>Munda</td>\n",
       "      <td>Grube/Ofen</td>\n",
       "      <td>87/1</td>\n",
       "      <td>1.162608</td>\n",
       "      <td>17.356948</td>\n",
       "      <td>75</td>\n",
       "    </tr>\n",
       "    <tr>\n",
       "      <th>1</th>\n",
       "      <td>KI-2883</td>\n",
       "      <td>870.0</td>\n",
       "      <td>180.0</td>\n",
       "      <td>-28.2</td>\n",
       "      <td>Munda</td>\n",
       "      <td>Grube/Ofen</td>\n",
       "      <td>87/1</td>\n",
       "      <td>1.162608</td>\n",
       "      <td>17.356948</td>\n",
       "      <td>75</td>\n",
       "    </tr>\n",
       "    <tr>\n",
       "      <th>2</th>\n",
       "      <td>KI-2884</td>\n",
       "      <td>250.0</td>\n",
       "      <td>40.0</td>\n",
       "      <td>-27.0</td>\n",
       "      <td>Munda</td>\n",
       "      <td>Grube/Ofen</td>\n",
       "      <td>87/1</td>\n",
       "      <td>1.162608</td>\n",
       "      <td>17.356948</td>\n",
       "      <td>75</td>\n",
       "    </tr>\n",
       "    <tr>\n",
       "      <th>3</th>\n",
       "      <td>KI-2892</td>\n",
       "      <td>840.0</td>\n",
       "      <td>41.0</td>\n",
       "      <td>-27.4</td>\n",
       "      <td>Pikunda</td>\n",
       "      <td>Ofen</td>\n",
       "      <td>87/3</td>\n",
       "      <td>0.549344</td>\n",
       "      <td>16.635736</td>\n",
       "      <td>1</td>\n",
       "    </tr>\n",
       "  </tbody>\n",
       "</table>\n",
       "</div>"
      ],
      "text/plain": [
       "     LABNR  C14AGE  C14STD   C13     SITE     CULTURE PHASE  LATITUDE  \\\n",
       "0  KI-2882  1110.0   110.0 -27.7    Munda  Grube/Ofen  87/1  1.162608   \n",
       "1  KI-2883   870.0   180.0 -28.2    Munda  Grube/Ofen  87/1  1.162608   \n",
       "2  KI-2884   250.0    40.0 -27.0    Munda  Grube/Ofen  87/1  1.162608   \n",
       "3  KI-2892   840.0    41.0 -27.4  Pikunda        Ofen  87/3  0.549344   \n",
       "\n",
       "   LONGITUDE  objID  \n",
       "0  17.356948     75  \n",
       "1  17.356948     75  \n",
       "2  17.356948     75  \n",
       "3  16.635736      1  "
      ]
     },
     "execution_count": 76,
     "metadata": {},
     "output_type": "execute_result"
    }
   ],
   "source": [
    "sql = \"\"\"SELECT\n",
    "           t_Obj.objID,\n",
    "           t_14C.LABNR,\n",
    "           t_14C.C14AGE,\n",
    "           t_14C.C14STD,\n",
    "           t_14C.C13,\n",
    "           t_14C.MATERIAL,\n",
    "           t_14C.SPECIES,\n",
    "           [t_Ort].[ort_name] AS SITE, \n",
    "           [t_Komplex].[bef_art] AS CULTURE, \n",
    "           [t_Komplex].[bef_nr] AS PHASE,\n",
    "           [t_ort].[ort_land] AS COUNTRY,\n",
    "           [t_ort].[y_lat] AS LATITUDE,\n",
    "           [t_ort].[x_long] AS LONGITUDE\n",
    "       FROM ((t_Ort LEFT JOIN t_Komplex ON t_Ort.ortID = t_Komplex.ortID)\n",
    "           LEFT JOIN t_14c ON t_Komplex.komplexID = t_14c.komplexID)\n",
    "           INNER JOIN t_Obj ON t_Komplex.komplexID = t_Obj.komplexID\n",
    "       WHERE (((t_Komplex.bef_art) Not Like '%oberfl%')\n",
    "           AND ((t_Obj.Typ) = '\"\"\"+style+\"\"\"'))\"\"\".replace('\\n',' ')\n",
    "\n",
    "df = pd.read_sql(sql, con)\n",
    "df_pivot = pd.DataFrame(df.pivot_table(values = 'objID', index = ['LABNR', 'C14AGE', 'C14STD', 'C13', 'SITE', 'CULTURE', 'PHASE', 'LATITUDE', 'LONGITUDE'], aggfunc = len)).reset_index()\n",
    "df_pivot"
   ]
  },
  {
   "cell_type": "markdown",
   "metadata": {},
   "source": [
    "OxCal"
   ]
  },
  {
   "cell_type": "code",
   "execution_count": 77,
   "metadata": {},
   "outputs": [
    {
     "name": "stdout",
     "output_type": "stream",
     "text": [
      "Plot()\n",
      "{\n",
      "R_Date(\" Munda - 87/1 - KI-2882 \", 1110.0 , 110.0 );\n",
      "R_Date(\" Munda - 87/1 - KI-2883 \", 870.0 , 180.0 );\n",
      "R_Date(\" Munda - 87/1 - KI-2884 \", 250.0 , 40.0 );\n",
      "R_Date(\" Pikunda - 87/3 - KI-2892 \", 840.0 , 41.0 );\n",
      "};\n"
     ]
    }
   ],
   "source": [
    "print('''Plot()\n",
    "{''')\n",
    "for index, row in df_pivot.iterrows():\n",
    "#for index, row in df_merge[df_merge['PHASE'] == 'Group VI'].iterrows():\n",
    "    print('R_Date(\"',row['SITE'], '-', row['PHASE'],'-', row['LABNR'],'\",', row['C14AGE'],',', row['C14STD'],');')\n",
    "print('};')"
   ]
  },
  {
   "cell_type": "markdown",
   "metadata": {
    "collapsed": true
   },
   "source": [
    "## Verbreitung"
   ]
  },
  {
   "cell_type": "code",
   "execution_count": 78,
   "metadata": {},
   "outputs": [
    {
     "data": {
      "text/html": [
       "<div>\n",
       "<table border=\"1\" class=\"dataframe\">\n",
       "  <thead>\n",
       "    <tr style=\"text-align: right;\">\n",
       "      <th>Typ</th>\n",
       "      <th>Ort</th>\n",
       "      <th>Kat-Nr</th>\n",
       "      <th>X</th>\n",
       "      <th>Y</th>\n",
       "      <th>TYP</th>\n",
       "    </tr>\n",
       "  </thead>\n",
       "  <tbody>\n",
       "    <tr>\n",
       "      <th>0</th>\n",
       "      <td>Bobangi (Fpl. 189)</td>\n",
       "      <td>189</td>\n",
       "      <td>17.722248</td>\n",
       "      <td>-0.108898</td>\n",
       "      <td>EBA (?)</td>\n",
       "    </tr>\n",
       "    <tr>\n",
       "      <th>8</th>\n",
       "      <td>Gombe (Fpl. 237)</td>\n",
       "      <td>237</td>\n",
       "      <td>17.580406</td>\n",
       "      <td>-0.704069</td>\n",
       "      <td>EBA (?)</td>\n",
       "    </tr>\n",
       "    <tr>\n",
       "      <th>19</th>\n",
       "      <td>Sangha Fkm 40 (Fpl. 240)</td>\n",
       "      <td>240</td>\n",
       "      <td>16.932954</td>\n",
       "      <td>-1.045511</td>\n",
       "      <td>EBA</td>\n",
       "    </tr>\n",
       "    <tr>\n",
       "      <th>30</th>\n",
       "      <td>Sosolo (Fpl. 241)</td>\n",
       "      <td>241</td>\n",
       "      <td>17.128605</td>\n",
       "      <td>-0.892241</td>\n",
       "      <td>EBA (?)</td>\n",
       "    </tr>\n",
       "    <tr>\n",
       "      <th>12</th>\n",
       "      <td>Monjolomba (Fpl. 243)</td>\n",
       "      <td>243</td>\n",
       "      <td>17.174576</td>\n",
       "      <td>-0.684421</td>\n",
       "      <td>EBA</td>\n",
       "    </tr>\n",
       "    <tr>\n",
       "      <th>8</th>\n",
       "      <td>Loboko (Fpl. 248)</td>\n",
       "      <td>248</td>\n",
       "      <td>17.130913</td>\n",
       "      <td>-0.109189</td>\n",
       "      <td>EBA</td>\n",
       "    </tr>\n",
       "    <tr>\n",
       "      <th>2</th>\n",
       "      <td>Bokonongo (Fpl. 250)</td>\n",
       "      <td>250</td>\n",
       "      <td>17.129437</td>\n",
       "      <td>0.201971</td>\n",
       "      <td>EBA</td>\n",
       "    </tr>\n",
       "    <tr>\n",
       "      <th>9</th>\n",
       "      <td>Ifondo (Fpl. 253)</td>\n",
       "      <td>253</td>\n",
       "      <td>16.908795</td>\n",
       "      <td>0.481301</td>\n",
       "      <td>EBA (?)</td>\n",
       "    </tr>\n",
       "    <tr>\n",
       "      <th>18</th>\n",
       "      <td>Pikunda (Fpl. 255)</td>\n",
       "      <td>255</td>\n",
       "      <td>16.635736</td>\n",
       "      <td>0.549344</td>\n",
       "      <td>EBA</td>\n",
       "    </tr>\n",
       "    <tr>\n",
       "      <th>20</th>\n",
       "      <td>Molanda (Fpl. 258)</td>\n",
       "      <td>258</td>\n",
       "      <td>16.537896</td>\n",
       "      <td>0.945646</td>\n",
       "      <td>EBA (?)</td>\n",
       "    </tr>\n",
       "    <tr>\n",
       "      <th>17</th>\n",
       "      <td>Mandombe (Fpl. 259)</td>\n",
       "      <td>259</td>\n",
       "      <td>16.522700</td>\n",
       "      <td>1.116917</td>\n",
       "      <td>EBA (?)</td>\n",
       "    </tr>\n",
       "    <tr>\n",
       "      <th>22</th>\n",
       "      <td>Mosanya (Fpl. 262)</td>\n",
       "      <td>262</td>\n",
       "      <td>16.447391</td>\n",
       "      <td>1.213000</td>\n",
       "      <td>EBA (?)</td>\n",
       "    </tr>\n",
       "    <tr>\n",
       "      <th>11</th>\n",
       "      <td>Matoto (Fpl. 264)</td>\n",
       "      <td>264</td>\n",
       "      <td>16.431282</td>\n",
       "      <td>1.281643</td>\n",
       "      <td>EBA</td>\n",
       "    </tr>\n",
       "    <tr>\n",
       "      <th>17</th>\n",
       "      <td>Ouesso (Fpl. 265)</td>\n",
       "      <td>265</td>\n",
       "      <td>16.057202</td>\n",
       "      <td>1.617344</td>\n",
       "      <td>EBA</td>\n",
       "    </tr>\n",
       "    <tr>\n",
       "      <th>10</th>\n",
       "      <td>Maboko (Fpl. 267)</td>\n",
       "      <td>267</td>\n",
       "      <td>16.135199</td>\n",
       "      <td>1.731363</td>\n",
       "      <td>EBA</td>\n",
       "    </tr>\n",
       "    <tr>\n",
       "      <th>16</th>\n",
       "      <td>Mai impembe (Fpl. 271)</td>\n",
       "      <td>271</td>\n",
       "      <td>16.087011</td>\n",
       "      <td>2.087501</td>\n",
       "      <td>EBA (?)</td>\n",
       "    </tr>\n",
       "    <tr>\n",
       "      <th>19</th>\n",
       "      <td>Mbenja (Fpl. 277)</td>\n",
       "      <td>277</td>\n",
       "      <td>15.825282</td>\n",
       "      <td>1.852351</td>\n",
       "      <td>EBA (?)</td>\n",
       "    </tr>\n",
       "    <tr>\n",
       "      <th>16</th>\n",
       "      <td>Ngombe (Fpl. 283)</td>\n",
       "      <td>283</td>\n",
       "      <td>17.192417</td>\n",
       "      <td>-0.849508</td>\n",
       "      <td>EBA</td>\n",
       "    </tr>\n",
       "    <tr>\n",
       "      <th>3</th>\n",
       "      <td>Boyenge (Fpl. 284)</td>\n",
       "      <td>284</td>\n",
       "      <td>17.199855</td>\n",
       "      <td>-0.835253</td>\n",
       "      <td>EBA</td>\n",
       "    </tr>\n",
       "    <tr>\n",
       "      <th>5</th>\n",
       "      <td>Botwale (Fpl. 286)</td>\n",
       "      <td>286</td>\n",
       "      <td>17.365479</td>\n",
       "      <td>-0.552494</td>\n",
       "      <td>EBA (?)</td>\n",
       "    </tr>\n",
       "    <tr>\n",
       "      <th>20</th>\n",
       "      <td>Yumba (Fpl. 289)</td>\n",
       "      <td>289</td>\n",
       "      <td>17.366567</td>\n",
       "      <td>-0.351703</td>\n",
       "      <td>EBA</td>\n",
       "    </tr>\n",
       "    <tr>\n",
       "      <th>9</th>\n",
       "      <td>Lokolélé (Fpl. 290)</td>\n",
       "      <td>290</td>\n",
       "      <td>17.417014</td>\n",
       "      <td>-0.096843</td>\n",
       "      <td>EBA</td>\n",
       "    </tr>\n",
       "    <tr>\n",
       "      <th>1</th>\n",
       "      <td>Bojenjo (Fpl. 292)</td>\n",
       "      <td>292</td>\n",
       "      <td>17.432057</td>\n",
       "      <td>-0.006791</td>\n",
       "      <td>EBA</td>\n",
       "    </tr>\n",
       "    <tr>\n",
       "      <th>0</th>\n",
       "      <td>Boenja (Fpl. 294)</td>\n",
       "      <td>294</td>\n",
       "      <td>17.482715</td>\n",
       "      <td>0.081668</td>\n",
       "      <td>EBA</td>\n",
       "    </tr>\n",
       "    <tr>\n",
       "      <th>14</th>\n",
       "      <td>Mosengi (Fpl. 296)</td>\n",
       "      <td>296</td>\n",
       "      <td>17.454138</td>\n",
       "      <td>0.245281</td>\n",
       "      <td>EBA</td>\n",
       "    </tr>\n",
       "    <tr>\n",
       "      <th>4</th>\n",
       "      <td>Ebambe (Fpl. 297)</td>\n",
       "      <td>297</td>\n",
       "      <td>17.394327</td>\n",
       "      <td>0.289744</td>\n",
       "      <td>EBA</td>\n",
       "    </tr>\n",
       "    <tr>\n",
       "      <th>13</th>\n",
       "      <td>Mosenge (Fpl. 299)</td>\n",
       "      <td>299</td>\n",
       "      <td>17.166614</td>\n",
       "      <td>0.660540</td>\n",
       "      <td>EBA</td>\n",
       "    </tr>\n",
       "    <tr>\n",
       "      <th>7</th>\n",
       "      <td>Likunda (Fpl. 300)</td>\n",
       "      <td>300</td>\n",
       "      <td>17.129339</td>\n",
       "      <td>0.732624</td>\n",
       "      <td>EBA</td>\n",
       "    </tr>\n",
       "    <tr>\n",
       "      <th>4</th>\n",
       "      <td>Botongo (Fpl. 302)</td>\n",
       "      <td>302</td>\n",
       "      <td>17.096583</td>\n",
       "      <td>0.854494</td>\n",
       "      <td>EBA (?)</td>\n",
       "    </tr>\n",
       "    <tr>\n",
       "      <th>6</th>\n",
       "      <td>Epena (Fpl. 303)</td>\n",
       "      <td>303</td>\n",
       "      <td>17.306587</td>\n",
       "      <td>1.056931</td>\n",
       "      <td>EBA</td>\n",
       "    </tr>\n",
       "    <tr>\n",
       "      <th>15</th>\n",
       "      <td>Munda (Fpl. 304)</td>\n",
       "      <td>304</td>\n",
       "      <td>17.356948</td>\n",
       "      <td>1.162608</td>\n",
       "      <td>EBA</td>\n",
       "    </tr>\n",
       "    <tr>\n",
       "      <th>5</th>\n",
       "      <td>Itanga (Fpl. 305)</td>\n",
       "      <td>305</td>\n",
       "      <td>17.413073</td>\n",
       "      <td>1.209168</td>\n",
       "      <td>EBA</td>\n",
       "    </tr>\n",
       "  </tbody>\n",
       "</table>\n",
       "</div>"
      ],
      "text/plain": [
       "Typ                       Ort Kat-Nr          X         Y      TYP\n",
       "0          Bobangi (Fpl. 189)    189  17.722248 -0.108898  EBA (?)\n",
       "8            Gombe (Fpl. 237)    237  17.580406 -0.704069  EBA (?)\n",
       "19   Sangha Fkm 40 (Fpl. 240)    240  16.932954 -1.045511      EBA\n",
       "30          Sosolo (Fpl. 241)    241  17.128605 -0.892241  EBA (?)\n",
       "12      Monjolomba (Fpl. 243)    243  17.174576 -0.684421      EBA\n",
       "8           Loboko (Fpl. 248)    248  17.130913 -0.109189      EBA\n",
       "2        Bokonongo (Fpl. 250)    250  17.129437  0.201971      EBA\n",
       "9           Ifondo (Fpl. 253)    253  16.908795  0.481301  EBA (?)\n",
       "18         Pikunda (Fpl. 255)    255  16.635736  0.549344      EBA\n",
       "20         Molanda (Fpl. 258)    258  16.537896  0.945646  EBA (?)\n",
       "17        Mandombe (Fpl. 259)    259  16.522700  1.116917  EBA (?)\n",
       "22         Mosanya (Fpl. 262)    262  16.447391  1.213000  EBA (?)\n",
       "11          Matoto (Fpl. 264)    264  16.431282  1.281643      EBA\n",
       "17          Ouesso (Fpl. 265)    265  16.057202  1.617344      EBA\n",
       "10          Maboko (Fpl. 267)    267  16.135199  1.731363      EBA\n",
       "16     Mai impembe (Fpl. 271)    271  16.087011  2.087501  EBA (?)\n",
       "19          Mbenja (Fpl. 277)    277  15.825282  1.852351  EBA (?)\n",
       "16          Ngombe (Fpl. 283)    283  17.192417 -0.849508      EBA\n",
       "3          Boyenge (Fpl. 284)    284  17.199855 -0.835253      EBA\n",
       "5          Botwale (Fpl. 286)    286  17.365479 -0.552494  EBA (?)\n",
       "20           Yumba (Fpl. 289)    289  17.366567 -0.351703      EBA\n",
       "9         Lokolélé (Fpl. 290)    290  17.417014 -0.096843      EBA\n",
       "1          Bojenjo (Fpl. 292)    292  17.432057 -0.006791      EBA\n",
       "0           Boenja (Fpl. 294)    294  17.482715  0.081668      EBA\n",
       "14         Mosengi (Fpl. 296)    296  17.454138  0.245281      EBA\n",
       "4           Ebambe (Fpl. 297)    297  17.394327  0.289744      EBA\n",
       "13         Mosenge (Fpl. 299)    299  17.166614  0.660540      EBA\n",
       "7          Likunda (Fpl. 300)    300  17.129339  0.732624      EBA\n",
       "4          Botongo (Fpl. 302)    302  17.096583  0.854494  EBA (?)\n",
       "6             Epena (Fpl. 303)    303  17.306587  1.056931      EBA\n",
       "15           Munda (Fpl. 304)    304  17.356948  1.162608      EBA\n",
       "5           Itanga (Fpl. 305)    305  17.413073  1.209168      EBA"
      ]
     },
     "execution_count": 78,
     "metadata": {},
     "output_type": "execute_result"
    }
   ],
   "source": [
    "df = style_mapping_gis_export(style)\n",
    "df.sort_values(['Kat-Nr'])"
   ]
  },
  {
   "cell_type": "code",
   "execution_count": 79,
   "metadata": {
    "collapsed": true
   },
   "outputs": [],
   "source": [
    "df.to_csv(\"../data/processed/3-1-2-5_EBA_Verbreitung.csv\", index = False)"
   ]
  },
  {
   "cell_type": "code",
   "execution_count": 80,
   "metadata": {},
   "outputs": [
    {
     "data": {
      "text/plain": [
       "32"
      ]
     },
     "execution_count": 80,
     "metadata": {},
     "output_type": "execute_result"
    }
   ],
   "source": [
    "len(df)"
   ]
  },
  {
   "cell_type": "code",
   "execution_count": 81,
   "metadata": {},
   "outputs": [
    {
     "data": {
      "text/html": [
       "<div>\n",
       "<table border=\"1\" class=\"dataframe\">\n",
       "  <thead>\n",
       "    <tr style=\"text-align: right;\">\n",
       "      <th></th>\n",
       "      <th>objID</th>\n",
       "      <th>Prozent</th>\n",
       "    </tr>\n",
       "    <tr>\n",
       "      <th>ort_fluss</th>\n",
       "      <th></th>\n",
       "      <th></th>\n",
       "    </tr>\n",
       "  </thead>\n",
       "  <tbody>\n",
       "    <tr>\n",
       "      <th>Likwala-Esobe</th>\n",
       "      <td>279</td>\n",
       "      <td>80.869565</td>\n",
       "    </tr>\n",
       "    <tr>\n",
       "      <th>Ngoko</th>\n",
       "      <td>2</td>\n",
       "      <td>0.579710</td>\n",
       "    </tr>\n",
       "    <tr>\n",
       "      <th>Sangha</th>\n",
       "      <td>61</td>\n",
       "      <td>17.681159</td>\n",
       "    </tr>\n",
       "    <tr>\n",
       "      <th>Ubangi</th>\n",
       "      <td>1</td>\n",
       "      <td>0.289855</td>\n",
       "    </tr>\n",
       "    <tr>\n",
       "      <th>Zaire/Kongo</th>\n",
       "      <td>2</td>\n",
       "      <td>0.579710</td>\n",
       "    </tr>\n",
       "  </tbody>\n",
       "</table>\n",
       "</div>"
      ],
      "text/plain": [
       "               objID    Prozent\n",
       "ort_fluss                      \n",
       "Likwala-Esobe    279  80.869565\n",
       "Ngoko              2   0.579710\n",
       "Sangha            61  17.681159\n",
       "Ubangi             1   0.289855\n",
       "Zaire/Kongo        2   0.579710"
      ]
     },
     "execution_count": 81,
     "metadata": {},
     "output_type": "execute_result"
    }
   ],
   "source": [
    "sql = \"\"\"SELECT\n",
    "       t_Obj.objID,\n",
    "       't_Ort'.'Kat-Nr',\n",
    "       't_Ort'.'ort_name' || ' (Fpl. ' || 't_ort'.'Kat-Nr' || ')' AS Ort,\n",
    "       t_Obj.Typ,\n",
    "       t_Ort.ort_fluss,\n",
    "       t_Ort.y_lat AS Y, \n",
    "       t_Ort.x_long AS X\n",
    "   FROM (t_Ort INNER JOIN t_Komplex ON t_Ort.ortID = t_Komplex.ortID)\n",
    "       INNER JOIN t_Obj ON t_Komplex.komplexID = t_Obj.komplexID\n",
    "   WHERE (((t_Ort.ort_lit) = 'DS')\n",
    "       AND ((t_Obj.Typ) Like '%\"\"\"+style+\"\"\"%'))\"\"\".replace('\\n',' ')\n",
    "\n",
    "df = pd.read_sql(sql, con)\n",
    "\n",
    "df_pivot = df.pivot_table(values = 'objID', index = 'ort_fluss', aggfunc = len)\n",
    "df_pivot = pd.DataFrame(df_pivot)\n",
    "df_pivot['Prozent'] = df_pivot['objID']/df_pivot['objID'].sum()*100\n",
    "df_pivot"
   ]
  },
  {
   "cell_type": "code",
   "execution_count": 82,
   "metadata": {},
   "outputs": [
    {
     "data": {
      "text/plain": [
       "ort_fluss\n",
       "Likwala-Esobe    15\n",
       "Ngoko             1\n",
       "Sangha           14\n",
       "Ubangi            1\n",
       "Zaire/Kongo       1\n",
       "Name: Ort, dtype: int64"
      ]
     },
     "execution_count": 82,
     "metadata": {},
     "output_type": "execute_result"
    }
   ],
   "source": [
    "df_pivot = df.pivot_table(values = 'objID', index = ['ort_fluss', 'Ort'], aggfunc = len)\n",
    "df_pivot = pd.DataFrame(df_pivot)\n",
    "df_pivot = df_pivot.reset_index()\n",
    "# Anzahl Orte an Fluss\n",
    "df_pivot1 = df_pivot.pivot_table(values = 'Ort', index = 'ort_fluss', aggfunc = len)\n",
    "df_pivot1"
   ]
  },
  {
   "cell_type": "code",
   "execution_count": 83,
   "metadata": {
    "collapsed": true
   },
   "outputs": [],
   "source": [
    "sql = \"\"\"SELECT\n",
    "       t_Obj.Anzahl,\n",
    "       't_ort'.'Kat-Nr',\n",
    "       t_Obj.Typ,\n",
    "       t_Ort.ort_fluss\n",
    "   FROM (t_Ort INNER JOIN t_Komplex ON t_Ort.ortID = t_Komplex.ortID)\n",
    "       INNER JOIN t_Obj ON t_Komplex.komplexID = t_Obj.komplexID\n",
    "   WHERE (((t_Ort.ort_lit) = 'DS')\n",
    "       AND ((t_Obj.Anzahl != ''))\n",
    "       AND ((t_Obj.Typ) Like '%\"\"\"+style+\"\"\"%'))\"\"\".replace('\\n',' ')\n",
    "\n",
    "a = pd.read_sql(sql, con)\n",
    "\n",
    "sql = \"\"\"SELECT\n",
    "       t_Obj.Anzahl,\n",
    "       't_ort'.'Kat-Nr',\n",
    "       t_Obj.Typ,\n",
    "       t_Ort.ort_fluss\n",
    "   FROM (t_Ort INNER JOIN t_Komplex ON t_Ort.ortID = t_Komplex.ortID)\n",
    "       INNER JOIN t_Obj ON t_Komplex.komplexID = t_Obj.komplexID\n",
    "   WHERE (((t_Ort.ort_lit) = 'DS')\n",
    "       AND ((t_Obj.Anzahl != ''))\n",
    "       AND ((t_Obj.Typ) Not Like '%\"\"\"+style+\"\"\"%'))\"\"\".replace('\\n',' ')\n",
    "\n",
    "b = pd.read_sql(sql, con)"
   ]
  },
  {
   "cell_type": "code",
   "execution_count": 84,
   "metadata": {
    "scrolled": false
   },
   "outputs": [
    {
     "data": {
      "text/plain": [
       "ort_fluss_x\n",
       "Likwala-Esobe    25.536856\n",
       "Ngoko            18.181818\n",
       "Sangha           15.338494\n",
       "Ubangi            4.166667\n",
       "Zaire/Kongo      11.111111\n",
       "Name: pct, dtype: float64"
      ]
     },
     "execution_count": 84,
     "metadata": {},
     "output_type": "execute_result"
    }
   ],
   "source": [
    "# Funde der EBA-Gruppe\n",
    "a1 = a.pivot_table(values = 'Anzahl', index = ['ort_fluss', 'Kat-Nr'], aggfunc = np.sum)\n",
    "a1 = pd.DataFrame(a1)\n",
    "a1 = a1.reset_index()\n",
    "a1 = a1.rename(columns={'Anzahl':'EBA'})\n",
    "\n",
    "# Funde nicht EBA-Gruppe\n",
    "b1 = b.pivot_table(values = 'Anzahl', index = ['ort_fluss', 'Kat-Nr'], aggfunc = sum)\n",
    "b1 = pd.DataFrame(b1)\n",
    "b1 = b1.reset_index()\n",
    "b1 = b1.rename(columns={'Anzahl':'notEBA'})\n",
    "\n",
    "m = pd.merge(left=a1, right=b1, on='Kat-Nr', how='left')\n",
    "\n",
    "m['pct'] = m['EBA'] / ( m['EBA'] + m['notEBA'] ) * 100\n",
    "\n",
    "# mittlere Prozentanteil Funde EBA an Fpl. mit EBA in Bezug auf Gesamtinventar der jeweiligen Fpl\n",
    "m.pivot_table(values = 'pct', index = 'ort_fluss_x', aggfunc = np.mean)"
   ]
  },
  {
   "cell_type": "markdown",
   "metadata": {
    "collapsed": true
   },
   "source": [
    "## Tafeln"
   ]
  },
  {
   "cell_type": "code",
   "execution_count": 85,
   "metadata": {
    "scrolled": false
   },
   "outputs": [
    {
     "data": {
      "text/html": [
       "<div>\n",
       "<table border=\"1\" class=\"dataframe\">\n",
       "  <thead>\n",
       "    <tr style=\"text-align: right;\">\n",
       "      <th></th>\n",
       "      <th>TAF</th>\n",
       "      <th>OBJ</th>\n",
       "      <th>SITE</th>\n",
       "      <th>FEAT</th>\n",
       "      <th>NOTE</th>\n",
       "      <th>IND</th>\n",
       "      <th>Typ</th>\n",
       "      <th>Form_Gef</th>\n",
       "      <th>Form_Rand</th>\n",
       "      <th>Form_Boden</th>\n",
       "    </tr>\n",
       "  </thead>\n",
       "  <tbody>\n",
       "    <tr>\n",
       "      <th>0</th>\n",
       "      <td>38</td>\n",
       "      <td>8</td>\n",
       "      <td>SSL</td>\n",
       "      <td>87/101</td>\n",
       "      <td>NaN</td>\n",
       "      <td>85</td>\n",
       "      <td>EBA (?)</td>\n",
       "      <td>A2/A3 (?)</td>\n",
       "      <td>None</td>\n",
       "      <td>None</td>\n",
       "    </tr>\n",
       "    <tr>\n",
       "      <th>1</th>\n",
       "      <td>41</td>\n",
       "      <td>12</td>\n",
       "      <td>BOG</td>\n",
       "      <td>87/103</td>\n",
       "      <td>NaN</td>\n",
       "      <td>6</td>\n",
       "      <td>EBA (?)</td>\n",
       "      <td>None</td>\n",
       "      <td>None</td>\n",
       "      <td>None</td>\n",
       "    </tr>\n",
       "    <tr>\n",
       "      <th>2</th>\n",
       "      <td>49</td>\n",
       "      <td>10</td>\n",
       "      <td>PIK</td>\n",
       "      <td>87/2</td>\n",
       "      <td>NaN</td>\n",
       "      <td>-1:40</td>\n",
       "      <td>EBA</td>\n",
       "      <td>B4</td>\n",
       "      <td>None</td>\n",
       "      <td>None</td>\n",
       "    </tr>\n",
       "    <tr>\n",
       "      <th>3</th>\n",
       "      <td>49</td>\n",
       "      <td>12</td>\n",
       "      <td>PIK</td>\n",
       "      <td>87/2</td>\n",
       "      <td>NaN</td>\n",
       "      <td>-1:247</td>\n",
       "      <td>EBA</td>\n",
       "      <td>None</td>\n",
       "      <td>None</td>\n",
       "      <td>None</td>\n",
       "    </tr>\n",
       "    <tr>\n",
       "      <th>4</th>\n",
       "      <td>49</td>\n",
       "      <td>16</td>\n",
       "      <td>PIK</td>\n",
       "      <td>87/3</td>\n",
       "      <td>NaN</td>\n",
       "      <td>/I:1-2</td>\n",
       "      <td>EBA</td>\n",
       "      <td>B4/D1 (?)</td>\n",
       "      <td>None</td>\n",
       "      <td>None</td>\n",
       "    </tr>\n",
       "    <tr>\n",
       "      <th>5</th>\n",
       "      <td>54</td>\n",
       "      <td>15</td>\n",
       "      <td>PIK</td>\n",
       "      <td>87/101</td>\n",
       "      <td>NaN</td>\n",
       "      <td>87</td>\n",
       "      <td>EBA/BDG (?)</td>\n",
       "      <td>C2</td>\n",
       "      <td>B1/B2</td>\n",
       "      <td>None</td>\n",
       "    </tr>\n",
       "    <tr>\n",
       "      <th>6</th>\n",
       "      <td>55</td>\n",
       "      <td>4</td>\n",
       "      <td>PIK</td>\n",
       "      <td>87/101</td>\n",
       "      <td>NaN</td>\n",
       "      <td>26</td>\n",
       "      <td>EBA/BDG (?)</td>\n",
       "      <td>C2 (?)</td>\n",
       "      <td>None</td>\n",
       "      <td>None</td>\n",
       "    </tr>\n",
       "    <tr>\n",
       "      <th>7</th>\n",
       "      <td>55</td>\n",
       "      <td>5</td>\n",
       "      <td>PIK</td>\n",
       "      <td>87/101</td>\n",
       "      <td>NaN</td>\n",
       "      <td>236, 245</td>\n",
       "      <td>EBA</td>\n",
       "      <td>B2 (?)</td>\n",
       "      <td>None</td>\n",
       "      <td>None</td>\n",
       "    </tr>\n",
       "    <tr>\n",
       "      <th>8</th>\n",
       "      <td>55</td>\n",
       "      <td>6</td>\n",
       "      <td>PIK</td>\n",
       "      <td>87/101</td>\n",
       "      <td>NaN</td>\n",
       "      <td>140</td>\n",
       "      <td>EBA</td>\n",
       "      <td>B4</td>\n",
       "      <td>None</td>\n",
       "      <td>None</td>\n",
       "    </tr>\n",
       "    <tr>\n",
       "      <th>9</th>\n",
       "      <td>55</td>\n",
       "      <td>8</td>\n",
       "      <td>PIK</td>\n",
       "      <td>87/101</td>\n",
       "      <td>NaN</td>\n",
       "      <td>156</td>\n",
       "      <td>EBA (?)</td>\n",
       "      <td>None</td>\n",
       "      <td>None</td>\n",
       "      <td>None</td>\n",
       "    </tr>\n",
       "    <tr>\n",
       "      <th>10</th>\n",
       "      <td>56</td>\n",
       "      <td>9</td>\n",
       "      <td>PIK</td>\n",
       "      <td>87/101</td>\n",
       "      <td>NaN</td>\n",
       "      <td>2</td>\n",
       "      <td>EBA</td>\n",
       "      <td>None</td>\n",
       "      <td>None</td>\n",
       "      <td>None</td>\n",
       "    </tr>\n",
       "    <tr>\n",
       "      <th>11</th>\n",
       "      <td>56</td>\n",
       "      <td>15</td>\n",
       "      <td>PIK</td>\n",
       "      <td>87/102</td>\n",
       "      <td>NaN</td>\n",
       "      <td>NaN</td>\n",
       "      <td>EBA</td>\n",
       "      <td>None</td>\n",
       "      <td>None</td>\n",
       "      <td>B13</td>\n",
       "    </tr>\n",
       "    <tr>\n",
       "      <th>12</th>\n",
       "      <td>57</td>\n",
       "      <td>7</td>\n",
       "      <td>MLD</td>\n",
       "      <td>87/103</td>\n",
       "      <td>NaN</td>\n",
       "      <td>31</td>\n",
       "      <td>EBA (?)</td>\n",
       "      <td>B4</td>\n",
       "      <td>None</td>\n",
       "      <td>None</td>\n",
       "    </tr>\n",
       "    <tr>\n",
       "      <th>13</th>\n",
       "      <td>57</td>\n",
       "      <td>15</td>\n",
       "      <td>MDB</td>\n",
       "      <td>87/101</td>\n",
       "      <td>NaN</td>\n",
       "      <td>138</td>\n",
       "      <td>EBA (?)</td>\n",
       "      <td>G2/E6 (?)</td>\n",
       "      <td>A1</td>\n",
       "      <td>None</td>\n",
       "    </tr>\n",
       "    <tr>\n",
       "      <th>14</th>\n",
       "      <td>58</td>\n",
       "      <td>9</td>\n",
       "      <td>MDB</td>\n",
       "      <td>87/101</td>\n",
       "      <td>NaN</td>\n",
       "      <td>115</td>\n",
       "      <td>EBA (?)</td>\n",
       "      <td>B4 (?)</td>\n",
       "      <td>None</td>\n",
       "      <td>None</td>\n",
       "    </tr>\n",
       "    <tr>\n",
       "      <th>15</th>\n",
       "      <td>60</td>\n",
       "      <td>4</td>\n",
       "      <td>MAT</td>\n",
       "      <td>87/101</td>\n",
       "      <td>NaN</td>\n",
       "      <td>18</td>\n",
       "      <td>EBA</td>\n",
       "      <td>None</td>\n",
       "      <td>B1</td>\n",
       "      <td>None</td>\n",
       "    </tr>\n",
       "    <tr>\n",
       "      <th>16</th>\n",
       "      <td>60</td>\n",
       "      <td>19</td>\n",
       "      <td>MAB</td>\n",
       "      <td>87/101</td>\n",
       "      <td>NaN</td>\n",
       "      <td>23</td>\n",
       "      <td>EBA</td>\n",
       "      <td>B4</td>\n",
       "      <td>None</td>\n",
       "      <td>None</td>\n",
       "    </tr>\n",
       "    <tr>\n",
       "      <th>17</th>\n",
       "      <td>62</td>\n",
       "      <td>14</td>\n",
       "      <td>MPB</td>\n",
       "      <td>87/103</td>\n",
       "      <td>NaN</td>\n",
       "      <td>7</td>\n",
       "      <td>EBA (?)</td>\n",
       "      <td>None</td>\n",
       "      <td>None</td>\n",
       "      <td>B13</td>\n",
       "    </tr>\n",
       "    <tr>\n",
       "      <th>18</th>\n",
       "      <td>71</td>\n",
       "      <td>2</td>\n",
       "      <td>BTW</td>\n",
       "      <td>87/101</td>\n",
       "      <td>NaN</td>\n",
       "      <td>45</td>\n",
       "      <td>EBA (?)</td>\n",
       "      <td>E1</td>\n",
       "      <td>B1.2</td>\n",
       "      <td>None</td>\n",
       "    </tr>\n",
       "    <tr>\n",
       "      <th>19</th>\n",
       "      <td>71</td>\n",
       "      <td>4</td>\n",
       "      <td>BTW</td>\n",
       "      <td>87/101</td>\n",
       "      <td>NaN</td>\n",
       "      <td>43</td>\n",
       "      <td>EBA (?)</td>\n",
       "      <td>I3</td>\n",
       "      <td>None</td>\n",
       "      <td>B1</td>\n",
       "    </tr>\n",
       "    <tr>\n",
       "      <th>20</th>\n",
       "      <td>79</td>\n",
       "      <td>5</td>\n",
       "      <td>MSN</td>\n",
       "      <td>87/101</td>\n",
       "      <td>NaN</td>\n",
       "      <td>6</td>\n",
       "      <td>EBA</td>\n",
       "      <td>B4 (?)</td>\n",
       "      <td>B1</td>\n",
       "      <td>None</td>\n",
       "    </tr>\n",
       "    <tr>\n",
       "      <th>21</th>\n",
       "      <td>79</td>\n",
       "      <td>8</td>\n",
       "      <td>MSN</td>\n",
       "      <td>87/101</td>\n",
       "      <td>NaN</td>\n",
       "      <td>1, 63, 99</td>\n",
       "      <td>EBA</td>\n",
       "      <td>B4</td>\n",
       "      <td>B1</td>\n",
       "      <td>None</td>\n",
       "    </tr>\n",
       "    <tr>\n",
       "      <th>22</th>\n",
       "      <td>80</td>\n",
       "      <td>2</td>\n",
       "      <td>MSN</td>\n",
       "      <td>87/101</td>\n",
       "      <td>NaN</td>\n",
       "      <td>13</td>\n",
       "      <td>EBA (?)</td>\n",
       "      <td>B4</td>\n",
       "      <td>B1 (?)</td>\n",
       "      <td>None</td>\n",
       "    </tr>\n",
       "    <tr>\n",
       "      <th>23</th>\n",
       "      <td>80</td>\n",
       "      <td>5</td>\n",
       "      <td>MSN</td>\n",
       "      <td>87/101</td>\n",
       "      <td>NaN</td>\n",
       "      <td>91</td>\n",
       "      <td>EBA</td>\n",
       "      <td>G2</td>\n",
       "      <td>A1</td>\n",
       "      <td>None</td>\n",
       "    </tr>\n",
       "    <tr>\n",
       "      <th>24</th>\n",
       "      <td>81</td>\n",
       "      <td>5</td>\n",
       "      <td>EBA</td>\n",
       "      <td>87/101</td>\n",
       "      <td>NaN</td>\n",
       "      <td>155</td>\n",
       "      <td>EBA</td>\n",
       "      <td>None</td>\n",
       "      <td>None</td>\n",
       "      <td>None</td>\n",
       "    </tr>\n",
       "    <tr>\n",
       "      <th>25</th>\n",
       "      <td>81</td>\n",
       "      <td>9</td>\n",
       "      <td>EBA</td>\n",
       "      <td>87/101</td>\n",
       "      <td>NaN</td>\n",
       "      <td>12, 202, 277</td>\n",
       "      <td>EBA (?)</td>\n",
       "      <td>B4</td>\n",
       "      <td>B3.3</td>\n",
       "      <td>None</td>\n",
       "    </tr>\n",
       "    <tr>\n",
       "      <th>26</th>\n",
       "      <td>81</td>\n",
       "      <td>14</td>\n",
       "      <td>EBA</td>\n",
       "      <td>87/101</td>\n",
       "      <td>NaN</td>\n",
       "      <td>175</td>\n",
       "      <td>EBA (?)</td>\n",
       "      <td>None</td>\n",
       "      <td>None</td>\n",
       "      <td>None</td>\n",
       "    </tr>\n",
       "    <tr>\n",
       "      <th>27</th>\n",
       "      <td>81</td>\n",
       "      <td>15</td>\n",
       "      <td>EBA</td>\n",
       "      <td>87/101</td>\n",
       "      <td>NaN</td>\n",
       "      <td>2, 46</td>\n",
       "      <td>EBA</td>\n",
       "      <td>B4</td>\n",
       "      <td>B3.3/B1 (?)</td>\n",
       "      <td>None</td>\n",
       "    </tr>\n",
       "    <tr>\n",
       "      <th>28</th>\n",
       "      <td>82</td>\n",
       "      <td>2</td>\n",
       "      <td>EBA</td>\n",
       "      <td>87/101</td>\n",
       "      <td>NaN</td>\n",
       "      <td>178</td>\n",
       "      <td>EBA (?)</td>\n",
       "      <td>G2</td>\n",
       "      <td>A1</td>\n",
       "      <td>None</td>\n",
       "    </tr>\n",
       "    <tr>\n",
       "      <th>29</th>\n",
       "      <td>82</td>\n",
       "      <td>4</td>\n",
       "      <td>EBA</td>\n",
       "      <td>87/101</td>\n",
       "      <td>NaN</td>\n",
       "      <td>143, 199, 233</td>\n",
       "      <td>EBA</td>\n",
       "      <td>G4</td>\n",
       "      <td>A1</td>\n",
       "      <td>B6</td>\n",
       "    </tr>\n",
       "    <tr>\n",
       "      <th>30</th>\n",
       "      <td>82</td>\n",
       "      <td>6</td>\n",
       "      <td>EBA</td>\n",
       "      <td>87/101</td>\n",
       "      <td>NaN</td>\n",
       "      <td>8</td>\n",
       "      <td>EBA</td>\n",
       "      <td>G4</td>\n",
       "      <td>A1</td>\n",
       "      <td>None</td>\n",
       "    </tr>\n",
       "    <tr>\n",
       "      <th>31</th>\n",
       "      <td>82</td>\n",
       "      <td>7</td>\n",
       "      <td>EBA</td>\n",
       "      <td>87/101</td>\n",
       "      <td>NaN</td>\n",
       "      <td>29</td>\n",
       "      <td>EBA</td>\n",
       "      <td>G4</td>\n",
       "      <td>A1</td>\n",
       "      <td>None</td>\n",
       "    </tr>\n",
       "    <tr>\n",
       "      <th>32</th>\n",
       "      <td>82</td>\n",
       "      <td>9</td>\n",
       "      <td>EBA</td>\n",
       "      <td>87/101</td>\n",
       "      <td>NaN</td>\n",
       "      <td>111</td>\n",
       "      <td>EBA</td>\n",
       "      <td>A2</td>\n",
       "      <td>B1</td>\n",
       "      <td>None</td>\n",
       "    </tr>\n",
       "    <tr>\n",
       "      <th>33</th>\n",
       "      <td>82</td>\n",
       "      <td>11</td>\n",
       "      <td>EBA</td>\n",
       "      <td>87/101</td>\n",
       "      <td>NaN</td>\n",
       "      <td>11</td>\n",
       "      <td>EBA (?)</td>\n",
       "      <td>None</td>\n",
       "      <td>None</td>\n",
       "      <td>None</td>\n",
       "    </tr>\n",
       "    <tr>\n",
       "      <th>34</th>\n",
       "      <td>83</td>\n",
       "      <td>4</td>\n",
       "      <td>EBA</td>\n",
       "      <td>87/101</td>\n",
       "      <td>NaN</td>\n",
       "      <td>17</td>\n",
       "      <td>EBA</td>\n",
       "      <td>None</td>\n",
       "      <td>None</td>\n",
       "      <td>None</td>\n",
       "    </tr>\n",
       "    <tr>\n",
       "      <th>35</th>\n",
       "      <td>83</td>\n",
       "      <td>5</td>\n",
       "      <td>EBA</td>\n",
       "      <td>87/101</td>\n",
       "      <td>NaN</td>\n",
       "      <td>133</td>\n",
       "      <td>EBA</td>\n",
       "      <td>None</td>\n",
       "      <td>None</td>\n",
       "      <td>B6</td>\n",
       "    </tr>\n",
       "    <tr>\n",
       "      <th>36</th>\n",
       "      <td>84</td>\n",
       "      <td>2</td>\n",
       "      <td>MSG</td>\n",
       "      <td>87/101</td>\n",
       "      <td>NaN</td>\n",
       "      <td>121</td>\n",
       "      <td>EBA</td>\n",
       "      <td>A3 (?)</td>\n",
       "      <td>None</td>\n",
       "      <td>None</td>\n",
       "    </tr>\n",
       "    <tr>\n",
       "      <th>37</th>\n",
       "      <td>84</td>\n",
       "      <td>4</td>\n",
       "      <td>MSG</td>\n",
       "      <td>87/101</td>\n",
       "      <td>NaN</td>\n",
       "      <td>2</td>\n",
       "      <td>EBA</td>\n",
       "      <td>I3 (?)</td>\n",
       "      <td>B3</td>\n",
       "      <td>None</td>\n",
       "    </tr>\n",
       "    <tr>\n",
       "      <th>38</th>\n",
       "      <td>84</td>\n",
       "      <td>6</td>\n",
       "      <td>MSG</td>\n",
       "      <td>87/101</td>\n",
       "      <td>NaN</td>\n",
       "      <td>188</td>\n",
       "      <td>EPE/EBA</td>\n",
       "      <td>A3</td>\n",
       "      <td>B1.1</td>\n",
       "      <td>None</td>\n",
       "    </tr>\n",
       "    <tr>\n",
       "      <th>39</th>\n",
       "      <td>84</td>\n",
       "      <td>7</td>\n",
       "      <td>MSG</td>\n",
       "      <td>87/101</td>\n",
       "      <td>NaN</td>\n",
       "      <td>187</td>\n",
       "      <td>EBA</td>\n",
       "      <td>None</td>\n",
       "      <td>None</td>\n",
       "      <td>B2</td>\n",
       "    </tr>\n",
       "    <tr>\n",
       "      <th>40</th>\n",
       "      <td>86</td>\n",
       "      <td>6</td>\n",
       "      <td>LKN</td>\n",
       "      <td>87/101</td>\n",
       "      <td>NaN</td>\n",
       "      <td>36</td>\n",
       "      <td>EBA</td>\n",
       "      <td>F6</td>\n",
       "      <td>A1</td>\n",
       "      <td>None</td>\n",
       "    </tr>\n",
       "    <tr>\n",
       "      <th>41</th>\n",
       "      <td>87</td>\n",
       "      <td>2</td>\n",
       "      <td>LKN</td>\n",
       "      <td>87/101</td>\n",
       "      <td>NaN</td>\n",
       "      <td>35</td>\n",
       "      <td>EPE/EBA (?)</td>\n",
       "      <td>A3</td>\n",
       "      <td>None</td>\n",
       "      <td>None</td>\n",
       "    </tr>\n",
       "    <tr>\n",
       "      <th>42</th>\n",
       "      <td>87</td>\n",
       "      <td>7</td>\n",
       "      <td>EPE</td>\n",
       "      <td>87/101</td>\n",
       "      <td>NaN</td>\n",
       "      <td>10</td>\n",
       "      <td>EBA</td>\n",
       "      <td>B4</td>\n",
       "      <td>B3.3</td>\n",
       "      <td>None</td>\n",
       "    </tr>\n",
       "    <tr>\n",
       "      <th>43</th>\n",
       "      <td>88</td>\n",
       "      <td>7</td>\n",
       "      <td>MUN</td>\n",
       "      <td>87/1</td>\n",
       "      <td>NaN</td>\n",
       "      <td>-3:2</td>\n",
       "      <td>EBA</td>\n",
       "      <td>I3</td>\n",
       "      <td>B1.1</td>\n",
       "      <td>B4</td>\n",
       "    </tr>\n",
       "    <tr>\n",
       "      <th>44</th>\n",
       "      <td>88</td>\n",
       "      <td>8</td>\n",
       "      <td>MUN</td>\n",
       "      <td>87/1</td>\n",
       "      <td>NaN</td>\n",
       "      <td>-3:1</td>\n",
       "      <td>EBA (?)</td>\n",
       "      <td>G5</td>\n",
       "      <td>A1</td>\n",
       "      <td>B13</td>\n",
       "    </tr>\n",
       "    <tr>\n",
       "      <th>45</th>\n",
       "      <td>89</td>\n",
       "      <td>1</td>\n",
       "      <td>MUN</td>\n",
       "      <td>87/1</td>\n",
       "      <td>NaN</td>\n",
       "      <td>-1:4</td>\n",
       "      <td>EBA</td>\n",
       "      <td>B4</td>\n",
       "      <td>B1</td>\n",
       "      <td>None</td>\n",
       "    </tr>\n",
       "    <tr>\n",
       "      <th>46</th>\n",
       "      <td>89</td>\n",
       "      <td>2</td>\n",
       "      <td>MUN</td>\n",
       "      <td>87/1</td>\n",
       "      <td>NaN</td>\n",
       "      <td>-4:2</td>\n",
       "      <td>EBA</td>\n",
       "      <td>B4</td>\n",
       "      <td>B1</td>\n",
       "      <td>None</td>\n",
       "    </tr>\n",
       "    <tr>\n",
       "      <th>47</th>\n",
       "      <td>89</td>\n",
       "      <td>3</td>\n",
       "      <td>MUN</td>\n",
       "      <td>87/1</td>\n",
       "      <td>NaN</td>\n",
       "      <td>-3:6 -4:1</td>\n",
       "      <td>EBA</td>\n",
       "      <td>B4</td>\n",
       "      <td>B1</td>\n",
       "      <td>None</td>\n",
       "    </tr>\n",
       "    <tr>\n",
       "      <th>48</th>\n",
       "      <td>89</td>\n",
       "      <td>4</td>\n",
       "      <td>MUN</td>\n",
       "      <td>87/1</td>\n",
       "      <td>NaN</td>\n",
       "      <td>-1:1</td>\n",
       "      <td>EBA</td>\n",
       "      <td>B4</td>\n",
       "      <td>B1</td>\n",
       "      <td>B4</td>\n",
       "    </tr>\n",
       "    <tr>\n",
       "      <th>49</th>\n",
       "      <td>89</td>\n",
       "      <td>5</td>\n",
       "      <td>MUN</td>\n",
       "      <td>87/1</td>\n",
       "      <td>NaN</td>\n",
       "      <td>-1:5 -2:1</td>\n",
       "      <td>EBA</td>\n",
       "      <td>B4</td>\n",
       "      <td>B1</td>\n",
       "      <td>None</td>\n",
       "    </tr>\n",
       "    <tr>\n",
       "      <th>50</th>\n",
       "      <td>89</td>\n",
       "      <td>6</td>\n",
       "      <td>MUN</td>\n",
       "      <td>87/1</td>\n",
       "      <td>NaN</td>\n",
       "      <td>-3:3</td>\n",
       "      <td>EBA</td>\n",
       "      <td>B4</td>\n",
       "      <td>B1</td>\n",
       "      <td>None</td>\n",
       "    </tr>\n",
       "    <tr>\n",
       "      <th>51</th>\n",
       "      <td>89</td>\n",
       "      <td>7</td>\n",
       "      <td>MUN</td>\n",
       "      <td>87/1</td>\n",
       "      <td>NaN</td>\n",
       "      <td>-1:2</td>\n",
       "      <td>EBA</td>\n",
       "      <td>None</td>\n",
       "      <td>None</td>\n",
       "      <td>B4</td>\n",
       "    </tr>\n",
       "    <tr>\n",
       "      <th>52</th>\n",
       "      <td>89</td>\n",
       "      <td>8</td>\n",
       "      <td>MUN</td>\n",
       "      <td>87/1</td>\n",
       "      <td>NaN</td>\n",
       "      <td>-1:3</td>\n",
       "      <td>EBA</td>\n",
       "      <td>B4</td>\n",
       "      <td>B1</td>\n",
       "      <td>None</td>\n",
       "    </tr>\n",
       "    <tr>\n",
       "      <th>53</th>\n",
       "      <td>90</td>\n",
       "      <td>1</td>\n",
       "      <td>MUN</td>\n",
       "      <td>87/1</td>\n",
       "      <td>NaN</td>\n",
       "      <td>-6:2</td>\n",
       "      <td>EBA</td>\n",
       "      <td>A2</td>\n",
       "      <td>B1.1</td>\n",
       "      <td>None</td>\n",
       "    </tr>\n",
       "    <tr>\n",
       "      <th>54</th>\n",
       "      <td>90</td>\n",
       "      <td>2</td>\n",
       "      <td>MUN</td>\n",
       "      <td>87/1</td>\n",
       "      <td>NaN</td>\n",
       "      <td>-6:1</td>\n",
       "      <td>EBA</td>\n",
       "      <td>A2</td>\n",
       "      <td>B1</td>\n",
       "      <td>None</td>\n",
       "    </tr>\n",
       "    <tr>\n",
       "      <th>55</th>\n",
       "      <td>96</td>\n",
       "      <td>2</td>\n",
       "      <td>ITN</td>\n",
       "      <td>87/103</td>\n",
       "      <td>NaN</td>\n",
       "      <td>7</td>\n",
       "      <td>EBA</td>\n",
       "      <td>B4</td>\n",
       "      <td>B3.3</td>\n",
       "      <td>None</td>\n",
       "    </tr>\n",
       "    <tr>\n",
       "      <th>56</th>\n",
       "      <td>96</td>\n",
       "      <td>4</td>\n",
       "      <td>ITN</td>\n",
       "      <td>87/103</td>\n",
       "      <td>NaN</td>\n",
       "      <td>32</td>\n",
       "      <td>EBA</td>\n",
       "      <td>B4</td>\n",
       "      <td>None</td>\n",
       "      <td>None</td>\n",
       "    </tr>\n",
       "    <tr>\n",
       "      <th>57</th>\n",
       "      <td>96</td>\n",
       "      <td>5</td>\n",
       "      <td>ITN</td>\n",
       "      <td>87/103</td>\n",
       "      <td>NaN</td>\n",
       "      <td>28</td>\n",
       "      <td>EBA</td>\n",
       "      <td>None</td>\n",
       "      <td>B3.3 (?)</td>\n",
       "      <td>None</td>\n",
       "    </tr>\n",
       "  </tbody>\n",
       "</table>\n",
       "</div>"
      ],
      "text/plain": [
       "    TAF  OBJ SITE    FEAT NOTE            IND          Typ   Form_Gef  \\\n",
       "0    38    8  SSL  87/101  NaN             85      EBA (?)  A2/A3 (?)   \n",
       "1    41   12  BOG  87/103  NaN              6      EBA (?)       None   \n",
       "2    49   10  PIK    87/2  NaN          -1:40          EBA         B4   \n",
       "3    49   12  PIK    87/2  NaN         -1:247          EBA       None   \n",
       "4    49   16  PIK    87/3  NaN         /I:1-2          EBA  B4/D1 (?)   \n",
       "5    54   15  PIK  87/101  NaN             87  EBA/BDG (?)         C2   \n",
       "6    55    4  PIK  87/101  NaN             26  EBA/BDG (?)     C2 (?)   \n",
       "7    55    5  PIK  87/101  NaN       236, 245          EBA     B2 (?)   \n",
       "8    55    6  PIK  87/101  NaN            140          EBA         B4   \n",
       "9    55    8  PIK  87/101  NaN            156      EBA (?)       None   \n",
       "10   56    9  PIK  87/101  NaN              2          EBA       None   \n",
       "11   56   15  PIK  87/102  NaN            NaN          EBA       None   \n",
       "12   57    7  MLD  87/103  NaN             31      EBA (?)         B4   \n",
       "13   57   15  MDB  87/101  NaN            138      EBA (?)  G2/E6 (?)   \n",
       "14   58    9  MDB  87/101  NaN            115      EBA (?)     B4 (?)   \n",
       "15   60    4  MAT  87/101  NaN             18          EBA       None   \n",
       "16   60   19  MAB  87/101  NaN             23          EBA         B4   \n",
       "17   62   14  MPB  87/103  NaN              7      EBA (?)       None   \n",
       "18   71    2  BTW  87/101  NaN             45      EBA (?)         E1   \n",
       "19   71    4  BTW  87/101  NaN             43      EBA (?)         I3   \n",
       "20   79    5  MSN  87/101  NaN              6          EBA     B4 (?)   \n",
       "21   79    8  MSN  87/101  NaN      1, 63, 99          EBA         B4   \n",
       "22   80    2  MSN  87/101  NaN             13      EBA (?)         B4   \n",
       "23   80    5  MSN  87/101  NaN             91          EBA         G2   \n",
       "24   81    5  EBA  87/101  NaN            155          EBA       None   \n",
       "25   81    9  EBA  87/101  NaN   12, 202, 277      EBA (?)         B4   \n",
       "26   81   14  EBA  87/101  NaN            175      EBA (?)       None   \n",
       "27   81   15  EBA  87/101  NaN          2, 46          EBA         B4   \n",
       "28   82    2  EBA  87/101  NaN            178      EBA (?)         G2   \n",
       "29   82    4  EBA  87/101  NaN  143, 199, 233          EBA         G4   \n",
       "30   82    6  EBA  87/101  NaN              8          EBA         G4   \n",
       "31   82    7  EBA  87/101  NaN             29          EBA         G4   \n",
       "32   82    9  EBA  87/101  NaN            111          EBA         A2   \n",
       "33   82   11  EBA  87/101  NaN             11      EBA (?)       None   \n",
       "34   83    4  EBA  87/101  NaN             17          EBA       None   \n",
       "35   83    5  EBA  87/101  NaN            133          EBA       None   \n",
       "36   84    2  MSG  87/101  NaN            121          EBA     A3 (?)   \n",
       "37   84    4  MSG  87/101  NaN              2          EBA     I3 (?)   \n",
       "38   84    6  MSG  87/101  NaN            188      EPE/EBA         A3   \n",
       "39   84    7  MSG  87/101  NaN            187          EBA       None   \n",
       "40   86    6  LKN  87/101  NaN             36          EBA         F6   \n",
       "41   87    2  LKN  87/101  NaN             35  EPE/EBA (?)         A3   \n",
       "42   87    7  EPE  87/101  NaN             10          EBA         B4   \n",
       "43   88    7  MUN    87/1  NaN           -3:2          EBA         I3   \n",
       "44   88    8  MUN    87/1  NaN           -3:1      EBA (?)         G5   \n",
       "45   89    1  MUN    87/1  NaN           -1:4          EBA         B4   \n",
       "46   89    2  MUN    87/1  NaN           -4:2          EBA         B4   \n",
       "47   89    3  MUN    87/1  NaN      -3:6 -4:1          EBA         B4   \n",
       "48   89    4  MUN    87/1  NaN           -1:1          EBA         B4   \n",
       "49   89    5  MUN    87/1  NaN      -1:5 -2:1          EBA         B4   \n",
       "50   89    6  MUN    87/1  NaN           -3:3          EBA         B4   \n",
       "51   89    7  MUN    87/1  NaN           -1:2          EBA       None   \n",
       "52   89    8  MUN    87/1  NaN           -1:3          EBA         B4   \n",
       "53   90    1  MUN    87/1  NaN           -6:2          EBA         A2   \n",
       "54   90    2  MUN    87/1  NaN           -6:1          EBA         A2   \n",
       "55   96    2  ITN  87/103  NaN              7          EBA         B4   \n",
       "56   96    4  ITN  87/103  NaN             32          EBA         B4   \n",
       "57   96    5  ITN  87/103  NaN             28          EBA       None   \n",
       "\n",
       "      Form_Rand Form_Boden  \n",
       "0          None       None  \n",
       "1          None       None  \n",
       "2          None       None  \n",
       "3          None       None  \n",
       "4          None       None  \n",
       "5         B1/B2       None  \n",
       "6          None       None  \n",
       "7          None       None  \n",
       "8          None       None  \n",
       "9          None       None  \n",
       "10         None       None  \n",
       "11         None        B13  \n",
       "12         None       None  \n",
       "13           A1       None  \n",
       "14         None       None  \n",
       "15           B1       None  \n",
       "16         None       None  \n",
       "17         None        B13  \n",
       "18         B1.2       None  \n",
       "19         None         B1  \n",
       "20           B1       None  \n",
       "21           B1       None  \n",
       "22       B1 (?)       None  \n",
       "23           A1       None  \n",
       "24         None       None  \n",
       "25         B3.3       None  \n",
       "26         None       None  \n",
       "27  B3.3/B1 (?)       None  \n",
       "28           A1       None  \n",
       "29           A1         B6  \n",
       "30           A1       None  \n",
       "31           A1       None  \n",
       "32           B1       None  \n",
       "33         None       None  \n",
       "34         None       None  \n",
       "35         None         B6  \n",
       "36         None       None  \n",
       "37           B3       None  \n",
       "38         B1.1       None  \n",
       "39         None         B2  \n",
       "40           A1       None  \n",
       "41         None       None  \n",
       "42         B3.3       None  \n",
       "43         B1.1         B4  \n",
       "44           A1        B13  \n",
       "45           B1       None  \n",
       "46           B1       None  \n",
       "47           B1       None  \n",
       "48           B1         B4  \n",
       "49           B1       None  \n",
       "50           B1       None  \n",
       "51         None         B4  \n",
       "52           B1       None  \n",
       "53         B1.1       None  \n",
       "54           B1       None  \n",
       "55         B3.3       None  \n",
       "56         None       None  \n",
       "57     B3.3 (?)       None  "
      ]
     },
     "execution_count": 85,
     "metadata": {},
     "output_type": "execute_result"
    }
   ],
   "source": [
    "sql = \"\"\"SELECT\n",
    "           t_Ort.ort_kurz AS SITE,\n",
    "           t_Komplex.bef_nr AS FEAT,\n",
    "           t_Obj.Individuum AS IND,\n",
    "           t_Obj.Typ,\n",
    "           t_Obj.Form_Gef,\n",
    "           t_Obj.Form_Rand,\n",
    "           t_Obj.Form_Boden\n",
    "       FROM (t_Ort INNER JOIN t_Komplex ON t_Ort.ortID = t_Komplex.ortID)\n",
    "           INNER JOIN t_Obj ON t_Komplex.komplexID = t_Obj.komplexID\n",
    "       WHERE (((t_Ort.ort_lit) = 'DS')\n",
    "           AND ((t_Obj.Typ) Like '%\"\"\"+style+\"\"\"%'))\"\"\".replace('\\n',' ')\n",
    "\n",
    "df = pd.read_sql(sql, con)\n",
    "\n",
    "pl = pd.read_csv('../plates/plates.csv')\n",
    "\n",
    "df_merge = pd.merge(pl, df, on=['SITE', 'FEAT', 'IND'], how='inner')\n",
    "df_merge"
   ]
  },
  {
   "cell_type": "code",
   "execution_count": null,
   "metadata": {
    "collapsed": true
   },
   "outputs": [],
   "source": []
  }
 ],
 "metadata": {
  "anaconda-cloud": {},
  "kernelspec": {
   "display_name": "Python 3",
   "language": "python",
   "name": "python3"
  },
  "language_info": {
   "codemirror_mode": {
    "name": "ipython",
    "version": 3
   },
   "file_extension": ".py",
   "mimetype": "text/x-python",
   "name": "python",
   "nbconvert_exporter": "python",
   "pygments_lexer": "ipython3",
   "version": "3.6.1"
  }
 },
 "nbformat": 4,
 "nbformat_minor": 1
}
