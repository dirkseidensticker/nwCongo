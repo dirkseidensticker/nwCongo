{
 "cells": [
  {
   "cell_type": "markdown",
   "metadata": {},
   "source": [
    "# Vegetation"
   ]
  },
  {
   "cell_type": "code",
   "execution_count": 1,
   "metadata": {
    "collapsed": false
   },
   "outputs": [],
   "source": [
    "%matplotlib inline\n",
    "from IPython.display import display\n",
    "import pandas as pd\n",
    "import numpy as np\n",
    "import matplotlib.pyplot as plt\n",
    "import sqlite3\n",
    "\n",
    "con = sqlite3.connect(\"../data/CongoDB.sqlite\")"
   ]
  },
  {
   "cell_type": "markdown",
   "metadata": {},
   "source": [
    "## Fundstellen in DB auslesen"
   ]
  },
  {
   "cell_type": "code",
   "execution_count": 2,
   "metadata": {
    "collapsed": false
   },
   "outputs": [
    {
     "data": {
      "text/html": [
       "<div>\n",
       "<table border=\"1\" class=\"dataframe\">\n",
       "  <thead>\n",
       "    <tr style=\"text-align: right;\">\n",
       "      <th></th>\n",
       "      <th>ort_name</th>\n",
       "      <th>ort_kurz</th>\n",
       "      <th>x_long</th>\n",
       "      <th>y_lat</th>\n",
       "    </tr>\n",
       "  </thead>\n",
       "  <tbody>\n",
       "    <tr>\n",
       "      <th>0</th>\n",
       "      <td>Gombe</td>\n",
       "      <td>GMB</td>\n",
       "      <td>17.580406</td>\n",
       "      <td>-0.704069</td>\n",
       "    </tr>\n",
       "    <tr>\n",
       "      <th>1</th>\n",
       "      <td>?</td>\n",
       "      <td>MBD</td>\n",
       "      <td>NaN</td>\n",
       "      <td>NaN</td>\n",
       "    </tr>\n",
       "    <tr>\n",
       "      <th>2</th>\n",
       "      <td>Bojenjo</td>\n",
       "      <td>BJJ</td>\n",
       "      <td>17.432057</td>\n",
       "      <td>-0.006791</td>\n",
       "    </tr>\n",
       "    <tr>\n",
       "      <th>3</th>\n",
       "      <td>Bokuma</td>\n",
       "      <td>BKA</td>\n",
       "      <td>17.478148</td>\n",
       "      <td>0.099491</td>\n",
       "    </tr>\n",
       "    <tr>\n",
       "      <th>4</th>\n",
       "      <td>Boleko</td>\n",
       "      <td>BLK</td>\n",
       "      <td>17.221926</td>\n",
       "      <td>-0.805556</td>\n",
       "    </tr>\n",
       "  </tbody>\n",
       "</table>\n",
       "</div>"
      ],
      "text/plain": [
       "  ort_name ort_kurz     x_long     y_lat\n",
       "0    Gombe      GMB  17.580406 -0.704069\n",
       "1        ?      MBD        NaN       NaN\n",
       "2  Bojenjo      BJJ  17.432057 -0.006791\n",
       "3   Bokuma      BKA  17.478148  0.099491\n",
       "4   Boleko      BLK  17.221926 -0.805556"
      ]
     },
     "metadata": {},
     "output_type": "display_data"
    }
   ],
   "source": [
    "sql = \"\"\"SELECT\n",
    "           ort_name,\n",
    "           ort_kurz,\n",
    "           x_long,\n",
    "           y_lat\n",
    "       FROM t_Ort\n",
    "       WHERE ort_lit = 'DS'\"\"\".replace('\\n',' ')\n",
    "\n",
    "df = pd.read_sql(sql, con)\n",
    "\n",
    "display(df.head())"
   ]
  },
  {
   "cell_type": "code",
   "execution_count": 3,
   "metadata": {
    "collapsed": false
   },
   "outputs": [],
   "source": [
    "# Tabelle in CSV schreiben, um sie in QGIS zu nutzen:\n",
    "df.to_csv('../data/processed/1-5_Vegetation_FdSt-DS.csv', index = False, encoding='utf-8')"
   ]
  },
  {
   "cell_type": "markdown",
   "metadata": {},
   "source": [
    "## Vegetation an der FdSt (MODIS)"
   ]
  },
  {
   "cell_type": "markdown",
   "metadata": {},
   "source": [
    "In QGIS mit dem *Point sampling tool* den Vegetationsindex aus einem MODIS-Datensatz auf den Punkt-Layer übertragen und mit der *modis_palette.csv* verknüpft."
   ]
  },
  {
   "cell_type": "code",
   "execution_count": 4,
   "metadata": {
    "collapsed": false
   },
   "outputs": [
    {
     "data": {
      "text/html": [
       "<div>\n",
       "<table border=\"1\" class=\"dataframe\">\n",
       "  <thead>\n",
       "    <tr style=\"text-align: right;\">\n",
       "      <th></th>\n",
       "      <th>X</th>\n",
       "      <th>Y</th>\n",
       "      <th>ort_name</th>\n",
       "      <th>ort_kurz</th>\n",
       "      <th>x_long</th>\n",
       "      <th>y_lat</th>\n",
       "      <th>2015011112</th>\n",
       "      <th>modis_palette_HTML</th>\n",
       "      <th>modis_palette_MODIS</th>\n",
       "    </tr>\n",
       "  </thead>\n",
       "  <tbody>\n",
       "    <tr>\n",
       "      <th>0</th>\n",
       "      <td>17.580406</td>\n",
       "      <td>-0.704069</td>\n",
       "      <td>Gombe</td>\n",
       "      <td>GMB</td>\n",
       "      <td>17.580406</td>\n",
       "      <td>-0.704069</td>\n",
       "      <td>14.0</td>\n",
       "      <td>#999355</td>\n",
       "      <td>Cropland/Natural vegetation mosaic</td>\n",
       "    </tr>\n",
       "    <tr>\n",
       "      <th>1</th>\n",
       "      <td>17.432057</td>\n",
       "      <td>-0.006791</td>\n",
       "      <td>Bojenjo</td>\n",
       "      <td>BJJ</td>\n",
       "      <td>17.432057</td>\n",
       "      <td>-0.006791</td>\n",
       "      <td>11.0</td>\n",
       "      <td>#4682b2</td>\n",
       "      <td>Permanent wetlands</td>\n",
       "    </tr>\n",
       "    <tr>\n",
       "      <th>2</th>\n",
       "      <td>17.478148</td>\n",
       "      <td>0.099491</td>\n",
       "      <td>Bokuma</td>\n",
       "      <td>BKA</td>\n",
       "      <td>17.478148</td>\n",
       "      <td>0.099491</td>\n",
       "      <td>9.0</td>\n",
       "      <td>#ffd600</td>\n",
       "      <td>Savannas</td>\n",
       "    </tr>\n",
       "    <tr>\n",
       "      <th>3</th>\n",
       "      <td>17.221926</td>\n",
       "      <td>-0.805556</td>\n",
       "      <td>Boleko</td>\n",
       "      <td>BLK</td>\n",
       "      <td>17.221926</td>\n",
       "      <td>-0.805556</td>\n",
       "      <td>2.0</td>\n",
       "      <td>#31cd31</td>\n",
       "      <td>Evergreen Broadleaf forest</td>\n",
       "    </tr>\n",
       "    <tr>\n",
       "      <th>4</th>\n",
       "      <td>17.365479</td>\n",
       "      <td>-0.552494</td>\n",
       "      <td>Botwale</td>\n",
       "      <td>BTW</td>\n",
       "      <td>17.365479</td>\n",
       "      <td>-0.552494</td>\n",
       "      <td>2.0</td>\n",
       "      <td>#31cd31</td>\n",
       "      <td>Evergreen Broadleaf forest</td>\n",
       "    </tr>\n",
       "  </tbody>\n",
       "</table>\n",
       "</div>"
      ],
      "text/plain": [
       "           X         Y ort_name ort_kurz     x_long     y_lat  2015011112  \\\n",
       "0  17.580406 -0.704069    Gombe      GMB  17.580406 -0.704069        14.0   \n",
       "1  17.432057 -0.006791  Bojenjo      BJJ  17.432057 -0.006791        11.0   \n",
       "2  17.478148  0.099491   Bokuma      BKA  17.478148  0.099491         9.0   \n",
       "3  17.221926 -0.805556   Boleko      BLK  17.221926 -0.805556         2.0   \n",
       "4  17.365479 -0.552494  Botwale      BTW  17.365479 -0.552494         2.0   \n",
       "\n",
       "  modis_palette_HTML                 modis_palette_MODIS  \n",
       "0            #999355  Cropland/Natural vegetation mosaic  \n",
       "1            #4682b2                  Permanent wetlands  \n",
       "2            #ffd600                            Savannas  \n",
       "3            #31cd31          Evergreen Broadleaf forest  \n",
       "4            #31cd31          Evergreen Broadleaf forest  "
      ]
     },
     "metadata": {},
     "output_type": "display_data"
    }
   ],
   "source": [
    "df = pd.read_csv('../data/processed/1.7 Vegetation - FdSt-DS Koord - MODIS.csv')\n",
    "display(df.head())"
   ]
  },
  {
   "cell_type": "markdown",
   "metadata": {},
   "source": [
    "> **ToDo:**\n",
    ">\n",
    "> [ ] Die Information über die Vegetaionszone wieder in die DB einpielen"
   ]
  },
  {
   "cell_type": "code",
   "execution_count": 5,
   "metadata": {
    "collapsed": false
   },
   "outputs": [
    {
     "name": "stderr",
     "output_type": "stream",
     "text": [
      "C:\\Users\\Dirk\\Anaconda3\\lib\\site-packages\\ipykernel\\__main__.py:4: FutureWarning: by argument to sort_index is deprecated, pls use .sort_values(by=...)\n"
     ]
    },
    {
     "data": {
      "text/html": [
       "<div>\n",
       "<table border=\"1\" class=\"dataframe\">\n",
       "  <thead>\n",
       "    <tr style=\"text-align: right;\">\n",
       "      <th></th>\n",
       "      <th></th>\n",
       "      <th>ort_name</th>\n",
       "      <th>Prozent</th>\n",
       "    </tr>\n",
       "    <tr>\n",
       "      <th>2015011112</th>\n",
       "      <th>modis_palette_MODIS</th>\n",
       "      <th></th>\n",
       "      <th></th>\n",
       "    </tr>\n",
       "  </thead>\n",
       "  <tbody>\n",
       "    <tr>\n",
       "      <th>0.0</th>\n",
       "      <th>Water</th>\n",
       "      <td>1</td>\n",
       "      <td>0.813008</td>\n",
       "    </tr>\n",
       "    <tr>\n",
       "      <th>5.0</th>\n",
       "      <th>Mixed forest</th>\n",
       "      <td>1</td>\n",
       "      <td>0.813008</td>\n",
       "    </tr>\n",
       "    <tr>\n",
       "      <th>6.0</th>\n",
       "      <th>Closed shrublands</th>\n",
       "      <td>1</td>\n",
       "      <td>0.813008</td>\n",
       "    </tr>\n",
       "    <tr>\n",
       "      <th>9.0</th>\n",
       "      <th>Savannas</th>\n",
       "      <td>1</td>\n",
       "      <td>0.813008</td>\n",
       "    </tr>\n",
       "    <tr>\n",
       "      <th>12.0</th>\n",
       "      <th>Croplands</th>\n",
       "      <td>3</td>\n",
       "      <td>2.439024</td>\n",
       "    </tr>\n",
       "    <tr>\n",
       "      <th>13.0</th>\n",
       "      <th>Urban and built-up</th>\n",
       "      <td>3</td>\n",
       "      <td>2.439024</td>\n",
       "    </tr>\n",
       "    <tr>\n",
       "      <th>14.0</th>\n",
       "      <th>Cropland/Natural vegetation mosaic</th>\n",
       "      <td>6</td>\n",
       "      <td>4.878049</td>\n",
       "    </tr>\n",
       "    <tr>\n",
       "      <th>8.0</th>\n",
       "      <th>Woody savannas</th>\n",
       "      <td>11</td>\n",
       "      <td>8.943089</td>\n",
       "    </tr>\n",
       "    <tr>\n",
       "      <th>2.0</th>\n",
       "      <th>Evergreen Broadleaf forest</th>\n",
       "      <td>46</td>\n",
       "      <td>37.398374</td>\n",
       "    </tr>\n",
       "    <tr>\n",
       "      <th>11.0</th>\n",
       "      <th>Permanent wetlands</th>\n",
       "      <td>50</td>\n",
       "      <td>40.650407</td>\n",
       "    </tr>\n",
       "  </tbody>\n",
       "</table>\n",
       "</div>"
      ],
      "text/plain": [
       "                                               ort_name    Prozent\n",
       "2015011112 modis_palette_MODIS                                    \n",
       "0.0        Water                                      1   0.813008\n",
       "5.0        Mixed forest                               1   0.813008\n",
       "6.0        Closed shrublands                          1   0.813008\n",
       "9.0        Savannas                                   1   0.813008\n",
       "12.0       Croplands                                  3   2.439024\n",
       "13.0       Urban and built-up                         3   2.439024\n",
       "14.0       Cropland/Natural vegetation mosaic         6   4.878049\n",
       "8.0        Woody savannas                            11   8.943089\n",
       "2.0        Evergreen Broadleaf forest                46  37.398374\n",
       "11.0       Permanent wetlands                        50  40.650407"
      ]
     },
     "execution_count": 5,
     "metadata": {},
     "output_type": "execute_result"
    }
   ],
   "source": [
    "df_pivot = df.pivot_table(values = 'ort_name', index = ['2015011112', 'modis_palette_MODIS'], aggfunc = len)\n",
    "df_pivot = pd.DataFrame(df_pivot)\n",
    "df_pivot['Prozent'] = df_pivot['ort_name']/df_pivot['ort_name'].sum()*100\n",
    "df_pivot = df_pivot.sort_index(by=['Prozent'], ascending=[True])\n",
    "df_pivot"
   ]
  },
  {
   "cell_type": "code",
   "execution_count": 6,
   "metadata": {
    "collapsed": false
   },
   "outputs": [
    {
     "data": {
      "image/png": "[encoded data removed]",
      "text/plain": [
       "<matplotlib.figure.Figure at 0x1932b739f60>"
      ]
     },
     "metadata": {},
     "output_type": "display_data"
    }
   ],
   "source": [
    "df_pivot['Prozent'].plot(kind = 'barh', color = 'grey')\n",
    "plt.xlabel('Anteil [%]')\n",
    "plt.ylabel('')\n",
    "plt.show()"
   ]
  },
  {
   "cell_type": "markdown",
   "metadata": {},
   "source": [
    "## Vegetation nach <code>\\cite{Mayaux.2003}</code>"
   ]
  },
  {
   "cell_type": "markdown",
   "metadata": {},
   "source": [
    "In QGIS mit dem *Point sampling tool* den Vegetationsindex aus einem <code>Africa_v5_Grid/Grid/africa_v5/hdr.adf</code>-Datensatz auf den Punkt-Layer übertragen und mit der <code>Africa_v5_legend.dbf</code> verknüpft."
   ]
  },
  {
   "cell_type": "code",
   "execution_count": 7,
   "metadata": {
    "collapsed": false
   },
   "outputs": [
    {
     "data": {
      "text/html": [
       "<div>\n",
       "<table border=\"1\" class=\"dataframe\">\n",
       "  <thead>\n",
       "    <tr style=\"text-align: right;\">\n",
       "      <th></th>\n",
       "      <th>X</th>\n",
       "      <th>Y</th>\n",
       "      <th>ort_name</th>\n",
       "      <th>ort_kurz</th>\n",
       "      <th>x_long</th>\n",
       "      <th>y_lat</th>\n",
       "      <th>hdr</th>\n",
       "      <th>Africa_v5_legend_CLASSNAMES</th>\n",
       "    </tr>\n",
       "  </thead>\n",
       "  <tbody>\n",
       "    <tr>\n",
       "      <th>0</th>\n",
       "      <td>17.580406</td>\n",
       "      <td>-0.704069</td>\n",
       "      <td>Gombe</td>\n",
       "      <td>GMB</td>\n",
       "      <td>17.580406</td>\n",
       "      <td>-0.704069</td>\n",
       "      <td>26.0</td>\n",
       "      <td>Waterbodies</td>\n",
       "    </tr>\n",
       "    <tr>\n",
       "      <th>1</th>\n",
       "      <td>17.432057</td>\n",
       "      <td>-0.006791</td>\n",
       "      <td>Bojenjo</td>\n",
       "      <td>BJJ</td>\n",
       "      <td>17.432057</td>\n",
       "      <td>-0.006791</td>\n",
       "      <td>17.0</td>\n",
       "      <td>Swamp bushland and grassland</td>\n",
       "    </tr>\n",
       "    <tr>\n",
       "      <th>2</th>\n",
       "      <td>17.478148</td>\n",
       "      <td>0.099491</td>\n",
       "      <td>Bokuma</td>\n",
       "      <td>BKA</td>\n",
       "      <td>17.478148</td>\n",
       "      <td>0.099491</td>\n",
       "      <td>17.0</td>\n",
       "      <td>Swamp bushland and grassland</td>\n",
       "    </tr>\n",
       "    <tr>\n",
       "      <th>3</th>\n",
       "      <td>17.221926</td>\n",
       "      <td>-0.805556</td>\n",
       "      <td>Boleko</td>\n",
       "      <td>BLK</td>\n",
       "      <td>17.221926</td>\n",
       "      <td>-0.805556</td>\n",
       "      <td>18.0</td>\n",
       "      <td>Croplands (&gt;50%)</td>\n",
       "    </tr>\n",
       "    <tr>\n",
       "      <th>4</th>\n",
       "      <td>17.365479</td>\n",
       "      <td>-0.552494</td>\n",
       "      <td>Botwale</td>\n",
       "      <td>BTW</td>\n",
       "      <td>17.365479</td>\n",
       "      <td>-0.552494</td>\n",
       "      <td>18.0</td>\n",
       "      <td>Croplands (&gt;50%)</td>\n",
       "    </tr>\n",
       "  </tbody>\n",
       "</table>\n",
       "</div>"
      ],
      "text/plain": [
       "           X         Y ort_name ort_kurz     x_long     y_lat   hdr  \\\n",
       "0  17.580406 -0.704069    Gombe      GMB  17.580406 -0.704069  26.0   \n",
       "1  17.432057 -0.006791  Bojenjo      BJJ  17.432057 -0.006791  17.0   \n",
       "2  17.478148  0.099491   Bokuma      BKA  17.478148  0.099491  17.0   \n",
       "3  17.221926 -0.805556   Boleko      BLK  17.221926 -0.805556  18.0   \n",
       "4  17.365479 -0.552494  Botwale      BTW  17.365479 -0.552494  18.0   \n",
       "\n",
       "    Africa_v5_legend_CLASSNAMES  \n",
       "0                   Waterbodies  \n",
       "1  Swamp bushland and grassland  \n",
       "2  Swamp bushland and grassland  \n",
       "3              Croplands (>50%)  \n",
       "4              Croplands (>50%)  "
      ]
     },
     "metadata": {},
     "output_type": "display_data"
    }
   ],
   "source": [
    "df = pd.read_csv('../data/processed/1-5_Vegetation_FdSt-DS_hdr.csv')\n",
    "display(df.head())"
   ]
  },
  {
   "cell_type": "code",
   "execution_count": 8,
   "metadata": {
    "collapsed": false
   },
   "outputs": [
    {
     "name": "stderr",
     "output_type": "stream",
     "text": [
      "C:\\Users\\Dirk\\Anaconda3\\lib\\site-packages\\ipykernel\\__main__.py:4: FutureWarning: by argument to sort_index is deprecated, pls use .sort_values(by=...)\n"
     ]
    },
    {
     "data": {
      "text/html": [
       "<div>\n",
       "<table border=\"1\" class=\"dataframe\">\n",
       "  <thead>\n",
       "    <tr style=\"text-align: right;\">\n",
       "      <th></th>\n",
       "      <th>ort_name</th>\n",
       "      <th>Prozent</th>\n",
       "    </tr>\n",
       "    <tr>\n",
       "      <th>Africa_v5_legend_CLASSNAMES</th>\n",
       "      <th></th>\n",
       "      <th></th>\n",
       "    </tr>\n",
       "  </thead>\n",
       "  <tbody>\n",
       "    <tr>\n",
       "      <th>Closed evergreen lowland forest</th>\n",
       "      <td>37</td>\n",
       "      <td>30.081301</td>\n",
       "    </tr>\n",
       "    <tr>\n",
       "      <th>Swamp forest</th>\n",
       "      <td>25</td>\n",
       "      <td>20.325203</td>\n",
       "    </tr>\n",
       "    <tr>\n",
       "      <th>Waterbodies</th>\n",
       "      <td>21</td>\n",
       "      <td>17.073171</td>\n",
       "    </tr>\n",
       "    <tr>\n",
       "      <th>Swamp bushland and grassland</th>\n",
       "      <td>17</td>\n",
       "      <td>13.821138</td>\n",
       "    </tr>\n",
       "    <tr>\n",
       "      <th>Deciduous woodland</th>\n",
       "      <td>8</td>\n",
       "      <td>6.504065</td>\n",
       "    </tr>\n",
       "    <tr>\n",
       "      <th>Croplands (&gt;50%)</th>\n",
       "      <td>5</td>\n",
       "      <td>4.065041</td>\n",
       "    </tr>\n",
       "    <tr>\n",
       "      <th>Closed grassland</th>\n",
       "      <td>4</td>\n",
       "      <td>3.252033</td>\n",
       "    </tr>\n",
       "    <tr>\n",
       "      <th>Deciduous shrubland with sparse trees</th>\n",
       "      <td>2</td>\n",
       "      <td>1.626016</td>\n",
       "    </tr>\n",
       "    <tr>\n",
       "      <th>Mosaic Forest / Savanna</th>\n",
       "      <td>2</td>\n",
       "      <td>1.626016</td>\n",
       "    </tr>\n",
       "    <tr>\n",
       "      <th>Mosaic Forest / Croplands</th>\n",
       "      <td>1</td>\n",
       "      <td>0.813008</td>\n",
       "    </tr>\n",
       "    <tr>\n",
       "      <th>Open deciduous shrubland</th>\n",
       "      <td>1</td>\n",
       "      <td>0.813008</td>\n",
       "    </tr>\n",
       "  </tbody>\n",
       "</table>\n",
       "</div>"
      ],
      "text/plain": [
       "                                       ort_name    Prozent\n",
       "Africa_v5_legend_CLASSNAMES                               \n",
       "Closed evergreen lowland forest              37  30.081301\n",
       "Swamp forest                                 25  20.325203\n",
       "Waterbodies                                  21  17.073171\n",
       "Swamp bushland and grassland                 17  13.821138\n",
       "Deciduous woodland                            8   6.504065\n",
       "Croplands (>50%)                              5   4.065041\n",
       "Closed grassland                              4   3.252033\n",
       "Deciduous shrubland with sparse trees         2   1.626016\n",
       "Mosaic Forest / Savanna                       2   1.626016\n",
       "Mosaic Forest / Croplands                     1   0.813008\n",
       "Open deciduous shrubland                      1   0.813008"
      ]
     },
     "execution_count": 8,
     "metadata": {},
     "output_type": "execute_result"
    }
   ],
   "source": [
    "df_pivot = df.pivot_table(values = 'ort_name', index = 'Africa_v5_legend_CLASSNAMES', aggfunc = len)\n",
    "df_pivot = pd.DataFrame(df_pivot)\n",
    "df_pivot['Prozent'] = df_pivot['ort_name']/df_pivot['ort_name'].sum()*100\n",
    "df_pivot = df_pivot.sort_index(by=['Prozent'], ascending=[False])\n",
    "df_pivot"
   ]
  },
  {
   "cell_type": "code",
   "execution_count": 9,
   "metadata": {
    "collapsed": false
   },
   "outputs": [
    {
     "name": "stderr",
     "output_type": "stream",
     "text": [
      "C:\\Users\\Dirk\\Anaconda3\\lib\\site-packages\\ipykernel\\__main__.py:1: FutureWarning: by argument to sort_index is deprecated, pls use .sort_values(by=...)\n",
      "  if __name__ == '__main__':\n"
     ]
    },
    {
     "data": {
      "image/png": "[encoded data removed]",
      "text/plain": [
       "<matplotlib.figure.Figure at 0x1932bc1eac8>"
      ]
     },
     "metadata": {},
     "output_type": "display_data"
    }
   ],
   "source": [
    "df_pivot = df_pivot.sort_index(by=['Prozent'], ascending=[True])\n",
    "df_pivot['Prozent'].plot(kind = 'barh', color = 'grey')\n",
    "plt.xlabel('Anteil [%]')\n",
    "plt.ylabel('')\n",
    "plt.savefig('../output/figs/1-5_Vegetation_Kl_Mayaux2003.pdf', bbox_inches='tight')\n",
    "plt.show()"
   ]
  },
  {
   "cell_type": "code",
   "execution_count": null,
   "metadata": {
    "collapsed": true
   },
   "outputs": [],
   "source": []
  }
 ],
 "metadata": {
  "kernelspec": {
   "display_name": "Python 3",
   "language": "python",
   "name": "python3"
  },
  "language_info": {
   "codemirror_mode": {
    "name": "ipython",
    "version": 3
   },
   "file_extension": ".py",
   "mimetype": "text/x-python",
   "name": "python",
   "nbconvert_exporter": "python",
   "pygments_lexer": "ipython3",
   "version": "3.6.0"
  }
 },
 "nbformat": 4,
 "nbformat_minor": 0
}
