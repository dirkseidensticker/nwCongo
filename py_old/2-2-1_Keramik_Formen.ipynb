{
 "cells": [
  {
   "cell_type": "markdown",
   "metadata": {},
   "source": [
    "# Formen"
   ]
  },
  {
   "cell_type": "code",
   "execution_count": 1,
   "metadata": {},
   "outputs": [
    {
     "name": "stdout",
     "output_type": "stream",
     "text": [
      "Populating the interactive namespace from numpy and matplotlib\n"
     ]
    }
   ],
   "source": [
    "%pylab inline\n",
    "from IPython.display import display\n",
    "import pandas as pd\n",
    "import numpy as np\n",
    "import matplotlib.pyplot as plt\n",
    "import sqlite3\n",
    "\n",
    "import sys, os\n",
    "sys.path.append(\"/Python\")\n",
    "from myfunctions import *\n",
    "\n",
    "con = sqlite3.connect(\"../data/CongoDB.sqlite\")"
   ]
  },
  {
   "cell_type": "markdown",
   "metadata": {},
   "source": [
    "## Gefäßform"
   ]
  },
  {
   "cell_type": "code",
   "execution_count": 98,
   "metadata": {},
   "outputs": [
    {
     "name": "stderr",
     "output_type": "stream",
     "text": [
      "C:\\Users\\DirkSeidenticker\\Anaconda3\\lib\\site-packages\\ipykernel\\__main__.py:14: FutureWarning: convert_objects is deprecated.  Use the data-type specific converters pd.to_datetime, pd.to_timedelta and pd.to_numeric.\n"
     ]
    },
    {
     "data": {
      "text/html": [
       "<div>\n",
       "<table border=\"1\" class=\"dataframe\">\n",
       "  <thead>\n",
       "    <tr style=\"text-align: right;\">\n",
       "      <th></th>\n",
       "      <th>0</th>\n",
       "      <th>Prozent</th>\n",
       "    </tr>\n",
       "  </thead>\n",
       "  <tbody>\n",
       "    <tr>\n",
       "      <th>bestimmt</th>\n",
       "      <td>2142</td>\n",
       "      <td>40.415094</td>\n",
       "    </tr>\n",
       "    <tr>\n",
       "      <th>unbestimmt</th>\n",
       "      <td>3158</td>\n",
       "      <td>59.584906</td>\n",
       "    </tr>\n",
       "  </tbody>\n",
       "</table>\n",
       "</div>"
      ],
      "text/plain": [
       "               0    Prozent\n",
       "bestimmt    2142  40.415094\n",
       "unbestimmt  3158  59.584906"
      ]
     },
     "execution_count": 98,
     "metadata": {},
     "output_type": "execute_result"
    }
   ],
   "source": [
    "sql = \"\"\"SELECT\n",
    "           t_Obj.objID, \n",
    "           t_Obj.Art,\n",
    "           t_Obj.Scherbe,\n",
    "           t_Obj.Anzahl,\n",
    "           t_Obj.Form_Gef\n",
    "       FROM (t_Ort INNER JOIN t_Komplex ON t_Ort.ortID = t_Komplex.ortID)\n",
    "           INNER JOIN t_Obj ON t_Komplex.komplexID = t_Obj.komplexID\n",
    "       WHERE (((t_Ort.ort_lit)='DS')\n",
    "           AND ((t_Obj.Art) = \"K\")\n",
    "           AND ((t_Obj.Notiz) Not Like '%1987%'))\"\"\".replace('\\n',' ')\n",
    "\n",
    "df = pd.read_sql(sql, con)\n",
    "df['Anzahl'] = df['Anzahl'].convert_objects(convert_numeric=True)\n",
    "df['Form_Gef'] = df['Form_Gef'].replace('', np.nan, regex=True)\n",
    "\n",
    "a = pd.Series({'bestimmt':(len(df['Form_Gef']) - df['Form_Gef'].isnull().sum()),\n",
    "               'unbestimmt':df['Form_Gef'].isnull().sum()})\n",
    "a = pd.DataFrame(a)\n",
    "a['Prozent'] = a[0]/a[0].sum()*100\n",
    "a"
   ]
  },
  {
   "cell_type": "code",
   "execution_count": 40,
   "metadata": {
    "collapsed": true
   },
   "outputs": [],
   "source": [
    "sql = \"\"\"SELECT\n",
    "           t_Obj.objID,\n",
    "           t_Obj.Form_Gef\n",
    "       FROM (t_Ort INNER JOIN t_Komplex ON t_Ort.ortID = t_Komplex.ortID)\n",
    "           INNER JOIN t_Obj ON t_Komplex.komplexID = t_Obj.komplexID\n",
    "       WHERE (((t_Ort.ort_lit)='DS')\n",
    "           AND ((t_Obj.Form_Gef) != '')\n",
    "           AND ((t_Obj.Form_Gef) Not Like '%/%')\n",
    "           AND ((t_Obj.Form_Gef) Not Like '% (?)%'))\"\"\".replace('\\n',' ')\n",
    "\n",
    "df = pd.read_sql(sql, con)"
   ]
  },
  {
   "cell_type": "code",
   "execution_count": 41,
   "metadata": {},
   "outputs": [
    {
     "data": {
      "text/plain": [
       "926"
      ]
     },
     "execution_count": 41,
     "metadata": {},
     "output_type": "execute_result"
    }
   ],
   "source": [
    "# sicher bestimmte Gef-Formen\n",
    "len(df)"
   ]
  },
  {
   "cell_type": "code",
   "execution_count": 42,
   "metadata": {},
   "outputs": [],
   "source": [
    "df['Gef1'] = df['Form_Gef'].str[0]\n",
    "df['Gef2'] = df['Form_Gef'].str[1]"
   ]
  },
  {
   "cell_type": "code",
   "execution_count": 43,
   "metadata": {},
   "outputs": [
    {
     "data": {
      "text/html": [
       "<div>\n",
       "<table border=\"1\" class=\"dataframe\">\n",
       "  <thead>\n",
       "    <tr style=\"text-align: right;\">\n",
       "      <th>Gef2</th>\n",
       "      <th>1</th>\n",
       "      <th>2</th>\n",
       "      <th>3</th>\n",
       "      <th>4</th>\n",
       "      <th>5</th>\n",
       "      <th>6</th>\n",
       "      <th>7</th>\n",
       "    </tr>\n",
       "    <tr>\n",
       "      <th>Gef1</th>\n",
       "      <th></th>\n",
       "      <th></th>\n",
       "      <th></th>\n",
       "      <th></th>\n",
       "      <th></th>\n",
       "      <th></th>\n",
       "      <th></th>\n",
       "    </tr>\n",
       "  </thead>\n",
       "  <tbody>\n",
       "    <tr>\n",
       "      <th>A</th>\n",
       "      <td>3.0</td>\n",
       "      <td>9.0</td>\n",
       "      <td>53.0</td>\n",
       "      <td>NaN</td>\n",
       "      <td>NaN</td>\n",
       "      <td>NaN</td>\n",
       "      <td>NaN</td>\n",
       "    </tr>\n",
       "    <tr>\n",
       "      <th>B</th>\n",
       "      <td>2.0</td>\n",
       "      <td>11.0</td>\n",
       "      <td>21.0</td>\n",
       "      <td>124.0</td>\n",
       "      <td>1.0</td>\n",
       "      <td>1.0</td>\n",
       "      <td>3.0</td>\n",
       "    </tr>\n",
       "    <tr>\n",
       "      <th>C</th>\n",
       "      <td>18.0</td>\n",
       "      <td>82.0</td>\n",
       "      <td>NaN</td>\n",
       "      <td>NaN</td>\n",
       "      <td>NaN</td>\n",
       "      <td>NaN</td>\n",
       "      <td>NaN</td>\n",
       "    </tr>\n",
       "    <tr>\n",
       "      <th>D</th>\n",
       "      <td>91.0</td>\n",
       "      <td>30.0</td>\n",
       "      <td>NaN</td>\n",
       "      <td>NaN</td>\n",
       "      <td>NaN</td>\n",
       "      <td>NaN</td>\n",
       "      <td>NaN</td>\n",
       "    </tr>\n",
       "    <tr>\n",
       "      <th>E</th>\n",
       "      <td>6.0</td>\n",
       "      <td>12.0</td>\n",
       "      <td>25.0</td>\n",
       "      <td>4.0</td>\n",
       "      <td>6.0</td>\n",
       "      <td>16.0</td>\n",
       "      <td>1.0</td>\n",
       "    </tr>\n",
       "    <tr>\n",
       "      <th>F</th>\n",
       "      <td>3.0</td>\n",
       "      <td>2.0</td>\n",
       "      <td>42.0</td>\n",
       "      <td>3.0</td>\n",
       "      <td>2.0</td>\n",
       "      <td>4.0</td>\n",
       "      <td>2.0</td>\n",
       "    </tr>\n",
       "    <tr>\n",
       "      <th>G</th>\n",
       "      <td>12.0</td>\n",
       "      <td>16.0</td>\n",
       "      <td>39.0</td>\n",
       "      <td>68.0</td>\n",
       "      <td>2.0</td>\n",
       "      <td>26.0</td>\n",
       "      <td>NaN</td>\n",
       "    </tr>\n",
       "    <tr>\n",
       "      <th>H</th>\n",
       "      <td>5.0</td>\n",
       "      <td>42.0</td>\n",
       "      <td>NaN</td>\n",
       "      <td>NaN</td>\n",
       "      <td>NaN</td>\n",
       "      <td>NaN</td>\n",
       "      <td>NaN</td>\n",
       "    </tr>\n",
       "    <tr>\n",
       "      <th>I</th>\n",
       "      <td>13.0</td>\n",
       "      <td>3.0</td>\n",
       "      <td>46.0</td>\n",
       "      <td>62.0</td>\n",
       "      <td>NaN</td>\n",
       "      <td>NaN</td>\n",
       "      <td>NaN</td>\n",
       "    </tr>\n",
       "    <tr>\n",
       "      <th>J</th>\n",
       "      <td>15.0</td>\n",
       "      <td>NaN</td>\n",
       "      <td>NaN</td>\n",
       "      <td>NaN</td>\n",
       "      <td>NaN</td>\n",
       "      <td>NaN</td>\n",
       "      <td>NaN</td>\n",
       "    </tr>\n",
       "  </tbody>\n",
       "</table>\n",
       "</div>"
      ],
      "text/plain": [
       "Gef2     1     2     3      4    5     6    7\n",
       "Gef1                                         \n",
       "A      3.0   9.0  53.0    NaN  NaN   NaN  NaN\n",
       "B      2.0  11.0  21.0  124.0  1.0   1.0  3.0\n",
       "C     18.0  82.0   NaN    NaN  NaN   NaN  NaN\n",
       "D     91.0  30.0   NaN    NaN  NaN   NaN  NaN\n",
       "E      6.0  12.0  25.0    4.0  6.0  16.0  1.0\n",
       "F      3.0   2.0  42.0    3.0  2.0   4.0  2.0\n",
       "G     12.0  16.0  39.0   68.0  2.0  26.0  NaN\n",
       "H      5.0  42.0   NaN    NaN  NaN   NaN  NaN\n",
       "I     13.0   3.0  46.0   62.0  NaN   NaN  NaN\n",
       "J     15.0   NaN   NaN    NaN  NaN   NaN  NaN"
      ]
     },
     "execution_count": 43,
     "metadata": {},
     "output_type": "execute_result"
    }
   ],
   "source": [
    "df_pivot = df.pivot_table(values = 'objID', index = 'Gef1', columns = 'Gef2', aggfunc = len)\n",
    "df_pivot = pd.DataFrame(df_pivot)\n",
    "df_pivot"
   ]
  },
  {
   "cell_type": "code",
   "execution_count": 44,
   "metadata": {},
   "outputs": [
    {
     "data": {
      "image/png": "[encoded data removed]",
      "text/plain": [
       "<matplotlib.figure.Figure at 0xbfe4b70>"
      ]
     },
     "metadata": {},
     "output_type": "display_data"
    }
   ],
   "source": [
    "fig, ax1 = plt.subplots()\n",
    "im = ax1.imshow(df_pivot, interpolation='nearest', cmap='Spectral_r')\n",
    "plt.colorbar(im)\n",
    "plt.yticks(range(len(df_pivot.index)), df_pivot.index)\n",
    "plt.xticks(range(len(df_pivot.columns)), df_pivot.columns)\n",
    "ax1.tick_params(labeltop='on', labelbottom='off')\n",
    "plt.show()"
   ]
  },
  {
   "cell_type": "code",
   "execution_count": 47,
   "metadata": {},
   "outputs": [],
   "source": [
    "cmap = plt.get_cmap('gray_r')\n",
    "new_cmap = truncate_colormap(cmap, 0, 0.4)"
   ]
  },
  {
   "cell_type": "code",
   "execution_count": 58,
   "metadata": {},
   "outputs": [],
   "source": [
    "# Beschriftung für die Zellen separat erstellen:\n",
    "df_pivot_a = df_pivot\n",
    "df_pivot_a = df_pivot_a.replace(np.nan, 0)\n",
    "df_pivot_a = df_pivot_a.round(0)\n",
    "df_pivot_a = df_pivot_a.astype(int)\n",
    "df_pivot_a = df_pivot_a.replace(0, '-')"
   ]
  },
  {
   "cell_type": "code",
   "execution_count": 60,
   "metadata": {},
   "outputs": [
    {
     "data": {
      "image/png": "[encoded data removed]",
      "text/plain": [
       "<matplotlib.figure.Figure at 0xbf9ce48>"
      ]
     },
     "metadata": {},
     "output_type": "display_data"
    }
   ],
   "source": [
    "fig, ax1 = plt.subplots()\n",
    "im = ax1.imshow(df_pivot, interpolation='nearest', cmap=new_cmap)\n",
    "plt.colorbar(im)\n",
    "plt.yticks(range(len(df_pivot.index)), df_pivot.index)\n",
    "plt.xticks(range(len(df_pivot.columns)), df_pivot.columns)\n",
    "ax1.tick_params(labeltop='on', labelbottom='off')\n",
    "\n",
    "for (i, j), z in np.ndenumerate(df_pivot_a):\n",
    "    plt.text(j, i, z, ha='center', va='center')\n",
    "\n",
    "plt.savefig('../output/figs/2-2-1_Keramik_Gef-Formen.pdf', bbox_inches='tight')\n",
    "plt.show()"
   ]
  },
  {
   "cell_type": "markdown",
   "metadata": {},
   "source": [
    "## Randformen"
   ]
  },
  {
   "cell_type": "code",
   "execution_count": 204,
   "metadata": {
    "scrolled": false
   },
   "outputs": [],
   "source": [
    "sql = \"\"\"SELECT\n",
    "           t_Obj.objID,\n",
    "           t_Obj.Form_Rand\n",
    "       FROM (t_Ort INNER JOIN t_Komplex ON t_Ort.ortID = t_Komplex.ortID)\n",
    "           INNER JOIN t_Obj ON t_Komplex.komplexID = t_Obj.komplexID\n",
    "       WHERE (((t_Ort.ort_lit)='DS')\n",
    "           AND ((t_Obj.Form_Rand) != ''))\"\"\".replace('\\n',' ')\n",
    "\n",
    "df = pd.read_sql(sql, con)"
   ]
  },
  {
   "cell_type": "code",
   "execution_count": 205,
   "metadata": {},
   "outputs": [],
   "source": [
    "# Alle Varianten ermitteln\n",
    "# (?) und Leeranschläge löschen\n",
    "df['FormRand'] = df['Form_Rand'].map(lambda x: x.rstrip('(?)'))\n",
    "df['FormRand'] = df['FormRand'].map(lambda x: x.strip(' '))"
   ]
  },
  {
   "cell_type": "code",
   "execution_count": 206,
   "metadata": {
    "scrolled": true
   },
   "outputs": [],
   "source": [
    "# Kombinationen in separate Zeilen auflösen\n",
    "# siehe http://stackoverflow.com/questions/17116814/pandas-how-do-i-split-text-in-a-column-into-multiple-rows\n",
    "from pandas import Series, DataFrame\n",
    "s = df['FormRand'].str.split('/').apply(Series, 1).stack()\n",
    "s.index = s.index.droplevel(-1) # to line up with df's index\n",
    "s.name = 'FormRand'\n",
    "del df['FormRand']\n",
    "df = df.join(s)"
   ]
  },
  {
   "cell_type": "code",
   "execution_count": 207,
   "metadata": {},
   "outputs": [],
   "source": [
    "df_pivot = df.pivot_table(values = 'objID', columns = 'FormRand', aggfunc = len)\n",
    "df_pivot = pd.DataFrame(df_pivot)"
   ]
  },
  {
   "cell_type": "markdown",
   "metadata": {},
   "source": [
    "Anzahl der Randformen:"
   ]
  },
  {
   "cell_type": "code",
   "execution_count": 208,
   "metadata": {},
   "outputs": [
    {
     "data": {
      "text/plain": [
       "36"
      ]
     },
     "execution_count": 208,
     "metadata": {},
     "output_type": "execute_result"
    }
   ],
   "source": [
    "len(df_pivot)"
   ]
  },
  {
   "cell_type": "code",
   "execution_count": 209,
   "metadata": {},
   "outputs": [
    {
     "data": {
      "text/plain": [
       "<matplotlib.axes._subplots.AxesSubplot at 0xe72b080>"
      ]
     },
     "execution_count": 209,
     "metadata": {},
     "output_type": "execute_result"
    },
    {
     "data": {
      "image/png": "[encoded data removed]",
      "text/plain": [
       "<matplotlib.figure.Figure at 0xe733e80>"
      ]
     },
     "metadata": {},
     "output_type": "display_data"
    }
   ],
   "source": [
    "df_pivot.sort_values(by = 'objID', ascending = False).plot(kind = 'bar')"
   ]
  },
  {
   "cell_type": "code",
   "execution_count": 210,
   "metadata": {},
   "outputs": [
    {
     "data": {
      "text/html": [
       "<div>\n",
       "<table border=\"1\" class=\"dataframe\">\n",
       "  <thead>\n",
       "    <tr style=\"text-align: right;\">\n",
       "      <th></th>\n",
       "      <th>objID</th>\n",
       "      <th>pct</th>\n",
       "    </tr>\n",
       "    <tr>\n",
       "      <th>FormRand</th>\n",
       "      <th></th>\n",
       "      <th></th>\n",
       "    </tr>\n",
       "  </thead>\n",
       "  <tbody>\n",
       "    <tr>\n",
       "      <th>B1</th>\n",
       "      <td>751</td>\n",
       "      <td>24.777301</td>\n",
       "    </tr>\n",
       "    <tr>\n",
       "      <th>B2</th>\n",
       "      <td>404</td>\n",
       "      <td>13.328934</td>\n",
       "    </tr>\n",
       "    <tr>\n",
       "      <th>B1.1</th>\n",
       "      <td>357</td>\n",
       "      <td>11.778291</td>\n",
       "    </tr>\n",
       "    <tr>\n",
       "      <th>A1</th>\n",
       "      <td>306</td>\n",
       "      <td>10.095678</td>\n",
       "    </tr>\n",
       "    <tr>\n",
       "      <th>B3</th>\n",
       "      <td>194</td>\n",
       "      <td>6.400528</td>\n",
       "    </tr>\n",
       "    <tr>\n",
       "      <th>A2</th>\n",
       "      <td>124</td>\n",
       "      <td>4.091059</td>\n",
       "    </tr>\n",
       "    <tr>\n",
       "      <th>C3</th>\n",
       "      <td>107</td>\n",
       "      <td>3.530188</td>\n",
       "    </tr>\n",
       "    <tr>\n",
       "      <th>A4.3</th>\n",
       "      <td>99</td>\n",
       "      <td>3.266249</td>\n",
       "    </tr>\n",
       "    <tr>\n",
       "      <th>B1.5</th>\n",
       "      <td>83</td>\n",
       "      <td>2.738370</td>\n",
       "    </tr>\n",
       "    <tr>\n",
       "      <th>C1</th>\n",
       "      <td>79</td>\n",
       "      <td>2.606401</td>\n",
       "    </tr>\n",
       "  </tbody>\n",
       "</table>\n",
       "</div>"
      ],
      "text/plain": [
       "          objID        pct\n",
       "FormRand                  \n",
       "B1          751  24.777301\n",
       "B2          404  13.328934\n",
       "B1.1        357  11.778291\n",
       "A1          306  10.095678\n",
       "B3          194   6.400528\n",
       "A2          124   4.091059\n",
       "C3          107   3.530188\n",
       "A4.3         99   3.266249\n",
       "B1.5         83   2.738370\n",
       "C1           79   2.606401"
      ]
     },
     "execution_count": 210,
     "metadata": {},
     "output_type": "execute_result"
    }
   ],
   "source": [
    "# df_pivot['objID'] = df_pivot['objID'].apply(lambda x: pd.to_numeric(x, errors='ignore'))\n",
    "df_pivot['pct'] = df_pivot['objID'] / df_pivot['objID'].sum() * 100\n",
    "df_pivot = df_pivot.sort_values(by = 'objID', ascending = False)\n",
    "df_pivot.head(10)"
   ]
  },
  {
   "cell_type": "code",
   "execution_count": 214,
   "metadata": {},
   "outputs": [
    {
     "data": {
      "text/plain": [
       "objID    1213.000000\n",
       "pct        40.019795\n",
       "dtype: float64"
      ]
     },
     "execution_count": 214,
     "metadata": {},
     "output_type": "execute_result"
    }
   ],
   "source": [
    "# nur jene Formen, mit weniger als 10%-Anteilen + Summe dieser Varianten (Wie viel machen sie zusammengenommen aus?)\n",
    "df_pivot.loc[df_pivot['pct'] < 10].sum()"
   ]
  },
  {
   "cell_type": "markdown",
   "metadata": {},
   "source": [
    "### Grundformen"
   ]
  },
  {
   "cell_type": "code",
   "execution_count": 186,
   "metadata": {},
   "outputs": [],
   "source": [
    "# nur Grundform behalten: alles hinter der 2. Stelle abschneiden\n",
    "df['FormGrundRand'] = df['FormRand'].map(lambda x: str(x)[:2])\n",
    "df_pivot = df.pivot_table(values = 'objID', columns = 'FormGrundRand', aggfunc = len)\n",
    "df_pivot = pd.DataFrame(df_pivot)"
   ]
  },
  {
   "cell_type": "code",
   "execution_count": 187,
   "metadata": {},
   "outputs": [
    {
     "data": {
      "text/plain": [
       "10"
      ]
     },
     "execution_count": 187,
     "metadata": {},
     "output_type": "execute_result"
    }
   ],
   "source": [
    "len(df_pivot)"
   ]
  },
  {
   "cell_type": "code",
   "execution_count": 189,
   "metadata": {},
   "outputs": [
    {
     "data": {
      "text/html": [
       "<div>\n",
       "<table border=\"1\" class=\"dataframe\">\n",
       "  <thead>\n",
       "    <tr style=\"text-align: right;\">\n",
       "      <th></th>\n",
       "      <th>objID</th>\n",
       "      <th>pct</th>\n",
       "    </tr>\n",
       "    <tr>\n",
       "      <th>FormGrundRand</th>\n",
       "      <th></th>\n",
       "      <th></th>\n",
       "    </tr>\n",
       "  </thead>\n",
       "  <tbody>\n",
       "    <tr>\n",
       "      <th>B1</th>\n",
       "      <td>1285</td>\n",
       "      <td>42.395249</td>\n",
       "    </tr>\n",
       "    <tr>\n",
       "      <th>B2</th>\n",
       "      <td>528</td>\n",
       "      <td>17.419993</td>\n",
       "    </tr>\n",
       "    <tr>\n",
       "      <th>A1</th>\n",
       "      <td>332</td>\n",
       "      <td>10.953481</td>\n",
       "    </tr>\n",
       "    <tr>\n",
       "      <th>B3</th>\n",
       "      <td>263</td>\n",
       "      <td>8.677004</td>\n",
       "    </tr>\n",
       "    <tr>\n",
       "      <th>A2</th>\n",
       "      <td>238</td>\n",
       "      <td>7.852194</td>\n",
       "    </tr>\n",
       "    <tr>\n",
       "      <th>A4</th>\n",
       "      <td>152</td>\n",
       "      <td>5.014847</td>\n",
       "    </tr>\n",
       "    <tr>\n",
       "      <th>C3</th>\n",
       "      <td>108</td>\n",
       "      <td>3.563180</td>\n",
       "    </tr>\n",
       "    <tr>\n",
       "      <th>C1</th>\n",
       "      <td>83</td>\n",
       "      <td>2.738370</td>\n",
       "    </tr>\n",
       "    <tr>\n",
       "      <th>A3</th>\n",
       "      <td>33</td>\n",
       "      <td>1.088750</td>\n",
       "    </tr>\n",
       "    <tr>\n",
       "      <th>C2</th>\n",
       "      <td>9</td>\n",
       "      <td>0.296932</td>\n",
       "    </tr>\n",
       "  </tbody>\n",
       "</table>\n",
       "</div>"
      ],
      "text/plain": [
       "               objID        pct\n",
       "FormGrundRand                  \n",
       "B1              1285  42.395249\n",
       "B2               528  17.419993\n",
       "A1               332  10.953481\n",
       "B3               263   8.677004\n",
       "A2               238   7.852194\n",
       "A4               152   5.014847\n",
       "C3               108   3.563180\n",
       "C1                83   2.738370\n",
       "A3                33   1.088750\n",
       "C2                 9   0.296932"
      ]
     },
     "execution_count": 189,
     "metadata": {},
     "output_type": "execute_result"
    }
   ],
   "source": [
    "# df_pivot['objID'] = df_pivot['objID'].apply(lambda x: pd.to_numeric(x, errors='ignore'))\n",
    "df_pivot['pct'] = df_pivot['objID'] / df_pivot['objID'].sum() * 100\n",
    "df_pivot = df_pivot.sort_values(by = 'objID', ascending = False)\n",
    "df_pivot"
   ]
  },
  {
   "cell_type": "code",
   "execution_count": 193,
   "metadata": {},
   "outputs": [
    {
     "data": {
      "text/html": [
       "<div>\n",
       "<table border=\"1\" class=\"dataframe\">\n",
       "  <thead>\n",
       "    <tr style=\"text-align: right;\">\n",
       "      <th></th>\n",
       "      <th>objID</th>\n",
       "      <th>pct</th>\n",
       "    </tr>\n",
       "    <tr>\n",
       "      <th>FormAusrichtungRand</th>\n",
       "      <th></th>\n",
       "      <th></th>\n",
       "    </tr>\n",
       "  </thead>\n",
       "  <tbody>\n",
       "    <tr>\n",
       "      <th>B</th>\n",
       "      <td>2076</td>\n",
       "      <td>68.492247</td>\n",
       "    </tr>\n",
       "    <tr>\n",
       "      <th>A</th>\n",
       "      <td>755</td>\n",
       "      <td>24.909271</td>\n",
       "    </tr>\n",
       "    <tr>\n",
       "      <th>C</th>\n",
       "      <td>200</td>\n",
       "      <td>6.598482</td>\n",
       "    </tr>\n",
       "  </tbody>\n",
       "</table>\n",
       "</div>"
      ],
      "text/plain": [
       "                     objID        pct\n",
       "FormAusrichtungRand                  \n",
       "B                     2076  68.492247\n",
       "A                      755  24.909271\n",
       "C                      200   6.598482"
      ]
     },
     "execution_count": 193,
     "metadata": {},
     "output_type": "execute_result"
    }
   ],
   "source": [
    "# nur Ausrichtung behalten: alles hinter der 1. Stelle abschneiden\n",
    "df['FormAusrichtungRand'] = df['FormRand'].map(lambda x: str(x)[:1])\n",
    "df_pivot = df.pivot_table(values = 'objID', columns = 'FormAusrichtungRand', aggfunc = len)\n",
    "df_pivot = pd.DataFrame(df_pivot)\n",
    "df_pivot['pct'] = df_pivot['objID'] / df_pivot['objID'].sum() * 100\n",
    "df_pivot = df_pivot.sort_values(by = 'objID', ascending = False)\n",
    "df_pivot"
   ]
  },
  {
   "cell_type": "markdown",
   "metadata": {},
   "source": [
    "## Randlippe / Mündung"
   ]
  },
  {
   "cell_type": "code",
   "execution_count": 220,
   "metadata": {},
   "outputs": [],
   "source": [
    "sql = \"\"\"SELECT\n",
    "           t_Obj.objID,\n",
    "           t_Obj.Form_Mdg\n",
    "       FROM (t_Ort INNER JOIN t_Komplex ON t_Ort.ortID = t_Komplex.ortID)\n",
    "           INNER JOIN t_Obj ON t_Komplex.komplexID = t_Obj.komplexID\n",
    "       WHERE (((t_Ort.ort_lit)='DS')\n",
    "           AND ((t_Obj.Form_Mdg) != ''))\"\"\".replace('\\n',' ')\n",
    "\n",
    "df = pd.read_sql(sql, con)"
   ]
  },
  {
   "cell_type": "code",
   "execution_count": 222,
   "metadata": {},
   "outputs": [
    {
     "data": {
      "text/html": [
       "<div>\n",
       "<table border=\"1\" class=\"dataframe\">\n",
       "  <thead>\n",
       "    <tr style=\"text-align: right;\">\n",
       "      <th></th>\n",
       "      <th>objID</th>\n",
       "      <th>pct</th>\n",
       "    </tr>\n",
       "    <tr>\n",
       "      <th>FormMdgGrund</th>\n",
       "      <th></th>\n",
       "      <th></th>\n",
       "    </tr>\n",
       "  </thead>\n",
       "  <tbody>\n",
       "    <tr>\n",
       "      <th>M3</th>\n",
       "      <td>619</td>\n",
       "      <td>26.441692</td>\n",
       "    </tr>\n",
       "    <tr>\n",
       "      <th>M1</th>\n",
       "      <td>503</td>\n",
       "      <td>21.486544</td>\n",
       "    </tr>\n",
       "    <tr>\n",
       "      <th>M2</th>\n",
       "      <td>456</td>\n",
       "      <td>19.478855</td>\n",
       "    </tr>\n",
       "    <tr>\n",
       "      <th>M5</th>\n",
       "      <td>357</td>\n",
       "      <td>15.249893</td>\n",
       "    </tr>\n",
       "    <tr>\n",
       "      <th>M4</th>\n",
       "      <td>315</td>\n",
       "      <td>13.455788</td>\n",
       "    </tr>\n",
       "    <tr>\n",
       "      <th>M6</th>\n",
       "      <td>91</td>\n",
       "      <td>3.887228</td>\n",
       "    </tr>\n",
       "  </tbody>\n",
       "</table>\n",
       "</div>"
      ],
      "text/plain": [
       "              objID        pct\n",
       "FormMdgGrund                  \n",
       "M3              619  26.441692\n",
       "M1              503  21.486544\n",
       "M2              456  19.478855\n",
       "M5              357  15.249893\n",
       "M4              315  13.455788\n",
       "M6               91   3.887228"
      ]
     },
     "execution_count": 222,
     "metadata": {},
     "output_type": "execute_result"
    }
   ],
   "source": [
    "# nur Hauptform behalten: alles hinter der 2. Stelle abschneiden\n",
    "df['FormMdgGrund'] = df['Form_Mdg'].map(lambda x: str(x)[:2])\n",
    "df_pivot = df.pivot_table(values = 'objID', columns = 'FormMdgGrund', aggfunc = len)\n",
    "df_pivot = pd.DataFrame(df_pivot)\n",
    "df_pivot['pct'] = df_pivot['objID'] / df_pivot['objID'].sum() * 100\n",
    "df_pivot = df_pivot.sort_values(by = 'objID', ascending = False)\n",
    "df_pivot"
   ]
  },
  {
   "cell_type": "markdown",
   "metadata": {},
   "source": [
    "## Bodenformen"
   ]
  },
  {
   "cell_type": "markdown",
   "metadata": {},
   "source": [
    "### Anzahl GE mit bestimmter Bodenform"
   ]
  },
  {
   "cell_type": "code",
   "execution_count": 81,
   "metadata": {},
   "outputs": [],
   "source": [
    "sql = \"\"\"SELECT\n",
    "           t_Obj.objID,\n",
    "           t_Obj.Form_Boden\n",
    "       FROM (t_Ort INNER JOIN t_Komplex ON t_Ort.ortID = t_Komplex.ortID)\n",
    "           INNER JOIN t_Obj ON t_Komplex.komplexID = t_Obj.komplexID\n",
    "       WHERE (((t_Ort.ort_lit)='DS')\n",
    "           AND ((t_Obj.Art) = \"K\"))\"\"\".replace('\\n',' ')\n",
    "\n",
    "df = pd.read_sql(sql, con)"
   ]
  },
  {
   "cell_type": "code",
   "execution_count": 82,
   "metadata": {},
   "outputs": [
    {
     "data": {
      "text/html": [
       "<div>\n",
       "<table border=\"1\" class=\"dataframe\">\n",
       "  <thead>\n",
       "    <tr style=\"text-align: right;\">\n",
       "      <th></th>\n",
       "      <th>0</th>\n",
       "      <th>Prozent</th>\n",
       "    </tr>\n",
       "  </thead>\n",
       "  <tbody>\n",
       "    <tr>\n",
       "      <th>bestimmt</th>\n",
       "      <td>343</td>\n",
       "      <td>6.384959</td>\n",
       "    </tr>\n",
       "    <tr>\n",
       "      <th>unbestimmt</th>\n",
       "      <td>5029</td>\n",
       "      <td>93.615041</td>\n",
       "    </tr>\n",
       "  </tbody>\n",
       "</table>\n",
       "</div>"
      ],
      "text/plain": [
       "               0    Prozent\n",
       "bestimmt     343   6.384959\n",
       "unbestimmt  5029  93.615041"
      ]
     },
     "execution_count": 82,
     "metadata": {},
     "output_type": "execute_result"
    }
   ],
   "source": [
    "a = pd.Series({'bestimmt':len(df.loc[~df['Form_Boden'].isnull()]),\n",
    "               'unbestimmt':len(df.loc[df['Form_Boden'].isnull()])})\n",
    "a = pd.DataFrame(a)\n",
    "a['Prozent'] = a[0]/a[0].sum()*100\n",
    "a"
   ]
  },
  {
   "cell_type": "markdown",
   "metadata": {},
   "source": [
    "### Häufigkeiten"
   ]
  },
  {
   "cell_type": "code",
   "execution_count": 93,
   "metadata": {},
   "outputs": [
    {
     "data": {
      "text/html": [
       "<div>\n",
       "<table border=\"1\" class=\"dataframe\">\n",
       "  <thead>\n",
       "    <tr style=\"text-align: right;\">\n",
       "      <th></th>\n",
       "      <th>objID</th>\n",
       "      <th>pct</th>\n",
       "    </tr>\n",
       "    <tr>\n",
       "      <th>Form_Boden</th>\n",
       "      <th></th>\n",
       "      <th></th>\n",
       "    </tr>\n",
       "  </thead>\n",
       "  <tbody>\n",
       "    <tr>\n",
       "      <th>B1</th>\n",
       "      <td>151</td>\n",
       "      <td>48.709677</td>\n",
       "    </tr>\n",
       "    <tr>\n",
       "      <th>B4</th>\n",
       "      <td>75</td>\n",
       "      <td>24.193548</td>\n",
       "    </tr>\n",
       "    <tr>\n",
       "      <th>B2</th>\n",
       "      <td>19</td>\n",
       "      <td>6.129032</td>\n",
       "    </tr>\n",
       "    <tr>\n",
       "      <th>B13</th>\n",
       "      <td>18</td>\n",
       "      <td>5.806452</td>\n",
       "    </tr>\n",
       "    <tr>\n",
       "      <th>B6</th>\n",
       "      <td>17</td>\n",
       "      <td>5.483871</td>\n",
       "    </tr>\n",
       "    <tr>\n",
       "      <th>B11</th>\n",
       "      <td>6</td>\n",
       "      <td>1.935484</td>\n",
       "    </tr>\n",
       "    <tr>\n",
       "      <th>B5</th>\n",
       "      <td>5</td>\n",
       "      <td>1.612903</td>\n",
       "    </tr>\n",
       "    <tr>\n",
       "      <th>B8</th>\n",
       "      <td>5</td>\n",
       "      <td>1.612903</td>\n",
       "    </tr>\n",
       "    <tr>\n",
       "      <th>B3</th>\n",
       "      <td>4</td>\n",
       "      <td>1.290323</td>\n",
       "    </tr>\n",
       "    <tr>\n",
       "      <th>B10</th>\n",
       "      <td>3</td>\n",
       "      <td>0.967742</td>\n",
       "    </tr>\n",
       "    <tr>\n",
       "      <th>B12</th>\n",
       "      <td>3</td>\n",
       "      <td>0.967742</td>\n",
       "    </tr>\n",
       "    <tr>\n",
       "      <th>B15</th>\n",
       "      <td>2</td>\n",
       "      <td>0.645161</td>\n",
       "    </tr>\n",
       "    <tr>\n",
       "      <th>B7</th>\n",
       "      <td>1</td>\n",
       "      <td>0.322581</td>\n",
       "    </tr>\n",
       "    <tr>\n",
       "      <th>B9</th>\n",
       "      <td>1</td>\n",
       "      <td>0.322581</td>\n",
       "    </tr>\n",
       "  </tbody>\n",
       "</table>\n",
       "</div>"
      ],
      "text/plain": [
       "            objID        pct\n",
       "Form_Boden                  \n",
       "B1            151  48.709677\n",
       "B4             75  24.193548\n",
       "B2             19   6.129032\n",
       "B13            18   5.806452\n",
       "B6             17   5.483871\n",
       "B11             6   1.935484\n",
       "B5              5   1.612903\n",
       "B8              5   1.612903\n",
       "B3              4   1.290323\n",
       "B10             3   0.967742\n",
       "B12             3   0.967742\n",
       "B15             2   0.645161\n",
       "B7              1   0.322581\n",
       "B9              1   0.322581"
      ]
     },
     "execution_count": 93,
     "metadata": {},
     "output_type": "execute_result"
    }
   ],
   "source": [
    "sql = \"\"\"SELECT\n",
    "           t_Obj.objID,\n",
    "           t_Obj.Form_Boden\n",
    "       FROM (t_Ort INNER JOIN t_Komplex ON t_Ort.ortID = t_Komplex.ortID)\n",
    "           INNER JOIN t_Obj ON t_Komplex.komplexID = t_Obj.komplexID\n",
    "       WHERE (((t_Ort.ort_lit)='DS')\n",
    "           AND ((t_Obj.Form_Boden) != '')\n",
    "           AND ((t_Obj.Form_Boden) Not Like '%/%')\n",
    "           AND ((t_Obj.Form_Boden) Not Like '% (?)%'))\"\"\".replace('\\n',' ')\n",
    "\n",
    "df = pd.read_sql(sql, con)\n",
    "\n",
    "df_pivot = df.pivot_table(values = 'objID', columns = 'Form_Boden', aggfunc = len, fill_value = '')\n",
    "df_pivot = pd.DataFrame(df_pivot)\n",
    "df_pivot['pct'] = df_pivot/df_pivot.sum()*100\n",
    "df_pivot.sort_values(by = 'pct',ascending = False)"
   ]
  },
  {
   "cell_type": "code",
   "execution_count": 95,
   "metadata": {},
   "outputs": [
    {
     "data": {
      "text/plain": [
       "14"
      ]
     },
     "execution_count": 95,
     "metadata": {},
     "output_type": "execute_result"
    }
   ],
   "source": [
    "len(df_pivot)"
   ]
  },
  {
   "cell_type": "markdown",
   "metadata": {},
   "source": [
    "## Sicher bestimmte Bodentypen von sicher bestimmten Stilgruppen"
   ]
  },
  {
   "cell_type": "code",
   "execution_count": 2,
   "metadata": {},
   "outputs": [
    {
     "data": {
      "text/html": [
       "<div>\n",
       "<table border=\"1\" class=\"dataframe\">\n",
       "  <thead>\n",
       "    <tr style=\"text-align: right;\">\n",
       "      <th>Form_Boden</th>\n",
       "      <th>B1</th>\n",
       "      <th>B11</th>\n",
       "      <th>B13</th>\n",
       "      <th>B2</th>\n",
       "      <th>B4</th>\n",
       "      <th>B5</th>\n",
       "      <th>B6</th>\n",
       "      <th>B8</th>\n",
       "    </tr>\n",
       "    <tr>\n",
       "      <th>Typ</th>\n",
       "      <th></th>\n",
       "      <th></th>\n",
       "      <th></th>\n",
       "      <th></th>\n",
       "      <th></th>\n",
       "      <th></th>\n",
       "      <th></th>\n",
       "      <th></th>\n",
       "    </tr>\n",
       "  </thead>\n",
       "  <tbody>\n",
       "    <tr>\n",
       "      <th>BAN</th>\n",
       "      <td>1</td>\n",
       "      <td></td>\n",
       "      <td></td>\n",
       "      <td></td>\n",
       "      <td>1</td>\n",
       "      <td>1</td>\n",
       "      <td></td>\n",
       "      <td></td>\n",
       "    </tr>\n",
       "    <tr>\n",
       "      <th>BBS</th>\n",
       "      <td>1</td>\n",
       "      <td></td>\n",
       "      <td></td>\n",
       "      <td></td>\n",
       "      <td></td>\n",
       "      <td></td>\n",
       "      <td>1</td>\n",
       "      <td></td>\n",
       "    </tr>\n",
       "    <tr>\n",
       "      <th>BRU</th>\n",
       "      <td></td>\n",
       "      <td></td>\n",
       "      <td></td>\n",
       "      <td></td>\n",
       "      <td>1</td>\n",
       "      <td></td>\n",
       "      <td></td>\n",
       "      <td></td>\n",
       "    </tr>\n",
       "    <tr>\n",
       "      <th>BTM</th>\n",
       "      <td></td>\n",
       "      <td>1</td>\n",
       "      <td></td>\n",
       "      <td>2</td>\n",
       "      <td>6</td>\n",
       "      <td>1</td>\n",
       "      <td></td>\n",
       "      <td></td>\n",
       "    </tr>\n",
       "    <tr>\n",
       "      <th>DAM</th>\n",
       "      <td>7</td>\n",
       "      <td></td>\n",
       "      <td></td>\n",
       "      <td></td>\n",
       "      <td>1</td>\n",
       "      <td></td>\n",
       "      <td>1</td>\n",
       "      <td></td>\n",
       "    </tr>\n",
       "    <tr>\n",
       "      <th>DON</th>\n",
       "      <td></td>\n",
       "      <td></td>\n",
       "      <td></td>\n",
       "      <td>1</td>\n",
       "      <td></td>\n",
       "      <td></td>\n",
       "      <td></td>\n",
       "      <td></td>\n",
       "    </tr>\n",
       "    <tr>\n",
       "      <th>EBA</th>\n",
       "      <td>2</td>\n",
       "      <td></td>\n",
       "      <td>1</td>\n",
       "      <td>1</td>\n",
       "      <td>7</td>\n",
       "      <td></td>\n",
       "      <td>11</td>\n",
       "      <td></td>\n",
       "    </tr>\n",
       "    <tr>\n",
       "      <th>EPE</th>\n",
       "      <td>2</td>\n",
       "      <td></td>\n",
       "      <td>1</td>\n",
       "      <td>1</td>\n",
       "      <td>19</td>\n",
       "      <td>1</td>\n",
       "      <td>1</td>\n",
       "      <td>1</td>\n",
       "    </tr>\n",
       "    <tr>\n",
       "      <th>KPT</th>\n",
       "      <td>1</td>\n",
       "      <td></td>\n",
       "      <td></td>\n",
       "      <td></td>\n",
       "      <td></td>\n",
       "      <td></td>\n",
       "      <td></td>\n",
       "      <td></td>\n",
       "    </tr>\n",
       "    <tr>\n",
       "      <th>MBJ</th>\n",
       "      <td>1</td>\n",
       "      <td></td>\n",
       "      <td></td>\n",
       "      <td></td>\n",
       "      <td></td>\n",
       "      <td></td>\n",
       "      <td></td>\n",
       "      <td></td>\n",
       "    </tr>\n",
       "    <tr>\n",
       "      <th>MKA</th>\n",
       "      <td>11</td>\n",
       "      <td></td>\n",
       "      <td></td>\n",
       "      <td>2</td>\n",
       "      <td></td>\n",
       "      <td></td>\n",
       "      <td></td>\n",
       "      <td></td>\n",
       "    </tr>\n",
       "    <tr>\n",
       "      <th>MKL</th>\n",
       "      <td></td>\n",
       "      <td></td>\n",
       "      <td></td>\n",
       "      <td></td>\n",
       "      <td>1</td>\n",
       "      <td></td>\n",
       "      <td></td>\n",
       "      <td></td>\n",
       "    </tr>\n",
       "    <tr>\n",
       "      <th>MTB</th>\n",
       "      <td>2</td>\n",
       "      <td></td>\n",
       "      <td></td>\n",
       "      <td></td>\n",
       "      <td></td>\n",
       "      <td></td>\n",
       "      <td></td>\n",
       "      <td></td>\n",
       "    </tr>\n",
       "    <tr>\n",
       "      <th>NGO</th>\n",
       "      <td>10</td>\n",
       "      <td></td>\n",
       "      <td></td>\n",
       "      <td></td>\n",
       "      <td></td>\n",
       "      <td></td>\n",
       "      <td></td>\n",
       "      <td></td>\n",
       "    </tr>\n",
       "    <tr>\n",
       "      <th>PDM</th>\n",
       "      <td>4</td>\n",
       "      <td></td>\n",
       "      <td></td>\n",
       "      <td>1</td>\n",
       "      <td></td>\n",
       "      <td></td>\n",
       "      <td></td>\n",
       "      <td></td>\n",
       "    </tr>\n",
       "    <tr>\n",
       "      <th>PKM</th>\n",
       "      <td>41</td>\n",
       "      <td></td>\n",
       "      <td></td>\n",
       "      <td>2</td>\n",
       "      <td></td>\n",
       "      <td></td>\n",
       "      <td></td>\n",
       "      <td></td>\n",
       "    </tr>\n",
       "  </tbody>\n",
       "</table>\n",
       "</div>"
      ],
      "text/plain": [
       "Form_Boden  B1 B11 B13 B2  B4 B5  B6 B8\n",
       "Typ                                    \n",
       "BAN          1              1  1       \n",
       "BBS          1                     1   \n",
       "BRU                         1          \n",
       "BTM              1      2   6  1       \n",
       "DAM          7              1      1   \n",
       "DON                     1              \n",
       "EBA          2       1  1   7     11   \n",
       "EPE          2       1  1  19  1   1  1\n",
       "KPT          1                         \n",
       "MBJ          1                         \n",
       "MKA         11          2              \n",
       "MKL                         1          \n",
       "MTB          2                         \n",
       "NGO         10                         \n",
       "PDM          4          1              \n",
       "PKM         41          2              "
      ]
     },
     "execution_count": 2,
     "metadata": {},
     "output_type": "execute_result"
    }
   ],
   "source": [
    "sql = \"\"\"SELECT\n",
    "           t_Ort.ort_kurz,\n",
    "           t_Ort.ort_name,\n",
    "           t_Obj.objID,\n",
    "           t_Obj.Typ,\n",
    "           t_Obj.Form_Boden,\n",
    "           t_Obj.Form_Gef\n",
    "       FROM (t_Ort INNER JOIN t_Komplex ON t_Ort.ortID = t_Komplex.ortID)\n",
    "           INNER JOIN t_Obj ON t_Komplex.komplexID = t_Obj.komplexID\n",
    "       WHERE (((t_Ort.ort_lit)='DS')\n",
    "           AND ((t_Obj.Form_Boden) != '')\n",
    "           AND ((t_Obj.Form_Boden) Not Like '%/%')\n",
    "           AND ((t_Obj.Form_Boden) Not Like '% (?)%')\n",
    "           AND ((t_Obj.Typ) Not Like '% (?)%')\n",
    "           AND ((t_Obj.Typ) Not Like '%/%')\n",
    "           AND ((t_Obj.Typ) != ''))\"\"\".replace('\\n',' ')\n",
    "\n",
    "df = pd.read_sql(sql, con)\n",
    "\n",
    "df_pivot = df.pivot_table(values = 'objID', index = 'Typ', columns = 'Form_Boden', aggfunc = len, fill_value = '')\n",
    "#df_pivot = df_pivot.reset_index()\n",
    "#df_pivot = df_pivot.set_index(['Typ'])\n",
    "df_pivot"
   ]
  },
  {
   "cell_type": "code",
   "execution_count": 3,
   "metadata": {
    "collapsed": true
   },
   "outputs": [],
   "source": [
    "df_pivot = df_pivot.replace('', np.nan, regex = True)"
   ]
  },
  {
   "cell_type": "code",
   "execution_count": 4,
   "metadata": {},
   "outputs": [
    {
     "data": {
      "image/png": "[encoded data removed]",
      "text/plain": [
       "<matplotlib.figure.Figure at 0x9a9d5f8>"
      ]
     },
     "metadata": {},
     "output_type": "display_data"
    }
   ],
   "source": [
    "df_pivot = df_pivot.transpose()\n",
    "plt.imshow(df_pivot, interpolation='nearest', cmap='Spectral_r')\n",
    "plt.yticks(range(len(df_pivot.index)), df_pivot.index)\n",
    "plt.xticks(range(len(df_pivot.columns)), df_pivot.columns, rotation='vertical')\n",
    "plt.colorbar(orientation='horizontal')\n",
    "plt.show()"
   ]
  },
  {
   "cell_type": "markdown",
   "metadata": {},
   "source": [
    "## Boden == B11"
   ]
  },
  {
   "cell_type": "code",
   "execution_count": 3,
   "metadata": {},
   "outputs": [
    {
     "data": {
      "text/html": [
       "<div>\n",
       "<table border=\"1\" class=\"dataframe\">\n",
       "  <thead>\n",
       "    <tr style=\"text-align: right;\">\n",
       "      <th></th>\n",
       "      <th>ort_kurz</th>\n",
       "      <th>ort_name</th>\n",
       "      <th>objID</th>\n",
       "      <th>Typ</th>\n",
       "      <th>Form_Mdg</th>\n",
       "      <th>Form_Rand</th>\n",
       "      <th>Form_Hals</th>\n",
       "      <th>Form_Schulter</th>\n",
       "      <th>Form_Bauch</th>\n",
       "      <th>Form_Boden</th>\n",
       "      <th>Form_Gef</th>\n",
       "    </tr>\n",
       "  </thead>\n",
       "  <tbody>\n",
       "    <tr>\n",
       "      <th>0</th>\n",
       "      <td>BLK</td>\n",
       "      <td>Boleko</td>\n",
       "      <td>1470</td>\n",
       "      <td>BOT (?)</td>\n",
       "      <td>M3</td>\n",
       "      <td>R7c alt</td>\n",
       "      <td></td>\n",
       "      <td></td>\n",
       "      <td>B1/D1</td>\n",
       "      <td>B11</td>\n",
       "      <td>G2g</td>\n",
       "    </tr>\n",
       "    <tr>\n",
       "      <th>1</th>\n",
       "      <td>INS</td>\n",
       "      <td>Inyenge</td>\n",
       "      <td>4663</td>\n",
       "      <td>None</td>\n",
       "      <td></td>\n",
       "      <td>None</td>\n",
       "      <td></td>\n",
       "      <td></td>\n",
       "      <td></td>\n",
       "      <td>B11</td>\n",
       "      <td></td>\n",
       "    </tr>\n",
       "    <tr>\n",
       "      <th>2</th>\n",
       "      <td>KOU</td>\n",
       "      <td>Kouango</td>\n",
       "      <td>5472</td>\n",
       "      <td>None</td>\n",
       "      <td></td>\n",
       "      <td>None</td>\n",
       "      <td></td>\n",
       "      <td></td>\n",
       "      <td>A1 (?)</td>\n",
       "      <td>B11</td>\n",
       "      <td></td>\n",
       "    </tr>\n",
       "    <tr>\n",
       "      <th>3</th>\n",
       "      <td>KOU</td>\n",
       "      <td>Kouango</td>\n",
       "      <td>5473</td>\n",
       "      <td>None</td>\n",
       "      <td></td>\n",
       "      <td>None</td>\n",
       "      <td></td>\n",
       "      <td></td>\n",
       "      <td>A1 (?)</td>\n",
       "      <td>B11</td>\n",
       "      <td></td>\n",
       "    </tr>\n",
       "    <tr>\n",
       "      <th>4</th>\n",
       "      <td>KOU</td>\n",
       "      <td>Kouango</td>\n",
       "      <td>5474</td>\n",
       "      <td>None</td>\n",
       "      <td></td>\n",
       "      <td>None</td>\n",
       "      <td></td>\n",
       "      <td></td>\n",
       "      <td>A1 (?)</td>\n",
       "      <td>B11</td>\n",
       "      <td></td>\n",
       "    </tr>\n",
       "    <tr>\n",
       "      <th>5</th>\n",
       "      <td>MKL</td>\n",
       "      <td>Mokelo</td>\n",
       "      <td>5596</td>\n",
       "      <td>BTM</td>\n",
       "      <td></td>\n",
       "      <td>None</td>\n",
       "      <td></td>\n",
       "      <td></td>\n",
       "      <td>A1</td>\n",
       "      <td>B11</td>\n",
       "      <td></td>\n",
       "    </tr>\n",
       "  </tbody>\n",
       "</table>\n",
       "</div>"
      ],
      "text/plain": [
       "  ort_kurz ort_name  objID      Typ Form_Mdg Form_Rand Form_Hals  \\\n",
       "0      BLK   Boleko   1470  BOT (?)       M3   R7c alt             \n",
       "1      INS  Inyenge   4663     None               None             \n",
       "2      KOU  Kouango   5472     None               None             \n",
       "3      KOU  Kouango   5473     None               None             \n",
       "4      KOU  Kouango   5474     None               None             \n",
       "5      MKL   Mokelo   5596      BTM               None             \n",
       "\n",
       "  Form_Schulter Form_Bauch Form_Boden Form_Gef  \n",
       "0                    B1/D1        B11      G2g  \n",
       "1                                 B11           \n",
       "2                   A1 (?)        B11           \n",
       "3                   A1 (?)        B11           \n",
       "4                   A1 (?)        B11           \n",
       "5                       A1        B11           "
      ]
     },
     "metadata": {},
     "output_type": "display_data"
    }
   ],
   "source": [
    "sql = \"\"\"SELECT\n",
    "           t_Ort.ort_kurz,\n",
    "           t_Ort.ort_name,\n",
    "           t_Obj.objID,\n",
    "           t_Obj.Typ,\n",
    "           t_Obj.Form_Mdg,\n",
    "           t_Obj.Form_Rand,\n",
    "           t_Obj.Form_Hals,\n",
    "           t_Obj.Form_Schulter,\n",
    "           t_Obj.Form_Bauch,\n",
    "           t_Obj.Form_Boden,\n",
    "           t_Obj.Form_Gef\n",
    "       FROM (t_Ort INNER JOIN t_Komplex ON t_Ort.ortID = t_Komplex.ortID)\n",
    "           INNER JOIN t_Obj ON t_Komplex.komplexID = t_Obj.komplexID\n",
    "       WHERE (((t_Ort.ort_lit)='DS')\n",
    "           AND ((t_Obj.Form_Boden) Like '%B11%'))\"\"\".replace('\\n',' ')\n",
    "\n",
    "df = pd.read_sql(sql, con)\n",
    "\n",
    "display(df)"
   ]
  },
  {
   "cell_type": "code",
   "execution_count": 4,
   "metadata": {},
   "outputs": [
    {
     "data": {
      "text/plain": [
       "Form_Boden\n",
       "B11    6\n",
       "Name: objID, dtype: int64"
      ]
     },
     "execution_count": 4,
     "metadata": {},
     "output_type": "execute_result"
    }
   ],
   "source": [
    "df_pivot = df.pivot_table(values = 'objID', index = 'Form_Boden', aggfunc = len)\n",
    "df_pivot"
   ]
  },
  {
   "cell_type": "markdown",
   "metadata": {
    "collapsed": true
   },
   "source": [
    "## Boden == B15"
   ]
  },
  {
   "cell_type": "code",
   "execution_count": 2,
   "metadata": {},
   "outputs": [
    {
     "data": {
      "text/html": [
       "<div>\n",
       "<table border=\"1\" class=\"dataframe\">\n",
       "  <thead>\n",
       "    <tr style=\"text-align: right;\">\n",
       "      <th></th>\n",
       "      <th>ort_kurz</th>\n",
       "      <th>ort_name</th>\n",
       "      <th>objID</th>\n",
       "      <th>Typ</th>\n",
       "      <th>Form_Mdg</th>\n",
       "      <th>Form_Rand</th>\n",
       "      <th>Form_Hals</th>\n",
       "      <th>Form_Schulter</th>\n",
       "      <th>Form_Bauch</th>\n",
       "      <th>Form_Boden</th>\n",
       "      <th>Form_Gef</th>\n",
       "    </tr>\n",
       "  </thead>\n",
       "  <tbody>\n",
       "    <tr>\n",
       "      <th>0</th>\n",
       "      <td>LKK</td>\n",
       "      <td>Lokekya</td>\n",
       "      <td>204</td>\n",
       "      <td>BKW (?)</td>\n",
       "      <td>M6/M1</td>\n",
       "      <td>A1</td>\n",
       "      <td></td>\n",
       "      <td></td>\n",
       "      <td>B1/E1/A1</td>\n",
       "      <td>B15</td>\n",
       "      <td>G2 (?)</td>\n",
       "    </tr>\n",
       "    <tr>\n",
       "      <th>1</th>\n",
       "      <td>BKW</td>\n",
       "      <td>Bokwango</td>\n",
       "      <td>1469</td>\n",
       "      <td>BKW</td>\n",
       "      <td>M1</td>\n",
       "      <td>B1.1</td>\n",
       "      <td>X</td>\n",
       "      <td>A1</td>\n",
       "      <td>D2</td>\n",
       "      <td>B15</td>\n",
       "      <td>None</td>\n",
       "    </tr>\n",
       "  </tbody>\n",
       "</table>\n",
       "</div>"
      ],
      "text/plain": [
       "  ort_kurz  ort_name  objID      Typ Form_Mdg Form_Rand Form_Hals  \\\n",
       "0      LKK   Lokekya    204  BKW (?)    M6/M1        A1             \n",
       "1      BKW  Bokwango   1469      BKW       M1      B1.1         X   \n",
       "\n",
       "  Form_Schulter Form_Bauch Form_Boden Form_Gef  \n",
       "0                 B1/E1/A1        B15   G2 (?)  \n",
       "1            A1         D2        B15     None  "
      ]
     },
     "metadata": {},
     "output_type": "display_data"
    }
   ],
   "source": [
    "sql = \"\"\"SELECT\n",
    "           t_Ort.ort_kurz,\n",
    "           t_Ort.ort_name,\n",
    "           t_Obj.objID,\n",
    "           t_Obj.Typ,\n",
    "           t_Obj.Form_Mdg,\n",
    "           t_Obj.Form_Rand,\n",
    "           t_Obj.Form_Hals,\n",
    "           t_Obj.Form_Schulter,\n",
    "           t_Obj.Form_Bauch,\n",
    "           t_Obj.Form_Boden,\n",
    "           t_Obj.Form_Gef\n",
    "       FROM (t_Ort INNER JOIN t_Komplex ON t_Ort.ortID = t_Komplex.ortID)\n",
    "           INNER JOIN t_Obj ON t_Komplex.komplexID = t_Obj.komplexID\n",
    "       WHERE (((t_Ort.ort_lit)='DS')\n",
    "           AND ((t_Obj.Form_Boden) Like '%B15%'))\"\"\".replace('\\n',' ')\n",
    "\n",
    "df = pd.read_sql(sql, con)\n",
    "\n",
    "display(df)"
   ]
  },
  {
   "cell_type": "code",
   "execution_count": null,
   "metadata": {
    "collapsed": true
   },
   "outputs": [],
   "source": []
  }
 ],
 "metadata": {
  "anaconda-cloud": {},
  "kernelspec": {
   "display_name": "Python 3",
   "language": "python",
   "name": "python3"
  },
  "language_info": {
   "codemirror_mode": {
    "name": "ipython",
    "version": 3
   },
   "file_extension": ".py",
   "mimetype": "text/x-python",
   "name": "python",
   "nbconvert_exporter": "python",
   "pygments_lexer": "ipython3",
   "version": "3.6.1"
  }
 },
 "nbformat": 4,
 "nbformat_minor": 1
}
