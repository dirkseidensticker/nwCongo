{
 "cells": [
  {
   "cell_type": "markdown",
   "metadata": {},
   "source": [
    "# Katalog B: Fundortverzeichnis (Anlage)\n",
    "\n",
    "siehe Saev 2015:182--203 Anlage 1"
   ]
  },
  {
   "cell_type": "code",
   "execution_count": 3,
   "metadata": {
    "collapsed": true
   },
   "outputs": [],
   "source": [
    "%matplotlib inline\n",
    "from IPython.display import display\n",
    "import pandas as pd\n",
    "import numpy as np\n",
    "import matplotlib.pyplot as plt\n",
    "from mpl_toolkits.axes_grid1 import make_axes_locatable\n",
    "import sqlite3\n",
    "\n",
    "import sys, os\n",
    "sys.path.append(\"/Python\")\n",
    "from myfunctions import *\n",
    "from parula import *\n",
    "\n",
    "con = sqlite3.connect(\"../data/CongoDB.sqlite\")"
   ]
  },
  {
   "cell_type": "code",
   "execution_count": 4,
   "metadata": {},
   "outputs": [
    {
     "data": {
      "text/html": [
       "<div>\n",
       "<style>\n",
       "    .dataframe thead tr:only-child th {\n",
       "        text-align: right;\n",
       "    }\n",
       "\n",
       "    .dataframe thead th {\n",
       "        text-align: left;\n",
       "    }\n",
       "\n",
       "    .dataframe tbody tr th {\n",
       "        vertical-align: top;\n",
       "    }\n",
       "</style>\n",
       "<table border=\"1\" class=\"dataframe\">\n",
       "  <thead>\n",
       "    <tr style=\"text-align: right;\">\n",
       "      <th></th>\n",
       "      <th>Kat.-Nr.</th>\n",
       "      <th>Fundort</th>\n",
       "      <th>Breite (WGS 84)</th>\n",
       "      <th>Länge (WGS 84)</th>\n",
       "    </tr>\n",
       "  </thead>\n",
       "  <tbody>\n",
       "    <tr>\n",
       "      <th>0</th>\n",
       "      <td>186</td>\n",
       "      <td>Bruxelles-Nganda</td>\n",
       "      <td>-0.3775</td>\n",
       "      <td>17.7205</td>\n",
       "    </tr>\n",
       "    <tr>\n",
       "      <th>1</th>\n",
       "      <td>187</td>\n",
       "      <td>Nsele-Nganda</td>\n",
       "      <td>-0.3580</td>\n",
       "      <td>17.7203</td>\n",
       "    </tr>\n",
       "    <tr>\n",
       "      <th>2</th>\n",
       "      <td>188</td>\n",
       "      <td>Lokekya</td>\n",
       "      <td>-0.2126</td>\n",
       "      <td>17.6824</td>\n",
       "    </tr>\n",
       "    <tr>\n",
       "      <th>3</th>\n",
       "      <td>189</td>\n",
       "      <td>Bobangi</td>\n",
       "      <td>-0.1089</td>\n",
       "      <td>17.7222</td>\n",
       "    </tr>\n",
       "    <tr>\n",
       "      <th>4</th>\n",
       "      <td>190</td>\n",
       "      <td>Bokwango</td>\n",
       "      <td>0.1028</td>\n",
       "      <td>17.7805</td>\n",
       "    </tr>\n",
       "  </tbody>\n",
       "</table>\n",
       "</div>"
      ],
      "text/plain": [
       "  Kat.-Nr.           Fundort  Breite (WGS 84)  Länge (WGS 84)\n",
       "0      186  Bruxelles-Nganda          -0.3775         17.7205\n",
       "1      187      Nsele-Nganda          -0.3580         17.7203\n",
       "2      188           Lokekya          -0.2126         17.6824\n",
       "3      189           Bobangi          -0.1089         17.7222\n",
       "4      190          Bokwango           0.1028         17.7805"
      ]
     },
     "execution_count": 4,
     "metadata": {},
     "output_type": "execute_result"
    }
   ],
   "source": [
    "sql = \"\"\"SELECT\n",
    "           't_Ort'.'Kat-Nr' AS 'Kat.-Nr.',\n",
    "           t_Ort.ort_name AS Fundort, \n",
    "           t_Ort.y_lat AS 'Breite (WGS 84)',\n",
    "           t_Ort.x_long AS 'Länge (WGS 84)'\n",
    "       FROM t_Ort\n",
    "       WHERE (((t_Ort.ort_lit) ='DS')\n",
    "           AND ((t_Ort.ort_name) NOT LIKE '%?%')\n",
    "           AND (('t_Ort'.'Kat-Nr') != ''))\n",
    "       ORDER BY 't_Ort'.'Kat-Nr'\"\"\".replace('\\n',' ')\n",
    "\n",
    "df = pd.read_sql(sql, con)\n",
    "\n",
    "df['Breite (WGS 84)'] = round(df['Breite (WGS 84)'], 4)\n",
    "df['Länge (WGS 84)'] = round(df['Länge (WGS 84)'], 4)\n",
    "\n",
    "df.to_latex('../output/tabs/Kat-B_Fundstellenverzeichnis.tex', longtable = True, escape = False, index=False)\n",
    "df.head()"
   ]
  },
  {
   "cell_type": "code",
   "execution_count": 5,
   "metadata": {},
   "outputs": [
    {
     "data": {
      "text/plain": [
       "\"0º 21' 28.8'' \""
      ]
     },
     "execution_count": 5,
     "metadata": {},
     "output_type": "execute_result"
    }
   ],
   "source": [
    "decimalDegrees2DMS(df.iloc[1]['Breite (WGS 84)'], 'Latitude')"
   ]
  },
  {
   "cell_type": "markdown",
   "metadata": {},
   "source": []
  },
  {
   "cell_type": "code",
   "execution_count": 6,
   "metadata": {},
   "outputs": [
    {
     "data": {
      "text/html": [
       "<div>\n",
       "<style>\n",
       "    .dataframe thead tr:only-child th {\n",
       "        text-align: right;\n",
       "    }\n",
       "\n",
       "    .dataframe thead th {\n",
       "        text-align: left;\n",
       "    }\n",
       "\n",
       "    .dataframe tbody tr th {\n",
       "        vertical-align: top;\n",
       "    }\n",
       "</style>\n",
       "<table border=\"1\" class=\"dataframe\">\n",
       "  <thead>\n",
       "    <tr style=\"text-align: right;\">\n",
       "      <th></th>\n",
       "      <th>Kat.-Nr.</th>\n",
       "      <th>Fundort</th>\n",
       "      <th>Breite (WGS 84)</th>\n",
       "      <th>Länge (WGS 84)</th>\n",
       "    </tr>\n",
       "  </thead>\n",
       "  <tbody>\n",
       "    <tr>\n",
       "      <th>0</th>\n",
       "      <td>1</td>\n",
       "      <td>Bondongo-Losombo</td>\n",
       "      <td>-0.9833</td>\n",
       "      <td>18.7000</td>\n",
       "    </tr>\n",
       "    <tr>\n",
       "      <th>1</th>\n",
       "      <td>10</td>\n",
       "      <td>Mbandaka</td>\n",
       "      <td>0.0477</td>\n",
       "      <td>18.2562</td>\n",
       "    </tr>\n",
       "    <tr>\n",
       "      <th>2</th>\n",
       "      <td>100</td>\n",
       "      <td>Esangaonje</td>\n",
       "      <td>-0.4425</td>\n",
       "      <td>21.5521</td>\n",
       "    </tr>\n",
       "    <tr>\n",
       "      <th>3</th>\n",
       "      <td>101</td>\n",
       "      <td>Wema</td>\n",
       "      <td>-0.4797</td>\n",
       "      <td>21.6358</td>\n",
       "    </tr>\n",
       "    <tr>\n",
       "      <th>4</th>\n",
       "      <td>102</td>\n",
       "      <td>Nkoma</td>\n",
       "      <td>-0.5120</td>\n",
       "      <td>21.7524</td>\n",
       "    </tr>\n",
       "  </tbody>\n",
       "</table>\n",
       "</div>"
      ],
      "text/plain": [
       "  Kat.-Nr.           Fundort  Breite (WGS 84)  Länge (WGS 84)\n",
       "0        1  Bondongo-Losombo          -0.9833         18.7000\n",
       "1       10          Mbandaka           0.0477         18.2562\n",
       "2      100        Esangaonje          -0.4425         21.5521\n",
       "3      101              Wema          -0.4797         21.6358\n",
       "4      102             Nkoma          -0.5120         21.7524"
      ]
     },
     "execution_count": 6,
     "metadata": {},
     "output_type": "execute_result"
    }
   ],
   "source": [
    "sql = \"\"\"SELECT\n",
    "           't_Ort'.'Kat-Nr' AS 'Kat.-Nr.',\n",
    "           t_Ort.ort_name AS Fundort, \n",
    "           t_Ort.y_lat AS 'Breite (WGS 84)',\n",
    "           t_Ort.x_long AS 'Länge (WGS 84)'\n",
    "       FROM t_Ort\n",
    "       WHERE (((t_Ort.ort_lit) LIKE '%Wotzka%')\n",
    "           AND ((t_Ort.ort_name) NOT LIKE '%?%')\n",
    "           AND (('t_Ort'.'Kat-Nr') != ''))\n",
    "       ORDER BY 't_Ort'.'Kat-Nr'\"\"\".replace('\\n',' ')\n",
    "\n",
    "df = pd.read_sql(sql, con)\n",
    "\n",
    "df['Breite (WGS 84)'] = round(df['Breite (WGS 84)'], 4)\n",
    "df['Länge (WGS 84)'] = round(df['Länge (WGS 84)'], 4)\n",
    "\n",
    "df.to_latex('../output/tabs/Kat-B_Fundstellenverzeichnis_Wotzka1995.tex', longtable = True, escape = False, index=False)\n",
    "df.head()"
   ]
  },
  {
   "cell_type": "code",
   "execution_count": 10,
   "metadata": {},
   "outputs": [
    {
     "data": {
      "text/html": [
       "<div>\n",
       "<style>\n",
       "    .dataframe thead tr:only-child th {\n",
       "        text-align: right;\n",
       "    }\n",
       "\n",
       "    .dataframe thead th {\n",
       "        text-align: left;\n",
       "    }\n",
       "\n",
       "    .dataframe tbody tr th {\n",
       "        vertical-align: top;\n",
       "    }\n",
       "</style>\n",
       "<table border=\"1\" class=\"dataframe\">\n",
       "  <thead>\n",
       "    <tr style=\"text-align: right;\">\n",
       "      <th></th>\n",
       "      <th>Kat.-Nr.</th>\n",
       "      <th>Fundort</th>\n",
       "      <th>Breite (WGS 84)</th>\n",
       "      <th>Länge (WGS 84)</th>\n",
       "    </tr>\n",
       "  </thead>\n",
       "  <tbody>\n",
       "    <tr>\n",
       "      <th>0</th>\n",
       "      <td>None</td>\n",
       "      <td>Engengele</td>\n",
       "      <td>2.0939</td>\n",
       "      <td>22.6722</td>\n",
       "    </tr>\n",
       "    <tr>\n",
       "      <th>1</th>\n",
       "      <td>None</td>\n",
       "      <td>Moenge</td>\n",
       "      <td>2.0501</td>\n",
       "      <td>22.8649</td>\n",
       "    </tr>\n",
       "    <tr>\n",
       "      <th>2</th>\n",
       "      <td>None</td>\n",
       "      <td>Bomane Yangwa</td>\n",
       "      <td>1.3028</td>\n",
       "      <td>23.8174</td>\n",
       "    </tr>\n",
       "    <tr>\n",
       "      <th>3</th>\n",
       "      <td>None</td>\n",
       "      <td>Yantshambi II</td>\n",
       "      <td>0.7255</td>\n",
       "      <td>24.2184</td>\n",
       "    </tr>\n",
       "    <tr>\n",
       "      <th>4</th>\n",
       "      <td>None</td>\n",
       "      <td>Ilambi Moke</td>\n",
       "      <td>0.6494</td>\n",
       "      <td>24.2304</td>\n",
       "    </tr>\n",
       "  </tbody>\n",
       "</table>\n",
       "</div>"
      ],
      "text/plain": [
       "  Kat.-Nr.        Fundort  Breite (WGS 84)  Länge (WGS 84)\n",
       "0     None      Engengele           2.0939         22.6722\n",
       "1     None         Moenge           2.0501         22.8649\n",
       "2     None  Bomane Yangwa           1.3028         23.8174\n",
       "3     None  Yantshambi II           0.7255         24.2184\n",
       "4     None    Ilambi Moke           0.6494         24.2304"
      ]
     },
     "execution_count": 10,
     "metadata": {},
     "output_type": "execute_result"
    }
   ],
   "source": [
    "sql = \"\"\"SELECT\n",
    "           't_Ort'.'Kat-Nr' AS 'Kat.-Nr.',\n",
    "           t_Ort.ort_name AS Fundort, \n",
    "           t_Ort.y_lat AS 'Breite (WGS 84)',\n",
    "           t_Ort.x_long AS 'Länge (WGS 84)'\n",
    "       FROM t_Ort\n",
    "       WHERE (((t_Ort.ort_lit) LIKE'%LivingstoneSmith.2017%')\n",
    "           AND ((t_Ort.ort_name) NOT LIKE '%?%'))\n",
    "       ORDER BY t_Ort.x_long\"\"\".replace('\\n',' ')\n",
    "\n",
    "df = pd.read_sql(sql, con)\n",
    "\n",
    "df['Breite (WGS 84)'] = round(df['Breite (WGS 84)'], 4)\n",
    "df['Länge (WGS 84)'] = round(df['Länge (WGS 84)'], 4)\n",
    "\n",
    "df.to_latex('../output/tabs/Kat-B_Fundstellenverzeichnis_LivingstoneSmith.2017.tex', longtable = True, escape = False, index=False)\n",
    "df.head()"
   ]
  },
  {
   "cell_type": "code",
   "execution_count": null,
   "metadata": {
    "collapsed": true
   },
   "outputs": [],
   "source": []
  }
 ],
 "metadata": {
  "kernelspec": {
   "display_name": "Python 3",
   "language": "python",
   "name": "python3"
  },
  "language_info": {
   "codemirror_mode": {
    "name": "ipython",
    "version": 3
   },
   "file_extension": ".py",
   "mimetype": "text/x-python",
   "name": "python",
   "nbconvert_exporter": "python",
   "pygments_lexer": "ipython3",
   "version": "3.6.1"
  }
 },
 "nbformat": 4,
 "nbformat_minor": 2
}
