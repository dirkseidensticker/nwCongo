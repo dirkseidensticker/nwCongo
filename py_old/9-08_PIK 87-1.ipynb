{
 "cells": [
  {
   "cell_type": "markdown",
   "metadata": {},
   "source": [
    "# PIK 87/1"
   ]
  },
  {
   "cell_type": "markdown",
   "metadata": {},
   "source": [
    "* [Verteilung der Funde](#Verteilung-der-Funde)\n",
    "* [Keramische Stilgruppen](#Keramische-Stilgruppen)"
   ]
  },
  {
   "cell_type": "code",
   "execution_count": 1,
   "metadata": {
    "collapsed": true
   },
   "outputs": [],
   "source": [
    "%matplotlib inline\n",
    "from IPython.display import display\n",
    "import pandas as pd\n",
    "import numpy as np\n",
    "import matplotlib.pyplot as plt\n",
    "import sqlite3\n",
    "import re\n",
    "\n",
    "con = sqlite3.connect(\"../data/CongoDB.sqlite\")"
   ]
  },
  {
   "cell_type": "markdown",
   "metadata": {},
   "source": [
    "## Verteilung der Funde"
   ]
  },
  {
   "cell_type": "code",
   "execution_count": 110,
   "metadata": {},
   "outputs": [
    {
     "name": "stderr",
     "output_type": "stream",
     "text": [
      "C:\\Program Files\\Anaconda3\\lib\\site-packages\\ipykernel\\__main__.py:17: FutureWarning: convert_objects is deprecated.  Use the data-type specific converters pd.to_datetime, pd.to_timedelta and pd.to_numeric.\n",
      "C:\\Program Files\\Anaconda3\\lib\\site-packages\\ipykernel\\__main__.py:18: FutureWarning: convert_objects is deprecated.  Use the data-type specific converters pd.to_datetime, pd.to_timedelta and pd.to_numeric.\n",
      "C:\\Program Files\\Anaconda3\\lib\\site-packages\\ipykernel\\__main__.py:19: FutureWarning: convert_objects is deprecated.  Use the data-type specific converters pd.to_datetime, pd.to_timedelta and pd.to_numeric.\n"
     ]
    },
    {
     "data": {
      "text/html": [
       "<div>\n",
       "<style>\n",
       "    .dataframe thead tr:only-child th {\n",
       "        text-align: right;\n",
       "    }\n",
       "\n",
       "    .dataframe thead th {\n",
       "        text-align: left;\n",
       "    }\n",
       "\n",
       "    .dataframe tbody tr th {\n",
       "        vertical-align: top;\n",
       "    }\n",
       "</style>\n",
       "<table border=\"1\" class=\"dataframe\">\n",
       "  <thead>\n",
       "    <tr style=\"text-align: right;\">\n",
       "      <th></th>\n",
       "      <th>ort_kurz</th>\n",
       "      <th>Komplex</th>\n",
       "      <th>Individuum</th>\n",
       "      <th>Typ</th>\n",
       "      <th>Anzahl</th>\n",
       "      <th>Gewicht</th>\n",
       "      <th>Gr_Clist</th>\n",
       "      <th>Fabric</th>\n",
       "      <th>Art</th>\n",
       "      <th>Tiefe</th>\n",
       "    </tr>\n",
       "  </thead>\n",
       "  <tbody>\n",
       "    <tr>\n",
       "      <th>0</th>\n",
       "      <td>PIK</td>\n",
       "      <td>87/1</td>\n",
       "      <td>1</td>\n",
       "      <td>PKM</td>\n",
       "      <td>1.0</td>\n",
       "      <td>29.0</td>\n",
       "      <td>70</td>\n",
       "      <td>1b</td>\n",
       "      <td>K</td>\n",
       "      <td>0.0</td>\n",
       "    </tr>\n",
       "    <tr>\n",
       "      <th>1</th>\n",
       "      <td>PIK</td>\n",
       "      <td>87/1</td>\n",
       "      <td>4</td>\n",
       "      <td>PKM</td>\n",
       "      <td>1.0</td>\n",
       "      <td>8.0</td>\n",
       "      <td>70</td>\n",
       "      <td>1d</td>\n",
       "      <td>K</td>\n",
       "      <td>0.0</td>\n",
       "    </tr>\n",
       "    <tr>\n",
       "      <th>2</th>\n",
       "      <td>PIK</td>\n",
       "      <td>87/1</td>\n",
       "      <td>5</td>\n",
       "      <td>PKM</td>\n",
       "      <td>1.0</td>\n",
       "      <td>18.0</td>\n",
       "      <td>70</td>\n",
       "      <td>1b</td>\n",
       "      <td>K</td>\n",
       "      <td>0.0</td>\n",
       "    </tr>\n",
       "    <tr>\n",
       "      <th>3</th>\n",
       "      <td>PIK</td>\n",
       "      <td>87/1</td>\n",
       "      <td>6</td>\n",
       "      <td>PKM</td>\n",
       "      <td>1.0</td>\n",
       "      <td>16.0</td>\n",
       "      <td>70</td>\n",
       "      <td>1b</td>\n",
       "      <td>K</td>\n",
       "      <td>0.0</td>\n",
       "    </tr>\n",
       "    <tr>\n",
       "      <th>4</th>\n",
       "      <td>PIK</td>\n",
       "      <td>87/1</td>\n",
       "      <td>7</td>\n",
       "      <td>MDB</td>\n",
       "      <td>1.0</td>\n",
       "      <td>13.0</td>\n",
       "      <td>70</td>\n",
       "      <td>3b</td>\n",
       "      <td>K</td>\n",
       "      <td>0.0</td>\n",
       "    </tr>\n",
       "  </tbody>\n",
       "</table>\n",
       "</div>"
      ],
      "text/plain": [
       "  ort_kurz Komplex Individuum  Typ  Anzahl  Gewicht Gr_Clist Fabric Art  Tiefe\n",
       "0      PIK    87/1          1  PKM     1.0     29.0       70     1b   K    0.0\n",
       "1      PIK    87/1          4  PKM     1.0      8.0       70     1d   K    0.0\n",
       "2      PIK    87/1          5  PKM     1.0     18.0       70     1b   K    0.0\n",
       "3      PIK    87/1          6  PKM     1.0     16.0       70     1b   K    0.0\n",
       "4      PIK    87/1          7  MDB     1.0     13.0       70     3b   K    0.0"
      ]
     },
     "metadata": {},
     "output_type": "display_data"
    }
   ],
   "source": [
    "sql = \"\"\"SELECT\n",
    "           t_Obj.ort_kurz, \n",
    "           t_Obj.Komplex, \n",
    "           t_Obj.Individuum, \n",
    "           t_Obj.Typ, \n",
    "           t_Obj.Anzahl,\n",
    "           t_Obj.Gewicht,\n",
    "           t_Obj.Gr_Clist, \n",
    "           t_Obj.Fabric,\n",
    "           t_Obj.Art,\n",
    "           t_Obj.Tiefe \n",
    "       FROM t_Obj \n",
    "       WHERE (((t_Obj.ort_kurz) = 'PIK')\n",
    "           AND ((t_Obj.Komplex) = '87/1'))\"\"\".replace('\\n',' ')\n",
    "\n",
    "df = pd.read_sql(sql, con)\n",
    "df['Anzahl'] = df['Anzahl'].convert_objects(convert_numeric=True)\n",
    "df['Gewicht'] = df['Gewicht'].convert_objects(convert_numeric=True)\n",
    "df['Tiefe'] = df['Tiefe'].convert_objects(convert_numeric=True)\n",
    "display(df.head())"
   ]
  },
  {
   "cell_type": "code",
   "execution_count": 111,
   "metadata": {},
   "outputs": [
    {
     "data": {
      "text/html": [
       "<div>\n",
       "<style>\n",
       "    .dataframe thead tr:only-child th {\n",
       "        text-align: right;\n",
       "    }\n",
       "\n",
       "    .dataframe thead th {\n",
       "        text-align: left;\n",
       "    }\n",
       "\n",
       "    .dataframe tbody tr th {\n",
       "        vertical-align: top;\n",
       "    }\n",
       "</style>\n",
       "<table border=\"1\" class=\"dataframe\">\n",
       "  <thead>\n",
       "    <tr style=\"text-align: right;\">\n",
       "      <th>Art</th>\n",
       "      <th>Eisen</th>\n",
       "      <th>Hüttenlehm</th>\n",
       "      <th>Keramik</th>\n",
       "      <th>Knochen</th>\n",
       "      <th>Ofenwand</th>\n",
       "      <th>Schlacke</th>\n",
       "      <th>Sonder</th>\n",
       "      <th>Stein</th>\n",
       "      <th>Tuyere</th>\n",
       "    </tr>\n",
       "    <tr>\n",
       "      <th>Tiefe</th>\n",
       "      <th></th>\n",
       "      <th></th>\n",
       "      <th></th>\n",
       "      <th></th>\n",
       "      <th></th>\n",
       "      <th></th>\n",
       "      <th></th>\n",
       "      <th></th>\n",
       "      <th></th>\n",
       "    </tr>\n",
       "  </thead>\n",
       "  <tbody>\n",
       "    <tr>\n",
       "      <th>0.0</th>\n",
       "      <td>0.0</td>\n",
       "      <td>0.0</td>\n",
       "      <td>193.0</td>\n",
       "      <td>0.0</td>\n",
       "      <td>0.0</td>\n",
       "      <td>5.0</td>\n",
       "      <td>0.0</td>\n",
       "      <td>0.0</td>\n",
       "      <td>0.0</td>\n",
       "    </tr>\n",
       "    <tr>\n",
       "      <th>32.0</th>\n",
       "      <td>0.0</td>\n",
       "      <td>12.0</td>\n",
       "      <td>4657.0</td>\n",
       "      <td>22.0</td>\n",
       "      <td>13.0</td>\n",
       "      <td>1234.0</td>\n",
       "      <td>0.0</td>\n",
       "      <td>192.0</td>\n",
       "      <td>12.0</td>\n",
       "    </tr>\n",
       "    <tr>\n",
       "      <th>52.0</th>\n",
       "      <td>27.0</td>\n",
       "      <td>4.0</td>\n",
       "      <td>6303.0</td>\n",
       "      <td>0.0</td>\n",
       "      <td>8.0</td>\n",
       "      <td>1435.0</td>\n",
       "      <td>0.0</td>\n",
       "      <td>266.0</td>\n",
       "      <td>0.0</td>\n",
       "    </tr>\n",
       "    <tr>\n",
       "      <th>72.0</th>\n",
       "      <td>0.0</td>\n",
       "      <td>0.0</td>\n",
       "      <td>4268.0</td>\n",
       "      <td>0.0</td>\n",
       "      <td>7.0</td>\n",
       "      <td>1341.0</td>\n",
       "      <td>0.0</td>\n",
       "      <td>29.0</td>\n",
       "      <td>0.0</td>\n",
       "    </tr>\n",
       "    <tr>\n",
       "      <th>92.0</th>\n",
       "      <td>0.0</td>\n",
       "      <td>42.0</td>\n",
       "      <td>2094.0</td>\n",
       "      <td>0.0</td>\n",
       "      <td>0.0</td>\n",
       "      <td>584.0</td>\n",
       "      <td>0.0</td>\n",
       "      <td>0.0</td>\n",
       "      <td>0.0</td>\n",
       "    </tr>\n",
       "    <tr>\n",
       "      <th>112.0</th>\n",
       "      <td>0.0</td>\n",
       "      <td>0.0</td>\n",
       "      <td>350.0</td>\n",
       "      <td>0.0</td>\n",
       "      <td>0.0</td>\n",
       "      <td>0.0</td>\n",
       "      <td>4.0</td>\n",
       "      <td>0.0</td>\n",
       "      <td>0.0</td>\n",
       "    </tr>\n",
       "    <tr>\n",
       "      <th>132.0</th>\n",
       "      <td>0.0</td>\n",
       "      <td>0.0</td>\n",
       "      <td>333.0</td>\n",
       "      <td>0.0</td>\n",
       "      <td>0.0</td>\n",
       "      <td>0.0</td>\n",
       "      <td>0.0</td>\n",
       "      <td>0.0</td>\n",
       "      <td>0.0</td>\n",
       "    </tr>\n",
       "    <tr>\n",
       "      <th>152.0</th>\n",
       "      <td>20.0</td>\n",
       "      <td>0.0</td>\n",
       "      <td>394.0</td>\n",
       "      <td>0.0</td>\n",
       "      <td>0.0</td>\n",
       "      <td>15.0</td>\n",
       "      <td>0.0</td>\n",
       "      <td>2.0</td>\n",
       "      <td>0.0</td>\n",
       "    </tr>\n",
       "    <tr>\n",
       "      <th>172.0</th>\n",
       "      <td>0.0</td>\n",
       "      <td>0.0</td>\n",
       "      <td>956.0</td>\n",
       "      <td>42.0</td>\n",
       "      <td>0.0</td>\n",
       "      <td>262.0</td>\n",
       "      <td>0.0</td>\n",
       "      <td>5.0</td>\n",
       "      <td>0.0</td>\n",
       "    </tr>\n",
       "    <tr>\n",
       "      <th>192.0</th>\n",
       "      <td>10.0</td>\n",
       "      <td>0.0</td>\n",
       "      <td>2196.0</td>\n",
       "      <td>0.0</td>\n",
       "      <td>0.0</td>\n",
       "      <td>0.0</td>\n",
       "      <td>0.0</td>\n",
       "      <td>0.0</td>\n",
       "      <td>0.0</td>\n",
       "    </tr>\n",
       "    <tr>\n",
       "      <th>212.0</th>\n",
       "      <td>0.0</td>\n",
       "      <td>0.0</td>\n",
       "      <td>219.0</td>\n",
       "      <td>0.0</td>\n",
       "      <td>0.0</td>\n",
       "      <td>0.0</td>\n",
       "      <td>0.0</td>\n",
       "      <td>5.0</td>\n",
       "      <td>0.0</td>\n",
       "    </tr>\n",
       "    <tr>\n",
       "      <th>232.0</th>\n",
       "      <td>0.0</td>\n",
       "      <td>0.0</td>\n",
       "      <td>353.0</td>\n",
       "      <td>0.0</td>\n",
       "      <td>0.0</td>\n",
       "      <td>0.0</td>\n",
       "      <td>0.0</td>\n",
       "      <td>0.0</td>\n",
       "      <td>0.0</td>\n",
       "    </tr>\n",
       "    <tr>\n",
       "      <th>252.0</th>\n",
       "      <td>0.0</td>\n",
       "      <td>0.0</td>\n",
       "      <td>461.0</td>\n",
       "      <td>0.0</td>\n",
       "      <td>0.0</td>\n",
       "      <td>0.0</td>\n",
       "      <td>3.0</td>\n",
       "      <td>0.0</td>\n",
       "      <td>0.0</td>\n",
       "    </tr>\n",
       "    <tr>\n",
       "      <th>272.0</th>\n",
       "      <td>0.0</td>\n",
       "      <td>0.0</td>\n",
       "      <td>173.0</td>\n",
       "      <td>189.0</td>\n",
       "      <td>0.0</td>\n",
       "      <td>0.0</td>\n",
       "      <td>3.0</td>\n",
       "      <td>0.0</td>\n",
       "      <td>0.0</td>\n",
       "    </tr>\n",
       "    <tr>\n",
       "      <th>292.0</th>\n",
       "      <td>0.0</td>\n",
       "      <td>0.0</td>\n",
       "      <td>171.0</td>\n",
       "      <td>0.0</td>\n",
       "      <td>0.0</td>\n",
       "      <td>0.0</td>\n",
       "      <td>0.0</td>\n",
       "      <td>0.0</td>\n",
       "      <td>0.0</td>\n",
       "    </tr>\n",
       "    <tr>\n",
       "      <th>334.0</th>\n",
       "      <td>0.0</td>\n",
       "      <td>24.0</td>\n",
       "      <td>116.0</td>\n",
       "      <td>0.0</td>\n",
       "      <td>0.0</td>\n",
       "      <td>0.0</td>\n",
       "      <td>0.0</td>\n",
       "      <td>31.0</td>\n",
       "      <td>0.0</td>\n",
       "    </tr>\n",
       "  </tbody>\n",
       "</table>\n",
       "</div>"
      ],
      "text/plain": [
       "Art    Eisen  Hüttenlehm  Keramik  Knochen  Ofenwand  Schlacke  Sonder  Stein  \\\n",
       "Tiefe                                                                           \n",
       "0.0      0.0         0.0    193.0      0.0       0.0       5.0     0.0    0.0   \n",
       "32.0     0.0        12.0   4657.0     22.0      13.0    1234.0     0.0  192.0   \n",
       "52.0    27.0         4.0   6303.0      0.0       8.0    1435.0     0.0  266.0   \n",
       "72.0     0.0         0.0   4268.0      0.0       7.0    1341.0     0.0   29.0   \n",
       "92.0     0.0        42.0   2094.0      0.0       0.0     584.0     0.0    0.0   \n",
       "112.0    0.0         0.0    350.0      0.0       0.0       0.0     4.0    0.0   \n",
       "132.0    0.0         0.0    333.0      0.0       0.0       0.0     0.0    0.0   \n",
       "152.0   20.0         0.0    394.0      0.0       0.0      15.0     0.0    2.0   \n",
       "172.0    0.0         0.0    956.0     42.0       0.0     262.0     0.0    5.0   \n",
       "192.0   10.0         0.0   2196.0      0.0       0.0       0.0     0.0    0.0   \n",
       "212.0    0.0         0.0    219.0      0.0       0.0       0.0     0.0    5.0   \n",
       "232.0    0.0         0.0    353.0      0.0       0.0       0.0     0.0    0.0   \n",
       "252.0    0.0         0.0    461.0      0.0       0.0       0.0     3.0    0.0   \n",
       "272.0    0.0         0.0    173.0    189.0       0.0       0.0     3.0    0.0   \n",
       "292.0    0.0         0.0    171.0      0.0       0.0       0.0     0.0    0.0   \n",
       "334.0    0.0        24.0    116.0      0.0       0.0       0.0     0.0   31.0   \n",
       "\n",
       "Art    Tuyere  \n",
       "Tiefe          \n",
       "0.0       0.0  \n",
       "32.0     12.0  \n",
       "52.0      0.0  \n",
       "72.0      0.0  \n",
       "92.0      0.0  \n",
       "112.0     0.0  \n",
       "132.0     0.0  \n",
       "152.0     0.0  \n",
       "172.0     0.0  \n",
       "192.0     0.0  \n",
       "212.0     0.0  \n",
       "232.0     0.0  \n",
       "252.0     0.0  \n",
       "272.0     0.0  \n",
       "292.0     0.0  \n",
       "334.0     0.0  "
      ]
     },
     "execution_count": 111,
     "metadata": {},
     "output_type": "execute_result"
    }
   ],
   "source": [
    "df_pivot = df.pivot_table(values = 'Gewicht', index = 'Tiefe', columns = 'Art', aggfunc = sum)\n",
    "df_pivot = df_pivot.fillna(0)\n",
    "df_pivot.rename(columns={'HL': 'Hüttenlehm', 'K': 'Keramik'}, inplace=True)\n",
    "# python2: df_pivot.rename(columns={'HL': 'Hüttenlehm'.decode('utf-8'), 'K': 'Keramik'}, inplace=True)\n",
    "# df_pivot['HL'] = df_pivot['HL'].replace(['HL'], ['Keramik'])\n",
    "df_pivot"
   ]
  },
  {
   "cell_type": "code",
   "execution_count": 112,
   "metadata": {},
   "outputs": [
    {
     "data": {
      "image/png": "[encoded data removed]",
      "text/plain": [
       "<matplotlib.figure.Figure at 0x27bd62c0358>"
      ]
     },
     "metadata": {},
     "output_type": "display_data"
    }
   ],
   "source": [
    "ax = df_pivot.plot(kind = 'barh', stacked=True, cmap = 'Paired')\n",
    "plt.xlabel('Gewicht [g]')\n",
    "plt.ylabel('Tiefe [cm u. Obfl.]')\n",
    "plt.gca().invert_yaxis()\n",
    "plt.legend(loc = 4)\n",
    "xlim = ax.get_xlim()\n",
    "ylim = ax.get_ylim()\n",
    "plt.gca().set_aspect((abs(xlim[0]) + abs(xlim[1])) / (abs(ylim[0]) + abs(ylim[1])))\n",
    "lgd = plt.legend(bbox_to_anchor=(1.02, 1), loc = 2, borderaxespad = 0., prop={'size':8})\n",
    "plt.tight_layout()\n",
    "plt.savefig('../output/figs/9-8_PIK87-1_VerteilungFunde.pdf', bbox_extra_artists=(lgd,), bbox_inches='tight')\n",
    "plt.show()"
   ]
  },
  {
   "cell_type": "markdown",
   "metadata": {},
   "source": [
    "> **PIK 87/1** Fundverteilung"
   ]
  },
  {
   "cell_type": "code",
   "execution_count": 113,
   "metadata": {
    "collapsed": true
   },
   "outputs": [],
   "source": [
    "# Diagramm auf 100% - Prozentwerte für jede Zeile ausrechnen:\n",
    "df_perc = df_pivot.divide(df_pivot.sum(axis=1), axis=0)\n",
    "# df_perc"
   ]
  },
  {
   "cell_type": "code",
   "execution_count": 114,
   "metadata": {},
   "outputs": [
    {
     "data": {
      "image/png": "[encoded data removed]",
      "text/plain": [
       "<matplotlib.figure.Figure at 0x27bd7df7240>"
      ]
     },
     "metadata": {},
     "output_type": "display_data"
    }
   ],
   "source": [
    "ax = df_perc.plot(kind = 'barh', stacked=True, cmap = 'Paired')\n",
    "plt.xlabel('Prozent')\n",
    "plt.ylabel('Tiefe [cm u. Obfl.]')\n",
    "plt.gca().invert_yaxis()\n",
    "plt.legend(loc = 4)\n",
    "xlim = ax.get_xlim()\n",
    "ylim = ax.get_ylim()\n",
    "plt.gca().set_aspect((abs(xlim[0]) + 1) / (abs(ylim[0]) + abs(ylim[1])))\n",
    "lgd = plt.legend(bbox_to_anchor=(1.02, 1), loc = 2, borderaxespad = 0., prop={'size':8})\n",
    "plt.tight_layout()\n",
    "plt.savefig('../output/figs/9-8_PIK87-1_VerteilungFunde_perc.pdf', bbox_extra_artists=(lgd,), bbox_inches='tight')\n",
    "plt.show()"
   ]
  },
  {
   "cell_type": "code",
   "execution_count": 115,
   "metadata": {},
   "outputs": [
    {
     "data": {
      "text/html": [
       "<div>\n",
       "<style>\n",
       "    .dataframe thead tr:only-child th {\n",
       "        text-align: right;\n",
       "    }\n",
       "\n",
       "    .dataframe thead th {\n",
       "        text-align: left;\n",
       "    }\n",
       "\n",
       "    .dataframe tbody tr th {\n",
       "        vertical-align: top;\n",
       "    }\n",
       "</style>\n",
       "<table border=\"1\" class=\"dataframe\">\n",
       "  <thead>\n",
       "    <tr style=\"text-align: right;\">\n",
       "      <th></th>\n",
       "      <th>Fundkategorie</th>\n",
       "      <th>Anzahl</th>\n",
       "      <th>\\%</th>\n",
       "      <th>Gewicht (kg)</th>\n",
       "      <th>\\%</th>\n",
       "    </tr>\n",
       "  </thead>\n",
       "  <tbody>\n",
       "    <tr>\n",
       "      <th>0</th>\n",
       "      <td>Eisen</td>\n",
       "      <td>3</td>\n",
       "      <td>0.4</td>\n",
       "      <td>0.06</td>\n",
       "      <td>0.2</td>\n",
       "    </tr>\n",
       "    <tr>\n",
       "      <th>1</th>\n",
       "      <td>gebrannter Lehm</td>\n",
       "      <td>9</td>\n",
       "      <td>1.3</td>\n",
       "      <td>0.09</td>\n",
       "      <td>0.3</td>\n",
       "    </tr>\n",
       "    <tr>\n",
       "      <th>2</th>\n",
       "      <td>Keramik</td>\n",
       "      <td>462</td>\n",
       "      <td>67.3</td>\n",
       "      <td>23.28</td>\n",
       "      <td>79.9</td>\n",
       "    </tr>\n",
       "    <tr>\n",
       "      <th>3</th>\n",
       "      <td>Knochen</td>\n",
       "      <td>9</td>\n",
       "      <td>1.3</td>\n",
       "      <td>0.25</td>\n",
       "      <td>0.9</td>\n",
       "    </tr>\n",
       "    <tr>\n",
       "      <th>4</th>\n",
       "      <td>Ofenwand</td>\n",
       "      <td>4</td>\n",
       "      <td>0.6</td>\n",
       "      <td>0.03</td>\n",
       "      <td>0.1</td>\n",
       "    </tr>\n",
       "    <tr>\n",
       "      <th>5</th>\n",
       "      <td>Schlacke</td>\n",
       "      <td>162</td>\n",
       "      <td>23.6</td>\n",
       "      <td>4.88</td>\n",
       "      <td>16.7</td>\n",
       "    </tr>\n",
       "    <tr>\n",
       "      <th>6</th>\n",
       "      <td>Sonder</td>\n",
       "      <td>3</td>\n",
       "      <td>0.4</td>\n",
       "      <td>0.01</td>\n",
       "      <td>0.0</td>\n",
       "    </tr>\n",
       "    <tr>\n",
       "      <th>7</th>\n",
       "      <td>Stein</td>\n",
       "      <td>32</td>\n",
       "      <td>4.7</td>\n",
       "      <td>0.53</td>\n",
       "      <td>1.8</td>\n",
       "    </tr>\n",
       "    <tr>\n",
       "      <th>8</th>\n",
       "      <td>Tuyere</td>\n",
       "      <td>2</td>\n",
       "      <td>0.3</td>\n",
       "      <td>0.01</td>\n",
       "      <td>0.0</td>\n",
       "    </tr>\n",
       "  </tbody>\n",
       "</table>\n",
       "</div>"
      ],
      "text/plain": [
       "     Fundkategorie  Anzahl    \\%  Gewicht (kg)    \\%\n",
       "0            Eisen       3   0.4          0.06   0.2\n",
       "1  gebrannter Lehm       9   1.3          0.09   0.3\n",
       "2          Keramik     462  67.3         23.28  79.9\n",
       "3          Knochen       9   1.3          0.25   0.9\n",
       "4         Ofenwand       4   0.6          0.03   0.1\n",
       "5         Schlacke     162  23.6          4.88  16.7\n",
       "6           Sonder       3   0.4          0.01   0.0\n",
       "7            Stein      32   4.7          0.53   1.8\n",
       "8           Tuyere       2   0.3          0.01   0.0"
      ]
     },
     "execution_count": 115,
     "metadata": {},
     "output_type": "execute_result"
    }
   ],
   "source": [
    "df_pivot1 = df.pivot_table(values = 'Gewicht', index = 'Art', aggfunc = sum, fill_value = 0)\n",
    "df_pivot1 = pd.DataFrame(df_pivot1)\n",
    "# df_pivot1 = df_pivot1.reset_index()\n",
    "df_pivot1.rename(index={'HL': 'gebrannter Lehm', 'K': 'Keramik'}, inplace=True)\n",
    "df_pivot1['\\%'] = (df_pivot1['Gewicht']/df_pivot1['Gewicht'].sum()*100).round(1)\n",
    "df_pivot1['Gewicht'] = (df_pivot1['Gewicht'] / 1000).round(2)\n",
    "df_pivot1.rename(columns={'Gewicht': 'Gewicht (kg)'}, inplace=True)\n",
    "\n",
    "df_pivot2 = df.pivot_table(values = 'Anzahl', index = 'Art', aggfunc = sum, fill_value = 0)\n",
    "df_pivot2 = pd.DataFrame(df_pivot2)\n",
    "df_pivot2.rename(index={'HL': 'gebrannter Lehm', 'K': 'Keramik'}, inplace=True)\n",
    "df_pivot2['\\%'] = (df_pivot2['Anzahl']/df_pivot2['Anzahl'].sum()*100).round(1)\n",
    "\n",
    "# Tabellen vereinen:\n",
    "df_concat = pd.concat([df_pivot2, df_pivot1], axis = 1)\n",
    "df_concat = df_concat.reset_index()\n",
    "df_concat.rename(columns={'Art': 'Fundkategorie'}, inplace=True)\n",
    "df_concat.to_latex('../output/tabs/9-08_PIK87-1_Funde.tex', index = False, escape = False)\n",
    "df_concat"
   ]
  },
  {
   "cell_type": "markdown",
   "metadata": {},
   "source": [
    "## Fabrics"
   ]
  },
  {
   "cell_type": "code",
   "execution_count": 116,
   "metadata": {},
   "outputs": [
    {
     "name": "stderr",
     "output_type": "stream",
     "text": [
      "C:\\Program Files\\Anaconda3\\lib\\site-packages\\ipykernel\\__main__.py:5: FutureWarning: currently extract(expand=None) means expand=False (return Index/Series/DataFrame) but in a future version of pandas this will be changed to expand=True (return DataFrame)\n"
     ]
    }
   ],
   "source": [
    "# Bereinigen um nur die Gruppen zu haben:\n",
    "# alles hinter der zweiten Stelle weg\n",
    "df['FabricsGr'] = df['Fabric'].str[:2]\n",
    "# nur Zahlen\n",
    "df['FabricsGr2'] = df['FabricsGr'].str.extract('(\\d)')"
   ]
  },
  {
   "cell_type": "code",
   "execution_count": 117,
   "metadata": {
    "collapsed": true
   },
   "outputs": [],
   "source": [
    "df_pivot = df.pivot_table(values = 'Gewicht', index = 'Tiefe', columns = 'FabricsGr2', aggfunc = sum)\n",
    "df_pivot = df_pivot.fillna(0)\n",
    "df_pivot.rename(columns={'HL': 'Hüttenlehm', 'K': 'Keramik'}, inplace=True)\n",
    "# python2: df_pivot.rename(columns={'HL': 'Hüttenlehm'.decode('utf-8'), 'K': 'Keramik'}, inplace=True)\n",
    "# df_pivot['HL'] = df_pivot['HL'].replace(['HL'], ['Keramik'])\n",
    "# df_pivot"
   ]
  },
  {
   "cell_type": "code",
   "execution_count": 118,
   "metadata": {},
   "outputs": [
    {
     "data": {
      "image/png": "[encoded data removed]",
      "text/plain": [
       "<matplotlib.figure.Figure at 0x27bd65d1278>"
      ]
     },
     "metadata": {},
     "output_type": "display_data"
    }
   ],
   "source": [
    "ax = df_pivot.plot(kind = 'barh', stacked=True, cmap = 'Paired')\n",
    "plt.xlabel('Gewicht [g]')\n",
    "plt.ylabel('Tiefe [cm u. Obfl.]')\n",
    "plt.gca().invert_yaxis()\n",
    "plt.legend(loc = 4)\n",
    "xlim = ax.get_xlim()\n",
    "ylim = ax.get_ylim()\n",
    "plt.gca().set_aspect((0.4*(abs(xlim[0]) + abs(xlim[1]))) / (abs(ylim[0]) + abs(ylim[1])))\n",
    "#plt.gca().set_aspect((abs(xlim[0]) + abs(xlim[1])) / (abs(ylim[0]) + abs(ylim[1])))\n",
    "#lgd = plt.legend(bbox_to_anchor=(1.02, 1), loc = 2, borderaxespad = 0., prop={'size':8})\n",
    "lgd = plt.legend(prop={'size':8})\n",
    "plt.tight_layout()\n",
    "plt.savefig('../output/figs/9-8_PIK87-1_Fabrics.pdf', bbox_extra_artists=(lgd,), bbox_inches='tight')\n",
    "plt.show()"
   ]
  },
  {
   "cell_type": "markdown",
   "metadata": {},
   "source": [
    "## Keramische Stilgruppen"
   ]
  },
  {
   "cell_type": "code",
   "execution_count": 104,
   "metadata": {},
   "outputs": [
    {
     "name": "stderr",
     "output_type": "stream",
     "text": [
      "C:\\Program Files\\Anaconda3\\lib\\site-packages\\ipykernel\\__main__.py:17: FutureWarning: convert_objects is deprecated.  Use the data-type specific converters pd.to_datetime, pd.to_timedelta and pd.to_numeric.\n"
     ]
    },
    {
     "data": {
      "text/html": [
       "<div>\n",
       "<style>\n",
       "    .dataframe thead tr:only-child th {\n",
       "        text-align: right;\n",
       "    }\n",
       "\n",
       "    .dataframe thead th {\n",
       "        text-align: left;\n",
       "    }\n",
       "\n",
       "    .dataframe tbody tr th {\n",
       "        vertical-align: top;\n",
       "    }\n",
       "</style>\n",
       "<table border=\"1\" class=\"dataframe\">\n",
       "  <thead>\n",
       "    <tr style=\"text-align: right;\">\n",
       "      <th></th>\n",
       "      <th>ort_kurz</th>\n",
       "      <th>Komplex</th>\n",
       "      <th>Individuum</th>\n",
       "      <th>Typ</th>\n",
       "      <th>Gewicht</th>\n",
       "      <th>Gr_Clist</th>\n",
       "      <th>Art</th>\n",
       "      <th>Tiefe</th>\n",
       "      <th>Typ1</th>\n",
       "    </tr>\n",
       "  </thead>\n",
       "  <tbody>\n",
       "    <tr>\n",
       "      <th>0</th>\n",
       "      <td>PIK</td>\n",
       "      <td>87/1</td>\n",
       "      <td>1</td>\n",
       "      <td>PKM</td>\n",
       "      <td>29</td>\n",
       "      <td>70</td>\n",
       "      <td>K</td>\n",
       "      <td>0.0</td>\n",
       "      <td>PKM</td>\n",
       "    </tr>\n",
       "    <tr>\n",
       "      <th>1</th>\n",
       "      <td>PIK</td>\n",
       "      <td>87/1</td>\n",
       "      <td>4</td>\n",
       "      <td>PKM</td>\n",
       "      <td>8</td>\n",
       "      <td>70</td>\n",
       "      <td>K</td>\n",
       "      <td>0.0</td>\n",
       "      <td>PKM</td>\n",
       "    </tr>\n",
       "    <tr>\n",
       "      <th>2</th>\n",
       "      <td>PIK</td>\n",
       "      <td>87/1</td>\n",
       "      <td>5</td>\n",
       "      <td>PKM</td>\n",
       "      <td>18</td>\n",
       "      <td>70</td>\n",
       "      <td>K</td>\n",
       "      <td>0.0</td>\n",
       "      <td>PKM</td>\n",
       "    </tr>\n",
       "    <tr>\n",
       "      <th>3</th>\n",
       "      <td>PIK</td>\n",
       "      <td>87/1</td>\n",
       "      <td>6</td>\n",
       "      <td>PKM</td>\n",
       "      <td>16</td>\n",
       "      <td>70</td>\n",
       "      <td>K</td>\n",
       "      <td>0.0</td>\n",
       "      <td>PKM</td>\n",
       "    </tr>\n",
       "    <tr>\n",
       "      <th>4</th>\n",
       "      <td>PIK</td>\n",
       "      <td>87/1</td>\n",
       "      <td>7</td>\n",
       "      <td>MDB</td>\n",
       "      <td>13</td>\n",
       "      <td>70</td>\n",
       "      <td>K</td>\n",
       "      <td>0.0</td>\n",
       "      <td>MDB</td>\n",
       "    </tr>\n",
       "  </tbody>\n",
       "</table>\n",
       "</div>"
      ],
      "text/plain": [
       "  ort_kurz Komplex Individuum  Typ  Gewicht Gr_Clist Art  Tiefe Typ1\n",
       "0      PIK    87/1          1  PKM       29       70   K    0.0  PKM\n",
       "1      PIK    87/1          4  PKM        8       70   K    0.0  PKM\n",
       "2      PIK    87/1          5  PKM       18       70   K    0.0  PKM\n",
       "3      PIK    87/1          6  PKM       16       70   K    0.0  PKM\n",
       "4      PIK    87/1          7  MDB       13       70   K    0.0  MDB"
      ]
     },
     "metadata": {},
     "output_type": "display_data"
    }
   ],
   "source": [
    "sql = \"\"\"SELECT\n",
    "           t_Obj.ort_kurz, \n",
    "           t_Obj.Komplex, \n",
    "           t_Obj.Individuum, \n",
    "           t_Obj.Typ, \n",
    "           t_Obj.Gewicht,\n",
    "           t_Obj.Gr_Clist, \n",
    "           t_Obj.Art,\n",
    "           t_Obj.Tiefe \n",
    "       FROM t_Obj \n",
    "       WHERE (((t_Obj.ort_kurz) = 'PIK')\n",
    "           AND ((t_Obj.Komplex) = '87/1')\n",
    "           AND ((t_Obj.Art) = \"K\")\n",
    "           AND ((t_Obj.Typ) != ''))\"\"\".replace('\\n',' ')\n",
    "\n",
    "df = pd.read_sql(sql, con)\n",
    "df['Tiefe'] = df['Tiefe'].convert_objects(convert_numeric=True)\n",
    "# Leerstellen in 'Typ' ersetzen\n",
    "df['Typ'] = df['Typ'].replace('','(?)')\n",
    "\n",
    "df['Typ1'] = df['Typ']\n",
    "df['Typ1'] = df['Typ1'].map(lambda x: x.rstrip(' (?)'))\n",
    "df['Typ1'] = df['Typ1'].apply(lambda x: x.split('/')[0])\\\n",
    "\n",
    "display(df.head())"
   ]
  },
  {
   "cell_type": "code",
   "execution_count": 105,
   "metadata": {},
   "outputs": [
    {
     "data": {
      "text/plain": [
       "19997"
      ]
     },
     "execution_count": 105,
     "metadata": {},
     "output_type": "execute_result"
    }
   ],
   "source": [
    "np.sum(df['Gewicht'])"
   ]
  },
  {
   "cell_type": "code",
   "execution_count": 106,
   "metadata": {},
   "outputs": [
    {
     "data": {
      "text/html": [
       "<div>\n",
       "<style>\n",
       "    .dataframe thead tr:only-child th {\n",
       "        text-align: right;\n",
       "    }\n",
       "\n",
       "    .dataframe thead th {\n",
       "        text-align: left;\n",
       "    }\n",
       "\n",
       "    .dataframe tbody tr th {\n",
       "        vertical-align: top;\n",
       "    }\n",
       "</style>\n",
       "<table border=\"1\" class=\"dataframe\">\n",
       "  <thead>\n",
       "    <tr style=\"text-align: right;\">\n",
       "      <th>Typ1</th>\n",
       "      <th>EBA</th>\n",
       "      <th>KON</th>\n",
       "      <th>LUS</th>\n",
       "      <th>MAT</th>\n",
       "      <th>MBJ</th>\n",
       "      <th>MDB</th>\n",
       "      <th>NGB</th>\n",
       "      <th>PDM</th>\n",
       "      <th>PKM</th>\n",
       "    </tr>\n",
       "    <tr>\n",
       "      <th>Tiefe</th>\n",
       "      <th></th>\n",
       "      <th></th>\n",
       "      <th></th>\n",
       "      <th></th>\n",
       "      <th></th>\n",
       "      <th></th>\n",
       "      <th></th>\n",
       "      <th></th>\n",
       "      <th></th>\n",
       "    </tr>\n",
       "  </thead>\n",
       "  <tbody>\n",
       "    <tr>\n",
       "      <th>0.0</th>\n",
       "      <td>0.0</td>\n",
       "      <td>0.0</td>\n",
       "      <td>0.0</td>\n",
       "      <td>0.0</td>\n",
       "      <td>0.0</td>\n",
       "      <td>52.0</td>\n",
       "      <td>0.0</td>\n",
       "      <td>0.0</td>\n",
       "      <td>141.0</td>\n",
       "    </tr>\n",
       "    <tr>\n",
       "      <th>32.0</th>\n",
       "      <td>0.0</td>\n",
       "      <td>2.0</td>\n",
       "      <td>0.0</td>\n",
       "      <td>0.0</td>\n",
       "      <td>0.0</td>\n",
       "      <td>3916.0</td>\n",
       "      <td>0.0</td>\n",
       "      <td>6.0</td>\n",
       "      <td>74.0</td>\n",
       "    </tr>\n",
       "    <tr>\n",
       "      <th>52.0</th>\n",
       "      <td>59.0</td>\n",
       "      <td>3.0</td>\n",
       "      <td>0.0</td>\n",
       "      <td>4.0</td>\n",
       "      <td>0.0</td>\n",
       "      <td>5136.0</td>\n",
       "      <td>0.0</td>\n",
       "      <td>0.0</td>\n",
       "      <td>126.0</td>\n",
       "    </tr>\n",
       "    <tr>\n",
       "      <th>72.0</th>\n",
       "      <td>0.0</td>\n",
       "      <td>0.0</td>\n",
       "      <td>0.0</td>\n",
       "      <td>6.0</td>\n",
       "      <td>0.0</td>\n",
       "      <td>3083.0</td>\n",
       "      <td>0.0</td>\n",
       "      <td>14.0</td>\n",
       "      <td>184.0</td>\n",
       "    </tr>\n",
       "    <tr>\n",
       "      <th>92.0</th>\n",
       "      <td>0.0</td>\n",
       "      <td>0.0</td>\n",
       "      <td>0.0</td>\n",
       "      <td>0.0</td>\n",
       "      <td>2.0</td>\n",
       "      <td>1237.0</td>\n",
       "      <td>0.0</td>\n",
       "      <td>0.0</td>\n",
       "      <td>401.0</td>\n",
       "    </tr>\n",
       "    <tr>\n",
       "      <th>112.0</th>\n",
       "      <td>0.0</td>\n",
       "      <td>0.0</td>\n",
       "      <td>0.0</td>\n",
       "      <td>0.0</td>\n",
       "      <td>0.0</td>\n",
       "      <td>5.0</td>\n",
       "      <td>0.0</td>\n",
       "      <td>0.0</td>\n",
       "      <td>145.0</td>\n",
       "    </tr>\n",
       "    <tr>\n",
       "      <th>132.0</th>\n",
       "      <td>0.0</td>\n",
       "      <td>0.0</td>\n",
       "      <td>0.0</td>\n",
       "      <td>0.0</td>\n",
       "      <td>0.0</td>\n",
       "      <td>0.0</td>\n",
       "      <td>0.0</td>\n",
       "      <td>0.0</td>\n",
       "      <td>320.0</td>\n",
       "    </tr>\n",
       "    <tr>\n",
       "      <th>152.0</th>\n",
       "      <td>0.0</td>\n",
       "      <td>0.0</td>\n",
       "      <td>0.0</td>\n",
       "      <td>0.0</td>\n",
       "      <td>0.0</td>\n",
       "      <td>0.0</td>\n",
       "      <td>100.0</td>\n",
       "      <td>0.0</td>\n",
       "      <td>294.0</td>\n",
       "    </tr>\n",
       "    <tr>\n",
       "      <th>172.0</th>\n",
       "      <td>0.0</td>\n",
       "      <td>0.0</td>\n",
       "      <td>0.0</td>\n",
       "      <td>0.0</td>\n",
       "      <td>0.0</td>\n",
       "      <td>0.0</td>\n",
       "      <td>124.0</td>\n",
       "      <td>0.0</td>\n",
       "      <td>832.0</td>\n",
       "    </tr>\n",
       "    <tr>\n",
       "      <th>192.0</th>\n",
       "      <td>0.0</td>\n",
       "      <td>0.0</td>\n",
       "      <td>0.0</td>\n",
       "      <td>0.0</td>\n",
       "      <td>0.0</td>\n",
       "      <td>0.0</td>\n",
       "      <td>29.0</td>\n",
       "      <td>0.0</td>\n",
       "      <td>2167.0</td>\n",
       "    </tr>\n",
       "    <tr>\n",
       "      <th>212.0</th>\n",
       "      <td>0.0</td>\n",
       "      <td>0.0</td>\n",
       "      <td>0.0</td>\n",
       "      <td>0.0</td>\n",
       "      <td>0.0</td>\n",
       "      <td>0.0</td>\n",
       "      <td>0.0</td>\n",
       "      <td>0.0</td>\n",
       "      <td>219.0</td>\n",
       "    </tr>\n",
       "    <tr>\n",
       "      <th>232.0</th>\n",
       "      <td>0.0</td>\n",
       "      <td>0.0</td>\n",
       "      <td>0.0</td>\n",
       "      <td>0.0</td>\n",
       "      <td>0.0</td>\n",
       "      <td>0.0</td>\n",
       "      <td>17.0</td>\n",
       "      <td>0.0</td>\n",
       "      <td>336.0</td>\n",
       "    </tr>\n",
       "    <tr>\n",
       "      <th>252.0</th>\n",
       "      <td>0.0</td>\n",
       "      <td>0.0</td>\n",
       "      <td>55.0</td>\n",
       "      <td>0.0</td>\n",
       "      <td>0.0</td>\n",
       "      <td>0.0</td>\n",
       "      <td>0.0</td>\n",
       "      <td>0.0</td>\n",
       "      <td>406.0</td>\n",
       "    </tr>\n",
       "    <tr>\n",
       "      <th>272.0</th>\n",
       "      <td>0.0</td>\n",
       "      <td>0.0</td>\n",
       "      <td>0.0</td>\n",
       "      <td>0.0</td>\n",
       "      <td>0.0</td>\n",
       "      <td>0.0</td>\n",
       "      <td>0.0</td>\n",
       "      <td>0.0</td>\n",
       "      <td>173.0</td>\n",
       "    </tr>\n",
       "    <tr>\n",
       "      <th>292.0</th>\n",
       "      <td>0.0</td>\n",
       "      <td>0.0</td>\n",
       "      <td>0.0</td>\n",
       "      <td>0.0</td>\n",
       "      <td>0.0</td>\n",
       "      <td>0.0</td>\n",
       "      <td>0.0</td>\n",
       "      <td>0.0</td>\n",
       "      <td>171.0</td>\n",
       "    </tr>\n",
       "    <tr>\n",
       "      <th>334.0</th>\n",
       "      <td>0.0</td>\n",
       "      <td>0.0</td>\n",
       "      <td>0.0</td>\n",
       "      <td>0.0</td>\n",
       "      <td>0.0</td>\n",
       "      <td>0.0</td>\n",
       "      <td>0.0</td>\n",
       "      <td>0.0</td>\n",
       "      <td>116.0</td>\n",
       "    </tr>\n",
       "  </tbody>\n",
       "</table>\n",
       "</div>"
      ],
      "text/plain": [
       "Typ1    EBA  KON   LUS  MAT  MBJ     MDB    NGB   PDM     PKM\n",
       "Tiefe                                                        \n",
       "0.0     0.0  0.0   0.0  0.0  0.0    52.0    0.0   0.0   141.0\n",
       "32.0    0.0  2.0   0.0  0.0  0.0  3916.0    0.0   6.0    74.0\n",
       "52.0   59.0  3.0   0.0  4.0  0.0  5136.0    0.0   0.0   126.0\n",
       "72.0    0.0  0.0   0.0  6.0  0.0  3083.0    0.0  14.0   184.0\n",
       "92.0    0.0  0.0   0.0  0.0  2.0  1237.0    0.0   0.0   401.0\n",
       "112.0   0.0  0.0   0.0  0.0  0.0     5.0    0.0   0.0   145.0\n",
       "132.0   0.0  0.0   0.0  0.0  0.0     0.0    0.0   0.0   320.0\n",
       "152.0   0.0  0.0   0.0  0.0  0.0     0.0  100.0   0.0   294.0\n",
       "172.0   0.0  0.0   0.0  0.0  0.0     0.0  124.0   0.0   832.0\n",
       "192.0   0.0  0.0   0.0  0.0  0.0     0.0   29.0   0.0  2167.0\n",
       "212.0   0.0  0.0   0.0  0.0  0.0     0.0    0.0   0.0   219.0\n",
       "232.0   0.0  0.0   0.0  0.0  0.0     0.0   17.0   0.0   336.0\n",
       "252.0   0.0  0.0  55.0  0.0  0.0     0.0    0.0   0.0   406.0\n",
       "272.0   0.0  0.0   0.0  0.0  0.0     0.0    0.0   0.0   173.0\n",
       "292.0   0.0  0.0   0.0  0.0  0.0     0.0    0.0   0.0   171.0\n",
       "334.0   0.0  0.0   0.0  0.0  0.0     0.0    0.0   0.0   116.0"
      ]
     },
     "execution_count": 106,
     "metadata": {},
     "output_type": "execute_result"
    }
   ],
   "source": [
    "df_pivot = df.pivot_table(values = 'Gewicht', index = 'Tiefe', columns = 'Typ1', aggfunc = sum)\n",
    "df_pivot = df_pivot.fillna(0)\n",
    "df_pivot"
   ]
  },
  {
   "cell_type": "markdown",
   "metadata": {},
   "source": [
    "> ToDo: evtl. Chronologieschema zur Abfolge der Stilgruppen in die DB ablegen\n",
    "> * siehe:\n",
    "    > * custom_dict = {'sehr wenig':0,'wenig':1,'mittel':3,'viel':4, 'sehr viel':5}\n",
    "    > * df_pivot = pd.DataFrame(df_pivot, index=sorted(custom_dict, key=custom_dict.get))\n"
   ]
  },
  {
   "cell_type": "code",
   "execution_count": 109,
   "metadata": {},
   "outputs": [
    {
     "data": {
      "image/png": "[encoded data removed]",
      "text/plain": [
       "<matplotlib.figure.Figure at 0x27bd5d4d550>"
      ]
     },
     "metadata": {},
     "output_type": "display_data"
    }
   ],
   "source": [
    "ax = df_pivot.plot(kind = 'barh', stacked=True, cmap = 'Set3_r')\n",
    "plt.xlabel('Gewicht [g]')\n",
    "plt.ylabel('Tiefe [cm u. Obfl.]')\n",
    "plt.gca().invert_yaxis()\n",
    "xlim = ax.get_xlim()\n",
    "ylim = ax.get_ylim()\n",
    "plt.gca().set_aspect((0.4*(abs(xlim[0]) + abs(xlim[1]))) / (abs(ylim[0]) + abs(ylim[1])))\n",
    "#plt.gca().set_aspect((abs(xlim[0]) + abs(xlim[1])) / (abs(ylim[0]) + abs(ylim[1])))\n",
    "#lgd = plt.legend(bbox_to_anchor=(1.02, 1), loc = 2, borderaxespad = 0., prop={'size':8})\n",
    "lgd = plt.legend(prop={'size':8})\n",
    "plt.tight_layout()\n",
    "plt.savefig('../output/figs/9-8_PIK87-1_KeramikStilgruppen.pdf', bbox_extra_artists=(lgd,), bbox_inches='tight')\n",
    "plt.show()"
   ]
  },
  {
   "cell_type": "markdown",
   "metadata": {},
   "source": [
    "#### > **PIK 87/1** keramische Stilgruppen"
   ]
  },
  {
   "cell_type": "code",
   "execution_count": 77,
   "metadata": {
    "collapsed": true
   },
   "outputs": [],
   "source": [
    "# Diagramm auf 100% - Prozentwerte für jede Zeile ausrechnen:\n",
    "df_perc = df_pivot.divide(df_pivot.sum(axis=1)/100, axis=0)\n",
    "# df_perc"
   ]
  },
  {
   "cell_type": "code",
   "execution_count": 78,
   "metadata": {},
   "outputs": [
    {
     "data": {
      "image/png": "[encoded data removed]",
      "text/plain": [
       "<matplotlib.figure.Figure at 0x27bd63e52e8>"
      ]
     },
     "metadata": {},
     "output_type": "display_data"
    }
   ],
   "source": [
    "ax = df_perc.plot(kind = 'barh', stacked=True, cmap = 'Set1')\n",
    "plt.xlabel('Prozent')\n",
    "plt.ylabel('Tiefe [cm u. Obfl.]')\n",
    "plt.gca().invert_yaxis()\n",
    "plt.legend(loc = 4)\n",
    "plt.xlim(0,100)\n",
    "xlim = ax.get_xlim()\n",
    "ylim = ax.get_ylim()\n",
    "plt.gca().set_aspect((abs(xlim[0]) + 100) / (abs(ylim[0]) + abs(ylim[1])))\n",
    "lgd = plt.legend(bbox_to_anchor=(1.02, 1), loc = 2, borderaxespad = 0., prop={'size':8})\n",
    "plt.tight_layout()\n",
    "plt.savefig('../output/figs/9-8_PIK87-1_KeramikStilgruppen_B.pdf', bbox_extra_artists=(lgd,), bbox_inches='tight')\n",
    "plt.show()"
   ]
  },
  {
   "cell_type": "code",
   "execution_count": 79,
   "metadata": {},
   "outputs": [
    {
     "data": {
      "text/html": [
       "<div>\n",
       "<style>\n",
       "    .dataframe thead tr:only-child th {\n",
       "        text-align: right;\n",
       "    }\n",
       "\n",
       "    .dataframe thead th {\n",
       "        text-align: left;\n",
       "    }\n",
       "\n",
       "    .dataframe tbody tr th {\n",
       "        vertical-align: top;\n",
       "    }\n",
       "</style>\n",
       "<table border=\"1\" class=\"dataframe\">\n",
       "  <thead>\n",
       "    <tr style=\"text-align: right;\">\n",
       "      <th></th>\n",
       "      <th>Typ1</th>\n",
       "      <th>Tiefe</th>\n",
       "      <th>0</th>\n",
       "    </tr>\n",
       "  </thead>\n",
       "  <tbody>\n",
       "    <tr>\n",
       "      <th>0</th>\n",
       "      <td>EBA</td>\n",
       "      <td>0.0</td>\n",
       "      <td>0.0</td>\n",
       "    </tr>\n",
       "    <tr>\n",
       "      <th>1</th>\n",
       "      <td>EBA</td>\n",
       "      <td>32.0</td>\n",
       "      <td>0.0</td>\n",
       "    </tr>\n",
       "    <tr>\n",
       "      <th>2</th>\n",
       "      <td>EBA</td>\n",
       "      <td>52.0</td>\n",
       "      <td>59.0</td>\n",
       "    </tr>\n",
       "    <tr>\n",
       "      <th>3</th>\n",
       "      <td>EBA</td>\n",
       "      <td>72.0</td>\n",
       "      <td>0.0</td>\n",
       "    </tr>\n",
       "    <tr>\n",
       "      <th>4</th>\n",
       "      <td>EBA</td>\n",
       "      <td>92.0</td>\n",
       "      <td>0.0</td>\n",
       "    </tr>\n",
       "  </tbody>\n",
       "</table>\n",
       "</div>"
      ],
      "text/plain": [
       "  Typ1  Tiefe     0\n",
       "0  EBA    0.0   0.0\n",
       "1  EBA   32.0   0.0\n",
       "2  EBA   52.0  59.0\n",
       "3  EBA   72.0   0.0\n",
       "4  EBA   92.0   0.0"
      ]
     },
     "metadata": {},
     "output_type": "display_data"
    }
   ],
   "source": [
    "df_l = df_pivot.unstack()\n",
    "df_l = pd.DataFrame(df_l)\n",
    "df_l = df_l.reset_index()\n",
    "display(df_l.head())"
   ]
  },
  {
   "cell_type": "code",
   "execution_count": 80,
   "metadata": {
    "collapsed": true
   },
   "outputs": [],
   "source": [
    "df_pivot.to_csv(\"../data/processed/9-08_PIK87-1_SeriationPivot_transf.csv\")\n",
    "df_l.to_csv(\"../data/processed/9-08_PIK87-1_SeriationList_transf.csv\")"
   ]
  },
  {
   "cell_type": "code",
   "execution_count": 81,
   "metadata": {
    "collapsed": true
   },
   "outputs": [],
   "source": [
    "#df_l.plot(kind = 'barh', by = df['Typ'])\n",
    "# plt.barh(df, by = df['Typ'])\n",
    "# by = df['Typ']\n",
    "\n",
    "#cols = len(pd.unique(df_l['Typ']))\n",
    "#fig, axes = plt.subplots(1, cols, figsize=(8, 8))\n",
    "#for i, c in enumerate(df_l.columns):\n",
    "#    df_l[c].plot(kind='bar', ax=axes[i], figsize=(12, 10), title=c)"
   ]
  },
  {
   "cell_type": "markdown",
   "metadata": {},
   "source": [
    "### Korrelation Stilgruppe / Scherben -- PKM vs MDB"
   ]
  },
  {
   "cell_type": "code",
   "execution_count": 82,
   "metadata": {},
   "outputs": [
    {
     "data": {
      "text/plain": [
       "400"
      ]
     },
     "execution_count": 82,
     "metadata": {},
     "output_type": "execute_result"
    }
   ],
   "source": [
    "sql = \"\"\"SELECT\n",
    "           t_Obj.objID, \n",
    "           t_Obj.Fabric, \n",
    "           t_Obj.Typ \n",
    "       FROM t_Obj \n",
    "       WHERE (((t_Obj.ort_kurz) = 'PIK')\n",
    "           AND ((t_Obj.Komplex) = '87/1')\n",
    "           AND ((t_Obj.Art) = \"K\")\n",
    "           AND ((t_Obj.Typ) != '')\n",
    "           AND ((t_Obj.Fabric) != ''))\"\"\".replace('\\n',' ')\n",
    "\n",
    "df = pd.read_sql(sql, con)\n",
    "\n",
    "df['Typ1'] = df['Typ']\n",
    "df['Typ1'] = df['Typ1'].map(lambda x: x.rstrip(' (?)'))\n",
    "df['Typ1'] = df['Typ1'].apply(lambda x: x.split('/')[0])\\\n",
    "\n",
    "df['Fabric1'] = df['Fabric']\n",
    "df['Fabric1'] = df['Fabric1'].map(lambda x: x.rstrip(' (?)'))\n",
    "df['Fabric1'] = df['Fabric1'].apply(lambda x: x.split('/')[0])\n",
    "len(df)"
   ]
  },
  {
   "cell_type": "code",
   "execution_count": 83,
   "metadata": {},
   "outputs": [
    {
     "data": {
      "text/plain": [
       "386"
      ]
     },
     "execution_count": 83,
     "metadata": {},
     "output_type": "execute_result"
    }
   ],
   "source": [
    "PKM = df.loc[df['Typ1'].str.contains(\"PKM\")]\n",
    "MDB = df.loc[df['Typ1'].str.contains(\"MDB\")]\n",
    "df2 = pd.concat([PKM, MDB])\n",
    "len(df2)"
   ]
  },
  {
   "cell_type": "code",
   "execution_count": 84,
   "metadata": {
    "collapsed": true
   },
   "outputs": [],
   "source": [
    "# Fabrics-Klassen:\n",
    "df2.loc[df2['Fabric1'].str.contains(\"1|2\"), 'Scherben'] = '1er'\n",
    "df2.loc[df2['Fabric1'].str.contains(\"3\"), 'Scherben'] = '3er'\n",
    "df2.loc[~df2['Fabric1'].str.contains(\"1|2|3\"), 'Scherben'] = 'Sonst.'"
   ]
  },
  {
   "cell_type": "code",
   "execution_count": 85,
   "metadata": {},
   "outputs": [
    {
     "data": {
      "text/html": [
       "<div>\n",
       "<style>\n",
       "    .dataframe thead tr:only-child th {\n",
       "        text-align: right;\n",
       "    }\n",
       "\n",
       "    .dataframe thead th {\n",
       "        text-align: left;\n",
       "    }\n",
       "\n",
       "    .dataframe tbody tr th {\n",
       "        vertical-align: top;\n",
       "    }\n",
       "</style>\n",
       "<table border=\"1\" class=\"dataframe\">\n",
       "  <thead>\n",
       "    <tr style=\"text-align: right;\">\n",
       "      <th></th>\n",
       "      <th>objID</th>\n",
       "      <th>Fabric</th>\n",
       "      <th>Typ</th>\n",
       "      <th>Typ1</th>\n",
       "      <th>Fabric1</th>\n",
       "      <th>Scherben</th>\n",
       "    </tr>\n",
       "  </thead>\n",
       "  <tbody>\n",
       "    <tr>\n",
       "      <th>0</th>\n",
       "      <td>475</td>\n",
       "      <td>1b</td>\n",
       "      <td>PKM</td>\n",
       "      <td>PKM</td>\n",
       "      <td>1b</td>\n",
       "      <td>1er</td>\n",
       "    </tr>\n",
       "    <tr>\n",
       "      <th>1</th>\n",
       "      <td>476</td>\n",
       "      <td>1d</td>\n",
       "      <td>PKM</td>\n",
       "      <td>PKM</td>\n",
       "      <td>1d</td>\n",
       "      <td>1er</td>\n",
       "    </tr>\n",
       "    <tr>\n",
       "      <th>2</th>\n",
       "      <td>477</td>\n",
       "      <td>1b</td>\n",
       "      <td>PKM</td>\n",
       "      <td>PKM</td>\n",
       "      <td>1b</td>\n",
       "      <td>1er</td>\n",
       "    </tr>\n",
       "    <tr>\n",
       "      <th>3</th>\n",
       "      <td>478</td>\n",
       "      <td>1b</td>\n",
       "      <td>PKM</td>\n",
       "      <td>PKM</td>\n",
       "      <td>1b</td>\n",
       "      <td>1er</td>\n",
       "    </tr>\n",
       "    <tr>\n",
       "      <th>5</th>\n",
       "      <td>480</td>\n",
       "      <td>1e</td>\n",
       "      <td>PKM</td>\n",
       "      <td>PKM</td>\n",
       "      <td>1e</td>\n",
       "      <td>1er</td>\n",
       "    </tr>\n",
       "  </tbody>\n",
       "</table>\n",
       "</div>"
      ],
      "text/plain": [
       "   objID Fabric  Typ Typ1 Fabric1 Scherben\n",
       "0    475     1b  PKM  PKM      1b      1er\n",
       "1    476     1d  PKM  PKM      1d      1er\n",
       "2    477     1b  PKM  PKM      1b      1er\n",
       "3    478     1b  PKM  PKM      1b      1er\n",
       "5    480     1e  PKM  PKM      1e      1er"
      ]
     },
     "execution_count": 85,
     "metadata": {},
     "output_type": "execute_result"
    }
   ],
   "source": [
    "df2.head()"
   ]
  },
  {
   "cell_type": "code",
   "execution_count": 86,
   "metadata": {},
   "outputs": [
    {
     "data": {
      "text/html": [
       "<div>\n",
       "<style>\n",
       "    .dataframe thead tr:only-child th {\n",
       "        text-align: right;\n",
       "    }\n",
       "\n",
       "    .dataframe thead th {\n",
       "        text-align: left;\n",
       "    }\n",
       "\n",
       "    .dataframe tbody tr th {\n",
       "        vertical-align: top;\n",
       "    }\n",
       "</style>\n",
       "<table border=\"1\" class=\"dataframe\">\n",
       "  <thead>\n",
       "    <tr style=\"text-align: right;\">\n",
       "      <th>Typ1</th>\n",
       "      <th>Scherben</th>\n",
       "      <th>MDB</th>\n",
       "      <th>PKM</th>\n",
       "      <th>All</th>\n",
       "    </tr>\n",
       "  </thead>\n",
       "  <tbody>\n",
       "    <tr>\n",
       "      <th>0</th>\n",
       "      <td>1er</td>\n",
       "      <td>0.0</td>\n",
       "      <td>157.0</td>\n",
       "      <td>157.0</td>\n",
       "    </tr>\n",
       "    <tr>\n",
       "      <th>1</th>\n",
       "      <td>3er</td>\n",
       "      <td>209.0</td>\n",
       "      <td>2.0</td>\n",
       "      <td>211.0</td>\n",
       "    </tr>\n",
       "    <tr>\n",
       "      <th>2</th>\n",
       "      <td>Sonst.</td>\n",
       "      <td>15.0</td>\n",
       "      <td>3.0</td>\n",
       "      <td>18.0</td>\n",
       "    </tr>\n",
       "    <tr>\n",
       "      <th>3</th>\n",
       "      <td>All</td>\n",
       "      <td>224.0</td>\n",
       "      <td>162.0</td>\n",
       "      <td>386.0</td>\n",
       "    </tr>\n",
       "  </tbody>\n",
       "</table>\n",
       "</div>"
      ],
      "text/plain": [
       "Typ1 Scherben    MDB    PKM    All\n",
       "0         1er    0.0  157.0  157.0\n",
       "1         3er  209.0    2.0  211.0\n",
       "2      Sonst.   15.0    3.0   18.0\n",
       "3         All  224.0  162.0  386.0"
      ]
     },
     "execution_count": 86,
     "metadata": {},
     "output_type": "execute_result"
    }
   ],
   "source": [
    "df_pivot = df2.pivot_table(values = 'objID', index = 'Scherben', columns = 'Typ1', aggfunc = len, margins = True, fill_value=0)\n",
    "df_pivot = df_pivot.reset_index()\n",
    "df_pivot"
   ]
  },
  {
   "cell_type": "code",
   "execution_count": 87,
   "metadata": {},
   "outputs": [
    {
     "name": "stdout",
     "output_type": "stream",
     "text": [
      "\\begin{tabular}{lrrr}\n",
      "\\toprule\n",
      "Scherben &    MDB &    PKM &    All \\\\\n",
      "\\midrule\n",
      "     1er &    0.0 &  157.0 &  157.0 \\\\\n",
      "     3er &  209.0 &    2.0 &  211.0 \\\\\n",
      "  Sonst. &   15.0 &    3.0 &   18.0 \\\\\n",
      "     All &  224.0 &  162.0 &  386.0 \\\\\n",
      "\\bottomrule\n",
      "\\end{tabular}\n",
      "\n"
     ]
    }
   ],
   "source": [
    "print(df_pivot.to_latex(index=False))"
   ]
  },
  {
   "cell_type": "markdown",
   "metadata": {},
   "source": [
    "\n",
    "## 1987 ausgesonderte Keramik"
   ]
  },
  {
   "cell_type": "code",
   "execution_count": 131,
   "metadata": {},
   "outputs": [
    {
     "name": "stderr",
     "output_type": "stream",
     "text": [
      "C:\\Program Files\\Anaconda3\\lib\\site-packages\\ipykernel\\__main__.py:19: FutureWarning: convert_objects is deprecated.  Use the data-type specific converters pd.to_datetime, pd.to_timedelta and pd.to_numeric.\n"
     ]
    },
    {
     "data": {
      "text/html": [
       "<div>\n",
       "<style>\n",
       "    .dataframe thead tr:only-child th {\n",
       "        text-align: right;\n",
       "    }\n",
       "\n",
       "    .dataframe thead th {\n",
       "        text-align: left;\n",
       "    }\n",
       "\n",
       "    .dataframe tbody tr th {\n",
       "        vertical-align: top;\n",
       "    }\n",
       "</style>\n",
       "<table border=\"1\" class=\"dataframe\">\n",
       "  <thead>\n",
       "    <tr style=\"text-align: right;\">\n",
       "      <th></th>\n",
       "      <th>ort_kurz</th>\n",
       "      <th>Komplex</th>\n",
       "      <th>Individuum</th>\n",
       "      <th>Typ</th>\n",
       "      <th>Anzahl</th>\n",
       "      <th>Gewicht</th>\n",
       "      <th>Gr_Clist</th>\n",
       "      <th>Art</th>\n",
       "      <th>Tiefe</th>\n",
       "      <th>Notiz</th>\n",
       "    </tr>\n",
       "  </thead>\n",
       "  <tbody>\n",
       "    <tr>\n",
       "      <th>0</th>\n",
       "      <td>PIK</td>\n",
       "      <td>87/1</td>\n",
       "      <td></td>\n",
       "      <td>MDB (?)</td>\n",
       "      <td></td>\n",
       "      <td>190</td>\n",
       "      <td></td>\n",
       "      <td>K</td>\n",
       "      <td>32</td>\n",
       "      <td>T 29; 1987 im Gelände ausgesondert</td>\n",
       "    </tr>\n",
       "    <tr>\n",
       "      <th>1</th>\n",
       "      <td>PIK</td>\n",
       "      <td>87/1</td>\n",
       "      <td></td>\n",
       "      <td>PKM (?)</td>\n",
       "      <td></td>\n",
       "      <td>210</td>\n",
       "      <td></td>\n",
       "      <td>K</td>\n",
       "      <td>252</td>\n",
       "      <td>T 245+; 1987 im Gelände ausgesondert</td>\n",
       "    </tr>\n",
       "    <tr>\n",
       "      <th>2</th>\n",
       "      <td>PIK</td>\n",
       "      <td>87/1</td>\n",
       "      <td>-1</td>\n",
       "      <td>MDB (?)</td>\n",
       "      <td></td>\n",
       "      <td>1970</td>\n",
       "      <td></td>\n",
       "      <td>K</td>\n",
       "      <td>32</td>\n",
       "      <td>1987 im Gelände ausgesondert</td>\n",
       "    </tr>\n",
       "    <tr>\n",
       "      <th>3</th>\n",
       "      <td>PIK</td>\n",
       "      <td>87/1</td>\n",
       "      <td>-1</td>\n",
       "      <td>None</td>\n",
       "      <td></td>\n",
       "      <td>560</td>\n",
       "      <td></td>\n",
       "      <td>K</td>\n",
       "      <td>32</td>\n",
       "      <td>1987 im Gelände ausgesondert \"glatt\"</td>\n",
       "    </tr>\n",
       "    <tr>\n",
       "      <th>4</th>\n",
       "      <td>PIK</td>\n",
       "      <td>87/1</td>\n",
       "      <td>-2</td>\n",
       "      <td>MDB (?)</td>\n",
       "      <td></td>\n",
       "      <td>2710</td>\n",
       "      <td></td>\n",
       "      <td>K</td>\n",
       "      <td>52</td>\n",
       "      <td>1987 im Gelände ausgesondert</td>\n",
       "    </tr>\n",
       "  </tbody>\n",
       "</table>\n",
       "</div>"
      ],
      "text/plain": [
       "  ort_kurz Komplex Individuum      Typ Anzahl  Gewicht Gr_Clist Art  Tiefe  \\\n",
       "0      PIK    87/1             MDB (?)             190            K     32   \n",
       "1      PIK    87/1             PKM (?)             210            K    252   \n",
       "2      PIK    87/1         -1  MDB (?)            1970            K     32   \n",
       "3      PIK    87/1         -1     None             560            K     32   \n",
       "4      PIK    87/1         -2  MDB (?)            2710            K     52   \n",
       "\n",
       "                                  Notiz  \n",
       "0    T 29; 1987 im Gelände ausgesondert  \n",
       "1  T 245+; 1987 im Gelände ausgesondert  \n",
       "2          1987 im Gelände ausgesondert  \n",
       "3  1987 im Gelände ausgesondert \"glatt\"  \n",
       "4          1987 im Gelände ausgesondert  "
      ]
     },
     "metadata": {},
     "output_type": "display_data"
    }
   ],
   "source": [
    "sql = \"\"\"SELECT\n",
    "           t_Obj.ort_kurz, \n",
    "           t_Obj.Komplex, \n",
    "           t_Obj.Individuum, \n",
    "           t_Obj.Typ, \n",
    "           t_Obj.Anzahl, \n",
    "           t_Obj.Gewicht,\n",
    "           t_Obj.Gr_Clist, \n",
    "           t_Obj.Art,\n",
    "           t_Obj.Tiefe,\n",
    "           t_Obj.Notiz\n",
    "       FROM t_Obj \n",
    "       WHERE (((t_Obj.ort_kurz) = 'PIK')\n",
    "           AND ((t_Obj.Komplex) = '87/1')\n",
    "           AND ((t_Obj.Art) = \"K\")\n",
    "           AND ((t_Obj.Anzahl) != 1))\"\"\".replace('\\n',' ')\n",
    "\n",
    "df = pd.read_sql(sql, con)\n",
    "df['Tiefe'] = df['Tiefe'].convert_objects(convert_numeric=True)\n",
    "# Leerstellen in 'Typ' ersetzen\n",
    "df['Typ'] = df['Typ'].replace('','(?)')\n",
    "display(df.head())"
   ]
  },
  {
   "cell_type": "code",
   "execution_count": 132,
   "metadata": {},
   "outputs": [
    {
     "data": {
      "text/plain": [
       "11300"
      ]
     },
     "execution_count": 132,
     "metadata": {},
     "output_type": "execute_result"
    }
   ],
   "source": [
    "a = np.sum(df['Gewicht'])\n",
    "a"
   ]
  },
  {
   "cell_type": "code",
   "execution_count": 133,
   "metadata": {},
   "outputs": [
    {
     "data": {
      "text/html": [
       "<div>\n",
       "<style>\n",
       "    .dataframe thead tr:only-child th {\n",
       "        text-align: right;\n",
       "    }\n",
       "\n",
       "    .dataframe thead th {\n",
       "        text-align: left;\n",
       "    }\n",
       "\n",
       "    .dataframe tbody tr th {\n",
       "        vertical-align: top;\n",
       "    }\n",
       "</style>\n",
       "<table border=\"1\" class=\"dataframe\">\n",
       "  <thead>\n",
       "    <tr style=\"text-align: right;\">\n",
       "      <th></th>\n",
       "      <th>Gewicht</th>\n",
       "    </tr>\n",
       "    <tr>\n",
       "      <th>Tiefe</th>\n",
       "      <th></th>\n",
       "    </tr>\n",
       "  </thead>\n",
       "  <tbody>\n",
       "    <tr>\n",
       "      <th>32</th>\n",
       "      <td>2720</td>\n",
       "    </tr>\n",
       "    <tr>\n",
       "      <th>52</th>\n",
       "      <td>3550</td>\n",
       "    </tr>\n",
       "    <tr>\n",
       "      <th>72</th>\n",
       "      <td>1960</td>\n",
       "    </tr>\n",
       "    <tr>\n",
       "      <th>92</th>\n",
       "      <td>990</td>\n",
       "    </tr>\n",
       "    <tr>\n",
       "      <th>112</th>\n",
       "      <td>200</td>\n",
       "    </tr>\n",
       "    <tr>\n",
       "      <th>132</th>\n",
       "      <td>160</td>\n",
       "    </tr>\n",
       "    <tr>\n",
       "      <th>152</th>\n",
       "      <td>270</td>\n",
       "    </tr>\n",
       "    <tr>\n",
       "      <th>172</th>\n",
       "      <td>300</td>\n",
       "    </tr>\n",
       "    <tr>\n",
       "      <th>192</th>\n",
       "      <td>330</td>\n",
       "    </tr>\n",
       "    <tr>\n",
       "      <th>212</th>\n",
       "      <td>140</td>\n",
       "    </tr>\n",
       "    <tr>\n",
       "      <th>252</th>\n",
       "      <td>370</td>\n",
       "    </tr>\n",
       "    <tr>\n",
       "      <th>272</th>\n",
       "      <td>100</td>\n",
       "    </tr>\n",
       "    <tr>\n",
       "      <th>292</th>\n",
       "      <td>100</td>\n",
       "    </tr>\n",
       "    <tr>\n",
       "      <th>334</th>\n",
       "      <td>110</td>\n",
       "    </tr>\n",
       "  </tbody>\n",
       "</table>\n",
       "</div>"
      ],
      "text/plain": [
       "       Gewicht\n",
       "Tiefe         \n",
       "32        2720\n",
       "52        3550\n",
       "72        1960\n",
       "92         990\n",
       "112        200\n",
       "132        160\n",
       "152        270\n",
       "172        300\n",
       "192        330\n",
       "212        140\n",
       "252        370\n",
       "272        100\n",
       "292        100\n",
       "334        110"
      ]
     },
     "execution_count": 133,
     "metadata": {},
     "output_type": "execute_result"
    }
   ],
   "source": [
    "df_pivot = df.pivot_table(values = 'Gewicht', index = 'Tiefe', aggfunc = sum)\n",
    "# df_pivot = df.pivot_table(values = 'Gewicht', index = 'Tiefe', columns = 'Typ', aggfunc = sum)\n",
    "df_pivot = df_pivot.fillna(0)\n",
    "df_pivot"
   ]
  },
  {
   "cell_type": "code",
   "execution_count": 134,
   "metadata": {},
   "outputs": [
    {
     "ename": "AttributeError",
     "evalue": "'AxesSubplot' object has no attribute 'xlabel'",
     "output_type": "error",
     "traceback": [
      "\u001b[1;31m---------------------------------------------------------------------------\u001b[0m",
      "\u001b[1;31mAttributeError\u001b[0m                            Traceback (most recent call last)",
      "\u001b[1;32m<ipython-input-134-bea9639cb4b5>\u001b[0m in \u001b[0;36m<module>\u001b[1;34m()\u001b[0m\n\u001b[0;32m      4\u001b[0m \u001b[0max\u001b[0m \u001b[1;33m=\u001b[0m \u001b[0mdf_pivot\u001b[0m\u001b[1;33m.\u001b[0m\u001b[0mplot\u001b[0m\u001b[1;33m(\u001b[0m\u001b[0mkind\u001b[0m \u001b[1;33m=\u001b[0m \u001b[1;34m'barh'\u001b[0m\u001b[1;33m,\u001b[0m \u001b[0mcolor\u001b[0m \u001b[1;33m=\u001b[0m \u001b[1;34m'gray'\u001b[0m\u001b[1;33m)\u001b[0m\u001b[1;33m\u001b[0m\u001b[0m\n\u001b[0;32m      5\u001b[0m \u001b[1;31m# df_pivot.plot(kind = 'barh', stacked=True, cmap = 'Paired')\u001b[0m\u001b[1;33m\u001b[0m\u001b[1;33m\u001b[0m\u001b[0m\n\u001b[1;32m----> 6\u001b[1;33m \u001b[0mplt\u001b[0m\u001b[1;33m.\u001b[0m\u001b[0mxlabel\u001b[0m\u001b[1;33m(\u001b[0m\u001b[1;34m'Gewicht [g]'\u001b[0m\u001b[1;33m)\u001b[0m\u001b[1;33m\u001b[0m\u001b[0m\n\u001b[0m\u001b[0;32m      7\u001b[0m \u001b[0mplt\u001b[0m\u001b[1;33m.\u001b[0m\u001b[0mylabel\u001b[0m\u001b[1;33m(\u001b[0m\u001b[1;34m'Tiefe [cm u. Obfl.]'\u001b[0m\u001b[1;33m)\u001b[0m\u001b[1;33m\u001b[0m\u001b[0m\n\u001b[0;32m      8\u001b[0m \u001b[0mplt\u001b[0m\u001b[1;33m.\u001b[0m\u001b[0mgca\u001b[0m\u001b[1;33m(\u001b[0m\u001b[1;33m)\u001b[0m\u001b[1;33m.\u001b[0m\u001b[0minvert_yaxis\u001b[0m\u001b[1;33m(\u001b[0m\u001b[1;33m)\u001b[0m\u001b[1;33m\u001b[0m\u001b[0m\n",
      "\u001b[1;31mAttributeError\u001b[0m: 'AxesSubplot' object has no attribute 'xlabel'"
     ]
    },
    {
     "data": {
      "image/png": "[encoded data removed]",
      "text/plain": [
       "<matplotlib.figure.Figure at 0x27bd6691e48>"
      ]
     },
     "metadata": {},
     "output_type": "display_data"
    }
   ],
   "source": [
    "#fig = plt.figure(1)\n",
    "#fig.set_size_inches(12, 5.5)\n",
    "\n",
    "ax = df_pivot.plot(kind = 'barh', color = 'gray')\n",
    "# df_pivot.plot(kind = 'barh', stacked=True, cmap = 'Paired')\n",
    "plt.xlabel('Gewicht [g]')\n",
    "plt.ylabel('Tiefe [cm u. Obfl.]')\n",
    "plt.gca().invert_yaxis()\n",
    "xlim = ax.get_xlim()\n",
    "ylim = ax.get_ylim()\n",
    "plt.gca().set_aspect((0.4*(abs(xlim[0]) + abs(xlim[1]))) / (abs(ylim[0]) + abs(ylim[1])))\n",
    "#plt.gca().set_aspect((abs(xlim[0]) + abs(xlim[1])) / (abs(ylim[0]) + abs(ylim[1])))\n",
    "plt.savefig('../output/figs/9-8_PIK87-1-1987ausgesondert_A.pdf', bbox_inches='tight')\n",
    "plt.show()"
   ]
  },
  {
   "cell_type": "markdown",
   "metadata": {},
   "source": [
    "> **PIK 87/1** 1987 ausgesonderte Keramik"
   ]
  },
  {
   "cell_type": "code",
   "execution_count": 92,
   "metadata": {
    "collapsed": true
   },
   "outputs": [],
   "source": [
    "df_pivot = df.pivot_table(values = 'Gewicht', index = 'Tiefe', columns = 'Typ', aggfunc = sum)"
   ]
  },
  {
   "cell_type": "code",
   "execution_count": 93,
   "metadata": {},
   "outputs": [
    {
     "data": {
      "image/png": "[encoded data removed]",
      "text/plain": [
       "<matplotlib.figure.Figure at 0x27bd62cca20>"
      ]
     },
     "metadata": {},
     "output_type": "display_data"
    }
   ],
   "source": [
    "ax = df_pivot.plot(kind = 'barh', stacked = True)\n",
    "plt.xlabel('Gewicht [g]')\n",
    "plt.ylabel('Tiefe [cm u. Obfl.]')\n",
    "plt.gca().invert_yaxis()\n",
    "xlim = ax.get_xlim()\n",
    "ylim = ax.get_ylim()\n",
    "plt.gca().set_aspect((abs(xlim[0]) + abs(xlim[1])) / (abs(ylim[0]) + abs(ylim[1])))\n",
    "lgd = plt.legend(bbox_to_anchor=(1.02, 1), loc = 2, borderaxespad = 0., prop={'size':8})\n",
    "plt.tight_layout()\n",
    "plt.savefig('../output/figs/9-8_PIK87-1-1987ausgesondert_B.pdf', bbox_inches='tight')\n",
    "plt.show()"
   ]
  },
  {
   "cell_type": "code",
   "execution_count": 117,
   "metadata": {},
   "outputs": [
    {
     "data": {
      "text/html": [
       "<div>\n",
       "<table border=\"1\" class=\"dataframe\">\n",
       "  <thead>\n",
       "    <tr style=\"text-align: right;\">\n",
       "      <th></th>\n",
       "      <th>0</th>\n",
       "      <th>Prozent</th>\n",
       "    </tr>\n",
       "  </thead>\n",
       "  <tbody>\n",
       "    <tr>\n",
       "      <th>aufgehoben</th>\n",
       "      <td>23279</td>\n",
       "      <td>67.321207</td>\n",
       "    </tr>\n",
       "    <tr>\n",
       "      <th>ausgesondert</th>\n",
       "      <td>11300</td>\n",
       "      <td>32.678793</td>\n",
       "    </tr>\n",
       "  </tbody>\n",
       "</table>\n",
       "</div>"
      ],
      "text/plain": [
       "                  0    Prozent\n",
       "aufgehoben    23279  67.321207\n",
       "ausgesondert  11300  32.678793"
      ]
     },
     "execution_count": 117,
     "metadata": {},
     "output_type": "execute_result"
    }
   ],
   "source": [
    "# Gewicht aller Keramik\n",
    "sql = \"\"\"SELECT\n",
    "           t_Obj.Gewicht\n",
    "       FROM t_Obj \n",
    "       WHERE (((t_Obj.ort_kurz) = 'PIK')\n",
    "           AND ((t_Obj.Komplex) = '87/1')\n",
    "           AND ((t_Obj.Art) = \"K\"))\"\"\".replace('\\n',' ')\n",
    "\n",
    "df = pd.read_sql(sql, con)\n",
    "\n",
    "\n",
    "\n",
    "c = pd.Series({'aufgehoben':np.sum(df['Gewicht']),\n",
    "               'ausgesondert':a})\n",
    "c = pd.DataFrame(c)\n",
    "c['Prozent'] = c[0]/c[0].sum()*100\n",
    "c"
   ]
  },
  {
   "cell_type": "markdown",
   "metadata": {},
   "source": [
    "## Zusammensetzungen zwischen den Abträgen (nur PIK/MUN-Gr)"
   ]
  },
  {
   "cell_type": "code",
   "execution_count": 118,
   "metadata": {},
   "outputs": [
    {
     "data": {
      "text/html": [
       "<div>\n",
       "<table border=\"1\" class=\"dataframe\">\n",
       "  <thead>\n",
       "    <tr style=\"text-align: right;\">\n",
       "      <th></th>\n",
       "      <th>objID</th>\n",
       "      <th>ort_kurz</th>\n",
       "      <th>Komplex</th>\n",
       "      <th>Individuum</th>\n",
       "      <th>Typ</th>\n",
       "      <th>Gewicht</th>\n",
       "      <th>Gr_Clist</th>\n",
       "      <th>Art</th>\n",
       "      <th>Tiefe</th>\n",
       "    </tr>\n",
       "  </thead>\n",
       "  <tbody>\n",
       "    <tr>\n",
       "      <th>0</th>\n",
       "      <td>486</td>\n",
       "      <td>PIK</td>\n",
       "      <td>87/1</td>\n",
       "      <td>-1:101 -2:67</td>\n",
       "      <td>MDB</td>\n",
       "      <td>76</td>\n",
       "      <td>70</td>\n",
       "      <td>K</td>\n",
       "      <td>52</td>\n",
       "    </tr>\n",
       "    <tr>\n",
       "      <th>1</th>\n",
       "      <td>516</td>\n",
       "      <td>PIK</td>\n",
       "      <td>87/1</td>\n",
       "      <td>-10:7 -11:1 /I-11:4 /I-12:2</td>\n",
       "      <td>PKM</td>\n",
       "      <td>174</td>\n",
       "      <td>120</td>\n",
       "      <td>K</td>\n",
       "      <td>232</td>\n",
       "    </tr>\n",
       "    <tr>\n",
       "      <th>2</th>\n",
       "      <td>544</td>\n",
       "      <td>PIK</td>\n",
       "      <td>87/1</td>\n",
       "      <td>-2:114 -7:8</td>\n",
       "      <td>PKM</td>\n",
       "      <td>43</td>\n",
       "      <td>120</td>\n",
       "      <td>K</td>\n",
       "      <td>52</td>\n",
       "    </tr>\n",
       "    <tr>\n",
       "      <th>3</th>\n",
       "      <td>564</td>\n",
       "      <td>PIK</td>\n",
       "      <td>87/1</td>\n",
       "      <td>-2:3 -3:7</td>\n",
       "      <td>MDB</td>\n",
       "      <td>494</td>\n",
       "      <td>200</td>\n",
       "      <td>K</td>\n",
       "      <td>72</td>\n",
       "    </tr>\n",
       "    <tr>\n",
       "      <th>4</th>\n",
       "      <td>570</td>\n",
       "      <td>PIK</td>\n",
       "      <td>87/1</td>\n",
       "      <td>-1:72 -2:5</td>\n",
       "      <td>MDB</td>\n",
       "      <td>328</td>\n",
       "      <td>200</td>\n",
       "      <td>K</td>\n",
       "      <td>52</td>\n",
       "    </tr>\n",
       "    <tr>\n",
       "      <th>5</th>\n",
       "      <td>584</td>\n",
       "      <td>PIK</td>\n",
       "      <td>87/1</td>\n",
       "      <td>-2:119 -3:5 -4:6</td>\n",
       "      <td>MDB</td>\n",
       "      <td>146</td>\n",
       "      <td>120</td>\n",
       "      <td>K</td>\n",
       "      <td>92</td>\n",
       "    </tr>\n",
       "    <tr>\n",
       "      <th>6</th>\n",
       "      <td>619</td>\n",
       "      <td>PIK</td>\n",
       "      <td>87/1</td>\n",
       "      <td>-4:50 -5:12</td>\n",
       "      <td>PKM</td>\n",
       "      <td>20</td>\n",
       "      <td>70</td>\n",
       "      <td>K</td>\n",
       "      <td>112</td>\n",
       "    </tr>\n",
       "    <tr>\n",
       "      <th>7</th>\n",
       "      <td>639</td>\n",
       "      <td>PIK</td>\n",
       "      <td>87/1</td>\n",
       "      <td>-5:1 -6:10 -7:12 - 9:6</td>\n",
       "      <td>PKM</td>\n",
       "      <td>100</td>\n",
       "      <td>120</td>\n",
       "      <td>K</td>\n",
       "      <td>192</td>\n",
       "    </tr>\n",
       "    <tr>\n",
       "      <th>8</th>\n",
       "      <td>655</td>\n",
       "      <td>PIK</td>\n",
       "      <td>87/1</td>\n",
       "      <td>-7:1 -8:4</td>\n",
       "      <td>PKM</td>\n",
       "      <td>462</td>\n",
       "      <td>200</td>\n",
       "      <td>K</td>\n",
       "      <td>172</td>\n",
       "    </tr>\n",
       "    <tr>\n",
       "      <th>9</th>\n",
       "      <td>657</td>\n",
       "      <td>PIK</td>\n",
       "      <td>87/1</td>\n",
       "      <td>-6:4 -7:10</td>\n",
       "      <td>PKM</td>\n",
       "      <td>10</td>\n",
       "      <td>70</td>\n",
       "      <td>K</td>\n",
       "      <td>152</td>\n",
       "    </tr>\n",
       "    <tr>\n",
       "      <th>10</th>\n",
       "      <td>682</td>\n",
       "      <td>PIK</td>\n",
       "      <td>87/1</td>\n",
       "      <td>-8:6 /I-8:1,6 /I-9:1,3-4</td>\n",
       "      <td>PKM</td>\n",
       "      <td>1540</td>\n",
       "      <td>200</td>\n",
       "      <td>K</td>\n",
       "      <td>192</td>\n",
       "    </tr>\n",
       "    <tr>\n",
       "      <th>11</th>\n",
       "      <td>2767</td>\n",
       "      <td>PIK</td>\n",
       "      <td>87/1</td>\n",
       "      <td>-2:ohne Nr</td>\n",
       "      <td>PKM</td>\n",
       "      <td>5</td>\n",
       "      <td>30</td>\n",
       "      <td>K</td>\n",
       "      <td>52</td>\n",
       "    </tr>\n",
       "    <tr>\n",
       "      <th>12</th>\n",
       "      <td>2809</td>\n",
       "      <td>PIK</td>\n",
       "      <td>87/1</td>\n",
       "      <td>-2:123 -3:8</td>\n",
       "      <td>MDB</td>\n",
       "      <td>114</td>\n",
       "      <td>120</td>\n",
       "      <td>K</td>\n",
       "      <td>72</td>\n",
       "    </tr>\n",
       "    <tr>\n",
       "      <th>13</th>\n",
       "      <td>2812</td>\n",
       "      <td>PIK</td>\n",
       "      <td>87/1</td>\n",
       "      <td>-2:16 -3:17</td>\n",
       "      <td>MDB (?)</td>\n",
       "      <td>20</td>\n",
       "      <td>70</td>\n",
       "      <td>K</td>\n",
       "      <td>72</td>\n",
       "    </tr>\n",
       "    <tr>\n",
       "      <th>14</th>\n",
       "      <td>2817</td>\n",
       "      <td>PIK</td>\n",
       "      <td>87/1</td>\n",
       "      <td>-2:8 -3:126</td>\n",
       "      <td>MDB</td>\n",
       "      <td>21</td>\n",
       "      <td>70</td>\n",
       "      <td>K</td>\n",
       "      <td>72</td>\n",
       "    </tr>\n",
       "  </tbody>\n",
       "</table>\n",
       "</div>"
      ],
      "text/plain": [
       "    objID ort_kurz Komplex                   Individuum      Typ  Gewicht  \\\n",
       "0     486      PIK    87/1                 -1:101 -2:67      MDB       76   \n",
       "1     516      PIK    87/1  -10:7 -11:1 /I-11:4 /I-12:2      PKM      174   \n",
       "2     544      PIK    87/1                  -2:114 -7:8      PKM       43   \n",
       "3     564      PIK    87/1                    -2:3 -3:7      MDB      494   \n",
       "4     570      PIK    87/1                   -1:72 -2:5      MDB      328   \n",
       "5     584      PIK    87/1             -2:119 -3:5 -4:6      MDB      146   \n",
       "6     619      PIK    87/1                  -4:50 -5:12      PKM       20   \n",
       "7     639      PIK    87/1       -5:1 -6:10 -7:12 - 9:6      PKM      100   \n",
       "8     655      PIK    87/1                    -7:1 -8:4      PKM      462   \n",
       "9     657      PIK    87/1                   -6:4 -7:10      PKM       10   \n",
       "10    682      PIK    87/1     -8:6 /I-8:1,6 /I-9:1,3-4      PKM     1540   \n",
       "11   2767      PIK    87/1                   -2:ohne Nr      PKM        5   \n",
       "12   2809      PIK    87/1                  -2:123 -3:8      MDB      114   \n",
       "13   2812      PIK    87/1                  -2:16 -3:17  MDB (?)       20   \n",
       "14   2817      PIK    87/1                  -2:8 -3:126      MDB       21   \n",
       "\n",
       "    Gr_Clist Art Tiefe  \n",
       "0         70   K    52  \n",
       "1        120   K   232  \n",
       "2        120   K    52  \n",
       "3        200   K    72  \n",
       "4        200   K    52  \n",
       "5        120   K    92  \n",
       "6         70   K   112  \n",
       "7        120   K   192  \n",
       "8        200   K   172  \n",
       "9         70   K   152  \n",
       "10       200   K   192  \n",
       "11        30   K    52  \n",
       "12       120   K    72  \n",
       "13        70   K    72  \n",
       "14        70   K    72  "
      ]
     },
     "metadata": {},
     "output_type": "display_data"
    }
   ],
   "source": [
    "sql = \"\"\"SELECT\n",
    "           t_Obj.ObjID,\n",
    "           t_Obj.ort_kurz, \n",
    "           t_Obj.Komplex, \n",
    "           t_Obj.Individuum, \n",
    "           t_Obj.Typ, \n",
    "           t_Obj.Gewicht,\n",
    "           t_Obj.Gr_Clist, \n",
    "           t_Obj.Art,\n",
    "           t_Obj.Tiefe \n",
    "       FROM (t_Ort INNER JOIN t_Komplex ON t_Ort.ortID = t_Komplex.ortID)\n",
    "           INNER JOIN t_Obj ON t_Komplex.komplexID = t_Obj.komplexID\n",
    "       WHERE (((t_Ort.ort_kurz) = 'PIK')\n",
    "           AND ((t_Komplex.bef_nr) = '87/1')\n",
    "           AND ((t_obj.Individuum) Like '% %'))\"\"\".replace('\\n',' ')\n",
    "\n",
    "#            AND ((t_obj.Individuum) Like '%,%')\n",
    "\n",
    "df = pd.read_sql(sql, con)\n",
    "display(df)"
   ]
  },
  {
   "cell_type": "code",
   "execution_count": 119,
   "metadata": {
    "collapsed": true
   },
   "outputs": [],
   "source": [
    "# manuell erstelle CSV-Datei einlesen\n",
    "df = pd.read_csv('../data/base/PIK87-1_Keramik_Zusammensetzungen.csv')\n",
    "# display(df.head())"
   ]
  },
  {
   "cell_type": "code",
   "execution_count": 120,
   "metadata": {},
   "outputs": [
    {
     "data": {
      "text/plain": [
       "<matplotlib.text.Text at 0x22558d00940>"
      ]
     },
     "execution_count": 120,
     "metadata": {},
     "output_type": "execute_result"
    },
    {
     "data": {
      "image/png": "[encoded data removed]",
      "text/plain": [
       "<matplotlib.figure.Figure at 0x22559885438>"
      ]
     },
     "metadata": {},
     "output_type": "display_data"
    }
   ],
   "source": [
    "x = df['ID']\n",
    "y = df['Abtrag']\n",
    "plt.scatter(x, y)\n",
    "plt.xlabel(\"ID\")\n",
    "plt.ylabel(\"Abtrag\")"
   ]
  },
  {
   "cell_type": "markdown",
   "metadata": {},
   "source": [
    "## Fragmentierung"
   ]
  },
  {
   "cell_type": "code",
   "execution_count": 121,
   "metadata": {},
   "outputs": [
    {
     "data": {
      "text/html": [
       "<div>\n",
       "<table border=\"1\" class=\"dataframe\">\n",
       "  <thead>\n",
       "    <tr style=\"text-align: right;\">\n",
       "      <th></th>\n",
       "      <th>ort_kurz</th>\n",
       "      <th>Komplex</th>\n",
       "      <th>Individuum</th>\n",
       "      <th>Gr_Clist</th>\n",
       "      <th>Art</th>\n",
       "    </tr>\n",
       "  </thead>\n",
       "  <tbody>\n",
       "    <tr>\n",
       "      <th>0</th>\n",
       "      <td>PIK</td>\n",
       "      <td>87/1</td>\n",
       "      <td>1</td>\n",
       "      <td>70</td>\n",
       "      <td>K</td>\n",
       "    </tr>\n",
       "    <tr>\n",
       "      <th>1</th>\n",
       "      <td>PIK</td>\n",
       "      <td>87/1</td>\n",
       "      <td>4</td>\n",
       "      <td>70</td>\n",
       "      <td>K</td>\n",
       "    </tr>\n",
       "    <tr>\n",
       "      <th>2</th>\n",
       "      <td>PIK</td>\n",
       "      <td>87/1</td>\n",
       "      <td>5</td>\n",
       "      <td>70</td>\n",
       "      <td>K</td>\n",
       "    </tr>\n",
       "    <tr>\n",
       "      <th>3</th>\n",
       "      <td>PIK</td>\n",
       "      <td>87/1</td>\n",
       "      <td>6</td>\n",
       "      <td>70</td>\n",
       "      <td>K</td>\n",
       "    </tr>\n",
       "    <tr>\n",
       "      <th>4</th>\n",
       "      <td>PIK</td>\n",
       "      <td>87/1</td>\n",
       "      <td>7</td>\n",
       "      <td>70</td>\n",
       "      <td>K</td>\n",
       "    </tr>\n",
       "  </tbody>\n",
       "</table>\n",
       "</div>"
      ],
      "text/plain": [
       "  ort_kurz Komplex Individuum  Gr_Clist Art\n",
       "0      PIK    87/1          1        70   K\n",
       "1      PIK    87/1          4        70   K\n",
       "2      PIK    87/1          5        70   K\n",
       "3      PIK    87/1          6        70   K\n",
       "4      PIK    87/1          7        70   K"
      ]
     },
     "metadata": {},
     "output_type": "display_data"
    }
   ],
   "source": [
    "sql = \"\"\"SELECT\n",
    "           t_Obj.ort_kurz, \n",
    "           t_Obj.Komplex, \n",
    "           t_Obj.Individuum, \n",
    "           t_Obj.Gr_Clist, \n",
    "           t_Obj.Art \n",
    "       FROM t_Obj \n",
    "       WHERE (((t_Obj.ort_kurz) = 'PIK')\n",
    "           AND ((t_Obj.Komplex) = '87/1')\n",
    "           AND ((t_Obj.Art) = \"K\")\n",
    "           AND ((t_obj.Gr_Clist) != ''))\"\"\".replace('\\n',' ')\n",
    "\n",
    "df = pd.read_sql(sql, con)\n",
    "display(df.head())"
   ]
  },
  {
   "cell_type": "code",
   "execution_count": 122,
   "metadata": {},
   "outputs": [
    {
     "data": {
      "text/plain": [
       "Gr_Clist\n",
       "30      235.0\n",
       "70      197.0\n",
       "120      24.0\n",
       "200       6.0\n",
       ">200      0.0\n",
       "Name: ort_kurz, dtype: float64"
      ]
     },
     "execution_count": 122,
     "metadata": {},
     "output_type": "execute_result"
    }
   ],
   "source": [
    "df_pivot = df.pivot_table(values = 'ort_kurz', index = 'Gr_Clist', aggfunc = len)\n",
    "# da es in PIK 87/1 keine Keramik größer als 20 gab, müssen Dummy-Werte manuell eingefügt werden:\n",
    "df_pivot['>200'] = 0.\n",
    "df_pivot"
   ]
  },
  {
   "cell_type": "code",
   "execution_count": 123,
   "metadata": {},
   "outputs": [
    {
     "data": {
      "image/png": "[encoded data removed]",
      "text/plain": [
       "<matplotlib.figure.Figure at 0x225591f9e48>"
      ]
     },
     "metadata": {},
     "output_type": "display_data"
    }
   ],
   "source": [
    "df_pivot.plot(kind = 'bar', color = 'grey')\n",
    "plt.xticks(rotation=0)\n",
    "plt.xlabel('Größenklassen')\n",
    "plt.ylabel('Anzahl')\n",
    "plt.savefig('../output/figs/9-8_PIK87-1_Fragmentierung.pdf', bbox_inches='tight')\n",
    "plt.show()"
   ]
  },
  {
   "cell_type": "markdown",
   "metadata": {},
   "source": [
    "> **PIK 87/1** Fragmentierung"
   ]
  },
  {
   "cell_type": "markdown",
   "metadata": {},
   "source": [
    "getrennt nach den beiden Gruben:"
   ]
  },
  {
   "cell_type": "code",
   "execution_count": 126,
   "metadata": {
    "collapsed": true
   },
   "outputs": [],
   "source": [
    "# MDB-Keramik in Grube A\n",
    "sql = \"\"\"SELECT\n",
    "           t_Obj.ort_kurz, \n",
    "           t_Obj.Komplex, \n",
    "           t_Obj.Individuum, \n",
    "           t_Obj.Gr_Clist, \n",
    "           t_Obj.Art \n",
    "       FROM t_Obj \n",
    "       WHERE (((t_Obj.ort_kurz) = 'PIK')\n",
    "           AND ((t_Obj.Komplex) = '87/1')\n",
    "           AND ((t_Obj.Art) = \"K\")\n",
    "           AND ((t_obj.Gr_Clist) != '')\n",
    "           AND ((t_Obj.Typ) Like '%MDB%'))\"\"\".replace('\\n',' ')\n",
    "\n",
    "df1 = pd.read_sql(sql, con)\n",
    "df_pivot1 = df1.pivot_table(values = 'ort_kurz', index = 'Gr_Clist', aggfunc = len)\n",
    "df_pivot1['>200'] = 0.\n",
    "\n",
    "# PIK/MUN-Keramik in Grube B1/B2\n",
    "sql = \"\"\"SELECT\n",
    "           t_Obj.ort_kurz, \n",
    "           t_Obj.Komplex, \n",
    "           t_Obj.Individuum, \n",
    "           t_Obj.Gr_Clist, \n",
    "           t_Obj.Art \n",
    "       FROM t_Obj \n",
    "       WHERE (((t_Obj.ort_kurz) = 'PIK')\n",
    "           AND ((t_Obj.Komplex) = '87/1')\n",
    "           AND ((t_Obj.Art) = \"K\")\n",
    "           AND ((t_obj.Gr_Clist) != '')\n",
    "           AND ((t_Obj.Typ) Like '%PIK%'))\"\"\".replace('\\n',' ')\n",
    "\n",
    "df2 = pd.read_sql(sql, con)\n",
    "df_pivot2 = df2.pivot_table(values = 'ort_kurz', index = 'Gr_Clist', aggfunc = len)\n",
    "df_pivot2['>200'] = 0.\n",
    "\n",
    "#display(df.head())"
   ]
  },
  {
   "cell_type": "code",
   "execution_count": 127,
   "metadata": {},
   "outputs": [
    {
     "ename": "TypeError",
     "evalue": "Empty 'DataFrame': no numeric data to plot",
     "output_type": "error",
     "traceback": [
      "\u001b[0;31m---------------------------------------------------------------------------\u001b[0m",
      "\u001b[0;31mTypeError\u001b[0m                                 Traceback (most recent call last)",
      "\u001b[0;32m<ipython-input-127-3473596918e2>\u001b[0m in \u001b[0;36m<module>\u001b[0;34m()\u001b[0m\n\u001b[1;32m     10\u001b[0m \u001b[1;33m\u001b[0m\u001b[0m\n\u001b[1;32m     11\u001b[0m \u001b[0mplt\u001b[0m\u001b[1;33m.\u001b[0m\u001b[0msubplot\u001b[0m\u001b[1;33m(\u001b[0m\u001b[1;36m122\u001b[0m\u001b[1;33m)\u001b[0m\u001b[1;33m\u001b[0m\u001b[0m\n\u001b[0;32m---> 12\u001b[0;31m \u001b[0mdf_pivot2\u001b[0m\u001b[1;33m.\u001b[0m\u001b[0mplot\u001b[0m\u001b[1;33m(\u001b[0m\u001b[0mkind\u001b[0m \u001b[1;33m=\u001b[0m \u001b[1;34m'bar'\u001b[0m\u001b[1;33m,\u001b[0m \u001b[0mcolor\u001b[0m \u001b[1;33m=\u001b[0m \u001b[1;34m'grey'\u001b[0m\u001b[1;33m)\u001b[0m\u001b[1;33m\u001b[0m\u001b[0m\n\u001b[0m\u001b[1;32m     13\u001b[0m \u001b[0mplt\u001b[0m\u001b[1;33m.\u001b[0m\u001b[0mxticks\u001b[0m\u001b[1;33m(\u001b[0m\u001b[0mrotation\u001b[0m\u001b[1;33m=\u001b[0m\u001b[1;36m0\u001b[0m\u001b[1;33m)\u001b[0m\u001b[1;33m\u001b[0m\u001b[0m\n\u001b[1;32m     14\u001b[0m \u001b[0mplt\u001b[0m\u001b[1;33m.\u001b[0m\u001b[0mxlabel\u001b[0m\u001b[1;33m(\u001b[0m\u001b[1;34m'Größenklassen'\u001b[0m\u001b[1;33m)\u001b[0m\u001b[1;33m\u001b[0m\u001b[0m\n",
      "\u001b[0;32mC:\\Users\\Dirk\\Anaconda3\\lib\\site-packages\\pandas\\tools\\plotting.py\u001b[0m in \u001b[0;36m__call__\u001b[0;34m(self, x, y, kind, ax, subplots, sharex, sharey, layout, figsize, use_index, title, grid, legend, style, logx, logy, loglog, xticks, yticks, xlim, ylim, rot, fontsize, colormap, table, yerr, xerr, secondary_y, sort_columns, **kwds)\u001b[0m\n\u001b[1;32m   3772\u001b[0m                           \u001b[0mfontsize\u001b[0m\u001b[1;33m=\u001b[0m\u001b[0mfontsize\u001b[0m\u001b[1;33m,\u001b[0m \u001b[0mcolormap\u001b[0m\u001b[1;33m=\u001b[0m\u001b[0mcolormap\u001b[0m\u001b[1;33m,\u001b[0m \u001b[0mtable\u001b[0m\u001b[1;33m=\u001b[0m\u001b[0mtable\u001b[0m\u001b[1;33m,\u001b[0m\u001b[1;33m\u001b[0m\u001b[0m\n\u001b[1;32m   3773\u001b[0m                           \u001b[0myerr\u001b[0m\u001b[1;33m=\u001b[0m\u001b[0myerr\u001b[0m\u001b[1;33m,\u001b[0m \u001b[0mxerr\u001b[0m\u001b[1;33m=\u001b[0m\u001b[0mxerr\u001b[0m\u001b[1;33m,\u001b[0m \u001b[0msecondary_y\u001b[0m\u001b[1;33m=\u001b[0m\u001b[0msecondary_y\u001b[0m\u001b[1;33m,\u001b[0m\u001b[1;33m\u001b[0m\u001b[0m\n\u001b[0;32m-> 3774\u001b[0;31m                           sort_columns=sort_columns, **kwds)\n\u001b[0m\u001b[1;32m   3775\u001b[0m     \u001b[0m__call__\u001b[0m\u001b[1;33m.\u001b[0m\u001b[0m__doc__\u001b[0m \u001b[1;33m=\u001b[0m \u001b[0mplot_frame\u001b[0m\u001b[1;33m.\u001b[0m\u001b[0m__doc__\u001b[0m\u001b[1;33m\u001b[0m\u001b[0m\n\u001b[1;32m   3776\u001b[0m \u001b[1;33m\u001b[0m\u001b[0m\n",
      "\u001b[0;32mC:\\Users\\Dirk\\Anaconda3\\lib\\site-packages\\pandas\\tools\\plotting.py\u001b[0m in \u001b[0;36mplot_frame\u001b[0;34m(data, x, y, kind, ax, subplots, sharex, sharey, layout, figsize, use_index, title, grid, legend, style, logx, logy, loglog, xticks, yticks, xlim, ylim, rot, fontsize, colormap, table, yerr, xerr, secondary_y, sort_columns, **kwds)\u001b[0m\n\u001b[1;32m   2641\u001b[0m                  \u001b[0myerr\u001b[0m\u001b[1;33m=\u001b[0m\u001b[0myerr\u001b[0m\u001b[1;33m,\u001b[0m \u001b[0mxerr\u001b[0m\u001b[1;33m=\u001b[0m\u001b[0mxerr\u001b[0m\u001b[1;33m,\u001b[0m\u001b[1;33m\u001b[0m\u001b[0m\n\u001b[1;32m   2642\u001b[0m                  \u001b[0msecondary_y\u001b[0m\u001b[1;33m=\u001b[0m\u001b[0msecondary_y\u001b[0m\u001b[1;33m,\u001b[0m \u001b[0msort_columns\u001b[0m\u001b[1;33m=\u001b[0m\u001b[0msort_columns\u001b[0m\u001b[1;33m,\u001b[0m\u001b[1;33m\u001b[0m\u001b[0m\n\u001b[0;32m-> 2643\u001b[0;31m                  **kwds)\n\u001b[0m\u001b[1;32m   2644\u001b[0m \u001b[1;33m\u001b[0m\u001b[0m\n\u001b[1;32m   2645\u001b[0m \u001b[1;33m\u001b[0m\u001b[0m\n",
      "\u001b[0;32mC:\\Users\\Dirk\\Anaconda3\\lib\\site-packages\\pandas\\tools\\plotting.py\u001b[0m in \u001b[0;36m_plot\u001b[0;34m(data, x, y, subplots, ax, kind, **kwds)\u001b[0m\n\u001b[1;32m   2468\u001b[0m         \u001b[0mplot_obj\u001b[0m \u001b[1;33m=\u001b[0m \u001b[0mklass\u001b[0m\u001b[1;33m(\u001b[0m\u001b[0mdata\u001b[0m\u001b[1;33m,\u001b[0m \u001b[0msubplots\u001b[0m\u001b[1;33m=\u001b[0m\u001b[0msubplots\u001b[0m\u001b[1;33m,\u001b[0m \u001b[0max\u001b[0m\u001b[1;33m=\u001b[0m\u001b[0max\u001b[0m\u001b[1;33m,\u001b[0m \u001b[0mkind\u001b[0m\u001b[1;33m=\u001b[0m\u001b[0mkind\u001b[0m\u001b[1;33m,\u001b[0m \u001b[1;33m**\u001b[0m\u001b[0mkwds\u001b[0m\u001b[1;33m)\u001b[0m\u001b[1;33m\u001b[0m\u001b[0m\n\u001b[1;32m   2469\u001b[0m \u001b[1;33m\u001b[0m\u001b[0m\n\u001b[0;32m-> 2470\u001b[0;31m     \u001b[0mplot_obj\u001b[0m\u001b[1;33m.\u001b[0m\u001b[0mgenerate\u001b[0m\u001b[1;33m(\u001b[0m\u001b[1;33m)\u001b[0m\u001b[1;33m\u001b[0m\u001b[0m\n\u001b[0m\u001b[1;32m   2471\u001b[0m     \u001b[0mplot_obj\u001b[0m\u001b[1;33m.\u001b[0m\u001b[0mdraw\u001b[0m\u001b[1;33m(\u001b[0m\u001b[1;33m)\u001b[0m\u001b[1;33m\u001b[0m\u001b[0m\n\u001b[1;32m   2472\u001b[0m     \u001b[1;32mreturn\u001b[0m \u001b[0mplot_obj\u001b[0m\u001b[1;33m.\u001b[0m\u001b[0mresult\u001b[0m\u001b[1;33m\u001b[0m\u001b[0m\n",
      "\u001b[0;32mC:\\Users\\Dirk\\Anaconda3\\lib\\site-packages\\pandas\\tools\\plotting.py\u001b[0m in \u001b[0;36mgenerate\u001b[0;34m(self)\u001b[0m\n\u001b[1;32m   1039\u001b[0m     \u001b[1;32mdef\u001b[0m \u001b[0mgenerate\u001b[0m\u001b[1;33m(\u001b[0m\u001b[0mself\u001b[0m\u001b[1;33m)\u001b[0m\u001b[1;33m:\u001b[0m\u001b[1;33m\u001b[0m\u001b[0m\n\u001b[1;32m   1040\u001b[0m         \u001b[0mself\u001b[0m\u001b[1;33m.\u001b[0m\u001b[0m_args_adjust\u001b[0m\u001b[1;33m(\u001b[0m\u001b[1;33m)\u001b[0m\u001b[1;33m\u001b[0m\u001b[0m\n\u001b[0;32m-> 1041\u001b[0;31m         \u001b[0mself\u001b[0m\u001b[1;33m.\u001b[0m\u001b[0m_compute_plot_data\u001b[0m\u001b[1;33m(\u001b[0m\u001b[1;33m)\u001b[0m\u001b[1;33m\u001b[0m\u001b[0m\n\u001b[0m\u001b[1;32m   1042\u001b[0m         \u001b[0mself\u001b[0m\u001b[1;33m.\u001b[0m\u001b[0m_setup_subplots\u001b[0m\u001b[1;33m(\u001b[0m\u001b[1;33m)\u001b[0m\u001b[1;33m\u001b[0m\u001b[0m\n\u001b[1;32m   1043\u001b[0m         \u001b[0mself\u001b[0m\u001b[1;33m.\u001b[0m\u001b[0m_make_plot\u001b[0m\u001b[1;33m(\u001b[0m\u001b[1;33m)\u001b[0m\u001b[1;33m\u001b[0m\u001b[0m\n",
      "\u001b[0;32mC:\\Users\\Dirk\\Anaconda3\\lib\\site-packages\\pandas\\tools\\plotting.py\u001b[0m in \u001b[0;36m_compute_plot_data\u001b[0;34m(self)\u001b[0m\n\u001b[1;32m   1148\u001b[0m         \u001b[1;32mif\u001b[0m \u001b[0mis_empty\u001b[0m\u001b[1;33m:\u001b[0m\u001b[1;33m\u001b[0m\u001b[0m\n\u001b[1;32m   1149\u001b[0m             raise TypeError('Empty {0!r}: no numeric data to '\n\u001b[0;32m-> 1150\u001b[0;31m                             'plot'.format(numeric_data.__class__.__name__))\n\u001b[0m\u001b[1;32m   1151\u001b[0m \u001b[1;33m\u001b[0m\u001b[0m\n\u001b[1;32m   1152\u001b[0m         \u001b[0mself\u001b[0m\u001b[1;33m.\u001b[0m\u001b[0mdata\u001b[0m \u001b[1;33m=\u001b[0m \u001b[0mnumeric_data\u001b[0m\u001b[1;33m\u001b[0m\u001b[0m\n",
      "\u001b[0;31mTypeError\u001b[0m: Empty 'DataFrame': no numeric data to plot"
     ]
    },
    {
     "data": {
      "image/png": "[encoded data removed]",
      "text/plain": [
       "<matplotlib.figure.Figure at 0x225599ce8d0>"
      ]
     },
     "metadata": {},
     "output_type": "display_data"
    }
   ],
   "source": [
    "fig = plt.figure(1)\n",
    "fig.set_size_inches(12, 5.5)\n",
    "\n",
    "plt.subplot(121)\n",
    "df_pivot1.plot(kind = 'bar', color = 'grey')\n",
    "plt.xticks(rotation=0)\n",
    "plt.xlabel('Größenklassen')\n",
    "plt.ylabel('Anzahl')\n",
    "plt.title('Grube A\\nMandombe-Keramik')\n",
    "\n",
    "plt.subplot(122)\n",
    "df_pivot2.plot(kind = 'bar', color = 'grey')\n",
    "plt.xticks(rotation=0)\n",
    "plt.xlabel('Größenklassen')\n",
    "plt.ylabel('Anzahl')\n",
    "plt.title('Grube B1/B2\\nPikunda-Munda-Keramik')\n",
    "\n",
    "plt.savefig('../output/figs/9-8_PIK87-1_Fragmentierung_B.pdf', bbox_inches='tight')\n",
    "plt.show()"
   ]
  },
  {
   "cell_type": "markdown",
   "metadata": {},
   "source": [
    "> **PIK 87/1**"
   ]
  },
  {
   "cell_type": "markdown",
   "metadata": {},
   "source": [
    "## Schlacken"
   ]
  },
  {
   "cell_type": "code",
   "execution_count": null,
   "metadata": {
    "collapsed": true
   },
   "outputs": [],
   "source": [
    "sql = \"\"\"SELECT\n",
    "           t_Obj.ort_kurz, \n",
    "           t_Obj.Komplex, \n",
    "           t_Obj.Individuum, \n",
    "           t_Obj.Anzahl,\n",
    "           t_Obj.Gewicht,\n",
    "           t_Obj.Gr_Clist, \n",
    "           t_Obj.Tiefe,\n",
    "           t_Obj.Schlacke_Typ,\n",
    "           t_Obj.Art \n",
    "       FROM t_Obj \n",
    "       WHERE (((t_Obj.ort_kurz) = 'PIK')\n",
    "           AND ((t_Obj.Komplex) = '87/1')\n",
    "           AND ((t_Obj.Art) Like '%Schlacke%'))\"\"\".replace('\\n',' ')\n",
    "\n",
    "df = pd.read_sql(sql, con)\n",
    "df['Tiefe'] = df['Tiefe'].convert_objects(convert_numeric=True)\n",
    "display(df.head())"
   ]
  },
  {
   "cell_type": "markdown",
   "metadata": {},
   "source": [
    "n"
   ]
  },
  {
   "cell_type": "code",
   "execution_count": null,
   "metadata": {
    "collapsed": true
   },
   "outputs": [],
   "source": [
    "np.sum(df['Anzahl'])"
   ]
  },
  {
   "cell_type": "markdown",
   "metadata": {},
   "source": [
    "Schlacken-Gewicht:"
   ]
  },
  {
   "cell_type": "code",
   "execution_count": null,
   "metadata": {
    "collapsed": true
   },
   "outputs": [],
   "source": [
    "np.sum(df['Gewicht'])"
   ]
  },
  {
   "cell_type": "code",
   "execution_count": null,
   "metadata": {
    "collapsed": true
   },
   "outputs": [],
   "source": [
    "df_pivot = df.pivot_table(values = 'Gewicht', index = 'Tiefe', columns = 'Schlacke_Typ', aggfunc = sum)\n",
    "df_pivot = df_pivot.fillna(0)\n",
    "df_pivot"
   ]
  },
  {
   "cell_type": "code",
   "execution_count": null,
   "metadata": {
    "collapsed": true
   },
   "outputs": [],
   "source": [
    "df_pivot2 = df.pivot_table(values = 'Gewicht', index = 'Schlacke_Typ', aggfunc = sum)\n",
    "df_pivot2"
   ]
  },
  {
   "cell_type": "code",
   "execution_count": null,
   "metadata": {
    "collapsed": true
   },
   "outputs": [],
   "source": [
    "df_pivot3 = df.pivot_table(values = 'Gewicht', index = 'Gr_Clist', aggfunc = sum)\n",
    "df_pivot3"
   ]
  },
  {
   "cell_type": "code",
   "execution_count": null,
   "metadata": {
    "collapsed": true
   },
   "outputs": [],
   "source": [
    "# Dummyliste mit allen Tiefen, in denen keine Schlacken ge\n",
    "df_blank = pd.DataFrame([[112, 0], [132, 0], [192, 0], [212, 0], [232, 0], [252, 0], [272, 0], [292, 0], [334, 0]], columns=list('15'))\n",
    "df_blank = df_blank.set_index(['1'])\n",
    "# anhängen an df_pivot\n",
    "df_pivot = df_pivot.append(df_blank)\n",
    "# Index sortieren\n",
    "df_pivot.sort_index(inplace=True)\n",
    "df_pivot = df_pivot.fillna(0)"
   ]
  },
  {
   "cell_type": "code",
   "execution_count": null,
   "metadata": {
    "collapsed": true
   },
   "outputs": [],
   "source": [
    "ax = df_pivot.plot(kind = 'barh', stacked=True, cmap = 'Set1')\n",
    "plt.xlabel('Gewicht [g]')\n",
    "plt.ylabel('Tiefe [cm u. Obfl.]')\n",
    "plt.gca().invert_yaxis()\n",
    "xlim = ax.get_xlim()\n",
    "ylim = ax.get_ylim()\n",
    "plt.gca().set_aspect((abs(xlim[0]) + abs(xlim[1])) / (abs(ylim[0]) + abs(ylim[1])))\n",
    "lgd = plt.legend(bbox_to_anchor=(1.02, 1), loc = 2, borderaxespad = 0., prop={'size':8})\n",
    "plt.savefig('../output/figs/9-8_PIK87-1_Schlacken_A.pdf', bbox_extra_artists=(lgd,), bbox_inches='tight')\n",
    "plt.show()"
   ]
  },
  {
   "cell_type": "code",
   "execution_count": null,
   "metadata": {
    "collapsed": true
   },
   "outputs": [],
   "source": [
    "fig = plt.figure()\n",
    "fig.set_size_inches(5, 5)\n",
    "df_pivot2.plot(kind='pie', autopct='%.0f %%', cmap = 'Paired')\n",
    "plt.ylabel('')\n",
    "plt.title('Typen')\n",
    "plt.savefig('../output/figs/9-8_PIK87-1_Schlacken_B.pdf', bbox_inches='tight')\n",
    "plt.show()"
   ]
  },
  {
   "cell_type": "code",
   "execution_count": null,
   "metadata": {
    "collapsed": true
   },
   "outputs": [],
   "source": [
    "fig = plt.figure()\n",
    "fig.set_size_inches(5, 5)\n",
    "df_pivot3.plot(kind='pie', autopct='%.0f %%', cmap = 'Paired')\n",
    "plt.ylabel('')\n",
    "plt.title('Größen')\n",
    "plt.savefig('../output/figs/9-8_PIK87-1_Schlacken_C.pdf', bbox_inches='tight')\n",
    "plt.show()"
   ]
  },
  {
   "cell_type": "code",
   "execution_count": null,
   "metadata": {
    "collapsed": true
   },
   "outputs": [],
   "source": [
    "fig = plt.figure(1)\n",
    "fig.set_size_inches(10,10)\n",
    "\n",
    "plt.subplot(221)\n",
    "\n",
    "df_pivot.plot(kind = 'barh', stacked=True, cmap = 'Paired')\n",
    "plt.xlabel('Gewicht [g]')\n",
    "plt.ylabel('Tiefe [cm u. Obfl.]')\n",
    "# plt.gca().invert_yaxis()\n",
    "#plt.legend(loc = 4)\n",
    "\n",
    "plt.subplot(222)\n",
    "\n",
    "df_pivot2.plot(kind='pie', autopct='%.0f %%' )\n",
    "plt.ylabel('')\n",
    "\n",
    "plt.subplot(223)\n",
    "\n",
    "df_pivot3.plot(kind='pie', autopct='%.0f %%' )\n",
    "plt.ylabel('')\n",
    "\n",
    "# plt.savefig('output/9.8 PIK 87-1 – Keramik Stilgruppen.pdf')\n",
    "plt.show()"
   ]
  },
  {
   "cell_type": "code",
   "execution_count": null,
   "metadata": {
    "collapsed": true
   },
   "outputs": [],
   "source": []
  },
  {
   "cell_type": "code",
   "execution_count": null,
   "metadata": {
    "collapsed": true
   },
   "outputs": [],
   "source": []
  }
 ],
 "metadata": {
  "anaconda-cloud": {},
  "kernelspec": {
   "display_name": "Python 3",
   "language": "python",
   "name": "python3"
  },
  "language_info": {
   "codemirror_mode": {
    "name": "ipython",
    "version": 3
   },
   "file_extension": ".py",
   "mimetype": "text/x-python",
   "name": "python",
   "nbconvert_exporter": "python",
   "pygments_lexer": "ipython3",
   "version": "3.6.1"
  }
 },
 "nbformat": 4,
 "nbformat_minor": 1
}
