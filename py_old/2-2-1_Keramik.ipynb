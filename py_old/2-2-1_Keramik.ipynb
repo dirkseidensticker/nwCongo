{
 "cells": [
  {
   "cell_type": "markdown",
   "metadata": {},
   "source": [
    "# Keramik"
   ]
  },
  {
   "cell_type": "markdown",
   "metadata": {},
   "source": [
    "* [Vertretene Scherbentypen](#Vertretene-Scherbentypen)\n",
    "* [Fragmentierung](#Fragmentierung)\n",
    "* [Aufgenommene vs. Ausgezählte Stücke](#Aufgenommene-vs.-Ausgezählte-Stücke)\n",
    "    * [Nur ausgezählte Stücke](#Nur-ausgezählte-Stücke)\n",
    "    * [Anteile aufgenommener & ausgezählter Stücke in Oberflächenabsammlungen](#Anteile-aufgenommener-&-ausgezählter-Stücke-in-Oberflächenabsammlungen)\n",
    "* [Anteil bestimmter Typen im Datensatz](#Anteil-bestimmter-Typen-im-Datensatz)\n",
    "* [Anteil unverzierter Stücke im Datensatz](#Anteil-unverzierter-Stücke-im-Datensatz)\n",
    "* vgl. Jesse 2003\n",
    "    * [Anzahl Scherben je GE](#Anzahl-Scherben-je-GE)\n",
    "    * [Mittleres Gewicht von GE](#Mittleres-Gewicht-von-GE)\n",
    "    * [Mittleres Gewicht von Scherben](#Mittleres-Gewicht-von-Scherben)\n",
    "* [Abhängigkeit Scherbengröße-/ Scherbengewicht](#Abhängigkeit-Scherbengröße-/-Scherbengewicht)\n",
    "    * [Fragmentierte Stücke](#Fragmentierte-Stücke)\n",
    "* [Wandungsdicke der Keramik](#Wandungsdicke-der-Keramik)\n",
    "* [Oberflächenbehandlung der Scherben](#Oberflächenbehandlung-der-Scherben)"
   ]
  },
  {
   "cell_type": "code",
   "execution_count": 1,
   "metadata": {
    "collapsed": true
   },
   "outputs": [],
   "source": [
    "%matplotlib inline\n",
    "from IPython.display import display\n",
    "import pandas as pd\n",
    "import numpy as np\n",
    "import matplotlib.pyplot as plt\n",
    "import sqlite3\n",
    "\n",
    "from matplotlib.ticker import ScalarFormatter\n",
    "\n",
    "import sys, os\n",
    "sys.path.append(\"/Python\")\n",
    "from myfunctions import *\n",
    "\n",
    "style = '*'\n",
    "\n",
    "con = sqlite3.connect(\"../data/CongoDB.sqlite\")"
   ]
  },
  {
   "cell_type": "markdown",
   "metadata": {},
   "source": [
    "## Vertretene Scherbentypen"
   ]
  },
  {
   "cell_type": "code",
   "execution_count": 88,
   "metadata": {},
   "outputs": [
    {
     "name": "stderr",
     "output_type": "stream",
     "text": [
      "C:\\Users\\DirkSeidenticker\\Anaconda3\\lib\\site-packages\\ipykernel\\__main__.py:14: FutureWarning: convert_objects is deprecated.  Use the data-type specific converters pd.to_datetime, pd.to_timedelta and pd.to_numeric.\n"
     ]
    }
   ],
   "source": [
    "sql = \"\"\"SELECT\n",
    "           t_Obj.objID, \n",
    "           t_Obj.Art,\n",
    "           t_Obj.Scherbe,\n",
    "           t_Obj.Anzahl\n",
    "       FROM (t_Ort INNER JOIN t_Komplex ON t_Ort.ortID = t_Komplex.ortID)\n",
    "           INNER JOIN t_Obj ON t_Komplex.komplexID = t_Obj.komplexID\n",
    "       WHERE (((t_Ort.ort_lit)='DS')\n",
    "           AND ((t_Obj.Art) = \"K\")\n",
    "           AND (length(t_Obj.Scherbe) = 1)\n",
    "           AND ((t_Obj.Notiz) Not Like '%1987%'))\"\"\".replace('\\n',' ')\n",
    "\n",
    "df = pd.read_sql(sql, con)\n",
    "df['Anzahl'] = df['Anzahl'].convert_objects(convert_numeric=True)\n",
    "# display(df.head())"
   ]
  },
  {
   "cell_type": "code",
   "execution_count": 89,
   "metadata": {},
   "outputs": [
    {
     "data": {
      "text/html": [
       "<div>\n",
       "<table border=\"1\" class=\"dataframe\">\n",
       "  <thead>\n",
       "    <tr style=\"text-align: right;\">\n",
       "      <th></th>\n",
       "      <th>Anzahl</th>\n",
       "      <th>Prozent</th>\n",
       "    </tr>\n",
       "  </thead>\n",
       "  <tbody>\n",
       "    <tr>\n",
       "      <th>Gefäße</th>\n",
       "      <td>148.0</td>\n",
       "      <td>1.820418</td>\n",
       "    </tr>\n",
       "    <tr>\n",
       "      <th>Rand-\\nscherben</th>\n",
       "      <td>3216.0</td>\n",
       "      <td>39.557196</td>\n",
       "    </tr>\n",
       "    <tr>\n",
       "      <th>Wand-\\nscherben</th>\n",
       "      <td>4592.0</td>\n",
       "      <td>56.482165</td>\n",
       "    </tr>\n",
       "    <tr>\n",
       "      <th>Boden-\\nscherben</th>\n",
       "      <td>174.0</td>\n",
       "      <td>2.140221</td>\n",
       "    </tr>\n",
       "  </tbody>\n",
       "</table>\n",
       "</div>"
      ],
      "text/plain": [
       "                  Anzahl    Prozent\n",
       "Gefäße             148.0   1.820418\n",
       "Rand-\\nscherben   3216.0  39.557196\n",
       "Wand-\\nscherben   4592.0  56.482165\n",
       "Boden-\\nscherben   174.0   2.140221"
      ]
     },
     "execution_count": 89,
     "metadata": {},
     "output_type": "execute_result"
    }
   ],
   "source": [
    "df_pivot = df.pivot_table(values = 'Anzahl', index = 'Scherbe', aggfunc = sum)\n",
    "\n",
    "# Ergebis in Data-Frame ändern\n",
    "df_pivot = pd.DataFrame(df_pivot)\n",
    "\n",
    "# Prozent-Anteil der Verzierungselemente errechnen\n",
    "df_pivot['Prozent'] = df_pivot['Anzahl']/df_pivot['Anzahl'].sum()*100\n",
    "\n",
    "# manuelle Sortierung der Tabelle:\n",
    "custom_dict = {'G':0,'R':1,'W':3,'B':4}\n",
    "df_pivot = pd.DataFrame(df_pivot, index=sorted(custom_dict, key=custom_dict.get))\n",
    "\n",
    "df_pivot = df_pivot.rename(index={'G': 'Gefäße'})\n",
    "df_pivot = df_pivot.rename(index={'R': 'Rand-\\nscherben'})\n",
    "df_pivot = df_pivot.rename(index={'W': 'Wand-\\nscherben'})\n",
    "df_pivot = df_pivot.rename(index={'B': 'Boden-\\nscherben'})\n",
    "\n",
    "df_pivot"
   ]
  },
  {
   "cell_type": "code",
   "execution_count": 92,
   "metadata": {
    "scrolled": false
   },
   "outputs": [
    {
     "data": {
      "image/png": "[encoded data removed]",
      "text/plain": [
       "<matplotlib.figure.Figure at 0xc331748>"
      ]
     },
     "metadata": {},
     "output_type": "display_data"
    }
   ],
   "source": [
    "df_pivot.plot(y = 'Prozent', kind = 'bar', legend = False, color = 'grey', figsize = (5,5))\n",
    "plt.xticks(rotation=0)\n",
    "# plt.xlabel('Scherbentypen')\n",
    "plt.ylabel('Anteil [%]')\n",
    "# plt.title('Scherbentypen\\n')\n",
    "plt.savefig('../output/figs/2-2-1_KeramikScherbentyp.pdf', bbox_inches='tight')\n",
    "plt.show()"
   ]
  },
  {
   "cell_type": "markdown",
   "metadata": {},
   "source": [
    "> **Keramik** Scherbentypen"
   ]
  },
  {
   "cell_type": "markdown",
   "metadata": {},
   "source": [
    "## Fragmentierung"
   ]
  },
  {
   "cell_type": "code",
   "execution_count": 135,
   "metadata": {
    "collapsed": true
   },
   "outputs": [],
   "source": [
    "sql = \"\"\"SELECT\n",
    "           t_Obj.objID, \n",
    "           t_Obj.Art,\n",
    "           t_Obj.Gr_Clist,\n",
    "           t_Obj.Anzahl\n",
    "       FROM (t_Ort INNER JOIN t_Komplex ON t_Ort.ortID = t_Komplex.ortID)\n",
    "           INNER JOIN t_Obj ON t_Komplex.komplexID = t_Obj.komplexID\n",
    "       WHERE (((t_Ort.ort_lit)='DS')\n",
    "           AND ((t_Obj.Art) = \"K\")\n",
    "           AND ((t_Obj.Gr_Clist) != '')\n",
    "           AND ((t_Obj.Notiz) Not Like '%1987%'))\"\"\".replace('\\n',' ')\n",
    "\n",
    "df = pd.read_sql(sql, con)\n",
    "# df['Anzahl'] = df['Anzahl'].convert_objects(convert_numeric=True)\n",
    "# display(df.head())"
   ]
  },
  {
   "cell_type": "code",
   "execution_count": 136,
   "metadata": {},
   "outputs": [
    {
     "data": {
      "text/html": [
       "<div>\n",
       "<table border=\"1\" class=\"dataframe\">\n",
       "  <thead>\n",
       "    <tr style=\"text-align: right;\">\n",
       "      <th></th>\n",
       "      <th>Anzahl</th>\n",
       "      <th>Prozent</th>\n",
       "    </tr>\n",
       "    <tr>\n",
       "      <th>Gr_Clist</th>\n",
       "      <th></th>\n",
       "      <th></th>\n",
       "    </tr>\n",
       "  </thead>\n",
       "  <tbody>\n",
       "    <tr>\n",
       "      <th>30</th>\n",
       "      <td>1379</td>\n",
       "      <td>25.316688</td>\n",
       "    </tr>\n",
       "    <tr>\n",
       "      <th>70</th>\n",
       "      <td>2968</td>\n",
       "      <td>54.488709</td>\n",
       "    </tr>\n",
       "    <tr>\n",
       "      <th>120</th>\n",
       "      <td>832</td>\n",
       "      <td>15.274463</td>\n",
       "    </tr>\n",
       "    <tr>\n",
       "      <th>200</th>\n",
       "      <td>208</td>\n",
       "      <td>3.818616</td>\n",
       "    </tr>\n",
       "    <tr>\n",
       "      <th>&gt;200</th>\n",
       "      <td>60</td>\n",
       "      <td>1.101524</td>\n",
       "    </tr>\n",
       "  </tbody>\n",
       "</table>\n",
       "</div>"
      ],
      "text/plain": [
       "          Anzahl    Prozent\n",
       "Gr_Clist                   \n",
       "30          1379  25.316688\n",
       "70          2968  54.488709\n",
       "120          832  15.274463\n",
       "200          208   3.818616\n",
       ">200          60   1.101524"
      ]
     },
     "execution_count": 136,
     "metadata": {},
     "output_type": "execute_result"
    }
   ],
   "source": [
    "df_pivot = df.pivot_table(values = 'Anzahl', index = 'Gr_Clist', aggfunc = np.sum)\n",
    "df_pivot = pd.DataFrame(df_pivot)\n",
    "# Prozent-Anteil der Verzierungselemente errechnen\n",
    "df_pivot['Prozent'] = df_pivot['Anzahl']/df_pivot['Anzahl'].sum()*100\n",
    "df_pivot = df_pivot.rename(index={500: '>200'})\n",
    "df_pivot"
   ]
  },
  {
   "cell_type": "code",
   "execution_count": 137,
   "metadata": {},
   "outputs": [
    {
     "data": {
      "image/png": "[encoded data removed]",
      "text/plain": [
       "<matplotlib.figure.Figure at 0xc120438>"
      ]
     },
     "metadata": {},
     "output_type": "display_data"
    }
   ],
   "source": [
    "df_pivot.plot(y = 'Prozent', kind = 'bar',legend = False, color = 'grey', figsize = (5,5))\n",
    "plt.xticks(rotation=0)\n",
    "plt.xlabel('Größenklasse')\n",
    "plt.ylabel('Anteil [%]')\n",
    "# plt.title('Fragmentierungsgrad\\n')\n",
    "plt.savefig('../output/figs/2-2-1_KeramikFragmentierung.pdf', bbox_inches='tight')\n",
    "plt.show()"
   ]
  },
  {
   "cell_type": "markdown",
   "metadata": {},
   "source": [
    "> **Keramik** Fragmentierung."
   ]
  },
  {
   "cell_type": "markdown",
   "metadata": {},
   "source": [
    "## Aufgenommene vs. Ausgezählte Stücke"
   ]
  },
  {
   "cell_type": "markdown",
   "metadata": {},
   "source": [
    "aufgenommene Stücke:\n",
    "\n",
    "* Anzahl = 1"
   ]
  },
  {
   "cell_type": "code",
   "execution_count": 2,
   "metadata": {},
   "outputs": [
    {
     "data": {
      "text/html": [
       "<div>\n",
       "<style>\n",
       "    .dataframe thead tr:only-child th {\n",
       "        text-align: right;\n",
       "    }\n",
       "\n",
       "    .dataframe thead th {\n",
       "        text-align: left;\n",
       "    }\n",
       "\n",
       "    .dataframe tbody tr th {\n",
       "        vertical-align: top;\n",
       "    }\n",
       "</style>\n",
       "<table border=\"1\" class=\"dataframe\">\n",
       "  <thead>\n",
       "    <tr style=\"text-align: right;\">\n",
       "      <th></th>\n",
       "      <th>objID</th>\n",
       "      <th>Art</th>\n",
       "      <th>Gewicht</th>\n",
       "      <th>Gr_Clist</th>\n",
       "    </tr>\n",
       "  </thead>\n",
       "  <tbody>\n",
       "    <tr>\n",
       "      <th>0</th>\n",
       "      <td>10</td>\n",
       "      <td>K</td>\n",
       "      <td>19.0</td>\n",
       "      <td>70</td>\n",
       "    </tr>\n",
       "    <tr>\n",
       "      <th>1</th>\n",
       "      <td>11</td>\n",
       "      <td>K</td>\n",
       "      <td>31.0</td>\n",
       "      <td>70</td>\n",
       "    </tr>\n",
       "    <tr>\n",
       "      <th>2</th>\n",
       "      <td>12</td>\n",
       "      <td>K</td>\n",
       "      <td>109.0</td>\n",
       "      <td>120</td>\n",
       "    </tr>\n",
       "    <tr>\n",
       "      <th>3</th>\n",
       "      <td>13</td>\n",
       "      <td>K</td>\n",
       "      <td>8.0</td>\n",
       "      <td>70</td>\n",
       "    </tr>\n",
       "    <tr>\n",
       "      <th>4</th>\n",
       "      <td>14</td>\n",
       "      <td>K</td>\n",
       "      <td>68.0</td>\n",
       "      <td>120</td>\n",
       "    </tr>\n",
       "  </tbody>\n",
       "</table>\n",
       "</div>"
      ],
      "text/plain": [
       "   objID Art  Gewicht  Gr_Clist\n",
       "0     10   K     19.0        70\n",
       "1     11   K     31.0        70\n",
       "2     12   K    109.0       120\n",
       "3     13   K      8.0        70\n",
       "4     14   K     68.0       120"
      ]
     },
     "metadata": {},
     "output_type": "display_data"
    }
   ],
   "source": [
    "sql = \"\"\"SELECT\n",
    "           t_Obj.objID, \n",
    "           t_Obj.Art, \n",
    "           t_Obj.Gewicht,\n",
    "           t_Obj.Gr_Clist\n",
    "       FROM (t_Ort INNER JOIN t_Komplex ON t_Ort.ortID = t_Komplex.ortID)\n",
    "           INNER JOIN t_Obj ON t_Komplex.komplexID = t_Obj.komplexID\n",
    "       WHERE (((t_Ort.ort_lit)='DS')\n",
    "           AND ((t_Obj.Art) = \"K\")\n",
    "           AND ((t_Obj.Gr_Clist) != '')\n",
    "           AND ((t_Obj.Anzahl) = 1)\n",
    "           AND ((t_Obj.Notiz) Not Like '%1987%'))\"\"\".replace('\\n',' ')\n",
    "\n",
    "df = pd.read_sql(sql, con)\n",
    "\n",
    "# df['Gewicht'] = df['Gewicht'].convert_objects(convert_numeric=True)\n",
    "# df['Gr_Clist'] = df['Gr_Clist'].convert_objects(convert_numeric=True)\n",
    "# df['Gr_Clist'] = df['Gr_Clist'].replace([500], [300])\n",
    "\n",
    "display(df.head())"
   ]
  },
  {
   "cell_type": "code",
   "execution_count": 3,
   "metadata": {},
   "outputs": [
    {
     "data": {
      "text/plain": [
       "4217"
      ]
     },
     "execution_count": 3,
     "metadata": {},
     "output_type": "execute_result"
    }
   ],
   "source": [
    "len(df)"
   ]
  },
  {
   "cell_type": "markdown",
   "metadata": {},
   "source": [
    "Mittelwerte der Größenklassen"
   ]
  },
  {
   "cell_type": "code",
   "execution_count": 3,
   "metadata": {},
   "outputs": [
    {
     "data": {
      "text/html": [
       "<div>\n",
       "<table border=\"1\" class=\"dataframe\">\n",
       "  <thead>\n",
       "    <tr style=\"text-align: right;\">\n",
       "      <th></th>\n",
       "      <th>Gewicht</th>\n",
       "    </tr>\n",
       "    <tr>\n",
       "      <th>Gr_Clist</th>\n",
       "      <th></th>\n",
       "    </tr>\n",
       "  </thead>\n",
       "  <tbody>\n",
       "    <tr>\n",
       "      <th>30</th>\n",
       "      <td>7.173284</td>\n",
       "    </tr>\n",
       "    <tr>\n",
       "      <th>70</th>\n",
       "      <td>25.507131</td>\n",
       "    </tr>\n",
       "    <tr>\n",
       "      <th>120</th>\n",
       "      <td>90.103137</td>\n",
       "    </tr>\n",
       "    <tr>\n",
       "      <th>200</th>\n",
       "      <td>378.090909</td>\n",
       "    </tr>\n",
       "    <tr>\n",
       "      <th>&gt;200</th>\n",
       "      <td>1394.016949</td>\n",
       "    </tr>\n",
       "  </tbody>\n",
       "</table>\n",
       "</div>"
      ],
      "text/plain": [
       "              Gewicht\n",
       "Gr_Clist             \n",
       "30           7.173284\n",
       "70          25.507131\n",
       "120         90.103137\n",
       "200        378.090909\n",
       ">200      1394.016949"
      ]
     },
     "execution_count": 3,
     "metadata": {},
     "output_type": "execute_result"
    }
   ],
   "source": [
    "df_pivot = df.pivot_table(values = 'Gewicht', index = 'Gr_Clist', aggfunc = np.mean)\n",
    "df_pivot = pd.DataFrame(df_pivot)\n",
    "df_pivot = df_pivot.rename(index={500: '>200'})\n",
    "df_pivot"
   ]
  },
  {
   "cell_type": "markdown",
   "metadata": {},
   "source": [
    "die großen Stücke '>200'/500 werden entfernen, da es sich hierbei ja um eine nach oben offene Klasse handelt"
   ]
  },
  {
   "cell_type": "code",
   "execution_count": 4,
   "metadata": {
    "collapsed": true
   },
   "outputs": [],
   "source": [
    "#df = df[df['Gr_Clist'] != 500]"
   ]
  },
  {
   "cell_type": "code",
   "execution_count": 5,
   "metadata": {
    "collapsed": true
   },
   "outputs": [],
   "source": [
    "df.rename(columns={'Gr_Clist':'Gr'}, inplace=True)"
   ]
  },
  {
   "cell_type": "code",
   "execution_count": 6,
   "metadata": {},
   "outputs": [
    {
     "ename": "NameError",
     "evalue": "name 'x' is not defined",
     "output_type": "error",
     "traceback": [
      "\u001b[0;31m---------------------------------------------------------------------------\u001b[0m",
      "\u001b[0;31mNameError\u001b[0m                                 Traceback (most recent call last)",
      "\u001b[0;32m<ipython-input-6-401b30e3b8b5>\u001b[0m in \u001b[0;36m<module>\u001b[0;34m()\u001b[0m\n\u001b[0;32m----> 1\u001b[0;31m \u001b[0mx\u001b[0m\u001b[1;33m\u001b[0m\u001b[0m\n\u001b[0m",
      "\u001b[0;31mNameError\u001b[0m: name 'x' is not defined"
     ]
    }
   ],
   "source": [
    "x"
   ]
  },
  {
   "cell_type": "code",
   "execution_count": 10,
   "metadata": {},
   "outputs": [
    {
     "data": {
      "image/png": "[encoded data removed]",
      "text/plain": [
       "<matplotlib.figure.Figure at 0x644ffb9cf8>"
      ]
     },
     "metadata": {},
     "output_type": "display_data"
    }
   ],
   "source": [
    "plt.style.use('classic') # Matplotlib 1 Style\n",
    "\n",
    "# Add some random \"jitter\" to the x-axis\n",
    "y = df['Gewicht']\n",
    "x = np.random.normal(df['Gr'], 5, size=len(y))\n",
    "fig = plt.figure(1)\n",
    "fig.set_size_inches(6, 6)\n",
    "ax = fig.add_subplot(1, 1, 1)\n",
    "\n",
    "#plt.axvline(30, color='grey', linestyle = '--')\n",
    "#plt.axvline(70, color='grey', linestyle = '--')\n",
    "#plt.axvline(120, color='grey', linestyle = '--')\n",
    "#plt.axvline(200, color='grey', linestyle = '--')\n",
    "\n",
    "plt.plot(x, y, 'o', alpha = .5, color = 'grey')\n",
    "plt.xlim((0,250))\n",
    "plt.yscale('log')\n",
    "\n",
    "ax.set_xticks([30, 70, 120, 200])\n",
    "\n",
    "plt.ylabel('Gewicht [g]')\n",
    "plt.xlabel('Größenklassen')\n",
    "\n",
    "#ax.set_xticklabels(['30', '70', '120', '200', '>200'])\n",
    "\n",
    "plt.savefig('../output/figs/2-2_Keramik_Gr-Gew.pdf', bbox_inches='tight')\n",
    "plt.show()"
   ]
  },
  {
   "cell_type": "markdown",
   "metadata": {},
   "source": [
    "> **Keramik** Verhältnis von Scherbengröße und -gewicht"
   ]
  },
  {
   "cell_type": "code",
   "execution_count": 23,
   "metadata": {
    "collapsed": true
   },
   "outputs": [],
   "source": [
    "# als Boxplot\n",
    "a = df[['Gewicht','Gr']]"
   ]
  },
  {
   "cell_type": "code",
   "execution_count": 35,
   "metadata": {},
   "outputs": [
    {
     "data": {
      "image/png": "[encoded data removed]",
      "text/plain": [
       "<matplotlib.figure.Figure at 0xd764860>"
      ]
     },
     "metadata": {},
     "output_type": "display_data"
    }
   ],
   "source": [
    "# ax = a.boxplot(by = 'Gr', figsize = (6, 6), whis = [15.85, 84.15]) # 1-Sgima\n",
    "ax = a.boxplot(by = 'Gr', figsize = (5, 5), whis = [2.3, 97.7]) # 2-Sigma\n",
    "#plt.axvline(mean, color='black', ls = 'dashed', lw = 3, label='mean')\n",
    "plt.ylabel(\"Gewicht [g]\")\n",
    "plt.xlabel('Größenklasse')\n",
    "#legend = plt.legend([\"Mittelwert\"])\n",
    "#legend.get_frame().set_facecolor('white')\n",
    "plt.title(\"\")\n",
    "plt.suptitle(\"\")\n",
    "plt.yscale('log')\n",
    "\n",
    "\n",
    "# http://stackoverflow.com/questions/21920233/matplotlib-log-scale-tick-label-number-formatting\n",
    "for axis in [ax.xaxis, ax.yaxis]:\n",
    "    axis.set_major_formatter(ScalarFormatter())\n",
    "\n",
    "ax.xaxis.grid(False)\n",
    "ax.yaxis.grid(False)\n",
    "\n",
    "ax.set_xticklabels(['30', '70', '120', '200', '>200'])\n",
    "\n",
    "plt.savefig('../output/figs/2-2_Keramik_Gr-Gew_BoxPlt.pdf', bbox_inches='tight')"
   ]
  },
  {
   "cell_type": "code",
   "execution_count": 36,
   "metadata": {},
   "outputs": [
    {
     "data": {
      "text/html": [
       "<div>\n",
       "<table border=\"1\" class=\"dataframe\">\n",
       "  <thead>\n",
       "    <tr style=\"text-align: right;\">\n",
       "      <th></th>\n",
       "      <th>min</th>\n",
       "      <th>my25</th>\n",
       "      <th>mean</th>\n",
       "      <th>median</th>\n",
       "      <th>my75</th>\n",
       "      <th>max</th>\n",
       "    </tr>\n",
       "    <tr>\n",
       "      <th>Gr</th>\n",
       "      <th></th>\n",
       "      <th></th>\n",
       "      <th></th>\n",
       "      <th></th>\n",
       "      <th></th>\n",
       "      <th></th>\n",
       "    </tr>\n",
       "  </thead>\n",
       "  <tbody>\n",
       "    <tr>\n",
       "      <th>30</th>\n",
       "      <td>1.0</td>\n",
       "      <td>4.0</td>\n",
       "      <td>7.168554</td>\n",
       "      <td>5.0</td>\n",
       "      <td>8.0</td>\n",
       "      <td>142.0</td>\n",
       "    </tr>\n",
       "    <tr>\n",
       "      <th>70</th>\n",
       "      <td>1.0</td>\n",
       "      <td>14.0</td>\n",
       "      <td>25.507131</td>\n",
       "      <td>21.0</td>\n",
       "      <td>32.0</td>\n",
       "      <td>466.0</td>\n",
       "    </tr>\n",
       "    <tr>\n",
       "      <th>120</th>\n",
       "      <td>25.0</td>\n",
       "      <td>56.0</td>\n",
       "      <td>90.103137</td>\n",
       "      <td>77.0</td>\n",
       "      <td>108.0</td>\n",
       "      <td>611.0</td>\n",
       "    </tr>\n",
       "    <tr>\n",
       "      <th>200</th>\n",
       "      <td>12.0</td>\n",
       "      <td>196.0</td>\n",
       "      <td>378.090909</td>\n",
       "      <td>316.0</td>\n",
       "      <td>502.0</td>\n",
       "      <td>1540.0</td>\n",
       "    </tr>\n",
       "    <tr>\n",
       "      <th>500</th>\n",
       "      <td>495.0</td>\n",
       "      <td>717.5</td>\n",
       "      <td>1394.016949</td>\n",
       "      <td>1027.0</td>\n",
       "      <td>1664.5</td>\n",
       "      <td>5000.0</td>\n",
       "    </tr>\n",
       "  </tbody>\n",
       "</table>\n",
       "</div>"
      ],
      "text/plain": [
       "       min   my25         mean  median    my75     max\n",
       "Gr                                                    \n",
       "30     1.0    4.0     7.168554     5.0     8.0   142.0\n",
       "70     1.0   14.0    25.507131    21.0    32.0   466.0\n",
       "120   25.0   56.0    90.103137    77.0   108.0   611.0\n",
       "200   12.0  196.0   378.090909   316.0   502.0  1540.0\n",
       "500  495.0  717.5  1394.016949  1027.0  1664.5  5000.0"
      ]
     },
     "execution_count": 36,
     "metadata": {},
     "output_type": "execute_result"
    }
   ],
   "source": [
    "def my25(g):\n",
    "    return np.percentile(g, 25)\n",
    "\n",
    "def my75(g):\n",
    "    return np.percentile(g, 75)\n",
    "\n",
    "a.pivot_table(values = 'Gewicht', \n",
    "              index = 'Gr', \n",
    "              aggfunc = (min, my25, np.mean, np.median, my75, max))"
   ]
  },
  {
   "cell_type": "markdown",
   "metadata": {},
   "source": [
    "n"
   ]
  },
  {
   "cell_type": "code",
   "execution_count": 37,
   "metadata": {},
   "outputs": [
    {
     "data": {
      "text/plain": [
       "4218"
      ]
     },
     "execution_count": 37,
     "metadata": {},
     "output_type": "execute_result"
    }
   ],
   "source": [
    "len(a.index)"
   ]
  },
  {
   "cell_type": "markdown",
   "metadata": {},
   "source": [
    "> **ToDo**:\n",
    "> \n",
    "> [ ] lineare Regression in den Plot hinein; siehe: http://docs.scipy.org/doc/scipy-0.14.0/reference/generated/scipy.stats.linregress.html (hat am 13.04.2015 nicht geklappt!)"
   ]
  },
  {
   "cell_type": "markdown",
   "metadata": {},
   "source": [
    "### Nur ausgezählte Stücke"
   ]
  },
  {
   "cell_type": "markdown",
   "metadata": {},
   "source": [
    "ausgezählte Stücke:\n",
    "\n",
    "* Anzahl ist nicht leer (!= '') und > 1"
   ]
  },
  {
   "cell_type": "code",
   "execution_count": 114,
   "metadata": {},
   "outputs": [
    {
     "data": {
      "text/html": [
       "<div>\n",
       "<table border=\"1\" class=\"dataframe\">\n",
       "  <thead>\n",
       "    <tr style=\"text-align: right;\">\n",
       "      <th></th>\n",
       "      <th>objID</th>\n",
       "      <th>Art</th>\n",
       "      <th>Anzahl</th>\n",
       "      <th>Gewicht</th>\n",
       "      <th>Gr_Clist</th>\n",
       "    </tr>\n",
       "  </thead>\n",
       "  <tbody>\n",
       "    <tr>\n",
       "      <th>0</th>\n",
       "      <td>2510</td>\n",
       "      <td>K</td>\n",
       "      <td>12</td>\n",
       "      <td>85</td>\n",
       "      <td></td>\n",
       "    </tr>\n",
       "    <tr>\n",
       "      <th>1</th>\n",
       "      <td>2511</td>\n",
       "      <td>K</td>\n",
       "      <td>29</td>\n",
       "      <td>181</td>\n",
       "      <td></td>\n",
       "    </tr>\n",
       "    <tr>\n",
       "      <th>2</th>\n",
       "      <td>2512</td>\n",
       "      <td>K</td>\n",
       "      <td>19</td>\n",
       "      <td>130</td>\n",
       "      <td></td>\n",
       "    </tr>\n",
       "    <tr>\n",
       "      <th>3</th>\n",
       "      <td>2513</td>\n",
       "      <td>K</td>\n",
       "      <td>10</td>\n",
       "      <td>68</td>\n",
       "      <td></td>\n",
       "    </tr>\n",
       "    <tr>\n",
       "      <th>4</th>\n",
       "      <td>2514</td>\n",
       "      <td>K</td>\n",
       "      <td>2</td>\n",
       "      <td>8</td>\n",
       "      <td></td>\n",
       "    </tr>\n",
       "  </tbody>\n",
       "</table>\n",
       "</div>"
      ],
      "text/plain": [
       "   objID Art  Anzahl  Gewicht Gr_Clist\n",
       "0   2510   K      12       85         \n",
       "1   2511   K      29      181         \n",
       "2   2512   K      19      130         \n",
       "3   2513   K      10       68         \n",
       "4   2514   K       2        8         "
      ]
     },
     "metadata": {},
     "output_type": "display_data"
    }
   ],
   "source": [
    "sql = \"\"\"SELECT\n",
    "           t_Obj.objID, \n",
    "           t_Obj.Art, \n",
    "           t_Obj.Anzahl,\n",
    "           t_Obj.Gewicht,\n",
    "           t_Obj.Gr_Clist\n",
    "       FROM (t_Ort INNER JOIN t_Komplex ON t_Ort.ortID = t_Komplex.ortID)\n",
    "           INNER JOIN t_Obj ON t_Komplex.komplexID = t_Obj.komplexID\n",
    "       WHERE (((t_Ort.ort_lit)='DS')\n",
    "           AND ((t_Obj.Art) = \"K\")\n",
    "           AND ((t_Obj.Anzahl) != '')\n",
    "           AND ((t_Obj.Anzahl) > 1)\n",
    "           AND ((t_Obj.Notiz) Not Like '%1987%'))\"\"\".replace('\\n',' ')\n",
    "\n",
    "df = pd.read_sql(sql, con)\n",
    "display(df.head())"
   ]
  },
  {
   "cell_type": "code",
   "execution_count": 118,
   "metadata": {
    "collapsed": true
   },
   "outputs": [],
   "source": [
    "df['indGew'] = df['Gewicht'] / df['Anzahl']"
   ]
  },
  {
   "cell_type": "code",
   "execution_count": 116,
   "metadata": {},
   "outputs": [
    {
     "data": {
      "text/plain": [
       "104"
      ]
     },
     "execution_count": 116,
     "metadata": {},
     "output_type": "execute_result"
    }
   ],
   "source": [
    "bins = round(df['indGew'].max() - df['indGew'].min())\n",
    "bins"
   ]
  },
  {
   "cell_type": "code",
   "execution_count": 49,
   "metadata": {},
   "outputs": [
    {
     "data": {
      "image/png": "[encoded data removed]",
      "text/plain": [
       "<matplotlib.figure.Figure at 0xa47df28>"
      ]
     },
     "metadata": {},
     "output_type": "display_data"
    }
   ],
   "source": [
    "ax = df['indGew'].hist(bins = bins, color = 'grey', histtype='stepfilled')\n",
    "\n",
    "# ax = df['indGew'].hist(bins = bins, color = 'grey', histtype='stepfilled')\n",
    "# plt.axvline(mean, color='r', linestyle = '--')\n",
    "\n",
    "plt.xlabel(\"Gewicht [g]\")\n",
    "plt.ylabel(\"Anzahl\")\n",
    "\n",
    "ax.xaxis.grid(False)\n",
    "ax.yaxis.grid(False)\n",
    "\n",
    "plt.savefig('../output/figs/2-2_Keramik_ausgezaehltGew.pdf', bbox_inches='tight')\n",
    "plt.show()"
   ]
  },
  {
   "cell_type": "markdown",
   "metadata": {},
   "source": [
    "### Anteile aufgenommener & ausgezählter Stücke in Oberflächenabsammlungen"
   ]
  },
  {
   "cell_type": "markdown",
   "metadata": {},
   "source": [
    "Liste der ausgezählten Stücke aus Oberflächenabsammlungen:"
   ]
  },
  {
   "cell_type": "code",
   "execution_count": 54,
   "metadata": {},
   "outputs": [
    {
     "data": {
      "text/html": [
       "<div>\n",
       "<table border=\"1\" class=\"dataframe\">\n",
       "  <thead>\n",
       "    <tr style=\"text-align: right;\">\n",
       "      <th></th>\n",
       "      <th>ort_kurz</th>\n",
       "      <th>Anzahl</th>\n",
       "    </tr>\n",
       "  </thead>\n",
       "  <tbody>\n",
       "    <tr>\n",
       "      <th>0</th>\n",
       "      <td>BAT</td>\n",
       "      <td>24</td>\n",
       "    </tr>\n",
       "    <tr>\n",
       "      <th>1</th>\n",
       "      <td>BBL</td>\n",
       "      <td>22</td>\n",
       "    </tr>\n",
       "    <tr>\n",
       "      <th>2</th>\n",
       "      <td>BBS</td>\n",
       "      <td>74</td>\n",
       "    </tr>\n",
       "    <tr>\n",
       "      <th>3</th>\n",
       "      <td>BGA</td>\n",
       "      <td>6</td>\n",
       "    </tr>\n",
       "    <tr>\n",
       "      <th>4</th>\n",
       "      <td>BJJ</td>\n",
       "      <td>47</td>\n",
       "    </tr>\n",
       "  </tbody>\n",
       "</table>\n",
       "</div>"
      ],
      "text/plain": [
       "  ort_kurz  Anzahl\n",
       "0      BAT      24\n",
       "1      BBL      22\n",
       "2      BBS      74\n",
       "3      BGA       6\n",
       "4      BJJ      47"
      ]
     },
     "metadata": {},
     "output_type": "display_data"
    }
   ],
   "source": [
    "sql = \"\"\"SELECT\n",
    "           t_Ort.ort_kurz,\n",
    "           t_Ort.ort_name,\n",
    "           t_Obj.objID,\n",
    "           t_Obj.Anzahl,\n",
    "           t_Obj.Gewicht,\n",
    "           t_Obj.Gr_Clist,\n",
    "           t_Obj.Typ,\n",
    "           t_Obj.Notiz\n",
    "       FROM (t_Ort INNER JOIN t_Komplex ON t_Ort.ortID = t_Komplex.ortID)\n",
    "           INNER JOIN t_Obj ON t_Komplex.komplexID = t_Obj.komplexID\n",
    "       WHERE (((t_Ort.ort_lit) = 'DS')\n",
    "           AND ((t_Komplex.bef_art) = 'Oberfl')\n",
    "           AND ((t_Obj.Anzahl) != 1)\n",
    "           AND ((t_Obj.Anzahl) != '')\n",
    "           AND ((t_Obj.Art) = 'K')\n",
    "           AND ((t_Obj.Notiz) Not Like '%1987%'))\"\"\".replace('\\n',' ')\n",
    "\n",
    "df1 = pd.read_sql(sql, con)\n",
    "# display(df1.head())\n",
    "df_pivot1 = df1.pivot_table(values = 'Anzahl', index = 'ort_kurz', aggfunc = sum)\n",
    "df_pivot1 = pd.DataFrame(df_pivot1)\n",
    "df_pivot1 = df_pivot1.reset_index()\n",
    "display(df_pivot1.head())"
   ]
  },
  {
   "cell_type": "markdown",
   "metadata": {},
   "source": [
    "Das mittlere/individuelle Scherbengewicht je ausgezählter Aufnahmeeinheit ausrechnen (<code>Gewicht/Anzahl</code>):"
   ]
  },
  {
   "cell_type": "code",
   "execution_count": 55,
   "metadata": {},
   "outputs": [
    {
     "data": {
      "text/plain": [
       "count    425.000000\n",
       "mean      19.222764\n",
       "std       15.181571\n",
       "min        2.333333\n",
       "25%       10.263158\n",
       "50%       15.000000\n",
       "75%       23.500000\n",
       "max      104.571429\n",
       "Name: GewichtInd, dtype: float64"
      ]
     },
     "execution_count": 55,
     "metadata": {},
     "output_type": "execute_result"
    }
   ],
   "source": [
    "df1['GewichtInd'] = df1['Gewicht'] / df1['Anzahl']\n",
    "df1['GewichtInd'].describe()"
   ]
  },
  {
   "cell_type": "code",
   "execution_count": 56,
   "metadata": {},
   "outputs": [
    {
     "data": {
      "image/png": "[encoded data removed]",
      "text/plain": [
       "<matplotlib.figure.Figure at 0x57ebcf8>"
      ]
     },
     "metadata": {},
     "output_type": "display_data"
    }
   ],
   "source": [
    "bins = round(df1['GewichtInd'].max() - df1['GewichtInd'].min())\n",
    "ax = df1['GewichtInd'].hist(bins = bins, color = 'grey', histtype='stepfilled')\n",
    "plt.xlabel('Gewicht [g]')\n",
    "plt.ylabel('Anzahl')\n",
    "\n",
    "ax.xaxis.grid(False)\n",
    "ax.yaxis.grid(False)\n",
    "\n",
    "plt.savefig('../output/figs/2-2_Keramik_ausgezaehltGew-Oberfl.pdf', bbox_inches='tight')\n",
    "plt.show()"
   ]
  },
  {
   "cell_type": "markdown",
   "metadata": {},
   "source": [
    "> **Keramik** Mittleres Scherbengewicht ausgezählter Stücke in Oberflächenabsammlungen"
   ]
  },
  {
   "cell_type": "markdown",
   "metadata": {},
   "source": [
    "Liste der einzeln aufgenommen Stücke:"
   ]
  },
  {
   "cell_type": "code",
   "execution_count": 57,
   "metadata": {},
   "outputs": [
    {
     "data": {
      "text/html": [
       "<div>\n",
       "<table border=\"1\" class=\"dataframe\">\n",
       "  <thead>\n",
       "    <tr style=\"text-align: right;\">\n",
       "      <th></th>\n",
       "      <th>ort_kurz</th>\n",
       "      <th>Anzahl</th>\n",
       "    </tr>\n",
       "  </thead>\n",
       "  <tbody>\n",
       "    <tr>\n",
       "      <th>0</th>\n",
       "      <td>BAT</td>\n",
       "      <td>30</td>\n",
       "    </tr>\n",
       "    <tr>\n",
       "      <th>1</th>\n",
       "      <td>BBL</td>\n",
       "      <td>54</td>\n",
       "    </tr>\n",
       "    <tr>\n",
       "      <th>2</th>\n",
       "      <td>BBS</td>\n",
       "      <td>85</td>\n",
       "    </tr>\n",
       "    <tr>\n",
       "      <th>3</th>\n",
       "      <td>BDA</td>\n",
       "      <td>30</td>\n",
       "    </tr>\n",
       "    <tr>\n",
       "      <th>4</th>\n",
       "      <td>BGA</td>\n",
       "      <td>49</td>\n",
       "    </tr>\n",
       "  </tbody>\n",
       "</table>\n",
       "</div>"
      ],
      "text/plain": [
       "  ort_kurz  Anzahl\n",
       "0      BAT      30\n",
       "1      BBL      54\n",
       "2      BBS      85\n",
       "3      BDA      30\n",
       "4      BGA      49"
      ]
     },
     "metadata": {},
     "output_type": "display_data"
    }
   ],
   "source": [
    "sql = \"\"\"SELECT\n",
    "           t_Ort.ort_kurz,\n",
    "           t_Ort.ort_name,\n",
    "           t_Obj.objID,\n",
    "           t_Obj.Anzahl,\n",
    "           t_Obj.Typ,\n",
    "           t_Obj.Notiz\n",
    "       FROM (t_Ort INNER JOIN t_Komplex ON t_Ort.ortID = t_Komplex.ortID)\n",
    "           INNER JOIN t_Obj ON t_Komplex.komplexID = t_Obj.komplexID\n",
    "       WHERE (((t_Ort.ort_lit) = 'DS')\n",
    "           AND ((t_Komplex.bef_art) = 'Oberfl')\n",
    "           AND ((t_Obj.Anzahl) = 1)\n",
    "           AND ((t_Obj.Art) = 'K')\n",
    "           AND ((t_Obj.Notiz) Not Like '%1987%'))\"\"\".replace('\\n',' ')\n",
    "\n",
    "df2 = pd.read_sql(sql, con)\n",
    "# display(df2.head())\n",
    "# Anzahl einzeln aufgenommener Scherben je FdSt:\n",
    "df_pivot2 = df2.pivot_table(values = 'Anzahl', index = 'ort_kurz', aggfunc = sum)\n",
    "df_pivot2 = pd.DataFrame(df_pivot2)\n",
    "df_pivot2 = df_pivot2.reset_index()\n",
    "display(df_pivot2.head())"
   ]
  },
  {
   "cell_type": "code",
   "execution_count": 58,
   "metadata": {},
   "outputs": [
    {
     "data": {
      "text/html": [
       "<div>\n",
       "<table border=\"1\" class=\"dataframe\">\n",
       "  <thead>\n",
       "    <tr style=\"text-align: right;\">\n",
       "      <th></th>\n",
       "      <th>ort_kurz</th>\n",
       "      <th>Anzahl_ausgezählt</th>\n",
       "      <th>Anzahl_individuell</th>\n",
       "    </tr>\n",
       "  </thead>\n",
       "  <tbody>\n",
       "    <tr>\n",
       "      <th>0</th>\n",
       "      <td>BAT</td>\n",
       "      <td>24</td>\n",
       "      <td>30</td>\n",
       "    </tr>\n",
       "    <tr>\n",
       "      <th>1</th>\n",
       "      <td>BBL</td>\n",
       "      <td>22</td>\n",
       "      <td>54</td>\n",
       "    </tr>\n",
       "    <tr>\n",
       "      <th>2</th>\n",
       "      <td>BBS</td>\n",
       "      <td>74</td>\n",
       "      <td>85</td>\n",
       "    </tr>\n",
       "    <tr>\n",
       "      <th>3</th>\n",
       "      <td>BGA</td>\n",
       "      <td>6</td>\n",
       "      <td>49</td>\n",
       "    </tr>\n",
       "    <tr>\n",
       "      <th>4</th>\n",
       "      <td>BJJ</td>\n",
       "      <td>47</td>\n",
       "      <td>40</td>\n",
       "    </tr>\n",
       "  </tbody>\n",
       "</table>\n",
       "</div>"
      ],
      "text/plain": [
       "  ort_kurz  Anzahl_ausgezählt  Anzahl_individuell\n",
       "0      BAT                 24                  30\n",
       "1      BBL                 22                  54\n",
       "2      BBS                 74                  85\n",
       "3      BGA                  6                  49\n",
       "4      BJJ                 47                  40"
      ]
     },
     "metadata": {},
     "output_type": "display_data"
    }
   ],
   "source": [
    "# die beiden separeten Tabellen über 'ort_kurz' zusammenfassen (Achtung: Einträge die nur in einer der beiden Tabellen vorkommen werden ans Ende gestellt):\n",
    "df_merge = pd.merge(df_pivot1, df_pivot2, on = 'ort_kurz', how = 'outer', suffixes = ('_ausgezählt','_individuell'))\n",
    "display(df_merge.head())"
   ]
  },
  {
   "cell_type": "code",
   "execution_count": 59,
   "metadata": {
    "collapsed": true
   },
   "outputs": [],
   "source": [
    "df_merge.to_csv('../data/processed/Keramik - Obfl-Komplexe - ausgezählt vs aufgenommen.csv', index = False, encoding='utf-8')"
   ]
  },
  {
   "cell_type": "code",
   "execution_count": 60,
   "metadata": {
    "scrolled": false
   },
   "outputs": [
    {
     "name": "stderr",
     "output_type": "stream",
     "text": [
      "C:\\Users\\DirkSeidenticker\\Anaconda3\\lib\\site-packages\\IPython\\kernel\\__main__.py:6: FutureWarning: by argument to sort_index is deprecated, pls use .sort_values(by=...)\n"
     ]
    },
    {
     "data": {
      "text/html": [
       "<div>\n",
       "<table border=\"1\" class=\"dataframe\">\n",
       "  <thead>\n",
       "    <tr style=\"text-align: right;\">\n",
       "      <th></th>\n",
       "      <th>ort_kurz</th>\n",
       "      <th>Anzahl_ausgezählt</th>\n",
       "      <th>Anzahl_individuell</th>\n",
       "      <th>Anzahl_Summe</th>\n",
       "      <th>Prozent_ausgezählt</th>\n",
       "      <th>Prozent_individuell</th>\n",
       "      <th>Prozent_Summe</th>\n",
       "    </tr>\n",
       "  </thead>\n",
       "  <tbody>\n",
       "    <tr>\n",
       "      <th>59</th>\n",
       "      <td>NGL</td>\n",
       "      <td>77</td>\n",
       "      <td>35</td>\n",
       "      <td>112</td>\n",
       "      <td>0.687500</td>\n",
       "      <td>0.312500</td>\n",
       "      <td>1</td>\n",
       "    </tr>\n",
       "    <tr>\n",
       "      <th>57</th>\n",
       "      <td>NGB</td>\n",
       "      <td>87</td>\n",
       "      <td>42</td>\n",
       "      <td>129</td>\n",
       "      <td>0.674419</td>\n",
       "      <td>0.325581</td>\n",
       "      <td>1</td>\n",
       "    </tr>\n",
       "    <tr>\n",
       "      <th>68</th>\n",
       "      <td>YEN</td>\n",
       "      <td>10</td>\n",
       "      <td>5</td>\n",
       "      <td>15</td>\n",
       "      <td>0.666667</td>\n",
       "      <td>0.333333</td>\n",
       "      <td>1</td>\n",
       "    </tr>\n",
       "    <tr>\n",
       "      <th>32</th>\n",
       "      <td>LMS</td>\n",
       "      <td>23</td>\n",
       "      <td>13</td>\n",
       "      <td>36</td>\n",
       "      <td>0.638889</td>\n",
       "      <td>0.361111</td>\n",
       "      <td>1</td>\n",
       "    </tr>\n",
       "    <tr>\n",
       "      <th>31</th>\n",
       "      <td>LKL</td>\n",
       "      <td>19</td>\n",
       "      <td>11</td>\n",
       "      <td>30</td>\n",
       "      <td>0.633333</td>\n",
       "      <td>0.366667</td>\n",
       "      <td>1</td>\n",
       "    </tr>\n",
       "  </tbody>\n",
       "</table>\n",
       "</div>"
      ],
      "text/plain": [
       "   ort_kurz  Anzahl_ausgezählt  Anzahl_individuell  Anzahl_Summe  \\\n",
       "59      NGL                 77                  35           112   \n",
       "57      NGB                 87                  42           129   \n",
       "68      YEN                 10                   5            15   \n",
       "32      LMS                 23                  13            36   \n",
       "31      LKL                 19                  11            30   \n",
       "\n",
       "    Prozent_ausgezählt  Prozent_individuell  Prozent_Summe  \n",
       "59            0.687500             0.312500              1  \n",
       "57            0.674419             0.325581              1  \n",
       "68            0.666667             0.333333              1  \n",
       "32            0.638889             0.361111              1  \n",
       "31            0.633333             0.366667              1  "
      ]
     },
     "metadata": {},
     "output_type": "display_data"
    }
   ],
   "source": [
    "df_merge['Anzahl_Summe'] = df_merge['Anzahl_ausgezählt'] + df_merge['Anzahl_individuell']\n",
    "df_merge['Prozent_ausgezählt'] = df_merge['Anzahl_ausgezählt']/df_merge['Anzahl_Summe']\n",
    "df_merge['Prozent_individuell'] = df_merge['Anzahl_individuell']/df_merge['Anzahl_Summe']\n",
    "df_merge['Prozent_Summe'] = df_merge['Prozent_ausgezählt'] + df_merge['Prozent_individuell']\n",
    "# df_merge nach dem Anteil ausgezählte Stücke sortieren\n",
    "df_merge = df_merge.sort_index(by=['Prozent_ausgezählt'], ascending=[False])\n",
    "display(df_merge.head())"
   ]
  },
  {
   "cell_type": "code",
   "execution_count": 61,
   "metadata": {
    "collapsed": true
   },
   "outputs": [],
   "source": [
    "# gemeinsame Tabelle mit den Anteilen erzeugen\n",
    "df_merge_plt = df_merge[['Prozent_ausgezählt','Prozent_individuell']]\n",
    "df_merge_plt = df_merge_plt[np.isfinite(df_merge_plt['Prozent_ausgezählt'])]"
   ]
  },
  {
   "cell_type": "code",
   "execution_count": 62,
   "metadata": {},
   "outputs": [
    {
     "data": {
      "text/plain": [
       "<matplotlib.lines.Line2D at 0xb62ce48>"
      ]
     },
     "execution_count": 62,
     "metadata": {},
     "output_type": "execute_result"
    },
    {
     "data": {
      "image/png": "[encoded data removed]",
      "text/plain": [
       "<matplotlib.figure.Figure at 0xb62cb00>"
      ]
     },
     "metadata": {},
     "output_type": "display_data"
    }
   ],
   "source": [
    "df_merge_plt.plot(kind = 'bar', stacked = True)\n",
    "lgd = plt.legend(bbox_to_anchor=(1.02, 1), loc = 2, borderaxespad = 0.)\n",
    "plt.axhline(y = 0.5, color='r', linestyle = '--')"
   ]
  },
  {
   "cell_type": "code",
   "execution_count": 63,
   "metadata": {},
   "outputs": [
    {
     "data": {
      "text/plain": [
       "<matplotlib.text.Text at 0xb9f76d8>"
      ]
     },
     "execution_count": 63,
     "metadata": {},
     "output_type": "execute_result"
    },
    {
     "data": {
      "image/png": "[encoded data removed]",
      "text/plain": [
       "<matplotlib.figure.Figure at 0xb64ff98>"
      ]
     },
     "metadata": {},
     "output_type": "display_data"
    }
   ],
   "source": [
    "fig = plt.figure(1)\n",
    "fig.set_size_inches(12, 5.5)\n",
    "\n",
    "plt.subplot(121)\n",
    "\n",
    "ax = df_merge['Prozent_individuell'].hist(bins = 20)\n",
    "#df_merge['Prozent_individuell'].plot(kind = 'kde', color = 'black', linestyle = '--')\n",
    "plt.xlim([0,1])\n",
    "plt.axvline(x = 0.5, color='r', linestyle = '--')\n",
    "plt.title('Einzelaufnahme\\n')\n",
    "plt.xlabel('Anteil')\n",
    "ax.xaxis.grid(False)\n",
    "ax.yaxis.grid(False)\n",
    "\n",
    "plt.subplot(122)\n",
    "\n",
    "ax = df_merge['Prozent_ausgezählt'].hist(bins = 20, color = '#55A868')\n",
    "#df_merge['Prozent_ausgezählt'].plot(kind = 'kde', color = 'black', linestyle = '--')\n",
    "plt.xlim([0,1])\n",
    "plt.axvline(x = 0.5, color='r', linestyle = '--')\n",
    "plt.title('Ausgezählt\\n')\n",
    "plt.xlabel('Anteil')\n",
    "ax.xaxis.grid(False)\n",
    "ax.yaxis.grid(False)\n",
    "\n",
    "plt.suptitle('Oberflächenabsammlungen', fontsize=14, fontweight='bold')"
   ]
  },
  {
   "cell_type": "markdown",
   "metadata": {},
   "source": [
    "Anteil ausgezählter Stücke in den Oberflächenabsammlungen:"
   ]
  },
  {
   "cell_type": "code",
   "execution_count": 64,
   "metadata": {},
   "outputs": [
    {
     "data": {
      "text/plain": [
       "count    70.000000\n",
       "mean      0.399385\n",
       "std       0.148456\n",
       "min       0.071429\n",
       "25%       0.300581\n",
       "50%       0.379250\n",
       "75%       0.500000\n",
       "max       0.687500\n",
       "Name: Prozent_ausgezählt, dtype: float64"
      ]
     },
     "execution_count": 64,
     "metadata": {},
     "output_type": "execute_result"
    }
   ],
   "source": [
    "df_merge['Prozent_ausgezählt'].describe()"
   ]
  },
  {
   "cell_type": "code",
   "execution_count": 67,
   "metadata": {},
   "outputs": [
    {
     "name": "stderr",
     "output_type": "stream",
     "text": [
      "C:\\Users\\DirkSeidenticker\\Anaconda3\\lib\\site-packages\\IPython\\kernel\\__main__.py:59: FutureWarning: by argument to sort_index is deprecated, pls use .sort_values(by=...)\n"
     ]
    },
    {
     "data": {
      "text/html": [
       "<div>\n",
       "<table border=\"1\" class=\"dataframe\">\n",
       "  <thead>\n",
       "    <tr style=\"text-align: right;\">\n",
       "      <th></th>\n",
       "      <th>ort_kurz</th>\n",
       "      <th>bef_nr</th>\n",
       "      <th>Anzahl_ausgezählt</th>\n",
       "      <th>Anzahl_individuell</th>\n",
       "      <th>Anzahl_Summe</th>\n",
       "      <th>Prozent_ausgezählt</th>\n",
       "      <th>Prozent_individuell</th>\n",
       "      <th>Prozent_Summe</th>\n",
       "    </tr>\n",
       "  </thead>\n",
       "  <tbody>\n",
       "    <tr>\n",
       "      <th>11</th>\n",
       "      <td>PIK</td>\n",
       "      <td>87/2</td>\n",
       "      <td>878</td>\n",
       "      <td>200</td>\n",
       "      <td>1078</td>\n",
       "      <td>0.814471</td>\n",
       "      <td>0.185529</td>\n",
       "      <td>1</td>\n",
       "    </tr>\n",
       "    <tr>\n",
       "      <th>3</th>\n",
       "      <td>MKA</td>\n",
       "      <td>87/102</td>\n",
       "      <td>3</td>\n",
       "      <td>1</td>\n",
       "      <td>4</td>\n",
       "      <td>0.750000</td>\n",
       "      <td>0.250000</td>\n",
       "      <td>1</td>\n",
       "    </tr>\n",
       "    <tr>\n",
       "      <th>6</th>\n",
       "      <td>MUN</td>\n",
       "      <td>87/1</td>\n",
       "      <td>291</td>\n",
       "      <td>115</td>\n",
       "      <td>406</td>\n",
       "      <td>0.716749</td>\n",
       "      <td>0.283251</td>\n",
       "      <td>1</td>\n",
       "    </tr>\n",
       "    <tr>\n",
       "      <th>2</th>\n",
       "      <td>BLK</td>\n",
       "      <td>87/1</td>\n",
       "      <td>41</td>\n",
       "      <td>17</td>\n",
       "      <td>58</td>\n",
       "      <td>0.706897</td>\n",
       "      <td>0.293103</td>\n",
       "      <td>1</td>\n",
       "    </tr>\n",
       "    <tr>\n",
       "      <th>4</th>\n",
       "      <td>MLB</td>\n",
       "      <td>85/1-3-1</td>\n",
       "      <td>206</td>\n",
       "      <td>99</td>\n",
       "      <td>305</td>\n",
       "      <td>0.675410</td>\n",
       "      <td>0.324590</td>\n",
       "      <td>1</td>\n",
       "    </tr>\n",
       "  </tbody>\n",
       "</table>\n",
       "</div>"
      ],
      "text/plain": [
       "   ort_kurz    bef_nr  Anzahl_ausgezählt  Anzahl_individuell  Anzahl_Summe  \\\n",
       "11      PIK      87/2                878                 200          1078   \n",
       "3       MKA    87/102                  3                   1             4   \n",
       "6       MUN      87/1                291                 115           406   \n",
       "2       BLK      87/1                 41                  17            58   \n",
       "4       MLB  85/1-3-1                206                  99           305   \n",
       "\n",
       "    Prozent_ausgezählt  Prozent_individuell  Prozent_Summe  \n",
       "11            0.814471             0.185529              1  \n",
       "3             0.750000             0.250000              1  \n",
       "6             0.716749             0.283251              1  \n",
       "2             0.706897             0.293103              1  \n",
       "4             0.675410             0.324590              1  "
      ]
     },
     "metadata": {},
     "output_type": "display_data"
    }
   ],
   "source": [
    "sql = \"\"\"SELECT\n",
    "           t_Ort.ort_kurz,\n",
    "           t_Ort.ort_name,\n",
    "           t_Komplex.bef_nr,\n",
    "           t_Obj.objID,\n",
    "           t_Obj.Anzahl,\n",
    "           t_Obj.Gewicht,\n",
    "           t_Obj.Typ,\n",
    "           t_Obj.Notiz\n",
    "       FROM (t_Ort INNER JOIN t_Komplex ON t_Ort.ortID = t_Komplex.ortID)\n",
    "           INNER JOIN t_Obj ON t_Komplex.komplexID = t_Obj.komplexID\n",
    "       WHERE (((t_Ort.ort_lit) = 'DS')\n",
    "           AND ((t_Komplex.bef_art) != 'Oberfl')\n",
    "           AND ((t_Obj.Anzahl) != 1)\n",
    "           AND ((t_Obj.Anzahl) != '')\n",
    "           AND ((t_Obj.Art) = 'K')\n",
    "           AND ((t_Obj.Notiz) Not Like '%1987%'))\"\"\".replace('\\n',' ')\n",
    "\n",
    "df1 = pd.read_sql(sql, con)\n",
    "# display(df1.head())\n",
    "df_pivot1 = df1.pivot_table(values = 'Anzahl', index = ['ort_kurz', 'bef_nr'], aggfunc = sum)\n",
    "df_pivot1 = pd.DataFrame(df_pivot1)\n",
    "df_pivot1 = df_pivot1.reset_index()\n",
    "# display(df_pivot1.head())\n",
    "\n",
    "sql = \"\"\"SELECT\n",
    "           t_Ort.ort_kurz,\n",
    "           t_Ort.ort_name,\n",
    "           t_Komplex.bef_nr,\n",
    "           t_Obj.objID,\n",
    "           t_Obj.Gewicht,\n",
    "           t_Obj.Anzahl,\n",
    "           t_Obj.Typ,\n",
    "           t_Obj.Notiz\n",
    "       FROM (t_Ort INNER JOIN t_Komplex ON t_Ort.ortID = t_Komplex.ortID)\n",
    "           INNER JOIN t_Obj ON t_Komplex.komplexID = t_Obj.komplexID\n",
    "       WHERE (((t_Ort.ort_lit) = 'DS')\n",
    "           AND ((t_Komplex.bef_art) != 'Oberfl')\n",
    "           AND ((t_Obj.Anzahl) = 1)\n",
    "           AND ((t_Obj.Art) = 'K')\n",
    "           AND ((t_Obj.Notiz) Not Like '%1987%'))\"\"\".replace('\\n',' ')\n",
    "\n",
    "df2 = pd.read_sql(sql, con)\n",
    "# display(df2.head())\n",
    "df_pivot2 = df2.pivot_table(values = 'Anzahl', index = ['ort_kurz', 'bef_nr'], aggfunc = sum)\n",
    "df_pivot2 = pd.DataFrame(df_pivot2)\n",
    "df_pivot2 = df_pivot2.reset_index()\n",
    "# display(df_pivot2.head())\n",
    "\n",
    "# die beiden separeten Tabellen über 'ort_kurz' zusammenfassen (Achtung: Einträge die nur in einer der beiden Tabellen vorkommen werden ans Ende gestellt):\n",
    "df_merge = pd.merge(df_pivot1, df_pivot2, on = ['ort_kurz', 'bef_nr'], how = 'outer', suffixes = ('_ausgezählt','_individuell'))\n",
    "# display(df_merge.head())\n",
    "\n",
    "df_merge['Anzahl_Summe'] = df_merge['Anzahl_ausgezählt'] + df_merge['Anzahl_individuell']\n",
    "df_merge['Prozent_ausgezählt'] = df_merge['Anzahl_ausgezählt']/df_merge['Anzahl_Summe']\n",
    "df_merge['Prozent_individuell'] = df_merge['Anzahl_individuell']/df_merge['Anzahl_Summe']\n",
    "df_merge['Prozent_Summe'] = df_merge['Prozent_ausgezählt'] + df_merge['Prozent_individuell']\n",
    "# df_merge nach dem Anteil ausgezählte Stücke sortieren\n",
    "df_merge = df_merge.sort_index(by=['Prozent_ausgezählt'], ascending=[False])\n",
    "\n",
    "display(df_merge.head())\n",
    "#df_merge"
   ]
  },
  {
   "cell_type": "code",
   "execution_count": 68,
   "metadata": {},
   "outputs": [
    {
     "data": {
      "text/plain": [
       "count    13.000000\n",
       "mean      0.556953\n",
       "std       0.193277\n",
       "min       0.130435\n",
       "25%       0.441176\n",
       "50%       0.581818\n",
       "75%       0.706897\n",
       "max       0.814471\n",
       "Name: Prozent_ausgezählt, dtype: float64"
      ]
     },
     "execution_count": 68,
     "metadata": {},
     "output_type": "execute_result"
    }
   ],
   "source": [
    "df_merge['Prozent_ausgezählt'].describe()"
   ]
  },
  {
   "cell_type": "markdown",
   "metadata": {},
   "source": [
    "## Anteil bestimmter Typen im Datensatz"
   ]
  },
  {
   "cell_type": "code",
   "execution_count": 22,
   "metadata": {
    "collapsed": true
   },
   "outputs": [],
   "source": [
    "# eindeutig bestimmte Stücke\n",
    "sql = \"\"\"SELECT\n",
    "           t_Obj.objID,\n",
    "           t_Obj.Typ\n",
    "       FROM (t_Ort INNER JOIN t_Komplex ON t_Ort.ortID = t_Komplex.ortID)\n",
    "           INNER JOIN t_Obj ON t_Komplex.komplexID = t_Obj.komplexID\n",
    "       WHERE (((t_Ort.ort_lit) = 'DS')\n",
    "           AND ((t_Obj.Notiz) Not Like '%1987%')\n",
    "           AND ((t_Obj.Art) = 'K')\n",
    "           AND ((t_Obj.Typ) NOT LIKE '%(?)%')\n",
    "           AND ((t_Obj.Typ) NOT LIKE '%/%')\n",
    "           AND ((t_Obj.Typ) NOT NULL))\"\"\".replace('\\n',' ')\n",
    "a = pd.read_sql(sql, con)\n",
    "\n",
    "# fraglich bestimmte Stücke\n",
    "sql = \"\"\"SELECT\n",
    "           t_Obj.objID,\n",
    "           t_Obj.Typ\n",
    "       FROM (t_Ort INNER JOIN t_Komplex ON t_Ort.ortID = t_Komplex.ortID)\n",
    "           INNER JOIN t_Obj ON t_Komplex.komplexID = t_Obj.komplexID\n",
    "       WHERE (((t_Ort.ort_lit) = 'DS')\n",
    "           AND ((t_Obj.Notiz) Not Like '%1987%')\n",
    "           AND ((t_Obj.Art) = 'K')\n",
    "           AND ((t_Obj.Typ) NOT NULL)\n",
    "           AND ((t_Obj.Typ) LIKE '%(?)%')\n",
    "           OR ((t_Obj.Typ) LIKE '%/%'))\"\"\".replace('\\n',' ')\n",
    "b = pd.read_sql(sql, con)\n",
    "\n",
    "# nicht bestimmte Stücke\n",
    "sql = \"\"\"SELECT\n",
    "           t_Obj.objID,\n",
    "           t_Obj.Typ\n",
    "       FROM (t_Ort INNER JOIN t_Komplex ON t_Ort.ortID = t_Komplex.ortID)\n",
    "           INNER JOIN t_Obj ON t_Komplex.komplexID = t_Obj.komplexID\n",
    "       WHERE (((t_Ort.ort_lit) = 'DS')\n",
    "           AND ((t_Obj.Notiz) Not Like '%1987%')\n",
    "           AND ((t_Obj.Art) = 'K')\n",
    "           AND ((t_Obj.Typ) IS NULL))\"\"\".replace('\\n',' ')\n",
    "c = pd.read_sql(sql, con)"
   ]
  },
  {
   "cell_type": "code",
   "execution_count": 23,
   "metadata": {},
   "outputs": [
    {
     "data": {
      "text/html": [
       "<div>\n",
       "<table border=\"1\" class=\"dataframe\">\n",
       "  <thead>\n",
       "    <tr style=\"text-align: right;\">\n",
       "      <th></th>\n",
       "      <th>0</th>\n",
       "      <th>Prozent</th>\n",
       "    </tr>\n",
       "  </thead>\n",
       "  <tbody>\n",
       "    <tr>\n",
       "      <th>eindeutig</th>\n",
       "      <td>2202</td>\n",
       "      <td>41.476738</td>\n",
       "    </tr>\n",
       "    <tr>\n",
       "      <th>fraglich</th>\n",
       "      <td>1340</td>\n",
       "      <td>25.240158</td>\n",
       "    </tr>\n",
       "    <tr>\n",
       "      <th>unbestimmt</th>\n",
       "      <td>1767</td>\n",
       "      <td>33.283104</td>\n",
       "    </tr>\n",
       "  </tbody>\n",
       "</table>\n",
       "</div>"
      ],
      "text/plain": [
       "               0    Prozent\n",
       "eindeutig   2202  41.476738\n",
       "fraglich    1340  25.240158\n",
       "unbestimmt  1767  33.283104"
      ]
     },
     "execution_count": 23,
     "metadata": {},
     "output_type": "execute_result"
    }
   ],
   "source": [
    "df = pd.Series({'eindeutig':len(a),\n",
    "               'fraglich':len(b),\n",
    "               'unbestimmt':len(c)})\n",
    "df = pd.DataFrame(df)\n",
    "df['Prozent'] = df[0]/df[0].sum()*100\n",
    "df"
   ]
  },
  {
   "cell_type": "code",
   "execution_count": 24,
   "metadata": {},
   "outputs": [
    {
     "data": {
      "image/png": "[encoded data removed]",
      "text/plain": [
       "<matplotlib.figure.Figure at 0x2dbb78bfd68>"
      ]
     },
     "metadata": {},
     "output_type": "display_data"
    }
   ],
   "source": [
    "df.plot(y = 'Prozent', kind = 'bar', legend = None, color = 'grey')\n",
    "plt.xticks(rotation=0)\n",
    "plt.ylabel('Anteil [%]')\n",
    "plt.show()"
   ]
  },
  {
   "cell_type": "markdown",
   "metadata": {},
   "source": [
    "## Anteil unverzierter Stücke im Datensatz"
   ]
  },
  {
   "cell_type": "markdown",
   "metadata": {},
   "source": [
    "### Oberflächenabsammlungen"
   ]
  },
  {
   "cell_type": "code",
   "execution_count": 72,
   "metadata": {},
   "outputs": [
    {
     "data": {
      "text/html": [
       "<div>\n",
       "<table border=\"1\" class=\"dataframe\">\n",
       "  <thead>\n",
       "    <tr style=\"text-align: right;\">\n",
       "      <th></th>\n",
       "      <th>Anzahl</th>\n",
       "      <th>Prozent</th>\n",
       "    </tr>\n",
       "  </thead>\n",
       "  <tbody>\n",
       "    <tr>\n",
       "      <th>unverziert</th>\n",
       "      <td>914</td>\n",
       "      <td>23.789693</td>\n",
       "    </tr>\n",
       "    <tr>\n",
       "      <th>verziert</th>\n",
       "      <td>2928</td>\n",
       "      <td>76.210307</td>\n",
       "    </tr>\n",
       "  </tbody>\n",
       "</table>\n",
       "</div>"
      ],
      "text/plain": [
       "            Anzahl    Prozent\n",
       "unverziert     914  23.789693\n",
       "verziert      2928  76.210307"
      ]
     },
     "execution_count": 72,
     "metadata": {},
     "output_type": "execute_result"
    }
   ],
   "source": [
    "sql = \"\"\"SELECT\n",
    "            t_Obj.objID,\n",
    "            t_Obj.Anzahl,\n",
    "            t_K_Verz.verzName,\n",
    "            [t_K_Pos].[posReihe] || ' ' || [posName] AS pos,\n",
    "            [t_Obj].[Verz_PosUnbekannt] || '/' || [t_Obj].[Verz_Innen_Rand/Hals/berteil] || '/' || [t_Obj].[Ver_Rand] || '/' || [t_Obj].[Verz_Oberteil] || '/' || [t_Obj].[Verz_Hals] || '/' || [t_Obj].[Verz_Schulter] || '/' || [t_Obj].[Verz_Bauch] || '/' || [t_Obj].[Verz_Unterteil] || '/' || [t_Obj].[Verz_Bodenansatz] || '/' || [t_Obj].[Ver_Standfl] AS ObjVerz\n",
    "        FROM t_Komplex INNER JOIN t_Obj ON t_Komplex.komplexID = t_Obj.komplexID\n",
    "            INNER JOIN t_Ort ON t_Ort.ortID = t_Komplex.ortID\n",
    "            LEFT JOIN \"t_ObjPosVerz\" ON t_Obj.objID = \"t_ObjPosVerz\".objID\n",
    "            LEFT JOIN t_K_Pos ON t_K_Pos.posID = \"t_ObjPosVerz\".posID\n",
    "            LEFT JOIN t_K_Verz ON t_K_Verz.verzID = \"t_ObjPosVerz\".verzID\n",
    "        WHERE (((t_Obj.Art) == 'K')\n",
    "            AND ((t_Komplex.bef_Art) Like \"%Oberfl%\")\n",
    "            AND ((t_Obj.Notiz) Not Like '%1987%'))\"\"\".replace('\\n',' ')\n",
    "\n",
    "df = pd.read_sql(sql, con)\n",
    "df['pos'].fillna('unverz', inplace=True)\n",
    "df_pivot = df.pivot_table(values = 'Anzahl', index = 'objID', columns = 'pos', aggfunc = len)\n",
    "\n",
    "a = pd.Series({'unverziert':len(df_pivot.loc[df_pivot['unverz'] == 1]),\n",
    "               'verziert':len(df_pivot.loc[df_pivot['unverz'] != 1])})\n",
    "a = pd.DataFrame(a)\n",
    "a = a.rename(columns={0:'Anzahl'})\n",
    "a['Prozent'] = a['Anzahl']/a['Anzahl'].sum()*100\n",
    "a"
   ]
  },
  {
   "cell_type": "markdown",
   "metadata": {},
   "source": [
    "### Grabungen etc."
   ]
  },
  {
   "cell_type": "code",
   "execution_count": 73,
   "metadata": {},
   "outputs": [
    {
     "data": {
      "text/html": [
       "<div>\n",
       "<table border=\"1\" class=\"dataframe\">\n",
       "  <thead>\n",
       "    <tr style=\"text-align: right;\">\n",
       "      <th></th>\n",
       "      <th>Anzahl</th>\n",
       "      <th>Prozent</th>\n",
       "    </tr>\n",
       "  </thead>\n",
       "  <tbody>\n",
       "    <tr>\n",
       "      <th>unverziert</th>\n",
       "      <td>415</td>\n",
       "      <td>27.37467</td>\n",
       "    </tr>\n",
       "    <tr>\n",
       "      <th>verziert</th>\n",
       "      <td>1101</td>\n",
       "      <td>72.62533</td>\n",
       "    </tr>\n",
       "  </tbody>\n",
       "</table>\n",
       "</div>"
      ],
      "text/plain": [
       "            Anzahl   Prozent\n",
       "unverziert     415  27.37467\n",
       "verziert      1101  72.62533"
      ]
     },
     "execution_count": 73,
     "metadata": {},
     "output_type": "execute_result"
    }
   ],
   "source": [
    "sql = \"\"\"SELECT\n",
    "            t_Obj.objID,\n",
    "            t_Obj.Anzahl,\n",
    "            t_K_Verz.verzName,\n",
    "            [t_K_Pos].[posReihe] || ' ' || [posName] AS pos,\n",
    "            [t_Obj].[Verz_PosUnbekannt] || '/' || [t_Obj].[Verz_Innen_Rand/Hals/berteil] || '/' || [t_Obj].[Ver_Rand] || '/' || [t_Obj].[Verz_Oberteil] || '/' || [t_Obj].[Verz_Hals] || '/' || [t_Obj].[Verz_Schulter] || '/' || [t_Obj].[Verz_Bauch] || '/' || [t_Obj].[Verz_Unterteil] || '/' || [t_Obj].[Verz_Bodenansatz] || '/' || [t_Obj].[Ver_Standfl] AS ObjVerz\n",
    "        FROM t_Komplex INNER JOIN t_Obj ON t_Komplex.komplexID = t_Obj.komplexID\n",
    "            INNER JOIN t_Ort ON t_Ort.ortID = t_Komplex.ortID\n",
    "            LEFT JOIN \"t_ObjPosVerz\" ON t_Obj.objID = \"t_ObjPosVerz\".objID\n",
    "            LEFT JOIN t_K_Pos ON t_K_Pos.posID = \"t_ObjPosVerz\".posID\n",
    "            LEFT JOIN t_K_Verz ON t_K_Verz.verzID = \"t_ObjPosVerz\".verzID\n",
    "        WHERE (((t_Obj.Art) == 'K')\n",
    "            AND ((t_Komplex.bef_Art) Not Like \"%Oberfl%\")\n",
    "            AND ((t_Obj.Notiz) Not Like '%1987%'))\"\"\".replace('\\n',' ')\n",
    "\n",
    "df = pd.read_sql(sql, con)\n",
    "df['pos'].fillna('unverz', inplace=True)\n",
    "df_pivot = df.pivot_table(values = 'Anzahl', index = 'objID', columns = 'pos', aggfunc = len)\n",
    "\n",
    "a = pd.Series({'unverziert':len(df_pivot.loc[df_pivot['unverz'] == 1]),\n",
    "               'verziert':len(df_pivot.loc[df_pivot['unverz'] != 1])})\n",
    "a = pd.DataFrame(a)\n",
    "a = a.rename(columns={0:'Anzahl'})\n",
    "a['Prozent'] = a['Anzahl']/a['Anzahl'].sum()*100\n",
    "a"
   ]
  },
  {
   "cell_type": "markdown",
   "metadata": {},
   "source": [
    "### Grabungen in MLB (angeblich nix verworfen)"
   ]
  },
  {
   "cell_type": "code",
   "execution_count": 74,
   "metadata": {},
   "outputs": [
    {
     "data": {
      "text/html": [
       "<div>\n",
       "<table border=\"1\" class=\"dataframe\">\n",
       "  <thead>\n",
       "    <tr style=\"text-align: right;\">\n",
       "      <th></th>\n",
       "      <th>Anzahl</th>\n",
       "      <th>Prozent</th>\n",
       "    </tr>\n",
       "  </thead>\n",
       "  <tbody>\n",
       "    <tr>\n",
       "      <th>unverziert</th>\n",
       "      <td>36</td>\n",
       "      <td>17.73399</td>\n",
       "    </tr>\n",
       "    <tr>\n",
       "      <th>verziert</th>\n",
       "      <td>167</td>\n",
       "      <td>82.26601</td>\n",
       "    </tr>\n",
       "  </tbody>\n",
       "</table>\n",
       "</div>"
      ],
      "text/plain": [
       "            Anzahl   Prozent\n",
       "unverziert      36  17.73399\n",
       "verziert       167  82.26601"
      ]
     },
     "execution_count": 74,
     "metadata": {},
     "output_type": "execute_result"
    }
   ],
   "source": [
    "sql = \"\"\"SELECT\n",
    "            t_Obj.objID,\n",
    "            t_Obj.Anzahl,\n",
    "            t_K_Verz.verzName,\n",
    "            [t_K_Pos].[posReihe] || ' ' || [posName] AS pos,\n",
    "            [t_Obj].[Verz_PosUnbekannt] || '/' || [t_Obj].[Verz_Innen_Rand/Hals/berteil] || '/' || [t_Obj].[Ver_Rand] || '/' || [t_Obj].[Verz_Oberteil] || '/' || [t_Obj].[Verz_Hals] || '/' || [t_Obj].[Verz_Schulter] || '/' || [t_Obj].[Verz_Bauch] || '/' || [t_Obj].[Verz_Unterteil] || '/' || [t_Obj].[Verz_Bodenansatz] || '/' || [t_Obj].[Ver_Standfl] AS ObjVerz\n",
    "        FROM t_Komplex INNER JOIN t_Obj ON t_Komplex.komplexID = t_Obj.komplexID\n",
    "            INNER JOIN t_Ort ON t_Ort.ortID = t_Komplex.ortID\n",
    "            LEFT JOIN \"t_ObjPosVerz\" ON t_Obj.objID = \"t_ObjPosVerz\".objID\n",
    "            LEFT JOIN t_K_Pos ON t_K_Pos.posID = \"t_ObjPosVerz\".posID\n",
    "            LEFT JOIN t_K_Verz ON t_K_Verz.verzID = \"t_ObjPosVerz\".verzID\n",
    "        WHERE (((t_Obj.Art) == 'K')\n",
    "            AND ((t_Komplex.bef_Art) Not Like \"%Oberfl%\")\n",
    "            AND ((t_ort.ort_kurz) = 'MLB')\n",
    "            AND ((t_Obj.Notiz) Not Like '%1987%'))\"\"\".replace('\\n',' ')\n",
    "\n",
    "df = pd.read_sql(sql, con)\n",
    "df['pos'].fillna('unverz', inplace = True)\n",
    "df_pivot = df.pivot_table(values = 'Anzahl', index = 'objID', columns = 'pos', aggfunc = len)\n",
    "\n",
    "a = pd.Series({'unverziert':len(df_pivot.loc[df_pivot['unverz'] == 1]),\n",
    "               'verziert':len(df_pivot.loc[df_pivot['unverz'] != 1])})\n",
    "a = pd.DataFrame(a)\n",
    "a = a.rename(columns={0:'Anzahl'})\n",
    "a['Prozent'] = a['Anzahl']/a['Anzahl'].sum()*100\n",
    "a"
   ]
  },
  {
   "cell_type": "markdown",
   "metadata": {},
   "source": [
    "### Grabungen in PIK (definitiv Stücke verworfen)"
   ]
  },
  {
   "cell_type": "code",
   "execution_count": 75,
   "metadata": {},
   "outputs": [
    {
     "data": {
      "text/html": [
       "<div>\n",
       "<table border=\"1\" class=\"dataframe\">\n",
       "  <thead>\n",
       "    <tr style=\"text-align: right;\">\n",
       "      <th></th>\n",
       "      <th>Anzahl</th>\n",
       "      <th>Prozent</th>\n",
       "    </tr>\n",
       "  </thead>\n",
       "  <tbody>\n",
       "    <tr>\n",
       "      <th>unverziert</th>\n",
       "      <td>198</td>\n",
       "      <td>24.264706</td>\n",
       "    </tr>\n",
       "    <tr>\n",
       "      <th>verziert</th>\n",
       "      <td>618</td>\n",
       "      <td>75.735294</td>\n",
       "    </tr>\n",
       "  </tbody>\n",
       "</table>\n",
       "</div>"
      ],
      "text/plain": [
       "            Anzahl    Prozent\n",
       "unverziert     198  24.264706\n",
       "verziert       618  75.735294"
      ]
     },
     "execution_count": 75,
     "metadata": {},
     "output_type": "execute_result"
    }
   ],
   "source": [
    "sql = \"\"\"SELECT\n",
    "            t_Obj.objID,\n",
    "            t_Obj.Anzahl,\n",
    "            t_K_Verz.verzName,\n",
    "            [t_K_Pos].[posReihe] || ' ' || [posName] AS pos,\n",
    "            [t_Obj].[Verz_PosUnbekannt] || '/' || [t_Obj].[Verz_Innen_Rand/Hals/berteil] || '/' || [t_Obj].[Ver_Rand] || '/' || [t_Obj].[Verz_Oberteil] || '/' || [t_Obj].[Verz_Hals] || '/' || [t_Obj].[Verz_Schulter] || '/' || [t_Obj].[Verz_Bauch] || '/' || [t_Obj].[Verz_Unterteil] || '/' || [t_Obj].[Verz_Bodenansatz] || '/' || [t_Obj].[Ver_Standfl] AS ObjVerz\n",
    "        FROM t_Komplex INNER JOIN t_Obj ON t_Komplex.komplexID = t_Obj.komplexID\n",
    "            INNER JOIN t_Ort ON t_Ort.ortID = t_Komplex.ortID\n",
    "            LEFT JOIN \"t_ObjPosVerz\" ON t_Obj.objID = \"t_ObjPosVerz\".objID\n",
    "            LEFT JOIN t_K_Pos ON t_K_Pos.posID = \"t_ObjPosVerz\".posID\n",
    "            LEFT JOIN t_K_Verz ON t_K_Verz.verzID = \"t_ObjPosVerz\".verzID\n",
    "        WHERE (((t_Obj.Art) == 'K')\n",
    "            AND ((t_Komplex.bef_Art) Not Like \"%Oberfl%\")\n",
    "            AND ((t_ort.ort_kurz) = 'PIK')\n",
    "            AND ((t_Obj.Notiz) Not Like '%1987%'))\"\"\".replace('\\n',' ')\n",
    "\n",
    "df = pd.read_sql(sql, con)\n",
    "df['pos'].fillna('unverz', inplace = True)\n",
    "df_pivot = df.pivot_table(values = 'Anzahl', index = 'objID', columns = 'pos', aggfunc = len)\n",
    "\n",
    "a = pd.Series({'unverziert':len(df_pivot.loc[df_pivot['unverz'] == 1]),\n",
    "               'verziert':len(df_pivot.loc[df_pivot['unverz'] != 1])})\n",
    "a = pd.DataFrame(a)\n",
    "a = a.rename(columns={0:'Anzahl'})\n",
    "a['Prozent'] = a['Anzahl']/a['Anzahl'].sum()*100\n",
    "a"
   ]
  },
  {
   "cell_type": "markdown",
   "metadata": {},
   "source": [
    "### Anzahl Verzierungselemente je Obj"
   ]
  },
  {
   "cell_type": "code",
   "execution_count": 76,
   "metadata": {},
   "outputs": [
    {
     "data": {
      "text/plain": [
       "count    3904.000000\n",
       "mean        1.771260\n",
       "std         0.964225\n",
       "min         1.000000\n",
       "25%         1.000000\n",
       "50%         2.000000\n",
       "75%         2.000000\n",
       "max        12.000000\n",
       "Name: SUM, dtype: float64"
      ]
     },
     "execution_count": 76,
     "metadata": {},
     "output_type": "execute_result"
    }
   ],
   "source": [
    "sql = \"\"\"SELECT\n",
    "            t_Obj.objID,\n",
    "            t_Obj.Anzahl,\n",
    "            t_K_Verz.verzName,\n",
    "            [t_K_Pos].[posReihe] || ' ' || [posName] AS pos,\n",
    "            [t_Obj].[Verz_PosUnbekannt] || '/' || [t_Obj].[Verz_Innen_Rand/Hals/berteil] || '/' || [t_Obj].[Ver_Rand] || '/' || [t_Obj].[Verz_Oberteil] || '/' || [t_Obj].[Verz_Hals] || '/' || [t_Obj].[Verz_Schulter] || '/' || [t_Obj].[Verz_Bauch] || '/' || [t_Obj].[Verz_Unterteil] || '/' || [t_Obj].[Verz_Bodenansatz] || '/' || [t_Obj].[Ver_Standfl] AS ObjVerz\n",
    "        FROM t_Komplex INNER JOIN t_Obj ON t_Komplex.komplexID = t_Obj.komplexID\n",
    "            INNER JOIN t_Ort ON t_Ort.ortID = t_Komplex.ortID\n",
    "            LEFT JOIN \"t_ObjPosVerz\" ON t_Obj.objID = \"t_ObjPosVerz\".objID\n",
    "            LEFT JOIN t_K_Pos ON t_K_Pos.posID = \"t_ObjPosVerz\".posID\n",
    "            LEFT JOIN t_K_Verz ON t_K_Verz.verzID = \"t_ObjPosVerz\".verzID\n",
    "        WHERE (((t_Obj.Art) == 'K')\n",
    "            AND ((t_Obj.Notiz) Not Like '%1987%'))\"\"\".replace('\\n',' ')\n",
    "\n",
    "df = pd.read_sql(sql, con)\n",
    "# df['pos'].fillna('unverz', inplace=True)\n",
    "df_pivot = df.pivot_table(values = 'Anzahl', index = 'objID', columns = 'verzName', aggfunc = len)\n",
    "\n",
    "# Mehrfachnennungen ausschließen - am Ende soll jede Verzierung pro Obj nur noch einmal vorkommen\n",
    "a = df_pivot.unstack()\n",
    "a = pd.DataFrame(a)\n",
    "a = a.reset_index()\n",
    "a = a.dropna()\n",
    "a[1] = 1\n",
    "df_pivot = a.pivot_table(values = 1, index = 'objID', columns = 'verzName', aggfunc = len)\n",
    "df_pivot['SUM'] = df_pivot.sum(axis=1)\n",
    "df_pivot['SUM'].describe()"
   ]
  },
  {
   "cell_type": "code",
   "execution_count": 77,
   "metadata": {},
   "outputs": [
    {
     "data": {
      "text/plain": [
       "(1.0, 13.0)"
      ]
     },
     "execution_count": 77,
     "metadata": {},
     "output_type": "execute_result"
    },
    {
     "data": {
      "image/png": "[encoded data removed]",
      "text/plain": [
       "<matplotlib.figure.Figure at 0xba72518>"
      ]
     },
     "metadata": {},
     "output_type": "display_data"
    }
   ],
   "source": [
    "bins = df_pivot['SUM'].max() - df_pivot['SUM'].min()\n",
    "df_pivot['SUM'].hist(bins = bins, color = 'grey', histtype='stepfilled')\n",
    "plt.xlim([df_pivot['SUM'].min(),df_pivot['SUM'].max()+1])"
   ]
  },
  {
   "cell_type": "code",
   "execution_count": 78,
   "metadata": {},
   "outputs": [
    {
     "data": {
      "text/html": [
       "<div>\n",
       "<table border=\"1\" class=\"dataframe\">\n",
       "  <thead>\n",
       "    <tr style=\"text-align: right;\">\n",
       "      <th>verzName</th>\n",
       "      <th>01.1</th>\n",
       "      <th>01.10</th>\n",
       "      <th>01.11</th>\n",
       "      <th>01.2</th>\n",
       "      <th>01.3</th>\n",
       "      <th>01.4</th>\n",
       "      <th>01.5</th>\n",
       "      <th>01.6</th>\n",
       "      <th>01.7</th>\n",
       "      <th>01.8</th>\n",
       "      <th>...</th>\n",
       "      <th>21.3</th>\n",
       "      <th>21.4</th>\n",
       "      <th>21.5</th>\n",
       "      <th>21.6</th>\n",
       "      <th>21.7</th>\n",
       "      <th>21.8</th>\n",
       "      <th>21.9</th>\n",
       "      <th>22.1</th>\n",
       "      <th>22.2</th>\n",
       "      <th>SUM</th>\n",
       "    </tr>\n",
       "    <tr>\n",
       "      <th>objID</th>\n",
       "      <th></th>\n",
       "      <th></th>\n",
       "      <th></th>\n",
       "      <th></th>\n",
       "      <th></th>\n",
       "      <th></th>\n",
       "      <th></th>\n",
       "      <th></th>\n",
       "      <th></th>\n",
       "      <th></th>\n",
       "      <th></th>\n",
       "      <th></th>\n",
       "      <th></th>\n",
       "      <th></th>\n",
       "      <th></th>\n",
       "      <th></th>\n",
       "      <th></th>\n",
       "      <th></th>\n",
       "      <th></th>\n",
       "      <th></th>\n",
       "      <th></th>\n",
       "    </tr>\n",
       "  </thead>\n",
       "  <tbody>\n",
       "    <tr>\n",
       "      <th>1111</th>\n",
       "      <td>1</td>\n",
       "      <td>NaN</td>\n",
       "      <td>NaN</td>\n",
       "      <td>1</td>\n",
       "      <td>NaN</td>\n",
       "      <td>NaN</td>\n",
       "      <td>NaN</td>\n",
       "      <td>1</td>\n",
       "      <td>NaN</td>\n",
       "      <td>NaN</td>\n",
       "      <td>...</td>\n",
       "      <td>NaN</td>\n",
       "      <td>NaN</td>\n",
       "      <td>NaN</td>\n",
       "      <td>NaN</td>\n",
       "      <td>NaN</td>\n",
       "      <td>NaN</td>\n",
       "      <td>NaN</td>\n",
       "      <td>NaN</td>\n",
       "      <td>NaN</td>\n",
       "      <td>12</td>\n",
       "    </tr>\n",
       "  </tbody>\n",
       "</table>\n",
       "<p>1 rows × 74 columns</p>\n",
       "</div>"
      ],
      "text/plain": [
       "verzName  01.1  01.10  01.11  01.2  01.3  01.4  01.5  01.6  01.7  01.8 ...   \\\n",
       "objID                                                                  ...    \n",
       "1111         1    NaN    NaN     1   NaN   NaN   NaN     1   NaN   NaN ...    \n",
       "\n",
       "verzName  21.3  21.4  21.5  21.6  21.7  21.8  21.9  22.1  22.2  SUM  \n",
       "objID                                                                \n",
       "1111       NaN   NaN   NaN   NaN   NaN   NaN   NaN   NaN   NaN   12  \n",
       "\n",
       "[1 rows x 74 columns]"
      ]
     },
     "execution_count": 78,
     "metadata": {},
     "output_type": "execute_result"
    }
   ],
   "source": [
    "# Obj mit den meisten Verzierungen\n",
    "df_pivot.loc[df_pivot['SUM'] == df_pivot['SUM'].max()]"
   ]
  },
  {
   "cell_type": "code",
   "execution_count": 79,
   "metadata": {},
   "outputs": [
    {
     "data": {
      "text/plain": [
       "SUM\n",
       "1     1925\n",
       "2     1250\n",
       "3      506\n",
       "4      170\n",
       "5       38\n",
       "6        9\n",
       "7        4\n",
       "8        1\n",
       "12       1\n",
       "Name: objID, dtype: int64"
      ]
     },
     "execution_count": 79,
     "metadata": {},
     "output_type": "execute_result"
    }
   ],
   "source": [
    "df_pivot = df_pivot.reset_index()\n",
    "b = df_pivot.pivot_table(values = 'objID', index = 'SUM', aggfunc = len)\n",
    "b"
   ]
  },
  {
   "cell_type": "code",
   "execution_count": 80,
   "metadata": {},
   "outputs": [
    {
     "data": {
      "text/plain": [
       "99.82069672131148"
      ]
     },
     "execution_count": 80,
     "metadata": {},
     "output_type": "execute_result"
    }
   ],
   "source": [
    "(b.sum()-7) / b.sum() * 100"
   ]
  },
  {
   "cell_type": "markdown",
   "metadata": {},
   "source": [
    "## Anzahl Scherben je GE"
   ]
  },
  {
   "cell_type": "markdown",
   "metadata": {},
   "source": [
    "siehe Jesse 2003, 86"
   ]
  },
  {
   "cell_type": "code",
   "execution_count": 81,
   "metadata": {},
   "outputs": [
    {
     "name": "stderr",
     "output_type": "stream",
     "text": [
      "C:\\Users\\DirkSeidenticker\\Anaconda3\\lib\\site-packages\\IPython\\kernel\\__main__.py:20: FutureWarning: convert_objects is deprecated.  Use the data-type specific converters pd.to_datetime, pd.to_timedelta and pd.to_numeric.\n"
     ]
    },
    {
     "data": {
      "image/png": "[encoded data removed]",
      "text/plain": [
       "<matplotlib.figure.Figure at 0xb619dd8>"
      ]
     },
     "metadata": {},
     "output_type": "display_data"
    }
   ],
   "source": [
    "sql = \"\"\"SELECT\n",
    "           t_Obj.objID,\n",
    "           t_Obj.Anzahl,\n",
    "           t_Obj.Fragm\n",
    "       FROM (t_Ort INNER JOIN t_Komplex ON t_Ort.ortID = t_Komplex.ortID)\n",
    "           INNER JOIN t_Obj ON t_Komplex.komplexID = t_Obj.komplexID\n",
    "       WHERE (((t_Ort.ort_lit) = 'DS')\n",
    "           AND ((t_Obj.Art) = 'K')\n",
    "           AND ((t_Obj.Anzahl) = 1)\n",
    "           AND ((t_Obj.Notiz) Not Like '%1987%'))\"\"\".replace('\\n',' ')\n",
    "\n",
    "# nur Obfl.-Absammlungen\n",
    "#           AND ((t_Komplex.bef_art) = 'Oberfl')\n",
    "\n",
    "# nur solche Stücke die aus mehr als einer Scherbe bestehen\n",
    "#            AND ((t_Obj.Fragm) != '')\n",
    "\n",
    "df = pd.read_sql(sql, con)\n",
    "\n",
    "# leere Fragmentfelder mit 1 gefüllt\n",
    "df['Fragm'] = df['Fragm'].fillna(1)\n",
    "\n",
    "# Plot der Verteilung\n",
    "mean = df['Fragm'].mean()\n",
    "plt.axvline(mean, color='r', linestyle = '--')\n",
    "df['Fragm'].plot(kind = 'kde')\n",
    "plt.xlim([0,10])\n",
    "plt.legend([\"Mittelwert\"])\n",
    "plt.show()"
   ]
  },
  {
   "cell_type": "code",
   "execution_count": 82,
   "metadata": {
    "scrolled": true
   },
   "outputs": [
    {
     "data": {
      "text/plain": [
       "count    4655.000000\n",
       "mean        1.533835\n",
       "std         2.893706\n",
       "min         1.000000\n",
       "25%         1.000000\n",
       "50%         1.000000\n",
       "75%         1.000000\n",
       "max        76.000000\n",
       "Name: Fragm, dtype: float64"
      ]
     },
     "execution_count": 82,
     "metadata": {},
     "output_type": "execute_result"
    }
   ],
   "source": [
    "df['Fragm'].describe()"
   ]
  },
  {
   "cell_type": "code",
   "execution_count": 83,
   "metadata": {},
   "outputs": [
    {
     "data": {
      "text/plain": [
       "7140.0"
      ]
     },
     "execution_count": 83,
     "metadata": {},
     "output_type": "execute_result"
    }
   ],
   "source": [
    "df['Fragm'].sum()"
   ]
  },
  {
   "cell_type": "code",
   "execution_count": 125,
   "metadata": {},
   "outputs": [
    {
     "name": "stderr",
     "output_type": "stream",
     "text": [
      "C:\\Users\\DirkSeidenticker\\Anaconda3\\lib\\site-packages\\IPython\\kernel\\__main__.py:14: FutureWarning: convert_objects is deprecated.  Use the data-type specific converters pd.to_datetime, pd.to_timedelta and pd.to_numeric.\n"
     ]
    },
    {
     "data": {
      "text/plain": [
       "count    650.000000\n",
       "mean       4.823077\n",
       "std        6.888575\n",
       "min        2.000000\n",
       "25%        2.000000\n",
       "50%        3.000000\n",
       "75%        4.000000\n",
       "max       76.000000\n",
       "Name: Fragm, dtype: float64"
      ]
     },
     "execution_count": 125,
     "metadata": {},
     "output_type": "execute_result"
    }
   ],
   "source": [
    "# nur solche Stücke die aus mehr als einer Scherbe bestehen\n",
    "sql = \"\"\"SELECT\n",
    "           t_Obj.objID,\n",
    "           t_Obj.Anzahl,\n",
    "           t_Obj.Fragm\n",
    "       FROM (t_Ort INNER JOIN t_Komplex ON t_Ort.ortID = t_Komplex.ortID)\n",
    "           INNER JOIN t_Obj ON t_Komplex.komplexID = t_Obj.komplexID\n",
    "       WHERE (((t_Ort.ort_lit) = 'DS')\n",
    "           AND ((t_Obj.Art) = 'K')\n",
    "           AND ((t_Obj.Anzahl) = 1)\n",
    "           AND ((t_Obj.Notiz) Not Like '%1987%'))\"\"\".replace('\\n',' ')\n",
    "\n",
    "df = pd.read_sql(sql, con)\n",
    "df['Fragm'] = df['Fragm'].convert_objects(convert_numeric=True)\n",
    "df['Fragm'].describe()"
   ]
  },
  {
   "cell_type": "code",
   "execution_count": 126,
   "metadata": {},
   "outputs": [
    {
     "data": {
      "text/plain": [
       "3135.0"
      ]
     },
     "execution_count": 126,
     "metadata": {},
     "output_type": "execute_result"
    }
   ],
   "source": [
    "df['Fragm'].sum()"
   ]
  },
  {
   "cell_type": "markdown",
   "metadata": {},
   "source": [
    "## Mittleres Gewicht von Scherben in GE"
   ]
  },
  {
   "cell_type": "code",
   "execution_count": 86,
   "metadata": {},
   "outputs": [
    {
     "name": "stderr",
     "output_type": "stream",
     "text": [
      "C:\\Users\\DirkSeidenticker\\Anaconda3\\lib\\site-packages\\IPython\\kernel\\__main__.py:19: FutureWarning: convert_objects is deprecated.  Use the data-type specific converters pd.to_datetime, pd.to_timedelta and pd.to_numeric.\n",
      "C:\\Users\\DirkSeidenticker\\Anaconda3\\lib\\site-packages\\IPython\\kernel\\__main__.py:20: FutureWarning: convert_objects is deprecated.  Use the data-type specific converters pd.to_datetime, pd.to_timedelta and pd.to_numeric.\n",
      "C:\\Users\\DirkSeidenticker\\Anaconda3\\lib\\site-packages\\IPython\\kernel\\__main__.py:21: FutureWarning: convert_objects is deprecated.  Use the data-type specific converters pd.to_datetime, pd.to_timedelta and pd.to_numeric.\n"
     ]
    }
   ],
   "source": [
    "sql = \"\"\"SELECT\n",
    "           [t_Ort].[ort_kurz] || ' ' || [t_Komplex].[bef_nr] AS Ind,\n",
    "           t_Obj.objID,\n",
    "           t_Obj.Anzahl,\n",
    "           t_Obj.Fragm,\n",
    "           t_Obj.Gewicht\n",
    "       FROM (t_Ort INNER JOIN t_Komplex ON t_Ort.ortID = t_Komplex.ortID)\n",
    "           INNER JOIN t_Obj ON t_Komplex.komplexID = t_Obj.komplexID\n",
    "       WHERE (((t_Ort.ort_lit) = 'DS')\n",
    "           AND ((t_Obj.Art) = 'K')\n",
    "           AND ((t_Obj.Anzahl) = 1)\n",
    "           AND ((t_Obj.Notiz) Not Like '%1987%'))\"\"\".replace('\\n',' ')\n",
    "\n",
    "# nur von der Oberfläche\n",
    "#           AND ((t_Komplex.bef_art) = 'Oberfl')\n",
    "\n",
    "df = pd.read_sql(sql, con)\n",
    "\n",
    "df['Anzahl'] = df['Anzahl'].convert_objects(convert_numeric=True)\n",
    "df['Fragm'] = df['Fragm'].convert_objects(convert_numeric=True)\n",
    "df['Gewicht'] = df['Gewicht'].convert_objects(convert_numeric=True)\n",
    "\n",
    "# leere Fragmentfelder mit 1 gefüllt, damit individuelles Scherbengewicht berechnet werden kann\n",
    "df['Fragm'] = df['Fragm'].fillna(1)\n",
    "\n",
    "# df['GewGE'] = df['Gewicht'] / df['Anzahl']\n",
    "# df['GewScherbe'] = df['GewGE'] / df['Fragm']\n",
    "\n",
    "df['GewScherbe'] = df['Gewicht'] / df['Fragm']\n",
    "\n",
    "# display(df.head())"
   ]
  },
  {
   "cell_type": "code",
   "execution_count": 87,
   "metadata": {},
   "outputs": [
    {
     "data": {
      "text/plain": [
       "count    4648.000000\n",
       "mean       51.264788\n",
       "std       191.841287\n",
       "min         1.000000\n",
       "25%        10.000000\n",
       "50%        20.000000\n",
       "75%        41.600000\n",
       "max      5000.000000\n",
       "Name: GewScherbe, dtype: float64"
      ]
     },
     "execution_count": 87,
     "metadata": {},
     "output_type": "execute_result"
    }
   ],
   "source": [
    "df['GewScherbe'].describe()"
   ]
  },
  {
   "cell_type": "code",
   "execution_count": 88,
   "metadata": {},
   "outputs": [
    {
     "data": {
      "text/plain": [
       "count     168.000000\n",
       "mean      132.613040\n",
       "std       303.412810\n",
       "min         5.000000\n",
       "25%        20.882941\n",
       "50%        34.918750\n",
       "75%        60.769345\n",
       "max      1655.250000\n",
       "Name: GewScherbe, dtype: float64"
      ]
     },
     "execution_count": 88,
     "metadata": {},
     "output_type": "execute_result"
    }
   ],
   "source": [
    "# gemittelt über die Komplexe:\n",
    "df_pivot = df.pivot_table(values = 'GewScherbe', index = 'Ind', aggfunc = np.mean)\n",
    "df_pivot.describe()"
   ]
  },
  {
   "cell_type": "markdown",
   "metadata": {},
   "source": [
    "## Mittleres Gewicht von GE"
   ]
  },
  {
   "cell_type": "code",
   "execution_count": 89,
   "metadata": {},
   "outputs": [
    {
     "name": "stderr",
     "output_type": "stream",
     "text": [
      "C:\\Users\\DirkSeidenticker\\Anaconda3\\lib\\site-packages\\IPython\\kernel\\__main__.py:16: FutureWarning: convert_objects is deprecated.  Use the data-type specific converters pd.to_datetime, pd.to_timedelta and pd.to_numeric.\n"
     ]
    },
    {
     "data": {
      "text/plain": [
       "count    4648.000000\n",
       "mean       66.997719\n",
       "std       212.128627\n",
       "min         1.000000\n",
       "25%        11.000000\n",
       "50%        23.000000\n",
       "75%        50.000000\n",
       "max      5000.000000\n",
       "Name: Gewicht, dtype: float64"
      ]
     },
     "execution_count": 89,
     "metadata": {},
     "output_type": "execute_result"
    }
   ],
   "source": [
    "sql = \"\"\"SELECT\n",
    "           [t_Ort].[ort_kurz] || ' ' || [t_Komplex].[bef_nr],\n",
    "           t_Obj.objID,\n",
    "           t_Obj.Gewicht\n",
    "       FROM (t_Ort INNER JOIN t_Komplex ON t_Ort.ortID = t_Komplex.ortID)\n",
    "           INNER JOIN t_Obj ON t_Komplex.komplexID = t_Obj.komplexID\n",
    "       WHERE (((t_Ort.ort_lit) = 'DS')\n",
    "           AND ((t_Obj.Art) = 'K')\n",
    "           AND ((t_obj.Anzahl) = 1)\n",
    "           AND ((t_Obj.Notiz) Not Like '%1987%'))\"\"\".replace('\\n',' ')\n",
    "\n",
    "# nur von der Oberfläche\n",
    "#           AND ((t_Komplex.bef_art) = 'Oberfl')\n",
    "\n",
    "df = pd.read_sql(sql, con)\n",
    "df['Gewicht'] = df['Gewicht'].convert_objects(convert_numeric=True)\n",
    "# display(df.head())\n",
    "df['Gewicht'].describe()"
   ]
  },
  {
   "cell_type": "markdown",
   "metadata": {},
   "source": [
    "## Abhängigkeit Scherbengröße / Scherbengewicht"
   ]
  },
  {
   "cell_type": "code",
   "execution_count": 90,
   "metadata": {},
   "outputs": [
    {
     "data": {
      "text/html": [
       "<div>\n",
       "<table border=\"1\" class=\"dataframe\">\n",
       "  <thead>\n",
       "    <tr style=\"text-align: right;\">\n",
       "      <th></th>\n",
       "      <th>objID</th>\n",
       "      <th>Art</th>\n",
       "      <th>Gewicht</th>\n",
       "      <th>Wandung</th>\n",
       "      <th>Gr_Clist</th>\n",
       "    </tr>\n",
       "  </thead>\n",
       "  <tbody>\n",
       "    <tr>\n",
       "      <th>0</th>\n",
       "      <td>10</td>\n",
       "      <td>K</td>\n",
       "      <td>19</td>\n",
       "      <td>6</td>\n",
       "      <td>70</td>\n",
       "    </tr>\n",
       "    <tr>\n",
       "      <th>1</th>\n",
       "      <td>11</td>\n",
       "      <td>K</td>\n",
       "      <td>31</td>\n",
       "      <td>8</td>\n",
       "      <td>70</td>\n",
       "    </tr>\n",
       "    <tr>\n",
       "      <th>2</th>\n",
       "      <td>12</td>\n",
       "      <td>K</td>\n",
       "      <td>109</td>\n",
       "      <td>9</td>\n",
       "      <td>120</td>\n",
       "    </tr>\n",
       "    <tr>\n",
       "      <th>3</th>\n",
       "      <td>13</td>\n",
       "      <td>K</td>\n",
       "      <td>8</td>\n",
       "      <td>6</td>\n",
       "      <td>70</td>\n",
       "    </tr>\n",
       "    <tr>\n",
       "      <th>4</th>\n",
       "      <td>14</td>\n",
       "      <td>K</td>\n",
       "      <td>68</td>\n",
       "      <td>7</td>\n",
       "      <td>120</td>\n",
       "    </tr>\n",
       "  </tbody>\n",
       "</table>\n",
       "</div>"
      ],
      "text/plain": [
       "   objID Art  Gewicht Wandung  Gr_Clist\n",
       "0     10   K       19       6        70\n",
       "1     11   K       31       8        70\n",
       "2     12   K      109       9       120\n",
       "3     13   K        8       6        70\n",
       "4     14   K       68       7       120"
      ]
     },
     "metadata": {},
     "output_type": "display_data"
    }
   ],
   "source": [
    "sql = \"\"\"SELECT\n",
    "           t_Obj.objID, \n",
    "           t_Obj.Art, \n",
    "           t_Obj.Gewicht,\n",
    "           t_Obj.Wandung,\n",
    "           t_Obj.Gr_Clist\n",
    "       FROM (t_Ort INNER JOIN t_Komplex ON t_Ort.ortID = t_Komplex.ortID)\n",
    "           INNER JOIN t_Obj ON t_Komplex.komplexID = t_Obj.komplexID\n",
    "       WHERE (((t_Ort.ort_lit)='DS')\n",
    "           AND ((t_Obj.Art) = \"K\")\n",
    "           AND ((t_Obj.Gr_Clist) != '')\n",
    "           AND ((t_Obj.Anzahl) = 1)\n",
    "           AND ((t_Obj.Notiz) Not Like '%1987%'))\"\"\".replace('\\n',' ')\n",
    "\n",
    "df = pd.read_sql(sql, con)\n",
    "display(df.head())"
   ]
  },
  {
   "cell_type": "code",
   "execution_count": 91,
   "metadata": {
    "collapsed": true
   },
   "outputs": [],
   "source": [
    "# den ganzen Mist brauche ich gleich um den kleinen Rahmen in (A) in der folgenden Grafik zu zeichnen:\n",
    "from matplotlib.path import Path\n",
    "import matplotlib.patches as patches\n",
    "\n",
    "verts = [\n",
    "    (0., 0.), # left, bottom\n",
    "    (0., 2.), # left, top\n",
    "    (200., 2.), # right, top\n",
    "    (200., 0.), # right, bottom\n",
    "    (0., 0.), # ignored\n",
    "    ]\n",
    "\n",
    "codes = [Path.MOVETO,\n",
    "         Path.LINETO,\n",
    "         Path.LINETO,\n",
    "         Path.LINETO,\n",
    "         Path.CLOSEPOLY,\n",
    "         ]\n",
    "\n",
    "path = Path(verts, codes)"
   ]
  },
  {
   "cell_type": "code",
   "execution_count": 94,
   "metadata": {},
   "outputs": [
    {
     "data": {
      "image/png": "[encoded data removed]",
      "text/plain": [
       "<matplotlib.figure.Figure at 0xc88acc0>"
      ]
     },
     "metadata": {},
     "output_type": "display_data"
    }
   ],
   "source": [
    "x = df['Gewicht'] / df['Wandung']\n",
    "y = df['Gewicht'] / df['Gr_Clist']\n",
    "\n",
    "# eigentliche Abbildung\n",
    "\n",
    "fig = plt.figure(1)\n",
    "fig.set_size_inches(12, 5.5)\n",
    "\n",
    "ax1 = plt.subplot(121)\n",
    "\n",
    "plt.plot(x, y, 'o', alpha=0.5, color = 'grey')\n",
    "plt.xlabel(\"Gewicht / Wandungsdicke\")\n",
    "plt.ylabel(\"Gewicht / Größenklasse\")\n",
    "ax1.text(220, 1.6, 'B', fontsize=15)\n",
    "patch = patches.PathPatch(path, ls = 'dashed', lw=1, fill=None)\n",
    "ax1.add_patch(patch)\n",
    "\n",
    "ax2 = plt.subplot(122)\n",
    "\n",
    "plt.plot(x, y, 'o', alpha=0.5, color = 'grey')\n",
    "plt.xlim([0,200])\n",
    "plt.ylim([0,2])\n",
    "plt.xlabel(\"Gewicht / Wandungsdicke\")\n",
    "plt.ylabel(\"Gewicht / Größenklasse\")\n",
    "\n",
    "plt.savefig('../output/figs/2-2_Keramik_Gew-Wand-Gr.pdf', bbox_inches='tight')\n",
    "plt.show()"
   ]
  },
  {
   "cell_type": "markdown",
   "metadata": {},
   "source": [
    "## Fragmentierte Stücke "
   ]
  },
  {
   "cell_type": "markdown",
   "metadata": {},
   "source": [
    "(Anzahl = 1 AND Fragm != 1)"
   ]
  },
  {
   "cell_type": "code",
   "execution_count": 95,
   "metadata": {},
   "outputs": [
    {
     "data": {
      "text/plain": [
       "count    650.000000\n",
       "mean       4.823077\n",
       "std        6.888575\n",
       "min        2.000000\n",
       "25%        2.000000\n",
       "50%        3.000000\n",
       "75%        4.000000\n",
       "max       76.000000\n",
       "Name: Fragm, dtype: float64"
      ]
     },
     "execution_count": 95,
     "metadata": {},
     "output_type": "execute_result"
    }
   ],
   "source": [
    "sql = \"\"\"SELECT\n",
    "           t_Ort.ort_kurz,\n",
    "           t_Ort.ort_name,\n",
    "           t_Obj.objID,\n",
    "           t_Obj.Anzahl,\n",
    "           t_Obj.Fragm,\n",
    "           t_Obj.Typ,\n",
    "           t_Obj.Notiz\n",
    "       FROM (t_Ort INNER JOIN t_Komplex ON t_Ort.ortID = t_Komplex.ortID)\n",
    "           INNER JOIN t_Obj ON t_Komplex.komplexID = t_Obj.komplexID\n",
    "       WHERE (((t_Ort.ort_lit) = 'DS')\n",
    "           AND ((t_Obj.Fragm) != '')\n",
    "           AND ((t_Obj.Art) = 'K')\n",
    "           AND ((t_Obj.Notiz) Not Like '%1987%'))\"\"\".replace('\\n',' ')\n",
    "\n",
    "df = pd.read_sql(sql, con)\n",
    "df['Fragm'].describe()"
   ]
  },
  {
   "cell_type": "code",
   "execution_count": 96,
   "metadata": {},
   "outputs": [
    {
     "data": {
      "image/png": "[encoded data removed]",
      "text/plain": [
       "<matplotlib.figure.Figure at 0xa3fe9e8>"
      ]
     },
     "metadata": {},
     "output_type": "display_data"
    }
   ],
   "source": [
    "bins = df['Fragm'].max() - df['Fragm'].min()\n",
    "\n",
    "mean = df['Fragm'].mean()\n",
    "\n",
    "df['Fragm'].hist(bins = bins, color = 'grey', histtype='stepfilled')\n",
    "plt.axvline(mean, color = 'black', ls = 'dashed', lw = 2.5)\n",
    "plt.xlabel(\"Dicke [mm]\")\n",
    "plt.ylabel(\"Anzahl\")\n",
    "legend = plt.legend([\"Mittelwert\"])\n",
    "legend.get_frame().set_facecolor('white')\n",
    "plt.tight_layout()\n",
    "plt.show()"
   ]
  },
  {
   "cell_type": "markdown",
   "metadata": {},
   "source": [
    "## Wandungsdicke der Keramik"
   ]
  },
  {
   "cell_type": "code",
   "execution_count": 2,
   "metadata": {},
   "outputs": [
    {
     "data": {
      "text/html": [
       "<div>\n",
       "<table border=\"1\" class=\"dataframe\">\n",
       "  <thead>\n",
       "    <tr style=\"text-align: right;\">\n",
       "      <th></th>\n",
       "      <th>ort_kurz</th>\n",
       "      <th>Komplex</th>\n",
       "      <th>Individuum</th>\n",
       "      <th>Typ</th>\n",
       "      <th>Wandung</th>\n",
       "      <th>Art</th>\n",
       "    </tr>\n",
       "  </thead>\n",
       "  <tbody>\n",
       "    <tr>\n",
       "      <th>0</th>\n",
       "      <td>BAT</td>\n",
       "      <td>85/101</td>\n",
       "      <td>3</td>\n",
       "      <td>DAM (?)</td>\n",
       "      <td>6</td>\n",
       "      <td>K</td>\n",
       "    </tr>\n",
       "    <tr>\n",
       "      <th>1</th>\n",
       "      <td>BAT</td>\n",
       "      <td>85/101</td>\n",
       "      <td>4</td>\n",
       "      <td>None</td>\n",
       "      <td>8</td>\n",
       "      <td>K</td>\n",
       "    </tr>\n",
       "    <tr>\n",
       "      <th>2</th>\n",
       "      <td>BAT</td>\n",
       "      <td>85/101</td>\n",
       "      <td>13</td>\n",
       "      <td>None</td>\n",
       "      <td>9</td>\n",
       "      <td>K</td>\n",
       "    </tr>\n",
       "    <tr>\n",
       "      <th>3</th>\n",
       "      <td>BAT</td>\n",
       "      <td>85/101</td>\n",
       "      <td>25</td>\n",
       "      <td>None</td>\n",
       "      <td>6</td>\n",
       "      <td>K</td>\n",
       "    </tr>\n",
       "    <tr>\n",
       "      <th>4</th>\n",
       "      <td>BAT</td>\n",
       "      <td>85/101</td>\n",
       "      <td>26</td>\n",
       "      <td>None</td>\n",
       "      <td>7</td>\n",
       "      <td>K</td>\n",
       "    </tr>\n",
       "  </tbody>\n",
       "</table>\n",
       "</div>"
      ],
      "text/plain": [
       "  ort_kurz Komplex Individuum      Typ Wandung Art\n",
       "0      BAT  85/101          3  DAM (?)       6   K\n",
       "1      BAT  85/101          4     None       8   K\n",
       "2      BAT  85/101         13     None       9   K\n",
       "3      BAT  85/101         25     None       6   K\n",
       "4      BAT  85/101         26     None       7   K"
      ]
     },
     "metadata": {},
     "output_type": "display_data"
    }
   ],
   "source": [
    "sql = \"\"\"SELECT\n",
    "           t_Obj.ort_kurz, \n",
    "           t_Obj.Komplex, \n",
    "           t_Obj.Individuum, \n",
    "           t_Obj.Typ, \n",
    "           t_Obj.Wandung, \n",
    "           t_Obj.Art \n",
    "       FROM t_Obj \n",
    "       WHERE (((t_Obj.Wandung) <> 0)\n",
    "           AND ((t_Obj.Art) = \"K\")\n",
    "           AND ((t_Obj.Notiz) Not Like '%1987%'))\"\"\".replace('\\n',' ')\n",
    "\n",
    "df = pd.read_sql(sql, con)\n",
    "display(df.head())"
   ]
  },
  {
   "cell_type": "code",
   "execution_count": 11,
   "metadata": {},
   "outputs": [
    {
     "data": {
      "text/plain": [
       "22.0"
      ]
     },
     "execution_count": 11,
     "metadata": {},
     "output_type": "execute_result"
    }
   ],
   "source": [
    "bins = df['Wandung'].max() - df['Wandung'].min()\n",
    "bins"
   ]
  },
  {
   "cell_type": "code",
   "execution_count": 99,
   "metadata": {
    "scrolled": true
   },
   "outputs": [
    {
     "data": {
      "image/png": "[encoded data removed]",
      "text/plain": [
       "<matplotlib.figure.Figure at 0xbfe3710>"
      ]
     },
     "metadata": {},
     "output_type": "display_data"
    }
   ],
   "source": [
    "# Spannweite ermitteln und als bins nutzen\n",
    "bins = df['Wandung'].max() - df['Wandung'].min()\n",
    "\n",
    "mean = df['Wandung'].mean()\n",
    "\n",
    "ax = df['Wandung'].hist(bins = bins, color = 'grey', histtype='stepfilled')\n",
    "plt.axvline(mean, color = 'black', ls = 'dashed', lw = 2.5)\n",
    "plt.xlabel(\"Dicke [mm]\")\n",
    "plt.ylabel(\"Anzahl\")\n",
    "legend = plt.legend([\"Mittelwert\"])\n",
    "legend.get_frame().set_facecolor('white')\n",
    "\n",
    "ax.xaxis.grid(False)\n",
    "ax.yaxis.grid(False)\n",
    "\n",
    "plt.tight_layout()\n",
    "plt.savefig('../output/figs/2-2-1_Keramik_Wandungsdicke1.pdf', bbox_inches='tight')\n",
    "plt.show()"
   ]
  },
  {
   "cell_type": "markdown",
   "metadata": {},
   "source": [
    "> **Keramik** Wandungsdicke"
   ]
  },
  {
   "cell_type": "markdown",
   "metadata": {},
   "source": [
    "Shapiro-Wilk Test auf Normalverteilung: http://docs.scipy.org/doc/scipy/reference/generated/scipy.stats.shapiro.html"
   ]
  },
  {
   "cell_type": "code",
   "execution_count": 100,
   "metadata": {},
   "outputs": [
    {
     "name": "stderr",
     "output_type": "stream",
     "text": [
      "C:\\Users\\DirkSeidenticker\\Anaconda3\\lib\\site-packages\\scipy\\stats\\morestats.py:997: UserWarning: p-value may not be accurate for N > 5000.\n",
      "  warnings.warn(\"p-value may not be accurate for N > 5000.\")\n"
     ]
    },
    {
     "data": {
      "text/plain": [
       "(nan, 1.0)"
      ]
     },
     "execution_count": 100,
     "metadata": {},
     "output_type": "execute_result"
    }
   ],
   "source": [
    "from scipy import stats\n",
    "stats.shapiro(df['Wandung']) "
   ]
  },
  {
   "cell_type": "code",
   "execution_count": 101,
   "metadata": {},
   "outputs": [
    {
     "data": {
      "text/plain": [
       "7.427000988142293"
      ]
     },
     "execution_count": 101,
     "metadata": {},
     "output_type": "execute_result"
    }
   ],
   "source": [
    "mean"
   ]
  },
  {
   "cell_type": "code",
   "execution_count": 102,
   "metadata": {},
   "outputs": [
    {
     "data": {
      "image/png": "[encoded data removed]",
      "text/plain": [
       "<matplotlib.figure.Figure at 0xce19400>"
      ]
     },
     "metadata": {},
     "output_type": "display_data"
    }
   ],
   "source": [
    "fig = plt.figure(1)\n",
    "fig.set_size_inches(12, 4)\n",
    "\n",
    "ax = plt.subplot(121)\n",
    "df['Wandung'].hist(bins = bins, normed=True, cumulative=True, color = 'lightgrey')\n",
    "plt.title(\"Wandungsdicke\")\n",
    "plt.xlabel(\"cumulative distribution function\")\n",
    "plt.ylabel(\"Anzahl\")\n",
    "ax.xaxis.grid(False)\n",
    "ax.yaxis.grid(False)\n",
    "\n",
    "ax = plt.subplot(122)\n",
    "df['Wandung'].diff().hist(bins = bins, color = 'grey')\n",
    "plt.title(\"Wandungsdicke\")\n",
    "plt.xlabel(\"1st discrete difference\")\n",
    "ax.xaxis.grid(False)\n",
    "ax.yaxis.grid(False)\n",
    "\n",
    "plt.savefig('../output/figs/2-2-1_Keramik_Wandungsdicke2.pdf', bbox_inches='tight')\n",
    "plt.show()"
   ]
  },
  {
   "cell_type": "code",
   "execution_count": 103,
   "metadata": {
    "collapsed": true
   },
   "outputs": [],
   "source": [
    "# df_pivot = df.pivot_table(values = 'Wandung', index = 'Typ', columns = 'Art', aggfunc = np.mean)"
   ]
  },
  {
   "cell_type": "markdown",
   "metadata": {},
   "source": [
    "Abfrage, bei der der Typ keine Fragezeichen enthält:"
   ]
  },
  {
   "cell_type": "code",
   "execution_count": 104,
   "metadata": {},
   "outputs": [
    {
     "data": {
      "text/html": [
       "<div>\n",
       "<table border=\"1\" class=\"dataframe\">\n",
       "  <thead>\n",
       "    <tr style=\"text-align: right;\">\n",
       "      <th></th>\n",
       "      <th>ort_kurz</th>\n",
       "      <th>Komplex</th>\n",
       "      <th>Individuum</th>\n",
       "      <th>Typ</th>\n",
       "      <th>Wandung</th>\n",
       "      <th>Art</th>\n",
       "      <th>Form_Gef</th>\n",
       "    </tr>\n",
       "  </thead>\n",
       "  <tbody>\n",
       "    <tr>\n",
       "      <th>0</th>\n",
       "      <td>BAT</td>\n",
       "      <td>85/101</td>\n",
       "      <td>4</td>\n",
       "      <td></td>\n",
       "      <td>8</td>\n",
       "      <td>K</td>\n",
       "      <td></td>\n",
       "    </tr>\n",
       "    <tr>\n",
       "      <th>1</th>\n",
       "      <td>BAT</td>\n",
       "      <td>85/101</td>\n",
       "      <td>13</td>\n",
       "      <td>Roulette</td>\n",
       "      <td>9</td>\n",
       "      <td>K</td>\n",
       "      <td>G8a (?)</td>\n",
       "    </tr>\n",
       "    <tr>\n",
       "      <th>2</th>\n",
       "      <td>BAT</td>\n",
       "      <td>85/101</td>\n",
       "      <td>25</td>\n",
       "      <td>Roulette</td>\n",
       "      <td>6</td>\n",
       "      <td>K</td>\n",
       "      <td></td>\n",
       "    </tr>\n",
       "    <tr>\n",
       "      <th>3</th>\n",
       "      <td>BAT</td>\n",
       "      <td>85/101</td>\n",
       "      <td>26</td>\n",
       "      <td></td>\n",
       "      <td>7</td>\n",
       "      <td>K</td>\n",
       "      <td></td>\n",
       "    </tr>\n",
       "    <tr>\n",
       "      <th>4</th>\n",
       "      <td>BAT</td>\n",
       "      <td>85/101</td>\n",
       "      <td>39</td>\n",
       "      <td>Roulette</td>\n",
       "      <td>7</td>\n",
       "      <td>K</td>\n",
       "      <td></td>\n",
       "    </tr>\n",
       "  </tbody>\n",
       "</table>\n",
       "</div>"
      ],
      "text/plain": [
       "  ort_kurz Komplex Individuum       Typ Wandung Art Form_Gef\n",
       "0      BAT  85/101          4                 8   K         \n",
       "1      BAT  85/101         13  Roulette       9   K  G8a (?)\n",
       "2      BAT  85/101         25  Roulette       6   K         \n",
       "3      BAT  85/101         26                 7   K         \n",
       "4      BAT  85/101         39  Roulette       7   K         "
      ]
     },
     "metadata": {},
     "output_type": "display_data"
    }
   ],
   "source": [
    "sql = \"\"\"SELECT\n",
    "           t_Obj.ort_kurz, \n",
    "           t_Obj.Komplex, \n",
    "           t_Obj.Individuum, \n",
    "           t_Obj.Typ, \n",
    "           t_Obj.Wandung, \n",
    "           t_Obj.Art, \n",
    "           t_Obj.Form_Gef\n",
    "       FROM t_Obj \n",
    "       WHERE (((t_Obj.Wandung) <> 0)\n",
    "           AND ((t_Obj.Art) = \"K\")\n",
    "           AND ((t_Obj.Typ) Not Like '%?%')\n",
    "           AND ((t_Obj.Typ) Not Like '%/%')\n",
    "           AND ((t_Obj.Notiz) Not Like '%1987%'))\"\"\".replace('\\n',' ')\n",
    "\n",
    "df = pd.read_sql(sql, con)\n",
    "display(df.head())"
   ]
  },
  {
   "cell_type": "code",
   "execution_count": 105,
   "metadata": {},
   "outputs": [
    {
     "name": "stderr",
     "output_type": "stream",
     "text": [
      "C:\\Users\\DirkSeidenticker\\Anaconda3\\lib\\site-packages\\IPython\\kernel\\__main__.py:1: FutureWarning: convert_objects is deprecated.  Use the data-type specific converters pd.to_datetime, pd.to_timedelta and pd.to_numeric.\n",
      "  if __name__ == '__main__':\n"
     ]
    },
    {
     "data": {
      "text/plain": [
       "Typ\n",
       "       7.807412\n",
       "BAN    5.000000\n",
       "BBL    6.323529\n",
       "BBS    8.666667\n",
       "BKW    5.500000\n",
       "Name: Wandung, dtype: float64"
      ]
     },
     "metadata": {},
     "output_type": "display_data"
    }
   ],
   "source": [
    "df['Wandung'] = df['Wandung'].convert_objects(convert_numeric=True)\n",
    "df_pivot = df.pivot_table(values = 'Wandung', index = 'Typ', aggfunc = np.mean)\n",
    "display(df_pivot.head())"
   ]
  },
  {
   "cell_type": "code",
   "execution_count": 106,
   "metadata": {
    "collapsed": true
   },
   "outputs": [],
   "source": [
    "# Zeilen mit leerer Wandung entfernen\n",
    "df = df[np.isfinite(df['Wandung'])]\n",
    "# Leere Stellen in Typ mit NaN ersetzen (np.nan)\n",
    "df['Typ'] = df['Typ'].replace('', np.nan)\n",
    "# Zeilen ohne Typ entfernen\n",
    "df = df[pd.notnull(df['Typ'])]"
   ]
  },
  {
   "cell_type": "code",
   "execution_count": 107,
   "metadata": {
    "scrolled": false
   },
   "outputs": [
    {
     "data": {
      "image/png": "[encoded data removed]",
      "text/plain": [
       "<matplotlib.figure.Figure at 0xbf10cf8>"
      ]
     },
     "metadata": {},
     "output_type": "display_data"
    }
   ],
   "source": [
    "ax = df.boxplot(by = 'Typ', vert=False, figsize = (4, 8))\n",
    "#plt.axvline(mean, color='black', ls = 'dashed', lw = 3, label='mean')\n",
    "plt.xlabel(\"Dicke [mm]\")\n",
    "#legend = plt.legend([\"Mittelwert\"])\n",
    "#legend.get_frame().set_facecolor('white')\n",
    "plt.title(\"\")\n",
    "plt.suptitle(\"\")\n",
    "\n",
    "\n",
    "ax.xaxis.grid(False)\n",
    "ax.yaxis.grid(False)\n",
    "\n",
    "plt.savefig('../output/figs/2-2_Keramik_Wandungsdicke_Box.pdf', bbox_inches='tight')"
   ]
  },
  {
   "cell_type": "markdown",
   "metadata": {},
   "source": [
    "* [ ] ToDo: anstatt Median, dem Interquartilsabstand (Box) und dem 1,5-Fache des Interquartilsabstands (Antennen/Whiskers) den Mittelwert und die Standartabweichung plotten?"
   ]
  },
  {
   "cell_type": "code",
   "execution_count": 108,
   "metadata": {},
   "outputs": [
    {
     "data": {
      "image/png": "[encoded data removed]",
      "text/plain": [
       "<matplotlib.figure.Figure at 0xbf00630>"
      ]
     },
     "metadata": {},
     "output_type": "display_data"
    }
   ],
   "source": [
    "ax = df.boxplot(by = 'Typ', vert=False, figsize = (4, 8), notch = True, sym = '', whis = 100)\n",
    "plt.xlabel(\"Dicke [mm]\")\n",
    "plt.title(\"\")\n",
    "plt.suptitle(\"\")\n",
    "\n",
    "\n",
    "ax.xaxis.grid(False)\n",
    "ax.yaxis.grid(False)\n",
    "\n",
    "plt.savefig('../output/figs/2-2_Keramik_Wandungsdicke_Box_2.pdf', bbox_inches='tight')"
   ]
  },
  {
   "cell_type": "markdown",
   "metadata": {},
   "source": [
    "* jetzt zeigen die Whiskers das Min und Max der Verteilungen an (whis = 100)"
   ]
  },
  {
   "cell_type": "markdown",
   "metadata": {},
   "source": [
    "Betrachtung bezogen auf Gefäßformen:"
   ]
  },
  {
   "cell_type": "code",
   "execution_count": 109,
   "metadata": {},
   "outputs": [
    {
     "name": "stderr",
     "output_type": "stream",
     "text": [
      "C:\\Users\\DirkSeidenticker\\Anaconda3\\lib\\site-packages\\IPython\\kernel\\__main__.py:15: FutureWarning: convert_objects is deprecated.  Use the data-type specific converters pd.to_datetime, pd.to_timedelta and pd.to_numeric.\n"
     ]
    }
   ],
   "source": [
    "sql = \"\"\"SELECT\n",
    "           t_Obj.ort_kurz, \n",
    "           t_Obj.Komplex, \n",
    "           t_Obj.Individuum, \n",
    "           t_Obj.Typ, \n",
    "           t_Obj.Wandung, \n",
    "           t_Obj.Art, \n",
    "           t_Obj.Form_Gef\n",
    "       FROM t_Obj \n",
    "       WHERE (((t_Obj.Wandung) <> 0)\n",
    "           AND ((t_Obj.Art) = \"K\")\n",
    "           AND ((t_Obj.Notiz) Not Like '%1987%'))\"\"\".replace('\\n',' ')\n",
    "\n",
    "df = pd.read_sql(sql, con)\n",
    "df['Wandung'] = df['Wandung'].convert_objects(convert_numeric=True)\n",
    "\n",
    "# Gefäßformen-Einträge vereinfachen\n",
    "df['Form_Gef_1'] = df['Form_Gef'].map(lambda x: str(x)[:-3])\n",
    "df['Form_Gef_1'] = df['Form_Gef_1'].str.extract('(\\\\d)')"
   ]
  },
  {
   "cell_type": "code",
   "execution_count": 110,
   "metadata": {},
   "outputs": [
    {
     "data": {
      "image/png": "[encoded data removed]",
      "text/plain": [
       "<matplotlib.figure.Figure at 0xc10a5f8>"
      ]
     },
     "metadata": {},
     "output_type": "display_data"
    }
   ],
   "source": [
    "ax = df.boxplot(by = 'Form_Gef_1', vert=False, figsize = (4, 8))\n",
    "# plt.axvline(mean, color='red', ls = 'dashed', lw = 1, label='mean')\n",
    "plt.xlabel(\"Dicke [mm]\")\n",
    "# legend = plt.legend([\"Mittelwert\"])\n",
    "# legend.get_frame().set_facecolor('white')\n",
    "plt.title(\"\")\n",
    "plt.suptitle(\"\")\n",
    "ax.xaxis.grid(False)\n",
    "ax.yaxis.grid(False)\n",
    "plt.savefig('../output/figs/2-2_Keramik_Wandungsdicke_Box_GefForm.pdf', bbox_inches='tight')"
   ]
  },
  {
   "cell_type": "markdown",
   "metadata": {
    "collapsed": true
   },
   "source": [
    "## Oberflächenbehandlung der Scherben"
   ]
  },
  {
   "cell_type": "code",
   "execution_count": 112,
   "metadata": {},
   "outputs": [
    {
     "data": {
      "text/plain": [
       "Anhaftungen\n",
       "                                5205\n",
       "Außen & innen Glasur?              1\n",
       "Außen & innen Reste S kruste       1\n",
       "Außen Eisen(?)                     1\n",
       "Außen Rest eine Glasur             1\n",
       "Name: objID, dtype: int64"
      ]
     },
     "metadata": {},
     "output_type": "display_data"
    }
   ],
   "source": [
    "sql = \"\"\"SELECT\n",
    "           t_Obj.objID,\n",
    "           t_Obj.Anzahl,\n",
    "           t_Obj.Anhaftungen,\n",
    "           t_Obj.Typ\n",
    "       FROM t_Obj\n",
    "       WHERE (((t_Obj.Art) = 'K')\n",
    "           AND ((t_Obj.Notiz) Not Like '%1987%'))\"\"\".replace('\\n',' ')\n",
    "\n",
    "df = pd.read_sql(sql, con)\n",
    "\n",
    "df_pivot = df.pivot_table(values = 'objID', index = 'Anhaftungen', aggfunc = len)\n",
    "display(df_pivot.head())"
   ]
  },
  {
   "cell_type": "code",
   "execution_count": 113,
   "metadata": {},
   "outputs": [
    {
     "data": {
      "text/html": [
       "<div>\n",
       "<table border=\"1\" class=\"dataframe\">\n",
       "  <thead>\n",
       "    <tr style=\"text-align: right;\">\n",
       "      <th></th>\n",
       "      <th>0</th>\n",
       "      <th>Prozent</th>\n",
       "    </tr>\n",
       "  </thead>\n",
       "  <tbody>\n",
       "    <tr>\n",
       "      <th>Oberfläche behandelt</th>\n",
       "      <td>216</td>\n",
       "      <td>3.977168</td>\n",
       "    </tr>\n",
       "    <tr>\n",
       "      <th>unbehandelt</th>\n",
       "      <td>5215</td>\n",
       "      <td>96.022832</td>\n",
       "    </tr>\n",
       "  </tbody>\n",
       "</table>\n",
       "</div>"
      ],
      "text/plain": [
       "                         0    Prozent\n",
       "Oberfläche behandelt   216   3.977168\n",
       "unbehandelt           5215  96.022832"
      ]
     },
     "execution_count": 113,
     "metadata": {},
     "output_type": "execute_result"
    }
   ],
   "source": [
    "df['Anhaftungen'] = df['Anhaftungen'].replace('', np.nan, regex=True)\n",
    "\n",
    "a = pd.Series({'Oberfläche behandelt':df['Anhaftungen'].count(),\n",
    "               'unbehandelt':df['Anhaftungen'].isnull().sum()})\n",
    "a = pd.DataFrame(a)\n",
    "a['Prozent'] = a[0]/a[0].sum()*100\n",
    "a"
   ]
  },
  {
   "cell_type": "markdown",
   "metadata": {
    "collapsed": true
   },
   "source": [
    "## Verzierungselemente\n",
    "* häufigste Verzelemente\n",
    "* Verzierungstechniken\n",
    "* ..."
   ]
  },
  {
   "cell_type": "code",
   "execution_count": 2,
   "metadata": {},
   "outputs": [
    {
     "data": {
      "text/html": [
       "<div>\n",
       "<table border=\"1\" class=\"dataframe\">\n",
       "  <thead>\n",
       "    <tr style=\"text-align: right;\">\n",
       "      <th></th>\n",
       "      <th>objID</th>\n",
       "      <th>posID</th>\n",
       "      <th>verzID</th>\n",
       "      <th>pos</th>\n",
       "      <th>verzName</th>\n",
       "      <th>verzBeschr</th>\n",
       "      <th>Typ</th>\n",
       "      <th>Form_Gef</th>\n",
       "    </tr>\n",
       "  </thead>\n",
       "  <tbody>\n",
       "    <tr>\n",
       "      <th>0</th>\n",
       "      <td>10</td>\n",
       "      <td>2</td>\n",
       "      <td>1</td>\n",
       "      <td>1 Innen</td>\n",
       "      <td>02.1</td>\n",
       "      <td>horizontale Rille</td>\n",
       "      <td>DAM (?)</td>\n",
       "      <td>E2 (?)</td>\n",
       "    </tr>\n",
       "    <tr>\n",
       "      <th>1</th>\n",
       "      <td>10</td>\n",
       "      <td>2</td>\n",
       "      <td>23</td>\n",
       "      <td>1 Innen</td>\n",
       "      <td>21.1</td>\n",
       "      <td>vegetabilisches Roulette/Knotted String</td>\n",
       "      <td>DAM (?)</td>\n",
       "      <td>E2 (?)</td>\n",
       "    </tr>\n",
       "  </tbody>\n",
       "</table>\n",
       "</div>"
      ],
      "text/plain": [
       "   objID  posID  verzID      pos verzName  \\\n",
       "0     10      2       1  1 Innen     02.1   \n",
       "1     10      2      23  1 Innen     21.1   \n",
       "\n",
       "                                verzBeschr      Typ Form_Gef  \n",
       "0                        horizontale Rille  DAM (?)   E2 (?)  \n",
       "1  vegetabilisches Roulette/Knotted String  DAM (?)   E2 (?)  "
      ]
     },
     "execution_count": 2,
     "metadata": {},
     "output_type": "execute_result"
    }
   ],
   "source": [
    "sql = \"\"\"SELECT\n",
    "           t_Obj.objID,\n",
    "           t_K_Pos.posID,\n",
    "           t_K_Verz.verzID,\n",
    "           [t_K_Pos].[posReihe] || ' ' || [posName] AS pos,\n",
    "           t_K_Verz.verzName,\n",
    "           t_K_Verz.verzBeschr,\n",
    "           t_Obj.Typ,\n",
    "           t_Obj.Form_Gef\n",
    "       FROM t_Obj INNER JOIN \"t_ObjPosVerz\" ON t_Obj.objID = \"t_ObjPosVerz\".objID\n",
    "           INNER JOIN t_K_Pos ON \"t_ObjPosVerz\".posID = t_K_Pos.posID\n",
    "           INNER JOIN t_K_Verz ON \"t_ObjPosVerz\".verzID = t_K_Verz.verzID\n",
    "       WHERE (((t_K_Pos.posID)<>1)\n",
    "           AND ((t_K_Verz.verzName) != ''))\"\"\".replace('\\n',' ')\n",
    "df = pd.read_sql(sql, con)\n",
    "df.head(2)"
   ]
  },
  {
   "cell_type": "markdown",
   "metadata": {},
   "source": [
    "Anzahl GE mit aufgenommener Verzierung:"
   ]
  },
  {
   "cell_type": "code",
   "execution_count": 3,
   "metadata": {},
   "outputs": [
    {
     "data": {
      "text/plain": [
       "3149"
      ]
     },
     "execution_count": 3,
     "metadata": {},
     "output_type": "execute_result"
    }
   ],
   "source": [
    "len(df['objID'].unique())"
   ]
  },
  {
   "cell_type": "markdown",
   "metadata": {},
   "source": [
    "Anzahl der aufgenommenen Verzierungselemente:"
   ]
  },
  {
   "cell_type": "code",
   "execution_count": 4,
   "metadata": {},
   "outputs": [
    {
     "data": {
      "text/plain": [
       "7004"
      ]
     },
     "execution_count": 4,
     "metadata": {},
     "output_type": "execute_result"
    }
   ],
   "source": [
    "len(df)"
   ]
  },
  {
   "cell_type": "markdown",
   "metadata": {},
   "source": [
    "Häufigkeiten:"
   ]
  },
  {
   "cell_type": "code",
   "execution_count": 5,
   "metadata": {},
   "outputs": [
    {
     "data": {
      "text/html": [
       "<div>\n",
       "<table border=\"1\" class=\"dataframe\">\n",
       "  <thead>\n",
       "    <tr style=\"text-align: right;\">\n",
       "      <th></th>\n",
       "      <th></th>\n",
       "      <th>objID</th>\n",
       "      <th>pct</th>\n",
       "    </tr>\n",
       "    <tr>\n",
       "      <th>verzName</th>\n",
       "      <th>verzBeschr</th>\n",
       "      <th></th>\n",
       "      <th></th>\n",
       "    </tr>\n",
       "  </thead>\n",
       "  <tbody>\n",
       "    <tr>\n",
       "      <th>02.1</th>\n",
       "      <th>horizontale Rille</th>\n",
       "      <td>2584</td>\n",
       "      <td>36.893204</td>\n",
       "    </tr>\n",
       "    <tr>\n",
       "      <th>08</th>\n",
       "      <th>banfwa-nfwa</th>\n",
       "      <td>555</td>\n",
       "      <td>7.924043</td>\n",
       "    </tr>\n",
       "    <tr>\n",
       "      <th>04.12</th>\n",
       "      <th>Einstichreihe/diagonal</th>\n",
       "      <td>346</td>\n",
       "      <td>4.940034</td>\n",
       "    </tr>\n",
       "    <tr>\n",
       "      <th>21.1</th>\n",
       "      <th>vegetabilisches Roulette/Knotted String</th>\n",
       "      <td>251</td>\n",
       "      <td>3.583666</td>\n",
       "    </tr>\n",
       "    <tr>\n",
       "      <th>01.2</th>\n",
       "      <th>diagonales Schachbrettmuster</th>\n",
       "      <td>241</td>\n",
       "      <td>3.440891</td>\n",
       "    </tr>\n",
       "    <tr>\n",
       "      <th>02.3</th>\n",
       "      <th>diagonale Rillen</th>\n",
       "      <td>188</td>\n",
       "      <td>2.684180</td>\n",
       "    </tr>\n",
       "    <tr>\n",
       "      <th>02.2</th>\n",
       "      <th>vertikale Rille</th>\n",
       "      <td>184</td>\n",
       "      <td>2.627070</td>\n",
       "    </tr>\n",
       "    <tr>\n",
       "      <th>04.15</th>\n",
       "      <th>Einstichreihe/flach/quer</th>\n",
       "      <td>172</td>\n",
       "      <td>2.455740</td>\n",
       "    </tr>\n",
       "    <tr>\n",
       "      <th>01.6</th>\n",
       "      <th>Winkelmuster</th>\n",
       "      <td>164</td>\n",
       "      <td>2.341519</td>\n",
       "    </tr>\n",
       "    <tr>\n",
       "      <th>05.1</th>\n",
       "      <th>Kammeindruck/diagonal</th>\n",
       "      <td>137</td>\n",
       "      <td>1.956025</td>\n",
       "    </tr>\n",
       "  </tbody>\n",
       "</table>\n",
       "</div>"
      ],
      "text/plain": [
       "                                                  objID        pct\n",
       "verzName verzBeschr                                               \n",
       "02.1     horizontale Rille                         2584  36.893204\n",
       "08       banfwa-nfwa                                555   7.924043\n",
       "04.12    Einstichreihe/diagonal                     346   4.940034\n",
       "21.1     vegetabilisches Roulette/Knotted String    251   3.583666\n",
       "01.2     diagonales Schachbrettmuster               241   3.440891\n",
       "02.3     diagonale Rillen                           188   2.684180\n",
       "02.2     vertikale Rille                            184   2.627070\n",
       "04.15    Einstichreihe/flach/quer                   172   2.455740\n",
       "01.6     Winkelmuster                               164   2.341519\n",
       "05.1     Kammeindruck/diagonal                      137   1.956025"
      ]
     },
     "execution_count": 5,
     "metadata": {},
     "output_type": "execute_result"
    }
   ],
   "source": [
    "df_pivot = df.pivot_table(values = 'objID', index = ['verzName', 'verzBeschr'], aggfunc = len)\n",
    "df_pivot = pd.DataFrame(df_pivot)\n",
    "df_pivot['pct'] = df_pivot['objID'] / df_pivot['objID'].sum() * 100\n",
    "df_pivot = df_pivot.sort_values(by = 'objID', ascending = False)\n",
    "df_pivot.head(10)"
   ]
  },
  {
   "cell_type": "code",
   "execution_count": 6,
   "metadata": {},
   "outputs": [
    {
     "data": {
      "text/html": [
       "<div>\n",
       "<table border=\"1\" class=\"dataframe\">\n",
       "  <thead>\n",
       "    <tr style=\"text-align: right;\">\n",
       "      <th></th>\n",
       "      <th></th>\n",
       "      <th>objID</th>\n",
       "      <th>pct</th>\n",
       "    </tr>\n",
       "    <tr>\n",
       "      <th>verzName</th>\n",
       "      <th>verzBeschr</th>\n",
       "      <th></th>\n",
       "      <th></th>\n",
       "    </tr>\n",
       "  </thead>\n",
       "  <tbody>\n",
       "    <tr>\n",
       "      <th>05.3</th>\n",
       "      <th>diagonale Reihe von kl. Runden Eindücken</th>\n",
       "      <td>2</td>\n",
       "      <td>0.028555</td>\n",
       "    </tr>\n",
       "    <tr>\n",
       "      <th>17.2</th>\n",
       "      <th>Henkel</th>\n",
       "      <td>2</td>\n",
       "      <td>0.028555</td>\n",
       "    </tr>\n",
       "    <tr>\n",
       "      <th>15.3</th>\n",
       "      <th>Eindrücke; Kreise, konzentrisch, flächig</th>\n",
       "      <td>1</td>\n",
       "      <td>0.014278</td>\n",
       "    </tr>\n",
       "    <tr>\n",
       "      <th>02.6</th>\n",
       "      <th>dreieckige Rillen</th>\n",
       "      <td>1</td>\n",
       "      <td>0.014278</td>\n",
       "    </tr>\n",
       "    <tr>\n",
       "      <th>04.4</th>\n",
       "      <th>Gruppe dreieckiger Eindrücke</th>\n",
       "      <td>1</td>\n",
       "      <td>0.014278</td>\n",
       "    </tr>\n",
       "  </tbody>\n",
       "</table>\n",
       "</div>"
      ],
      "text/plain": [
       "                                                   objID       pct\n",
       "verzName verzBeschr                                               \n",
       "05.3     diagonale Reihe von kl. Runden Eindücken      2  0.028555\n",
       "17.2     Henkel                                        2  0.028555\n",
       "15.3     Eindrücke; Kreise, konzentrisch, flächig      1  0.014278\n",
       "02.6     dreieckige Rillen                             1  0.014278\n",
       "04.4     Gruppe dreieckiger Eindrücke                  1  0.014278"
      ]
     },
     "execution_count": 6,
     "metadata": {},
     "output_type": "execute_result"
    }
   ],
   "source": [
    "df_pivot.tail(5)"
   ]
  },
  {
   "cell_type": "code",
   "execution_count": null,
   "metadata": {
    "collapsed": true
   },
   "outputs": [],
   "source": []
  }
 ],
 "metadata": {
  "anaconda-cloud": {},
  "kernelspec": {
   "display_name": "Python 3",
   "language": "python",
   "name": "python3"
  },
  "language_info": {
   "codemirror_mode": {
    "name": "ipython",
    "version": 3
   },
   "file_extension": ".py",
   "mimetype": "text/x-python",
   "name": "python",
   "nbconvert_exporter": "python",
   "pygments_lexer": "ipython3",
   "version": "3.6.1"
  }
 },
 "nbformat": 4,
 "nbformat_minor": 1
}
