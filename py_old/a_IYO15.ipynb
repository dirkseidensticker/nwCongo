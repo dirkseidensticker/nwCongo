{
 "cells": [
  {
   "cell_type": "markdown",
   "metadata": {},
   "source": [
    "# IYONDA 2015"
   ]
  },
  {
   "cell_type": "code",
   "execution_count": 27,
   "metadata": {
    "collapsed": true
   },
   "outputs": [],
   "source": [
    "%matplotlib inline\n",
    "from IPython.display import display\n",
    "import pandas as pd\n",
    "import numpy as np\n",
    "import matplotlib.pyplot as plt\n",
    "from mpl_toolkits.axes_grid1 import make_axes_locatable\n",
    "import sqlite3\n",
    "\n",
    "import sys, os\n",
    "sys.path.append(\"/Python\")\n",
    "from myfunctions import *\n",
    "\n",
    "style = 'NGB'\n",
    "\n",
    "con = sqlite3.connect(\"../data/CongoDB.sqlite\")"
   ]
  },
  {
   "cell_type": "markdown",
   "metadata": {},
   "source": [
    "## Kartierungen der Scherben-Typen/fabrics von 'Import'-Stücken aus dem Befund IYO 15/2/4\n",
    "### B.A. Arbeit Rachelle Angelique Meyer"
   ]
  },
  {
   "cell_type": "markdown",
   "metadata": {},
   "source": [
    "#### *Scherben*-Typ/*fabric* 4b"
   ]
  },
  {
   "cell_type": "code",
   "execution_count": 28,
   "metadata": {
    "collapsed": false
   },
   "outputs": [
    {
     "data": {
      "text/html": [
       "<div>\n",
       "<table border=\"1\" class=\"dataframe\">\n",
       "  <thead>\n",
       "    <tr style=\"text-align: right;\">\n",
       "      <th></th>\n",
       "      <th>Ort</th>\n",
       "      <th>Kat-Nr</th>\n",
       "      <th>X</th>\n",
       "      <th>Y</th>\n",
       "      <th>objID</th>\n",
       "    </tr>\n",
       "  </thead>\n",
       "  <tbody>\n",
       "    <tr>\n",
       "      <th>0</th>\n",
       "      <td>Bobulu (Fpl. 198)</td>\n",
       "      <td>198</td>\n",
       "      <td>18.042886</td>\n",
       "      <td>1.441145</td>\n",
       "      <td>2</td>\n",
       "    </tr>\n",
       "    <tr>\n",
       "      <th>1</th>\n",
       "      <td>Bomasa (Fpl. 274)</td>\n",
       "      <td>274</td>\n",
       "      <td>16.185432</td>\n",
       "      <td>2.203077</td>\n",
       "      <td>1</td>\n",
       "    </tr>\n",
       "    <tr>\n",
       "      <th>2</th>\n",
       "      <td>Bonda (Fpl. 272)</td>\n",
       "      <td>272</td>\n",
       "      <td>16.084390</td>\n",
       "      <td>2.189246</td>\n",
       "      <td>3</td>\n",
       "    </tr>\n",
       "    <tr>\n",
       "      <th>3</th>\n",
       "      <td>Dongo (Fpl. 202)</td>\n",
       "      <td>202</td>\n",
       "      <td>18.404747</td>\n",
       "      <td>2.721870</td>\n",
       "      <td>11</td>\n",
       "    </tr>\n",
       "    <tr>\n",
       "      <th>4</th>\n",
       "      <td>Fulu-Kaba (Fpl. 233)</td>\n",
       "      <td>233</td>\n",
       "      <td>18.832081</td>\n",
       "      <td>3.086272</td>\n",
       "      <td>1</td>\n",
       "    </tr>\n",
       "  </tbody>\n",
       "</table>\n",
       "</div>"
      ],
      "text/plain": [
       "                    Ort Kat-Nr          X         Y  objID\n",
       "0     Bobulu (Fpl. 198)    198  18.042886  1.441145      2\n",
       "1     Bomasa (Fpl. 274)    274  16.185432  2.203077      1\n",
       "2      Bonda (Fpl. 272)    272  16.084390  2.189246      3\n",
       "3      Dongo (Fpl. 202)    202  18.404747  2.721870     11\n",
       "4  Fulu-Kaba (Fpl. 233)    233  18.832081  3.086272      1"
      ]
     },
     "metadata": {},
     "output_type": "display_data"
    }
   ],
   "source": [
    "sql = \"\"\"SELECT\n",
    "           t_Obj.objID,\n",
    "           't_Ort'.'Kat-Nr',\n",
    "           't_Ort'.'ort_name' || ' (Fpl. ' || 't_ort'.'Kat-Nr' || ')' AS Ort,\n",
    "           t_Obj.Typ,\n",
    "           t_Ort.y_lat AS Y, \n",
    "           t_Ort.x_long AS X\n",
    "       FROM (t_Ort INNER JOIN t_Komplex ON t_Ort.ortID = t_Komplex.ortID)\n",
    "           INNER JOIN t_Obj ON t_Komplex.komplexID = t_Obj.komplexID\n",
    "       WHERE (((t_Obj.Fabric) = '4b') \n",
    "           AND ((t_Obj.Fabric) Not Like '%/%'))\"\"\".replace('\\n',' ')\n",
    "df = pd.read_sql(sql, con)\n",
    "df_pivot = df.pivot_table(values = 'objID', index = ['Ort', 'Kat-Nr', 'X', 'Y'], aggfunc = len)\n",
    "df_pivot = df_pivot.reset_index()\n",
    "display(df_pivot.head())"
   ]
  },
  {
   "cell_type": "code",
   "execution_count": 29,
   "metadata": {
    "collapsed": true
   },
   "outputs": [],
   "source": [
    "df_pivot.to_csv(\"../data/processed/a_IYO15_fabric4b.csv\", index = False)"
   ]
  },
  {
   "cell_type": "code",
   "execution_count": 30,
   "metadata": {
    "collapsed": false
   },
   "outputs": [
    {
     "data": {
      "text/html": [
       "<div>\n",
       "<table border=\"1\" class=\"dataframe\">\n",
       "  <thead>\n",
       "    <tr style=\"text-align: right;\">\n",
       "      <th></th>\n",
       "      <th>Ort</th>\n",
       "      <th>Kat-Nr</th>\n",
       "      <th>X</th>\n",
       "      <th>Y</th>\n",
       "      <th>objID</th>\n",
       "    </tr>\n",
       "  </thead>\n",
       "  <tbody>\n",
       "    <tr>\n",
       "      <th>8</th>\n",
       "      <td>Iyonda (Fpl. 8)</td>\n",
       "      <td>8</td>\n",
       "      <td>18.184492</td>\n",
       "      <td>-0.037076</td>\n",
       "      <td>2</td>\n",
       "    </tr>\n",
       "  </tbody>\n",
       "</table>\n",
       "</div>"
      ],
      "text/plain": [
       "               Ort Kat-Nr          X         Y  objID\n",
       "8  Iyonda (Fpl. 8)      8  18.184492 -0.037076      2"
      ]
     },
     "execution_count": 30,
     "metadata": {},
     "output_type": "execute_result"
    }
   ],
   "source": [
    "df_pivot[(df_pivot['Kat-Nr'] == '8')]"
   ]
  },
  {
   "cell_type": "markdown",
   "metadata": {},
   "source": [
    "#### *Scherben*-Typ/*fabric* 5b"
   ]
  },
  {
   "cell_type": "code",
   "execution_count": 31,
   "metadata": {
    "collapsed": false
   },
   "outputs": [
    {
     "data": {
      "text/html": [
       "<div>\n",
       "<table border=\"1\" class=\"dataframe\">\n",
       "  <thead>\n",
       "    <tr style=\"text-align: right;\">\n",
       "      <th></th>\n",
       "      <th>Ort</th>\n",
       "      <th>Kat-Nr</th>\n",
       "      <th>X</th>\n",
       "      <th>Y</th>\n",
       "      <th>objID</th>\n",
       "    </tr>\n",
       "  </thead>\n",
       "  <tbody>\n",
       "    <tr>\n",
       "      <th>0</th>\n",
       "      <td>Balongoi (Fpl. 214)</td>\n",
       "      <td>214</td>\n",
       "      <td>18.644374</td>\n",
       "      <td>4.129969</td>\n",
       "      <td>3</td>\n",
       "    </tr>\n",
       "    <tr>\n",
       "      <th>1</th>\n",
       "      <td>Batanga (Fpl. 209)</td>\n",
       "      <td>209</td>\n",
       "      <td>18.594438</td>\n",
       "      <td>3.710706</td>\n",
       "      <td>1</td>\n",
       "    </tr>\n",
       "    <tr>\n",
       "      <th>2</th>\n",
       "      <td>Bonda (Fpl. 272)</td>\n",
       "      <td>272</td>\n",
       "      <td>16.084390</td>\n",
       "      <td>2.189246</td>\n",
       "      <td>1</td>\n",
       "    </tr>\n",
       "    <tr>\n",
       "      <th>3</th>\n",
       "      <td>Dokeve 2 (Fpl. 224)</td>\n",
       "      <td>224</td>\n",
       "      <td>19.523072</td>\n",
       "      <td>5.131210</td>\n",
       "      <td>1</td>\n",
       "    </tr>\n",
       "    <tr>\n",
       "      <th>4</th>\n",
       "      <td>Imese (Fpl. 201)</td>\n",
       "      <td>201</td>\n",
       "      <td>18.105096</td>\n",
       "      <td>2.116407</td>\n",
       "      <td>2</td>\n",
       "    </tr>\n",
       "  </tbody>\n",
       "</table>\n",
       "</div>"
      ],
      "text/plain": [
       "                   Ort Kat-Nr          X         Y  objID\n",
       "0  Balongoi (Fpl. 214)    214  18.644374  4.129969      3\n",
       "1   Batanga (Fpl. 209)    209  18.594438  3.710706      1\n",
       "2     Bonda (Fpl. 272)    272  16.084390  2.189246      1\n",
       "3  Dokeve 2 (Fpl. 224)    224  19.523072  5.131210      1\n",
       "4     Imese (Fpl. 201)    201  18.105096  2.116407      2"
      ]
     },
     "metadata": {},
     "output_type": "display_data"
    }
   ],
   "source": [
    "sql = \"\"\"SELECT\n",
    "           t_Obj.objID,\n",
    "           't_Ort'.'Kat-Nr',\n",
    "           't_Ort'.'ort_name' || ' (Fpl. ' || 't_ort'.'Kat-Nr' || ')' AS Ort,\n",
    "           t_Obj.Typ,\n",
    "           t_Ort.y_lat AS Y, \n",
    "           t_Ort.x_long AS X\n",
    "       FROM (t_Ort INNER JOIN t_Komplex ON t_Ort.ortID = t_Komplex.ortID)\n",
    "           INNER JOIN t_Obj ON t_Komplex.komplexID = t_Obj.komplexID\n",
    "       WHERE (((t_Obj.Fabric) = '5b') \n",
    "           AND ((t_Obj.Fabric) Not Like '%/%'))\"\"\".replace('\\n',' ')\n",
    "df = pd.read_sql(sql, con)\n",
    "df_pivot = df.pivot_table(values = 'objID', index = ['Ort', 'Kat-Nr', 'X', 'Y'], aggfunc = len)\n",
    "df_pivot = df_pivot.reset_index()\n",
    "display(df_pivot.head())"
   ]
  },
  {
   "cell_type": "code",
   "execution_count": 32,
   "metadata": {
    "collapsed": true
   },
   "outputs": [],
   "source": [
    "df_pivot.to_csv(\"../data/processed/a_IYO15_fabric5b.csv\", index = False)"
   ]
  },
  {
   "cell_type": "code",
   "execution_count": 33,
   "metadata": {
    "collapsed": false
   },
   "outputs": [
    {
     "data": {
      "text/html": [
       "<div>\n",
       "<table border=\"1\" class=\"dataframe\">\n",
       "  <thead>\n",
       "    <tr style=\"text-align: right;\">\n",
       "      <th></th>\n",
       "      <th>Ort</th>\n",
       "      <th>Kat-Nr</th>\n",
       "      <th>X</th>\n",
       "      <th>Y</th>\n",
       "      <th>objID</th>\n",
       "    </tr>\n",
       "  </thead>\n",
       "  <tbody>\n",
       "    <tr>\n",
       "      <th>5</th>\n",
       "      <td>Iyonda (Fpl. 8)</td>\n",
       "      <td>8</td>\n",
       "      <td>18.184492</td>\n",
       "      <td>-0.037076</td>\n",
       "      <td>1</td>\n",
       "    </tr>\n",
       "  </tbody>\n",
       "</table>\n",
       "</div>"
      ],
      "text/plain": [
       "               Ort Kat-Nr          X         Y  objID\n",
       "5  Iyonda (Fpl. 8)      8  18.184492 -0.037076      1"
      ]
     },
     "execution_count": 33,
     "metadata": {},
     "output_type": "execute_result"
    }
   ],
   "source": [
    "df_pivot[(df_pivot['Kat-Nr'] == '8')]"
   ]
  },
  {
   "cell_type": "code",
   "execution_count": null,
   "metadata": {
    "collapsed": true
   },
   "outputs": [],
   "source": []
  }
 ],
 "metadata": {
  "kernelspec": {
   "display_name": "Python 3",
   "language": "python",
   "name": "python3"
  },
  "language_info": {
   "codemirror_mode": {
    "name": "ipython",
    "version": 3
   },
   "file_extension": ".py",
   "mimetype": "text/x-python",
   "name": "python",
   "nbconvert_exporter": "python",
   "pygments_lexer": "ipython3",
   "version": "3.4.4"
  }
 },
 "nbformat": 4,
 "nbformat_minor": 0
}
