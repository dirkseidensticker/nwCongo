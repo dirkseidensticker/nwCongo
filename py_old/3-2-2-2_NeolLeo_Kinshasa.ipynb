{
 "cells": [
  {
   "cell_type": "markdown",
   "metadata": {},
   "source": [
    "# *Néolithique 'léopoldien' / 'kinshasaien'*"
   ]
  },
  {
   "cell_type": "code",
   "execution_count": 1,
   "metadata": {
    "collapsed": true
   },
   "outputs": [],
   "source": [
    "%matplotlib inline\n",
    "from IPython.display import display\n",
    "import pandas as pd\n",
    "import numpy as np\n",
    "import matplotlib.pyplot as plt\n",
    "import sqlite3\n",
    "\n",
    "con = sqlite3.connect(\"../data/CongoDB.sqlite\")"
   ]
  },
  {
   "cell_type": "markdown",
   "metadata": {},
   "source": [
    "## Datierungen"
   ]
  },
  {
   "cell_type": "markdown",
   "metadata": {},
   "source": [
    "### Gombe-Point (Kinshasa)"
   ]
  },
  {
   "cell_type": "code",
   "execution_count": 2,
   "metadata": {},
   "outputs": [
    {
     "data": {
      "text/plain": [
       "27"
      ]
     },
     "execution_count": 2,
     "metadata": {},
     "output_type": "execute_result"
    }
   ],
   "source": [
    "sql = \"\"\"SELECT\n",
    "           t_14C.LABNR,\n",
    "           t_14C.C14AGE,\n",
    "           t_14C.C14STD,\n",
    "           t_14C.C13,\n",
    "           t_14C.MATERIAL,\n",
    "           t_14C.SPECIES,\n",
    "           [t_Ort].[ort_name] AS SITE, \n",
    "           [t_Komplex].[bef_art] AS CULTURE, \n",
    "           [t_Komplex].[bef_nr] AS PHASE,\n",
    "           [t_ort].[ort_land] AS COUNTRY,\n",
    "           [t_ort].[y_lat] AS LATITUDE,\n",
    "           [t_ort].[x_long] AS LONGITUDE\n",
    "       FROM (t_Ort INNER JOIN t_Komplex ON t_Ort.ortID = t_Komplex.ortID)\n",
    "           INNER JOIN t_14c ON t_Komplex.komplexID = t_14c.komplexID\n",
    "        WHERE ((t_Ort.ort_name) Like '%Gombe-%')\"\"\".replace('\\n',' ')\n",
    "\n",
    "df = pd.read_sql(sql, con)\n",
    "# display(df.head())\n",
    "len(df.index)"
   ]
  },
  {
   "cell_type": "code",
   "execution_count": 3,
   "metadata": {},
   "outputs": [
    {
     "data": {
      "text/html": [
       "<div>\n",
       "<table border=\"1\" class=\"dataframe\">\n",
       "  <thead>\n",
       "    <tr style=\"text-align: right;\">\n",
       "      <th></th>\n",
       "      <th>len</th>\n",
       "      <th>amin</th>\n",
       "      <th>mean</th>\n",
       "      <th>amax</th>\n",
       "    </tr>\n",
       "    <tr>\n",
       "      <th>SITE</th>\n",
       "      <th></th>\n",
       "      <th></th>\n",
       "      <th></th>\n",
       "      <th></th>\n",
       "    </tr>\n",
       "  </thead>\n",
       "  <tbody>\n",
       "    <tr>\n",
       "      <th>Gombe-Point</th>\n",
       "      <td>27</td>\n",
       "      <td>220</td>\n",
       "      <td>12564.444444</td>\n",
       "      <td>46500</td>\n",
       "    </tr>\n",
       "  </tbody>\n",
       "</table>\n",
       "</div>"
      ],
      "text/plain": [
       "             len  amin          mean   amax\n",
       "SITE                                       \n",
       "Gombe-Point   27   220  12564.444444  46500"
      ]
     },
     "execution_count": 3,
     "metadata": {},
     "output_type": "execute_result"
    }
   ],
   "source": [
    "df.pivot_table(values = 'C14AGE', index = ['SITE'], aggfunc = [len, np.min, np.mean, np.max])"
   ]
  },
  {
   "cell_type": "code",
   "execution_count": 4,
   "metadata": {},
   "outputs": [
    {
     "data": {
      "image/png": "[encoded data removed]",
      "text/plain": [
       "<matplotlib.figure.Figure at 0x3511a99128>"
      ]
     },
     "metadata": {},
     "output_type": "display_data"
    }
   ],
   "source": [
    "plt.figure()\n",
    "df['C14AGE'].hist(bins = 30, normed=True, alpha=0.2).invert_xaxis()\n",
    "df['C14AGE'].plot(kind = 'kde')\n",
    "plt.xlim([50000,0])\n",
    "plt.axvline(x = 1950, color='r', label = 'Zeitenwende')\n",
    "legend = plt.legend(loc=2)\n",
    "legend.get_frame().set_facecolor('white')"
   ]
  },
  {
   "cell_type": "markdown",
   "metadata": {},
   "source": [
    "Eisenzeitliche Datierungen:"
   ]
  },
  {
   "cell_type": "code",
   "execution_count": 5,
   "metadata": {},
   "outputs": [
    {
     "data": {
      "text/html": [
       "<div>\n",
       "<table border=\"1\" class=\"dataframe\">\n",
       "  <thead>\n",
       "    <tr style=\"text-align: right;\">\n",
       "      <th></th>\n",
       "      <th>LABNR</th>\n",
       "      <th>C14AGE</th>\n",
       "      <th>C14STD</th>\n",
       "      <th>C13</th>\n",
       "      <th>MATERIAL</th>\n",
       "      <th>SPECIES</th>\n",
       "      <th>SITE</th>\n",
       "      <th>CULTURE</th>\n",
       "      <th>PHASE</th>\n",
       "      <th>COUNTRY</th>\n",
       "      <th>LATITUDE</th>\n",
       "      <th>LONGITUDE</th>\n",
       "    </tr>\n",
       "  </thead>\n",
       "  <tbody>\n",
       "    <tr>\n",
       "      <th>0</th>\n",
       "      <td>GrN-7668</td>\n",
       "      <td>2225</td>\n",
       "      <td>50</td>\n",
       "      <td>0</td>\n",
       "      <td>None</td>\n",
       "      <td>None</td>\n",
       "      <td>Gombe-Point</td>\n",
       "      <td>None</td>\n",
       "      <td>E3</td>\n",
       "      <td>COD</td>\n",
       "      <td>-4.300597</td>\n",
       "      <td>15.280791</td>\n",
       "    </tr>\n",
       "    <tr>\n",
       "      <th>15</th>\n",
       "      <td>GrN-7218</td>\n",
       "      <td>220</td>\n",
       "      <td>30</td>\n",
       "      <td>0</td>\n",
       "      <td>None</td>\n",
       "      <td>None</td>\n",
       "      <td>Gombe-Point</td>\n",
       "      <td>None</td>\n",
       "      <td>None</td>\n",
       "      <td>COD</td>\n",
       "      <td>-4.300597</td>\n",
       "      <td>15.280791</td>\n",
       "    </tr>\n",
       "    <tr>\n",
       "      <th>23</th>\n",
       "      <td>OxTL-209d</td>\n",
       "      <td>1645</td>\n",
       "      <td>110</td>\n",
       "      <td>0</td>\n",
       "      <td>None</td>\n",
       "      <td>None</td>\n",
       "      <td>Gombe-Point</td>\n",
       "      <td>None</td>\n",
       "      <td>None</td>\n",
       "      <td>COD</td>\n",
       "      <td>-4.300597</td>\n",
       "      <td>15.280791</td>\n",
       "    </tr>\n",
       "    <tr>\n",
       "      <th>24</th>\n",
       "      <td>OxTL-209a</td>\n",
       "      <td>1610</td>\n",
       "      <td>110</td>\n",
       "      <td>0</td>\n",
       "      <td>None</td>\n",
       "      <td>None</td>\n",
       "      <td>Gombe-Point</td>\n",
       "      <td>None</td>\n",
       "      <td>None</td>\n",
       "      <td>COD</td>\n",
       "      <td>-4.300597</td>\n",
       "      <td>15.280791</td>\n",
       "    </tr>\n",
       "    <tr>\n",
       "      <th>25</th>\n",
       "      <td>OxTL-209c</td>\n",
       "      <td>1600</td>\n",
       "      <td>100</td>\n",
       "      <td>0</td>\n",
       "      <td>None</td>\n",
       "      <td>None</td>\n",
       "      <td>Gombe-Point</td>\n",
       "      <td>None</td>\n",
       "      <td>None</td>\n",
       "      <td>COD</td>\n",
       "      <td>-4.300597</td>\n",
       "      <td>15.280791</td>\n",
       "    </tr>\n",
       "    <tr>\n",
       "      <th>26</th>\n",
       "      <td>GrN-7669</td>\n",
       "      <td>915</td>\n",
       "      <td>20</td>\n",
       "      <td>0</td>\n",
       "      <td>None</td>\n",
       "      <td>None</td>\n",
       "      <td>Gombe-Point</td>\n",
       "      <td>None</td>\n",
       "      <td>None</td>\n",
       "      <td>COD</td>\n",
       "      <td>-4.300597</td>\n",
       "      <td>15.280791</td>\n",
       "    </tr>\n",
       "  </tbody>\n",
       "</table>\n",
       "</div>"
      ],
      "text/plain": [
       "        LABNR  C14AGE  C14STD  C13 MATERIAL SPECIES         SITE CULTURE  \\\n",
       "0    GrN-7668    2225      50    0     None    None  Gombe-Point    None   \n",
       "15   GrN-7218     220      30    0     None    None  Gombe-Point    None   \n",
       "23  OxTL-209d    1645     110    0     None    None  Gombe-Point    None   \n",
       "24  OxTL-209a    1610     110    0     None    None  Gombe-Point    None   \n",
       "25  OxTL-209c    1600     100    0     None    None  Gombe-Point    None   \n",
       "26   GrN-7669     915      20    0     None    None  Gombe-Point    None   \n",
       "\n",
       "   PHASE COUNTRY  LATITUDE  LONGITUDE  \n",
       "0     E3     COD -4.300597  15.280791  \n",
       "15  None     COD -4.300597  15.280791  \n",
       "23  None     COD -4.300597  15.280791  \n",
       "24  None     COD -4.300597  15.280791  \n",
       "25  None     COD -4.300597  15.280791  \n",
       "26  None     COD -4.300597  15.280791  "
      ]
     },
     "execution_count": 5,
     "metadata": {},
     "output_type": "execute_result"
    }
   ],
   "source": [
    "df.loc[df['C14AGE'] < 3000]"
   ]
  },
  {
   "cell_type": "code",
   "execution_count": 6,
   "metadata": {},
   "outputs": [
    {
     "data": {
      "image/png": "[encoded data removed]",
      "text/plain": [
       "<matplotlib.figure.Figure at 0x3511a80ef0>"
      ]
     },
     "metadata": {},
     "output_type": "display_data"
    }
   ],
   "source": [
    "df['C14AGE'].loc[df['C14AGE'] < 3000].hist(alpha=0.2).invert_xaxis()"
   ]
  },
  {
   "cell_type": "code",
   "execution_count": null,
   "metadata": {
    "collapsed": true
   },
   "outputs": [],
   "source": []
  }
 ],
 "metadata": {
  "anaconda-cloud": {},
  "kernelspec": {
   "display_name": "Python 3",
   "language": "python",
   "name": "python3"
  },
  "language_info": {
   "codemirror_mode": {
    "name": "ipython",
    "version": 3
   },
   "file_extension": ".py",
   "mimetype": "text/x-python",
   "name": "python",
   "nbconvert_exporter": "python",
   "pygments_lexer": "ipython3",
   "version": "3.6.1"
  }
 },
 "nbformat": 4,
 "nbformat_minor": 1
}
