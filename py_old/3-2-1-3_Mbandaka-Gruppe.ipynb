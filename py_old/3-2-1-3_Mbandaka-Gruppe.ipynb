{
 "cells": [
  {
   "cell_type": "markdown",
   "metadata": {},
   "source": [
    "# Mbandaka-Gruppe"
   ]
  },
  {
   "cell_type": "markdown",
   "metadata": {},
   "source": [
    "* [Funde](#Funde)\n",
    "    * [Befunde](#Befunde)\n",
    "\t* [Scherbentypen](#Scherbentypen)\n",
    "* [Technologische Merkmale (fabrics)](#Technologische-Merkmale-(fabrics))\n",
    "\t* [Brennfarbe](#Brennfarbe)\n",
    "\t* [Oberfläche der Scherben](#Oberfläche-der-Scherben)\n",
    "\t* [Wandungsdicke](#Wandungsdicke)\n",
    "* Formen\n",
    "\t* [Gefäßformen](#Gefäßformen)\n",
    "\t* [Proportionen](#Proportionen)\n",
    "\t* [Bauchform](#Bauchform)\n",
    "\t* [Mündungs- und Randformen](#Mündungs--und-Randformen)\n",
    "\t* [Bodenformen](#Bodenformen)\n",
    "* [Verzierungen](#Verzierungselemente)\n",
    "    * [Matrix mit allen Pos & Verz](#Matrix-mit-allen-Pos-&-Verz)\n",
    "* [Verbreitung](#Verbreitung)"
   ]
  },
  {
   "cell_type": "code",
   "execution_count": 1,
   "metadata": {
    "collapsed": true
   },
   "outputs": [],
   "source": [
    "%matplotlib inline\n",
    "from IPython.display import display\n",
    "import pandas as pd\n",
    "import numpy as np\n",
    "import matplotlib.pyplot as plt\n",
    "from mpl_toolkits.axes_grid1 import make_axes_locatable\n",
    "import sqlite3\n",
    "\n",
    "import sys, os\n",
    "sys.path.append(\"/Python\")\n",
    "from myfunctions import *\n",
    "from parula import *\n",
    "\n",
    "style = 'MBA'\n",
    "\n",
    "con = sqlite3.connect(\"../data/CongoDB.sqlite\")"
   ]
  },
  {
   "cell_type": "markdown",
   "metadata": {},
   "source": [
    "## Formen"
   ]
  },
  {
   "cell_type": "code",
   "execution_count": 69,
   "metadata": {},
   "outputs": [
    {
     "name": "stderr",
     "output_type": "stream",
     "text": [
      "C:\\Users\\Dirk\\Anaconda3\\lib\\site-packages\\ipykernel\\__main__.py:20: FutureWarning: convert_objects is deprecated.  Use the data-type specific converters pd.to_datetime, pd.to_timedelta and pd.to_numeric.\n"
     ]
    }
   ],
   "source": [
    "sql = \"\"\"SELECT\n",
    "           t_Ort.ort_kurz,\n",
    "           't_Ort'.'ort_name' || ' (Fpl. ' || 't_ort'.'Kat-Nr' || ')' AS Ort,\n",
    "           t_Ort.ort_fluss,\n",
    "           t_Komplex.bef_nr,\n",
    "           t_Komplex.bef_art,\n",
    "           t_Obj.objID,\n",
    "           t_Obj.Scherbe,\n",
    "           t_Obj.Anzahl,\n",
    "           t_Obj.Form_Gef,\n",
    "           t_Obj.Typ\n",
    "       FROM (t_Ort INNER JOIN t_Komplex ON t_Ort.ortID = t_Komplex.ortID)\n",
    "           INNER JOIN t_Obj ON t_Komplex.komplexID = t_Obj.komplexID\n",
    "       WHERE (((t_Ort.ort_lit)='DS')\n",
    "           AND ((t_Obj.Art) = 'K')\n",
    "           AND ((t_Obj.Typ) Like '%\"\"\"+style+\"\"\"%'))\"\"\".replace('\\n',' ')\n",
    "\n",
    "df = pd.read_sql(sql, con)\n",
    "\n",
    "df['Anzahl'] = df['Anzahl'].convert_objects(convert_numeric=True)"
   ]
  },
  {
   "cell_type": "code",
   "execution_count": 70,
   "metadata": {},
   "outputs": [
    {
     "data": {
      "text/html": [
       "<div>\n",
       "<table border=\"1\" class=\"dataframe\">\n",
       "  <thead>\n",
       "    <tr style=\"text-align: right;\">\n",
       "      <th></th>\n",
       "      <th>0</th>\n",
       "      <th>Prozent</th>\n",
       "    </tr>\n",
       "  </thead>\n",
       "  <tbody>\n",
       "    <tr>\n",
       "      <th>Ausgezählt</th>\n",
       "      <td>10</td>\n",
       "      <td>26.315789</td>\n",
       "    </tr>\n",
       "    <tr>\n",
       "      <th>GE</th>\n",
       "      <td>28</td>\n",
       "      <td>73.684211</td>\n",
       "    </tr>\n",
       "  </tbody>\n",
       "</table>\n",
       "</div>"
      ],
      "text/plain": [
       "             0    Prozent\n",
       "Ausgezählt  10  26.315789\n",
       "GE          28  73.684211"
      ]
     },
     "execution_count": 70,
     "metadata": {},
     "output_type": "execute_result"
    }
   ],
   "source": [
    "a = pd.Series({'GE':np.sum(df['Anzahl'].loc[df['Anzahl'] == 1]),\n",
    "               'Ausgezählt':np.sum(df['Anzahl'].loc[df['Anzahl'] != 1])})\n",
    "a = pd.DataFrame(a)\n",
    "a['Prozent'] = a[0]/a[0].sum()*100\n",
    "a"
   ]
  },
  {
   "cell_type": "code",
   "execution_count": 71,
   "metadata": {},
   "outputs": [
    {
     "data": {
      "text/html": [
       "<div>\n",
       "<table border=\"1\" class=\"dataframe\">\n",
       "  <thead>\n",
       "    <tr style=\"text-align: right;\">\n",
       "      <th></th>\n",
       "      <th></th>\n",
       "      <th></th>\n",
       "      <th>Anzahl</th>\n",
       "      <th>Prozent</th>\n",
       "    </tr>\n",
       "    <tr>\n",
       "      <th>ort_fluss</th>\n",
       "      <th>Ort</th>\n",
       "      <th>bef_nr</th>\n",
       "      <th></th>\n",
       "      <th></th>\n",
       "    </tr>\n",
       "  </thead>\n",
       "  <tbody>\n",
       "    <tr>\n",
       "      <th rowspan=\"3\" valign=\"top\">Likwala-Esobe</th>\n",
       "      <th>Bojenjo (Fpl. 292)</th>\n",
       "      <th>87/101</th>\n",
       "      <td>1</td>\n",
       "      <td>2.631579</td>\n",
       "    </tr>\n",
       "    <tr>\n",
       "      <th>Boyenge (Fpl. 284)</th>\n",
       "      <th>87/101</th>\n",
       "      <td>1</td>\n",
       "      <td>2.631579</td>\n",
       "    </tr>\n",
       "    <tr>\n",
       "      <th>Ebambe (Fpl. 297)</th>\n",
       "      <th>87/101</th>\n",
       "      <td>1</td>\n",
       "      <td>2.631579</td>\n",
       "    </tr>\n",
       "    <tr>\n",
       "      <th rowspan=\"2\" valign=\"top\">Sangha</th>\n",
       "      <th>Bobusa (Fpl. 239)</th>\n",
       "      <th>87/1</th>\n",
       "      <td>2</td>\n",
       "      <td>5.263158</td>\n",
       "    </tr>\n",
       "    <tr>\n",
       "      <th>Sosolo (Fpl. 241)</th>\n",
       "      <th>87/101</th>\n",
       "      <td>1</td>\n",
       "      <td>2.631579</td>\n",
       "    </tr>\n",
       "    <tr>\n",
       "      <th rowspan=\"2\" valign=\"top\">Ubangi</th>\n",
       "      <th>Bolumbu (Fpl. 194)</th>\n",
       "      <th>85/101</th>\n",
       "      <td>1</td>\n",
       "      <td>2.631579</td>\n",
       "    </tr>\n",
       "    <tr>\n",
       "      <th>Zamba (Fpl. 191)</th>\n",
       "      <th>85/101</th>\n",
       "      <td>1</td>\n",
       "      <td>2.631579</td>\n",
       "    </tr>\n",
       "    <tr>\n",
       "      <th rowspan=\"4\" valign=\"top\">Zaire/Kongo</th>\n",
       "      <th>Gombe (Fpl. 237)</th>\n",
       "      <th>87/101</th>\n",
       "      <td>1</td>\n",
       "      <td>2.631579</td>\n",
       "    </tr>\n",
       "    <tr>\n",
       "      <th>Lukolela (Fpl. 234)</th>\n",
       "      <th>87/101</th>\n",
       "      <td>12</td>\n",
       "      <td>31.578947</td>\n",
       "    </tr>\n",
       "    <tr>\n",
       "      <th>Maberu (Fpl. 235)</th>\n",
       "      <th>87/101</th>\n",
       "      <td>6</td>\n",
       "      <td>15.789474</td>\n",
       "    </tr>\n",
       "    <tr>\n",
       "      <th>Sungu (Fpl. 236)</th>\n",
       "      <th>87/101</th>\n",
       "      <td>11</td>\n",
       "      <td>28.947368</td>\n",
       "    </tr>\n",
       "  </tbody>\n",
       "</table>\n",
       "</div>"
      ],
      "text/plain": [
       "                                          Anzahl    Prozent\n",
       "ort_fluss     Ort                 bef_nr                   \n",
       "Likwala-Esobe Bojenjo (Fpl. 292)  87/101       1   2.631579\n",
       "              Boyenge (Fpl. 284)  87/101       1   2.631579\n",
       "              Ebambe (Fpl. 297)   87/101       1   2.631579\n",
       "Sangha        Bobusa (Fpl. 239)   87/1         2   5.263158\n",
       "              Sosolo (Fpl. 241)   87/101       1   2.631579\n",
       "Ubangi        Bolumbu (Fpl. 194)  85/101       1   2.631579\n",
       "              Zamba (Fpl. 191)    85/101       1   2.631579\n",
       "Zaire/Kongo   Gombe (Fpl. 237)    87/101       1   2.631579\n",
       "              Lukolela (Fpl. 234) 87/101      12  31.578947\n",
       "              Maberu (Fpl. 235)   87/101       6  15.789474\n",
       "              Sungu (Fpl. 236)    87/101      11  28.947368"
      ]
     },
     "execution_count": 71,
     "metadata": {},
     "output_type": "execute_result"
    }
   ],
   "source": [
    "df_pivot = df.pivot_table(values = 'Anzahl', index = ['ort_fluss', 'Ort', 'bef_nr'], aggfunc = np.sum)\n",
    "df_pivot = pd.DataFrame(df_pivot)\n",
    "df_pivot['Prozent'] = df_pivot['Anzahl']/df_pivot['Anzahl'].sum()*100\n",
    "df_pivot"
   ]
  },
  {
   "cell_type": "code",
   "execution_count": 72,
   "metadata": {
    "scrolled": false
   },
   "outputs": [
    {
     "data": {
      "text/html": [
       "<div>\n",
       "<table border=\"1\" class=\"dataframe\">\n",
       "  <thead>\n",
       "    <tr>\n",
       "      <th></th>\n",
       "      <th></th>\n",
       "      <th></th>\n",
       "      <th colspan=\"5\" halign=\"left\">Anzahl</th>\n",
       "    </tr>\n",
       "    <tr>\n",
       "      <th></th>\n",
       "      <th></th>\n",
       "      <th>Typ</th>\n",
       "      <th>BDG/MBA (?)</th>\n",
       "      <th>MBA</th>\n",
       "      <th>MBA (?)</th>\n",
       "      <th>MBA/NGO (?)</th>\n",
       "      <th>NGO/MBA (?)</th>\n",
       "    </tr>\n",
       "    <tr>\n",
       "      <th>ort_fluss</th>\n",
       "      <th>Ort</th>\n",
       "      <th>bef_nr</th>\n",
       "      <th></th>\n",
       "      <th></th>\n",
       "      <th></th>\n",
       "      <th></th>\n",
       "      <th></th>\n",
       "    </tr>\n",
       "  </thead>\n",
       "  <tbody>\n",
       "    <tr>\n",
       "      <th rowspan=\"3\" valign=\"top\">Likwala-Esobe</th>\n",
       "      <th>Bojenjo (Fpl. 292)</th>\n",
       "      <th>87/101</th>\n",
       "      <td>NaN</td>\n",
       "      <td>NaN</td>\n",
       "      <td>NaN</td>\n",
       "      <td>NaN</td>\n",
       "      <td>1.0</td>\n",
       "    </tr>\n",
       "    <tr>\n",
       "      <th>Boyenge (Fpl. 284)</th>\n",
       "      <th>87/101</th>\n",
       "      <td>NaN</td>\n",
       "      <td>NaN</td>\n",
       "      <td>NaN</td>\n",
       "      <td>NaN</td>\n",
       "      <td>1.0</td>\n",
       "    </tr>\n",
       "    <tr>\n",
       "      <th>Ebambe (Fpl. 297)</th>\n",
       "      <th>87/101</th>\n",
       "      <td>1.0</td>\n",
       "      <td>NaN</td>\n",
       "      <td>NaN</td>\n",
       "      <td>NaN</td>\n",
       "      <td>NaN</td>\n",
       "    </tr>\n",
       "    <tr>\n",
       "      <th rowspan=\"2\" valign=\"top\">Sangha</th>\n",
       "      <th>Bobusa (Fpl. 239)</th>\n",
       "      <th>87/1</th>\n",
       "      <td>NaN</td>\n",
       "      <td>2.0</td>\n",
       "      <td>NaN</td>\n",
       "      <td>NaN</td>\n",
       "      <td>NaN</td>\n",
       "    </tr>\n",
       "    <tr>\n",
       "      <th>Sosolo (Fpl. 241)</th>\n",
       "      <th>87/101</th>\n",
       "      <td>NaN</td>\n",
       "      <td>NaN</td>\n",
       "      <td>NaN</td>\n",
       "      <td>1.0</td>\n",
       "      <td>NaN</td>\n",
       "    </tr>\n",
       "    <tr>\n",
       "      <th rowspan=\"2\" valign=\"top\">Ubangi</th>\n",
       "      <th>Bolumbu (Fpl. 194)</th>\n",
       "      <th>85/101</th>\n",
       "      <td>NaN</td>\n",
       "      <td>NaN</td>\n",
       "      <td>1.0</td>\n",
       "      <td>NaN</td>\n",
       "      <td>NaN</td>\n",
       "    </tr>\n",
       "    <tr>\n",
       "      <th>Zamba (Fpl. 191)</th>\n",
       "      <th>85/101</th>\n",
       "      <td>NaN</td>\n",
       "      <td>NaN</td>\n",
       "      <td>1.0</td>\n",
       "      <td>NaN</td>\n",
       "      <td>NaN</td>\n",
       "    </tr>\n",
       "    <tr>\n",
       "      <th rowspan=\"4\" valign=\"top\">Zaire/Kongo</th>\n",
       "      <th>Gombe (Fpl. 237)</th>\n",
       "      <th>87/101</th>\n",
       "      <td>NaN</td>\n",
       "      <td>1.0</td>\n",
       "      <td>NaN</td>\n",
       "      <td>NaN</td>\n",
       "      <td>NaN</td>\n",
       "    </tr>\n",
       "    <tr>\n",
       "      <th>Lukolela (Fpl. 234)</th>\n",
       "      <th>87/101</th>\n",
       "      <td>NaN</td>\n",
       "      <td>5.0</td>\n",
       "      <td>NaN</td>\n",
       "      <td>NaN</td>\n",
       "      <td>NaN</td>\n",
       "    </tr>\n",
       "    <tr>\n",
       "      <th>Maberu (Fpl. 235)</th>\n",
       "      <th>87/101</th>\n",
       "      <td>2.0</td>\n",
       "      <td>3.0</td>\n",
       "      <td>1.0</td>\n",
       "      <td>NaN</td>\n",
       "      <td>NaN</td>\n",
       "    </tr>\n",
       "    <tr>\n",
       "      <th>Sungu (Fpl. 236)</th>\n",
       "      <th>87/101</th>\n",
       "      <td>NaN</td>\n",
       "      <td>3.0</td>\n",
       "      <td>5.0</td>\n",
       "      <td>NaN</td>\n",
       "      <td>NaN</td>\n",
       "    </tr>\n",
       "  </tbody>\n",
       "</table>\n",
       "</div>"
      ],
      "text/plain": [
       "                                              Anzahl                           \\\n",
       "Typ                                      BDG/MBA (?)  MBA MBA (?) MBA/NGO (?)   \n",
       "ort_fluss     Ort                 bef_nr                                        \n",
       "Likwala-Esobe Bojenjo (Fpl. 292)  87/101         NaN  NaN     NaN         NaN   \n",
       "              Boyenge (Fpl. 284)  87/101         NaN  NaN     NaN         NaN   \n",
       "              Ebambe (Fpl. 297)   87/101         1.0  NaN     NaN         NaN   \n",
       "Sangha        Bobusa (Fpl. 239)   87/1           NaN  2.0     NaN         NaN   \n",
       "              Sosolo (Fpl. 241)   87/101         NaN  NaN     NaN         1.0   \n",
       "Ubangi        Bolumbu (Fpl. 194)  85/101         NaN  NaN     1.0         NaN   \n",
       "              Zamba (Fpl. 191)    85/101         NaN  NaN     1.0         NaN   \n",
       "Zaire/Kongo   Gombe (Fpl. 237)    87/101         NaN  1.0     NaN         NaN   \n",
       "              Lukolela (Fpl. 234) 87/101         NaN  5.0     NaN         NaN   \n",
       "              Maberu (Fpl. 235)   87/101         2.0  3.0     1.0         NaN   \n",
       "              Sungu (Fpl. 236)    87/101         NaN  3.0     5.0         NaN   \n",
       "\n",
       "                                                      \n",
       "Typ                                      NGO/MBA (?)  \n",
       "ort_fluss     Ort                 bef_nr              \n",
       "Likwala-Esobe Bojenjo (Fpl. 292)  87/101         1.0  \n",
       "              Boyenge (Fpl. 284)  87/101         1.0  \n",
       "              Ebambe (Fpl. 297)   87/101         NaN  \n",
       "Sangha        Bobusa (Fpl. 239)   87/1           NaN  \n",
       "              Sosolo (Fpl. 241)   87/101         NaN  \n",
       "Ubangi        Bolumbu (Fpl. 194)  85/101         NaN  \n",
       "              Zamba (Fpl. 191)    85/101         NaN  \n",
       "Zaire/Kongo   Gombe (Fpl. 237)    87/101         NaN  \n",
       "              Lukolela (Fpl. 234) 87/101         NaN  \n",
       "              Maberu (Fpl. 235)   87/101         NaN  \n",
       "              Sungu (Fpl. 236)    87/101         NaN  "
      ]
     },
     "execution_count": 72,
     "metadata": {},
     "output_type": "execute_result"
    }
   ],
   "source": [
    "# nur einzeln aufgenommene GE\n",
    "df_ge = df.loc[df['Anzahl'] == 1]\n",
    "\n",
    "df_pivot = df_ge.pivot_table(values = ['Anzahl', 'Gewicht'], index = ['ort_fluss', 'Ort', 'bef_nr'], columns='Typ', aggfunc = np.sum)\n",
    "df_pivot = pd.DataFrame(df_pivot)\n",
    "df_pivot"
   ]
  },
  {
   "cell_type": "code",
   "execution_count": 73,
   "metadata": {},
   "outputs": [
    {
     "data": {
      "text/html": [
       "<div>\n",
       "<table border=\"1\" class=\"dataframe\">\n",
       "  <thead>\n",
       "    <tr style=\"text-align: right;\">\n",
       "      <th></th>\n",
       "      <th>0</th>\n",
       "      <th>Prozent</th>\n",
       "    </tr>\n",
       "  </thead>\n",
       "  <tbody>\n",
       "    <tr>\n",
       "      <th>fraglich</th>\n",
       "      <td>14</td>\n",
       "      <td>50.0</td>\n",
       "    </tr>\n",
       "    <tr>\n",
       "      <th>sicher</th>\n",
       "      <td>14</td>\n",
       "      <td>50.0</td>\n",
       "    </tr>\n",
       "  </tbody>\n",
       "</table>\n",
       "</div>"
      ],
      "text/plain": [
       "           0  Prozent\n",
       "fraglich  14     50.0\n",
       "sicher    14     50.0"
      ]
     },
     "execution_count": 73,
     "metadata": {},
     "output_type": "execute_result"
    }
   ],
   "source": [
    "a = pd.Series({'sicher':np.sum(df_ge['Anzahl'].loc[df_ge['Typ'] == style]),\n",
    "               'fraglich':np.sum(df_ge['Anzahl'].loc[df_ge['Typ'].str.contains(' ')])})\n",
    "a = pd.DataFrame(a)\n",
    "a['Prozent'] = a[0]/a[0].sum()*100\n",
    "a"
   ]
  },
  {
   "cell_type": "code",
   "execution_count": 74,
   "metadata": {
    "collapsed": true
   },
   "outputs": [],
   "source": [
    "# nur ausgezählte Stücke\n",
    "df_a = df.loc[df['Anzahl'] != 1]"
   ]
  },
  {
   "cell_type": "code",
   "execution_count": 75,
   "metadata": {},
   "outputs": [
    {
     "data": {
      "text/html": [
       "<div>\n",
       "<table border=\"1\" class=\"dataframe\">\n",
       "  <thead>\n",
       "    <tr style=\"text-align: right;\">\n",
       "      <th>Scherbe</th>\n",
       "      <th>R</th>\n",
       "      <th>W</th>\n",
       "      <th>All</th>\n",
       "    </tr>\n",
       "    <tr>\n",
       "      <th>Typ</th>\n",
       "      <th></th>\n",
       "      <th></th>\n",
       "      <th></th>\n",
       "    </tr>\n",
       "  </thead>\n",
       "  <tbody>\n",
       "    <tr>\n",
       "      <th>MBA (?)</th>\n",
       "      <td>7.0</td>\n",
       "      <td>3.0</td>\n",
       "      <td>10.0</td>\n",
       "    </tr>\n",
       "    <tr>\n",
       "      <th>All</th>\n",
       "      <td>7.0</td>\n",
       "      <td>3.0</td>\n",
       "      <td>10.0</td>\n",
       "    </tr>\n",
       "  </tbody>\n",
       "</table>\n",
       "</div>"
      ],
      "text/plain": [
       "Scherbe    R    W   All\n",
       "Typ                    \n",
       "MBA (?)  7.0  3.0  10.0\n",
       "All      7.0  3.0  10.0"
      ]
     },
     "execution_count": 75,
     "metadata": {},
     "output_type": "execute_result"
    }
   ],
   "source": [
    "df_a.pivot_table(values = 'Anzahl', index = 'Typ', columns = 'Scherbe', aggfunc = np.sum, margins = True)"
   ]
  },
  {
   "cell_type": "code",
   "execution_count": 76,
   "metadata": {},
   "outputs": [
    {
     "data": {
      "text/html": [
       "<div>\n",
       "<table border=\"1\" class=\"dataframe\">\n",
       "  <thead>\n",
       "    <tr style=\"text-align: right;\">\n",
       "      <th></th>\n",
       "      <th></th>\n",
       "      <th></th>\n",
       "      <th>Anzahl</th>\n",
       "    </tr>\n",
       "    <tr>\n",
       "      <th>ort_fluss</th>\n",
       "      <th>Ort</th>\n",
       "      <th>bef_nr</th>\n",
       "      <th></th>\n",
       "    </tr>\n",
       "  </thead>\n",
       "  <tbody>\n",
       "    <tr>\n",
       "      <th rowspan=\"2\" valign=\"top\">Zaire/Kongo</th>\n",
       "      <th>Lukolela (Fpl. 234)</th>\n",
       "      <th>87/101</th>\n",
       "      <td>7</td>\n",
       "    </tr>\n",
       "    <tr>\n",
       "      <th>Sungu (Fpl. 236)</th>\n",
       "      <th>87/101</th>\n",
       "      <td>3</td>\n",
       "    </tr>\n",
       "  </tbody>\n",
       "</table>\n",
       "</div>"
      ],
      "text/plain": [
       "                                        Anzahl\n",
       "ort_fluss   Ort                 bef_nr        \n",
       "Zaire/Kongo Lukolela (Fpl. 234) 87/101       7\n",
       "            Sungu (Fpl. 236)    87/101       3"
      ]
     },
     "execution_count": 76,
     "metadata": {},
     "output_type": "execute_result"
    }
   ],
   "source": [
    "df_pivot = df_a.pivot_table(values = ['Anzahl', 'Gewicht'], index = ['ort_fluss', 'Ort', 'bef_nr'], aggfunc = np.sum, fill_value = '')\n",
    "df_pivot"
   ]
  },
  {
   "cell_type": "markdown",
   "metadata": {},
   "source": [
    "### Befunde"
   ]
  },
  {
   "cell_type": "code",
   "execution_count": 77,
   "metadata": {},
   "outputs": [
    {
     "data": {
      "text/html": [
       "<div>\n",
       "<table border=\"1\" class=\"dataframe\">\n",
       "  <thead>\n",
       "    <tr style=\"text-align: right;\">\n",
       "      <th></th>\n",
       "      <th>Anzahl</th>\n",
       "      <th>Prozent</th>\n",
       "    </tr>\n",
       "    <tr>\n",
       "      <th>bef_art</th>\n",
       "      <th></th>\n",
       "      <th></th>\n",
       "    </tr>\n",
       "  </thead>\n",
       "  <tbody>\n",
       "    <tr>\n",
       "      <th>Oberfl</th>\n",
       "      <td>36</td>\n",
       "      <td>94.736842</td>\n",
       "    </tr>\n",
       "    <tr>\n",
       "      <th>Schicht</th>\n",
       "      <td>2</td>\n",
       "      <td>5.263158</td>\n",
       "    </tr>\n",
       "  </tbody>\n",
       "</table>\n",
       "</div>"
      ],
      "text/plain": [
       "         Anzahl    Prozent\n",
       "bef_art                   \n",
       "Oberfl       36  94.736842\n",
       "Schicht       2   5.263158"
      ]
     },
     "execution_count": 77,
     "metadata": {},
     "output_type": "execute_result"
    }
   ],
   "source": [
    "df_pivot = df.pivot_table(values = 'Anzahl', index = 'bef_art', aggfunc = sum)\n",
    "df_pivot = pd.DataFrame(df_pivot)\n",
    "df_pivot['Prozent'] = df_pivot['Anzahl']/df_pivot['Anzahl'].sum()*100\n",
    "df_pivot"
   ]
  },
  {
   "cell_type": "markdown",
   "metadata": {},
   "source": [
    "Nur die Stücke aus den Gräbern:"
   ]
  },
  {
   "cell_type": "code",
   "execution_count": 78,
   "metadata": {},
   "outputs": [
    {
     "data": {
      "text/html": [
       "<div>\n",
       "<table border=\"1\" class=\"dataframe\">\n",
       "  <thead>\n",
       "    <tr style=\"text-align: right;\">\n",
       "      <th></th>\n",
       "      <th>ort_kurz</th>\n",
       "      <th>Ort</th>\n",
       "      <th>ort_fluss</th>\n",
       "      <th>bef_nr</th>\n",
       "      <th>bef_art</th>\n",
       "      <th>objID</th>\n",
       "      <th>Scherbe</th>\n",
       "      <th>Anzahl</th>\n",
       "      <th>Form_Gef</th>\n",
       "      <th>Typ</th>\n",
       "    </tr>\n",
       "  </thead>\n",
       "  <tbody>\n",
       "  </tbody>\n",
       "</table>\n",
       "</div>"
      ],
      "text/plain": [
       "Empty DataFrame\n",
       "Columns: [ort_kurz, Ort, ort_fluss, bef_nr, bef_art, objID, Scherbe, Anzahl, Form_Gef, Typ]\n",
       "Index: []"
      ]
     },
     "execution_count": 78,
     "metadata": {},
     "output_type": "execute_result"
    }
   ],
   "source": [
    "df[df['bef_art'] == 'Grube']"
   ]
  },
  {
   "cell_type": "markdown",
   "metadata": {},
   "source": [
    "## Scherbentypen"
   ]
  },
  {
   "cell_type": "code",
   "execution_count": 79,
   "metadata": {},
   "outputs": [
    {
     "data": {
      "text/html": [
       "<div>\n",
       "<table border=\"1\" class=\"dataframe\">\n",
       "  <thead>\n",
       "    <tr style=\"text-align: right;\">\n",
       "      <th></th>\n",
       "      <th>Anzahl</th>\n",
       "      <th>Prozent</th>\n",
       "    </tr>\n",
       "  </thead>\n",
       "  <tbody>\n",
       "    <tr>\n",
       "      <th>G</th>\n",
       "      <td>NaN</td>\n",
       "      <td>NaN</td>\n",
       "    </tr>\n",
       "    <tr>\n",
       "      <th>R</th>\n",
       "      <td>21.0</td>\n",
       "      <td>55.263158</td>\n",
       "    </tr>\n",
       "    <tr>\n",
       "      <th>W</th>\n",
       "      <td>17.0</td>\n",
       "      <td>44.736842</td>\n",
       "    </tr>\n",
       "    <tr>\n",
       "      <th>B</th>\n",
       "      <td>NaN</td>\n",
       "      <td>NaN</td>\n",
       "    </tr>\n",
       "  </tbody>\n",
       "</table>\n",
       "</div>"
      ],
      "text/plain": [
       "   Anzahl    Prozent\n",
       "G     NaN        NaN\n",
       "R    21.0  55.263158\n",
       "W    17.0  44.736842\n",
       "B     NaN        NaN"
      ]
     },
     "execution_count": 79,
     "metadata": {},
     "output_type": "execute_result"
    }
   ],
   "source": [
    "df_pivot = df.pivot_table(values = 'Anzahl', index = 'Scherbe', aggfunc = np.sum)\n",
    "# df_pivot['B'] = 0.\n",
    "custom_dict = {'G':0,'R':1,'W':3,'B':4}\n",
    "df_pivot = pd.DataFrame(df_pivot, index=sorted(custom_dict, key=custom_dict.get))\n",
    "df_pivot['Prozent'] = df_pivot['Anzahl']/df_pivot['Anzahl'].sum()*100\n",
    "df_pivot"
   ]
  },
  {
   "cell_type": "code",
   "execution_count": 80,
   "metadata": {},
   "outputs": [
    {
     "data": {
      "image/png": "[encoded data removed]",
      "text/plain": [
       "<matplotlib.figure.Figure at 0xeffc2bba20>"
      ]
     },
     "metadata": {},
     "output_type": "display_data"
    }
   ],
   "source": [
    "df_pivot.plot(y = 'Prozent', kind = 'bar', legend = None, color = 'grey')\n",
    "plt.xticks(rotation=0)\n",
    "plt.xlabel('Scherbentypen')\n",
    "plt.ylabel('Anteil [%]')\n",
    "plt.show()"
   ]
  },
  {
   "cell_type": "markdown",
   "metadata": {},
   "source": [
    "## Fragmentierung"
   ]
  },
  {
   "cell_type": "code",
   "execution_count": 81,
   "metadata": {},
   "outputs": [
    {
     "data": {
      "image/png": "[encoded data removed]",
      "text/plain": [
       "<matplotlib.figure.Figure at 0xeffadf8278>"
      ]
     },
     "metadata": {},
     "output_type": "display_data"
    }
   ],
   "source": [
    "sql = \"\"\"SELECT\n",
    "           t_Obj.objID,\n",
    "           t_Ort.ort_kurz,\n",
    "           't_Ort'.'ort_name' || ' (Fpl. ' || 't_ort'.'Kat-Nr' || ')' AS Ort,\n",
    "           t_Komplex.bef_nr,\n",
    "           t_Ort.ort_fluss,\n",
    "           t_Obj.GefEinheit AS GE,\n",
    "           t_Obj.Scherbe,\n",
    "           t_Obj.Gewicht,\n",
    "           t_Obj.Anzahl,\n",
    "           t_Obj.Gr_Clist,\n",
    "           t_Obj.Typ\n",
    "       FROM (t_Ort INNER JOIN t_Komplex ON t_Ort.ortID = t_Komplex.ortID)\n",
    "           INNER JOIN t_Obj ON t_Komplex.komplexID = t_Obj.komplexID\n",
    "       WHERE (((t_Ort.ort_lit)='DS')\n",
    "           AND ((t_Obj.Typ) Like '%\"\"\"+style+\"\"\"%'))\"\"\".replace('\\n',' ')\n",
    "df = pd.read_sql(sql, con)\n",
    "#display(df.head())\n",
    "\n",
    "df_pivot = df.pivot_table(values = 'Anzahl', index = 'Gr_Clist', aggfunc = np.sum)\n",
    "#df_pivot['B'] = 0.\n",
    "custom_dict = {'30':0, 70:1, 120:3,200:4,'>200':5}\n",
    "df_pivot = pd.DataFrame(df_pivot, index=sorted(custom_dict, key=custom_dict.get))\n",
    "df_pivot['Prozent'] = df_pivot['Anzahl']/df_pivot['Anzahl'].sum()*100\n",
    "#df_pivot\n",
    "\n",
    "df_pivot.plot(y = 'Prozent', kind = 'bar', legend = None, color = 'grey')\n",
    "plt.xticks(rotation=0)\n",
    "plt.xlabel('Größenklassen')\n",
    "plt.ylabel('Anteil [%]')\n",
    "plt.show()"
   ]
  },
  {
   "cell_type": "code",
   "execution_count": 82,
   "metadata": {},
   "outputs": [
    {
     "data": {
      "text/html": [
       "<div>\n",
       "<table border=\"1\" class=\"dataframe\">\n",
       "  <thead>\n",
       "    <tr style=\"text-align: right;\">\n",
       "      <th></th>\n",
       "      <th>Anzahl</th>\n",
       "      <th>Prozent</th>\n",
       "    </tr>\n",
       "  </thead>\n",
       "  <tbody>\n",
       "    <tr>\n",
       "      <th>30</th>\n",
       "      <td>NaN</td>\n",
       "      <td>NaN</td>\n",
       "    </tr>\n",
       "    <tr>\n",
       "      <th>70</th>\n",
       "      <td>21.0</td>\n",
       "      <td>77.777778</td>\n",
       "    </tr>\n",
       "    <tr>\n",
       "      <th>120</th>\n",
       "      <td>5.0</td>\n",
       "      <td>18.518519</td>\n",
       "    </tr>\n",
       "    <tr>\n",
       "      <th>200</th>\n",
       "      <td>1.0</td>\n",
       "      <td>3.703704</td>\n",
       "    </tr>\n",
       "    <tr>\n",
       "      <th>&gt;200</th>\n",
       "      <td>NaN</td>\n",
       "      <td>NaN</td>\n",
       "    </tr>\n",
       "  </tbody>\n",
       "</table>\n",
       "</div>"
      ],
      "text/plain": [
       "      Anzahl    Prozent\n",
       "30       NaN        NaN\n",
       "70      21.0  77.777778\n",
       "120      5.0  18.518519\n",
       "200      1.0   3.703704\n",
       ">200     NaN        NaN"
      ]
     },
     "execution_count": 82,
     "metadata": {},
     "output_type": "execute_result"
    }
   ],
   "source": [
    "df_pivot"
   ]
  },
  {
   "cell_type": "markdown",
   "metadata": {},
   "source": [
    "## Technologische Merkmale (*fabrics*)"
   ]
  },
  {
   "cell_type": "code",
   "execution_count": 26,
   "metadata": {},
   "outputs": [
    {
     "data": {
      "text/plain": [
       "36"
      ]
     },
     "execution_count": 26,
     "metadata": {},
     "output_type": "execute_result"
    }
   ],
   "source": [
    "sql = \"\"\"SELECT\n",
    "           t_Obj.objID,\n",
    "           't_Ort'.'ort_name' || ' (Fpl. ' || 't_ort'.'Kat-Nr' || ')' AS Ort,\n",
    "           t_Obj.Anzahl,\n",
    "           t_Obj.MagerungGröße,\n",
    "           t_Obj.MagerungArt,\n",
    "           t_Obj.MagerungDichte,\n",
    "           t_Obj.Fabric,\n",
    "           t_Obj.Typ\n",
    "       FROM (t_Ort INNER JOIN t_Komplex ON t_Ort.ortID = t_Komplex.ortID)\n",
    "           INNER JOIN t_Obj ON t_Komplex.komplexID = t_Obj.komplexID\n",
    "       WHERE (((t_Obj.Fabric) != '')\n",
    "           AND ((t_Obj.Typ) Like '%\"\"\"+style+\"\"\"%'))\"\"\".replace('\\n',' ')\n",
    "\n",
    "df = pd.read_sql(sql, con)\n",
    "len(df)"
   ]
  },
  {
   "cell_type": "code",
   "execution_count": 21,
   "metadata": {},
   "outputs": [
    {
     "name": "stderr",
     "output_type": "stream",
     "text": [
      "C:\\Users\\Dirk\\Anaconda3\\lib\\site-packages\\ipykernel\\__main__.py:3: FutureWarning: by argument to sort_index is deprecated, pls use .sort_values(by=...)\n",
      "  app.launch_new_instance()\n"
     ]
    }
   ],
   "source": [
    "df_pivot = df.pivot_table(values = 'Anzahl', index = 'Fabric', aggfunc = sum)\n",
    "df_pivot = pd.DataFrame(df_pivot)\n",
    "df_pivot = df_pivot.sort_index(by=['Anzahl'], ascending=[False])"
   ]
  },
  {
   "cell_type": "code",
   "execution_count": 22,
   "metadata": {},
   "outputs": [
    {
     "data": {
      "image/png": "[encoded data removed]",
      "text/plain": [
       "<matplotlib.figure.Figure at 0x19a0aa9b00>"
      ]
     },
     "metadata": {},
     "output_type": "display_data"
    }
   ],
   "source": [
    "df_pivot.plot(kind = 'barh', legend = False, color = 'Grey')\n",
    "plt.show()"
   ]
  },
  {
   "cell_type": "code",
   "execution_count": 23,
   "metadata": {},
   "outputs": [
    {
     "data": {
      "text/html": [
       "<div>\n",
       "<table border=\"1\" class=\"dataframe\">\n",
       "  <thead>\n",
       "    <tr style=\"text-align: right;\">\n",
       "      <th></th>\n",
       "      <th>0</th>\n",
       "      <th>Prozent</th>\n",
       "    </tr>\n",
       "  </thead>\n",
       "  <tbody>\n",
       "    <tr>\n",
       "      <th>1</th>\n",
       "      <td>42</td>\n",
       "      <td>95.454545</td>\n",
       "    </tr>\n",
       "    <tr>\n",
       "      <th>2</th>\n",
       "      <td>0</td>\n",
       "      <td>0.000000</td>\n",
       "    </tr>\n",
       "    <tr>\n",
       "      <th>3</th>\n",
       "      <td>0</td>\n",
       "      <td>0.000000</td>\n",
       "    </tr>\n",
       "    <tr>\n",
       "      <th>4</th>\n",
       "      <td>0</td>\n",
       "      <td>0.000000</td>\n",
       "    </tr>\n",
       "    <tr>\n",
       "      <th>5</th>\n",
       "      <td>0</td>\n",
       "      <td>0.000000</td>\n",
       "    </tr>\n",
       "    <tr>\n",
       "      <th>6</th>\n",
       "      <td>0</td>\n",
       "      <td>0.000000</td>\n",
       "    </tr>\n",
       "    <tr>\n",
       "      <th>7</th>\n",
       "      <td>0</td>\n",
       "      <td>0.000000</td>\n",
       "    </tr>\n",
       "    <tr>\n",
       "      <th>8</th>\n",
       "      <td>0</td>\n",
       "      <td>0.000000</td>\n",
       "    </tr>\n",
       "    <tr>\n",
       "      <th>9</th>\n",
       "      <td>2</td>\n",
       "      <td>4.545455</td>\n",
       "    </tr>\n",
       "  </tbody>\n",
       "</table>\n",
       "</div>"
      ],
      "text/plain": [
       "    0    Prozent\n",
       "1  42  95.454545\n",
       "2   0   0.000000\n",
       "3   0   0.000000\n",
       "4   0   0.000000\n",
       "5   0   0.000000\n",
       "6   0   0.000000\n",
       "7   0   0.000000\n",
       "8   0   0.000000\n",
       "9   2   4.545455"
      ]
     },
     "execution_count": 23,
     "metadata": {},
     "output_type": "execute_result"
    }
   ],
   "source": [
    "df1 = df.dropna(subset = ['Fabric'])\n",
    "\n",
    "a = pd.Series({'1':sum(df1[\"Anzahl\"].loc[df1[\"Fabric\"].str.contains(\"1\")]),\n",
    "               '2':sum(df1[\"Anzahl\"].loc[df1[\"Fabric\"].str.contains(\"2\")]),\n",
    "               '3':sum(df1[\"Anzahl\"].loc[df1[\"Fabric\"].str.contains(\"3\")]),\n",
    "               '4':sum(df1[\"Anzahl\"].loc[df1[\"Fabric\"].str.contains(\"4\")]),\n",
    "               '5':sum(df1[\"Anzahl\"].loc[df1[\"Fabric\"].str.contains(\"5\")]),\n",
    "               '6':sum(df1[\"Anzahl\"].loc[df1[\"Fabric\"].str.contains(\"6\")]),\n",
    "               '7':sum(df1[\"Anzahl\"].loc[df1[\"Fabric\"].str.contains(\"7\")]),\n",
    "               '8':sum(df1[\"Anzahl\"].loc[df1[\"Fabric\"].str.contains(\"8\")]),\n",
    "               '9':sum(df1[\"Anzahl\"].loc[df1[\"Fabric\"].str.contains(\"9\")])})\n",
    "a = pd.DataFrame(a)\n",
    "a['Prozent'] = a[0]/a[0].sum()*100\n",
    "a"
   ]
  },
  {
   "cell_type": "code",
   "execution_count": 24,
   "metadata": {},
   "outputs": [
    {
     "data": {
      "text/html": [
       "<div>\n",
       "<table border=\"1\" class=\"dataframe\">\n",
       "  <thead>\n",
       "    <tr style=\"text-align: right;\">\n",
       "      <th></th>\n",
       "      <th>Anzahl</th>\n",
       "      <th>Prozent</th>\n",
       "    </tr>\n",
       "    <tr>\n",
       "      <th>Fabric</th>\n",
       "      <th></th>\n",
       "      <th></th>\n",
       "    </tr>\n",
       "  </thead>\n",
       "  <tbody>\n",
       "    <tr>\n",
       "      <th>1b</th>\n",
       "      <td>16</td>\n",
       "      <td>36.363636</td>\n",
       "    </tr>\n",
       "    <tr>\n",
       "      <th>1d</th>\n",
       "      <td>15</td>\n",
       "      <td>34.090909</td>\n",
       "    </tr>\n",
       "    <tr>\n",
       "      <th>1e</th>\n",
       "      <td>7</td>\n",
       "      <td>15.909091</td>\n",
       "    </tr>\n",
       "    <tr>\n",
       "      <th>1b/1e (?)</th>\n",
       "      <td>3</td>\n",
       "      <td>6.818182</td>\n",
       "    </tr>\n",
       "    <tr>\n",
       "      <th>9a</th>\n",
       "      <td>2</td>\n",
       "      <td>4.545455</td>\n",
       "    </tr>\n",
       "  </tbody>\n",
       "</table>\n",
       "</div>"
      ],
      "text/plain": [
       "           Anzahl    Prozent\n",
       "Fabric                      \n",
       "1b             16  36.363636\n",
       "1d             15  34.090909\n",
       "1e              7  15.909091\n",
       "1b/1e (?)       3   6.818182\n",
       "9a              2   4.545455"
      ]
     },
     "metadata": {},
     "output_type": "display_data"
    }
   ],
   "source": [
    "df_pivot['Prozent'] = df_pivot['Anzahl']/df_pivot['Anzahl'].sum()*100\n",
    "display(df_pivot.head())"
   ]
  },
  {
   "cell_type": "code",
   "execution_count": 7,
   "metadata": {},
   "outputs": [
    {
     "data": {
      "text/html": [
       "<div>\n",
       "<table border=\"1\" class=\"dataframe\">\n",
       "  <thead>\n",
       "    <tr style=\"text-align: right;\">\n",
       "      <th></th>\n",
       "      <th>Anzahl</th>\n",
       "      <th>Prozent</th>\n",
       "    </tr>\n",
       "  </thead>\n",
       "  <tbody>\n",
       "    <tr>\n",
       "      <th>sehr wenig</th>\n",
       "      <td>13.0</td>\n",
       "      <td>86.666667</td>\n",
       "    </tr>\n",
       "    <tr>\n",
       "      <th>wenig</th>\n",
       "      <td>NaN</td>\n",
       "      <td>NaN</td>\n",
       "    </tr>\n",
       "    <tr>\n",
       "      <th>mittel</th>\n",
       "      <td>NaN</td>\n",
       "      <td>NaN</td>\n",
       "    </tr>\n",
       "    <tr>\n",
       "      <th>viel</th>\n",
       "      <td>1.0</td>\n",
       "      <td>6.666667</td>\n",
       "    </tr>\n",
       "    <tr>\n",
       "      <th>sehr viel</th>\n",
       "      <td>1.0</td>\n",
       "      <td>6.666667</td>\n",
       "    </tr>\n",
       "  </tbody>\n",
       "</table>\n",
       "</div>"
      ],
      "text/plain": [
       "            Anzahl    Prozent\n",
       "sehr wenig    13.0  86.666667\n",
       "wenig          NaN        NaN\n",
       "mittel         NaN        NaN\n",
       "viel           1.0   6.666667\n",
       "sehr viel      1.0   6.666667"
      ]
     },
     "execution_count": 7,
     "metadata": {},
     "output_type": "execute_result"
    }
   ],
   "source": [
    "df = df.replace('<1','sehr wenig', regex=True)\n",
    "\n",
    "a = df.loc[df['MagerungDichte'] != ''] # nur Einträgen, bei denen diese Felder ausgefüllt sind\n",
    "df_pivot = a.pivot_table(values = 'Anzahl', index = 'MagerungDichte', aggfunc = sum)\n",
    "custom_dict = {'sehr wenig':0,'wenig':1,'mittel':3,'viel':4, 'sehr viel':5}\n",
    "df_pivot = pd.DataFrame(df_pivot, index=sorted(custom_dict, key=custom_dict.get))\n",
    "df_pivot['Prozent'] = df_pivot['Anzahl']/df_pivot['Anzahl'].sum()*100\n",
    "df_pivot"
   ]
  },
  {
   "cell_type": "code",
   "execution_count": 8,
   "metadata": {},
   "outputs": [
    {
     "data": {
      "image/png": "[encoded data removed]",
      "text/plain": [
       "<matplotlib.figure.Figure at 0x19a08e2048>"
      ]
     },
     "metadata": {},
     "output_type": "display_data"
    }
   ],
   "source": [
    "df_pivot.plot(y = 'Prozent', kind = 'bar', legend = None, color = 'grey')\n",
    "plt.xticks(rotation=0)\n",
    "plt.xlabel('Anteil nicht-plastische Partikel')\n",
    "plt.ylabel('Anteil [%]')\n",
    "plt.show()"
   ]
  },
  {
   "cell_type": "code",
   "execution_count": 9,
   "metadata": {},
   "outputs": [
    {
     "data": {
      "text/html": [
       "<div>\n",
       "<table border=\"1\" class=\"dataframe\">\n",
       "  <thead>\n",
       "    <tr style=\"text-align: right;\">\n",
       "      <th></th>\n",
       "      <th>Anzahl</th>\n",
       "      <th>Prozent</th>\n",
       "    </tr>\n",
       "  </thead>\n",
       "  <tbody>\n",
       "    <tr>\n",
       "      <th>VF</th>\n",
       "      <td>12.0</td>\n",
       "      <td>80.000000</td>\n",
       "    </tr>\n",
       "    <tr>\n",
       "      <th>F</th>\n",
       "      <td>NaN</td>\n",
       "      <td>NaN</td>\n",
       "    </tr>\n",
       "    <tr>\n",
       "      <th>M</th>\n",
       "      <td>1.0</td>\n",
       "      <td>6.666667</td>\n",
       "    </tr>\n",
       "    <tr>\n",
       "      <th>C</th>\n",
       "      <td>NaN</td>\n",
       "      <td>NaN</td>\n",
       "    </tr>\n",
       "    <tr>\n",
       "      <th>VC</th>\n",
       "      <td>2.0</td>\n",
       "      <td>13.333333</td>\n",
       "    </tr>\n",
       "  </tbody>\n",
       "</table>\n",
       "</div>"
      ],
      "text/plain": [
       "    Anzahl    Prozent\n",
       "VF    12.0  80.000000\n",
       "F      NaN        NaN\n",
       "M      1.0   6.666667\n",
       "C      NaN        NaN\n",
       "VC     2.0  13.333333"
      ]
     },
     "execution_count": 9,
     "metadata": {},
     "output_type": "execute_result"
    }
   ],
   "source": [
    "df_pivot = a.pivot_table(values = 'Anzahl', index = 'MagerungGröße', aggfunc = sum)\n",
    "custom_dict = {'VF':0,'F':1,'M':3,'C':4, 'VC':5}\n",
    "df_pivot = pd.DataFrame(df_pivot, index=sorted(custom_dict, key=custom_dict.get))\n",
    "df_pivot['Prozent'] = df_pivot['Anzahl']/df_pivot['Anzahl'].sum()*100\n",
    "df_pivot"
   ]
  },
  {
   "cell_type": "code",
   "execution_count": 10,
   "metadata": {},
   "outputs": [
    {
     "data": {
      "image/png": "[encoded data removed]",
      "text/plain": [
       "<matplotlib.figure.Figure at 0x19a08a2e48>"
      ]
     },
     "metadata": {},
     "output_type": "display_data"
    }
   ],
   "source": [
    "df_pivot.plot(y = 'Prozent', kind = 'bar', legend = None, color = 'grey')\n",
    "plt.xticks(rotation=0)\n",
    "plt.xlabel('Korngröße (Wentworth-Scale)')\n",
    "plt.ylabel('Anteil [%]')\n",
    "plt.show()"
   ]
  },
  {
   "cell_type": "code",
   "execution_count": 11,
   "metadata": {},
   "outputs": [
    {
     "name": "stderr",
     "output_type": "stream",
     "text": [
      "C:\\Users\\Dirk\\Anaconda3\\lib\\site-packages\\ipykernel\\__main__.py:3: FutureWarning: by argument to sort_index is deprecated, pls use .sort_values(by=...)\n",
      "  app.launch_new_instance()\n"
     ]
    },
    {
     "data": {
      "text/html": [
       "<div>\n",
       "<table border=\"1\" class=\"dataframe\">\n",
       "  <thead>\n",
       "    <tr style=\"text-align: right;\">\n",
       "      <th></th>\n",
       "      <th>Anzahl</th>\n",
       "      <th>Prozent</th>\n",
       "    </tr>\n",
       "    <tr>\n",
       "      <th>MagerungArt</th>\n",
       "      <th></th>\n",
       "      <th></th>\n",
       "    </tr>\n",
       "  </thead>\n",
       "  <tbody>\n",
       "    <tr>\n",
       "      <th>S</th>\n",
       "      <td>12</td>\n",
       "      <td>80.000000</td>\n",
       "    </tr>\n",
       "    <tr>\n",
       "      <th>Schamott</th>\n",
       "      <td>2</td>\n",
       "      <td>13.333333</td>\n",
       "    </tr>\n",
       "    <tr>\n",
       "      <th></th>\n",
       "      <td>1</td>\n",
       "      <td>6.666667</td>\n",
       "    </tr>\n",
       "  </tbody>\n",
       "</table>\n",
       "</div>"
      ],
      "text/plain": [
       "             Anzahl    Prozent\n",
       "MagerungArt                   \n",
       "S                12  80.000000\n",
       "Schamott          2  13.333333\n",
       "                  1   6.666667"
      ]
     },
     "execution_count": 11,
     "metadata": {},
     "output_type": "execute_result"
    }
   ],
   "source": [
    "df_pivot = a.pivot_table(values = 'Anzahl', index = 'MagerungArt', aggfunc = sum)\n",
    "df_pivot = pd.DataFrame(df_pivot)\n",
    "df_pivot = df_pivot.sort_index(by=['Anzahl'], ascending=[False])\n",
    "df_pivot['Prozent'] = df_pivot['Anzahl']/df_pivot['Anzahl'].sum()*100\n",
    "df_pivot"
   ]
  },
  {
   "cell_type": "markdown",
   "metadata": {},
   "source": [
    "## Brennfarbe"
   ]
  },
  {
   "cell_type": "code",
   "execution_count": 12,
   "metadata": {},
   "outputs": [
    {
     "data": {
      "text/html": [
       "<div>\n",
       "<table border=\"1\" class=\"dataframe\">\n",
       "  <thead>\n",
       "    <tr style=\"text-align: right;\">\n",
       "      <th></th>\n",
       "      <th>0</th>\n",
       "      <th>Prozent</th>\n",
       "    </tr>\n",
       "  </thead>\n",
       "  <tbody>\n",
       "    <tr>\n",
       "      <th>Rot</th>\n",
       "      <td>1</td>\n",
       "      <td>2.702703</td>\n",
       "    </tr>\n",
       "    <tr>\n",
       "      <th>Sonstig</th>\n",
       "      <td>20</td>\n",
       "      <td>54.054054</td>\n",
       "    </tr>\n",
       "    <tr>\n",
       "      <th>Weiß</th>\n",
       "      <td>16</td>\n",
       "      <td>43.243243</td>\n",
       "    </tr>\n",
       "  </tbody>\n",
       "</table>\n",
       "</div>"
      ],
      "text/plain": [
       "          0    Prozent\n",
       "Rot       1   2.702703\n",
       "Sonstig  20  54.054054\n",
       "Weiß     16  43.243243"
      ]
     },
     "execution_count": 12,
     "metadata": {},
     "output_type": "execute_result"
    }
   ],
   "source": [
    "sql = \"\"\"SELECT\n",
    "           t_Obj.objID,\n",
    "           [t_Obj].[Außenfarbe] || '/' || [t_Obj].[Prof_aussen] || '/' || [t_Obj].[Prof_Kern] || '/' || [t_Obj].[Prof_innen] || '/' || [t_Obj].[Innenfarbe] AS Farbe\n",
    "       FROM (t_Ort LEFT JOIN t_Komplex ON t_Ort.ortID = t_Komplex.ortID)\n",
    "           LEFT JOIN t_Obj ON t_Komplex.komplexID = t_Obj.komplexID\n",
    "       WHERE (((t_Obj.Fabric) != '')\n",
    "           AND ((t_Obj.Typ) Like '%\"\"\"+style+\"\"\"%'))\"\"\".replace('\\n',' ')\n",
    "df = pd.read_sql(sql, con)\n",
    "\n",
    "a = pd.Series({'Weiß':len(df[df['Farbe'].str.contains(\"W\")].index),\n",
    "               'Rot':len(df[df['Farbe'].str.contains(\"R\")].index),\n",
    "               'Sonstig':len(df[~df['Farbe'].str.contains(\"W|R\")].index)})\n",
    "a = pd.DataFrame(a)\n",
    "a['Prozent'] = a[0]/a[0].sum()*100\n",
    "a"
   ]
  },
  {
   "cell_type": "code",
   "execution_count": 13,
   "metadata": {
    "scrolled": true
   },
   "outputs": [
    {
     "data": {
      "image/png": "[encoded data removed]",
      "text/plain": [
       "<matplotlib.figure.Figure at 0x19a0952cc0>"
      ]
     },
     "metadata": {},
     "output_type": "display_data"
    }
   ],
   "source": [
    "a.plot(y = 'Prozent', kind = 'bar', legend = None, color = 'grey')\n",
    "plt.xticks(rotation=0)\n",
    "plt.ylabel('Anteil [%]')\n",
    "plt.show()"
   ]
  },
  {
   "cell_type": "code",
   "execution_count": 14,
   "metadata": {},
   "outputs": [
    {
     "data": {
      "text/plain": [
       "       59\n",
       "       17\n",
       "s       2\n",
       "bg      2\n",
       " s      1\n",
       "bg      1\n",
       "dtype: int64"
      ]
     },
     "execution_count": 14,
     "metadata": {},
     "output_type": "execute_result"
    }
   ],
   "source": [
    "# Sontiges:\n",
    "a = df[~df['Farbe'].str.contains(\"W|R\")]\n",
    "pd.Series(' '.join(a['Farbe']).lower().split('/')).value_counts()[:10]"
   ]
  },
  {
   "cell_type": "markdown",
   "metadata": {},
   "source": [
    "### Gefäßformen"
   ]
  },
  {
   "cell_type": "code",
   "execution_count": 15,
   "metadata": {
    "collapsed": true
   },
   "outputs": [],
   "source": [
    "sql = \"\"\"SELECT\n",
    "           t_Ort.ort_kurz,\n",
    "           t_Ort.ort_name,\n",
    "           t_Obj.objID,\n",
    "           t_Obj.Typ,\n",
    "           t_Obj.Form_Gef\n",
    "       FROM (t_Ort INNER JOIN t_Komplex ON t_Ort.ortID = t_Komplex.ortID)\n",
    "           INNER JOIN t_Obj ON t_Komplex.komplexID = t_Obj.komplexID\n",
    "       WHERE (((t_Ort.ort_lit)='DS')\n",
    "           AND ((t_Obj.Typ) Like '%\"\"\"+style+\"\"\"%')\n",
    "           AND ((t_Obj.Form_Gef) != ''))\"\"\".replace('\\n',' ')\n",
    "\n",
    "df = pd.read_sql(sql, con)"
   ]
  },
  {
   "cell_type": "code",
   "execution_count": 96,
   "metadata": {},
   "outputs": [
    {
     "data": {
      "text/html": [
       "<div>\n",
       "<table border=\"1\" class=\"dataframe\">\n",
       "  <thead>\n",
       "    <tr style=\"text-align: right;\">\n",
       "      <th></th>\n",
       "      <th>0</th>\n",
       "      <th>Prozent</th>\n",
       "    </tr>\n",
       "  </thead>\n",
       "  <tbody>\n",
       "    <tr>\n",
       "      <th>fraglich</th>\n",
       "      <td>10</td>\n",
       "      <td>38.461538</td>\n",
       "    </tr>\n",
       "    <tr>\n",
       "      <th>sicher</th>\n",
       "      <td>16</td>\n",
       "      <td>61.538462</td>\n",
       "    </tr>\n",
       "  </tbody>\n",
       "</table>\n",
       "</div>"
      ],
      "text/plain": [
       "           0    Prozent\n",
       "fraglich  10  38.461538\n",
       "sicher    16  61.538462"
      ]
     },
     "execution_count": 96,
     "metadata": {},
     "output_type": "execute_result"
    }
   ],
   "source": [
    "df_pivot = df.pivot_table(values = 'objID', index = 'Form_Gef', aggfunc = len)\n",
    "df_pivot = pd.DataFrame(df_pivot)\n",
    "\n",
    "df_pivot['GefForm'] = df_pivot.index\n",
    "a = pd.Series({'sicher':sum(df_pivot['objID'].loc[~df_pivot['GefForm'].str.contains(\" \")]),\n",
    "               'fraglich':sum(df_pivot['objID'].loc[df_pivot['GefForm'].str.contains(\" \")])})\n",
    "a = pd.DataFrame(a)\n",
    "a['Prozent'] = a[0]/a[0].sum()*100\n",
    "a"
   ]
  },
  {
   "cell_type": "code",
   "execution_count": 97,
   "metadata": {},
   "outputs": [
    {
     "data": {
      "text/plain": [
       "26"
      ]
     },
     "execution_count": 97,
     "metadata": {},
     "output_type": "execute_result"
    }
   ],
   "source": [
    "a[0].sum()"
   ]
  },
  {
   "cell_type": "code",
   "execution_count": 98,
   "metadata": {
    "collapsed": true
   },
   "outputs": [],
   "source": [
    "# alles fragliche einfach abschneiden und nur 1. Variante behalten:\n",
    "df['Form_Gef'] = df['Form_Gef'].map(lambda x: x.rstrip(' (?)'))\n",
    "df['Form_Gef'] = df['Form_Gef'].apply(lambda x: x.split('/')[0])"
   ]
  },
  {
   "cell_type": "code",
   "execution_count": 99,
   "metadata": {
    "collapsed": true
   },
   "outputs": [],
   "source": [
    "df_pivot = df.pivot_table(values = 'objID', index = 'Form_Gef', aggfunc = len)\n",
    "df_pivot = pd.DataFrame(df_pivot)"
   ]
  },
  {
   "cell_type": "code",
   "execution_count": 100,
   "metadata": {
    "collapsed": true
   },
   "outputs": [],
   "source": [
    "# mit .isin nur noch solche Einträge auswählen, die sicher 'Pikunda-Munda' sind (ohne ? oder anderen Kram)\n",
    "dfFilter = [style]\n",
    "df = df[df['Typ'].isin(dfFilter)]\n",
    "# display(df1.head())\n",
    "# display(df1.head())"
   ]
  },
  {
   "cell_type": "code",
   "execution_count": 101,
   "metadata": {},
   "outputs": [
    {
     "data": {
      "text/html": [
       "<div>\n",
       "<table border=\"1\" class=\"dataframe\">\n",
       "  <thead>\n",
       "    <tr style=\"text-align: right;\">\n",
       "      <th></th>\n",
       "      <th>objID</th>\n",
       "    </tr>\n",
       "    <tr>\n",
       "      <th>Form_Gef</th>\n",
       "      <th></th>\n",
       "    </tr>\n",
       "  </thead>\n",
       "  <tbody>\n",
       "    <tr>\n",
       "      <th>B1</th>\n",
       "      <td>1</td>\n",
       "    </tr>\n",
       "    <tr>\n",
       "      <th>B4</th>\n",
       "      <td>1</td>\n",
       "    </tr>\n",
       "    <tr>\n",
       "      <th>C1</th>\n",
       "      <td>1</td>\n",
       "    </tr>\n",
       "    <tr>\n",
       "      <th>C2</th>\n",
       "      <td>1</td>\n",
       "    </tr>\n",
       "    <tr>\n",
       "      <th>D1</th>\n",
       "      <td>1</td>\n",
       "    </tr>\n",
       "    <tr>\n",
       "      <th>D2</th>\n",
       "      <td>21</td>\n",
       "    </tr>\n",
       "  </tbody>\n",
       "</table>\n",
       "</div>"
      ],
      "text/plain": [
       "          objID\n",
       "Form_Gef       \n",
       "B1            1\n",
       "B4            1\n",
       "C1            1\n",
       "C2            1\n",
       "D1            1\n",
       "D2           21"
      ]
     },
     "execution_count": 101,
     "metadata": {},
     "output_type": "execute_result"
    }
   ],
   "source": [
    "df_pivot"
   ]
  },
  {
   "cell_type": "code",
   "execution_count": 102,
   "metadata": {},
   "outputs": [
    {
     "data": {
      "text/plain": [
       "26"
      ]
     },
     "execution_count": 102,
     "metadata": {},
     "output_type": "execute_result"
    }
   ],
   "source": [
    "df_pivot['objID'].sum()"
   ]
  },
  {
   "cell_type": "code",
   "execution_count": 103,
   "metadata": {},
   "outputs": [
    {
     "data": {
      "text/plain": [
       "<matplotlib.text.Text at 0xeffcbe9710>"
      ]
     },
     "execution_count": 103,
     "metadata": {},
     "output_type": "execute_result"
    },
    {
     "data": {
      "image/png": "[encoded data removed]",
      "text/plain": [
       "<matplotlib.figure.Figure at 0xeffcbd12e8>"
      ]
     },
     "metadata": {},
     "output_type": "display_data"
    }
   ],
   "source": [
    "fig = plt.figure()\n",
    "fig.set_size_inches(5, 5)\n",
    "df_pivot['objID'].plot(kind='pie', autopct='%.0f %%', cmap = 'Paired')\n",
    "plt.ylabel('')\n",
    "#plt.savefig('../output/figs/3-1-2-12_Epena_GefForm2.pdf', bbox_inches='tight')"
   ]
  },
  {
   "cell_type": "markdown",
   "metadata": {},
   "source": [
    "### Proportionen"
   ]
  },
  {
   "cell_type": "code",
   "execution_count": 35,
   "metadata": {},
   "outputs": [
    {
     "name": "stderr",
     "output_type": "stream",
     "text": [
      "C:\\Users\\Dirk\\Anaconda3\\lib\\site-packages\\ipykernel\\__main__.py:19: FutureWarning: convert_objects is deprecated.  Use the data-type specific converters pd.to_datetime, pd.to_timedelta and pd.to_numeric.\n",
      "C:\\Users\\Dirk\\Anaconda3\\lib\\site-packages\\ipykernel\\__main__.py:20: FutureWarning: convert_objects is deprecated.  Use the data-type specific converters pd.to_datetime, pd.to_timedelta and pd.to_numeric.\n",
      "C:\\Users\\Dirk\\Anaconda3\\lib\\site-packages\\ipykernel\\__main__.py:21: FutureWarning: convert_objects is deprecated.  Use the data-type specific converters pd.to_datetime, pd.to_timedelta and pd.to_numeric.\n",
      "C:\\Users\\Dirk\\Anaconda3\\lib\\site-packages\\ipykernel\\__main__.py:22: FutureWarning: convert_objects is deprecated.  Use the data-type specific converters pd.to_datetime, pd.to_timedelta and pd.to_numeric.\n",
      "C:\\Users\\Dirk\\Anaconda3\\lib\\site-packages\\ipykernel\\__main__.py:23: FutureWarning: convert_objects is deprecated.  Use the data-type specific converters pd.to_datetime, pd.to_timedelta and pd.to_numeric.\n",
      "C:\\Users\\Dirk\\Anaconda3\\lib\\site-packages\\ipykernel\\__main__.py:24: FutureWarning: convert_objects is deprecated.  Use the data-type specific converters pd.to_datetime, pd.to_timedelta and pd.to_numeric.\n",
      "C:\\Users\\Dirk\\Anaconda3\\lib\\site-packages\\ipykernel\\__main__.py:25: FutureWarning: convert_objects is deprecated.  Use the data-type specific converters pd.to_datetime, pd.to_timedelta and pd.to_numeric.\n"
     ]
    }
   ],
   "source": [
    "sql = \"\"\"SELECT\n",
    "           [t_Ort].[ort_kurz] || ' ' || [t_Komplex].[bef_nr] || ':' || [t_Obj].[Individuum] AS Ind,\n",
    "           t_Obj.muendungsD,\n",
    "           t_Obj.muendungsH,\n",
    "           t_Obj.minD,\n",
    "           t_Obj.minD_H,\n",
    "           t_Obj.maxD,\n",
    "           t_Obj.maxD_H,\n",
    "           t_Obj.bodenD,\n",
    "           t_obj.Form_Gef\n",
    "       FROM (t_Ort LEFT JOIN t_Komplex ON t_Ort.ortID = t_Komplex.ortID)\n",
    "           LEFT JOIN t_Obj ON t_Komplex.komplexID = t_Obj.komplexID\n",
    "       WHERE (((t_Ort.ort_lit)='DS')\n",
    "           AND ((t_Obj.Typ) Like '%\"\"\"+style+\"\"\"%')\n",
    "           AND ((t_Obj.Form_Gef) != ''))\"\"\".replace('\\n',' ')\n",
    "\n",
    "df = pd.read_sql(sql, con)\n",
    "\n",
    "df['muendungsD'] = df['muendungsD'].convert_objects(convert_numeric=True)\n",
    "df['muendungsH'] = df['muendungsH'].convert_objects(convert_numeric=True)\n",
    "df['minD'] = df['minD'].convert_objects(convert_numeric=True)\n",
    "df['minD_H'] = df['minD_H'].convert_objects(convert_numeric=True)\n",
    "df['maxD'] = df['maxD'].convert_objects(convert_numeric=True)\n",
    "df['maxD_H'] = df['maxD_H'].convert_objects(convert_numeric=True)\n",
    "df['bodenD'] = df['bodenD'].convert_objects(convert_numeric=True)\n",
    "\n",
    "# display(df.head())\n",
    "\n",
    "# Verhältnis aus Mündungsdurchmesser / Minimaler Durchmesser\n",
    "#df['maxD-muendH'] = df['maxD'] / df['muendungsH']\n",
    "# Verhältnis aus Mündungsdurchmesser / Minimaler Durchmesser\n",
    "df['muend-min'] = df['muendungsD'] / df['minD']\n",
    "# Verhältnis aus Maximaler Durchmesser / Minimaler Durchmesser\n",
    "df['max-min'] = df['maxD'] / df['minD']\n",
    "\n",
    "#a = df.loc[df['Form_Gef'].str.contains(\"C2\")]\n",
    "df = df.loc[df['Form_Gef'].str.contains(\"D1|D2\")]"
   ]
  },
  {
   "cell_type": "code",
   "execution_count": 36,
   "metadata": {},
   "outputs": [
    {
     "data": {
      "image/png": "[encoded data removed]",
      "text/plain": [
       "<matplotlib.figure.Figure at 0x19a1ca1cf8>"
      ]
     },
     "metadata": {},
     "output_type": "display_data"
    }
   ],
   "source": [
    "mi = min(round(df['minD'])) - 5\n",
    "ma = round(max(df['maxD'])) + 5\n",
    "\n",
    "fig = plt.figure(1)\n",
    "fig.set_size_inches(6,6)\n",
    "\n",
    "ax = plt.subplot(311)\n",
    "#bins = round(max(round(a['muendungsD'])) - min(round(a['muendungsD'])))\n",
    "bins = 10\n",
    "ax = df['muendungsD'].hist(histtype='stepfilled', bins = 8, fc = 'grey')\n",
    "plt.xlabel(\"Mündungsdruchmesser [cm]\")\n",
    "plt.ylabel(\"Absolute Häufigkeit\")\n",
    "plt.xlim(mi,ma) \n",
    "ax.xaxis.grid(False)\n",
    "ax.yaxis.grid(False)\n",
    "#plt.show()\n",
    "\n",
    "ax = plt.subplot(312)\n",
    "#bins = round(max(a['minD']) - min(a['minD']))\n",
    "bins = 10\n",
    "ax = df['minD'].hist(histtype='stepfilled', bins = bins, fc = 'grey')\n",
    "plt.xlabel(\"Minimaler Druchmesser [cm]\")\n",
    "plt.ylabel(\"Absolute Häufigkeit\")\n",
    "plt.xlim(mi,ma) \n",
    "ax.xaxis.grid(False)\n",
    "ax.yaxis.grid(False)\n",
    "#plt.show()\n",
    "\n",
    "ax = plt.subplot(313)\n",
    "#bins = round(max(a['maxD']) - min(a['maxD']))\n",
    "bins = 10\n",
    "ax = df['maxD'].hist(histtype='stepfilled', bins = bins, fc = 'grey')\n",
    "plt.xlabel(\"Maximaler Druchmesser [cm]\")\n",
    "plt.ylabel(\"Absolute Häufigkeit\")\n",
    "plt.xlim(mi,ma) \n",
    "ax.xaxis.grid(False)\n",
    "ax.yaxis.grid(False)\n",
    "\n",
    "plt.tight_layout()\n",
    "#plt.savefig('../output/figs/3-1-2-7_MDB_Proportionen_D1-Gef.pdf', bbox_inches='tight')\n",
    "plt.show()"
   ]
  },
  {
   "cell_type": "code",
   "execution_count": 37,
   "metadata": {},
   "outputs": [
    {
     "data": {
      "text/html": [
       "<div>\n",
       "<table border=\"1\" class=\"dataframe\">\n",
       "  <thead>\n",
       "    <tr style=\"text-align: right;\">\n",
       "      <th></th>\n",
       "      <th>muendungsD</th>\n",
       "      <th>minD</th>\n",
       "      <th>maxD</th>\n",
       "      <th>muend-min</th>\n",
       "      <th>max-min</th>\n",
       "    </tr>\n",
       "  </thead>\n",
       "  <tbody>\n",
       "    <tr>\n",
       "      <th>count</th>\n",
       "      <td>14.000000</td>\n",
       "      <td>18.000000</td>\n",
       "      <td>11.000000</td>\n",
       "      <td>14.000000</td>\n",
       "      <td>11.000000</td>\n",
       "    </tr>\n",
       "    <tr>\n",
       "      <th>mean</th>\n",
       "      <td>12.500000</td>\n",
       "      <td>11.083333</td>\n",
       "      <td>20.272727</td>\n",
       "      <td>1.100558</td>\n",
       "      <td>1.749585</td>\n",
       "    </tr>\n",
       "    <tr>\n",
       "      <th>std</th>\n",
       "      <td>2.192645</td>\n",
       "      <td>2.157409</td>\n",
       "      <td>4.406607</td>\n",
       "      <td>0.069268</td>\n",
       "      <td>0.303708</td>\n",
       "    </tr>\n",
       "    <tr>\n",
       "      <th>min</th>\n",
       "      <td>10.500000</td>\n",
       "      <td>5.000000</td>\n",
       "      <td>15.000000</td>\n",
       "      <td>1.037037</td>\n",
       "      <td>1.454545</td>\n",
       "    </tr>\n",
       "    <tr>\n",
       "      <th>25%</th>\n",
       "      <td>10.500000</td>\n",
       "      <td>10.000000</td>\n",
       "      <td>16.500000</td>\n",
       "      <td>1.050000</td>\n",
       "      <td>1.541667</td>\n",
       "    </tr>\n",
       "    <tr>\n",
       "      <th>50%</th>\n",
       "      <td>12.000000</td>\n",
       "      <td>11.000000</td>\n",
       "      <td>19.000000</td>\n",
       "      <td>1.081169</td>\n",
       "      <td>1.629630</td>\n",
       "    </tr>\n",
       "    <tr>\n",
       "      <th>75%</th>\n",
       "      <td>13.500000</td>\n",
       "      <td>12.000000</td>\n",
       "      <td>23.000000</td>\n",
       "      <td>1.125000</td>\n",
       "      <td>1.857143</td>\n",
       "    </tr>\n",
       "    <tr>\n",
       "      <th>max</th>\n",
       "      <td>18.000000</td>\n",
       "      <td>14.000000</td>\n",
       "      <td>28.000000</td>\n",
       "      <td>1.285714</td>\n",
       "      <td>2.363636</td>\n",
       "    </tr>\n",
       "  </tbody>\n",
       "</table>\n",
       "</div>"
      ],
      "text/plain": [
       "       muendungsD       minD       maxD  muend-min    max-min\n",
       "count   14.000000  18.000000  11.000000  14.000000  11.000000\n",
       "mean    12.500000  11.083333  20.272727   1.100558   1.749585\n",
       "std      2.192645   2.157409   4.406607   0.069268   0.303708\n",
       "min     10.500000   5.000000  15.000000   1.037037   1.454545\n",
       "25%     10.500000  10.000000  16.500000   1.050000   1.541667\n",
       "50%     12.000000  11.000000  19.000000   1.081169   1.629630\n",
       "75%     13.500000  12.000000  23.000000   1.125000   1.857143\n",
       "max     18.000000  14.000000  28.000000   1.285714   2.363636"
      ]
     },
     "execution_count": 37,
     "metadata": {},
     "output_type": "execute_result"
    }
   ],
   "source": [
    "df.describe()"
   ]
  },
  {
   "cell_type": "markdown",
   "metadata": {
    "collapsed": true
   },
   "source": [
    "## Mündungs- und Randformen"
   ]
  },
  {
   "cell_type": "code",
   "execution_count": 107,
   "metadata": {},
   "outputs": [
    {
     "name": "stderr",
     "output_type": "stream",
     "text": [
      "C:\\Users\\Dirk\\Anaconda3\\lib\\site-packages\\ipykernel\\__main__.py:25: SettingWithCopyWarning: \n",
      "A value is trying to be set on a copy of a slice from a DataFrame.\n",
      "Try using .loc[row_indexer,col_indexer] = value instead\n",
      "\n",
      "See the caveats in the documentation: http://pandas.pydata.org/pandas-docs/stable/indexing.html#indexing-view-versus-copy\n",
      "C:\\Users\\Dirk\\Anaconda3\\lib\\site-packages\\ipykernel\\__main__.py:26: SettingWithCopyWarning: \n",
      "A value is trying to be set on a copy of a slice from a DataFrame.\n",
      "Try using .loc[row_indexer,col_indexer] = value instead\n",
      "\n",
      "See the caveats in the documentation: http://pandas.pydata.org/pandas-docs/stable/indexing.html#indexing-view-versus-copy\n",
      "C:\\Users\\Dirk\\Anaconda3\\lib\\site-packages\\ipykernel\\__main__.py:30: FutureWarning: by argument to sort_index is deprecated, pls use .sort_values(by=...)\n"
     ]
    },
    {
     "data": {
      "text/html": [
       "<div>\n",
       "<table border=\"1\" class=\"dataframe\">\n",
       "  <thead>\n",
       "    <tr style=\"text-align: right;\">\n",
       "      <th></th>\n",
       "      <th>objID</th>\n",
       "      <th>Prozent</th>\n",
       "    </tr>\n",
       "    <tr>\n",
       "      <th>Form_Mdg</th>\n",
       "      <th></th>\n",
       "      <th></th>\n",
       "    </tr>\n",
       "  </thead>\n",
       "  <tbody>\n",
       "    <tr>\n",
       "      <th>M2</th>\n",
       "      <td>12</td>\n",
       "      <td>85.714286</td>\n",
       "    </tr>\n",
       "    <tr>\n",
       "      <th>M1</th>\n",
       "      <td>1</td>\n",
       "      <td>7.142857</td>\n",
       "    </tr>\n",
       "    <tr>\n",
       "      <th>M3</th>\n",
       "      <td>1</td>\n",
       "      <td>7.142857</td>\n",
       "    </tr>\n",
       "  </tbody>\n",
       "</table>\n",
       "</div>"
      ],
      "text/plain": [
       "          objID    Prozent\n",
       "Form_Mdg                  \n",
       "M2           12  85.714286\n",
       "M1            1   7.142857\n",
       "M3            1   7.142857"
      ]
     },
     "execution_count": 107,
     "metadata": {},
     "output_type": "execute_result"
    }
   ],
   "source": [
    "sql = \"\"\"SELECT\n",
    "           t_Ort.ort_kurz,\n",
    "           t_Ort.ort_name,\n",
    "           t_Obj.objID,\n",
    "           t_Obj.Typ,\n",
    "           t_Obj.Form_Mdg,\n",
    "           t_Obj.Form_Rand,\n",
    "           t_Obj.Form_Hals,\n",
    "           t_Obj.Form_Schulter,\n",
    "           t_Obj.Form_Gef\n",
    "       FROM (t_Ort INNER JOIN t_Komplex ON t_Ort.ortID = t_Komplex.ortID)\n",
    "           INNER JOIN t_Obj ON t_Komplex.komplexID = t_Obj.komplexID\n",
    "       WHERE (((t_Ort.ort_lit)='DS')\n",
    "           AND ((t_Obj.Typ) Like '%\"\"\"+style+\"\"\"%')\n",
    "           AND ((t_Obj.Anzahl) = 1))\"\"\".replace('\\n',' ')\n",
    "\n",
    "df = pd.read_sql(sql, con)\n",
    "# leere Werte in NaN ändern\n",
    "df = df.replace('',np.nan, regex=True)\n",
    "# display(df.head())\n",
    "\n",
    "# Zeilen ohne Mdg löschen\n",
    "# Fragezeichen löschen\n",
    "df1 = df.dropna(subset = ['Form_Mdg'])\n",
    "df1['Form_Mdg'] = df1['Form_Mdg'].map(lambda x: x.rstrip(' (?)'))\n",
    "df1['Form_Mdg'] = df1['Form_Mdg'].apply(lambda x: x.split('/')[0])\\\n",
    "\n",
    "df_pivot = df1.pivot_table(values = 'objID', index = 'Form_Mdg', aggfunc = len)\n",
    "df_pivot = pd.DataFrame(df_pivot)\n",
    "# Sortierung in Aufsteigend ändern\n",
    "df_pivot = df_pivot.sort_index(by = ['objID'], ascending=False)\n",
    "# Prozent-Anteil errechnen\n",
    "df_pivot['Prozent'] = df_pivot['objID']/df_pivot['objID'].sum()*100\n",
    "df_pivot.head()"
   ]
  },
  {
   "cell_type": "code",
   "execution_count": 108,
   "metadata": {},
   "outputs": [
    {
     "data": {
      "text/plain": [
       "<matplotlib.text.Text at 0xeffcb82a90>"
      ]
     },
     "execution_count": 108,
     "metadata": {},
     "output_type": "execute_result"
    },
    {
     "data": {
      "image/png": "[encoded data removed]",
      "text/plain": [
       "<matplotlib.figure.Figure at 0xeffcc39400>"
      ]
     },
     "metadata": {},
     "output_type": "display_data"
    }
   ],
   "source": [
    "fig = plt.figure()\n",
    "fig.set_size_inches(5, 5)\n",
    "df_pivot['objID'].plot(kind='pie', autopct='%.0f %%', cmap = 'Paired')\n",
    "plt.ylabel('')"
   ]
  },
  {
   "cell_type": "code",
   "execution_count": 109,
   "metadata": {},
   "outputs": [
    {
     "name": "stderr",
     "output_type": "stream",
     "text": [
      "C:\\Users\\Dirk\\Anaconda3\\lib\\site-packages\\ipykernel\\__main__.py:3: SettingWithCopyWarning: \n",
      "A value is trying to be set on a copy of a slice from a DataFrame.\n",
      "Try using .loc[row_indexer,col_indexer] = value instead\n",
      "\n",
      "See the caveats in the documentation: http://pandas.pydata.org/pandas-docs/stable/indexing.html#indexing-view-versus-copy\n",
      "  app.launch_new_instance()\n",
      "C:\\Users\\Dirk\\Anaconda3\\lib\\site-packages\\ipykernel\\__main__.py:4: SettingWithCopyWarning: \n",
      "A value is trying to be set on a copy of a slice from a DataFrame.\n",
      "Try using .loc[row_indexer,col_indexer] = value instead\n",
      "\n",
      "See the caveats in the documentation: http://pandas.pydata.org/pandas-docs/stable/indexing.html#indexing-view-versus-copy\n",
      "C:\\Users\\Dirk\\Anaconda3\\lib\\site-packages\\ipykernel\\__main__.py:9: FutureWarning: by argument to sort_index is deprecated, pls use .sort_values(by=...)\n"
     ]
    },
    {
     "data": {
      "text/html": [
       "<div>\n",
       "<table border=\"1\" class=\"dataframe\">\n",
       "  <thead>\n",
       "    <tr style=\"text-align: right;\">\n",
       "      <th></th>\n",
       "      <th>objID</th>\n",
       "      <th>Prozent</th>\n",
       "    </tr>\n",
       "    <tr>\n",
       "      <th>Form_Rand</th>\n",
       "      <th></th>\n",
       "      <th></th>\n",
       "    </tr>\n",
       "  </thead>\n",
       "  <tbody>\n",
       "    <tr>\n",
       "      <th>B1.1</th>\n",
       "      <td>6</td>\n",
       "      <td>37.50</td>\n",
       "    </tr>\n",
       "    <tr>\n",
       "      <th>B2.1</th>\n",
       "      <td>6</td>\n",
       "      <td>37.50</td>\n",
       "    </tr>\n",
       "    <tr>\n",
       "      <th>A2.1</th>\n",
       "      <td>1</td>\n",
       "      <td>6.25</td>\n",
       "    </tr>\n",
       "    <tr>\n",
       "      <th>B1</th>\n",
       "      <td>1</td>\n",
       "      <td>6.25</td>\n",
       "    </tr>\n",
       "    <tr>\n",
       "      <th>B2</th>\n",
       "      <td>1</td>\n",
       "      <td>6.25</td>\n",
       "    </tr>\n",
       "  </tbody>\n",
       "</table>\n",
       "</div>"
      ],
      "text/plain": [
       "           objID  Prozent\n",
       "Form_Rand                \n",
       "B1.1           6    37.50\n",
       "B2.1           6    37.50\n",
       "A2.1           1     6.25\n",
       "B1             1     6.25\n",
       "B2             1     6.25"
      ]
     },
     "metadata": {},
     "output_type": "display_data"
    }
   ],
   "source": [
    "# Fragezeichen löschen\n",
    "df1 = df.dropna(subset = ['Form_Rand'])\n",
    "df1['Form_Rand'] = df1['Form_Rand'].map(lambda x: x.rstrip(' (?)'))\n",
    "df1['Form_Rand'] = df1['Form_Rand'].apply(lambda x: x.split('/')[0])\n",
    "\n",
    "df_pivot = df1.pivot_table(values = 'objID', index = 'Form_Rand', aggfunc = len)\n",
    "df_pivot = pd.DataFrame(df_pivot)\n",
    "# Sortierung in Aufsteigend ändern\n",
    "df_pivot = df_pivot.sort_index(by = ['objID'], ascending=False)\n",
    "# Prozent-Anteil errechnen\n",
    "df_pivot['Prozent'] = df_pivot['objID']/df_pivot['objID'].sum()*100\n",
    "display(df_pivot.head())"
   ]
  },
  {
   "cell_type": "code",
   "execution_count": 110,
   "metadata": {
    "scrolled": true
   },
   "outputs": [
    {
     "data": {
      "text/plain": [
       "<matplotlib.text.Text at 0xeffcb18b00>"
      ]
     },
     "execution_count": 110,
     "metadata": {},
     "output_type": "execute_result"
    },
    {
     "data": {
      "image/png": "[encoded data removed]",
      "text/plain": [
       "<matplotlib.figure.Figure at 0xeffcb6c240>"
      ]
     },
     "metadata": {},
     "output_type": "display_data"
    }
   ],
   "source": [
    "fig = plt.figure()\n",
    "fig.set_size_inches(5, 5)\n",
    "df_pivot['objID'].plot(kind='pie', autopct='%.0f %%', cmap = 'Paired')\n",
    "plt.ylabel('')"
   ]
  },
  {
   "cell_type": "code",
   "execution_count": 111,
   "metadata": {},
   "outputs": [
    {
     "name": "stderr",
     "output_type": "stream",
     "text": [
      "C:\\Users\\Dirk\\Anaconda3\\lib\\site-packages\\ipykernel\\__main__.py:2: SettingWithCopyWarning: \n",
      "A value is trying to be set on a copy of a slice from a DataFrame.\n",
      "Try using .loc[row_indexer,col_indexer] = value instead\n",
      "\n",
      "See the caveats in the documentation: http://pandas.pydata.org/pandas-docs/stable/indexing.html#indexing-view-versus-copy\n",
      "  from ipykernel import kernelapp as app\n"
     ]
    },
    {
     "data": {
      "text/plain": [
       "<matplotlib.text.Text at 0xeffc9b2080>"
      ]
     },
     "execution_count": 111,
     "metadata": {},
     "output_type": "execute_result"
    },
    {
     "data": {
      "image/png": "[encoded data removed]",
      "text/plain": [
       "<matplotlib.figure.Figure at 0xeffcb517b8>"
      ]
     },
     "metadata": {},
     "output_type": "display_data"
    }
   ],
   "source": [
    "a = df.dropna(subset = ['Form_Hals'])\n",
    "a['Form_Hals'] = a['Form_Hals'].map(lambda x: str(x)[:2])\n",
    "\n",
    "df_pivot = a.pivot_table(values = 'objID', index = 'Form_Hals', aggfunc = len)\n",
    "fig = plt.figure()\n",
    "fig.set_size_inches(5, 5)\n",
    "df_pivot.plot(kind='pie', autopct='%.0f %%', cmap = 'Paired')\n",
    "plt.title(\"Hals\")"
   ]
  },
  {
   "cell_type": "code",
   "execution_count": 112,
   "metadata": {},
   "outputs": [
    {
     "name": "stderr",
     "output_type": "stream",
     "text": [
      "C:\\Users\\Dirk\\Anaconda3\\lib\\site-packages\\ipykernel\\__main__.py:2: SettingWithCopyWarning: \n",
      "A value is trying to be set on a copy of a slice from a DataFrame.\n",
      "Try using .loc[row_indexer,col_indexer] = value instead\n",
      "\n",
      "See the caveats in the documentation: http://pandas.pydata.org/pandas-docs/stable/indexing.html#indexing-view-versus-copy\n",
      "  from ipykernel import kernelapp as app\n"
     ]
    },
    {
     "data": {
      "text/plain": [
       "<matplotlib.text.Text at 0xeffc1ff908>"
      ]
     },
     "execution_count": 112,
     "metadata": {},
     "output_type": "execute_result"
    },
    {
     "data": {
      "image/png": "[encoded data removed]",
      "text/plain": [
       "<matplotlib.figure.Figure at 0xeffc0a72b0>"
      ]
     },
     "metadata": {},
     "output_type": "display_data"
    }
   ],
   "source": [
    "b = df.dropna(subset = ['Form_Schulter'])\n",
    "b['Form_Schulter'] = b['Form_Schulter'].map(lambda x: str(x)[:2])\n",
    "\n",
    "df_pivot = b.pivot_table(values = 'objID', index = 'Form_Schulter', aggfunc = len)\n",
    "fig = plt.figure()\n",
    "fig.set_size_inches(5, 5)\n",
    "df_pivot.plot(kind='pie', autopct='%.0f %%', cmap = 'Paired')\n",
    "plt.title(\"Schulter\")"
   ]
  },
  {
   "cell_type": "markdown",
   "metadata": {},
   "source": [
    "## Boden"
   ]
  },
  {
   "cell_type": "code",
   "execution_count": 113,
   "metadata": {},
   "outputs": [
    {
     "data": {
      "text/html": [
       "<div>\n",
       "<table border=\"1\" class=\"dataframe\">\n",
       "  <thead>\n",
       "    <tr style=\"text-align: right;\">\n",
       "      <th></th>\n",
       "      <th>ort_kurz</th>\n",
       "      <th>ort_name</th>\n",
       "      <th>objID</th>\n",
       "      <th>Typ</th>\n",
       "      <th>Form_Gef</th>\n",
       "      <th>Form_Boden</th>\n",
       "      <th>Anzahl</th>\n",
       "    </tr>\n",
       "  </thead>\n",
       "  <tbody>\n",
       "  </tbody>\n",
       "</table>\n",
       "</div>"
      ],
      "text/plain": [
       "Empty DataFrame\n",
       "Columns: [ort_kurz, ort_name, objID, Typ, Form_Gef, Form_Boden, Anzahl]\n",
       "Index: []"
      ]
     },
     "execution_count": 113,
     "metadata": {},
     "output_type": "execute_result"
    }
   ],
   "source": [
    "sql = \"\"\"SELECT\n",
    "           t_Ort.ort_kurz,\n",
    "           t_Ort.ort_name,\n",
    "           t_Obj.objID,\n",
    "           t_Obj.Typ,\n",
    "           t_Obj.Form_Gef,\n",
    "           t_Obj.Form_Boden,\n",
    "           t_Obj.Anzahl\n",
    "       FROM (t_Ort INNER JOIN t_Komplex ON t_Ort.ortID = t_Komplex.ortID)\n",
    "           INNER JOIN t_Obj ON t_Komplex.komplexID = t_Obj.komplexID\n",
    "       WHERE (((t_Ort.ort_lit)='DS')\n",
    "           AND ((t_Obj.Typ) Like '%\"\"\"+style+\"\"\"%')\n",
    "           AND ((t_Obj.Form_Boden) != ''))\"\"\".replace('\\n',' ')\n",
    "\n",
    "df = pd.read_sql(sql, con)\n",
    "df"
   ]
  },
  {
   "cell_type": "code",
   "execution_count": 114,
   "metadata": {},
   "outputs": [
    {
     "data": {
      "text/plain": [
       "0"
      ]
     },
     "execution_count": 114,
     "metadata": {},
     "output_type": "execute_result"
    }
   ],
   "source": [
    "len(df['Form_Boden'])"
   ]
  },
  {
   "cell_type": "markdown",
   "metadata": {},
   "source": [
    "## Verzierungen"
   ]
  },
  {
   "cell_type": "code",
   "execution_count": 2,
   "metadata": {},
   "outputs": [
    {
     "name": "stderr",
     "output_type": "stream",
     "text": [
      "C:\\Users\\Dirk\\Dropbox\\Dissertation\\Python\\myfunctions.py:66: SettingWithCopyWarning: \n",
      "A value is trying to be set on a copy of a slice from a DataFrame.\n",
      "Try using .loc[row_indexer,col_indexer] = value instead\n",
      "\n",
      "See the caveats in the documentation: http://pandas.pydata.org/pandas-docs/stable/indexing.html#indexing-view-versus-copy\n",
      "  df1['n'] = 1\n",
      "C:\\Users\\Dirk\\Dropbox\\Dissertation\\Python\\myfunctions.py:88: FutureWarning: convert_objects is deprecated.  Use the data-type specific converters pd.to_datetime, pd.to_timedelta and pd.to_numeric.\n",
      "  ab[1] = ab[1].convert_objects(convert_numeric=True)\n"
     ]
    }
   ],
   "source": [
    "(df_pivotBig_perc, df_pivotBig_perc_a, new_cmap) = decoration_positon_matrices_print(style)"
   ]
  },
  {
   "cell_type": "code",
   "execution_count": 3,
   "metadata": {},
   "outputs": [
    {
     "data": {
      "image/png": "[encoded data removed]",
      "text/plain": [
       "<matplotlib.figure.Figure at 0x215cb305780>"
      ]
     },
     "metadata": {},
     "output_type": "display_data"
    }
   ],
   "source": [
    "fig = plt.figure()\n",
    "fig.set_size_inches(25, 15)\n",
    "\n",
    "ax = plt.gca()\n",
    "im = ax.imshow(df_pivotBig_perc, interpolation='nearest', cmap=parula_map, alpha=.66)\n",
    "\n",
    "plt.xlabel('Verzierungselemente (Schlüssel)')\n",
    "plt.yticks(range(len(df_pivotBig_perc.index)), df_pivotBig_perc.index.str[2:])\n",
    "plt.xticks(range(len(df_pivotBig_perc.columns)), df_pivotBig_perc.columns, rotation = -45)\n",
    "\n",
    "for (i, j), z in np.ndenumerate(df_pivotBig_perc_a):\n",
    "    plt.text(j, i, z, ha='center', va='center')\n",
    "    \n",
    "plt.axvline(10.5, color='grey', linestyle = '--')\n",
    "plt.axvline(17.5, color='grey', linestyle = '--')\n",
    "plt.axvline(18.5, color='grey', linestyle = '--')\n",
    "plt.axvline(20.5, color='grey', linestyle = '--')\n",
    "plt.axvline(43.5, color='grey', linestyle = '--')\n",
    "plt.axvline(44.5, color='grey', linestyle = '--')\n",
    "plt.axvline(57.5, color='grey', linestyle = '--')\n",
    "plt.axvline(61.5, color='grey', linestyle = '--')\n",
    "plt.axvline(70.5, color='grey', linestyle = '--')\n",
    "\n",
    "divider = make_axes_locatable(ax)\n",
    "cax = divider.append_axes(\"right\", size=\"1%\", pad=0.2)\n",
    "cbar = plt.colorbar(im, cax=cax)\n",
    "cbar.set_label('Anteil (%)', rotation = -90, labelpad = 15)\n",
    "\n",
    "plt.tight_layout()\n",
    "\n",
    "plt.savefig('../output/figs/3-2-1-3_Mbandaka_VerzierungselmenteAlle.pdf', bbox_inches='tight')\n",
    "plt.show()"
   ]
  },
  {
   "cell_type": "code",
   "execution_count": 38,
   "metadata": {},
   "outputs": [
    {
     "data": {
      "text/html": [
       "<div>\n",
       "<table border=\"1\" class=\"dataframe\">\n",
       "  <thead>\n",
       "    <tr style=\"text-align: right;\">\n",
       "      <th></th>\n",
       "      <th>Anzahl</th>\n",
       "      <th>Prozent</th>\n",
       "    </tr>\n",
       "  </thead>\n",
       "  <tbody>\n",
       "    <tr>\n",
       "      <th>unverziert</th>\n",
       "      <td>5</td>\n",
       "      <td>13.888889</td>\n",
       "    </tr>\n",
       "    <tr>\n",
       "      <th>verziert</th>\n",
       "      <td>31</td>\n",
       "      <td>86.111111</td>\n",
       "    </tr>\n",
       "  </tbody>\n",
       "</table>\n",
       "</div>"
      ],
      "text/plain": [
       "            Anzahl    Prozent\n",
       "unverziert       5  13.888889\n",
       "verziert        31  86.111111"
      ]
     },
     "execution_count": 38,
     "metadata": {},
     "output_type": "execute_result"
    }
   ],
   "source": [
    "sql = \"\"\"SELECT\n",
    "            t_Obj.objID,\n",
    "            t_Obj.Anzahl,\n",
    "            t_K_Verz.verzName,\n",
    "            [t_K_Pos].[posReihe] || ' ' || [posName] AS pos,\n",
    "            [t_Obj].[Verz_PosUnbekannt] || '/' || [t_Obj].[Verz_Innen_Rand/Hals/berteil] || '/' || [t_Obj].[Ver_Rand] || '/' || [t_Obj].[Verz_Oberteil] || '/' || [t_Obj].[Verz_Hals] || '/' || [t_Obj].[Verz_Schulter] || '/' || [t_Obj].[Verz_Bauch] || '/' || [t_Obj].[Verz_Unterteil] || '/' || [t_Obj].[Verz_Bodenansatz] || '/' || [t_Obj].[Ver_Standfl] AS ObjVerz\n",
    "        FROM t_Komplex INNER JOIN t_Obj ON t_Komplex.komplexID = t_Obj.komplexID\n",
    "            INNER JOIN t_Ort ON t_Ort.ortID = t_Komplex.ortID\n",
    "            LEFT JOIN \"t_ObjPosVerz\" ON t_Obj.objID = \"t_ObjPosVerz\".objID\n",
    "            LEFT JOIN t_K_Pos ON t_K_Pos.posID = \"t_ObjPosVerz\".posID\n",
    "            LEFT JOIN t_K_Verz ON t_K_Verz.verzID = \"t_ObjPosVerz\".verzID\n",
    "        WHERE (((t_Obj.Typ) Like '%\"\"\"+style+\"\"\"%'))\"\"\".replace('\\n',' ')\n",
    "\n",
    "df = pd.read_sql(sql, con)\n",
    "df['pos'].fillna('unverz', inplace=True)\n",
    "df_pivot = df.pivot_table(values = 'Anzahl', index = 'objID', columns = 'pos', aggfunc = len)\n",
    "\n",
    "a = pd.Series({'unverziert':len(df_pivot.loc[df_pivot['unverz'] == 1]),\n",
    "               'verziert':len(df_pivot.loc[df_pivot['unverz'] != 1])})\n",
    "a = pd.DataFrame(a)\n",
    "a = a.rename(columns={0:'Anzahl'})\n",
    "a['Prozent'] = a['Anzahl']/a['Anzahl'].sum()*100\n",
    "a"
   ]
  },
  {
   "cell_type": "code",
   "execution_count": 117,
   "metadata": {},
   "outputs": [
    {
     "name": "stderr",
     "output_type": "stream",
     "text": [
      "C:\\Users\\Dirk\\Anaconda3\\lib\\site-packages\\ipykernel\\__main__.py:23: FutureWarning: by argument to sort_index is deprecated, pls use .sort_values(by=...)\n"
     ]
    }
   ],
   "source": [
    "sql = \"\"\"SELECT\n",
    "           t_Obj.objID,\n",
    "           t_K_Pos.posID,\n",
    "           t_K_Verz.verzID,\n",
    "           [t_K_Pos].[posReihe] || ' ' || [posName] AS pos,\n",
    "           t_K_Verz.verzName,\n",
    "           t_K_Verz.verzBeschr,\n",
    "           t_Obj.Typ,\n",
    "           t_Obj.Form_Gef\n",
    "       FROM t_Obj INNER JOIN \"t_ObjPosVerz\" ON t_Obj.objID = \"t_ObjPosVerz\".objID\n",
    "           INNER JOIN t_K_Pos ON \"t_ObjPosVerz\".posID = t_K_Pos.posID\n",
    "           INNER JOIN t_K_Verz ON \"t_ObjPosVerz\".verzID = t_K_Verz.verzID\n",
    "       WHERE (((t_K_Pos.posID)<>1)\n",
    "           AND ((t_K_Verz.verzName) != '')\n",
    "           AND ((t_Obj.Typ) Like '%\"\"\"+style+\"\"\"%'))\"\"\".replace('\\n',' ')\n",
    "\n",
    "df = pd.read_sql(sql, con)\n",
    "#display(df.head())\n",
    "\n",
    "df_pivot = df.pivot_table(values = 'objID', index = 'verzName', aggfunc = len)\n",
    "df_pivot = pd.DataFrame(df_pivot)\n",
    "# Sortierung in Aufsteigend ändern\n",
    "df_pivot = df_pivot.sort_index(by = ['objID'], ascending = True)"
   ]
  },
  {
   "cell_type": "code",
   "execution_count": 118,
   "metadata": {},
   "outputs": [
    {
     "data": {
      "text/plain": [
       "<matplotlib.text.Text at 0xeffdea0390>"
      ]
     },
     "execution_count": 118,
     "metadata": {},
     "output_type": "execute_result"
    },
    {
     "data": {
      "image/png": "[encoded data removed]",
      "text/plain": [
       "<matplotlib.figure.Figure at 0xeffbfd2f28>"
      ]
     },
     "metadata": {},
     "output_type": "display_data"
    }
   ],
   "source": [
    "fig = plt.figure()\n",
    "fig.set_size_inches(5, 5)\n",
    "df_pivot['objID'].plot(kind='pie', autopct='%.0f %%')\n",
    "plt.ylabel('')"
   ]
  },
  {
   "cell_type": "code",
   "execution_count": 119,
   "metadata": {},
   "outputs": [
    {
     "data": {
      "text/html": [
       "<div>\n",
       "<table border=\"1\" class=\"dataframe\">\n",
       "  <thead>\n",
       "    <tr style=\"text-align: right;\">\n",
       "      <th></th>\n",
       "      <th>0</th>\n",
       "      <th>Prozent</th>\n",
       "    </tr>\n",
       "  </thead>\n",
       "  <tbody>\n",
       "    <tr>\n",
       "      <th>Eindrücke (einzeln)</th>\n",
       "      <td>6</td>\n",
       "      <td>11.111111</td>\n",
       "    </tr>\n",
       "    <tr>\n",
       "      <th>Sonstiges</th>\n",
       "      <td>48</td>\n",
       "      <td>88.888889</td>\n",
       "    </tr>\n",
       "  </tbody>\n",
       "</table>\n",
       "</div>"
      ],
      "text/plain": [
       "                      0    Prozent\n",
       "Eindrücke (einzeln)   6  11.111111\n",
       "Sonstiges            48  88.888889"
      ]
     },
     "execution_count": 119,
     "metadata": {},
     "output_type": "execute_result"
    }
   ],
   "source": [
    "a = pd.Series({'Eindrücke (einzeln)':len(df.loc[df['verzName'].str.contains(\"04.\")].index),\n",
    "               'Sonstiges':len(df.loc[~df['verzName'].str.contains(\"04.\")].index)})\n",
    "a = pd.DataFrame(a)\n",
    "a['Prozent'] = a[0]/a[0].sum()*100\n",
    "a"
   ]
  },
  {
   "cell_type": "code",
   "execution_count": 120,
   "metadata": {},
   "outputs": [
    {
     "data": {
      "text/html": [
       "<div>\n",
       "<table border=\"1\" class=\"dataframe\">\n",
       "  <thead>\n",
       "    <tr style=\"text-align: right;\">\n",
       "      <th></th>\n",
       "      <th>objID</th>\n",
       "      <th>Prozent</th>\n",
       "    </tr>\n",
       "    <tr>\n",
       "      <th>pos</th>\n",
       "      <th></th>\n",
       "      <th></th>\n",
       "    </tr>\n",
       "  </thead>\n",
       "  <tbody>\n",
       "    <tr>\n",
       "      <th>1 Innen</th>\n",
       "      <td>15</td>\n",
       "      <td>27.777778</td>\n",
       "    </tr>\n",
       "    <tr>\n",
       "      <th>2 Rand</th>\n",
       "      <td>2</td>\n",
       "      <td>3.703704</td>\n",
       "    </tr>\n",
       "    <tr>\n",
       "      <th>3 Hals</th>\n",
       "      <td>10</td>\n",
       "      <td>18.518519</td>\n",
       "    </tr>\n",
       "    <tr>\n",
       "      <th>4 Schulter</th>\n",
       "      <td>19</td>\n",
       "      <td>35.185185</td>\n",
       "    </tr>\n",
       "    <tr>\n",
       "      <th>5 Bauch</th>\n",
       "      <td>8</td>\n",
       "      <td>14.814815</td>\n",
       "    </tr>\n",
       "  </tbody>\n",
       "</table>\n",
       "</div>"
      ],
      "text/plain": [
       "            objID    Prozent\n",
       "pos                         \n",
       "1 Innen        15  27.777778\n",
       "2 Rand          2   3.703704\n",
       "3 Hals         10  18.518519\n",
       "4 Schulter     19  35.185185\n",
       "5 Bauch         8  14.814815"
      ]
     },
     "execution_count": 120,
     "metadata": {},
     "output_type": "execute_result"
    }
   ],
   "source": [
    "df_pivot = df.pivot_table(values = 'objID', index = 'pos', aggfunc = len)\n",
    "df_pivot = pd.DataFrame(df_pivot)\n",
    "df_pivot['Prozent'] = df_pivot['objID']/df_pivot['objID'].sum()*100\n",
    "df_pivot"
   ]
  },
  {
   "cell_type": "code",
   "execution_count": 121,
   "metadata": {},
   "outputs": [
    {
     "data": {
      "image/png": "[encoded data removed]",
      "text/plain": [
       "<matplotlib.figure.Figure at 0xeffdeaa198>"
      ]
     },
     "metadata": {},
     "output_type": "display_data"
    }
   ],
   "source": [
    "df_pivot = df_pivot.sort_index(ascending=False)\n",
    "\n",
    "df_pivot.plot(y = 'Prozent', kind = 'barh', legend = None, color = 'grey')\n",
    "plt.xlabel('Anteil [%]')\n",
    "plt.show()"
   ]
  },
  {
   "cell_type": "markdown",
   "metadata": {
    "collapsed": true
   },
   "source": [
    "## Verbreitung"
   ]
  },
  {
   "cell_type": "code",
   "execution_count": 122,
   "metadata": {
    "scrolled": false
   },
   "outputs": [
    {
     "data": {
      "text/html": [
       "<div>\n",
       "<table border=\"1\" class=\"dataframe\">\n",
       "  <thead>\n",
       "    <tr style=\"text-align: right;\">\n",
       "      <th>Typ</th>\n",
       "      <th>Ort</th>\n",
       "      <th>Kat-Nr</th>\n",
       "      <th>X</th>\n",
       "      <th>Y</th>\n",
       "      <th>TYP</th>\n",
       "    </tr>\n",
       "  </thead>\n",
       "  <tbody>\n",
       "    <tr>\n",
       "      <th>10</th>\n",
       "      <td>Zamba (Fpl. 191)</td>\n",
       "      <td>191</td>\n",
       "      <td>17.884584</td>\n",
       "      <td>0.271798</td>\n",
       "      <td>MBA (?)</td>\n",
       "    </tr>\n",
       "    <tr>\n",
       "      <th>2</th>\n",
       "      <td>Bolumbu (Fpl. 194)</td>\n",
       "      <td>194</td>\n",
       "      <td>17.882294</td>\n",
       "      <td>0.677829</td>\n",
       "      <td>MBA (?)</td>\n",
       "    </tr>\n",
       "    <tr>\n",
       "      <th>2</th>\n",
       "      <td>Lukolela (Fpl. 234)</td>\n",
       "      <td>234</td>\n",
       "      <td>17.175593</td>\n",
       "      <td>-1.062185</td>\n",
       "      <td>MBA</td>\n",
       "    </tr>\n",
       "    <tr>\n",
       "      <th>3</th>\n",
       "      <td>Maberu (Fpl. 235)</td>\n",
       "      <td>235</td>\n",
       "      <td>17.257014</td>\n",
       "      <td>-1.069018</td>\n",
       "      <td>MBA</td>\n",
       "    </tr>\n",
       "    <tr>\n",
       "      <th>4</th>\n",
       "      <td>Sungu (Fpl. 236)</td>\n",
       "      <td>236</td>\n",
       "      <td>17.334786</td>\n",
       "      <td>-1.033313</td>\n",
       "      <td>MBA</td>\n",
       "    </tr>\n",
       "    <tr>\n",
       "      <th>1</th>\n",
       "      <td>Gombe (Fpl. 237)</td>\n",
       "      <td>237</td>\n",
       "      <td>17.580406</td>\n",
       "      <td>-0.704069</td>\n",
       "      <td>MBA</td>\n",
       "    </tr>\n",
       "    <tr>\n",
       "      <th>0</th>\n",
       "      <td>Bobusa (Fpl. 239)</td>\n",
       "      <td>239</td>\n",
       "      <td>16.917098</td>\n",
       "      <td>-1.052349</td>\n",
       "      <td>MBA</td>\n",
       "    </tr>\n",
       "    <tr>\n",
       "      <th>8</th>\n",
       "      <td>Sosolo (Fpl. 241)</td>\n",
       "      <td>241</td>\n",
       "      <td>17.128605</td>\n",
       "      <td>-0.892241</td>\n",
       "      <td>MBA (?)</td>\n",
       "    </tr>\n",
       "    <tr>\n",
       "      <th>3</th>\n",
       "      <td>Boyenge (Fpl. 284)</td>\n",
       "      <td>284</td>\n",
       "      <td>17.199855</td>\n",
       "      <td>-0.835253</td>\n",
       "      <td>MBA (?)</td>\n",
       "    </tr>\n",
       "    <tr>\n",
       "      <th>1</th>\n",
       "      <td>Bojenjo (Fpl. 292)</td>\n",
       "      <td>292</td>\n",
       "      <td>17.432057</td>\n",
       "      <td>-0.006791</td>\n",
       "      <td>MBA (?)</td>\n",
       "    </tr>\n",
       "    <tr>\n",
       "      <th>4</th>\n",
       "      <td>Ebambe (Fpl. 297)</td>\n",
       "      <td>297</td>\n",
       "      <td>17.394327</td>\n",
       "      <td>0.289744</td>\n",
       "      <td>MBA (?)</td>\n",
       "    </tr>\n",
       "  </tbody>\n",
       "</table>\n",
       "</div>"
      ],
      "text/plain": [
       "Typ                  Ort Kat-Nr          X         Y      TYP\n",
       "10      Zamba (Fpl. 191)    191  17.884584  0.271798  MBA (?)\n",
       "2     Bolumbu (Fpl. 194)    194  17.882294  0.677829  MBA (?)\n",
       "2    Lukolela (Fpl. 234)    234  17.175593 -1.062185      MBA\n",
       "3      Maberu (Fpl. 235)    235  17.257014 -1.069018      MBA\n",
       "4       Sungu (Fpl. 236)    236  17.334786 -1.033313      MBA\n",
       "1       Gombe (Fpl. 237)    237  17.580406 -0.704069      MBA\n",
       "0      Bobusa (Fpl. 239)    239  16.917098 -1.052349      MBA\n",
       "8      Sosolo (Fpl. 241)    241  17.128605 -0.892241  MBA (?)\n",
       "3     Boyenge (Fpl. 284)    284  17.199855 -0.835253  MBA (?)\n",
       "1     Bojenjo (Fpl. 292)    292  17.432057 -0.006791  MBA (?)\n",
       "4      Ebambe (Fpl. 297)    297  17.394327  0.289744  MBA (?)"
      ]
     },
     "execution_count": 122,
     "metadata": {},
     "output_type": "execute_result"
    }
   ],
   "source": [
    "df = style_mapping_gis_export(style)\n",
    "df.sort_values(['Kat-Nr'])"
   ]
  },
  {
   "cell_type": "code",
   "execution_count": 123,
   "metadata": {
    "collapsed": true
   },
   "outputs": [],
   "source": [
    "df.to_csv(\"../data/processed/3-2-1-3_MBA_Verbreitung.csv\", index = False)"
   ]
  },
  {
   "cell_type": "code",
   "execution_count": 124,
   "metadata": {},
   "outputs": [
    {
     "data": {
      "text/plain": [
       "11"
      ]
     },
     "execution_count": 124,
     "metadata": {},
     "output_type": "execute_result"
    }
   ],
   "source": [
    "len(df)"
   ]
  },
  {
   "cell_type": "markdown",
   "metadata": {
    "collapsed": true
   },
   "source": [
    "## Tafeln"
   ]
  },
  {
   "cell_type": "code",
   "execution_count": 125,
   "metadata": {
    "collapsed": true
   },
   "outputs": [],
   "source": [
    "# damit alle Zeilen angezeigt werden:\n",
    "pd.set_option('display.max_rows', None)"
   ]
  },
  {
   "cell_type": "code",
   "execution_count": 126,
   "metadata": {
    "scrolled": false
   },
   "outputs": [
    {
     "data": {
      "text/html": [
       "<div>\n",
       "<table border=\"1\" class=\"dataframe\">\n",
       "  <thead>\n",
       "    <tr style=\"text-align: right;\">\n",
       "      <th></th>\n",
       "      <th>TAF</th>\n",
       "      <th>OBJ</th>\n",
       "      <th>SITE</th>\n",
       "      <th>FEAT</th>\n",
       "      <th>NOTE</th>\n",
       "      <th>IND</th>\n",
       "      <th>Typ</th>\n",
       "      <th>Form_Gef</th>\n",
       "      <th>Form_Rand</th>\n",
       "      <th>Form_Boden</th>\n",
       "    </tr>\n",
       "  </thead>\n",
       "  <tbody>\n",
       "    <tr>\n",
       "      <th>0</th>\n",
       "      <td>3</td>\n",
       "      <td>7</td>\n",
       "      <td>ZAM</td>\n",
       "      <td>85/101</td>\n",
       "      <td>NaN</td>\n",
       "      <td>14</td>\n",
       "      <td>MBA (?)</td>\n",
       "      <td>C2 (?)</td>\n",
       "      <td>None</td>\n",
       "      <td>None</td>\n",
       "    </tr>\n",
       "    <tr>\n",
       "      <th>1</th>\n",
       "      <td>4</td>\n",
       "      <td>6</td>\n",
       "      <td>BLU</td>\n",
       "      <td>85/101</td>\n",
       "      <td>NaN</td>\n",
       "      <td>25</td>\n",
       "      <td>MBA (?)</td>\n",
       "      <td>B1 (?)</td>\n",
       "      <td>None</td>\n",
       "      <td>None</td>\n",
       "    </tr>\n",
       "    <tr>\n",
       "      <th>2</th>\n",
       "      <td>28</td>\n",
       "      <td>4</td>\n",
       "      <td>MBR</td>\n",
       "      <td>87/101</td>\n",
       "      <td>NaN</td>\n",
       "      <td>131</td>\n",
       "      <td>MBA</td>\n",
       "      <td>D2</td>\n",
       "      <td>B1/B2</td>\n",
       "      <td>None</td>\n",
       "    </tr>\n",
       "    <tr>\n",
       "      <th>3</th>\n",
       "      <td>28</td>\n",
       "      <td>10</td>\n",
       "      <td>MBR</td>\n",
       "      <td>87/101</td>\n",
       "      <td>NaN</td>\n",
       "      <td>16</td>\n",
       "      <td>MBA</td>\n",
       "      <td>D2</td>\n",
       "      <td>B1.1/B2.1</td>\n",
       "      <td>None</td>\n",
       "    </tr>\n",
       "    <tr>\n",
       "      <th>4</th>\n",
       "      <td>28</td>\n",
       "      <td>12</td>\n",
       "      <td>MBR</td>\n",
       "      <td>87/101</td>\n",
       "      <td>NaN</td>\n",
       "      <td>109</td>\n",
       "      <td>MBA (?)</td>\n",
       "      <td>D2 (?)</td>\n",
       "      <td>B2.1 (?)</td>\n",
       "      <td>None</td>\n",
       "    </tr>\n",
       "    <tr>\n",
       "      <th>5</th>\n",
       "      <td>30</td>\n",
       "      <td>3</td>\n",
       "      <td>MBR</td>\n",
       "      <td>87/101</td>\n",
       "      <td>NaN</td>\n",
       "      <td>95</td>\n",
       "      <td>MBA</td>\n",
       "      <td>B4 (?)</td>\n",
       "      <td>None</td>\n",
       "      <td>None</td>\n",
       "    </tr>\n",
       "    <tr>\n",
       "      <th>6</th>\n",
       "      <td>31</td>\n",
       "      <td>8</td>\n",
       "      <td>MBR</td>\n",
       "      <td>87/101</td>\n",
       "      <td>NaN</td>\n",
       "      <td>116</td>\n",
       "      <td>BDG/MBA (?)</td>\n",
       "      <td>None</td>\n",
       "      <td>None</td>\n",
       "      <td>None</td>\n",
       "    </tr>\n",
       "    <tr>\n",
       "      <th>7</th>\n",
       "      <td>31</td>\n",
       "      <td>11</td>\n",
       "      <td>MBR</td>\n",
       "      <td>87/101</td>\n",
       "      <td>NaN</td>\n",
       "      <td>52</td>\n",
       "      <td>BDG/MBA (?)</td>\n",
       "      <td>None</td>\n",
       "      <td>None</td>\n",
       "      <td>None</td>\n",
       "    </tr>\n",
       "    <tr>\n",
       "      <th>8</th>\n",
       "      <td>32</td>\n",
       "      <td>4</td>\n",
       "      <td>SUN</td>\n",
       "      <td>87/101</td>\n",
       "      <td>NaN</td>\n",
       "      <td>7</td>\n",
       "      <td>MBA</td>\n",
       "      <td>D2</td>\n",
       "      <td>B1.1</td>\n",
       "      <td>None</td>\n",
       "    </tr>\n",
       "    <tr>\n",
       "      <th>9</th>\n",
       "      <td>32</td>\n",
       "      <td>5</td>\n",
       "      <td>SUN</td>\n",
       "      <td>87/101</td>\n",
       "      <td>NaN</td>\n",
       "      <td>11</td>\n",
       "      <td>MBA (?)</td>\n",
       "      <td>D2</td>\n",
       "      <td>B2</td>\n",
       "      <td>None</td>\n",
       "    </tr>\n",
       "    <tr>\n",
       "      <th>10</th>\n",
       "      <td>32</td>\n",
       "      <td>6</td>\n",
       "      <td>SUN</td>\n",
       "      <td>87/101</td>\n",
       "      <td>NaN</td>\n",
       "      <td>5, 10, 66</td>\n",
       "      <td>MBA</td>\n",
       "      <td>D2</td>\n",
       "      <td>B2.1</td>\n",
       "      <td>None</td>\n",
       "    </tr>\n",
       "    <tr>\n",
       "      <th>11</th>\n",
       "      <td>32</td>\n",
       "      <td>8</td>\n",
       "      <td>SUN</td>\n",
       "      <td>87/101</td>\n",
       "      <td>NaN</td>\n",
       "      <td>64</td>\n",
       "      <td>MBA (?)</td>\n",
       "      <td>D2</td>\n",
       "      <td>B1.1</td>\n",
       "      <td>None</td>\n",
       "    </tr>\n",
       "    <tr>\n",
       "      <th>12</th>\n",
       "      <td>32</td>\n",
       "      <td>9</td>\n",
       "      <td>SUN</td>\n",
       "      <td>87/101</td>\n",
       "      <td>NaN</td>\n",
       "      <td>14</td>\n",
       "      <td>MBA</td>\n",
       "      <td>D2</td>\n",
       "      <td>None</td>\n",
       "      <td>None</td>\n",
       "    </tr>\n",
       "    <tr>\n",
       "      <th>13</th>\n",
       "      <td>32</td>\n",
       "      <td>10</td>\n",
       "      <td>SUN</td>\n",
       "      <td>87/101</td>\n",
       "      <td>NaN</td>\n",
       "      <td>69</td>\n",
       "      <td>MBA (?)</td>\n",
       "      <td>D2 (?)</td>\n",
       "      <td>B1.1</td>\n",
       "      <td>None</td>\n",
       "    </tr>\n",
       "    <tr>\n",
       "      <th>14</th>\n",
       "      <td>32</td>\n",
       "      <td>11</td>\n",
       "      <td>SUN</td>\n",
       "      <td>87/101</td>\n",
       "      <td>28</td>\n",
       "      <td>28, 80, 83</td>\n",
       "      <td>MBA (?)</td>\n",
       "      <td>D2</td>\n",
       "      <td>None</td>\n",
       "      <td>None</td>\n",
       "    </tr>\n",
       "    <tr>\n",
       "      <th>15</th>\n",
       "      <td>32</td>\n",
       "      <td>16</td>\n",
       "      <td>SUN</td>\n",
       "      <td>87/101</td>\n",
       "      <td>NaN</td>\n",
       "      <td>47</td>\n",
       "      <td>MBA (?)</td>\n",
       "      <td>None</td>\n",
       "      <td>None</td>\n",
       "      <td>None</td>\n",
       "    </tr>\n",
       "    <tr>\n",
       "      <th>16</th>\n",
       "      <td>33</td>\n",
       "      <td>1</td>\n",
       "      <td>GMB</td>\n",
       "      <td>87/101</td>\n",
       "      <td>NaN</td>\n",
       "      <td>18</td>\n",
       "      <td>MBA</td>\n",
       "      <td>D2</td>\n",
       "      <td>B2.1</td>\n",
       "      <td>None</td>\n",
       "    </tr>\n",
       "    <tr>\n",
       "      <th>17</th>\n",
       "      <td>33</td>\n",
       "      <td>14</td>\n",
       "      <td>BBS</td>\n",
       "      <td>87/1</td>\n",
       "      <td>-1:12</td>\n",
       "      <td>-1:5-6,10,12-13</td>\n",
       "      <td>MBA</td>\n",
       "      <td>None</td>\n",
       "      <td>C2.2</td>\n",
       "      <td>None</td>\n",
       "    </tr>\n",
       "    <tr>\n",
       "      <th>18</th>\n",
       "      <td>33</td>\n",
       "      <td>15</td>\n",
       "      <td>BBS</td>\n",
       "      <td>87/1</td>\n",
       "      <td>-1:5, 6</td>\n",
       "      <td>-1:5-6,10,12-13</td>\n",
       "      <td>MBA</td>\n",
       "      <td>None</td>\n",
       "      <td>C2.2</td>\n",
       "      <td>None</td>\n",
       "    </tr>\n",
       "  </tbody>\n",
       "</table>\n",
       "</div>"
      ],
      "text/plain": [
       "    TAF  OBJ SITE    FEAT     NOTE              IND          Typ Form_Gef  \\\n",
       "0     3    7  ZAM  85/101      NaN               14      MBA (?)   C2 (?)   \n",
       "1     4    6  BLU  85/101      NaN               25      MBA (?)   B1 (?)   \n",
       "2    28    4  MBR  87/101      NaN              131          MBA       D2   \n",
       "3    28   10  MBR  87/101      NaN               16          MBA       D2   \n",
       "4    28   12  MBR  87/101      NaN              109      MBA (?)   D2 (?)   \n",
       "5    30    3  MBR  87/101      NaN               95          MBA   B4 (?)   \n",
       "6    31    8  MBR  87/101      NaN              116  BDG/MBA (?)     None   \n",
       "7    31   11  MBR  87/101      NaN               52  BDG/MBA (?)     None   \n",
       "8    32    4  SUN  87/101      NaN                7          MBA       D2   \n",
       "9    32    5  SUN  87/101      NaN               11      MBA (?)       D2   \n",
       "10   32    6  SUN  87/101      NaN        5, 10, 66          MBA       D2   \n",
       "11   32    8  SUN  87/101      NaN               64      MBA (?)       D2   \n",
       "12   32    9  SUN  87/101      NaN               14          MBA       D2   \n",
       "13   32   10  SUN  87/101      NaN               69      MBA (?)   D2 (?)   \n",
       "14   32   11  SUN  87/101       28       28, 80, 83      MBA (?)       D2   \n",
       "15   32   16  SUN  87/101      NaN               47      MBA (?)     None   \n",
       "16   33    1  GMB  87/101      NaN               18          MBA       D2   \n",
       "17   33   14  BBS    87/1    -1:12  -1:5-6,10,12-13          MBA     None   \n",
       "18   33   15  BBS    87/1  -1:5, 6  -1:5-6,10,12-13          MBA     None   \n",
       "\n",
       "    Form_Rand Form_Boden  \n",
       "0        None       None  \n",
       "1        None       None  \n",
       "2       B1/B2       None  \n",
       "3   B1.1/B2.1       None  \n",
       "4    B2.1 (?)       None  \n",
       "5        None       None  \n",
       "6        None       None  \n",
       "7        None       None  \n",
       "8        B1.1       None  \n",
       "9          B2       None  \n",
       "10       B2.1       None  \n",
       "11       B1.1       None  \n",
       "12       None       None  \n",
       "13       B1.1       None  \n",
       "14       None       None  \n",
       "15       None       None  \n",
       "16       B2.1       None  \n",
       "17       C2.2       None  \n",
       "18       C2.2       None  "
      ]
     },
     "execution_count": 126,
     "metadata": {},
     "output_type": "execute_result"
    }
   ],
   "source": [
    "sql = \"\"\"SELECT\n",
    "           t_Ort.ort_kurz AS SITE,\n",
    "           t_Komplex.bef_nr AS FEAT,\n",
    "           t_Obj.Individuum AS IND,\n",
    "           t_Obj.Typ,\n",
    "           t_Obj.Form_Gef,\n",
    "           t_Obj.Form_Rand,\n",
    "           t_Obj.Form_Boden\n",
    "       FROM (t_Ort INNER JOIN t_Komplex ON t_Ort.ortID = t_Komplex.ortID)\n",
    "           INNER JOIN t_Obj ON t_Komplex.komplexID = t_Obj.komplexID\n",
    "       WHERE (((t_Ort.ort_lit) = 'DS')\n",
    "           AND ((t_Obj.Typ) Like '%\"\"\"+style+\"\"\"%'))\"\"\".replace('\\n',' ')\n",
    "\n",
    "df = pd.read_sql(sql, con)\n",
    "\n",
    "pl = pd.read_csv('../plates/plates.csv')\n",
    "\n",
    "df_merge = pd.merge(pl, df, on=['SITE', 'FEAT', 'IND'], how='inner')\n",
    "df_merge"
   ]
  },
  {
   "cell_type": "code",
   "execution_count": 127,
   "metadata": {},
   "outputs": [
    {
     "data": {
      "text/plain": [
       "30"
      ]
     },
     "execution_count": 127,
     "metadata": {},
     "output_type": "execute_result"
    }
   ],
   "source": [
    "len(df)"
   ]
  },
  {
   "cell_type": "code",
   "execution_count": null,
   "metadata": {
    "collapsed": true
   },
   "outputs": [],
   "source": []
  }
 ],
 "metadata": {
  "anaconda-cloud": {},
  "kernelspec": {
   "display_name": "Python 3",
   "language": "python",
   "name": "python3"
  },
  "language_info": {
   "codemirror_mode": {
    "name": "ipython",
    "version": 3
   },
   "file_extension": ".py",
   "mimetype": "text/x-python",
   "name": "python",
   "nbconvert_exporter": "python",
   "pygments_lexer": "ipython3",
   "version": "3.6.1"
  }
 },
 "nbformat": 4,
 "nbformat_minor": 1
}
