{
 "cells": [
  {
   "cell_type": "markdown",
   "metadata": {},
   "source": [
    "# Pandama-Gruppe"
   ]
  },
  {
   "cell_type": "markdown",
   "metadata": {},
   "source": [
    "* [Funde](#Funde)\n",
    "\t* [Scherbentypen](#Scherbentypen)\n",
    "* [Technologische Merkmale (fabrics)](#Technologische-Merkmale-(fabrics))\n",
    "\t* [Brennfarbe](#Brennfarbe)\n",
    "\t* [Oberfläche der Scherben](#Oberfläche-der-Scherben)\n",
    "\t* [Wandungsdicke](#Wandungsdicke)\n",
    "* Formen\n",
    "\t* [Gefäßformen](#Gefäßformen)\n",
    "\t* [Proportionen](#Proportionen)\n",
    "\t* [Bauchform](#Bauchform)\n",
    "\t* [Mündungs- und Randformen](#Mündungs--und-Randformen)\n",
    "\t* [Bodenformen](#Bodenformen)\n",
    "* [Verzierungen](#Verzierungselemente)\n",
    "* [Verbreitung](#Verbreitung)"
   ]
  },
  {
   "cell_type": "code",
   "execution_count": 1,
   "metadata": {
    "collapsed": true
   },
   "outputs": [],
   "source": [
    "%matplotlib inline\n",
    "from IPython.display import display\n",
    "import pandas as pd\n",
    "import numpy as np\n",
    "import matplotlib.pyplot as plt\n",
    "from mpl_toolkits.axes_grid1 import make_axes_locatable\n",
    "import sqlite3\n",
    "\n",
    "import sys, os\n",
    "sys.path.append(\"/Python\")\n",
    "from myfunctions import *\n",
    "from parula import *\n",
    "\n",
    "style = 'PDM'\n",
    "\n",
    "con = sqlite3.connect(\"../data/CongoDB.sqlite\")"
   ]
  },
  {
   "cell_type": "markdown",
   "metadata": {},
   "source": [
    "## Funde"
   ]
  },
  {
   "cell_type": "code",
   "execution_count": 74,
   "metadata": {
    "collapsed": true
   },
   "outputs": [],
   "source": [
    "sql = \"\"\"SELECT\n",
    "           t_Obj.objID,\n",
    "           t_Ort.ort_kurz,\n",
    "           't_Ort'.'ort_name' || ' (Fpl. ' || 't_ort'.'Kat-Nr' || ')' AS Ort,\n",
    "           t_Komplex.bef_nr,\n",
    "           t_komplex.bef_art,\n",
    "           t_Ort.ort_fluss,\n",
    "           t_Obj.GefEinheit AS GE,\n",
    "           t_Obj.Scherbe,\n",
    "           t_Obj.Gewicht,\n",
    "           t_Obj.Anzahl,\n",
    "           t_Obj.Typ\n",
    "       FROM (t_Ort INNER JOIN t_Komplex ON t_Ort.ortID = t_Komplex.ortID)\n",
    "           INNER JOIN t_Obj ON t_Komplex.komplexID = t_Obj.komplexID\n",
    "       WHERE (((t_Ort.ort_lit)='DS')\n",
    "           AND ((t_Obj.Typ) Like '%\"\"\"+style+\"\"\"%')\n",
    "           AND ((t_Obj.Art) = 'K')\n",
    "           AND ((t_Obj.Anzahl) != ''))\"\"\".replace('\\n',' ')\n",
    "# Anzahl != damit fotografierte Gefäße nicht mit dabei ist\n",
    "\n",
    "df = pd.read_sql(sql, con)\n",
    "# display(df.head())\n",
    "df3 = df"
   ]
  },
  {
   "cell_type": "code",
   "execution_count": 75,
   "metadata": {},
   "outputs": [
    {
     "data": {
      "text/plain": [
       "Typ\n",
       "KON/PDM          1.0\n",
       "KON/PDM (?)      3.0\n",
       "MBJ/PDM (?)     21.0\n",
       "MDB/PDM (?)     10.0\n",
       "PDM             74.0\n",
       "PDM (?)        102.0\n",
       "PDM/KON (?)      3.0\n",
       "PDM/MBJ          3.0\n",
       "PDM/MBJ (?)      6.0\n",
       "PDM/MDB (?)      3.0\n",
       "All            226.0\n",
       "Name: objID, dtype: float64"
      ]
     },
     "execution_count": 75,
     "metadata": {},
     "output_type": "execute_result"
    }
   ],
   "source": [
    "df.pivot_table(values = 'objID', index = 'Typ', aggfunc = len, margins = True)"
   ]
  },
  {
   "cell_type": "code",
   "execution_count": 76,
   "metadata": {},
   "outputs": [
    {
     "data": {
      "text/html": [
       "<div>\n",
       "<table border=\"1\" class=\"dataframe\">\n",
       "  <thead>\n",
       "    <tr style=\"text-align: right;\">\n",
       "      <th></th>\n",
       "      <th>0</th>\n",
       "      <th>Prozent</th>\n",
       "    </tr>\n",
       "  </thead>\n",
       "  <tbody>\n",
       "    <tr>\n",
       "      <th>fraglich</th>\n",
       "      <td>152</td>\n",
       "      <td>67.256637</td>\n",
       "    </tr>\n",
       "    <tr>\n",
       "      <th>sicher</th>\n",
       "      <td>74</td>\n",
       "      <td>32.743363</td>\n",
       "    </tr>\n",
       "  </tbody>\n",
       "</table>\n",
       "</div>"
      ],
      "text/plain": [
       "            0    Prozent\n",
       "fraglich  152  67.256637\n",
       "sicher     74  32.743363"
      ]
     },
     "execution_count": 76,
     "metadata": {},
     "output_type": "execute_result"
    }
   ],
   "source": [
    "a = pd.Series({'sicher':len(df.loc[~df['Typ'].str.contains(\"/| \")].index),\n",
    "               'fraglich':len(df.loc[df['Typ'].str.contains(\"/| \")].index)})\n",
    "a = pd.DataFrame(a)\n",
    "a['Prozent'] = a[0]/a[0].sum()*100\n",
    "a"
   ]
  },
  {
   "cell_type": "code",
   "execution_count": 77,
   "metadata": {},
   "outputs": [
    {
     "data": {
      "text/html": [
       "<div>\n",
       "<table border=\"1\" class=\"dataframe\">\n",
       "  <thead>\n",
       "    <tr style=\"text-align: right;\">\n",
       "      <th></th>\n",
       "      <th></th>\n",
       "      <th></th>\n",
       "      <th>Anzahl</th>\n",
       "      <th>Gewicht</th>\n",
       "      <th>%</th>\n",
       "      <th>Gew.-%</th>\n",
       "    </tr>\n",
       "    <tr>\n",
       "      <th>ort_fluss</th>\n",
       "      <th>Ort</th>\n",
       "      <th>bef_nr</th>\n",
       "      <th></th>\n",
       "      <th></th>\n",
       "      <th></th>\n",
       "      <th></th>\n",
       "    </tr>\n",
       "  </thead>\n",
       "  <tbody>\n",
       "    <tr>\n",
       "      <th>Likwala-Esobe</th>\n",
       "      <th>Ngombe (Fpl. 283)</th>\n",
       "      <th>87/101</th>\n",
       "      <td>9</td>\n",
       "      <td>53.0</td>\n",
       "      <td>1.562500</td>\n",
       "      <td>0.547719</td>\n",
       "    </tr>\n",
       "    <tr>\n",
       "      <th rowspan=\"7\" valign=\"top\">Ngoko</th>\n",
       "      <th>Bonga (Fpl. 279)</th>\n",
       "      <th>87/101</th>\n",
       "      <td>2</td>\n",
       "      <td>41.0</td>\n",
       "      <td>0.347222</td>\n",
       "      <td>0.423707</td>\n",
       "    </tr>\n",
       "    <tr>\n",
       "      <th>Mbenja (Fpl. 277)</th>\n",
       "      <th>87/101</th>\n",
       "      <td>3</td>\n",
       "      <td>85.0</td>\n",
       "      <td>0.520833</td>\n",
       "      <td>0.878417</td>\n",
       "    </tr>\n",
       "    <tr>\n",
       "      <th>Ngama (Fpl. 281)</th>\n",
       "      <th>87/101</th>\n",
       "      <td>6</td>\n",
       "      <td>151.0</td>\n",
       "      <td>1.041667</td>\n",
       "      <td>1.560482</td>\n",
       "    </tr>\n",
       "    <tr>\n",
       "      <th>Ngoko Fkm 17 (Elali) (Fpl. 275)</th>\n",
       "      <th>87/101</th>\n",
       "      <td>11</td>\n",
       "      <td>557.0</td>\n",
       "      <td>1.909722</td>\n",
       "      <td>5.756214</td>\n",
       "    </tr>\n",
       "    <tr>\n",
       "      <th rowspan=\"2\" valign=\"top\">Pandama (Fpl. 276)</th>\n",
       "      <th>87/101</th>\n",
       "      <td>57</td>\n",
       "      <td>1783.1</td>\n",
       "      <td>9.895833</td>\n",
       "      <td>18.427117</td>\n",
       "    </tr>\n",
       "    <tr>\n",
       "      <th>87/102</th>\n",
       "      <td>3</td>\n",
       "      <td>95.0</td>\n",
       "      <td>0.520833</td>\n",
       "      <td>0.981760</td>\n",
       "    </tr>\n",
       "    <tr>\n",
       "      <th>Ponga (Fpl. 280)</th>\n",
       "      <th>87/101</th>\n",
       "      <td>1</td>\n",
       "      <td>8.0</td>\n",
       "      <td>0.173611</td>\n",
       "      <td>0.082675</td>\n",
       "    </tr>\n",
       "    <tr>\n",
       "      <th rowspan=\"21\" valign=\"top\">Sangha</th>\n",
       "      <th>Gatongo (Fpl. 266)</th>\n",
       "      <th>87/101</th>\n",
       "      <td>1</td>\n",
       "      <td>6.0</td>\n",
       "      <td>0.173611</td>\n",
       "      <td>0.062006</td>\n",
       "    </tr>\n",
       "    <tr>\n",
       "      <th>Gbagbale (Fpl. 270)</th>\n",
       "      <th>87/101</th>\n",
       "      <td>2</td>\n",
       "      <td>15.0</td>\n",
       "      <td>0.347222</td>\n",
       "      <td>0.155015</td>\n",
       "    </tr>\n",
       "    <tr>\n",
       "      <th>Ifondo (Fpl. 253)</th>\n",
       "      <th>87/101</th>\n",
       "      <td>3</td>\n",
       "      <td>47.0</td>\n",
       "      <td>0.520833</td>\n",
       "      <td>0.485713</td>\n",
       "    </tr>\n",
       "    <tr>\n",
       "      <th>Ikelemba (Fpl. 260)</th>\n",
       "      <th>87/101</th>\n",
       "      <td>14</td>\n",
       "      <td>280.0</td>\n",
       "      <td>2.430556</td>\n",
       "      <td>2.893608</td>\n",
       "    </tr>\n",
       "    <tr>\n",
       "      <th>Itandi (Fpl. 256)</th>\n",
       "      <th>87/101</th>\n",
       "      <td>1</td>\n",
       "      <td>9.0</td>\n",
       "      <td>0.173611</td>\n",
       "      <td>0.093009</td>\n",
       "    </tr>\n",
       "    <tr>\n",
       "      <th>Konda (Fpl. 268)</th>\n",
       "      <th>87/101</th>\n",
       "      <td>19</td>\n",
       "      <td>494.4</td>\n",
       "      <td>3.298611</td>\n",
       "      <td>5.109285</td>\n",
       "    </tr>\n",
       "    <tr>\n",
       "      <th>Leme (Fpl. 269)</th>\n",
       "      <th>87/101</th>\n",
       "      <td>2</td>\n",
       "      <td>1349.0</td>\n",
       "      <td>0.347222</td>\n",
       "      <td>13.940991</td>\n",
       "    </tr>\n",
       "    <tr>\n",
       "      <th>Maboko (Fpl. 267)</th>\n",
       "      <th>87/101</th>\n",
       "      <td>11</td>\n",
       "      <td>308.0</td>\n",
       "      <td>1.909722</td>\n",
       "      <td>3.182969</td>\n",
       "    </tr>\n",
       "    <tr>\n",
       "      <th rowspan=\"2\" valign=\"top\">Mai impembe (Fpl. 271)</th>\n",
       "      <th>87/101</th>\n",
       "      <td>5</td>\n",
       "      <td>93.0</td>\n",
       "      <td>0.868056</td>\n",
       "      <td>0.961091</td>\n",
       "    </tr>\n",
       "    <tr>\n",
       "      <th>87/102</th>\n",
       "      <td>1</td>\n",
       "      <td>13.0</td>\n",
       "      <td>0.173611</td>\n",
       "      <td>0.134346</td>\n",
       "    </tr>\n",
       "    <tr>\n",
       "      <th>Mandombe (Fpl. 259)</th>\n",
       "      <th>87/101</th>\n",
       "      <td>49</td>\n",
       "      <td>784.0</td>\n",
       "      <td>8.506944</td>\n",
       "      <td>8.102103</td>\n",
       "    </tr>\n",
       "    <tr>\n",
       "      <th>Matoto (Fpl. 264)</th>\n",
       "      <th>87/101</th>\n",
       "      <td>9</td>\n",
       "      <td>248.0</td>\n",
       "      <td>1.562500</td>\n",
       "      <td>2.562910</td>\n",
       "    </tr>\n",
       "    <tr>\n",
       "      <th>Molanda (Fpl. 258)</th>\n",
       "      <th>87/101</th>\n",
       "      <td>49</td>\n",
       "      <td>866.0</td>\n",
       "      <td>8.506944</td>\n",
       "      <td>8.949517</td>\n",
       "    </tr>\n",
       "    <tr>\n",
       "      <th>Mosanya (Fpl. 262)</th>\n",
       "      <th>87/101</th>\n",
       "      <td>2</td>\n",
       "      <td>41.0</td>\n",
       "      <td>0.347222</td>\n",
       "      <td>0.423707</td>\n",
       "    </tr>\n",
       "    <tr>\n",
       "      <th>Motoli (Fpl. 261)</th>\n",
       "      <th>87/101</th>\n",
       "      <td>1</td>\n",
       "      <td>18.0</td>\n",
       "      <td>0.173611</td>\n",
       "      <td>0.186018</td>\n",
       "    </tr>\n",
       "    <tr>\n",
       "      <th rowspan=\"2\" valign=\"top\">Ouesso (Fpl. 265)</th>\n",
       "      <th>87/101</th>\n",
       "      <td>20</td>\n",
       "      <td>277.0</td>\n",
       "      <td>3.472222</td>\n",
       "      <td>2.862605</td>\n",
       "    </tr>\n",
       "    <tr>\n",
       "      <th>87/102</th>\n",
       "      <td>2</td>\n",
       "      <td>28.0</td>\n",
       "      <td>0.347222</td>\n",
       "      <td>0.289361</td>\n",
       "    </tr>\n",
       "    <tr>\n",
       "      <th rowspan=\"3\" valign=\"top\">Pikunda (Fpl. 255)</th>\n",
       "      <th>87/1</th>\n",
       "      <td>3</td>\n",
       "      <td>22.0</td>\n",
       "      <td>0.520833</td>\n",
       "      <td>0.227355</td>\n",
       "    </tr>\n",
       "    <tr>\n",
       "      <th>87/101</th>\n",
       "      <td>6</td>\n",
       "      <td>130.0</td>\n",
       "      <td>1.041667</td>\n",
       "      <td>1.343461</td>\n",
       "    </tr>\n",
       "    <tr>\n",
       "      <th>87/2</th>\n",
       "      <td>283</td>\n",
       "      <td>1872.0</td>\n",
       "      <td>49.131944</td>\n",
       "      <td>19.345838</td>\n",
       "    </tr>\n",
       "    <tr>\n",
       "      <th>Sangha Fkm 428 (Fpl. 263)</th>\n",
       "      <th>87/428</th>\n",
       "      <td>1</td>\n",
       "      <td>3.0</td>\n",
       "      <td>0.173611</td>\n",
       "      <td>0.031003</td>\n",
       "    </tr>\n",
       "  </tbody>\n",
       "</table>\n",
       "</div>"
      ],
      "text/plain": [
       "                                                      Anzahl  Gewicht  \\\n",
       "ort_fluss     Ort                             bef_nr                    \n",
       "Likwala-Esobe Ngombe (Fpl. 283)               87/101       9     53.0   \n",
       "Ngoko         Bonga (Fpl. 279)                87/101       2     41.0   \n",
       "              Mbenja (Fpl. 277)               87/101       3     85.0   \n",
       "              Ngama (Fpl. 281)                87/101       6    151.0   \n",
       "              Ngoko Fkm 17 (Elali) (Fpl. 275) 87/101      11    557.0   \n",
       "              Pandama (Fpl. 276)              87/101      57   1783.1   \n",
       "                                              87/102       3     95.0   \n",
       "              Ponga (Fpl. 280)                87/101       1      8.0   \n",
       "Sangha        Gatongo (Fpl. 266)              87/101       1      6.0   \n",
       "              Gbagbale (Fpl. 270)             87/101       2     15.0   \n",
       "              Ifondo (Fpl. 253)               87/101       3     47.0   \n",
       "              Ikelemba (Fpl. 260)             87/101      14    280.0   \n",
       "              Itandi (Fpl. 256)               87/101       1      9.0   \n",
       "              Konda (Fpl. 268)                87/101      19    494.4   \n",
       "              Leme (Fpl. 269)                 87/101       2   1349.0   \n",
       "              Maboko (Fpl. 267)               87/101      11    308.0   \n",
       "              Mai impembe (Fpl. 271)          87/101       5     93.0   \n",
       "                                              87/102       1     13.0   \n",
       "              Mandombe (Fpl. 259)             87/101      49    784.0   \n",
       "              Matoto (Fpl. 264)               87/101       9    248.0   \n",
       "              Molanda (Fpl. 258)              87/101      49    866.0   \n",
       "              Mosanya (Fpl. 262)              87/101       2     41.0   \n",
       "              Motoli (Fpl. 261)               87/101       1     18.0   \n",
       "              Ouesso (Fpl. 265)               87/101      20    277.0   \n",
       "                                              87/102       2     28.0   \n",
       "              Pikunda (Fpl. 255)              87/1         3     22.0   \n",
       "                                              87/101       6    130.0   \n",
       "                                              87/2       283   1872.0   \n",
       "              Sangha Fkm 428 (Fpl. 263)       87/428       1      3.0   \n",
       "\n",
       "                                                              %     Gew.-%  \n",
       "ort_fluss     Ort                             bef_nr                        \n",
       "Likwala-Esobe Ngombe (Fpl. 283)               87/101   1.562500   0.547719  \n",
       "Ngoko         Bonga (Fpl. 279)                87/101   0.347222   0.423707  \n",
       "              Mbenja (Fpl. 277)               87/101   0.520833   0.878417  \n",
       "              Ngama (Fpl. 281)                87/101   1.041667   1.560482  \n",
       "              Ngoko Fkm 17 (Elali) (Fpl. 275) 87/101   1.909722   5.756214  \n",
       "              Pandama (Fpl. 276)              87/101   9.895833  18.427117  \n",
       "                                              87/102   0.520833   0.981760  \n",
       "              Ponga (Fpl. 280)                87/101   0.173611   0.082675  \n",
       "Sangha        Gatongo (Fpl. 266)              87/101   0.173611   0.062006  \n",
       "              Gbagbale (Fpl. 270)             87/101   0.347222   0.155015  \n",
       "              Ifondo (Fpl. 253)               87/101   0.520833   0.485713  \n",
       "              Ikelemba (Fpl. 260)             87/101   2.430556   2.893608  \n",
       "              Itandi (Fpl. 256)               87/101   0.173611   0.093009  \n",
       "              Konda (Fpl. 268)                87/101   3.298611   5.109285  \n",
       "              Leme (Fpl. 269)                 87/101   0.347222  13.940991  \n",
       "              Maboko (Fpl. 267)               87/101   1.909722   3.182969  \n",
       "              Mai impembe (Fpl. 271)          87/101   0.868056   0.961091  \n",
       "                                              87/102   0.173611   0.134346  \n",
       "              Mandombe (Fpl. 259)             87/101   8.506944   8.102103  \n",
       "              Matoto (Fpl. 264)               87/101   1.562500   2.562910  \n",
       "              Molanda (Fpl. 258)              87/101   8.506944   8.949517  \n",
       "              Mosanya (Fpl. 262)              87/101   0.347222   0.423707  \n",
       "              Motoli (Fpl. 261)               87/101   0.173611   0.186018  \n",
       "              Ouesso (Fpl. 265)               87/101   3.472222   2.862605  \n",
       "                                              87/102   0.347222   0.289361  \n",
       "              Pikunda (Fpl. 255)              87/1     0.520833   0.227355  \n",
       "                                              87/101   1.041667   1.343461  \n",
       "                                              87/2    49.131944  19.345838  \n",
       "              Sangha Fkm 428 (Fpl. 263)       87/428   0.173611   0.031003  "
      ]
     },
     "execution_count": 77,
     "metadata": {},
     "output_type": "execute_result"
    }
   ],
   "source": [
    "df_pivot = df.pivot_table(values = ['Anzahl', 'Gewicht'], index = ['ort_fluss', 'Ort', 'bef_nr'], aggfunc = np.sum)\n",
    "df_pivot = pd.DataFrame(df_pivot)\n",
    "df_pivot['%'] = df_pivot['Anzahl']/df_pivot['Anzahl'].sum()*100\n",
    "df_pivot['Gew.-%'] = df_pivot['Gewicht']/df_pivot['Gewicht'].sum()*100\n",
    "df_pivot"
   ]
  },
  {
   "cell_type": "code",
   "execution_count": 78,
   "metadata": {},
   "outputs": [
    {
     "data": {
      "text/plain": [
       "29"
      ]
     },
     "execution_count": 78,
     "metadata": {},
     "output_type": "execute_result"
    }
   ],
   "source": [
    "len(df_pivot.index)"
   ]
  },
  {
   "cell_type": "markdown",
   "metadata": {},
   "source": [
    "Anzahl Stücke"
   ]
  },
  {
   "cell_type": "code",
   "execution_count": 79,
   "metadata": {},
   "outputs": [
    {
     "data": {
      "text/plain": [
       "576"
      ]
     },
     "execution_count": 79,
     "metadata": {},
     "output_type": "execute_result"
    }
   ],
   "source": [
    "np.sum(df_pivot['Anzahl'])"
   ]
  },
  {
   "cell_type": "markdown",
   "metadata": {},
   "source": [
    "Gewicht insgesamt in kg:"
   ]
  },
  {
   "cell_type": "code",
   "execution_count": 80,
   "metadata": {},
   "outputs": [
    {
     "data": {
      "text/plain": [
       "9.6765"
      ]
     },
     "execution_count": 80,
     "metadata": {},
     "output_type": "execute_result"
    }
   ],
   "source": [
    "np.sum(df_pivot['Gewicht']) / 1000"
   ]
  },
  {
   "cell_type": "code",
   "execution_count": 81,
   "metadata": {},
   "outputs": [
    {
     "data": {
      "text/html": [
       "<div>\n",
       "<table border=\"1\" class=\"dataframe\">\n",
       "  <thead>\n",
       "    <tr style=\"text-align: right;\">\n",
       "      <th></th>\n",
       "      <th>Anzahl</th>\n",
       "      <th>Gewicht</th>\n",
       "      <th>%</th>\n",
       "      <th>Gew.-%</th>\n",
       "    </tr>\n",
       "    <tr>\n",
       "      <th>bef_art</th>\n",
       "      <th></th>\n",
       "      <th></th>\n",
       "      <th></th>\n",
       "      <th></th>\n",
       "    </tr>\n",
       "  </thead>\n",
       "  <tbody>\n",
       "    <tr>\n",
       "      <th>Grube</th>\n",
       "      <td>286</td>\n",
       "      <td>1894.0</td>\n",
       "      <td>49.652778</td>\n",
       "      <td>19.573193</td>\n",
       "    </tr>\n",
       "    <tr>\n",
       "      <th>Oberfl</th>\n",
       "      <td>290</td>\n",
       "      <td>7782.5</td>\n",
       "      <td>50.347222</td>\n",
       "      <td>80.426807</td>\n",
       "    </tr>\n",
       "  </tbody>\n",
       "</table>\n",
       "</div>"
      ],
      "text/plain": [
       "         Anzahl  Gewicht          %     Gew.-%\n",
       "bef_art                                       \n",
       "Grube       286   1894.0  49.652778  19.573193\n",
       "Oberfl      290   7782.5  50.347222  80.426807"
      ]
     },
     "execution_count": 81,
     "metadata": {},
     "output_type": "execute_result"
    }
   ],
   "source": [
    "df_pivot = df.pivot_table(values = ['Anzahl', 'Gewicht'], index = ['bef_art'], aggfunc = np.sum)\n",
    "df_pivot = pd.DataFrame(df_pivot)\n",
    "df_pivot['%'] = df_pivot['Anzahl']/df_pivot['Anzahl'].sum()*100\n",
    "df_pivot['Gew.-%'] = df_pivot['Gewicht']/df_pivot['Gewicht'].sum()*100\n",
    "df_pivot"
   ]
  },
  {
   "cell_type": "code",
   "execution_count": 82,
   "metadata": {},
   "outputs": [
    {
     "data": {
      "text/html": [
       "<div>\n",
       "<table border=\"1\" class=\"dataframe\">\n",
       "  <thead>\n",
       "    <tr style=\"text-align: right;\">\n",
       "      <th></th>\n",
       "      <th></th>\n",
       "      <th>objID</th>\n",
       "    </tr>\n",
       "    <tr>\n",
       "      <th>Ort</th>\n",
       "      <th>bef_nr</th>\n",
       "      <th></th>\n",
       "    </tr>\n",
       "  </thead>\n",
       "  <tbody>\n",
       "    <tr>\n",
       "      <th rowspan=\"2\" valign=\"top\">Pikunda (Fpl. 255)</th>\n",
       "      <th>87/1</th>\n",
       "      <td>3</td>\n",
       "    </tr>\n",
       "    <tr>\n",
       "      <th>87/2</th>\n",
       "      <td>60</td>\n",
       "    </tr>\n",
       "  </tbody>\n",
       "</table>\n",
       "</div>"
      ],
      "text/plain": [
       "                           objID\n",
       "Ort                bef_nr       \n",
       "Pikunda (Fpl. 255) 87/1        3\n",
       "                   87/2       60"
      ]
     },
     "execution_count": 82,
     "metadata": {},
     "output_type": "execute_result"
    }
   ],
   "source": [
    "sql = \"\"\"SELECT\n",
    "           t_Obj.objID,\n",
    "           t_Ort.ort_kurz,\n",
    "           't_Ort'.'ort_name' || ' (Fpl. ' || 't_ort'.'Kat-Nr' || ')' AS Ort,\n",
    "           t_Komplex.bef_nr,\n",
    "           t_komplex.bef_art\n",
    "       FROM (t_Ort INNER JOIN t_Komplex ON t_Ort.ortID = t_Komplex.ortID)\n",
    "           INNER JOIN t_Obj ON t_Komplex.komplexID = t_Obj.komplexID\n",
    "       WHERE (((t_Ort.ort_lit)='DS')\n",
    "           AND ((t_Obj.Typ) Like '%\"\"\"+style+\"\"\"%')\n",
    "           AND ((t_Obj.Art) = 'K')\n",
    "           AND ((t_Obj.Anzahl) != '')\n",
    "           AND ((t_Komplex.bef_art) Like '%Grube%'))\"\"\".replace('\\n',' ')\n",
    "# Anzahl != damit fotografierte Gefäße nicht mit dabei ist\n",
    "\n",
    "df = pd.read_sql(sql, con)\n",
    "df_pivot = df.pivot_table(values = ['objID'], index = ['Ort', 'bef_nr'], aggfunc = len)\n",
    "df_pivot"
   ]
  },
  {
   "cell_type": "markdown",
   "metadata": {},
   "source": [
    "## Fragmentierung"
   ]
  },
  {
   "cell_type": "code",
   "execution_count": 83,
   "metadata": {},
   "outputs": [
    {
     "name": "stderr",
     "output_type": "stream",
     "text": [
      "C:\\Users\\Dirk\\Anaconda3\\lib\\site-packages\\ipykernel\\__main__.py:18: FutureWarning: convert_objects is deprecated.  Use the data-type specific converters pd.to_datetime, pd.to_timedelta and pd.to_numeric.\n"
     ]
    },
    {
     "data": {
      "image/png": "[encoded data removed]",
      "text/plain": [
       "<matplotlib.figure.Figure at 0x13ad8b9198>"
      ]
     },
     "metadata": {},
     "output_type": "display_data"
    }
   ],
   "source": [
    "sql = \"\"\"SELECT\n",
    "           t_Obj.objID, \n",
    "           t_Komplex.bef_nr, \n",
    "           t_Obj.Komplex, \n",
    "           t_Obj.Gewicht,\n",
    "           t_Obj.Gr_Clist, \n",
    "           t_Obj.Art,\n",
    "           t_Obj.Tiefe \n",
    "       FROM (t_Ort INNER JOIN t_Komplex ON t_Ort.ortID = t_Komplex.ortID)\n",
    "           INNER JOIN t_Obj ON t_Komplex.komplexID = t_Obj.komplexID\n",
    "       WHERE (((t_Ort.ort_lit)='DS')\n",
    "           AND ((t_Obj.Typ) Like '%\"\"\"+style+\"\"\"%')\n",
    "           AND ((t_Obj.Art) = 'K')\n",
    "           AND ((t_Obj.Anzahl) != '')\n",
    "           AND ((t_Obj.Gr_Clist) != ''))\"\"\".replace('\\n',' ')\n",
    "\n",
    "df = pd.read_sql(sql, con)\n",
    "df['Tiefe'] = df['Tiefe'].convert_objects(convert_numeric=True)\n",
    "# Leerstellen in 'Typ' ersetzen\n",
    "# df['Typ'] = df['Typ'].replace('','(?)')\n",
    "# df['Tiefe'] = df['Tiefe'].replace('', np.nan) \n",
    "# df = df.dropna(subset=['Tiefe'])\n",
    "# display(df.head())\n",
    "\n",
    "df_pivot = df.pivot_table(values = 'objID', index = 'Gr_Clist', aggfunc = len)\n",
    "df_pivot = df_pivot.rename(index={500: '>200'})\n",
    "\n",
    "df_pivot = pd.DataFrame(df_pivot)\n",
    "df_pivot['%'] = df_pivot['objID']/df_pivot['objID'].sum()*100\n",
    "\n",
    "df_pivot['objID'].plot(kind = 'bar', color = 'grey')\n",
    "plt.xticks(rotation=0)\n",
    "plt.xlabel('Größenklassen')\n",
    "plt.ylabel('Anzahl')\n",
    "plt.tight_layout()\n",
    "#plt.savefig('../output/figs/9-12_MUN87-1_KeramikFragmentierung.pdf')\n",
    "plt.show()"
   ]
  },
  {
   "cell_type": "code",
   "execution_count": 84,
   "metadata": {},
   "outputs": [
    {
     "data": {
      "text/html": [
       "<div>\n",
       "<table border=\"1\" class=\"dataframe\">\n",
       "  <thead>\n",
       "    <tr style=\"text-align: right;\">\n",
       "      <th></th>\n",
       "      <th>objID</th>\n",
       "      <th>%</th>\n",
       "    </tr>\n",
       "    <tr>\n",
       "      <th>Gr_Clist</th>\n",
       "      <th></th>\n",
       "      <th></th>\n",
       "    </tr>\n",
       "  </thead>\n",
       "  <tbody>\n",
       "    <tr>\n",
       "      <th>30</th>\n",
       "      <td>40</td>\n",
       "      <td>22.471910</td>\n",
       "    </tr>\n",
       "    <tr>\n",
       "      <th>70</th>\n",
       "      <td>104</td>\n",
       "      <td>58.426966</td>\n",
       "    </tr>\n",
       "    <tr>\n",
       "      <th>120</th>\n",
       "      <td>30</td>\n",
       "      <td>16.853933</td>\n",
       "    </tr>\n",
       "    <tr>\n",
       "      <th>200</th>\n",
       "      <td>3</td>\n",
       "      <td>1.685393</td>\n",
       "    </tr>\n",
       "    <tr>\n",
       "      <th>&gt;200</th>\n",
       "      <td>1</td>\n",
       "      <td>0.561798</td>\n",
       "    </tr>\n",
       "  </tbody>\n",
       "</table>\n",
       "</div>"
      ],
      "text/plain": [
       "          objID          %\n",
       "Gr_Clist                  \n",
       "30           40  22.471910\n",
       "70          104  58.426966\n",
       "120          30  16.853933\n",
       "200           3   1.685393\n",
       ">200          1   0.561798"
      ]
     },
     "execution_count": 84,
     "metadata": {},
     "output_type": "execute_result"
    }
   ],
   "source": [
    "df_pivot"
   ]
  },
  {
   "cell_type": "code",
   "execution_count": 85,
   "metadata": {
    "scrolled": false
   },
   "outputs": [
    {
     "data": {
      "image/png": "[encoded data removed]",
      "text/plain": [
       "<matplotlib.figure.Figure at 0x13ae994c18>"
      ]
     },
     "metadata": {},
     "output_type": "display_data"
    },
    {
     "data": {
      "image/png": "[encoded data removed]",
      "text/plain": [
       "<matplotlib.figure.Figure at 0x13aed482b0>"
      ]
     },
     "metadata": {},
     "output_type": "display_data"
    }
   ],
   "source": [
    "sql = \"\"\"SELECT\n",
    "           t_Obj.objID, \n",
    "           t_Komplex.bef_nr, \n",
    "           t_Obj.Komplex, \n",
    "           t_Obj.Gewicht,\n",
    "           t_Obj.Gr_Clist, \n",
    "           t_Obj.Art\n",
    "       FROM (t_Ort INNER JOIN t_Komplex ON t_Ort.ortID = t_Komplex.ortID)\n",
    "           INNER JOIN t_Obj ON t_Komplex.komplexID = t_Obj.komplexID\n",
    "       WHERE (((t_Ort.ort_lit)='DS')\n",
    "           AND ((t_Obj.Typ) Like '%\"\"\"+style+\"\"\"%')\n",
    "           AND ((t_Obj.Art) = 'K')\n",
    "           AND ((t_Obj.Anzahl) != '')\n",
    "           AND ((t_Obj.Gr_Clist) != '')\n",
    "           AND ((t_Komplex.bef_art) Like '%Grube%'))\"\"\".replace('\\n',' ')\n",
    "\n",
    "df1 = pd.read_sql(sql, con)\n",
    "\n",
    "df_pivot1 = df1.pivot_table(values = 'objID', index = 'Gr_Clist', aggfunc = len)\n",
    "custom_dict = {30:30, 70:70, 120:120, 200:200, 500:500}\n",
    "df_pivot1 = pd.DataFrame(df_pivot1, index=sorted(custom_dict, key=custom_dict.get))\n",
    "df_pivot1 = df_pivot1.rename(index={500: '>200'})\n",
    "\n",
    "sql = \"\"\"SELECT\n",
    "           t_Obj.objID, \n",
    "           t_Komplex.bef_nr, \n",
    "           t_Obj.Komplex, \n",
    "           t_Obj.Gewicht,\n",
    "           t_Obj.Gr_Clist, \n",
    "           t_Obj.Art\n",
    "       FROM (t_Ort INNER JOIN t_Komplex ON t_Ort.ortID = t_Komplex.ortID)\n",
    "           INNER JOIN t_Obj ON t_Komplex.komplexID = t_Obj.komplexID\n",
    "       WHERE (((t_Ort.ort_lit)='DS')\n",
    "           AND ((t_Obj.Typ) Like '%\"\"\"+style+\"\"\"%')\n",
    "           AND ((t_Obj.Art) = 'K')\n",
    "           AND ((t_Obj.Anzahl) != '')\n",
    "           AND ((t_Obj.Gr_Clist) != '')\n",
    "           AND ((t_Komplex.bef_art) Not Like '%Grube%'))\"\"\".replace('\\n',' ')\n",
    "\n",
    "df2 = pd.read_sql(sql, con)\n",
    "\n",
    "df_pivot2 = df2.pivot_table(values = 'objID', index = 'Gr_Clist', aggfunc = len)\n",
    "# custom_dict = {30:30, 70:70, 120:120, 200:200, 500:500}\n",
    "df_pivot2 = pd.DataFrame(df_pivot2, index=sorted(custom_dict, key=custom_dict.get))\n",
    "df_pivot2 = df_pivot2.rename(index={500: '>200'})\n",
    "\n",
    "df_pivot1.plot(kind = 'bar', color = 'grey')\n",
    "plt.xticks(rotation=0)\n",
    "plt.xlabel('Größenklassen')\n",
    "plt.ylabel('Anzahl')\n",
    "plt.title('Befunde')\n",
    "plt.tight_layout()\n",
    "\n",
    "df_pivot2.plot(kind = 'bar', color = 'grey')\n",
    "plt.xticks(rotation=0)\n",
    "plt.xlabel('Größenklassen')\n",
    "plt.ylabel('Anzahl')\n",
    "plt.title('Oberflächenabsammmlungen')\n",
    "plt.tight_layout()\n",
    "\n",
    "# plt.savefig('output/figs/2.2 Funde – Herkunft Flusslauf 1.pdf')\n",
    "plt.show()"
   ]
  },
  {
   "cell_type": "markdown",
   "metadata": {},
   "source": [
    "## Scherbentypen"
   ]
  },
  {
   "cell_type": "code",
   "execution_count": 86,
   "metadata": {},
   "outputs": [
    {
     "data": {
      "text/html": [
       "<div>\n",
       "<table border=\"1\" class=\"dataframe\">\n",
       "  <thead>\n",
       "    <tr style=\"text-align: right;\">\n",
       "      <th></th>\n",
       "      <th>Anzahl</th>\n",
       "      <th>Prozent</th>\n",
       "    </tr>\n",
       "  </thead>\n",
       "  <tbody>\n",
       "    <tr>\n",
       "      <th>G</th>\n",
       "      <td>3.0</td>\n",
       "      <td>0.520833</td>\n",
       "    </tr>\n",
       "    <tr>\n",
       "      <th>R</th>\n",
       "      <td>107.0</td>\n",
       "      <td>18.576389</td>\n",
       "    </tr>\n",
       "    <tr>\n",
       "      <th>W</th>\n",
       "      <td>466.0</td>\n",
       "      <td>80.902778</td>\n",
       "    </tr>\n",
       "    <tr>\n",
       "      <th>B</th>\n",
       "      <td>0.0</td>\n",
       "      <td>0.000000</td>\n",
       "    </tr>\n",
       "  </tbody>\n",
       "</table>\n",
       "</div>"
      ],
      "text/plain": [
       "   Anzahl    Prozent\n",
       "G     3.0   0.520833\n",
       "R   107.0  18.576389\n",
       "W   466.0  80.902778\n",
       "B     0.0   0.000000"
      ]
     },
     "execution_count": 86,
     "metadata": {},
     "output_type": "execute_result"
    }
   ],
   "source": [
    "df_pivot = df3.pivot_table(values = 'Anzahl', index = 'Scherbe', aggfunc = np.sum)\n",
    "df_pivot['B'] = 0.\n",
    "custom_dict = {'G':0,'R':1,'W':3,'B':4}\n",
    "df_pivot = pd.DataFrame(df_pivot, index=sorted(custom_dict, key=custom_dict.get))\n",
    "df_pivot['Prozent'] = df_pivot['Anzahl']/df_pivot['Anzahl'].sum()*100\n",
    "df_pivot"
   ]
  },
  {
   "cell_type": "code",
   "execution_count": 87,
   "metadata": {},
   "outputs": [
    {
     "data": {
      "image/png": "[encoded data removed]",
      "text/plain": [
       "<matplotlib.figure.Figure at 0x13ad89b860>"
      ]
     },
     "metadata": {},
     "output_type": "display_data"
    }
   ],
   "source": [
    "df_pivot.plot(y = 'Prozent', kind = 'bar', legend = None, color = 'grey')\n",
    "plt.xticks(rotation=0)\n",
    "plt.xlabel('Scherbentypen')\n",
    "plt.ylabel('Anteil [%]')\n",
    "plt.show()"
   ]
  },
  {
   "cell_type": "markdown",
   "metadata": {},
   "source": [
    "## Technologische Merkmale (*fabrics*)"
   ]
  },
  {
   "cell_type": "code",
   "execution_count": 151,
   "metadata": {
    "collapsed": true
   },
   "outputs": [],
   "source": [
    "sql = \"\"\"SELECT\n",
    "           t_Obj.objID,\n",
    "           't_Ort'.'ort_name' || ' (Fpl. ' || 't_ort'.'Kat-Nr' || ')' AS Ort,\n",
    "           t_Obj.Anzahl,\n",
    "           t_Obj.MagerungGröße,\n",
    "           t_Obj.MagerungArt,\n",
    "           t_Obj.MagerungDichte,\n",
    "           t_Obj.Fabric\n",
    "       FROM (t_Ort INNER JOIN t_Komplex ON t_Ort.ortID = t_Komplex.ortID)\n",
    "           INNER JOIN t_Obj ON t_Komplex.komplexID = t_Obj.komplexID\n",
    "       WHERE (((t_Obj.Fabric) != '')\n",
    "           AND ((t_Obj.Typ) Like '%\"\"\"+style+\"\"\"%'))\"\"\".replace('\\n',' ')\n",
    "\n",
    "df = pd.read_sql(sql, con)"
   ]
  },
  {
   "cell_type": "code",
   "execution_count": 152,
   "metadata": {},
   "outputs": [
    {
     "name": "stderr",
     "output_type": "stream",
     "text": [
      "C:\\Users\\Dirk\\Anaconda3\\lib\\site-packages\\ipykernel\\__main__.py:3: FutureWarning: by argument to sort_index is deprecated, pls use .sort_values(by=...)\n",
      "  app.launch_new_instance()\n"
     ]
    }
   ],
   "source": [
    "df_pivot = df.pivot_table(values = 'Anzahl', index = 'Fabric', aggfunc = sum)\n",
    "df_pivot = pd.DataFrame(df_pivot)\n",
    "df_pivot = df_pivot.sort_index(by=['Anzahl'], ascending=[False])"
   ]
  },
  {
   "cell_type": "code",
   "execution_count": 153,
   "metadata": {},
   "outputs": [
    {
     "data": {
      "image/png": "[encoded data removed]",
      "text/plain": [
       "<matplotlib.figure.Figure at 0x13afaccda0>"
      ]
     },
     "metadata": {},
     "output_type": "display_data"
    }
   ],
   "source": [
    "df_pivot.plot(kind = 'barh', legend = False, color = 'Grey')\n",
    "plt.show()"
   ]
  },
  {
   "cell_type": "code",
   "execution_count": 154,
   "metadata": {},
   "outputs": [
    {
     "data": {
      "text/html": [
       "<div>\n",
       "<table border=\"1\" class=\"dataframe\">\n",
       "  <thead>\n",
       "    <tr style=\"text-align: right;\">\n",
       "      <th></th>\n",
       "      <th>Anzahl</th>\n",
       "      <th>Prozent</th>\n",
       "    </tr>\n",
       "    <tr>\n",
       "      <th>Fabric</th>\n",
       "      <th></th>\n",
       "      <th></th>\n",
       "    </tr>\n",
       "  </thead>\n",
       "  <tbody>\n",
       "    <tr>\n",
       "      <th>4a</th>\n",
       "      <td>53</td>\n",
       "      <td>22.649573</td>\n",
       "    </tr>\n",
       "    <tr>\n",
       "      <th>3a</th>\n",
       "      <td>48</td>\n",
       "      <td>20.512821</td>\n",
       "    </tr>\n",
       "    <tr>\n",
       "      <th>4c</th>\n",
       "      <td>42</td>\n",
       "      <td>17.948718</td>\n",
       "    </tr>\n",
       "    <tr>\n",
       "      <th>4c/3a (?)</th>\n",
       "      <td>15</td>\n",
       "      <td>6.410256</td>\n",
       "    </tr>\n",
       "    <tr>\n",
       "      <th>3b</th>\n",
       "      <td>11</td>\n",
       "      <td>4.700855</td>\n",
       "    </tr>\n",
       "  </tbody>\n",
       "</table>\n",
       "</div>"
      ],
      "text/plain": [
       "           Anzahl    Prozent\n",
       "Fabric                      \n",
       "4a             53  22.649573\n",
       "3a             48  20.512821\n",
       "4c             42  17.948718\n",
       "4c/3a (?)      15   6.410256\n",
       "3b             11   4.700855"
      ]
     },
     "metadata": {},
     "output_type": "display_data"
    }
   ],
   "source": [
    "df_pivot['Prozent'] = df_pivot['Anzahl']/df_pivot['Anzahl'].sum()*100\n",
    "display(df_pivot.head())"
   ]
  },
  {
   "cell_type": "code",
   "execution_count": 155,
   "metadata": {},
   "outputs": [
    {
     "name": "stderr",
     "output_type": "stream",
     "text": [
      "C:\\Users\\Dirk\\Anaconda3\\lib\\site-packages\\ipykernel\\__main__.py:6: FutureWarning: by argument to sort_index is deprecated, pls use .sort_values(by=...)\n"
     ]
    },
    {
     "data": {
      "text/plain": [
       "<matplotlib.text.Text at 0x13afb868d0>"
      ]
     },
     "execution_count": 155,
     "metadata": {},
     "output_type": "execute_result"
    },
    {
     "data": {
      "image/png": "[encoded data removed]",
      "text/plain": [
       "<matplotlib.figure.Figure at 0x13afc4f2e8>"
      ]
     },
     "metadata": {},
     "output_type": "display_data"
    }
   ],
   "source": [
    "df1 = df.dropna(subset = ['Fabric'])\n",
    "df1['Fabric'] = df1['Fabric'].map(lambda x: x.rstrip(' (?)'))\n",
    "df1['Fabric'] = df1['Fabric'].apply(lambda x: x.split('/')[0])\\\n",
    "\n",
    "a = df1.pivot_table(values = 'Anzahl', index = 'Fabric', aggfunc = sum)\n",
    "a = pd.DataFrame(a)\n",
    "a = a.sort_index(by=['Anzahl'], ascending=[False])\n",
    "\n",
    "fig = plt.figure()\n",
    "fig.set_size_inches(5, 5)\n",
    "a['Anzahl'].plot(kind='pie', autopct='%.0f %%', cmap = 'Paired')\n",
    "plt.ylabel('')"
   ]
  },
  {
   "cell_type": "code",
   "execution_count": 156,
   "metadata": {},
   "outputs": [
    {
     "data": {
      "text/html": [
       "<div>\n",
       "<table border=\"1\" class=\"dataframe\">\n",
       "  <thead>\n",
       "    <tr style=\"text-align: right;\">\n",
       "      <th></th>\n",
       "      <th>0</th>\n",
       "      <th>Prozent</th>\n",
       "    </tr>\n",
       "  </thead>\n",
       "  <tbody>\n",
       "    <tr>\n",
       "      <th>1</th>\n",
       "      <td>1</td>\n",
       "      <td>0.427350</td>\n",
       "    </tr>\n",
       "    <tr>\n",
       "      <th>2</th>\n",
       "      <td>0</td>\n",
       "      <td>0.000000</td>\n",
       "    </tr>\n",
       "    <tr>\n",
       "      <th>3</th>\n",
       "      <td>88</td>\n",
       "      <td>37.606838</td>\n",
       "    </tr>\n",
       "    <tr>\n",
       "      <th>4</th>\n",
       "      <td>120</td>\n",
       "      <td>51.282051</td>\n",
       "    </tr>\n",
       "    <tr>\n",
       "      <th>5</th>\n",
       "      <td>11</td>\n",
       "      <td>4.700855</td>\n",
       "    </tr>\n",
       "    <tr>\n",
       "      <th>6</th>\n",
       "      <td>4</td>\n",
       "      <td>1.709402</td>\n",
       "    </tr>\n",
       "    <tr>\n",
       "      <th>7</th>\n",
       "      <td>9</td>\n",
       "      <td>3.846154</td>\n",
       "    </tr>\n",
       "    <tr>\n",
       "      <th>8</th>\n",
       "      <td>1</td>\n",
       "      <td>0.427350</td>\n",
       "    </tr>\n",
       "    <tr>\n",
       "      <th>9</th>\n",
       "      <td>0</td>\n",
       "      <td>0.000000</td>\n",
       "    </tr>\n",
       "  </tbody>\n",
       "</table>\n",
       "</div>"
      ],
      "text/plain": [
       "     0    Prozent\n",
       "1    1   0.427350\n",
       "2    0   0.000000\n",
       "3   88  37.606838\n",
       "4  120  51.282051\n",
       "5   11   4.700855\n",
       "6    4   1.709402\n",
       "7    9   3.846154\n",
       "8    1   0.427350\n",
       "9    0   0.000000"
      ]
     },
     "execution_count": 156,
     "metadata": {},
     "output_type": "execute_result"
    }
   ],
   "source": [
    "a = pd.Series({'1':sum(df1[\"Anzahl\"].loc[df1[\"Fabric\"].str.contains(\"1\")]),\n",
    "               '2':sum(df1[\"Anzahl\"].loc[df1[\"Fabric\"].str.contains(\"2\")]),\n",
    "               '3':sum(df1[\"Anzahl\"].loc[df1[\"Fabric\"].str.contains(\"3\")]),\n",
    "               '4':sum(df1[\"Anzahl\"].loc[df1[\"Fabric\"].str.contains(\"4\")]),\n",
    "               '5':sum(df1[\"Anzahl\"].loc[df1[\"Fabric\"].str.contains(\"5\")]),\n",
    "               '6':sum(df1[\"Anzahl\"].loc[df1[\"Fabric\"].str.contains(\"6\")]),\n",
    "               '7':sum(df1[\"Anzahl\"].loc[df1[\"Fabric\"].str.contains(\"7\")]),\n",
    "               '8':sum(df1[\"Anzahl\"].loc[df1[\"Fabric\"].str.contains(\"8\")]),\n",
    "               '9':sum(df1[\"Anzahl\"].loc[df1[\"Fabric\"].str.contains(\"9\")])})\n",
    "a = pd.DataFrame(a)\n",
    "a['Prozent'] = a[0]/a[0].sum()*100\n",
    "a"
   ]
  },
  {
   "cell_type": "code",
   "execution_count": 157,
   "metadata": {},
   "outputs": [
    {
     "data": {
      "text/html": [
       "<div>\n",
       "<table border=\"1\" class=\"dataframe\">\n",
       "  <thead>\n",
       "    <tr style=\"text-align: right;\">\n",
       "      <th></th>\n",
       "      <th>Anzahl</th>\n",
       "      <th>Prozent</th>\n",
       "    </tr>\n",
       "  </thead>\n",
       "  <tbody>\n",
       "    <tr>\n",
       "      <th>sehr wenig</th>\n",
       "      <td>NaN</td>\n",
       "      <td>NaN</td>\n",
       "    </tr>\n",
       "    <tr>\n",
       "      <th>wenig</th>\n",
       "      <td>7.0</td>\n",
       "      <td>6.086957</td>\n",
       "    </tr>\n",
       "    <tr>\n",
       "      <th>mittel</th>\n",
       "      <td>19.0</td>\n",
       "      <td>16.521739</td>\n",
       "    </tr>\n",
       "    <tr>\n",
       "      <th>viel</th>\n",
       "      <td>59.0</td>\n",
       "      <td>51.304348</td>\n",
       "    </tr>\n",
       "    <tr>\n",
       "      <th>sehr viel</th>\n",
       "      <td>30.0</td>\n",
       "      <td>26.086957</td>\n",
       "    </tr>\n",
       "  </tbody>\n",
       "</table>\n",
       "</div>"
      ],
      "text/plain": [
       "            Anzahl    Prozent\n",
       "sehr wenig     NaN        NaN\n",
       "wenig          7.0   6.086957\n",
       "mittel        19.0  16.521739\n",
       "viel          59.0  51.304348\n",
       "sehr viel     30.0  26.086957"
      ]
     },
     "execution_count": 157,
     "metadata": {},
     "output_type": "execute_result"
    }
   ],
   "source": [
    "df = df.replace('<1','sehr wenig', regex=True)\n",
    "\n",
    "a = df.loc[df['MagerungDichte'] != ''] # nur Einträgen, bei denen diese Felder ausgefüllt sind\n",
    "df_pivot = a.pivot_table(values = 'Anzahl', index = 'MagerungDichte', aggfunc = sum)\n",
    "custom_dict = {'sehr wenig':0,'wenig':1,'mittel':3,'viel':4, 'sehr viel':5}\n",
    "df_pivot = pd.DataFrame(df_pivot, index=sorted(custom_dict, key=custom_dict.get))\n",
    "df_pivot['Prozent'] = df_pivot['Anzahl']/df_pivot['Anzahl'].sum()*100\n",
    "df_pivot"
   ]
  },
  {
   "cell_type": "code",
   "execution_count": 93,
   "metadata": {},
   "outputs": [
    {
     "data": {
      "image/png": "[encoded data removed]",
      "text/plain": [
       "<matplotlib.figure.Figure at 0x13aec83160>"
      ]
     },
     "metadata": {},
     "output_type": "display_data"
    }
   ],
   "source": [
    "df_pivot.plot(y = 'Prozent', kind = 'bar', legend = None, color = 'grey')\n",
    "plt.xticks(rotation=0)\n",
    "plt.xlabel('Anteil nicht-plastische Partikel')\n",
    "plt.ylabel('Anteil [%]')\n",
    "plt.show()"
   ]
  },
  {
   "cell_type": "code",
   "execution_count": 94,
   "metadata": {},
   "outputs": [
    {
     "data": {
      "text/html": [
       "<div>\n",
       "<table border=\"1\" class=\"dataframe\">\n",
       "  <thead>\n",
       "    <tr style=\"text-align: right;\">\n",
       "      <th></th>\n",
       "      <th>Anzahl</th>\n",
       "      <th>Prozent</th>\n",
       "    </tr>\n",
       "  </thead>\n",
       "  <tbody>\n",
       "    <tr>\n",
       "      <th>VF</th>\n",
       "      <td>NaN</td>\n",
       "      <td>NaN</td>\n",
       "    </tr>\n",
       "    <tr>\n",
       "      <th>F</th>\n",
       "      <td>NaN</td>\n",
       "      <td>NaN</td>\n",
       "    </tr>\n",
       "    <tr>\n",
       "      <th>M</th>\n",
       "      <td>30.0</td>\n",
       "      <td>26.315789</td>\n",
       "    </tr>\n",
       "    <tr>\n",
       "      <th>C</th>\n",
       "      <td>64.0</td>\n",
       "      <td>56.140351</td>\n",
       "    </tr>\n",
       "    <tr>\n",
       "      <th>VC</th>\n",
       "      <td>20.0</td>\n",
       "      <td>17.543860</td>\n",
       "    </tr>\n",
       "  </tbody>\n",
       "</table>\n",
       "</div>"
      ],
      "text/plain": [
       "    Anzahl    Prozent\n",
       "VF     NaN        NaN\n",
       "F      NaN        NaN\n",
       "M     30.0  26.315789\n",
       "C     64.0  56.140351\n",
       "VC    20.0  17.543860"
      ]
     },
     "execution_count": 94,
     "metadata": {},
     "output_type": "execute_result"
    }
   ],
   "source": [
    "df_pivot = a.pivot_table(values = 'Anzahl', index = 'MagerungGröße', aggfunc = sum)\n",
    "custom_dict = {'VF':0,'F':1,'M':3,'C':4, 'VC':5}\n",
    "df_pivot = pd.DataFrame(df_pivot, index=sorted(custom_dict, key=custom_dict.get))\n",
    "df_pivot['Prozent'] = df_pivot['Anzahl']/df_pivot['Anzahl'].sum()*100\n",
    "df_pivot"
   ]
  },
  {
   "cell_type": "code",
   "execution_count": 95,
   "metadata": {},
   "outputs": [
    {
     "data": {
      "image/png": "[encoded data removed]",
      "text/plain": [
       "<matplotlib.figure.Figure at 0x13acf5e5c0>"
      ]
     },
     "metadata": {},
     "output_type": "display_data"
    }
   ],
   "source": [
    "df_pivot.plot(y = 'Prozent', kind = 'bar', legend = None, color = 'grey')\n",
    "plt.xticks(rotation=0)\n",
    "plt.xlabel('Korngröße (Wentworth-Scale)')\n",
    "plt.ylabel('Anteil [%]')\n",
    "plt.show()"
   ]
  },
  {
   "cell_type": "code",
   "execution_count": 96,
   "metadata": {},
   "outputs": [
    {
     "name": "stderr",
     "output_type": "stream",
     "text": [
      "C:\\Users\\Dirk\\Anaconda3\\lib\\site-packages\\ipykernel\\__main__.py:3: FutureWarning: by argument to sort_index is deprecated, pls use .sort_values(by=...)\n",
      "  app.launch_new_instance()\n"
     ]
    },
    {
     "data": {
      "text/html": [
       "<div>\n",
       "<table border=\"1\" class=\"dataframe\">\n",
       "  <thead>\n",
       "    <tr style=\"text-align: right;\">\n",
       "      <th></th>\n",
       "      <th>Anzahl</th>\n",
       "      <th>Prozent</th>\n",
       "    </tr>\n",
       "    <tr>\n",
       "      <th>MagerungArt</th>\n",
       "      <th></th>\n",
       "      <th></th>\n",
       "    </tr>\n",
       "  </thead>\n",
       "  <tbody>\n",
       "    <tr>\n",
       "      <th>S</th>\n",
       "      <td>101</td>\n",
       "      <td>87.826087</td>\n",
       "    </tr>\n",
       "    <tr>\n",
       "      <th>S/Laterit</th>\n",
       "      <td>5</td>\n",
       "      <td>4.347826</td>\n",
       "    </tr>\n",
       "    <tr>\n",
       "      <th>S/Org</th>\n",
       "      <td>3</td>\n",
       "      <td>2.608696</td>\n",
       "    </tr>\n",
       "    <tr>\n",
       "      <th>Laterit</th>\n",
       "      <td>2</td>\n",
       "      <td>1.739130</td>\n",
       "    </tr>\n",
       "    <tr>\n",
       "      <th>S/Gl</th>\n",
       "      <td>1</td>\n",
       "      <td>0.869565</td>\n",
       "    </tr>\n",
       "    <tr>\n",
       "      <th>S/Laterit?</th>\n",
       "      <td>1</td>\n",
       "      <td>0.869565</td>\n",
       "    </tr>\n",
       "    <tr>\n",
       "      <th>S/Org/Laterit</th>\n",
       "      <td>1</td>\n",
       "      <td>0.869565</td>\n",
       "    </tr>\n",
       "    <tr>\n",
       "      <th>S/Org/Schamott?</th>\n",
       "      <td>1</td>\n",
       "      <td>0.869565</td>\n",
       "    </tr>\n",
       "  </tbody>\n",
       "</table>\n",
       "</div>"
      ],
      "text/plain": [
       "                 Anzahl    Prozent\n",
       "MagerungArt                       \n",
       "S                   101  87.826087\n",
       "S/Laterit             5   4.347826\n",
       "S/Org                 3   2.608696\n",
       "Laterit               2   1.739130\n",
       "S/Gl                  1   0.869565\n",
       "S/Laterit?            1   0.869565\n",
       "S/Org/Laterit         1   0.869565\n",
       "S/Org/Schamott?       1   0.869565"
      ]
     },
     "execution_count": 96,
     "metadata": {},
     "output_type": "execute_result"
    }
   ],
   "source": [
    "df_pivot = a.pivot_table(values = 'Anzahl', index = 'MagerungArt', aggfunc = sum)\n",
    "df_pivot = pd.DataFrame(df_pivot)\n",
    "df_pivot = df_pivot.sort_index(by=['Anzahl'], ascending=[False])\n",
    "df_pivot['Prozent'] = df_pivot['Anzahl']/df_pivot['Anzahl'].sum()*100\n",
    "df_pivot"
   ]
  },
  {
   "cell_type": "markdown",
   "metadata": {},
   "source": [
    "### Brennfarbe"
   ]
  },
  {
   "cell_type": "code",
   "execution_count": 97,
   "metadata": {},
   "outputs": [
    {
     "data": {
      "text/html": [
       "<div>\n",
       "<table border=\"1\" class=\"dataframe\">\n",
       "  <thead>\n",
       "    <tr style=\"text-align: right;\">\n",
       "      <th></th>\n",
       "      <th>0</th>\n",
       "      <th>Prozent</th>\n",
       "    </tr>\n",
       "  </thead>\n",
       "  <tbody>\n",
       "    <tr>\n",
       "      <th>Rot</th>\n",
       "      <td>35</td>\n",
       "      <td>20.114943</td>\n",
       "    </tr>\n",
       "    <tr>\n",
       "      <th>Sonstig</th>\n",
       "      <td>99</td>\n",
       "      <td>56.896552</td>\n",
       "    </tr>\n",
       "    <tr>\n",
       "      <th>Weiß</th>\n",
       "      <td>40</td>\n",
       "      <td>22.988506</td>\n",
       "    </tr>\n",
       "  </tbody>\n",
       "</table>\n",
       "</div>"
      ],
      "text/plain": [
       "          0    Prozent\n",
       "Rot      35  20.114943\n",
       "Sonstig  99  56.896552\n",
       "Weiß     40  22.988506"
      ]
     },
     "execution_count": 97,
     "metadata": {},
     "output_type": "execute_result"
    }
   ],
   "source": [
    "sql = \"\"\"SELECT\n",
    "           t_Obj.objID,\n",
    "           [t_Obj].[Außenfarbe] || '/' || [t_Obj].[Prof_aussen] || '/' || [t_Obj].[Prof_Kern] || '/' || [t_Obj].[Prof_innen] || '/' || [t_Obj].[Innenfarbe] AS Farbe\n",
    "       FROM (t_Ort LEFT JOIN t_Komplex ON t_Ort.ortID = t_Komplex.ortID)\n",
    "           LEFT JOIN t_Obj ON t_Komplex.komplexID = t_Obj.komplexID\n",
    "       WHERE (((t_Obj.Fabric) != '')\n",
    "           AND ((t_Obj.Typ) Like '%\"\"\"+style+\"\"\"%'))\"\"\".replace('\\n',' ')\n",
    "df = pd.read_sql(sql, con)\n",
    "\n",
    "a = pd.Series({'Weiß':len(df[df['Farbe'].str.contains(\"W\")].index),\n",
    "               'Rot':len(df[df['Farbe'].str.contains(\"R\")].index),\n",
    "               'Sonstig':len(df[~df['Farbe'].str.contains(\"W|R\")].index)})\n",
    "a = pd.DataFrame(a)\n",
    "a['Prozent'] = a[0]/a[0].sum()*100\n",
    "a"
   ]
  },
  {
   "cell_type": "code",
   "execution_count": 98,
   "metadata": {},
   "outputs": [
    {
     "data": {
      "image/png": "[encoded data removed]",
      "text/plain": [
       "<matplotlib.figure.Figure at 0x13ad41afd0>"
      ]
     },
     "metadata": {},
     "output_type": "display_data"
    }
   ],
   "source": [
    "a.plot(y = 'Prozent', kind = 'bar', legend = None, color = 'grey')\n",
    "plt.xticks(rotation=0)\n",
    "plt.ylabel('Anteil [%]')\n",
    "plt.show()"
   ]
  },
  {
   "cell_type": "code",
   "execution_count": 99,
   "metadata": {},
   "outputs": [
    {
     "data": {
      "text/plain": [
       "         128\n",
       "g        101\n",
       "bg        66\n",
       "s         50\n",
       "          32\n",
       "br        19\n",
       "bg bg     13\n",
       "g g        6\n",
       " bg        6\n",
       "g bg       5\n",
       "dtype: int64"
      ]
     },
     "execution_count": 99,
     "metadata": {},
     "output_type": "execute_result"
    }
   ],
   "source": [
    "# Sontiges:\n",
    "a = df[~df['Farbe'].str.contains(\"W|R\")]\n",
    "pd.Series(' '.join(a['Farbe']).lower().split('/')).value_counts()[:10]"
   ]
  },
  {
   "cell_type": "markdown",
   "metadata": {},
   "source": [
    "### Oberfläche der Scherben"
   ]
  },
  {
   "cell_type": "code",
   "execution_count": 100,
   "metadata": {},
   "outputs": [
    {
     "name": "stderr",
     "output_type": "stream",
     "text": [
      "C:\\Users\\Dirk\\Anaconda3\\lib\\site-packages\\ipykernel\\__main__.py:13: FutureWarning: convert_objects is deprecated.  Use the data-type specific converters pd.to_datetime, pd.to_timedelta and pd.to_numeric.\n"
     ]
    },
    {
     "data": {
      "text/html": [
       "<div>\n",
       "<table border=\"1\" class=\"dataframe\">\n",
       "  <thead>\n",
       "    <tr style=\"text-align: right;\">\n",
       "      <th></th>\n",
       "      <th>Anzahl</th>\n",
       "      <th>Prozent</th>\n",
       "    </tr>\n",
       "    <tr>\n",
       "      <th>Obfl</th>\n",
       "      <th></th>\n",
       "      <th></th>\n",
       "    </tr>\n",
       "  </thead>\n",
       "  <tbody>\n",
       "    <tr>\n",
       "      <th>außen glatt/innen rau</th>\n",
       "      <td>1</td>\n",
       "      <td>0.819672</td>\n",
       "    </tr>\n",
       "    <tr>\n",
       "      <th>glatt</th>\n",
       "      <td>48</td>\n",
       "      <td>39.344262</td>\n",
       "    </tr>\n",
       "    <tr>\n",
       "      <th>glatt/leicht rau</th>\n",
       "      <td>2</td>\n",
       "      <td>1.639344</td>\n",
       "    </tr>\n",
       "    <tr>\n",
       "      <th>leicht rau</th>\n",
       "      <td>57</td>\n",
       "      <td>46.721311</td>\n",
       "    </tr>\n",
       "    <tr>\n",
       "      <th>leicht rau/sandig</th>\n",
       "      <td>1</td>\n",
       "      <td>0.819672</td>\n",
       "    </tr>\n",
       "    <tr>\n",
       "      <th>rau</th>\n",
       "      <td>13</td>\n",
       "      <td>10.655738</td>\n",
       "    </tr>\n",
       "  </tbody>\n",
       "</table>\n",
       "</div>"
      ],
      "text/plain": [
       "                       Anzahl    Prozent\n",
       "Obfl                                    \n",
       "außen glatt/innen rau       1   0.819672\n",
       "glatt                      48  39.344262\n",
       "glatt/leicht rau            2   1.639344\n",
       "leicht rau                 57  46.721311\n",
       "leicht rau/sandig           1   0.819672\n",
       "rau                        13  10.655738"
      ]
     },
     "execution_count": 100,
     "metadata": {},
     "output_type": "execute_result"
    }
   ],
   "source": [
    "sql = \"\"\"SELECT\n",
    "           t_Obj.objID,\n",
    "           t_Obj.Anzahl,\n",
    "           t_Obj.Obfl,\n",
    "           t_Obj.Fabric\n",
    "       FROM (t_Ort INNER JOIN t_Komplex ON t_Ort.ortID = t_Komplex.ortID)\n",
    "           INNER JOIN t_Obj ON t_Komplex.komplexID = t_Obj.komplexID\n",
    "       WHERE (((t_Obj.Obfl) != '')\n",
    "           AND ((t_Obj.Typ) LIKE '%\"\"\"+style+\"\"\"%'))\"\"\".replace('\\n',' ')\n",
    "\n",
    "df = pd.read_sql(sql, con)\n",
    "\n",
    "df['Anzahl'] = df['Anzahl'].convert_objects(convert_numeric=True)\n",
    "df_pivot = df.pivot_table(values = 'Anzahl', index = 'Obfl', aggfunc = sum)\n",
    "df_pivot = pd.DataFrame(df_pivot)\n",
    "df_pivot['Prozent'] = df_pivot['Anzahl']/df_pivot['Anzahl'].sum()*100\n",
    "df_pivot"
   ]
  },
  {
   "cell_type": "markdown",
   "metadata": {},
   "source": [
    "### Wandungsdicke"
   ]
  },
  {
   "cell_type": "code",
   "execution_count": 101,
   "metadata": {},
   "outputs": [
    {
     "name": "stderr",
     "output_type": "stream",
     "text": [
      "C:\\Users\\Dirk\\Anaconda3\\lib\\site-packages\\ipykernel\\__main__.py:11: FutureWarning: convert_objects is deprecated.  Use the data-type specific converters pd.to_datetime, pd.to_timedelta and pd.to_numeric.\n",
      "C:\\Users\\Dirk\\Anaconda3\\lib\\site-packages\\numpy\\lib\\function_base.py:564: VisibleDeprecationWarning: using a non-integer number instead of an integer will result in an error in the future\n",
      "  n = np.zeros(bins, ntype)\n",
      "C:\\Users\\Dirk\\Anaconda3\\lib\\site-packages\\numpy\\lib\\function_base.py:611: VisibleDeprecationWarning: using a non-integer number instead of an integer will result in an error in the future\n",
      "  n += np.bincount(indices, weights=tmp_w, minlength=bins).astype(ntype)\n"
     ]
    },
    {
     "data": {
      "image/png": "[encoded data removed]",
      "text/plain": [
       "<matplotlib.figure.Figure at 0x13aeb425f8>"
      ]
     },
     "metadata": {},
     "output_type": "display_data"
    }
   ],
   "source": [
    "sql = \"\"\"SELECT\n",
    "           t_Obj.objID,\n",
    "           t_Obj.Wandung \n",
    "       FROM (t_Ort INNER JOIN t_Komplex ON t_Ort.ortID = t_Komplex.ortID)\n",
    "           INNER JOIN t_Obj ON t_Komplex.komplexID = t_Obj.komplexID\n",
    "       WHERE (((t_Obj.Obfl) != '')\n",
    "           AND ((t_Obj.Typ) LIKE '%\"\"\"+style+\"\"\"%'))\"\"\".replace('\\n',' ')\n",
    "\n",
    "df = pd.read_sql(sql, con)\n",
    "\n",
    "df['Wandung'] = df['Wandung'].convert_objects(convert_numeric=True)\n",
    "\n",
    "# Spannweite ermitteln und als bins nutzen\n",
    "bins = df['Wandung'].max() - df['Wandung'].min()\n",
    "\n",
    "mean = df['Wandung'].mean()\n",
    "\n",
    "df['Wandung'].hist(bins = bins, color = 'grey', histtype='stepfilled')\n",
    "plt.axvline(mean, color = 'black', ls = 'dashed', lw = 2.5)\n",
    "plt.xlabel(\"Dicke [mm]\")\n",
    "plt.ylabel(\"Anzahl\")\n",
    "plt.xlim([df['Wandung'].min()-1,df['Wandung'].max()+1])\n",
    "legend = plt.legend([\"Mittelwert\"])\n",
    "legend.get_frame().set_facecolor('white')\n",
    "plt.tight_layout()"
   ]
  },
  {
   "cell_type": "code",
   "execution_count": 102,
   "metadata": {},
   "outputs": [
    {
     "data": {
      "text/plain": [
       "count    121.000000\n",
       "mean       6.247934\n",
       "std        1.462196\n",
       "min        4.000000\n",
       "25%        5.000000\n",
       "50%        6.000000\n",
       "75%        7.000000\n",
       "max       10.000000\n",
       "Name: Wandung, dtype: float64"
      ]
     },
     "execution_count": 102,
     "metadata": {},
     "output_type": "execute_result"
    }
   ],
   "source": [
    "df['Wandung'].describe()"
   ]
  },
  {
   "cell_type": "code",
   "execution_count": 103,
   "metadata": {},
   "outputs": [
    {
     "data": {
      "text/plain": [
       "2.120346970835326"
      ]
     },
     "execution_count": 103,
     "metadata": {},
     "output_type": "execute_result"
    }
   ],
   "source": [
    "np.var(df['Wandung'])"
   ]
  },
  {
   "cell_type": "markdown",
   "metadata": {},
   "source": [
    "## Gefäßformen"
   ]
  },
  {
   "cell_type": "code",
   "execution_count": 104,
   "metadata": {
    "collapsed": true
   },
   "outputs": [],
   "source": [
    "sql = \"\"\"SELECT\n",
    "           t_Ort.ort_kurz,\n",
    "           t_Ort.ort_name,\n",
    "           t_Obj.objID,\n",
    "           t_Obj.Typ,\n",
    "           t_Obj.Form_Gef\n",
    "       FROM (t_Ort INNER JOIN t_Komplex ON t_Ort.ortID = t_Komplex.ortID)\n",
    "           INNER JOIN t_Obj ON t_Komplex.komplexID = t_Obj.komplexID\n",
    "       WHERE (((t_Ort.ort_lit)='DS')\n",
    "           AND ((t_Obj.Typ) Like '%\"\"\"+style+\"\"\"%')\n",
    "           AND ((t_Obj.Form_Gef) != ''))\"\"\".replace('\\n',' ')\n",
    "\n",
    "df = pd.read_sql(sql, con)\n",
    "# display(df.head())"
   ]
  },
  {
   "cell_type": "code",
   "execution_count": 105,
   "metadata": {},
   "outputs": [
    {
     "name": "stderr",
     "output_type": "stream",
     "text": [
      "C:\\Users\\Dirk\\Anaconda3\\lib\\site-packages\\ipykernel\\__main__.py:3: FutureWarning: by argument to sort_index is deprecated, pls use .sort_values(by=...)\n",
      "  app.launch_new_instance()\n"
     ]
    }
   ],
   "source": [
    "df_pivot = df.pivot_table(values = 'objID', index = 'Form_Gef', aggfunc = len)\n",
    "df_pivot = pd.DataFrame(df_pivot)\n",
    "df_pivot = df_pivot.sort_index(by = ['objID'], ascending = True)\n",
    "# display(df_pivot.head())"
   ]
  },
  {
   "cell_type": "code",
   "execution_count": 106,
   "metadata": {},
   "outputs": [
    {
     "data": {
      "text/plain": [
       "113"
      ]
     },
     "execution_count": 106,
     "metadata": {},
     "output_type": "execute_result"
    }
   ],
   "source": [
    "df_pivot['objID'].sum()"
   ]
  },
  {
   "cell_type": "code",
   "execution_count": 107,
   "metadata": {},
   "outputs": [
    {
     "data": {
      "text/html": [
       "<div>\n",
       "<table border=\"1\" class=\"dataframe\">\n",
       "  <thead>\n",
       "    <tr style=\"text-align: right;\">\n",
       "      <th></th>\n",
       "      <th>0</th>\n",
       "      <th>Prozent</th>\n",
       "    </tr>\n",
       "  </thead>\n",
       "  <tbody>\n",
       "    <tr>\n",
       "      <th>fraglich</th>\n",
       "      <td>52</td>\n",
       "      <td>46.017699</td>\n",
       "    </tr>\n",
       "    <tr>\n",
       "      <th>sicher</th>\n",
       "      <td>61</td>\n",
       "      <td>53.982301</td>\n",
       "    </tr>\n",
       "  </tbody>\n",
       "</table>\n",
       "</div>"
      ],
      "text/plain": [
       "           0    Prozent\n",
       "fraglich  52  46.017699\n",
       "sicher    61  53.982301"
      ]
     },
     "execution_count": 107,
     "metadata": {},
     "output_type": "execute_result"
    }
   ],
   "source": [
    "df_pivot['GefForm'] = df_pivot.index\n",
    "a = pd.Series({'sicher':sum(df_pivot['objID'].loc[~df_pivot['GefForm'].str.contains(\" \")]),\n",
    "               'fraglich':sum(df_pivot['objID'].loc[df_pivot['GefForm'].str.contains(\" \")])})\n",
    "a = pd.DataFrame(a)\n",
    "a['Prozent'] = a[0]/a[0].sum()*100\n",
    "a"
   ]
  },
  {
   "cell_type": "code",
   "execution_count": 108,
   "metadata": {},
   "outputs": [
    {
     "data": {
      "text/plain": [
       "<matplotlib.text.Text at 0x13aeae11d0>"
      ]
     },
     "execution_count": 108,
     "metadata": {},
     "output_type": "execute_result"
    },
    {
     "data": {
      "image/png": "[encoded data removed]",
      "text/plain": [
       "<matplotlib.figure.Figure at 0x13aec17e80>"
      ]
     },
     "metadata": {},
     "output_type": "display_data"
    }
   ],
   "source": [
    "fig = plt.figure()\n",
    "fig.set_size_inches(5, 5)\n",
    "df_pivot['objID'].plot(kind='pie', autopct='%.0f %%', cmap = 'Paired')\n",
    "plt.ylabel('')"
   ]
  },
  {
   "cell_type": "code",
   "execution_count": 109,
   "metadata": {
    "scrolled": false
   },
   "outputs": [
    {
     "name": "stderr",
     "output_type": "stream",
     "text": [
      "C:\\Users\\Dirk\\Anaconda3\\lib\\site-packages\\ipykernel\\__main__.py:5: FutureWarning: by argument to sort_index is deprecated, pls use .sort_values(by=...)\n"
     ]
    },
    {
     "data": {
      "text/plain": [
       "<matplotlib.text.Text at 0x13aec5e908>"
      ]
     },
     "execution_count": 109,
     "metadata": {},
     "output_type": "execute_result"
    },
    {
     "data": {
      "image/png": "[encoded data removed]",
      "text/plain": [
       "<matplotlib.figure.Figure at 0x13ad8dbb70>"
      ]
     },
     "metadata": {},
     "output_type": "display_data"
    }
   ],
   "source": [
    "# löschen der (?)\n",
    "df['Form_Gef'] = df['Form_Gef'].map(lambda x: x.rstrip(' (?)'))\n",
    "df_pivot = df.pivot_table(values = 'objID', index = 'Form_Gef', aggfunc = len)\n",
    "df_pivot = pd.DataFrame(df_pivot)\n",
    "df_pivot = df_pivot.sort_index(by=['objID'], ascending=True)\n",
    "\n",
    "fig = plt.figure()\n",
    "fig.set_size_inches(5, 5)\n",
    "df_pivot['objID'].plot(kind='pie', autopct='%.0f %%', cmap = 'Paired')\n",
    "plt.ylabel('')"
   ]
  },
  {
   "cell_type": "code",
   "execution_count": 110,
   "metadata": {},
   "outputs": [
    {
     "data": {
      "text/plain": [
       "11"
      ]
     },
     "execution_count": 110,
     "metadata": {},
     "output_type": "execute_result"
    }
   ],
   "source": [
    "len(df_pivot['objID'])    # Anzahl sicherer Gefäßformen"
   ]
  },
  {
   "cell_type": "code",
   "execution_count": 163,
   "metadata": {},
   "outputs": [
    {
     "name": "stderr",
     "output_type": "stream",
     "text": [
      "C:\\Users\\Dirk\\Anaconda3\\lib\\site-packages\\ipykernel\\__main__.py:19: FutureWarning: convert_objects is deprecated.  Use the data-type specific converters pd.to_datetime, pd.to_timedelta and pd.to_numeric.\n",
      "C:\\Users\\Dirk\\Anaconda3\\lib\\site-packages\\ipykernel\\__main__.py:20: FutureWarning: convert_objects is deprecated.  Use the data-type specific converters pd.to_datetime, pd.to_timedelta and pd.to_numeric.\n",
      "C:\\Users\\Dirk\\Anaconda3\\lib\\site-packages\\ipykernel\\__main__.py:21: FutureWarning: convert_objects is deprecated.  Use the data-type specific converters pd.to_datetime, pd.to_timedelta and pd.to_numeric.\n",
      "C:\\Users\\Dirk\\Anaconda3\\lib\\site-packages\\ipykernel\\__main__.py:22: FutureWarning: convert_objects is deprecated.  Use the data-type specific converters pd.to_datetime, pd.to_timedelta and pd.to_numeric.\n",
      "C:\\Users\\Dirk\\Anaconda3\\lib\\site-packages\\ipykernel\\__main__.py:23: FutureWarning: convert_objects is deprecated.  Use the data-type specific converters pd.to_datetime, pd.to_timedelta and pd.to_numeric.\n",
      "C:\\Users\\Dirk\\Anaconda3\\lib\\site-packages\\ipykernel\\__main__.py:24: FutureWarning: convert_objects is deprecated.  Use the data-type specific converters pd.to_datetime, pd.to_timedelta and pd.to_numeric.\n",
      "C:\\Users\\Dirk\\Anaconda3\\lib\\site-packages\\ipykernel\\__main__.py:25: FutureWarning: convert_objects is deprecated.  Use the data-type specific converters pd.to_datetime, pd.to_timedelta and pd.to_numeric.\n"
     ]
    }
   ],
   "source": [
    "sql = \"\"\"SELECT\n",
    "           [t_Ort].[ort_kurz] || ' ' || [t_Komplex].[bef_nr] || ':' || [t_Obj].[Individuum] AS Ind,\n",
    "           t_Obj.muendungsD,\n",
    "           t_Obj.muendungsH,\n",
    "           t_Obj.minD,\n",
    "           t_Obj.minD_H,\n",
    "           t_Obj.maxD,\n",
    "           t_Obj.maxD_H,\n",
    "           t_Obj.bodenD,\n",
    "           t_obj.Form_Gef\n",
    "       FROM (t_Ort LEFT JOIN t_Komplex ON t_Ort.ortID = t_Komplex.ortID)\n",
    "           LEFT JOIN t_Obj ON t_Komplex.komplexID = t_Obj.komplexID\n",
    "       WHERE (((t_Ort.ort_lit)='DS')\n",
    "           AND ((t_Obj.Typ) Like '%\"\"\"+style+\"\"\"%')\n",
    "           AND ((t_Obj.Form_Gef) != ''))\"\"\".replace('\\n',' ')\n",
    "\n",
    "df = pd.read_sql(sql, con)\n",
    "\n",
    "df['muendungsD'] = df['muendungsD'].convert_objects(convert_numeric=True)\n",
    "df['muendungsH'] = df['muendungsH'].convert_objects(convert_numeric=True)\n",
    "df['minD'] = df['minD'].convert_objects(convert_numeric=True)\n",
    "df['minD_H'] = df['minD_H'].convert_objects(convert_numeric=True)\n",
    "df['maxD'] = df['maxD'].convert_objects(convert_numeric=True)\n",
    "df['maxD_H'] = df['maxD_H'].convert_objects(convert_numeric=True)\n",
    "df['bodenD'] = df['bodenD'].convert_objects(convert_numeric=True)\n",
    "\n",
    "# Verhältnis aus Mündungsdurchmesser / Minimaler Durchmesser\n",
    "df['maxD-muendH'] = df['maxD'] / df['muendungsH']\n",
    "# Verhältnis aus Mündungsdurchmesser / Minimaler Durchmesser\n",
    "df['muend-min'] = df['muendungsD'] / df['minD']\n",
    "# Verhältnis aus Maximaler Durchmesser / Minimaler Durchmesser\n",
    "df['max-min'] = df['maxD'] / df['maxD']"
   ]
  },
  {
   "cell_type": "code",
   "execution_count": 164,
   "metadata": {
    "collapsed": true
   },
   "outputs": [],
   "source": [
    "a = df.loc[df['Form_Gef'].str.contains(\"C2\")] \n",
    "b = df.loc[~df['Form_Gef'].str.contains(\"I4\")] "
   ]
  },
  {
   "cell_type": "code",
   "execution_count": 165,
   "metadata": {
    "scrolled": true
   },
   "outputs": [
    {
     "data": {
      "text/html": [
       "<div>\n",
       "<table border=\"1\" class=\"dataframe\">\n",
       "  <thead>\n",
       "    <tr style=\"text-align: right;\">\n",
       "      <th></th>\n",
       "      <th>muendungsD</th>\n",
       "      <th>muendungsH</th>\n",
       "      <th>minD</th>\n",
       "      <th>minD_H</th>\n",
       "      <th>maxD</th>\n",
       "      <th>maxD_H</th>\n",
       "      <th>bodenD</th>\n",
       "      <th>maxD-muendH</th>\n",
       "      <th>muend-min</th>\n",
       "      <th>max-min</th>\n",
       "    </tr>\n",
       "  </thead>\n",
       "  <tbody>\n",
       "    <tr>\n",
       "      <th>count</th>\n",
       "      <td>17.000000</td>\n",
       "      <td>2.000000</td>\n",
       "      <td>40.000000</td>\n",
       "      <td>3.000000</td>\n",
       "      <td>46.000000</td>\n",
       "      <td>3.000000</td>\n",
       "      <td>0.0</td>\n",
       "      <td>2.000000</td>\n",
       "      <td>17.000000</td>\n",
       "      <td>46.0</td>\n",
       "    </tr>\n",
       "    <tr>\n",
       "      <th>mean</th>\n",
       "      <td>21.205882</td>\n",
       "      <td>10.000000</td>\n",
       "      <td>20.437500</td>\n",
       "      <td>8.333333</td>\n",
       "      <td>24.771739</td>\n",
       "      <td>4.166667</td>\n",
       "      <td>NaN</td>\n",
       "      <td>2.136364</td>\n",
       "      <td>1.085976</td>\n",
       "      <td>1.0</td>\n",
       "    </tr>\n",
       "    <tr>\n",
       "      <th>std</th>\n",
       "      <td>6.346896</td>\n",
       "      <td>1.414214</td>\n",
       "      <td>5.459862</td>\n",
       "      <td>1.154701</td>\n",
       "      <td>5.867714</td>\n",
       "      <td>1.258306</td>\n",
       "      <td>NaN</td>\n",
       "      <td>0.192847</td>\n",
       "      <td>0.085153</td>\n",
       "      <td>0.0</td>\n",
       "    </tr>\n",
       "    <tr>\n",
       "      <th>min</th>\n",
       "      <td>10.000000</td>\n",
       "      <td>9.000000</td>\n",
       "      <td>10.500000</td>\n",
       "      <td>7.000000</td>\n",
       "      <td>13.000000</td>\n",
       "      <td>3.000000</td>\n",
       "      <td>NaN</td>\n",
       "      <td>2.000000</td>\n",
       "      <td>0.833333</td>\n",
       "      <td>1.0</td>\n",
       "    </tr>\n",
       "    <tr>\n",
       "      <th>25%</th>\n",
       "      <td>17.000000</td>\n",
       "      <td>9.500000</td>\n",
       "      <td>15.875000</td>\n",
       "      <td>8.000000</td>\n",
       "      <td>21.250000</td>\n",
       "      <td>3.500000</td>\n",
       "      <td>NaN</td>\n",
       "      <td>2.068182</td>\n",
       "      <td>1.066667</td>\n",
       "      <td>1.0</td>\n",
       "    </tr>\n",
       "    <tr>\n",
       "      <th>50%</th>\n",
       "      <td>21.000000</td>\n",
       "      <td>10.000000</td>\n",
       "      <td>20.000000</td>\n",
       "      <td>9.000000</td>\n",
       "      <td>24.500000</td>\n",
       "      <td>4.000000</td>\n",
       "      <td>NaN</td>\n",
       "      <td>2.136364</td>\n",
       "      <td>1.100000</td>\n",
       "      <td>1.0</td>\n",
       "    </tr>\n",
       "    <tr>\n",
       "      <th>75%</th>\n",
       "      <td>25.000000</td>\n",
       "      <td>10.500000</td>\n",
       "      <td>24.250000</td>\n",
       "      <td>9.000000</td>\n",
       "      <td>28.000000</td>\n",
       "      <td>4.750000</td>\n",
       "      <td>NaN</td>\n",
       "      <td>2.204545</td>\n",
       "      <td>1.142857</td>\n",
       "      <td>1.0</td>\n",
       "    </tr>\n",
       "    <tr>\n",
       "      <th>max</th>\n",
       "      <td>32.000000</td>\n",
       "      <td>11.000000</td>\n",
       "      <td>30.000000</td>\n",
       "      <td>9.000000</td>\n",
       "      <td>39.000000</td>\n",
       "      <td>5.500000</td>\n",
       "      <td>NaN</td>\n",
       "      <td>2.272727</td>\n",
       "      <td>1.214286</td>\n",
       "      <td>1.0</td>\n",
       "    </tr>\n",
       "  </tbody>\n",
       "</table>\n",
       "</div>"
      ],
      "text/plain": [
       "       muendungsD  muendungsH       minD    minD_H       maxD    maxD_H  \\\n",
       "count   17.000000    2.000000  40.000000  3.000000  46.000000  3.000000   \n",
       "mean    21.205882   10.000000  20.437500  8.333333  24.771739  4.166667   \n",
       "std      6.346896    1.414214   5.459862  1.154701   5.867714  1.258306   \n",
       "min     10.000000    9.000000  10.500000  7.000000  13.000000  3.000000   \n",
       "25%     17.000000    9.500000  15.875000  8.000000  21.250000  3.500000   \n",
       "50%     21.000000   10.000000  20.000000  9.000000  24.500000  4.000000   \n",
       "75%     25.000000   10.500000  24.250000  9.000000  28.000000  4.750000   \n",
       "max     32.000000   11.000000  30.000000  9.000000  39.000000  5.500000   \n",
       "\n",
       "       bodenD  maxD-muendH  muend-min  max-min  \n",
       "count     0.0     2.000000  17.000000     46.0  \n",
       "mean      NaN     2.136364   1.085976      1.0  \n",
       "std       NaN     0.192847   0.085153      0.0  \n",
       "min       NaN     2.000000   0.833333      1.0  \n",
       "25%       NaN     2.068182   1.066667      1.0  \n",
       "50%       NaN     2.136364   1.100000      1.0  \n",
       "75%       NaN     2.204545   1.142857      1.0  \n",
       "max       NaN     2.272727   1.214286      1.0  "
      ]
     },
     "execution_count": 165,
     "metadata": {},
     "output_type": "execute_result"
    }
   ],
   "source": [
    "a.describe()"
   ]
  },
  {
   "cell_type": "code",
   "execution_count": 179,
   "metadata": {},
   "outputs": [
    {
     "name": "stderr",
     "output_type": "stream",
     "text": [
      "C:\\Users\\Dirk\\Anaconda3\\lib\\site-packages\\numpy\\lib\\function_base.py:564: VisibleDeprecationWarning: using a non-integer number instead of an integer will result in an error in the future\n",
      "  n = np.zeros(bins, ntype)\n",
      "C:\\Users\\Dirk\\Anaconda3\\lib\\site-packages\\numpy\\lib\\function_base.py:611: VisibleDeprecationWarning: using a non-integer number instead of an integer will result in an error in the future\n",
      "  n += np.bincount(indices, weights=tmp_w, minlength=bins).astype(ntype)\n"
     ]
    },
    {
     "data": {
      "image/png": "[encoded data removed]",
      "text/plain": [
       "<matplotlib.figure.Figure at 0x13afacd550>"
      ]
     },
     "metadata": {},
     "output_type": "display_data"
    }
   ],
   "source": [
    "mi = np.min(round(a['minD'])) - 5\n",
    "ma = round(max(a['maxD'])) + 5\n",
    "\n",
    "fig = plt.figure(1)\n",
    "fig.set_size_inches(6,6)\n",
    "\n",
    "ax = plt.subplot(311)\n",
    "bins = round(np.max(round(a['minD'])) - np.min(round(a['minD'])))\n",
    "ax = a['muendungsD'].hist(histtype='stepfilled', bins = bins, fc = 'grey')\n",
    "plt.title(\"Mündungsdruchmesser\")\n",
    "plt.xlabel(\"cm\")\n",
    "plt.ylabel(\"Absolute Häufigkeit\")\n",
    "plt.xlim(mi,ma) \n",
    "ax.xaxis.grid(False)\n",
    "ax.yaxis.grid(False)\n",
    "#plt.show()\n",
    "\n",
    "ax = plt.subplot(312)\n",
    "bins = round(np.max(a['minD']) - np.min(a['minD']))\n",
    "ax = a['minD'].hist(histtype='stepfilled', bins = bins, fc = 'grey')\n",
    "plt.title(\"Minimaler Druchmesser\")\n",
    "plt.xlabel(\"cm\")\n",
    "plt.ylabel(\"Absolute Häufigkeit\")\n",
    "plt.xlim(mi,ma) \n",
    "ax.xaxis.grid(False)\n",
    "ax.yaxis.grid(False)\n",
    "#plt.show()\n",
    "\n",
    "ax = plt.subplot(313)\n",
    "bins = round(np.max(a['maxD']) - np.min(a['maxD']))\n",
    "ax = a['maxD'].hist(histtype='stepfilled', bins = bins, fc = 'grey')\n",
    "plt.title(\"Maximaler Druchmesser\")\n",
    "plt.xlabel(\"cm\")\n",
    "plt.ylabel(\"Absolute Häufigkeit\")\n",
    "plt.xlim(mi,ma) \n",
    "ax.xaxis.grid(False)\n",
    "ax.yaxis.grid(False)\n",
    "\n",
    "plt.tight_layout()\n",
    "#plt.savefig('../output/figs/3-1-2-7_MDB_Proportionen_D1-Gef.pdf', bbox_inches='tight')\n",
    "plt.show()"
   ]
  },
  {
   "cell_type": "code",
   "execution_count": 161,
   "metadata": {},
   "outputs": [
    {
     "data": {
      "text/html": [
       "<div>\n",
       "<table border=\"1\" class=\"dataframe\">\n",
       "  <thead>\n",
       "    <tr style=\"text-align: right;\">\n",
       "      <th></th>\n",
       "      <th>muendungsD</th>\n",
       "      <th>muendungsH</th>\n",
       "      <th>minD</th>\n",
       "      <th>minD_H</th>\n",
       "      <th>maxD</th>\n",
       "      <th>maxD_H</th>\n",
       "      <th>bodenD</th>\n",
       "      <th>maxD-muendH</th>\n",
       "      <th>muend-min</th>\n",
       "      <th>max-min</th>\n",
       "    </tr>\n",
       "  </thead>\n",
       "  <tbody>\n",
       "    <tr>\n",
       "      <th>count</th>\n",
       "      <td>25.000000</td>\n",
       "      <td>4.000000</td>\n",
       "      <td>55.000000</td>\n",
       "      <td>4.000000</td>\n",
       "      <td>56.000000</td>\n",
       "      <td>4.000000</td>\n",
       "      <td>1.0</td>\n",
       "      <td>3.000000</td>\n",
       "      <td>23.000000</td>\n",
       "      <td>56.0</td>\n",
       "    </tr>\n",
       "    <tr>\n",
       "      <th>mean</th>\n",
       "      <td>19.080000</td>\n",
       "      <td>17.250000</td>\n",
       "      <td>18.327273</td>\n",
       "      <td>16.250000</td>\n",
       "      <td>24.312500</td>\n",
       "      <td>11.375000</td>\n",
       "      <td>0.0</td>\n",
       "      <td>1.687808</td>\n",
       "      <td>1.095446</td>\n",
       "      <td>1.0</td>\n",
       "    </tr>\n",
       "    <tr>\n",
       "      <th>std</th>\n",
       "      <td>7.124898</td>\n",
       "      <td>17.289207</td>\n",
       "      <td>6.388805</td>\n",
       "      <td>15.861379</td>\n",
       "      <td>5.751334</td>\n",
       "      <td>14.453229</td>\n",
       "      <td>NaN</td>\n",
       "      <td>0.788797</td>\n",
       "      <td>0.082797</td>\n",
       "      <td>0.0</td>\n",
       "    </tr>\n",
       "    <tr>\n",
       "      <th>min</th>\n",
       "      <td>5.000000</td>\n",
       "      <td>6.000000</td>\n",
       "      <td>4.500000</td>\n",
       "      <td>7.000000</td>\n",
       "      <td>13.000000</td>\n",
       "      <td>3.000000</td>\n",
       "      <td>0.0</td>\n",
       "      <td>0.790698</td>\n",
       "      <td>0.833333</td>\n",
       "      <td>1.0</td>\n",
       "    </tr>\n",
       "    <tr>\n",
       "      <th>25%</th>\n",
       "      <td>14.000000</td>\n",
       "      <td>8.250000</td>\n",
       "      <td>13.750000</td>\n",
       "      <td>8.500000</td>\n",
       "      <td>20.000000</td>\n",
       "      <td>3.750000</td>\n",
       "      <td>0.0</td>\n",
       "      <td>1.395349</td>\n",
       "      <td>1.066667</td>\n",
       "      <td>1.0</td>\n",
       "    </tr>\n",
       "    <tr>\n",
       "      <th>50%</th>\n",
       "      <td>18.000000</td>\n",
       "      <td>10.000000</td>\n",
       "      <td>16.500000</td>\n",
       "      <td>9.000000</td>\n",
       "      <td>24.000000</td>\n",
       "      <td>4.750000</td>\n",
       "      <td>0.0</td>\n",
       "      <td>2.000000</td>\n",
       "      <td>1.103448</td>\n",
       "      <td>1.0</td>\n",
       "    </tr>\n",
       "    <tr>\n",
       "      <th>75%</th>\n",
       "      <td>23.000000</td>\n",
       "      <td>19.000000</td>\n",
       "      <td>22.250000</td>\n",
       "      <td>16.750000</td>\n",
       "      <td>27.625000</td>\n",
       "      <td>12.375000</td>\n",
       "      <td>0.0</td>\n",
       "      <td>2.136364</td>\n",
       "      <td>1.155645</td>\n",
       "      <td>1.0</td>\n",
       "    </tr>\n",
       "    <tr>\n",
       "      <th>max</th>\n",
       "      <td>32.000000</td>\n",
       "      <td>43.000000</td>\n",
       "      <td>30.000000</td>\n",
       "      <td>40.000000</td>\n",
       "      <td>39.000000</td>\n",
       "      <td>33.000000</td>\n",
       "      <td>0.0</td>\n",
       "      <td>2.272727</td>\n",
       "      <td>1.214286</td>\n",
       "      <td>1.0</td>\n",
       "    </tr>\n",
       "  </tbody>\n",
       "</table>\n",
       "</div>"
      ],
      "text/plain": [
       "       muendungsD  muendungsH       minD     minD_H       maxD     maxD_H  \\\n",
       "count   25.000000    4.000000  55.000000   4.000000  56.000000   4.000000   \n",
       "mean    19.080000   17.250000  18.327273  16.250000  24.312500  11.375000   \n",
       "std      7.124898   17.289207   6.388805  15.861379   5.751334  14.453229   \n",
       "min      5.000000    6.000000   4.500000   7.000000  13.000000   3.000000   \n",
       "25%     14.000000    8.250000  13.750000   8.500000  20.000000   3.750000   \n",
       "50%     18.000000   10.000000  16.500000   9.000000  24.000000   4.750000   \n",
       "75%     23.000000   19.000000  22.250000  16.750000  27.625000  12.375000   \n",
       "max     32.000000   43.000000  30.000000  40.000000  39.000000  33.000000   \n",
       "\n",
       "       bodenD  maxD-muendH  muend-min  max-min  \n",
       "count     1.0     3.000000  23.000000     56.0  \n",
       "mean      0.0     1.687808   1.095446      1.0  \n",
       "std       NaN     0.788797   0.082797      0.0  \n",
       "min       0.0     0.790698   0.833333      1.0  \n",
       "25%       0.0     1.395349   1.066667      1.0  \n",
       "50%       0.0     2.000000   1.103448      1.0  \n",
       "75%       0.0     2.136364   1.155645      1.0  \n",
       "max       0.0     2.272727   1.214286      1.0  "
      ]
     },
     "execution_count": 161,
     "metadata": {},
     "output_type": "execute_result"
    }
   ],
   "source": [
    "b.describe()"
   ]
  },
  {
   "cell_type": "markdown",
   "metadata": {},
   "source": [
    "### Bauchformen"
   ]
  },
  {
   "cell_type": "code",
   "execution_count": 111,
   "metadata": {
    "collapsed": true
   },
   "outputs": [],
   "source": [
    "sql = \"\"\"SELECT\n",
    "           t_Ort.ort_kurz,\n",
    "           t_Ort.ort_name,\n",
    "           t_Obj.objID,\n",
    "           t_Obj.Typ,\n",
    "           t_Obj.Form_Gef,\n",
    "           t_Obj.Form_Bauch\n",
    "       FROM (t_Ort INNER JOIN t_Komplex ON t_Ort.ortID = t_Komplex.ortID)\n",
    "           INNER JOIN t_Obj ON t_Komplex.komplexID = t_Obj.komplexID\n",
    "       WHERE (((t_Ort.ort_lit)='DS')\n",
    "           AND ((t_Obj.Typ) Like '%\"\"\"+style+\"\"\"%')\n",
    "           AND ((t_Obj.Form_Bauch) != '')\n",
    "           AND ((t_Obj.Anzahl) = 1))\"\"\".replace('\\n',' ')\n",
    "\n",
    "df = pd.read_sql(sql, con)\n",
    "\n",
    "# die Fragezeichen bei Gef-Form & Bauch-Form einfach löschen\n",
    "#df['Form_Gef'] = df['Form_Gef'].map(lambda x: x.rstrip(' (?)'))\n",
    "#df['Form_Bauch'] = df['Form_Bauch'].map(lambda x: x.rstrip(' (?)'))\n",
    "\n",
    "#display(df.head())"
   ]
  },
  {
   "cell_type": "code",
   "execution_count": 112,
   "metadata": {},
   "outputs": [
    {
     "name": "stderr",
     "output_type": "stream",
     "text": [
      "C:\\Users\\Dirk\\Anaconda3\\lib\\site-packages\\ipykernel\\__main__.py:4: FutureWarning: by argument to sort_index is deprecated, pls use .sort_values(by=...)\n"
     ]
    },
    {
     "data": {
      "text/html": [
       "<div>\n",
       "<table border=\"1\" class=\"dataframe\">\n",
       "  <thead>\n",
       "    <tr style=\"text-align: right;\">\n",
       "      <th></th>\n",
       "      <th>objID</th>\n",
       "      <th>Prozent</th>\n",
       "    </tr>\n",
       "    <tr>\n",
       "      <th>Form_Bauch</th>\n",
       "      <th></th>\n",
       "      <th></th>\n",
       "    </tr>\n",
       "  </thead>\n",
       "  <tbody>\n",
       "    <tr>\n",
       "      <th>A1</th>\n",
       "      <td>73</td>\n",
       "      <td>73.0</td>\n",
       "    </tr>\n",
       "    <tr>\n",
       "      <th>A3</th>\n",
       "      <td>14</td>\n",
       "      <td>14.0</td>\n",
       "    </tr>\n",
       "    <tr>\n",
       "      <th>A2</th>\n",
       "      <td>8</td>\n",
       "      <td>8.0</td>\n",
       "    </tr>\n",
       "    <tr>\n",
       "      <th>A1/A2</th>\n",
       "      <td>1</td>\n",
       "      <td>1.0</td>\n",
       "    </tr>\n",
       "    <tr>\n",
       "      <th>A1/A3</th>\n",
       "      <td>1</td>\n",
       "      <td>1.0</td>\n",
       "    </tr>\n",
       "    <tr>\n",
       "      <th>A1/D2</th>\n",
       "      <td>1</td>\n",
       "      <td>1.0</td>\n",
       "    </tr>\n",
       "    <tr>\n",
       "      <th>A3/A1</th>\n",
       "      <td>1</td>\n",
       "      <td>1.0</td>\n",
       "    </tr>\n",
       "    <tr>\n",
       "      <th>A3/D2</th>\n",
       "      <td>1</td>\n",
       "      <td>1.0</td>\n",
       "    </tr>\n",
       "  </tbody>\n",
       "</table>\n",
       "</div>"
      ],
      "text/plain": [
       "            objID  Prozent\n",
       "Form_Bauch                \n",
       "A1             73     73.0\n",
       "A3             14     14.0\n",
       "A2              8      8.0\n",
       "A1/A2           1      1.0\n",
       "A1/A3           1      1.0\n",
       "A1/D2           1      1.0\n",
       "A3/A1           1      1.0\n",
       "A3/D2           1      1.0"
      ]
     },
     "execution_count": 112,
     "metadata": {},
     "output_type": "execute_result"
    }
   ],
   "source": [
    "df_pivot = df.pivot_table(values = 'objID', index = 'Form_Bauch', aggfunc = len)\n",
    "df_pivot = pd.DataFrame(df_pivot)\n",
    "# Sortierung in Aufsteigend ändern\n",
    "df_pivot = df_pivot.sort_index(by = ['objID'], ascending=False)\n",
    "# Prozent-Anteil errechnen\n",
    "df_pivot['Prozent'] = df_pivot['objID']/df_pivot['objID'].sum()*100\n",
    "df_pivot"
   ]
  },
  {
   "cell_type": "code",
   "execution_count": 113,
   "metadata": {},
   "outputs": [
    {
     "data": {
      "text/plain": [
       "<matplotlib.text.Text at 0x13aee93128>"
      ]
     },
     "execution_count": 113,
     "metadata": {},
     "output_type": "execute_result"
    },
    {
     "data": {
      "image/png": "[encoded data removed]",
      "text/plain": [
       "<matplotlib.figure.Figure at 0x13aee86e10>"
      ]
     },
     "metadata": {},
     "output_type": "display_data"
    }
   ],
   "source": [
    "df_pivot.plot(y = 'objID', kind = 'barh', legend=False, color = 'grey')\n",
    "plt.xlabel('Haufigkeit')\n",
    "plt.ylabel('Gefäßbauch')"
   ]
  },
  {
   "cell_type": "markdown",
   "metadata": {},
   "source": [
    "### Korrelation Gef-Form & Bauchform"
   ]
  },
  {
   "cell_type": "code",
   "execution_count": 114,
   "metadata": {},
   "outputs": [
    {
     "data": {
      "image/png": "[encoded data removed]",
      "text/plain": [
       "<matplotlib.figure.Figure at 0x13aee93b70>"
      ]
     },
     "metadata": {},
     "output_type": "display_data"
    }
   ],
   "source": [
    "df_pivot = df.pivot_table(values = 'objID', index = 'Form_Bauch', columns = 'Form_Gef', aggfunc = len, fill_value = 0)\n",
    "#df_pivot\n",
    "plt.imshow(df_pivot, interpolation='nearest', cmap='Greys', alpha = .5)\n",
    "plt.yticks(range(len(df_pivot.index)), df_pivot.index)\n",
    "plt.xticks(range(len(df_pivot.columns)), df_pivot.columns, rotation='vertical')\n",
    "for (i, j), z in np.ndenumerate(df_pivot):\n",
    "    plt.text(j, i, '{:0.0f}'.format(z), ha='center', va='center')\n",
    "plt.show()"
   ]
  },
  {
   "cell_type": "markdown",
   "metadata": {},
   "source": [
    "## Mündungs- & Randformen"
   ]
  },
  {
   "cell_type": "code",
   "execution_count": 181,
   "metadata": {
    "collapsed": true
   },
   "outputs": [],
   "source": [
    "sql = \"\"\"SELECT\n",
    "           t_Ort.ort_kurz,\n",
    "           t_Ort.ort_name,\n",
    "           t_Obj.objID,\n",
    "           t_Obj.Typ,\n",
    "           t_Obj.Form_Mdg,\n",
    "           t_Obj.Form_Rand,\n",
    "           t_Obj.Form_Hals,\n",
    "           t_Obj.Form_Schulter\n",
    "       FROM (t_Ort INNER JOIN t_Komplex ON t_Ort.ortID = t_Komplex.ortID)\n",
    "           INNER JOIN t_Obj ON t_Komplex.komplexID = t_Obj.komplexID\n",
    "       WHERE (((t_Ort.ort_lit)='DS')\n",
    "           AND ((t_Obj.Typ) Like '%\"\"\"+style+\"\"\"%')\n",
    "           AND ((t_Obj.Anzahl) = 1))\"\"\".replace('\\n',' ')\n",
    "\n",
    "df = pd.read_sql(sql, con)\n",
    "# leere Werte in NaN ändern\n",
    "df = df.replace('',np.nan, regex=True)\n",
    "# display(df.head())"
   ]
  },
  {
   "cell_type": "code",
   "execution_count": 182,
   "metadata": {},
   "outputs": [
    {
     "name": "stderr",
     "output_type": "stream",
     "text": [
      "C:\\Users\\Dirk\\Anaconda3\\lib\\site-packages\\ipykernel\\__main__.py:5: FutureWarning: by argument to sort_index is deprecated, pls use .sort_values(by=...)\n"
     ]
    },
    {
     "data": {
      "text/html": [
       "<div>\n",
       "<table border=\"1\" class=\"dataframe\">\n",
       "  <thead>\n",
       "    <tr style=\"text-align: right;\">\n",
       "      <th></th>\n",
       "      <th>objID</th>\n",
       "      <th>Prozent</th>\n",
       "    </tr>\n",
       "    <tr>\n",
       "      <th>Form_Mdg</th>\n",
       "      <th></th>\n",
       "      <th></th>\n",
       "    </tr>\n",
       "  </thead>\n",
       "  <tbody>\n",
       "    <tr>\n",
       "      <th>M2</th>\n",
       "      <td>20</td>\n",
       "      <td>35.714286</td>\n",
       "    </tr>\n",
       "    <tr>\n",
       "      <th>M1</th>\n",
       "      <td>13</td>\n",
       "      <td>23.214286</td>\n",
       "    </tr>\n",
       "    <tr>\n",
       "      <th>M4</th>\n",
       "      <td>5</td>\n",
       "      <td>8.928571</td>\n",
       "    </tr>\n",
       "    <tr>\n",
       "      <th>M5/M1</th>\n",
       "      <td>4</td>\n",
       "      <td>7.142857</td>\n",
       "    </tr>\n",
       "    <tr>\n",
       "      <th>M3</th>\n",
       "      <td>3</td>\n",
       "      <td>5.357143</td>\n",
       "    </tr>\n",
       "    <tr>\n",
       "      <th>M5</th>\n",
       "      <td>3</td>\n",
       "      <td>5.357143</td>\n",
       "    </tr>\n",
       "    <tr>\n",
       "      <th>M2/M1</th>\n",
       "      <td>2</td>\n",
       "      <td>3.571429</td>\n",
       "    </tr>\n",
       "    <tr>\n",
       "      <th>M3/M4</th>\n",
       "      <td>2</td>\n",
       "      <td>3.571429</td>\n",
       "    </tr>\n",
       "    <tr>\n",
       "      <th>M1/M2</th>\n",
       "      <td>1</td>\n",
       "      <td>1.785714</td>\n",
       "    </tr>\n",
       "    <tr>\n",
       "      <th>M1/M5</th>\n",
       "      <td>1</td>\n",
       "      <td>1.785714</td>\n",
       "    </tr>\n",
       "    <tr>\n",
       "      <th>M2 (?)</th>\n",
       "      <td>1</td>\n",
       "      <td>1.785714</td>\n",
       "    </tr>\n",
       "    <tr>\n",
       "      <th>M4/M3</th>\n",
       "      <td>1</td>\n",
       "      <td>1.785714</td>\n",
       "    </tr>\n",
       "  </tbody>\n",
       "</table>\n",
       "</div>"
      ],
      "text/plain": [
       "          objID    Prozent\n",
       "Form_Mdg                  \n",
       "M2           20  35.714286\n",
       "M1           13  23.214286\n",
       "M4            5   8.928571\n",
       "M5/M1         4   7.142857\n",
       "M3            3   5.357143\n",
       "M5            3   5.357143\n",
       "M2/M1         2   3.571429\n",
       "M3/M4         2   3.571429\n",
       "M1/M2         1   1.785714\n",
       "M1/M5         1   1.785714\n",
       "M2 (?)        1   1.785714\n",
       "M4/M3         1   1.785714"
      ]
     },
     "execution_count": 182,
     "metadata": {},
     "output_type": "execute_result"
    }
   ],
   "source": [
    "# Zeilen ohne Mdg löschen\n",
    "df_pivot = df.pivot_table(values = 'objID', index = 'Form_Mdg', aggfunc = len)\n",
    "df_pivot = pd.DataFrame(df_pivot)\n",
    "# Sortierung in Aufsteigend ändern\n",
    "df_pivot = df_pivot.sort_index(by = ['objID'], ascending=False)\n",
    "# Prozent-Anteil errechnen\n",
    "df_pivot['Prozent'] = df_pivot['objID']/df_pivot['objID'].sum()*100\n",
    "df_pivot"
   ]
  },
  {
   "cell_type": "code",
   "execution_count": 183,
   "metadata": {},
   "outputs": [
    {
     "data": {
      "text/plain": [
       "12"
      ]
     },
     "execution_count": 183,
     "metadata": {},
     "output_type": "execute_result"
    }
   ],
   "source": [
    "len(df_pivot['objID'])    # Anzahl beobachtete Mdgformen"
   ]
  },
  {
   "cell_type": "code",
   "execution_count": 184,
   "metadata": {},
   "outputs": [
    {
     "name": "stderr",
     "output_type": "stream",
     "text": [
      "C:\\Users\\Dirk\\Anaconda3\\lib\\site-packages\\ipykernel\\__main__.py:5: FutureWarning: by argument to sort_index is deprecated, pls use .sort_values(by=...)\n"
     ]
    },
    {
     "data": {
      "text/html": [
       "<div>\n",
       "<table border=\"1\" class=\"dataframe\">\n",
       "  <thead>\n",
       "    <tr style=\"text-align: right;\">\n",
       "      <th></th>\n",
       "      <th>objID</th>\n",
       "      <th>Prozent</th>\n",
       "    </tr>\n",
       "    <tr>\n",
       "      <th>Form_Rand</th>\n",
       "      <th></th>\n",
       "      <th></th>\n",
       "    </tr>\n",
       "  </thead>\n",
       "  <tbody>\n",
       "    <tr>\n",
       "      <th>B3</th>\n",
       "      <td>19</td>\n",
       "      <td>29.230769</td>\n",
       "    </tr>\n",
       "    <tr>\n",
       "      <th>B1</th>\n",
       "      <td>14</td>\n",
       "      <td>21.538462</td>\n",
       "    </tr>\n",
       "    <tr>\n",
       "      <th>B2</th>\n",
       "      <td>9</td>\n",
       "      <td>13.846154</td>\n",
       "    </tr>\n",
       "    <tr>\n",
       "      <th>B1/B3</th>\n",
       "      <td>5</td>\n",
       "      <td>7.692308</td>\n",
       "    </tr>\n",
       "    <tr>\n",
       "      <th>B1.1</th>\n",
       "      <td>4</td>\n",
       "      <td>6.153846</td>\n",
       "    </tr>\n",
       "  </tbody>\n",
       "</table>\n",
       "</div>"
      ],
      "text/plain": [
       "           objID    Prozent\n",
       "Form_Rand                  \n",
       "B3            19  29.230769\n",
       "B1            14  21.538462\n",
       "B2             9  13.846154\n",
       "B1/B3          5   7.692308\n",
       "B1.1           4   6.153846"
      ]
     },
     "metadata": {},
     "output_type": "display_data"
    }
   ],
   "source": [
    "# Zeilen ohne Mdg löschen\n",
    "df_pivot = df.pivot_table(values = 'objID', index = 'Form_Rand', aggfunc = len)\n",
    "df_pivot = pd.DataFrame(df_pivot)\n",
    "# Sortierung in Aufsteigend ändern\n",
    "df_pivot = df_pivot.sort_index(by = ['objID'], ascending=False)\n",
    "# Prozent-Anteil errechnen\n",
    "df_pivot['Prozent'] = df_pivot['objID']/df_pivot['objID'].sum()*100\n",
    "display(df_pivot.head())"
   ]
  },
  {
   "cell_type": "code",
   "execution_count": 185,
   "metadata": {},
   "outputs": [
    {
     "data": {
      "text/html": [
       "<div>\n",
       "<table border=\"1\" class=\"dataframe\">\n",
       "  <thead>\n",
       "    <tr style=\"text-align: right;\">\n",
       "      <th></th>\n",
       "      <th>0</th>\n",
       "      <th>Prozent</th>\n",
       "    </tr>\n",
       "  </thead>\n",
       "  <tbody>\n",
       "    <tr>\n",
       "      <th>B</th>\n",
       "      <td>55</td>\n",
       "      <td>84.615385</td>\n",
       "    </tr>\n",
       "    <tr>\n",
       "      <th>nicht B</th>\n",
       "      <td>10</td>\n",
       "      <td>15.384615</td>\n",
       "    </tr>\n",
       "  </tbody>\n",
       "</table>\n",
       "</div>"
      ],
      "text/plain": [
       "          0    Prozent\n",
       "B        55  84.615385\n",
       "nicht B  10  15.384615"
      ]
     },
     "execution_count": 185,
     "metadata": {},
     "output_type": "execute_result"
    }
   ],
   "source": [
    "a = pd.Series({'B':sum(df_pivot[\"objID\"].loc[df_pivot.index.str.contains(\"B\")]),\n",
    "               'nicht B':sum(df_pivot[\"objID\"].loc[~df_pivot.index.str.contains(\"B\")])})\n",
    "a = pd.DataFrame(a)\n",
    "a['Prozent'] = a[0]/a[0].sum()*100\n",
    "a"
   ]
  },
  {
   "cell_type": "code",
   "execution_count": 186,
   "metadata": {},
   "outputs": [
    {
     "data": {
      "text/html": [
       "<div>\n",
       "<table border=\"1\" class=\"dataframe\">\n",
       "  <thead>\n",
       "    <tr style=\"text-align: right;\">\n",
       "      <th></th>\n",
       "      <th>0</th>\n",
       "      <th>Prozent</th>\n",
       "    </tr>\n",
       "  </thead>\n",
       "  <tbody>\n",
       "    <tr>\n",
       "      <th>R13</th>\n",
       "      <td>0</td>\n",
       "      <td>0.0</td>\n",
       "    </tr>\n",
       "    <tr>\n",
       "      <th>nicht R13</th>\n",
       "      <td>65</td>\n",
       "      <td>100.0</td>\n",
       "    </tr>\n",
       "  </tbody>\n",
       "</table>\n",
       "</div>"
      ],
      "text/plain": [
       "            0  Prozent\n",
       "R13         0      0.0\n",
       "nicht R13  65    100.0"
      ]
     },
     "execution_count": 186,
     "metadata": {},
     "output_type": "execute_result"
    }
   ],
   "source": [
    "a = pd.Series({'R13':sum(df_pivot[\"objID\"].loc[df_pivot.index.str.contains(\"R13\")]),\n",
    "               'nicht R13':sum(df_pivot[\"objID\"].loc[~df_pivot.index.str.contains(\"R13\")])})\n",
    "a = pd.DataFrame(a)\n",
    "a['Prozent'] = a[0]/a[0].sum()*100\n",
    "a"
   ]
  },
  {
   "cell_type": "code",
   "execution_count": 187,
   "metadata": {},
   "outputs": [
    {
     "name": "stderr",
     "output_type": "stream",
     "text": [
      "C:\\Users\\Dirk\\Anaconda3\\lib\\site-packages\\ipykernel\\__main__.py:3: SettingWithCopyWarning: \n",
      "A value is trying to be set on a copy of a slice from a DataFrame.\n",
      "Try using .loc[row_indexer,col_indexer] = value instead\n",
      "\n",
      "See the caveats in the documentation: http://pandas.pydata.org/pandas-docs/stable/indexing.html#indexing-view-versus-copy\n",
      "  app.launch_new_instance()\n",
      "C:\\Users\\Dirk\\Anaconda3\\lib\\site-packages\\ipykernel\\__main__.py:4: SettingWithCopyWarning: \n",
      "A value is trying to be set on a copy of a slice from a DataFrame.\n",
      "Try using .loc[row_indexer,col_indexer] = value instead\n",
      "\n",
      "See the caveats in the documentation: http://pandas.pydata.org/pandas-docs/stable/indexing.html#indexing-view-versus-copy\n",
      "C:\\Users\\Dirk\\Anaconda3\\lib\\site-packages\\ipykernel\\__main__.py:9: FutureWarning: by argument to sort_index is deprecated, pls use .sort_values(by=...)\n"
     ]
    },
    {
     "data": {
      "text/html": [
       "<div>\n",
       "<table border=\"1\" class=\"dataframe\">\n",
       "  <thead>\n",
       "    <tr style=\"text-align: right;\">\n",
       "      <th></th>\n",
       "      <th>objID</th>\n",
       "      <th>Prozent</th>\n",
       "    </tr>\n",
       "    <tr>\n",
       "      <th>Form_Rand</th>\n",
       "      <th></th>\n",
       "      <th></th>\n",
       "    </tr>\n",
       "  </thead>\n",
       "  <tbody>\n",
       "    <tr>\n",
       "      <th>B1</th>\n",
       "      <td>20</td>\n",
       "      <td>30.769231</td>\n",
       "    </tr>\n",
       "    <tr>\n",
       "      <th>B3</th>\n",
       "      <td>19</td>\n",
       "      <td>29.230769</td>\n",
       "    </tr>\n",
       "    <tr>\n",
       "      <th>B2</th>\n",
       "      <td>10</td>\n",
       "      <td>15.384615</td>\n",
       "    </tr>\n",
       "    <tr>\n",
       "      <th>B1.1</th>\n",
       "      <td>4</td>\n",
       "      <td>6.153846</td>\n",
       "    </tr>\n",
       "    <tr>\n",
       "      <th>A2.4</th>\n",
       "      <td>3</td>\n",
       "      <td>4.615385</td>\n",
       "    </tr>\n",
       "  </tbody>\n",
       "</table>\n",
       "</div>"
      ],
      "text/plain": [
       "           objID    Prozent\n",
       "Form_Rand                  \n",
       "B1            20  30.769231\n",
       "B3            19  29.230769\n",
       "B2            10  15.384615\n",
       "B1.1           4   6.153846\n",
       "A2.4           3   4.615385"
      ]
     },
     "metadata": {},
     "output_type": "display_data"
    }
   ],
   "source": [
    "# Fragezeichen löschen\n",
    "df1 = df.dropna(subset = ['Form_Rand'])\n",
    "df1['Form_Rand'] = df1['Form_Rand'].map(lambda x: x.rstrip(' (?)'))\n",
    "df1['Form_Rand'] = df1['Form_Rand'].apply(lambda x: x.split('/')[0])\n",
    "\n",
    "df_pivot = df1.pivot_table(values = 'objID', index = 'Form_Rand', aggfunc = len)\n",
    "df_pivot = pd.DataFrame(df_pivot)\n",
    "# Sortierung in Aufsteigend ändern\n",
    "df_pivot = df_pivot.sort_index(by = ['objID'], ascending=False)\n",
    "# Prozent-Anteil errechnen\n",
    "df_pivot['Prozent'] = df_pivot['objID']/df_pivot['objID'].sum()*100\n",
    "display(df_pivot.head())"
   ]
  },
  {
   "cell_type": "code",
   "execution_count": 188,
   "metadata": {},
   "outputs": [
    {
     "data": {
      "text/plain": [
       "65"
      ]
     },
     "execution_count": 188,
     "metadata": {},
     "output_type": "execute_result"
    }
   ],
   "source": [
    "df_pivot['objID'].sum()"
   ]
  },
  {
   "cell_type": "code",
   "execution_count": 189,
   "metadata": {},
   "outputs": [
    {
     "data": {
      "text/plain": [
       "<matplotlib.text.Text at 0x13afc4f588>"
      ]
     },
     "execution_count": 189,
     "metadata": {},
     "output_type": "execute_result"
    },
    {
     "data": {
      "image/png": "[encoded data removed]",
      "text/plain": [
       "<matplotlib.figure.Figure at 0x13b04d7c50>"
      ]
     },
     "metadata": {},
     "output_type": "display_data"
    }
   ],
   "source": [
    "fig = plt.figure()\n",
    "fig.set_size_inches(5, 5)\n",
    "df_pivot['objID'].plot(kind='pie', autopct='%.0f %%', cmap = 'Paired')\n",
    "plt.ylabel('')"
   ]
  },
  {
   "cell_type": "code",
   "execution_count": 190,
   "metadata": {},
   "outputs": [
    {
     "data": {
      "text/plain": [
       "11"
      ]
     },
     "execution_count": 190,
     "metadata": {},
     "output_type": "execute_result"
    }
   ],
   "source": [
    "len(df_pivot['objID'])    # Anzahl beobachtete Randformen"
   ]
  },
  {
   "cell_type": "code",
   "execution_count": 124,
   "metadata": {},
   "outputs": [
    {
     "data": {
      "image/png": "[encoded data removed]",
      "text/plain": [
       "<matplotlib.figure.Figure at 0x13ad40aac8>"
      ]
     },
     "metadata": {},
     "output_type": "display_data"
    }
   ],
   "source": [
    "df_pivot = df.pivot_table(values = 'objID', index = 'Form_Mdg', columns = 'Form_Rand', aggfunc = len, fill_value = 0)\n",
    "fig = plt.figure()\n",
    "fig.set_size_inches(12, 7.5)\n",
    "plt.imshow(df_pivot, interpolation='nearest', cmap='Greys', alpha = .5)\n",
    "plt.yticks(range(len(df_pivot.index)), df_pivot.index)\n",
    "plt.xticks(range(len(df_pivot.columns)), df_pivot.columns, rotation='vertical')\n",
    "for (i, j), z in np.ndenumerate(df_pivot):\n",
    "    plt.text(j, i, '{:0.0f}'.format(z), ha='center', va='center')\n",
    "plt.show()"
   ]
  },
  {
   "cell_type": "code",
   "execution_count": 125,
   "metadata": {},
   "outputs": [
    {
     "data": {
      "text/plain": [
       "<matplotlib.text.Text at 0x13ad8e4da0>"
      ]
     },
     "execution_count": 125,
     "metadata": {},
     "output_type": "execute_result"
    },
    {
     "data": {
      "image/png": "[encoded data removed]",
      "text/plain": [
       "<matplotlib.figure.Figure at 0x13acfe9a58>"
      ]
     },
     "metadata": {},
     "output_type": "display_data"
    }
   ],
   "source": [
    "df_pivot = df.pivot_table(values = 'objID', index = 'Form_Hals', aggfunc = len)\n",
    "fig = plt.figure()\n",
    "fig.set_size_inches(5, 5)\n",
    "df_pivot.plot(kind='pie', autopct='%.0f %%', cmap = 'Paired')\n",
    "plt.title(\"Hals\")"
   ]
  },
  {
   "cell_type": "code",
   "execution_count": 126,
   "metadata": {},
   "outputs": [
    {
     "data": {
      "text/plain": [
       "<matplotlib.text.Text at 0x13af120828>"
      ]
     },
     "execution_count": 126,
     "metadata": {},
     "output_type": "execute_result"
    },
    {
     "data": {
      "image/png": "[encoded data removed]",
      "text/plain": [
       "<matplotlib.figure.Figure at 0x13aceefbe0>"
      ]
     },
     "metadata": {},
     "output_type": "display_data"
    }
   ],
   "source": [
    "df_pivot = df.pivot_table(values = 'objID', index = 'Form_Schulter', aggfunc = len)\n",
    "fig = plt.figure()\n",
    "fig.set_size_inches(5, 5)\n",
    "df_pivot.plot(kind='pie', autopct='%.0f %%', cmap = 'Paired')\n",
    "plt.title(\"Schulter\")"
   ]
  },
  {
   "cell_type": "markdown",
   "metadata": {},
   "source": [
    "### Bodenformen"
   ]
  },
  {
   "cell_type": "code",
   "execution_count": 127,
   "metadata": {},
   "outputs": [
    {
     "data": {
      "text/html": [
       "<div>\n",
       "<table border=\"1\" class=\"dataframe\">\n",
       "  <thead>\n",
       "    <tr style=\"text-align: right;\">\n",
       "      <th></th>\n",
       "      <th>ort_kurz</th>\n",
       "      <th>ort_name</th>\n",
       "      <th>objID</th>\n",
       "      <th>Typ</th>\n",
       "      <th>Form_Gef</th>\n",
       "      <th>Form_Boden</th>\n",
       "    </tr>\n",
       "  </thead>\n",
       "  <tbody>\n",
       "    <tr>\n",
       "      <th>0</th>\n",
       "      <td>PDM</td>\n",
       "      <td>Pandama</td>\n",
       "      <td>1123</td>\n",
       "      <td>PDM</td>\n",
       "      <td>I4</td>\n",
       "      <td>B1</td>\n",
       "    </tr>\n",
       "    <tr>\n",
       "      <th>1</th>\n",
       "      <td>KON</td>\n",
       "      <td>Konda</td>\n",
       "      <td>1189</td>\n",
       "      <td>PDM</td>\n",
       "      <td>I4</td>\n",
       "      <td>B1</td>\n",
       "    </tr>\n",
       "    <tr>\n",
       "      <th>2</th>\n",
       "      <td>KON</td>\n",
       "      <td>Konda</td>\n",
       "      <td>1490</td>\n",
       "      <td>PDM</td>\n",
       "      <td>I4</td>\n",
       "      <td>B2</td>\n",
       "    </tr>\n",
       "    <tr>\n",
       "      <th>3</th>\n",
       "      <td>KON</td>\n",
       "      <td>Konda</td>\n",
       "      <td>1491</td>\n",
       "      <td>PDM</td>\n",
       "      <td>I4</td>\n",
       "      <td>B1</td>\n",
       "    </tr>\n",
       "    <tr>\n",
       "      <th>4</th>\n",
       "      <td>KON</td>\n",
       "      <td>Konda</td>\n",
       "      <td>2019</td>\n",
       "      <td>PDM</td>\n",
       "      <td>I4</td>\n",
       "      <td>B1</td>\n",
       "    </tr>\n",
       "    <tr>\n",
       "      <th>5</th>\n",
       "      <td>MDB</td>\n",
       "      <td>Mandombe</td>\n",
       "      <td>3057</td>\n",
       "      <td>PDM (?)</td>\n",
       "      <td>I4</td>\n",
       "      <td>B1</td>\n",
       "    </tr>\n",
       "    <tr>\n",
       "      <th>6</th>\n",
       "      <td>MDB</td>\n",
       "      <td>Mandombe</td>\n",
       "      <td>4265</td>\n",
       "      <td>PDM (?)</td>\n",
       "      <td>I4</td>\n",
       "      <td>B1</td>\n",
       "    </tr>\n",
       "    <tr>\n",
       "      <th>7</th>\n",
       "      <td>MDB</td>\n",
       "      <td>Mandombe</td>\n",
       "      <td>4267</td>\n",
       "      <td>PDM (?)</td>\n",
       "      <td>I4</td>\n",
       "      <td>B1</td>\n",
       "    </tr>\n",
       "    <tr>\n",
       "      <th>8</th>\n",
       "      <td>MDB</td>\n",
       "      <td>Mandombe</td>\n",
       "      <td>4273</td>\n",
       "      <td>PDM (?)</td>\n",
       "      <td>I4</td>\n",
       "      <td>B1</td>\n",
       "    </tr>\n",
       "    <tr>\n",
       "      <th>9</th>\n",
       "      <td>MAB</td>\n",
       "      <td>Maboko</td>\n",
       "      <td>4561</td>\n",
       "      <td>PDM (?)</td>\n",
       "      <td>I4</td>\n",
       "      <td>B1</td>\n",
       "    </tr>\n",
       "  </tbody>\n",
       "</table>\n",
       "</div>"
      ],
      "text/plain": [
       "  ort_kurz  ort_name  objID      Typ Form_Gef Form_Boden\n",
       "0      PDM   Pandama   1123      PDM       I4         B1\n",
       "1      KON     Konda   1189      PDM       I4         B1\n",
       "2      KON     Konda   1490      PDM       I4         B2\n",
       "3      KON     Konda   1491      PDM       I4         B1\n",
       "4      KON     Konda   2019      PDM       I4         B1\n",
       "5      MDB  Mandombe   3057  PDM (?)       I4         B1\n",
       "6      MDB  Mandombe   4265  PDM (?)       I4         B1\n",
       "7      MDB  Mandombe   4267  PDM (?)       I4         B1\n",
       "8      MDB  Mandombe   4273  PDM (?)       I4         B1\n",
       "9      MAB    Maboko   4561  PDM (?)       I4         B1"
      ]
     },
     "execution_count": 127,
     "metadata": {},
     "output_type": "execute_result"
    }
   ],
   "source": [
    "sql = \"\"\"SELECT\n",
    "           t_Ort.ort_kurz,\n",
    "           t_Ort.ort_name,\n",
    "           t_Obj.objID,\n",
    "           t_Obj.Typ,\n",
    "           t_Obj.Form_Gef,\n",
    "           t_Obj.Form_Boden\n",
    "       FROM (t_Ort INNER JOIN t_Komplex ON t_Ort.ortID = t_Komplex.ortID)\n",
    "           INNER JOIN t_Obj ON t_Komplex.komplexID = t_Obj.komplexID\n",
    "       WHERE (((t_Ort.ort_lit)='DS')\n",
    "           AND ((t_Obj.Typ) Like '%\"\"\"+style+\"\"\"%')\n",
    "           AND ((t_Obj.Anzahl) = 1)\n",
    "           AND ((t_Obj.Form_Boden) != ''))\"\"\".replace('\\n',' ')\n",
    "\n",
    "df = pd.read_sql(sql, con)\n",
    "df"
   ]
  },
  {
   "cell_type": "code",
   "execution_count": 128,
   "metadata": {},
   "outputs": [
    {
     "data": {
      "text/html": [
       "<div>\n",
       "<table border=\"1\" class=\"dataframe\">\n",
       "  <thead>\n",
       "    <tr style=\"text-align: right;\">\n",
       "      <th></th>\n",
       "      <th>objID</th>\n",
       "      <th>Prozent</th>\n",
       "    </tr>\n",
       "    <tr>\n",
       "      <th>Form_Boden</th>\n",
       "      <th></th>\n",
       "      <th></th>\n",
       "    </tr>\n",
       "  </thead>\n",
       "  <tbody>\n",
       "    <tr>\n",
       "      <th>B1</th>\n",
       "      <td>9</td>\n",
       "      <td>90.0</td>\n",
       "    </tr>\n",
       "    <tr>\n",
       "      <th>B2</th>\n",
       "      <td>1</td>\n",
       "      <td>10.0</td>\n",
       "    </tr>\n",
       "  </tbody>\n",
       "</table>\n",
       "</div>"
      ],
      "text/plain": [
       "            objID  Prozent\n",
       "Form_Boden                \n",
       "B1              9     90.0\n",
       "B2              1     10.0"
      ]
     },
     "execution_count": 128,
     "metadata": {},
     "output_type": "execute_result"
    }
   ],
   "source": [
    "# Zeilen ohne Mdg löschen\n",
    "df_pivot = df.pivot_table(values = 'objID', index = 'Form_Boden', aggfunc = len)\n",
    "df_pivot = pd.DataFrame(df_pivot)\n",
    "# Sortierung in Aufsteigend ändern\n",
    "#df_pivot = df_pivot.sort_index(by = ['objID'], ascending=False)\n",
    "# Prozent-Anteil errechnen\n",
    "df_pivot['Prozent'] = df_pivot['objID']/df_pivot['objID'].sum()*100\n",
    "df_pivot"
   ]
  },
  {
   "cell_type": "markdown",
   "metadata": {},
   "source": [
    "## Verzierungselemente"
   ]
  },
  {
   "cell_type": "code",
   "execution_count": 2,
   "metadata": {},
   "outputs": [
    {
     "name": "stderr",
     "output_type": "stream",
     "text": [
      "C:\\Users\\Dirk\\Dropbox\\Dissertation\\Python\\myfunctions.py:66: SettingWithCopyWarning: \n",
      "A value is trying to be set on a copy of a slice from a DataFrame.\n",
      "Try using .loc[row_indexer,col_indexer] = value instead\n",
      "\n",
      "See the caveats in the documentation: http://pandas.pydata.org/pandas-docs/stable/indexing.html#indexing-view-versus-copy\n",
      "  df1['n'] = 1\n",
      "C:\\Users\\Dirk\\Dropbox\\Dissertation\\Python\\myfunctions.py:88: FutureWarning: convert_objects is deprecated.  Use the data-type specific converters pd.to_datetime, pd.to_timedelta and pd.to_numeric.\n",
      "  ab[1] = ab[1].convert_objects(convert_numeric=True)\n"
     ]
    }
   ],
   "source": [
    "(df_pivotBig_perc, df_pivotBig_perc_a, new_cmap) = decoration_positon_matrices_print(style)"
   ]
  },
  {
   "cell_type": "code",
   "execution_count": 3,
   "metadata": {},
   "outputs": [
    {
     "data": {
      "image/png": "[encoded data removed]",
      "text/plain": [
       "<matplotlib.figure.Figure at 0x21ac7ac5a20>"
      ]
     },
     "metadata": {},
     "output_type": "display_data"
    }
   ],
   "source": [
    "fig = plt.figure()\n",
    "fig.set_size_inches(25, 15)\n",
    "\n",
    "ax = plt.gca()\n",
    "im = ax.imshow(df_pivotBig_perc, interpolation='nearest', cmap=parula_map, alpha=.66)\n",
    "\n",
    "plt.xlabel('Verzierungselemente (Schlüssel)')\n",
    "plt.yticks(range(len(df_pivotBig_perc.index)), df_pivotBig_perc.index.str[2:])\n",
    "plt.xticks(range(len(df_pivotBig_perc.columns)), df_pivotBig_perc.columns, rotation = -45)\n",
    "\n",
    "for (i, j), z in np.ndenumerate(df_pivotBig_perc_a):\n",
    "    plt.text(j, i, z, ha='center', va='center')\n",
    "    \n",
    "plt.axvline(10.5, color='grey', linestyle = '--')\n",
    "plt.axvline(17.5, color='grey', linestyle = '--')\n",
    "plt.axvline(18.5, color='grey', linestyle = '--')\n",
    "plt.axvline(20.5, color='grey', linestyle = '--')\n",
    "plt.axvline(43.5, color='grey', linestyle = '--')\n",
    "plt.axvline(44.5, color='grey', linestyle = '--')\n",
    "plt.axvline(57.5, color='grey', linestyle = '--')\n",
    "plt.axvline(61.5, color='grey', linestyle = '--')\n",
    "plt.axvline(70.5, color='grey', linestyle = '--')\n",
    "\n",
    "divider = make_axes_locatable(ax)\n",
    "cax = divider.append_axes(\"right\", size=\"1%\", pad=0.2)\n",
    "cbar = plt.colorbar(im, cax=cax)\n",
    "cbar.set_label('Anteil (%)', rotation = -90, labelpad = 15)\n",
    "\n",
    "plt.tight_layout()\n",
    "\n",
    "plt.savefig('../output/figs/3-1-2-9_Pandama_VerzierungselmenteAlle.pdf', bbox_inches='tight')\n",
    "plt.show()"
   ]
  },
  {
   "cell_type": "code",
   "execution_count": 131,
   "metadata": {
    "collapsed": true
   },
   "outputs": [],
   "source": [
    "sql = \"\"\"SELECT\n",
    "           t_Obj.objID,\n",
    "           t_K_Pos.posID,\n",
    "           t_K_Verz.verzID,\n",
    "           [t_K_Pos].[posReihe] || ' ' || [posName] AS pos,\n",
    "           t_K_Verz.verzName,\n",
    "           t_K_Verz.verzName_alt,\n",
    "           t_K_Verz.verzBeschr,\n",
    "           t_Obj.Typ,\n",
    "           t_Obj.Form_Gef\n",
    "       FROM t_Obj INNER JOIN \"t_ObjPosVerz\" ON t_Obj.objID = \"t_ObjPosVerz\".objID\n",
    "           INNER JOIN t_K_Pos ON \"t_ObjPosVerz\".posID = t_K_Pos.posID\n",
    "           INNER JOIN t_K_Verz ON \"t_ObjPosVerz\".verzID = t_K_Verz.verzID\n",
    "       WHERE (((t_K_Pos.posID)<>1)\n",
    "           AND ((t_K_Verz.verzName) != '')\n",
    "           AND ((t_Obj.Typ) Like '%\"\"\"+style+\"\"\"%'))\"\"\".replace('\\n',' ')\n",
    "\n",
    "df = pd.read_sql(sql, con)\n",
    "# display(df.head())"
   ]
  },
  {
   "cell_type": "code",
   "execution_count": 132,
   "metadata": {
    "collapsed": true
   },
   "outputs": [],
   "source": [
    "df_pivot = df.pivot_table(values = 'objID', index = 'pos', columns = 'verzName', aggfunc = len)\n",
    "df_pivot = df_pivot.fillna(0)\n",
    "# Sortierung für graphische Darstellung umdrehen\n",
    "df_pivot = df_pivot.sort_index(ascending=True)\n",
    "# heatmap siehe http://yonatanfriedman.com/docs/survey/plotting.html"
   ]
  },
  {
   "cell_type": "code",
   "execution_count": 133,
   "metadata": {},
   "outputs": [
    {
     "data": {
      "image/png": "[encoded data removed]",
      "text/plain": [
       "<matplotlib.figure.Figure at 0x13afeb5208>"
      ]
     },
     "metadata": {},
     "output_type": "display_data"
    }
   ],
   "source": [
    "fig = plt.figure()\n",
    "fig.set_size_inches(10, 7.5)\n",
    "plt.imshow(df_pivot, interpolation='nearest', cmap='Greys', alpha = .5)\n",
    "plt.ylabel('Gefäßposition')\n",
    "plt.xlabel('Verzierungselemente')\n",
    "plt.yticks(range(len(df_pivot.index)), df_pivot.index)\n",
    "plt.xticks(range(len(df_pivot.columns)), df_pivot.columns, rotation='vertical')\n",
    "# plt.colorbar(orientation='horizontal')\n",
    "for (i, j), z in np.ndenumerate(df_pivot):\n",
    "    plt.text(j, i, '{:0.0f}'.format(z), ha='center', va='center')\n",
    "plt.tight_layout()\n",
    "plt.savefig('../output/figs/3-1-2-9_Pandama_Verzierungselmente.pdf', bbox_inches='tight')\n",
    "plt.show()"
   ]
  },
  {
   "cell_type": "code",
   "execution_count": 134,
   "metadata": {},
   "outputs": [
    {
     "name": "stderr",
     "output_type": "stream",
     "text": [
      "C:\\Users\\Dirk\\Anaconda3\\lib\\site-packages\\ipykernel\\__main__.py:4: FutureWarning: by argument to sort_index is deprecated, pls use .sort_values(by=...)\n"
     ]
    }
   ],
   "source": [
    "df_pivot = df.pivot_table(values = 'objID', index = 'verzName', aggfunc = len)\n",
    "df_pivot = pd.DataFrame(df_pivot)\n",
    "# Sortierung in Aufsteigend ändern\n",
    "df_pivot = df_pivot.sort_index(by = ['objID'], ascending = True)"
   ]
  },
  {
   "cell_type": "code",
   "execution_count": 135,
   "metadata": {},
   "outputs": [
    {
     "data": {
      "text/plain": [
       "<matplotlib.text.Text at 0x13af902c50>"
      ]
     },
     "execution_count": 135,
     "metadata": {},
     "output_type": "execute_result"
    },
    {
     "data": {
      "image/png": "[encoded data removed]",
      "text/plain": [
       "<matplotlib.figure.Figure at 0x13afec9550>"
      ]
     },
     "metadata": {},
     "output_type": "display_data"
    }
   ],
   "source": [
    "fig = plt.figure()\n",
    "fig.set_size_inches(5, 5)\n",
    "df_pivot['objID'].plot(kind='pie', autopct='%.0f %%', cmap = 'Paired' )\n",
    "plt.ylabel('')"
   ]
  },
  {
   "cell_type": "code",
   "execution_count": 136,
   "metadata": {},
   "outputs": [
    {
     "name": "stderr",
     "output_type": "stream",
     "text": [
      "C:\\Users\\Dirk\\Anaconda3\\lib\\site-packages\\ipykernel\\__main__.py:5: FutureWarning: by argument to sort_index is deprecated, pls use .sort_values(by=...)\n"
     ]
    },
    {
     "data": {
      "text/html": [
       "<div>\n",
       "<table border=\"1\" class=\"dataframe\">\n",
       "  <thead>\n",
       "    <tr style=\"text-align: right;\">\n",
       "      <th></th>\n",
       "      <th>objID</th>\n",
       "      <th>Prozent</th>\n",
       "    </tr>\n",
       "    <tr>\n",
       "      <th>pos</th>\n",
       "      <th></th>\n",
       "      <th></th>\n",
       "    </tr>\n",
       "  </thead>\n",
       "  <tbody>\n",
       "    <tr>\n",
       "      <th>4 Schulter</th>\n",
       "      <td>164</td>\n",
       "      <td>49.848024</td>\n",
       "    </tr>\n",
       "    <tr>\n",
       "      <th>5 Bauch</th>\n",
       "      <td>117</td>\n",
       "      <td>35.562310</td>\n",
       "    </tr>\n",
       "    <tr>\n",
       "      <th>2 Rand</th>\n",
       "      <td>17</td>\n",
       "      <td>5.167173</td>\n",
       "    </tr>\n",
       "    <tr>\n",
       "      <th>3 Hals</th>\n",
       "      <td>16</td>\n",
       "      <td>4.863222</td>\n",
       "    </tr>\n",
       "    <tr>\n",
       "      <th>1 Innen</th>\n",
       "      <td>15</td>\n",
       "      <td>4.559271</td>\n",
       "    </tr>\n",
       "  </tbody>\n",
       "</table>\n",
       "</div>"
      ],
      "text/plain": [
       "            objID    Prozent\n",
       "pos                         \n",
       "4 Schulter    164  49.848024\n",
       "5 Bauch       117  35.562310\n",
       "2 Rand         17   5.167173\n",
       "3 Hals         16   4.863222\n",
       "1 Innen        15   4.559271"
      ]
     },
     "execution_count": 136,
     "metadata": {},
     "output_type": "execute_result"
    }
   ],
   "source": [
    "df_pivot = df.pivot_table(values = 'objID', index = 'pos', aggfunc = len)\n",
    "df_pivot = pd.DataFrame(df_pivot)\n",
    "# Sortierung in Aufsteigend ändern\n",
    "df_pivot['Prozent'] = df_pivot[\"objID\"]/df_pivot[\"objID\"].sum()*100\n",
    "df_pivot = df_pivot.sort_index(by = ['objID'], ascending = False)\n",
    "df_pivot"
   ]
  },
  {
   "cell_type": "code",
   "execution_count": 137,
   "metadata": {},
   "outputs": [
    {
     "data": {
      "text/html": [
       "<div>\n",
       "<table border=\"1\" class=\"dataframe\">\n",
       "  <thead>\n",
       "    <tr style=\"text-align: right;\">\n",
       "      <th></th>\n",
       "      <th>0</th>\n",
       "      <th>Prozent</th>\n",
       "    </tr>\n",
       "  </thead>\n",
       "  <tbody>\n",
       "    <tr>\n",
       "      <th>Roulette-Verzierung</th>\n",
       "      <td>181</td>\n",
       "      <td>55.015198</td>\n",
       "    </tr>\n",
       "    <tr>\n",
       "      <th>Weitere Verzierungen</th>\n",
       "      <td>148</td>\n",
       "      <td>44.984802</td>\n",
       "    </tr>\n",
       "  </tbody>\n",
       "</table>\n",
       "</div>"
      ],
      "text/plain": [
       "                        0    Prozent\n",
       "Roulette-Verzierung   181  55.015198\n",
       "Weitere Verzierungen  148  44.984802"
      ]
     },
     "execution_count": 137,
     "metadata": {},
     "output_type": "execute_result"
    }
   ],
   "source": [
    "a = pd.Series({'Roulette-Verzierung':len(df.loc[df['verzName'].str.contains(\"21.\")].index),\n",
    "               'Weitere Verzierungen':len(df.loc[~df['verzName'].str.contains(\"21.\")].index)})\n",
    "a = pd.DataFrame(a)\n",
    "a['Prozent'] = a[0]/a[0].sum()*100\n",
    "a"
   ]
  },
  {
   "cell_type": "code",
   "execution_count": 138,
   "metadata": {},
   "outputs": [
    {
     "data": {
      "text/html": [
       "<div>\n",
       "<table border=\"1\" class=\"dataframe\">\n",
       "  <thead>\n",
       "    <tr style=\"text-align: right;\">\n",
       "      <th></th>\n",
       "      <th>0</th>\n",
       "      <th>Prozent</th>\n",
       "    </tr>\n",
       "  </thead>\n",
       "  <tbody>\n",
       "    <tr>\n",
       "      <th>Schnitz-Roulette</th>\n",
       "      <td>0</td>\n",
       "      <td>0.0</td>\n",
       "    </tr>\n",
       "    <tr>\n",
       "      <th>vegetabilisches Roulette</th>\n",
       "      <td>181</td>\n",
       "      <td>100.0</td>\n",
       "    </tr>\n",
       "  </tbody>\n",
       "</table>\n",
       "</div>"
      ],
      "text/plain": [
       "                            0  Prozent\n",
       "Schnitz-Roulette            0      0.0\n",
       "vegetabilisches Roulette  181    100.0"
      ]
     },
     "execution_count": 138,
     "metadata": {},
     "output_type": "execute_result"
    }
   ],
   "source": [
    "# nur Roulette-Verzierungen herausfiltern\n",
    "b = df.loc[df['verzName'].str.contains(\"21.\")]\n",
    "\n",
    "c = pd.Series({'vegetabilisches Roulette':len(b.loc[df['verzName_alt'].str.contains(\"V08a\")].index),\n",
    "               'Schnitz-Roulette':len(b.loc[~df['verzName_alt'].str.contains(\"V08a\")].index)})\n",
    "c = pd.DataFrame(c)\n",
    "c['Prozent'] = c[0]/c[0].sum()*100\n",
    "c"
   ]
  },
  {
   "cell_type": "markdown",
   "metadata": {},
   "source": [
    "#### Nur Roulette"
   ]
  },
  {
   "cell_type": "code",
   "execution_count": 139,
   "metadata": {},
   "outputs": [
    {
     "name": "stderr",
     "output_type": "stream",
     "text": [
      "C:\\Users\\Dirk\\Anaconda3\\lib\\site-packages\\ipykernel\\__main__.py:23: FutureWarning: by argument to sort_index is deprecated, pls use .sort_values(by=...)\n"
     ]
    },
    {
     "data": {
      "text/plain": [
       "<matplotlib.text.Text at 0x13af889ef0>"
      ]
     },
     "execution_count": 139,
     "metadata": {},
     "output_type": "execute_result"
    },
    {
     "data": {
      "image/png": "[encoded data removed]",
      "text/plain": [
       "<matplotlib.figure.Figure at 0x13af877ac8>"
      ]
     },
     "metadata": {},
     "output_type": "display_data"
    }
   ],
   "source": [
    "sql = \"\"\"SELECT\n",
    "           t_Obj.objID,\n",
    "           t_K_Pos.posID,\n",
    "           t_K_Verz.verzID,\n",
    "           [t_K_Pos].[posReihe] || ' ' || [posName] AS pos,\n",
    "           t_K_Verz.verzName,\n",
    "           t_K_Verz.verzBeschr,\n",
    "           t_Obj.Typ,\n",
    "           t_Obj.Form_Gef\n",
    "       FROM t_Obj INNER JOIN \"t_ObjPosVerz\" ON t_Obj.objID = \"t_ObjPosVerz\".objID\n",
    "           INNER JOIN t_K_Pos ON \"t_ObjPosVerz\".posID = t_K_Pos.posID\n",
    "           INNER JOIN t_K_Verz ON \"t_ObjPosVerz\".verzID = t_K_Verz.verzID\n",
    "       WHERE (((t_K_Pos.posID)<>1)\n",
    "           AND ((t_K_Verz.verzName) Like '%21.%')\n",
    "           AND ((t_Obj.Typ) Like '%\"\"\"+style+\"\"\"%'))\"\"\".replace('\\n',' ')\n",
    "\n",
    "df = pd.read_sql(sql, con)\n",
    "# display(df.head())\n",
    "\n",
    "df_pivot = df.pivot_table(values = 'objID', index = 'verzName', aggfunc = len)\n",
    "df_pivot = pd.DataFrame(df_pivot)\n",
    "# Sortierung in Aufsteigend ändern\n",
    "df_pivot = df_pivot.sort_index(by = ['objID'], ascending = True)\n",
    "\n",
    "fig = plt.figure()\n",
    "fig.set_size_inches(5, 5)\n",
    "df_pivot['objID'].plot(kind='pie', autopct='%.0f %%', cmap = 'Paired' )\n",
    "plt.ylabel('')"
   ]
  },
  {
   "cell_type": "markdown",
   "metadata": {},
   "source": [
    "#### Nicht Roulette"
   ]
  },
  {
   "cell_type": "code",
   "execution_count": 140,
   "metadata": {},
   "outputs": [
    {
     "name": "stderr",
     "output_type": "stream",
     "text": [
      "C:\\Users\\Dirk\\Anaconda3\\lib\\site-packages\\ipykernel\\__main__.py:23: FutureWarning: by argument to sort_index is deprecated, pls use .sort_values(by=...)\n"
     ]
    },
    {
     "data": {
      "text/plain": [
       "<matplotlib.text.Text at 0x13af9adfd0>"
      ]
     },
     "execution_count": 140,
     "metadata": {},
     "output_type": "execute_result"
    },
    {
     "data": {
      "image/png": "[encoded data removed]",
      "text/plain": [
       "<matplotlib.figure.Figure at 0x13af8779b0>"
      ]
     },
     "metadata": {},
     "output_type": "display_data"
    }
   ],
   "source": [
    "sql = \"\"\"SELECT\n",
    "           t_Obj.objID,\n",
    "           t_K_Pos.posID,\n",
    "           t_K_Verz.verzID,\n",
    "           [t_K_Pos].[posReihe] || ' ' || [posName] AS pos,\n",
    "           t_K_Verz.verzName,\n",
    "           t_K_Verz.verzBeschr,\n",
    "           t_Obj.Typ,\n",
    "           t_Obj.Form_Gef\n",
    "       FROM t_Obj INNER JOIN \"t_ObjPosVerz\" ON t_Obj.objID = \"t_ObjPosVerz\".objID\n",
    "           INNER JOIN t_K_Pos ON \"t_ObjPosVerz\".posID = t_K_Pos.posID\n",
    "           INNER JOIN t_K_Verz ON \"t_ObjPosVerz\".verzID = t_K_Verz.verzID\n",
    "       WHERE (((t_K_Pos.posID)<>1)\n",
    "           AND ((t_K_Verz.verzName) Not Like '%21.%')\n",
    "           AND ((t_Obj.Typ) Like '%\"\"\"+style+\"\"\"%'))\"\"\".replace('\\n',' ')\n",
    "\n",
    "df = pd.read_sql(sql, con)\n",
    "# display(df.head())\n",
    "\n",
    "df_pivot = df.pivot_table(values = 'objID', index = 'verzName', aggfunc = len)\n",
    "df_pivot = pd.DataFrame(df_pivot)\n",
    "# Sortierung in Aufsteigend ändern\n",
    "df_pivot = df_pivot.sort_index(by = ['objID'], ascending = True)\n",
    "\n",
    "fig = plt.figure()\n",
    "fig.set_size_inches(5, 5)\n",
    "df_pivot['objID'].plot(kind='pie', autopct='%.0f %%', cmap = 'Paired' )\n",
    "plt.ylabel('')"
   ]
  },
  {
   "cell_type": "markdown",
   "metadata": {
    "collapsed": true
   },
   "source": [
    "## Verbreitung"
   ]
  },
  {
   "cell_type": "code",
   "execution_count": 141,
   "metadata": {},
   "outputs": [
    {
     "data": {
      "text/html": [
       "<div>\n",
       "<table border=\"1\" class=\"dataframe\">\n",
       "  <thead>\n",
       "    <tr style=\"text-align: right;\">\n",
       "      <th>Typ</th>\n",
       "      <th>Ort</th>\n",
       "      <th>Kat-Nr</th>\n",
       "      <th>X</th>\n",
       "      <th>Y</th>\n",
       "      <th>TYP</th>\n",
       "    </tr>\n",
       "  </thead>\n",
       "  <tbody>\n",
       "    <tr>\n",
       "      <th>3</th>\n",
       "      <td>Ifondo (Fpl. 253)</td>\n",
       "      <td>253</td>\n",
       "      <td>16.908795</td>\n",
       "      <td>0.481301</td>\n",
       "      <td>PDM (?)</td>\n",
       "    </tr>\n",
       "    <tr>\n",
       "      <th>12</th>\n",
       "      <td>Pikunda (Fpl. 255)</td>\n",
       "      <td>255</td>\n",
       "      <td>16.635736</td>\n",
       "      <td>0.549344</td>\n",
       "      <td>PDM</td>\n",
       "    </tr>\n",
       "    <tr>\n",
       "      <th>5</th>\n",
       "      <td>Itandi (Fpl. 256)</td>\n",
       "      <td>256</td>\n",
       "      <td>16.590471</td>\n",
       "      <td>0.697639</td>\n",
       "      <td>PDM (?)</td>\n",
       "    </tr>\n",
       "    <tr>\n",
       "      <th>7</th>\n",
       "      <td>Molanda (Fpl. 258)</td>\n",
       "      <td>258</td>\n",
       "      <td>16.537896</td>\n",
       "      <td>0.945646</td>\n",
       "      <td>PDM</td>\n",
       "    </tr>\n",
       "    <tr>\n",
       "      <th>4</th>\n",
       "      <td>Mandombe (Fpl. 259)</td>\n",
       "      <td>259</td>\n",
       "      <td>16.522700</td>\n",
       "      <td>1.116917</td>\n",
       "      <td>PDM</td>\n",
       "    </tr>\n",
       "    <tr>\n",
       "      <th>4</th>\n",
       "      <td>Ikelemba (Fpl. 260)</td>\n",
       "      <td>260</td>\n",
       "      <td>16.504824</td>\n",
       "      <td>1.227166</td>\n",
       "      <td>PDM (?)</td>\n",
       "    </tr>\n",
       "    <tr>\n",
       "      <th>15</th>\n",
       "      <td>Motoli (Fpl. 261)</td>\n",
       "      <td>261</td>\n",
       "      <td>16.467736</td>\n",
       "      <td>1.227602</td>\n",
       "      <td>PDM (?)</td>\n",
       "    </tr>\n",
       "    <tr>\n",
       "      <th>14</th>\n",
       "      <td>Mosanya (Fpl. 262)</td>\n",
       "      <td>262</td>\n",
       "      <td>16.447391</td>\n",
       "      <td>1.213000</td>\n",
       "      <td>PDM (?)</td>\n",
       "    </tr>\n",
       "    <tr>\n",
       "      <th>23</th>\n",
       "      <td>Sangha Fkm 428 (Fpl. 263)</td>\n",
       "      <td>263</td>\n",
       "      <td>16.443523</td>\n",
       "      <td>1.250183</td>\n",
       "      <td>PDM (?)</td>\n",
       "    </tr>\n",
       "    <tr>\n",
       "      <th>5</th>\n",
       "      <td>Matoto (Fpl. 264)</td>\n",
       "      <td>264</td>\n",
       "      <td>16.431282</td>\n",
       "      <td>1.281643</td>\n",
       "      <td>PDM</td>\n",
       "    </tr>\n",
       "    <tr>\n",
       "      <th>10</th>\n",
       "      <td>Ouesso (Fpl. 265)</td>\n",
       "      <td>265</td>\n",
       "      <td>16.057202</td>\n",
       "      <td>1.617344</td>\n",
       "      <td>PDM</td>\n",
       "    </tr>\n",
       "    <tr>\n",
       "      <th>1</th>\n",
       "      <td>Gatongo (Fpl. 266)</td>\n",
       "      <td>266</td>\n",
       "      <td>16.129714</td>\n",
       "      <td>1.687760</td>\n",
       "      <td>PDM (?)</td>\n",
       "    </tr>\n",
       "    <tr>\n",
       "      <th>3</th>\n",
       "      <td>Maboko (Fpl. 267)</td>\n",
       "      <td>267</td>\n",
       "      <td>16.135199</td>\n",
       "      <td>1.731363</td>\n",
       "      <td>PDM</td>\n",
       "    </tr>\n",
       "    <tr>\n",
       "      <th>2</th>\n",
       "      <td>Konda (Fpl. 268)</td>\n",
       "      <td>268</td>\n",
       "      <td>16.146811</td>\n",
       "      <td>1.782783</td>\n",
       "      <td>PDM</td>\n",
       "    </tr>\n",
       "    <tr>\n",
       "      <th>7</th>\n",
       "      <td>Leme (Fpl. 269)</td>\n",
       "      <td>269</td>\n",
       "      <td>16.112376</td>\n",
       "      <td>1.880963</td>\n",
       "      <td>PDM (?)</td>\n",
       "    </tr>\n",
       "    <tr>\n",
       "      <th>1</th>\n",
       "      <td>Gbagbale (Fpl. 270)</td>\n",
       "      <td>270</td>\n",
       "      <td>16.082956</td>\n",
       "      <td>2.076599</td>\n",
       "      <td>PDM</td>\n",
       "    </tr>\n",
       "    <tr>\n",
       "      <th>9</th>\n",
       "      <td>Mai impembe (Fpl. 271)</td>\n",
       "      <td>271</td>\n",
       "      <td>16.087011</td>\n",
       "      <td>2.087501</td>\n",
       "      <td>PDM (?)</td>\n",
       "    </tr>\n",
       "    <tr>\n",
       "      <th>9</th>\n",
       "      <td>Ngoko Fkm 17 (Elali) (Fpl. 275)</td>\n",
       "      <td>275</td>\n",
       "      <td>15.997858</td>\n",
       "      <td>1.762354</td>\n",
       "      <td>PDM</td>\n",
       "    </tr>\n",
       "    <tr>\n",
       "      <th>11</th>\n",
       "      <td>Pandama (Fpl. 276)</td>\n",
       "      <td>276</td>\n",
       "      <td>15.881677</td>\n",
       "      <td>1.783279</td>\n",
       "      <td>PDM</td>\n",
       "    </tr>\n",
       "    <tr>\n",
       "      <th>6</th>\n",
       "      <td>Mbenja (Fpl. 277)</td>\n",
       "      <td>277</td>\n",
       "      <td>15.825282</td>\n",
       "      <td>1.852351</td>\n",
       "      <td>PDM</td>\n",
       "    </tr>\n",
       "    <tr>\n",
       "      <th>0</th>\n",
       "      <td>Bonga (Fpl. 279)</td>\n",
       "      <td>279</td>\n",
       "      <td>15.672830</td>\n",
       "      <td>1.925175</td>\n",
       "      <td>PDM</td>\n",
       "    </tr>\n",
       "    <tr>\n",
       "      <th>13</th>\n",
       "      <td>Ponga (Fpl. 280)</td>\n",
       "      <td>280</td>\n",
       "      <td>15.633330</td>\n",
       "      <td>1.933333</td>\n",
       "      <td>PDM</td>\n",
       "    </tr>\n",
       "    <tr>\n",
       "      <th>8</th>\n",
       "      <td>Ngama (Fpl. 281)</td>\n",
       "      <td>281</td>\n",
       "      <td>15.550034</td>\n",
       "      <td>1.957609</td>\n",
       "      <td>PDM</td>\n",
       "    </tr>\n",
       "    <tr>\n",
       "      <th>18</th>\n",
       "      <td>Ngombe (Fpl. 283)</td>\n",
       "      <td>283</td>\n",
       "      <td>17.192417</td>\n",
       "      <td>-0.849508</td>\n",
       "      <td>PDM (?)</td>\n",
       "    </tr>\n",
       "  </tbody>\n",
       "</table>\n",
       "</div>"
      ],
      "text/plain": [
       "Typ                              Ort Kat-Nr          X         Y      TYP\n",
       "3                  Ifondo (Fpl. 253)    253  16.908795  0.481301  PDM (?)\n",
       "12                Pikunda (Fpl. 255)    255  16.635736  0.549344      PDM\n",
       "5                  Itandi (Fpl. 256)    256  16.590471  0.697639  PDM (?)\n",
       "7                 Molanda (Fpl. 258)    258  16.537896  0.945646      PDM\n",
       "4                Mandombe (Fpl. 259)    259  16.522700  1.116917      PDM\n",
       "4                Ikelemba (Fpl. 260)    260  16.504824  1.227166  PDM (?)\n",
       "15                 Motoli (Fpl. 261)    261  16.467736  1.227602  PDM (?)\n",
       "14                Mosanya (Fpl. 262)    262  16.447391  1.213000  PDM (?)\n",
       "23         Sangha Fkm 428 (Fpl. 263)    263  16.443523  1.250183  PDM (?)\n",
       "5                  Matoto (Fpl. 264)    264  16.431282  1.281643      PDM\n",
       "10                 Ouesso (Fpl. 265)    265  16.057202  1.617344      PDM\n",
       "1                 Gatongo (Fpl. 266)    266  16.129714  1.687760  PDM (?)\n",
       "3                  Maboko (Fpl. 267)    267  16.135199  1.731363      PDM\n",
       "2                   Konda (Fpl. 268)    268  16.146811  1.782783      PDM\n",
       "7                    Leme (Fpl. 269)    269  16.112376  1.880963  PDM (?)\n",
       "1                Gbagbale (Fpl. 270)    270  16.082956  2.076599      PDM\n",
       "9             Mai impembe (Fpl. 271)    271  16.087011  2.087501  PDM (?)\n",
       "9    Ngoko Fkm 17 (Elali) (Fpl. 275)    275  15.997858  1.762354      PDM\n",
       "11                Pandama (Fpl. 276)    276  15.881677  1.783279      PDM\n",
       "6                  Mbenja (Fpl. 277)    277  15.825282  1.852351      PDM\n",
       "0                   Bonga (Fpl. 279)    279  15.672830  1.925175      PDM\n",
       "13                  Ponga (Fpl. 280)    280  15.633330  1.933333      PDM\n",
       "8                   Ngama (Fpl. 281)    281  15.550034  1.957609      PDM\n",
       "18                 Ngombe (Fpl. 283)    283  17.192417 -0.849508  PDM (?)"
      ]
     },
     "execution_count": 141,
     "metadata": {},
     "output_type": "execute_result"
    }
   ],
   "source": [
    "df = style_mapping_gis_export(style)\n",
    "df.sort_values(['Kat-Nr'])"
   ]
  },
  {
   "cell_type": "code",
   "execution_count": 142,
   "metadata": {
    "collapsed": true
   },
   "outputs": [],
   "source": [
    "df.to_csv(\"../data/processed/3-1-2-9_PDM_Verbreitung.csv\", index = False)"
   ]
  },
  {
   "cell_type": "code",
   "execution_count": 143,
   "metadata": {},
   "outputs": [
    {
     "data": {
      "text/plain": [
       "24"
      ]
     },
     "execution_count": 143,
     "metadata": {},
     "output_type": "execute_result"
    }
   ],
   "source": [
    "len(df)"
   ]
  },
  {
   "cell_type": "markdown",
   "metadata": {
    "collapsed": true
   },
   "source": [
    "## Tafeln"
   ]
  },
  {
   "cell_type": "code",
   "execution_count": 144,
   "metadata": {
    "scrolled": false
   },
   "outputs": [
    {
     "data": {
      "text/html": [
       "<div>\n",
       "<table border=\"1\" class=\"dataframe\">\n",
       "  <thead>\n",
       "    <tr style=\"text-align: right;\">\n",
       "      <th></th>\n",
       "      <th>TAF</th>\n",
       "      <th>OBJ</th>\n",
       "      <th>SITE</th>\n",
       "      <th>FEAT</th>\n",
       "      <th>NOTE</th>\n",
       "      <th>IND</th>\n",
       "      <th>Typ</th>\n",
       "      <th>Form_Gef</th>\n",
       "      <th>Form_Rand</th>\n",
       "      <th>Form_Boden</th>\n",
       "    </tr>\n",
       "  </thead>\n",
       "  <tbody>\n",
       "    <tr>\n",
       "      <th>0</th>\n",
       "      <td>49</td>\n",
       "      <td>1</td>\n",
       "      <td>PIK</td>\n",
       "      <td>87/2</td>\n",
       "      <td>NaN</td>\n",
       "      <td>-1:270</td>\n",
       "      <td>PDM</td>\n",
       "      <td>None</td>\n",
       "      <td>B3</td>\n",
       "      <td>None</td>\n",
       "    </tr>\n",
       "    <tr>\n",
       "      <th>1</th>\n",
       "      <td>49</td>\n",
       "      <td>5</td>\n",
       "      <td>PIK</td>\n",
       "      <td>87/2</td>\n",
       "      <td>NaN</td>\n",
       "      <td>-6:52</td>\n",
       "      <td>PDM (?)</td>\n",
       "      <td>E2 (?)</td>\n",
       "      <td>B2</td>\n",
       "      <td>None</td>\n",
       "    </tr>\n",
       "    <tr>\n",
       "      <th>2</th>\n",
       "      <td>55</td>\n",
       "      <td>16</td>\n",
       "      <td>PIK</td>\n",
       "      <td>87/101</td>\n",
       "      <td>NaN</td>\n",
       "      <td>32</td>\n",
       "      <td>PDM (?)</td>\n",
       "      <td>C2</td>\n",
       "      <td>B3</td>\n",
       "      <td>None</td>\n",
       "    </tr>\n",
       "    <tr>\n",
       "      <th>3</th>\n",
       "      <td>57</td>\n",
       "      <td>21</td>\n",
       "      <td>MDB</td>\n",
       "      <td>87/101</td>\n",
       "      <td>NaN</td>\n",
       "      <td>174</td>\n",
       "      <td>PDM</td>\n",
       "      <td>D1</td>\n",
       "      <td>None</td>\n",
       "      <td>None</td>\n",
       "    </tr>\n",
       "    <tr>\n",
       "      <th>4</th>\n",
       "      <td>57</td>\n",
       "      <td>25</td>\n",
       "      <td>MDB</td>\n",
       "      <td>87/101</td>\n",
       "      <td>NaN</td>\n",
       "      <td>61</td>\n",
       "      <td>PDM (?)</td>\n",
       "      <td>I4</td>\n",
       "      <td>A4.3</td>\n",
       "      <td>B1</td>\n",
       "    </tr>\n",
       "    <tr>\n",
       "      <th>5</th>\n",
       "      <td>58</td>\n",
       "      <td>3</td>\n",
       "      <td>MDB</td>\n",
       "      <td>87/101</td>\n",
       "      <td>NaN</td>\n",
       "      <td>154</td>\n",
       "      <td>PDM (?)</td>\n",
       "      <td>D1</td>\n",
       "      <td>None</td>\n",
       "      <td>None</td>\n",
       "    </tr>\n",
       "    <tr>\n",
       "      <th>6</th>\n",
       "      <td>58</td>\n",
       "      <td>4</td>\n",
       "      <td>MDB</td>\n",
       "      <td>87/101</td>\n",
       "      <td>NaN</td>\n",
       "      <td>194</td>\n",
       "      <td>PDM</td>\n",
       "      <td>C2</td>\n",
       "      <td>B2</td>\n",
       "      <td>None</td>\n",
       "    </tr>\n",
       "    <tr>\n",
       "      <th>7</th>\n",
       "      <td>58</td>\n",
       "      <td>6</td>\n",
       "      <td>MDB</td>\n",
       "      <td>87/101</td>\n",
       "      <td>NaN</td>\n",
       "      <td>116</td>\n",
       "      <td>PDM (?)</td>\n",
       "      <td>None</td>\n",
       "      <td>None</td>\n",
       "      <td>None</td>\n",
       "    </tr>\n",
       "    <tr>\n",
       "      <th>8</th>\n",
       "      <td>59</td>\n",
       "      <td>12</td>\n",
       "      <td>IKM</td>\n",
       "      <td>87/101</td>\n",
       "      <td>NaN</td>\n",
       "      <td>34</td>\n",
       "      <td>PDM (?)</td>\n",
       "      <td>None</td>\n",
       "      <td>None</td>\n",
       "      <td>None</td>\n",
       "    </tr>\n",
       "    <tr>\n",
       "      <th>9</th>\n",
       "      <td>59</td>\n",
       "      <td>13</td>\n",
       "      <td>IKM</td>\n",
       "      <td>87/101</td>\n",
       "      <td>NaN</td>\n",
       "      <td>20</td>\n",
       "      <td>PDM (?)</td>\n",
       "      <td>None</td>\n",
       "      <td>B1</td>\n",
       "      <td>None</td>\n",
       "    </tr>\n",
       "    <tr>\n",
       "      <th>10</th>\n",
       "      <td>59</td>\n",
       "      <td>15</td>\n",
       "      <td>IKM</td>\n",
       "      <td>87/101</td>\n",
       "      <td>NaN</td>\n",
       "      <td>33</td>\n",
       "      <td>PDM (?)</td>\n",
       "      <td>None</td>\n",
       "      <td>None</td>\n",
       "      <td>None</td>\n",
       "    </tr>\n",
       "    <tr>\n",
       "      <th>11</th>\n",
       "      <td>59</td>\n",
       "      <td>22</td>\n",
       "      <td>IKM</td>\n",
       "      <td>87/101</td>\n",
       "      <td>NaN</td>\n",
       "      <td>57</td>\n",
       "      <td>PDM (?)</td>\n",
       "      <td>D1 (?)</td>\n",
       "      <td>None</td>\n",
       "      <td>None</td>\n",
       "    </tr>\n",
       "    <tr>\n",
       "      <th>12</th>\n",
       "      <td>60</td>\n",
       "      <td>6</td>\n",
       "      <td>MAT</td>\n",
       "      <td>87/101</td>\n",
       "      <td>17</td>\n",
       "      <td>15, 17</td>\n",
       "      <td>PDM (?)</td>\n",
       "      <td>C2 (?)</td>\n",
       "      <td>B2.2</td>\n",
       "      <td>None</td>\n",
       "    </tr>\n",
       "    <tr>\n",
       "      <th>13</th>\n",
       "      <td>60</td>\n",
       "      <td>10</td>\n",
       "      <td>MAT</td>\n",
       "      <td>87/101</td>\n",
       "      <td>NaN</td>\n",
       "      <td>43</td>\n",
       "      <td>PDM (?)</td>\n",
       "      <td>None</td>\n",
       "      <td>None</td>\n",
       "      <td>None</td>\n",
       "    </tr>\n",
       "    <tr>\n",
       "      <th>14</th>\n",
       "      <td>60</td>\n",
       "      <td>15</td>\n",
       "      <td>MAT</td>\n",
       "      <td>87/101</td>\n",
       "      <td>NaN</td>\n",
       "      <td>29</td>\n",
       "      <td>PDM (?)</td>\n",
       "      <td>None</td>\n",
       "      <td>None</td>\n",
       "      <td>None</td>\n",
       "    </tr>\n",
       "    <tr>\n",
       "      <th>15</th>\n",
       "      <td>60</td>\n",
       "      <td>20</td>\n",
       "      <td>MAB</td>\n",
       "      <td>87/101</td>\n",
       "      <td>NaN</td>\n",
       "      <td>19</td>\n",
       "      <td>MDB/PDM (?)</td>\n",
       "      <td>D1</td>\n",
       "      <td>None</td>\n",
       "      <td>None</td>\n",
       "    </tr>\n",
       "    <tr>\n",
       "      <th>16</th>\n",
       "      <td>60</td>\n",
       "      <td>21</td>\n",
       "      <td>MAB</td>\n",
       "      <td>87/101</td>\n",
       "      <td>NaN</td>\n",
       "      <td>5</td>\n",
       "      <td>PDM/KON (?)</td>\n",
       "      <td>I4</td>\n",
       "      <td>A2.4</td>\n",
       "      <td>None</td>\n",
       "    </tr>\n",
       "    <tr>\n",
       "      <th>17</th>\n",
       "      <td>60</td>\n",
       "      <td>22</td>\n",
       "      <td>MAB</td>\n",
       "      <td>87/101</td>\n",
       "      <td>NaN</td>\n",
       "      <td>6</td>\n",
       "      <td>PDM (?)</td>\n",
       "      <td>I4</td>\n",
       "      <td>A2.4</td>\n",
       "      <td>B1</td>\n",
       "    </tr>\n",
       "    <tr>\n",
       "      <th>18</th>\n",
       "      <td>60</td>\n",
       "      <td>23</td>\n",
       "      <td>MAB</td>\n",
       "      <td>87/101</td>\n",
       "      <td>NaN</td>\n",
       "      <td>2</td>\n",
       "      <td>PDM</td>\n",
       "      <td>I4</td>\n",
       "      <td>A2.4</td>\n",
       "      <td>None</td>\n",
       "    </tr>\n",
       "    <tr>\n",
       "      <th>19</th>\n",
       "      <td>61</td>\n",
       "      <td>6</td>\n",
       "      <td>KON</td>\n",
       "      <td>87/101</td>\n",
       "      <td>25</td>\n",
       "      <td>6,25,27</td>\n",
       "      <td>PDM</td>\n",
       "      <td>D1</td>\n",
       "      <td>B2</td>\n",
       "      <td>None</td>\n",
       "    </tr>\n",
       "    <tr>\n",
       "      <th>20</th>\n",
       "      <td>61</td>\n",
       "      <td>10</td>\n",
       "      <td>KON</td>\n",
       "      <td>87/101</td>\n",
       "      <td>NaN</td>\n",
       "      <td>15</td>\n",
       "      <td>PDM</td>\n",
       "      <td>I4</td>\n",
       "      <td>B3</td>\n",
       "      <td>B1</td>\n",
       "    </tr>\n",
       "    <tr>\n",
       "      <th>21</th>\n",
       "      <td>61</td>\n",
       "      <td>11</td>\n",
       "      <td>KON</td>\n",
       "      <td>87/101</td>\n",
       "      <td>NaN</td>\n",
       "      <td>12</td>\n",
       "      <td>PDM</td>\n",
       "      <td>I4</td>\n",
       "      <td>B3</td>\n",
       "      <td>B1</td>\n",
       "    </tr>\n",
       "    <tr>\n",
       "      <th>22</th>\n",
       "      <td>61</td>\n",
       "      <td>12</td>\n",
       "      <td>KON</td>\n",
       "      <td>87/101</td>\n",
       "      <td>NaN</td>\n",
       "      <td>7,31</td>\n",
       "      <td>PDM</td>\n",
       "      <td>None</td>\n",
       "      <td>B2</td>\n",
       "      <td>None</td>\n",
       "    </tr>\n",
       "    <tr>\n",
       "      <th>23</th>\n",
       "      <td>61</td>\n",
       "      <td>13</td>\n",
       "      <td>KON</td>\n",
       "      <td>87/101</td>\n",
       "      <td>NaN</td>\n",
       "      <td>10,13</td>\n",
       "      <td>PDM</td>\n",
       "      <td>I4</td>\n",
       "      <td>B3</td>\n",
       "      <td>B2</td>\n",
       "    </tr>\n",
       "    <tr>\n",
       "      <th>24</th>\n",
       "      <td>61</td>\n",
       "      <td>14</td>\n",
       "      <td>KON</td>\n",
       "      <td>87/101</td>\n",
       "      <td>NaN</td>\n",
       "      <td>8</td>\n",
       "      <td>PDM</td>\n",
       "      <td>I4</td>\n",
       "      <td>B3</td>\n",
       "      <td>B1</td>\n",
       "    </tr>\n",
       "    <tr>\n",
       "      <th>25</th>\n",
       "      <td>62</td>\n",
       "      <td>1</td>\n",
       "      <td>LMS</td>\n",
       "      <td>87/101</td>\n",
       "      <td>NaN</td>\n",
       "      <td>33</td>\n",
       "      <td>PDM (?)</td>\n",
       "      <td>C2</td>\n",
       "      <td>B2</td>\n",
       "      <td>None</td>\n",
       "    </tr>\n",
       "    <tr>\n",
       "      <th>26</th>\n",
       "      <td>62</td>\n",
       "      <td>9</td>\n",
       "      <td>MPB</td>\n",
       "      <td>87/102</td>\n",
       "      <td>NaN</td>\n",
       "      <td>2</td>\n",
       "      <td>PDM (?)</td>\n",
       "      <td>None</td>\n",
       "      <td>None</td>\n",
       "      <td>None</td>\n",
       "    </tr>\n",
       "    <tr>\n",
       "      <th>27</th>\n",
       "      <td>63</td>\n",
       "      <td>12</td>\n",
       "      <td>PDM</td>\n",
       "      <td>87/101</td>\n",
       "      <td>NaN</td>\n",
       "      <td>116</td>\n",
       "      <td>PDM/KON (?)</td>\n",
       "      <td>I4</td>\n",
       "      <td>A3</td>\n",
       "      <td>None</td>\n",
       "    </tr>\n",
       "    <tr>\n",
       "      <th>28</th>\n",
       "      <td>63</td>\n",
       "      <td>15</td>\n",
       "      <td>PDM</td>\n",
       "      <td>87/101</td>\n",
       "      <td>NaN</td>\n",
       "      <td>120</td>\n",
       "      <td>PDM</td>\n",
       "      <td>C2</td>\n",
       "      <td>B1/B3</td>\n",
       "      <td>None</td>\n",
       "    </tr>\n",
       "    <tr>\n",
       "      <th>29</th>\n",
       "      <td>63</td>\n",
       "      <td>16</td>\n",
       "      <td>PDM</td>\n",
       "      <td>87/101</td>\n",
       "      <td>NaN</td>\n",
       "      <td>107</td>\n",
       "      <td>PDM</td>\n",
       "      <td>C2 (?)</td>\n",
       "      <td>B2</td>\n",
       "      <td>None</td>\n",
       "    </tr>\n",
       "    <tr>\n",
       "      <th>30</th>\n",
       "      <td>63</td>\n",
       "      <td>17</td>\n",
       "      <td>PDM</td>\n",
       "      <td>87/101</td>\n",
       "      <td>NaN</td>\n",
       "      <td>39</td>\n",
       "      <td>PDM</td>\n",
       "      <td>C2</td>\n",
       "      <td>B1</td>\n",
       "      <td>None</td>\n",
       "    </tr>\n",
       "    <tr>\n",
       "      <th>31</th>\n",
       "      <td>63</td>\n",
       "      <td>18</td>\n",
       "      <td>PDM</td>\n",
       "      <td>87/101</td>\n",
       "      <td>NaN</td>\n",
       "      <td>115</td>\n",
       "      <td>PDM</td>\n",
       "      <td>D1 (?)</td>\n",
       "      <td>B3</td>\n",
       "      <td>None</td>\n",
       "    </tr>\n",
       "    <tr>\n",
       "      <th>32</th>\n",
       "      <td>63</td>\n",
       "      <td>19</td>\n",
       "      <td>PDM</td>\n",
       "      <td>87/101</td>\n",
       "      <td>NaN</td>\n",
       "      <td>106</td>\n",
       "      <td>PDM (?)</td>\n",
       "      <td>C2 (?)</td>\n",
       "      <td>B2</td>\n",
       "      <td>None</td>\n",
       "    </tr>\n",
       "    <tr>\n",
       "      <th>33</th>\n",
       "      <td>63</td>\n",
       "      <td>20</td>\n",
       "      <td>PDM</td>\n",
       "      <td>87/101</td>\n",
       "      <td>NaN</td>\n",
       "      <td>105</td>\n",
       "      <td>PDM</td>\n",
       "      <td>I4</td>\n",
       "      <td>A3.3</td>\n",
       "      <td>B1</td>\n",
       "    </tr>\n",
       "    <tr>\n",
       "      <th>34</th>\n",
       "      <td>64</td>\n",
       "      <td>1</td>\n",
       "      <td>PDM</td>\n",
       "      <td>87/101</td>\n",
       "      <td>NaN</td>\n",
       "      <td>84</td>\n",
       "      <td>PDM</td>\n",
       "      <td>C2 (?)</td>\n",
       "      <td>None</td>\n",
       "      <td>None</td>\n",
       "    </tr>\n",
       "    <tr>\n",
       "      <th>35</th>\n",
       "      <td>64</td>\n",
       "      <td>2</td>\n",
       "      <td>PDM</td>\n",
       "      <td>87/101</td>\n",
       "      <td>NaN</td>\n",
       "      <td>20</td>\n",
       "      <td>PDM</td>\n",
       "      <td>C2</td>\n",
       "      <td>None</td>\n",
       "      <td>None</td>\n",
       "    </tr>\n",
       "    <tr>\n",
       "      <th>36</th>\n",
       "      <td>64</td>\n",
       "      <td>3</td>\n",
       "      <td>PDM</td>\n",
       "      <td>87/101</td>\n",
       "      <td>NaN</td>\n",
       "      <td>2</td>\n",
       "      <td>PDM</td>\n",
       "      <td>C2 (?)</td>\n",
       "      <td>None</td>\n",
       "      <td>None</td>\n",
       "    </tr>\n",
       "    <tr>\n",
       "      <th>37</th>\n",
       "      <td>64</td>\n",
       "      <td>4</td>\n",
       "      <td>PDM</td>\n",
       "      <td>87/101</td>\n",
       "      <td>NaN</td>\n",
       "      <td>62</td>\n",
       "      <td>PDM</td>\n",
       "      <td>C2 (?)</td>\n",
       "      <td>None</td>\n",
       "      <td>None</td>\n",
       "    </tr>\n",
       "    <tr>\n",
       "      <th>38</th>\n",
       "      <td>64</td>\n",
       "      <td>5</td>\n",
       "      <td>PDM</td>\n",
       "      <td>87/101</td>\n",
       "      <td>NaN</td>\n",
       "      <td>7</td>\n",
       "      <td>PDM</td>\n",
       "      <td>C2 (?)</td>\n",
       "      <td>None</td>\n",
       "      <td>None</td>\n",
       "    </tr>\n",
       "    <tr>\n",
       "      <th>39</th>\n",
       "      <td>64</td>\n",
       "      <td>6</td>\n",
       "      <td>PDM</td>\n",
       "      <td>87/101</td>\n",
       "      <td>NaN</td>\n",
       "      <td>54, 83</td>\n",
       "      <td>PDM</td>\n",
       "      <td>C2 (?)</td>\n",
       "      <td>None</td>\n",
       "      <td>None</td>\n",
       "    </tr>\n",
       "    <tr>\n",
       "      <th>40</th>\n",
       "      <td>64</td>\n",
       "      <td>7</td>\n",
       "      <td>PDM</td>\n",
       "      <td>87/101</td>\n",
       "      <td>NaN</td>\n",
       "      <td>18</td>\n",
       "      <td>PDM</td>\n",
       "      <td>C2 (?)</td>\n",
       "      <td>None</td>\n",
       "      <td>None</td>\n",
       "    </tr>\n",
       "    <tr>\n",
       "      <th>41</th>\n",
       "      <td>64</td>\n",
       "      <td>8</td>\n",
       "      <td>PDM</td>\n",
       "      <td>87/101</td>\n",
       "      <td>NaN</td>\n",
       "      <td>12</td>\n",
       "      <td>PDM</td>\n",
       "      <td>C2 (?)</td>\n",
       "      <td>None</td>\n",
       "      <td>None</td>\n",
       "    </tr>\n",
       "    <tr>\n",
       "      <th>42</th>\n",
       "      <td>64</td>\n",
       "      <td>9</td>\n",
       "      <td>PDM</td>\n",
       "      <td>87/101</td>\n",
       "      <td>NaN</td>\n",
       "      <td>4</td>\n",
       "      <td>PDM</td>\n",
       "      <td>A2/A3 (?)</td>\n",
       "      <td>B1 (?)</td>\n",
       "      <td>None</td>\n",
       "    </tr>\n",
       "    <tr>\n",
       "      <th>43</th>\n",
       "      <td>65</td>\n",
       "      <td>2</td>\n",
       "      <td>PDM</td>\n",
       "      <td>87/101</td>\n",
       "      <td>NaN</td>\n",
       "      <td>130</td>\n",
       "      <td>MDB/PDM (?)</td>\n",
       "      <td>C2 (?)</td>\n",
       "      <td>B3</td>\n",
       "      <td>None</td>\n",
       "    </tr>\n",
       "    <tr>\n",
       "      <th>44</th>\n",
       "      <td>66</td>\n",
       "      <td>1</td>\n",
       "      <td>PDM</td>\n",
       "      <td>87/102</td>\n",
       "      <td>NaN</td>\n",
       "      <td>8</td>\n",
       "      <td>PDM (?)</td>\n",
       "      <td>C2 (?)</td>\n",
       "      <td>None</td>\n",
       "      <td>None</td>\n",
       "    </tr>\n",
       "    <tr>\n",
       "      <th>45</th>\n",
       "      <td>66</td>\n",
       "      <td>6</td>\n",
       "      <td>PDM</td>\n",
       "      <td>87/102</td>\n",
       "      <td>NaN</td>\n",
       "      <td>6</td>\n",
       "      <td>PDM</td>\n",
       "      <td>C2</td>\n",
       "      <td>None</td>\n",
       "      <td>None</td>\n",
       "    </tr>\n",
       "    <tr>\n",
       "      <th>46</th>\n",
       "      <td>66</td>\n",
       "      <td>8</td>\n",
       "      <td>PDM</td>\n",
       "      <td>87/102</td>\n",
       "      <td>NaN</td>\n",
       "      <td>2</td>\n",
       "      <td>PDM</td>\n",
       "      <td>C2/D1 (?)</td>\n",
       "      <td>None</td>\n",
       "      <td>None</td>\n",
       "    </tr>\n",
       "    <tr>\n",
       "      <th>47</th>\n",
       "      <td>66</td>\n",
       "      <td>11</td>\n",
       "      <td>MBJ</td>\n",
       "      <td>87/101</td>\n",
       "      <td>NaN</td>\n",
       "      <td>43</td>\n",
       "      <td>PDM/MBJ (?)</td>\n",
       "      <td>None</td>\n",
       "      <td>B1/B3</td>\n",
       "      <td>None</td>\n",
       "    </tr>\n",
       "    <tr>\n",
       "      <th>48</th>\n",
       "      <td>66</td>\n",
       "      <td>17</td>\n",
       "      <td>NGA</td>\n",
       "      <td>87/101</td>\n",
       "      <td>NaN</td>\n",
       "      <td>5</td>\n",
       "      <td>KON/PDM</td>\n",
       "      <td>C2</td>\n",
       "      <td>B2</td>\n",
       "      <td>None</td>\n",
       "    </tr>\n",
       "    <tr>\n",
       "      <th>49</th>\n",
       "      <td>67</td>\n",
       "      <td>1</td>\n",
       "      <td>NGA</td>\n",
       "      <td>87/101</td>\n",
       "      <td>NaN</td>\n",
       "      <td>26</td>\n",
       "      <td>PDM</td>\n",
       "      <td>C2 (?)</td>\n",
       "      <td>None</td>\n",
       "      <td>None</td>\n",
       "    </tr>\n",
       "    <tr>\n",
       "      <th>50</th>\n",
       "      <td>67</td>\n",
       "      <td>2</td>\n",
       "      <td>NGA</td>\n",
       "      <td>87/101</td>\n",
       "      <td>NaN</td>\n",
       "      <td>23</td>\n",
       "      <td>PDM</td>\n",
       "      <td>None</td>\n",
       "      <td>None</td>\n",
       "      <td>None</td>\n",
       "    </tr>\n",
       "    <tr>\n",
       "      <th>51</th>\n",
       "      <td>67</td>\n",
       "      <td>4</td>\n",
       "      <td>NGA</td>\n",
       "      <td>87/101</td>\n",
       "      <td>NaN</td>\n",
       "      <td>19</td>\n",
       "      <td>PDM</td>\n",
       "      <td>C2 (?)</td>\n",
       "      <td>None</td>\n",
       "      <td>None</td>\n",
       "    </tr>\n",
       "    <tr>\n",
       "      <th>52</th>\n",
       "      <td>67</td>\n",
       "      <td>5</td>\n",
       "      <td>NGA</td>\n",
       "      <td>87/101</td>\n",
       "      <td>NaN</td>\n",
       "      <td>9</td>\n",
       "      <td>MBJ/PDM (?)</td>\n",
       "      <td>C2 (?)</td>\n",
       "      <td>B1.1</td>\n",
       "      <td>None</td>\n",
       "    </tr>\n",
       "    <tr>\n",
       "      <th>53</th>\n",
       "      <td>67</td>\n",
       "      <td>8</td>\n",
       "      <td>NGA</td>\n",
       "      <td>87/101</td>\n",
       "      <td>NaN</td>\n",
       "      <td>10</td>\n",
       "      <td>MBJ/PDM (?)</td>\n",
       "      <td>None</td>\n",
       "      <td>B1</td>\n",
       "      <td>None</td>\n",
       "    </tr>\n",
       "    <tr>\n",
       "      <th>54</th>\n",
       "      <td>67</td>\n",
       "      <td>10</td>\n",
       "      <td>NGA</td>\n",
       "      <td>87/101</td>\n",
       "      <td>NaN</td>\n",
       "      <td>16</td>\n",
       "      <td>MBJ/PDM (?)</td>\n",
       "      <td>C2 (?)</td>\n",
       "      <td>None</td>\n",
       "      <td>None</td>\n",
       "    </tr>\n",
       "  </tbody>\n",
       "</table>\n",
       "</div>"
      ],
      "text/plain": [
       "    TAF  OBJ SITE    FEAT NOTE      IND          Typ   Form_Gef Form_Rand  \\\n",
       "0    49    1  PIK    87/2  NaN   -1:270          PDM       None        B3   \n",
       "1    49    5  PIK    87/2  NaN    -6:52      PDM (?)     E2 (?)        B2   \n",
       "2    55   16  PIK  87/101  NaN       32      PDM (?)         C2        B3   \n",
       "3    57   21  MDB  87/101  NaN      174          PDM         D1      None   \n",
       "4    57   25  MDB  87/101  NaN       61      PDM (?)         I4      A4.3   \n",
       "5    58    3  MDB  87/101  NaN      154      PDM (?)         D1      None   \n",
       "6    58    4  MDB  87/101  NaN      194          PDM         C2        B2   \n",
       "7    58    6  MDB  87/101  NaN      116      PDM (?)       None      None   \n",
       "8    59   12  IKM  87/101  NaN       34      PDM (?)       None      None   \n",
       "9    59   13  IKM  87/101  NaN       20      PDM (?)       None        B1   \n",
       "10   59   15  IKM  87/101  NaN       33      PDM (?)       None      None   \n",
       "11   59   22  IKM  87/101  NaN       57      PDM (?)     D1 (?)      None   \n",
       "12   60    6  MAT  87/101   17   15, 17      PDM (?)     C2 (?)      B2.2   \n",
       "13   60   10  MAT  87/101  NaN       43      PDM (?)       None      None   \n",
       "14   60   15  MAT  87/101  NaN       29      PDM (?)       None      None   \n",
       "15   60   20  MAB  87/101  NaN       19  MDB/PDM (?)         D1      None   \n",
       "16   60   21  MAB  87/101  NaN        5  PDM/KON (?)         I4      A2.4   \n",
       "17   60   22  MAB  87/101  NaN        6      PDM (?)         I4      A2.4   \n",
       "18   60   23  MAB  87/101  NaN        2          PDM         I4      A2.4   \n",
       "19   61    6  KON  87/101   25  6,25,27          PDM         D1        B2   \n",
       "20   61   10  KON  87/101  NaN       15          PDM         I4        B3   \n",
       "21   61   11  KON  87/101  NaN       12          PDM         I4        B3   \n",
       "22   61   12  KON  87/101  NaN     7,31          PDM       None        B2   \n",
       "23   61   13  KON  87/101  NaN    10,13          PDM         I4        B3   \n",
       "24   61   14  KON  87/101  NaN        8          PDM         I4        B3   \n",
       "25   62    1  LMS  87/101  NaN       33      PDM (?)         C2        B2   \n",
       "26   62    9  MPB  87/102  NaN        2      PDM (?)       None      None   \n",
       "27   63   12  PDM  87/101  NaN      116  PDM/KON (?)         I4        A3   \n",
       "28   63   15  PDM  87/101  NaN      120          PDM         C2     B1/B3   \n",
       "29   63   16  PDM  87/101  NaN      107          PDM     C2 (?)        B2   \n",
       "30   63   17  PDM  87/101  NaN       39          PDM         C2        B1   \n",
       "31   63   18  PDM  87/101  NaN      115          PDM     D1 (?)        B3   \n",
       "32   63   19  PDM  87/101  NaN      106      PDM (?)     C2 (?)        B2   \n",
       "33   63   20  PDM  87/101  NaN      105          PDM         I4      A3.3   \n",
       "34   64    1  PDM  87/101  NaN       84          PDM     C2 (?)      None   \n",
       "35   64    2  PDM  87/101  NaN       20          PDM         C2      None   \n",
       "36   64    3  PDM  87/101  NaN        2          PDM     C2 (?)      None   \n",
       "37   64    4  PDM  87/101  NaN       62          PDM     C2 (?)      None   \n",
       "38   64    5  PDM  87/101  NaN        7          PDM     C2 (?)      None   \n",
       "39   64    6  PDM  87/101  NaN   54, 83          PDM     C2 (?)      None   \n",
       "40   64    7  PDM  87/101  NaN       18          PDM     C2 (?)      None   \n",
       "41   64    8  PDM  87/101  NaN       12          PDM     C2 (?)      None   \n",
       "42   64    9  PDM  87/101  NaN        4          PDM  A2/A3 (?)    B1 (?)   \n",
       "43   65    2  PDM  87/101  NaN      130  MDB/PDM (?)     C2 (?)        B3   \n",
       "44   66    1  PDM  87/102  NaN        8      PDM (?)     C2 (?)      None   \n",
       "45   66    6  PDM  87/102  NaN        6          PDM         C2      None   \n",
       "46   66    8  PDM  87/102  NaN        2          PDM  C2/D1 (?)      None   \n",
       "47   66   11  MBJ  87/101  NaN       43  PDM/MBJ (?)       None     B1/B3   \n",
       "48   66   17  NGA  87/101  NaN        5      KON/PDM         C2        B2   \n",
       "49   67    1  NGA  87/101  NaN       26          PDM     C2 (?)      None   \n",
       "50   67    2  NGA  87/101  NaN       23          PDM       None      None   \n",
       "51   67    4  NGA  87/101  NaN       19          PDM     C2 (?)      None   \n",
       "52   67    5  NGA  87/101  NaN        9  MBJ/PDM (?)     C2 (?)      B1.1   \n",
       "53   67    8  NGA  87/101  NaN       10  MBJ/PDM (?)       None        B1   \n",
       "54   67   10  NGA  87/101  NaN       16  MBJ/PDM (?)     C2 (?)      None   \n",
       "\n",
       "   Form_Boden  \n",
       "0        None  \n",
       "1        None  \n",
       "2        None  \n",
       "3        None  \n",
       "4          B1  \n",
       "5        None  \n",
       "6        None  \n",
       "7        None  \n",
       "8        None  \n",
       "9        None  \n",
       "10       None  \n",
       "11       None  \n",
       "12       None  \n",
       "13       None  \n",
       "14       None  \n",
       "15       None  \n",
       "16       None  \n",
       "17         B1  \n",
       "18       None  \n",
       "19       None  \n",
       "20         B1  \n",
       "21         B1  \n",
       "22       None  \n",
       "23         B2  \n",
       "24         B1  \n",
       "25       None  \n",
       "26       None  \n",
       "27       None  \n",
       "28       None  \n",
       "29       None  \n",
       "30       None  \n",
       "31       None  \n",
       "32       None  \n",
       "33         B1  \n",
       "34       None  \n",
       "35       None  \n",
       "36       None  \n",
       "37       None  \n",
       "38       None  \n",
       "39       None  \n",
       "40       None  \n",
       "41       None  \n",
       "42       None  \n",
       "43       None  \n",
       "44       None  \n",
       "45       None  \n",
       "46       None  \n",
       "47       None  \n",
       "48       None  \n",
       "49       None  \n",
       "50       None  \n",
       "51       None  \n",
       "52       None  \n",
       "53       None  \n",
       "54       None  "
      ]
     },
     "execution_count": 144,
     "metadata": {},
     "output_type": "execute_result"
    }
   ],
   "source": [
    "sql = \"\"\"SELECT\n",
    "           t_Ort.ort_kurz AS SITE,\n",
    "           t_Komplex.bef_nr AS FEAT,\n",
    "           t_Obj.Individuum AS IND,\n",
    "           t_Obj.Typ,\n",
    "           t_Obj.Form_Gef,\n",
    "           t_Obj.Form_Rand,\n",
    "           t_Obj.Form_Boden\n",
    "       FROM (t_Ort INNER JOIN t_Komplex ON t_Ort.ortID = t_Komplex.ortID)\n",
    "           INNER JOIN t_Obj ON t_Komplex.komplexID = t_Obj.komplexID\n",
    "       WHERE (((t_Ort.ort_lit) = 'DS')\n",
    "           AND ((t_Obj.Typ) Like '%\"\"\"+style+\"\"\"%'))\"\"\".replace('\\n',' ')\n",
    "\n",
    "df = pd.read_sql(sql, con)\n",
    "\n",
    "pl = pd.read_csv('../plates/plates.csv')\n",
    "\n",
    "df_merge = pd.merge(pl, df, on=['SITE', 'FEAT', 'IND'], how='inner')\n",
    "df_merge"
   ]
  },
  {
   "cell_type": "code",
   "execution_count": null,
   "metadata": {
    "collapsed": true
   },
   "outputs": [],
   "source": []
  }
 ],
 "metadata": {
  "anaconda-cloud": {},
  "kernelspec": {
   "display_name": "Python 3",
   "language": "python",
   "name": "python3"
  },
  "language_info": {
   "codemirror_mode": {
    "name": "ipython",
    "version": 3
   },
   "file_extension": ".py",
   "mimetype": "text/x-python",
   "name": "python",
   "nbconvert_exporter": "python",
   "pygments_lexer": "ipython3",
   "version": "3.6.1"
  }
 },
 "nbformat": 4,
 "nbformat_minor": 1
}
