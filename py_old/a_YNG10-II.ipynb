{
 "cells": [
  {
   "cell_type": "markdown",
   "metadata": {},
   "source": [
    "# Bomane Yangwa (Aruwimi)"
   ]
  },
  {
   "cell_type": "markdown",
   "metadata": {},
   "source": [
    "*Bemerkungen*\n",
    "\n",
    "Bislang ist der Fundort nicht vorgelegt, lediglich ein Vorbericht von Livingstone Smith *et al.* (2011) ist publiziert. Darüber hinaus gibt es noch eine  Reihe von Fotos der Keramik, die Livingstone Smith 2010 herumgeschickt hat. Ich selbst habe das Material 2014 in Tervuren gesehen und einigen (nicht genehmigte) Fotos gemacht."
   ]
  },
  {
   "cell_type": "code",
   "execution_count": 1,
   "metadata": {},
   "outputs": [],
   "source": [
    "%matplotlib inline\n",
    "from IPython.display import display\n",
    "import pandas as pd\n",
    "import numpy as np\n",
    "import matplotlib.pyplot as plt\n",
    "import sqlite3\n",
    "\n",
    "con = sqlite3.connect(\"../data/CongoDB.sqlite\")"
   ]
  },
  {
   "cell_type": "markdown",
   "metadata": {},
   "source": [
    "Befund YNG 2010/II in Bomane Yangwa am Aruwimi:"
   ]
  },
  {
   "cell_type": "markdown",
   "metadata": {},
   "source": [
    "## Fundort und Befunde"
   ]
  },
  {
   "cell_type": "code",
   "execution_count": 2,
   "metadata": {},
   "outputs": [
    {
     "data": {
      "text/html": [
       "<div>\n",
       "<table border=\"1\" class=\"dataframe\">\n",
       "  <thead>\n",
       "    <tr style=\"text-align: right;\">\n",
       "      <th></th>\n",
       "      <th>ort_name</th>\n",
       "      <th>N</th>\n",
       "      <th>E</th>\n",
       "      <th>ort_kurz</th>\n",
       "      <th>bef_nr</th>\n",
       "      <th>bef_art</th>\n",
       "    </tr>\n",
       "  </thead>\n",
       "  <tbody>\n",
       "    <tr>\n",
       "      <th>0</th>\n",
       "      <td>Bomane Yangwa</td>\n",
       "      <td>1.281561</td>\n",
       "      <td>23.745473</td>\n",
       "      <td>YNG</td>\n",
       "      <td>2010/II</td>\n",
       "      <td>Grube</td>\n",
       "    </tr>\n",
       "  </tbody>\n",
       "</table>\n",
       "</div>"
      ],
      "text/plain": [
       "        ort_name         N          E ort_kurz   bef_nr bef_art\n",
       "0  Bomane Yangwa  1.281561  23.745473      YNG  2010/II   Grube"
      ]
     },
     "metadata": {},
     "output_type": "display_data"
    }
   ],
   "source": [
    "sql = \"\"\"SELECT\n",
    "           t_Ort.ort_name, \n",
    "           t_Ort.y_Lat AS N,\n",
    "           t_Ort.x_long AS E,\n",
    "           t_Ort.ort_kurz,\n",
    "           t_Komplex.bef_nr, \n",
    "           t_Komplex.bef_art \n",
    "       FROM t_Ort INNER JOIN t_Komplex ON t_Ort.ortID = t_Komplex.ortID\n",
    "       WHERE (((t_Ort.ort_name) Like '%Bomane%'))\"\"\".replace('\\n',' ')\n",
    "\n",
    "df = pd.read_sql(sql, con)\n",
    "display(df.head())"
   ]
  },
  {
   "cell_type": "markdown",
   "metadata": {},
   "source": [
    "## Keramik"
   ]
  },
  {
   "cell_type": "code",
   "execution_count": 3,
   "metadata": {},
   "outputs": [
    {
     "data": {
      "text/html": [
       "<div>\n",
       "<table border=\"1\" class=\"dataframe\">\n",
       "  <thead>\n",
       "    <tr style=\"text-align: right;\">\n",
       "      <th></th>\n",
       "      <th>ort_kurz</th>\n",
       "      <th>bef_nr</th>\n",
       "      <th>Individuum</th>\n",
       "      <th>Typ</th>\n",
       "      <th>Art</th>\n",
       "      <th>Tiefe</th>\n",
       "    </tr>\n",
       "  </thead>\n",
       "  <tbody>\n",
       "    <tr>\n",
       "      <th>0</th>\n",
       "      <td>YNG</td>\n",
       "      <td>2010/II</td>\n",
       "      <td>A</td>\n",
       "      <td>None</td>\n",
       "      <td>K</td>\n",
       "      <td>None</td>\n",
       "    </tr>\n",
       "    <tr>\n",
       "      <th>1</th>\n",
       "      <td>YNG</td>\n",
       "      <td>2010/II</td>\n",
       "      <td>B</td>\n",
       "      <td>None</td>\n",
       "      <td>K</td>\n",
       "      <td>None</td>\n",
       "    </tr>\n",
       "    <tr>\n",
       "      <th>2</th>\n",
       "      <td>YNG</td>\n",
       "      <td>2010/II</td>\n",
       "      <td>C</td>\n",
       "      <td>None</td>\n",
       "      <td>K</td>\n",
       "      <td>None</td>\n",
       "    </tr>\n",
       "    <tr>\n",
       "      <th>3</th>\n",
       "      <td>YNG</td>\n",
       "      <td>2010/II</td>\n",
       "      <td>D</td>\n",
       "      <td>None</td>\n",
       "      <td>K</td>\n",
       "      <td>None</td>\n",
       "    </tr>\n",
       "    <tr>\n",
       "      <th>4</th>\n",
       "      <td>YNG</td>\n",
       "      <td>2010/II</td>\n",
       "      <td>E</td>\n",
       "      <td>None</td>\n",
       "      <td>K</td>\n",
       "      <td>None</td>\n",
       "    </tr>\n",
       "  </tbody>\n",
       "</table>\n",
       "</div>"
      ],
      "text/plain": [
       "  ort_kurz   bef_nr Individuum   Typ Art Tiefe\n",
       "0      YNG  2010/II          A  None   K  None\n",
       "1      YNG  2010/II          B  None   K  None\n",
       "2      YNG  2010/II          C  None   K  None\n",
       "3      YNG  2010/II          D  None   K  None\n",
       "4      YNG  2010/II          E  None   K  None"
      ]
     },
     "metadata": {},
     "output_type": "display_data"
    }
   ],
   "source": [
    "sql = \"\"\"SELECT\n",
    "           t_Ort.ort_kurz, \n",
    "           t_Komplex.bef_nr, \n",
    "           t_Obj.Individuum, \n",
    "           t_Obj.Typ, \n",
    "           t_Obj.Art,\n",
    "           t_Obj.Tiefe \n",
    "       FROM (t_Ort LEFT JOIN t_Komplex ON t_Ort.ortID = t_Komplex.ortID)\n",
    "           LEFT JOIN t_Obj ON t_Komplex.komplexID = t_Obj.komplexID\n",
    "       WHERE (((t_Ort.ort_name) Like '%Bomane%'))\"\"\".replace('\\n',' ')\n",
    "\n",
    "df = pd.read_sql(sql, con)\n",
    "display(df.head())"
   ]
  },
  {
   "cell_type": "markdown",
   "metadata": {},
   "source": [
    "### Abmessungen der Gefäße"
   ]
  },
  {
   "cell_type": "code",
   "execution_count": 4,
   "metadata": {},
   "outputs": [
    {
     "name": "stderr",
     "output_type": "stream",
     "text": [
      "C:\\Users\\DirkSeidenticker\\Anaconda3\\lib\\site-packages\\IPython\\kernel\\__main__.py:17: FutureWarning: convert_objects is deprecated.  Use the data-type specific converters pd.to_datetime, pd.to_timedelta and pd.to_numeric.\n",
      "C:\\Users\\DirkSeidenticker\\Anaconda3\\lib\\site-packages\\IPython\\kernel\\__main__.py:18: FutureWarning: convert_objects is deprecated.  Use the data-type specific converters pd.to_datetime, pd.to_timedelta and pd.to_numeric.\n",
      "C:\\Users\\DirkSeidenticker\\Anaconda3\\lib\\site-packages\\IPython\\kernel\\__main__.py:19: FutureWarning: convert_objects is deprecated.  Use the data-type specific converters pd.to_datetime, pd.to_timedelta and pd.to_numeric.\n",
      "C:\\Users\\DirkSeidenticker\\Anaconda3\\lib\\site-packages\\IPython\\kernel\\__main__.py:20: FutureWarning: convert_objects is deprecated.  Use the data-type specific converters pd.to_datetime, pd.to_timedelta and pd.to_numeric.\n",
      "C:\\Users\\DirkSeidenticker\\Anaconda3\\lib\\site-packages\\IPython\\kernel\\__main__.py:21: FutureWarning: convert_objects is deprecated.  Use the data-type specific converters pd.to_datetime, pd.to_timedelta and pd.to_numeric.\n",
      "C:\\Users\\DirkSeidenticker\\Anaconda3\\lib\\site-packages\\IPython\\kernel\\__main__.py:22: FutureWarning: convert_objects is deprecated.  Use the data-type specific converters pd.to_datetime, pd.to_timedelta and pd.to_numeric.\n",
      "C:\\Users\\DirkSeidenticker\\Anaconda3\\lib\\site-packages\\IPython\\kernel\\__main__.py:23: FutureWarning: convert_objects is deprecated.  Use the data-type specific converters pd.to_datetime, pd.to_timedelta and pd.to_numeric.\n"
     ]
    },
    {
     "data": {
      "text/html": [
       "<div>\n",
       "<table border=\"1\" class=\"dataframe\">\n",
       "  <thead>\n",
       "    <tr style=\"text-align: right;\">\n",
       "      <th></th>\n",
       "      <th>objID</th>\n",
       "      <th>Ind</th>\n",
       "      <th>muendungsD</th>\n",
       "      <th>muendungsH</th>\n",
       "      <th>minD</th>\n",
       "      <th>minD_H</th>\n",
       "      <th>maxD</th>\n",
       "      <th>maxD_H</th>\n",
       "      <th>bodenD</th>\n",
       "    </tr>\n",
       "  </thead>\n",
       "  <tbody>\n",
       "    <tr>\n",
       "      <th>0</th>\n",
       "      <td>6323</td>\n",
       "      <td>YNG 2010/II:A</td>\n",
       "      <td>None</td>\n",
       "      <td>None</td>\n",
       "      <td>NaN</td>\n",
       "      <td>NaN</td>\n",
       "      <td>NaN</td>\n",
       "      <td>NaN</td>\n",
       "      <td>NaN</td>\n",
       "    </tr>\n",
       "    <tr>\n",
       "      <th>1</th>\n",
       "      <td>6324</td>\n",
       "      <td>YNG 2010/II:B</td>\n",
       "      <td>None</td>\n",
       "      <td>None</td>\n",
       "      <td>NaN</td>\n",
       "      <td>NaN</td>\n",
       "      <td>NaN</td>\n",
       "      <td>NaN</td>\n",
       "      <td>NaN</td>\n",
       "    </tr>\n",
       "    <tr>\n",
       "      <th>2</th>\n",
       "      <td>6325</td>\n",
       "      <td>YNG 2010/II:C</td>\n",
       "      <td>None</td>\n",
       "      <td>None</td>\n",
       "      <td>NaN</td>\n",
       "      <td>NaN</td>\n",
       "      <td>NaN</td>\n",
       "      <td>NaN</td>\n",
       "      <td>NaN</td>\n",
       "    </tr>\n",
       "    <tr>\n",
       "      <th>3</th>\n",
       "      <td>6326</td>\n",
       "      <td>YNG 2010/II:D</td>\n",
       "      <td></td>\n",
       "      <td></td>\n",
       "      <td>10</td>\n",
       "      <td>16</td>\n",
       "      <td>16</td>\n",
       "      <td>11</td>\n",
       "      <td>7</td>\n",
       "    </tr>\n",
       "    <tr>\n",
       "      <th>4</th>\n",
       "      <td>6327</td>\n",
       "      <td>YNG 2010/II:E</td>\n",
       "      <td>None</td>\n",
       "      <td>None</td>\n",
       "      <td>NaN</td>\n",
       "      <td>NaN</td>\n",
       "      <td>13</td>\n",
       "      <td>8</td>\n",
       "      <td>NaN</td>\n",
       "    </tr>\n",
       "  </tbody>\n",
       "</table>\n",
       "</div>"
      ],
      "text/plain": [
       "   objID            Ind muendungsD muendungsH  minD  minD_H  maxD  maxD_H  \\\n",
       "0   6323  YNG 2010/II:A       None       None   NaN     NaN   NaN     NaN   \n",
       "1   6324  YNG 2010/II:B       None       None   NaN     NaN   NaN     NaN   \n",
       "2   6325  YNG 2010/II:C       None       None   NaN     NaN   NaN     NaN   \n",
       "3   6326  YNG 2010/II:D                          10      16    16      11   \n",
       "4   6327  YNG 2010/II:E       None       None   NaN     NaN    13       8   \n",
       "\n",
       "   bodenD  \n",
       "0     NaN  \n",
       "1     NaN  \n",
       "2     NaN  \n",
       "3       7  \n",
       "4     NaN  "
      ]
     },
     "metadata": {},
     "output_type": "display_data"
    }
   ],
   "source": [
    "sql = \"\"\"SELECT\n",
    "           t_Obj.objID,\n",
    "           [t_Ort].[ort_kurz] || ' ' || [t_Komplex].[bef_nr] || ':' || [t_Obj].[Individuum] AS Ind,\n",
    "           t_Obj.muendungsD,\n",
    "           t_Obj.muendungsH,\n",
    "           t_Obj.minD,\n",
    "           t_Obj.minD_H,\n",
    "           t_Obj.maxD,\n",
    "           t_Obj.maxD_H,\n",
    "           t_Obj.bodenD\n",
    "       FROM (t_Ort LEFT JOIN t_Komplex ON t_Ort.ortID = t_Komplex.ortID)\n",
    "           LEFT JOIN t_Obj ON t_Komplex.komplexID = t_Obj.komplexID\n",
    "       WHERE (((t_Ort.ort_name) Like '%Bomane%'))\"\"\".replace('\\n',' ')\n",
    "\n",
    "df = pd.read_sql(sql, con)\n",
    "\n",
    "df['muendungsD'] = df['muendungsD'].convert_objects(convert_numeric=True)\n",
    "df['muendungsH'] = df['muendungsH'].convert_objects(convert_numeric=True)\n",
    "df['minD'] = df['minD'].convert_objects(convert_numeric=True)\n",
    "df['minD_H'] = df['minD_H'].convert_objects(convert_numeric=True)\n",
    "df['maxD'] = df['maxD'].convert_objects(convert_numeric=True)\n",
    "df['maxD_H'] = df['maxD_H'].convert_objects(convert_numeric=True)\n",
    "df['bodenD'] = df['bodenD'].convert_objects(convert_numeric=True)\n",
    "\n",
    "display(df)"
   ]
  },
  {
   "cell_type": "markdown",
   "metadata": {},
   "source": [
    "> **ToDo:** in R mit potplot zeichnen lassen?\n",
    ">> *macht eigentlich keinen Sinn, da keine vollständigen Maße vorliegen*"
   ]
  },
  {
   "cell_type": "markdown",
   "metadata": {},
   "source": [
    "### Verzierungselemente"
   ]
  },
  {
   "cell_type": "code",
   "execution_count": 5,
   "metadata": {},
   "outputs": [],
   "source": [
    "sql = \"\"\"SELECT\n",
    "           t_Obj.objID,\n",
    "           t_K_Pos.posID,\n",
    "           t_K_Verz.verzID,\n",
    "           [t_K_Pos].[posReihe] || ' ' || [posName] AS pos,\n",
    "           t_K_Verz.verzName,\n",
    "           t_K_Verz.verzBeschr,\n",
    "           t_Obj.Typ,\n",
    "           t_Obj.Form_Gef\n",
    "       FROM ((t_Ort LEFT JOIN t_Komplex ON t_Ort.ortID = t_Komplex.ortID)\n",
    "           LEFT JOIN t_Obj ON t_Komplex.komplexID = t_Obj.komplexID) t_Obj INNER JOIN \"t_ObjPosVerz\" ON t_Obj.objID = \"t_ObjPosVerz\".objID\n",
    "           INNER JOIN t_K_Pos ON \"t_ObjPosVerz\".posID = t_K_Pos.posID\n",
    "           INNER JOIN t_K_Verz ON \"t_ObjPosVerz\".verzID = t_K_Verz.verzID\n",
    "       WHERE (((t_Ort.ort_name) Like '%Bomane%'))\"\"\".replace('\\n',' ')\n",
    "\n",
    "df = pd.read_sql(sql, con)\n",
    "# display(df.head())"
   ]
  },
  {
   "cell_type": "code",
   "execution_count": 6,
   "metadata": {},
   "outputs": [
    {
     "data": {
      "text/html": [
       "<div>\n",
       "<table border=\"1\" class=\"dataframe\">\n",
       "  <thead>\n",
       "    <tr style=\"text-align: right;\">\n",
       "      <th>t_K_Verz.verzName</th>\n",
       "      <th>01.7</th>\n",
       "      <th>01.8</th>\n",
       "      <th>02.1</th>\n",
       "      <th>02.2</th>\n",
       "      <th>04.1</th>\n",
       "      <th>04.18</th>\n",
       "    </tr>\n",
       "    <tr>\n",
       "      <th>pos</th>\n",
       "      <th></th>\n",
       "      <th></th>\n",
       "      <th></th>\n",
       "      <th></th>\n",
       "      <th></th>\n",
       "      <th></th>\n",
       "    </tr>\n",
       "  </thead>\n",
       "  <tbody>\n",
       "    <tr>\n",
       "      <th>5 Schulter</th>\n",
       "      <td>1</td>\n",
       "      <td>1</td>\n",
       "      <td>3</td>\n",
       "      <td>1</td>\n",
       "      <td>0</td>\n",
       "      <td>1</td>\n",
       "    </tr>\n",
       "    <tr>\n",
       "      <th>6 Bauch</th>\n",
       "      <td>0</td>\n",
       "      <td>2</td>\n",
       "      <td>1</td>\n",
       "      <td>1</td>\n",
       "      <td>2</td>\n",
       "      <td>0</td>\n",
       "    </tr>\n",
       "    <tr>\n",
       "      <th>8 Bodenansatz</th>\n",
       "      <td>0</td>\n",
       "      <td>0</td>\n",
       "      <td>0</td>\n",
       "      <td>0</td>\n",
       "      <td>1</td>\n",
       "      <td>0</td>\n",
       "    </tr>\n",
       "    <tr>\n",
       "      <th>9 Standfl</th>\n",
       "      <td>0</td>\n",
       "      <td>0</td>\n",
       "      <td>0</td>\n",
       "      <td>0</td>\n",
       "      <td>1</td>\n",
       "      <td>0</td>\n",
       "    </tr>\n",
       "  </tbody>\n",
       "</table>\n",
       "</div>"
      ],
      "text/plain": [
       "t_K_Verz.verzName  01.7  01.8  02.1  02.2  04.1  04.18\n",
       "pos                                                   \n",
       "5 Schulter            1     1     3     1     0      1\n",
       "6 Bauch               0     2     1     1     2      0\n",
       "8 Bodenansatz         0     0     0     0     1      0\n",
       "9 Standfl             0     0     0     0     1      0"
      ]
     },
     "execution_count": 6,
     "metadata": {},
     "output_type": "execute_result"
    }
   ],
   "source": [
    "df_pivot = df.pivot_table(values = 't_Obj.objID', index = 'pos', columns = 't_K_Verz.verzName', aggfunc = len)\n",
    "df_pivot = df_pivot.fillna(0)\n",
    "df_pivot"
   ]
  },
  {
   "cell_type": "code",
   "execution_count": 7,
   "metadata": {},
   "outputs": [
    {
     "data": {
      "image/png": "[encoded data removed]",
      "text/plain": [
       "<matplotlib.figure.Figure at 0x8be3780>"
      ]
     },
     "metadata": {},
     "output_type": "display_data"
    }
   ],
   "source": [
    "plt.imshow(df_pivot, interpolation='nearest', cmap='Greys', alpha = .5)\n",
    "plt.ylabel('Gefäßposition')\n",
    "plt.xlabel('Verzierungselemente')\n",
    "plt.yticks(range(len(df_pivot.index)), df_pivot.index)\n",
    "plt.xticks(range(len(df_pivot.columns)), df_pivot.columns, rotation='vertical')\n",
    "for (i, j), z in np.ndenumerate(df_pivot):\n",
    "    plt.text(j, i, '{:0.0f}'.format(z), ha='center', va='center')\n",
    "plt.tight_layout()\n",
    "plt.show()"
   ]
  },
  {
   "cell_type": "markdown",
   "metadata": {},
   "source": [
    "## <sup>14</sup>C-Daten"
   ]
  },
  {
   "cell_type": "markdown",
   "metadata": {},
   "source": [
    "*Wichtig:*\n",
    "\n",
    "**Das 14C-Datum ist bislang nicht publiziert (Stand 30.12.2014)!** Livingstone Smith zeigte mir die Datenblätter inkl. dieser Datierung im Oktober 2014 bei einem Besuch in Tervuren."
   ]
  },
  {
   "cell_type": "code",
   "execution_count": 2,
   "metadata": {},
   "outputs": [
    {
     "data": {
      "text/html": [
       "<div>\n",
       "<table border=\"1\" class=\"dataframe\">\n",
       "  <thead>\n",
       "    <tr style=\"text-align: right;\">\n",
       "      <th></th>\n",
       "      <th>LABNR</th>\n",
       "      <th>C14AGE</th>\n",
       "      <th>C14STD</th>\n",
       "      <th>C13</th>\n",
       "      <th>MATERIAL</th>\n",
       "      <th>SPECIES</th>\n",
       "      <th>SITE</th>\n",
       "      <th>CULTURE</th>\n",
       "      <th>PHASE</th>\n",
       "      <th>COUNTRY</th>\n",
       "      <th>LATITUDE</th>\n",
       "      <th>LONGITUDE</th>\n",
       "    </tr>\n",
       "  </thead>\n",
       "  <tbody>\n",
       "    <tr>\n",
       "      <th>0</th>\n",
       "      <td>Poz-39122</td>\n",
       "      <td>2110</td>\n",
       "      <td>35</td>\n",
       "      <td>0</td>\n",
       "      <td>None</td>\n",
       "      <td>None</td>\n",
       "      <td>Bomane Yangwa</td>\n",
       "      <td>Grube</td>\n",
       "      <td>YNG 2010/II</td>\n",
       "      <td>COD</td>\n",
       "      <td>1.281561</td>\n",
       "      <td>23.745473</td>\n",
       "    </tr>\n",
       "  </tbody>\n",
       "</table>\n",
       "</div>"
      ],
      "text/plain": [
       "       LABNR  C14AGE  C14STD  C13 MATERIAL SPECIES           SITE CULTURE  \\\n",
       "0  Poz-39122    2110      35    0     None    None  Bomane Yangwa   Grube   \n",
       "\n",
       "         PHASE COUNTRY  LATITUDE  LONGITUDE  \n",
       "0  YNG 2010/II     COD  1.281561  23.745473  "
      ]
     },
     "metadata": {},
     "output_type": "display_data"
    }
   ],
   "source": [
    "sql = \"\"\"SELECT\n",
    "           t_14C.LABNR,\n",
    "           t_14C.C14AGE,\n",
    "           t_14C.C14STD,\n",
    "           t_14C.C13,\n",
    "           t_14C.MATERIAL,\n",
    "           t_14C.SPECIES,\n",
    "           [t_Ort].[ort_name] AS SITE, \n",
    "           [t_Komplex].[bef_art] AS CULTURE, \n",
    "           [t_Ort].[ort_kurz] || ' ' || [t_Komplex].[bef_nr] AS PHASE,\n",
    "           [t_ort].[ort_land] AS COUNTRY,\n",
    "           [t_ort].[y_lat] AS LATITUDE,\n",
    "           [t_ort].[x_long] AS LONGITUDE\n",
    "       FROM (t_Ort LEFT JOIN t_Komplex ON t_Ort.ortID = t_Komplex.ortID)\n",
    "           LEFT JOIN t_14c ON t_Komplex.komplexID = t_14c.komplexID\n",
    "       WHERE (((t_Ort.ort_name) Like '%Bomane%'))\"\"\".replace('\\n',' ')\n",
    "\n",
    "df = pd.read_sql(sql, con)\n",
    "display(df.head())"
   ]
  },
  {
   "cell_type": "markdown",
   "metadata": {},
   "source": [
    "# Interpretation"
   ]
  },
  {
   "cell_type": "markdown",
   "metadata": {},
   "source": [
    "Das Material unterscheidet sich eindeutig von Imbonga sowie allem anderen mir aktuell bekannten – inkl. Batalimo-Maluba? Es ist jedoch zeitgleich zu den bislang bekannten frühesten keramischen Stilgruppen in der Region und scheint eine weitere, unabhängige Besiedlungsgang des Regenwaldes zu repräsentieren."
   ]
  },
  {
   "cell_type": "code",
   "execution_count": null,
   "metadata": {},
   "outputs": [],
   "source": []
  }
 ],
 "metadata": {
  "kernelspec": {
   "display_name": "Python 3",
   "language": "python",
   "name": "python3"
  },
  "language_info": {
   "codemirror_mode": {
    "name": "ipython",
    "version": 3
   },
   "file_extension": ".py",
   "mimetype": "text/x-python",
   "name": "python",
   "nbconvert_exporter": "python",
   "pygments_lexer": "ipython3",
   "version": "3.6.1"
  }
 },
 "nbformat": 4,
 "nbformat_minor": 1
}
