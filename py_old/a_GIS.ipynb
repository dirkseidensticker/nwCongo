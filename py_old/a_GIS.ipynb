{
 "cells": [
  {
   "cell_type": "markdown",
   "metadata": {},
   "source": [
    "# GIS-Anwendungen"
   ]
  },
  {
   "cell_type": "code",
   "execution_count": 1,
   "metadata": {
    "collapsed": false
   },
   "outputs": [],
   "source": [
    "%matplotlib inline\n",
    "from IPython.display import display\n",
    "import pandas as pd\n",
    "import numpy as np\n",
    "import matplotlib.pyplot as plt\n",
    "import sqlite3\n",
    "\n",
    "con = sqlite3.connect(\"../data/CongoDB.sqlite\")"
   ]
  },
  {
   "cell_type": "markdown",
   "metadata": {},
   "source": [
    "## Fundstellen in DB auslesen"
   ]
  },
  {
   "cell_type": "code",
   "execution_count": 2,
   "metadata": {
    "collapsed": false
   },
   "outputs": [
    {
     "data": {
      "text/html": [
       "<div>\n",
       "<table border=\"1\" class=\"dataframe\">\n",
       "  <thead>\n",
       "    <tr style=\"text-align: right;\">\n",
       "      <th></th>\n",
       "      <th>ort_name</th>\n",
       "      <th>ort_kurz</th>\n",
       "      <th>x_long</th>\n",
       "      <th>y_lat</th>\n",
       "    </tr>\n",
       "  </thead>\n",
       "  <tbody>\n",
       "    <tr>\n",
       "      <th>0</th>\n",
       "      <td>Gombe</td>\n",
       "      <td>GMB</td>\n",
       "      <td>17.580406</td>\n",
       "      <td>-0.704069</td>\n",
       "    </tr>\n",
       "    <tr>\n",
       "      <th>1</th>\n",
       "      <td>?</td>\n",
       "      <td>MBD</td>\n",
       "      <td>NaN</td>\n",
       "      <td>NaN</td>\n",
       "    </tr>\n",
       "    <tr>\n",
       "      <th>2</th>\n",
       "      <td>?</td>\n",
       "      <td>MDN</td>\n",
       "      <td>NaN</td>\n",
       "      <td>NaN</td>\n",
       "    </tr>\n",
       "    <tr>\n",
       "      <th>3</th>\n",
       "      <td>Batalimo</td>\n",
       "      <td>None</td>\n",
       "      <td>18.455022</td>\n",
       "      <td>3.675942</td>\n",
       "    </tr>\n",
       "    <tr>\n",
       "      <th>4</th>\n",
       "      <td>Mondjo</td>\n",
       "      <td>MDJ</td>\n",
       "      <td>19.269369</td>\n",
       "      <td>0.347772</td>\n",
       "    </tr>\n",
       "  </tbody>\n",
       "</table>\n",
       "</div>"
      ],
      "text/plain": [
       "   ort_name ort_kurz     x_long     y_lat\n",
       "0     Gombe      GMB  17.580406 -0.704069\n",
       "1         ?      MBD        NaN       NaN\n",
       "2         ?      MDN        NaN       NaN\n",
       "3  Batalimo     None  18.455022  3.675942\n",
       "4    Mondjo      MDJ  19.269369  0.347772"
      ]
     },
     "metadata": {},
     "output_type": "display_data"
    }
   ],
   "source": [
    "sql = \"\"\"SELECT\n",
    "           ort_name,\n",
    "           ort_kurz,\n",
    "           x_long,\n",
    "           y_lat\n",
    "       FROM t_Ort\"\"\".replace('\\n',' ')\n",
    "\n",
    "df = pd.read_sql(sql, con)\n",
    "\n",
    "display(df.head())"
   ]
  },
  {
   "cell_type": "code",
   "execution_count": 3,
   "metadata": {
    "collapsed": false
   },
   "outputs": [],
   "source": [
    "# Tabelle in CSV schreiben, um sie in QGIS zu nutzen:\n",
    "df.to_csv('../data/processed/FdSt_Koord_GIS.csv', index = False, encoding='utf-8')"
   ]
  },
  {
   "cell_type": "markdown",
   "metadata": {},
   "source": [
    "## Höhen der FdSt"
   ]
  },
  {
   "cell_type": "markdown",
   "metadata": {},
   "source": [
    "In QGIS mit dem *Point sampling tool* die Höhenwerte aus einem SRTM-Datensatz auf den Punkt-Layer übertragen."
   ]
  },
  {
   "cell_type": "code",
   "execution_count": 4,
   "metadata": {
    "collapsed": false
   },
   "outputs": [
    {
     "data": {
      "text/html": [
       "<div>\n",
       "<table border=\"1\" class=\"dataframe\">\n",
       "  <thead>\n",
       "    <tr style=\"text-align: right;\">\n",
       "      <th></th>\n",
       "      <th>X</th>\n",
       "      <th>Y</th>\n",
       "      <th>ort_name</th>\n",
       "      <th>y_lat</th>\n",
       "      <th>x_long</th>\n",
       "      <th>ort_lit</th>\n",
       "      <th>srtm_merge</th>\n",
       "    </tr>\n",
       "  </thead>\n",
       "  <tbody>\n",
       "    <tr>\n",
       "      <th>0</th>\n",
       "      <td>17.580406</td>\n",
       "      <td>-0.704069</td>\n",
       "      <td>Gombe</td>\n",
       "      <td>-0.704069</td>\n",
       "      <td>17.580406</td>\n",
       "      <td>DS</td>\n",
       "      <td>302</td>\n",
       "    </tr>\n",
       "    <tr>\n",
       "      <th>1</th>\n",
       "      <td>19.269369</td>\n",
       "      <td>0.347772</td>\n",
       "      <td>Mondjo</td>\n",
       "      <td>0.347772</td>\n",
       "      <td>19.269369</td>\n",
       "      <td>Wotzka 1995</td>\n",
       "      <td>317</td>\n",
       "    </tr>\n",
       "    <tr>\n",
       "      <th>2</th>\n",
       "      <td>17.432057</td>\n",
       "      <td>-0.006791</td>\n",
       "      <td>Bojenjo</td>\n",
       "      <td>-0.006791</td>\n",
       "      <td>17.432057</td>\n",
       "      <td>DS</td>\n",
       "      <td>309</td>\n",
       "    </tr>\n",
       "    <tr>\n",
       "      <th>3</th>\n",
       "      <td>17.478148</td>\n",
       "      <td>0.099491</td>\n",
       "      <td>Bokuma</td>\n",
       "      <td>0.099491</td>\n",
       "      <td>17.478148</td>\n",
       "      <td>DS</td>\n",
       "      <td>302</td>\n",
       "    </tr>\n",
       "    <tr>\n",
       "      <th>4</th>\n",
       "      <td>17.221926</td>\n",
       "      <td>-0.805556</td>\n",
       "      <td>Boleko</td>\n",
       "      <td>-0.805556</td>\n",
       "      <td>17.221926</td>\n",
       "      <td>DS</td>\n",
       "      <td>304</td>\n",
       "    </tr>\n",
       "  </tbody>\n",
       "</table>\n",
       "</div>"
      ],
      "text/plain": [
       "           X         Y ort_name     y_lat     x_long      ort_lit  srtm_merge\n",
       "0  17.580406 -0.704069    Gombe -0.704069  17.580406           DS         302\n",
       "1  19.269369  0.347772   Mondjo  0.347772  19.269369  Wotzka 1995         317\n",
       "2  17.432057 -0.006791  Bojenjo -0.006791  17.432057           DS         309\n",
       "3  17.478148  0.099491   Bokuma  0.099491  17.478148           DS         302\n",
       "4  17.221926 -0.805556   Boleko -0.805556  17.221926           DS         304"
      ]
     },
     "metadata": {},
     "output_type": "display_data"
    }
   ],
   "source": [
    "df = pd.read_csv('../data/processed/1_Fundstellen_Kartierung_Höhe.csv')\n",
    "display(df.head())"
   ]
  },
  {
   "cell_type": "markdown",
   "metadata": {},
   "source": [
    "> srtm_merge enthält die Höhe der FdSt"
   ]
  },
  {
   "cell_type": "code",
   "execution_count": 5,
   "metadata": {
    "collapsed": false
   },
   "outputs": [
    {
     "data": {
      "text/plain": [
       "<matplotlib.axes._subplots.AxesSubplot at 0x88354a8>"
      ]
     },
     "execution_count": 5,
     "metadata": {},
     "output_type": "execute_result"
    },
    {
     "data": {
      "image/png": "[encoded data removed]",
      "text/plain": [
       "<matplotlib.figure.Figure at 0x88234e0>"
      ]
     },
     "metadata": {},
     "output_type": "display_data"
    }
   ],
   "source": [
    "df['srtm_merge'].plot(kind = 'bar')"
   ]
  },
  {
   "cell_type": "code",
   "execution_count": null,
   "metadata": {
    "collapsed": false
   },
   "outputs": [],
   "source": []
  }
 ],
 "metadata": {
  "kernelspec": {
   "display_name": "Python 3",
   "language": "python",
   "name": "python3"
  },
  "language_info": {
   "codemirror_mode": {
    "name": "ipython",
    "version": 3
   },
   "file_extension": ".py",
   "mimetype": "text/x-python",
   "name": "python",
   "nbconvert_exporter": "python",
   "pygments_lexer": "ipython3",
   "version": "3.6.1"
  }
 },
 "nbformat": 4,
 "nbformat_minor": 2
}
