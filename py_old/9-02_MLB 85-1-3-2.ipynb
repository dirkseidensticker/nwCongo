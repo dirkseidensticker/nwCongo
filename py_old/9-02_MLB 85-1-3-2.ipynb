{
 "cells": [
  {
   "cell_type": "markdown",
   "metadata": {},
   "source": [
    "# MLB 85/1-3-2"
   ]
  },
  {
   "cell_type": "markdown",
   "metadata": {},
   "source": [
    "* [Verteilung der Funde](#Verteilung-der-Funde)\n",
    "* [Keramische Stilgruppen](#Keramische-Stilgruppen)"
   ]
  },
  {
   "cell_type": "code",
   "execution_count": 1,
   "metadata": {
    "collapsed": false
   },
   "outputs": [],
   "source": [
    "%matplotlib inline\n",
    "from IPython.display import display\n",
    "import pandas as pd\n",
    "import numpy as np\n",
    "import matplotlib.pyplot as plt\n",
    "import sqlite3\n",
    "# pd.options.display.mpl_style = 'default'\n",
    "\n",
    "con = sqlite3.connect(\"../data/CongoDB.sqlite\")"
   ]
  },
  {
   "cell_type": "markdown",
   "metadata": {},
   "source": [
    "## Verteilung der Funde"
   ]
  },
  {
   "cell_type": "code",
   "execution_count": 2,
   "metadata": {
    "collapsed": false
   },
   "outputs": [
    {
     "name": "stderr",
     "output_type": "stream",
     "text": [
      "C:\\Users\\DirkSeidenticker\\Anaconda3\\lib\\site-packages\\IPython\\kernel\\__main__.py:17: FutureWarning: convert_objects is deprecated.  Use the data-type specific converters pd.to_datetime, pd.to_timedelta and pd.to_numeric.\n",
      "C:\\Users\\DirkSeidenticker\\Anaconda3\\lib\\site-packages\\IPython\\kernel\\__main__.py:18: FutureWarning: convert_objects is deprecated.  Use the data-type specific converters pd.to_datetime, pd.to_timedelta and pd.to_numeric.\n"
     ]
    },
    {
     "data": {
      "text/html": [
       "<div>\n",
       "<table border=\"1\" class=\"dataframe\">\n",
       "  <thead>\n",
       "    <tr style=\"text-align: right;\">\n",
       "      <th></th>\n",
       "      <th>ort_kurz</th>\n",
       "      <th>Komplex</th>\n",
       "      <th>Individuum</th>\n",
       "      <th>Typ</th>\n",
       "      <th>Gewicht</th>\n",
       "      <th>Anzahl</th>\n",
       "      <th>Gr_Clist</th>\n",
       "      <th>Art</th>\n",
       "      <th>Tiefe</th>\n",
       "    </tr>\n",
       "  </thead>\n",
       "  <tbody>\n",
       "    <tr>\n",
       "      <th>0</th>\n",
       "      <td>MLB</td>\n",
       "      <td>85/1-3-2</td>\n",
       "      <td>-1:1</td>\n",
       "      <td></td>\n",
       "      <td>35</td>\n",
       "      <td>1</td>\n",
       "      <td>70</td>\n",
       "      <td>K</td>\n",
       "      <td>0,5</td>\n",
       "    </tr>\n",
       "    <tr>\n",
       "      <th>1</th>\n",
       "      <td>MLB</td>\n",
       "      <td>85/1-3-2</td>\n",
       "      <td>-2:3</td>\n",
       "      <td>BatMLB (?)</td>\n",
       "      <td>26</td>\n",
       "      <td>1</td>\n",
       "      <td>70</td>\n",
       "      <td>K</td>\n",
       "      <td>0,65</td>\n",
       "    </tr>\n",
       "    <tr>\n",
       "      <th>2</th>\n",
       "      <td>MLB</td>\n",
       "      <td>85/1-3-2</td>\n",
       "      <td>-3:37</td>\n",
       "      <td>BatMLB</td>\n",
       "      <td>32</td>\n",
       "      <td>1</td>\n",
       "      <td>70</td>\n",
       "      <td>K</td>\n",
       "      <td>0,8</td>\n",
       "    </tr>\n",
       "    <tr>\n",
       "      <th>3</th>\n",
       "      <td>MLB</td>\n",
       "      <td>85/1-3-2</td>\n",
       "      <td>-4:9</td>\n",
       "      <td></td>\n",
       "      <td>52</td>\n",
       "      <td>1</td>\n",
       "      <td>70</td>\n",
       "      <td>K</td>\n",
       "      <td>1,05</td>\n",
       "    </tr>\n",
       "    <tr>\n",
       "      <th>4</th>\n",
       "      <td>MLB</td>\n",
       "      <td>85/1-3-2</td>\n",
       "      <td>-5:24</td>\n",
       "      <td>BatMLB (?)</td>\n",
       "      <td>9</td>\n",
       "      <td>1</td>\n",
       "      <td>70</td>\n",
       "      <td>K</td>\n",
       "      <td>1,17</td>\n",
       "    </tr>\n",
       "  </tbody>\n",
       "</table>\n",
       "</div>"
      ],
      "text/plain": [
       "  ort_kurz   Komplex Individuum         Typ  Gewicht  Anzahl Gr_Clist Art  \\\n",
       "0      MLB  85/1-3-2       -1:1                   35       1       70   K   \n",
       "1      MLB  85/1-3-2       -2:3  BatMLB (?)       26       1       70   K   \n",
       "2      MLB  85/1-3-2      -3:37      BatMLB       32       1       70   K   \n",
       "3      MLB  85/1-3-2       -4:9                   52       1       70   K   \n",
       "4      MLB  85/1-3-2      -5:24  BatMLB (?)        9       1       70   K   \n",
       "\n",
       "  Tiefe  \n",
       "0   0,5  \n",
       "1  0,65  \n",
       "2   0,8  \n",
       "3  1,05  \n",
       "4  1,17  "
      ]
     },
     "metadata": {},
     "output_type": "display_data"
    }
   ],
   "source": [
    "sql = \"\"\"SELECT\n",
    "           t_Obj.ort_kurz, \n",
    "           t_Obj.Komplex, \n",
    "           t_Obj.Individuum, \n",
    "           t_Obj.Typ, \n",
    "           t_Obj.Gewicht,\n",
    "           t_Obj.Anzahl,\n",
    "           t_Obj.Gr_Clist, \n",
    "           t_Obj.Art,\n",
    "           t_Obj.Tiefe \n",
    "       FROM (t_Ort INNER JOIN t_Komplex ON t_Ort.ortID = t_Komplex.ortID)\n",
    "           INNER JOIN t_Obj ON t_Komplex.komplexID = t_Obj.komplexID\n",
    "       WHERE (((t_Ort.ort_kurz) = 'MLB')\n",
    "           AND ((t_Komplex.bef_nr) = '85/1-3-2'))\"\"\".replace('\\n',' ')\n",
    "\n",
    "df = pd.read_sql(sql, con)\n",
    "df['Gewicht'] = df['Gewicht'].convert_objects(convert_numeric=True)\n",
    "df['Tiefe'] = df['Tiefe'].convert_objects(convert_numeric=True)\n",
    "df['Tiefe'] = df['Tiefe'].replace('', np.nan) \n",
    "df = df.dropna(subset=['Tiefe'])\n",
    "display(df.head())"
   ]
  },
  {
   "cell_type": "code",
   "execution_count": 3,
   "metadata": {
    "collapsed": false
   },
   "outputs": [
    {
     "data": {
      "text/html": [
       "<div>\n",
       "<table border=\"1\" class=\"dataframe\">\n",
       "  <thead>\n",
       "    <tr style=\"text-align: right;\">\n",
       "      <th>Art</th>\n",
       "      <th>Hüttenlehm</th>\n",
       "      <th>Keramik</th>\n",
       "      <th>Stein</th>\n",
       "    </tr>\n",
       "    <tr>\n",
       "      <th>Tiefe</th>\n",
       "      <th></th>\n",
       "      <th></th>\n",
       "      <th></th>\n",
       "    </tr>\n",
       "  </thead>\n",
       "  <tbody>\n",
       "    <tr>\n",
       "      <th>0,5</th>\n",
       "      <td>0</td>\n",
       "      <td>365</td>\n",
       "      <td>0</td>\n",
       "    </tr>\n",
       "    <tr>\n",
       "      <th>0,65</th>\n",
       "      <td>0</td>\n",
       "      <td>385</td>\n",
       "      <td>0</td>\n",
       "    </tr>\n",
       "    <tr>\n",
       "      <th>0,8</th>\n",
       "      <td>399</td>\n",
       "      <td>1018</td>\n",
       "      <td>0</td>\n",
       "    </tr>\n",
       "    <tr>\n",
       "      <th>1,05</th>\n",
       "      <td>0</td>\n",
       "      <td>379</td>\n",
       "      <td>0</td>\n",
       "    </tr>\n",
       "    <tr>\n",
       "      <th>1,17</th>\n",
       "      <td>0</td>\n",
       "      <td>575</td>\n",
       "      <td>239</td>\n",
       "    </tr>\n",
       "  </tbody>\n",
       "</table>\n",
       "</div>"
      ],
      "text/plain": [
       "Art    Hüttenlehm  Keramik  Stein\n",
       "Tiefe                            \n",
       "0,5             0      365      0\n",
       "0,65            0      385      0\n",
       "0,8           399     1018      0\n",
       "1,05            0      379      0\n",
       "1,17            0      575    239"
      ]
     },
     "execution_count": 3,
     "metadata": {},
     "output_type": "execute_result"
    }
   ],
   "source": [
    "df_pivot = df.pivot_table(values = 'Gewicht', index = 'Tiefe', columns = 'Art', aggfunc = sum, fill_value = 0)\n",
    "df_pivot.rename(columns={'HL': 'Hüttenlehm', 'K': 'Keramik'}, inplace=True)\n",
    "df_pivot"
   ]
  },
  {
   "cell_type": "code",
   "execution_count": 5,
   "metadata": {
    "collapsed": false
   },
   "outputs": [
    {
     "data": {
      "image/png": "[encoded data removed]",
      "text/plain": [
       "<matplotlib.figure.Figure at 0x92d3518>"
      ]
     },
     "metadata": {},
     "output_type": "display_data"
    }
   ],
   "source": [
    "ax = df_pivot.plot(kind = 'barh', stacked=True, cmap = 'Greys')\n",
    "plt.xlabel('Gewicht [g]')\n",
    "plt.ylabel('Tiefe [cm u. Obfl.]')\n",
    "plt.gca().invert_yaxis()\n",
    "xlim = ax.get_xlim()\n",
    "ylim = ax.get_ylim()\n",
    "plt.gca().set_aspect((abs(xlim[0]) + abs(xlim[1])) / (abs(ylim[0]) + abs(ylim[1])))\n",
    "lgd = plt.legend(bbox_to_anchor=(0.5, -0.2), loc = 9, ncol=2, borderaxespad = 0.)\n",
    "plt.tight_layout()\n",
    "plt.savefig('../output/figs/9-2_MLB85-132_VerteilungFunde.pdf', bbox_extra_artists=(lgd,), bbox_inches='tight')\n",
    "plt.show()"
   ]
  },
  {
   "cell_type": "markdown",
   "metadata": {},
   "source": [
    "> **MLB 85/1-3-2** Fundverteilung"
   ]
  },
  {
   "cell_type": "code",
   "execution_count": 5,
   "metadata": {
    "collapsed": false
   },
   "outputs": [
    {
     "data": {
      "text/html": [
       "<div>\n",
       "<table border=\"1\" class=\"dataframe\">\n",
       "  <thead>\n",
       "    <tr style=\"text-align: right;\">\n",
       "      <th></th>\n",
       "      <th>Fundkategorie</th>\n",
       "      <th>Anzahl</th>\n",
       "      <th>\\%</th>\n",
       "      <th>Gewicht (kg)</th>\n",
       "      <th>\\%</th>\n",
       "    </tr>\n",
       "  </thead>\n",
       "  <tbody>\n",
       "    <tr>\n",
       "      <th>0</th>\n",
       "      <td>gebrannter Lehm</td>\n",
       "      <td>2</td>\n",
       "      <td>1.8</td>\n",
       "      <td>0.40</td>\n",
       "      <td>11.9</td>\n",
       "    </tr>\n",
       "    <tr>\n",
       "      <th>1</th>\n",
       "      <td>Keramik</td>\n",
       "      <td>108</td>\n",
       "      <td>97.3</td>\n",
       "      <td>2.72</td>\n",
       "      <td>81.0</td>\n",
       "    </tr>\n",
       "    <tr>\n",
       "      <th>2</th>\n",
       "      <td>Stein</td>\n",
       "      <td>1</td>\n",
       "      <td>0.9</td>\n",
       "      <td>0.24</td>\n",
       "      <td>7.1</td>\n",
       "    </tr>\n",
       "  </tbody>\n",
       "</table>\n",
       "</div>"
      ],
      "text/plain": [
       "     Fundkategorie  Anzahl    \\%  Gewicht (kg)    \\%\n",
       "0  gebrannter Lehm       2   1.8          0.40  11.9\n",
       "1          Keramik     108  97.3          2.72  81.0\n",
       "2            Stein       1   0.9          0.24   7.1"
      ]
     },
     "execution_count": 5,
     "metadata": {},
     "output_type": "execute_result"
    }
   ],
   "source": [
    "df_pivot1 = df.pivot_table(values = 'Gewicht', index = 'Art', aggfunc = sum, fill_value = 0)\n",
    "df_pivot1 = pd.DataFrame(df_pivot1)\n",
    "# df_pivot1 = df_pivot1.reset_index()\n",
    "df_pivot1.rename(index={'HL': 'gebrannter Lehm', 'K': 'Keramik'}, inplace=True)\n",
    "df_pivot1['\\%'] = (df_pivot1['Gewicht']/df_pivot1['Gewicht'].sum()*100).round(1)\n",
    "df_pivot1['Gewicht'] = (df_pivot1['Gewicht'] / 1000).round(2)\n",
    "df_pivot1.rename(columns={'Gewicht': 'Gewicht (kg)'}, inplace=True)\n",
    "\n",
    "df_pivot2 = df.pivot_table(values = 'Anzahl', index = 'Art', aggfunc = sum, fill_value = 0)\n",
    "df_pivot2 = pd.DataFrame(df_pivot2)\n",
    "df_pivot2.rename(index={'HL': 'gebrannter Lehm', 'K': 'Keramik'}, inplace=True)\n",
    "df_pivot2['\\%'] = (df_pivot2['Anzahl']/df_pivot2['Anzahl'].sum()*100).round(1)\n",
    "\n",
    "# Tabellen vereinen:\n",
    "df_concat = pd.concat([df_pivot2, df_pivot1], axis = 1)\n",
    "df_concat = df_concat.reset_index()\n",
    "df_concat.rename(columns={'Art': 'Fundkategorie'}, inplace=True)\n",
    "df_concat.to_latex('../output/tabs/9-02_MLB85-1-3-2_Funde.tex', index = False, escape = False)\n",
    "df_concat"
   ]
  },
  {
   "cell_type": "markdown",
   "metadata": {},
   "source": [
    "## Keramische Stilgruppen"
   ]
  },
  {
   "cell_type": "code",
   "execution_count": 6,
   "metadata": {
    "collapsed": false
   },
   "outputs": [
    {
     "name": "stderr",
     "output_type": "stream",
     "text": [
      "C:\\Users\\DirkSeidenticker\\Anaconda3\\lib\\site-packages\\IPython\\kernel\\__main__.py:17: FutureWarning: convert_objects is deprecated.  Use the data-type specific converters pd.to_datetime, pd.to_timedelta and pd.to_numeric.\n"
     ]
    },
    {
     "data": {
      "text/html": [
       "<div>\n",
       "<table border=\"1\" class=\"dataframe\">\n",
       "  <thead>\n",
       "    <tr style=\"text-align: right;\">\n",
       "      <th></th>\n",
       "      <th>ort_kurz</th>\n",
       "      <th>Komplex</th>\n",
       "      <th>Individuum</th>\n",
       "      <th>Typ</th>\n",
       "      <th>Gewicht</th>\n",
       "      <th>Gr_Clist</th>\n",
       "      <th>Art</th>\n",
       "      <th>Tiefe</th>\n",
       "    </tr>\n",
       "  </thead>\n",
       "  <tbody>\n",
       "    <tr>\n",
       "      <th>0</th>\n",
       "      <td>MLB</td>\n",
       "      <td>85/1-3-2</td>\n",
       "      <td>-1:1</td>\n",
       "      <td>(?)</td>\n",
       "      <td>35</td>\n",
       "      <td>70</td>\n",
       "      <td>K</td>\n",
       "      <td>0,5</td>\n",
       "    </tr>\n",
       "    <tr>\n",
       "      <th>1</th>\n",
       "      <td>MLB</td>\n",
       "      <td>85/1-3-2</td>\n",
       "      <td>-2:3</td>\n",
       "      <td>BatMLB (?)</td>\n",
       "      <td>26</td>\n",
       "      <td>70</td>\n",
       "      <td>K</td>\n",
       "      <td>0,65</td>\n",
       "    </tr>\n",
       "    <tr>\n",
       "      <th>2</th>\n",
       "      <td>MLB</td>\n",
       "      <td>85/1-3-2</td>\n",
       "      <td>-3:37</td>\n",
       "      <td>BatMLB</td>\n",
       "      <td>32</td>\n",
       "      <td>70</td>\n",
       "      <td>K</td>\n",
       "      <td>0,8</td>\n",
       "    </tr>\n",
       "    <tr>\n",
       "      <th>3</th>\n",
       "      <td>MLB</td>\n",
       "      <td>85/1-3-2</td>\n",
       "      <td>-4:9</td>\n",
       "      <td>(?)</td>\n",
       "      <td>52</td>\n",
       "      <td>70</td>\n",
       "      <td>K</td>\n",
       "      <td>1,05</td>\n",
       "    </tr>\n",
       "    <tr>\n",
       "      <th>4</th>\n",
       "      <td>MLB</td>\n",
       "      <td>85/1-3-2</td>\n",
       "      <td>-5:24</td>\n",
       "      <td>BatMLB (?)</td>\n",
       "      <td>9</td>\n",
       "      <td>70</td>\n",
       "      <td>K</td>\n",
       "      <td>1,17</td>\n",
       "    </tr>\n",
       "  </tbody>\n",
       "</table>\n",
       "</div>"
      ],
      "text/plain": [
       "  ort_kurz   Komplex Individuum         Typ  Gewicht Gr_Clist Art Tiefe\n",
       "0      MLB  85/1-3-2       -1:1         (?)       35       70   K   0,5\n",
       "1      MLB  85/1-3-2       -2:3  BatMLB (?)       26       70   K  0,65\n",
       "2      MLB  85/1-3-2      -3:37      BatMLB       32       70   K   0,8\n",
       "3      MLB  85/1-3-2       -4:9         (?)       52       70   K  1,05\n",
       "4      MLB  85/1-3-2      -5:24  BatMLB (?)        9       70   K  1,17"
      ]
     },
     "metadata": {},
     "output_type": "display_data"
    }
   ],
   "source": [
    "sql = \"\"\"SELECT\n",
    "           t_Obj.ort_kurz, \n",
    "           t_Obj.Komplex, \n",
    "           t_Obj.Individuum, \n",
    "           t_Obj.Typ, \n",
    "           t_Obj.Gewicht,\n",
    "           t_Obj.Gr_Clist, \n",
    "           t_Obj.Art,\n",
    "           t_Obj.Tiefe \n",
    "       FROM (t_Ort INNER JOIN t_Komplex ON t_Ort.ortID = t_Komplex.ortID)\n",
    "           INNER JOIN t_Obj ON t_Komplex.komplexID = t_Obj.komplexID\n",
    "       WHERE (((t_Ort.ort_kurz) = 'MLB')\n",
    "           AND ((t_Komplex.bef_nr) = '85/1-3-2')\n",
    "           AND ((t_Obj.Art) = \"K\"))\"\"\".replace('\\n',' ')\n",
    "\n",
    "df = pd.read_sql(sql, con)\n",
    "df['Tiefe'] = df['Tiefe'].convert_objects(convert_numeric=True)\n",
    "# Leerstellen in 'Typ' ersetzen\n",
    "df['Typ'] = df['Typ'].replace('','(?)')\n",
    "df['Tiefe'] = df['Tiefe'].replace('', np.nan) \n",
    "df = df.dropna(subset=['Tiefe'])\n",
    "display(df.head())"
   ]
  },
  {
   "cell_type": "code",
   "execution_count": 7,
   "metadata": {
    "collapsed": false
   },
   "outputs": [
    {
     "data": {
      "text/plain": [
       "2722"
      ]
     },
     "execution_count": 7,
     "metadata": {},
     "output_type": "execute_result"
    }
   ],
   "source": [
    "np.sum(df['Gewicht'])"
   ]
  },
  {
   "cell_type": "code",
   "execution_count": 8,
   "metadata": {
    "collapsed": false
   },
   "outputs": [
    {
     "data": {
      "text/html": [
       "<div>\n",
       "<table border=\"1\" class=\"dataframe\">\n",
       "  <thead>\n",
       "    <tr style=\"text-align: right;\">\n",
       "      <th>Typ</th>\n",
       "      <th>(?)</th>\n",
       "      <th>BatMLB</th>\n",
       "      <th>BatMLB (?)</th>\n",
       "      <th>NGB (?)</th>\n",
       "    </tr>\n",
       "    <tr>\n",
       "      <th>Tiefe</th>\n",
       "      <th></th>\n",
       "      <th></th>\n",
       "      <th></th>\n",
       "      <th></th>\n",
       "    </tr>\n",
       "  </thead>\n",
       "  <tbody>\n",
       "    <tr>\n",
       "      <th>0,5</th>\n",
       "      <td>76</td>\n",
       "      <td>189</td>\n",
       "      <td>100</td>\n",
       "      <td>0</td>\n",
       "    </tr>\n",
       "    <tr>\n",
       "      <th>0,65</th>\n",
       "      <td>43</td>\n",
       "      <td>299</td>\n",
       "      <td>26</td>\n",
       "      <td>0</td>\n",
       "    </tr>\n",
       "    <tr>\n",
       "      <th>0,8</th>\n",
       "      <td>99</td>\n",
       "      <td>866</td>\n",
       "      <td>31</td>\n",
       "      <td>0</td>\n",
       "    </tr>\n",
       "    <tr>\n",
       "      <th>1,05</th>\n",
       "      <td>87</td>\n",
       "      <td>246</td>\n",
       "      <td>0</td>\n",
       "      <td>0</td>\n",
       "    </tr>\n",
       "    <tr>\n",
       "      <th>1,17</th>\n",
       "      <td>69</td>\n",
       "      <td>441</td>\n",
       "      <td>31</td>\n",
       "      <td>34</td>\n",
       "    </tr>\n",
       "  </tbody>\n",
       "</table>\n",
       "</div>"
      ],
      "text/plain": [
       "Typ    (?)  BatMLB  BatMLB (?)  NGB (?)\n",
       "Tiefe                                  \n",
       "0,5     76     189         100        0\n",
       "0,65    43     299          26        0\n",
       "0,8     99     866          31        0\n",
       "1,05    87     246           0        0\n",
       "1,17    69     441          31       34"
      ]
     },
     "execution_count": 8,
     "metadata": {},
     "output_type": "execute_result"
    }
   ],
   "source": [
    "df_pivot = df.pivot_table(values = 'Gewicht', index = 'Tiefe', columns = 'Typ', aggfunc = sum, fill_value = 0)\n",
    "df_pivot"
   ]
  },
  {
   "cell_type": "markdown",
   "metadata": {},
   "source": [
    "> ToDo: evtl. Chronologieschema zur Abfolge der Stilgruppen in die DB ablegen"
   ]
  },
  {
   "cell_type": "code",
   "execution_count": 16,
   "metadata": {
    "collapsed": false
   },
   "outputs": [
    {
     "data": {
      "image/png": "[encoded data removed]",
      "text/plain": [
       "<matplotlib.figure.Figure at 0x93f8438>"
      ]
     },
     "metadata": {},
     "output_type": "display_data"
    }
   ],
   "source": [
    "ax = df_pivot.plot(kind = 'barh', stacked=True, cmap = 'Paired')\n",
    "plt.xlabel('Gewicht [g]')\n",
    "plt.ylabel('Tiefe [cm u. Obfl.]')\n",
    "plt.gca().invert_yaxis()\n",
    "xlim = ax.get_xlim()\n",
    "ylim = ax.get_ylim()\n",
    "plt.xlim(0,1050)\n",
    "plt.gca().set_aspect((abs(xlim[0]) + 1050) / (abs(ylim[0]) + abs(ylim[1])))\n",
    "lgd = plt.legend(bbox_to_anchor=(1.02, 1), loc = 2, borderaxespad = 0.)\n",
    "plt.tight_layout()\n",
    "plt.savefig('../output/figs/9-2_MLB85-132_KeramikStilgruppen.pdf', bbox_extra_artists=(lgd,), bbox_inches='tight')\n",
    "plt.show()"
   ]
  },
  {
   "cell_type": "markdown",
   "metadata": {},
   "source": [
    "> **MLB 85/1-3-2** keramische Stilgruppen"
   ]
  },
  {
   "cell_type": "code",
   "execution_count": 9,
   "metadata": {
    "collapsed": false
   },
   "outputs": [
    {
     "data": {
      "text/plain": [
       "<matplotlib.axes._subplots.AxesSubplot at 0x89b5320>"
      ]
     },
     "execution_count": 9,
     "metadata": {},
     "output_type": "execute_result"
    },
    {
     "data": {
      "image/png": "[encoded data removed]",
      "text/plain": [
       "<matplotlib.figure.Figure at 0x4c052e8>"
      ]
     },
     "metadata": {},
     "output_type": "display_data"
    }
   ],
   "source": [
    "df_pivot.plot(kind = 'line', cmap = 'Paired')"
   ]
  },
  {
   "cell_type": "code",
   "execution_count": 10,
   "metadata": {
    "collapsed": false
   },
   "outputs": [
    {
     "data": {
      "text/plain": [
       "<matplotlib.axes._subplots.AxesSubplot at 0x8a133c8>"
      ]
     },
     "execution_count": 10,
     "metadata": {},
     "output_type": "execute_result"
    },
    {
     "data": {
      "image/png": "[encoded data removed]",
      "text/plain": [
       "<matplotlib.figure.Figure at 0x8a69ac8>"
      ]
     },
     "metadata": {},
     "output_type": "display_data"
    }
   ],
   "source": [
    "df_pivot.plot(kind = 'area', cmap = 'Paired')"
   ]
  },
  {
   "cell_type": "markdown",
   "metadata": {},
   "source": [
    "## Fragmentierung"
   ]
  },
  {
   "cell_type": "markdown",
   "metadata": {},
   "source": [
    "* Einträge ohne Größen-Angabe (die ausgezählten Stücke) sind nicht mit dabei"
   ]
  },
  {
   "cell_type": "code",
   "execution_count": 17,
   "metadata": {
    "collapsed": false
   },
   "outputs": [
    {
     "name": "stderr",
     "output_type": "stream",
     "text": [
      "C:\\Users\\DirkSeidenticker\\Anaconda3\\lib\\site-packages\\IPython\\kernel\\__main__.py:14: FutureWarning: convert_objects is deprecated.  Use the data-type specific converters pd.to_datetime, pd.to_timedelta and pd.to_numeric.\n"
     ]
    },
    {
     "data": {
      "text/html": [
       "<div>\n",
       "<table border=\"1\" class=\"dataframe\">\n",
       "  <thead>\n",
       "    <tr style=\"text-align: right;\">\n",
       "      <th></th>\n",
       "      <th>objID</th>\n",
       "      <th>Gewicht</th>\n",
       "      <th>Gr_Clist</th>\n",
       "      <th>Tiefe</th>\n",
       "    </tr>\n",
       "  </thead>\n",
       "  <tbody>\n",
       "    <tr>\n",
       "      <th>0</th>\n",
       "      <td>276</td>\n",
       "      <td>35</td>\n",
       "      <td>70</td>\n",
       "      <td>0,5</td>\n",
       "    </tr>\n",
       "    <tr>\n",
       "      <th>1</th>\n",
       "      <td>277</td>\n",
       "      <td>26</td>\n",
       "      <td>70</td>\n",
       "      <td>0,65</td>\n",
       "    </tr>\n",
       "    <tr>\n",
       "      <th>2</th>\n",
       "      <td>278</td>\n",
       "      <td>32</td>\n",
       "      <td>70</td>\n",
       "      <td>0,8</td>\n",
       "    </tr>\n",
       "    <tr>\n",
       "      <th>3</th>\n",
       "      <td>279</td>\n",
       "      <td>52</td>\n",
       "      <td>70</td>\n",
       "      <td>1,05</td>\n",
       "    </tr>\n",
       "    <tr>\n",
       "      <th>4</th>\n",
       "      <td>280</td>\n",
       "      <td>9</td>\n",
       "      <td>70</td>\n",
       "      <td>1,17</td>\n",
       "    </tr>\n",
       "  </tbody>\n",
       "</table>\n",
       "</div>"
      ],
      "text/plain": [
       "   objID  Gewicht  Gr_Clist Tiefe\n",
       "0    276       35        70   0,5\n",
       "1    277       26        70  0,65\n",
       "2    278       32        70   0,8\n",
       "3    279       52        70  1,05\n",
       "4    280        9        70  1,17"
      ]
     },
     "metadata": {},
     "output_type": "display_data"
    }
   ],
   "source": [
    "sql = \"\"\"SELECT\n",
    "           t_Obj.objID, \n",
    "           t_Obj.Gewicht,\n",
    "           t_Obj.Gr_Clist, \n",
    "           t_Obj.Tiefe \n",
    "       FROM (t_Ort INNER JOIN t_Komplex ON t_Ort.ortID = t_Komplex.ortID)\n",
    "           INNER JOIN t_Obj ON t_Komplex.komplexID = t_Obj.komplexID\n",
    "       WHERE (((t_Ort.ort_kurz) = 'MLB')\n",
    "           AND ((t_Komplex.bef_nr) = '85/1-3-2')\n",
    "           AND ((t_Obj.Art) = \"K\")\n",
    "           AND ((t_Obj.Gr_Clist) != ''))\"\"\".replace('\\n',' ')\n",
    "\n",
    "df = pd.read_sql(sql, con)\n",
    "df['Tiefe'] = df['Tiefe'].convert_objects(convert_numeric=True)\n",
    "df['Tiefe'] = df['Tiefe'].replace('', np.nan) \n",
    "df = df.dropna(subset=['Tiefe'])\n",
    "display(df.head())"
   ]
  },
  {
   "cell_type": "code",
   "execution_count": 18,
   "metadata": {
    "collapsed": false
   },
   "outputs": [
    {
     "data": {
      "text/html": [
       "<div>\n",
       "<table border=\"1\" class=\"dataframe\">\n",
       "  <thead>\n",
       "    <tr style=\"text-align: right;\">\n",
       "      <th>Gr_Clist</th>\n",
       "      <th>30</th>\n",
       "      <th>70</th>\n",
       "      <th>120</th>\n",
       "    </tr>\n",
       "    <tr>\n",
       "      <th>Tiefe</th>\n",
       "      <th></th>\n",
       "      <th></th>\n",
       "      <th></th>\n",
       "    </tr>\n",
       "  </thead>\n",
       "  <tbody>\n",
       "    <tr>\n",
       "      <th>0,5</th>\n",
       "      <td>1</td>\n",
       "      <td>3</td>\n",
       "      <td>1</td>\n",
       "    </tr>\n",
       "    <tr>\n",
       "      <th>0,65</th>\n",
       "      <td>8</td>\n",
       "      <td>7</td>\n",
       "      <td>2</td>\n",
       "    </tr>\n",
       "    <tr>\n",
       "      <th>0,8</th>\n",
       "      <td>4</td>\n",
       "      <td>16</td>\n",
       "      <td>3</td>\n",
       "    </tr>\n",
       "    <tr>\n",
       "      <th>1,05</th>\n",
       "      <td>1</td>\n",
       "      <td>4</td>\n",
       "      <td>1</td>\n",
       "    </tr>\n",
       "    <tr>\n",
       "      <th>1,17</th>\n",
       "      <td>7</td>\n",
       "      <td>9</td>\n",
       "      <td>1</td>\n",
       "    </tr>\n",
       "  </tbody>\n",
       "</table>\n",
       "</div>"
      ],
      "text/plain": [
       "Gr_Clist  30   70   120\n",
       "Tiefe                  \n",
       "0,5         1    3    1\n",
       "0,65        8    7    2\n",
       "0,8         4   16    3\n",
       "1,05        1    4    1\n",
       "1,17        7    9    1"
      ]
     },
     "execution_count": 18,
     "metadata": {},
     "output_type": "execute_result"
    }
   ],
   "source": [
    "df_pivot = df.pivot_table(values = 'objID', index = 'Tiefe', columns = 'Gr_Clist', aggfunc = len)\n",
    "df_pivot"
   ]
  },
  {
   "cell_type": "code",
   "execution_count": 19,
   "metadata": {
    "collapsed": false
   },
   "outputs": [
    {
     "data": {
      "image/png": "[encoded data removed]",
      "text/plain": [
       "<matplotlib.figure.Figure at 0x947b160>"
      ]
     },
     "metadata": {},
     "output_type": "display_data"
    }
   ],
   "source": [
    "df_pivot.plot(kind = 'line')\n",
    "plt.xlabel('Tiefe [cm u. Obfl.]')\n",
    "plt.ylabel('Anzahl')\n",
    "lgd = plt.legend(bbox_to_anchor=(0.5, -0.2), loc = 9, ncol=3, borderaxespad = 0.)\n",
    "plt.tight_layout()\n",
    "plt.savefig('../output/figs/9-2_MLB85-132_KeramikFragmentierung.pdf', bbox_extra_artists=(lgd,), bbox_inches='tight')\n",
    "plt.show()"
   ]
  },
  {
   "cell_type": "markdown",
   "metadata": {},
   "source": [
    "> **MLB 85/1-3-2** Fragmentierung\n",
    "> \n",
    "> Stimmt nicht mit Excel-Fassung überein"
   ]
  },
  {
   "cell_type": "code",
   "execution_count": 20,
   "metadata": {
    "collapsed": true
   },
   "outputs": [],
   "source": [
    "# Diagramm auf 100% - Prozentwerte für jede Zeile ausrechnen:\n",
    "df_perc = df_pivot.divide(df_pivot.sum(axis=1), axis=0)\n",
    "# df_perc"
   ]
  },
  {
   "cell_type": "code",
   "execution_count": 22,
   "metadata": {
    "collapsed": false
   },
   "outputs": [
    {
     "data": {
      "image/png": "[encoded data removed]",
      "text/plain": [
       "<matplotlib.figure.Figure at 0x9459588>"
      ]
     },
     "metadata": {},
     "output_type": "display_data"
    }
   ],
   "source": [
    "ax = df_perc.plot(kind = 'barh', stacked = True)\n",
    "plt.xlabel('Prozent')\n",
    "xlim = ax.get_xlim()\n",
    "ylim = ax.get_ylim()\n",
    "plt.gca().set_aspect((abs(xlim[0]) + abs(xlim[1])) / (abs(ylim[0]) + abs(ylim[1])))\n",
    "plt.ylabel('Tiefe [cm u. Obfl.]')\n",
    "lgd = plt.legend(bbox_to_anchor=(0.5, -0.2), loc = 9, ncol=3, borderaxespad = 0.)\n",
    "plt.gca().invert_yaxis()\n",
    "plt.tight_layout()\n",
    "plt.savefig('../output/figs/9-2_MLB85-132_KeramikFragmentierung_B.pdf', bbox_extra_artists=(lgd,), bbox_inches='tight')\n",
    "plt.show()"
   ]
  },
  {
   "cell_type": "markdown",
   "metadata": {
    "collapsed": true
   },
   "source": [
    "## Verzierungselemente"
   ]
  },
  {
   "cell_type": "code",
   "execution_count": 16,
   "metadata": {
    "collapsed": true
   },
   "outputs": [],
   "source": [
    "sql = \"\"\"SELECT\n",
    "            t_Ort.ort_kurz,\n",
    "            t_Komplex.bef_nr,\n",
    "            t_Obj.objID,\n",
    "            t_Obj.Komplex,\n",
    "            t_Obj.Individuum,\n",
    "            t_K_Verz.verzName,\n",
    "            [t_K_Pos].[posReihe] || ' ' || [posName] AS pos\n",
    "        FROM t_Komplex INNER JOIN t_Obj ON t_Komplex.komplexID = t_Obj.komplexID\n",
    "            INNER JOIN t_Ort ON t_Ort.ortID = t_Komplex.ortID\n",
    "            INNER JOIN \"t_ObjPosVerz\" ON t_Obj.objID = \"t_ObjPosVerz\".objID\n",
    "            INNER JOIN t_K_Pos ON t_K_Pos.posID = \"t_ObjPosVerz\".posID\n",
    "            INNER JOIN t_K_Verz ON t_K_Verz.verzID = \"t_ObjPosVerz\".verzID\n",
    "        WHERE (((t_Ort.ort_kurz) = 'MLB')\n",
    "            AND ((t_Komplex.bef_nr) = '85/1-3-2')\n",
    "            AND ((t_Obj.Art) = \"K\")\n",
    "            AND ((t_K_Verz.verzName) Like 'V%')\n",
    "            AND ((t_K_Pos.posID)<>1))\"\"\".replace('\\n',' ')\n",
    "\n",
    "df = pd.read_sql(sql, con)\n",
    "# display(df.head())"
   ]
  },
  {
   "cell_type": "code",
   "execution_count": 17,
   "metadata": {
    "collapsed": false
   },
   "outputs": [
    {
     "data": {
      "text/html": [
       "<div>\n",
       "<table border=\"1\" class=\"dataframe\">\n",
       "  <thead>\n",
       "    <tr style=\"text-align: right;\">\n",
       "      <th>verzName</th>\n",
       "      <th>V01a</th>\n",
       "      <th>V01c</th>\n",
       "      <th>V01d</th>\n",
       "      <th>V01e</th>\n",
       "      <th>V01e2</th>\n",
       "      <th>V02a</th>\n",
       "      <th>V02b</th>\n",
       "      <th>V02c</th>\n",
       "      <th>V03a</th>\n",
       "      <th>V03b</th>\n",
       "      <th>...</th>\n",
       "      <th>V06b</th>\n",
       "      <th>V09a1</th>\n",
       "      <th>V09a3</th>\n",
       "      <th>V09b</th>\n",
       "      <th>V09c1</th>\n",
       "      <th>V09c2</th>\n",
       "      <th>V09i</th>\n",
       "      <th>V11a</th>\n",
       "      <th>V11b2</th>\n",
       "      <th>V12a1</th>\n",
       "    </tr>\n",
       "    <tr>\n",
       "      <th>pos</th>\n",
       "      <th></th>\n",
       "      <th></th>\n",
       "      <th></th>\n",
       "      <th></th>\n",
       "      <th></th>\n",
       "      <th></th>\n",
       "      <th></th>\n",
       "      <th></th>\n",
       "      <th></th>\n",
       "      <th></th>\n",
       "      <th></th>\n",
       "      <th></th>\n",
       "      <th></th>\n",
       "      <th></th>\n",
       "      <th></th>\n",
       "      <th></th>\n",
       "      <th></th>\n",
       "      <th></th>\n",
       "      <th></th>\n",
       "      <th></th>\n",
       "      <th></th>\n",
       "    </tr>\n",
       "  </thead>\n",
       "  <tbody>\n",
       "    <tr>\n",
       "      <th>1 Innen</th>\n",
       "      <td>18</td>\n",
       "      <td>0</td>\n",
       "      <td>0</td>\n",
       "      <td>0</td>\n",
       "      <td>0</td>\n",
       "      <td>0</td>\n",
       "      <td>0</td>\n",
       "      <td>0</td>\n",
       "      <td>0</td>\n",
       "      <td>0</td>\n",
       "      <td>...</td>\n",
       "      <td>0</td>\n",
       "      <td>0</td>\n",
       "      <td>0</td>\n",
       "      <td>1</td>\n",
       "      <td>0</td>\n",
       "      <td>0</td>\n",
       "      <td>0</td>\n",
       "      <td>0</td>\n",
       "      <td>0</td>\n",
       "      <td>0</td>\n",
       "    </tr>\n",
       "    <tr>\n",
       "      <th>2 Rand</th>\n",
       "      <td>2</td>\n",
       "      <td>0</td>\n",
       "      <td>0</td>\n",
       "      <td>1</td>\n",
       "      <td>1</td>\n",
       "      <td>0</td>\n",
       "      <td>0</td>\n",
       "      <td>0</td>\n",
       "      <td>0</td>\n",
       "      <td>0</td>\n",
       "      <td>...</td>\n",
       "      <td>0</td>\n",
       "      <td>0</td>\n",
       "      <td>0</td>\n",
       "      <td>0</td>\n",
       "      <td>0</td>\n",
       "      <td>0</td>\n",
       "      <td>0</td>\n",
       "      <td>0</td>\n",
       "      <td>0</td>\n",
       "      <td>0</td>\n",
       "    </tr>\n",
       "    <tr>\n",
       "      <th>3 Oberteil</th>\n",
       "      <td>1</td>\n",
       "      <td>0</td>\n",
       "      <td>0</td>\n",
       "      <td>0</td>\n",
       "      <td>0</td>\n",
       "      <td>0</td>\n",
       "      <td>0</td>\n",
       "      <td>0</td>\n",
       "      <td>0</td>\n",
       "      <td>0</td>\n",
       "      <td>...</td>\n",
       "      <td>0</td>\n",
       "      <td>1</td>\n",
       "      <td>0</td>\n",
       "      <td>0</td>\n",
       "      <td>0</td>\n",
       "      <td>0</td>\n",
       "      <td>0</td>\n",
       "      <td>0</td>\n",
       "      <td>0</td>\n",
       "      <td>0</td>\n",
       "    </tr>\n",
       "    <tr>\n",
       "      <th>4 Hals</th>\n",
       "      <td>17</td>\n",
       "      <td>0</td>\n",
       "      <td>0</td>\n",
       "      <td>0</td>\n",
       "      <td>1</td>\n",
       "      <td>1</td>\n",
       "      <td>0</td>\n",
       "      <td>2</td>\n",
       "      <td>0</td>\n",
       "      <td>2</td>\n",
       "      <td>...</td>\n",
       "      <td>1</td>\n",
       "      <td>2</td>\n",
       "      <td>0</td>\n",
       "      <td>0</td>\n",
       "      <td>1</td>\n",
       "      <td>1</td>\n",
       "      <td>1</td>\n",
       "      <td>1</td>\n",
       "      <td>2</td>\n",
       "      <td>3</td>\n",
       "    </tr>\n",
       "    <tr>\n",
       "      <th>5 Schulter</th>\n",
       "      <td>12</td>\n",
       "      <td>3</td>\n",
       "      <td>0</td>\n",
       "      <td>1</td>\n",
       "      <td>0</td>\n",
       "      <td>0</td>\n",
       "      <td>0</td>\n",
       "      <td>1</td>\n",
       "      <td>0</td>\n",
       "      <td>2</td>\n",
       "      <td>...</td>\n",
       "      <td>0</td>\n",
       "      <td>1</td>\n",
       "      <td>0</td>\n",
       "      <td>1</td>\n",
       "      <td>0</td>\n",
       "      <td>0</td>\n",
       "      <td>1</td>\n",
       "      <td>0</td>\n",
       "      <td>0</td>\n",
       "      <td>0</td>\n",
       "    </tr>\n",
       "    <tr>\n",
       "      <th>6 Bauch</th>\n",
       "      <td>9</td>\n",
       "      <td>1</td>\n",
       "      <td>2</td>\n",
       "      <td>6</td>\n",
       "      <td>1</td>\n",
       "      <td>1</td>\n",
       "      <td>1</td>\n",
       "      <td>4</td>\n",
       "      <td>2</td>\n",
       "      <td>6</td>\n",
       "      <td>...</td>\n",
       "      <td>0</td>\n",
       "      <td>1</td>\n",
       "      <td>1</td>\n",
       "      <td>0</td>\n",
       "      <td>0</td>\n",
       "      <td>0</td>\n",
       "      <td>1</td>\n",
       "      <td>0</td>\n",
       "      <td>0</td>\n",
       "      <td>4</td>\n",
       "    </tr>\n",
       "    <tr>\n",
       "      <th>7 Unterteil</th>\n",
       "      <td>1</td>\n",
       "      <td>0</td>\n",
       "      <td>0</td>\n",
       "      <td>0</td>\n",
       "      <td>0</td>\n",
       "      <td>0</td>\n",
       "      <td>0</td>\n",
       "      <td>0</td>\n",
       "      <td>0</td>\n",
       "      <td>0</td>\n",
       "      <td>...</td>\n",
       "      <td>0</td>\n",
       "      <td>0</td>\n",
       "      <td>0</td>\n",
       "      <td>0</td>\n",
       "      <td>0</td>\n",
       "      <td>0</td>\n",
       "      <td>0</td>\n",
       "      <td>0</td>\n",
       "      <td>0</td>\n",
       "      <td>0</td>\n",
       "    </tr>\n",
       "  </tbody>\n",
       "</table>\n",
       "<p>7 rows × 25 columns</p>\n",
       "</div>"
      ],
      "text/plain": [
       "verzName     V01a  V01c  V01d  V01e  V01e2  V02a  V02b  V02c  V03a  V03b  \\\n",
       "pos                                                                        \n",
       "1 Innen        18     0     0     0      0     0     0     0     0     0   \n",
       "2 Rand          2     0     0     1      1     0     0     0     0     0   \n",
       "3 Oberteil      1     0     0     0      0     0     0     0     0     0   \n",
       "4 Hals         17     0     0     0      1     1     0     2     0     2   \n",
       "5 Schulter     12     3     0     1      0     0     0     1     0     2   \n",
       "6 Bauch         9     1     2     6      1     1     1     4     2     6   \n",
       "7 Unterteil     1     0     0     0      0     0     0     0     0     0   \n",
       "\n",
       "verzName     ...    V06b  V09a1  V09a3  V09b  V09c1  V09c2  V09i  V11a  V11b2  \\\n",
       "pos          ...                                                                \n",
       "1 Innen      ...       0      0      0     1      0      0     0     0      0   \n",
       "2 Rand       ...       0      0      0     0      0      0     0     0      0   \n",
       "3 Oberteil   ...       0      1      0     0      0      0     0     0      0   \n",
       "4 Hals       ...       1      2      0     0      1      1     1     1      2   \n",
       "5 Schulter   ...       0      1      0     1      0      0     1     0      0   \n",
       "6 Bauch      ...       0      1      1     0      0      0     1     0      0   \n",
       "7 Unterteil  ...       0      0      0     0      0      0     0     0      0   \n",
       "\n",
       "verzName     V12a1  \n",
       "pos                 \n",
       "1 Innen          0  \n",
       "2 Rand           0  \n",
       "3 Oberteil       0  \n",
       "4 Hals           3  \n",
       "5 Schulter       0  \n",
       "6 Bauch          4  \n",
       "7 Unterteil      0  \n",
       "\n",
       "[7 rows x 25 columns]"
      ]
     },
     "execution_count": 17,
     "metadata": {},
     "output_type": "execute_result"
    }
   ],
   "source": [
    "df_pivot = df.pivot_table(values = 'objID', index = 'pos', columns = 'verzName', aggfunc = len, fill_value = 0)\n",
    "df_pivot"
   ]
  },
  {
   "cell_type": "code",
   "execution_count": 18,
   "metadata": {
    "collapsed": true
   },
   "outputs": [],
   "source": [
    "df_pivot = df_pivot.sort_index(ascending=True)"
   ]
  },
  {
   "cell_type": "code",
   "execution_count": 19,
   "metadata": {
    "collapsed": true
   },
   "outputs": [],
   "source": [
    "# stellt die Grundeinstellung für Plots von Matplotlib wieder her – sieht bei Nutzung pysurvey besser aus\n",
    "plt.rcdefaults()\n",
    "%matplotlib inline"
   ]
  },
  {
   "cell_type": "code",
   "execution_count": 20,
   "metadata": {
    "collapsed": false
   },
   "outputs": [
    {
     "data": {
      "image/png": "[encoded data removed]",
      "text/plain": [
       "<matplotlib.figure.Figure at 0x9cdc0b8>"
      ]
     },
     "metadata": {},
     "output_type": "display_data"
    }
   ],
   "source": [
    "fig = plt.figure()\n",
    "fig.set_size_inches(10, 7.5)\n",
    "plt.imshow(df_pivot, interpolation='nearest', cmap='Greys', alpha = .5)\n",
    "plt.ylabel('Gefäßposition')\n",
    "plt.xlabel('Verzierungselemente')\n",
    "plt.yticks(range(len(df_pivot.index)), df_pivot.index)\n",
    "plt.xticks(range(len(df_pivot.columns)), df_pivot.columns, rotation='vertical')\n",
    "# plt.colorbar(orientation='horizontal')\n",
    "for (i, j), z in np.ndenumerate(df_pivot):\n",
    "    plt.text(j, i, '{:0.0f}'.format(z), ha='center', va='center')\n",
    "plt.tight_layout()\n",
    "plt.savefig('../output/figs/9-2_MLB85-132_Verzierungselmente.pdf', bbox_inches='tight')\n",
    "plt.show()"
   ]
  },
  {
   "cell_type": "markdown",
   "metadata": {},
   "source": [
    "> **MLB 85/1-3-2** Verzierungselemente"
   ]
  },
  {
   "cell_type": "markdown",
   "metadata": {},
   "source": [
    "n"
   ]
  },
  {
   "cell_type": "code",
   "execution_count": 21,
   "metadata": {
    "collapsed": false
   },
   "outputs": [
    {
     "data": {
      "text/plain": [
       "49"
      ]
     },
     "execution_count": 21,
     "metadata": {},
     "output_type": "execute_result"
    }
   ],
   "source": [
    "df['objID'].nunique()"
   ]
  },
  {
   "cell_type": "code",
   "execution_count": 22,
   "metadata": {
    "collapsed": false
   },
   "outputs": [
    {
     "data": {
      "text/plain": [
       "<matplotlib.image.AxesImage at 0x9cf11d0>"
      ]
     },
     "execution_count": 22,
     "metadata": {},
     "output_type": "execute_result"
    },
    {
     "data": {
      "image/png": "[encoded data removed]",
      "text/plain": [
       "<matplotlib.figure.Figure at 0x9cd04e0>"
      ]
     },
     "metadata": {},
     "output_type": "display_data"
    }
   ],
   "source": [
    "fig = plt.figure()\n",
    "fig.set_size_inches(10, 7.5)\n",
    "plt.imshow(df_pivot, interpolation='nearest', cmap='Reds')"
   ]
  },
  {
   "cell_type": "code",
   "execution_count": null,
   "metadata": {
    "collapsed": true
   },
   "outputs": [],
   "source": []
  }
 ],
 "metadata": {
  "kernelspec": {
   "display_name": "Python 3",
   "language": "python",
   "name": "python3"
  },
  "language_info": {
   "codemirror_mode": {
    "name": "ipython",
    "version": 3
   },
   "file_extension": ".py",
   "mimetype": "text/x-python",
   "name": "python",
   "nbconvert_exporter": "python",
   "pygments_lexer": "ipython3",
   "version": "3.4.4"
  }
 },
 "nbformat": 4,
 "nbformat_minor": 0
}
