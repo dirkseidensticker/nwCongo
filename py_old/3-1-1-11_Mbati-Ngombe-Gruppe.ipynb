{
 "cells": [
  {
   "cell_type": "markdown",
   "metadata": {},
   "source": [
    "# Mbati-Ngombe-Gruppe"
   ]
  },
  {
   "cell_type": "markdown",
   "metadata": {},
   "source": [
    "* [Funde](#Funde)\n",
    "\t* [Scherbentypen](#Scherbentypen)\n",
    "* [Technologische Merkmale (fabrics)](#Technologische-Merkmale-(fabrics))\n",
    "\t* [Brennfarbe](#Brennfarbe)\n",
    "\t* [Oberfläche der Scherben](#Oberfläche-der-Scherben)\n",
    "\t* [Wandungsdicke](#Wandungsdicke)\n",
    "* Formen\n",
    "\t* [Gefäßformen](#Gefäßformen)\n",
    "\t* [Proportionen](#Proportionen)\n",
    "\t* [Bauchform](#Bauchform)\n",
    "\t* [Mündungs- und Randformen](#Mündungs--und-Randformen)\n",
    "\t* [Bodenformen](#Bodenformen)\n",
    "* [Verzierungen](#Verzierungselemente)\n",
    "* [Verbreitung](#Verbreitung)"
   ]
  },
  {
   "cell_type": "code",
   "execution_count": 3,
   "metadata": {
    "collapsed": true
   },
   "outputs": [],
   "source": [
    "%matplotlib inline\n",
    "from IPython.display import display\n",
    "import pandas as pd\n",
    "import numpy as np\n",
    "import matplotlib.pyplot as plt\n",
    "from mpl_toolkits.axes_grid1 import make_axes_locatable\n",
    "import sqlite3\n",
    "\n",
    "import sys, os\n",
    "sys.path.append(\"/Python\")\n",
    "from myfunctions import *\n",
    "from parula import *\n",
    "\n",
    "style = 'MBN'\n",
    "\n",
    "con = sqlite3.connect(\"../data/CongoDB.sqlite\")"
   ]
  },
  {
   "cell_type": "markdown",
   "metadata": {},
   "source": [
    "## Funde"
   ]
  },
  {
   "cell_type": "code",
   "execution_count": 467,
   "metadata": {
    "collapsed": true
   },
   "outputs": [],
   "source": [
    "sql = \"\"\"SELECT\n",
    "           t_Obj.objID,\n",
    "           t_Ort.ort_kurz,\n",
    "           't_Ort'.'ort_name' || ' (Fpl. ' || 't_ort'.'Kat-Nr' || ')' AS Ort,\n",
    "           t_Komplex.bef_nr,\n",
    "           t_Ort.ort_fluss,\n",
    "           t_Obj.GefEinheit AS GE,\n",
    "           t_Obj.Scherbe,\n",
    "           t_Obj.Gewicht,\n",
    "           t_Obj.Anzahl,\n",
    "           t_Obj.Typ\n",
    "       FROM (t_Ort INNER JOIN t_Komplex ON t_Ort.ortID = t_Komplex.ortID)\n",
    "           INNER JOIN t_Obj ON t_Komplex.komplexID = t_Obj.komplexID\n",
    "       WHERE (((t_Ort.ort_lit)='DS')\n",
    "           AND ((t_Obj.Typ) Like '%\"\"\"+style+\"\"\"%')\n",
    "           AND ((t_Obj.Art) = 'K')\n",
    "           AND ((t_Obj.Anzahl) != ''))\"\"\".replace('\\n',' ')\n",
    "# Anzahl != damit fotografierte Gefäße nicht mit dabei ist\n",
    "\n",
    "df = pd.read_sql(sql, con)\n",
    "# display(df.head())"
   ]
  },
  {
   "cell_type": "code",
   "execution_count": 468,
   "metadata": {},
   "outputs": [
    {
     "data": {
      "text/plain": [
       "Typ\n",
       "MBN        23.0\n",
       "MBN (?)     1.0\n",
       "All        24.0\n",
       "Name: objID, dtype: float64"
      ]
     },
     "execution_count": 468,
     "metadata": {},
     "output_type": "execute_result"
    }
   ],
   "source": [
    "df.pivot_table(values = 'objID', index = 'Typ', aggfunc = len, margins = True)"
   ]
  },
  {
   "cell_type": "code",
   "execution_count": 469,
   "metadata": {},
   "outputs": [
    {
     "data": {
      "text/html": [
       "<div>\n",
       "<table border=\"1\" class=\"dataframe\">\n",
       "  <thead>\n",
       "    <tr style=\"text-align: right;\">\n",
       "      <th></th>\n",
       "      <th></th>\n",
       "      <th></th>\n",
       "      <th>Anzahl</th>\n",
       "      <th>Gewicht</th>\n",
       "    </tr>\n",
       "    <tr>\n",
       "      <th>ort_fluss</th>\n",
       "      <th>Ort</th>\n",
       "      <th>bef_nr</th>\n",
       "      <th></th>\n",
       "      <th></th>\n",
       "    </tr>\n",
       "  </thead>\n",
       "  <tbody>\n",
       "    <tr>\n",
       "      <th rowspan=\"3\" valign=\"top\">Lua</th>\n",
       "      <th>Ilawa (Fpl. 232)</th>\n",
       "      <th>85/501</th>\n",
       "      <td>2</td>\n",
       "      <td>943.0</td>\n",
       "    </tr>\n",
       "    <tr>\n",
       "      <th rowspan=\"2\" valign=\"top\">Maluba (Fpl. 230)</th>\n",
       "      <th>85/101</th>\n",
       "      <td>3</td>\n",
       "      <td>158.0</td>\n",
       "    </tr>\n",
       "    <tr>\n",
       "      <th>85/103</th>\n",
       "      <td>2</td>\n",
       "      <td>125.0</td>\n",
       "    </tr>\n",
       "    <tr>\n",
       "      <th rowspan=\"11\" valign=\"top\">Ubangi</th>\n",
       "      <th>Batanga (Fpl. 209)</th>\n",
       "      <th>85/101</th>\n",
       "      <td>1</td>\n",
       "      <td>19.0</td>\n",
       "    </tr>\n",
       "    <tr>\n",
       "      <th rowspan=\"2\" valign=\"top\">Dongo (Fpl. 202)</th>\n",
       "      <th>85/101</th>\n",
       "      <td>2</td>\n",
       "      <td>46.0</td>\n",
       "    </tr>\n",
       "    <tr>\n",
       "      <th>85/102</th>\n",
       "      <td>3</td>\n",
       "      <td>48.0</td>\n",
       "    </tr>\n",
       "    <tr>\n",
       "      <th>Ebeka (Fpl. 197)</th>\n",
       "      <th>85/101</th>\n",
       "      <td>1</td>\n",
       "      <td>20.0</td>\n",
       "    </tr>\n",
       "    <tr>\n",
       "      <th>Imese (Fpl. 201)</th>\n",
       "      <th>85/101</th>\n",
       "      <td>1</td>\n",
       "      <td>43.0</td>\n",
       "    </tr>\n",
       "    <tr>\n",
       "      <th>Kpetene (Fpl. 220)</th>\n",
       "      <th>85/101</th>\n",
       "      <td>1</td>\n",
       "      <td>36.0</td>\n",
       "    </tr>\n",
       "    <tr>\n",
       "      <th>Libenge (Fpl. 208)</th>\n",
       "      <th>85/101</th>\n",
       "      <td>2</td>\n",
       "      <td>31.0</td>\n",
       "    </tr>\n",
       "    <tr>\n",
       "      <th>Maoko (Fpl. 207)</th>\n",
       "      <th>85/101</th>\n",
       "      <td>1</td>\n",
       "      <td>24.0</td>\n",
       "    </tr>\n",
       "    <tr>\n",
       "      <th rowspan=\"3\" valign=\"top\">Mbati-Ngombe (Fpl. 204)</th>\n",
       "      <th>85/101</th>\n",
       "      <td>1</td>\n",
       "      <td>39.3</td>\n",
       "    </tr>\n",
       "    <tr>\n",
       "      <th>85/501</th>\n",
       "      <td>3</td>\n",
       "      <td>4158.0</td>\n",
       "    </tr>\n",
       "    <tr>\n",
       "      <th>85/502</th>\n",
       "      <td>1</td>\n",
       "      <td>667.0</td>\n",
       "    </tr>\n",
       "  </tbody>\n",
       "</table>\n",
       "</div>"
      ],
      "text/plain": [
       "                                          Anzahl  Gewicht\n",
       "ort_fluss Ort                     bef_nr                 \n",
       "Lua       Ilawa (Fpl. 232)        85/501       2    943.0\n",
       "          Maluba (Fpl. 230)       85/101       3    158.0\n",
       "                                  85/103       2    125.0\n",
       "Ubangi    Batanga (Fpl. 209)      85/101       1     19.0\n",
       "          Dongo (Fpl. 202)        85/101       2     46.0\n",
       "                                  85/102       3     48.0\n",
       "          Ebeka (Fpl. 197)        85/101       1     20.0\n",
       "          Imese (Fpl. 201)        85/101       1     43.0\n",
       "          Kpetene (Fpl. 220)      85/101       1     36.0\n",
       "          Libenge (Fpl. 208)      85/101       2     31.0\n",
       "          Maoko (Fpl. 207)        85/101       1     24.0\n",
       "          Mbati-Ngombe (Fpl. 204) 85/101       1     39.3\n",
       "                                  85/501       3   4158.0\n",
       "                                  85/502       1    667.0"
      ]
     },
     "execution_count": 469,
     "metadata": {},
     "output_type": "execute_result"
    }
   ],
   "source": [
    "df_pivot = df.pivot_table(values = ['Anzahl', 'Gewicht'], index = ['ort_fluss', 'Ort', 'bef_nr'], aggfunc = np.sum)\n",
    "df_pivot = pd.DataFrame(df_pivot)\n",
    "df_pivot"
   ]
  },
  {
   "cell_type": "markdown",
   "metadata": {},
   "source": [
    "Anzahl Fundorte:"
   ]
  },
  {
   "cell_type": "code",
   "execution_count": 415,
   "metadata": {},
   "outputs": [
    {
     "data": {
      "text/plain": [
       "14"
      ]
     },
     "execution_count": 415,
     "metadata": {},
     "output_type": "execute_result"
    }
   ],
   "source": [
    "len(df_pivot.index)"
   ]
  },
  {
   "cell_type": "markdown",
   "metadata": {},
   "source": [
    "Anzahl Stücke:"
   ]
  },
  {
   "cell_type": "code",
   "execution_count": 416,
   "metadata": {},
   "outputs": [
    {
     "data": {
      "text/plain": [
       "24"
      ]
     },
     "execution_count": 416,
     "metadata": {},
     "output_type": "execute_result"
    }
   ],
   "source": [
    "np.sum(df_pivot['Anzahl'])"
   ]
  },
  {
   "cell_type": "markdown",
   "metadata": {},
   "source": [
    "Gewicht insgesamt in kg:"
   ]
  },
  {
   "cell_type": "code",
   "execution_count": 417,
   "metadata": {},
   "outputs": [
    {
     "data": {
      "text/plain": [
       "6.3573"
      ]
     },
     "execution_count": 417,
     "metadata": {},
     "output_type": "execute_result"
    }
   ],
   "source": [
    "np.sum(df_pivot['Gewicht']) / 1000"
   ]
  },
  {
   "cell_type": "code",
   "execution_count": 355,
   "metadata": {},
   "outputs": [
    {
     "data": {
      "text/html": [
       "<div>\n",
       "<table border=\"1\" class=\"dataframe\">\n",
       "  <thead>\n",
       "    <tr style=\"text-align: right;\">\n",
       "      <th></th>\n",
       "      <th>objID</th>\n",
       "      <th>ort_kurz</th>\n",
       "      <th>Ort</th>\n",
       "      <th>bef_nr</th>\n",
       "      <th>ort_fluss</th>\n",
       "      <th>Scherbe</th>\n",
       "      <th>Foto</th>\n",
       "      <th>Form_Gef</th>\n",
       "      <th>Typ</th>\n",
       "    </tr>\n",
       "  </thead>\n",
       "  <tbody>\n",
       "  </tbody>\n",
       "</table>\n",
       "</div>"
      ],
      "text/plain": [
       "Empty DataFrame\n",
       "Columns: [objID, ort_kurz, Ort, bef_nr, ort_fluss, Scherbe, Foto, Form_Gef, Typ]\n",
       "Index: []"
      ]
     },
     "execution_count": 355,
     "metadata": {},
     "output_type": "execute_result"
    }
   ],
   "source": [
    "sql = \"\"\"SELECT\n",
    "           t_Obj.objID,\n",
    "           t_Ort.ort_kurz,\n",
    "           't_Ort'.'ort_name' || ' (Fpl. ' || 't_ort'.'Kat-Nr' || ')' AS Ort,\n",
    "           t_Komplex.bef_nr,\n",
    "           t_Ort.ort_fluss,\n",
    "           t_Obj.Scherbe,\n",
    "           t_Obj.Foto,\n",
    "           t_Obj.Form_Gef,\n",
    "           t_Obj.Typ\n",
    "       FROM (t_Ort INNER JOIN t_Komplex ON t_Ort.ortID = t_Komplex.ortID)\n",
    "           INNER JOIN t_Obj ON t_Komplex.komplexID = t_Obj.komplexID\n",
    "       WHERE (((t_Ort.ort_lit)='DS')\n",
    "           AND ((t_Obj.Typ) Like '%\"\"\"+style+\"\"\"%')\n",
    "           AND ((t_Obj.Art) = 'K')\n",
    "           AND ((t_Obj.Anzahl) = ''))\"\"\".replace('\\n',' ')\n",
    "\n",
    "df1 = pd.read_sql(sql, con)\n",
    "df1"
   ]
  },
  {
   "cell_type": "markdown",
   "metadata": {},
   "source": [
    "### Scherbentypen"
   ]
  },
  {
   "cell_type": "code",
   "execution_count": 356,
   "metadata": {},
   "outputs": [
    {
     "data": {
      "text/html": [
       "<div>\n",
       "<table border=\"1\" class=\"dataframe\">\n",
       "  <thead>\n",
       "    <tr style=\"text-align: right;\">\n",
       "      <th></th>\n",
       "      <th>Anzahl</th>\n",
       "      <th>Prozent</th>\n",
       "    </tr>\n",
       "  </thead>\n",
       "  <tbody>\n",
       "    <tr>\n",
       "      <th>G</th>\n",
       "      <td>6.0</td>\n",
       "      <td>25.000000</td>\n",
       "    </tr>\n",
       "    <tr>\n",
       "      <th>R</th>\n",
       "      <td>14.0</td>\n",
       "      <td>58.333333</td>\n",
       "    </tr>\n",
       "    <tr>\n",
       "      <th>W</th>\n",
       "      <td>4.0</td>\n",
       "      <td>16.666667</td>\n",
       "    </tr>\n",
       "    <tr>\n",
       "      <th>B</th>\n",
       "      <td>0.0</td>\n",
       "      <td>0.000000</td>\n",
       "    </tr>\n",
       "  </tbody>\n",
       "</table>\n",
       "</div>"
      ],
      "text/plain": [
       "   Anzahl    Prozent\n",
       "G     6.0  25.000000\n",
       "R    14.0  58.333333\n",
       "W     4.0  16.666667\n",
       "B     0.0   0.000000"
      ]
     },
     "execution_count": 356,
     "metadata": {},
     "output_type": "execute_result"
    }
   ],
   "source": [
    "df_pivot = df.pivot_table(values = 'Anzahl', index = 'Scherbe', aggfunc = np.sum)\n",
    "df_pivot['B'] = 0.\n",
    "custom_dict = {'G':0,'R':1,'W':3,'B':4}\n",
    "df_pivot = pd.DataFrame(df_pivot, index=sorted(custom_dict, key=custom_dict.get))\n",
    "df_pivot['Prozent'] = df_pivot['Anzahl']/df_pivot['Anzahl'].sum()*100\n",
    "df_pivot"
   ]
  },
  {
   "cell_type": "code",
   "execution_count": 357,
   "metadata": {},
   "outputs": [
    {
     "data": {
      "image/png": "[encoded data removed]",
      "text/plain": [
       "<matplotlib.figure.Figure at 0x1f6e4c2d1d0>"
      ]
     },
     "metadata": {},
     "output_type": "display_data"
    }
   ],
   "source": [
    "df_pivot.plot(y = 'Prozent', kind = 'bar', legend = None, color = 'grey')\n",
    "plt.xticks(rotation=0)\n",
    "plt.xlabel('Scherbentypen')\n",
    "plt.ylabel('Anteil [%]')\n",
    "plt.show()"
   ]
  },
  {
   "cell_type": "markdown",
   "metadata": {},
   "source": [
    "## Technologische Merkmale (*fabrics*)"
   ]
  },
  {
   "cell_type": "code",
   "execution_count": 358,
   "metadata": {
    "collapsed": true
   },
   "outputs": [],
   "source": [
    "sql = \"\"\"SELECT\n",
    "           t_Obj.objID,\n",
    "           't_Ort'.'ort_name' || ' (Fpl. ' || 't_ort'.'Kat-Nr' || ')' AS Ort,\n",
    "           t_Obj.Anzahl,\n",
    "           t_Obj.MagerungGröße,\n",
    "           t_Obj.MagerungArt,\n",
    "           t_Obj.MagerungDichte,\n",
    "           t_Obj.Fabric\n",
    "       FROM (t_Ort INNER JOIN t_Komplex ON t_Ort.ortID = t_Komplex.ortID)\n",
    "           INNER JOIN t_Obj ON t_Komplex.komplexID = t_Obj.komplexID\n",
    "       WHERE (((t_Obj.Fabric) != '')\n",
    "           AND ((t_Obj.Typ) Like '%\"\"\"+style+\"\"\"%'))\"\"\".replace('\\n',' ')\n",
    "\n",
    "df = pd.read_sql(sql, con)"
   ]
  },
  {
   "cell_type": "code",
   "execution_count": 359,
   "metadata": {},
   "outputs": [
    {
     "name": "stderr",
     "output_type": "stream",
     "text": [
      "C:\\Users\\Dirk\\Anaconda3\\lib\\site-packages\\ipykernel\\__main__.py:3: FutureWarning: by argument to sort_index is deprecated, pls use .sort_values(by=...)\n",
      "  app.launch_new_instance()\n"
     ]
    }
   ],
   "source": [
    "df_pivot = df.pivot_table(values = 'Anzahl', index = 'Fabric', aggfunc = sum)\n",
    "df_pivot = pd.DataFrame(df_pivot)\n",
    "df_pivot = df_pivot.sort_index(by=['Anzahl'], ascending=[False])"
   ]
  },
  {
   "cell_type": "code",
   "execution_count": 360,
   "metadata": {},
   "outputs": [
    {
     "data": {
      "image/png": "[encoded data removed]",
      "text/plain": [
       "<matplotlib.figure.Figure at 0x1f6e3b69198>"
      ]
     },
     "metadata": {},
     "output_type": "display_data"
    }
   ],
   "source": [
    "df_pivot.plot(kind = 'barh', legend = False, color = 'Grey')\n",
    "plt.show()"
   ]
  },
  {
   "cell_type": "code",
   "execution_count": 361,
   "metadata": {},
   "outputs": [
    {
     "data": {
      "text/html": [
       "<div>\n",
       "<table border=\"1\" class=\"dataframe\">\n",
       "  <thead>\n",
       "    <tr style=\"text-align: right;\">\n",
       "      <th></th>\n",
       "      <th>Anzahl</th>\n",
       "      <th>Prozent</th>\n",
       "    </tr>\n",
       "    <tr>\n",
       "      <th>Fabric</th>\n",
       "      <th></th>\n",
       "      <th></th>\n",
       "    </tr>\n",
       "  </thead>\n",
       "  <tbody>\n",
       "    <tr>\n",
       "      <th>3c</th>\n",
       "      <td>4</td>\n",
       "      <td>17.391304</td>\n",
       "    </tr>\n",
       "    <tr>\n",
       "      <th>4c</th>\n",
       "      <td>4</td>\n",
       "      <td>17.391304</td>\n",
       "    </tr>\n",
       "    <tr>\n",
       "      <th>5a</th>\n",
       "      <td>4</td>\n",
       "      <td>17.391304</td>\n",
       "    </tr>\n",
       "    <tr>\n",
       "      <th>4a</th>\n",
       "      <td>3</td>\n",
       "      <td>13.043478</td>\n",
       "    </tr>\n",
       "    <tr>\n",
       "      <th>3a</th>\n",
       "      <td>1</td>\n",
       "      <td>4.347826</td>\n",
       "    </tr>\n",
       "  </tbody>\n",
       "</table>\n",
       "</div>"
      ],
      "text/plain": [
       "        Anzahl    Prozent\n",
       "Fabric                   \n",
       "3c           4  17.391304\n",
       "4c           4  17.391304\n",
       "5a           4  17.391304\n",
       "4a           3  13.043478\n",
       "3a           1   4.347826"
      ]
     },
     "metadata": {},
     "output_type": "display_data"
    }
   ],
   "source": [
    "df_pivot['Prozent'] = df_pivot['Anzahl']/df_pivot['Anzahl'].sum()*100\n",
    "display(df_pivot.head())"
   ]
  },
  {
   "cell_type": "code",
   "execution_count": 362,
   "metadata": {},
   "outputs": [
    {
     "data": {
      "text/html": [
       "<div>\n",
       "<table border=\"1\" class=\"dataframe\">\n",
       "  <thead>\n",
       "    <tr style=\"text-align: right;\">\n",
       "      <th></th>\n",
       "      <th>Anzahl</th>\n",
       "      <th>Prozent</th>\n",
       "    </tr>\n",
       "  </thead>\n",
       "  <tbody>\n",
       "    <tr>\n",
       "      <th>sehr wenig</th>\n",
       "      <td>NaN</td>\n",
       "      <td>NaN</td>\n",
       "    </tr>\n",
       "    <tr>\n",
       "      <th>wenig</th>\n",
       "      <td>NaN</td>\n",
       "      <td>NaN</td>\n",
       "    </tr>\n",
       "    <tr>\n",
       "      <th>mittel</th>\n",
       "      <td>4.0</td>\n",
       "      <td>17.391304</td>\n",
       "    </tr>\n",
       "    <tr>\n",
       "      <th>viel</th>\n",
       "      <td>14.0</td>\n",
       "      <td>60.869565</td>\n",
       "    </tr>\n",
       "    <tr>\n",
       "      <th>sehr viel</th>\n",
       "      <td>5.0</td>\n",
       "      <td>21.739130</td>\n",
       "    </tr>\n",
       "  </tbody>\n",
       "</table>\n",
       "</div>"
      ],
      "text/plain": [
       "            Anzahl    Prozent\n",
       "sehr wenig     NaN        NaN\n",
       "wenig          NaN        NaN\n",
       "mittel         4.0  17.391304\n",
       "viel          14.0  60.869565\n",
       "sehr viel      5.0  21.739130"
      ]
     },
     "execution_count": 362,
     "metadata": {},
     "output_type": "execute_result"
    }
   ],
   "source": [
    "df = df.replace('<1','sehr wenig', regex=True)\n",
    "\n",
    "a = df.loc[df['MagerungDichte'] != ''] # nur Einträgen, bei denen diese Felder ausgefüllt sind\n",
    "df_pivot = a.pivot_table(values = 'Anzahl', index = 'MagerungDichte', aggfunc = sum)\n",
    "custom_dict = {'sehr wenig':0,'wenig':1,'mittel':3,'viel':4, 'sehr viel':5}\n",
    "df_pivot = pd.DataFrame(df_pivot, index=sorted(custom_dict, key=custom_dict.get))\n",
    "df_pivot['Prozent'] = df_pivot['Anzahl']/df_pivot['Anzahl'].sum()*100\n",
    "df_pivot"
   ]
  },
  {
   "cell_type": "code",
   "execution_count": 363,
   "metadata": {},
   "outputs": [
    {
     "data": {
      "image/png": "[encoded data removed]",
      "text/plain": [
       "<matplotlib.figure.Figure at 0x1f6e54f7080>"
      ]
     },
     "metadata": {},
     "output_type": "display_data"
    }
   ],
   "source": [
    "df_pivot.plot(y = 'Prozent', kind = 'bar', legend = None, color = 'grey')\n",
    "plt.xticks(rotation=0)\n",
    "plt.xlabel('Anteil nicht-plastische Partikel')\n",
    "plt.ylabel('Anteil [%]')\n",
    "plt.show()"
   ]
  },
  {
   "cell_type": "code",
   "execution_count": 364,
   "metadata": {
    "scrolled": true
   },
   "outputs": [
    {
     "data": {
      "text/html": [
       "<div>\n",
       "<table border=\"1\" class=\"dataframe\">\n",
       "  <thead>\n",
       "    <tr style=\"text-align: right;\">\n",
       "      <th></th>\n",
       "      <th>Anzahl</th>\n",
       "      <th>Prozent</th>\n",
       "    </tr>\n",
       "  </thead>\n",
       "  <tbody>\n",
       "    <tr>\n",
       "      <th>VF</th>\n",
       "      <td>NaN</td>\n",
       "      <td>NaN</td>\n",
       "    </tr>\n",
       "    <tr>\n",
       "      <th>F</th>\n",
       "      <td>NaN</td>\n",
       "      <td>NaN</td>\n",
       "    </tr>\n",
       "    <tr>\n",
       "      <th>M</th>\n",
       "      <td>4.0</td>\n",
       "      <td>17.391304</td>\n",
       "    </tr>\n",
       "    <tr>\n",
       "      <th>C</th>\n",
       "      <td>15.0</td>\n",
       "      <td>65.217391</td>\n",
       "    </tr>\n",
       "    <tr>\n",
       "      <th>VC</th>\n",
       "      <td>4.0</td>\n",
       "      <td>17.391304</td>\n",
       "    </tr>\n",
       "  </tbody>\n",
       "</table>\n",
       "</div>"
      ],
      "text/plain": [
       "    Anzahl    Prozent\n",
       "VF     NaN        NaN\n",
       "F      NaN        NaN\n",
       "M      4.0  17.391304\n",
       "C     15.0  65.217391\n",
       "VC     4.0  17.391304"
      ]
     },
     "execution_count": 364,
     "metadata": {},
     "output_type": "execute_result"
    }
   ],
   "source": [
    "df_pivot = a.pivot_table(values = 'Anzahl', index = 'MagerungGröße', aggfunc = sum)\n",
    "custom_dict = {'VF':0,'F':1,'M':3,'C':4, 'VC':5}\n",
    "df_pivot = pd.DataFrame(df_pivot, index=sorted(custom_dict, key=custom_dict.get))\n",
    "df_pivot['Prozent'] = df_pivot['Anzahl']/df_pivot['Anzahl'].sum()*100\n",
    "df_pivot"
   ]
  },
  {
   "cell_type": "code",
   "execution_count": 365,
   "metadata": {},
   "outputs": [
    {
     "data": {
      "image/png": "[encoded data removed]",
      "text/plain": [
       "<matplotlib.figure.Figure at 0x1f6e21d0d68>"
      ]
     },
     "metadata": {},
     "output_type": "display_data"
    }
   ],
   "source": [
    "df_pivot.plot(y = 'Prozent', kind = 'bar', legend = None, color = 'grey')\n",
    "plt.xticks(rotation=0)\n",
    "plt.xlabel('Korngröße (Wentworth-Scale)')\n",
    "plt.ylabel('Anteil [%]')\n",
    "plt.show()"
   ]
  },
  {
   "cell_type": "code",
   "execution_count": 366,
   "metadata": {},
   "outputs": [
    {
     "name": "stderr",
     "output_type": "stream",
     "text": [
      "C:\\Users\\Dirk\\Anaconda3\\lib\\site-packages\\ipykernel\\__main__.py:3: FutureWarning: by argument to sort_index is deprecated, pls use .sort_values(by=...)\n",
      "  app.launch_new_instance()\n"
     ]
    },
    {
     "data": {
      "text/html": [
       "<div>\n",
       "<table border=\"1\" class=\"dataframe\">\n",
       "  <thead>\n",
       "    <tr style=\"text-align: right;\">\n",
       "      <th></th>\n",
       "      <th>Anzahl</th>\n",
       "      <th>Prozent</th>\n",
       "    </tr>\n",
       "    <tr>\n",
       "      <th>MagerungArt</th>\n",
       "      <th></th>\n",
       "      <th></th>\n",
       "    </tr>\n",
       "  </thead>\n",
       "  <tbody>\n",
       "    <tr>\n",
       "      <th>S</th>\n",
       "      <td>17</td>\n",
       "      <td>73.913043</td>\n",
       "    </tr>\n",
       "    <tr>\n",
       "      <th>S/rote Partikel</th>\n",
       "      <td>4</td>\n",
       "      <td>17.391304</td>\n",
       "    </tr>\n",
       "    <tr>\n",
       "      <th>S/Gl</th>\n",
       "      <td>1</td>\n",
       "      <td>4.347826</td>\n",
       "    </tr>\n",
       "    <tr>\n",
       "      <th>S/Schamott/Laterit</th>\n",
       "      <td>1</td>\n",
       "      <td>4.347826</td>\n",
       "    </tr>\n",
       "  </tbody>\n",
       "</table>\n",
       "</div>"
      ],
      "text/plain": [
       "                    Anzahl    Prozent\n",
       "MagerungArt                          \n",
       "S                       17  73.913043\n",
       "S/rote Partikel          4  17.391304\n",
       "S/Gl                     1   4.347826\n",
       "S/Schamott/Laterit       1   4.347826"
      ]
     },
     "execution_count": 366,
     "metadata": {},
     "output_type": "execute_result"
    }
   ],
   "source": [
    "df_pivot = a.pivot_table(values = 'Anzahl', index = 'MagerungArt', aggfunc = sum)\n",
    "df_pivot = pd.DataFrame(df_pivot)\n",
    "df_pivot = df_pivot.sort_index(by=['Anzahl'], ascending=[False])\n",
    "df_pivot['Prozent'] = df_pivot['Anzahl']/df_pivot['Anzahl'].sum()*100\n",
    "df_pivot"
   ]
  },
  {
   "cell_type": "markdown",
   "metadata": {},
   "source": [
    "### Brennfarbe"
   ]
  },
  {
   "cell_type": "code",
   "execution_count": 367,
   "metadata": {},
   "outputs": [
    {
     "data": {
      "text/html": [
       "<div>\n",
       "<table border=\"1\" class=\"dataframe\">\n",
       "  <thead>\n",
       "    <tr style=\"text-align: right;\">\n",
       "      <th></th>\n",
       "      <th>0</th>\n",
       "      <th>Prozent</th>\n",
       "    </tr>\n",
       "  </thead>\n",
       "  <tbody>\n",
       "    <tr>\n",
       "      <th>Rot</th>\n",
       "      <td>9</td>\n",
       "      <td>39.130435</td>\n",
       "    </tr>\n",
       "    <tr>\n",
       "      <th>Sonstig</th>\n",
       "      <td>11</td>\n",
       "      <td>47.826087</td>\n",
       "    </tr>\n",
       "    <tr>\n",
       "      <th>Weiß</th>\n",
       "      <td>3</td>\n",
       "      <td>13.043478</td>\n",
       "    </tr>\n",
       "  </tbody>\n",
       "</table>\n",
       "</div>"
      ],
      "text/plain": [
       "          0    Prozent\n",
       "Rot       9  39.130435\n",
       "Sonstig  11  47.826087\n",
       "Weiß      3  13.043478"
      ]
     },
     "execution_count": 367,
     "metadata": {},
     "output_type": "execute_result"
    }
   ],
   "source": [
    "sql = \"\"\"SELECT\n",
    "           t_Obj.objID,\n",
    "           [t_Obj].[Außenfarbe] || '/' || [t_Obj].[Prof_aussen] || '/' || [t_Obj].[Prof_Kern] || '/' || [t_Obj].[Prof_innen] || '/' || [t_Obj].[Innenfarbe] AS Farbe\n",
    "       FROM (t_Ort LEFT JOIN t_Komplex ON t_Ort.ortID = t_Komplex.ortID)\n",
    "           LEFT JOIN t_Obj ON t_Komplex.komplexID = t_Obj.komplexID\n",
    "       WHERE (((t_Obj.Fabric) != '')\n",
    "           AND ((t_Obj.Typ) Like '%\"\"\"+style+\"\"\"%'))\"\"\".replace('\\n',' ')\n",
    "df = pd.read_sql(sql, con)\n",
    "\n",
    "a = pd.Series({'Weiß':len(df[df['Farbe'].str.contains(\"W\")].index),\n",
    "               'Rot':len(df[df['Farbe'].str.contains(\"R\")].index),\n",
    "               'Sonstig':len(df[~df['Farbe'].str.contains(\"W|R\")].index)})\n",
    "a = pd.DataFrame(a)\n",
    "a['Prozent'] = a[0]/a[0].sum()*100\n",
    "a"
   ]
  },
  {
   "cell_type": "code",
   "execution_count": 368,
   "metadata": {},
   "outputs": [
    {
     "data": {
      "image/png": "[encoded data removed]",
      "text/plain": [
       "<matplotlib.figure.Figure at 0x1f6e47dfa58>"
      ]
     },
     "metadata": {},
     "output_type": "display_data"
    }
   ],
   "source": [
    "a.plot(y = 'Prozent', kind = 'bar', legend = None, color = 'grey')\n",
    "plt.xticks(rotation=0)\n",
    "plt.ylabel('Anteil [%]')\n",
    "plt.show()"
   ]
  },
  {
   "cell_type": "code",
   "execution_count": 369,
   "metadata": {},
   "outputs": [
    {
     "data": {
      "text/plain": [
       "g        21\n",
       "bg       16\n",
       "s        14\n",
       "br        3\n",
       "g s       2\n",
       "bg s      2\n",
       "s s       2\n",
       "f         1\n",
       "bg br     1\n",
       "br bg     1\n",
       "dtype: int64"
      ]
     },
     "execution_count": 369,
     "metadata": {},
     "output_type": "execute_result"
    }
   ],
   "source": [
    "# Sontiges:\n",
    "a = df[~df['Farbe'].str.contains(\"W|R\")]\n",
    "pd.Series(' '.join(a['Farbe']).lower().split('/')).value_counts()[:10]"
   ]
  },
  {
   "cell_type": "markdown",
   "metadata": {},
   "source": [
    "### Oberfläche der Scherben"
   ]
  },
  {
   "cell_type": "code",
   "execution_count": 370,
   "metadata": {},
   "outputs": [
    {
     "name": "stderr",
     "output_type": "stream",
     "text": [
      "C:\\Users\\Dirk\\Anaconda3\\lib\\site-packages\\ipykernel\\__main__.py:13: FutureWarning: convert_objects is deprecated.  Use the data-type specific converters pd.to_datetime, pd.to_timedelta and pd.to_numeric.\n"
     ]
    },
    {
     "data": {
      "text/html": [
       "<div>\n",
       "<table border=\"1\" class=\"dataframe\">\n",
       "  <thead>\n",
       "    <tr style=\"text-align: right;\">\n",
       "      <th></th>\n",
       "      <th>Anzahl</th>\n",
       "      <th>Prozent</th>\n",
       "    </tr>\n",
       "    <tr>\n",
       "      <th>Obfl</th>\n",
       "      <th></th>\n",
       "      <th></th>\n",
       "    </tr>\n",
       "  </thead>\n",
       "  <tbody>\n",
       "    <tr>\n",
       "      <th>glatt</th>\n",
       "      <td>16</td>\n",
       "      <td>69.565217</td>\n",
       "    </tr>\n",
       "    <tr>\n",
       "      <th>leicht rau</th>\n",
       "      <td>6</td>\n",
       "      <td>26.086957</td>\n",
       "    </tr>\n",
       "    <tr>\n",
       "      <th>leicht rau/sandig</th>\n",
       "      <td>1</td>\n",
       "      <td>4.347826</td>\n",
       "    </tr>\n",
       "  </tbody>\n",
       "</table>\n",
       "</div>"
      ],
      "text/plain": [
       "                   Anzahl    Prozent\n",
       "Obfl                                \n",
       "glatt                  16  69.565217\n",
       "leicht rau              6  26.086957\n",
       "leicht rau/sandig       1   4.347826"
      ]
     },
     "execution_count": 370,
     "metadata": {},
     "output_type": "execute_result"
    }
   ],
   "source": [
    "sql = \"\"\"SELECT\n",
    "           t_Obj.objID,\n",
    "           t_Obj.Anzahl,\n",
    "           t_Obj.Obfl,\n",
    "           t_Obj.Fabric\n",
    "       FROM (t_Ort INNER JOIN t_Komplex ON t_Ort.ortID = t_Komplex.ortID)\n",
    "           INNER JOIN t_Obj ON t_Komplex.komplexID = t_Obj.komplexID\n",
    "       WHERE (((t_Obj.Obfl) != '')\n",
    "           AND ((t_Obj.Typ) LIKE '%\"\"\"+style+\"\"\"%'))\"\"\".replace('\\n',' ')\n",
    "\n",
    "df = pd.read_sql(sql, con)\n",
    "\n",
    "df['Anzahl'] = df['Anzahl'].convert_objects(convert_numeric=True)\n",
    "df_pivot = df.pivot_table(values = 'Anzahl', index = 'Obfl', aggfunc = sum)\n",
    "df_pivot = pd.DataFrame(df_pivot)\n",
    "df_pivot['Prozent'] = df_pivot['Anzahl']/df_pivot['Anzahl'].sum()*100\n",
    "df_pivot"
   ]
  },
  {
   "cell_type": "markdown",
   "metadata": {},
   "source": [
    "### Wandungsdicke"
   ]
  },
  {
   "cell_type": "code",
   "execution_count": 371,
   "metadata": {},
   "outputs": [
    {
     "name": "stderr",
     "output_type": "stream",
     "text": [
      "C:\\Users\\Dirk\\Anaconda3\\lib\\site-packages\\ipykernel\\__main__.py:11: FutureWarning: convert_objects is deprecated.  Use the data-type specific converters pd.to_datetime, pd.to_timedelta and pd.to_numeric.\n",
      "C:\\Users\\Dirk\\Anaconda3\\lib\\site-packages\\numpy\\lib\\function_base.py:564: VisibleDeprecationWarning: using a non-integer number instead of an integer will result in an error in the future\n",
      "  n = np.zeros(bins, ntype)\n",
      "C:\\Users\\Dirk\\Anaconda3\\lib\\site-packages\\numpy\\lib\\function_base.py:611: VisibleDeprecationWarning: using a non-integer number instead of an integer will result in an error in the future\n",
      "  n += np.bincount(indices, weights=tmp_w, minlength=bins).astype(ntype)\n"
     ]
    },
    {
     "data": {
      "image/png": "[encoded data removed]",
      "text/plain": [
       "<matplotlib.figure.Figure at 0x1f6e5909cc0>"
      ]
     },
     "metadata": {},
     "output_type": "display_data"
    }
   ],
   "source": [
    "sql = \"\"\"SELECT\n",
    "           t_Obj.objID,\n",
    "           t_Obj.Wandung \n",
    "       FROM (t_Ort INNER JOIN t_Komplex ON t_Ort.ortID = t_Komplex.ortID)\n",
    "           INNER JOIN t_Obj ON t_Komplex.komplexID = t_Obj.komplexID\n",
    "       WHERE (((t_Obj.Obfl) != '')\n",
    "           AND ((t_Obj.Typ) LIKE '%\"\"\"+style+\"\"\"%'))\"\"\".replace('\\n',' ')\n",
    "\n",
    "df = pd.read_sql(sql, con)\n",
    "\n",
    "df['Wandung'] = df['Wandung'].convert_objects(convert_numeric=True)\n",
    "\n",
    "# Spannweite ermitteln und als bins nutzen\n",
    "bins = df['Wandung'].max() - df['Wandung'].min()\n",
    "\n",
    "mean = df['Wandung'].mean()\n",
    "\n",
    "df['Wandung'].hist(bins = bins, color = 'grey', histtype='stepfilled')\n",
    "plt.axvline(mean, color = 'black', ls = 'dashed', lw = 2.5)\n",
    "plt.xlabel(\"Dicke [mm]\")\n",
    "plt.ylabel(\"Anzahl\")\n",
    "plt.xlim([df['Wandung'].min()-1,df['Wandung'].max()+1])\n",
    "legend = plt.legend([\"Mittelwert\"])\n",
    "legend.get_frame().set_facecolor('white')\n",
    "plt.tight_layout()"
   ]
  },
  {
   "cell_type": "code",
   "execution_count": 372,
   "metadata": {},
   "outputs": [
    {
     "data": {
      "text/plain": [
       "count    20.000000\n",
       "mean      7.650000\n",
       "std       1.565248\n",
       "min       4.000000\n",
       "25%       7.000000\n",
       "50%       8.000000\n",
       "75%       8.000000\n",
       "max      10.000000\n",
       "Name: Wandung, dtype: float64"
      ]
     },
     "execution_count": 372,
     "metadata": {},
     "output_type": "execute_result"
    }
   ],
   "source": [
    "df['Wandung'].describe()"
   ]
  },
  {
   "cell_type": "code",
   "execution_count": 373,
   "metadata": {},
   "outputs": [
    {
     "data": {
      "text/plain": [
       "2.4500000000000006"
      ]
     },
     "execution_count": 373,
     "metadata": {},
     "output_type": "execute_result"
    }
   ],
   "source": [
    "df['Wandung'].var()"
   ]
  },
  {
   "cell_type": "markdown",
   "metadata": {},
   "source": [
    "## Gefäßformen"
   ]
  },
  {
   "cell_type": "code",
   "execution_count": 418,
   "metadata": {
    "collapsed": true
   },
   "outputs": [],
   "source": [
    "sql = \"\"\"SELECT\n",
    "           t_Ort.ort_kurz,\n",
    "           t_Ort.ort_name,\n",
    "           t_Obj.objID,\n",
    "           t_Obj.Typ,\n",
    "           t_Obj.Form_Gef\n",
    "       FROM (t_Ort INNER JOIN t_Komplex ON t_Ort.ortID = t_Komplex.ortID)\n",
    "           INNER JOIN t_Obj ON t_Komplex.komplexID = t_Obj.komplexID\n",
    "       WHERE (((t_Ort.ort_lit)='DS')\n",
    "           AND ((t_Obj.Typ) Like '%\"\"\"+style+\"\"\"%')\n",
    "           AND ((t_Obj.Form_Gef) != ''))\"\"\".replace('\\n',' ')\n",
    "\n",
    "df = pd.read_sql(sql, con)\n",
    "# display(df.head())"
   ]
  },
  {
   "cell_type": "code",
   "execution_count": 419,
   "metadata": {},
   "outputs": [
    {
     "name": "stderr",
     "output_type": "stream",
     "text": [
      "C:\\Users\\Dirk\\Anaconda3\\lib\\site-packages\\ipykernel\\__main__.py:3: FutureWarning: by argument to sort_index is deprecated, pls use .sort_values(by=...)\n",
      "  app.launch_new_instance()\n"
     ]
    }
   ],
   "source": [
    "df_pivot = df.pivot_table(values = 'objID', index = 'Form_Gef', aggfunc = len)\n",
    "df_pivot = pd.DataFrame(df_pivot)\n",
    "df_pivot = df_pivot.sort_index(by = ['objID'], ascending = True)\n",
    "# display(df_pivot.head())"
   ]
  },
  {
   "cell_type": "code",
   "execution_count": 420,
   "metadata": {},
   "outputs": [
    {
     "data": {
      "text/plain": [
       "19"
      ]
     },
     "execution_count": 420,
     "metadata": {},
     "output_type": "execute_result"
    }
   ],
   "source": [
    "df_pivot['objID'].sum()"
   ]
  },
  {
   "cell_type": "code",
   "execution_count": 421,
   "metadata": {},
   "outputs": [
    {
     "data": {
      "text/html": [
       "<div>\n",
       "<table border=\"1\" class=\"dataframe\">\n",
       "  <thead>\n",
       "    <tr style=\"text-align: right;\">\n",
       "      <th></th>\n",
       "      <th>0</th>\n",
       "      <th>Prozent</th>\n",
       "    </tr>\n",
       "  </thead>\n",
       "  <tbody>\n",
       "    <tr>\n",
       "      <th>fraglich</th>\n",
       "      <td>9</td>\n",
       "      <td>47.368421</td>\n",
       "    </tr>\n",
       "    <tr>\n",
       "      <th>sicher</th>\n",
       "      <td>10</td>\n",
       "      <td>52.631579</td>\n",
       "    </tr>\n",
       "  </tbody>\n",
       "</table>\n",
       "</div>"
      ],
      "text/plain": [
       "           0    Prozent\n",
       "fraglich   9  47.368421\n",
       "sicher    10  52.631579"
      ]
     },
     "execution_count": 421,
     "metadata": {},
     "output_type": "execute_result"
    }
   ],
   "source": [
    "df_pivot['GefForm'] = df_pivot.index\n",
    "a = pd.Series({'sicher':sum(df_pivot['objID'].loc[~df_pivot['GefForm'].str.contains(\" \")]),\n",
    "               'fraglich':sum(df_pivot['objID'].loc[df_pivot['GefForm'].str.contains(\" \")])})\n",
    "a = pd.DataFrame(a)\n",
    "a['Prozent'] = a[0]/a[0].sum()*100\n",
    "a"
   ]
  },
  {
   "cell_type": "code",
   "execution_count": 422,
   "metadata": {},
   "outputs": [
    {
     "data": {
      "text/plain": [
       "<matplotlib.text.Text at 0x1f6e5a4ad30>"
      ]
     },
     "execution_count": 422,
     "metadata": {},
     "output_type": "execute_result"
    },
    {
     "data": {
      "image/png": "[encoded data removed]",
      "text/plain": [
       "<matplotlib.figure.Figure at 0x1f6e59526d8>"
      ]
     },
     "metadata": {},
     "output_type": "display_data"
    }
   ],
   "source": [
    "fig = plt.figure()\n",
    "fig.set_size_inches(5, 5)\n",
    "df_pivot['objID'].plot(kind='pie', autopct='%.0f %%', cmap = 'Paired')\n",
    "plt.ylabel('')"
   ]
  },
  {
   "cell_type": "code",
   "execution_count": 423,
   "metadata": {},
   "outputs": [
    {
     "name": "stderr",
     "output_type": "stream",
     "text": [
      "C:\\Users\\Dirk\\Anaconda3\\lib\\site-packages\\ipykernel\\__main__.py:6: FutureWarning: by argument to sort_index is deprecated, pls use .sort_values(by=...)\n"
     ]
    }
   ],
   "source": [
    "df['Form_Gef_GR'] = df['Form_Gef'].map(lambda x: str(x)[:1])\n",
    "\n",
    "df_pivot = df.pivot_table(values = 'objID', index = 'Form_Gef_GR', aggfunc = len)\n",
    "df_pivot = pd.DataFrame(df_pivot)\n",
    "# Sortierung ändern\n",
    "df_pivot = df_pivot.sort_index(by = ['objID'], ascending = True)"
   ]
  },
  {
   "cell_type": "code",
   "execution_count": 424,
   "metadata": {},
   "outputs": [
    {
     "data": {
      "text/plain": [
       "<matplotlib.text.Text at 0x1f6e7a7d630>"
      ]
     },
     "execution_count": 424,
     "metadata": {},
     "output_type": "execute_result"
    },
    {
     "data": {
      "image/png": "[encoded data removed]",
      "text/plain": [
       "<matplotlib.figure.Figure at 0x1f6e59b9f98>"
      ]
     },
     "metadata": {},
     "output_type": "display_data"
    }
   ],
   "source": [
    "fig = plt.figure()\n",
    "fig.set_size_inches(5, 5)\n",
    "df_pivot['objID'].plot(kind='pie', autopct='%.0f %%', cmap = 'Paired')\n",
    "plt.ylabel('')"
   ]
  },
  {
   "cell_type": "markdown",
   "metadata": {},
   "source": [
    "### Proportionen"
   ]
  },
  {
   "cell_type": "code",
   "execution_count": 379,
   "metadata": {},
   "outputs": [
    {
     "name": "stderr",
     "output_type": "stream",
     "text": [
      "C:\\Users\\Dirk\\Anaconda3\\lib\\site-packages\\ipykernel\\__main__.py:19: FutureWarning: convert_objects is deprecated.  Use the data-type specific converters pd.to_datetime, pd.to_timedelta and pd.to_numeric.\n",
      "C:\\Users\\Dirk\\Anaconda3\\lib\\site-packages\\ipykernel\\__main__.py:20: FutureWarning: convert_objects is deprecated.  Use the data-type specific converters pd.to_datetime, pd.to_timedelta and pd.to_numeric.\n",
      "C:\\Users\\Dirk\\Anaconda3\\lib\\site-packages\\ipykernel\\__main__.py:21: FutureWarning: convert_objects is deprecated.  Use the data-type specific converters pd.to_datetime, pd.to_timedelta and pd.to_numeric.\n",
      "C:\\Users\\Dirk\\Anaconda3\\lib\\site-packages\\ipykernel\\__main__.py:22: FutureWarning: convert_objects is deprecated.  Use the data-type specific converters pd.to_datetime, pd.to_timedelta and pd.to_numeric.\n",
      "C:\\Users\\Dirk\\Anaconda3\\lib\\site-packages\\ipykernel\\__main__.py:23: FutureWarning: convert_objects is deprecated.  Use the data-type specific converters pd.to_datetime, pd.to_timedelta and pd.to_numeric.\n",
      "C:\\Users\\Dirk\\Anaconda3\\lib\\site-packages\\ipykernel\\__main__.py:24: FutureWarning: convert_objects is deprecated.  Use the data-type specific converters pd.to_datetime, pd.to_timedelta and pd.to_numeric.\n",
      "C:\\Users\\Dirk\\Anaconda3\\lib\\site-packages\\ipykernel\\__main__.py:25: FutureWarning: convert_objects is deprecated.  Use the data-type specific converters pd.to_datetime, pd.to_timedelta and pd.to_numeric.\n"
     ]
    }
   ],
   "source": [
    "sql = \"\"\"SELECT\n",
    "           [t_Ort].[ort_kurz] || ' ' || [t_Komplex].[bef_nr] || ':' || [t_Obj].[Individuum] AS Ind,\n",
    "           t_Obj.muendungsD,\n",
    "           t_Obj.muendungsH,\n",
    "           t_Obj.minD,\n",
    "           t_Obj.minD_H,\n",
    "           t_Obj.maxD,\n",
    "           t_Obj.maxD_H,\n",
    "           t_Obj.bodenD,\n",
    "           t_obj.Form_Gef\n",
    "       FROM (t_Ort LEFT JOIN t_Komplex ON t_Ort.ortID = t_Komplex.ortID)\n",
    "           LEFT JOIN t_Obj ON t_Komplex.komplexID = t_Obj.komplexID\n",
    "       WHERE (((t_Ort.ort_lit)='DS')\n",
    "           AND ((t_Obj.Typ) Like '%\"\"\"+style+\"\"\"%')\n",
    "           AND ((t_Obj.Form_Gef) != ''))\"\"\".replace('\\n',' ')\n",
    "\n",
    "df = pd.read_sql(sql, con)\n",
    "\n",
    "df['muendungsD'] = df['muendungsD'].convert_objects(convert_numeric=True)\n",
    "df['muendungsH'] = df['muendungsH'].convert_objects(convert_numeric=True)\n",
    "df['minD'] = df['minD'].convert_objects(convert_numeric=True)\n",
    "df['minD_H'] = df['minD_H'].convert_objects(convert_numeric=True)\n",
    "df['maxD'] = df['maxD'].convert_objects(convert_numeric=True)\n",
    "df['maxD_H'] = df['maxD_H'].convert_objects(convert_numeric=True)\n",
    "df['bodenD'] = df['bodenD'].convert_objects(convert_numeric=True)\n",
    "\n",
    "# Verhältnis aus Mündungsdurchmesser / Minimaler Durchmesser\n",
    "df['maxD-muendH'] = df['maxD'] / df['muendungsH']\n",
    "# Verhältnis aus Mündungsdurchmesser / Minimaler Durchmesser\n",
    "df['muend-min'] = df['muendungsD'] / df['minD']\n",
    "# Verhältnis aus Maximaler Durchmesser / Minimaler Durchmesser\n",
    "df['max-min'] = df['maxD'] / df['minD']"
   ]
  },
  {
   "cell_type": "code",
   "execution_count": 380,
   "metadata": {},
   "outputs": [
    {
     "data": {
      "image/png": "[encoded data removed]",
      "text/plain": [
       "<matplotlib.figure.Figure at 0x1f6e20df2e8>"
      ]
     },
     "metadata": {},
     "output_type": "display_data"
    }
   ],
   "source": [
    "a = df.loc[df['Form_Gef'].str.contains(\"G7c\")]\n",
    "b = df.loc[df['Form_Gef'].str.contains(\"G3c\")]\n",
    "c = df.loc[df['Form_Gef'].str.contains(\"G8\")] \n",
    "d = df.loc[~df['Form_Gef'].str.contains(\"G7c|G3c|G8\")]\n",
    "\n",
    "fig = plt.figure(1)\n",
    "fig.set_size_inches(12,15)\n",
    "\n",
    "ax = plt.subplot(421)\n",
    "\n",
    "d['muendungsD'].hist(histtype='stepfilled', stacked = False, fc = 'g', label = 'Weitere', alpha = 0.5)\n",
    "c['muendungsD'].hist(histtype='stepfilled', stacked = False, fc = 'y', label = 'G8', alpha = 0.5)\n",
    "b['muendungsD'].hist(histtype='stepfilled', stacked = False, fc = 'b', label = 'G3c', alpha = 0.5)\n",
    "a['muendungsD'].hist(histtype='stepfilled', stacked = False, fc = 'r', label = 'G7c', alpha = 0.5)\n",
    "\n",
    "plt.axvline(d['muendungsD'].mean(), color='g', linestyle = '--')\n",
    "plt.axvline(c['muendungsD'].mean(), color='y', linestyle = '--')\n",
    "plt.axvline(b['muendungsD'].mean(), color='b', linestyle = '--')\n",
    "plt.axvline(a['muendungsD'].mean(), color='r', linestyle = '--')\n",
    "\n",
    "ax.xaxis.grid(False)\n",
    "ax.yaxis.grid(False)\n",
    "\n",
    "plt.xlabel(\"Mündungsdurchmesser [cm]\")\n",
    "plt.legend(loc = 2)\n",
    "\n",
    "ax = plt.subplot(422)\n",
    "\n",
    "d['muendungsH'].hist(histtype='stepfilled', stacked = False, fc = 'g', label = 'Weitere', alpha = 0.5, orientation='horizontal')\n",
    "c['muendungsH'].hist(histtype='stepfilled', stacked = False, fc = 'y', label = 'G8', alpha = 0.5, orientation='horizontal')\n",
    "b['muendungsH'].hist(histtype='stepfilled', stacked = False, fc = 'b', label = 'G3c', alpha = 0.5, orientation='horizontal')\n",
    "# a['muendungsH'].hist(histtype='stepfilled', stacked = False, fc = 'r', label = 'G6', alpha = 0.5, orientation='horizontal')\n",
    "\n",
    "plt.axhline(d['muendungsH'].mean(), color='g', linestyle = '--')\n",
    "plt.axhline(c['muendungsH'].mean(), color='y', linestyle = '--')\n",
    "plt.axhline(b['muendungsH'].mean(), color='b', linestyle = '--')\n",
    "plt.axhline(a['muendungsH'].mean(), color='r', linestyle = '--')\n",
    "\n",
    "ax.xaxis.grid(False)\n",
    "ax.yaxis.grid(False)\n",
    "\n",
    "plt.legend(loc = 1)\n",
    "\n",
    "# df['muendungsH'].hist(histtype='stepfilled', orientation='horizontal')\n",
    "plt.ylabel(\"Mündungshöhe [cm]\")\n",
    "\n",
    "ax = plt.subplot(423)\n",
    "\n",
    "plt.scatter(d['maxD'], d['muendungsH'], alpha=0.5, c = 'g', s = 50, label = 'Weitere')\n",
    "plt.scatter(c['maxD'], c['muendungsH'], alpha=0.5, c = 'y', s = 50, label = 'G8')\n",
    "plt.scatter(b['maxD'], b['muendungsH'], alpha=0.5, c = 'b', s = 50, label = 'G3c')\n",
    "plt.scatter(a['maxD'], a['muendungsH'], alpha=0.5, c = 'r', s = 50, label = 'G7c')#\n",
    "plt.legend(loc = 2)\n",
    "plt.xlabel(\"Maximaldurchmesser [cm]\")\n",
    "plt.ylabel(\"Mündungshöhe [cm]\")\n",
    "\n",
    "ax.plot([0, 10,20,30,50],[0, 10,20,30,50], color='black', linestyle = '--')\n",
    "ax.text(43, 38, '1:1', color='black', fontsize=15)\n",
    "\n",
    "ax.plot([0, 10,20,30,50],[0, 5,10,15,25], color='black', linestyle = '--')\n",
    "ax.text(43, 18, '2:1', color='black', fontsize=15)\n",
    "\n",
    "plt.xlim(0,50) \n",
    "plt.ylim(0,50) \n",
    "\n",
    "ax.set_aspect('equal')\n",
    "\n",
    "ax = plt.subplot(424)\n",
    "\n",
    "d['maxD-muendH'].hist(histtype='stepfilled', stacked = False, fc = 'g', label = 'Weitere', alpha = 0.5)\n",
    "c['maxD-muendH'].hist(histtype='stepfilled', stacked = False, fc = 'y', label = 'G8', alpha = 0.5)\n",
    "b['maxD-muendH'].hist(histtype='stepfilled', stacked = False, fc = 'b', label = 'G3c', alpha = 0.5)\n",
    "#a['maxD-muendH'].hist(histtype='stepfilled', stacked = False, fc = 'r', label = 'G7c', alpha = 0.5)\n",
    "\n",
    "plt.axvline(d['maxD-muendH'].mean(), color='g', linestyle = '--')\n",
    "plt.axvline(c['maxD-muendH'].mean(), color='y', linestyle = '--')\n",
    "plt.axvline(b['maxD-muendH'].mean(), color='b', linestyle = '--')\n",
    "plt.axvline(a['maxD-muendH'].mean(), color='r', linestyle = '--')\n",
    "\n",
    "ax.xaxis.grid(False)\n",
    "ax.yaxis.grid(False)\n",
    "\n",
    "plt.legend(loc = 1)\n",
    "\n",
    "# df['maxD-muendH'].hist(histtype='stepfilled', fc='#CCCCCC')\n",
    "plt.xlabel(\"Maximaler Durchmesser / Mündungshöhe\")\n",
    "\n",
    "ax = plt.subplot(425)\n",
    "\n",
    "d['minD'].hist(histtype='stepfilled', stacked = False, fc = 'g', label = 'Weitere', alpha = 0.5)\n",
    "c['minD'].hist(histtype='stepfilled', stacked = False, fc = 'y', label = 'G8', alpha = 0.5)\n",
    "b['minD'].hist(histtype='stepfilled', stacked = False, fc = 'b', label = 'G3c', alpha = 0.5)\n",
    "a['minD'].hist(histtype='stepfilled', stacked = False, fc = 'r', label = 'G7c', alpha = 0.5)\n",
    "\n",
    "plt.axvline(d['minD'].mean(), color='g', linestyle = '--')\n",
    "plt.axvline(c['minD'].mean(), color='y', linestyle = '--')\n",
    "plt.axvline(b['minD'].mean(), color='b', linestyle = '--')\n",
    "plt.axvline(a['minD'].mean(), color='r', linestyle = '--')\n",
    "\n",
    "ax.xaxis.grid(False)\n",
    "ax.yaxis.grid(False)\n",
    "\n",
    "plt.legend(loc = 2)\n",
    "\n",
    "#df['minD'].hist(histtype='stepfilled', fc='#86B404')\n",
    "plt.xlabel(\"Minimaler Durchmesser [cm]\")\n",
    "\n",
    "ax = plt.subplot(426)\n",
    "\n",
    "d['muend-min'].hist(histtype='stepfilled', stacked = False, fc = 'g', label = 'Weitere', alpha = 0.5)\n",
    "c['muend-min'].hist(histtype='stepfilled', stacked = False, fc = 'y', label = 'G8', alpha = 0.5)\n",
    "b['muend-min'].hist(histtype='stepfilled', stacked = False, fc = 'b', label = 'G3c', alpha = 0.5)\n",
    "a['muend-min'].hist(histtype='stepfilled', stacked = False, fc = 'r', label = 'G7c', alpha = 0.5)\n",
    "\n",
    "plt.axvline(d['muend-min'].mean(), color='g', linestyle = '--')\n",
    "plt.axvline(c['muend-min'].mean(), color='y', linestyle = '--')\n",
    "plt.axvline(b['muend-min'].mean(), color='b', linestyle = '--')\n",
    "plt.axvline(a['muend-min'].mean(), color='r', linestyle = '--')\n",
    "\n",
    "ax.xaxis.grid(False)\n",
    "ax.yaxis.grid(False)\n",
    "\n",
    "plt.legend(loc = 1)\n",
    "\n",
    "#df['muend-min'].hist(histtype='stepfilled', fc='#E1F5A9')\n",
    "#plt.axvline(df['muend-min'].mean(), color='r', linestyle = '--')\n",
    "# plt.legend([\"Mittelwert\"])\n",
    "plt.xlabel(\"MündungsD / MinD\")\n",
    "\n",
    "ax = plt.subplot(427)\n",
    "\n",
    "d['maxD'].hist(histtype='stepfilled', stacked = False, fc = 'g', label = 'Weitere', alpha = 0.5)\n",
    "c['maxD'].hist(histtype='stepfilled', stacked = False, fc = 'y', label = 'G8', alpha = 0.5)\n",
    "b['maxD'].hist(histtype='stepfilled', stacked = False, fc = 'b', label = 'G3c', alpha = 0.5)\n",
    "a['maxD'].hist(histtype='stepfilled', stacked = False, fc = 'r', label = 'G7c', alpha = 0.5)\n",
    "\n",
    "plt.axvline(d['maxD'].mean(), color='g', linestyle = '--')\n",
    "plt.axvline(c['maxD'].mean(), color='y', linestyle = '--')\n",
    "plt.axvline(b['maxD'].mean(), color='b', linestyle = '--')\n",
    "plt.axvline(a['maxD'].mean(), color='r', linestyle = '--')\n",
    "\n",
    "ax.xaxis.grid(False)\n",
    "ax.yaxis.grid(False)\n",
    "\n",
    "plt.legend(loc = 2)\n",
    "\n",
    "# df['maxD'].hist(histtype='stepfilled', fc='#2E64FE')\n",
    "plt.xlabel(\"Maximaler Durchmesser [cm]\")\n",
    "\n",
    "ax = plt.subplot(428)\n",
    "\n",
    "d['max-min'].hist(histtype='stepfilled', stacked = False, fc = 'g', label = 'Weitere', alpha = 0.5)\n",
    "c['max-min'].hist(histtype='stepfilled', stacked = False, fc = 'y', label = 'G8', alpha = 0.5)\n",
    "b['max-min'].hist(histtype='stepfilled', stacked = False, fc = 'b', label = 'G3c', alpha = 0.5)\n",
    "a['max-min'].hist(histtype='stepfilled', stacked = False, fc = 'r', label = 'G7c', alpha = 0.5)\n",
    "\n",
    "plt.axvline(d['max-min'].mean(), color='g', linestyle = '--')\n",
    "plt.axvline(c['max-min'].mean(), color='y', linestyle = '--')\n",
    "plt.axvline(b['max-min'].mean(), color='b', linestyle = '--')\n",
    "plt.axvline(a['max-min'].mean(), color='r', linestyle = '--')\n",
    "\n",
    "ax.xaxis.grid(False)\n",
    "ax.yaxis.grid(False)\n",
    "\n",
    "# df['max-min'].hist(histtype='stepfilled', fc='#81BEF7')\n",
    "# plt.axvline(df['max-min'].mean(), color='r', linestyle = '--')\n",
    "plt.legend([\"Mittelwert\"])\n",
    "plt.legend(loc = 1)\n",
    "plt.xlabel(\"MaxD / MinD\")\n",
    "\n",
    "plt.tight_layout()\n",
    "\n",
    "plt.savefig('../output/figs/3-1-1-11_MBN_Keramik-Abmessungen.pdf')\n",
    "plt.show()"
   ]
  },
  {
   "cell_type": "markdown",
   "metadata": {},
   "source": [
    "## Bauchform"
   ]
  },
  {
   "cell_type": "code",
   "execution_count": 381,
   "metadata": {
    "collapsed": true
   },
   "outputs": [],
   "source": [
    "sql = \"\"\"SELECT\n",
    "           t_Ort.ort_kurz,\n",
    "           t_Ort.ort_name,\n",
    "           t_Obj.objID,\n",
    "           t_Obj.Typ,\n",
    "           t_Obj.Form_Gef,\n",
    "           t_Obj.Form_Bauch\n",
    "       FROM (t_Ort INNER JOIN t_Komplex ON t_Ort.ortID = t_Komplex.ortID)\n",
    "           INNER JOIN t_Obj ON t_Komplex.komplexID = t_Obj.komplexID\n",
    "       WHERE (((t_Ort.ort_lit)='DS')\n",
    "           AND ((t_Obj.Typ) Like '%\"\"\"+style+\"\"\"%')\n",
    "           AND ((t_Obj.Form_Bauch) != '')\n",
    "           AND ((t_Obj.Anzahl) = 1))\"\"\".replace('\\n',' ')\n",
    "\n",
    "df = pd.read_sql(sql, con)\n",
    "\n",
    "# die Fragezeichen bei Gef-Form & Bauch-Form einfach löschen\n",
    "#df['Form_Gef'] = df['Form_Gef'].map(lambda x: x.rstrip(' (?)'))\n",
    "#df['Form_Bauch'] = df['Form_Bauch'].map(lambda x: x.rstrip(' (?)'))\n",
    "\n",
    "#display(df.head())"
   ]
  },
  {
   "cell_type": "code",
   "execution_count": 382,
   "metadata": {},
   "outputs": [
    {
     "name": "stderr",
     "output_type": "stream",
     "text": [
      "C:\\Users\\Dirk\\Anaconda3\\lib\\site-packages\\ipykernel\\__main__.py:4: FutureWarning: by argument to sort_index is deprecated, pls use .sort_values(by=...)\n"
     ]
    },
    {
     "data": {
      "text/html": [
       "<div>\n",
       "<table border=\"1\" class=\"dataframe\">\n",
       "  <thead>\n",
       "    <tr style=\"text-align: right;\">\n",
       "      <th></th>\n",
       "      <th>objID</th>\n",
       "      <th>Prozent</th>\n",
       "    </tr>\n",
       "    <tr>\n",
       "      <th>Form_Bauch</th>\n",
       "      <th></th>\n",
       "      <th></th>\n",
       "    </tr>\n",
       "  </thead>\n",
       "  <tbody>\n",
       "    <tr>\n",
       "      <th>A1</th>\n",
       "      <td>13</td>\n",
       "      <td>92.857143</td>\n",
       "    </tr>\n",
       "    <tr>\n",
       "      <th>A2</th>\n",
       "      <td>1</td>\n",
       "      <td>7.142857</td>\n",
       "    </tr>\n",
       "  </tbody>\n",
       "</table>\n",
       "</div>"
      ],
      "text/plain": [
       "            objID    Prozent\n",
       "Form_Bauch                  \n",
       "A1             13  92.857143\n",
       "A2              1   7.142857"
      ]
     },
     "execution_count": 382,
     "metadata": {},
     "output_type": "execute_result"
    }
   ],
   "source": [
    "df_pivot = df.pivot_table(values = 'objID', index = 'Form_Bauch', aggfunc = len)\n",
    "df_pivot = pd.DataFrame(df_pivot)\n",
    "# Sortierung in Aufsteigend ändern\n",
    "df_pivot = df_pivot.sort_index(by = ['objID'], ascending=False)\n",
    "# Prozent-Anteil errechnen\n",
    "df_pivot['Prozent'] = df_pivot['objID']/df_pivot['objID'].sum()*100\n",
    "df_pivot"
   ]
  },
  {
   "cell_type": "markdown",
   "metadata": {},
   "source": [
    "## Mündungs- und Randformen"
   ]
  },
  {
   "cell_type": "code",
   "execution_count": 427,
   "metadata": {
    "collapsed": true
   },
   "outputs": [],
   "source": [
    "sql = \"\"\"SELECT\n",
    "           t_Ort.ort_kurz,\n",
    "           t_Ort.ort_name,\n",
    "           t_Obj.objID,\n",
    "           t_Obj.Typ,\n",
    "           t_Obj.Form_Mdg,\n",
    "           t_Obj.Form_Rand,\n",
    "           t_Obj.Form_Hals,\n",
    "           t_Obj.Form_Schulter,\n",
    "           t_Obj.Form_Gef\n",
    "       FROM (t_Ort INNER JOIN t_Komplex ON t_Ort.ortID = t_Komplex.ortID)\n",
    "           INNER JOIN t_Obj ON t_Komplex.komplexID = t_Obj.komplexID\n",
    "       WHERE (((t_Ort.ort_lit)='DS')\n",
    "           AND ((t_Obj.Typ) Like '%\"\"\"+style+\"\"\"%')\n",
    "           AND ((t_Obj.Anzahl) = 1))\"\"\".replace('\\n',' ')\n",
    "\n",
    "df = pd.read_sql(sql, con)\n",
    "# leere Werte in NaN ändern\n",
    "df = df.replace('',np.nan, regex=True)\n",
    "# display(df.head())"
   ]
  },
  {
   "cell_type": "code",
   "execution_count": 428,
   "metadata": {},
   "outputs": [
    {
     "name": "stderr",
     "output_type": "stream",
     "text": [
      "C:\\Users\\Dirk\\Anaconda3\\lib\\site-packages\\ipykernel\\__main__.py:5: FutureWarning: by argument to sort_index is deprecated, pls use .sort_values(by=...)\n"
     ]
    },
    {
     "data": {
      "text/html": [
       "<div>\n",
       "<table border=\"1\" class=\"dataframe\">\n",
       "  <thead>\n",
       "    <tr style=\"text-align: right;\">\n",
       "      <th></th>\n",
       "      <th>objID</th>\n",
       "      <th>Prozent</th>\n",
       "    </tr>\n",
       "    <tr>\n",
       "      <th>Form_Mdg</th>\n",
       "      <th></th>\n",
       "      <th></th>\n",
       "    </tr>\n",
       "  </thead>\n",
       "  <tbody>\n",
       "    <tr>\n",
       "      <th>M1</th>\n",
       "      <td>9</td>\n",
       "      <td>47.368421</td>\n",
       "    </tr>\n",
       "    <tr>\n",
       "      <th>M2</th>\n",
       "      <td>3</td>\n",
       "      <td>15.789474</td>\n",
       "    </tr>\n",
       "    <tr>\n",
       "      <th>M4</th>\n",
       "      <td>2</td>\n",
       "      <td>10.526316</td>\n",
       "    </tr>\n",
       "    <tr>\n",
       "      <th>M1/M2</th>\n",
       "      <td>1</td>\n",
       "      <td>5.263158</td>\n",
       "    </tr>\n",
       "    <tr>\n",
       "      <th>M3</th>\n",
       "      <td>1</td>\n",
       "      <td>5.263158</td>\n",
       "    </tr>\n",
       "    <tr>\n",
       "      <th>M3/M1</th>\n",
       "      <td>1</td>\n",
       "      <td>5.263158</td>\n",
       "    </tr>\n",
       "    <tr>\n",
       "      <th>M4 (?)</th>\n",
       "      <td>1</td>\n",
       "      <td>5.263158</td>\n",
       "    </tr>\n",
       "    <tr>\n",
       "      <th>M6/M1</th>\n",
       "      <td>1</td>\n",
       "      <td>5.263158</td>\n",
       "    </tr>\n",
       "  </tbody>\n",
       "</table>\n",
       "</div>"
      ],
      "text/plain": [
       "          objID    Prozent\n",
       "Form_Mdg                  \n",
       "M1            9  47.368421\n",
       "M2            3  15.789474\n",
       "M4            2  10.526316\n",
       "M1/M2         1   5.263158\n",
       "M3            1   5.263158\n",
       "M3/M1         1   5.263158\n",
       "M4 (?)        1   5.263158\n",
       "M6/M1         1   5.263158"
      ]
     },
     "execution_count": 428,
     "metadata": {},
     "output_type": "execute_result"
    }
   ],
   "source": [
    "# Zeilen ohne Mdg löschen\n",
    "df_pivot = df.pivot_table(values = 'objID', index = 'Form_Mdg', aggfunc = len)\n",
    "df_pivot = pd.DataFrame(df_pivot)\n",
    "# Sortierung in Aufsteigend ändern\n",
    "df_pivot = df_pivot.sort_index(by = ['objID'], ascending=False)\n",
    "# Prozent-Anteil errechnen\n",
    "df_pivot['Prozent'] = df_pivot['objID'] / df_pivot['objID'].sum()*100\n",
    "df_pivot"
   ]
  },
  {
   "cell_type": "code",
   "execution_count": 438,
   "metadata": {},
   "outputs": [
    {
     "name": "stderr",
     "output_type": "stream",
     "text": [
      "C:\\Users\\Dirk\\Anaconda3\\lib\\site-packages\\ipykernel\\__main__.py:5: FutureWarning: by argument to sort_index is deprecated, pls use .sort_values(by=...)\n"
     ]
    }
   ],
   "source": [
    "# Zeilen ohne Mdg löschen\n",
    "df_pivot = df.pivot_table(values = 'objID', index = 'Form_Rand', aggfunc = len)\n",
    "df_pivot = pd.DataFrame(df_pivot)\n",
    "# Sortierung in Aufsteigend ändern\n",
    "df_pivot = df_pivot.sort_index(by = ['objID'], ascending=False)\n",
    "# Prozent-Anteil errechnen\n",
    "df_pivot['Prozent'] = df_pivot['objID']/df_pivot['objID'].sum()*100\n",
    "#display(df_pivot.head())"
   ]
  },
  {
   "cell_type": "code",
   "execution_count": 439,
   "metadata": {},
   "outputs": [
    {
     "data": {
      "text/plain": [
       "<matplotlib.text.Text at 0x1f6e41d29e8>"
      ]
     },
     "execution_count": 439,
     "metadata": {},
     "output_type": "execute_result"
    },
    {
     "data": {
      "image/png": "[encoded data removed]",
      "text/plain": [
       "<matplotlib.figure.Figure at 0x1f6e48040f0>"
      ]
     },
     "metadata": {},
     "output_type": "display_data"
    }
   ],
   "source": [
    "fig = plt.figure()\n",
    "fig.set_size_inches(5, 5)\n",
    "df_pivot['objID'].plot(kind='pie', autopct='%.0f %%', cmap = 'Paired')\n",
    "plt.ylabel('')"
   ]
  },
  {
   "cell_type": "code",
   "execution_count": 446,
   "metadata": {},
   "outputs": [
    {
     "name": "stderr",
     "output_type": "stream",
     "text": [
      "C:\\Users\\Dirk\\Anaconda3\\lib\\site-packages\\ipykernel\\__main__.py:3: SettingWithCopyWarning: \n",
      "A value is trying to be set on a copy of a slice from a DataFrame.\n",
      "Try using .loc[row_indexer,col_indexer] = value instead\n",
      "\n",
      "See the caveats in the documentation: http://pandas.pydata.org/pandas-docs/stable/indexing.html#indexing-view-versus-copy\n",
      "  app.launch_new_instance()\n",
      "C:\\Users\\Dirk\\Anaconda3\\lib\\site-packages\\ipykernel\\__main__.py:4: SettingWithCopyWarning: \n",
      "A value is trying to be set on a copy of a slice from a DataFrame.\n",
      "Try using .loc[row_indexer,col_indexer] = value instead\n",
      "\n",
      "See the caveats in the documentation: http://pandas.pydata.org/pandas-docs/stable/indexing.html#indexing-view-versus-copy\n",
      "C:\\Users\\Dirk\\Anaconda3\\lib\\site-packages\\ipykernel\\__main__.py:8: FutureWarning: by argument to sort_index is deprecated, pls use .sort_values(by=...)\n",
      "C:\\Users\\Dirk\\Anaconda3\\lib\\site-packages\\ipykernel\\__main__.py:11: FutureWarning: by argument to sort_index is deprecated, pls use .sort_values(by=...)\n"
     ]
    },
    {
     "data": {
      "text/html": [
       "<div>\n",
       "<table border=\"1\" class=\"dataframe\">\n",
       "  <thead>\n",
       "    <tr style=\"text-align: right;\">\n",
       "      <th></th>\n",
       "      <th>objID</th>\n",
       "      <th>Prozent</th>\n",
       "    </tr>\n",
       "    <tr>\n",
       "      <th>Form_Rand</th>\n",
       "      <th></th>\n",
       "      <th></th>\n",
       "    </tr>\n",
       "  </thead>\n",
       "  <tbody>\n",
       "    <tr>\n",
       "      <th>C3</th>\n",
       "      <td>7</td>\n",
       "      <td>36.842105</td>\n",
       "    </tr>\n",
       "    <tr>\n",
       "      <th>B2</th>\n",
       "      <td>3</td>\n",
       "      <td>15.789474</td>\n",
       "    </tr>\n",
       "    <tr>\n",
       "      <th>A2</th>\n",
       "      <td>2</td>\n",
       "      <td>10.526316</td>\n",
       "    </tr>\n",
       "    <tr>\n",
       "      <th>B1</th>\n",
       "      <td>2</td>\n",
       "      <td>10.526316</td>\n",
       "    </tr>\n",
       "    <tr>\n",
       "      <th>C1</th>\n",
       "      <td>2</td>\n",
       "      <td>10.526316</td>\n",
       "    </tr>\n",
       "    <tr>\n",
       "      <th>A2.5</th>\n",
       "      <td>1</td>\n",
       "      <td>5.263158</td>\n",
       "    </tr>\n",
       "    <tr>\n",
       "      <th>A4.5</th>\n",
       "      <td>1</td>\n",
       "      <td>5.263158</td>\n",
       "    </tr>\n",
       "    <tr>\n",
       "      <th>B1.1</th>\n",
       "      <td>1</td>\n",
       "      <td>5.263158</td>\n",
       "    </tr>\n",
       "  </tbody>\n",
       "</table>\n",
       "</div>"
      ],
      "text/plain": [
       "           objID    Prozent\n",
       "Form_Rand                  \n",
       "C3             7  36.842105\n",
       "B2             3  15.789474\n",
       "A2             2  10.526316\n",
       "B1             2  10.526316\n",
       "C1             2  10.526316\n",
       "A2.5           1   5.263158\n",
       "A4.5           1   5.263158\n",
       "B1.1           1   5.263158"
      ]
     },
     "execution_count": 446,
     "metadata": {},
     "output_type": "execute_result"
    }
   ],
   "source": [
    "# Fragezeichen löschen\n",
    "df1 = df.dropna(subset = ['Form_Rand'])\n",
    "df1['Form_Rand'] = df1['Form_Rand'].map(lambda x: x.rstrip(' (?)'))\n",
    "df1['Form_Rand'] = df1['Form_Rand'].apply(lambda x: x.split('/')[0])\\\n",
    "\n",
    "df_pivot = df1.pivot_table(values = 'objID', index = 'Form_Rand', aggfunc = len)\n",
    "df_pivot = pd.DataFrame(df_pivot)\n",
    "# Sortierung ändern\n",
    "df_pivot = df_pivot.sort_index(by = ['objID'], ascending = True)\n",
    "# Prozent-Anteil errechnen\n",
    "df_pivot['Prozent'] = df_pivot['objID']/df_pivot['objID'].sum()*100\n",
    "df_pivot = df_pivot.sort_index(by = ['Prozent'], ascending=False)\n",
    "df_pivot"
   ]
  },
  {
   "cell_type": "code",
   "execution_count": 447,
   "metadata": {},
   "outputs": [
    {
     "data": {
      "text/plain": [
       "<matplotlib.text.Text at 0x1f6e49ffa58>"
      ]
     },
     "execution_count": 447,
     "metadata": {},
     "output_type": "execute_result"
    },
    {
     "data": {
      "image/png": "[encoded data removed]",
      "text/plain": [
       "<matplotlib.figure.Figure at 0x1f6e4a98748>"
      ]
     },
     "metadata": {},
     "output_type": "display_data"
    }
   ],
   "source": [
    "fig = plt.figure()\n",
    "fig.set_size_inches(5, 5)\n",
    "df_pivot['objID'].plot(kind='pie', autopct='%.0f %%', cmap = 'Paired')\n",
    "plt.ylabel('')"
   ]
  },
  {
   "cell_type": "code",
   "execution_count": 445,
   "metadata": {},
   "outputs": [
    {
     "data": {
      "image/png": "[encoded data removed]",
      "text/plain": [
       "<matplotlib.figure.Figure at 0x1f6e59fac88>"
      ]
     },
     "metadata": {},
     "output_type": "display_data"
    }
   ],
   "source": [
    "df_pivot = df.pivot_table(values = 'objID', index = 'Form_Gef', columns = 'Form_Rand', fill_value = 0, aggfunc = len)\n",
    "\n",
    "fig = plt.figure()\n",
    "fig.set_size_inches(10, 7.5)\n",
    "plt.imshow(df_pivot, interpolation='nearest', cmap='Greys', alpha = .5)\n",
    "plt.ylabel('Gefäßposition')\n",
    "plt.xlabel('Verzierungselemente')\n",
    "plt.yticks(range(len(df_pivot.index)), df_pivot.index)\n",
    "plt.xticks(range(len(df_pivot.columns)), df_pivot.columns, rotation='vertical')\n",
    "# plt.colorbar(orientation='horizontal')\n",
    "for (i, j), z in np.ndenumerate(df_pivot):\n",
    "    plt.text(j, i, '{:0.0f}'.format(z), ha='center', va='center')\n",
    "plt.tight_layout()\n",
    "plt.show()"
   ]
  },
  {
   "cell_type": "code",
   "execution_count": 450,
   "metadata": {
    "scrolled": false
   },
   "outputs": [
    {
     "name": "stderr",
     "output_type": "stream",
     "text": [
      "C:\\Users\\Dirk\\Anaconda3\\lib\\site-packages\\ipykernel\\__main__.py:3: SettingWithCopyWarning: \n",
      "A value is trying to be set on a copy of a slice from a DataFrame.\n",
      "Try using .loc[row_indexer,col_indexer] = value instead\n",
      "\n",
      "See the caveats in the documentation: http://pandas.pydata.org/pandas-docs/stable/indexing.html#indexing-view-versus-copy\n",
      "  app.launch_new_instance()\n",
      "C:\\Users\\Dirk\\Anaconda3\\lib\\site-packages\\ipykernel\\__main__.py:4: SettingWithCopyWarning: \n",
      "A value is trying to be set on a copy of a slice from a DataFrame.\n",
      "Try using .loc[row_indexer,col_indexer] = value instead\n",
      "\n",
      "See the caveats in the documentation: http://pandas.pydata.org/pandas-docs/stable/indexing.html#indexing-view-versus-copy\n"
     ]
    },
    {
     "data": {
      "text/plain": [
       "<matplotlib.text.Text at 0x1f6e54dc518>"
      ]
     },
     "execution_count": 450,
     "metadata": {},
     "output_type": "execute_result"
    },
    {
     "data": {
      "image/png": "[encoded data removed]",
      "text/plain": [
       "<matplotlib.figure.Figure at 0x1f6e3926ac8>"
      ]
     },
     "metadata": {},
     "output_type": "display_data"
    }
   ],
   "source": [
    "# Fragezeichen löschen\n",
    "df1 = df.dropna(subset = ['Form_Hals'])\n",
    "df1['Form_Hals'] = df1['Form_Hals'].map(lambda x: x.rstrip(' (?)'))\n",
    "df1['Form_Hals'] = df1['Form_Hals'].apply(lambda x: x.split('/')[0])\\\n",
    "\n",
    "df_pivot = df1.pivot_table(values = 'objID', index = 'Form_Hals', aggfunc = len)\n",
    "fig = plt.figure()\n",
    "fig.set_size_inches(5, 5)\n",
    "df_pivot.plot(kind='pie', autopct='%.0f %%', cmap = 'Paired')\n",
    "plt.title(\"Hals\")"
   ]
  },
  {
   "cell_type": "code",
   "execution_count": 389,
   "metadata": {},
   "outputs": [
    {
     "data": {
      "text/html": [
       "<div>\n",
       "<table border=\"1\" class=\"dataframe\">\n",
       "  <thead>\n",
       "    <tr style=\"text-align: right;\">\n",
       "      <th></th>\n",
       "      <th>0</th>\n",
       "      <th>Prozent</th>\n",
       "    </tr>\n",
       "  </thead>\n",
       "  <tbody>\n",
       "    <tr>\n",
       "      <th>kurz</th>\n",
       "      <td>1</td>\n",
       "      <td>14.285714</td>\n",
       "    </tr>\n",
       "    <tr>\n",
       "      <th>nicht-kurz</th>\n",
       "      <td>6</td>\n",
       "      <td>85.714286</td>\n",
       "    </tr>\n",
       "  </tbody>\n",
       "</table>\n",
       "</div>"
      ],
      "text/plain": [
       "            0    Prozent\n",
       "kurz        1  14.285714\n",
       "nicht-kurz  6  85.714286"
      ]
     },
     "execution_count": 389,
     "metadata": {},
     "output_type": "execute_result"
    }
   ],
   "source": [
    "# leere Zellen & X entfernen\n",
    "b = df['Form_Hals']\n",
    "b = pd.DataFrame(b)\n",
    "b = b.dropna()\n",
    "b = b[b['Form_Hals'] != 'X']\n",
    "b\n",
    "# enthält 'kurz' oder nicht\n",
    "c = pd.Series({'kurz':len(b.loc[b['Form_Hals'].str.contains(\"kurz\")].index),\n",
    "               'nicht-kurz':len(b.loc[~b['Form_Hals'].str.contains(\"kurz\")].index)})\n",
    "c = pd.DataFrame(c)\n",
    "c['Prozent'] = c[0]/c[0].sum()*100\n",
    "c"
   ]
  },
  {
   "cell_type": "code",
   "execution_count": 451,
   "metadata": {},
   "outputs": [
    {
     "name": "stderr",
     "output_type": "stream",
     "text": [
      "C:\\Users\\Dirk\\Anaconda3\\lib\\site-packages\\ipykernel\\__main__.py:3: SettingWithCopyWarning: \n",
      "A value is trying to be set on a copy of a slice from a DataFrame.\n",
      "Try using .loc[row_indexer,col_indexer] = value instead\n",
      "\n",
      "See the caveats in the documentation: http://pandas.pydata.org/pandas-docs/stable/indexing.html#indexing-view-versus-copy\n",
      "  app.launch_new_instance()\n",
      "C:\\Users\\Dirk\\Anaconda3\\lib\\site-packages\\ipykernel\\__main__.py:4: SettingWithCopyWarning: \n",
      "A value is trying to be set on a copy of a slice from a DataFrame.\n",
      "Try using .loc[row_indexer,col_indexer] = value instead\n",
      "\n",
      "See the caveats in the documentation: http://pandas.pydata.org/pandas-docs/stable/indexing.html#indexing-view-versus-copy\n"
     ]
    },
    {
     "data": {
      "text/plain": [
       "<matplotlib.text.Text at 0x1f6e3d283c8>"
      ]
     },
     "execution_count": 451,
     "metadata": {},
     "output_type": "execute_result"
    },
    {
     "data": {
      "image/png": "[encoded data removed]",
      "text/plain": [
       "<matplotlib.figure.Figure at 0x1f6e5a1b278>"
      ]
     },
     "metadata": {},
     "output_type": "display_data"
    }
   ],
   "source": [
    "# Fragezeichen löschen\n",
    "df1 = df.dropna(subset = ['Form_Schulter'])\n",
    "df1['Form_Schulter'] = df1['Form_Schulter'].map(lambda x: x.rstrip(' (?)'))\n",
    "df1['Form_Schulter'] = df1['Form_Schulter'].apply(lambda x: x.split('/')[0])\\\n",
    "\n",
    "\n",
    "df_pivot = df1.pivot_table(values = 'objID', index = 'Form_Schulter', aggfunc = len)\n",
    "fig = plt.figure()\n",
    "fig.set_size_inches(5, 5)\n",
    "df_pivot.plot(kind='pie', autopct='%.0f %%', cmap = 'Paired')\n",
    "plt.title(\"Schulter\")"
   ]
  },
  {
   "cell_type": "markdown",
   "metadata": {},
   "source": [
    "## Bodenformen"
   ]
  },
  {
   "cell_type": "code",
   "execution_count": 452,
   "metadata": {},
   "outputs": [
    {
     "data": {
      "text/html": [
       "<div>\n",
       "<table border=\"1\" class=\"dataframe\">\n",
       "  <thead>\n",
       "    <tr style=\"text-align: right;\">\n",
       "      <th></th>\n",
       "      <th>objID</th>\n",
       "      <th>Prozent</th>\n",
       "    </tr>\n",
       "    <tr>\n",
       "      <th>Form_Boden</th>\n",
       "      <th></th>\n",
       "      <th></th>\n",
       "    </tr>\n",
       "  </thead>\n",
       "  <tbody>\n",
       "    <tr>\n",
       "      <th>B1</th>\n",
       "      <td>5</td>\n",
       "      <td>83.333333</td>\n",
       "    </tr>\n",
       "    <tr>\n",
       "      <th>B6</th>\n",
       "      <td>1</td>\n",
       "      <td>16.666667</td>\n",
       "    </tr>\n",
       "  </tbody>\n",
       "</table>\n",
       "</div>"
      ],
      "text/plain": [
       "            objID    Prozent\n",
       "Form_Boden                  \n",
       "B1              5  83.333333\n",
       "B6              1  16.666667"
      ]
     },
     "execution_count": 452,
     "metadata": {},
     "output_type": "execute_result"
    }
   ],
   "source": [
    "sql = \"\"\"SELECT\n",
    "           t_Ort.ort_kurz,\n",
    "           t_Ort.ort_name,\n",
    "           t_Obj.objID,\n",
    "           t_Obj.Typ,\n",
    "           t_Obj.Form_Gef,\n",
    "           t_Obj.Form_Boden\n",
    "       FROM (t_Ort INNER JOIN t_Komplex ON t_Ort.ortID = t_Komplex.ortID)\n",
    "           INNER JOIN t_Obj ON t_Komplex.komplexID = t_Obj.komplexID\n",
    "       WHERE (((t_Ort.ort_lit)='DS')\n",
    "           AND ((t_Obj.Typ) Like '%\"\"\"+style+\"\"\"%')\n",
    "           AND ((t_Obj.Anzahl) = 1)\n",
    "           AND ((t_Obj.Form_Boden) != ''))\"\"\".replace('\\n',' ')\n",
    "\n",
    "df = pd.read_sql(sql, con)\n",
    "df_pivot = df.pivot_table(values = 'objID', index = 'Form_Boden', aggfunc = len)\n",
    "df_pivot = pd.DataFrame(df_pivot)\n",
    "df_pivot['Prozent'] = df_pivot['objID']/df_pivot['objID'].sum()*100\n",
    "df_pivot"
   ]
  },
  {
   "cell_type": "code",
   "execution_count": 453,
   "metadata": {},
   "outputs": [
    {
     "data": {
      "text/plain": [
       "6"
      ]
     },
     "execution_count": 453,
     "metadata": {},
     "output_type": "execute_result"
    }
   ],
   "source": [
    "len(df['Form_Boden'])"
   ]
  },
  {
   "cell_type": "code",
   "execution_count": 454,
   "metadata": {},
   "outputs": [
    {
     "data": {
      "text/html": [
       "<div>\n",
       "<table border=\"1\" class=\"dataframe\">\n",
       "  <thead>\n",
       "    <tr style=\"text-align: right;\">\n",
       "      <th></th>\n",
       "      <th>ort_kurz</th>\n",
       "      <th>ort_name</th>\n",
       "      <th>objID</th>\n",
       "      <th>Typ</th>\n",
       "      <th>Form_Gef</th>\n",
       "      <th>Form_Boden</th>\n",
       "    </tr>\n",
       "  </thead>\n",
       "  <tbody>\n",
       "    <tr>\n",
       "      <th>0</th>\n",
       "      <td>MBN</td>\n",
       "      <td>Mbati-Ngombe</td>\n",
       "      <td>240</td>\n",
       "      <td>MBN</td>\n",
       "      <td>H1</td>\n",
       "      <td>B1</td>\n",
       "    </tr>\n",
       "    <tr>\n",
       "      <th>1</th>\n",
       "      <td>ILW</td>\n",
       "      <td>Ilawa</td>\n",
       "      <td>1482</td>\n",
       "      <td>MBN</td>\n",
       "      <td>I3</td>\n",
       "      <td>B1</td>\n",
       "    </tr>\n",
       "    <tr>\n",
       "      <th>2</th>\n",
       "      <td>ILW</td>\n",
       "      <td>Ilawa</td>\n",
       "      <td>1483</td>\n",
       "      <td>MBN</td>\n",
       "      <td>H2</td>\n",
       "      <td>B1</td>\n",
       "    </tr>\n",
       "    <tr>\n",
       "      <th>3</th>\n",
       "      <td>MBN</td>\n",
       "      <td>Mbati-Ngombe</td>\n",
       "      <td>1497</td>\n",
       "      <td>MBN</td>\n",
       "      <td>A2</td>\n",
       "      <td>B6</td>\n",
       "    </tr>\n",
       "    <tr>\n",
       "      <th>4</th>\n",
       "      <td>MBN</td>\n",
       "      <td>Mbati-Ngombe</td>\n",
       "      <td>1499</td>\n",
       "      <td>MBN</td>\n",
       "      <td>E2</td>\n",
       "      <td>B1</td>\n",
       "    </tr>\n",
       "    <tr>\n",
       "      <th>5</th>\n",
       "      <td>MBN</td>\n",
       "      <td>Mbati-Ngombe</td>\n",
       "      <td>5289</td>\n",
       "      <td>MBN</td>\n",
       "      <td>H1</td>\n",
       "      <td>B1</td>\n",
       "    </tr>\n",
       "  </tbody>\n",
       "</table>\n",
       "</div>"
      ],
      "text/plain": [
       "  ort_kurz      ort_name  objID  Typ Form_Gef Form_Boden\n",
       "0      MBN  Mbati-Ngombe    240  MBN       H1         B1\n",
       "1      ILW         Ilawa   1482  MBN       I3         B1\n",
       "2      ILW         Ilawa   1483  MBN       H2         B1\n",
       "3      MBN  Mbati-Ngombe   1497  MBN       A2         B6\n",
       "4      MBN  Mbati-Ngombe   1499  MBN       E2         B1\n",
       "5      MBN  Mbati-Ngombe   5289  MBN       H1         B1"
      ]
     },
     "execution_count": 454,
     "metadata": {},
     "output_type": "execute_result"
    }
   ],
   "source": [
    "df"
   ]
  },
  {
   "cell_type": "markdown",
   "metadata": {},
   "source": [
    "## Verzierungselemente"
   ]
  },
  {
   "cell_type": "code",
   "execution_count": 4,
   "metadata": {},
   "outputs": [
    {
     "name": "stderr",
     "output_type": "stream",
     "text": [
      "C:\\Users\\Dirk\\Dropbox\\Dissertation\\Python\\myfunctions.py:66: SettingWithCopyWarning: \n",
      "A value is trying to be set on a copy of a slice from a DataFrame.\n",
      "Try using .loc[row_indexer,col_indexer] = value instead\n",
      "\n",
      "See the caveats in the documentation: http://pandas.pydata.org/pandas-docs/stable/indexing.html#indexing-view-versus-copy\n",
      "  df1['n'] = 1\n",
      "C:\\Users\\Dirk\\Dropbox\\Dissertation\\Python\\myfunctions.py:88: FutureWarning: convert_objects is deprecated.  Use the data-type specific converters pd.to_datetime, pd.to_timedelta and pd.to_numeric.\n",
      "  ab[1] = ab[1].convert_objects(convert_numeric=True)\n"
     ]
    }
   ],
   "source": [
    "(df_pivotBig_perc, df_pivotBig_perc_a, new_cmap) = decoration_positon_matrices_print(style)"
   ]
  },
  {
   "cell_type": "code",
   "execution_count": 5,
   "metadata": {},
   "outputs": [
    {
     "data": {
      "image/png": "[encoded data removed]",
      "text/plain": [
       "<matplotlib.figure.Figure at 0x1c658b9b470>"
      ]
     },
     "metadata": {},
     "output_type": "display_data"
    }
   ],
   "source": [
    "fig = plt.figure()\n",
    "fig.set_size_inches(25, 15)\n",
    "\n",
    "ax = plt.gca()\n",
    "im = ax.imshow(df_pivotBig_perc, interpolation='nearest', cmap=parula_map, alpha=.66)\n",
    "\n",
    "plt.xlabel('Verzierungselemente (Schlüssel)')\n",
    "plt.yticks(range(len(df_pivotBig_perc.index)), df_pivotBig_perc.index.str[2:])\n",
    "plt.xticks(range(len(df_pivotBig_perc.columns)), df_pivotBig_perc.columns, rotation = -45)\n",
    "\n",
    "for (i, j), z in np.ndenumerate(df_pivotBig_perc_a):\n",
    "    plt.text(j, i, z, ha='center', va='center')\n",
    "    \n",
    "plt.axvline(10.5, color='grey', linestyle = '--')\n",
    "plt.axvline(17.5, color='grey', linestyle = '--')\n",
    "plt.axvline(18.5, color='grey', linestyle = '--')\n",
    "plt.axvline(20.5, color='grey', linestyle = '--')\n",
    "plt.axvline(43.5, color='grey', linestyle = '--')\n",
    "plt.axvline(44.5, color='grey', linestyle = '--')\n",
    "plt.axvline(57.5, color='grey', linestyle = '--')\n",
    "plt.axvline(61.5, color='grey', linestyle = '--')\n",
    "plt.axvline(70.5, color='grey', linestyle = '--')\n",
    "\n",
    "divider = make_axes_locatable(ax)\n",
    "cax = divider.append_axes(\"right\", size=\"1%\", pad=0.2)\n",
    "cbar = plt.colorbar(im, cax=cax)\n",
    "cbar.set_label('Anteil (%)', rotation = -90, labelpad = 15)\n",
    "\n",
    "plt.tight_layout()\n",
    "\n",
    "plt.savefig('../output/figs/3-1-1-11_MBN_VerzierungselmenteAlle.pdf', bbox_inches='tight')\n",
    "plt.show()"
   ]
  },
  {
   "cell_type": "code",
   "execution_count": 455,
   "metadata": {
    "collapsed": true
   },
   "outputs": [],
   "source": [
    "sql = \"\"\"SELECT\n",
    "           t_Obj.objID,\n",
    "           t_K_Pos.posID,\n",
    "           t_K_Verz.verzID,\n",
    "           [t_K_Pos].[posReihe] || ' ' || [posName] AS pos,\n",
    "           t_K_Verz.verzName,\n",
    "           t_K_Verz.verzName_alt,\n",
    "           t_K_Verz.verzBeschr,\n",
    "           t_Obj.Typ,\n",
    "           t_Obj.Form_Gef\n",
    "       FROM t_Obj INNER JOIN \"t_ObjPosVerz\" ON t_Obj.objID = \"t_ObjPosVerz\".objID\n",
    "           INNER JOIN t_K_Pos ON \"t_ObjPosVerz\".posID = t_K_Pos.posID\n",
    "           INNER JOIN t_K_Verz ON \"t_ObjPosVerz\".verzID = t_K_Verz.verzID\n",
    "       WHERE (((t_K_Pos.posID)<>1)\n",
    "           AND ((t_K_Verz.verzName) != '')\n",
    "           AND ((t_Obj.Typ) Like '%\"\"\"+style+\"\"\"%'))\"\"\".replace('\\n',' ')\n",
    "\n",
    "df = pd.read_sql(sql, con)\n",
    "# display(df.head())"
   ]
  },
  {
   "cell_type": "code",
   "execution_count": 456,
   "metadata": {
    "collapsed": true
   },
   "outputs": [],
   "source": [
    "df_pivot = df.pivot_table(values = 'objID', index = 'pos', columns = 'verzName', aggfunc = len)\n",
    "df_pivot = df_pivot.fillna(0)\n",
    "# Sortierung für graphische Darstellung umdrehen\n",
    "df_pivot = df_pivot.sort_index(ascending=True)\n",
    "# heatmap siehe http://yonatanfriedman.com/docs/survey/plotting.html"
   ]
  },
  {
   "cell_type": "code",
   "execution_count": 457,
   "metadata": {},
   "outputs": [
    {
     "data": {
      "image/png": "[encoded data removed]",
      "text/plain": [
       "<matplotlib.figure.Figure at 0x1f6e74fe978>"
      ]
     },
     "metadata": {},
     "output_type": "display_data"
    }
   ],
   "source": [
    "fig = plt.figure()\n",
    "fig.set_size_inches(10, 7.5)\n",
    "plt.imshow(df_pivot, interpolation='nearest', cmap='Greys', alpha = .5)\n",
    "plt.ylabel('Gefäßposition')\n",
    "plt.xlabel('Verzierungselemente')\n",
    "plt.yticks(range(len(df_pivot.index)), df_pivot.index)\n",
    "plt.xticks(range(len(df_pivot.columns)), df_pivot.columns, rotation='vertical')\n",
    "# plt.colorbar(orientation='horizontal')\n",
    "for (i, j), z in np.ndenumerate(df_pivot):\n",
    "    plt.text(j, i, '{:0.0f}'.format(z), ha='center', va='center')\n",
    "plt.tight_layout()\n",
    "plt.show()"
   ]
  },
  {
   "cell_type": "code",
   "execution_count": 458,
   "metadata": {},
   "outputs": [
    {
     "name": "stderr",
     "output_type": "stream",
     "text": [
      "C:\\Users\\Dirk\\Anaconda3\\lib\\site-packages\\ipykernel\\__main__.py:4: FutureWarning: by argument to sort_index is deprecated, pls use .sort_values(by=...)\n"
     ]
    }
   ],
   "source": [
    "df_pivot = df.pivot_table(values = 'objID', index = 'verzName', aggfunc = len)\n",
    "df_pivot = pd.DataFrame(df_pivot)\n",
    "# Sortierung in Aufsteigend ändern\n",
    "df_pivot = df_pivot.sort_index(by = ['objID'], ascending = True)"
   ]
  },
  {
   "cell_type": "code",
   "execution_count": 459,
   "metadata": {},
   "outputs": [
    {
     "data": {
      "text/plain": [
       "<matplotlib.text.Text at 0x1f6e50194e0>"
      ]
     },
     "execution_count": 459,
     "metadata": {},
     "output_type": "execute_result"
    },
    {
     "data": {
      "image/png": "[encoded data removed]",
      "text/plain": [
       "<matplotlib.figure.Figure at 0x1f6e5559860>"
      ]
     },
     "metadata": {},
     "output_type": "display_data"
    }
   ],
   "source": [
    "fig = plt.figure()\n",
    "fig.set_size_inches(5, 5)\n",
    "df_pivot['objID'].plot(kind='pie', autopct='%.0f %%', cmap = 'Paired' )\n",
    "plt.ylabel('')"
   ]
  },
  {
   "cell_type": "code",
   "execution_count": 460,
   "metadata": {},
   "outputs": [
    {
     "data": {
      "text/html": [
       "<div>\n",
       "<table border=\"1\" class=\"dataframe\">\n",
       "  <thead>\n",
       "    <tr style=\"text-align: right;\">\n",
       "      <th></th>\n",
       "      <th>0</th>\n",
       "      <th>Prozent</th>\n",
       "    </tr>\n",
       "  </thead>\n",
       "  <tbody>\n",
       "    <tr>\n",
       "      <th>Roulette-Verzierung</th>\n",
       "      <td>25</td>\n",
       "      <td>37.878788</td>\n",
       "    </tr>\n",
       "    <tr>\n",
       "      <th>Weitere Verzierungen</th>\n",
       "      <td>41</td>\n",
       "      <td>62.121212</td>\n",
       "    </tr>\n",
       "  </tbody>\n",
       "</table>\n",
       "</div>"
      ],
      "text/plain": [
       "                       0    Prozent\n",
       "Roulette-Verzierung   25  37.878788\n",
       "Weitere Verzierungen  41  62.121212"
      ]
     },
     "execution_count": 460,
     "metadata": {},
     "output_type": "execute_result"
    }
   ],
   "source": [
    "a = pd.Series({'Roulette-Verzierung':len(df.loc[df['verzName'].str.contains(\"21.\")].index),\n",
    "               'Weitere Verzierungen':len(df.loc[~df['verzName'].str.contains(\"21.\")].index)})\n",
    "a = pd.DataFrame(a)\n",
    "a['Prozent'] = a[0]/a[0].sum()*100\n",
    "a"
   ]
  },
  {
   "cell_type": "code",
   "execution_count": 461,
   "metadata": {},
   "outputs": [
    {
     "data": {
      "text/html": [
       "<div>\n",
       "<table border=\"1\" class=\"dataframe\">\n",
       "  <thead>\n",
       "    <tr style=\"text-align: right;\">\n",
       "      <th></th>\n",
       "      <th>0</th>\n",
       "      <th>Prozent</th>\n",
       "    </tr>\n",
       "  </thead>\n",
       "  <tbody>\n",
       "    <tr>\n",
       "      <th>Schnitz-Roulette</th>\n",
       "      <td>0</td>\n",
       "      <td>0.0</td>\n",
       "    </tr>\n",
       "    <tr>\n",
       "      <th>vegetabilisches Roulette</th>\n",
       "      <td>25</td>\n",
       "      <td>100.0</td>\n",
       "    </tr>\n",
       "  </tbody>\n",
       "</table>\n",
       "</div>"
      ],
      "text/plain": [
       "                           0  Prozent\n",
       "Schnitz-Roulette           0      0.0\n",
       "vegetabilisches Roulette  25    100.0"
      ]
     },
     "execution_count": 461,
     "metadata": {},
     "output_type": "execute_result"
    }
   ],
   "source": [
    "# nur Roulette-Verzierungen herausfiltern\n",
    "b = df.loc[df['verzName'].str.contains(\"21.\")]\n",
    "\n",
    "c = pd.Series({'vegetabilisches Roulette':len(b.loc[df['verzName_alt'].str.contains(\"V08a\")].index),\n",
    "               'Schnitz-Roulette':len(b.loc[~df['verzName_alt'].str.contains(\"V08a\")].index)})\n",
    "c = pd.DataFrame(c)\n",
    "c['Prozent'] = c[0]/c[0].sum()*100\n",
    "c"
   ]
  },
  {
   "cell_type": "code",
   "execution_count": 402,
   "metadata": {},
   "outputs": [
    {
     "data": {
      "text/plain": [
       "verzName\n",
       "21.1    18\n",
       "21.2     6\n",
       "21.3     1\n",
       "Name: objID, dtype: int64"
      ]
     },
     "execution_count": 402,
     "metadata": {},
     "output_type": "execute_result"
    }
   ],
   "source": [
    "b.loc[df['verzName_alt'].str.contains(\"V08a\")].pivot_table(values = 'objID', index = 'verzName', aggfunc = len)"
   ]
  },
  {
   "cell_type": "code",
   "execution_count": 403,
   "metadata": {},
   "outputs": [
    {
     "data": {
      "text/html": [
       "<div>\n",
       "<table border=\"1\" class=\"dataframe\">\n",
       "  <thead>\n",
       "    <tr style=\"text-align: right;\">\n",
       "      <th></th>\n",
       "      <th>objID</th>\n",
       "    </tr>\n",
       "    <tr>\n",
       "      <th>verzName</th>\n",
       "      <th></th>\n",
       "    </tr>\n",
       "  </thead>\n",
       "  <tbody>\n",
       "  </tbody>\n",
       "</table>\n",
       "</div>"
      ],
      "text/plain": [
       "Empty DataFrame\n",
       "Columns: [objID]\n",
       "Index: []"
      ]
     },
     "execution_count": 403,
     "metadata": {},
     "output_type": "execute_result"
    }
   ],
   "source": [
    "b.loc[~df['verzName_alt'].str.contains(\"V08a\")].pivot_table(values = 'objID', index = 'verzName', aggfunc = len)"
   ]
  },
  {
   "cell_type": "code",
   "execution_count": 404,
   "metadata": {},
   "outputs": [
    {
     "data": {
      "text/plain": [
       "0"
      ]
     },
     "execution_count": 404,
     "metadata": {},
     "output_type": "execute_result"
    }
   ],
   "source": [
    "len(b.loc[~df['verzName_alt'].str.contains(\"V08a\")].pivot_table(values = 'objID', index = 'verzName', aggfunc = len))"
   ]
  },
  {
   "cell_type": "markdown",
   "metadata": {
    "collapsed": true
   },
   "source": [
    "## Verbreitung"
   ]
  },
  {
   "cell_type": "code",
   "execution_count": 405,
   "metadata": {},
   "outputs": [
    {
     "data": {
      "text/html": [
       "<div>\n",
       "<table border=\"1\" class=\"dataframe\">\n",
       "  <thead>\n",
       "    <tr style=\"text-align: right;\">\n",
       "      <th>Typ</th>\n",
       "      <th>Ort</th>\n",
       "      <th>Kat-Nr</th>\n",
       "      <th>X</th>\n",
       "      <th>Y</th>\n",
       "      <th>TYP</th>\n",
       "    </tr>\n",
       "  </thead>\n",
       "  <tbody>\n",
       "    <tr>\n",
       "      <th>2</th>\n",
       "      <td>Ebeka (Fpl. 197)</td>\n",
       "      <td>197</td>\n",
       "      <td>18.031148</td>\n",
       "      <td>1.429335</td>\n",
       "      <td>MBN (?)</td>\n",
       "    </tr>\n",
       "    <tr>\n",
       "      <th>3</th>\n",
       "      <td>Imese (Fpl. 201)</td>\n",
       "      <td>201</td>\n",
       "      <td>18.105096</td>\n",
       "      <td>2.116407</td>\n",
       "      <td>MBN</td>\n",
       "    </tr>\n",
       "    <tr>\n",
       "      <th>1</th>\n",
       "      <td>Dongo (Fpl. 202)</td>\n",
       "      <td>202</td>\n",
       "      <td>18.404747</td>\n",
       "      <td>2.721870</td>\n",
       "      <td>MBN</td>\n",
       "    </tr>\n",
       "    <tr>\n",
       "      <th>8</th>\n",
       "      <td>Mbati-Ngombe (Fpl. 204)</td>\n",
       "      <td>204</td>\n",
       "      <td>18.495671</td>\n",
       "      <td>2.888154</td>\n",
       "      <td>MBN</td>\n",
       "    </tr>\n",
       "    <tr>\n",
       "      <th>7</th>\n",
       "      <td>Maoko (Fpl. 207)</td>\n",
       "      <td>207</td>\n",
       "      <td>18.642191</td>\n",
       "      <td>3.407332</td>\n",
       "      <td>MBN</td>\n",
       "    </tr>\n",
       "    <tr>\n",
       "      <th>5</th>\n",
       "      <td>Libenge (Fpl. 208)</td>\n",
       "      <td>208</td>\n",
       "      <td>18.632694</td>\n",
       "      <td>3.648189</td>\n",
       "      <td>MBN</td>\n",
       "    </tr>\n",
       "    <tr>\n",
       "      <th>0</th>\n",
       "      <td>Batanga (Fpl. 209)</td>\n",
       "      <td>209</td>\n",
       "      <td>18.594438</td>\n",
       "      <td>3.710706</td>\n",
       "      <td>MBN</td>\n",
       "    </tr>\n",
       "    <tr>\n",
       "      <th>4</th>\n",
       "      <td>Kpetene (Fpl. 220)</td>\n",
       "      <td>220</td>\n",
       "      <td>19.071738</td>\n",
       "      <td>4.899383</td>\n",
       "      <td>MBN</td>\n",
       "    </tr>\n",
       "    <tr>\n",
       "      <th>6</th>\n",
       "      <td>Maluba (Fpl. 230)</td>\n",
       "      <td>230</td>\n",
       "      <td>18.523706</td>\n",
       "      <td>2.806193</td>\n",
       "      <td>MBN</td>\n",
       "    </tr>\n",
       "    <tr>\n",
       "      <th>2</th>\n",
       "      <td>Ilawa (Fpl. 232)</td>\n",
       "      <td>232</td>\n",
       "      <td>18.690466</td>\n",
       "      <td>3.004896</td>\n",
       "      <td>MBN</td>\n",
       "    </tr>\n",
       "  </tbody>\n",
       "</table>\n",
       "</div>"
      ],
      "text/plain": [
       "Typ                      Ort Kat-Nr          X         Y      TYP\n",
       "2           Ebeka (Fpl. 197)    197  18.031148  1.429335  MBN (?)\n",
       "3           Imese (Fpl. 201)    201  18.105096  2.116407      MBN\n",
       "1           Dongo (Fpl. 202)    202  18.404747  2.721870      MBN\n",
       "8    Mbati-Ngombe (Fpl. 204)    204  18.495671  2.888154      MBN\n",
       "7           Maoko (Fpl. 207)    207  18.642191  3.407332      MBN\n",
       "5         Libenge (Fpl. 208)    208  18.632694  3.648189      MBN\n",
       "0         Batanga (Fpl. 209)    209  18.594438  3.710706      MBN\n",
       "4         Kpetene (Fpl. 220)    220  19.071738  4.899383      MBN\n",
       "6          Maluba (Fpl. 230)    230  18.523706  2.806193      MBN\n",
       "2           Ilawa (Fpl. 232)    232  18.690466  3.004896      MBN"
      ]
     },
     "execution_count": 405,
     "metadata": {},
     "output_type": "execute_result"
    }
   ],
   "source": [
    "df = style_mapping_gis_export(style)\n",
    "df.sort_values(['Kat-Nr'])"
   ]
  },
  {
   "cell_type": "code",
   "execution_count": 406,
   "metadata": {
    "collapsed": true
   },
   "outputs": [],
   "source": [
    "df.to_csv(\"../data/processed/3-1-1-11_MBN_Verbreitung.csv\", index = False)"
   ]
  },
  {
   "cell_type": "markdown",
   "metadata": {
    "collapsed": true
   },
   "source": [
    "## Tafeln"
   ]
  },
  {
   "cell_type": "code",
   "execution_count": 407,
   "metadata": {},
   "outputs": [
    {
     "data": {
      "text/html": [
       "<div>\n",
       "<table border=\"1\" class=\"dataframe\">\n",
       "  <thead>\n",
       "    <tr style=\"text-align: right;\">\n",
       "      <th></th>\n",
       "      <th>TAF</th>\n",
       "      <th>OBJ</th>\n",
       "      <th>SITE</th>\n",
       "      <th>FEAT</th>\n",
       "      <th>NOTE</th>\n",
       "      <th>IND</th>\n",
       "      <th>Typ</th>\n",
       "      <th>Form_Gef</th>\n",
       "      <th>Form_Rand</th>\n",
       "      <th>Form_Boden</th>\n",
       "    </tr>\n",
       "  </thead>\n",
       "  <tbody>\n",
       "    <tr>\n",
       "      <th>0</th>\n",
       "      <td>8</td>\n",
       "      <td>9</td>\n",
       "      <td>DON</td>\n",
       "      <td>85/101</td>\n",
       "      <td>NaN</td>\n",
       "      <td>23</td>\n",
       "      <td>MBN</td>\n",
       "      <td>H2 (?)</td>\n",
       "      <td>A2.5 (?)</td>\n",
       "      <td>None</td>\n",
       "    </tr>\n",
       "    <tr>\n",
       "      <th>1</th>\n",
       "      <td>10</td>\n",
       "      <td>8</td>\n",
       "      <td>MBN</td>\n",
       "      <td>85/101</td>\n",
       "      <td>NaN</td>\n",
       "      <td>30</td>\n",
       "      <td>MBN</td>\n",
       "      <td>F7 (?)</td>\n",
       "      <td>C1</td>\n",
       "      <td>None</td>\n",
       "    </tr>\n",
       "    <tr>\n",
       "      <th>2</th>\n",
       "      <td>10</td>\n",
       "      <td>9</td>\n",
       "      <td>MBN</td>\n",
       "      <td>85/501</td>\n",
       "      <td>NaN</td>\n",
       "      <td>1</td>\n",
       "      <td>MBN</td>\n",
       "      <td>H1</td>\n",
       "      <td>C3</td>\n",
       "      <td>B1</td>\n",
       "    </tr>\n",
       "    <tr>\n",
       "      <th>3</th>\n",
       "      <td>10</td>\n",
       "      <td>10</td>\n",
       "      <td>MBN</td>\n",
       "      <td>85/501</td>\n",
       "      <td>NaN</td>\n",
       "      <td>2</td>\n",
       "      <td>MBN</td>\n",
       "      <td>E2</td>\n",
       "      <td>B1</td>\n",
       "      <td>B1</td>\n",
       "    </tr>\n",
       "    <tr>\n",
       "      <th>4</th>\n",
       "      <td>10</td>\n",
       "      <td>11</td>\n",
       "      <td>MBN</td>\n",
       "      <td>85/501</td>\n",
       "      <td>NaN</td>\n",
       "      <td>3</td>\n",
       "      <td>MBN</td>\n",
       "      <td>H1</td>\n",
       "      <td>C3/A3</td>\n",
       "      <td>B1</td>\n",
       "    </tr>\n",
       "    <tr>\n",
       "      <th>5</th>\n",
       "      <td>10</td>\n",
       "      <td>12</td>\n",
       "      <td>MBN</td>\n",
       "      <td>85/502</td>\n",
       "      <td>NaN</td>\n",
       "      <td>NaN</td>\n",
       "      <td>MBN</td>\n",
       "      <td>A2</td>\n",
       "      <td>B2/A1</td>\n",
       "      <td>B6</td>\n",
       "    </tr>\n",
       "    <tr>\n",
       "      <th>6</th>\n",
       "      <td>27</td>\n",
       "      <td>10</td>\n",
       "      <td>MLB</td>\n",
       "      <td>85/103</td>\n",
       "      <td>NaN</td>\n",
       "      <td>11</td>\n",
       "      <td>MBN</td>\n",
       "      <td>E1 (?)</td>\n",
       "      <td>C3</td>\n",
       "      <td>None</td>\n",
       "    </tr>\n",
       "    <tr>\n",
       "      <th>7</th>\n",
       "      <td>27</td>\n",
       "      <td>11</td>\n",
       "      <td>MLB</td>\n",
       "      <td>85/103</td>\n",
       "      <td>NaN</td>\n",
       "      <td>1</td>\n",
       "      <td>MBN</td>\n",
       "      <td>H2 (?)</td>\n",
       "      <td>C3</td>\n",
       "      <td>None</td>\n",
       "    </tr>\n",
       "    <tr>\n",
       "      <th>8</th>\n",
       "      <td>27</td>\n",
       "      <td>15</td>\n",
       "      <td>ILW</td>\n",
       "      <td>85/501</td>\n",
       "      <td>NaN</td>\n",
       "      <td>2</td>\n",
       "      <td>MBN</td>\n",
       "      <td>H2</td>\n",
       "      <td>C3</td>\n",
       "      <td>B1</td>\n",
       "    </tr>\n",
       "    <tr>\n",
       "      <th>9</th>\n",
       "      <td>27</td>\n",
       "      <td>16</td>\n",
       "      <td>ILW</td>\n",
       "      <td>85/501</td>\n",
       "      <td>NaN</td>\n",
       "      <td>1</td>\n",
       "      <td>MBN</td>\n",
       "      <td>I3</td>\n",
       "      <td>A4.5</td>\n",
       "      <td>B1</td>\n",
       "    </tr>\n",
       "  </tbody>\n",
       "</table>\n",
       "</div>"
      ],
      "text/plain": [
       "   TAF  OBJ SITE    FEAT NOTE  IND  Typ Form_Gef Form_Rand Form_Boden\n",
       "0    8    9  DON  85/101  NaN   23  MBN   H2 (?)  A2.5 (?)       None\n",
       "1   10    8  MBN  85/101  NaN   30  MBN   F7 (?)        C1       None\n",
       "2   10    9  MBN  85/501  NaN    1  MBN       H1        C3         B1\n",
       "3   10   10  MBN  85/501  NaN    2  MBN       E2        B1         B1\n",
       "4   10   11  MBN  85/501  NaN    3  MBN       H1     C3/A3         B1\n",
       "5   10   12  MBN  85/502  NaN  NaN  MBN       A2     B2/A1         B6\n",
       "6   27   10  MLB  85/103  NaN   11  MBN   E1 (?)        C3       None\n",
       "7   27   11  MLB  85/103  NaN    1  MBN   H2 (?)        C3       None\n",
       "8   27   15  ILW  85/501  NaN    2  MBN       H2        C3         B1\n",
       "9   27   16  ILW  85/501  NaN    1  MBN       I3      A4.5         B1"
      ]
     },
     "execution_count": 407,
     "metadata": {},
     "output_type": "execute_result"
    }
   ],
   "source": [
    "sql = \"\"\"SELECT\n",
    "           t_Ort.ort_kurz AS SITE,\n",
    "           t_Komplex.bef_nr AS FEAT,\n",
    "           t_Obj.Individuum AS IND,\n",
    "           t_Obj.Typ,\n",
    "           t_Obj.Form_Gef,\n",
    "           t_Obj.Form_Rand,\n",
    "           t_Obj.Form_Boden\n",
    "       FROM (t_Ort INNER JOIN t_Komplex ON t_Ort.ortID = t_Komplex.ortID)\n",
    "           INNER JOIN t_Obj ON t_Komplex.komplexID = t_Obj.komplexID\n",
    "       WHERE (((t_Ort.ort_lit) = 'DS')\n",
    "           AND ((t_Obj.Typ) Like '%\"\"\"+style+\"\"\"%'))\"\"\".replace('\\n',' ')\n",
    "\n",
    "df = pd.read_sql(sql, con)\n",
    "\n",
    "pl = pd.read_csv('../plates/plates.csv')\n",
    "\n",
    "df_merge = pd.merge(pl, df, on=['SITE', 'FEAT', 'IND'], how='inner')\n",
    "df_merge"
   ]
  },
  {
   "cell_type": "code",
   "execution_count": null,
   "metadata": {
    "collapsed": true
   },
   "outputs": [],
   "source": []
  }
 ],
 "metadata": {
  "anaconda-cloud": {},
  "kernelspec": {
   "display_name": "Python 3",
   "language": "python",
   "name": "python3"
  },
  "language_info": {
   "codemirror_mode": {
    "name": "ipython",
    "version": 3
   },
   "file_extension": ".py",
   "mimetype": "text/x-python",
   "name": "python",
   "nbconvert_exporter": "python",
   "pygments_lexer": "ipython3",
   "version": "3.6.1"
  }
 },
 "nbformat": 4,
 "nbformat_minor": 1
}
