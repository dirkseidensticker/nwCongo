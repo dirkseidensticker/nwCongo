{
 "cells": [
  {
   "cell_type": "markdown",
   "metadata": {},
   "source": [
    "# PeriodO\n",
    "\n",
    "http://perio.do/"
   ]
  },
  {
   "cell_type": "code",
   "execution_count": 1,
   "metadata": {
    "collapsed": true
   },
   "outputs": [],
   "source": [
    "%matplotlib inline\n",
    "from IPython.display import display\n",
    "import pandas as pd\n",
    "import numpy as np\n",
    "import matplotlib.pyplot as plt\n",
    "import json"
   ]
  },
  {
   "cell_type": "code",
   "execution_count": 2,
   "metadata": {
    "collapsed": true
   },
   "outputs": [],
   "source": [
    "df = pd.read_csv(\"../001_ToDo/chronology.csv\")"
   ]
  },
  {
   "cell_type": "code",
   "execution_count": 3,
   "metadata": {
    "collapsed": false,
    "scrolled": false
   },
   "outputs": [
    {
     "data": {
      "text/html": [
       "<div>\n",
       "<table border=\"1\" class=\"dataframe\">\n",
       "  <thead>\n",
       "    <tr style=\"text-align: right;\">\n",
       "      <th></th>\n",
       "      <th>GROUP</th>\n",
       "      <th>START</th>\n",
       "      <th>STOP</th>\n",
       "      <th>SOURCE</th>\n",
       "      <th>REGION</th>\n",
       "      <th>COUNTRY</th>\n",
       "      <th>PROVINCE</th>\n",
       "    </tr>\n",
       "  </thead>\n",
       "  <tbody>\n",
       "    <tr>\n",
       "      <th>0</th>\n",
       "      <td>Imbonga</td>\n",
       "      <td>-400</td>\n",
       "      <td>-100</td>\n",
       "      <td>Wotzka 1995: 67</td>\n",
       "      <td>Inner Congo</td>\n",
       "      <td>DRC</td>\n",
       "      <td>Equateur</td>\n",
       "    </tr>\n",
       "    <tr>\n",
       "      <th>1</th>\n",
       "      <td>Ngovo</td>\n",
       "      <td>-420</td>\n",
       "      <td>130</td>\n",
       "      <td>de Maret 2016: unpubl</td>\n",
       "      <td>Lower Congo</td>\n",
       "      <td>DRC</td>\n",
       "      <td>Lower Congo</td>\n",
       "    </tr>\n",
       "    <tr>\n",
       "      <th>2</th>\n",
       "      <td>Kay Ladio</td>\n",
       "      <td>30</td>\n",
       "      <td>475</td>\n",
       "      <td>de Maret 2016: unpubl</td>\n",
       "      <td>Lower Congo</td>\n",
       "      <td>DRC</td>\n",
       "      <td>Lower Congo</td>\n",
       "    </tr>\n",
       "    <tr>\n",
       "      <th>3</th>\n",
       "      <td>Gombe</td>\n",
       "      <td>205</td>\n",
       "      <td>450</td>\n",
       "      <td>de Maret 2016: unpubl</td>\n",
       "      <td>Lower Congo</td>\n",
       "      <td>DRC</td>\n",
       "      <td>Lower Congo</td>\n",
       "    </tr>\n",
       "    <tr>\n",
       "      <th>4</th>\n",
       "      <td>Kitala</td>\n",
       "      <td>250</td>\n",
       "      <td>524</td>\n",
       "      <td>de Maret 2016: unpubl</td>\n",
       "      <td>Lower Congo</td>\n",
       "      <td>DRC</td>\n",
       "      <td>Lower Congo</td>\n",
       "    </tr>\n",
       "  </tbody>\n",
       "</table>\n",
       "</div>"
      ],
      "text/plain": [
       "       GROUP  START  STOP                 SOURCE       REGION COUNTRY  \\\n",
       "0    Imbonga   -400  -100        Wotzka 1995: 67  Inner Congo     DRC   \n",
       "1      Ngovo   -420   130  de Maret 2016: unpubl  Lower Congo     DRC   \n",
       "2  Kay Ladio     30   475  de Maret 2016: unpubl  Lower Congo     DRC   \n",
       "3      Gombe    205   450  de Maret 2016: unpubl  Lower Congo     DRC   \n",
       "4     Kitala    250   524  de Maret 2016: unpubl  Lower Congo     DRC   \n",
       "\n",
       "      PROVINCE  \n",
       "0     Equateur  \n",
       "1  Lower Congo  \n",
       "2  Lower Congo  \n",
       "3  Lower Congo  \n",
       "4  Lower Congo  "
      ]
     },
     "execution_count": 3,
     "metadata": {},
     "output_type": "execute_result"
    }
   ],
   "source": [
    "df.head()"
   ]
  },
  {
   "cell_type": "markdown",
   "metadata": {},
   "source": [
    "## Statistik"
   ]
  },
  {
   "cell_type": "code",
   "execution_count": 4,
   "metadata": {
    "collapsed": false,
    "scrolled": true
   },
   "outputs": [],
   "source": [
    "df['lenght'] = df['STOP'] - df['START']"
   ]
  },
  {
   "cell_type": "code",
   "execution_count": 5,
   "metadata": {
    "collapsed": false
   },
   "outputs": [
    {
     "data": {
      "text/html": [
       "<div>\n",
       "<table border=\"1\" class=\"dataframe\">\n",
       "  <thead>\n",
       "    <tr style=\"text-align: right;\">\n",
       "      <th></th>\n",
       "      <th>GROUP</th>\n",
       "      <th>START</th>\n",
       "      <th>STOP</th>\n",
       "      <th>SOURCE</th>\n",
       "      <th>REGION</th>\n",
       "      <th>COUNTRY</th>\n",
       "      <th>PROVINCE</th>\n",
       "      <th>lenght</th>\n",
       "    </tr>\n",
       "  </thead>\n",
       "  <tbody>\n",
       "    <tr>\n",
       "      <th>0</th>\n",
       "      <td>Imbonga</td>\n",
       "      <td>-400</td>\n",
       "      <td>-100</td>\n",
       "      <td>Wotzka 1995: 67</td>\n",
       "      <td>Inner Congo</td>\n",
       "      <td>DRC</td>\n",
       "      <td>Equateur</td>\n",
       "      <td>300</td>\n",
       "    </tr>\n",
       "  </tbody>\n",
       "</table>\n",
       "</div>"
      ],
      "text/plain": [
       "     GROUP  START  STOP           SOURCE       REGION COUNTRY  PROVINCE  \\\n",
       "0  Imbonga   -400  -100  Wotzka 1995: 67  Inner Congo     DRC  Equateur   \n",
       "\n",
       "   lenght  \n",
       "0     300  "
      ]
     },
     "execution_count": 5,
     "metadata": {},
     "output_type": "execute_result"
    }
   ],
   "source": [
    "df.head(1)"
   ]
  },
  {
   "cell_type": "code",
   "execution_count": 8,
   "metadata": {
    "collapsed": false
   },
   "outputs": [
    {
     "data": {
      "text/plain": [
       "count      9.000000\n",
       "mean     302.444444\n",
       "std      137.664548\n",
       "min      100.000000\n",
       "25%      245.000000\n",
       "50%      300.000000\n",
       "75%      350.000000\n",
       "max      550.000000\n",
       "Name: lenght, dtype: float64"
      ]
     },
     "execution_count": 8,
     "metadata": {},
     "output_type": "execute_result"
    }
   ],
   "source": [
    "df['lenght'].describe()"
   ]
  },
  {
   "cell_type": "markdown",
   "metadata": {},
   "source": [
    "## Plot der Laufzeiten"
   ]
  },
  {
   "cell_type": "code",
   "execution_count": 11,
   "metadata": {
    "collapsed": false
   },
   "outputs": [],
   "source": [
    "df_plot = df.sort_values('START').reset_index()\n",
    "\n",
    "xstart = df_plot['START']\n",
    "xstop = df_plot['STOP']\n",
    "y = df_plot.index"
   ]
  },
  {
   "cell_type": "code",
   "execution_count": 12,
   "metadata": {
    "collapsed": false
   },
   "outputs": [
    {
     "data": {
      "text/plain": [
       "1850"
      ]
     },
     "execution_count": 12,
     "metadata": {},
     "output_type": "execute_result"
    }
   ],
   "source": [
    "xstart.max()"
   ]
  },
  {
   "cell_type": "code",
   "execution_count": 16,
   "metadata": {
    "collapsed": false
   },
   "outputs": [
    {
     "data": {
      "image/png": "[encoded data removed]",
      "text/plain": [
       "<matplotlib.figure.Figure at 0x9777668>"
      ]
     },
     "metadata": {},
     "output_type": "display_data"
    }
   ],
   "source": [
    "# http://stackoverflow.com/questions/7684475/plotting-labeled-intervals-in-matplotlib-gnuplot\n",
    "\n",
    "def period(y, xstart, xstop, color='b'):\n",
    "    \"\"\"Plot timelines at y from xstart to xstop with given color.\"\"\"   \n",
    "    plt.hlines(y, xstart, xstop, color, lw=1)\n",
    "    plt.vlines(xstart, y+0.01, y-0.01, color, lw=2)\n",
    "    plt.vlines(xstop, y+0.01, y-0.01, color, lw=2)\n",
    "\n",
    "period(y, xstart, xstop,)\n",
    "\n",
    "#Setup the plot\n",
    "#fig = plt.figure(1)\n",
    "#fig.set_size_inches(5,10)\n",
    "ax = plt.gca()\n",
    "#plt.xlim(xstart.min()-100000,xstop.max()+100000) \n",
    "#plt.ylim(y.min()-50,y.max()+50) \n",
    "ax.yaxis.set_ticklabels([])\n",
    "plt.show()"
   ]
  },
  {
   "cell_type": "code",
   "execution_count": null,
   "metadata": {
    "collapsed": true
   },
   "outputs": [],
   "source": []
  }
 ],
 "metadata": {
  "anaconda-cloud": {},
  "kernelspec": {
   "display_name": "Python [default]",
   "language": "python",
   "name": "python3"
  },
  "language_info": {
   "codemirror_mode": {
    "name": "ipython",
    "version": 3
   },
   "file_extension": ".py",
   "mimetype": "text/x-python",
   "name": "python",
   "nbconvert_exporter": "python",
   "pygments_lexer": "ipython3",
   "version": "3.4.5"
  }
 },
 "nbformat": 4,
 "nbformat_minor": 1
}
