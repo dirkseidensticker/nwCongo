{
 "cells": [
  {
   "cell_type": "markdown",
   "metadata": {},
   "source": [
    "# Bubulu-Gruppe"
   ]
  },
  {
   "cell_type": "markdown",
   "metadata": {},
   "source": [
    "* [Funde](#Funde)\n",
    "\t* [Scherbentypen](#Scherbentypen)\n",
    "* [Technologische Merkmale (fabrics)](#Technologische-Merkmale-(fabrics))\n",
    "\t* [Brennfarbe](#Brennfarbe)\n",
    "\t* [Oberfläche der Scherben](#Oberfläche-der-Scherben)\n",
    "\t* [Wandungsdicke](#Wandungsdicke)\n",
    "* Formen\n",
    "\t* [Gefäßformen](#Gefäßformen)\n",
    "\t* [Proportionen](#Proportionen)\n",
    "\t* [Bauchform](#Bauchform)\n",
    "\t* [Mündungs- und Randformen](#Mündungs--und-Randformen)\n",
    "\t* [Bodenformen](#Bodenformen)\n",
    "* [Verzierungen](#Verzierungselemente)\n",
    "* [Verbreitung](#Verbreitung)"
   ]
  },
  {
   "cell_type": "code",
   "execution_count": 1,
   "metadata": {
    "collapsed": true
   },
   "outputs": [],
   "source": [
    "%matplotlib inline\n",
    "from IPython.display import display\n",
    "import pandas as pd\n",
    "import numpy as np\n",
    "import matplotlib.pyplot as plt\n",
    "from mpl_toolkits.axes_grid1 import make_axes_locatable\n",
    "import sqlite3\n",
    "\n",
    "import sys, os\n",
    "sys.path.append(\"/Python\")\n",
    "from myfunctions import *\n",
    "from parula import *\n",
    "\n",
    "style = 'BBL'\n",
    "\n",
    "con = sqlite3.connect(\"../data/CongoDB.sqlite\")"
   ]
  },
  {
   "cell_type": "markdown",
   "metadata": {},
   "source": [
    "## Funde"
   ]
  },
  {
   "cell_type": "code",
   "execution_count": 22,
   "metadata": {
    "collapsed": true
   },
   "outputs": [],
   "source": [
    "sql = \"\"\"SELECT\n",
    "           t_Ort.ort_kurz,\n",
    "           't_Ort'.'ort_name' || ' (Fpl. ' || 't_ort'.'Kat-Nr' || ')' AS Ort,\n",
    "           t_komplex.bef_nr,\n",
    "           t_Obj.individuum,\n",
    "           t_komplex.bef_art,\n",
    "           t_Obj.objID,\n",
    "           t_Obj.Typ,\n",
    "           t_Obj.Anzahl\n",
    "       FROM (t_Ort INNER JOIN t_Komplex ON t_Ort.ortID = t_Komplex.ortID)\n",
    "           INNER JOIN t_Obj ON t_Komplex.komplexID = t_Obj.komplexID\n",
    "       WHERE (((t_Ort.ort_lit)='DS')\n",
    "           AND ((t_Obj.Typ) Like '%\"\"\"+style+\"\"\"%'))\"\"\".replace('\\n',' ')\n",
    "\n",
    "df = pd.read_sql(sql, con)\n",
    "# Anzahl Scherben:\n",
    "# df.pivot_table(values = 'Anzahl', index = 'Typ', aggfunc = sum, margins = True)  # Anzahl GE"
   ]
  },
  {
   "cell_type": "code",
   "execution_count": 23,
   "metadata": {},
   "outputs": [
    {
     "data": {
      "text/plain": [
       "Typ\n",
       "BBL        34.0\n",
       "BBL (?)    24.0\n",
       "All        58.0\n",
       "Name: objID, dtype: float64"
      ]
     },
     "execution_count": 23,
     "metadata": {},
     "output_type": "execute_result"
    }
   ],
   "source": [
    "# GE\n",
    "df.loc[df['Anzahl'] == 1].pivot_table(values = 'objID', index = 'Typ', aggfunc = len, margins = True)  # Anzahl GE"
   ]
  },
  {
   "cell_type": "code",
   "execution_count": 24,
   "metadata": {},
   "outputs": [
    {
     "data": {
      "text/plain": [
       "Typ\n",
       "BBL    3.0\n",
       "All    3.0\n",
       "Name: Anzahl, dtype: float64"
      ]
     },
     "execution_count": 24,
     "metadata": {},
     "output_type": "execute_result"
    }
   ],
   "source": [
    "# ausgezählte Scherben\n",
    "df.loc[df['Anzahl'] != 1].pivot_table(values = 'Anzahl', index = 'Typ', aggfunc = sum, margins = True)  # Anzahl GE"
   ]
  },
  {
   "cell_type": "code",
   "execution_count": 25,
   "metadata": {},
   "outputs": [
    {
     "data": {
      "text/html": [
       "<div>\n",
       "<table border=\"1\" class=\"dataframe\">\n",
       "  <thead>\n",
       "    <tr style=\"text-align: right;\">\n",
       "      <th></th>\n",
       "      <th></th>\n",
       "      <th>Typ</th>\n",
       "      <th>BBL</th>\n",
       "      <th>BBL (?)</th>\n",
       "      <th>All</th>\n",
       "    </tr>\n",
       "    <tr>\n",
       "      <th>bef_art</th>\n",
       "      <th>Ort</th>\n",
       "      <th>bef_nr</th>\n",
       "      <th></th>\n",
       "      <th></th>\n",
       "      <th></th>\n",
       "    </tr>\n",
       "  </thead>\n",
       "  <tbody>\n",
       "    <tr>\n",
       "      <th rowspan=\"2\" valign=\"top\">Grube</th>\n",
       "      <th rowspan=\"2\" valign=\"top\">Maluba (Fpl. 230)</th>\n",
       "      <th>85/1-3-1</th>\n",
       "      <td>1.0</td>\n",
       "      <td>NaN</td>\n",
       "      <td>1.0</td>\n",
       "    </tr>\n",
       "    <tr>\n",
       "      <th>85/103</th>\n",
       "      <td>1.0</td>\n",
       "      <td>NaN</td>\n",
       "      <td>1.0</td>\n",
       "    </tr>\n",
       "    <tr>\n",
       "      <th rowspan=\"7\" valign=\"top\">Oberfl</th>\n",
       "      <th rowspan=\"2\" valign=\"top\">Bobulu (Fpl. 198)</th>\n",
       "      <th>85/101</th>\n",
       "      <td>9.0</td>\n",
       "      <td>6.0</td>\n",
       "      <td>15.0</td>\n",
       "    </tr>\n",
       "    <tr>\n",
       "      <th>85/102</th>\n",
       "      <td>11.0</td>\n",
       "      <td>4.0</td>\n",
       "      <td>15.0</td>\n",
       "    </tr>\n",
       "    <tr>\n",
       "      <th>Boyoka (Fpl. 196)</th>\n",
       "      <th>85/101</th>\n",
       "      <td>10.0</td>\n",
       "      <td>5.0</td>\n",
       "      <td>15.0</td>\n",
       "    </tr>\n",
       "    <tr>\n",
       "      <th>Ebeka (Fpl. 197)</th>\n",
       "      <th>85/101</th>\n",
       "      <td>2.0</td>\n",
       "      <td>2.0</td>\n",
       "      <td>4.0</td>\n",
       "    </tr>\n",
       "    <tr>\n",
       "      <th>Maluba (Fpl. 230)</th>\n",
       "      <th>85/101</th>\n",
       "      <td>NaN</td>\n",
       "      <td>2.0</td>\n",
       "      <td>2.0</td>\n",
       "    </tr>\n",
       "    <tr>\n",
       "      <th>Maoko (Fpl. 207)</th>\n",
       "      <th>85/101</th>\n",
       "      <td>1.0</td>\n",
       "      <td>1.0</td>\n",
       "      <td>2.0</td>\n",
       "    </tr>\n",
       "    <tr>\n",
       "      <th>Nzambi (Fpl. 205)</th>\n",
       "      <th>85/101</th>\n",
       "      <td>NaN</td>\n",
       "      <td>4.0</td>\n",
       "      <td>4.0</td>\n",
       "    </tr>\n",
       "    <tr>\n",
       "      <th>All</th>\n",
       "      <th></th>\n",
       "      <th></th>\n",
       "      <td>35.0</td>\n",
       "      <td>24.0</td>\n",
       "      <td>59.0</td>\n",
       "    </tr>\n",
       "  </tbody>\n",
       "</table>\n",
       "</div>"
      ],
      "text/plain": [
       "Typ                                  BBL  BBL (?)   All\n",
       "bef_art Ort               bef_nr                       \n",
       "Grube   Maluba (Fpl. 230) 85/1-3-1   1.0      NaN   1.0\n",
       "                          85/103     1.0      NaN   1.0\n",
       "Oberfl  Bobulu (Fpl. 198) 85/101     9.0      6.0  15.0\n",
       "                          85/102    11.0      4.0  15.0\n",
       "        Boyoka (Fpl. 196) 85/101    10.0      5.0  15.0\n",
       "        Ebeka (Fpl. 197)  85/101     2.0      2.0   4.0\n",
       "        Maluba (Fpl. 230) 85/101     NaN      2.0   2.0\n",
       "        Maoko (Fpl. 207)  85/101     1.0      1.0   2.0\n",
       "        Nzambi (Fpl. 205) 85/101     NaN      4.0   4.0\n",
       "All                                 35.0     24.0  59.0"
      ]
     },
     "execution_count": 25,
     "metadata": {},
     "output_type": "execute_result"
    }
   ],
   "source": [
    "df_pivot = df.pivot_table(values = 'objID', index = ['bef_art', 'Ort', 'bef_nr'], columns = 'Typ', aggfunc = len, margins = True)\n",
    "df_pivot"
   ]
  },
  {
   "cell_type": "code",
   "execution_count": 26,
   "metadata": {},
   "outputs": [
    {
     "data": {
      "text/plain": [
       "9"
      ]
     },
     "execution_count": 26,
     "metadata": {},
     "output_type": "execute_result"
    }
   ],
   "source": [
    "len(df_pivot.index)-1   # Anzahl der FdSt mit DON-Keramik -1 (für die Summenzeile in der Tab. oben)"
   ]
  },
  {
   "cell_type": "markdown",
   "metadata": {},
   "source": [
    "## Technologische Merkmale (*fabrics*)"
   ]
  },
  {
   "cell_type": "code",
   "execution_count": 27,
   "metadata": {
    "collapsed": true
   },
   "outputs": [],
   "source": [
    "sql = \"\"\"SELECT\n",
    "           t_Obj.objID,\n",
    "           't_Ort'.'ort_name' || ' (Fpl. ' || 't_ort'.'Kat-Nr' || ')' AS Ort,\n",
    "           t_Obj.Anzahl,\n",
    "           t_Obj.MagerungGröße,\n",
    "           t_Obj.MagerungArt,\n",
    "           t_Obj.MagerungDichte,\n",
    "           t_Obj.Fabric\n",
    "       FROM (t_Ort INNER JOIN t_Komplex ON t_Ort.ortID = t_Komplex.ortID)\n",
    "           INNER JOIN t_Obj ON t_Komplex.komplexID = t_Obj.komplexID\n",
    "       WHERE (((t_Obj.Fabric) != '')\n",
    "           AND ((t_Obj.Typ) Like '%BBL%'))\"\"\".replace('\\n',' ')\n",
    "\n",
    "df = pd.read_sql(sql, con)"
   ]
  },
  {
   "cell_type": "code",
   "execution_count": 28,
   "metadata": {},
   "outputs": [
    {
     "name": "stderr",
     "output_type": "stream",
     "text": [
      "C:\\Users\\Dirk\\Anaconda3\\lib\\site-packages\\ipykernel\\__main__.py:3: FutureWarning: by argument to sort_index is deprecated, pls use .sort_values(by=...)\n",
      "  app.launch_new_instance()\n"
     ]
    }
   ],
   "source": [
    "df_pivot = df.pivot_table(values = 'Anzahl', index = 'Fabric', aggfunc = sum)\n",
    "df_pivot = pd.DataFrame(df_pivot)\n",
    "df_pivot = df_pivot.sort_index(by=['Anzahl'], ascending=[False])"
   ]
  },
  {
   "cell_type": "code",
   "execution_count": 29,
   "metadata": {
    "scrolled": true
   },
   "outputs": [
    {
     "data": {
      "image/png": "[encoded data removed]",
      "text/plain": [
       "<matplotlib.figure.Figure at 0x1b83d3681d0>"
      ]
     },
     "metadata": {},
     "output_type": "display_data"
    }
   ],
   "source": [
    "df_pivot.plot(kind = 'barh', legend = False, color = 'Grey')\n",
    "plt.show()"
   ]
  },
  {
   "cell_type": "code",
   "execution_count": 30,
   "metadata": {},
   "outputs": [
    {
     "data": {
      "text/html": [
       "<div>\n",
       "<table border=\"1\" class=\"dataframe\">\n",
       "  <thead>\n",
       "    <tr style=\"text-align: right;\">\n",
       "      <th></th>\n",
       "      <th>Anzahl</th>\n",
       "      <th>Prozent</th>\n",
       "    </tr>\n",
       "    <tr>\n",
       "      <th>Fabric</th>\n",
       "      <th></th>\n",
       "      <th></th>\n",
       "    </tr>\n",
       "  </thead>\n",
       "  <tbody>\n",
       "    <tr>\n",
       "      <th>3a</th>\n",
       "      <td>15</td>\n",
       "      <td>24.590164</td>\n",
       "    </tr>\n",
       "    <tr>\n",
       "      <th>4a</th>\n",
       "      <td>9</td>\n",
       "      <td>14.754098</td>\n",
       "    </tr>\n",
       "    <tr>\n",
       "      <th>5c</th>\n",
       "      <td>7</td>\n",
       "      <td>11.475410</td>\n",
       "    </tr>\n",
       "    <tr>\n",
       "      <th>4c</th>\n",
       "      <td>6</td>\n",
       "      <td>9.836066</td>\n",
       "    </tr>\n",
       "    <tr>\n",
       "      <th>7d</th>\n",
       "      <td>6</td>\n",
       "      <td>9.836066</td>\n",
       "    </tr>\n",
       "    <tr>\n",
       "      <th>3b</th>\n",
       "      <td>4</td>\n",
       "      <td>6.557377</td>\n",
       "    </tr>\n",
       "    <tr>\n",
       "      <th>5c/4b (?)</th>\n",
       "      <td>3</td>\n",
       "      <td>4.918033</td>\n",
       "    </tr>\n",
       "  </tbody>\n",
       "</table>\n",
       "</div>"
      ],
      "text/plain": [
       "           Anzahl    Prozent\n",
       "Fabric                      \n",
       "3a             15  24.590164\n",
       "4a              9  14.754098\n",
       "5c              7  11.475410\n",
       "4c              6   9.836066\n",
       "7d              6   9.836066\n",
       "3b              4   6.557377\n",
       "5c/4b (?)       3   4.918033"
      ]
     },
     "metadata": {},
     "output_type": "display_data"
    }
   ],
   "source": [
    "df_pivot['Prozent'] = df_pivot['Anzahl']/df_pivot['Anzahl'].sum()*100\n",
    "display(df_pivot.head(7))"
   ]
  },
  {
   "cell_type": "code",
   "execution_count": 31,
   "metadata": {},
   "outputs": [
    {
     "name": "stderr",
     "output_type": "stream",
     "text": [
      "C:\\Users\\Dirk\\Anaconda3\\lib\\site-packages\\ipykernel\\__main__.py:3: FutureWarning: by argument to sort_index is deprecated, pls use .sort_values(by=...)\n",
      "  app.launch_new_instance()\n"
     ]
    },
    {
     "data": {
      "text/html": [
       "<div>\n",
       "<table border=\"1\" class=\"dataframe\">\n",
       "  <thead>\n",
       "    <tr style=\"text-align: right;\">\n",
       "      <th></th>\n",
       "      <th>Anzahl</th>\n",
       "      <th>Prozent</th>\n",
       "    </tr>\n",
       "    <tr>\n",
       "      <th>MagerungDichte</th>\n",
       "      <th></th>\n",
       "      <th></th>\n",
       "    </tr>\n",
       "  </thead>\n",
       "  <tbody>\n",
       "    <tr>\n",
       "      <th>viel</th>\n",
       "      <td>23</td>\n",
       "      <td>37.704918</td>\n",
       "    </tr>\n",
       "    <tr>\n",
       "      <th>mittel</th>\n",
       "      <td>21</td>\n",
       "      <td>34.426230</td>\n",
       "    </tr>\n",
       "    <tr>\n",
       "      <th>sehr viel</th>\n",
       "      <td>8</td>\n",
       "      <td>13.114754</td>\n",
       "    </tr>\n",
       "    <tr>\n",
       "      <th>wenig</th>\n",
       "      <td>4</td>\n",
       "      <td>6.557377</td>\n",
       "    </tr>\n",
       "    <tr>\n",
       "      <th></th>\n",
       "      <td>3</td>\n",
       "      <td>4.918033</td>\n",
       "    </tr>\n",
       "    <tr>\n",
       "      <th>&lt;1</th>\n",
       "      <td>1</td>\n",
       "      <td>1.639344</td>\n",
       "    </tr>\n",
       "    <tr>\n",
       "      <th>Mittel</th>\n",
       "      <td>1</td>\n",
       "      <td>1.639344</td>\n",
       "    </tr>\n",
       "  </tbody>\n",
       "</table>\n",
       "</div>"
      ],
      "text/plain": [
       "                Anzahl    Prozent\n",
       "MagerungDichte                   \n",
       "viel                23  37.704918\n",
       "mittel              21  34.426230\n",
       "sehr viel            8  13.114754\n",
       "wenig                4   6.557377\n",
       "                     3   4.918033\n",
       "<1                   1   1.639344\n",
       "Mittel               1   1.639344"
      ]
     },
     "execution_count": 31,
     "metadata": {},
     "output_type": "execute_result"
    }
   ],
   "source": [
    "df_pivot = df.pivot_table(values = 'Anzahl', index = 'MagerungDichte', aggfunc = sum)\n",
    "df_pivot = pd.DataFrame(df_pivot)\n",
    "df_pivot = df_pivot.sort_index(by=['Anzahl'], ascending=[False])\n",
    "df_pivot['Prozent'] = df_pivot['Anzahl']/df_pivot['Anzahl'].sum()*100\n",
    "df_pivot"
   ]
  },
  {
   "cell_type": "code",
   "execution_count": 32,
   "metadata": {},
   "outputs": [
    {
     "name": "stderr",
     "output_type": "stream",
     "text": [
      "C:\\Users\\Dirk\\Anaconda3\\lib\\site-packages\\ipykernel\\__main__.py:3: FutureWarning: by argument to sort_index is deprecated, pls use .sort_values(by=...)\n",
      "  app.launch_new_instance()\n"
     ]
    },
    {
     "data": {
      "text/html": [
       "<div>\n",
       "<table border=\"1\" class=\"dataframe\">\n",
       "  <thead>\n",
       "    <tr style=\"text-align: right;\">\n",
       "      <th></th>\n",
       "      <th>Anzahl</th>\n",
       "      <th>Prozent</th>\n",
       "    </tr>\n",
       "    <tr>\n",
       "      <th>MagerungGröße</th>\n",
       "      <th></th>\n",
       "      <th></th>\n",
       "    </tr>\n",
       "  </thead>\n",
       "  <tbody>\n",
       "    <tr>\n",
       "      <th>C</th>\n",
       "      <td>28</td>\n",
       "      <td>45.901639</td>\n",
       "    </tr>\n",
       "    <tr>\n",
       "      <th>M</th>\n",
       "      <td>25</td>\n",
       "      <td>40.983607</td>\n",
       "    </tr>\n",
       "    <tr>\n",
       "      <th>VC</th>\n",
       "      <td>4</td>\n",
       "      <td>6.557377</td>\n",
       "    </tr>\n",
       "    <tr>\n",
       "      <th></th>\n",
       "      <td>3</td>\n",
       "      <td>4.918033</td>\n",
       "    </tr>\n",
       "    <tr>\n",
       "      <th>F</th>\n",
       "      <td>1</td>\n",
       "      <td>1.639344</td>\n",
       "    </tr>\n",
       "  </tbody>\n",
       "</table>\n",
       "</div>"
      ],
      "text/plain": [
       "               Anzahl    Prozent\n",
       "MagerungGröße                   \n",
       "C                  28  45.901639\n",
       "M                  25  40.983607\n",
       "VC                  4   6.557377\n",
       "                    3   4.918033\n",
       "F                   1   1.639344"
      ]
     },
     "execution_count": 32,
     "metadata": {},
     "output_type": "execute_result"
    }
   ],
   "source": [
    "df_pivot = df.pivot_table(values = 'Anzahl', index = 'MagerungGröße', aggfunc = sum)\n",
    "df_pivot = pd.DataFrame(df_pivot)\n",
    "df_pivot = df_pivot.sort_index(by=['Anzahl'], ascending=[False])\n",
    "df_pivot['Prozent'] = df_pivot['Anzahl']/df_pivot['Anzahl'].sum()*100\n",
    "df_pivot"
   ]
  },
  {
   "cell_type": "code",
   "execution_count": 33,
   "metadata": {},
   "outputs": [
    {
     "data": {
      "text/plain": [
       "MagerungArt\n",
       "                    3\n",
       "S                  42\n",
       "S/Gl                3\n",
       "S/Gl/Laterit        2\n",
       "S/Laterit           8\n",
       "S/Org               2\n",
       "S/rote Partikel     1\n",
       "Name: Anzahl, dtype: int64"
      ]
     },
     "execution_count": 33,
     "metadata": {},
     "output_type": "execute_result"
    }
   ],
   "source": [
    "df.pivot_table(values = 'Anzahl', index = 'MagerungArt', aggfunc = sum)"
   ]
  },
  {
   "cell_type": "markdown",
   "metadata": {},
   "source": [
    "### Brennfarbe"
   ]
  },
  {
   "cell_type": "code",
   "execution_count": 34,
   "metadata": {},
   "outputs": [
    {
     "data": {
      "text/html": [
       "<div>\n",
       "<table border=\"1\" class=\"dataframe\">\n",
       "  <thead>\n",
       "    <tr style=\"text-align: right;\">\n",
       "      <th></th>\n",
       "      <th>0</th>\n",
       "      <th>Prozent</th>\n",
       "    </tr>\n",
       "  </thead>\n",
       "  <tbody>\n",
       "    <tr>\n",
       "      <th>Rot</th>\n",
       "      <td>11</td>\n",
       "      <td>17.460317</td>\n",
       "    </tr>\n",
       "    <tr>\n",
       "      <th>Sonstig</th>\n",
       "      <td>28</td>\n",
       "      <td>44.444444</td>\n",
       "    </tr>\n",
       "    <tr>\n",
       "      <th>Weiß</th>\n",
       "      <td>24</td>\n",
       "      <td>38.095238</td>\n",
       "    </tr>\n",
       "  </tbody>\n",
       "</table>\n",
       "</div>"
      ],
      "text/plain": [
       "          0    Prozent\n",
       "Rot      11  17.460317\n",
       "Sonstig  28  44.444444\n",
       "Weiß     24  38.095238"
      ]
     },
     "execution_count": 34,
     "metadata": {},
     "output_type": "execute_result"
    }
   ],
   "source": [
    "sql = \"\"\"SELECT\n",
    "           t_Obj.objID,\n",
    "           [t_Obj].[Außenfarbe] || '/' || [t_Obj].[Prof_aussen] || '/' || [t_Obj].[Prof_Kern] || '/' || [t_Obj].[Prof_innen] || '/' || [t_Obj].[Innenfarbe] AS Farbe\n",
    "       FROM (t_Ort LEFT JOIN t_Komplex ON t_Ort.ortID = t_Komplex.ortID)\n",
    "           LEFT JOIN t_Obj ON t_Komplex.komplexID = t_Obj.komplexID\n",
    "       WHERE (((t_Obj.Fabric) != '')\n",
    "           AND ((t_Obj.Typ) Like '%BBL%'))\"\"\".replace('\\n',' ')\n",
    "df = pd.read_sql(sql, con)\n",
    "\n",
    "a = pd.Series({'Weiß':len(df[df['Farbe'].str.contains(\"W\")].index),\n",
    "               'Rot':len(df[df['Farbe'].str.contains(\"R\")].index),\n",
    "               'Sonstig':len(df[~df['Farbe'].str.contains(\"W|R\")].index)})\n",
    "a = pd.DataFrame(a)\n",
    "a['Prozent'] = a[0]/a[0].sum()*100\n",
    "a"
   ]
  },
  {
   "cell_type": "code",
   "execution_count": 35,
   "metadata": {
    "scrolled": true
   },
   "outputs": [
    {
     "data": {
      "image/png": "[encoded data removed]",
      "text/plain": [
       "<matplotlib.figure.Figure at 0x1b83cf312e8>"
      ]
     },
     "metadata": {},
     "output_type": "display_data"
    }
   ],
   "source": [
    "a.plot(y = 'Prozent', kind = 'bar', legend = None, color = 'grey')\n",
    "plt.xticks(rotation=0)\n",
    "plt.ylabel('Anteil [%]')\n",
    "plt.show()"
   ]
  },
  {
   "cell_type": "code",
   "execution_count": 36,
   "metadata": {},
   "outputs": [
    {
     "data": {
      "text/plain": [
       "bg       54\n",
       "g        38\n",
       "s        17\n",
       "bg bg    13\n",
       "br        4\n",
       "          3\n",
       "g g       3\n",
       "bg g      2\n",
       "g br      1\n",
       "s bg      1\n",
       "dtype: int64"
      ]
     },
     "execution_count": 36,
     "metadata": {},
     "output_type": "execute_result"
    }
   ],
   "source": [
    "# Sontiges:\n",
    "a = df[~df['Farbe'].str.contains(\"W|R\")]\n",
    "pd.Series(' '.join(a['Farbe']).lower().split('/')).value_counts()[:10]"
   ]
  },
  {
   "cell_type": "markdown",
   "metadata": {},
   "source": [
    "### Oberfläche der Scherben"
   ]
  },
  {
   "cell_type": "code",
   "execution_count": 37,
   "metadata": {},
   "outputs": [
    {
     "name": "stderr",
     "output_type": "stream",
     "text": [
      "C:\\Users\\Dirk\\Anaconda3\\lib\\site-packages\\ipykernel\\__main__.py:13: FutureWarning: convert_objects is deprecated.  Use the data-type specific converters pd.to_datetime, pd.to_timedelta and pd.to_numeric.\n"
     ]
    },
    {
     "data": {
      "text/plain": [
       "Obfl\n",
       "glatt         35\n",
       "leicht rau    21\n",
       "rau            2\n",
       "Name: Anzahl, dtype: int64"
      ]
     },
     "execution_count": 37,
     "metadata": {},
     "output_type": "execute_result"
    }
   ],
   "source": [
    "sql = \"\"\"SELECT\n",
    "           t_Obj.objID,\n",
    "           t_Obj.Anzahl,\n",
    "           t_Obj.Obfl,\n",
    "           t_Obj.Fabric\n",
    "       FROM (t_Ort INNER JOIN t_Komplex ON t_Ort.ortID = t_Komplex.ortID)\n",
    "           INNER JOIN t_Obj ON t_Komplex.komplexID = t_Obj.komplexID\n",
    "       WHERE (((t_Obj.Obfl) != '')\n",
    "           AND ((t_Obj.Typ) LIKE '%BBL%'))\"\"\".replace('\\n',' ')\n",
    "\n",
    "df = pd.read_sql(sql, con)\n",
    "\n",
    "df['Anzahl'] = df['Anzahl'].convert_objects(convert_numeric=True)\n",
    "df.pivot_table(values = 'Anzahl', index = 'Obfl', aggfunc = sum)"
   ]
  },
  {
   "cell_type": "markdown",
   "metadata": {},
   "source": [
    "### Wandungsdicke"
   ]
  },
  {
   "cell_type": "code",
   "execution_count": 38,
   "metadata": {
    "scrolled": false
   },
   "outputs": [
    {
     "name": "stderr",
     "output_type": "stream",
     "text": [
      "C:\\Users\\Dirk\\Anaconda3\\lib\\site-packages\\ipykernel\\__main__.py:11: FutureWarning: convert_objects is deprecated.  Use the data-type specific converters pd.to_datetime, pd.to_timedelta and pd.to_numeric.\n"
     ]
    },
    {
     "data": {
      "image/png": "[encoded data removed]",
      "text/plain": [
       "<matplotlib.figure.Figure at 0x1b83d52b278>"
      ]
     },
     "metadata": {},
     "output_type": "display_data"
    }
   ],
   "source": [
    "sql = \"\"\"SELECT\n",
    "           t_Obj.objID,\n",
    "           t_Obj.Wandung \n",
    "       FROM (t_Ort INNER JOIN t_Komplex ON t_Ort.ortID = t_Komplex.ortID)\n",
    "           INNER JOIN t_Obj ON t_Komplex.komplexID = t_Obj.komplexID\n",
    "       WHERE (((t_Obj.Obfl) != '')\n",
    "           AND ((t_Obj.Typ) LIKE '%BBL%'))\"\"\".replace('\\n',' ')\n",
    "\n",
    "df = pd.read_sql(sql, con)\n",
    "\n",
    "df['Wandung'] = df['Wandung'].convert_objects(convert_numeric=True)\n",
    "\n",
    "# Spannweite ermitteln und als bins nutzen\n",
    "bins = df['Wandung'].max() - df['Wandung'].min()\n",
    "\n",
    "mean = df['Wandung'].mean()\n",
    "\n",
    "df['Wandung'].hist(bins = bins, color = 'grey', histtype='stepfilled')\n",
    "plt.axvline(mean, color = 'black', ls = 'dashed', lw = 2.5)\n",
    "plt.xlabel(\"Dicke [mm]\")\n",
    "plt.ylabel(\"Anzahl\")\n",
    "plt.xlim([df['Wandung'].min()-1,df['Wandung'].max()+1])\n",
    "plt.ylim([0,21])\n",
    "legend = plt.legend([\"Mittelwert\"])\n",
    "legend.get_frame().set_facecolor('white')\n",
    "plt.tight_layout()"
   ]
  },
  {
   "cell_type": "code",
   "execution_count": 39,
   "metadata": {},
   "outputs": [
    {
     "data": {
      "text/plain": [
       "count    58.000000\n",
       "mean      6.448276\n",
       "std       1.557916\n",
       "min       3.000000\n",
       "25%       6.000000\n",
       "50%       6.000000\n",
       "75%       7.750000\n",
       "max      10.000000\n",
       "Name: Wandung, dtype: float64"
      ]
     },
     "execution_count": 39,
     "metadata": {},
     "output_type": "execute_result"
    }
   ],
   "source": [
    "df['Wandung'].describe()"
   ]
  },
  {
   "cell_type": "code",
   "execution_count": 40,
   "metadata": {},
   "outputs": [
    {
     "data": {
      "text/plain": [
       "2.4271022383545073"
      ]
     },
     "execution_count": 40,
     "metadata": {},
     "output_type": "execute_result"
    }
   ],
   "source": [
    "df['Wandung'].var()"
   ]
  },
  {
   "cell_type": "markdown",
   "metadata": {},
   "source": [
    "## Fragmentierung"
   ]
  },
  {
   "cell_type": "code",
   "execution_count": 41,
   "metadata": {
    "collapsed": true
   },
   "outputs": [],
   "source": [
    "sql = \"\"\"SELECT\n",
    "           t_Obj.objID, \n",
    "           t_Obj.Art,\n",
    "           t_Obj.Gr_Clist,\n",
    "           t_Obj.Anzahl\n",
    "       FROM (t_Ort INNER JOIN t_Komplex ON t_Ort.ortID = t_Komplex.ortID)\n",
    "           INNER JOIN t_Obj ON t_Komplex.komplexID = t_Obj.komplexID\n",
    "       WHERE (((t_Ort.ort_lit)='DS')\n",
    "           AND ((t_Obj.Art) = \"K\")\n",
    "           AND ((t_Obj.Gr_Clist) != '')\n",
    "           AND ((t_Obj.Typ) LIKE '%\"\"\"+style+\"\"\"%'))\"\"\".replace('\\n',' ')\n",
    "\n",
    "df = pd.read_sql(sql, con)"
   ]
  },
  {
   "cell_type": "code",
   "execution_count": 42,
   "metadata": {},
   "outputs": [
    {
     "data": {
      "text/html": [
       "<div>\n",
       "<table border=\"1\" class=\"dataframe\">\n",
       "  <thead>\n",
       "    <tr style=\"text-align: right;\">\n",
       "      <th></th>\n",
       "      <th>Anzahl</th>\n",
       "      <th>Prozent</th>\n",
       "    </tr>\n",
       "    <tr>\n",
       "      <th>Gr_Clist</th>\n",
       "      <th></th>\n",
       "      <th></th>\n",
       "    </tr>\n",
       "  </thead>\n",
       "  <tbody>\n",
       "    <tr>\n",
       "      <th>30</th>\n",
       "      <td>4.0</td>\n",
       "      <td>6.896552</td>\n",
       "    </tr>\n",
       "    <tr>\n",
       "      <th>70</th>\n",
       "      <td>43.0</td>\n",
       "      <td>74.137931</td>\n",
       "    </tr>\n",
       "    <tr>\n",
       "      <th>120</th>\n",
       "      <td>10.0</td>\n",
       "      <td>17.241379</td>\n",
       "    </tr>\n",
       "    <tr>\n",
       "      <th>200</th>\n",
       "      <td>1.0</td>\n",
       "      <td>1.724138</td>\n",
       "    </tr>\n",
       "    <tr>\n",
       "      <th>&gt;200</th>\n",
       "      <td>0.0</td>\n",
       "      <td>0.000000</td>\n",
       "    </tr>\n",
       "  </tbody>\n",
       "</table>\n",
       "</div>"
      ],
      "text/plain": [
       "          Anzahl    Prozent\n",
       "Gr_Clist                   \n",
       "30           4.0   6.896552\n",
       "70          43.0  74.137931\n",
       "120         10.0  17.241379\n",
       "200          1.0   1.724138\n",
       ">200         0.0   0.000000"
      ]
     },
     "execution_count": 42,
     "metadata": {},
     "output_type": "execute_result"
    }
   ],
   "source": [
    "df_pivot = df.pivot_table(values = 'Anzahl', index = 'Gr_Clist', aggfunc = np.sum)\n",
    "df_pivot['>200'] = 0.\n",
    "df_pivot = pd.DataFrame(df_pivot)\n",
    "# Prozent-Anteil der Verzierungselemente errechnen\n",
    "df_pivot['Prozent'] = df_pivot['Anzahl']/df_pivot['Anzahl'].sum()*100\n",
    "#df_pivot = df_pivot.rename(index={500: '>200'})\n",
    "df_pivot"
   ]
  },
  {
   "cell_type": "code",
   "execution_count": 43,
   "metadata": {},
   "outputs": [
    {
     "data": {
      "image/png": "[encoded data removed]",
      "text/plain": [
       "<matplotlib.figure.Figure at 0x1b83d392048>"
      ]
     },
     "metadata": {},
     "output_type": "display_data"
    }
   ],
   "source": [
    "df_pivot.plot(y = 'Prozent', kind = 'bar',legend = False, color = 'grey', figsize = (5,5))\n",
    "plt.xticks(rotation=0)\n",
    "plt.xlabel('Größenklasse')\n",
    "plt.ylabel('Anteil [%]')\n",
    "# plt.title('Fragmentierungsgrad\\n')\n",
    "plt.savefig('../output/figs/3-1-1-6_Bobulu-Gruppe_KeramikFragmentierung.pdf', bbox_inches='tight')\n",
    "plt.show()"
   ]
  },
  {
   "cell_type": "markdown",
   "metadata": {},
   "source": [
    "## Gefäßformen"
   ]
  },
  {
   "cell_type": "code",
   "execution_count": 44,
   "metadata": {
    "collapsed": true
   },
   "outputs": [],
   "source": [
    "sql = \"\"\"SELECT\n",
    "           t_Ort.ort_kurz,\n",
    "           t_Ort.ort_name,\n",
    "           t_Obj.objID,\n",
    "           t_Obj.Typ,\n",
    "           t_Obj.Form_Gef\n",
    "       FROM (t_Ort INNER JOIN t_Komplex ON t_Ort.ortID = t_Komplex.ortID)\n",
    "           INNER JOIN t_Obj ON t_Komplex.komplexID = t_Obj.komplexID\n",
    "       WHERE (((t_Ort.ort_lit)='DS')\n",
    "           AND ((t_Obj.Typ) Like '%BBL%')\n",
    "           AND ((t_Obj.Form_Gef) != '')\n",
    "           AND ((t_Obj.Anzahl) = 1))\"\"\".replace('\\n',' ')\n",
    "\n",
    "df = pd.read_sql(sql, con)\n",
    "# die Fragezeichen bei Gef-Form einfach löschen\n",
    "# df['Form_Gef'] = df['Form_Gef'].map(lambda x: x.rstrip(' (?)'))\n",
    "# display(df.head())"
   ]
  },
  {
   "cell_type": "code",
   "execution_count": 45,
   "metadata": {},
   "outputs": [
    {
     "data": {
      "text/html": [
       "<div>\n",
       "<table border=\"1\" class=\"dataframe\">\n",
       "  <thead>\n",
       "    <tr style=\"text-align: right;\">\n",
       "      <th></th>\n",
       "      <th>0</th>\n",
       "      <th>Prozent</th>\n",
       "    </tr>\n",
       "  </thead>\n",
       "  <tbody>\n",
       "    <tr>\n",
       "      <th>fraglich</th>\n",
       "      <td>15</td>\n",
       "      <td>48.387097</td>\n",
       "    </tr>\n",
       "    <tr>\n",
       "      <th>sicher</th>\n",
       "      <td>16</td>\n",
       "      <td>51.612903</td>\n",
       "    </tr>\n",
       "  </tbody>\n",
       "</table>\n",
       "</div>"
      ],
      "text/plain": [
       "           0    Prozent\n",
       "fraglich  15  48.387097\n",
       "sicher    16  51.612903"
      ]
     },
     "execution_count": 45,
     "metadata": {},
     "output_type": "execute_result"
    }
   ],
   "source": [
    "a = pd.Series({'sicher':len(df.loc[df['Form_Gef'].str.contains(\" \")].index),\n",
    "               'fraglich':len(df.loc[~df['Form_Gef'].str.contains(\" |/\")].index)})\n",
    "a = pd.DataFrame(a)\n",
    "a['Prozent'] = a[0]/a[0].sum()*100\n",
    "a"
   ]
  },
  {
   "cell_type": "code",
   "execution_count": 46,
   "metadata": {},
   "outputs": [
    {
     "name": "stderr",
     "output_type": "stream",
     "text": [
      "C:\\Users\\Dirk\\Anaconda3\\lib\\site-packages\\ipykernel\\__main__.py:4: FutureWarning: by argument to sort_index is deprecated, pls use .sort_values(by=...)\n"
     ]
    }
   ],
   "source": [
    "df_pivot = df.pivot_table(values = 'objID', index = 'Form_Gef', aggfunc = len)\n",
    "df_pivot = pd.DataFrame(df_pivot)\n",
    "# Sortierung ändern\n",
    "df_pivot = df_pivot.sort_index(by = ['objID'], ascending = True)"
   ]
  },
  {
   "cell_type": "markdown",
   "metadata": {},
   "source": [
    "Anzahl der Stücke, welche der 'Dongo'-Gruppe zugewiesen werden könne und bei denen eine Gefäßeform ermittelt werden konnte:"
   ]
  },
  {
   "cell_type": "code",
   "execution_count": 47,
   "metadata": {},
   "outputs": [
    {
     "data": {
      "text/plain": [
       "33"
      ]
     },
     "execution_count": 47,
     "metadata": {},
     "output_type": "execute_result"
    }
   ],
   "source": [
    "df_pivot['objID'].sum()"
   ]
  },
  {
   "cell_type": "markdown",
   "metadata": {},
   "source": [
    "Verteilung der Gefäßformen der 'Mokelo'-Gruppe:"
   ]
  },
  {
   "cell_type": "code",
   "execution_count": 48,
   "metadata": {},
   "outputs": [
    {
     "data": {
      "text/plain": [
       "<matplotlib.text.Text at 0x1b83d708390>"
      ]
     },
     "execution_count": 48,
     "metadata": {},
     "output_type": "execute_result"
    },
    {
     "data": {
      "image/png": "[encoded data removed]",
      "text/plain": [
       "<matplotlib.figure.Figure at 0x1b83d60bb00>"
      ]
     },
     "metadata": {},
     "output_type": "display_data"
    }
   ],
   "source": [
    "fig = plt.figure()\n",
    "fig.set_size_inches(5, 5)\n",
    "df_pivot['objID'].plot(kind='pie', autopct='%.0f %%', cmap = 'Paired')\n",
    "plt.ylabel('')"
   ]
  },
  {
   "cell_type": "markdown",
   "metadata": {},
   "source": [
    "> **Abb. #** Bobulu-Gruppe: Gefäßformen."
   ]
  },
  {
   "cell_type": "code",
   "execution_count": 49,
   "metadata": {},
   "outputs": [
    {
     "name": "stderr",
     "output_type": "stream",
     "text": [
      "C:\\Users\\Dirk\\Anaconda3\\lib\\site-packages\\ipykernel\\__main__.py:6: FutureWarning: by argument to sort_index is deprecated, pls use .sort_values(by=...)\n"
     ]
    },
    {
     "data": {
      "text/plain": [
       "<matplotlib.text.Text at 0x1b83d648a20>"
      ]
     },
     "execution_count": 49,
     "metadata": {},
     "output_type": "execute_result"
    },
    {
     "data": {
      "image/png": "[encoded data removed]",
      "text/plain": [
       "<matplotlib.figure.Figure at 0x1b83d6c5908>"
      ]
     },
     "metadata": {},
     "output_type": "display_data"
    }
   ],
   "source": [
    "# alles hinter der 1. Stelle abschneiden, um nur die Grundform zu haben\n",
    "df['Form_Gef_GR'] = df['Form_Gef'].map(lambda x: str(x)[:1])\n",
    "\n",
    "df_pivot = df.pivot_table(values = 'objID', index = 'Form_Gef_GR', aggfunc = len)\n",
    "df_pivot = pd.DataFrame(df_pivot)\n",
    "df_pivot = df_pivot.sort_index(by=['objID'], ascending=True)\n",
    "\n",
    "fig = plt.figure()\n",
    "fig.set_size_inches(5, 5)\n",
    "df_pivot['objID'].plot(kind='pie', autopct='%.0f %%', cmap = 'Paired')\n",
    "plt.ylabel('')"
   ]
  },
  {
   "cell_type": "code",
   "execution_count": 50,
   "metadata": {},
   "outputs": [
    {
     "data": {
      "text/plain": [
       "6"
      ]
     },
     "execution_count": 50,
     "metadata": {},
     "output_type": "execute_result"
    }
   ],
   "source": [
    "len(df_pivot['objID'])    # Anzahl beobachtete Randformen"
   ]
  },
  {
   "cell_type": "markdown",
   "metadata": {},
   "source": [
    "### Bauchform"
   ]
  },
  {
   "cell_type": "code",
   "execution_count": 51,
   "metadata": {
    "collapsed": true
   },
   "outputs": [],
   "source": [
    "sql = \"\"\"SELECT\n",
    "           t_Ort.ort_kurz,\n",
    "           t_Ort.ort_name,\n",
    "           t_Obj.objID,\n",
    "           t_Obj.Typ,\n",
    "           t_Obj.Form_Gef,\n",
    "           t_Obj.Form_Bauch\n",
    "       FROM (t_Ort INNER JOIN t_Komplex ON t_Ort.ortID = t_Komplex.ortID)\n",
    "           INNER JOIN t_Obj ON t_Komplex.komplexID = t_Obj.komplexID\n",
    "       WHERE (((t_Ort.ort_lit)='DS')\n",
    "           AND ((t_Obj.Typ) Like '%BBL%')\n",
    "           AND ((t_Obj.Form_Bauch) != '')\n",
    "           AND ((t_Obj.Anzahl) = 1))\"\"\".replace('\\n',' ')\n",
    "\n",
    "df = pd.read_sql(sql, con)\n",
    "\n",
    "# die Fragezeichen bei Gef-Form & Bauch-Form einfach löschen\n",
    "#df['Form_Gef'] = df['Form_Gef'].map(lambda x: x.rstrip(' (?)'))\n",
    "df['Form_Bauch'] = df['Form_Bauch'].map(lambda x: x.rstrip(' (?)'))\n",
    "\n",
    "#display(df.head())"
   ]
  },
  {
   "cell_type": "code",
   "execution_count": 52,
   "metadata": {},
   "outputs": [
    {
     "name": "stderr",
     "output_type": "stream",
     "text": [
      "C:\\Users\\Dirk\\Anaconda3\\lib\\site-packages\\ipykernel\\__main__.py:4: FutureWarning: by argument to sort_index is deprecated, pls use .sort_values(by=...)\n"
     ]
    },
    {
     "data": {
      "text/html": [
       "<div>\n",
       "<table border=\"1\" class=\"dataframe\">\n",
       "  <thead>\n",
       "    <tr style=\"text-align: right;\">\n",
       "      <th></th>\n",
       "      <th>objID</th>\n",
       "      <th>Prozent</th>\n",
       "    </tr>\n",
       "    <tr>\n",
       "      <th>Form_Bauch</th>\n",
       "      <th></th>\n",
       "      <th></th>\n",
       "    </tr>\n",
       "  </thead>\n",
       "  <tbody>\n",
       "    <tr>\n",
       "      <th>A1</th>\n",
       "      <td>10</td>\n",
       "      <td>41.666667</td>\n",
       "    </tr>\n",
       "    <tr>\n",
       "      <th>A2</th>\n",
       "      <td>8</td>\n",
       "      <td>33.333333</td>\n",
       "    </tr>\n",
       "    <tr>\n",
       "      <th>A3</th>\n",
       "      <td>2</td>\n",
       "      <td>8.333333</td>\n",
       "    </tr>\n",
       "    <tr>\n",
       "      <th>B1/A3</th>\n",
       "      <td>2</td>\n",
       "      <td>8.333333</td>\n",
       "    </tr>\n",
       "    <tr>\n",
       "      <th>B1</th>\n",
       "      <td>1</td>\n",
       "      <td>4.166667</td>\n",
       "    </tr>\n",
       "    <tr>\n",
       "      <th>D2/A1</th>\n",
       "      <td>1</td>\n",
       "      <td>4.166667</td>\n",
       "    </tr>\n",
       "  </tbody>\n",
       "</table>\n",
       "</div>"
      ],
      "text/plain": [
       "            objID    Prozent\n",
       "Form_Bauch                  \n",
       "A1             10  41.666667\n",
       "A2              8  33.333333\n",
       "A3              2   8.333333\n",
       "B1/A3           2   8.333333\n",
       "B1              1   4.166667\n",
       "D2/A1           1   4.166667"
      ]
     },
     "execution_count": 52,
     "metadata": {},
     "output_type": "execute_result"
    }
   ],
   "source": [
    "df_pivot = df.pivot_table(values = 'objID', index = 'Form_Bauch', aggfunc = len)\n",
    "df_pivot = pd.DataFrame(df_pivot)\n",
    "# Sortierung in Aufsteigend ändern\n",
    "df_pivot = df_pivot.sort_index(by = ['objID'], ascending=False)\n",
    "# Prozent-Anteil errechnen\n",
    "df_pivot['Prozent'] = df_pivot['objID']/df_pivot['objID'].sum()*100\n",
    "df_pivot"
   ]
  },
  {
   "cell_type": "code",
   "execution_count": 53,
   "metadata": {},
   "outputs": [
    {
     "data": {
      "text/plain": [
       "<matplotlib.text.Text at 0x1b83d51e898>"
      ]
     },
     "execution_count": 53,
     "metadata": {},
     "output_type": "execute_result"
    },
    {
     "data": {
      "image/png": "[encoded data removed]",
      "text/plain": [
       "<matplotlib.figure.Figure at 0x1b83d6e3320>"
      ]
     },
     "metadata": {},
     "output_type": "display_data"
    }
   ],
   "source": [
    "df_pivot.plot(y = 'objID', kind = 'barh', legend=False, color = 'grey')\n",
    "plt.xlabel('Haufigkeit')\n",
    "plt.ylabel('Gefäßbauch')"
   ]
  },
  {
   "cell_type": "markdown",
   "metadata": {},
   "source": [
    "> **Abb. #** Bobulu-Gruppe: Gefäßbauch"
   ]
  },
  {
   "cell_type": "markdown",
   "metadata": {},
   "source": [
    "### Korrelation Gef-Form & Bauchform"
   ]
  },
  {
   "cell_type": "code",
   "execution_count": 54,
   "metadata": {},
   "outputs": [
    {
     "data": {
      "image/png": "[encoded data removed]",
      "text/plain": [
       "<matplotlib.figure.Figure at 0x1b83d60b550>"
      ]
     },
     "metadata": {},
     "output_type": "display_data"
    }
   ],
   "source": [
    "df_pivot = df.pivot_table(values = 'objID', index = 'Form_Bauch', columns = 'Form_Gef', aggfunc = len, fill_value = 0)\n",
    "#df_pivot\n",
    "plt.imshow(df_pivot, interpolation='nearest', cmap='Greys', alpha = .5)\n",
    "plt.yticks(range(len(df_pivot.index)), df_pivot.index)\n",
    "plt.xticks(range(len(df_pivot.columns)), df_pivot.columns, rotation='vertical')\n",
    "for (i, j), z in np.ndenumerate(df_pivot):\n",
    "    plt.text(j, i, '{:0.0f}'.format(z), ha='center', va='center')\n",
    "plt.show()"
   ]
  },
  {
   "cell_type": "markdown",
   "metadata": {},
   "source": [
    "## Mündungs- & Randformen"
   ]
  },
  {
   "cell_type": "code",
   "execution_count": 55,
   "metadata": {
    "collapsed": true
   },
   "outputs": [],
   "source": [
    "sql = \"\"\"SELECT\n",
    "           t_Ort.ort_kurz,\n",
    "           t_Ort.ort_name,\n",
    "           t_Obj.objID,\n",
    "           t_Obj.Typ,\n",
    "           t_Obj.Form_Mdg,\n",
    "           t_Obj.Form_Rand,\n",
    "           t_Obj.Form_Hals,\n",
    "           t_Obj.Form_Schulter\n",
    "       FROM (t_Ort INNER JOIN t_Komplex ON t_Ort.ortID = t_Komplex.ortID)\n",
    "           INNER JOIN t_Obj ON t_Komplex.komplexID = t_Obj.komplexID\n",
    "       WHERE (((t_Ort.ort_lit)='DS')\n",
    "           AND ((t_Obj.Typ) Like '%BBL%')\n",
    "           AND ((t_Obj.Anzahl) = 1))\"\"\".replace('\\n',' ')\n",
    "\n",
    "df = pd.read_sql(sql, con)\n",
    "# leere Werte in NaN ändern\n",
    "df = df.replace('',np.nan, regex=True)\n",
    "# display(df.head())"
   ]
  },
  {
   "cell_type": "code",
   "execution_count": 56,
   "metadata": {},
   "outputs": [
    {
     "name": "stderr",
     "output_type": "stream",
     "text": [
      "C:\\Users\\Dirk\\Anaconda3\\lib\\site-packages\\ipykernel\\__main__.py:5: FutureWarning: by argument to sort_index is deprecated, pls use .sort_values(by=...)\n"
     ]
    },
    {
     "data": {
      "text/html": [
       "<div>\n",
       "<table border=\"1\" class=\"dataframe\">\n",
       "  <thead>\n",
       "    <tr style=\"text-align: right;\">\n",
       "      <th></th>\n",
       "      <th>objID</th>\n",
       "      <th>Prozent</th>\n",
       "    </tr>\n",
       "    <tr>\n",
       "      <th>Form_Mdg</th>\n",
       "      <th></th>\n",
       "      <th></th>\n",
       "    </tr>\n",
       "  </thead>\n",
       "  <tbody>\n",
       "    <tr>\n",
       "      <th>M2</th>\n",
       "      <td>23</td>\n",
       "      <td>56.097561</td>\n",
       "    </tr>\n",
       "    <tr>\n",
       "      <th>M1</th>\n",
       "      <td>5</td>\n",
       "      <td>12.195122</td>\n",
       "    </tr>\n",
       "    <tr>\n",
       "      <th>M3</th>\n",
       "      <td>5</td>\n",
       "      <td>12.195122</td>\n",
       "    </tr>\n",
       "    <tr>\n",
       "      <th>M5</th>\n",
       "      <td>3</td>\n",
       "      <td>7.317073</td>\n",
       "    </tr>\n",
       "    <tr>\n",
       "      <th>M4</th>\n",
       "      <td>2</td>\n",
       "      <td>4.878049</td>\n",
       "    </tr>\n",
       "    <tr>\n",
       "      <th>M6</th>\n",
       "      <td>2</td>\n",
       "      <td>4.878049</td>\n",
       "    </tr>\n",
       "    <tr>\n",
       "      <th>M1/M2</th>\n",
       "      <td>1</td>\n",
       "      <td>2.439024</td>\n",
       "    </tr>\n",
       "  </tbody>\n",
       "</table>\n",
       "</div>"
      ],
      "text/plain": [
       "          objID    Prozent\n",
       "Form_Mdg                  \n",
       "M2           23  56.097561\n",
       "M1            5  12.195122\n",
       "M3            5  12.195122\n",
       "M5            3   7.317073\n",
       "M4            2   4.878049\n",
       "M6            2   4.878049\n",
       "M1/M2         1   2.439024"
      ]
     },
     "execution_count": 56,
     "metadata": {},
     "output_type": "execute_result"
    }
   ],
   "source": [
    "# Zeilen ohne Mdg löschen\n",
    "df_pivot = df.pivot_table(values = 'objID', index = 'Form_Mdg', aggfunc = len)\n",
    "df_pivot = pd.DataFrame(df_pivot)\n",
    "# Sortierung in Aufsteigend ändern\n",
    "df_pivot = df_pivot.sort_index(by = ['objID'], ascending=False)\n",
    "# Prozent-Anteil errechnen\n",
    "df_pivot['Prozent'] = df_pivot['objID']/df_pivot['objID'].sum()*100\n",
    "df_pivot"
   ]
  },
  {
   "cell_type": "code",
   "execution_count": 57,
   "metadata": {},
   "outputs": [
    {
     "data": {
      "text/plain": [
       "7"
      ]
     },
     "execution_count": 57,
     "metadata": {},
     "output_type": "execute_result"
    }
   ],
   "source": [
    "len(df_pivot['objID'])    # Anzahl beobachtete Randformen"
   ]
  },
  {
   "cell_type": "markdown",
   "metadata": {},
   "source": [
    "> **Tab. #** Bobulu-Gruppe: Mündungsformen"
   ]
  },
  {
   "cell_type": "code",
   "execution_count": 58,
   "metadata": {
    "scrolled": false
   },
   "outputs": [
    {
     "name": "stderr",
     "output_type": "stream",
     "text": [
      "C:\\Users\\Dirk\\Anaconda3\\lib\\site-packages\\ipykernel\\__main__.py:5: FutureWarning: by argument to sort_index is deprecated, pls use .sort_values(by=...)\n"
     ]
    },
    {
     "data": {
      "text/html": [
       "<div>\n",
       "<table border=\"1\" class=\"dataframe\">\n",
       "  <thead>\n",
       "    <tr style=\"text-align: right;\">\n",
       "      <th></th>\n",
       "      <th>objID</th>\n",
       "      <th>Prozent</th>\n",
       "    </tr>\n",
       "    <tr>\n",
       "      <th>Form_Rand</th>\n",
       "      <th></th>\n",
       "      <th></th>\n",
       "    </tr>\n",
       "  </thead>\n",
       "  <tbody>\n",
       "    <tr>\n",
       "      <th>A1</th>\n",
       "      <td>12</td>\n",
       "      <td>26.086957</td>\n",
       "    </tr>\n",
       "    <tr>\n",
       "      <th>B2.1</th>\n",
       "      <td>7</td>\n",
       "      <td>15.217391</td>\n",
       "    </tr>\n",
       "    <tr>\n",
       "      <th>B1</th>\n",
       "      <td>6</td>\n",
       "      <td>13.043478</td>\n",
       "    </tr>\n",
       "    <tr>\n",
       "      <th>B1.1</th>\n",
       "      <td>5</td>\n",
       "      <td>10.869565</td>\n",
       "    </tr>\n",
       "    <tr>\n",
       "      <th>B2</th>\n",
       "      <td>5</td>\n",
       "      <td>10.869565</td>\n",
       "    </tr>\n",
       "    <tr>\n",
       "      <th>B1/B2</th>\n",
       "      <td>2</td>\n",
       "      <td>4.347826</td>\n",
       "    </tr>\n",
       "    <tr>\n",
       "      <th>C3</th>\n",
       "      <td>2</td>\n",
       "      <td>4.347826</td>\n",
       "    </tr>\n",
       "  </tbody>\n",
       "</table>\n",
       "</div>"
      ],
      "text/plain": [
       "           objID    Prozent\n",
       "Form_Rand                  \n",
       "A1            12  26.086957\n",
       "B2.1           7  15.217391\n",
       "B1             6  13.043478\n",
       "B1.1           5  10.869565\n",
       "B2             5  10.869565\n",
       "B1/B2          2   4.347826\n",
       "C3             2   4.347826"
      ]
     },
     "metadata": {},
     "output_type": "display_data"
    }
   ],
   "source": [
    "# Zeilen ohne Mdg löschen\n",
    "df_pivot = df.pivot_table(values = 'objID', index = 'Form_Rand', aggfunc = len)\n",
    "df_pivot = pd.DataFrame(df_pivot)\n",
    "# Sortierung in Aufsteigend ändern\n",
    "df_pivot = df_pivot.sort_index(by = ['objID'], ascending=False)\n",
    "# Prozent-Anteil errechnen\n",
    "df_pivot['Prozent'] = df_pivot['objID']/df_pivot['objID'].sum()*100\n",
    "display(df_pivot.head(7))"
   ]
  },
  {
   "cell_type": "markdown",
   "metadata": {},
   "source": [
    "> **Tab. #** Bobulu-Gruppe: Randformen"
   ]
  },
  {
   "cell_type": "code",
   "execution_count": 59,
   "metadata": {},
   "outputs": [
    {
     "data": {
      "text/plain": [
       "<matplotlib.text.Text at 0x1b83d0e1cf8>"
      ]
     },
     "execution_count": 59,
     "metadata": {},
     "output_type": "execute_result"
    },
    {
     "data": {
      "image/png": "[encoded data removed]",
      "text/plain": [
       "<matplotlib.figure.Figure at 0x1b83d0eb8d0>"
      ]
     },
     "metadata": {},
     "output_type": "display_data"
    }
   ],
   "source": [
    "fig = plt.figure()\n",
    "fig.set_size_inches(5, 5)\n",
    "df_pivot['objID'].plot(kind='pie', autopct='%.0f %%', cmap = 'Paired')\n",
    "plt.ylabel('')"
   ]
  },
  {
   "cell_type": "code",
   "execution_count": 60,
   "metadata": {},
   "outputs": [
    {
     "data": {
      "text/plain": [
       "46"
      ]
     },
     "execution_count": 60,
     "metadata": {},
     "output_type": "execute_result"
    }
   ],
   "source": [
    "df_pivot['objID'].sum()   # Anzahl GE mit bestimmter Randform"
   ]
  },
  {
   "cell_type": "code",
   "execution_count": 61,
   "metadata": {},
   "outputs": [
    {
     "data": {
      "text/plain": [
       "14"
      ]
     },
     "execution_count": 61,
     "metadata": {},
     "output_type": "execute_result"
    }
   ],
   "source": [
    "len(df_pivot['objID'])    # Anzahl beobachtete Randformen"
   ]
  },
  {
   "cell_type": "code",
   "execution_count": 62,
   "metadata": {
    "scrolled": false
   },
   "outputs": [
    {
     "data": {
      "image/png": "[encoded data removed]",
      "text/plain": [
       "<matplotlib.figure.Figure at 0x1b83d0d8dd8>"
      ]
     },
     "metadata": {},
     "output_type": "display_data"
    }
   ],
   "source": [
    "df_pivot = df.pivot_table(values = 'objID', index = 'Form_Mdg', columns = 'Form_Rand', aggfunc = len, fill_value = 0)\n",
    "fig = plt.figure()\n",
    "fig.set_size_inches(12, 7.5)\n",
    "plt.imshow(df_pivot, interpolation='nearest', cmap='Greys', alpha = .5)\n",
    "plt.yticks(range(len(df_pivot.index)), df_pivot.index)\n",
    "plt.xticks(range(len(df_pivot.columns)), df_pivot.columns, rotation='vertical')\n",
    "for (i, j), z in np.ndenumerate(df_pivot):\n",
    "    plt.text(j, i, '{:0.0f}'.format(z), ha='center', va='center')\n",
    "plt.show()"
   ]
  },
  {
   "cell_type": "code",
   "execution_count": 63,
   "metadata": {},
   "outputs": [
    {
     "data": {
      "text/plain": [
       "<matplotlib.text.Text at 0x1b83ec0d1d0>"
      ]
     },
     "execution_count": 63,
     "metadata": {},
     "output_type": "execute_result"
    },
    {
     "data": {
      "image/png": "[encoded data removed]",
      "text/plain": [
       "<matplotlib.figure.Figure at 0x1b83d4d40b8>"
      ]
     },
     "metadata": {},
     "output_type": "display_data"
    }
   ],
   "source": [
    "# alles hinter der 2. Stelle abschneiden, um nur die Grundform zu haben\n",
    "df['Form_Hals_GR'] = df['Form_Hals'].map(lambda x: str(x)[:2])\n",
    "a = df.loc[~df['Form_Hals_GR'].str.contains(\"No|na\")]\n",
    "\n",
    "df_pivot = a.pivot_table(values = 'objID', index = 'Form_Hals_GR', aggfunc = len)\n",
    "fig = plt.figure()\n",
    "fig.set_size_inches(5, 5)\n",
    "df_pivot.plot(kind='pie', autopct='%.0f %%', cmap = 'Paired')\n",
    "plt.title(\"Hals\")"
   ]
  },
  {
   "cell_type": "code",
   "execution_count": 64,
   "metadata": {},
   "outputs": [
    {
     "data": {
      "text/plain": [
       "<matplotlib.text.Text at 0x1b83ea8cb00>"
      ]
     },
     "execution_count": 64,
     "metadata": {},
     "output_type": "execute_result"
    },
    {
     "data": {
      "image/png": "[encoded data removed]",
      "text/plain": [
       "<matplotlib.figure.Figure at 0x1b83e86be80>"
      ]
     },
     "metadata": {},
     "output_type": "display_data"
    }
   ],
   "source": [
    "# alles hinter der 2. Stelle abschneiden, um nur die Grundform zu haben\n",
    "df['Form_Schulter_GR'] = df['Form_Schulter'].map(lambda x: str(x)[:2])\n",
    "a = df.loc[~df['Form_Schulter_GR'].str.contains(\"No|na\")]\n",
    "\n",
    "df_pivot = df.pivot_table(values = 'objID', index = 'Form_Schulter', aggfunc = len)\n",
    "fig = plt.figure()\n",
    "fig.set_size_inches(5, 5)\n",
    "df_pivot.plot(kind='pie', autopct='%.0f %%', cmap = 'Paired')\n",
    "plt.title(\"Schulter\")"
   ]
  },
  {
   "cell_type": "markdown",
   "metadata": {},
   "source": [
    "### Bodenformen"
   ]
  },
  {
   "cell_type": "code",
   "execution_count": 65,
   "metadata": {},
   "outputs": [
    {
     "data": {
      "text/html": [
       "<div>\n",
       "<table border=\"1\" class=\"dataframe\">\n",
       "  <thead>\n",
       "    <tr style=\"text-align: right;\">\n",
       "      <th></th>\n",
       "      <th>ort_kurz</th>\n",
       "      <th>ort_name</th>\n",
       "      <th>objID</th>\n",
       "      <th>Typ</th>\n",
       "      <th>Form_Gef</th>\n",
       "      <th>Form_Boden</th>\n",
       "    </tr>\n",
       "  </thead>\n",
       "  <tbody>\n",
       "  </tbody>\n",
       "</table>\n",
       "</div>"
      ],
      "text/plain": [
       "Empty DataFrame\n",
       "Columns: [ort_kurz, ort_name, objID, Typ, Form_Gef, Form_Boden]\n",
       "Index: []"
      ]
     },
     "execution_count": 65,
     "metadata": {},
     "output_type": "execute_result"
    }
   ],
   "source": [
    "sql = \"\"\"SELECT\n",
    "           t_Ort.ort_kurz,\n",
    "           t_Ort.ort_name,\n",
    "           t_Obj.objID,\n",
    "           t_Obj.Typ,\n",
    "           t_Obj.Form_Gef,\n",
    "           t_Obj.Form_Boden\n",
    "       FROM (t_Ort INNER JOIN t_Komplex ON t_Ort.ortID = t_Komplex.ortID)\n",
    "           INNER JOIN t_Obj ON t_Komplex.komplexID = t_Obj.komplexID\n",
    "       WHERE (((t_Ort.ort_lit)='DS')\n",
    "           AND ((t_Obj.Typ) Like '%\"\"\"+style+\"\"\"%')\n",
    "           AND ((t_Obj.Anzahl) = 1)\n",
    "           AND ((t_Obj.Form_Boden) != ''))\"\"\".replace('\\n',' ')\n",
    "\n",
    "df = pd.read_sql(sql, con)\n",
    "df"
   ]
  },
  {
   "cell_type": "markdown",
   "metadata": {},
   "source": [
    "## Verzierungselemente"
   ]
  },
  {
   "cell_type": "code",
   "execution_count": 2,
   "metadata": {
    "scrolled": true
   },
   "outputs": [
    {
     "name": "stderr",
     "output_type": "stream",
     "text": [
      "C:\\Users\\Dirk\\Dropbox\\Dissertation\\Python\\myfunctions.py:66: SettingWithCopyWarning: \n",
      "A value is trying to be set on a copy of a slice from a DataFrame.\n",
      "Try using .loc[row_indexer,col_indexer] = value instead\n",
      "\n",
      "See the caveats in the documentation: http://pandas.pydata.org/pandas-docs/stable/indexing.html#indexing-view-versus-copy\n",
      "  df1['n'] = 1\n",
      "C:\\Users\\Dirk\\Dropbox\\Dissertation\\Python\\myfunctions.py:88: FutureWarning: convert_objects is deprecated.  Use the data-type specific converters pd.to_datetime, pd.to_timedelta and pd.to_numeric.\n",
      "  ab[1] = ab[1].convert_objects(convert_numeric=True)\n"
     ]
    }
   ],
   "source": [
    "(df_pivotBig_perc, df_pivotBig_perc_a, new_cmap) = decoration_positon_matrices_print(style)"
   ]
  },
  {
   "cell_type": "code",
   "execution_count": 3,
   "metadata": {
    "scrolled": false
   },
   "outputs": [
    {
     "data": {
      "image/png": "[encoded data removed]",
      "text/plain": [
       "<matplotlib.figure.Figure at 0x21f56dce160>"
      ]
     },
     "metadata": {},
     "output_type": "display_data"
    }
   ],
   "source": [
    "fig = plt.figure()\n",
    "fig.set_size_inches(25, 15)\n",
    "\n",
    "ax = plt.gca()\n",
    "im = ax.imshow(df_pivotBig_perc, interpolation='nearest', cmap=parula_map, alpha=.66)\n",
    "\n",
    "plt.xlabel('Verzierungselemente (Schlüssel)')\n",
    "plt.yticks(range(len(df_pivotBig_perc.index)), df_pivotBig_perc.index.str[2:])\n",
    "plt.xticks(range(len(df_pivotBig_perc.columns)), df_pivotBig_perc.columns, rotation = -45)\n",
    "\n",
    "for (i, j), z in np.ndenumerate(df_pivotBig_perc_a):\n",
    "    plt.text(j, i, z, ha='center', va='center')\n",
    "    \n",
    "plt.axvline(10.5, color='grey', linestyle = '--')\n",
    "plt.axvline(17.5, color='grey', linestyle = '--')\n",
    "plt.axvline(18.5, color='grey', linestyle = '--')\n",
    "plt.axvline(20.5, color='grey', linestyle = '--')\n",
    "plt.axvline(43.5, color='grey', linestyle = '--')\n",
    "plt.axvline(44.5, color='grey', linestyle = '--')\n",
    "plt.axvline(57.5, color='grey', linestyle = '--')\n",
    "plt.axvline(61.5, color='grey', linestyle = '--')\n",
    "plt.axvline(70.5, color='grey', linestyle = '--')\n",
    "\n",
    "divider = make_axes_locatable(ax)\n",
    "cax = divider.append_axes(\"right\", size=\"1%\", pad=0.2)\n",
    "cbar = plt.colorbar(im, cax=cax)\n",
    "cbar.set_label('Anteil (%)', rotation = -90, labelpad = 15)\n",
    "\n",
    "plt.tight_layout()\n",
    "\n",
    "plt.savefig('../output/figs/3-1-1-6_Bobulu_VerzierungselmenteAlle.pdf', bbox_inches='tight')\n",
    "plt.show()"
   ]
  },
  {
   "cell_type": "code",
   "execution_count": 68,
   "metadata": {
    "collapsed": true
   },
   "outputs": [],
   "source": [
    "sql = \"\"\"SELECT\n",
    "           t_Obj.objID,\n",
    "           t_K_Pos.posID,\n",
    "           t_K_Verz.verzID,\n",
    "           [t_K_Pos].[posReihe] || ' ' || [posName] AS pos,\n",
    "           t_K_Verz.verzName,\n",
    "           t_K_Verz.verzBeschr,\n",
    "           t_Obj.Typ,\n",
    "           t_Obj.Form_Gef\n",
    "       FROM t_Obj INNER JOIN \"t_ObjPosVerz\" ON t_Obj.objID = \"t_ObjPosVerz\".objID\n",
    "           INNER JOIN t_K_Pos ON \"t_ObjPosVerz\".posID = t_K_Pos.posID\n",
    "           INNER JOIN t_K_Verz ON \"t_ObjPosVerz\".verzID = t_K_Verz.verzID\n",
    "       WHERE (((t_K_Pos.posID)<>1)\n",
    "           AND ((t_K_Verz.verzName) != '')\n",
    "           AND ((t_Obj.Typ) Like '%BBL%'))\"\"\".replace('\\n',' ')\n",
    "\n",
    "df = pd.read_sql(sql, con)\n",
    "# display(df.head())"
   ]
  },
  {
   "cell_type": "code",
   "execution_count": 69,
   "metadata": {
    "collapsed": true
   },
   "outputs": [],
   "source": [
    "df_pivot = df.pivot_table(values = 'objID', index = 'pos', columns = 'verzName', aggfunc = len)\n",
    "#df_pivot = df_pivot.fillna(0)\n",
    "# Sortierung für graphische Darstellung umdrehen\n",
    "df_pivot = df_pivot.sort_index(ascending=True)\n",
    "# heatmap siehe http://yonatanfriedman.com/docs/survey/plotting.html"
   ]
  },
  {
   "cell_type": "code",
   "execution_count": 70,
   "metadata": {},
   "outputs": [
    {
     "data": {
      "image/png": "[encoded data removed]",
      "text/plain": [
       "<matplotlib.figure.Figure at 0x1b83f83a550>"
      ]
     },
     "metadata": {},
     "output_type": "display_data"
    }
   ],
   "source": [
    "fig = plt.figure()\n",
    "fig.set_size_inches(10, 7.5)\n",
    "plt.imshow(df_pivot, interpolation='nearest', cmap=parula_map, alpha = .5)\n",
    "plt.ylabel('Gefäßposition')\n",
    "plt.xlabel('Verzierungselemente')\n",
    "plt.yticks(range(len(df_pivot.index)), df_pivot.index)\n",
    "plt.xticks(range(len(df_pivot.columns)), df_pivot.columns, rotation='vertical')\n",
    "# plt.colorbar(orientation='horizontal')\n",
    "for (i, j), z in np.ndenumerate(df_pivot):\n",
    "    plt.text(j, i, '{:0.0f}'.format(z), ha='center', va='center')\n",
    "plt.tight_layout()\n",
    "plt.savefig('../output/figs/3-1-1-6_Bobulu_Verzierungselmente.pdf', bbox_inches='tight')\n",
    "plt.show()"
   ]
  },
  {
   "cell_type": "code",
   "execution_count": 71,
   "metadata": {},
   "outputs": [
    {
     "name": "stderr",
     "output_type": "stream",
     "text": [
      "C:\\Users\\Dirk\\Anaconda3\\lib\\site-packages\\ipykernel\\__main__.py:4: FutureWarning: by argument to sort_index is deprecated, pls use .sort_values(by=...)\n"
     ]
    }
   ],
   "source": [
    "df_pivot = df.pivot_table(values = 'objID', index = 'verzName', aggfunc = len)\n",
    "df_pivot = pd.DataFrame(df_pivot)\n",
    "# Sortierung in Aufsteigend ändern\n",
    "df_pivot = df_pivot.sort_index(by = ['objID'], ascending = True)"
   ]
  },
  {
   "cell_type": "code",
   "execution_count": 72,
   "metadata": {},
   "outputs": [
    {
     "data": {
      "text/plain": [
       "<matplotlib.text.Text at 0x1b83f0c14a8>"
      ]
     },
     "execution_count": 72,
     "metadata": {},
     "output_type": "execute_result"
    },
    {
     "data": {
      "image/png": "[encoded data removed]",
      "text/plain": [
       "<matplotlib.figure.Figure at 0x1b83f832fd0>"
      ]
     },
     "metadata": {},
     "output_type": "display_data"
    }
   ],
   "source": [
    "fig = plt.figure()\n",
    "fig.set_size_inches(5, 5)\n",
    "df_pivot['objID'].plot(kind='pie', autopct='%.0f %%', cmap = 'Paired' )\n",
    "plt.ylabel('')\n",
    "#plt.title('Mokelo-Gruppe\\nGefäßformen')\n",
    "#plt.savefig('output/3-1-1-3_Mokelo-Gr_GefForm2.pdf')"
   ]
  },
  {
   "cell_type": "code",
   "execution_count": 73,
   "metadata": {},
   "outputs": [
    {
     "data": {
      "text/html": [
       "<div>\n",
       "<table border=\"1\" class=\"dataframe\">\n",
       "  <thead>\n",
       "    <tr style=\"text-align: right;\">\n",
       "      <th></th>\n",
       "      <th>0</th>\n",
       "      <th>Prozent</th>\n",
       "    </tr>\n",
       "  </thead>\n",
       "  <tbody>\n",
       "    <tr>\n",
       "      <th>Roulette-Verzierung</th>\n",
       "      <td>7</td>\n",
       "      <td>6.542056</td>\n",
       "    </tr>\n",
       "    <tr>\n",
       "      <th>Weitere Verzierungen</th>\n",
       "      <td>100</td>\n",
       "      <td>93.457944</td>\n",
       "    </tr>\n",
       "  </tbody>\n",
       "</table>\n",
       "</div>"
      ],
      "text/plain": [
       "                        0    Prozent\n",
       "Roulette-Verzierung     7   6.542056\n",
       "Weitere Verzierungen  100  93.457944"
      ]
     },
     "execution_count": 73,
     "metadata": {},
     "output_type": "execute_result"
    }
   ],
   "source": [
    "a = pd.Series({'Roulette-Verzierung':len(df.loc[df['verzName'].str.contains(\"21.\")].index),\n",
    "               'Weitere Verzierungen':len(df.loc[~df['verzName'].str.contains(\"21.\")].index)})\n",
    "a = pd.DataFrame(a)\n",
    "a['Prozent'] = a[0]/a[0].sum()*100\n",
    "a"
   ]
  },
  {
   "cell_type": "code",
   "execution_count": 74,
   "metadata": {},
   "outputs": [
    {
     "data": {
      "text/html": [
       "<div>\n",
       "<table border=\"1\" class=\"dataframe\">\n",
       "  <thead>\n",
       "    <tr style=\"text-align: right;\">\n",
       "      <th></th>\n",
       "      <th>objID</th>\n",
       "      <th>posID</th>\n",
       "      <th>verzID</th>\n",
       "      <th>pos</th>\n",
       "      <th>verzName</th>\n",
       "      <th>verzBeschr</th>\n",
       "      <th>Typ</th>\n",
       "      <th>Form_Gef</th>\n",
       "    </tr>\n",
       "  </thead>\n",
       "  <tbody>\n",
       "    <tr>\n",
       "      <th>30</th>\n",
       "      <td>5661</td>\n",
       "      <td>6</td>\n",
       "      <td>23</td>\n",
       "      <td>4 Schulter</td>\n",
       "      <td>21.1</td>\n",
       "      <td>vegetabilisches Roulette/Knotted String</td>\n",
       "      <td>BBL</td>\n",
       "      <td>D2</td>\n",
       "    </tr>\n",
       "    <tr>\n",
       "      <th>61</th>\n",
       "      <td>5797</td>\n",
       "      <td>6</td>\n",
       "      <td>23</td>\n",
       "      <td>4 Schulter</td>\n",
       "      <td>21.1</td>\n",
       "      <td>vegetabilisches Roulette/Knotted String</td>\n",
       "      <td>BBL</td>\n",
       "      <td>D1/E1</td>\n",
       "    </tr>\n",
       "    <tr>\n",
       "      <th>64</th>\n",
       "      <td>5798</td>\n",
       "      <td>6</td>\n",
       "      <td>23</td>\n",
       "      <td>4 Schulter</td>\n",
       "      <td>21.1</td>\n",
       "      <td>vegetabilisches Roulette/Knotted String</td>\n",
       "      <td>BBL</td>\n",
       "      <td>E1 (?)</td>\n",
       "    </tr>\n",
       "    <tr>\n",
       "      <th>66</th>\n",
       "      <td>5799</td>\n",
       "      <td>6</td>\n",
       "      <td>76</td>\n",
       "      <td>4 Schulter</td>\n",
       "      <td>21.2</td>\n",
       "      <td>Twisted String</td>\n",
       "      <td>BBL (?)</td>\n",
       "      <td>A2/A3 (?)</td>\n",
       "    </tr>\n",
       "    <tr>\n",
       "      <th>67</th>\n",
       "      <td>5799</td>\n",
       "      <td>7</td>\n",
       "      <td>76</td>\n",
       "      <td>5 Bauch</td>\n",
       "      <td>21.2</td>\n",
       "      <td>Twisted String</td>\n",
       "      <td>BBL (?)</td>\n",
       "      <td>A2/A3 (?)</td>\n",
       "    </tr>\n",
       "    <tr>\n",
       "      <th>69</th>\n",
       "      <td>5800</td>\n",
       "      <td>7</td>\n",
       "      <td>78</td>\n",
       "      <td>5 Bauch</td>\n",
       "      <td>21.3</td>\n",
       "      <td>Alternate Knotted Strip</td>\n",
       "      <td>BBL (?)</td>\n",
       "      <td>None</td>\n",
       "    </tr>\n",
       "    <tr>\n",
       "      <th>71</th>\n",
       "      <td>5801</td>\n",
       "      <td>7</td>\n",
       "      <td>76</td>\n",
       "      <td>5 Bauch</td>\n",
       "      <td>21.2</td>\n",
       "      <td>Twisted String</td>\n",
       "      <td>BBL (?)</td>\n",
       "      <td>None</td>\n",
       "    </tr>\n",
       "  </tbody>\n",
       "</table>\n",
       "</div>"
      ],
      "text/plain": [
       "    objID  posID  verzID         pos verzName  \\\n",
       "30   5661      6      23  4 Schulter     21.1   \n",
       "61   5797      6      23  4 Schulter     21.1   \n",
       "64   5798      6      23  4 Schulter     21.1   \n",
       "66   5799      6      76  4 Schulter     21.2   \n",
       "67   5799      7      76     5 Bauch     21.2   \n",
       "69   5800      7      78     5 Bauch     21.3   \n",
       "71   5801      7      76     5 Bauch     21.2   \n",
       "\n",
       "                                 verzBeschr      Typ   Form_Gef  \n",
       "30  vegetabilisches Roulette/Knotted String      BBL         D2  \n",
       "61  vegetabilisches Roulette/Knotted String      BBL      D1/E1  \n",
       "64  vegetabilisches Roulette/Knotted String      BBL     E1 (?)  \n",
       "66                           Twisted String  BBL (?)  A2/A3 (?)  \n",
       "67                           Twisted String  BBL (?)  A2/A3 (?)  \n",
       "69                  Alternate Knotted Strip  BBL (?)       None  \n",
       "71                           Twisted String  BBL (?)       None  "
      ]
     },
     "execution_count": 74,
     "metadata": {},
     "output_type": "execute_result"
    }
   ],
   "source": [
    "df.loc[df['verzName'].str.contains(\"21.\")]"
   ]
  },
  {
   "cell_type": "code",
   "execution_count": 75,
   "metadata": {},
   "outputs": [
    {
     "data": {
      "text/html": [
       "<div>\n",
       "<table border=\"1\" class=\"dataframe\">\n",
       "  <thead>\n",
       "    <tr style=\"text-align: right;\">\n",
       "      <th></th>\n",
       "      <th>objID</th>\n",
       "      <th>posID</th>\n",
       "      <th>verzID</th>\n",
       "      <th>pos</th>\n",
       "      <th>verzName</th>\n",
       "      <th>verzBeschr</th>\n",
       "      <th>Typ</th>\n",
       "      <th>Form_Gef</th>\n",
       "    </tr>\n",
       "  </thead>\n",
       "  <tbody>\n",
       "    <tr>\n",
       "      <th>31</th>\n",
       "      <td>5663</td>\n",
       "      <td>6</td>\n",
       "      <td>22</td>\n",
       "      <td>4 Schulter</td>\n",
       "      <td>08</td>\n",
       "      <td>banfwa-nfwa</td>\n",
       "      <td>BBL</td>\n",
       "      <td>D2</td>\n",
       "    </tr>\n",
       "    <tr>\n",
       "      <th>40</th>\n",
       "      <td>5785</td>\n",
       "      <td>6</td>\n",
       "      <td>22</td>\n",
       "      <td>4 Schulter</td>\n",
       "      <td>08</td>\n",
       "      <td>banfwa-nfwa</td>\n",
       "      <td>BBL</td>\n",
       "      <td>A2/A3</td>\n",
       "    </tr>\n",
       "    <tr>\n",
       "      <th>42</th>\n",
       "      <td>5785</td>\n",
       "      <td>7</td>\n",
       "      <td>22</td>\n",
       "      <td>5 Bauch</td>\n",
       "      <td>08</td>\n",
       "      <td>banfwa-nfwa</td>\n",
       "      <td>BBL</td>\n",
       "      <td>A2/A3</td>\n",
       "    </tr>\n",
       "    <tr>\n",
       "      <th>46</th>\n",
       "      <td>5789</td>\n",
       "      <td>6</td>\n",
       "      <td>22</td>\n",
       "      <td>4 Schulter</td>\n",
       "      <td>08</td>\n",
       "      <td>banfwa-nfwa</td>\n",
       "      <td>BBL</td>\n",
       "      <td>D2</td>\n",
       "    </tr>\n",
       "    <tr>\n",
       "      <th>47</th>\n",
       "      <td>5789</td>\n",
       "      <td>7</td>\n",
       "      <td>22</td>\n",
       "      <td>5 Bauch</td>\n",
       "      <td>08</td>\n",
       "      <td>banfwa-nfwa</td>\n",
       "      <td>BBL</td>\n",
       "      <td>D2</td>\n",
       "    </tr>\n",
       "    <tr>\n",
       "      <th>58</th>\n",
       "      <td>5794</td>\n",
       "      <td>3</td>\n",
       "      <td>22</td>\n",
       "      <td>2 Rand</td>\n",
       "      <td>08</td>\n",
       "      <td>banfwa-nfwa</td>\n",
       "      <td>BBL</td>\n",
       "      <td>H1</td>\n",
       "    </tr>\n",
       "    <tr>\n",
       "      <th>59</th>\n",
       "      <td>5794</td>\n",
       "      <td>7</td>\n",
       "      <td>22</td>\n",
       "      <td>5 Bauch</td>\n",
       "      <td>08</td>\n",
       "      <td>banfwa-nfwa</td>\n",
       "      <td>BBL</td>\n",
       "      <td>H1</td>\n",
       "    </tr>\n",
       "  </tbody>\n",
       "</table>\n",
       "</div>"
      ],
      "text/plain": [
       "    objID  posID  verzID         pos verzName   verzBeschr  Typ Form_Gef\n",
       "31   5663      6      22  4 Schulter       08  banfwa-nfwa  BBL       D2\n",
       "40   5785      6      22  4 Schulter       08  banfwa-nfwa  BBL    A2/A3\n",
       "42   5785      7      22     5 Bauch       08  banfwa-nfwa  BBL    A2/A3\n",
       "46   5789      6      22  4 Schulter       08  banfwa-nfwa  BBL       D2\n",
       "47   5789      7      22     5 Bauch       08  banfwa-nfwa  BBL       D2\n",
       "58   5794      3      22      2 Rand       08  banfwa-nfwa  BBL       H1\n",
       "59   5794      7      22     5 Bauch       08  banfwa-nfwa  BBL       H1"
      ]
     },
     "execution_count": 75,
     "metadata": {},
     "output_type": "execute_result"
    }
   ],
   "source": [
    "df.loc[df['verzName'].str.contains(\"08\")]"
   ]
  },
  {
   "cell_type": "markdown",
   "metadata": {
    "collapsed": true
   },
   "source": [
    "## Verbreitung"
   ]
  },
  {
   "cell_type": "code",
   "execution_count": 76,
   "metadata": {},
   "outputs": [
    {
     "data": {
      "text/html": [
       "<div>\n",
       "<table border=\"1\" class=\"dataframe\">\n",
       "  <thead>\n",
       "    <tr style=\"text-align: right;\">\n",
       "      <th>Typ</th>\n",
       "      <th>Ort</th>\n",
       "      <th>Kat-Nr</th>\n",
       "      <th>X</th>\n",
       "      <th>Y</th>\n",
       "      <th>TYP</th>\n",
       "    </tr>\n",
       "  </thead>\n",
       "  <tbody>\n",
       "    <tr>\n",
       "      <th>1</th>\n",
       "      <td>Boyoka (Fpl. 196)</td>\n",
       "      <td>196</td>\n",
       "      <td>17.898659</td>\n",
       "      <td>1.089931</td>\n",
       "      <td>BBL</td>\n",
       "    </tr>\n",
       "    <tr>\n",
       "      <th>2</th>\n",
       "      <td>Ebeka (Fpl. 197)</td>\n",
       "      <td>197</td>\n",
       "      <td>18.031148</td>\n",
       "      <td>1.429335</td>\n",
       "      <td>BBL</td>\n",
       "    </tr>\n",
       "    <tr>\n",
       "      <th>0</th>\n",
       "      <td>Bobulu (Fpl. 198)</td>\n",
       "      <td>198</td>\n",
       "      <td>18.042886</td>\n",
       "      <td>1.441145</td>\n",
       "      <td>BBL</td>\n",
       "    </tr>\n",
       "    <tr>\n",
       "      <th>5</th>\n",
       "      <td>Nzambi (Fpl. 205)</td>\n",
       "      <td>205</td>\n",
       "      <td>18.637255</td>\n",
       "      <td>3.161920</td>\n",
       "      <td>BBL (?)</td>\n",
       "    </tr>\n",
       "    <tr>\n",
       "      <th>4</th>\n",
       "      <td>Maoko (Fpl. 207)</td>\n",
       "      <td>207</td>\n",
       "      <td>18.642191</td>\n",
       "      <td>3.407332</td>\n",
       "      <td>BBL</td>\n",
       "    </tr>\n",
       "    <tr>\n",
       "      <th>3</th>\n",
       "      <td>Maluba (Fpl. 230)</td>\n",
       "      <td>230</td>\n",
       "      <td>18.523706</td>\n",
       "      <td>2.806193</td>\n",
       "      <td>BBL</td>\n",
       "    </tr>\n",
       "  </tbody>\n",
       "</table>\n",
       "</div>"
      ],
      "text/plain": [
       "Typ                Ort Kat-Nr          X         Y      TYP\n",
       "1    Boyoka (Fpl. 196)    196  17.898659  1.089931      BBL\n",
       "2     Ebeka (Fpl. 197)    197  18.031148  1.429335      BBL\n",
       "0    Bobulu (Fpl. 198)    198  18.042886  1.441145      BBL\n",
       "5    Nzambi (Fpl. 205)    205  18.637255  3.161920  BBL (?)\n",
       "4     Maoko (Fpl. 207)    207  18.642191  3.407332      BBL\n",
       "3    Maluba (Fpl. 230)    230  18.523706  2.806193      BBL"
      ]
     },
     "execution_count": 76,
     "metadata": {},
     "output_type": "execute_result"
    }
   ],
   "source": [
    "df = style_mapping_gis_export(style)\n",
    "df.to_csv(\"../data/processed/3-1-1-6_\"+style+\"_Verbreitung.csv\", index = False)\n",
    "df.sort_values(['Kat-Nr'])"
   ]
  },
  {
   "cell_type": "markdown",
   "metadata": {
    "collapsed": true
   },
   "source": [
    "## Tafeln"
   ]
  },
  {
   "cell_type": "code",
   "execution_count": 77,
   "metadata": {},
   "outputs": [
    {
     "data": {
      "text/html": [
       "<div>\n",
       "<table border=\"1\" class=\"dataframe\">\n",
       "  <thead>\n",
       "    <tr style=\"text-align: right;\">\n",
       "      <th></th>\n",
       "      <th>TAF</th>\n",
       "      <th>OBJ</th>\n",
       "      <th>SITE</th>\n",
       "      <th>FEAT</th>\n",
       "      <th>NOTE</th>\n",
       "      <th>IND</th>\n",
       "      <th>Typ</th>\n",
       "      <th>Form_Gef</th>\n",
       "      <th>Form_Rand</th>\n",
       "      <th>Form_Hals</th>\n",
       "      <th>Form_Schulter</th>\n",
       "      <th>Form_Bauch</th>\n",
       "      <th>Form_Boden</th>\n",
       "    </tr>\n",
       "  </thead>\n",
       "  <tbody>\n",
       "    <tr>\n",
       "      <th>0</th>\n",
       "      <td>5</td>\n",
       "      <td>3</td>\n",
       "      <td>BYO</td>\n",
       "      <td>85/101</td>\n",
       "      <td>NaN</td>\n",
       "      <td>31</td>\n",
       "      <td>BBL</td>\n",
       "      <td>None</td>\n",
       "      <td>B2.1</td>\n",
       "      <td>B1/C1</td>\n",
       "      <td></td>\n",
       "      <td></td>\n",
       "      <td>None</td>\n",
       "    </tr>\n",
       "    <tr>\n",
       "      <th>1</th>\n",
       "      <td>5</td>\n",
       "      <td>4</td>\n",
       "      <td>BYO</td>\n",
       "      <td>85/101</td>\n",
       "      <td>NaN</td>\n",
       "      <td>21</td>\n",
       "      <td>BBL</td>\n",
       "      <td>None</td>\n",
       "      <td>A2</td>\n",
       "      <td>B1/C1</td>\n",
       "      <td></td>\n",
       "      <td></td>\n",
       "      <td>None</td>\n",
       "    </tr>\n",
       "    <tr>\n",
       "      <th>2</th>\n",
       "      <td>5</td>\n",
       "      <td>8</td>\n",
       "      <td>BBL</td>\n",
       "      <td>85/101</td>\n",
       "      <td>NaN</td>\n",
       "      <td>41</td>\n",
       "      <td>BBL</td>\n",
       "      <td>C1 (?)</td>\n",
       "      <td>B2.1</td>\n",
       "      <td>B1</td>\n",
       "      <td>A1 (?)</td>\n",
       "      <td></td>\n",
       "      <td>None</td>\n",
       "    </tr>\n",
       "    <tr>\n",
       "      <th>3</th>\n",
       "      <td>5</td>\n",
       "      <td>10</td>\n",
       "      <td>BBL</td>\n",
       "      <td>85/101</td>\n",
       "      <td>NaN</td>\n",
       "      <td>29</td>\n",
       "      <td>BBL</td>\n",
       "      <td>E1 (?)</td>\n",
       "      <td>A1</td>\n",
       "      <td>B1</td>\n",
       "      <td></td>\n",
       "      <td></td>\n",
       "      <td>None</td>\n",
       "    </tr>\n",
       "    <tr>\n",
       "      <th>4</th>\n",
       "      <td>6</td>\n",
       "      <td>3</td>\n",
       "      <td>BBL</td>\n",
       "      <td>85/102</td>\n",
       "      <td>NaN</td>\n",
       "      <td>3</td>\n",
       "      <td>BBL</td>\n",
       "      <td>H1</td>\n",
       "      <td>C3</td>\n",
       "      <td></td>\n",
       "      <td></td>\n",
       "      <td>A1</td>\n",
       "      <td>None</td>\n",
       "    </tr>\n",
       "    <tr>\n",
       "      <th>5</th>\n",
       "      <td>6</td>\n",
       "      <td>4</td>\n",
       "      <td>BBL</td>\n",
       "      <td>85/102</td>\n",
       "      <td>NaN</td>\n",
       "      <td>14</td>\n",
       "      <td>BBL</td>\n",
       "      <td>E1</td>\n",
       "      <td>B1</td>\n",
       "      <td>X</td>\n",
       "      <td>A2</td>\n",
       "      <td>A1</td>\n",
       "      <td>None</td>\n",
       "    </tr>\n",
       "    <tr>\n",
       "      <th>6</th>\n",
       "      <td>25</td>\n",
       "      <td>13</td>\n",
       "      <td>MLB</td>\n",
       "      <td>85/1-3-1</td>\n",
       "      <td>NaN</td>\n",
       "      <td>-2:24</td>\n",
       "      <td>BBL</td>\n",
       "      <td>None</td>\n",
       "      <td>A1</td>\n",
       "      <td></td>\n",
       "      <td>A2</td>\n",
       "      <td></td>\n",
       "      <td>None</td>\n",
       "    </tr>\n",
       "  </tbody>\n",
       "</table>\n",
       "</div>"
      ],
      "text/plain": [
       "   TAF  OBJ SITE      FEAT NOTE    IND  Typ Form_Gef Form_Rand Form_Hals  \\\n",
       "0    5    3  BYO    85/101  NaN     31  BBL     None      B2.1     B1/C1   \n",
       "1    5    4  BYO    85/101  NaN     21  BBL     None        A2     B1/C1   \n",
       "2    5    8  BBL    85/101  NaN     41  BBL   C1 (?)      B2.1        B1   \n",
       "3    5   10  BBL    85/101  NaN     29  BBL   E1 (?)        A1        B1   \n",
       "4    6    3  BBL    85/102  NaN      3  BBL       H1        C3             \n",
       "5    6    4  BBL    85/102  NaN     14  BBL       E1        B1         X   \n",
       "6   25   13  MLB  85/1-3-1  NaN  -2:24  BBL     None        A1             \n",
       "\n",
       "  Form_Schulter Form_Bauch Form_Boden  \n",
       "0                                None  \n",
       "1                                None  \n",
       "2        A1 (?)                  None  \n",
       "3                                None  \n",
       "4                       A1       None  \n",
       "5            A2         A1       None  \n",
       "6            A2                  None  "
      ]
     },
     "execution_count": 77,
     "metadata": {},
     "output_type": "execute_result"
    }
   ],
   "source": [
    "sql = \"\"\"SELECT\n",
    "           t_Ort.ort_kurz AS SITE,\n",
    "           t_Komplex.bef_nr AS FEAT,\n",
    "           t_Obj.Individuum AS IND,\n",
    "           t_Obj.Typ,\n",
    "           t_Obj.Form_Gef,\n",
    "           t_Obj.Form_Rand,\n",
    "           t_Obj.Form_Hals,\n",
    "           t_Obj.Form_Schulter,\n",
    "           t_Obj.Form_Bauch,\n",
    "           t_Obj.Form_Boden\n",
    "       FROM (t_Ort INNER JOIN t_Komplex ON t_Ort.ortID = t_Komplex.ortID)\n",
    "           INNER JOIN t_Obj ON t_Komplex.komplexID = t_Obj.komplexID\n",
    "       WHERE (((t_Ort.ort_lit) = 'DS')\n",
    "           AND ((t_Obj.Typ) Like '%\"\"\"+style+\"\"\"%'))\"\"\".replace('\\n',' ')\n",
    "\n",
    "df = pd.read_sql(sql, con)\n",
    "\n",
    "pl = pd.read_csv('../plates/plates.csv')\n",
    "\n",
    "df_merge = pd.merge(pl, df, on=['SITE', 'FEAT', 'IND'], how='inner')\n",
    "df_merge"
   ]
  },
  {
   "cell_type": "code",
   "execution_count": null,
   "metadata": {
    "collapsed": true
   },
   "outputs": [],
   "source": []
  }
 ],
 "metadata": {
  "anaconda-cloud": {},
  "kernelspec": {
   "display_name": "Python 3",
   "language": "python",
   "name": "python3"
  },
  "language_info": {
   "codemirror_mode": {
    "name": "ipython",
    "version": 3
   },
   "file_extension": ".py",
   "mimetype": "text/x-python",
   "name": "python",
   "nbconvert_exporter": "python",
   "pygments_lexer": "ipython3",
   "version": "3.6.1"
  }
 },
 "nbformat": 4,
 "nbformat_minor": 1
}
