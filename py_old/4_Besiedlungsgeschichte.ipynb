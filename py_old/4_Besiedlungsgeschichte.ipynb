{
 "cells": [
  {
   "cell_type": "markdown",
   "metadata": {
    "deletable": true,
    "editable": true
   },
   "source": [
    "# Besiedlungsgeschichte im nordwestlichen Kongobecken"
   ]
  },
  {
   "cell_type": "code",
   "execution_count": 1,
   "metadata": {
    "collapsed": true,
    "deletable": true,
    "editable": true
   },
   "outputs": [],
   "source": [
    "%matplotlib inline\n",
    "from IPython.display import display\n",
    "import pandas as pd\n",
    "import numpy as np\n",
    "import matplotlib.pyplot as plt\n",
    "from matplotlib import colors, cm\n",
    "from matplotlib.gridspec import GridSpec\n",
    "from mpl_toolkits.axes_grid1 import make_axes_locatable\n",
    "import sqlite3\n",
    "# pd.options.display.mpl_style = 'default'\n",
    "\n",
    "import sys, os\n",
    "sys.path.append(\"/Python\")\n",
    "from myfunctions import *\n",
    "from parula import *\n",
    "\n",
    "con = sqlite3.connect(\"../data/CongoDB.sqlite\")"
   ]
  },
  {
   "cell_type": "markdown",
   "metadata": {
    "deletable": true,
    "editable": true
   },
   "source": [
    "## Mantel-Test der Verzieungselemente & Positionen\n",
    "in R imprementiert\n",
    "\n",
    "Kreuztabelle enthält die *p*-Werte der einzelnen Matrix-Vergleiche (individuelle Mantel-Tests in Schleifen)"
   ]
  },
  {
   "cell_type": "code",
   "execution_count": 184,
   "metadata": {
    "collapsed": false,
    "deletable": true,
    "editable": true
   },
   "outputs": [
    {
     "data": {
      "text/html": [
       "<div>\n",
       "<table border=\"1\" class=\"dataframe\">\n",
       "  <thead>\n",
       "    <tr style=\"text-align: right;\">\n",
       "      <th></th>\n",
       "      <th>BatMLB</th>\n",
       "      <th>NGB</th>\n",
       "      <th>MKL</th>\n",
       "      <th>BKW</th>\n",
       "      <th>DON</th>\n",
       "      <th>BBL</th>\n",
       "      <th>MTB</th>\n",
       "      <th>KPT</th>\n",
       "      <th>DAM</th>\n",
       "      <th>BAN</th>\n",
       "    </tr>\n",
       "  </thead>\n",
       "  <tbody>\n",
       "    <tr>\n",
       "      <th>BatMLB</th>\n",
       "      <td>0.001</td>\n",
       "      <td>0.040</td>\n",
       "      <td>0.033</td>\n",
       "      <td>0.021</td>\n",
       "      <td>0.005</td>\n",
       "      <td>0.219</td>\n",
       "      <td>0.041</td>\n",
       "      <td>0.150</td>\n",
       "      <td>0.042</td>\n",
       "      <td>0.001</td>\n",
       "    </tr>\n",
       "    <tr>\n",
       "      <th>NGB</th>\n",
       "      <td>0.047</td>\n",
       "      <td>0.001</td>\n",
       "      <td>0.012</td>\n",
       "      <td>0.058</td>\n",
       "      <td>0.008</td>\n",
       "      <td>0.009</td>\n",
       "      <td>0.027</td>\n",
       "      <td>0.183</td>\n",
       "      <td>0.002</td>\n",
       "      <td>0.013</td>\n",
       "    </tr>\n",
       "    <tr>\n",
       "      <th>MKL</th>\n",
       "      <td>0.031</td>\n",
       "      <td>0.011</td>\n",
       "      <td>0.001</td>\n",
       "      <td>0.296</td>\n",
       "      <td>0.179</td>\n",
       "      <td>0.028</td>\n",
       "      <td>0.178</td>\n",
       "      <td>0.162</td>\n",
       "      <td>0.118</td>\n",
       "      <td>0.044</td>\n",
       "    </tr>\n",
       "    <tr>\n",
       "      <th>BKW</th>\n",
       "      <td>0.023</td>\n",
       "      <td>0.062</td>\n",
       "      <td>0.317</td>\n",
       "      <td>0.001</td>\n",
       "      <td>0.007</td>\n",
       "      <td>0.298</td>\n",
       "      <td>0.017</td>\n",
       "      <td>0.147</td>\n",
       "      <td>0.014</td>\n",
       "      <td>0.015</td>\n",
       "    </tr>\n",
       "    <tr>\n",
       "      <th>DON</th>\n",
       "      <td>0.004</td>\n",
       "      <td>0.006</td>\n",
       "      <td>0.152</td>\n",
       "      <td>0.004</td>\n",
       "      <td>0.001</td>\n",
       "      <td>0.233</td>\n",
       "      <td>0.003</td>\n",
       "      <td>0.853</td>\n",
       "      <td>0.018</td>\n",
       "      <td>0.003</td>\n",
       "    </tr>\n",
       "    <tr>\n",
       "      <th>BBL</th>\n",
       "      <td>0.226</td>\n",
       "      <td>0.008</td>\n",
       "      <td>0.035</td>\n",
       "      <td>0.298</td>\n",
       "      <td>0.231</td>\n",
       "      <td>0.001</td>\n",
       "      <td>0.087</td>\n",
       "      <td>0.434</td>\n",
       "      <td>0.062</td>\n",
       "      <td>0.141</td>\n",
       "    </tr>\n",
       "    <tr>\n",
       "      <th>MTB</th>\n",
       "      <td>0.056</td>\n",
       "      <td>0.027</td>\n",
       "      <td>0.166</td>\n",
       "      <td>0.013</td>\n",
       "      <td>0.005</td>\n",
       "      <td>0.087</td>\n",
       "      <td>0.001</td>\n",
       "      <td>0.305</td>\n",
       "      <td>0.014</td>\n",
       "      <td>0.044</td>\n",
       "    </tr>\n",
       "    <tr>\n",
       "      <th>KPT</th>\n",
       "      <td>0.155</td>\n",
       "      <td>0.188</td>\n",
       "      <td>0.133</td>\n",
       "      <td>0.158</td>\n",
       "      <td>0.861</td>\n",
       "      <td>0.444</td>\n",
       "      <td>0.296</td>\n",
       "      <td>0.001</td>\n",
       "      <td>0.177</td>\n",
       "      <td>0.328</td>\n",
       "    </tr>\n",
       "    <tr>\n",
       "      <th>DAM</th>\n",
       "      <td>0.034</td>\n",
       "      <td>0.001</td>\n",
       "      <td>0.126</td>\n",
       "      <td>0.019</td>\n",
       "      <td>0.022</td>\n",
       "      <td>0.060</td>\n",
       "      <td>0.022</td>\n",
       "      <td>0.184</td>\n",
       "      <td>0.001</td>\n",
       "      <td>0.005</td>\n",
       "    </tr>\n",
       "    <tr>\n",
       "      <th>BAN</th>\n",
       "      <td>0.002</td>\n",
       "      <td>0.007</td>\n",
       "      <td>0.048</td>\n",
       "      <td>0.018</td>\n",
       "      <td>0.002</td>\n",
       "      <td>0.135</td>\n",
       "      <td>0.053</td>\n",
       "      <td>0.312</td>\n",
       "      <td>0.008</td>\n",
       "      <td>0.001</td>\n",
       "    </tr>\n",
       "  </tbody>\n",
       "</table>\n",
       "</div>"
      ],
      "text/plain": [
       "        BatMLB    NGB    MKL    BKW    DON    BBL    MTB    KPT    DAM    BAN\n",
       "BatMLB   0.001  0.040  0.033  0.021  0.005  0.219  0.041  0.150  0.042  0.001\n",
       "NGB      0.047  0.001  0.012  0.058  0.008  0.009  0.027  0.183  0.002  0.013\n",
       "MKL      0.031  0.011  0.001  0.296  0.179  0.028  0.178  0.162  0.118  0.044\n",
       "BKW      0.023  0.062  0.317  0.001  0.007  0.298  0.017  0.147  0.014  0.015\n",
       "DON      0.004  0.006  0.152  0.004  0.001  0.233  0.003  0.853  0.018  0.003\n",
       "BBL      0.226  0.008  0.035  0.298  0.231  0.001  0.087  0.434  0.062  0.141\n",
       "MTB      0.056  0.027  0.166  0.013  0.005  0.087  0.001  0.305  0.014  0.044\n",
       "KPT      0.155  0.188  0.133  0.158  0.861  0.444  0.296  0.001  0.177  0.328\n",
       "DAM      0.034  0.001  0.126  0.019  0.022  0.060  0.022  0.184  0.001  0.005\n",
       "BAN      0.002  0.007  0.048  0.018  0.002  0.135  0.053  0.312  0.008  0.001"
      ]
     },
     "execution_count": 184,
     "metadata": {},
     "output_type": "execute_result"
    }
   ],
   "source": [
    "df_UBA = pd.read_csv(\"../data/processed/4-3_UBA-Region_Mantel-Test.csv\", index_col = 0)\n",
    "df_UBA"
   ]
  },
  {
   "cell_type": "code",
   "execution_count": 185,
   "metadata": {
    "collapsed": true,
    "deletable": true,
    "editable": true
   },
   "outputs": [],
   "source": [
    "df = df_UBA"
   ]
  },
  {
   "cell_type": "code",
   "execution_count": 186,
   "metadata": {
    "collapsed": false,
    "deletable": true,
    "editable": true,
    "scrolled": true
   },
   "outputs": [
    {
     "name": "stderr",
     "output_type": "stream",
     "text": [
      "C:\\Users\\DirkSeidenticker\\Anaconda3\\lib\\site-packages\\matplotlib\\collections.py:590: FutureWarning: elementwise comparison failed; returning scalar instead, but in the future will perform elementwise comparison\n",
      "  if self._edgecolors == str('face'):\n"
     ]
    },
    {
     "data": {
      "image/png": "[encoded data removed]",
      "text/plain": [
       "<matplotlib.figure.Figure at 0xaace588>"
      ]
     },
     "metadata": {},
     "output_type": "display_data"
    }
   ],
   "source": [
    "plt.imshow(df, interpolation='nearest', cmap='Spectral_r', vmin=0, vmax=1)\n",
    "plt.yticks(range(len(df.index)), df.index)\n",
    "plt.xticks(range(len(df.columns)), df.columns, rotation='vertical')\n",
    "plt.colorbar()\n",
    "plt.savefig('../output/figs/4-3_UBA-Region_Mantel-Test.pdf', bbox_inches='tight')\n",
    "plt.show()"
   ]
  },
  {
   "cell_type": "code",
   "execution_count": 187,
   "metadata": {
    "collapsed": true,
    "deletable": true,
    "editable": true
   },
   "outputs": [],
   "source": [
    "# nur vier Farben (für die 4 Quartile):\n",
    "cmap = cm.get_cmap('Spectral_r', 4) # 4 discrete color"
   ]
  },
  {
   "cell_type": "code",
   "execution_count": 188,
   "metadata": {
    "collapsed": false,
    "deletable": true,
    "editable": true
   },
   "outputs": [
    {
     "name": "stderr",
     "output_type": "stream",
     "text": [
      "C:\\Users\\DirkSeidenticker\\Anaconda3\\lib\\site-packages\\matplotlib\\collections.py:590: FutureWarning: elementwise comparison failed; returning scalar instead, but in the future will perform elementwise comparison\n",
      "  if self._edgecolors == str('face'):\n"
     ]
    },
    {
     "data": {
      "image/png": "[encoded data removed]",
      "text/plain": [
       "<matplotlib.figure.Figure at 0xbdbb128>"
      ]
     },
     "metadata": {},
     "output_type": "display_data"
    }
   ],
   "source": [
    "plt.imshow(df, interpolation='nearest', cmap=cmap, vmin=0, vmax=1)\n",
    "plt.yticks(range(len(df.index)), df.index)\n",
    "plt.xticks(range(len(df.columns)), df.columns, rotation='vertical')\n",
    "plt.colorbar()\n",
    "plt.show()"
   ]
  },
  {
   "cell_type": "code",
   "execution_count": 189,
   "metadata": {
    "collapsed": false,
    "deletable": true,
    "editable": true
   },
   "outputs": [
    {
     "data": {
      "text/html": [
       "<div>\n",
       "<table border=\"1\" class=\"dataframe\">\n",
       "  <thead>\n",
       "    <tr style=\"text-align: right;\">\n",
       "      <th></th>\n",
       "      <th>PIKMUN</th>\n",
       "      <th>NGO</th>\n",
       "      <th>MAT</th>\n",
       "      <th>BBS</th>\n",
       "      <th>EBA</th>\n",
       "      <th>OUE</th>\n",
       "      <th>MDB</th>\n",
       "      <th>KON</th>\n",
       "      <th>PDM</th>\n",
       "      <th>MBJ</th>\n",
       "      <th>MKA</th>\n",
       "      <th>EPE</th>\n",
       "    </tr>\n",
       "  </thead>\n",
       "  <tbody>\n",
       "    <tr>\n",
       "      <th>PIKMUN</th>\n",
       "      <td>0.001</td>\n",
       "      <td>0.491</td>\n",
       "      <td>0.939</td>\n",
       "      <td>0.002</td>\n",
       "      <td>0.105</td>\n",
       "      <td>0.092</td>\n",
       "      <td>0.245</td>\n",
       "      <td>0.459</td>\n",
       "      <td>0.211</td>\n",
       "      <td>0.052</td>\n",
       "      <td>0.238</td>\n",
       "      <td>0.427</td>\n",
       "    </tr>\n",
       "    <tr>\n",
       "      <th>NGO</th>\n",
       "      <td>0.488</td>\n",
       "      <td>0.001</td>\n",
       "      <td>0.124</td>\n",
       "      <td>0.043</td>\n",
       "      <td>0.116</td>\n",
       "      <td>0.015</td>\n",
       "      <td>0.015</td>\n",
       "      <td>0.163</td>\n",
       "      <td>0.030</td>\n",
       "      <td>0.147</td>\n",
       "      <td>0.253</td>\n",
       "      <td>0.003</td>\n",
       "    </tr>\n",
       "    <tr>\n",
       "      <th>MAT</th>\n",
       "      <td>0.949</td>\n",
       "      <td>0.110</td>\n",
       "      <td>0.001</td>\n",
       "      <td>0.287</td>\n",
       "      <td>0.519</td>\n",
       "      <td>0.488</td>\n",
       "      <td>0.437</td>\n",
       "      <td>0.017</td>\n",
       "      <td>0.491</td>\n",
       "      <td>0.458</td>\n",
       "      <td>0.168</td>\n",
       "      <td>0.223</td>\n",
       "    </tr>\n",
       "    <tr>\n",
       "      <th>BBS</th>\n",
       "      <td>0.001</td>\n",
       "      <td>0.034</td>\n",
       "      <td>0.279</td>\n",
       "      <td>0.001</td>\n",
       "      <td>0.020</td>\n",
       "      <td>0.026</td>\n",
       "      <td>0.166</td>\n",
       "      <td>0.133</td>\n",
       "      <td>0.100</td>\n",
       "      <td>0.030</td>\n",
       "      <td>0.131</td>\n",
       "      <td>0.283</td>\n",
       "    </tr>\n",
       "    <tr>\n",
       "      <th>EBA</th>\n",
       "      <td>0.089</td>\n",
       "      <td>0.116</td>\n",
       "      <td>0.512</td>\n",
       "      <td>0.026</td>\n",
       "      <td>0.001</td>\n",
       "      <td>0.004</td>\n",
       "      <td>0.097</td>\n",
       "      <td>0.587</td>\n",
       "      <td>0.018</td>\n",
       "      <td>0.002</td>\n",
       "      <td>0.417</td>\n",
       "      <td>0.235</td>\n",
       "    </tr>\n",
       "    <tr>\n",
       "      <th>OUE</th>\n",
       "      <td>0.095</td>\n",
       "      <td>0.010</td>\n",
       "      <td>0.492</td>\n",
       "      <td>0.028</td>\n",
       "      <td>0.004</td>\n",
       "      <td>0.001</td>\n",
       "      <td>0.001</td>\n",
       "      <td>0.332</td>\n",
       "      <td>0.003</td>\n",
       "      <td>0.014</td>\n",
       "      <td>0.371</td>\n",
       "      <td>0.030</td>\n",
       "    </tr>\n",
       "    <tr>\n",
       "      <th>MDB</th>\n",
       "      <td>0.259</td>\n",
       "      <td>0.009</td>\n",
       "      <td>0.463</td>\n",
       "      <td>0.129</td>\n",
       "      <td>0.114</td>\n",
       "      <td>0.002</td>\n",
       "      <td>0.001</td>\n",
       "      <td>0.404</td>\n",
       "      <td>0.001</td>\n",
       "      <td>0.116</td>\n",
       "      <td>0.448</td>\n",
       "      <td>0.022</td>\n",
       "    </tr>\n",
       "    <tr>\n",
       "      <th>KON</th>\n",
       "      <td>0.477</td>\n",
       "      <td>0.147</td>\n",
       "      <td>0.017</td>\n",
       "      <td>0.158</td>\n",
       "      <td>0.604</td>\n",
       "      <td>0.352</td>\n",
       "      <td>0.396</td>\n",
       "      <td>0.001</td>\n",
       "      <td>0.473</td>\n",
       "      <td>0.446</td>\n",
       "      <td>0.035</td>\n",
       "      <td>0.258</td>\n",
       "    </tr>\n",
       "    <tr>\n",
       "      <th>PDM</th>\n",
       "      <td>0.214</td>\n",
       "      <td>0.039</td>\n",
       "      <td>0.494</td>\n",
       "      <td>0.110</td>\n",
       "      <td>0.025</td>\n",
       "      <td>0.001</td>\n",
       "      <td>0.002</td>\n",
       "      <td>0.452</td>\n",
       "      <td>0.001</td>\n",
       "      <td>0.011</td>\n",
       "      <td>0.317</td>\n",
       "      <td>0.055</td>\n",
       "    </tr>\n",
       "    <tr>\n",
       "      <th>MBJ</th>\n",
       "      <td>0.060</td>\n",
       "      <td>0.139</td>\n",
       "      <td>0.419</td>\n",
       "      <td>0.045</td>\n",
       "      <td>0.003</td>\n",
       "      <td>0.015</td>\n",
       "      <td>0.104</td>\n",
       "      <td>0.463</td>\n",
       "      <td>0.019</td>\n",
       "      <td>0.001</td>\n",
       "      <td>0.223</td>\n",
       "      <td>0.273</td>\n",
       "    </tr>\n",
       "    <tr>\n",
       "      <th>MKA</th>\n",
       "      <td>0.236</td>\n",
       "      <td>0.249</td>\n",
       "      <td>0.182</td>\n",
       "      <td>0.136</td>\n",
       "      <td>0.406</td>\n",
       "      <td>0.393</td>\n",
       "      <td>0.444</td>\n",
       "      <td>0.029</td>\n",
       "      <td>0.323</td>\n",
       "      <td>0.225</td>\n",
       "      <td>0.001</td>\n",
       "      <td>0.639</td>\n",
       "    </tr>\n",
       "    <tr>\n",
       "      <th>EPE</th>\n",
       "      <td>0.438</td>\n",
       "      <td>0.005</td>\n",
       "      <td>0.203</td>\n",
       "      <td>0.285</td>\n",
       "      <td>0.206</td>\n",
       "      <td>0.031</td>\n",
       "      <td>0.034</td>\n",
       "      <td>0.255</td>\n",
       "      <td>0.053</td>\n",
       "      <td>0.227</td>\n",
       "      <td>0.588</td>\n",
       "      <td>0.001</td>\n",
       "    </tr>\n",
       "  </tbody>\n",
       "</table>\n",
       "</div>"
      ],
      "text/plain": [
       "        PIKMUN    NGO    MAT    BBS    EBA    OUE    MDB    KON    PDM    MBJ  \\\n",
       "PIKMUN   0.001  0.491  0.939  0.002  0.105  0.092  0.245  0.459  0.211  0.052   \n",
       "NGO      0.488  0.001  0.124  0.043  0.116  0.015  0.015  0.163  0.030  0.147   \n",
       "MAT      0.949  0.110  0.001  0.287  0.519  0.488  0.437  0.017  0.491  0.458   \n",
       "BBS      0.001  0.034  0.279  0.001  0.020  0.026  0.166  0.133  0.100  0.030   \n",
       "EBA      0.089  0.116  0.512  0.026  0.001  0.004  0.097  0.587  0.018  0.002   \n",
       "OUE      0.095  0.010  0.492  0.028  0.004  0.001  0.001  0.332  0.003  0.014   \n",
       "MDB      0.259  0.009  0.463  0.129  0.114  0.002  0.001  0.404  0.001  0.116   \n",
       "KON      0.477  0.147  0.017  0.158  0.604  0.352  0.396  0.001  0.473  0.446   \n",
       "PDM      0.214  0.039  0.494  0.110  0.025  0.001  0.002  0.452  0.001  0.011   \n",
       "MBJ      0.060  0.139  0.419  0.045  0.003  0.015  0.104  0.463  0.019  0.001   \n",
       "MKA      0.236  0.249  0.182  0.136  0.406  0.393  0.444  0.029  0.323  0.225   \n",
       "EPE      0.438  0.005  0.203  0.285  0.206  0.031  0.034  0.255  0.053  0.227   \n",
       "\n",
       "          MKA    EPE  \n",
       "PIKMUN  0.238  0.427  \n",
       "NGO     0.253  0.003  \n",
       "MAT     0.168  0.223  \n",
       "BBS     0.131  0.283  \n",
       "EBA     0.417  0.235  \n",
       "OUE     0.371  0.030  \n",
       "MDB     0.448  0.022  \n",
       "KON     0.035  0.258  \n",
       "PDM     0.317  0.055  \n",
       "MBJ     0.223  0.273  \n",
       "MKA     0.001  0.639  \n",
       "EPE     0.588  0.001  "
      ]
     },
     "execution_count": 189,
     "metadata": {},
     "output_type": "execute_result"
    }
   ],
   "source": [
    "df_SGH = pd.read_csv(\"../data/processed/4-3_SGH-Region_Mantel-Test.csv\", index_col = 0)\n",
    "df_SGH"
   ]
  },
  {
   "cell_type": "code",
   "execution_count": 190,
   "metadata": {
    "collapsed": true,
    "deletable": true,
    "editable": true
   },
   "outputs": [],
   "source": [
    "df = df_SGH"
   ]
  },
  {
   "cell_type": "code",
   "execution_count": 191,
   "metadata": {
    "collapsed": false,
    "deletable": true,
    "editable": true
   },
   "outputs": [
    {
     "name": "stderr",
     "output_type": "stream",
     "text": [
      "C:\\Users\\DirkSeidenticker\\Anaconda3\\lib\\site-packages\\matplotlib\\collections.py:590: FutureWarning: elementwise comparison failed; returning scalar instead, but in the future will perform elementwise comparison\n",
      "  if self._edgecolors == str('face'):\n"
     ]
    },
    {
     "data": {
      "image/png": "[encoded data removed]",
      "text/plain": [
       "<matplotlib.figure.Figure at 0xc73a7f0>"
      ]
     },
     "metadata": {},
     "output_type": "display_data"
    }
   ],
   "source": [
    "plt.imshow(df, interpolation='nearest', cmap='Spectral_r', vmin=0, vmax=1)\n",
    "plt.yticks(range(len(df.index)), df.index)\n",
    "plt.xticks(range(len(df.columns)), df.columns, rotation='vertical')\n",
    "plt.colorbar()\n",
    "plt.savefig('../output/figs/4-3_SGH-Region_Mantel-Test.pdf', bbox_inches='tight')\n",
    "plt.show()"
   ]
  },
  {
   "cell_type": "code",
   "execution_count": 192,
   "metadata": {
    "collapsed": false,
    "deletable": true,
    "editable": true
   },
   "outputs": [
    {
     "name": "stderr",
     "output_type": "stream",
     "text": [
      "C:\\Users\\DirkSeidenticker\\Anaconda3\\lib\\site-packages\\matplotlib\\collections.py:590: FutureWarning: elementwise comparison failed; returning scalar instead, but in the future will perform elementwise comparison\n",
      "  if self._edgecolors == str('face'):\n"
     ]
    },
    {
     "data": {
      "image/png": "[encoded data removed]",
      "text/plain": [
       "<matplotlib.figure.Figure at 0xc634128>"
      ]
     },
     "metadata": {},
     "output_type": "display_data"
    }
   ],
   "source": [
    "plt.imshow(df, interpolation='nearest', cmap=cmap, vmin=0, vmax=1)\n",
    "plt.yticks(range(len(df.index)), df.index)\n",
    "plt.xticks(range(len(df.columns)), df.columns, rotation='vertical')\n",
    "plt.colorbar()\n",
    "plt.show()"
   ]
  },
  {
   "cell_type": "markdown",
   "metadata": {
    "deletable": true,
    "editable": true
   },
   "source": [
    "## Flach- vs rundbodige Keramik"
   ]
  },
  {
   "cell_type": "code",
   "execution_count": 2,
   "metadata": {
    "collapsed": false,
    "deletable": true,
    "editable": true
   },
   "outputs": [
    {
     "data": {
      "text/html": [
       "<div>\n",
       "<table border=\"1\" class=\"dataframe\">\n",
       "  <thead>\n",
       "    <tr style=\"text-align: right;\">\n",
       "      <th></th>\n",
       "      <th>objID</th>\n",
       "      <th>Anzahl</th>\n",
       "      <th>Form_Boden</th>\n",
       "      <th>Typ</th>\n",
       "    </tr>\n",
       "  </thead>\n",
       "  <tbody>\n",
       "    <tr>\n",
       "      <th>0</th>\n",
       "      <td>97</td>\n",
       "      <td>1</td>\n",
       "      <td>B4</td>\n",
       "      <td>BTM</td>\n",
       "    </tr>\n",
       "    <tr>\n",
       "      <th>1</th>\n",
       "      <td>240</td>\n",
       "      <td>1</td>\n",
       "      <td>B1</td>\n",
       "      <td>MBN</td>\n",
       "    </tr>\n",
       "    <tr>\n",
       "      <th>2</th>\n",
       "      <td>265</td>\n",
       "      <td>1</td>\n",
       "      <td>B4</td>\n",
       "      <td>MKL</td>\n",
       "    </tr>\n",
       "    <tr>\n",
       "      <th>3</th>\n",
       "      <td>1111</td>\n",
       "      <td>1</td>\n",
       "      <td>B4</td>\n",
       "      <td>BTM</td>\n",
       "    </tr>\n",
       "    <tr>\n",
       "      <th>4</th>\n",
       "      <td>1466</td>\n",
       "      <td>1</td>\n",
       "      <td>B5</td>\n",
       "      <td>BAN</td>\n",
       "    </tr>\n",
       "  </tbody>\n",
       "</table>\n",
       "</div>"
      ],
      "text/plain": [
       "   objID  Anzahl Form_Boden  Typ\n",
       "0     97       1         B4  BTM\n",
       "1    240       1         B1  MBN\n",
       "2    265       1         B4  MKL\n",
       "3   1111       1         B4  BTM\n",
       "4   1466       1         B5  BAN"
      ]
     },
     "execution_count": 2,
     "metadata": {},
     "output_type": "execute_result"
    }
   ],
   "source": [
    "sql = \"\"\"SELECT\n",
    "           t_Obj.objID,\n",
    "           t_Obj.Anzahl,\n",
    "           t_Obj.Form_Boden,\n",
    "           t_Obj.Typ\n",
    "       FROM (t_Ort INNER JOIN t_Komplex ON t_Ort.ortID = t_Komplex.ortID)\n",
    "           INNER JOIN t_Obj ON t_Komplex.komplexID = t_Obj.komplexID\n",
    "       WHERE (((t_Ort.ort_lit) = 'DS')\n",
    "           AND ((t_Obj.Form_Boden) != '')\n",
    "           AND ((t_Obj.Form_Boden) Not Like '%/%')\n",
    "           AND ((t_Obj.Form_Boden) Not Like '%(?)%')\n",
    "           AND ((t_Obj.Typ) != '')\n",
    "           AND ((t_Obj.Typ) Not Like '%/%')\n",
    "           AND ((t_Obj.Typ) Not Like '%(?)%')\n",
    "           AND ((t_Obj.Anzahl) != '')\n",
    "           AND (((t_Ort.ort_fluss) LIKE '%Ubangi%')\n",
    "               OR (t_Ort.ort_fluss) LIKE '%Lua%'))\"\"\".replace('\\n',' ')\n",
    "\n",
    "df = pd.read_sql(sql, con)\n",
    "df.head()"
   ]
  },
  {
   "cell_type": "code",
   "execution_count": 3,
   "metadata": {
    "collapsed": true,
    "deletable": true,
    "editable": true
   },
   "outputs": [],
   "source": [
    "round_dict = {'B1', 'B2', 'B3'}\n",
    "flat_dict = {'B4', 'B5', 'B6', 'B7', 'B8', 'B9', 'B10', 'B11', 'B12', 'B13', 'B14'}"
   ]
  },
  {
   "cell_type": "code",
   "execution_count": 4,
   "metadata": {
    "collapsed": false,
    "deletable": true,
    "editable": true
   },
   "outputs": [
    {
     "name": "stderr",
     "output_type": "stream",
     "text": [
      "C:\\Program Files\\Anaconda3\\lib\\site-packages\\ipykernel\\__main__.py:2: SettingWithCopyWarning: \n",
      "A value is trying to be set on a copy of a slice from a DataFrame.\n",
      "Try using .loc[row_indexer,col_indexer] = value instead\n",
      "\n",
      "See the caveats in the documentation: http://pandas.pydata.org/pandas-docs/stable/indexing.html#indexing-view-versus-copy\n",
      "  from ipykernel import kernelapp as app\n",
      "C:\\Program Files\\Anaconda3\\lib\\site-packages\\ipykernel\\__main__.py:5: SettingWithCopyWarning: \n",
      "A value is trying to be set on a copy of a slice from a DataFrame.\n",
      "Try using .loc[row_indexer,col_indexer] = value instead\n",
      "\n",
      "See the caveats in the documentation: http://pandas.pydata.org/pandas-docs/stable/indexing.html#indexing-view-versus-copy\n"
     ]
    }
   ],
   "source": [
    "df_round = df[df['Form_Boden'].isin(round_dict)]\n",
    "df_round['base'] = 'round'\n",
    "\n",
    "df_flat = df[df['Form_Boden'].isin(flat_dict)]\n",
    "df_flat['base'] = 'flat'"
   ]
  },
  {
   "cell_type": "code",
   "execution_count": 5,
   "metadata": {
    "collapsed": false,
    "deletable": true,
    "editable": true
   },
   "outputs": [
    {
     "data": {
      "text/html": [
       "<div>\n",
       "<table border=\"1\" class=\"dataframe\">\n",
       "  <thead>\n",
       "    <tr style=\"text-align: right;\">\n",
       "      <th></th>\n",
       "      <th>objID</th>\n",
       "      <th>Anzahl</th>\n",
       "      <th>Form_Boden</th>\n",
       "      <th>Typ</th>\n",
       "      <th>base</th>\n",
       "    </tr>\n",
       "  </thead>\n",
       "  <tbody>\n",
       "    <tr>\n",
       "      <th>0</th>\n",
       "      <td>97</td>\n",
       "      <td>1</td>\n",
       "      <td>B4</td>\n",
       "      <td>BTM</td>\n",
       "      <td>flat</td>\n",
       "    </tr>\n",
       "    <tr>\n",
       "      <th>2</th>\n",
       "      <td>265</td>\n",
       "      <td>1</td>\n",
       "      <td>B4</td>\n",
       "      <td>MKL</td>\n",
       "      <td>flat</td>\n",
       "    </tr>\n",
       "    <tr>\n",
       "      <th>3</th>\n",
       "      <td>1111</td>\n",
       "      <td>1</td>\n",
       "      <td>B4</td>\n",
       "      <td>BTM</td>\n",
       "      <td>flat</td>\n",
       "    </tr>\n",
       "    <tr>\n",
       "      <th>4</th>\n",
       "      <td>1466</td>\n",
       "      <td>1</td>\n",
       "      <td>B5</td>\n",
       "      <td>BAN</td>\n",
       "      <td>flat</td>\n",
       "    </tr>\n",
       "    <tr>\n",
       "      <th>8</th>\n",
       "      <td>1477</td>\n",
       "      <td>1</td>\n",
       "      <td>B4</td>\n",
       "      <td>DAM</td>\n",
       "      <td>flat</td>\n",
       "    </tr>\n",
       "  </tbody>\n",
       "</table>\n",
       "</div>"
      ],
      "text/plain": [
       "   objID  Anzahl Form_Boden  Typ  base\n",
       "0     97       1         B4  BTM  flat\n",
       "2    265       1         B4  MKL  flat\n",
       "3   1111       1         B4  BTM  flat\n",
       "4   1466       1         B5  BAN  flat\n",
       "8   1477       1         B4  DAM  flat"
      ]
     },
     "execution_count": 5,
     "metadata": {},
     "output_type": "execute_result"
    }
   ],
   "source": [
    "df_bases = pd.concat([df_flat, df_round])\n",
    "df_bases.head()"
   ]
  },
  {
   "cell_type": "code",
   "execution_count": 6,
   "metadata": {
    "collapsed": true,
    "deletable": true,
    "editable": true
   },
   "outputs": [],
   "source": [
    "stilgr = pd.read_csv(\"../lit/Wotzka1995_StilGrKuerzel.csv\", encoding='latin1', converters={'Wotzka1995': str, 'Seidensticker': str, 'Lit': str})\n",
    "\n",
    "stilgr['STILGR'] = stilgr['Seidensticker']+ ' ' + stilgr['Stilgruppe']\n",
    "\n",
    "# dictionary der Stilgruppen-Kürzel und Stilgruppen\n",
    "di = stilgr.set_index('Typ').to_dict()['STILGR']\n",
    "#di"
   ]
  },
  {
   "cell_type": "code",
   "execution_count": 7,
   "metadata": {
    "collapsed": true,
    "deletable": true,
    "editable": true
   },
   "outputs": [],
   "source": [
    "a_flat = df_flat\n",
    "a_round = df_round"
   ]
  },
  {
   "cell_type": "code",
   "execution_count": 8,
   "metadata": {
    "collapsed": true,
    "deletable": true,
    "editable": true
   },
   "outputs": [],
   "source": [
    "a_bases = pd.concat([a_flat, a_round])\n",
    "\n",
    "a_bases = a_bases.replace({\"Typ\": di})\n",
    "\n",
    "# zerschnibbeln für Sortieurng\n",
    "a_bases['Nr'] = a_bases['Typ'].apply(lambda x: x.split(' ')[0])\n",
    "a_bases['Stil'] = a_bases['Typ'].apply(lambda x: x.split(' ')[-1])\n",
    "\n",
    "a_bases['A'], a_bases['B'], a_bases['C'], a_bases['D'] = a_bases['Nr'].str.split('.', 3).str\n",
    "\n",
    "a_bases['A'] = pd.to_numeric(a_bases['A'], errors='coerce')\n",
    "a_bases['B'] = pd.to_numeric(a_bases['B'], errors='coerce')\n",
    "a_bases['C'] = pd.to_numeric(a_bases['C'], errors='coerce')\n",
    "a_bases['D'] = pd.to_numeric(a_bases['D'], errors='coerce')"
   ]
  },
  {
   "cell_type": "code",
   "execution_count": 9,
   "metadata": {
    "collapsed": true,
    "deletable": true,
    "editable": true
   },
   "outputs": [],
   "source": [
    "df_pivot = a_bases.pivot_table(values = 'Anzahl', index = ['A', 'B', 'C', 'D', 'Stil'], columns = ['base'], aggfunc = sum)\n",
    "\n",
    "df_pivot['sum'] = df_pivot.sum(axis=1)\n",
    "df_pivot['sum'] = df_pivot['sum'].astype(int)\n",
    "df_pivot['sum'] = df_pivot['sum'].astype(str)\n",
    "\n",
    "df_pivot = df_pivot.reset_index()\n",
    "\n",
    "df_pivot['label'] = df_pivot['Stil'] + '\\nn=' + df_pivot['sum']\n",
    "df_pivot = df_pivot.set_index(['A', 'B', 'C', 'D', 'label'])"
   ]
  },
  {
   "cell_type": "code",
   "execution_count": 10,
   "metadata": {
    "collapsed": true,
    "deletable": true,
    "editable": true
   },
   "outputs": [],
   "source": [
    "# Diagramm auf 100% - Prozentwerte für jede Zeile ausrechnen:\n",
    "df_perc = df_pivot[['flat', 'round']].divide(df_pivot.sum(axis=1), axis=0) * 100\n",
    "df_perc = df_perc.reset_index()\n",
    "#df_perc = df_perc.sort_values(['A', 'B'], ascending = False)\n",
    "df_perc = df_perc[['label', 'round', 'flat']]\n",
    "df_perc = df_perc.set_index('label')"
   ]
  },
  {
   "cell_type": "code",
   "execution_count": 13,
   "metadata": {
    "collapsed": false,
    "deletable": true,
    "editable": true
   },
   "outputs": [
    {
     "data": {
      "text/html": [
       "<div>\n",
       "<table border=\"1\" class=\"dataframe\">\n",
       "  <thead>\n",
       "    <tr style=\"text-align: right;\">\n",
       "      <th>label</th>\n",
       "      <th>Batalimo-Maluba\n",
       "n=10</th>\n",
       "      <th>Ngbanja\n",
       "n=1</th>\n",
       "      <th>Dongo\n",
       "n=1</th>\n",
       "      <th>Mokelo\n",
       "n=1</th>\n",
       "      <th>Motengo-Boma\n",
       "n=2</th>\n",
       "      <th>Dama\n",
       "n=3</th>\n",
       "      <th>Mbati-Ngombe\n",
       "n=6</th>\n",
       "      <th>Bangui\n",
       "n=3</th>\n",
       "    </tr>\n",
       "    <tr>\n",
       "      <th>base</th>\n",
       "      <th></th>\n",
       "      <th></th>\n",
       "      <th></th>\n",
       "      <th></th>\n",
       "      <th></th>\n",
       "      <th></th>\n",
       "      <th></th>\n",
       "      <th></th>\n",
       "    </tr>\n",
       "  </thead>\n",
       "  <tbody>\n",
       "    <tr>\n",
       "      <th>B1-3\\nrund</th>\n",
       "      <td>20</td>\n",
       "      <td>100</td>\n",
       "      <td>100</td>\n",
       "      <td>-</td>\n",
       "      <td>100</td>\n",
       "      <td>67</td>\n",
       "      <td>83</td>\n",
       "      <td>33</td>\n",
       "    </tr>\n",
       "    <tr>\n",
       "      <th>B4-14\\nflach</th>\n",
       "      <td>80</td>\n",
       "      <td>-</td>\n",
       "      <td>-</td>\n",
       "      <td>100</td>\n",
       "      <td>-</td>\n",
       "      <td>33</td>\n",
       "      <td>17</td>\n",
       "      <td>67</td>\n",
       "    </tr>\n",
       "  </tbody>\n",
       "</table>\n",
       "</div>"
      ],
      "text/plain": [
       "label         Batalimo-Maluba\\nn=10 Ngbanja\\nn=1 Dongo\\nn=1 Mokelo\\nn=1  \\\n",
       "base                                                                      \n",
       "B1-3\\nrund                       20          100        100           -   \n",
       "B4-14\\nflach                     80            -          -         100   \n",
       "\n",
       "label        Motengo-Boma\\nn=2  Dama\\nn=3  Mbati-Ngombe\\nn=6  Bangui\\nn=3  \n",
       "base                                                                       \n",
       "B1-3\\nrund                 100         67                 83           33  \n",
       "B4-14\\nflach                 -         33                 17           67  "
      ]
     },
     "execution_count": 13,
     "metadata": {},
     "output_type": "execute_result"
    }
   ],
   "source": [
    "df_perc = df_perc.rename(columns={'flat': 'B4-14\\nflach', 'round': 'B1-3\\nrund'})\n",
    "\n",
    "df_perc = df_perc.transpose()\n",
    "\n",
    "# Beschriftung\n",
    "df_label = df_perc\n",
    "df_label = df_label.replace(np.nan, 5000)\n",
    "df_label = df_label.round(0)\n",
    "df_label = df_label.astype(int)\n",
    "df_label = df_label.replace(5000, '-')\n",
    "\n",
    "df_label.to_latex('../output/tabs/4-BodentypenUbangiLua.tex', \n",
    "                  escape = False, encoding = 'utf8')\n",
    "\n",
    "df_label"
   ]
  },
  {
   "cell_type": "code",
   "execution_count": 14,
   "metadata": {
    "collapsed": false,
    "deletable": true,
    "editable": true
   },
   "outputs": [
    {
     "data": {
      "image/png": "[encoded data removed]",
      "text/plain": [
       "<matplotlib.figure.Figure at 0x1d6881ab0b8>"
      ]
     },
     "metadata": {},
     "output_type": "display_data"
    }
   ],
   "source": [
    "plt.style.use('classic')\n",
    "\n",
    "fig = plt.figure()\n",
    "fig.set_size_inches(7.5, 10)\n",
    "\n",
    "# plt.figure()\n",
    "ax = plt.gca()\n",
    "im = ax.imshow(df_perc, interpolation='nearest', cmap='Greys', alpha=.25)\n",
    "\n",
    "#plt.ylabel('Stilgruppen')\n",
    "plt.xlabel('')\n",
    "plt.yticks(range(len(df_perc.index)), df_perc.index)\n",
    "plt.xticks(range(len(df_perc.columns)), df_perc.columns, rotation = 45, ha = 'right')\n",
    "\n",
    "for (i, j), z in np.ndenumerate(df_label):\n",
    "    plt.text(j, i, z, ha='center', va='center')\n",
    "\n",
    "#plt.axvline(6.5, color='black')\n",
    "\n",
    "#divider = make_axes_locatable(ax)\n",
    "#cax = divider.append_axes(\"right\", size=0.2, pad=0.2)\n",
    "#cbar = plt.colorbar(im, cax=cax)\n",
    "#cbar.set_label('Anteil (Prozent)')\n",
    "\n",
    "plt.tight_layout()\n",
    "\n",
    "plt.savefig('../output/figs/4-BodentypenUbangiLua.pdf', bbox_inches='tight')\n",
    "plt.show()"
   ]
  },
  {
   "cell_type": "code",
   "execution_count": 16,
   "metadata": {
    "collapsed": false,
    "deletable": true,
    "editable": true
   },
   "outputs": [
    {
     "name": "stderr",
     "output_type": "stream",
     "text": [
      "C:\\Program Files\\Anaconda3\\lib\\site-packages\\ipykernel\\__main__.py:25: SettingWithCopyWarning: \n",
      "A value is trying to be set on a copy of a slice from a DataFrame.\n",
      "Try using .loc[row_indexer,col_indexer] = value instead\n",
      "\n",
      "See the caveats in the documentation: http://pandas.pydata.org/pandas-docs/stable/indexing.html#indexing-view-versus-copy\n",
      "C:\\Program Files\\Anaconda3\\lib\\site-packages\\ipykernel\\__main__.py:28: SettingWithCopyWarning: \n",
      "A value is trying to be set on a copy of a slice from a DataFrame.\n",
      "Try using .loc[row_indexer,col_indexer] = value instead\n",
      "\n",
      "See the caveats in the documentation: http://pandas.pydata.org/pandas-docs/stable/indexing.html#indexing-view-versus-copy\n"
     ]
    },
    {
     "data": {
      "image/png": "[encoded data removed]",
      "text/plain": [
       "<matplotlib.figure.Figure at 0x1d688003b00>"
      ]
     },
     "metadata": {},
     "output_type": "display_data"
    }
   ],
   "source": [
    "sql = \"\"\"SELECT\n",
    "           t_Obj.objID,\n",
    "           t_Obj.Anzahl,\n",
    "           t_Obj.Form_Boden,\n",
    "           t_Obj.Typ\n",
    "       FROM (t_Ort INNER JOIN t_Komplex ON t_Ort.ortID = t_Komplex.ortID)\n",
    "           INNER JOIN t_Obj ON t_Komplex.komplexID = t_Obj.komplexID\n",
    "       WHERE (((t_Ort.ort_lit) = 'DS')\n",
    "           AND ((t_Obj.Form_Boden) != '')\n",
    "           AND ((t_Obj.Form_Boden) Not Like '%/%')\n",
    "           AND ((t_Obj.Form_Boden) Not Like '%(?)%')\n",
    "           AND ((t_Obj.Typ) != '')\n",
    "           AND ((t_Obj.Typ) Not Like '%/%')\n",
    "           AND ((t_Obj.Typ) Not Like '%(?)%')\n",
    "           AND ((t_Obj.Anzahl) != '')\n",
    "           AND (((t_Ort.ort_fluss) NOT LIKE '%Ubangi%')\n",
    "               AND (t_Ort.ort_fluss) NOT LIKE '%Lua%'))\"\"\".replace('\\n',' ')\n",
    "\n",
    "df = pd.read_sql(sql, con)\n",
    "\n",
    "round_dict = {'B1', 'B2', 'B3'}\n",
    "flat_dict = {'B4', 'B5', 'B6', 'B7', 'B8', 'B9', 'B10', 'B11', 'B12', 'B13', 'B14'}\n",
    "\n",
    "df_round = df[df['Form_Boden'].isin(round_dict)]\n",
    "df_round['base'] = 'round'\n",
    "\n",
    "df_flat = df[df['Form_Boden'].isin(flat_dict)]\n",
    "df_flat['base'] = 'flat'\n",
    "\n",
    "df_bases = pd.concat([df_flat, df_round])\n",
    "\n",
    "stilgr = pd.read_csv(\"../lit/Wotzka1995_StilGrKuerzel.csv\", encoding='latin1', converters={'Wotzka1995': str, 'Seidensticker': str, 'Lit': str})\n",
    "\n",
    "stilgr['STILGR'] = stilgr['Seidensticker']+ ' ' + stilgr['Stilgruppe']\n",
    "\n",
    "# dictionary der Stilgruppen-Kürzel und Stilgruppen\n",
    "di = stilgr.set_index('Typ').to_dict()['STILGR']\n",
    "#di\n",
    "\n",
    "a_flat = df_flat\n",
    "a_round = df_round\n",
    "\n",
    "a_bases = pd.concat([a_flat, a_round])\n",
    "\n",
    "a_bases = a_bases.replace({\"Typ\": di})\n",
    "\n",
    "# zerschnibbeln für Sortieurng\n",
    "a_bases['Nr'] = a_bases['Typ'].apply(lambda x: x.split(' ')[0])\n",
    "a_bases['Stil'] = a_bases['Typ'].apply(lambda x: x.split(' ')[-1])\n",
    "\n",
    "a_bases['A'], a_bases['B'], a_bases['C'], a_bases['D'] = a_bases['Nr'].str.split('.', 3).str\n",
    "\n",
    "a_bases['A'] = pd.to_numeric(a_bases['A'], errors='coerce')\n",
    "a_bases['B'] = pd.to_numeric(a_bases['B'], errors='coerce')\n",
    "a_bases['C'] = pd.to_numeric(a_bases['C'], errors='coerce')\n",
    "a_bases['D'] = pd.to_numeric(a_bases['D'], errors='coerce')\n",
    "\n",
    "df_pivot = a_bases.pivot_table(values = 'Anzahl', index = ['A', 'B', 'C', 'D', 'Stil'], columns = ['base'], aggfunc = sum)\n",
    "\n",
    "df_pivot['sum'] = df_pivot.sum(axis=1)\n",
    "df_pivot['sum'] = df_pivot['sum'].astype(int)\n",
    "df_pivot['sum'] = df_pivot['sum'].astype(str)\n",
    "\n",
    "df_pivot = df_pivot.reset_index()\n",
    "\n",
    "df_pivot['label'] = df_pivot['Stil'] + '\\nn=' + df_pivot['sum']\n",
    "df_pivot = df_pivot.set_index(['A', 'B', 'C', 'D', 'label'])\n",
    "\n",
    "# Diagramm auf 100% - Prozentwerte für jede Zeile ausrechnen:\n",
    "df_perc = df_pivot[['flat', 'round']].divide(df_pivot.sum(axis=1), axis=0) * 100\n",
    "df_perc = df_perc.reset_index()\n",
    "#df_perc = df_perc.sort_values(['A', 'B'], ascending = False)\n",
    "df_perc = df_perc[['label', 'round', 'flat']]\n",
    "df_perc = df_perc.set_index('label')\n",
    "\n",
    "df_perc = df_perc.rename(columns={'flat': 'B4-14\\nflach', 'round': 'B1-3\\nrund'})\n",
    "\n",
    "df_perc = df_perc.transpose()\n",
    "\n",
    "# Beschriftung\n",
    "df_label = df_perc\n",
    "df_label = df_label.replace(np.nan, 5000)\n",
    "df_label = df_label.round(0)\n",
    "df_label = df_label.astype(int)\n",
    "df_label = df_label.replace(5000, '-')\n",
    "\n",
    "df_label.to_latex('../output/tabs/4-BodentypenSanghaLikwalaEtc.tex', \n",
    "                  escape = False, encoding = 'utf8')\n",
    "\n",
    "plt.style.use('classic')\n",
    "\n",
    "fig = plt.figure()\n",
    "fig.set_size_inches(6.5, 10)\n",
    "\n",
    "# plt.figure()\n",
    "ax = plt.gca()\n",
    "im = ax.imshow(df_perc, interpolation='nearest', cmap='Greys', alpha=.25)\n",
    "\n",
    "#plt.ylabel('Stilgruppen')\n",
    "plt.xlabel('')\n",
    "plt.yticks(range(len(df_perc.index)), df_perc.index)\n",
    "plt.xticks(range(len(df_perc.columns)), df_perc.columns, rotation = 45, ha = 'right')\n",
    "\n",
    "for (i, j), z in np.ndenumerate(df_label):\n",
    "    plt.text(j, i, z, ha='center', va='center')\n",
    "\n",
    "#plt.axvline(6.5, color='black')\n",
    "\n",
    "#divider = make_axes_locatable(ax)\n",
    "#cax = divider.append_axes(\"right\", size=0.2, pad=0.2)\n",
    "#cbar = plt.colorbar(im, cax=cax)\n",
    "#cbar.set_label('Anteil (Prozent)')\n",
    "\n",
    "plt.tight_layout()\n",
    "\n",
    "plt.savefig('../output/figs/4-BodentypenSanghaLikwalaEtc.pdf', bbox_inches='tight')\n",
    "plt.show()"
   ]
  },
  {
   "cell_type": "markdown",
   "metadata": {
    "deletable": true,
    "editable": true
   },
   "source": [
    "## Korrespondenzanalyse der Keramikformen"
   ]
  },
  {
   "cell_type": "markdown",
   "metadata": {
    "deletable": true,
    "editable": true
   },
   "source": [
    "> in **R** (4_Besiedlungsgeschichte.R)"
   ]
  },
  {
   "cell_type": "code",
   "execution_count": 2,
   "metadata": {
    "collapsed": false,
    "deletable": true,
    "editable": true
   },
   "outputs": [
    {
     "data": {
      "text/html": [
       "<div>\n",
       "<table border=\"1\" class=\"dataframe\">\n",
       "  <thead>\n",
       "    <tr style=\"text-align: right;\">\n",
       "      <th></th>\n",
       "      <th>objID</th>\n",
       "      <th>ort_kurz</th>\n",
       "      <th>Typ</th>\n",
       "    </tr>\n",
       "  </thead>\n",
       "  <tbody>\n",
       "    <tr>\n",
       "      <th>0</th>\n",
       "      <td>12</td>\n",
       "      <td>BAT</td>\n",
       "      <td>Roulette</td>\n",
       "    </tr>\n",
       "    <tr>\n",
       "      <th>1</th>\n",
       "      <td>13</td>\n",
       "      <td>BAT</td>\n",
       "      <td>Roulette</td>\n",
       "    </tr>\n",
       "    <tr>\n",
       "      <th>2</th>\n",
       "      <td>15</td>\n",
       "      <td>BAT</td>\n",
       "      <td>Roulette</td>\n",
       "    </tr>\n",
       "    <tr>\n",
       "      <th>3</th>\n",
       "      <td>17</td>\n",
       "      <td>BAT</td>\n",
       "      <td>Roulette</td>\n",
       "    </tr>\n",
       "    <tr>\n",
       "      <th>4</th>\n",
       "      <td>21</td>\n",
       "      <td>BBL</td>\n",
       "      <td>BBL</td>\n",
       "    </tr>\n",
       "  </tbody>\n",
       "</table>\n",
       "</div>"
      ],
      "text/plain": [
       "   objID ort_kurz       Typ\n",
       "0     12      BAT  Roulette\n",
       "1     13      BAT  Roulette\n",
       "2     15      BAT  Roulette\n",
       "3     17      BAT  Roulette\n",
       "4     21      BBL       BBL"
      ]
     },
     "metadata": {},
     "output_type": "display_data"
    }
   ],
   "source": [
    "sql = \"\"\"SELECT\n",
    "           t_Obj.objID, \n",
    "           t_Obj.ort_kurz, \n",
    "           t_Obj.Typ \n",
    "       FROM t_Obj \n",
    "       WHERE ((t_Obj.Typ) Not Like '%?%'\n",
    "            AND (t_Obj.Typ) != '')\"\"\".replace('\\n',' ')\n",
    "\n",
    "df = pd.read_sql(sql, con)\n",
    "display(df.head())"
   ]
  },
  {
   "cell_type": "markdown",
   "metadata": {
    "deletable": true,
    "editable": true
   },
   "source": [
    "Die Eintragungen bei den Typen sind stark uneinheitlich.\n",
    "\n",
    "* [ ] die Typen-Bezeichnungen müssen vereinheitlicht werden"
   ]
  },
  {
   "cell_type": "markdown",
   "metadata": {
    "deletable": true,
    "editable": true
   },
   "source": [
    "Kreuztabele mit den Fundstellen als Zeilen und Stilgruppen als Spalten erstellen:"
   ]
  },
  {
   "cell_type": "code",
   "execution_count": 3,
   "metadata": {
    "collapsed": false,
    "deletable": true,
    "editable": true
   },
   "outputs": [
    {
     "data": {
      "text/html": [
       "<div>\n",
       "<table border=\"1\" class=\"dataframe\">\n",
       "  <thead>\n",
       "    <tr style=\"text-align: right;\">\n",
       "      <th>Typ</th>\n",
       "      <th>BAN</th>\n",
       "      <th>BBL</th>\n",
       "      <th>BBS</th>\n",
       "      <th>BKW</th>\n",
       "      <th>BOG</th>\n",
       "      <th>BRU</th>\n",
       "      <th>BatMLB</th>\n",
       "      <th>Bokele</th>\n",
       "      <th>Bondongo</th>\n",
       "      <th>Bondongo/EBA</th>\n",
       "      <th>...</th>\n",
       "      <th>NGO</th>\n",
       "      <th>NeolLeo</th>\n",
       "      <th>OUE</th>\n",
       "      <th>PDM</th>\n",
       "      <th>PDM/MBJ</th>\n",
       "      <th>PIKMUN</th>\n",
       "      <th>Reiseherd</th>\n",
       "      <th>Roulette</th>\n",
       "      <th>Tonpfeife</th>\n",
       "      <th>rezent</th>\n",
       "    </tr>\n",
       "    <tr>\n",
       "      <th>ort_kurz</th>\n",
       "      <th></th>\n",
       "      <th></th>\n",
       "      <th></th>\n",
       "      <th></th>\n",
       "      <th></th>\n",
       "      <th></th>\n",
       "      <th></th>\n",
       "      <th></th>\n",
       "      <th></th>\n",
       "      <th></th>\n",
       "      <th></th>\n",
       "      <th></th>\n",
       "      <th></th>\n",
       "      <th></th>\n",
       "      <th></th>\n",
       "      <th></th>\n",
       "      <th></th>\n",
       "      <th></th>\n",
       "      <th></th>\n",
       "      <th></th>\n",
       "      <th></th>\n",
       "    </tr>\n",
       "  </thead>\n",
       "  <tbody>\n",
       "    <tr>\n",
       "      <th></th>\n",
       "      <td>0</td>\n",
       "      <td>0</td>\n",
       "      <td>0</td>\n",
       "      <td>0</td>\n",
       "      <td>0</td>\n",
       "      <td>0</td>\n",
       "      <td>0</td>\n",
       "      <td>0</td>\n",
       "      <td>1</td>\n",
       "      <td>0</td>\n",
       "      <td>...</td>\n",
       "      <td>0</td>\n",
       "      <td>0</td>\n",
       "      <td>1</td>\n",
       "      <td>0</td>\n",
       "      <td>0</td>\n",
       "      <td>1</td>\n",
       "      <td>0</td>\n",
       "      <td>0</td>\n",
       "      <td>0</td>\n",
       "      <td>0</td>\n",
       "    </tr>\n",
       "    <tr>\n",
       "      <th>BAM</th>\n",
       "      <td>0</td>\n",
       "      <td>0</td>\n",
       "      <td>0</td>\n",
       "      <td>0</td>\n",
       "      <td>0</td>\n",
       "      <td>0</td>\n",
       "      <td>0</td>\n",
       "      <td>0</td>\n",
       "      <td>0</td>\n",
       "      <td>1</td>\n",
       "      <td>...</td>\n",
       "      <td>0</td>\n",
       "      <td>0</td>\n",
       "      <td>0</td>\n",
       "      <td>0</td>\n",
       "      <td>0</td>\n",
       "      <td>0</td>\n",
       "      <td>0</td>\n",
       "      <td>0</td>\n",
       "      <td>0</td>\n",
       "      <td>0</td>\n",
       "    </tr>\n",
       "    <tr>\n",
       "      <th>BAN</th>\n",
       "      <td>1</td>\n",
       "      <td>0</td>\n",
       "      <td>0</td>\n",
       "      <td>0</td>\n",
       "      <td>0</td>\n",
       "      <td>0</td>\n",
       "      <td>0</td>\n",
       "      <td>0</td>\n",
       "      <td>0</td>\n",
       "      <td>0</td>\n",
       "      <td>...</td>\n",
       "      <td>0</td>\n",
       "      <td>0</td>\n",
       "      <td>0</td>\n",
       "      <td>0</td>\n",
       "      <td>0</td>\n",
       "      <td>0</td>\n",
       "      <td>0</td>\n",
       "      <td>0</td>\n",
       "      <td>0</td>\n",
       "      <td>0</td>\n",
       "    </tr>\n",
       "    <tr>\n",
       "      <th>BAT</th>\n",
       "      <td>2</td>\n",
       "      <td>0</td>\n",
       "      <td>0</td>\n",
       "      <td>0</td>\n",
       "      <td>0</td>\n",
       "      <td>0</td>\n",
       "      <td>0</td>\n",
       "      <td>0</td>\n",
       "      <td>0</td>\n",
       "      <td>0</td>\n",
       "      <td>...</td>\n",
       "      <td>0</td>\n",
       "      <td>0</td>\n",
       "      <td>0</td>\n",
       "      <td>0</td>\n",
       "      <td>0</td>\n",
       "      <td>0</td>\n",
       "      <td>0</td>\n",
       "      <td>4</td>\n",
       "      <td>0</td>\n",
       "      <td>0</td>\n",
       "    </tr>\n",
       "    <tr>\n",
       "      <th>BBL</th>\n",
       "      <td>0</td>\n",
       "      <td>20</td>\n",
       "      <td>0</td>\n",
       "      <td>0</td>\n",
       "      <td>0</td>\n",
       "      <td>0</td>\n",
       "      <td>0</td>\n",
       "      <td>0</td>\n",
       "      <td>0</td>\n",
       "      <td>0</td>\n",
       "      <td>...</td>\n",
       "      <td>0</td>\n",
       "      <td>0</td>\n",
       "      <td>0</td>\n",
       "      <td>0</td>\n",
       "      <td>0</td>\n",
       "      <td>0</td>\n",
       "      <td>0</td>\n",
       "      <td>2</td>\n",
       "      <td>0</td>\n",
       "      <td>0</td>\n",
       "    </tr>\n",
       "  </tbody>\n",
       "</table>\n",
       "<p>5 rows × 47 columns</p>\n",
       "</div>"
      ],
      "text/plain": [
       "Typ       BAN  BBL  BBS  BKW  BOG  BRU  BatMLB  Bokele  Bondongo  \\\n",
       "ort_kurz                                                           \n",
       "            0    0    0    0    0    0       0       0         1   \n",
       "BAM         0    0    0    0    0    0       0       0         0   \n",
       "BAN         1    0    0    0    0    0       0       0         0   \n",
       "BAT         2    0    0    0    0    0       0       0         0   \n",
       "BBL         0   20    0    0    0    0       0       0         0   \n",
       "\n",
       "Typ       Bondongo/EBA   ...    NGO  NeolLeo  OUE  PDM  PDM/MBJ  PIKMUN  \\\n",
       "ort_kurz                 ...                                              \n",
       "                     0   ...      0        0    1    0        0       1   \n",
       "BAM                  1   ...      0        0    0    0        0       0   \n",
       "BAN                  0   ...      0        0    0    0        0       0   \n",
       "BAT                  0   ...      0        0    0    0        0       0   \n",
       "BBL                  0   ...      0        0    0    0        0       0   \n",
       "\n",
       "Typ       Reiseherd  Roulette  Tonpfeife  rezent  \n",
       "ort_kurz                                          \n",
       "                  0         0          0       0  \n",
       "BAM               0         0          0       0  \n",
       "BAN               0         0          0       0  \n",
       "BAT               0         4          0       0  \n",
       "BBL               0         2          0       0  \n",
       "\n",
       "[5 rows x 47 columns]"
      ]
     },
     "metadata": {},
     "output_type": "display_data"
    }
   ],
   "source": [
    "df_pivot = df.pivot_table(values = 'objID', index = 'ort_kurz', columns = 'Typ', aggfunc = len)\n",
    "# NaN durch 0 ersetzen\n",
    "df_pivot = df_pivot.fillna(0)\n",
    "display(df_pivot.head())"
   ]
  },
  {
   "cell_type": "code",
   "execution_count": null,
   "metadata": {
    "collapsed": true,
    "deletable": true,
    "editable": true
   },
   "outputs": [],
   "source": []
  },
  {
   "cell_type": "markdown",
   "metadata": {
    "deletable": true,
    "editable": true
   },
   "source": [
    "Die Kreuztabelle wird an das 'ca'-Paket in R übergeben:"
   ]
  },
  {
   "cell_type": "code",
   "execution_count": 4,
   "metadata": {
    "collapsed": false,
    "deletable": true,
    "editable": true
   },
   "outputs": [
    {
     "ename": "ImportError",
     "evalue": "No module named 'rpy2'",
     "output_type": "error",
     "traceback": [
      "\u001b[1;31m---------------------------------------------------------------------------\u001b[0m",
      "\u001b[1;31mImportError\u001b[0m                               Traceback (most recent call last)",
      "\u001b[1;32m<ipython-input-4-3b2aaa0727b9>\u001b[0m in \u001b[0;36m<module>\u001b[1;34m()\u001b[0m\n\u001b[1;32m----> 1\u001b[1;33m \u001b[1;32mfrom\u001b[0m \u001b[0mrpy2\u001b[0m\u001b[1;33m.\u001b[0m\u001b[0mrobjects\u001b[0m \u001b[1;32mimport\u001b[0m \u001b[1;33m*\u001b[0m\u001b[1;33m\u001b[0m\u001b[0m\n\u001b[0m\u001b[0;32m      2\u001b[0m \u001b[1;32mimport\u001b[0m \u001b[0mpandas\u001b[0m\u001b[1;33m.\u001b[0m\u001b[0mrpy\u001b[0m\u001b[1;33m.\u001b[0m\u001b[0mcommon\u001b[0m \u001b[1;32mas\u001b[0m \u001b[0mcom\u001b[0m\u001b[1;33m\u001b[0m\u001b[0m\n\u001b[0;32m      3\u001b[0m \u001b[0mr\u001b[0m\u001b[1;33m(\u001b[0m\u001b[1;34m\"library('ca')\"\u001b[0m\u001b[1;33m)\u001b[0m\u001b[1;33m\u001b[0m\u001b[0m\n",
      "\u001b[1;31mImportError\u001b[0m: No module named 'rpy2'"
     ]
    }
   ],
   "source": [
    "from rpy2.robjects import *\n",
    "import pandas.rpy.common as com\n",
    "r(\"library('ca')\")"
   ]
  },
  {
   "cell_type": "markdown",
   "metadata": {
    "deletable": true,
    "editable": true
   },
   "source": [
    "es besteht ein Problem, die gesamte Kreuztabelle <code>df_pivot</code> in R zu laden; daher wurde nur ein kleines Subset für Testzwecke ausgeschnitten (<code>df2</code>) >> PROBLEM BEHEBEN!"
   ]
  },
  {
   "cell_type": "code",
   "execution_count": null,
   "metadata": {
    "collapsed": true,
    "deletable": true,
    "editable": true
   },
   "outputs": [],
   "source": [
    "df1 = df_pivot[['EBA', 'EPE']]\n",
    "df2 = df1[102:104]\n",
    "# erste Zeile wegschneiden\n",
    "# df3 = df2.ix[1:]\n",
    "df2"
   ]
  },
  {
   "cell_type": "code",
   "execution_count": null,
   "metadata": {
    "collapsed": true,
    "deletable": true,
    "editable": true
   },
   "outputs": [],
   "source": [
    "r_dataframe = com.convert_to_r_dataframe(df2)"
   ]
  },
  {
   "cell_type": "code",
   "execution_count": null,
   "metadata": {
    "collapsed": true,
    "deletable": true,
    "editable": true
   },
   "outputs": [],
   "source": [
    "import rpy2.robjects as robjects\n",
    "r = robjects.r\n",
    "# ca = r.ca(r_dataframe)\n",
    "# print(ca.r_repr())"
   ]
  },
  {
   "cell_type": "code",
   "execution_count": null,
   "metadata": {
    "collapsed": true,
    "deletable": true,
    "editable": true
   },
   "outputs": [],
   "source": [
    "print(r_dataframe)"
   ]
  },
  {
   "cell_type": "code",
   "execution_count": null,
   "metadata": {
    "collapsed": true,
    "deletable": true,
    "editable": true
   },
   "outputs": [],
   "source": []
  },
  {
   "cell_type": "code",
   "execution_count": null,
   "metadata": {
    "collapsed": true,
    "deletable": true,
    "editable": true
   },
   "outputs": [],
   "source": []
  }
 ],
 "metadata": {
  "anaconda-cloud": {},
  "kernelspec": {
   "display_name": "Python [default]",
   "language": "python",
   "name": "python3"
  },
  "language_info": {
   "codemirror_mode": {
    "name": "ipython",
    "version": 3
   },
   "file_extension": ".py",
   "mimetype": "text/x-python",
   "name": "python",
   "nbconvert_exporter": "python",
   "pygments_lexer": "ipython3",
   "version": "3.5.2"
  }
 },
 "nbformat": 4,
 "nbformat_minor": 1
}
