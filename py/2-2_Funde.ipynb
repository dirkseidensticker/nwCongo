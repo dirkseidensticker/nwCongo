{
 "cells": [
  {
   "cell_type": "markdown",
   "metadata": {},
   "source": [
    "# Funde"
   ]
  },
  {
   "cell_type": "markdown",
   "metadata": {},
   "source": [
    "* [Verteilung der Funde im Arbeitsgebiet](#Verteilung-der-Funde-im-Arbeitsgebiet)\n",
    "* [Größenklassen nach Flusslauf](#Größenklassen-nach-Flusslauf)\n",
    "* [Herkunft der Funde](#Herkunft-der-Funde-–-aus-Befund-vs.-Oberflächenabsammlung)\n",
    "* [Nicht-keramische Funde](#nicht-keramische-Funde)"
   ]
  },
  {
   "cell_type": "code",
   "execution_count": 3,
   "metadata": {},
   "outputs": [],
   "source": [
    "%matplotlib inline\n",
    "from IPython.display import display\n",
    "import pandas as pd\n",
    "import numpy as np\n",
    "import matplotlib as mpl\n",
    "import matplotlib.pyplot as plt\n",
    "import sqlite3\n",
    "\n",
    "con = sqlite3.connect(\"../data/base/nwCongoDB.sqlite\")"
   ]
  },
  {
   "cell_type": "markdown",
   "metadata": {},
   "source": [
    "## Verteilung der Funde im Arbeitsgebiet"
   ]
  },
  {
   "cell_type": "code",
   "execution_count": 6,
   "metadata": {},
   "outputs": [
    {
     "name": "stderr",
     "output_type": "stream",
     "text": [
      "C:\\Users\\dirks\\Anaconda3\\lib\\site-packages\\ipykernel_launcher.py:17: FutureWarning: convert_objects is deprecated.  To re-infer data dtypes for object columns, use Series.infer_objects()\n",
      "For all other conversions use the data-type specific converters pd.to_datetime, pd.to_timedelta and pd.to_numeric.\n",
      "C:\\Users\\dirks\\Anaconda3\\lib\\site-packages\\ipykernel_launcher.py:18: FutureWarning: convert_objects is deprecated.  To re-infer data dtypes for object columns, use Series.infer_objects()\n",
      "For all other conversions use the data-type specific converters pd.to_datetime, pd.to_timedelta and pd.to_numeric.\n"
     ]
    },
    {
     "data": {
      "text/html": [
       "<div>\n",
       "<style scoped>\n",
       "    .dataframe tbody tr th:only-of-type {\n",
       "        vertical-align: middle;\n",
       "    }\n",
       "\n",
       "    .dataframe tbody tr th {\n",
       "        vertical-align: top;\n",
       "    }\n",
       "\n",
       "    .dataframe thead th {\n",
       "        text-align: right;\n",
       "    }\n",
       "</style>\n",
       "<table border=\"1\" class=\"dataframe\">\n",
       "  <thead>\n",
       "    <tr style=\"text-align: right;\">\n",
       "      <th></th>\n",
       "      <th>ort_kurz</th>\n",
       "      <th>ort_name</th>\n",
       "      <th>ort_fluss</th>\n",
       "      <th>ort_lit</th>\n",
       "      <th>objID</th>\n",
       "      <th>Art</th>\n",
       "      <th>Anzahl</th>\n",
       "      <th>Gewicht</th>\n",
       "      <th>Gewicht kg</th>\n",
       "    </tr>\n",
       "  </thead>\n",
       "  <tbody>\n",
       "    <tr>\n",
       "      <th>0</th>\n",
       "      <td>BAT</td>\n",
       "      <td>Batanga</td>\n",
       "      <td>Ubangi</td>\n",
       "      <td>DS</td>\n",
       "      <td>10</td>\n",
       "      <td>K</td>\n",
       "      <td>1.0</td>\n",
       "      <td>19.0</td>\n",
       "      <td>0.019</td>\n",
       "    </tr>\n",
       "    <tr>\n",
       "      <th>1</th>\n",
       "      <td>BAT</td>\n",
       "      <td>Batanga</td>\n",
       "      <td>Ubangi</td>\n",
       "      <td>DS</td>\n",
       "      <td>11</td>\n",
       "      <td>K</td>\n",
       "      <td>1.0</td>\n",
       "      <td>31.0</td>\n",
       "      <td>0.031</td>\n",
       "    </tr>\n",
       "    <tr>\n",
       "      <th>2</th>\n",
       "      <td>BAT</td>\n",
       "      <td>Batanga</td>\n",
       "      <td>Ubangi</td>\n",
       "      <td>DS</td>\n",
       "      <td>12</td>\n",
       "      <td>K</td>\n",
       "      <td>1.0</td>\n",
       "      <td>109.0</td>\n",
       "      <td>0.109</td>\n",
       "    </tr>\n",
       "    <tr>\n",
       "      <th>3</th>\n",
       "      <td>BAT</td>\n",
       "      <td>Batanga</td>\n",
       "      <td>Ubangi</td>\n",
       "      <td>DS</td>\n",
       "      <td>13</td>\n",
       "      <td>K</td>\n",
       "      <td>1.0</td>\n",
       "      <td>8.0</td>\n",
       "      <td>0.008</td>\n",
       "    </tr>\n",
       "    <tr>\n",
       "      <th>4</th>\n",
       "      <td>BAT</td>\n",
       "      <td>Batanga</td>\n",
       "      <td>Ubangi</td>\n",
       "      <td>DS</td>\n",
       "      <td>14</td>\n",
       "      <td>K</td>\n",
       "      <td>1.0</td>\n",
       "      <td>68.0</td>\n",
       "      <td>0.068</td>\n",
       "    </tr>\n",
       "  </tbody>\n",
       "</table>\n",
       "</div>"
      ],
      "text/plain": [
       "  ort_kurz ort_name ort_fluss ort_lit  objID Art  Anzahl  Gewicht  Gewicht kg\n",
       "0      BAT  Batanga    Ubangi      DS     10   K     1.0     19.0       0.019\n",
       "1      BAT  Batanga    Ubangi      DS     11   K     1.0     31.0       0.031\n",
       "2      BAT  Batanga    Ubangi      DS     12   K     1.0    109.0       0.109\n",
       "3      BAT  Batanga    Ubangi      DS     13   K     1.0      8.0       0.008\n",
       "4      BAT  Batanga    Ubangi      DS     14   K     1.0     68.0       0.068"
      ]
     },
     "metadata": {},
     "output_type": "display_data"
    }
   ],
   "source": [
    "sql = \"\"\"SELECT\n",
    "           t_Ort.ort_kurz,\n",
    "           t_Ort.ort_name,\n",
    "           t_Ort.ort_fluss,\n",
    "           t_Ort.ort_lit,\n",
    "           t_Obj.objID,\n",
    "           t_Obj.Art,\n",
    "           t_Obj.Anzahl,\n",
    "           t_Obj.Gewicht\n",
    "       FROM (t_Ort INNER JOIN t_Komplex ON t_Ort.ortID = t_Komplex.ortID)\n",
    "           INNER JOIN t_Obj ON t_Komplex.komplexID = t_Obj.komplexID\n",
    "       WHERE (((t_Ort.ort_lit) = 'DS')\n",
    "           AND ((t_Obj.Art) != '')\n",
    "           AND ((t_Obj.Notiz) Not Like '%1987%'))\"\"\".replace('\\n',' ')\n",
    "\n",
    "df = pd.read_sql(sql, con)\n",
    "df['Anzahl'] = df['Anzahl'].convert_objects(convert_numeric=True)\n",
    "df['Gewicht'] = df['Gewicht'].convert_objects(convert_numeric=True)\n",
    "df['Gewicht kg'] = df['Gewicht'] / 1000\n",
    "display(df.head())"
   ]
  },
  {
   "cell_type": "markdown",
   "metadata": {},
   "source": [
    "Anzahl Fundstücke je Fundkategorie:"
   ]
  },
  {
   "cell_type": "code",
   "execution_count": 7,
   "metadata": {},
   "outputs": [
    {
     "data": {
      "text/plain": [
       "10518.0"
      ]
     },
     "execution_count": 7,
     "metadata": {},
     "output_type": "execute_result"
    }
   ],
   "source": [
    "df['Anzahl'].sum()"
   ]
  },
  {
   "cell_type": "markdown",
   "metadata": {},
   "source": [
    "nicht-keramische Funde (kg):"
   ]
  },
  {
   "cell_type": "code",
   "execution_count": 8,
   "metadata": {},
   "outputs": [
    {
     "name": "stderr",
     "output_type": "stream",
     "text": [
      "C:\\Users\\dirks\\Anaconda3\\lib\\site-packages\\ipykernel_launcher.py:5: FutureWarning: by argument to sort_index is deprecated, please use .sort_values(by=...)\n",
      "  \"\"\"\n"
     ]
    }
   ],
   "source": [
    "# ALTE VARIANTE\n",
    "df_pivot3 = df.pivot_table(values = 'Anzahl', index = 'Art', aggfunc = sum)\n",
    "df_pivot3 = pd.DataFrame(df_pivot3)\n",
    "df_pivot3['Prozent'] = df_pivot3['Anzahl']/df_pivot3['Anzahl'].sum()*100\n",
    "df_pivot3 = df_pivot3.sort_index(by=['Anzahl'], ascending=[False])\n",
    "#df_pivot3"
   ]
  },
  {
   "cell_type": "markdown",
   "metadata": {},
   "source": [
    "andere Variante davon:"
   ]
  },
  {
   "cell_type": "code",
   "execution_count": 9,
   "metadata": {},
   "outputs": [],
   "source": [
    "#sql = \"\"\"SELECT\n",
    "#           t_Obj.objID,\n",
    "#           t_Obj.Art\n",
    "#       FROM (t_Ort INNER JOIN t_Komplex ON t_Ort.ortID = t_Komplex.ortID)\n",
    "#           INNER JOIN t_Obj ON t_Komplex.komplexID = t_Obj.komplexID\"\"\".replace('\\n',' ')\n",
    "#\n",
    "#df = pd.read_sql(sql, con)\n",
    "#df.pivot_table(values = 'objID', index = 'Art', aggfunc = len)"
   ]
  },
  {
   "cell_type": "markdown",
   "metadata": {},
   "source": [
    "insgesamt aufgenommenes Fundmaterial in Kilogramm:"
   ]
  },
  {
   "cell_type": "code",
   "execution_count": 10,
   "metadata": {},
   "outputs": [
    {
     "data": {
      "text/plain": [
       "463.87969999999996"
      ]
     },
     "execution_count": 10,
     "metadata": {},
     "output_type": "execute_result"
    }
   ],
   "source": [
    "df['Gewicht kg'].sum()"
   ]
  },
  {
   "cell_type": "code",
   "execution_count": 11,
   "metadata": {},
   "outputs": [],
   "source": [
    "df_pivot = df.pivot_table(values = 'Gewicht kg', index = 'ort_fluss', columns = 'Art', aggfunc = sum)\n",
    "df_pivot\n",
    "df_pivot_RiverFind = df_pivot"
   ]
  },
  {
   "cell_type": "code",
   "execution_count": 13,
   "metadata": {},
   "outputs": [
    {
     "data": {
      "image/png": "[encoded data removed]",
      "text/plain": [
       "<Figure size 648x216 with 1 Axes>"
      ]
     },
     "metadata": {},
     "output_type": "display_data"
    }
   ],
   "source": [
    "df_pivot.plot(kind = 'barh', stacked=True, cmap = 'Paired', figsize=(9, 3))\n",
    "plt.ylabel('Fluss')\n",
    "plt.xlabel('Gewicht [kg]')\n",
    "lgd = plt.legend(bbox_to_anchor=(0.5, -0.2), loc = 9, ncol=5, borderaxespad = 0.)\n",
    "plt.tight_layout()\n",
    "#plt.savefig('../output/figs/2-2_Funde_HerkunftFlusslauf.pdf', bbox_extra_artists=(lgd,), bbox_inches='tight')\n",
    "plt.show()"
   ]
  },
  {
   "cell_type": "code",
   "execution_count": 14,
   "metadata": {},
   "outputs": [
    {
     "data": {
      "image/png": "[encoded data removed]",
      "text/plain": [
       "<Figure size 864x396 with 2 Axes>"
      ]
     },
     "metadata": {},
     "output_type": "display_data"
    }
   ],
   "source": [
    "fig = plt.figure(1)\n",
    "fig.set_size_inches(12, 5.5)\n",
    "\n",
    "plt.subplot(121)\n",
    "\n",
    "df_pivot['K'].plot(kind = 'bar', stacked=True, color = 'grey')\n",
    "plt.xlabel('Fluss')\n",
    "plt.ylabel('Gewicht [g]')\n",
    "\n",
    "plt.subplot(122)\n",
    "df_pivot['K'].plot(kind='pie', autopct='%.0f %%', cmap = 'Greys')\n",
    "plt.ylabel('')\n",
    "\n",
    "plt.suptitle('Herkunft der Funde im Arbeitsgebiet (Gewicht)', fontsize=14, fontweight='bold')\n",
    "\n",
    "#plt.savefig('../output/figs/2-2_Funde_HerkunftFlusslauf_1.pdf', bbox_inches='tight')\n",
    "plt.show()"
   ]
  },
  {
   "cell_type": "markdown",
   "metadata": {},
   "source": [
    "Die Datenbasis muss vereinheitlicht werden, sollen verschiedene Fundkategorien aus der DB bezogen werden."
   ]
  },
  {
   "cell_type": "code",
   "execution_count": 15,
   "metadata": {},
   "outputs": [],
   "source": [
    "# Kreuztabelle mit summierter Anzahl\n",
    "df_pivot2 = df.pivot_table(values = 'Anzahl', index = 'ort_fluss', columns = 'Art', aggfunc = sum)"
   ]
  },
  {
   "cell_type": "code",
   "execution_count": 16,
   "metadata": {},
   "outputs": [
    {
     "data": {
      "image/png": "[encoded data removed]",
      "text/plain": [
       "<Figure size 864x396 with 2 Axes>"
      ]
     },
     "metadata": {},
     "output_type": "display_data"
    }
   ],
   "source": [
    "fig = plt.figure(1)\n",
    "fig.set_size_inches(12, 5.5)\n",
    "\n",
    "plt.subplot(121)\n",
    "df_pivot['K'].plot(kind='pie', autopct='%.0f %%', cmap = 'Paired')\n",
    "plt.ylabel('')\n",
    "plt.title('Summe Gewicht')\n",
    "\n",
    "plt.subplot(122)\n",
    "df_pivot2['K'].plot(kind='pie', autopct='%.0f %%', cmap = 'Paired')\n",
    "plt.ylabel('')\n",
    "plt.title('Summe Anzahl')\n",
    "\n",
    "plt.suptitle('Herkunft der Funde im Arbeitsgebiet', fontsize=14, fontweight='bold')\n",
    "\n",
    "#plt.savefig('../output/figs/2-2_Funde_HerkunftFlusslauf_2.pdf', bbox_inches='tight')\n",
    "plt.show()"
   ]
  },
  {
   "cell_type": "code",
   "execution_count": 17,
   "metadata": {},
   "outputs": [],
   "source": [
    "# http://stackoverflow.com/questions/18926031/how-to-extract-a-subset-of-a-colormap-as-a-new-colormap-in-matplotlib\n",
    "import matplotlib.colors as colors\n",
    "\n",
    "def truncate_colormap(cmap, minval=0.0, maxval=1.0, n=100):\n",
    "    new_cmap = colors.LinearSegmentedColormap.from_list(\n",
    "        'trunc({n},{a:.2f},{b:.2f})'.format(n=cmap.name, a=minval, b=maxval),\n",
    "        cmap(np.linspace(minval, maxval, n)))\n",
    "    return new_cmap\n",
    "\n",
    "cmap = plt.get_cmap('gray_r')\n",
    "new_cmap = truncate_colormap(cmap, 0.2, 0.8)"
   ]
  },
  {
   "cell_type": "code",
   "execution_count": 18,
   "metadata": {},
   "outputs": [
    {
     "data": {
      "image/png": "[encoded data removed]",
      "text/plain": [
       "<Figure size 432x432 with 1 Axes>"
      ]
     },
     "metadata": {},
     "output_type": "display_data"
    }
   ],
   "source": [
    "df_pivot['K'].plot(kind='pie', autopct='%.0f %%', cmap=new_cmap, figsize = (6,6))\n",
    "plt.ylabel('')\n",
    "#plt.savefig('../output/figs/2-2_Funde_HerkunftFlusslauf_3.pdf', bbox_inches='tight')\n",
    "plt.show()"
   ]
  },
  {
   "cell_type": "markdown",
   "metadata": {},
   "source": [
    "Kreuztabelle mit Summe der Scherbenanzahl je FdSt & Fluss:"
   ]
  },
  {
   "cell_type": "code",
   "execution_count": 19,
   "metadata": {},
   "outputs": [
    {
     "data": {
      "text/html": [
       "<div>\n",
       "<style scoped>\n",
       "    .dataframe tbody tr th:only-of-type {\n",
       "        vertical-align: middle;\n",
       "    }\n",
       "\n",
       "    .dataframe tbody tr th {\n",
       "        vertical-align: top;\n",
       "    }\n",
       "\n",
       "    .dataframe thead th {\n",
       "        text-align: right;\n",
       "    }\n",
       "</style>\n",
       "<table border=\"1\" class=\"dataframe\">\n",
       "  <thead>\n",
       "    <tr style=\"text-align: right;\">\n",
       "      <th></th>\n",
       "      <th>ort_name</th>\n",
       "      <th>ort_fluss</th>\n",
       "      <th>Anzahl</th>\n",
       "    </tr>\n",
       "  </thead>\n",
       "  <tbody>\n",
       "    <tr>\n",
       "      <th>0</th>\n",
       "      <td>Balongoi</td>\n",
       "      <td>Ubangi</td>\n",
       "      <td>25.0</td>\n",
       "    </tr>\n",
       "    <tr>\n",
       "      <th>1</th>\n",
       "      <td>Bangui</td>\n",
       "      <td>Ubangi</td>\n",
       "      <td>1.0</td>\n",
       "    </tr>\n",
       "    <tr>\n",
       "      <th>2</th>\n",
       "      <td>Batanga</td>\n",
       "      <td>Ubangi</td>\n",
       "      <td>54.0</td>\n",
       "    </tr>\n",
       "    <tr>\n",
       "      <th>3</th>\n",
       "      <td>Bili</td>\n",
       "      <td>Sangha</td>\n",
       "      <td>6.0</td>\n",
       "    </tr>\n",
       "    <tr>\n",
       "      <th>4</th>\n",
       "      <td>Bobangi</td>\n",
       "      <td>Ubangi</td>\n",
       "      <td>45.0</td>\n",
       "    </tr>\n",
       "  </tbody>\n",
       "</table>\n",
       "</div>"
      ],
      "text/plain": [
       "   ort_name ort_fluss  Anzahl\n",
       "0  Balongoi    Ubangi    25.0\n",
       "1    Bangui    Ubangi     1.0\n",
       "2   Batanga    Ubangi    54.0\n",
       "3      Bili    Sangha     6.0\n",
       "4   Bobangi    Ubangi    45.0"
      ]
     },
     "metadata": {},
     "output_type": "display_data"
    }
   ],
   "source": [
    "df_pivot2 = df.pivot_table(values = 'Anzahl', index = ['ort_name', 'ort_fluss'], aggfunc = np.sum)\n",
    "df_pivot2 = pd.DataFrame(df_pivot2)\n",
    "# den von Pandas angelegten Mulit-Index auflösen\n",
    "df_pivot2 = df_pivot2.reset_index()\n",
    "display(df_pivot2.head())"
   ]
  },
  {
   "cell_type": "code",
   "execution_count": 20,
   "metadata": {
    "scrolled": false
   },
   "outputs": [
    {
     "data": {
      "image/png": "[encoded data removed]",
      "text/plain": [
       "<Figure size 432x288 with 1 Axes>"
      ]
     },
     "metadata": {},
     "output_type": "display_data"
    }
   ],
   "source": [
    "ax = df_pivot2.boxplot(column = 'Anzahl', by = 'ort_fluss')\n",
    "plt.ylim([0,230])\n",
    "plt.xlabel(\"Flusslauf\")\n",
    "plt.ylabel(\"Anzahl\")\n",
    "plt.title(\"\")\n",
    "plt.suptitle(\"\")\n",
    "\n",
    "ax.xaxis.grid(False)\n",
    "ax.yaxis.grid(False)\n",
    "\n",
    "#plt.savefig('../output/figs/2-2_Funde_HerkunftFlusslauf_3.pdf', bbox_inches='tight')\n",
    "plt.show()"
   ]
  },
  {
   "cell_type": "markdown",
   "metadata": {},
   "source": [
    "> **Funde** Anzahl der Funde im Arbeitsgebiet"
   ]
  },
  {
   "cell_type": "markdown",
   "metadata": {},
   "source": [
    "Die Mittelwerte der Anzahl Fundstücke (alles!) je Fundstelle je Flusslauf:"
   ]
  },
  {
   "cell_type": "code",
   "execution_count": 21,
   "metadata": {},
   "outputs": [
    {
     "data": {
      "text/html": [
       "<div>\n",
       "<style scoped>\n",
       "    .dataframe tbody tr th:only-of-type {\n",
       "        vertical-align: middle;\n",
       "    }\n",
       "\n",
       "    .dataframe tbody tr th {\n",
       "        vertical-align: top;\n",
       "    }\n",
       "\n",
       "    .dataframe thead th {\n",
       "        text-align: right;\n",
       "    }\n",
       "</style>\n",
       "<table border=\"1\" class=\"dataframe\">\n",
       "  <thead>\n",
       "    <tr style=\"text-align: right;\">\n",
       "      <th></th>\n",
       "      <th>Anzahl</th>\n",
       "    </tr>\n",
       "    <tr>\n",
       "      <th>ort_fluss</th>\n",
       "      <th></th>\n",
       "    </tr>\n",
       "  </thead>\n",
       "  <tbody>\n",
       "    <tr>\n",
       "      <th>Likwala-Esobe</th>\n",
       "      <td>149.125000</td>\n",
       "    </tr>\n",
       "    <tr>\n",
       "      <th>Lua</th>\n",
       "      <td>131.250000</td>\n",
       "    </tr>\n",
       "    <tr>\n",
       "      <th>Ngoko</th>\n",
       "      <td>53.125000</td>\n",
       "    </tr>\n",
       "    <tr>\n",
       "      <th>Sangha</th>\n",
       "      <td>109.054054</td>\n",
       "    </tr>\n",
       "    <tr>\n",
       "      <th>Ubangi</th>\n",
       "      <td>38.302326</td>\n",
       "    </tr>\n",
       "    <tr>\n",
       "      <th>Zaire/Kongo</th>\n",
       "      <td>76.750000</td>\n",
       "    </tr>\n",
       "  </tbody>\n",
       "</table>\n",
       "</div>"
      ],
      "text/plain": [
       "                   Anzahl\n",
       "ort_fluss                \n",
       "Likwala-Esobe  149.125000\n",
       "Lua            131.250000\n",
       "Ngoko           53.125000\n",
       "Sangha         109.054054\n",
       "Ubangi          38.302326\n",
       "Zaire/Kongo     76.750000"
      ]
     },
     "execution_count": 21,
     "metadata": {},
     "output_type": "execute_result"
    }
   ],
   "source": [
    "df_pivot3 = df_pivot2.pivot_table(values = 'Anzahl', index = 'ort_fluss', aggfunc = np.mean)\n",
    "df_pivot3 = pd.DataFrame(df_pivot3)\n",
    "df_pivot3"
   ]
  },
  {
   "cell_type": "markdown",
   "metadata": {},
   "source": [
    "Die Werte enthalten bislang aber auch noch die Grabungen – die Tabelle lässt also keine Aussage bezüglich den Surveyergebnissen zu!"
   ]
  },
  {
   "cell_type": "code",
   "execution_count": 22,
   "metadata": {},
   "outputs": [
    {
     "data": {
      "text/html": [
       "<div>\n",
       "<style scoped>\n",
       "    .dataframe tbody tr th:only-of-type {\n",
       "        vertical-align: middle;\n",
       "    }\n",
       "\n",
       "    .dataframe tbody tr th {\n",
       "        vertical-align: top;\n",
       "    }\n",
       "\n",
       "    .dataframe thead th {\n",
       "        text-align: right;\n",
       "    }\n",
       "</style>\n",
       "<table border=\"1\" class=\"dataframe\">\n",
       "  <thead>\n",
       "    <tr style=\"text-align: right;\">\n",
       "      <th></th>\n",
       "      <th>Fundkategorie</th>\n",
       "      <th>Anzahl</th>\n",
       "      <th>\\%</th>\n",
       "      <th>Gewicht (kg)</th>\n",
       "      <th>\\%</th>\n",
       "    </tr>\n",
       "  </thead>\n",
       "  <tbody>\n",
       "    <tr>\n",
       "      <th>4</th>\n",
       "      <td>Keramik</td>\n",
       "      <td>8468</td>\n",
       "      <td>80.5</td>\n",
       "      <td>363.33</td>\n",
       "      <td>78.3</td>\n",
       "    </tr>\n",
       "    <tr>\n",
       "      <th>9</th>\n",
       "      <td>Schlacke</td>\n",
       "      <td>1321</td>\n",
       "      <td>12.6</td>\n",
       "      <td>39.73</td>\n",
       "      <td>8.6</td>\n",
       "    </tr>\n",
       "    <tr>\n",
       "      <th>3</th>\n",
       "      <td>gebrannter Lehm</td>\n",
       "      <td>187</td>\n",
       "      <td>1.8</td>\n",
       "      <td>6.25</td>\n",
       "      <td>1.3</td>\n",
       "    </tr>\n",
       "    <tr>\n",
       "      <th>8</th>\n",
       "      <td>Ofenwand</td>\n",
       "      <td>182</td>\n",
       "      <td>1.7</td>\n",
       "      <td>19.88</td>\n",
       "      <td>4.3</td>\n",
       "    </tr>\n",
       "    <tr>\n",
       "      <th>10</th>\n",
       "      <td>Sonder</td>\n",
       "      <td>117</td>\n",
       "      <td>1.1</td>\n",
       "      <td>11.19</td>\n",
       "      <td>2.4</td>\n",
       "    </tr>\n",
       "    <tr>\n",
       "      <th>13</th>\n",
       "      <td>Tuyere</td>\n",
       "      <td>94</td>\n",
       "      <td>0.9</td>\n",
       "      <td>6.81</td>\n",
       "      <td>1.5</td>\n",
       "    </tr>\n",
       "    <tr>\n",
       "      <th>12</th>\n",
       "      <td>Stein</td>\n",
       "      <td>76</td>\n",
       "      <td>0.7</td>\n",
       "      <td>7.23</td>\n",
       "      <td>1.6</td>\n",
       "    </tr>\n",
       "    <tr>\n",
       "      <th>5</th>\n",
       "      <td>Knochen</td>\n",
       "      <td>29</td>\n",
       "      <td>0.3</td>\n",
       "      <td>5.93</td>\n",
       "      <td>1.3</td>\n",
       "    </tr>\n",
       "    <tr>\n",
       "      <th>1</th>\n",
       "      <td>Eisen</td>\n",
       "      <td>13</td>\n",
       "      <td>0.1</td>\n",
       "      <td>0.53</td>\n",
       "      <td>0.1</td>\n",
       "    </tr>\n",
       "    <tr>\n",
       "      <th>6</th>\n",
       "      <td>Laterit</td>\n",
       "      <td>11</td>\n",
       "      <td>0.1</td>\n",
       "      <td>0.08</td>\n",
       "      <td>0.0</td>\n",
       "    </tr>\n",
       "    <tr>\n",
       "      <th>11</th>\n",
       "      <td>Sonst</td>\n",
       "      <td>7</td>\n",
       "      <td>0.1</td>\n",
       "      <td>2.52</td>\n",
       "      <td>0.5</td>\n",
       "    </tr>\n",
       "    <tr>\n",
       "      <th>2</th>\n",
       "      <td>Glas</td>\n",
       "      <td>6</td>\n",
       "      <td>0.1</td>\n",
       "      <td>0.01</td>\n",
       "      <td>0.0</td>\n",
       "    </tr>\n",
       "    <tr>\n",
       "      <th>7</th>\n",
       "      <td>Metall</td>\n",
       "      <td>5</td>\n",
       "      <td>0.0</td>\n",
       "      <td>0.38</td>\n",
       "      <td>0.1</td>\n",
       "    </tr>\n",
       "    <tr>\n",
       "      <th>0</th>\n",
       "      <td>Botanik</td>\n",
       "      <td>2</td>\n",
       "      <td>0.0</td>\n",
       "      <td>0.00</td>\n",
       "      <td>0.0</td>\n",
       "    </tr>\n",
       "    <tr>\n",
       "      <th>Total</th>\n",
       "      <td>SUM</td>\n",
       "      <td>10518</td>\n",
       "      <td>100.0</td>\n",
       "      <td>463.87</td>\n",
       "      <td>100.0</td>\n",
       "    </tr>\n",
       "  </tbody>\n",
       "</table>\n",
       "</div>"
      ],
      "text/plain": [
       "         Fundkategorie  Anzahl     \\%  Gewicht (kg)     \\%\n",
       "4              Keramik    8468   80.5        363.33   78.3\n",
       "9             Schlacke    1321   12.6         39.73    8.6\n",
       "3      gebrannter Lehm     187    1.8          6.25    1.3\n",
       "8             Ofenwand     182    1.7         19.88    4.3\n",
       "10              Sonder     117    1.1         11.19    2.4\n",
       "13              Tuyere      94    0.9          6.81    1.5\n",
       "12               Stein      76    0.7          7.23    1.6\n",
       "5              Knochen      29    0.3          5.93    1.3\n",
       "1                Eisen      13    0.1          0.53    0.1\n",
       "6              Laterit      11    0.1          0.08    0.0\n",
       "11               Sonst       7    0.1          2.52    0.5\n",
       "2                 Glas       6    0.1          0.01    0.0\n",
       "7               Metall       5    0.0          0.38    0.1\n",
       "0              Botanik       2    0.0          0.00    0.0\n",
       "Total              SUM   10518  100.0        463.87  100.0"
      ]
     },
     "execution_count": 22,
     "metadata": {},
     "output_type": "execute_result"
    }
   ],
   "source": [
    "df_pivot1 = df.pivot_table(values = 'Gewicht', index = 'Art', aggfunc = sum, fill_value = 0)\n",
    "df_pivot1 = pd.DataFrame(df_pivot1)\n",
    "# df_pivot1 = df_pivot1.reset_index()\n",
    "df_pivot1.rename(index={'HL': 'gebrannter Lehm', 'K': 'Keramik'}, inplace=True)\n",
    "df_pivot1['\\%'] = (df_pivot1['Gewicht']/df_pivot1['Gewicht'].sum()*100).round(1)\n",
    "df_pivot1['Gewicht'] = (df_pivot1['Gewicht'] / 1000).round(2)\n",
    "df_pivot1.rename(columns={'Gewicht': 'Gewicht (kg)'}, inplace=True)\n",
    "\n",
    "df_pivot2 = df.pivot_table(values = 'Anzahl', index = 'Art', aggfunc = sum, fill_value = 0)\n",
    "df_pivot2 = pd.DataFrame(df_pivot2)\n",
    "df_pivot2.rename(index={'HL': 'gebrannter Lehm', 'K': 'Keramik'}, inplace=True)\n",
    "df_pivot2['\\%'] = (df_pivot2['Anzahl']/df_pivot2['Anzahl'].sum()*100).round(1)\n",
    "\n",
    "# Tabellen vereinen:\n",
    "df_concat = pd.concat([df_pivot2, df_pivot1], axis = 1)\n",
    "df_concat = df_concat.reset_index()\n",
    "df_concat.rename(columns={'Art': 'Fundkategorie'}, inplace=True)\n",
    "df_concat = df_concat.sort_values('Anzahl', ascending=False)\n",
    "\n",
    "# Summen-Zeile\n",
    "df_concat.loc['Total']= df_concat.sum()\n",
    "df_concat.loc['Total', 'Fundkategorie'] = 'SUM'\n",
    "\n",
    "#df_concat.to_latex('../output/tabs/2-2_Funde.tex', index = False, escape = False)\n",
    "df_concat"
   ]
  },
  {
   "cell_type": "code",
   "execution_count": 23,
   "metadata": {},
   "outputs": [
    {
     "data": {
      "text/plain": [
       "564.4099999999999"
      ]
     },
     "execution_count": 23,
     "metadata": {},
     "output_type": "execute_result"
    }
   ],
   "source": [
    "df_concat['Gewicht (kg)'].sum() - df_concat.loc[4, 'Gewicht (kg)']"
   ]
  },
  {
   "cell_type": "markdown",
   "metadata": {},
   "source": [
    "Summe mit Metallurgie in Zusammenhang stehender Funde (kg):"
   ]
  },
  {
   "cell_type": "code",
   "execution_count": 24,
   "metadata": {},
   "outputs": [
    {
     "data": {
      "text/plain": [
       "66.42"
      ]
     },
     "execution_count": 24,
     "metadata": {},
     "output_type": "execute_result"
    }
   ],
   "source": [
    "df_concat.loc[8, 'Gewicht (kg)'] + df_concat.loc[9, 'Gewicht (kg)'] + df_concat.loc[13, 'Gewicht (kg)']"
   ]
  },
  {
   "cell_type": "markdown",
   "metadata": {},
   "source": [
    "## Vergleich Flusslauf: Km vs. Funde"
   ]
  },
  {
   "cell_type": "code",
   "execution_count": 25,
   "metadata": {},
   "outputs": [
    {
     "data": {
      "text/html": [
       "<div>\n",
       "<style scoped>\n",
       "    .dataframe tbody tr th:only-of-type {\n",
       "        vertical-align: middle;\n",
       "    }\n",
       "\n",
       "    .dataframe tbody tr th {\n",
       "        vertical-align: top;\n",
       "    }\n",
       "\n",
       "    .dataframe thead th {\n",
       "        text-align: right;\n",
       "    }\n",
       "</style>\n",
       "<table border=\"1\" class=\"dataframe\">\n",
       "  <thead>\n",
       "    <tr style=\"text-align: right;\">\n",
       "      <th></th>\n",
       "      <th>KM</th>\n",
       "      <th>kmPCT</th>\n",
       "    </tr>\n",
       "    <tr>\n",
       "      <th>RIVER</th>\n",
       "      <th></th>\n",
       "      <th></th>\n",
       "    </tr>\n",
       "  </thead>\n",
       "  <tbody>\n",
       "    <tr>\n",
       "      <th>Ubangi</th>\n",
       "      <td>850</td>\n",
       "      <td>38.812785</td>\n",
       "    </tr>\n",
       "    <tr>\n",
       "      <th>Lua</th>\n",
       "      <td>100</td>\n",
       "      <td>4.566210</td>\n",
       "    </tr>\n",
       "    <tr>\n",
       "      <th>Sangha</th>\n",
       "      <td>600</td>\n",
       "      <td>27.397260</td>\n",
       "    </tr>\n",
       "    <tr>\n",
       "      <th>Ngoko</th>\n",
       "      <td>80</td>\n",
       "      <td>3.652968</td>\n",
       "    </tr>\n",
       "    <tr>\n",
       "      <th>Likwala-Esobe</th>\n",
       "      <td>500</td>\n",
       "      <td>22.831050</td>\n",
       "    </tr>\n",
       "    <tr>\n",
       "      <th>Zaire/Kongo</th>\n",
       "      <td>60</td>\n",
       "      <td>2.739726</td>\n",
       "    </tr>\n",
       "  </tbody>\n",
       "</table>\n",
       "</div>"
      ],
      "text/plain": [
       "                KM      kmPCT\n",
       "RIVER                        \n",
       "Ubangi         850  38.812785\n",
       "Lua            100   4.566210\n",
       "Sangha         600  27.397260\n",
       "Ngoko           80   3.652968\n",
       "Likwala-Esobe  500  22.831050\n",
       "Zaire/Kongo     60   2.739726"
      ]
     },
     "execution_count": 25,
     "metadata": {},
     "output_type": "execute_result"
    }
   ],
   "source": [
    "df_1 = pd.read_csv(\"../tbl/1_SitesRiverKilometers.csv\", index_col=0)\n",
    "df_1['kmPCT'] = df_1['KM'] / df_1['KM'].sum() *100\n",
    "df_1"
   ]
  },
  {
   "cell_type": "code",
   "execution_count": 26,
   "metadata": {},
   "outputs": [
    {
     "data": {
      "text/html": [
       "<div>\n",
       "<style scoped>\n",
       "    .dataframe tbody tr th:only-of-type {\n",
       "        vertical-align: middle;\n",
       "    }\n",
       "\n",
       "    .dataframe tbody tr th {\n",
       "        vertical-align: top;\n",
       "    }\n",
       "\n",
       "    .dataframe thead th {\n",
       "        text-align: right;\n",
       "    }\n",
       "</style>\n",
       "<table border=\"1\" class=\"dataframe\">\n",
       "  <thead>\n",
       "    <tr style=\"text-align: right;\">\n",
       "      <th>Art</th>\n",
       "      <th>SUM</th>\n",
       "      <th>FindPCT</th>\n",
       "    </tr>\n",
       "    <tr>\n",
       "      <th>ort_fluss</th>\n",
       "      <th></th>\n",
       "      <th></th>\n",
       "    </tr>\n",
       "  </thead>\n",
       "  <tbody>\n",
       "    <tr>\n",
       "      <th>Likwala-Esobe</th>\n",
       "      <td>221.0884</td>\n",
       "      <td>47.660719</td>\n",
       "    </tr>\n",
       "    <tr>\n",
       "      <th>Lua</th>\n",
       "      <td>12.9880</td>\n",
       "      <td>2.799864</td>\n",
       "    </tr>\n",
       "    <tr>\n",
       "      <th>Ngoko</th>\n",
       "      <td>17.1446</td>\n",
       "      <td>3.695915</td>\n",
       "    </tr>\n",
       "    <tr>\n",
       "      <th>Sangha</th>\n",
       "      <td>116.0508</td>\n",
       "      <td>25.017434</td>\n",
       "    </tr>\n",
       "    <tr>\n",
       "      <th>Ubangi</th>\n",
       "      <td>86.8239</td>\n",
       "      <td>18.716900</td>\n",
       "    </tr>\n",
       "    <tr>\n",
       "      <th>Zaire/Kongo</th>\n",
       "      <td>9.7840</td>\n",
       "      <td>2.109168</td>\n",
       "    </tr>\n",
       "  </tbody>\n",
       "</table>\n",
       "</div>"
      ],
      "text/plain": [
       "Art                 SUM    FindPCT\n",
       "ort_fluss                         \n",
       "Likwala-Esobe  221.0884  47.660719\n",
       "Lua             12.9880   2.799864\n",
       "Ngoko           17.1446   3.695915\n",
       "Sangha         116.0508  25.017434\n",
       "Ubangi          86.8239  18.716900\n",
       "Zaire/Kongo      9.7840   2.109168"
      ]
     },
     "execution_count": 26,
     "metadata": {},
     "output_type": "execute_result"
    }
   ],
   "source": [
    "# df_pivot_RiverFind = df_pivot_RiverFind.apply(pd.to_numeric)\n",
    "# df_pivot_RiverFind = \n",
    "\n",
    "df_pivot_RiverFind['SUM'] = df_pivot_RiverFind.sum(axis = 1)\n",
    "df_pivot_RiverFind['FindPCT'] = df_pivot_RiverFind['SUM'] / df_pivot_RiverFind['SUM'].sum() * 100\n",
    "df_RiverFind = df_pivot_RiverFind[['SUM', 'FindPCT']]\n",
    "df_RiverFind"
   ]
  },
  {
   "cell_type": "code",
   "execution_count": 46,
   "metadata": {},
   "outputs": [
    {
     "name": "stderr",
     "output_type": "stream",
     "text": [
      "C:\\Users\\dirks\\Anaconda3\\lib\\site-packages\\ipykernel_launcher.py:1: FutureWarning: Sorting because non-concatenation axis is not aligned. A future version\n",
      "of pandas will change to not sort by default.\n",
      "\n",
      "To accept the future behavior, pass 'sort=True'.\n",
      "\n",
      "To retain the current behavior and silence the warning, pass sort=False\n",
      "\n",
      "  \"\"\"Entry point for launching an IPython kernel.\n"
     ]
    },
    {
     "data": {
      "text/html": [
       "<div>\n",
       "<style scoped>\n",
       "    .dataframe tbody tr th:only-of-type {\n",
       "        vertical-align: middle;\n",
       "    }\n",
       "\n",
       "    .dataframe tbody tr th {\n",
       "        vertical-align: top;\n",
       "    }\n",
       "\n",
       "    .dataframe thead th {\n",
       "        text-align: right;\n",
       "    }\n",
       "</style>\n",
       "<table border=\"1\" class=\"dataframe\">\n",
       "  <thead>\n",
       "    <tr style=\"text-align: right;\">\n",
       "      <th></th>\n",
       "      <th>KM</th>\n",
       "      <th>kmPCT</th>\n",
       "      <th>SUM</th>\n",
       "      <th>FindPCT</th>\n",
       "    </tr>\n",
       "  </thead>\n",
       "  <tbody>\n",
       "    <tr>\n",
       "      <th>Likwala-\\naux-Herbes</th>\n",
       "      <td>500</td>\n",
       "      <td>22.831050</td>\n",
       "      <td>221.0884</td>\n",
       "      <td>47.660719</td>\n",
       "    </tr>\n",
       "    <tr>\n",
       "      <th>Sangha</th>\n",
       "      <td>600</td>\n",
       "      <td>27.397260</td>\n",
       "      <td>116.0508</td>\n",
       "      <td>25.017434</td>\n",
       "    </tr>\n",
       "    <tr>\n",
       "      <th>Ubangi</th>\n",
       "      <td>850</td>\n",
       "      <td>38.812785</td>\n",
       "      <td>86.8239</td>\n",
       "      <td>18.716900</td>\n",
       "    </tr>\n",
       "    <tr>\n",
       "      <th>Ngoko</th>\n",
       "      <td>80</td>\n",
       "      <td>3.652968</td>\n",
       "      <td>17.1446</td>\n",
       "      <td>3.695915</td>\n",
       "    </tr>\n",
       "    <tr>\n",
       "      <th>Lua</th>\n",
       "      <td>100</td>\n",
       "      <td>4.566210</td>\n",
       "      <td>12.9880</td>\n",
       "      <td>2.799864</td>\n",
       "    </tr>\n",
       "    <tr>\n",
       "      <th>Zaïre\\n(Kongo)</th>\n",
       "      <td>60</td>\n",
       "      <td>2.739726</td>\n",
       "      <td>9.7840</td>\n",
       "      <td>2.109168</td>\n",
       "    </tr>\n",
       "  </tbody>\n",
       "</table>\n",
       "</div>"
      ],
      "text/plain": [
       "                       KM      kmPCT       SUM    FindPCT\n",
       "Likwala-\\naux-Herbes  500  22.831050  221.0884  47.660719\n",
       "Sangha                600  27.397260  116.0508  25.017434\n",
       "Ubangi                850  38.812785   86.8239  18.716900\n",
       "Ngoko                  80   3.652968   17.1446   3.695915\n",
       "Lua                   100   4.566210   12.9880   2.799864\n",
       "Zaïre\\n(Kongo)         60   2.739726    9.7840   2.109168"
      ]
     },
     "execution_count": 46,
     "metadata": {},
     "output_type": "execute_result"
    }
   ],
   "source": [
    "df_con = pd.concat([df_1, df_RiverFind], axis = 1)\n",
    "df_con = df_con.sort_values(by = 'SUM', ascending = False)\n",
    "df_con = df_con.rename(index={'Likwala-Esobe': 'Likwala-\\naux-Herbes'})\n",
    "df_con = df_con.rename(index={'Zaire/Kongo': 'Zaïre\\n(Kongo)'})\n",
    "\n",
    "df_con"
   ]
  },
  {
   "cell_type": "code",
   "execution_count": 47,
   "metadata": {},
   "outputs": [
    {
     "data": {
      "image/png": "[encoded data removed]",
      "text/plain": [
       "<Figure size 432x432 with 2 Axes>"
      ]
     },
     "metadata": {},
     "output_type": "display_data"
    }
   ],
   "source": [
    "#fig = plt.figure() # Create matplotlib figure\n",
    "fig = plt.figure(figsize = (6,6)) # Create matplotlib figure\n",
    "ax = fig.add_subplot(111) # Create matplotlib axes\n",
    "ax2 = ax.twinx() # Create another axes that shares the same x-axis as ax.\n",
    "\n",
    "width = 0.4\n",
    "\n",
    "df_con['SUM'].plot(kind='bar', color='#A9A9A9', edgecolor = \"black\", ax=ax, width=width, position=1)\n",
    "df_con['KM'].plot(kind='bar', color='#404040', edgecolor = \"black\", ax=ax2, width=width, position=0)\n",
    "\n",
    "ax.set_ylabel('Fundaufkommen [kg]', color = '#808080')\n",
    "ax2.set_ylabel('prospektierte Flusstrecke [km]', color = '#404040')\n",
    "\n",
    "for tl in ax.get_yticklabels():\n",
    "    tl.set_color('#808080')\n",
    "\n",
    "for tl in ax2.get_yticklabels():\n",
    "    tl.set_color('#404040')\n",
    "\n",
    "ax.set_xticklabels(df_con.index, rotation=0)\n",
    "plt.xlim([-0.75,len(df_con)-0.25])\n",
    "\n",
    "plt.savefig('../fig/2-2_FundeGewicht_FlussKM.pdf', bbox_inches='tight')\n",
    "plt.show()"
   ]
  },
  {
   "cell_type": "markdown",
   "metadata": {},
   "source": [
    "### Größenklassen nach Flusslauf"
   ]
  },
  {
   "cell_type": "code",
   "execution_count": 40,
   "metadata": {
    "scrolled": true
   },
   "outputs": [
    {
     "name": "stderr",
     "output_type": "stream",
     "text": [
      "C:\\Users\\Dirk\\Anaconda3\\lib\\site-packages\\ipykernel\\__main__.py:17: FutureWarning: convert_objects is deprecated.  Use the data-type specific converters pd.to_datetime, pd.to_timedelta and pd.to_numeric.\n"
     ]
    },
    {
     "data": {
      "text/html": [
       "<div>\n",
       "<table border=\"1\" class=\"dataframe\">\n",
       "  <thead>\n",
       "    <tr style=\"text-align: right;\">\n",
       "      <th></th>\n",
       "      <th>ort_kurz</th>\n",
       "      <th>ort_fluss</th>\n",
       "      <th>objID</th>\n",
       "      <th>Art</th>\n",
       "      <th>Anzahl</th>\n",
       "      <th>Gr_Clist</th>\n",
       "    </tr>\n",
       "  </thead>\n",
       "  <tbody>\n",
       "    <tr>\n",
       "      <th>0</th>\n",
       "      <td>BAT</td>\n",
       "      <td>Ubangi</td>\n",
       "      <td>10</td>\n",
       "      <td>K</td>\n",
       "      <td>1.0</td>\n",
       "      <td>70</td>\n",
       "    </tr>\n",
       "    <tr>\n",
       "      <th>1</th>\n",
       "      <td>BAT</td>\n",
       "      <td>Ubangi</td>\n",
       "      <td>11</td>\n",
       "      <td>K</td>\n",
       "      <td>1.0</td>\n",
       "      <td>70</td>\n",
       "    </tr>\n",
       "    <tr>\n",
       "      <th>2</th>\n",
       "      <td>BAT</td>\n",
       "      <td>Ubangi</td>\n",
       "      <td>12</td>\n",
       "      <td>K</td>\n",
       "      <td>1.0</td>\n",
       "      <td>120</td>\n",
       "    </tr>\n",
       "    <tr>\n",
       "      <th>3</th>\n",
       "      <td>BAT</td>\n",
       "      <td>Ubangi</td>\n",
       "      <td>13</td>\n",
       "      <td>K</td>\n",
       "      <td>1.0</td>\n",
       "      <td>70</td>\n",
       "    </tr>\n",
       "    <tr>\n",
       "      <th>4</th>\n",
       "      <td>BAT</td>\n",
       "      <td>Ubangi</td>\n",
       "      <td>14</td>\n",
       "      <td>K</td>\n",
       "      <td>1.0</td>\n",
       "      <td>120</td>\n",
       "    </tr>\n",
       "  </tbody>\n",
       "</table>\n",
       "</div>"
      ],
      "text/plain": [
       "  ort_kurz ort_fluss  objID Art  Anzahl Gr_Clist\n",
       "0      BAT    Ubangi     10   K     1.0       70\n",
       "1      BAT    Ubangi     11   K     1.0       70\n",
       "2      BAT    Ubangi     12   K     1.0      120\n",
       "3      BAT    Ubangi     13   K     1.0       70\n",
       "4      BAT    Ubangi     14   K     1.0      120"
      ]
     },
     "metadata": {},
     "output_type": "display_data"
    }
   ],
   "source": [
    "sql = \"\"\"SELECT\n",
    "           t_Ort.ort_kurz,\n",
    "           t_Ort.ort_fluss,\n",
    "           t_Obj.objID,\n",
    "           t_Obj.Art,\n",
    "           t_Obj.Anzahl,\n",
    "           t_Obj.Gr_Clist\n",
    "       FROM (t_Ort INNER JOIN t_Komplex ON t_Ort.ortID = t_Komplex.ortID)\n",
    "           INNER JOIN t_Obj ON t_Komplex.komplexID = t_Obj.komplexID\n",
    "       WHERE (((t_Ort.ort_lit)='DS')\n",
    "           AND ((t_Obj.Art) != '')\n",
    "           AND ((t_Obj.Notiz) Not Like '%1987%'))\"\"\".replace('\\n',' ')\n",
    "\n",
    "\n",
    "df = pd.read_sql(sql, con)\n",
    "\n",
    "df['Anzahl'] = df['Anzahl'].convert_objects(convert_numeric=True)\n",
    "\n",
    "display(df.head())"
   ]
  },
  {
   "cell_type": "code",
   "execution_count": 41,
   "metadata": {},
   "outputs": [
    {
     "data": {
      "text/html": [
       "<div>\n",
       "<table border=\"1\" class=\"dataframe\">\n",
       "  <thead>\n",
       "    <tr style=\"text-align: right;\">\n",
       "      <th>Gr_Clist</th>\n",
       "      <th>30</th>\n",
       "      <th>70</th>\n",
       "      <th>120</th>\n",
       "      <th>200</th>\n",
       "      <th>500</th>\n",
       "      <th></th>\n",
       "    </tr>\n",
       "    <tr>\n",
       "      <th>ort_fluss</th>\n",
       "      <th></th>\n",
       "      <th></th>\n",
       "      <th></th>\n",
       "      <th></th>\n",
       "      <th></th>\n",
       "      <th></th>\n",
       "    </tr>\n",
       "  </thead>\n",
       "  <tbody>\n",
       "    <tr>\n",
       "      <th>Likwala-Esobe</th>\n",
       "      <td>942.0</td>\n",
       "      <td>1331.0</td>\n",
       "      <td>398.0</td>\n",
       "      <td>132.0</td>\n",
       "      <td>41.0</td>\n",
       "      <td>735.0</td>\n",
       "    </tr>\n",
       "    <tr>\n",
       "      <th>Lua</th>\n",
       "      <td>58.0</td>\n",
       "      <td>156.0</td>\n",
       "      <td>37.0</td>\n",
       "      <td>3.0</td>\n",
       "      <td>0.0</td>\n",
       "      <td>271.0</td>\n",
       "    </tr>\n",
       "    <tr>\n",
       "      <th>Ngoko</th>\n",
       "      <td>13.0</td>\n",
       "      <td>174.0</td>\n",
       "      <td>59.0</td>\n",
       "      <td>8.0</td>\n",
       "      <td>0.0</td>\n",
       "      <td>171.0</td>\n",
       "    </tr>\n",
       "    <tr>\n",
       "      <th>Sangha</th>\n",
       "      <td>1268.0</td>\n",
       "      <td>1396.0</td>\n",
       "      <td>219.0</td>\n",
       "      <td>35.0</td>\n",
       "      <td>13.0</td>\n",
       "      <td>1104.0</td>\n",
       "    </tr>\n",
       "    <tr>\n",
       "      <th>Ubangi</th>\n",
       "      <td>44.0</td>\n",
       "      <td>678.0</td>\n",
       "      <td>212.0</td>\n",
       "      <td>46.0</td>\n",
       "      <td>9.0</td>\n",
       "      <td>657.0</td>\n",
       "    </tr>\n",
       "    <tr>\n",
       "      <th>Zaire/Kongo</th>\n",
       "      <td>7.0</td>\n",
       "      <td>69.0</td>\n",
       "      <td>25.0</td>\n",
       "      <td>5.0</td>\n",
       "      <td>0.0</td>\n",
       "      <td>201.0</td>\n",
       "    </tr>\n",
       "  </tbody>\n",
       "</table>\n",
       "</div>"
      ],
      "text/plain": [
       "Gr_Clist           30      70    120    200   500        \n",
       "ort_fluss                                                \n",
       "Likwala-Esobe   942.0  1331.0  398.0  132.0  41.0   735.0\n",
       "Lua              58.0   156.0   37.0    3.0   0.0   271.0\n",
       "Ngoko            13.0   174.0   59.0    8.0   0.0   171.0\n",
       "Sangha         1268.0  1396.0  219.0   35.0  13.0  1104.0\n",
       "Ubangi           44.0   678.0  212.0   46.0   9.0   657.0\n",
       "Zaire/Kongo       7.0    69.0   25.0    5.0   0.0   201.0"
      ]
     },
     "execution_count": 41,
     "metadata": {},
     "output_type": "execute_result"
    }
   ],
   "source": [
    "df_pivot = df.pivot_table(values = 'Anzahl', index = 'ort_fluss', columns = 'Gr_Clist', aggfunc = np.sum)\n",
    "df_pivot = pd.DataFrame(df_pivot)\n",
    "df_pivot = df_pivot.fillna(0)\n",
    "df_pivot.to_latex('../output/tabs/2-2_Funde_Fragmentierung.tex')\n",
    "df_pivot"
   ]
  },
  {
   "cell_type": "markdown",
   "metadata": {},
   "source": [
    "> das Gr_Clist wirft in LateX eine Fehlermeldung aus, daher:"
   ]
  },
  {
   "cell_type": "code",
   "execution_count": 42,
   "metadata": {},
   "outputs": [],
   "source": [
    "df.pivot_table(values = 'Anzahl', index = 'ort_fluss', columns = 'Gr_Clist', aggfunc = np.sum).reset_index().to_latex('../output/tabs/2-2_Funde_Fragmentierung_B.tex', index = False)"
   ]
  },
  {
   "cell_type": "markdown",
   "metadata": {},
   "source": [
    "> **Funde** Fragmentierung bezogen auf die Fundregion/den Flusslauf"
   ]
  },
  {
   "cell_type": "markdown",
   "metadata": {},
   "source": [
    "Es wird ersichtlich, das die meisten großen Gef.-Fragmente und ganzen Gefäße vom Likwala stammen; daher ist dieser Flusslauf bezogen auf das Gewicht auch so stark vertreten"
   ]
  },
  {
   "cell_type": "markdown",
   "metadata": {},
   "source": [
    "### Herkunft der Funde – aus Befund *vs.* Oberflächenabsammlung"
   ]
  },
  {
   "cell_type": "markdown",
   "metadata": {},
   "source": [
    "> ToDo: Abfragen ändern; siehe 2.1 Befunde"
   ]
  },
  {
   "cell_type": "code",
   "execution_count": 43,
   "metadata": {},
   "outputs": [
    {
     "name": "stderr",
     "output_type": "stream",
     "text": [
      "C:\\Users\\Dirk\\Anaconda3\\lib\\site-packages\\ipykernel\\__main__.py:15: FutureWarning: convert_objects is deprecated.  Use the data-type specific converters pd.to_datetime, pd.to_timedelta and pd.to_numeric.\n",
      "C:\\Users\\Dirk\\Anaconda3\\lib\\site-packages\\ipykernel\\__main__.py:16: FutureWarning: convert_objects is deprecated.  Use the data-type specific converters pd.to_datetime, pd.to_timedelta and pd.to_numeric.\n",
      "C:\\Users\\Dirk\\Anaconda3\\lib\\site-packages\\ipykernel\\__main__.py:33: FutureWarning: convert_objects is deprecated.  Use the data-type specific converters pd.to_datetime, pd.to_timedelta and pd.to_numeric.\n",
      "C:\\Users\\Dirk\\Anaconda3\\lib\\site-packages\\ipykernel\\__main__.py:34: FutureWarning: convert_objects is deprecated.  Use the data-type specific converters pd.to_datetime, pd.to_timedelta and pd.to_numeric.\n"
     ]
    }
   ],
   "source": [
    "sql = \"\"\"SELECT\n",
    "           t_Obj.objID, \n",
    "           t_Obj.Anzahl,\n",
    "           t_Obj.Gewicht        \n",
    "       FROM (t_Ort INNER JOIN t_Komplex ON t_Ort.ortID = t_Komplex.ortID)\n",
    "           INNER JOIN t_Obj ON t_Komplex.komplexID = t_Obj.komplexID\n",
    "       WHERE (((t_Ort.ort_lit)='DS')\n",
    "           AND ((t_Komplex.bef_nr) Not Like '%0%')\n",
    "           AND ((t_Ort.ort_kurz) Not Like '%SGH%')\n",
    "           AND ((t_Ort.ort_kurz) Not Like '%UBA%')\n",
    "           AND ((t_Obj.Notiz) Not Like '%1987%'))\"\"\".replace('\\n',' ')\n",
    "\n",
    "# Liste der Funde aus Befunden\n",
    "df1 = pd.read_sql(sql, con)\n",
    "df1['Anzahl'] = df1['Anzahl'].convert_objects(convert_numeric=True)\n",
    "df1['Gewicht'] = df1['Gewicht'].convert_objects(convert_numeric=True)\n",
    "\n",
    "\n",
    "sql = \"\"\"SELECT\n",
    "           t_Obj.objID, \n",
    "           t_Obj.Anzahl,\n",
    "           t_Obj.Gewicht        \n",
    "       FROM (t_Ort INNER JOIN t_Komplex ON t_Ort.ortID = t_Komplex.ortID)\n",
    "           INNER JOIN t_Obj ON t_Komplex.komplexID = t_Obj.komplexID\n",
    "       WHERE (((t_Ort.ort_lit)='DS')\n",
    "           AND ((t_Komplex.bef_nr) like '%0%')\n",
    "           OR ((t_Ort.ort_kurz) Like '%SGH%')\n",
    "           OR ((t_Ort.ort_kurz) Like '%UBA%')\n",
    "           AND ((t_Obj.Notiz) Not Like '%1987%'))\"\"\".replace('\\n',' ')\n",
    "\n",
    "# Liste der Funde aus Oberflächenabsammlungen\n",
    "df2 = pd.read_sql(sql, con)\n",
    "df2['Anzahl'] = df2['Anzahl'].convert_objects(convert_numeric=True)\n",
    "df2['Gewicht'] = df2['Gewicht'].convert_objects(convert_numeric=True)"
   ]
  },
  {
   "cell_type": "code",
   "execution_count": 44,
   "metadata": {},
   "outputs": [
    {
     "data": {
      "text/plain": [
       "Grabung                     142977.0\n",
       "Oberflächen-\\nabsammlung    326633.7\n",
       "dtype: float64"
      ]
     },
     "execution_count": 44,
     "metadata": {},
     "output_type": "execute_result"
    }
   ],
   "source": [
    "# bezogen aufs Gewicht\n",
    "a = pd.Series({'Grabung':np.sum(df1['Gewicht']),'Oberflächen-\\nabsammlung':np.sum(df2['Gewicht'])})\n",
    "a"
   ]
  },
  {
   "cell_type": "code",
   "execution_count": 45,
   "metadata": {},
   "outputs": [
    {
     "data": {
      "text/plain": [
       "Grabung                     4711.0\n",
       "Oberflächen-\\nabsammlung    5839.0\n",
       "dtype: float64"
      ]
     },
     "execution_count": 45,
     "metadata": {},
     "output_type": "execute_result"
    }
   ],
   "source": [
    "# bezogen auf die Anzahl\n",
    "b = pd.Series({'Grabung':np.sum(df1['Anzahl']),'Oberflächen-\\nabsammlung':np.sum(df2['Anzahl'])})\n",
    "b"
   ]
  },
  {
   "cell_type": "code",
   "execution_count": 46,
   "metadata": {},
   "outputs": [
    {
     "data": {
      "image/png": "[encoded data removed]",
      "text/plain": [
       "<matplotlib.figure.Figure at 0x270f1ac97b8>"
      ]
     },
     "metadata": {},
     "output_type": "display_data"
    }
   ],
   "source": [
    "fig = plt.figure(1)\n",
    "fig.set_size_inches(12, 5.5)\n",
    "\n",
    "plt.subplot(121)\n",
    "a.plot(kind='pie', autopct='%.0f %%', colors = ('dimgrey', 'lightgrey'))\n",
    "plt.ylabel('')\n",
    "plt.title('Summe Gewicht')\n",
    "\n",
    "plt.subplot(122)\n",
    "b.plot(kind='pie', autopct='%.0f %%', colors = ('dimgrey', 'lightgrey'))\n",
    "plt.ylabel('')\n",
    "plt.title('Summe Anzahl')\n",
    "\n",
    "plt.savefig('../output/figs/2-2_Funde_Grabung.pdf', bbox_inches='tight')\n",
    "plt.show()"
   ]
  },
  {
   "cell_type": "markdown",
   "metadata": {},
   "source": [
    "> **Funde** Herkunft der Funde im Arbeitsgebiet"
   ]
  },
  {
   "cell_type": "code",
   "execution_count": 47,
   "metadata": {},
   "outputs": [
    {
     "data": {
      "image/png": "[encoded data removed]",
      "text/plain": [
       "<matplotlib.figure.Figure at 0x270f1ff6550>"
      ]
     },
     "metadata": {},
     "output_type": "display_data"
    }
   ],
   "source": [
    "a.plot(kind='pie', autopct='%.0f %%', colors = ('dimgrey', 'lightgrey'), figsize = (6,6))\n",
    "plt.ylabel('')\n",
    "plt.savefig('../output/figs/2-2_Funde_Grabung2.pdf', bbox_inches='tight')\n",
    "plt.show()"
   ]
  },
  {
   "cell_type": "markdown",
   "metadata": {
    "collapsed": true
   },
   "source": [
    "## nicht-keramische Funde"
   ]
  },
  {
   "cell_type": "code",
   "execution_count": 48,
   "metadata": {},
   "outputs": [],
   "source": [
    "sql = \"\"\"SELECT\n",
    "           t_Ort.ort_kurz,\n",
    "           t_Ort.ort_name,\n",
    "           t_Ort.ort_fluss,\n",
    "           t_Ort.ort_lit,\n",
    "           t_Obj.objID,\n",
    "           t_Obj.Art,\n",
    "           t_Obj.Anzahl,\n",
    "           t_Obj.Gewicht\n",
    "       FROM (t_Ort INNER JOIN t_Komplex ON t_Ort.ortID = t_Komplex.ortID)\n",
    "           INNER JOIN t_Obj ON t_Komplex.komplexID = t_Obj.komplexID\n",
    "       WHERE (((t_Ort.ort_lit) = 'DS')\n",
    "           AND ((t_Obj.Art) != 'K')\n",
    "           AND ((t_Obj.Art) != 'Sonder')\n",
    "           AND ((t_Obj.Notiz) Not Like '%1987%'))\"\"\".replace('\\n',' ')\n",
    "\n",
    "df = pd.read_sql(sql, con)\n",
    "df['Anzahl'] = pd.to_numeric(df['Anzahl'])\n",
    "df['Gewicht'] = pd.to_numeric(df['Gewicht'])\n",
    "df['Gewicht kg'] = df['Gewicht'] / 1000"
   ]
  },
  {
   "cell_type": "code",
   "execution_count": 49,
   "metadata": {
    "scrolled": false
   },
   "outputs": [
    {
     "data": {
      "text/html": [
       "<div>\n",
       "<table border=\"1\" class=\"dataframe\">\n",
       "  <thead>\n",
       "    <tr style=\"text-align: right;\">\n",
       "      <th></th>\n",
       "      <th>ort_kurz</th>\n",
       "      <th>ort_name</th>\n",
       "      <th>ort_fluss</th>\n",
       "      <th>ort_lit</th>\n",
       "      <th>objID</th>\n",
       "      <th>Art</th>\n",
       "      <th>Anzahl</th>\n",
       "      <th>Gewicht</th>\n",
       "      <th>Gewicht kg</th>\n",
       "      <th>TAF</th>\n",
       "      <th>OBJ</th>\n",
       "    </tr>\n",
       "  </thead>\n",
       "  <tbody>\n",
       "    <tr>\n",
       "      <th>0</th>\n",
       "      <td>GBA</td>\n",
       "      <td>Gbandami</td>\n",
       "      <td>Ubangi</td>\n",
       "      <td>DS</td>\n",
       "      <td>118</td>\n",
       "      <td>Metall</td>\n",
       "      <td>1.0</td>\n",
       "      <td>33.0</td>\n",
       "      <td>0.033</td>\n",
       "      <td>23</td>\n",
       "      <td>9</td>\n",
       "    </tr>\n",
       "    <tr>\n",
       "      <th>7</th>\n",
       "      <td>PIK</td>\n",
       "      <td>Pikunda</td>\n",
       "      <td>Sangha</td>\n",
       "      <td>DS</td>\n",
       "      <td>2702</td>\n",
       "      <td>Eisen</td>\n",
       "      <td>1.0</td>\n",
       "      <td>10.0</td>\n",
       "      <td>0.010</td>\n",
       "      <td>47</td>\n",
       "      <td>18</td>\n",
       "    </tr>\n",
       "    <tr>\n",
       "      <th>9</th>\n",
       "      <td>YUM</td>\n",
       "      <td>Yumba</td>\n",
       "      <td>Likwala-Esobe</td>\n",
       "      <td>DS</td>\n",
       "      <td>6321</td>\n",
       "      <td>Eisen</td>\n",
       "      <td>1.0</td>\n",
       "      <td>24.0</td>\n",
       "      <td>0.024</td>\n",
       "      <td>75</td>\n",
       "      <td>8</td>\n",
       "    </tr>\n",
       "    <tr>\n",
       "      <th>8</th>\n",
       "      <td>MUN</td>\n",
       "      <td>Munda</td>\n",
       "      <td>Likwala-Esobe</td>\n",
       "      <td>DS</td>\n",
       "      <td>3259</td>\n",
       "      <td>Schlacke</td>\n",
       "      <td>4.0</td>\n",
       "      <td>4.0</td>\n",
       "      <td>0.004</td>\n",
       "      <td>91</td>\n",
       "      <td>1</td>\n",
       "    </tr>\n",
       "    <tr>\n",
       "      <th>1</th>\n",
       "      <td>OUE</td>\n",
       "      <td>Ouesso</td>\n",
       "      <td>Sangha</td>\n",
       "      <td>DS</td>\n",
       "      <td>2118</td>\n",
       "      <td>Stein</td>\n",
       "      <td>1.0</td>\n",
       "      <td>1014.0</td>\n",
       "      <td>1.014</td>\n",
       "      <td>98</td>\n",
       "      <td>1</td>\n",
       "    </tr>\n",
       "    <tr>\n",
       "      <th>2</th>\n",
       "      <td>OUE</td>\n",
       "      <td>Ouesso</td>\n",
       "      <td>Sangha</td>\n",
       "      <td>DS</td>\n",
       "      <td>2119</td>\n",
       "      <td>Stein</td>\n",
       "      <td>5.0</td>\n",
       "      <td>605.0</td>\n",
       "      <td>0.605</td>\n",
       "      <td>98</td>\n",
       "      <td>2</td>\n",
       "    </tr>\n",
       "    <tr>\n",
       "      <th>3</th>\n",
       "      <td>OUE</td>\n",
       "      <td>Ouesso</td>\n",
       "      <td>Sangha</td>\n",
       "      <td>DS</td>\n",
       "      <td>2119</td>\n",
       "      <td>Stein</td>\n",
       "      <td>5.0</td>\n",
       "      <td>605.0</td>\n",
       "      <td>0.605</td>\n",
       "      <td>98</td>\n",
       "      <td>3</td>\n",
       "    </tr>\n",
       "    <tr>\n",
       "      <th>4</th>\n",
       "      <td>OUE</td>\n",
       "      <td>Ouesso</td>\n",
       "      <td>Sangha</td>\n",
       "      <td>DS</td>\n",
       "      <td>2119</td>\n",
       "      <td>Stein</td>\n",
       "      <td>5.0</td>\n",
       "      <td>605.0</td>\n",
       "      <td>0.605</td>\n",
       "      <td>98</td>\n",
       "      <td>4</td>\n",
       "    </tr>\n",
       "    <tr>\n",
       "      <th>5</th>\n",
       "      <td>OUE</td>\n",
       "      <td>Ouesso</td>\n",
       "      <td>Sangha</td>\n",
       "      <td>DS</td>\n",
       "      <td>2119</td>\n",
       "      <td>Stein</td>\n",
       "      <td>5.0</td>\n",
       "      <td>605.0</td>\n",
       "      <td>0.605</td>\n",
       "      <td>98</td>\n",
       "      <td>5</td>\n",
       "    </tr>\n",
       "    <tr>\n",
       "      <th>6</th>\n",
       "      <td>OUE</td>\n",
       "      <td>Ouesso</td>\n",
       "      <td>Sangha</td>\n",
       "      <td>DS</td>\n",
       "      <td>2119</td>\n",
       "      <td>Stein</td>\n",
       "      <td>5.0</td>\n",
       "      <td>605.0</td>\n",
       "      <td>0.605</td>\n",
       "      <td>98</td>\n",
       "      <td>6</td>\n",
       "    </tr>\n",
       "  </tbody>\n",
       "</table>\n",
       "</div>"
      ],
      "text/plain": [
       "  ort_kurz  ort_name      ort_fluss ort_lit  objID       Art  Anzahl  Gewicht  \\\n",
       "0      GBA  Gbandami         Ubangi      DS    118    Metall     1.0     33.0   \n",
       "7      PIK   Pikunda         Sangha      DS   2702     Eisen     1.0     10.0   \n",
       "9      YUM     Yumba  Likwala-Esobe      DS   6321     Eisen     1.0     24.0   \n",
       "8      MUN     Munda  Likwala-Esobe      DS   3259  Schlacke     4.0      4.0   \n",
       "1      OUE    Ouesso         Sangha      DS   2118     Stein     1.0   1014.0   \n",
       "2      OUE    Ouesso         Sangha      DS   2119     Stein     5.0    605.0   \n",
       "3      OUE    Ouesso         Sangha      DS   2119     Stein     5.0    605.0   \n",
       "4      OUE    Ouesso         Sangha      DS   2119     Stein     5.0    605.0   \n",
       "5      OUE    Ouesso         Sangha      DS   2119     Stein     5.0    605.0   \n",
       "6      OUE    Ouesso         Sangha      DS   2119     Stein     5.0    605.0   \n",
       "\n",
       "   Gewicht kg  TAF  OBJ  \n",
       "0       0.033   23    9  \n",
       "7       0.010   47   18  \n",
       "9       0.024   75    8  \n",
       "8       0.004   91    1  \n",
       "1       1.014   98    1  \n",
       "2       0.605   98    2  \n",
       "3       0.605   98    3  \n",
       "4       0.605   98    4  \n",
       "5       0.605   98    5  \n",
       "6       0.605   98    6  "
      ]
     },
     "execution_count": 49,
     "metadata": {},
     "output_type": "execute_result"
    }
   ],
   "source": [
    "df_table = pd.read_csv('../data/processed/10_TafNr-objID_Liste.csv')\n",
    "df_table_sub = df_table[['objID','TAF','OBJ']]\n",
    "\n",
    "df_merge = pd.merge(df, df_table_sub, on = 'objID', how='inner')\n",
    "df_merge.sort_values(by = ['TAF', 'OBJ'])"
   ]
  },
  {
   "cell_type": "code",
   "execution_count": 50,
   "metadata": {},
   "outputs": [
    {
     "data": {
      "text/html": [
       "<div>\n",
       "<table border=\"1\" class=\"dataframe\">\n",
       "  <thead>\n",
       "    <tr style=\"text-align: right;\">\n",
       "      <th></th>\n",
       "      <th>Fundkategorie</th>\n",
       "      <th>Anzahl</th>\n",
       "      <th>\\%</th>\n",
       "      <th>Gewicht (kg)</th>\n",
       "      <th>\\%</th>\n",
       "    </tr>\n",
       "  </thead>\n",
       "  <tbody>\n",
       "    <tr>\n",
       "      <th>8</th>\n",
       "      <td>Schlacke</td>\n",
       "      <td>1321</td>\n",
       "      <td>68.3</td>\n",
       "      <td>39.73</td>\n",
       "      <td>44.5</td>\n",
       "    </tr>\n",
       "    <tr>\n",
       "      <th>3</th>\n",
       "      <td>gebrannter Lehm</td>\n",
       "      <td>187</td>\n",
       "      <td>9.7</td>\n",
       "      <td>6.25</td>\n",
       "      <td>7.0</td>\n",
       "    </tr>\n",
       "    <tr>\n",
       "      <th>7</th>\n",
       "      <td>Ofenwand</td>\n",
       "      <td>182</td>\n",
       "      <td>9.4</td>\n",
       "      <td>19.88</td>\n",
       "      <td>22.2</td>\n",
       "    </tr>\n",
       "    <tr>\n",
       "      <th>11</th>\n",
       "      <td>Tuyere</td>\n",
       "      <td>94</td>\n",
       "      <td>4.9</td>\n",
       "      <td>6.81</td>\n",
       "      <td>7.6</td>\n",
       "    </tr>\n",
       "    <tr>\n",
       "      <th>10</th>\n",
       "      <td>Stein</td>\n",
       "      <td>76</td>\n",
       "      <td>3.9</td>\n",
       "      <td>7.23</td>\n",
       "      <td>8.1</td>\n",
       "    </tr>\n",
       "    <tr>\n",
       "      <th>4</th>\n",
       "      <td>Knochen</td>\n",
       "      <td>29</td>\n",
       "      <td>1.5</td>\n",
       "      <td>5.93</td>\n",
       "      <td>6.6</td>\n",
       "    </tr>\n",
       "    <tr>\n",
       "      <th>1</th>\n",
       "      <td>Eisen</td>\n",
       "      <td>13</td>\n",
       "      <td>0.7</td>\n",
       "      <td>0.53</td>\n",
       "      <td>0.6</td>\n",
       "    </tr>\n",
       "    <tr>\n",
       "      <th>5</th>\n",
       "      <td>Laterit</td>\n",
       "      <td>11</td>\n",
       "      <td>0.6</td>\n",
       "      <td>0.08</td>\n",
       "      <td>0.1</td>\n",
       "    </tr>\n",
       "    <tr>\n",
       "      <th>9</th>\n",
       "      <td>Sonst</td>\n",
       "      <td>7</td>\n",
       "      <td>0.4</td>\n",
       "      <td>2.52</td>\n",
       "      <td>2.8</td>\n",
       "    </tr>\n",
       "    <tr>\n",
       "      <th>2</th>\n",
       "      <td>Glas</td>\n",
       "      <td>6</td>\n",
       "      <td>0.3</td>\n",
       "      <td>0.01</td>\n",
       "      <td>0.0</td>\n",
       "    </tr>\n",
       "    <tr>\n",
       "      <th>6</th>\n",
       "      <td>Metall</td>\n",
       "      <td>5</td>\n",
       "      <td>0.3</td>\n",
       "      <td>0.38</td>\n",
       "      <td>0.4</td>\n",
       "    </tr>\n",
       "    <tr>\n",
       "      <th>0</th>\n",
       "      <td>Botanik</td>\n",
       "      <td>2</td>\n",
       "      <td>0.1</td>\n",
       "      <td>0.00</td>\n",
       "      <td>0.0</td>\n",
       "    </tr>\n",
       "    <tr>\n",
       "      <th>Total</th>\n",
       "      <td>SUM</td>\n",
       "      <td>1933</td>\n",
       "      <td>100.1</td>\n",
       "      <td>89.35</td>\n",
       "      <td>99.9</td>\n",
       "    </tr>\n",
       "  </tbody>\n",
       "</table>\n",
       "</div>"
      ],
      "text/plain": [
       "         Fundkategorie  Anzahl     \\%  Gewicht (kg)    \\%\n",
       "8             Schlacke    1321   68.3         39.73  44.5\n",
       "3      gebrannter Lehm     187    9.7          6.25   7.0\n",
       "7             Ofenwand     182    9.4         19.88  22.2\n",
       "11              Tuyere      94    4.9          6.81   7.6\n",
       "10               Stein      76    3.9          7.23   8.1\n",
       "4              Knochen      29    1.5          5.93   6.6\n",
       "1                Eisen      13    0.7          0.53   0.6\n",
       "5              Laterit      11    0.6          0.08   0.1\n",
       "9                Sonst       7    0.4          2.52   2.8\n",
       "2                 Glas       6    0.3          0.01   0.0\n",
       "6               Metall       5    0.3          0.38   0.4\n",
       "0              Botanik       2    0.1          0.00   0.0\n",
       "Total              SUM    1933  100.1         89.35  99.9"
      ]
     },
     "execution_count": 50,
     "metadata": {},
     "output_type": "execute_result"
    }
   ],
   "source": [
    "df_pivot1 = df.pivot_table(values = 'Gewicht', index = 'Art', aggfunc = sum, fill_value = 0)\n",
    "df_pivot1 = pd.DataFrame(df_pivot1)\n",
    "# df_pivot1 = df_pivot1.reset_index()\n",
    "df_pivot1.rename(index={'HL': 'gebrannter Lehm', 'K': 'Keramik'}, inplace=True)\n",
    "df_pivot1['\\%'] = (df_pivot1['Gewicht']/df_pivot1['Gewicht'].sum()*100).round(1)\n",
    "df_pivot1['Gewicht'] = (df_pivot1['Gewicht'] / 1000).round(2)\n",
    "df_pivot1.rename(columns={'Gewicht': 'Gewicht (kg)'}, inplace=True)\n",
    "\n",
    "df_pivot2 = df.pivot_table(values = 'Anzahl', index = 'Art', aggfunc = sum, fill_value = 0)\n",
    "df_pivot2 = pd.DataFrame(df_pivot2)\n",
    "df_pivot2.rename(index={'HL': 'gebrannter Lehm', 'K': 'Keramik'}, inplace=True)\n",
    "df_pivot2['\\%'] = (df_pivot2['Anzahl']/df_pivot2['Anzahl'].sum()*100).round(1)\n",
    "\n",
    "# Tabellen vereinen:\n",
    "df_concat = pd.concat([df_pivot2, df_pivot1], axis = 1)\n",
    "df_concat = df_concat.reset_index()\n",
    "df_concat.rename(columns={'Art': 'Fundkategorie'}, inplace=True)\n",
    "df_concat = df_concat.sort_values('Anzahl', ascending=False)\n",
    "\n",
    "# Summen-Zeile\n",
    "df_concat.loc['Total']= df_concat.sum()\n",
    "df_concat.loc['Total', 'Fundkategorie'] = 'SUM'\n",
    "\n",
    "#df_concat.to_latex('../output/tabs/2-2_Funde.tex', index = False, escape = False)\n",
    "df_concat"
   ]
  },
  {
   "cell_type": "markdown",
   "metadata": {},
   "source": [
    "Gewicht (kg) von Funden, die mit Metallurgie in Zusammenhang stehen:"
   ]
  },
  {
   "cell_type": "code",
   "execution_count": 51,
   "metadata": {},
   "outputs": [
    {
     "data": {
      "text/plain": [
       "72.67"
      ]
     },
     "execution_count": 51,
     "metadata": {},
     "output_type": "execute_result"
    }
   ],
   "source": [
    "a = df_concat['Gewicht (kg)'].loc[df_concat['Fundkategorie'].isin(['Schlacke', 'gebrannter Lehm', 'Ofenwand', 'Tuyere'])].sum()\n",
    "a"
   ]
  },
  {
   "cell_type": "markdown",
   "metadata": {},
   "source": [
    "Anteil:"
   ]
  },
  {
   "cell_type": "code",
   "execution_count": 52,
   "metadata": {},
   "outputs": [],
   "source": [
    "# Summe der Spalte abzüglich der in pivot hinzugefügten Summenzeile:\n",
    "b = (df_concat['Gewicht (kg)'].sum() - df_concat['Gewicht (kg)'].loc[df_concat['Fundkategorie'] == 'SUM'])"
   ]
  },
  {
   "cell_type": "code",
   "execution_count": 53,
   "metadata": {},
   "outputs": [
    {
     "data": {
      "text/plain": [
       "Total    81.331841\n",
       "Name: Gewicht (kg), dtype: float64"
      ]
     },
     "execution_count": 53,
     "metadata": {},
     "output_type": "execute_result"
    }
   ],
   "source": [
    "a / b * 100"
   ]
  },
  {
   "cell_type": "markdown",
   "metadata": {},
   "source": [
    "## Ofenwand"
   ]
  },
  {
   "cell_type": "code",
   "execution_count": 54,
   "metadata": {},
   "outputs": [],
   "source": [
    "sql = \"\"\"SELECT\n",
    "           t_Ort.ort_kurz,\n",
    "           t_Ort.ort_name,\n",
    "           t_komplex.bef_nr,\n",
    "           t_Ort.ort_lit,\n",
    "           t_Obj.objID,\n",
    "           t_Obj.Art,\n",
    "           t_Obj.Anzahl,\n",
    "           t_Obj.Gewicht\n",
    "       FROM (t_Ort INNER JOIN t_Komplex ON t_Ort.ortID = t_Komplex.ortID)\n",
    "           INNER JOIN t_Obj ON t_Komplex.komplexID = t_Obj.komplexID\n",
    "       WHERE (((t_Ort.ort_lit) = 'DS')\n",
    "           AND ((t_Obj.Notiz) Not Like '%1987%')\n",
    "           AND ((t_Obj.Art) = 'Ofenwand')\n",
    "           OR ((t_Obj.Art) = 'HL'))\"\"\".replace('\\n',' ')\n",
    "\n",
    "df = pd.read_sql(sql, con)\n",
    "df['Anzahl'] = pd.to_numeric(df['Anzahl'])\n",
    "df['Gewicht'] = pd.to_numeric(df['Gewicht'])\n",
    "df['Gewicht kg'] = df['Gewicht'] / 1000"
   ]
  },
  {
   "cell_type": "code",
   "execution_count": 55,
   "metadata": {},
   "outputs": [
    {
     "data": {
      "text/plain": [
       "Art\n",
       "HL           6.250\n",
       "Ofenwand    19.875\n",
       "Name: Gewicht kg, dtype: float64"
      ]
     },
     "execution_count": 55,
     "metadata": {},
     "output_type": "execute_result"
    }
   ],
   "source": [
    "df.pivot_table(values = 'Gewicht kg', index = 'Art', aggfunc = sum, fill_value = 0)"
   ]
  },
  {
   "cell_type": "code",
   "execution_count": 56,
   "metadata": {
    "scrolled": false
   },
   "outputs": [
    {
     "data": {
      "text/plain": [
       "ort_name\n",
       "Bobusa           0.243\n",
       "Dama 1           0.000\n",
       "Maluba           0.495\n",
       "Mbati-Ngombe     0.000\n",
       "Munda           23.861\n",
       "Ngama            0.095\n",
       "Pikunda          1.431\n",
       "Name: Gewicht kg, dtype: float64"
      ]
     },
     "execution_count": 56,
     "metadata": {},
     "output_type": "execute_result"
    }
   ],
   "source": [
    "df.pivot_table(values = 'Gewicht kg', index = 'ort_name', aggfunc = sum, fill_value = 0)"
   ]
  },
  {
   "cell_type": "code",
   "execution_count": 57,
   "metadata": {},
   "outputs": [
    {
     "data": {
      "text/plain": [
       "bef_nr\n",
       "87/1         1.554\n",
       "87/2-1-1    20.286\n",
       "87/2-1-3     2.021\n",
       "87/3         0.000\n",
       "Name: Gewicht kg, dtype: float64"
      ]
     },
     "execution_count": 57,
     "metadata": {},
     "output_type": "execute_result"
    }
   ],
   "source": [
    "df.loc[df['ort_name'] == 'Munda'].pivot_table(values = 'Gewicht kg', index = 'bef_nr', aggfunc = sum, fill_value = 0)"
   ]
  },
  {
   "cell_type": "markdown",
   "metadata": {},
   "source": [
    "## Tuyère"
   ]
  },
  {
   "cell_type": "code",
   "execution_count": 58,
   "metadata": {
    "collapsed": true
   },
   "outputs": [],
   "source": [
    "sql = \"\"\"SELECT\n",
    "           t_Ort.ort_kurz,\n",
    "           t_Ort.ort_name,\n",
    "           t_komplex.bef_nr,\n",
    "           t_Ort.ort_lit,\n",
    "           t_Obj.objID,\n",
    "           t_Obj.Art,\n",
    "           t_Obj.Anzahl,\n",
    "           t_Obj.Gewicht\n",
    "       FROM (t_Ort INNER JOIN t_Komplex ON t_Ort.ortID = t_Komplex.ortID)\n",
    "           INNER JOIN t_Obj ON t_Komplex.komplexID = t_Obj.komplexID\n",
    "       WHERE (((t_Ort.ort_lit) = 'DS')\n",
    "           AND ((t_Obj.Notiz) Not Like '%1987%')\n",
    "           AND ((t_Obj.Art) = 'Tuyere'))\"\"\".replace('\\n',' ')\n",
    "\n",
    "df = pd.read_sql(sql, con)\n",
    "df['Anzahl'] = pd.to_numeric(df['Anzahl'])\n",
    "df['Gewicht'] = pd.to_numeric(df['Gewicht'])\n",
    "df['Gewicht kg'] = df['Gewicht'] / 1000"
   ]
  },
  {
   "cell_type": "code",
   "execution_count": 59,
   "metadata": {},
   "outputs": [
    {
     "data": {
      "text/plain": [
       "ort_name\n",
       "Bonga         1\n",
       "Maoko         3\n",
       "Munda        61\n",
       "Ngama         8\n",
       "Ngbanja       2\n",
       "Ngwangala     2\n",
       "Ouesso        5\n",
       "Pandama       8\n",
       "Pikunda       2\n",
       "Ponga         1\n",
       "Yengo         1\n",
       "Name: Anzahl, dtype: int64"
      ]
     },
     "execution_count": 59,
     "metadata": {},
     "output_type": "execute_result"
    }
   ],
   "source": [
    "df.pivot_table(values = 'Anzahl', index = 'ort_name', aggfunc = sum, fill_value = 0)"
   ]
  },
  {
   "cell_type": "code",
   "execution_count": 60,
   "metadata": {},
   "outputs": [
    {
     "data": {
      "text/plain": [
       "bef_nr\n",
       "87/1         7\n",
       "87/101       2\n",
       "87/2-1-1    14\n",
       "87/3        38\n",
       "Name: Anzahl, dtype: int64"
      ]
     },
     "execution_count": 60,
     "metadata": {},
     "output_type": "execute_result"
    }
   ],
   "source": [
    "df.loc[df['ort_name'] == 'Munda'].pivot_table(values = 'Anzahl', index = 'bef_nr', aggfunc = sum, fill_value = 0)"
   ]
  },
  {
   "cell_type": "markdown",
   "metadata": {},
   "source": [
    "## Stein"
   ]
  },
  {
   "cell_type": "code",
   "execution_count": 61,
   "metadata": {
    "collapsed": true
   },
   "outputs": [],
   "source": [
    "sql = \"\"\"SELECT\n",
    "           t_Ort.ort_kurz,\n",
    "           t_Ort.ort_name,\n",
    "           t_komplex.bef_nr,\n",
    "           t_Ort.ort_lit,\n",
    "           t_Obj.objID,\n",
    "           t_Obj.Art,\n",
    "           t_Obj.Anzahl,\n",
    "           t_Obj.Gewicht\n",
    "       FROM (t_Ort INNER JOIN t_Komplex ON t_Ort.ortID = t_Komplex.ortID)\n",
    "           INNER JOIN t_Obj ON t_Komplex.komplexID = t_Obj.komplexID\n",
    "       WHERE (((t_Ort.ort_lit) = 'DS')\n",
    "           AND ((t_Obj.Notiz) Not Like '%1987%')\n",
    "           AND ((t_Obj.Art) = 'Stein'))\"\"\".replace('\\n',' ')\n",
    "\n",
    "df = pd.read_sql(sql, con)\n",
    "df['Anzahl'] = pd.to_numeric(df['Anzahl'])\n",
    "df['Gewicht'] = pd.to_numeric(df['Gewicht'])\n",
    "df['Gewicht kg'] = df['Gewicht'] / 1000"
   ]
  },
  {
   "cell_type": "code",
   "execution_count": 62,
   "metadata": {},
   "outputs": [
    {
     "data": {
      "text/plain": [
       "ort_name\n",
       "Bobusa                   3\n",
       "Bokonongo                2\n",
       "Boleko                   1\n",
       "Bomasa                   1\n",
       "Bonda                    1\n",
       "Leme                     1\n",
       "Likwala-Esobe km 186     1\n",
       "Maluba                   3\n",
       "Mosanya                  1\n",
       "Motenge-Boma             1\n",
       "Motoli                   1\n",
       "Munda                    1\n",
       "Ndengu                  10\n",
       "Ngoko Fkm 17 (Elali)     1\n",
       "Ouesso                   6\n",
       "Pikunda                 34\n",
       "Sakao                    6\n",
       "Sangha Fkm 271           2\n",
       "Name: Anzahl, dtype: int64"
      ]
     },
     "execution_count": 62,
     "metadata": {},
     "output_type": "execute_result"
    }
   ],
   "source": [
    "a = df.pivot_table(values = 'Anzahl', index = 'ort_name', aggfunc = sum, fill_value = 0)\n",
    "a"
   ]
  },
  {
   "cell_type": "code",
   "execution_count": 63,
   "metadata": {},
   "outputs": [
    {
     "data": {
      "text/plain": [
       "18"
      ]
     },
     "execution_count": 63,
     "metadata": {},
     "output_type": "execute_result"
    }
   ],
   "source": [
    "len(a)"
   ]
  },
  {
   "cell_type": "code",
   "execution_count": null,
   "metadata": {
    "collapsed": true
   },
   "outputs": [],
   "source": []
  }
 ],
 "metadata": {
  "anaconda-cloud": {},
  "kernelspec": {
   "display_name": "Python 3",
   "language": "python",
   "name": "python3"
  },
  "language_info": {
   "codemirror_mode": {
    "name": "ipython",
    "version": 3
   },
   "file_extension": ".py",
   "mimetype": "text/x-python",
   "name": "python",
   "nbconvert_exporter": "python",
   "pygments_lexer": "ipython3",
   "version": "3.6.5"
  }
 },
 "nbformat": 4,
 "nbformat_minor": 1
}
